{
 "cells": [
  {
   "cell_type": "code",
   "execution_count": 266,
   "id": "indoor-raleigh",
   "metadata": {},
   "outputs": [],
   "source": [
    "import numpy as np\n",
    "import pandas as pd\n",
    "import matplotlib.pyplot as plt\n",
    "from keras.models import Sequential\n",
    "from keras.layers import LSTM, Dense, Dropout\n",
    "from sklearn.preprocessing import MinMaxScaler\n",
    "from sklearn.metrics import mean_squared_error\n",
    "from keras.preprocessing.sequence import TimeseriesGenerator\n",
    "import tensorflow as tf"
   ]
  },
  {
   "cell_type": "code",
   "execution_count": 250,
   "id": "architectural-alberta",
   "metadata": {},
   "outputs": [
    {
     "name": "stdout",
     "output_type": "stream",
     "text": [
      "(555, 4)\n",
      "Date                     datetime64[ns]\n",
      "Cummulative_Deaths              float64\n",
      "Infected                        float64\n",
      "Cummulative_Recovered           float64\n",
      "dtype: object\n"
     ]
    },
    {
     "data": {
      "text/html": [
       "<div>\n",
       "<style scoped>\n",
       "    .dataframe tbody tr th:only-of-type {\n",
       "        vertical-align: middle;\n",
       "    }\n",
       "\n",
       "    .dataframe tbody tr th {\n",
       "        vertical-align: top;\n",
       "    }\n",
       "\n",
       "    .dataframe thead th {\n",
       "        text-align: right;\n",
       "    }\n",
       "</style>\n",
       "<table border=\"1\" class=\"dataframe\">\n",
       "  <thead>\n",
       "    <tr style=\"text-align: right;\">\n",
       "      <th></th>\n",
       "      <th>Date</th>\n",
       "      <th>Cummulative_Deaths</th>\n",
       "      <th>Infected</th>\n",
       "      <th>Cummulative_Recovered</th>\n",
       "    </tr>\n",
       "  </thead>\n",
       "  <tbody>\n",
       "    <tr>\n",
       "      <th>0</th>\n",
       "      <td>2020-02-14</td>\n",
       "      <td>1.0</td>\n",
       "      <td>5.0</td>\n",
       "      <td>12.0</td>\n",
       "    </tr>\n",
       "    <tr>\n",
       "      <th>1</th>\n",
       "      <td>2020-02-15</td>\n",
       "      <td>1.0</td>\n",
       "      <td>4.0</td>\n",
       "      <td>12.0</td>\n",
       "    </tr>\n",
       "    <tr>\n",
       "      <th>2</th>\n",
       "      <td>2020-02-16</td>\n",
       "      <td>1.0</td>\n",
       "      <td>1.0</td>\n",
       "      <td>13.0</td>\n",
       "    </tr>\n",
       "    <tr>\n",
       "      <th>3</th>\n",
       "      <td>2020-02-17</td>\n",
       "      <td>1.0</td>\n",
       "      <td>6.0</td>\n",
       "      <td>12.0</td>\n",
       "    </tr>\n",
       "    <tr>\n",
       "      <th>4</th>\n",
       "      <td>2020-02-18</td>\n",
       "      <td>1.0</td>\n",
       "      <td>8.0</td>\n",
       "      <td>14.0</td>\n",
       "    </tr>\n",
       "  </tbody>\n",
       "</table>\n",
       "</div>"
      ],
      "text/plain": [
       "        Date  Cummulative_Deaths  Infected  Cummulative_Recovered\n",
       "0 2020-02-14                 1.0       5.0                   12.0\n",
       "1 2020-02-15                 1.0       4.0                   12.0\n",
       "2 2020-02-16                 1.0       1.0                   13.0\n",
       "3 2020-02-17                 1.0       6.0                   12.0\n",
       "4 2020-02-18                 1.0       8.0                   14.0"
      ]
     },
     "execution_count": 250,
     "metadata": {},
     "output_type": "execute_result"
    }
   ],
   "source": [
    "df = pd.read_csv('../seir/cov_datasets/all.csv')\n",
    "df['Date'] = pd.to_datetime(df['Date'])\n",
    "print(df.shape)\n",
    "print(df.dtypes)\n",
    "df.head()"
   ]
  },
  {
   "cell_type": "code",
   "execution_count": 69,
   "id": "aquatic-soviet",
   "metadata": {},
   "outputs": [
    {
     "data": {
      "image/png": "[encoded data removed]",
      "text/plain": [
       "<Figure size 960x320 with 1 Axes>"
      ]
     },
     "metadata": {
      "needs_background": "light"
     },
     "output_type": "display_data"
    }
   ],
   "source": [
    "from matplotlib.pyplot import figure\n",
    "figure(figsize=(12, 4), dpi=80)\n",
    "plt.plot(df['Date'],df['Infected'])\n",
    "plt.show()"
   ]
  },
  {
   "cell_type": "code",
   "execution_count": 70,
   "id": "capital-destruction",
   "metadata": {},
   "outputs": [],
   "source": [
    "training_set = df.iloc[:500, 2:3].values.astype(int)\n",
    "test_set = df.iloc[500:, 2:3].values.astype(int)\n",
    "\n",
    "# Feature Scaling\n",
    "sc = MinMaxScaler(feature_range = (0, 1))\n",
    "training_set_scaled = sc.fit_transform(training_set)\n",
    "testing_set_scaled = sc.fit_transform(test_set)\n",
    "\n",
    "\n",
    "# Creating a data structure with 5 time-steps and 2 output\n",
    "X_train = []\n",
    "y_train = []\n",
    "\n",
    "X_test = []\n",
    "y_test = []\n",
    "steps = 5 #days"
   ]
  },
  {
   "cell_type": "code",
   "execution_count": 71,
   "id": "humanitarian-spine",
   "metadata": {},
   "outputs": [
    {
     "name": "stdout",
     "output_type": "stream",
     "text": [
      "(500, 1)\n",
      "(55, 1)\n"
     ]
    }
   ],
   "source": [
    "print(training_set_scaled.shape)\n",
    "print(testing_set_scaled.shape)"
   ]
  },
  {
   "cell_type": "code",
   "execution_count": 72,
   "id": "mature-oklahoma",
   "metadata": {},
   "outputs": [],
   "source": [
    "def split_seq(sequence, n_steps_in, n_steps_out):\n",
    "    X = []\n",
    "    y = []\n",
    "    for i in range(len(sequence)):\n",
    "        end_idx = i + n_steps_in\n",
    "        steps_out_idx = end_idx + n_steps_out\n",
    "        \n",
    "        #check if we reach end of arr or not\n",
    "        if (steps_out_idx > len(sequence)):\n",
    "            break\n",
    "        seq_x = sequence[i:end_idx]\n",
    "        seq_y = sequence[end_idx:steps_out_idx]\n",
    "        X.append(seq_x)\n",
    "        y.append(seq_y)\n",
    "    return np.array(X), np.array(y)"
   ]
  },
  {
   "cell_type": "code",
   "execution_count": 82,
   "id": "frozen-foundation",
   "metadata": {},
   "outputs": [],
   "source": [
    "X_train , y_train = split_seq(training_set_scaled, 14,1)\n",
    "X_test , y_test = split_seq(testing_set_scaled, 14,1)"
   ]
  },
  {
   "cell_type": "code",
   "execution_count": 84,
   "id": "mathematical-victor",
   "metadata": {
    "collapsed": true,
    "jupyter": {
     "outputs_hidden": true
    }
   },
   "outputs": [
    {
     "data": {
      "text/plain": [
       "array([[[0.02018577]],\n",
       "\n",
       "       [[0.05581246]],\n",
       "\n",
       "       [[0.08769955]],\n",
       "\n",
       "       [[0.09726969]],\n",
       "\n",
       "       [[0.09771201]],\n",
       "\n",
       "       [[0.11588725]],\n",
       "\n",
       "       [[0.08460332]],\n",
       "\n",
       "       [[0.05344003]],\n",
       "\n",
       "       [[0.11074028]],\n",
       "\n",
       "       [[0.15859102]],\n",
       "\n",
       "       [[0.17680647]],\n",
       "\n",
       "       [[0.12927741]],\n",
       "\n",
       "       [[0.10402509]],\n",
       "\n",
       "       [[0.16160682]],\n",
       "\n",
       "       [[0.14757328]],\n",
       "\n",
       "       [[0.26659697]],\n",
       "\n",
       "       [[0.34496763]],\n",
       "\n",
       "       [[0.38996341]],\n",
       "\n",
       "       [[0.39161205]],\n",
       "\n",
       "       [[0.45594917]],\n",
       "\n",
       "       [[0.36877237]],\n",
       "\n",
       "       [[0.29494551]],\n",
       "\n",
       "       [[0.44521292]],\n",
       "\n",
       "       [[0.53138445]],\n",
       "\n",
       "       [[0.57332422]],\n",
       "\n",
       "       [[0.58848365]],\n",
       "\n",
       "       [[0.5931481 ]],\n",
       "\n",
       "       [[0.54155776]],\n",
       "\n",
       "       [[0.44489123]],\n",
       "\n",
       "       [[0.38509791]],\n",
       "\n",
       "       [[0.59431421]],\n",
       "\n",
       "       [[0.71993245]],\n",
       "\n",
       "       [[0.77880092]],\n",
       "\n",
       "       [[0.76975351]],\n",
       "\n",
       "       [[0.67702762]],\n",
       "\n",
       "       [[0.55639551]],\n",
       "\n",
       "       [[0.76235474]],\n",
       "\n",
       "       [[0.92162934]],\n",
       "\n",
       "       [[0.97128956]],\n",
       "\n",
       "       [[1.        ]],\n",
       "\n",
       "       [[0.98403635]]])"
      ]
     },
     "execution_count": 84,
     "metadata": {},
     "output_type": "execute_result"
    }
   ],
   "source": [
    "y_test"
   ]
  },
  {
   "cell_type": "code",
   "execution_count": 83,
   "id": "spoken-dominant",
   "metadata": {},
   "outputs": [
    {
     "name": "stdout",
     "output_type": "stream",
     "text": [
      "(486, 14, 1) (486, 1, 1)\n",
      "(41, 14, 1) (41, 1, 1)\n"
     ]
    }
   ],
   "source": [
    "print(X_train.shape, y_train.shape)\n",
    "print(X_test.shape, y_test.shape)"
   ]
  },
  {
   "cell_type": "code",
   "execution_count": 75,
   "id": "sexual-edinburgh",
   "metadata": {},
   "outputs": [
    {
     "data": {
      "text/plain": [
       "(14, 1)"
      ]
     },
     "execution_count": 75,
     "metadata": {},
     "output_type": "execute_result"
    }
   ],
   "source": [
    "input_shape = (X_train.shape[1],X_train.shape[2])\n",
    "input_shape"
   ]
  },
  {
   "cell_type": "code",
   "execution_count": 76,
   "id": "interim-poster",
   "metadata": {},
   "outputs": [
    {
     "name": "stdout",
     "output_type": "stream",
     "text": [
      "Epoch 1/50\n",
      "16/16 [==============================] - 0s 17ms/step - loss: 0.0362\n",
      "Epoch 2/50\n",
      "16/16 [==============================] - 0s 15ms/step - loss: 0.0137\n",
      "Epoch 3/50\n",
      "16/16 [==============================] - 0s 16ms/step - loss: 0.0129\n",
      "Epoch 4/50\n",
      "16/16 [==============================] - 0s 15ms/step - loss: 0.0113\n",
      "Epoch 5/50\n",
      "16/16 [==============================] - 0s 14ms/step - loss: 0.0141\n",
      "Epoch 6/50\n",
      "16/16 [==============================] - 0s 16ms/step - loss: 0.0110\n",
      "Epoch 7/50\n",
      "16/16 [==============================] - 0s 20ms/step - loss: 0.0105\n",
      "Epoch 8/50\n",
      "16/16 [==============================] - 0s 18ms/step - loss: 0.0123\n",
      "Epoch 9/50\n",
      "16/16 [==============================] - 0s 16ms/step - loss: 0.0098\n",
      "Epoch 10/50\n",
      "16/16 [==============================] - 0s 24ms/step - loss: 0.0095: 0s - loss: 0.0\n",
      "Epoch 11/50\n",
      "16/16 [==============================] - 0s 19ms/step - loss: 0.0104\n",
      "Epoch 12/50\n",
      "16/16 [==============================] - 0s 21ms/step - loss: 0.0085\n",
      "Epoch 13/50\n",
      "16/16 [==============================] - 0s 17ms/step - loss: 0.0091\n",
      "Epoch 14/50\n",
      "16/16 [==============================] - 0s 20ms/step - loss: 0.0113\n",
      "Epoch 15/50\n",
      "16/16 [==============================] - 0s 17ms/step - loss: 0.0099\n",
      "Epoch 16/50\n",
      "16/16 [==============================] - 0s 17ms/step - loss: 0.0103\n",
      "Epoch 17/50\n",
      "16/16 [==============================] - 0s 16ms/step - loss: 0.0091\n",
      "Epoch 18/50\n",
      "16/16 [==============================] - 0s 17ms/step - loss: 0.0080\n",
      "Epoch 19/50\n",
      "16/16 [==============================] - 0s 17ms/step - loss: 0.0070\n",
      "Epoch 20/50\n",
      "16/16 [==============================] - 0s 16ms/step - loss: 0.0072\n",
      "Epoch 21/50\n",
      "16/16 [==============================] - 0s 18ms/step - loss: 0.0071: 0s - loss: 0.\n",
      "Epoch 22/50\n",
      "16/16 [==============================] - 0s 20ms/step - loss: 0.0078\n",
      "Epoch 23/50\n",
      "16/16 [==============================] - 0s 17ms/step - loss: 0.0076\n",
      "Epoch 24/50\n",
      "16/16 [==============================] - 0s 17ms/step - loss: 0.0070\n",
      "Epoch 25/50\n",
      "16/16 [==============================] - 0s 16ms/step - loss: 0.0066\n",
      "Epoch 26/50\n",
      "16/16 [==============================] - 0s 17ms/step - loss: 0.0065\n",
      "Epoch 27/50\n",
      "16/16 [==============================] - 0s 16ms/step - loss: 0.0060\n",
      "Epoch 28/50\n",
      "16/16 [==============================] - 0s 17ms/step - loss: 0.0063\n",
      "Epoch 29/50\n",
      "16/16 [==============================] - 0s 18ms/step - loss: 0.0067\n",
      "Epoch 30/50\n",
      "16/16 [==============================] - 0s 17ms/step - loss: 0.0068: 0s - loss: 0.0\n",
      "Epoch 31/50\n",
      "16/16 [==============================] - 0s 19ms/step - loss: 0.0065\n",
      "Epoch 32/50\n",
      "16/16 [==============================] - 0s 21ms/step - loss: 0.0065\n",
      "Epoch 33/50\n",
      "16/16 [==============================] - 0s 20ms/step - loss: 0.0063\n",
      "Epoch 34/50\n",
      "16/16 [==============================] - 0s 20ms/step - loss: 0.0058\n",
      "Epoch 35/50\n",
      "16/16 [==============================] - 0s 18ms/step - loss: 0.0061\n",
      "Epoch 36/50\n",
      "16/16 [==============================] - 0s 18ms/step - loss: 0.0060\n",
      "Epoch 37/50\n",
      "16/16 [==============================] - 0s 19ms/step - loss: 0.0060\n",
      "Epoch 38/50\n",
      "16/16 [==============================] - 0s 15ms/step - loss: 0.0073\n",
      "Epoch 39/50\n",
      "16/16 [==============================] - 0s 16ms/step - loss: 0.0062\n",
      "Epoch 40/50\n",
      "16/16 [==============================] - 0s 15ms/step - loss: 0.0069\n",
      "Epoch 41/50\n",
      "16/16 [==============================] - 0s 14ms/step - loss: 0.0068\n",
      "Epoch 42/50\n",
      "16/16 [==============================] - 0s 15ms/step - loss: 0.0065\n",
      "Epoch 43/50\n",
      "16/16 [==============================] - 0s 15ms/step - loss: 0.0080\n",
      "Epoch 44/50\n",
      "16/16 [==============================] - 0s 14ms/step - loss: 0.0069\n",
      "Epoch 45/50\n",
      "16/16 [==============================] - 0s 14ms/step - loss: 0.0074\n",
      "Epoch 46/50\n",
      "16/16 [==============================] - 0s 15ms/step - loss: 0.0067\n",
      "Epoch 47/50\n",
      "16/16 [==============================] - 0s 16ms/step - loss: 0.0065\n",
      "Epoch 48/50\n",
      "16/16 [==============================] - 0s 15ms/step - loss: 0.0055\n",
      "Epoch 49/50\n",
      "16/16 [==============================] - 0s 14ms/step - loss: 0.0060: 0s - loss: 0.00\n",
      "Epoch 50/50\n",
      "16/16 [==============================] - 0s 15ms/step - loss: 0.0060\n"
     ]
    },
    {
     "data": {
      "text/plain": [
       "<tensorflow.python.keras.callbacks.History at 0x23d6fd7da90>"
      ]
     },
     "execution_count": 76,
     "metadata": {},
     "output_type": "execute_result"
    }
   ],
   "source": [
    "model = Sequential()\n",
    "\n",
    "#Adding the first LSTM layer and some Dropout regularisation\n",
    "model.add(LSTM(units = 50, return_sequences = True, input_shape = (X_train.shape[1],X_train.shape[2])))\n",
    "model.add(Dropout(0.2))\n",
    "\n",
    "# Adding a second LSTM layer and some Dropout regularisation\n",
    "model.add(LSTM(units = 50, return_sequences = True))\n",
    "model.add(Dropout(0.2))\n",
    "\n",
    "# Adding a third LSTM layer and some Dropout regularisation\n",
    "model.add(LSTM(units = 50, return_sequences = True))\n",
    "model.add(Dropout(0.2))\n",
    "\n",
    "# Adding a fourth LSTM layer and some Dropout regularisation\n",
    "model.add(LSTM(units = 50))\n",
    "model.add(Dropout(0.2))\n",
    "\n",
    "# Adding the output layer\n",
    "model.add(Dense(units = 1))\n",
    "\n",
    "# Compiling the RNN\n",
    "model.compile(optimizer = 'adam', loss = 'mean_squared_error')\n",
    "\n",
    "# Fitting the RNN to the Training set\n",
    "model.fit(X_train, y_train, epochs = 50, batch_size = 32)"
   ]
  },
  {
   "cell_type": "code",
   "execution_count": 77,
   "id": "progressive-fountain",
   "metadata": {},
   "outputs": [
    {
     "name": "stdout",
     "output_type": "stream",
     "text": [
      "WARNING:tensorflow:6 out of the last 10 calls to <function Model.make_predict_function.<locals>.predict_function at 0x0000023D78D1E4C0> triggered tf.function retracing. Tracing is expensive and the excessive number of tracings could be due to (1) creating @tf.function repeatedly in a loop, (2) passing tensors with different shapes, (3) passing Python objects instead of tensors. For (1), please define your @tf.function outside of the loop. For (2), @tf.function has experimental_relax_shapes=True option that relaxes argument shapes that can avoid unnecessary retracing. For (3), please refer to https://www.tensorflow.org/tutorials/customization/performance#python_or_tensor_args and https://www.tensorflow.org/api_docs/python/tf/function for  more details.\n"
     ]
    }
   ],
   "source": [
    "y_pred = model.predict(X_test)\n",
    "y_pred = sc.inverse_transform(y_pred) #revert scaling"
   ]
  },
  {
   "cell_type": "code",
   "execution_count": 78,
   "id": "supported-welcome",
   "metadata": {},
   "outputs": [
    {
     "name": "stdout",
     "output_type": "stream",
     "text": [
      "(41, 1)\n",
      "[ 2240.2231  2331.4182  2415.0403  2525.5286  2670.5464  2879.3486\n",
      "  3163.3853  3447.6233  3647.1838  3819.0308  4007.0156  4251.027\n",
      "  4540.527   4813.355   5014.3477  5138.5713  5387.5913  5911.2256\n",
      "  6786.6772  7977.2305  9423.236  10794.02   11777.286  12457.979\n",
      " 12968.889  13464.51   14001.81   14632.875  15305.424  15681.772\n",
      " 15684.18   15434.821  15272.446  15496.296  16261.319  17184.107\n",
      " 17862.92   18457.168  19087.965  19902.285  20939.736 ]\n"
     ]
    }
   ],
   "source": [
    "print(y_pred.shape)\n",
    "y_pred = y_pred.reshape(41)\n",
    "print(y_pred)"
   ]
  },
  {
   "cell_type": "code",
   "execution_count": 88,
   "id": "narrow-failure",
   "metadata": {},
   "outputs": [
    {
     "data": {
      "text/plain": [
       "array([ 1491.,  2377.,  3170.,  3408.,  3419.,  3871.,  3093.,  2318.,\n",
       "        3743.,  4933.,  5386.,  4204.,  3576.,  5008.,  4659.,  7619.,\n",
       "        9568., 10687., 10728., 12328., 10160.,  8324., 12061., 14204.,\n",
       "       15247., 15624., 15740., 14457., 12053., 10566., 15769., 18893.,\n",
       "       20357., 20132., 17826., 14826., 19948., 23909., 25144., 25858.,\n",
       "       25461.])"
      ]
     },
     "execution_count": 88,
     "metadata": {},
     "output_type": "execute_result"
    }
   ],
   "source": []
  },
  {
   "cell_type": "code",
   "execution_count": 91,
   "id": "innocent-probe",
   "metadata": {},
   "outputs": [
    {
     "name": "stdout",
     "output_type": "stream",
     "text": [
      "[ 1491.  2377.  3170.  3408.  3419.  3871.  3093.  2318.  3743.  4933.\n",
      "  5386.  4204.  3576.  5008.  4659.  7619.  9568. 10687. 10728. 12328.\n",
      " 10160.  8324. 12061. 14204. 15247. 15624. 15740. 14457. 12053. 10566.\n",
      " 15769. 18893. 20357. 20132. 17826. 14826. 19948. 23909. 25144. 25858.\n",
      " 25461.]\n"
     ]
    }
   ],
   "source": [
    "#y_test = y_test.reshape(41)\n",
    "y_test = sc.inverse_transform(y_test.reshape(41,1)).reshape(41) #revert scaling\n",
    "print(y_test)"
   ]
  },
  {
   "cell_type": "code",
   "execution_count": 92,
   "id": "stupid-upgrade",
   "metadata": {},
   "outputs": [
    {
     "data": {
      "text/plain": [
       "[<matplotlib.lines.Line2D at 0x23d7caf4fa0>]"
      ]
     },
     "execution_count": 92,
     "metadata": {},
     "output_type": "execute_result"
    },
    {
     "data": {
      "image/png": "[encoded data removed]",
      "text/plain": [
       "<Figure size 432x288 with 1 Axes>"
      ]
     },
     "metadata": {
      "needs_background": "light"
     },
     "output_type": "display_data"
    }
   ],
   "source": [
    "plt.plot(y_test)\n",
    "plt.plot(y_pred)"
   ]
  },
  {
   "cell_type": "markdown",
   "id": "wrapped-services",
   "metadata": {},
   "source": [
    "### Adding news"
   ]
  },
  {
   "cell_type": "code",
   "execution_count": 248,
   "id": "binding-sacrifice",
   "metadata": {},
   "outputs": [
    {
     "name": "stdout",
     "output_type": "stream",
     "text": [
      "(1329, 6)\n",
      "binary_score (1:good   0: bad)    float64\n",
      "news_title                         object\n",
      "news_writer                        object\n",
      "news_written_date                  object\n",
      "news_text                          object\n",
      "news_url                           object\n",
      "dtype: object\n"
     ]
    },
    {
     "name": "stderr",
     "output_type": "stream",
     "text": [
      "C:\\Users\\maidu\\.conda\\envs\\tf\\lib\\site-packages\\dateutil\\parser\\_parser.py:1213: UnknownTimezoneWarning: tzname JST identified but not understood.  Pass `tzinfos` argument in order to correctly return a timezone-aware datetime.  In a future version, this will raise an exception.\n",
      "  warnings.warn(\"tzname {tzname} identified but not understood.  \"\n"
     ]
    },
    {
     "data": {
      "text/html": [
       "<div>\n",
       "<style scoped>\n",
       "    .dataframe tbody tr th:only-of-type {\n",
       "        vertical-align: middle;\n",
       "    }\n",
       "\n",
       "    .dataframe tbody tr th {\n",
       "        vertical-align: top;\n",
       "    }\n",
       "\n",
       "    .dataframe thead th {\n",
       "        text-align: right;\n",
       "    }\n",
       "</style>\n",
       "<table border=\"1\" class=\"dataframe\">\n",
       "  <thead>\n",
       "    <tr style=\"text-align: right;\">\n",
       "      <th></th>\n",
       "      <th>binary_score (1:good   0: bad)</th>\n",
       "      <th>news_title</th>\n",
       "      <th>news_writer</th>\n",
       "      <th>news_written_date</th>\n",
       "      <th>news_text</th>\n",
       "      <th>news_url</th>\n",
       "    </tr>\n",
       "  </thead>\n",
       "  <tbody>\n",
       "    <tr>\n",
       "      <th>1324</th>\n",
       "      <td>0.0</td>\n",
       "      <td>COVID-19 cases (Aug. 31)</td>\n",
       "      <td>['THE ASAHI SHIMBUN']</td>\n",
       "      <td>2020-09-01</td>\n",
       "      <td>NaN</td>\n",
       "      <td>https://www.asahi.com//ajw/articles/13686785</td>\n",
       "    </tr>\n",
       "    <tr>\n",
       "      <th>1325</th>\n",
       "      <td>0.0</td>\n",
       "      <td>Tokyo confirms 100 new cases of COVID-19; seve...</td>\n",
       "      <td>['THE ASAHI SHIMBUN']</td>\n",
       "      <td>2020-08-31</td>\n",
       "      <td>Tokyo confirmed 100 new COVID-19 infections o...</td>\n",
       "      <td>https://www.asahi.com//ajw/articles/13684411</td>\n",
       "    </tr>\n",
       "    <tr>\n",
       "      <th>1326</th>\n",
       "      <td>0.0</td>\n",
       "      <td>Tokyo partners with Line for new COVID-19 chec...</td>\n",
       "      <td>['By RIHITO KARUBE/ Staff Writer']</td>\n",
       "      <td>2020-08-31</td>\n",
       "      <td>Health centers in Tokyo will soon have a new ...</td>\n",
       "      <td>https://www.asahi.com//ajw/articles/13684298</td>\n",
       "    </tr>\n",
       "    <tr>\n",
       "      <th>1327</th>\n",
       "      <td>0.0</td>\n",
       "      <td>COVID-19 cases (Aug. 30)</td>\n",
       "      <td>['THE ASAHI SHIMBUN']</td>\n",
       "      <td>2020-08-31</td>\n",
       "      <td>NaN</td>\n",
       "      <td>https://www.asahi.com//ajw/articles/13683645</td>\n",
       "    </tr>\n",
       "    <tr>\n",
       "      <th>1328</th>\n",
       "      <td>1.0</td>\n",
       "      <td>Japanese wear face masks, but the main reason ...</td>\n",
       "      <td>['By MASANORI KOBAYASHI/ Staff Writer']</td>\n",
       "      <td>2020-08-31</td>\n",
       "      <td>Japanese people have taken to wearing face ma...</td>\n",
       "      <td>https://www.asahi.com//ajw/articles/13655141</td>\n",
       "    </tr>\n",
       "  </tbody>\n",
       "</table>\n",
       "</div>"
      ],
      "text/plain": [
       "      binary_score (1:good   0: bad)  \\\n",
       "1324                             0.0   \n",
       "1325                             0.0   \n",
       "1326                             0.0   \n",
       "1327                             0.0   \n",
       "1328                             1.0   \n",
       "\n",
       "                                             news_title  \\\n",
       "1324                           COVID-19 cases (Aug. 31)   \n",
       "1325  Tokyo confirms 100 new cases of COVID-19; seve...   \n",
       "1326  Tokyo partners with Line for new COVID-19 chec...   \n",
       "1327                           COVID-19 cases (Aug. 30)   \n",
       "1328  Japanese wear face masks, but the main reason ...   \n",
       "\n",
       "                                  news_writer news_written_date  \\\n",
       "1324                    ['THE ASAHI SHIMBUN']        2020-09-01   \n",
       "1325                    ['THE ASAHI SHIMBUN']        2020-08-31   \n",
       "1326       ['By RIHITO KARUBE/ Staff Writer']        2020-08-31   \n",
       "1327                    ['THE ASAHI SHIMBUN']        2020-08-31   \n",
       "1328  ['By MASANORI KOBAYASHI/ Staff Writer']        2020-08-31   \n",
       "\n",
       "                                              news_text  \\\n",
       "1324                                                NaN   \n",
       "1325   Tokyo confirmed 100 new COVID-19 infections o...   \n",
       "1326   Health centers in Tokyo will soon have a new ...   \n",
       "1327                                                NaN   \n",
       "1328   Japanese people have taken to wearing face ma...   \n",
       "\n",
       "                                          news_url  \n",
       "1324  https://www.asahi.com//ajw/articles/13686785  \n",
       "1325  https://www.asahi.com//ajw/articles/13684411  \n",
       "1326  https://www.asahi.com//ajw/articles/13684298  \n",
       "1327  https://www.asahi.com//ajw/articles/13683645  \n",
       "1328  https://www.asahi.com//ajw/articles/13655141  "
      ]
     },
     "execution_count": 248,
     "metadata": {},
     "output_type": "execute_result"
    }
   ],
   "source": [
    "df_news = pd.read_csv('../nlp/Aug30th_all_articles_bin_graded.csv')\n",
    "df_news['news_written_date'] = pd.to_datetime(df_news['news_written_date'])\n",
    "df_news['news_written_date'] = df_news['news_written_date'].dt.date\n",
    "print(df_news.shape)\n",
    "print(df_news.dtypes)\n",
    "df_news.tail()"
   ]
  },
  {
   "cell_type": "code",
   "execution_count": 251,
   "id": "weird-sellers",
   "metadata": {},
   "outputs": [
    {
     "name": "stdout",
     "output_type": "stream",
     "text": [
      "(555, 3) (1329, 6)\n"
     ]
    }
   ],
   "source": [
    "#run once only\n",
    "\n",
    "df = df.set_index('Date') #Infected list\n",
    "print(df.shape, df_news.shape)\n",
    "df_news = df_news.set_index('news_written_date')\n"
   ]
  },
  {
   "cell_type": "markdown",
   "id": "extreme-maximum",
   "metadata": {},
   "source": [
    "#### Merge df and df_news"
   ]
  },
  {
   "cell_type": "code",
   "execution_count": 341,
   "id": "visible-clarity",
   "metadata": {},
   "outputs": [
    {
     "data": {
      "text/html": [
       "<div>\n",
       "<style scoped>\n",
       "    .dataframe tbody tr th:only-of-type {\n",
       "        vertical-align: middle;\n",
       "    }\n",
       "\n",
       "    .dataframe tbody tr th {\n",
       "        vertical-align: top;\n",
       "    }\n",
       "\n",
       "    .dataframe thead th {\n",
       "        text-align: right;\n",
       "    }\n",
       "</style>\n",
       "<table border=\"1\" class=\"dataframe\">\n",
       "  <thead>\n",
       "    <tr style=\"text-align: right;\">\n",
       "      <th></th>\n",
       "      <th>Cummulative_Deaths</th>\n",
       "      <th>Infected</th>\n",
       "      <th>Cummulative_Recovered</th>\n",
       "      <th>binary_score (1:good   0: bad)</th>\n",
       "      <th>news_title</th>\n",
       "      <th>news_writer</th>\n",
       "      <th>news_text</th>\n",
       "      <th>news_url</th>\n",
       "    </tr>\n",
       "  </thead>\n",
       "  <tbody>\n",
       "    <tr>\n",
       "      <th>2020-08-31</th>\n",
       "      <td>1295.0</td>\n",
       "      <td>430.0</td>\n",
       "      <td>57130.0</td>\n",
       "      <td>0.0</td>\n",
       "      <td>Tokyo confirms 100 new cases of COVID-19; seve...</td>\n",
       "      <td>['THE ASAHI SHIMBUN']</td>\n",
       "      <td>Tokyo confirmed 100 new COVID-19 infections o...</td>\n",
       "      <td>https://www.asahi.com//ajw/articles/13684411</td>\n",
       "    </tr>\n",
       "    <tr>\n",
       "      <th>2020-08-31</th>\n",
       "      <td>1295.0</td>\n",
       "      <td>430.0</td>\n",
       "      <td>57130.0</td>\n",
       "      <td>0.0</td>\n",
       "      <td>Tokyo partners with Line for new COVID-19 chec...</td>\n",
       "      <td>['By RIHITO KARUBE/ Staff Writer']</td>\n",
       "      <td>Health centers in Tokyo will soon have a new ...</td>\n",
       "      <td>https://www.asahi.com//ajw/articles/13684298</td>\n",
       "    </tr>\n",
       "    <tr>\n",
       "      <th>2020-08-31</th>\n",
       "      <td>1295.0</td>\n",
       "      <td>430.0</td>\n",
       "      <td>57130.0</td>\n",
       "      <td>0.0</td>\n",
       "      <td>COVID-19 cases (Aug. 30)</td>\n",
       "      <td>['THE ASAHI SHIMBUN']</td>\n",
       "      <td>NaN</td>\n",
       "      <td>https://www.asahi.com//ajw/articles/13683645</td>\n",
       "    </tr>\n",
       "    <tr>\n",
       "      <th>2020-08-31</th>\n",
       "      <td>1295.0</td>\n",
       "      <td>430.0</td>\n",
       "      <td>57130.0</td>\n",
       "      <td>1.0</td>\n",
       "      <td>Japanese wear face masks, but the main reason ...</td>\n",
       "      <td>['By MASANORI KOBAYASHI/ Staff Writer']</td>\n",
       "      <td>Japanese people have taken to wearing face ma...</td>\n",
       "      <td>https://www.asahi.com//ajw/articles/13655141</td>\n",
       "    </tr>\n",
       "    <tr>\n",
       "      <th>2020-09-01</th>\n",
       "      <td>1306.0</td>\n",
       "      <td>624.0</td>\n",
       "      <td>57735.0</td>\n",
       "      <td>0.0</td>\n",
       "      <td>Tokyo reports 2nd case of virus infections in ...</td>\n",
       "      <td>['THE ASAHI SHIMBUN']</td>\n",
       "      <td>While Tokyo recorded less than 200 new COVID-...</td>\n",
       "      <td>https://www.asahi.com//ajw/articles/13687614</td>\n",
       "    </tr>\n",
       "    <tr>\n",
       "      <th>...</th>\n",
       "      <td>...</td>\n",
       "      <td>...</td>\n",
       "      <td>...</td>\n",
       "      <td>...</td>\n",
       "      <td>...</td>\n",
       "      <td>...</td>\n",
       "      <td>...</td>\n",
       "      <td>...</td>\n",
       "    </tr>\n",
       "    <tr>\n",
       "      <th>2021-08-20</th>\n",
       "      <td>15556.0</td>\n",
       "      <td>25858.0</td>\n",
       "      <td>1033914.0</td>\n",
       "      <td>0.0</td>\n",
       "      <td>New guidelines eyed for issuing, ending state ...</td>\n",
       "      <td>['By KEISHI NISHIMURA/ Staff Writer']</td>\n",
       "      <td>The government is considering changing its gu...</td>\n",
       "      <td>https://www.asahi.com//ajw/articles/14421871</td>\n",
       "    </tr>\n",
       "    <tr>\n",
       "      <th>2021-08-20</th>\n",
       "      <td>15556.0</td>\n",
       "      <td>25858.0</td>\n",
       "      <td>1033914.0</td>\n",
       "      <td>0.0</td>\n",
       "      <td>COVID-19 cases (Aug. 19)</td>\n",
       "      <td>['THE ASAHI SHIMBUN']</td>\n",
       "      <td>NaN</td>\n",
       "      <td>https://www.asahi.com//ajw/articles/14421857</td>\n",
       "    </tr>\n",
       "    <tr>\n",
       "      <th>2021-08-20</th>\n",
       "      <td>15556.0</td>\n",
       "      <td>25858.0</td>\n",
       "      <td>1033914.0</td>\n",
       "      <td>0.0</td>\n",
       "      <td>Kyoto eateries whip up industry certification ...</td>\n",
       "      <td>['By RIKAKO TAKAI/ Staff Writer']</td>\n",
       "      <td>KYOTO--In the age of the novel coronavirus, h...</td>\n",
       "      <td>https://www.asahi.com//ajw/articles/14413954</td>\n",
       "    </tr>\n",
       "    <tr>\n",
       "      <th>2021-08-21</th>\n",
       "      <td>15589.0</td>\n",
       "      <td>25461.0</td>\n",
       "      <td>1048617.0</td>\n",
       "      <td>0.0</td>\n",
       "      <td>COVID-19 cases in Tokyo top 5,000; records in ...</td>\n",
       "      <td>['THE ASAHI SHIMBUN']</td>\n",
       "      <td>Tokyo confirmed 5,074 fresh cases of COVID-19...</td>\n",
       "      <td>https://www.asahi.com//ajw/articles/14422889</td>\n",
       "    </tr>\n",
       "    <tr>\n",
       "      <th>2021-08-21</th>\n",
       "      <td>15589.0</td>\n",
       "      <td>25461.0</td>\n",
       "      <td>1048617.0</td>\n",
       "      <td>0.0</td>\n",
       "      <td>COVID-19 cases (Aug. 20)</td>\n",
       "      <td>['THE ASAHI SHIMBUN']</td>\n",
       "      <td>NaN</td>\n",
       "      <td>https://www.asahi.com//ajw/articles/14422712</td>\n",
       "    </tr>\n",
       "  </tbody>\n",
       "</table>\n",
       "<p>1300 rows × 8 columns</p>\n",
       "</div>"
      ],
      "text/plain": [
       "            Cummulative_Deaths  Infected  Cummulative_Recovered  \\\n",
       "2020-08-31              1295.0     430.0                57130.0   \n",
       "2020-08-31              1295.0     430.0                57130.0   \n",
       "2020-08-31              1295.0     430.0                57130.0   \n",
       "2020-08-31              1295.0     430.0                57130.0   \n",
       "2020-09-01              1306.0     624.0                57735.0   \n",
       "...                        ...       ...                    ...   \n",
       "2021-08-20             15556.0   25858.0              1033914.0   \n",
       "2021-08-20             15556.0   25858.0              1033914.0   \n",
       "2021-08-20             15556.0   25858.0              1033914.0   \n",
       "2021-08-21             15589.0   25461.0              1048617.0   \n",
       "2021-08-21             15589.0   25461.0              1048617.0   \n",
       "\n",
       "            binary_score (1:good   0: bad)  \\\n",
       "2020-08-31                             0.0   \n",
       "2020-08-31                             0.0   \n",
       "2020-08-31                             0.0   \n",
       "2020-08-31                             1.0   \n",
       "2020-09-01                             0.0   \n",
       "...                                    ...   \n",
       "2021-08-20                             0.0   \n",
       "2021-08-20                             0.0   \n",
       "2021-08-20                             0.0   \n",
       "2021-08-21                             0.0   \n",
       "2021-08-21                             0.0   \n",
       "\n",
       "                                                   news_title  \\\n",
       "2020-08-31  Tokyo confirms 100 new cases of COVID-19; seve...   \n",
       "2020-08-31  Tokyo partners with Line for new COVID-19 chec...   \n",
       "2020-08-31                           COVID-19 cases (Aug. 30)   \n",
       "2020-08-31  Japanese wear face masks, but the main reason ...   \n",
       "2020-09-01  Tokyo reports 2nd case of virus infections in ...   \n",
       "...                                                       ...   \n",
       "2021-08-20  New guidelines eyed for issuing, ending state ...   \n",
       "2021-08-20                           COVID-19 cases (Aug. 19)   \n",
       "2021-08-20  Kyoto eateries whip up industry certification ...   \n",
       "2021-08-21  COVID-19 cases in Tokyo top 5,000; records in ...   \n",
       "2021-08-21                           COVID-19 cases (Aug. 20)   \n",
       "\n",
       "                                        news_writer  \\\n",
       "2020-08-31                    ['THE ASAHI SHIMBUN']   \n",
       "2020-08-31       ['By RIHITO KARUBE/ Staff Writer']   \n",
       "2020-08-31                    ['THE ASAHI SHIMBUN']   \n",
       "2020-08-31  ['By MASANORI KOBAYASHI/ Staff Writer']   \n",
       "2020-09-01                    ['THE ASAHI SHIMBUN']   \n",
       "...                                             ...   \n",
       "2021-08-20    ['By KEISHI NISHIMURA/ Staff Writer']   \n",
       "2021-08-20                    ['THE ASAHI SHIMBUN']   \n",
       "2021-08-20        ['By RIKAKO TAKAI/ Staff Writer']   \n",
       "2021-08-21                    ['THE ASAHI SHIMBUN']   \n",
       "2021-08-21                    ['THE ASAHI SHIMBUN']   \n",
       "\n",
       "                                                    news_text  \\\n",
       "2020-08-31   Tokyo confirmed 100 new COVID-19 infections o...   \n",
       "2020-08-31   Health centers in Tokyo will soon have a new ...   \n",
       "2020-08-31                                                NaN   \n",
       "2020-08-31   Japanese people have taken to wearing face ma...   \n",
       "2020-09-01   While Tokyo recorded less than 200 new COVID-...   \n",
       "...                                                       ...   \n",
       "2021-08-20   The government is considering changing its gu...   \n",
       "2021-08-20                                                NaN   \n",
       "2021-08-20   KYOTO--In the age of the novel coronavirus, h...   \n",
       "2021-08-21   Tokyo confirmed 5,074 fresh cases of COVID-19...   \n",
       "2021-08-21                                                NaN   \n",
       "\n",
       "                                                news_url  \n",
       "2020-08-31  https://www.asahi.com//ajw/articles/13684411  \n",
       "2020-08-31  https://www.asahi.com//ajw/articles/13684298  \n",
       "2020-08-31  https://www.asahi.com//ajw/articles/13683645  \n",
       "2020-08-31  https://www.asahi.com//ajw/articles/13655141  \n",
       "2020-09-01  https://www.asahi.com//ajw/articles/13687614  \n",
       "...                                                  ...  \n",
       "2021-08-20  https://www.asahi.com//ajw/articles/14421871  \n",
       "2021-08-20  https://www.asahi.com//ajw/articles/14421857  \n",
       "2021-08-20  https://www.asahi.com//ajw/articles/14413954  \n",
       "2021-08-21  https://www.asahi.com//ajw/articles/14422889  \n",
       "2021-08-21  https://www.asahi.com//ajw/articles/14422712  \n",
       "\n",
       "[1300 rows x 8 columns]"
      ]
     },
     "execution_count": 341,
     "metadata": {},
     "output_type": "execute_result"
    }
   ],
   "source": [
    "\n",
    "df_merged = pd.merge(df,df_news, how='inner', left_index=True, right_index=True)\n",
    "df_merged"
   ]
  },
  {
   "cell_type": "code",
   "execution_count": 342,
   "id": "cardiac-founder",
   "metadata": {},
   "outputs": [
    {
     "data": {
      "text/plain": [
       "Index(['Cummulative_Deaths', 'Infected', 'Cummulative_Recovered',\n",
       "       'binary_score (1:good   0: bad)', 'news_title', 'news_writer',\n",
       "       'news_text', 'news_url'],\n",
       "      dtype='object')"
      ]
     },
     "execution_count": 342,
     "metadata": {},
     "output_type": "execute_result"
    }
   ],
   "source": [
    "df_merged.columns"
   ]
  },
  {
   "cell_type": "code",
   "execution_count": 343,
   "id": "stunning-generic",
   "metadata": {},
   "outputs": [
    {
     "data": {
      "text/plain": [
       "[<matplotlib.lines.Line2D at 0x23de0cadf10>]"
      ]
     },
     "execution_count": 343,
     "metadata": {},
     "output_type": "execute_result"
    },
    {
     "data": {
      "image/png": "[encoded data removed]",
      "text/plain": [
       "<Figure size 960x320 with 1 Axes>"
      ]
     },
     "metadata": {
      "needs_background": "light"
     },
     "output_type": "display_data"
    }
   ],
   "source": [
    "from matplotlib.pyplot import figure\n",
    "figure(figsize=(12, 4), dpi=80)\n",
    "plt.plot(df_merged['Infected'])"
   ]
  },
  {
   "cell_type": "code",
   "execution_count": 344,
   "id": "indoor-reunion",
   "metadata": {},
   "outputs": [
    {
     "data": {
      "text/html": [
       "<div>\n",
       "<style scoped>\n",
       "    .dataframe tbody tr th:only-of-type {\n",
       "        vertical-align: middle;\n",
       "    }\n",
       "\n",
       "    .dataframe tbody tr th {\n",
       "        vertical-align: top;\n",
       "    }\n",
       "\n",
       "    .dataframe thead th {\n",
       "        text-align: right;\n",
       "    }\n",
       "</style>\n",
       "<table border=\"1\" class=\"dataframe\">\n",
       "  <thead>\n",
       "    <tr style=\"text-align: right;\">\n",
       "      <th></th>\n",
       "      <th>Infected</th>\n",
       "      <th>binary_score (1:good   0: bad)</th>\n",
       "    </tr>\n",
       "  </thead>\n",
       "  <tbody>\n",
       "    <tr>\n",
       "      <th>2020-08-31</th>\n",
       "      <td>430.0</td>\n",
       "      <td>0.0</td>\n",
       "    </tr>\n",
       "    <tr>\n",
       "      <th>2020-08-31</th>\n",
       "      <td>430.0</td>\n",
       "      <td>0.0</td>\n",
       "    </tr>\n",
       "    <tr>\n",
       "      <th>2020-08-31</th>\n",
       "      <td>430.0</td>\n",
       "      <td>0.0</td>\n",
       "    </tr>\n",
       "    <tr>\n",
       "      <th>2020-08-31</th>\n",
       "      <td>430.0</td>\n",
       "      <td>1.0</td>\n",
       "    </tr>\n",
       "    <tr>\n",
       "      <th>2020-09-01</th>\n",
       "      <td>624.0</td>\n",
       "      <td>0.0</td>\n",
       "    </tr>\n",
       "    <tr>\n",
       "      <th>...</th>\n",
       "      <td>...</td>\n",
       "      <td>...</td>\n",
       "    </tr>\n",
       "    <tr>\n",
       "      <th>2021-08-20</th>\n",
       "      <td>25858.0</td>\n",
       "      <td>0.0</td>\n",
       "    </tr>\n",
       "    <tr>\n",
       "      <th>2021-08-20</th>\n",
       "      <td>25858.0</td>\n",
       "      <td>0.0</td>\n",
       "    </tr>\n",
       "    <tr>\n",
       "      <th>2021-08-20</th>\n",
       "      <td>25858.0</td>\n",
       "      <td>0.0</td>\n",
       "    </tr>\n",
       "    <tr>\n",
       "      <th>2021-08-21</th>\n",
       "      <td>25461.0</td>\n",
       "      <td>0.0</td>\n",
       "    </tr>\n",
       "    <tr>\n",
       "      <th>2021-08-21</th>\n",
       "      <td>25461.0</td>\n",
       "      <td>0.0</td>\n",
       "    </tr>\n",
       "  </tbody>\n",
       "</table>\n",
       "<p>1300 rows × 2 columns</p>\n",
       "</div>"
      ],
      "text/plain": [
       "            Infected  binary_score (1:good   0: bad)\n",
       "2020-08-31     430.0                             0.0\n",
       "2020-08-31     430.0                             0.0\n",
       "2020-08-31     430.0                             0.0\n",
       "2020-08-31     430.0                             1.0\n",
       "2020-09-01     624.0                             0.0\n",
       "...              ...                             ...\n",
       "2021-08-20   25858.0                             0.0\n",
       "2021-08-20   25858.0                             0.0\n",
       "2021-08-20   25858.0                             0.0\n",
       "2021-08-21   25461.0                             0.0\n",
       "2021-08-21   25461.0                             0.0\n",
       "\n",
       "[1300 rows x 2 columns]"
      ]
     },
     "execution_count": 344,
     "metadata": {},
     "output_type": "execute_result"
    }
   ],
   "source": [
    "df_inf_news = df_merged[['Infected','binary_score (1:good   0: bad)']]\n",
    "df_inf_news"
   ]
  },
  {
   "cell_type": "code",
   "execution_count": 345,
   "id": "cellular-first",
   "metadata": {},
   "outputs": [],
   "source": [
    "import random\n",
    "for idx, row in df_inf_news.iterrows():\n",
    "    #print(row['binary_score (1:good   0: bad)'])\n",
    "    ele = row['binary_score (1:good   0: bad)']\n",
    "    if(ele == 0):\n",
    "        row['binary_score (1:good   0: bad)'] = random.randrange(-4,1) #-4 to 0\n",
    "    else: \n",
    "        row['binary_score (1:good   0: bad)'] = random.randrange(1, 5)"
   ]
  },
  {
   "cell_type": "code",
   "execution_count": 346,
   "id": "valuable-cooperation",
   "metadata": {},
   "outputs": [
    {
     "data": {
      "text/plain": [
       "(array([216., 227., 203., 227.,   0., 199.,  49.,  62.,  65.,  52.]),\n",
       " array([-4. , -3.2, -2.4, -1.6, -0.8,  0. ,  0.8,  1.6,  2.4,  3.2,  4. ]),\n",
       " <BarContainer object of 10 artists>)"
      ]
     },
     "execution_count": 346,
     "metadata": {},
     "output_type": "execute_result"
    },
    {
     "data": {
      "image/png": "[encoded data removed]",
      "text/plain": [
       "<Figure size 432x288 with 1 Axes>"
      ]
     },
     "metadata": {
      "needs_background": "light"
     },
     "output_type": "display_data"
    }
   ],
   "source": [
    "plt.hist(df_inf_news['binary_score (1:good   0: bad)'])"
   ]
  },
  {
   "cell_type": "markdown",
   "id": "loaded-winning",
   "metadata": {},
   "source": [
    "#### Only scale binary score"
   ]
  },
  {
   "cell_type": "code",
   "execution_count": 355,
   "id": "important-specific",
   "metadata": {},
   "outputs": [
    {
     "name": "stderr",
     "output_type": "stream",
     "text": [
      "<ipython-input-355-b58dc20c5b37>:6: SettingWithCopyWarning: \n",
      "A value is trying to be set on a copy of a slice from a DataFrame.\n",
      "Try using .loc[row_indexer,col_indexer] = value instead\n",
      "\n",
      "See the caveats in the documentation: https://pandas.pydata.org/pandas-docs/stable/user_guide/indexing.html#returning-a-view-versus-a-copy\n",
      "  df_inf_news['infected_scaled'] = infected_scaled[:,0]\n",
      "<ipython-input-355-b58dc20c5b37>:7: SettingWithCopyWarning: \n",
      "A value is trying to be set on a copy of a slice from a DataFrame.\n",
      "Try using .loc[row_indexer,col_indexer] = value instead\n",
      "\n",
      "See the caveats in the documentation: https://pandas.pydata.org/pandas-docs/stable/user_guide/indexing.html#returning-a-view-versus-a-copy\n",
      "  df_inf_news['score_scaled'] = score_scaled[:,0]/100\n"
     ]
    },
    {
     "data": {
      "text/html": [
       "<div>\n",
       "<style scoped>\n",
       "    .dataframe tbody tr th:only-of-type {\n",
       "        vertical-align: middle;\n",
       "    }\n",
       "\n",
       "    .dataframe tbody tr th {\n",
       "        vertical-align: top;\n",
       "    }\n",
       "\n",
       "    .dataframe thead th {\n",
       "        text-align: right;\n",
       "    }\n",
       "</style>\n",
       "<table border=\"1\" class=\"dataframe\">\n",
       "  <thead>\n",
       "    <tr style=\"text-align: right;\">\n",
       "      <th></th>\n",
       "      <th>Infected</th>\n",
       "      <th>binary_score (1:good   0: bad)</th>\n",
       "      <th>infected_scaled</th>\n",
       "      <th>score_scaled</th>\n",
       "    </tr>\n",
       "  </thead>\n",
       "  <tbody>\n",
       "    <tr>\n",
       "      <th>2020-08-31</th>\n",
       "      <td>430.0</td>\n",
       "      <td>-4.0</td>\n",
       "      <td>0.008346</td>\n",
       "      <td>0.00000</td>\n",
       "    </tr>\n",
       "    <tr>\n",
       "      <th>2020-08-31</th>\n",
       "      <td>430.0</td>\n",
       "      <td>-2.0</td>\n",
       "      <td>0.008346</td>\n",
       "      <td>0.00250</td>\n",
       "    </tr>\n",
       "    <tr>\n",
       "      <th>2020-08-31</th>\n",
       "      <td>430.0</td>\n",
       "      <td>0.0</td>\n",
       "      <td>0.008346</td>\n",
       "      <td>0.00500</td>\n",
       "    </tr>\n",
       "    <tr>\n",
       "      <th>2020-08-31</th>\n",
       "      <td>430.0</td>\n",
       "      <td>1.0</td>\n",
       "      <td>0.008346</td>\n",
       "      <td>0.00625</td>\n",
       "    </tr>\n",
       "    <tr>\n",
       "      <th>2020-09-01</th>\n",
       "      <td>624.0</td>\n",
       "      <td>0.0</td>\n",
       "      <td>0.015911</td>\n",
       "      <td>0.00500</td>\n",
       "    </tr>\n",
       "  </tbody>\n",
       "</table>\n",
       "</div>"
      ],
      "text/plain": [
       "            Infected  binary_score (1:good   0: bad)  infected_scaled  \\\n",
       "2020-08-31     430.0                            -4.0         0.008346   \n",
       "2020-08-31     430.0                            -2.0         0.008346   \n",
       "2020-08-31     430.0                             0.0         0.008346   \n",
       "2020-08-31     430.0                             1.0         0.008346   \n",
       "2020-09-01     624.0                             0.0         0.015911   \n",
       "\n",
       "            score_scaled  \n",
       "2020-08-31       0.00000  \n",
       "2020-08-31       0.00250  \n",
       "2020-08-31       0.00500  \n",
       "2020-08-31       0.00625  \n",
       "2020-09-01       0.00500  "
      ]
     },
     "execution_count": 355,
     "metadata": {},
     "output_type": "execute_result"
    }
   ],
   "source": [
    "# Feature Scaling\n",
    "sc = MinMaxScaler(feature_range = (0, 1))\n",
    "infected_scaled = sc.fit_transform(df_inf_news['Infected'].values.astype(float).reshape(len(df_inf_news), 1))\n",
    "score_scaled = sc.fit_transform(df_inf_news['binary_score (1:good   0: bad)'].values.astype(float).reshape(len(df_inf_news), 1))\n",
    "\n",
    "df_inf_news['infected_scaled'] = infected_scaled[:,0]\n",
    "df_inf_news['score_scaled'] = score_scaled[:,0]/100\n",
    "\n",
    "df_inf_news.head()"
   ]
  },
  {
   "cell_type": "code",
   "execution_count": 356,
   "id": "addressed-magnitude",
   "metadata": {},
   "outputs": [],
   "source": [
    "def split_seq(sequence, n_steps_in, n_steps_out):\n",
    "    X = []\n",
    "    y = []\n",
    "    for i in range(len(sequence)):\n",
    "        end_idx = i + n_steps_in\n",
    "        steps_out_idx = end_idx + n_steps_out\n",
    "        \n",
    "        #check if we reach end of arr or not\n",
    "        if (steps_out_idx > len(sequence)):\n",
    "            break\n",
    "        seq_x = sequence[i:end_idx]\n",
    "        seq_y = sequence[end_idx:steps_out_idx]\n",
    "        X.append(seq_x)\n",
    "        y.append(seq_y)\n",
    "    return np.array(X), np.array(y)"
   ]
  },
  {
   "cell_type": "code",
   "execution_count": 374,
   "id": "popular-oregon",
   "metadata": {},
   "outputs": [
    {
     "name": "stdout",
     "output_type": "stream",
     "text": [
      "(1296, 8, 1)\n",
      "(1296, 1, 1)\n"
     ]
    }
   ],
   "source": [
    "X_infected, y_infected = split_seq(df_inf_news['infected_scaled'],4,1)\n",
    "#print(X_infected.shape, y_infected.shape)\n",
    "X_news, y_news = split_seq(df_inf_news['score_scaled'],4,1)\n",
    "#print(X_news.shape, y_news.shape)\n",
    "\n",
    "### Concat horizotally with hstack\n",
    "X = np.hstack([X_infected,X_news])\n",
    "#X = np.hstack([X_infected])\n",
    "\n",
    "y = np.hstack([y_infected]) #only output infected cases\n",
    "\n",
    "X = X.reshape((X.shape[0],X.shape[1],1))\n",
    "y = y.reshape((y.shape[0],y.shape[1],1))\n",
    "\n",
    "print(X.shape)\n",
    "print(y.shape)"
   ]
  },
  {
   "cell_type": "code",
   "execution_count": 375,
   "id": "duplicate-memorial",
   "metadata": {},
   "outputs": [
    {
     "data": {
      "text/plain": [
       "array([[[0.0159114 ]],\n",
       "\n",
       "       [[0.0159114 ]],\n",
       "\n",
       "       [[0.01439045]],\n",
       "\n",
       "       ...,\n",
       "\n",
       "       [[1.        ]],\n",
       "\n",
       "       [[0.98451759]],\n",
       "\n",
       "       [[0.98451759]]])"
      ]
     },
     "execution_count": 375,
     "metadata": {},
     "output_type": "execute_result"
    }
   ],
   "source": [
    "y"
   ]
  },
  {
   "cell_type": "code",
   "execution_count": 363,
   "id": "protecting-chester",
   "metadata": {},
   "outputs": [],
   "source": [
    "X_train = X[:1000,:]\n",
    "X_test  = X[1000:,:]\n",
    "y_train = y[:1000,:]\n",
    "y_test  = y[1000:,:]"
   ]
  },
  {
   "cell_type": "code",
   "execution_count": 364,
   "id": "decent-halloween",
   "metadata": {},
   "outputs": [
    {
     "data": {
      "text/plain": [
       "(8, 1)"
      ]
     },
     "execution_count": 364,
     "metadata": {},
     "output_type": "execute_result"
    }
   ],
   "source": [
    "input_shape = (X_train.shape[1],X_train.shape[2])\n",
    "input_shape"
   ]
  },
  {
   "cell_type": "code",
   "execution_count": 366,
   "id": "japanese-romance",
   "metadata": {},
   "outputs": [
    {
     "name": "stdout",
     "output_type": "stream",
     "text": [
      "Epoch 1/50\n",
      "8/8 [==============================] - 0s 22ms/step - loss: 0.0116\n",
      "Epoch 2/50\n",
      "8/8 [==============================] - 0s 22ms/step - loss: 0.0064\n",
      "Epoch 3/50\n",
      "8/8 [==============================] - 0s 21ms/step - loss: 0.0059\n",
      "Epoch 4/50\n",
      "8/8 [==============================] - 0s 21ms/step - loss: 0.0056\n",
      "Epoch 5/50\n",
      "8/8 [==============================] - 0s 21ms/step - loss: 0.0048\n",
      "Epoch 6/50\n",
      "8/8 [==============================] - 0s 21ms/step - loss: 0.0035\n",
      "Epoch 7/50\n",
      "8/8 [==============================] - 0s 21ms/step - loss: 0.0017\n",
      "Epoch 8/50\n",
      "8/8 [==============================] - 0s 22ms/step - loss: 0.0011\n",
      "Epoch 9/50\n",
      "8/8 [==============================] - 0s 21ms/step - loss: 0.0010\n",
      "Epoch 10/50\n",
      "8/8 [==============================] - 0s 20ms/step - loss: 8.2264e-04\n",
      "Epoch 11/50\n",
      "8/8 [==============================] - 0s 21ms/step - loss: 8.0087e-04\n",
      "Epoch 12/50\n",
      "8/8 [==============================] - 0s 21ms/step - loss: 7.3129e-04\n",
      "Epoch 13/50\n",
      "8/8 [==============================] - 0s 21ms/step - loss: 6.9069e-04\n",
      "Epoch 14/50\n",
      "8/8 [==============================] - 0s 21ms/step - loss: 6.6435e-04\n",
      "Epoch 15/50\n",
      "8/8 [==============================] - 0s 20ms/step - loss: 6.9901e-04\n",
      "Epoch 16/50\n",
      "8/8 [==============================] - 0s 21ms/step - loss: 6.2997e-04\n",
      "Epoch 17/50\n",
      "8/8 [==============================] - 0s 21ms/step - loss: 6.1193e-04\n",
      "Epoch 18/50\n",
      "8/8 [==============================] - 0s 23ms/step - loss: 6.5382e-04\n",
      "Epoch 19/50\n",
      "8/8 [==============================] - 0s 23ms/step - loss: 5.8071e-04\n",
      "Epoch 20/50\n",
      "8/8 [==============================] - 0s 22ms/step - loss: 5.5606e-04\n",
      "Epoch 21/50\n",
      "8/8 [==============================] - 0s 23ms/step - loss: 6.1297e-04\n",
      "Epoch 22/50\n",
      "8/8 [==============================] - 0s 21ms/step - loss: 6.1418e-04\n",
      "Epoch 23/50\n",
      "8/8 [==============================] - 0s 22ms/step - loss: 6.0707e-04\n",
      "Epoch 24/50\n",
      "8/8 [==============================] - 0s 22ms/step - loss: 5.6433e-04\n",
      "Epoch 25/50\n",
      "8/8 [==============================] - 0s 21ms/step - loss: 5.8646e-04\n",
      "Epoch 26/50\n",
      "8/8 [==============================] - 0s 22ms/step - loss: 5.7763e-04\n",
      "Epoch 27/50\n",
      "8/8 [==============================] - 0s 22ms/step - loss: 6.5129e-04\n",
      "Epoch 28/50\n",
      "8/8 [==============================] - 0s 21ms/step - loss: 5.4354e-04\n",
      "Epoch 29/50\n",
      "8/8 [==============================] - 0s 21ms/step - loss: 5.6283e-04\n",
      "Epoch 30/50\n",
      "8/8 [==============================] - 0s 22ms/step - loss: 5.7655e-04\n",
      "Epoch 31/50\n",
      "8/8 [==============================] - 0s 21ms/step - loss: 5.8260e-04\n",
      "Epoch 32/50\n",
      "8/8 [==============================] - 0s 21ms/step - loss: 5.8466e-04\n",
      "Epoch 33/50\n",
      "8/8 [==============================] - 0s 22ms/step - loss: 5.6437e-04\n",
      "Epoch 34/50\n",
      "8/8 [==============================] - 0s 22ms/step - loss: 5.4339e-04\n",
      "Epoch 35/50\n",
      "8/8 [==============================] - 0s 22ms/step - loss: 5.6967e-04\n",
      "Epoch 36/50\n",
      "8/8 [==============================] - 0s 18ms/step - loss: 5.5055e-04\n",
      "Epoch 37/50\n",
      "8/8 [==============================] - 0s 20ms/step - loss: 5.8170e-04\n",
      "Epoch 38/50\n",
      "8/8 [==============================] - 0s 22ms/step - loss: 5.8207e-04\n",
      "Epoch 39/50\n",
      "8/8 [==============================] - 0s 23ms/step - loss: 5.3959e-04\n",
      "Epoch 40/50\n",
      "8/8 [==============================] - 0s 22ms/step - loss: 5.8822e-04\n",
      "Epoch 41/50\n",
      "8/8 [==============================] - 0s 21ms/step - loss: 5.4556e-04\n",
      "Epoch 42/50\n",
      "8/8 [==============================] - 0s 22ms/step - loss: 4.9972e-04\n",
      "Epoch 43/50\n",
      "8/8 [==============================] - 0s 22ms/step - loss: 5.2798e-04\n",
      "Epoch 44/50\n",
      "8/8 [==============================] - 0s 23ms/step - loss: 5.1929e-04\n",
      "Epoch 45/50\n",
      "8/8 [==============================] - 0s 23ms/step - loss: 5.3887e-04\n",
      "Epoch 46/50\n",
      "8/8 [==============================] - 0s 25ms/step - loss: 5.4621e-04\n",
      "Epoch 47/50\n",
      "8/8 [==============================] - 0s 23ms/step - loss: 5.4582e-04\n",
      "Epoch 48/50\n",
      "8/8 [==============================] - 0s 21ms/step - loss: 5.2785e-04\n",
      "Epoch 49/50\n",
      "8/8 [==============================] - 0s 21ms/step - loss: 4.7718e-04\n",
      "Epoch 50/50\n",
      "8/8 [==============================] - 0s 20ms/step - loss: 5.6461e-04\n"
     ]
    },
    {
     "data": {
      "text/plain": [
       "<tensorflow.python.keras.callbacks.History at 0x23de8713130>"
      ]
     },
     "execution_count": 366,
     "metadata": {},
     "output_type": "execute_result"
    }
   ],
   "source": [
    "model = Sequential()\n",
    "\n",
    "#Adding the first LSTM layer and some Dropout regularisation\n",
    "model.add(LSTM(units = 50, return_sequences = True, activation='relu', input_shape = input_shape))\n",
    "model.add(Dropout(0.2))\n",
    "\n",
    "# Adding a second LSTM layer and some Dropout regularisation\n",
    "model.add(LSTM(units = 50, return_sequences = True,activation='relu'))\n",
    "model.add(Dropout(0.2))\n",
    "\n",
    "# Adding a third LSTM layer and some Dropout regularisation\n",
    "model.add(LSTM(units = 50, return_sequences = True, activation='relu'))\n",
    "model.add(Dropout(0.2))\n",
    "\n",
    "# Adding a fourth LSTM layer and some Dropout regularisation\n",
    "model.add(LSTM(units = 50, activation='relu'))\n",
    "model.add(Dropout(0.2))\n",
    "\n",
    "# Adding the output layer\n",
    "model.add(Dense(units = 1, activation='relu'))\n",
    "\n",
    "# Compiling the RNN\n",
    "model.compile(optimizer = 'adam', loss = 'mean_squared_error')\n",
    "\n",
    "# Fitting the RNN to the Training set\n",
    "model.fit(X_train, y_train, epochs = 50, batch_size = 128)"
   ]
  },
  {
   "cell_type": "code",
   "execution_count": 367,
   "id": "precious-preserve",
   "metadata": {},
   "outputs": [],
   "source": [
    "y_pred = model.predict(X_test)\n",
    "y_pred = sc.inverse_transform(y_pred) #revert scaling"
   ]
  },
  {
   "cell_type": "code",
   "execution_count": 376,
   "id": "norwegian-acceptance",
   "metadata": {},
   "outputs": [
    {
     "data": {
      "text/plain": [
       "[<matplotlib.lines.Line2D at 0x23d761c6c40>]"
      ]
     },
     "execution_count": 376,
     "metadata": {},
     "output_type": "execute_result"
    },
    {
     "data": {
      "image/png": "[encoded data removed]",
      "text/plain": [
       "<Figure size 432x288 with 1 Axes>"
      ]
     },
     "metadata": {
      "needs_background": "light"
     },
     "output_type": "display_data"
    }
   ],
   "source": [
    "plt.plot(y_pred)"
   ]
  },
  {
   "cell_type": "code",
   "execution_count": 378,
   "id": "according-findings",
   "metadata": {},
   "outputs": [
    {
     "data": {
      "text/plain": [
       "[<matplotlib.lines.Line2D at 0x23dd4700eb0>]"
      ]
     },
     "execution_count": 378,
     "metadata": {},
     "output_type": "execute_result"
    },
    {
     "data": {
      "image/png": "[encoded data removed]",
      "text/plain": [
       "<Figure size 432x288 with 1 Axes>"
      ]
     },
     "metadata": {
      "needs_background": "light"
     },
     "output_type": "display_data"
    }
   ],
   "source": [
    "plt.plot(y_test.reshape(len(y_test)))"
   ]
  },
  {
   "cell_type": "code",
   "execution_count": 380,
   "id": "closed-application",
   "metadata": {},
   "outputs": [
    {
     "data": {
      "text/plain": [
       "[<matplotlib.lines.Line2D at 0x23dd473ad90>]"
      ]
     },
     "execution_count": 380,
     "metadata": {},
     "output_type": "execute_result"
    },
    {
     "data": {
      "image/png": "[encoded data removed]",
      "text/plain": [
       "<Figure size 432x288 with 1 Axes>"
      ]
     },
     "metadata": {
      "needs_background": "light"
     },
     "output_type": "display_data"
    }
   ],
   "source": [
    "plt.plot(df_merged['Infected'][1000:])"
   ]
  },
  {
   "cell_type": "code",
   "execution_count": null,
   "id": "electrical-framing",
   "metadata": {},
   "outputs": [],
   "source": []
  },
  {
   "cell_type": "code",
   "execution_count": null,
   "id": "advanced-unemployment",
   "metadata": {},
   "outputs": [],
   "source": []
  },
  {
   "cell_type": "code",
   "execution_count": null,
   "id": "dimensional-ready",
   "metadata": {},
   "outputs": [],
   "source": []
  },
  {
   "cell_type": "code",
   "execution_count": null,
   "id": "union-birmingham",
   "metadata": {},
   "outputs": [],
   "source": [
    "# univariate multi-step vector-output stacked lstm example\n",
    "from numpy import array\n",
    "from keras.models import Sequential\n",
    "from keras.layers import LSTM\n",
    "from keras.layers import Dense\n",
    "\n",
    "# split a univariate sequence into samples\n",
    "def split_sequence(sequence, n_steps_in, n_steps_out):\n",
    "\tX, y = list(), list()\n",
    "\tfor i in range(len(sequence)):\n",
    "\t\t# find the end of this pattern\n",
    "\t\tend_ix = i + n_steps_in\n",
    "\t\tout_end_ix = end_ix + n_steps_out\n",
    "\t\t# check if we are beyond the sequence\n",
    "\t\tif out_end_ix > len(sequence):\n",
    "\t\t\tbreak\n",
    "\t\t# gather input and output parts of the pattern\n",
    "\t\tseq_x, seq_y = sequence[i:end_ix], sequence[end_ix:out_end_ix]\n",
    "\t\tX.append(seq_x)\n",
    "\t\ty.append(seq_y)\n",
    "\treturn array(X), array(y)\n",
    "\n",
    "# define input sequence\n",
    "raw_seq = [10, 20, 30, 40, 50, 60, 70, 80, 90]\n",
    "\n",
    "# choose a number of time steps\n",
    "n_steps_in, n_steps_out = 3, 2\n",
    "\n",
    "# split into samples\n",
    "X, y = split_sequence(raw_seq, n_steps_in, n_steps_out)\n",
    "\n",
    "# reshape from [samples, timesteps] into [samples, timesteps, features]\n",
    "n_features = 1\n",
    "X = X.reshape((X.shape[0], X.shape[1], n_features))\n",
    "\n",
    "# define model\n",
    "model = Sequential()\n",
    "model.add(LSTM(100, activation='relu', return_sequences=True, input_shape=(n_steps_in, n_features)))\n",
    "model.add(LSTM(100, activation='relu'))\n",
    "model.add(Dense(n_steps_out))\n",
    "model.compile(optimizer='adam', loss='mse')\n",
    "\n",
    "# fit model\n",
    "model.fit(X, y, epochs=50, verbose=0)\n",
    "# demonstrate prediction\n",
    "x_input = array([70, 80, 90])\n",
    "x_input = x_input.reshape((1, n_steps_in, n_features))\n",
    "yhat = model.predict(x_input, verbose=0)\n",
    "print(yhat)"
   ]
  },
  {
   "cell_type": "code",
   "execution_count": null,
   "id": "strange-cooling",
   "metadata": {},
   "outputs": [],
   "source": [
    "X.shape"
   ]
  },
  {
   "cell_type": "code",
   "execution_count": null,
   "id": "stretch-brief",
   "metadata": {},
   "outputs": [],
   "source": [
    "X"
   ]
  },
  {
   "cell_type": "code",
   "execution_count": null,
   "id": "physical-liquid",
   "metadata": {},
   "outputs": [],
   "source": [
    "y"
   ]
  },
  {
   "cell_type": "code",
   "execution_count": null,
   "id": "respiratory-charleston",
   "metadata": {},
   "outputs": [],
   "source": []
  },
  {
   "cell_type": "code",
   "execution_count": null,
   "id": "prompt-judgment",
   "metadata": {},
   "outputs": [],
   "source": []
  },
  {
   "cell_type": "code",
   "execution_count": null,
   "id": "together-cornwall",
   "metadata": {},
   "outputs": [],
   "source": [
    "\n",
    "# multivariate multi-step stacked lstm example\n",
    "from numpy import array\n",
    "from numpy import hstack\n",
    "from keras.models import Sequential\n",
    "from keras.layers import LSTM\n",
    "from keras.layers import Dense\n",
    " \n",
    "# split a multivariate sequence into samples\n",
    "def split_sequences(sequences, n_steps_in, n_steps_out):\n",
    "\tX, y = list(), list()\n",
    "\tfor i in range(len(sequences)):\n",
    "\t\t# find the end of this pattern\n",
    "\t\tend_ix = i + n_steps_in\n",
    "\t\tout_end_ix = end_ix + n_steps_out-1\n",
    "\t\t# check if we are beyond the dataset\n",
    "\t\tif out_end_ix > len(sequences):\n",
    "\t\t\tbreak\n",
    "\t\t# gather input and output parts of the pattern\n",
    "\t\tseq_x, seq_y = sequences[i:end_ix, :-1], sequences[end_ix-1:out_end_ix, -1]\n",
    "\t\tX.append(seq_x)\n",
    "\t\ty.append(seq_y)\n",
    "\treturn array(X), array(y)\n",
    " \n",
    "# define input sequence\n",
    "in_seq1 = array([10, 20, 30, 40, 50, 60, 70, 80, 90])\n",
    "in_seq2 = array([15, 25, 35, 45, 55, 65, 75, 85, 95])\n",
    "out_seq = array([in_seq1[i]+in_seq2[i] for i in range(len(in_seq1))])\n",
    "\n",
    "# convert to [rows, columns] structure\n",
    "in_seq1 = in_seq1.reshape((len(in_seq1), 1))\n",
    "in_seq2 = in_seq2.reshape((len(in_seq2), 1))\n",
    "out_seq = out_seq.reshape((len(out_seq), 1))\n",
    "\n",
    "# horizontally stack columns\n",
    "dataset = hstack((in_seq1, in_seq2, out_seq))\n",
    "\n",
    "# choose a number of time steps\n",
    "n_steps_in, n_steps_out = 3, 2\n",
    "\n",
    "# covert into input/output\n",
    "X, y = split_sequences(dataset, n_steps_in, n_steps_out)\n",
    "\n",
    "# the dataset knows the number of features, e.g. 2\n",
    "n_features = X.shape[2]\n",
    "\n",
    "# define model\n",
    "model = Sequential()\n",
    "model.add(LSTM(100, activation='relu', return_sequences=True, input_shape=(n_steps_in, n_features)))\n",
    "model.add(LSTM(100, activation='relu'))\n",
    "model.add(Dense(n_steps_out))\n",
    "model.compile(optimizer='adam', loss='mse')\n",
    "\n",
    "# fit model\n",
    "model.fit(X, y, epochs=200, verbose=0)\n",
    "\n",
    "# demonstrate prediction\n",
    "x_input = array([[70, 75], [80, 85], [90, 95]])\n",
    "x_input = x_input.reshape((1, n_steps_in, n_features))\n",
    "yhat = model.predict(x_input, verbose=0)\n",
    "\n",
    "print(yhat)"
   ]
  },
  {
   "cell_type": "code",
   "execution_count": null,
   "id": "natural-basket",
   "metadata": {},
   "outputs": [],
   "source": [
    "X"
   ]
  },
  {
   "cell_type": "code",
   "execution_count": null,
   "id": "southwest-extra",
   "metadata": {},
   "outputs": [],
   "source": [
    "dataset"
   ]
  },
  {
   "cell_type": "code",
   "execution_count": null,
   "id": "sustained-incidence",
   "metadata": {},
   "outputs": [],
   "source": [
    "y"
   ]
  },
  {
   "cell_type": "code",
   "execution_count": null,
   "id": "premier-smith",
   "metadata": {},
   "outputs": [],
   "source": []
  },
  {
   "cell_type": "code",
   "execution_count": null,
   "id": "radio-hormone",
   "metadata": {},
   "outputs": [],
   "source": []
  },
  {
   "cell_type": "code",
   "execution_count": null,
   "id": "future-swaziland",
   "metadata": {},
   "outputs": [],
   "source": []
  },
  {
   "cell_type": "code",
   "execution_count": null,
   "id": "stunning-conviction",
   "metadata": {},
   "outputs": [],
   "source": []
  },
  {
   "cell_type": "code",
   "execution_count": 132,
   "id": "canadian-cloud",
   "metadata": {},
   "outputs": [
    {
     "name": "stdout",
     "output_type": "stream",
     "text": [
      "(1, 10, 2)\n"
     ]
    }
   ],
   "source": [
    "from numpy import array\n",
    "data = array([\n",
    "\t[0.1, 1.0],\n",
    "\t[0.2, 0.9],\n",
    "\t[0.3, 0.8],\n",
    "\t[0.4, 0.7],\n",
    "\t[0.5, 0.6],\n",
    "\t[0.6, 0.5],\n",
    "\t[0.7, 0.4],\n",
    "\t[0.8, 0.3],\n",
    "\t[0.9, 0.2],\n",
    "\t[1.0, 0.1]])\n",
    "data = data.reshape(1, 10, 2)\n",
    "print(data.shape)"
   ]
  },
  {
   "cell_type": "code",
   "execution_count": 133,
   "id": "protecting-foundation",
   "metadata": {},
   "outputs": [
    {
     "data": {
      "text/plain": [
       "array([[[0.1, 1. ],\n",
       "        [0.2, 0.9],\n",
       "        [0.3, 0.8],\n",
       "        [0.4, 0.7],\n",
       "        [0.5, 0.6],\n",
       "        [0.6, 0.5],\n",
       "        [0.7, 0.4],\n",
       "        [0.8, 0.3],\n",
       "        [0.9, 0.2],\n",
       "        [1. , 0.1]]])"
      ]
     },
     "execution_count": 133,
     "metadata": {},
     "output_type": "execute_result"
    }
   ],
   "source": [
    "data"
   ]
  },
  {
   "cell_type": "code",
   "execution_count": 181,
   "id": "buried-three",
   "metadata": {},
   "outputs": [
    {
     "data": {
      "text/plain": [
       "array([[ 10,  15,  25],\n",
       "       [ 20,  25,  45],\n",
       "       [ 30,  35,  65],\n",
       "       [ 40,  45,  85],\n",
       "       [ 50,  55, 105],\n",
       "       [ 60,  65, 125],\n",
       "       [ 70,  75, 145],\n",
       "       [ 80,  85, 165],\n",
       "       [ 90,  95, 185]])"
      ]
     },
     "execution_count": 181,
     "metadata": {},
     "output_type": "execute_result"
    }
   ],
   "source": [
    "# define input sequence\n",
    "in_seq1 = array([10, 20, 30, 40, 50, 60, 70, 80, 90])\n",
    "in_seq2 = array([15, 25, 35, 45, 55, 65, 75, 85, 95])\n",
    "out_seq = array([in_seq1[i]+in_seq2[i] for i in range(len(in_seq1))])\n",
    "\n",
    "# convert to [rows, columns] structure\n",
    "in_seq1 = in_seq1.reshape((len(in_seq1), 1))\n",
    "in_seq2 = in_seq2.reshape((len(in_seq2), 1))\n",
    "out_seq = out_seq.reshape((len(out_seq), 1))\n",
    "\n",
    "# horizontally stack columns\n",
    "dataset = hstack((in_seq1, in_seq2, out_seq))\n",
    "dataset"
   ]
  },
  {
   "cell_type": "code",
   "execution_count": null,
   "id": "banned-missouri",
   "metadata": {},
   "outputs": [],
   "source": []
  }
 ],
 "metadata": {
  "kernelspec": {
   "display_name": "Python 3",
   "language": "python",
   "name": "python3"
  },
  "language_info": {
   "codemirror_mode": {
    "name": "ipython",
    "version": 3
   },
   "file_extension": ".py",
   "mimetype": "text/x-python",
   "name": "python",
   "nbconvert_exporter": "python",
   "pygments_lexer": "ipython3",
   "version": "3.8.5"
  }
 },
 "nbformat": 4,
 "nbformat_minor": 5
}
