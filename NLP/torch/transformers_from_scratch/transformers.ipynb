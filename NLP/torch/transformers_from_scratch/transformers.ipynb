{
 "cells": [
  {
   "cell_type": "code",
   "execution_count": 1,
   "id": "de2f105c-cde4-4774-82e1-4f1fc28932fb",
   "metadata": {},
   "outputs": [
    {
     "name": "stderr",
     "output_type": "stream",
     "text": [
      "C:\\Users\\maidu\\.conda\\envs\\nlp\\lib\\site-packages\\tqdm\\auto.py:22: TqdmWarning: IProgress not found. Please update jupyter and ipywidgets. See https://ipywidgets.readthedocs.io/en/stable/user_install.html\n",
      "  from .autonotebook import tqdm as notebook_tqdm\n"
     ]
    }
   ],
   "source": [
    "import torch\n",
    "import torch.nn.functional as F"
   ]
  },
  {
   "cell_type": "code",
   "execution_count": 2,
   "id": "6bbd71e8-30ca-4c61-8b8e-c87adf8c4a30",
   "metadata": {},
   "outputs": [],
   "source": [
    "#x = torch.tensor([[[0., 1., 2.], [3., 4., 5.], [6., 7., 8.]]], requires_grad=True)"
   ]
  },
  {
   "cell_type": "code",
   "execution_count": 3,
   "id": "ab879660-8dc9-4bae-9ea8-8c90362466da",
   "metadata": {},
   "outputs": [],
   "source": [
    "x = torch.tensor([[[0., 1., 2.], [3., 4., 5.], [6., 7., 8.]],\n",
    "              [[9., 10., 11.], [12., 13., 14.], [15., 16., 17.]],\n",
    "              [[18., 19., 20], [21., 22., 23.], [24., 25., 26.]]], requires_grad=True)"
   ]
  },
  {
   "cell_type": "code",
   "execution_count": 4,
   "id": "b5d3cbaa-b657-4912-873b-7baab854893f",
   "metadata": {},
   "outputs": [
    {
     "data": {
      "text/plain": [
       "tensor([[[ 0.,  1.,  2.],\n",
       "         [ 3.,  4.,  5.],\n",
       "         [ 6.,  7.,  8.]],\n",
       "\n",
       "        [[ 9., 10., 11.],\n",
       "         [12., 13., 14.],\n",
       "         [15., 16., 17.]],\n",
       "\n",
       "        [[18., 19., 20.],\n",
       "         [21., 22., 23.],\n",
       "         [24., 25., 26.]]], requires_grad=True)"
      ]
     },
     "execution_count": 4,
     "metadata": {},
     "output_type": "execute_result"
    }
   ],
   "source": [
    "x"
   ]
  },
  {
   "cell_type": "code",
   "execution_count": 5,
   "id": "ed968f89-4cf4-4f87-944b-6a410c06df89",
   "metadata": {},
   "outputs": [
    {
     "data": {
      "text/plain": [
       "tensor([[[ 0.,  3.,  6.],\n",
       "         [ 1.,  4.,  7.],\n",
       "         [ 2.,  5.,  8.]],\n",
       "\n",
       "        [[ 9., 12., 15.],\n",
       "         [10., 13., 16.],\n",
       "         [11., 14., 17.]],\n",
       "\n",
       "        [[18., 21., 24.],\n",
       "         [19., 22., 25.],\n",
       "         [20., 23., 26.]]], grad_fn=<TransposeBackward0>)"
      ]
     },
     "execution_count": 5,
     "metadata": {},
     "output_type": "execute_result"
    }
   ],
   "source": [
    "x.transpose(1, 2)"
   ]
  },
  {
   "cell_type": "code",
   "execution_count": 6,
   "id": "9a641e34-2e36-40b4-b2b0-46088c8ffc8c",
   "metadata": {},
   "outputs": [],
   "source": [
    "raw_weights = torch.bmm(x, x.transpose(1,2))\n"
   ]
  },
  {
   "cell_type": "code",
   "execution_count": 7,
   "id": "995a37bd-72bf-4ced-b54b-34c6cd2a72c8",
   "metadata": {},
   "outputs": [],
   "source": [
    "#apply softmax ,row wise\n",
    "weights = F.softmax(raw_weights, dim=2)\n"
   ]
  },
  {
   "cell_type": "code",
   "execution_count": 8,
   "id": "2f4c991a-945d-4817-8f0c-2c8fa1b2af1b",
   "metadata": {},
   "outputs": [],
   "source": [
    "y = torch.bmm(weights, x)"
   ]
  },
  {
   "cell_type": "code",
   "execution_count": 9,
   "id": "d6bde4ce-26ed-4f86-83b3-2e89c30703b8",
   "metadata": {},
   "outputs": [
    {
     "data": {
      "text/plain": [
       "tensor([[[ 5.9996,  6.9996,  7.9996],\n",
       "         [ 6.0000,  7.0000,  8.0000],\n",
       "         [ 6.0000,  7.0000,  8.0000]],\n",
       "\n",
       "        [[15.0000, 16.0000, 17.0000],\n",
       "         [15.0000, 16.0000, 17.0000],\n",
       "         [15.0000, 16.0000, 17.0000]],\n",
       "\n",
       "        [[24.0000, 25.0000, 26.0000],\n",
       "         [24.0000, 25.0000, 26.0000],\n",
       "         [24.0000, 25.0000, 26.0000]]], grad_fn=<BmmBackward0>)"
      ]
     },
     "execution_count": 9,
     "metadata": {},
     "output_type": "execute_result"
    }
   ],
   "source": [
    "y"
   ]
  },
  {
   "cell_type": "code",
   "execution_count": null,
   "id": "ed05388c-08b5-4f09-97a4-33ec1cbae0ee",
   "metadata": {},
   "outputs": [],
   "source": []
  },
  {
   "cell_type": "code",
   "execution_count": null,
   "id": "979fafe7-1e51-4647-bdac-c215b0212ecf",
   "metadata": {},
   "outputs": [],
   "source": []
  },
  {
   "cell_type": "code",
   "execution_count": null,
   "id": "1aef23df-f3bd-4c70-9aab-4bc95c13b758",
   "metadata": {},
   "outputs": [],
   "source": []
  }
 ],
 "metadata": {
  "kernelspec": {
   "display_name": "Python 3 (ipykernel)",
   "language": "python",
   "name": "python3"
  },
  "language_info": {
   "codemirror_mode": {
    "name": "ipython",
    "version": 3
   },
   "file_extension": ".py",
   "mimetype": "text/x-python",
   "name": "python",
   "nbconvert_exporter": "python",
   "pygments_lexer": "ipython3",
   "version": "3.9.12"
  }
 },
 "nbformat": 4,
 "nbformat_minor": 5
}
