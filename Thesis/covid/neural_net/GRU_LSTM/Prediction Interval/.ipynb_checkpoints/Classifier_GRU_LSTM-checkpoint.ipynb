{
 "cells": [
  {
   "cell_type": "markdown",
   "id": "resident-greece",
   "metadata": {},
   "source": [
    "### Warper model to pick either GRU or LSTM at each day"
   ]
  },
  {
   "cell_type": "code",
   "execution_count": 43,
   "id": "invisible-bulgarian",
   "metadata": {},
   "outputs": [],
   "source": [
    "import pandas as pd\n",
    "import numpy as np\n",
    "import xgboost as xgb\n",
    "from sklearn.model_selection import train_test_split\n",
    "from sklearn.metrics import balanced_accuracy_score, roc_auc_score, make_scorer\n",
    "from sklearn.model_selection import GridSearchCV #cross_valid\n",
    "from sklearn.metrics import confusion_matrix \n",
    "from sklearn.metrics import plot_confusion_matrix\n",
    "import matplotlib.pyplot as plt\n",
    "import seaborn as sns\n",
    "from sklearn.metrics import accuracy_score\n",
    "import datetime\n",
    "from scipy.spatial import distance\n",
    "from numba import jit\n",
    "from scipy.stats import norm\n",
    "import collections\n",
    "import pandas.io.sql as sqlio\n",
    "from sklearn.utils import shuffle\n",
    "from sklearn.metrics import roc_auc_score\n",
    "from sklearn import preprocessing\n",
    "from sklearn.metrics import confusion_matrix\n",
    "\n",
    "import seaborn as sns\n",
    "import warnings\n",
    "from pandas.core.common import SettingWithCopyWarning\n",
    "warnings.simplefilter(action=\"ignore\", category=SettingWithCopyWarning)"
   ]
  },
  {
   "cell_type": "code",
   "execution_count": 2,
   "id": "thorough-flood",
   "metadata": {},
   "outputs": [
    {
     "name": "stdout",
     "output_type": "stream",
     "text": [
      "(566, 6)\n"
     ]
    },
    {
     "data": {
      "text/html": [
       "<div>\n",
       "<style scoped>\n",
       "    .dataframe tbody tr th:only-of-type {\n",
       "        vertical-align: middle;\n",
       "    }\n",
       "\n",
       "    .dataframe tbody tr th {\n",
       "        vertical-align: top;\n",
       "    }\n",
       "\n",
       "    .dataframe thead th {\n",
       "        text-align: right;\n",
       "    }\n",
       "</style>\n",
       "<table border=\"1\" class=\"dataframe\">\n",
       "  <thead>\n",
       "    <tr style=\"text-align: right;\">\n",
       "      <th></th>\n",
       "      <th>Date</th>\n",
       "      <th>Observed_cases</th>\n",
       "      <th>Pred_GRU_1</th>\n",
       "      <th>Pred_GRU_2</th>\n",
       "      <th>Pred_GRU_3</th>\n",
       "      <th>Pred_mean_GRU</th>\n",
       "    </tr>\n",
       "  </thead>\n",
       "  <tbody>\n",
       "    <tr>\n",
       "      <th>0</th>\n",
       "      <td>2020-04-06</td>\n",
       "      <td>353</td>\n",
       "      <td>818</td>\n",
       "      <td>473</td>\n",
       "      <td>1179</td>\n",
       "      <td>823</td>\n",
       "    </tr>\n",
       "    <tr>\n",
       "      <th>1</th>\n",
       "      <td>2020-04-07</td>\n",
       "      <td>365</td>\n",
       "      <td>908</td>\n",
       "      <td>525</td>\n",
       "      <td>1134</td>\n",
       "      <td>856</td>\n",
       "    </tr>\n",
       "    <tr>\n",
       "      <th>2</th>\n",
       "      <td>2020-04-08</td>\n",
       "      <td>346</td>\n",
       "      <td>812</td>\n",
       "      <td>521</td>\n",
       "      <td>1103</td>\n",
       "      <td>812</td>\n",
       "    </tr>\n",
       "    <tr>\n",
       "      <th>3</th>\n",
       "      <td>2020-04-09</td>\n",
       "      <td>248</td>\n",
       "      <td>802</td>\n",
       "      <td>542</td>\n",
       "      <td>1133</td>\n",
       "      <td>826</td>\n",
       "    </tr>\n",
       "    <tr>\n",
       "      <th>4</th>\n",
       "      <td>2020-04-10</td>\n",
       "      <td>365</td>\n",
       "      <td>828</td>\n",
       "      <td>536</td>\n",
       "      <td>1111</td>\n",
       "      <td>825</td>\n",
       "    </tr>\n",
       "  </tbody>\n",
       "</table>\n",
       "</div>"
      ],
      "text/plain": [
       "         Date  Observed_cases  Pred_GRU_1  Pred_GRU_2  Pred_GRU_3  \\\n",
       "0  2020-04-06             353         818         473        1179   \n",
       "1  2020-04-07             365         908         525        1134   \n",
       "2  2020-04-08             346         812         521        1103   \n",
       "3  2020-04-09             248         802         542        1133   \n",
       "4  2020-04-10             365         828         536        1111   \n",
       "\n",
       "   Pred_mean_GRU  \n",
       "0            823  \n",
       "1            856  \n",
       "2            812  \n",
       "3            826  \n",
       "4            825  "
      ]
     },
     "execution_count": 2,
     "metadata": {},
     "output_type": "execute_result"
    }
   ],
   "source": [
    "df_pred_gru = pd.read_csv('y_pred_gru_avg.csv')\n",
    "print(df_pred_gru.shape)\n",
    "df_pred_gru.head()"
   ]
  },
  {
   "cell_type": "code",
   "execution_count": 3,
   "id": "beginning-tuesday",
   "metadata": {},
   "outputs": [
    {
     "name": "stdout",
     "output_type": "stream",
     "text": [
      "(566, 6)\n"
     ]
    },
    {
     "data": {
      "text/html": [
       "<div>\n",
       "<style scoped>\n",
       "    .dataframe tbody tr th:only-of-type {\n",
       "        vertical-align: middle;\n",
       "    }\n",
       "\n",
       "    .dataframe tbody tr th {\n",
       "        vertical-align: top;\n",
       "    }\n",
       "\n",
       "    .dataframe thead th {\n",
       "        text-align: right;\n",
       "    }\n",
       "</style>\n",
       "<table border=\"1\" class=\"dataframe\">\n",
       "  <thead>\n",
       "    <tr style=\"text-align: right;\">\n",
       "      <th></th>\n",
       "      <th>Date</th>\n",
       "      <th>Observed_cases</th>\n",
       "      <th>Pred_LSTM_1</th>\n",
       "      <th>Pred_LSTM_2</th>\n",
       "      <th>Pred_LSTM_3</th>\n",
       "      <th>Pred_mean_LSTM</th>\n",
       "    </tr>\n",
       "  </thead>\n",
       "  <tbody>\n",
       "    <tr>\n",
       "      <th>0</th>\n",
       "      <td>2020-04-06</td>\n",
       "      <td>353</td>\n",
       "      <td>199</td>\n",
       "      <td>398</td>\n",
       "      <td>1171</td>\n",
       "      <td>589</td>\n",
       "    </tr>\n",
       "    <tr>\n",
       "      <th>1</th>\n",
       "      <td>2020-04-07</td>\n",
       "      <td>365</td>\n",
       "      <td>226</td>\n",
       "      <td>429</td>\n",
       "      <td>1199</td>\n",
       "      <td>618</td>\n",
       "    </tr>\n",
       "    <tr>\n",
       "      <th>2</th>\n",
       "      <td>2020-04-08</td>\n",
       "      <td>346</td>\n",
       "      <td>256</td>\n",
       "      <td>448</td>\n",
       "      <td>1206</td>\n",
       "      <td>637</td>\n",
       "    </tr>\n",
       "    <tr>\n",
       "      <th>3</th>\n",
       "      <td>2020-04-09</td>\n",
       "      <td>248</td>\n",
       "      <td>290</td>\n",
       "      <td>462</td>\n",
       "      <td>1202</td>\n",
       "      <td>651</td>\n",
       "    </tr>\n",
       "    <tr>\n",
       "      <th>4</th>\n",
       "      <td>2020-04-10</td>\n",
       "      <td>365</td>\n",
       "      <td>322</td>\n",
       "      <td>456</td>\n",
       "      <td>1154</td>\n",
       "      <td>644</td>\n",
       "    </tr>\n",
       "  </tbody>\n",
       "</table>\n",
       "</div>"
      ],
      "text/plain": [
       "         Date  Observed_cases  Pred_LSTM_1  Pred_LSTM_2  Pred_LSTM_3  \\\n",
       "0  2020-04-06             353          199          398         1171   \n",
       "1  2020-04-07             365          226          429         1199   \n",
       "2  2020-04-08             346          256          448         1206   \n",
       "3  2020-04-09             248          290          462         1202   \n",
       "4  2020-04-10             365          322          456         1154   \n",
       "\n",
       "   Pred_mean_LSTM  \n",
       "0             589  \n",
       "1             618  \n",
       "2             637  \n",
       "3             651  \n",
       "4             644  "
      ]
     },
     "execution_count": 3,
     "metadata": {},
     "output_type": "execute_result"
    }
   ],
   "source": [
    "df_pred_lstm = pd.read_csv('y_pred_lstm_avg.csv')\n",
    "print(df_pred_lstm.shape)\n",
    "df_pred_lstm.head()"
   ]
  },
  {
   "cell_type": "code",
   "execution_count": 4,
   "id": "careful-necklace",
   "metadata": {},
   "outputs": [
    {
     "name": "stdout",
     "output_type": "stream",
     "text": [
      "(566, 10)\n"
     ]
    },
    {
     "data": {
      "text/html": [
       "<div>\n",
       "<style scoped>\n",
       "    .dataframe tbody tr th:only-of-type {\n",
       "        vertical-align: middle;\n",
       "    }\n",
       "\n",
       "    .dataframe tbody tr th {\n",
       "        vertical-align: top;\n",
       "    }\n",
       "\n",
       "    .dataframe thead th {\n",
       "        text-align: right;\n",
       "    }\n",
       "</style>\n",
       "<table border=\"1\" class=\"dataframe\">\n",
       "  <thead>\n",
       "    <tr style=\"text-align: right;\">\n",
       "      <th></th>\n",
       "      <th>Date</th>\n",
       "      <th>Observed_cases</th>\n",
       "      <th>Pred_GRU_1</th>\n",
       "      <th>Pred_GRU_2</th>\n",
       "      <th>Pred_GRU_3</th>\n",
       "      <th>Pred_mean_GRU</th>\n",
       "      <th>Pred_LSTM_1</th>\n",
       "      <th>Pred_LSTM_2</th>\n",
       "      <th>Pred_LSTM_3</th>\n",
       "      <th>Pred_mean_LSTM</th>\n",
       "    </tr>\n",
       "  </thead>\n",
       "  <tbody>\n",
       "    <tr>\n",
       "      <th>0</th>\n",
       "      <td>2020-04-06</td>\n",
       "      <td>353</td>\n",
       "      <td>818</td>\n",
       "      <td>473</td>\n",
       "      <td>1179</td>\n",
       "      <td>823</td>\n",
       "      <td>199</td>\n",
       "      <td>398</td>\n",
       "      <td>1171</td>\n",
       "      <td>589</td>\n",
       "    </tr>\n",
       "    <tr>\n",
       "      <th>1</th>\n",
       "      <td>2020-04-07</td>\n",
       "      <td>365</td>\n",
       "      <td>908</td>\n",
       "      <td>525</td>\n",
       "      <td>1134</td>\n",
       "      <td>856</td>\n",
       "      <td>226</td>\n",
       "      <td>429</td>\n",
       "      <td>1199</td>\n",
       "      <td>618</td>\n",
       "    </tr>\n",
       "    <tr>\n",
       "      <th>2</th>\n",
       "      <td>2020-04-08</td>\n",
       "      <td>346</td>\n",
       "      <td>812</td>\n",
       "      <td>521</td>\n",
       "      <td>1103</td>\n",
       "      <td>812</td>\n",
       "      <td>256</td>\n",
       "      <td>448</td>\n",
       "      <td>1206</td>\n",
       "      <td>637</td>\n",
       "    </tr>\n",
       "    <tr>\n",
       "      <th>3</th>\n",
       "      <td>2020-04-09</td>\n",
       "      <td>248</td>\n",
       "      <td>802</td>\n",
       "      <td>542</td>\n",
       "      <td>1133</td>\n",
       "      <td>826</td>\n",
       "      <td>290</td>\n",
       "      <td>462</td>\n",
       "      <td>1202</td>\n",
       "      <td>651</td>\n",
       "    </tr>\n",
       "    <tr>\n",
       "      <th>4</th>\n",
       "      <td>2020-04-10</td>\n",
       "      <td>365</td>\n",
       "      <td>828</td>\n",
       "      <td>536</td>\n",
       "      <td>1111</td>\n",
       "      <td>825</td>\n",
       "      <td>322</td>\n",
       "      <td>456</td>\n",
       "      <td>1154</td>\n",
       "      <td>644</td>\n",
       "    </tr>\n",
       "  </tbody>\n",
       "</table>\n",
       "</div>"
      ],
      "text/plain": [
       "         Date  Observed_cases  Pred_GRU_1  Pred_GRU_2  Pred_GRU_3  \\\n",
       "0  2020-04-06             353         818         473        1179   \n",
       "1  2020-04-07             365         908         525        1134   \n",
       "2  2020-04-08             346         812         521        1103   \n",
       "3  2020-04-09             248         802         542        1133   \n",
       "4  2020-04-10             365         828         536        1111   \n",
       "\n",
       "   Pred_mean_GRU  Pred_LSTM_1  Pred_LSTM_2  Pred_LSTM_3  Pred_mean_LSTM  \n",
       "0            823          199          398         1171             589  \n",
       "1            856          226          429         1199             618  \n",
       "2            812          256          448         1206             637  \n",
       "3            826          290          462         1202             651  \n",
       "4            825          322          456         1154             644  "
      ]
     },
     "execution_count": 4,
     "metadata": {},
     "output_type": "execute_result"
    }
   ],
   "source": [
    "df = pd.concat([df_pred_gru,df_pred_lstm[['Pred_LSTM_1','Pred_LSTM_2','Pred_LSTM_3','Pred_mean_LSTM']]], axis = 1)\n",
    "print(df.shape)\n",
    "df.head()"
   ]
  },
  {
   "cell_type": "markdown",
   "id": "compact-array",
   "metadata": {},
   "source": [
    "#### 0 LSTM\n",
    "#### 1 GRU"
   ]
  },
  {
   "cell_type": "code",
   "execution_count": 5,
   "id": "passing-prayer",
   "metadata": {},
   "outputs": [],
   "source": [
    "def lstm_or_gru(obs,lstm,gru):\n",
    "    lstm_err = abs(obs - lstm) #absolute err\n",
    "    gru_err = abs(obs - gru)\n",
    "    if(lstm_err < gru_err): return 0 # lstm\n",
    "    else: return 1 # gru"
   ]
  },
  {
   "cell_type": "code",
   "execution_count": 6,
   "id": "amber-amount",
   "metadata": {},
   "outputs": [],
   "source": [
    "res = [] # 0 or 1\n",
    "for index, row in df.iterrows():\n",
    "    res.append(lstm_or_gru(row['Observed_cases'], row['Pred_mean_LSTM'], row['Pred_mean_GRU']))\n",
    "df['Y'] = res"
   ]
  },
  {
   "cell_type": "code",
   "execution_count": 7,
   "id": "original-therapist",
   "metadata": {},
   "outputs": [
    {
     "data": {
      "text/plain": [
       "[<matplotlib.lines.Line2D at 0x225d4626280>]"
      ]
     },
     "execution_count": 7,
     "metadata": {},
     "output_type": "execute_result"
    },
    {
     "data": {
      "image/png": "[encoded data removed]",
      "text/plain": [
       "<Figure size 960x320 with 1 Axes>"
      ]
     },
     "metadata": {
      "needs_background": "light"
     },
     "output_type": "display_data"
    }
   ],
   "source": [
    "from matplotlib.pyplot import figure\n",
    "figure(figsize=(12, 4), dpi=80)\n",
    "plt.plot(res)\n"
   ]
  },
  {
   "cell_type": "code",
   "execution_count": 8,
   "id": "suspected-courtesy",
   "metadata": {},
   "outputs": [
    {
     "data": {
      "text/plain": [
       "(array([366.,   0.,   0.,   0.,   0.,   0.,   0.,   0.,   0., 200.]),\n",
       " array([0. , 0.1, 0.2, 0.3, 0.4, 0.5, 0.6, 0.7, 0.8, 0.9, 1. ]),\n",
       " <BarContainer object of 10 artists>)"
      ]
     },
     "execution_count": 8,
     "metadata": {},
     "output_type": "execute_result"
    },
    {
     "data": {
      "image/png": "[encoded data removed]",
      "text/plain": [
       "<Figure size 432x288 with 1 Axes>"
      ]
     },
     "metadata": {
      "needs_background": "light"
     },
     "output_type": "display_data"
    }
   ],
   "source": [
    "plt.hist(res)"
   ]
  },
  {
   "cell_type": "code",
   "execution_count": 9,
   "id": "thrown-chart",
   "metadata": {},
   "outputs": [
    {
     "data": {
      "text/plain": [
       "<matplotlib.legend.Legend at 0x225d6719b20>"
      ]
     },
     "execution_count": 9,
     "metadata": {},
     "output_type": "execute_result"
    },
    {
     "data": {
      "image/png": "[encoded data removed]",
      "text/plain": [
       "<Figure size 960x320 with 1 Axes>"
      ]
     },
     "metadata": {
      "needs_background": "light"
     },
     "output_type": "display_data"
    }
   ],
   "source": [
    "from matplotlib.pyplot import figure\n",
    "figure(figsize=(12, 4), dpi=80)\n",
    "\n",
    "plt.plot(df['Observed_cases'], label='Observed')\n",
    "plt.plot(df['Pred_mean_GRU'])\n",
    "plt.plot(df['Pred_mean_LSTM'])\n",
    "plt.legend()"
   ]
  },
  {
   "cell_type": "code",
   "execution_count": 48,
   "id": "happy-costs",
   "metadata": {},
   "outputs": [
    {
     "data": {
      "text/plain": [
       "509"
      ]
     },
     "execution_count": 48,
     "metadata": {},
     "output_type": "execute_result"
    }
   ],
   "source": [
    "split_point = int(len(df)*9/10)\n",
    "split_point"
   ]
  },
  {
   "cell_type": "code",
   "execution_count": 49,
   "id": "unusual-championship",
   "metadata": {},
   "outputs": [
    {
     "name": "stdout",
     "output_type": "stream",
     "text": [
      "(566, 2) (566,)\n"
     ]
    }
   ],
   "source": [
    "X = df[['Pred_mean_LSTM','Pred_mean_GRU']]\n",
    "Y = df['Y']\n",
    "print(X.shape, Y.shape)"
   ]
  },
  {
   "cell_type": "code",
   "execution_count": 50,
   "id": "middle-confirmation",
   "metadata": {},
   "outputs": [
    {
     "data": {
      "text/plain": [
       "0      0\n",
       "1      0\n",
       "2      0\n",
       "3      0\n",
       "4      0\n",
       "      ..\n",
       "561    0\n",
       "562    0\n",
       "563    0\n",
       "564    0\n",
       "565    0\n",
       "Name: Y, Length: 566, dtype: int64"
      ]
     },
     "execution_count": 50,
     "metadata": {},
     "output_type": "execute_result"
    }
   ],
   "source": [
    "Y"
   ]
  },
  {
   "cell_type": "code",
   "execution_count": 51,
   "id": "beautiful-bible",
   "metadata": {},
   "outputs": [
    {
     "name": "stdout",
     "output_type": "stream",
     "text": [
      "(509, 2) (509,)\n",
      "(57, 2) (57,)\n"
     ]
    }
   ],
   "source": [
    "X_train = X[:split_point]\n",
    "y_train = Y[:split_point]\n",
    "\n",
    "X_val = X[split_point:]\n",
    "y_val = Y[split_point:]\n",
    "print(X_train.shape, y_train.shape)\n",
    "print(X_val.shape, y_val.shape)"
   ]
  },
  {
   "cell_type": "code",
   "execution_count": 52,
   "id": "amino-policy",
   "metadata": {},
   "outputs": [
    {
     "name": "stdout",
     "output_type": "stream",
     "text": [
      "[0]\tvalidation_0-auc:0.78784\n",
      "[1]\tvalidation_0-auc:0.78311\n",
      "[2]\tvalidation_0-auc:0.76824\n",
      "[3]\tvalidation_0-auc:0.76689\n",
      "[4]\tvalidation_0-auc:0.77365\n",
      "[5]\tvalidation_0-auc:0.78311\n",
      "[6]\tvalidation_0-auc:0.78446\n",
      "[7]\tvalidation_0-auc:0.77905\n",
      "[8]\tvalidation_0-auc:0.77905\n",
      "[9]\tvalidation_0-auc:0.78851\n",
      "[10]\tvalidation_0-auc:0.78784\n",
      "[11]\tvalidation_0-auc:0.78784\n",
      "[12]\tvalidation_0-auc:0.78649\n",
      "[13]\tvalidation_0-auc:0.78716\n",
      "[14]\tvalidation_0-auc:0.78581\n",
      "[15]\tvalidation_0-auc:0.78716\n",
      "[16]\tvalidation_0-auc:0.78716\n",
      "[17]\tvalidation_0-auc:0.78987\n",
      "[18]\tvalidation_0-auc:0.78987\n",
      "[19]\tvalidation_0-auc:0.78581\n",
      "[20]\tvalidation_0-auc:0.78716\n",
      "[21]\tvalidation_0-auc:0.78243\n",
      "[22]\tvalidation_0-auc:0.77973\n",
      "[23]\tvalidation_0-auc:0.78243\n",
      "[24]\tvalidation_0-auc:0.78514\n",
      "[25]\tvalidation_0-auc:0.78378\n",
      "[26]\tvalidation_0-auc:0.78514\n",
      "[27]\tvalidation_0-auc:0.78514\n",
      "[28]\tvalidation_0-auc:0.78378\n",
      "[29]\tvalidation_0-auc:0.78108\n",
      "[30]\tvalidation_0-auc:0.78784\n",
      "[31]\tvalidation_0-auc:0.78784\n",
      "[32]\tvalidation_0-auc:0.78919\n",
      "[33]\tvalidation_0-auc:0.78378\n",
      "[34]\tvalidation_0-auc:0.78514\n",
      "[35]\tvalidation_0-auc:0.78649\n",
      "[36]\tvalidation_0-auc:0.78378\n",
      "[37]\tvalidation_0-auc:0.78243\n",
      "[38]\tvalidation_0-auc:0.77703\n",
      "[39]\tvalidation_0-auc:0.77635\n",
      "[40]\tvalidation_0-auc:0.77905\n",
      "[41]\tvalidation_0-auc:0.78446\n",
      "[42]\tvalidation_0-auc:0.78176\n",
      "[43]\tvalidation_0-auc:0.77365\n",
      "[44]\tvalidation_0-auc:0.78446\n",
      "[45]\tvalidation_0-auc:0.78649\n",
      "[46]\tvalidation_0-auc:0.78378\n",
      "[47]\tvalidation_0-auc:0.78784\n",
      "[48]\tvalidation_0-auc:0.78243\n",
      "[49]\tvalidation_0-auc:0.78514\n",
      "[50]\tvalidation_0-auc:0.78108\n",
      "[51]\tvalidation_0-auc:0.77973\n",
      "[52]\tvalidation_0-auc:0.78108\n",
      "[53]\tvalidation_0-auc:0.78378\n",
      "[54]\tvalidation_0-auc:0.78514\n",
      "[55]\tvalidation_0-auc:0.78243\n",
      "[56]\tvalidation_0-auc:0.78243\n",
      "[57]\tvalidation_0-auc:0.78649\n",
      "[58]\tvalidation_0-auc:0.78649\n",
      "[59]\tvalidation_0-auc:0.78649\n",
      "[60]\tvalidation_0-auc:0.78649\n",
      "[61]\tvalidation_0-auc:0.78784\n",
      "[62]\tvalidation_0-auc:0.78378\n",
      "[63]\tvalidation_0-auc:0.78378\n",
      "[64]\tvalidation_0-auc:0.78378\n",
      "[65]\tvalidation_0-auc:0.78243\n",
      "[66]\tvalidation_0-auc:0.78378\n",
      "[67]\tvalidation_0-auc:0.78514\n",
      "[68]\tvalidation_0-auc:0.78378\n",
      "[69]\tvalidation_0-auc:0.78378\n",
      "[70]\tvalidation_0-auc:0.78108\n"
     ]
    },
    {
     "name": "stderr",
     "output_type": "stream",
     "text": [
      "C:\\Users\\maidu\\.conda\\envs\\tf\\lib\\site-packages\\xgboost\\sklearn.py:888: UserWarning: The use of label encoder in XGBClassifier is deprecated and will be removed in a future release. To remove this warning, do the following: 1) Pass option use_label_encoder=False when constructing XGBClassifier object; and 2) Encode your labels (y) as integers starting with 0, i.e. 0, 1, 2, ..., [num_class - 1].\n",
      "  warnings.warn(label_encoder_deprecation_msg, UserWarning)\n"
     ]
    },
    {
     "name": "stdout",
     "output_type": "stream",
     "text": [
      "[71]\tvalidation_0-auc:0.78108\n",
      "[72]\tvalidation_0-auc:0.78243\n",
      "[73]\tvalidation_0-auc:0.77838\n",
      "[74]\tvalidation_0-auc:0.77838\n",
      "[75]\tvalidation_0-auc:0.78108\n",
      "[76]\tvalidation_0-auc:0.77973\n",
      "[77]\tvalidation_0-auc:0.77973\n",
      "[78]\tvalidation_0-auc:0.78108\n",
      "[79]\tvalidation_0-auc:0.78108\n",
      "[80]\tvalidation_0-auc:0.77973\n",
      "[81]\tvalidation_0-auc:0.77973\n",
      "[82]\tvalidation_0-auc:0.77973\n",
      "[83]\tvalidation_0-auc:0.78108\n",
      "[84]\tvalidation_0-auc:0.77838\n",
      "[85]\tvalidation_0-auc:0.78108\n",
      "[86]\tvalidation_0-auc:0.77973\n",
      "[87]\tvalidation_0-auc:0.78378\n",
      "[88]\tvalidation_0-auc:0.78378\n",
      "[89]\tvalidation_0-auc:0.78108\n",
      "[90]\tvalidation_0-auc:0.78243\n",
      "[91]\tvalidation_0-auc:0.78514\n",
      "[92]\tvalidation_0-auc:0.77973\n",
      "[93]\tvalidation_0-auc:0.77838\n",
      "[94]\tvalidation_0-auc:0.78108\n",
      "[95]\tvalidation_0-auc:0.78243\n",
      "[96]\tvalidation_0-auc:0.78243\n",
      "[97]\tvalidation_0-auc:0.78108\n",
      "[98]\tvalidation_0-auc:0.77973\n",
      "[99]\tvalidation_0-auc:0.77973\n"
     ]
    }
   ],
   "source": [
    "# binary classifying\n",
    "clf_xbg = xgb.XGBClassifier(objective='binary:logistic')\n",
    "train_process = clf_xbg.fit(X_train, y_train, verbose=True, early_stopping_rounds=200,\n",
    "                            eval_metric='auc', eval_set=[(X_val, y_val)])"
   ]
  },
  {
   "cell_type": "code",
   "execution_count": 53,
   "id": "beginning-domestic",
   "metadata": {},
   "outputs": [],
   "source": [
    "y_pred = clf_xbg.predict(X_val)"
   ]
  },
  {
   "cell_type": "code",
   "execution_count": 54,
   "id": "transparent-amount",
   "metadata": {},
   "outputs": [
    {
     "data": {
      "text/plain": [
       "<AxesSubplot:>"
      ]
     },
     "execution_count": 54,
     "metadata": {},
     "output_type": "execute_result"
    },
    {
     "data": {
      "image/png": "[encoded data removed]",
      "text/plain": [
       "<Figure size 432x288 with 2 Axes>"
      ]
     },
     "metadata": {
      "needs_background": "light"
     },
     "output_type": "display_data"
    }
   ],
   "source": [
    "cf_matrix = confusion_matrix(y_val, y_pred)\n",
    "sns.heatmap(cf_matrix, annot=True)"
   ]
  },
  {
   "cell_type": "code",
   "execution_count": null,
   "id": "behind-argument",
   "metadata": {},
   "outputs": [],
   "source": []
  },
  {
   "cell_type": "code",
   "execution_count": null,
   "id": "terminal-france",
   "metadata": {},
   "outputs": [],
   "source": []
  },
  {
   "cell_type": "code",
   "execution_count": null,
   "id": "pregnant-saturday",
   "metadata": {},
   "outputs": [],
   "source": []
  }
 ],
 "metadata": {
  "kernelspec": {
   "display_name": "Python 3",
   "language": "python",
   "name": "python3"
  },
  "language_info": {
   "codemirror_mode": {
    "name": "ipython",
    "version": 3
   },
   "file_extension": ".py",
   "mimetype": "text/x-python",
   "name": "python",
   "nbconvert_exporter": "python",
   "pygments_lexer": "ipython3",
   "version": "3.8.5"
  }
 },
 "nbformat": 4,
 "nbformat_minor": 5
}
