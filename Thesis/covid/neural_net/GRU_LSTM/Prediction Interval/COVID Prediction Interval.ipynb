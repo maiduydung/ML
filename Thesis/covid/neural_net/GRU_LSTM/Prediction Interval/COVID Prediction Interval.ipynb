{
 "cells": [
  {
   "cell_type": "code",
   "execution_count": 1,
   "id": "funded-campaign",
   "metadata": {},
   "outputs": [],
   "source": [
    "import numpy as np\n",
    "import pandas as pd\n",
    "import matplotlib.pyplot as plt\n",
    "from keras.models import Sequential, load_model\n",
    "from keras.layers import LSTM, GRU, Dense, Dropout\n",
    "from keras.callbacks import EarlyStopping\n",
    "from sklearn.preprocessing import MinMaxScaler\n",
    "from sklearn.metrics import mean_squared_error\n",
    "from keras.preprocessing.sequence import TimeseriesGenerator\n",
    "import tensorflow as tf\n",
    "from keras.callbacks import EarlyStopping, ModelCheckpoint\n",
    "from keras.models import load_model\n"
   ]
  },
  {
   "cell_type": "code",
   "execution_count": 2,
   "id": "universal-recall",
   "metadata": {},
   "outputs": [],
   "source": [
    "import warnings\n",
    "warnings.filterwarnings('ignore')\n",
    "\n",
    "import os\n",
    "os.environ['TF_CPP_MIN_LOG_LEVEL'] = '3'  #disable tensorflow warnings"
   ]
  },
  {
   "cell_type": "code",
   "execution_count": 3,
   "id": "defined-nicholas",
   "metadata": {},
   "outputs": [],
   "source": [
    "\n",
    "def read_from_source():\n",
    "    df = pd.read_csv('https://toyokeizai.net/sp/visual/tko/covid19/csv/pcr_positive_daily.csv')\n",
    "    df = df.rename(columns={'日付': 'Date', 'PCR 検査陽性者数(単日)': 'Infected'}) #renaming from Japanese to English\n",
    "    df['Date'] = pd.to_datetime(df['Date'])\n",
    "    return df\n",
    "\n",
    "\n",
    "\n",
    "def pred_covid(model_name, df, model_idx): #GRU or LSTM\n",
    "    #model = load_model('../'+model_name +'_infected_only_GRU_LSTM_Oct16.h5') #best\n",
    "    model = load_model('LSTM_GRU_Oct23_relu/' + model_name +'_infected_only_Oct23_'+str(model_idx)+'.h5')\n",
    "    print(model_name,'loaded')\n",
    "\n",
    "    #constant\n",
    "    n_steps_in = 14\n",
    "    n_steps_out = 4\n",
    "    sc = MinMaxScaler(feature_range = (0, 1))\n",
    "    \n",
    "    x_input = df['Infected'][-n_steps_in:].values # last 14 day\n",
    "    x_input = sc.fit_transform(x_input.reshape(len(x_input), 1))\n",
    "    x_input = x_input.reshape((1, n_steps_in, 1))\n",
    "    \n",
    "    #y_pred = model.predict(x_input) # too much warnings\n",
    "    y_pred = model(x_input)\n",
    "    y_pred = sc.inverse_transform(y_pred) #revert scaling\n",
    "    #print('Next 4 days prediction:', y_pred)\n",
    "    \n",
    "    start_date = str(df['Date'].iloc[-14])[:10]\n",
    "    end_date = df['Date'].iloc[-15] + pd.Timedelta(18, unit='D')                  \n",
    "    end_date = str(end_date)[:10]\n",
    "    #print(start_date,'---', end_date)\n",
    "    time_range = pd.date_range(start=start_date, end=end_date)\n",
    "    \n",
    "    pred_list = list(zip(time_range[-4:].strftime('%Y-%m-%d'), y_pred[0,:]))\n",
    "    return pd.DataFrame (pred_list, columns = ['Date', 'Predict Infected'])"
   ]
  },
  {
   "cell_type": "code",
   "execution_count": 4,
   "id": "skilled-criticism",
   "metadata": {},
   "outputs": [
    {
     "data": {
      "text/html": [
       "<div>\n",
       "<style scoped>\n",
       "    .dataframe tbody tr th:only-of-type {\n",
       "        vertical-align: middle;\n",
       "    }\n",
       "\n",
       "    .dataframe tbody tr th {\n",
       "        vertical-align: top;\n",
       "    }\n",
       "\n",
       "    .dataframe thead th {\n",
       "        text-align: right;\n",
       "    }\n",
       "</style>\n",
       "<table border=\"1\" class=\"dataframe\">\n",
       "  <thead>\n",
       "    <tr style=\"text-align: right;\">\n",
       "      <th></th>\n",
       "      <th>Date</th>\n",
       "      <th>Infected</th>\n",
       "    </tr>\n",
       "  </thead>\n",
       "  <tbody>\n",
       "    <tr>\n",
       "      <th>0</th>\n",
       "      <td>2020-01-16</td>\n",
       "      <td>1.0</td>\n",
       "    </tr>\n",
       "    <tr>\n",
       "      <th>1</th>\n",
       "      <td>2020-01-17</td>\n",
       "      <td>0.0</td>\n",
       "    </tr>\n",
       "    <tr>\n",
       "      <th>2</th>\n",
       "      <td>2020-01-18</td>\n",
       "      <td>0.0</td>\n",
       "    </tr>\n",
       "    <tr>\n",
       "      <th>3</th>\n",
       "      <td>2020-01-19</td>\n",
       "      <td>0.0</td>\n",
       "    </tr>\n",
       "    <tr>\n",
       "      <th>4</th>\n",
       "      <td>2020-01-20</td>\n",
       "      <td>0.0</td>\n",
       "    </tr>\n",
       "    <tr>\n",
       "      <th>...</th>\n",
       "      <td>...</td>\n",
       "      <td>...</td>\n",
       "    </tr>\n",
       "    <tr>\n",
       "      <th>641</th>\n",
       "      <td>2021-10-18</td>\n",
       "      <td>223.0</td>\n",
       "    </tr>\n",
       "    <tr>\n",
       "      <th>642</th>\n",
       "      <td>2021-10-19</td>\n",
       "      <td>367.0</td>\n",
       "    </tr>\n",
       "    <tr>\n",
       "      <th>643</th>\n",
       "      <td>2021-10-20</td>\n",
       "      <td>387.0</td>\n",
       "    </tr>\n",
       "    <tr>\n",
       "      <th>644</th>\n",
       "      <td>2021-10-21</td>\n",
       "      <td>334.0</td>\n",
       "    </tr>\n",
       "    <tr>\n",
       "      <th>645</th>\n",
       "      <td>2021-10-22</td>\n",
       "      <td>324.0</td>\n",
       "    </tr>\n",
       "  </tbody>\n",
       "</table>\n",
       "<p>646 rows × 2 columns</p>\n",
       "</div>"
      ],
      "text/plain": [
       "          Date  Infected\n",
       "0   2020-01-16       1.0\n",
       "1   2020-01-17       0.0\n",
       "2   2020-01-18       0.0\n",
       "3   2020-01-19       0.0\n",
       "4   2020-01-20       0.0\n",
       "..         ...       ...\n",
       "641 2021-10-18     223.0\n",
       "642 2021-10-19     367.0\n",
       "643 2021-10-20     387.0\n",
       "644 2021-10-21     334.0\n",
       "645 2021-10-22     324.0\n",
       "\n",
       "[646 rows x 2 columns]"
      ]
     },
     "execution_count": 4,
     "metadata": {},
     "output_type": "execute_result"
    }
   ],
   "source": [
    "df = read_from_source()\n",
    "df"
   ]
  },
  {
   "cell_type": "code",
   "execution_count": 5,
   "id": "realistic-compilation",
   "metadata": {},
   "outputs": [
    {
     "data": {
      "text/html": [
       "<div>\n",
       "<style scoped>\n",
       "    .dataframe tbody tr th:only-of-type {\n",
       "        vertical-align: middle;\n",
       "    }\n",
       "\n",
       "    .dataframe tbody tr th {\n",
       "        vertical-align: top;\n",
       "    }\n",
       "\n",
       "    .dataframe thead th {\n",
       "        text-align: right;\n",
       "    }\n",
       "</style>\n",
       "<table border=\"1\" class=\"dataframe\">\n",
       "  <thead>\n",
       "    <tr style=\"text-align: right;\">\n",
       "      <th></th>\n",
       "      <th>Date</th>\n",
       "      <th>Infected</th>\n",
       "    </tr>\n",
       "  </thead>\n",
       "  <tbody>\n",
       "    <tr>\n",
       "      <th>632</th>\n",
       "      <td>2021-10-09</td>\n",
       "      <td>770.0</td>\n",
       "    </tr>\n",
       "    <tr>\n",
       "      <th>633</th>\n",
       "      <td>2021-10-10</td>\n",
       "      <td>546.0</td>\n",
       "    </tr>\n",
       "    <tr>\n",
       "      <th>634</th>\n",
       "      <td>2021-10-11</td>\n",
       "      <td>359.0</td>\n",
       "    </tr>\n",
       "    <tr>\n",
       "      <th>635</th>\n",
       "      <td>2021-10-12</td>\n",
       "      <td>609.0</td>\n",
       "    </tr>\n",
       "    <tr>\n",
       "      <th>636</th>\n",
       "      <td>2021-10-13</td>\n",
       "      <td>723.0</td>\n",
       "    </tr>\n",
       "    <tr>\n",
       "      <th>637</th>\n",
       "      <td>2021-10-14</td>\n",
       "      <td>612.0</td>\n",
       "    </tr>\n",
       "    <tr>\n",
       "      <th>638</th>\n",
       "      <td>2021-10-15</td>\n",
       "      <td>522.0</td>\n",
       "    </tr>\n",
       "    <tr>\n",
       "      <th>639</th>\n",
       "      <td>2021-10-16</td>\n",
       "      <td>502.0</td>\n",
       "    </tr>\n",
       "    <tr>\n",
       "      <th>640</th>\n",
       "      <td>2021-10-17</td>\n",
       "      <td>425.0</td>\n",
       "    </tr>\n",
       "    <tr>\n",
       "      <th>641</th>\n",
       "      <td>2021-10-18</td>\n",
       "      <td>223.0</td>\n",
       "    </tr>\n",
       "    <tr>\n",
       "      <th>642</th>\n",
       "      <td>2021-10-19</td>\n",
       "      <td>367.0</td>\n",
       "    </tr>\n",
       "    <tr>\n",
       "      <th>643</th>\n",
       "      <td>2021-10-20</td>\n",
       "      <td>387.0</td>\n",
       "    </tr>\n",
       "    <tr>\n",
       "      <th>644</th>\n",
       "      <td>2021-10-21</td>\n",
       "      <td>334.0</td>\n",
       "    </tr>\n",
       "    <tr>\n",
       "      <th>645</th>\n",
       "      <td>2021-10-22</td>\n",
       "      <td>324.0</td>\n",
       "    </tr>\n",
       "  </tbody>\n",
       "</table>\n",
       "</div>"
      ],
      "text/plain": [
       "          Date  Infected\n",
       "632 2021-10-09     770.0\n",
       "633 2021-10-10     546.0\n",
       "634 2021-10-11     359.0\n",
       "635 2021-10-12     609.0\n",
       "636 2021-10-13     723.0\n",
       "637 2021-10-14     612.0\n",
       "638 2021-10-15     522.0\n",
       "639 2021-10-16     502.0\n",
       "640 2021-10-17     425.0\n",
       "641 2021-10-18     223.0\n",
       "642 2021-10-19     367.0\n",
       "643 2021-10-20     387.0\n",
       "644 2021-10-21     334.0\n",
       "645 2021-10-22     324.0"
      ]
     },
     "execution_count": 5,
     "metadata": {},
     "output_type": "execute_result"
    }
   ],
   "source": [
    "df[-14:]"
   ]
  },
  {
   "cell_type": "code",
   "execution_count": 17,
   "id": "thick-consumption",
   "metadata": {},
   "outputs": [
    {
     "name": "stdout",
     "output_type": "stream",
     "text": [
      "GRU loaded\n"
     ]
    },
    {
     "data": {
      "text/html": [
       "<div>\n",
       "<style scoped>\n",
       "    .dataframe tbody tr th:only-of-type {\n",
       "        vertical-align: middle;\n",
       "    }\n",
       "\n",
       "    .dataframe tbody tr th {\n",
       "        vertical-align: top;\n",
       "    }\n",
       "\n",
       "    .dataframe thead th {\n",
       "        text-align: right;\n",
       "    }\n",
       "</style>\n",
       "<table border=\"1\" class=\"dataframe\">\n",
       "  <thead>\n",
       "    <tr style=\"text-align: right;\">\n",
       "      <th></th>\n",
       "      <th>Date</th>\n",
       "      <th>Predict Infected</th>\n",
       "    </tr>\n",
       "  </thead>\n",
       "  <tbody>\n",
       "    <tr>\n",
       "      <th>0</th>\n",
       "      <td>2021-10-23</td>\n",
       "      <td>247.355699</td>\n",
       "    </tr>\n",
       "    <tr>\n",
       "      <th>1</th>\n",
       "      <td>2021-10-24</td>\n",
       "      <td>318.174313</td>\n",
       "    </tr>\n",
       "    <tr>\n",
       "      <th>2</th>\n",
       "      <td>2021-10-25</td>\n",
       "      <td>264.933949</td>\n",
       "    </tr>\n",
       "    <tr>\n",
       "      <th>3</th>\n",
       "      <td>2021-10-26</td>\n",
       "      <td>223.000000</td>\n",
       "    </tr>\n",
       "  </tbody>\n",
       "</table>\n",
       "</div>"
      ],
      "text/plain": [
       "         Date  Predict Infected\n",
       "0  2021-10-23        247.355699\n",
       "1  2021-10-24        318.174313\n",
       "2  2021-10-25        264.933949\n",
       "3  2021-10-26        223.000000"
      ]
     },
     "execution_count": 17,
     "metadata": {},
     "output_type": "execute_result"
    }
   ],
   "source": [
    "pred_covid('GRU', df,3)"
   ]
  },
  {
   "cell_type": "code",
   "execution_count": 13,
   "id": "thrown-evening",
   "metadata": {},
   "outputs": [],
   "source": [
    "def get_prediction(model, df): #model = 'GRU' or 'LSTM'\n",
    "    pred_arr = []\n",
    "    for model_idx in [1,2,3]:\n",
    "        #print(model,model_idx,pred_covid(model, df,model_idx))\n",
    "        pred_arr.append(np.array(pred_covid(model, df,model_idx)['Predict Infected'].values))\n",
    "    return np.array(pred_arr)"
   ]
  },
  {
   "cell_type": "code",
   "execution_count": 84,
   "id": "choice-guatemala",
   "metadata": {},
   "outputs": [],
   "source": [
    "def get_PI(pred_arr):\n",
    "    intervals = []\n",
    "    means = []\n",
    "    uppers = []\n",
    "    lowers = []\n",
    "    for idx in [0,1,2,3]:\n",
    "        cov_std = pred_arr[:,idx].std()\n",
    "        cov_interval = cov_std*1.96\n",
    "        cov_mean = pred_arr[:,idx].mean()\n",
    "        cov_lower = cov_mean - cov_interval\n",
    "        cov_upper = cov_mean + cov_interval\n",
    "        print(pred_arr[:,idx], 'Interval: ',cov_interval , 'Upper: ',cov_lower, 'Mean: ',cov_mean, 'Upper: ',cov_upper)\n",
    "        \n",
    "        intervals.append(int(cov_interval))\n",
    "        means.append(int(cov_mean))\n",
    "        uppers.append(int(cov_upper))\n",
    "        lowers.append(int(cov_lower))\n",
    "    \n",
    "    return intervals, means, uppers, lowers"
   ]
  },
  {
   "cell_type": "code",
   "execution_count": 85,
   "id": "educated-provincial",
   "metadata": {},
   "outputs": [
    {
     "name": "stdout",
     "output_type": "stream",
     "text": [
      "GRU loaded\n",
      "GRU loaded\n",
      "GRU loaded\n",
      "[304.15377533 291.40297401 247.35569935] Interval:  47.69228966349602 Upper:  233.2785265687681 Mean:  280.9708162322641 Upper:  328.6631058957601\n",
      "[307.32767613 300.19564861 318.17431304] Interval:  14.487918545639518 Upper:  294.07796071486086 Mean:  308.56587926050037 Upper:  323.05379780613987\n",
      "[329.43901956 251.26101005 264.93394909] Interval:  66.81800232639269 Upper:  215.0599905755584 Mean:  281.8779929019511 Upper:  348.69599522834375\n",
      "[330.3789365  294.62093876 223.        ] Interval:  87.50382207740222 Upper:  195.1628030100577 Mean:  282.6666250874599 Upper:  370.17044716486214\n",
      "Wall time: 5.19 s\n"
     ]
    }
   ],
   "source": [
    "%%time\n",
    "GRU_pred_arr = get_prediction('GRU',df)\n",
    "cov_intervals, cov_means, cov_uppers, cov_lowers = get_PI(GRU_pred_arr)\n"
   ]
  },
  {
   "cell_type": "code",
   "execution_count": 72,
   "id": "harmful-football",
   "metadata": {},
   "outputs": [
    {
     "data": {
      "text/plain": [
       "array([[304.15377533, 307.32767613, 329.43901956, 330.3789365 ],\n",
       "       [291.40297401, 300.19564861, 251.26101005, 294.62093876],\n",
       "       [247.35569935, 318.17431304, 264.93394909, 223.        ]])"
      ]
     },
     "execution_count": 72,
     "metadata": {},
     "output_type": "execute_result"
    }
   ],
   "source": [
    "GRU_pred_arr"
   ]
  },
  {
   "cell_type": "code",
   "execution_count": 73,
   "id": "heated-depression",
   "metadata": {},
   "outputs": [
    {
     "data": {
      "text/plain": [
       "[280, 308, 281, 282]"
      ]
     },
     "execution_count": 73,
     "metadata": {},
     "output_type": "execute_result"
    }
   ],
   "source": [
    "cov_means"
   ]
  },
  {
   "cell_type": "code",
   "execution_count": 74,
   "id": "logical-license",
   "metadata": {},
   "outputs": [],
   "source": [
    "y = cov_means\n"
   ]
  },
  {
   "cell_type": "code",
   "execution_count": 75,
   "id": "opened-blackberry",
   "metadata": {},
   "outputs": [],
   "source": [
    "time_range = pd.date_range(start='2021-10-09', end='2021-10-26')\n"
   ]
  },
  {
   "cell_type": "code",
   "execution_count": 76,
   "id": "unexpected-allergy",
   "metadata": {},
   "outputs": [
    {
     "data": {
      "text/plain": [
       "DatetimeIndex(['2021-10-09', '2021-10-10', '2021-10-11', '2021-10-12',\n",
       "               '2021-10-13', '2021-10-14', '2021-10-15', '2021-10-16',\n",
       "               '2021-10-17', '2021-10-18', '2021-10-19', '2021-10-20',\n",
       "               '2021-10-21', '2021-10-22'],\n",
       "              dtype='datetime64[ns]', freq='D')"
      ]
     },
     "execution_count": 76,
     "metadata": {},
     "output_type": "execute_result"
    }
   ],
   "source": [
    "time_range[:-4]"
   ]
  },
  {
   "cell_type": "code",
   "execution_count": 77,
   "id": "crucial-dress",
   "metadata": {},
   "outputs": [
    {
     "data": {
      "text/plain": [
       "632    770.0\n",
       "633    546.0\n",
       "634    359.0\n",
       "635    609.0\n",
       "636    723.0\n",
       "637    612.0\n",
       "638    522.0\n",
       "639    502.0\n",
       "640    425.0\n",
       "641    223.0\n",
       "642    367.0\n",
       "643    387.0\n",
       "644    334.0\n",
       "645    324.0\n",
       "Name: Infected, dtype: float64"
      ]
     },
     "execution_count": 77,
     "metadata": {},
     "output_type": "execute_result"
    }
   ],
   "source": [
    "df['Infected'][-14:]"
   ]
  },
  {
   "cell_type": "code",
   "execution_count": 78,
   "id": "designing-personal",
   "metadata": {},
   "outputs": [
    {
     "data": {
      "text/plain": [
       "[47, 14, 66, 87]"
      ]
     },
     "execution_count": 78,
     "metadata": {},
     "output_type": "execute_result"
    }
   ],
   "source": [
    "cov_intervals"
   ]
  },
  {
   "cell_type": "code",
   "execution_count": 79,
   "id": "hired-signature",
   "metadata": {},
   "outputs": [
    {
     "data": {
      "image/png": "[encoded data removed]",
      "text/plain": [
       "<Figure size 1440x400 with 1 Axes>"
      ]
     },
     "metadata": {
      "needs_background": "light"
     },
     "output_type": "display_data"
    }
   ],
   "source": [
    "from matplotlib.pyplot import figure\n",
    "figure(figsize=(18, 5), dpi=80)\n",
    "\n",
    "plt.plot(time_range[:-4],df['Infected'][-14:], label='Observed')\n",
    "plt.plot(time_range[-4:],y, label='Prediction')\n",
    "\n",
    "plt.errorbar(time_range[-4], y[0], yerr=cov_intervals[0] , color='black', fmt='o', label='95% Prediction Interval')\n",
    "plt.errorbar(time_range[-3], y[1], yerr=cov_intervals[1] , color='black', fmt='o')\n",
    "plt.errorbar(time_range[-2], y[2], yerr=cov_intervals[2], color='black', fmt='o')\n",
    "plt.errorbar(time_range[-1], y[3], yerr=cov_intervals[3], color='black', fmt='o')\n",
    "\n",
    "plt.xlabel('Date')\n",
    "plt.ylabel('Cases')\n",
    "plt.xticks(time_range,rotation=45)\n",
    "plt.title('COVID-19 Prediction in Japan \\nfrom 2021-10-09 to 2021-10-09 with GRU')\n",
    "plt.legend()\n",
    "plt.show()"
   ]
  },
  {
   "cell_type": "code",
   "execution_count": null,
   "id": "competent-lawsuit",
   "metadata": {},
   "outputs": [],
   "source": []
  },
  {
   "cell_type": "code",
   "execution_count": null,
   "id": "romantic-spirit",
   "metadata": {},
   "outputs": [],
   "source": []
  },
  {
   "cell_type": "code",
   "execution_count": null,
   "id": "parliamentary-geneva",
   "metadata": {},
   "outputs": [],
   "source": []
  },
  {
   "cell_type": "code",
   "execution_count": null,
   "id": "inner-quality",
   "metadata": {},
   "outputs": [],
   "source": []
  },
  {
   "cell_type": "code",
   "execution_count": null,
   "id": "hispanic-uruguay",
   "metadata": {},
   "outputs": [],
   "source": []
  },
  {
   "cell_type": "markdown",
   "id": "suspected-breed",
   "metadata": {},
   "source": [
    "### Read data from source"
   ]
  },
  {
   "cell_type": "code",
   "execution_count": 9,
   "id": "happy-reaction",
   "metadata": {},
   "outputs": [
    {
     "name": "stdout",
     "output_type": "stream",
     "text": [
      "Date        datetime64[ns]\n",
      "Infected           float64\n",
      "dtype: object\n",
      "(640, 2)\n"
     ]
    },
    {
     "data": {
      "text/html": [
       "<div>\n",
       "<style scoped>\n",
       "    .dataframe tbody tr th:only-of-type {\n",
       "        vertical-align: middle;\n",
       "    }\n",
       "\n",
       "    .dataframe tbody tr th {\n",
       "        vertical-align: top;\n",
       "    }\n",
       "\n",
       "    .dataframe thead th {\n",
       "        text-align: right;\n",
       "    }\n",
       "</style>\n",
       "<table border=\"1\" class=\"dataframe\">\n",
       "  <thead>\n",
       "    <tr style=\"text-align: right;\">\n",
       "      <th></th>\n",
       "      <th>Date</th>\n",
       "      <th>Infected</th>\n",
       "    </tr>\n",
       "  </thead>\n",
       "  <tbody>\n",
       "    <tr>\n",
       "      <th>635</th>\n",
       "      <td>2021-10-12</td>\n",
       "      <td>609.0</td>\n",
       "    </tr>\n",
       "    <tr>\n",
       "      <th>636</th>\n",
       "      <td>2021-10-13</td>\n",
       "      <td>723.0</td>\n",
       "    </tr>\n",
       "    <tr>\n",
       "      <th>637</th>\n",
       "      <td>2021-10-14</td>\n",
       "      <td>612.0</td>\n",
       "    </tr>\n",
       "    <tr>\n",
       "      <th>638</th>\n",
       "      <td>2021-10-15</td>\n",
       "      <td>522.0</td>\n",
       "    </tr>\n",
       "    <tr>\n",
       "      <th>639</th>\n",
       "      <td>2021-10-16</td>\n",
       "      <td>502.0</td>\n",
       "    </tr>\n",
       "  </tbody>\n",
       "</table>\n",
       "</div>"
      ],
      "text/plain": [
       "          Date  Infected\n",
       "635 2021-10-12     609.0\n",
       "636 2021-10-13     723.0\n",
       "637 2021-10-14     612.0\n",
       "638 2021-10-15     522.0\n",
       "639 2021-10-16     502.0"
      ]
     },
     "execution_count": 9,
     "metadata": {},
     "output_type": "execute_result"
    }
   ],
   "source": [
    "df = pd.read_csv('https://toyokeizai.net/sp/visual/tko/covid19/csv/pcr_positive_daily.csv')\n",
    "df = df.rename(columns={'日付': 'Date', 'PCR 検査陽性者数(単日)': 'Infected'}) #renaming from Japanese to English\n",
    "df['Date'] = pd.to_datetime(df['Date'])\n",
    "print(df.dtypes)\n",
    "print(df.shape)\n",
    "df.tail()"
   ]
  },
  {
   "cell_type": "markdown",
   "id": "difficult-expansion",
   "metadata": {},
   "source": [
    "### Load GRU"
   ]
  },
  {
   "cell_type": "code",
   "execution_count": 10,
   "id": "respective-victorian",
   "metadata": {},
   "outputs": [
    {
     "data": {
      "text/plain": [
       "<tensorflow.python.keras.engine.sequential.Sequential at 0x2aacf58b700>"
      ]
     },
     "execution_count": 10,
     "metadata": {},
     "output_type": "execute_result"
    }
   ],
   "source": [
    "model_GRU = load_model('../GRU_infected_only_GRU_LSTM_Oct16.h5')\n",
    "model_GRU"
   ]
  },
  {
   "cell_type": "code",
   "execution_count": 11,
   "id": "strange-exposure",
   "metadata": {},
   "outputs": [],
   "source": [
    "n_steps_in = 14\n",
    "n_steps_out = 4"
   ]
  },
  {
   "cell_type": "code",
   "execution_count": 12,
   "id": "blank-chest",
   "metadata": {},
   "outputs": [],
   "source": [
    "# Feature Scaling\n",
    "sc = MinMaxScaler(feature_range = (0, 1))"
   ]
  },
  {
   "cell_type": "code",
   "execution_count": 13,
   "id": "prescription-detail",
   "metadata": {},
   "outputs": [
    {
     "name": "stdout",
     "output_type": "stream",
     "text": [
      "(1, 14, 1)\n"
     ]
    }
   ],
   "source": [
    "x_input = df['Infected'][-n_steps_in:].values # last 14 day\n",
    "x_input = sc.fit_transform(x_input.reshape(len(x_input), 1))\n",
    "x_input = x_input.reshape((1, n_steps_in, 1))\n",
    "print(x_input.shape)"
   ]
  },
  {
   "cell_type": "code",
   "execution_count": 14,
   "id": "periodic-dryer",
   "metadata": {},
   "outputs": [
    {
     "name": "stdout",
     "output_type": "stream",
     "text": [
      "[[443.1138  404.28793 357.68634 331.58417]]\n"
     ]
    }
   ],
   "source": [
    "y_pred_GRU = model_GRU.predict(x_input)\n",
    "y_pred_GRU = sc.inverse_transform(y_pred_GRU) #revert scaling\n",
    "print(y_pred_GRU)"
   ]
  },
  {
   "cell_type": "code",
   "execution_count": 15,
   "id": "controlling-essay",
   "metadata": {},
   "outputs": [
    {
     "name": "stdout",
     "output_type": "stream",
     "text": [
      "[ 959.  576.  971. 1117.  969.  824.  770.  546.  359.  609.  723.  612.\n",
      "  522.  502.]\n"
     ]
    }
   ],
   "source": [
    "x_input_raw = df['Infected'][-n_steps_in:].values\n",
    "print(x_input_raw.reshape(n_steps_in))"
   ]
  },
  {
   "cell_type": "markdown",
   "id": "wired-example",
   "metadata": {},
   "source": [
    "### Range: 18 days"
   ]
  },
  {
   "cell_type": "code",
   "execution_count": 16,
   "id": "sticky-excuse",
   "metadata": {},
   "outputs": [
    {
     "name": "stdout",
     "output_type": "stream",
     "text": [
      "2021-10-03 --- 2021-10-20\n"
     ]
    }
   ],
   "source": [
    "start_date = str(df['Date'].iloc[-14])[:10]\n",
    "\n",
    "end_date = df['Date'].iloc[-15] + pd.Timedelta(18, unit='D')                  \n",
    "end_date = str(end_date)[:10]\n",
    "\n",
    "print(start_date,'---', end_date)"
   ]
  },
  {
   "cell_type": "code",
   "execution_count": 17,
   "id": "aging-behalf",
   "metadata": {},
   "outputs": [
    {
     "name": "stdout",
     "output_type": "stream",
     "text": [
      "(18,)\n"
     ]
    }
   ],
   "source": [
    "time_range = pd.date_range(start=start_date, end=end_date)\n",
    "print(time_range.shape)"
   ]
  },
  {
   "cell_type": "code",
   "execution_count": 18,
   "id": "enabling-battery",
   "metadata": {},
   "outputs": [
    {
     "data": {
      "text/plain": [
       "array([443.1138 , 404.28793, 357.68634, 331.58417], dtype=float32)"
      ]
     },
     "execution_count": 18,
     "metadata": {},
     "output_type": "execute_result"
    }
   ],
   "source": [
    "y_pred_GRU[0,:]"
   ]
  },
  {
   "cell_type": "code",
   "execution_count": 19,
   "id": "blind-examination",
   "metadata": {},
   "outputs": [
    {
     "data": {
      "text/plain": [
       "[('2021-10-17', 443.1138),\n",
       " ('2021-10-18', 404.28793),\n",
       " ('2021-10-19', 357.68634),\n",
       " ('2021-10-20', 331.58417)]"
      ]
     },
     "execution_count": 19,
     "metadata": {},
     "output_type": "execute_result"
    }
   ],
   "source": [
    "pred_list = list(zip(time_range[-4:].strftime('%Y-%m-%d'), y_pred_GRU[0,:]))\n",
    "pred_list"
   ]
  },
  {
   "cell_type": "code",
   "execution_count": 20,
   "id": "amended-brother",
   "metadata": {},
   "outputs": [
    {
     "data": {
      "text/html": [
       "<div>\n",
       "<style scoped>\n",
       "    .dataframe tbody tr th:only-of-type {\n",
       "        vertical-align: middle;\n",
       "    }\n",
       "\n",
       "    .dataframe tbody tr th {\n",
       "        vertical-align: top;\n",
       "    }\n",
       "\n",
       "    .dataframe thead th {\n",
       "        text-align: right;\n",
       "    }\n",
       "</style>\n",
       "<table border=\"1\" class=\"dataframe\">\n",
       "  <thead>\n",
       "    <tr style=\"text-align: right;\">\n",
       "      <th></th>\n",
       "      <th>Date</th>\n",
       "      <th>Predict Infected</th>\n",
       "    </tr>\n",
       "  </thead>\n",
       "  <tbody>\n",
       "    <tr>\n",
       "      <th>0</th>\n",
       "      <td>2021-10-17</td>\n",
       "      <td>443.113800</td>\n",
       "    </tr>\n",
       "    <tr>\n",
       "      <th>1</th>\n",
       "      <td>2021-10-18</td>\n",
       "      <td>404.287933</td>\n",
       "    </tr>\n",
       "    <tr>\n",
       "      <th>2</th>\n",
       "      <td>2021-10-19</td>\n",
       "      <td>357.686340</td>\n",
       "    </tr>\n",
       "    <tr>\n",
       "      <th>3</th>\n",
       "      <td>2021-10-20</td>\n",
       "      <td>331.584167</td>\n",
       "    </tr>\n",
       "  </tbody>\n",
       "</table>\n",
       "</div>"
      ],
      "text/plain": [
       "         Date  Predict Infected\n",
       "0  2021-10-17        443.113800\n",
       "1  2021-10-18        404.287933\n",
       "2  2021-10-19        357.686340\n",
       "3  2021-10-20        331.584167"
      ]
     },
     "execution_count": 20,
     "metadata": {},
     "output_type": "execute_result"
    }
   ],
   "source": [
    "pd.DataFrame (pred_list, columns = ['Date', 'Predict Infected'])"
   ]
  },
  {
   "cell_type": "code",
   "execution_count": null,
   "id": "raised-perth",
   "metadata": {},
   "outputs": [],
   "source": []
  },
  {
   "cell_type": "code",
   "execution_count": null,
   "id": "reduced-journalism",
   "metadata": {},
   "outputs": [],
   "source": []
  },
  {
   "cell_type": "code",
   "execution_count": 21,
   "id": "plain-sewing",
   "metadata": {},
   "outputs": [
    {
     "data": {
      "image/png": "[encoded data removed]",
      "text/plain": [
       "<Figure size 1600x480 with 1 Axes>"
      ]
     },
     "metadata": {
      "needs_background": "light"
     },
     "output_type": "display_data"
    }
   ],
   "source": [
    "from matplotlib.pyplot import figure\n",
    "figure(figsize=(20, 6), dpi=80)\n",
    "\n",
    "plt.plot(time_range[:14],x_input_raw.reshape(n_steps_in), label='Observed')\n",
    "plt.plot(time_range[14:], y_pred_GRU[0,:], label='GRU_predicted')\n",
    "plt.title('GRU out-of-sample-prediction')\n",
    "plt.xticks(time_range,rotation=45)\n",
    "plt.legend()\n",
    "plt.show()"
   ]
  },
  {
   "cell_type": "code",
   "execution_count": null,
   "id": "surrounded-czech",
   "metadata": {},
   "outputs": [],
   "source": []
  },
  {
   "cell_type": "code",
   "execution_count": null,
   "id": "turned-rouge",
   "metadata": {},
   "outputs": [],
   "source": []
  },
  {
   "cell_type": "code",
   "execution_count": null,
   "id": "following-investment",
   "metadata": {},
   "outputs": [],
   "source": []
  }
 ],
 "metadata": {
  "kernelspec": {
   "display_name": "Python 3",
   "language": "python",
   "name": "python3"
  },
  "language_info": {
   "codemirror_mode": {
    "name": "ipython",
    "version": 3
   },
   "file_extension": ".py",
   "mimetype": "text/x-python",
   "name": "python",
   "nbconvert_exporter": "python",
   "pygments_lexer": "ipython3",
   "version": "3.8.5"
  }
 },
 "nbformat": 4,
 "nbformat_minor": 5
}
