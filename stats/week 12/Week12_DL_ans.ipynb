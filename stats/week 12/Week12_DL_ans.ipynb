{
 "cells": [
  {
   "cell_type": "markdown",
   "metadata": {},
   "source": [
    "# Week12_DLs"
   ]
  },
  {
   "cell_type": "code",
   "execution_count": 1,
   "metadata": {},
   "outputs": [
    {
     "data": {
      "text/plain": [
       "(100.20018007729973, 119.79981992270027)"
      ]
     },
     "execution_count": 1,
     "metadata": {},
     "output_type": "execute_result"
    }
   ],
   "source": [
    "import numpy as np\n",
    "import scipy.stats as st\n",
    "\n",
    "x=np.array([110])\n",
    "\n",
    "#Sample size.\n",
    "n=x.size\n",
    "\n",
    "#Sample mean.\n",
    "x_mean=x.mean()\n",
    "\n",
    "#Population SD.\n",
    "x_sd=5\n",
    "\n",
    "st.norm.interval(alpha=0.95,loc=x_mean,scale=x_sd/np.sqrt(n))"
   ]
  },
  {
   "cell_type": "code",
   "execution_count": 2,
   "metadata": {},
   "outputs": [
    {
     "data": {
      "text/plain": [
       "(108.35009003864987, 118.14990996135013)"
      ]
     },
     "execution_count": 2,
     "metadata": {},
     "output_type": "execute_result"
    }
   ],
   "source": [
    "import numpy as np\n",
    "import scipy.stats as st\n",
    "\n",
    "x=np.array([110, 112, 115, 116])\n",
    "\n",
    "#Sample size.\n",
    "n=x.size\n",
    "\n",
    "#Sample mean.\n",
    "x_mean=x.mean()\n",
    "\n",
    "#Population SD.\n",
    "x_sd=5\n",
    "\n",
    "st.norm.interval(alpha=0.95,loc=x_mean,scale=x_sd/np.sqrt(n))"
   ]
  },
  {
   "cell_type": "code",
   "execution_count": 3,
   "metadata": {},
   "outputs": [
    {
     "data": {
      "text/plain": [
       "(7.278945612569528, 8.035340101716187)"
      ]
     },
     "execution_count": 3,
     "metadata": {},
     "output_type": "execute_result"
    }
   ],
   "source": [
    "import numpy as np\n",
    "import scipy.stats as st\n",
    "\n",
    "x=np.array([7.16, 7.89, 7.84, 7.90, 7.82, 6.98, 8.01])\n",
    "\n",
    "#Sample size.\n",
    "n=x.size\n",
    "\n",
    "#Sample mean.\n",
    "x_mean=x.mean()\n",
    "\n",
    "#Unknown SD.\n",
    "x_sd=np.std(x,ddof=1)\n",
    "\n",
    "st.t.interval(alpha=0.95,df=n-1,loc=x_mean,scale=x_sd/np.sqrt(n))"
   ]
  },
  {
   "cell_type": "code",
   "execution_count": 4,
   "metadata": {},
   "outputs": [
    {
     "data": {
      "text/plain": [
       "(6.879954416182235, 7.360045583817765)"
      ]
     },
     "execution_count": 4,
     "metadata": {},
     "output_type": "execute_result"
    }
   ],
   "source": [
    "import numpy as np\n",
    "import scipy.stats as st\n",
    "\n",
    "x=np.array([6.86, 7.29, 7.14, 6.90, 7.22, 7.31])\n",
    "\n",
    "#Sample size.\n",
    "n=x.size\n",
    "\n",
    "#Sample mean.\n",
    "x_mean=x.mean()\n",
    "\n",
    "#Population SD.\n",
    "x_sd=0.3\n",
    "\n",
    "st.norm.interval(alpha=0.95,loc=x_mean,scale=x_sd/np.sqrt(n))"
   ]
  },
  {
   "cell_type": "code",
   "execution_count": 5,
   "metadata": {},
   "outputs": [
    {
     "data": {
      "text/plain": [
       "(6.914675027226788, 7.325324972773212)"
      ]
     },
     "execution_count": 5,
     "metadata": {},
     "output_type": "execute_result"
    }
   ],
   "source": [
    "import numpy as np\n",
    "import scipy.stats as st\n",
    "\n",
    "x=np.array([6.86, 7.29, 7.14, 6.90, 7.22, 7.31])\n",
    "\n",
    "#Sample size.\n",
    "n=x.size\n",
    "\n",
    "#Sample mean.\n",
    "x_mean=x.mean()\n",
    "\n",
    "#Unknown SD.\n",
    "x_sd=np.std(x,ddof=1)\n",
    "\n",
    "st.t.interval(alpha=0.95,df=n-1,loc=x_mean,scale=x_sd/np.sqrt(n))"
   ]
  },
  {
   "cell_type": "code",
   "execution_count": 6,
   "metadata": {},
   "outputs": [
    {
     "data": {
      "text/plain": [
       "42.68444444444445"
      ]
     },
     "execution_count": 6,
     "metadata": {},
     "output_type": "execute_result"
    }
   ],
   "source": [
    "(3.92*5/3)**2"
   ]
  },
  {
   "cell_type": "code",
   "execution_count": 7,
   "metadata": {},
   "outputs": [
    {
     "data": {
      "text/plain": [
       "(5.0367568385224395, 8.96324316147756)"
      ]
     },
     "execution_count": 7,
     "metadata": {},
     "output_type": "execute_result"
    }
   ],
   "source": [
    "import numpy as np\n",
    "import scipy.stats as st\n",
    "\n",
    "x=np.array([5,6,7,8,9])\n",
    "\n",
    "#Sample size.\n",
    "n=x.size\n",
    "\n",
    "#Sample mean.\n",
    "x_mean=x.mean()\n",
    "\n",
    "#Unknown SD.\n",
    "x_sd=np.std(x,ddof=1)\n",
    "\n",
    "st.t.interval(alpha=0.95,df=n-1,loc=x_mean,scale=x_sd/np.sqrt(n))"
   ]
  },
  {
   "cell_type": "code",
   "execution_count": 8,
   "metadata": {},
   "outputs": [
    {
     "data": {
      "text/plain": [
       "(9.099544161822344, 13.900455838177656)"
      ]
     },
     "execution_count": 8,
     "metadata": {},
     "output_type": "execute_result"
    }
   ],
   "source": [
    "import numpy as np\n",
    "import scipy.stats as st\n",
    "\n",
    "x=np.array([9,10,11,12,13,14])\n",
    "\n",
    "#Sample size.\n",
    "n=x.size\n",
    "\n",
    "#Sample mean.\n",
    "x_mean=x.mean()\n",
    "\n",
    "#Population SD.\n",
    "x_sd=3\n",
    "\n",
    "st.norm.interval(alpha=0.95,loc=x_mean,scale=x_sd/np.sqrt(n))"
   ]
  },
  {
   "cell_type": "code",
   "execution_count": 10,
   "metadata": {},
   "outputs": [
    {
     "data": {
      "text/plain": [
       "(63.79939221576313, 70.20060778423688)"
      ]
     },
     "execution_count": 10,
     "metadata": {},
     "output_type": "execute_result"
    }
   ],
   "source": [
    "import numpy as np\n",
    "import scipy.stats as st\n",
    "\n",
    "x=np.array([56,61, 67, 69, 71, 78])\n",
    "\n",
    "#Sample size.\n",
    "n=x.size\n",
    "\n",
    "#Sample mean.\n",
    "x_mean=x.mean()\n",
    "\n",
    "#Population SD.\n",
    "x_sd=4\n",
    "\n",
    "st.norm.interval(alpha=0.95,loc=x_mean,scale=x_sd/np.sqrt(n))"
   ]
  }
 ],
 "metadata": {
  "kernelspec": {
   "display_name": "Python 3",
   "language": "python",
   "name": "python3"
  },
  "language_info": {
   "codemirror_mode": {
    "name": "ipython",
    "version": 3
   },
   "file_extension": ".py",
   "mimetype": "text/x-python",
   "name": "python",
   "nbconvert_exporter": "python",
   "pygments_lexer": "ipython3",
   "version": "3.8.5"
  }
 },
 "nbformat": 4,
 "nbformat_minor": 2
}
