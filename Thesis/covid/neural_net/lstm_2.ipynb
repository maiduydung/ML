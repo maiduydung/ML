{
 "cells": [
  {
   "cell_type": "code",
   "execution_count": 695,
   "id": "immune-momentum",
   "metadata": {},
   "outputs": [],
   "source": [
    "import numpy as np\n",
    "import pandas as pd\n",
    "import matplotlib.pyplot as plt\n",
    "from keras.models import Sequential\n",
    "from keras.layers import LSTM, Dense, Dropout\n",
    "from sklearn.preprocessing import MinMaxScaler\n",
    "from sklearn.metrics import mean_squared_error\n",
    "from keras.preprocessing.sequence import TimeseriesGenerator\n",
    "import tensorflow as tf"
   ]
  },
  {
   "cell_type": "code",
   "execution_count": 696,
   "id": "dense-hawaiian",
   "metadata": {},
   "outputs": [
    {
     "name": "stdout",
     "output_type": "stream",
     "text": [
      "(555, 4)\n",
      "Date                     datetime64[ns]\n",
      "Cummulative_Deaths              float64\n",
      "Infected                        float64\n",
      "Cummulative_Recovered           float64\n",
      "dtype: object\n"
     ]
    },
    {
     "data": {
      "text/html": [
       "<div>\n",
       "<style scoped>\n",
       "    .dataframe tbody tr th:only-of-type {\n",
       "        vertical-align: middle;\n",
       "    }\n",
       "\n",
       "    .dataframe tbody tr th {\n",
       "        vertical-align: top;\n",
       "    }\n",
       "\n",
       "    .dataframe thead th {\n",
       "        text-align: right;\n",
       "    }\n",
       "</style>\n",
       "<table border=\"1\" class=\"dataframe\">\n",
       "  <thead>\n",
       "    <tr style=\"text-align: right;\">\n",
       "      <th></th>\n",
       "      <th>Date</th>\n",
       "      <th>Cummulative_Deaths</th>\n",
       "      <th>Infected</th>\n",
       "      <th>Cummulative_Recovered</th>\n",
       "    </tr>\n",
       "  </thead>\n",
       "  <tbody>\n",
       "    <tr>\n",
       "      <th>0</th>\n",
       "      <td>2020-02-14</td>\n",
       "      <td>1.0</td>\n",
       "      <td>5.0</td>\n",
       "      <td>12.0</td>\n",
       "    </tr>\n",
       "    <tr>\n",
       "      <th>1</th>\n",
       "      <td>2020-02-15</td>\n",
       "      <td>1.0</td>\n",
       "      <td>4.0</td>\n",
       "      <td>12.0</td>\n",
       "    </tr>\n",
       "    <tr>\n",
       "      <th>2</th>\n",
       "      <td>2020-02-16</td>\n",
       "      <td>1.0</td>\n",
       "      <td>1.0</td>\n",
       "      <td>13.0</td>\n",
       "    </tr>\n",
       "    <tr>\n",
       "      <th>3</th>\n",
       "      <td>2020-02-17</td>\n",
       "      <td>1.0</td>\n",
       "      <td>6.0</td>\n",
       "      <td>12.0</td>\n",
       "    </tr>\n",
       "    <tr>\n",
       "      <th>4</th>\n",
       "      <td>2020-02-18</td>\n",
       "      <td>1.0</td>\n",
       "      <td>8.0</td>\n",
       "      <td>14.0</td>\n",
       "    </tr>\n",
       "  </tbody>\n",
       "</table>\n",
       "</div>"
      ],
      "text/plain": [
       "        Date  Cummulative_Deaths  Infected  Cummulative_Recovered\n",
       "0 2020-02-14                 1.0       5.0                   12.0\n",
       "1 2020-02-15                 1.0       4.0                   12.0\n",
       "2 2020-02-16                 1.0       1.0                   13.0\n",
       "3 2020-02-17                 1.0       6.0                   12.0\n",
       "4 2020-02-18                 1.0       8.0                   14.0"
      ]
     },
     "execution_count": 696,
     "metadata": {},
     "output_type": "execute_result"
    }
   ],
   "source": [
    "df = pd.read_csv('../seir/cov_datasets/all.csv')\n",
    "df['Date'] = pd.to_datetime(df['Date'])\n",
    "print(df.shape)\n",
    "print(df.dtypes)\n",
    "df.head()"
   ]
  },
  {
   "cell_type": "code",
   "execution_count": 743,
   "id": "unlike-australia",
   "metadata": {},
   "outputs": [
    {
     "data": {
      "text/html": [
       "<div>\n",
       "<style scoped>\n",
       "    .dataframe tbody tr th:only-of-type {\n",
       "        vertical-align: middle;\n",
       "    }\n",
       "\n",
       "    .dataframe tbody tr th {\n",
       "        vertical-align: top;\n",
       "    }\n",
       "\n",
       "    .dataframe thead th {\n",
       "        text-align: right;\n",
       "    }\n",
       "</style>\n",
       "<table border=\"1\" class=\"dataframe\">\n",
       "  <thead>\n",
       "    <tr style=\"text-align: right;\">\n",
       "      <th></th>\n",
       "      <th>Cummulative_Deaths</th>\n",
       "      <th>Infected</th>\n",
       "      <th>Cummulative_Recovered</th>\n",
       "    </tr>\n",
       "    <tr>\n",
       "      <th>Date</th>\n",
       "      <th></th>\n",
       "      <th></th>\n",
       "      <th></th>\n",
       "    </tr>\n",
       "  </thead>\n",
       "  <tbody>\n",
       "    <tr>\n",
       "      <th>2021-06-28</th>\n",
       "      <td>14700.0</td>\n",
       "      <td>989.0</td>\n",
       "      <td>761879.0</td>\n",
       "    </tr>\n",
       "    <tr>\n",
       "      <th>2021-06-29</th>\n",
       "      <td>14735.0</td>\n",
       "      <td>1376.0</td>\n",
       "      <td>763569.0</td>\n",
       "    </tr>\n",
       "    <tr>\n",
       "      <th>2021-06-30</th>\n",
       "      <td>14776.0</td>\n",
       "      <td>1810.0</td>\n",
       "      <td>765277.0</td>\n",
       "    </tr>\n",
       "    <tr>\n",
       "      <th>2021-07-01</th>\n",
       "      <td>14797.0</td>\n",
       "      <td>1741.0</td>\n",
       "      <td>766949.0</td>\n",
       "    </tr>\n",
       "    <tr>\n",
       "      <th>2021-07-02</th>\n",
       "      <td>14819.0</td>\n",
       "      <td>1773.0</td>\n",
       "      <td>768722.0</td>\n",
       "    </tr>\n",
       "    <tr>\n",
       "      <th>2021-07-03</th>\n",
       "      <td>14837.0</td>\n",
       "      <td>1864.0</td>\n",
       "      <td>770414.0</td>\n",
       "    </tr>\n",
       "    <tr>\n",
       "      <th>2021-07-04</th>\n",
       "      <td>14843.0</td>\n",
       "      <td>1479.0</td>\n",
       "      <td>771975.0</td>\n",
       "    </tr>\n",
       "    <tr>\n",
       "      <th>2021-07-05</th>\n",
       "      <td>14857.0</td>\n",
       "      <td>1021.0</td>\n",
       "      <td>773568.0</td>\n",
       "    </tr>\n",
       "    <tr>\n",
       "      <th>2021-07-06</th>\n",
       "      <td>14879.0</td>\n",
       "      <td>1658.0</td>\n",
       "      <td>775406.0</td>\n",
       "    </tr>\n",
       "    <tr>\n",
       "      <th>2021-07-07</th>\n",
       "      <td>14892.0</td>\n",
       "      <td>2181.0</td>\n",
       "      <td>776910.0</td>\n",
       "    </tr>\n",
       "    <tr>\n",
       "      <th>2021-07-08</th>\n",
       "      <td>14912.0</td>\n",
       "      <td>2239.0</td>\n",
       "      <td>778510.0</td>\n",
       "    </tr>\n",
       "    <tr>\n",
       "      <th>2021-07-09</th>\n",
       "      <td>14928.0</td>\n",
       "      <td>2259.0</td>\n",
       "      <td>780323.0</td>\n",
       "    </tr>\n",
       "    <tr>\n",
       "      <th>2021-07-10</th>\n",
       "      <td>14943.0</td>\n",
       "      <td>2452.0</td>\n",
       "      <td>781868.0</td>\n",
       "    </tr>\n",
       "    <tr>\n",
       "      <th>2021-07-11</th>\n",
       "      <td>14950.0</td>\n",
       "      <td>2021.0</td>\n",
       "      <td>783457.0</td>\n",
       "    </tr>\n",
       "    <tr>\n",
       "      <th>2021-07-12</th>\n",
       "      <td>14954.0</td>\n",
       "      <td>1491.0</td>\n",
       "      <td>785001.0</td>\n",
       "    </tr>\n",
       "    <tr>\n",
       "      <th>2021-07-13</th>\n",
       "      <td>14966.0</td>\n",
       "      <td>2377.0</td>\n",
       "      <td>786765.0</td>\n",
       "    </tr>\n",
       "    <tr>\n",
       "      <th>2021-07-14</th>\n",
       "      <td>14985.0</td>\n",
       "      <td>3170.0</td>\n",
       "      <td>788604.0</td>\n",
       "    </tr>\n",
       "    <tr>\n",
       "      <th>2021-07-15</th>\n",
       "      <td>15009.0</td>\n",
       "      <td>3408.0</td>\n",
       "      <td>790481.0</td>\n",
       "    </tr>\n",
       "    <tr>\n",
       "      <th>2021-07-16</th>\n",
       "      <td>15022.0</td>\n",
       "      <td>3419.0</td>\n",
       "      <td>792221.0</td>\n",
       "    </tr>\n",
       "    <tr>\n",
       "      <th>2021-07-17</th>\n",
       "      <td>15035.0</td>\n",
       "      <td>3871.0</td>\n",
       "      <td>794038.0</td>\n",
       "    </tr>\n",
       "    <tr>\n",
       "      <th>2021-07-18</th>\n",
       "      <td>15043.0</td>\n",
       "      <td>3093.0</td>\n",
       "      <td>795892.0</td>\n",
       "    </tr>\n",
       "    <tr>\n",
       "      <th>2021-07-19</th>\n",
       "      <td>15055.0</td>\n",
       "      <td>2318.0</td>\n",
       "      <td>798147.0</td>\n",
       "    </tr>\n",
       "    <tr>\n",
       "      <th>2021-07-20</th>\n",
       "      <td>15074.0</td>\n",
       "      <td>3743.0</td>\n",
       "      <td>800470.0</td>\n",
       "    </tr>\n",
       "    <tr>\n",
       "      <th>2021-07-21</th>\n",
       "      <td>15092.0</td>\n",
       "      <td>4933.0</td>\n",
       "      <td>802980.0</td>\n",
       "    </tr>\n",
       "    <tr>\n",
       "      <th>2021-07-22</th>\n",
       "      <td>15101.0</td>\n",
       "      <td>5386.0</td>\n",
       "      <td>805185.0</td>\n",
       "    </tr>\n",
       "    <tr>\n",
       "      <th>2021-07-23</th>\n",
       "      <td>15110.0</td>\n",
       "      <td>4204.0</td>\n",
       "      <td>807630.0</td>\n",
       "    </tr>\n",
       "    <tr>\n",
       "      <th>2021-07-24</th>\n",
       "      <td>15118.0</td>\n",
       "      <td>3576.0</td>\n",
       "      <td>810765.0</td>\n",
       "    </tr>\n",
       "    <tr>\n",
       "      <th>2021-07-25</th>\n",
       "      <td>15123.0</td>\n",
       "      <td>5008.0</td>\n",
       "      <td>813614.0</td>\n",
       "    </tr>\n",
       "    <tr>\n",
       "      <th>2021-07-26</th>\n",
       "      <td>15131.0</td>\n",
       "      <td>4659.0</td>\n",
       "      <td>816865.0</td>\n",
       "    </tr>\n",
       "    <tr>\n",
       "      <th>2021-07-27</th>\n",
       "      <td>15145.0</td>\n",
       "      <td>7619.0</td>\n",
       "      <td>820615.0</td>\n",
       "    </tr>\n",
       "    <tr>\n",
       "      <th>2021-07-28</th>\n",
       "      <td>15153.0</td>\n",
       "      <td>9568.0</td>\n",
       "      <td>824070.0</td>\n",
       "    </tr>\n",
       "    <tr>\n",
       "      <th>2021-07-29</th>\n",
       "      <td>15166.0</td>\n",
       "      <td>10687.0</td>\n",
       "      <td>827784.0</td>\n",
       "    </tr>\n",
       "    <tr>\n",
       "      <th>2021-07-30</th>\n",
       "      <td>15177.0</td>\n",
       "      <td>10728.0</td>\n",
       "      <td>831650.0</td>\n",
       "    </tr>\n",
       "    <tr>\n",
       "      <th>2021-07-31</th>\n",
       "      <td>15185.0</td>\n",
       "      <td>12328.0</td>\n",
       "      <td>835921.0</td>\n",
       "    </tr>\n",
       "    <tr>\n",
       "      <th>2021-08-01</th>\n",
       "      <td>15190.0</td>\n",
       "      <td>10160.0</td>\n",
       "      <td>839455.0</td>\n",
       "    </tr>\n",
       "    <tr>\n",
       "      <th>2021-08-02</th>\n",
       "      <td>15197.0</td>\n",
       "      <td>8324.0</td>\n",
       "      <td>844529.0</td>\n",
       "    </tr>\n",
       "    <tr>\n",
       "      <th>2021-08-03</th>\n",
       "      <td>15212.0</td>\n",
       "      <td>12061.0</td>\n",
       "      <td>849241.0</td>\n",
       "    </tr>\n",
       "    <tr>\n",
       "      <th>2021-08-04</th>\n",
       "      <td>15221.0</td>\n",
       "      <td>14204.0</td>\n",
       "      <td>855088.0</td>\n",
       "    </tr>\n",
       "    <tr>\n",
       "      <th>2021-08-05</th>\n",
       "      <td>15233.0</td>\n",
       "      <td>15247.0</td>\n",
       "      <td>861398.0</td>\n",
       "    </tr>\n",
       "    <tr>\n",
       "      <th>2021-08-06</th>\n",
       "      <td>15248.0</td>\n",
       "      <td>15624.0</td>\n",
       "      <td>870117.0</td>\n",
       "    </tr>\n",
       "    <tr>\n",
       "      <th>2021-08-07</th>\n",
       "      <td>15266.0</td>\n",
       "      <td>15740.0</td>\n",
       "      <td>878196.0</td>\n",
       "    </tr>\n",
       "    <tr>\n",
       "      <th>2021-08-08</th>\n",
       "      <td>15273.0</td>\n",
       "      <td>14457.0</td>\n",
       "      <td>886500.0</td>\n",
       "    </tr>\n",
       "    <tr>\n",
       "      <th>2021-08-09</th>\n",
       "      <td>15290.0</td>\n",
       "      <td>12053.0</td>\n",
       "      <td>895692.0</td>\n",
       "    </tr>\n",
       "    <tr>\n",
       "      <th>2021-08-10</th>\n",
       "      <td>15304.0</td>\n",
       "      <td>10566.0</td>\n",
       "      <td>906303.0</td>\n",
       "    </tr>\n",
       "    <tr>\n",
       "      <th>2021-08-11</th>\n",
       "      <td>15323.0</td>\n",
       "      <td>15769.0</td>\n",
       "      <td>917418.0</td>\n",
       "    </tr>\n",
       "    <tr>\n",
       "      <th>2021-08-12</th>\n",
       "      <td>15351.0</td>\n",
       "      <td>18893.0</td>\n",
       "      <td>927344.0</td>\n",
       "    </tr>\n",
       "    <tr>\n",
       "      <th>2021-08-13</th>\n",
       "      <td>15376.0</td>\n",
       "      <td>20357.0</td>\n",
       "      <td>939796.0</td>\n",
       "    </tr>\n",
       "    <tr>\n",
       "      <th>2021-08-14</th>\n",
       "      <td>15393.0</td>\n",
       "      <td>20132.0</td>\n",
       "      <td>951787.0</td>\n",
       "    </tr>\n",
       "    <tr>\n",
       "      <th>2021-08-15</th>\n",
       "      <td>15401.0</td>\n",
       "      <td>17826.0</td>\n",
       "      <td>964911.0</td>\n",
       "    </tr>\n",
       "    <tr>\n",
       "      <th>2021-08-16</th>\n",
       "      <td>15424.0</td>\n",
       "      <td>14826.0</td>\n",
       "      <td>979128.0</td>\n",
       "    </tr>\n",
       "    <tr>\n",
       "      <th>2021-08-17</th>\n",
       "      <td>15460.0</td>\n",
       "      <td>19948.0</td>\n",
       "      <td>993758.0</td>\n",
       "    </tr>\n",
       "    <tr>\n",
       "      <th>2021-08-18</th>\n",
       "      <td>15494.0</td>\n",
       "      <td>23909.0</td>\n",
       "      <td>1008309.0</td>\n",
       "    </tr>\n",
       "    <tr>\n",
       "      <th>2021-08-19</th>\n",
       "      <td>15527.0</td>\n",
       "      <td>25144.0</td>\n",
       "      <td>1020747.0</td>\n",
       "    </tr>\n",
       "    <tr>\n",
       "      <th>2021-08-20</th>\n",
       "      <td>15556.0</td>\n",
       "      <td>25858.0</td>\n",
       "      <td>1033914.0</td>\n",
       "    </tr>\n",
       "    <tr>\n",
       "      <th>2021-08-21</th>\n",
       "      <td>15589.0</td>\n",
       "      <td>25461.0</td>\n",
       "      <td>1048617.0</td>\n",
       "    </tr>\n",
       "  </tbody>\n",
       "</table>\n",
       "</div>"
      ],
      "text/plain": [
       "            Cummulative_Deaths  Infected  Cummulative_Recovered\n",
       "Date                                                           \n",
       "2021-06-28             14700.0     989.0               761879.0\n",
       "2021-06-29             14735.0    1376.0               763569.0\n",
       "2021-06-30             14776.0    1810.0               765277.0\n",
       "2021-07-01             14797.0    1741.0               766949.0\n",
       "2021-07-02             14819.0    1773.0               768722.0\n",
       "2021-07-03             14837.0    1864.0               770414.0\n",
       "2021-07-04             14843.0    1479.0               771975.0\n",
       "2021-07-05             14857.0    1021.0               773568.0\n",
       "2021-07-06             14879.0    1658.0               775406.0\n",
       "2021-07-07             14892.0    2181.0               776910.0\n",
       "2021-07-08             14912.0    2239.0               778510.0\n",
       "2021-07-09             14928.0    2259.0               780323.0\n",
       "2021-07-10             14943.0    2452.0               781868.0\n",
       "2021-07-11             14950.0    2021.0               783457.0\n",
       "2021-07-12             14954.0    1491.0               785001.0\n",
       "2021-07-13             14966.0    2377.0               786765.0\n",
       "2021-07-14             14985.0    3170.0               788604.0\n",
       "2021-07-15             15009.0    3408.0               790481.0\n",
       "2021-07-16             15022.0    3419.0               792221.0\n",
       "2021-07-17             15035.0    3871.0               794038.0\n",
       "2021-07-18             15043.0    3093.0               795892.0\n",
       "2021-07-19             15055.0    2318.0               798147.0\n",
       "2021-07-20             15074.0    3743.0               800470.0\n",
       "2021-07-21             15092.0    4933.0               802980.0\n",
       "2021-07-22             15101.0    5386.0               805185.0\n",
       "2021-07-23             15110.0    4204.0               807630.0\n",
       "2021-07-24             15118.0    3576.0               810765.0\n",
       "2021-07-25             15123.0    5008.0               813614.0\n",
       "2021-07-26             15131.0    4659.0               816865.0\n",
       "2021-07-27             15145.0    7619.0               820615.0\n",
       "2021-07-28             15153.0    9568.0               824070.0\n",
       "2021-07-29             15166.0   10687.0               827784.0\n",
       "2021-07-30             15177.0   10728.0               831650.0\n",
       "2021-07-31             15185.0   12328.0               835921.0\n",
       "2021-08-01             15190.0   10160.0               839455.0\n",
       "2021-08-02             15197.0    8324.0               844529.0\n",
       "2021-08-03             15212.0   12061.0               849241.0\n",
       "2021-08-04             15221.0   14204.0               855088.0\n",
       "2021-08-05             15233.0   15247.0               861398.0\n",
       "2021-08-06             15248.0   15624.0               870117.0\n",
       "2021-08-07             15266.0   15740.0               878196.0\n",
       "2021-08-08             15273.0   14457.0               886500.0\n",
       "2021-08-09             15290.0   12053.0               895692.0\n",
       "2021-08-10             15304.0   10566.0               906303.0\n",
       "2021-08-11             15323.0   15769.0               917418.0\n",
       "2021-08-12             15351.0   18893.0               927344.0\n",
       "2021-08-13             15376.0   20357.0               939796.0\n",
       "2021-08-14             15393.0   20132.0               951787.0\n",
       "2021-08-15             15401.0   17826.0               964911.0\n",
       "2021-08-16             15424.0   14826.0               979128.0\n",
       "2021-08-17             15460.0   19948.0               993758.0\n",
       "2021-08-18             15494.0   23909.0              1008309.0\n",
       "2021-08-19             15527.0   25144.0              1020747.0\n",
       "2021-08-20             15556.0   25858.0              1033914.0\n",
       "2021-08-21             15589.0   25461.0              1048617.0"
      ]
     },
     "execution_count": 743,
     "metadata": {},
     "output_type": "execute_result"
    }
   ],
   "source": [
    "df[500:]"
   ]
  },
  {
   "cell_type": "code",
   "execution_count": 697,
   "id": "reported-organ",
   "metadata": {},
   "outputs": [
    {
     "data": {
      "image/png": "[encoded data removed]",
      "text/plain": [
       "<Figure size 960x320 with 1 Axes>"
      ]
     },
     "metadata": {
      "needs_background": "light"
     },
     "output_type": "display_data"
    }
   ],
   "source": [
    "from matplotlib.pyplot import figure\n",
    "figure(figsize=(12, 4), dpi=80)\n",
    "plt.plot(df['Date'],df['Infected'])\n",
    "plt.show()"
   ]
  },
  {
   "cell_type": "code",
   "execution_count": 698,
   "id": "hundred-rubber",
   "metadata": {},
   "outputs": [],
   "source": [
    "training_set = df.iloc[:500, 2:3].values.astype(int)\n",
    "test_set = df.iloc[500:, 2:3].values.astype(int)\n",
    "\n",
    "# Feature Scaling\n",
    "sc = MinMaxScaler(feature_range = (0, 1))\n",
    "training_set_scaled = sc.fit_transform(training_set)\n",
    "testing_set_scaled = sc.fit_transform(test_set)\n",
    "\n",
    "\n",
    "# Creating a data structure with 5 time-steps and 2 output\n",
    "X_train = []\n",
    "y_train = []\n",
    "\n",
    "X_test = []\n",
    "y_test = []\n",
    "steps = 5 #days"
   ]
  },
  {
   "cell_type": "code",
   "execution_count": 699,
   "id": "animated-conservation",
   "metadata": {},
   "outputs": [
    {
     "name": "stdout",
     "output_type": "stream",
     "text": [
      "(500, 1)\n",
      "(55, 1)\n"
     ]
    }
   ],
   "source": [
    "print(training_set_scaled.shape)\n",
    "print(testing_set_scaled.shape)"
   ]
  },
  {
   "cell_type": "code",
   "execution_count": 700,
   "id": "adopted-jaguar",
   "metadata": {},
   "outputs": [],
   "source": [
    "def split_seq(sequence, n_steps_in, n_steps_out):\n",
    "    X = []\n",
    "    y = []\n",
    "    for i in range(len(sequence)):\n",
    "        end_idx = i + n_steps_in\n",
    "        steps_out_idx = end_idx + n_steps_out\n",
    "        \n",
    "        #check if we reach end of arr or not\n",
    "        if (steps_out_idx > len(sequence)):\n",
    "            break\n",
    "        seq_x = sequence[i:end_idx]\n",
    "        seq_y = sequence[end_idx:steps_out_idx]\n",
    "        X.append(seq_x)\n",
    "        y.append(seq_y)\n",
    "    return np.array(X), np.array(y)"
   ]
  },
  {
   "cell_type": "code",
   "execution_count": 701,
   "id": "ready-drilling",
   "metadata": {},
   "outputs": [],
   "source": [
    "X_train , y_train = split_seq(training_set_scaled, 14,1)\n",
    "X_test , y_test = split_seq(testing_set_scaled, 14,1)"
   ]
  },
  {
   "cell_type": "code",
   "execution_count": 702,
   "id": "reliable-depression",
   "metadata": {},
   "outputs": [
    {
     "data": {
      "text/plain": [
       "array([[[0.02018577]],\n",
       "\n",
       "       [[0.05581246]],\n",
       "\n",
       "       [[0.08769955]],\n",
       "\n",
       "       [[0.09726969]],\n",
       "\n",
       "       [[0.09771201]],\n",
       "\n",
       "       [[0.11588725]],\n",
       "\n",
       "       [[0.08460332]],\n",
       "\n",
       "       [[0.05344003]],\n",
       "\n",
       "       [[0.11074028]],\n",
       "\n",
       "       [[0.15859102]],\n",
       "\n",
       "       [[0.17680647]],\n",
       "\n",
       "       [[0.12927741]],\n",
       "\n",
       "       [[0.10402509]],\n",
       "\n",
       "       [[0.16160682]],\n",
       "\n",
       "       [[0.14757328]],\n",
       "\n",
       "       [[0.26659697]],\n",
       "\n",
       "       [[0.34496763]],\n",
       "\n",
       "       [[0.38996341]],\n",
       "\n",
       "       [[0.39161205]],\n",
       "\n",
       "       [[0.45594917]],\n",
       "\n",
       "       [[0.36877237]],\n",
       "\n",
       "       [[0.29494551]],\n",
       "\n",
       "       [[0.44521292]],\n",
       "\n",
       "       [[0.53138445]],\n",
       "\n",
       "       [[0.57332422]],\n",
       "\n",
       "       [[0.58848365]],\n",
       "\n",
       "       [[0.5931481 ]],\n",
       "\n",
       "       [[0.54155776]],\n",
       "\n",
       "       [[0.44489123]],\n",
       "\n",
       "       [[0.38509791]],\n",
       "\n",
       "       [[0.59431421]],\n",
       "\n",
       "       [[0.71993245]],\n",
       "\n",
       "       [[0.77880092]],\n",
       "\n",
       "       [[0.76975351]],\n",
       "\n",
       "       [[0.67702762]],\n",
       "\n",
       "       [[0.55639551]],\n",
       "\n",
       "       [[0.76235474]],\n",
       "\n",
       "       [[0.92162934]],\n",
       "\n",
       "       [[0.97128956]],\n",
       "\n",
       "       [[1.        ]],\n",
       "\n",
       "       [[0.98403635]]])"
      ]
     },
     "execution_count": 702,
     "metadata": {},
     "output_type": "execute_result"
    }
   ],
   "source": [
    "y_test"
   ]
  },
  {
   "cell_type": "code",
   "execution_count": 703,
   "id": "modular-canberra",
   "metadata": {},
   "outputs": [
    {
     "name": "stdout",
     "output_type": "stream",
     "text": [
      "(486, 14, 1) (486, 1, 1)\n",
      "(41, 14, 1) (41, 1, 1)\n"
     ]
    }
   ],
   "source": [
    "print(X_train.shape, y_train.shape)\n",
    "print(X_test.shape, y_test.shape)"
   ]
  },
  {
   "cell_type": "code",
   "execution_count": 704,
   "id": "centered-toddler",
   "metadata": {},
   "outputs": [
    {
     "data": {
      "text/plain": [
       "(14, 1)"
      ]
     },
     "execution_count": 704,
     "metadata": {},
     "output_type": "execute_result"
    }
   ],
   "source": [
    "input_shape = (X_train.shape[1],X_train.shape[2])\n",
    "input_shape"
   ]
  },
  {
   "cell_type": "code",
   "execution_count": 705,
   "id": "missing-wales",
   "metadata": {},
   "outputs": [
    {
     "name": "stdout",
     "output_type": "stream",
     "text": [
      "Epoch 1/50\n",
      "16/16 [==============================] - 0s 17ms/step - loss: 0.0344\n",
      "Epoch 2/50\n",
      "16/16 [==============================] - 0s 16ms/step - loss: 0.0173\n",
      "Epoch 3/50\n",
      "16/16 [==============================] - 0s 16ms/step - loss: 0.0167\n",
      "Epoch 4/50\n",
      "16/16 [==============================] - 0s 16ms/step - loss: 0.0116\n",
      "Epoch 5/50\n",
      "16/16 [==============================] - 0s 16ms/step - loss: 0.0125\n",
      "Epoch 6/50\n",
      "16/16 [==============================] - 0s 16ms/step - loss: 0.0108\n",
      "Epoch 7/50\n",
      "16/16 [==============================] - 0s 16ms/step - loss: 0.0120\n",
      "Epoch 8/50\n",
      "16/16 [==============================] - 0s 16ms/step - loss: 0.0125\n",
      "Epoch 9/50\n",
      "16/16 [==============================] - 0s 16ms/step - loss: 0.0097\n",
      "Epoch 10/50\n",
      "16/16 [==============================] - 0s 16ms/step - loss: 0.0110\n",
      "Epoch 11/50\n",
      "16/16 [==============================] - 0s 16ms/step - loss: 0.0107\n",
      "Epoch 12/50\n",
      "16/16 [==============================] - 0s 16ms/step - loss: 0.0092\n",
      "Epoch 13/50\n",
      "16/16 [==============================] - 0s 16ms/step - loss: 0.0088\n",
      "Epoch 14/50\n",
      "16/16 [==============================] - 0s 16ms/step - loss: 0.0093\n",
      "Epoch 15/50\n",
      "16/16 [==============================] - 0s 16ms/step - loss: 0.0079\n",
      "Epoch 16/50\n",
      "16/16 [==============================] - 0s 16ms/step - loss: 0.0087\n",
      "Epoch 17/50\n",
      "16/16 [==============================] - 0s 16ms/step - loss: 0.0089\n",
      "Epoch 18/50\n",
      "16/16 [==============================] - 0s 16ms/step - loss: 0.0092\n",
      "Epoch 19/50\n",
      "16/16 [==============================] - 0s 16ms/step - loss: 0.0081\n",
      "Epoch 20/50\n",
      "16/16 [==============================] - 0s 17ms/step - loss: 0.0079\n",
      "Epoch 21/50\n",
      "16/16 [==============================] - 0s 16ms/step - loss: 0.0093\n",
      "Epoch 22/50\n",
      "16/16 [==============================] - 0s 16ms/step - loss: 0.0080\n",
      "Epoch 23/50\n",
      "16/16 [==============================] - 0s 16ms/step - loss: 0.0071\n",
      "Epoch 24/50\n",
      "16/16 [==============================] - 0s 16ms/step - loss: 0.0072\n",
      "Epoch 25/50\n",
      "16/16 [==============================] - 0s 16ms/step - loss: 0.0072\n",
      "Epoch 26/50\n",
      "16/16 [==============================] - 0s 16ms/step - loss: 0.0064\n",
      "Epoch 27/50\n",
      "16/16 [==============================] - 0s 16ms/step - loss: 0.0076\n",
      "Epoch 28/50\n",
      "16/16 [==============================] - 0s 16ms/step - loss: 0.0069\n",
      "Epoch 29/50\n",
      "16/16 [==============================] - 0s 16ms/step - loss: 0.0066\n",
      "Epoch 30/50\n",
      "16/16 [==============================] - 0s 16ms/step - loss: 0.0067\n",
      "Epoch 31/50\n",
      "16/16 [==============================] - 0s 16ms/step - loss: 0.0065\n",
      "Epoch 32/50\n",
      "16/16 [==============================] - 0s 16ms/step - loss: 0.0062\n",
      "Epoch 33/50\n",
      "16/16 [==============================] - 0s 16ms/step - loss: 0.0062\n",
      "Epoch 34/50\n",
      "16/16 [==============================] - 0s 16ms/step - loss: 0.0058\n",
      "Epoch 35/50\n",
      "16/16 [==============================] - 0s 17ms/step - loss: 0.0064\n",
      "Epoch 36/50\n",
      "16/16 [==============================] - 0s 16ms/step - loss: 0.0066\n",
      "Epoch 37/50\n",
      "16/16 [==============================] - 0s 16ms/step - loss: 0.0073\n",
      "Epoch 38/50\n",
      "16/16 [==============================] - 0s 15ms/step - loss: 0.0059\n",
      "Epoch 39/50\n",
      "16/16 [==============================] - 0s 17ms/step - loss: 0.0059\n",
      "Epoch 40/50\n",
      "16/16 [==============================] - 0s 16ms/step - loss: 0.0057\n",
      "Epoch 41/50\n",
      "16/16 [==============================] - 0s 16ms/step - loss: 0.0060\n",
      "Epoch 42/50\n",
      "16/16 [==============================] - 0s 18ms/step - loss: 0.0066\n",
      "Epoch 43/50\n",
      "16/16 [==============================] - 0s 19ms/step - loss: 0.0062\n",
      "Epoch 44/50\n",
      "16/16 [==============================] - 0s 20ms/step - loss: 0.0066\n",
      "Epoch 45/50\n",
      "16/16 [==============================] - 0s 16ms/step - loss: 0.0061\n",
      "Epoch 46/50\n",
      "16/16 [==============================] - 0s 17ms/step - loss: 0.0056\n",
      "Epoch 47/50\n",
      "16/16 [==============================] - 0s 18ms/step - loss: 0.0058\n",
      "Epoch 48/50\n",
      "16/16 [==============================] - 0s 17ms/step - loss: 0.0067\n",
      "Epoch 49/50\n",
      "16/16 [==============================] - 0s 19ms/step - loss: 0.0065\n",
      "Epoch 50/50\n",
      "16/16 [==============================] - 0s 18ms/step - loss: 0.0057\n"
     ]
    },
    {
     "data": {
      "text/plain": [
       "<tensorflow.python.keras.callbacks.History at 0x20f7d929ac0>"
      ]
     },
     "execution_count": 705,
     "metadata": {},
     "output_type": "execute_result"
    }
   ],
   "source": [
    "model = Sequential()\n",
    "\n",
    "#Adding the first LSTM layer and some Dropout regularisation\n",
    "model.add(LSTM(units = 50, return_sequences = True, input_shape = (X_train.shape[1],X_train.shape[2])))\n",
    "model.add(Dropout(0.2))\n",
    "\n",
    "# Adding a second LSTM layer and some Dropout regularisation\n",
    "model.add(LSTM(units = 50, return_sequences = True))\n",
    "model.add(Dropout(0.2))\n",
    "\n",
    "# Adding a third LSTM layer and some Dropout regularisation\n",
    "model.add(LSTM(units = 50, return_sequences = True))\n",
    "model.add(Dropout(0.2))\n",
    "\n",
    "# Adding a fourth LSTM layer and some Dropout regularisation\n",
    "model.add(LSTM(units = 50))\n",
    "model.add(Dropout(0.2))\n",
    "\n",
    "# Adding the output layer\n",
    "model.add(Dense(units = 1))\n",
    "\n",
    "# Compiling the RNN\n",
    "model.compile(optimizer = 'adam', loss = 'mean_squared_error')\n",
    "\n",
    "# Fitting the RNN to the Training set\n",
    "model.fit(X_train, y_train, epochs = 50, batch_size = 32)"
   ]
  },
  {
   "cell_type": "code",
   "execution_count": 706,
   "id": "retired-kansas",
   "metadata": {},
   "outputs": [],
   "source": [
    "y_pred = model.predict(X_test)\n",
    "y_pred = sc.inverse_transform(y_pred) #revert scaling"
   ]
  },
  {
   "cell_type": "code",
   "execution_count": 707,
   "id": "legendary-semester",
   "metadata": {},
   "outputs": [
    {
     "name": "stdout",
     "output_type": "stream",
     "text": [
      "(41, 1)\n",
      "[ 1967.5939  2052.4905  2144.919   2271.373   2422.5845  2631.1199\n",
      "  2912.3054  3188.3577  3381.7207  3568.1086  3773.8875  4020.4053\n",
      "  4301.9863  4568.4927  4754.5425  4857.541   5098.7334  5612.994\n",
      "  6465.246   7630.6973  9067.51   10449.382  11484.035  12239.141\n",
      " 12774.059  13206.16   13610.28   14098.468  14685.9375 15053.421\n",
      " 15125.069  14900.711  14640.211  14656.9795 15204.301  16001.616\n",
      " 16718.99   17469.127  18195.7    18963.37   19846.715 ]\n"
     ]
    }
   ],
   "source": [
    "print(y_pred.shape)\n",
    "y_pred = y_pred.reshape(41)\n",
    "print(y_pred)"
   ]
  },
  {
   "cell_type": "code",
   "execution_count": null,
   "id": "laden-colleague",
   "metadata": {},
   "outputs": [],
   "source": []
  },
  {
   "cell_type": "code",
   "execution_count": 708,
   "id": "german-tribune",
   "metadata": {},
   "outputs": [
    {
     "name": "stdout",
     "output_type": "stream",
     "text": [
      "[ 1491.  2377.  3170.  3408.  3419.  3871.  3093.  2318.  3743.  4933.\n",
      "  5386.  4204.  3576.  5008.  4659.  7619.  9568. 10687. 10728. 12328.\n",
      " 10160.  8324. 12061. 14204. 15247. 15624. 15740. 14457. 12053. 10566.\n",
      " 15769. 18893. 20357. 20132. 17826. 14826. 19948. 23909. 25144. 25858.\n",
      " 25461.]\n"
     ]
    }
   ],
   "source": [
    "#y_test = y_test.reshape(41)\n",
    "y_test = sc.inverse_transform(y_test.reshape(41,1)).reshape(41) #revert scaling\n",
    "print(y_test)"
   ]
  },
  {
   "cell_type": "code",
   "execution_count": 709,
   "id": "enclosed-contractor",
   "metadata": {},
   "outputs": [
    {
     "name": "stdout",
     "output_type": "stream",
     "text": [
      "1967.5939\n",
      "2052.4905\n",
      "2144.919\n",
      "2271.373\n",
      "2422.5845\n",
      "2631.1199\n",
      "2912.3054\n",
      "3188.3577\n",
      "3381.7207\n",
      "3568.1086\n",
      "3773.8875\n",
      "4020.4053\n",
      "4301.9863\n",
      "4568.4927\n",
      "4754.5425\n",
      "4857.541\n",
      "5098.7334\n",
      "5612.994\n",
      "6465.246\n",
      "7630.6973\n",
      "9067.51\n",
      "10449.382\n",
      "11484.035\n",
      "12239.141\n",
      "12774.059\n",
      "13206.16\n",
      "13610.28\n",
      "14098.468\n",
      "14685.9375\n",
      "15053.421\n",
      "15125.069\n",
      "14900.711\n",
      "14640.211\n",
      "14656.9795\n",
      "15204.301\n",
      "16001.616\n",
      "16718.99\n",
      "17469.127\n",
      "18195.7\n",
      "18963.37\n",
      "19846.715\n"
     ]
    }
   ],
   "source": [
    "for i in y_pred:\n",
    "    print(i)"
   ]
  },
  {
   "cell_type": "code",
   "execution_count": 710,
   "id": "norman-venture",
   "metadata": {},
   "outputs": [
    {
     "data": {
      "text/plain": [
       "[<matplotlib.lines.Line2D at 0x20f896a86a0>]"
      ]
     },
     "execution_count": 710,
     "metadata": {},
     "output_type": "execute_result"
    },
    {
     "data": {
      "image/png": "[encoded data removed]",
      "text/plain": [
       "<Figure size 432x288 with 1 Axes>"
      ]
     },
     "metadata": {
      "needs_background": "light"
     },
     "output_type": "display_data"
    }
   ],
   "source": [
    "plt.plot(y_test)\n",
    "plt.plot(y_pred)"
   ]
  },
  {
   "cell_type": "markdown",
   "id": "hollywood-globe",
   "metadata": {},
   "source": [
    "### Adding news"
   ]
  },
  {
   "cell_type": "code",
   "execution_count": 711,
   "id": "executive-yacht",
   "metadata": {},
   "outputs": [
    {
     "name": "stdout",
     "output_type": "stream",
     "text": [
      "(1329, 6)\n",
      "binary_score (1:good   0: bad)    float64\n",
      "news_title                         object\n",
      "news_writer                        object\n",
      "news_written_date                  object\n",
      "news_text                          object\n",
      "news_url                           object\n",
      "dtype: object\n"
     ]
    },
    {
     "name": "stderr",
     "output_type": "stream",
     "text": [
      "C:\\Users\\maidu\\.conda\\envs\\tf\\lib\\site-packages\\dateutil\\parser\\_parser.py:1213: UnknownTimezoneWarning: tzname JST identified but not understood.  Pass `tzinfos` argument in order to correctly return a timezone-aware datetime.  In a future version, this will raise an exception.\n",
      "  warnings.warn(\"tzname {tzname} identified but not understood.  \"\n"
     ]
    },
    {
     "data": {
      "text/html": [
       "<div>\n",
       "<style scoped>\n",
       "    .dataframe tbody tr th:only-of-type {\n",
       "        vertical-align: middle;\n",
       "    }\n",
       "\n",
       "    .dataframe tbody tr th {\n",
       "        vertical-align: top;\n",
       "    }\n",
       "\n",
       "    .dataframe thead th {\n",
       "        text-align: right;\n",
       "    }\n",
       "</style>\n",
       "<table border=\"1\" class=\"dataframe\">\n",
       "  <thead>\n",
       "    <tr style=\"text-align: right;\">\n",
       "      <th></th>\n",
       "      <th>binary_score (1:good   0: bad)</th>\n",
       "      <th>news_title</th>\n",
       "      <th>news_writer</th>\n",
       "      <th>news_written_date</th>\n",
       "      <th>news_text</th>\n",
       "      <th>news_url</th>\n",
       "    </tr>\n",
       "  </thead>\n",
       "  <tbody>\n",
       "    <tr>\n",
       "      <th>1324</th>\n",
       "      <td>0.0</td>\n",
       "      <td>COVID-19 cases (Aug. 31)</td>\n",
       "      <td>['THE ASAHI SHIMBUN']</td>\n",
       "      <td>2020-09-01</td>\n",
       "      <td>NaN</td>\n",
       "      <td>https://www.asahi.com//ajw/articles/13686785</td>\n",
       "    </tr>\n",
       "    <tr>\n",
       "      <th>1325</th>\n",
       "      <td>0.0</td>\n",
       "      <td>Tokyo confirms 100 new cases of COVID-19; seve...</td>\n",
       "      <td>['THE ASAHI SHIMBUN']</td>\n",
       "      <td>2020-08-31</td>\n",
       "      <td>Tokyo confirmed 100 new COVID-19 infections o...</td>\n",
       "      <td>https://www.asahi.com//ajw/articles/13684411</td>\n",
       "    </tr>\n",
       "    <tr>\n",
       "      <th>1326</th>\n",
       "      <td>0.0</td>\n",
       "      <td>Tokyo partners with Line for new COVID-19 chec...</td>\n",
       "      <td>['By RIHITO KARUBE/ Staff Writer']</td>\n",
       "      <td>2020-08-31</td>\n",
       "      <td>Health centers in Tokyo will soon have a new ...</td>\n",
       "      <td>https://www.asahi.com//ajw/articles/13684298</td>\n",
       "    </tr>\n",
       "    <tr>\n",
       "      <th>1327</th>\n",
       "      <td>0.0</td>\n",
       "      <td>COVID-19 cases (Aug. 30)</td>\n",
       "      <td>['THE ASAHI SHIMBUN']</td>\n",
       "      <td>2020-08-31</td>\n",
       "      <td>NaN</td>\n",
       "      <td>https://www.asahi.com//ajw/articles/13683645</td>\n",
       "    </tr>\n",
       "    <tr>\n",
       "      <th>1328</th>\n",
       "      <td>1.0</td>\n",
       "      <td>Japanese wear face masks, but the main reason ...</td>\n",
       "      <td>['By MASANORI KOBAYASHI/ Staff Writer']</td>\n",
       "      <td>2020-08-31</td>\n",
       "      <td>Japanese people have taken to wearing face ma...</td>\n",
       "      <td>https://www.asahi.com//ajw/articles/13655141</td>\n",
       "    </tr>\n",
       "  </tbody>\n",
       "</table>\n",
       "</div>"
      ],
      "text/plain": [
       "      binary_score (1:good   0: bad)  \\\n",
       "1324                             0.0   \n",
       "1325                             0.0   \n",
       "1326                             0.0   \n",
       "1327                             0.0   \n",
       "1328                             1.0   \n",
       "\n",
       "                                             news_title  \\\n",
       "1324                           COVID-19 cases (Aug. 31)   \n",
       "1325  Tokyo confirms 100 new cases of COVID-19; seve...   \n",
       "1326  Tokyo partners with Line for new COVID-19 chec...   \n",
       "1327                           COVID-19 cases (Aug. 30)   \n",
       "1328  Japanese wear face masks, but the main reason ...   \n",
       "\n",
       "                                  news_writer news_written_date  \\\n",
       "1324                    ['THE ASAHI SHIMBUN']        2020-09-01   \n",
       "1325                    ['THE ASAHI SHIMBUN']        2020-08-31   \n",
       "1326       ['By RIHITO KARUBE/ Staff Writer']        2020-08-31   \n",
       "1327                    ['THE ASAHI SHIMBUN']        2020-08-31   \n",
       "1328  ['By MASANORI KOBAYASHI/ Staff Writer']        2020-08-31   \n",
       "\n",
       "                                              news_text  \\\n",
       "1324                                                NaN   \n",
       "1325   Tokyo confirmed 100 new COVID-19 infections o...   \n",
       "1326   Health centers in Tokyo will soon have a new ...   \n",
       "1327                                                NaN   \n",
       "1328   Japanese people have taken to wearing face ma...   \n",
       "\n",
       "                                          news_url  \n",
       "1324  https://www.asahi.com//ajw/articles/13686785  \n",
       "1325  https://www.asahi.com//ajw/articles/13684411  \n",
       "1326  https://www.asahi.com//ajw/articles/13684298  \n",
       "1327  https://www.asahi.com//ajw/articles/13683645  \n",
       "1328  https://www.asahi.com//ajw/articles/13655141  "
      ]
     },
     "execution_count": 711,
     "metadata": {},
     "output_type": "execute_result"
    }
   ],
   "source": [
    "df_news = pd.read_csv('../nlp/Aug30th_all_articles_bin_graded.csv')\n",
    "df_news['news_written_date'] = pd.to_datetime(df_news['news_written_date'])\n",
    "df_news['news_written_date'] = df_news['news_written_date'].dt.date\n",
    "print(df_news.shape)\n",
    "print(df_news.dtypes)\n",
    "df_news.tail()"
   ]
  },
  {
   "cell_type": "code",
   "execution_count": 712,
   "id": "equipped-ceiling",
   "metadata": {},
   "outputs": [
    {
     "name": "stdout",
     "output_type": "stream",
     "text": [
      "(555, 3) (1329, 6)\n"
     ]
    }
   ],
   "source": [
    "#run once only\n",
    "\n",
    "df = df.set_index('Date') #Infected list\n",
    "print(df.shape, df_news.shape)\n",
    "df_news = df_news.set_index('news_written_date')\n"
   ]
  },
  {
   "cell_type": "markdown",
   "id": "advance-terrace",
   "metadata": {},
   "source": [
    "#### Merge df and df_news"
   ]
  },
  {
   "cell_type": "code",
   "execution_count": 713,
   "id": "generous-insert",
   "metadata": {},
   "outputs": [
    {
     "data": {
      "text/html": [
       "<div>\n",
       "<style scoped>\n",
       "    .dataframe tbody tr th:only-of-type {\n",
       "        vertical-align: middle;\n",
       "    }\n",
       "\n",
       "    .dataframe tbody tr th {\n",
       "        vertical-align: top;\n",
       "    }\n",
       "\n",
       "    .dataframe thead th {\n",
       "        text-align: right;\n",
       "    }\n",
       "</style>\n",
       "<table border=\"1\" class=\"dataframe\">\n",
       "  <thead>\n",
       "    <tr style=\"text-align: right;\">\n",
       "      <th></th>\n",
       "      <th>Cummulative_Deaths</th>\n",
       "      <th>Infected</th>\n",
       "      <th>Cummulative_Recovered</th>\n",
       "      <th>binary_score (1:good   0: bad)</th>\n",
       "      <th>news_title</th>\n",
       "      <th>news_writer</th>\n",
       "      <th>news_text</th>\n",
       "      <th>news_url</th>\n",
       "    </tr>\n",
       "  </thead>\n",
       "  <tbody>\n",
       "    <tr>\n",
       "      <th>2020-08-31</th>\n",
       "      <td>1295.0</td>\n",
       "      <td>430.0</td>\n",
       "      <td>57130.0</td>\n",
       "      <td>0.0</td>\n",
       "      <td>Tokyo confirms 100 new cases of COVID-19; seve...</td>\n",
       "      <td>['THE ASAHI SHIMBUN']</td>\n",
       "      <td>Tokyo confirmed 100 new COVID-19 infections o...</td>\n",
       "      <td>https://www.asahi.com//ajw/articles/13684411</td>\n",
       "    </tr>\n",
       "    <tr>\n",
       "      <th>2020-08-31</th>\n",
       "      <td>1295.0</td>\n",
       "      <td>430.0</td>\n",
       "      <td>57130.0</td>\n",
       "      <td>0.0</td>\n",
       "      <td>Tokyo partners with Line for new COVID-19 chec...</td>\n",
       "      <td>['By RIHITO KARUBE/ Staff Writer']</td>\n",
       "      <td>Health centers in Tokyo will soon have a new ...</td>\n",
       "      <td>https://www.asahi.com//ajw/articles/13684298</td>\n",
       "    </tr>\n",
       "    <tr>\n",
       "      <th>2020-08-31</th>\n",
       "      <td>1295.0</td>\n",
       "      <td>430.0</td>\n",
       "      <td>57130.0</td>\n",
       "      <td>0.0</td>\n",
       "      <td>COVID-19 cases (Aug. 30)</td>\n",
       "      <td>['THE ASAHI SHIMBUN']</td>\n",
       "      <td>NaN</td>\n",
       "      <td>https://www.asahi.com//ajw/articles/13683645</td>\n",
       "    </tr>\n",
       "    <tr>\n",
       "      <th>2020-08-31</th>\n",
       "      <td>1295.0</td>\n",
       "      <td>430.0</td>\n",
       "      <td>57130.0</td>\n",
       "      <td>1.0</td>\n",
       "      <td>Japanese wear face masks, but the main reason ...</td>\n",
       "      <td>['By MASANORI KOBAYASHI/ Staff Writer']</td>\n",
       "      <td>Japanese people have taken to wearing face ma...</td>\n",
       "      <td>https://www.asahi.com//ajw/articles/13655141</td>\n",
       "    </tr>\n",
       "    <tr>\n",
       "      <th>2020-09-01</th>\n",
       "      <td>1306.0</td>\n",
       "      <td>624.0</td>\n",
       "      <td>57735.0</td>\n",
       "      <td>0.0</td>\n",
       "      <td>Tokyo reports 2nd case of virus infections in ...</td>\n",
       "      <td>['THE ASAHI SHIMBUN']</td>\n",
       "      <td>While Tokyo recorded less than 200 new COVID-...</td>\n",
       "      <td>https://www.asahi.com//ajw/articles/13687614</td>\n",
       "    </tr>\n",
       "    <tr>\n",
       "      <th>...</th>\n",
       "      <td>...</td>\n",
       "      <td>...</td>\n",
       "      <td>...</td>\n",
       "      <td>...</td>\n",
       "      <td>...</td>\n",
       "      <td>...</td>\n",
       "      <td>...</td>\n",
       "      <td>...</td>\n",
       "    </tr>\n",
       "    <tr>\n",
       "      <th>2021-08-20</th>\n",
       "      <td>15556.0</td>\n",
       "      <td>25858.0</td>\n",
       "      <td>1033914.0</td>\n",
       "      <td>0.0</td>\n",
       "      <td>New guidelines eyed for issuing, ending state ...</td>\n",
       "      <td>['By KEISHI NISHIMURA/ Staff Writer']</td>\n",
       "      <td>The government is considering changing its gu...</td>\n",
       "      <td>https://www.asahi.com//ajw/articles/14421871</td>\n",
       "    </tr>\n",
       "    <tr>\n",
       "      <th>2021-08-20</th>\n",
       "      <td>15556.0</td>\n",
       "      <td>25858.0</td>\n",
       "      <td>1033914.0</td>\n",
       "      <td>0.0</td>\n",
       "      <td>COVID-19 cases (Aug. 19)</td>\n",
       "      <td>['THE ASAHI SHIMBUN']</td>\n",
       "      <td>NaN</td>\n",
       "      <td>https://www.asahi.com//ajw/articles/14421857</td>\n",
       "    </tr>\n",
       "    <tr>\n",
       "      <th>2021-08-20</th>\n",
       "      <td>15556.0</td>\n",
       "      <td>25858.0</td>\n",
       "      <td>1033914.0</td>\n",
       "      <td>0.0</td>\n",
       "      <td>Kyoto eateries whip up industry certification ...</td>\n",
       "      <td>['By RIKAKO TAKAI/ Staff Writer']</td>\n",
       "      <td>KYOTO--In the age of the novel coronavirus, h...</td>\n",
       "      <td>https://www.asahi.com//ajw/articles/14413954</td>\n",
       "    </tr>\n",
       "    <tr>\n",
       "      <th>2021-08-21</th>\n",
       "      <td>15589.0</td>\n",
       "      <td>25461.0</td>\n",
       "      <td>1048617.0</td>\n",
       "      <td>0.0</td>\n",
       "      <td>COVID-19 cases in Tokyo top 5,000; records in ...</td>\n",
       "      <td>['THE ASAHI SHIMBUN']</td>\n",
       "      <td>Tokyo confirmed 5,074 fresh cases of COVID-19...</td>\n",
       "      <td>https://www.asahi.com//ajw/articles/14422889</td>\n",
       "    </tr>\n",
       "    <tr>\n",
       "      <th>2021-08-21</th>\n",
       "      <td>15589.0</td>\n",
       "      <td>25461.0</td>\n",
       "      <td>1048617.0</td>\n",
       "      <td>0.0</td>\n",
       "      <td>COVID-19 cases (Aug. 20)</td>\n",
       "      <td>['THE ASAHI SHIMBUN']</td>\n",
       "      <td>NaN</td>\n",
       "      <td>https://www.asahi.com//ajw/articles/14422712</td>\n",
       "    </tr>\n",
       "  </tbody>\n",
       "</table>\n",
       "<p>1300 rows × 8 columns</p>\n",
       "</div>"
      ],
      "text/plain": [
       "            Cummulative_Deaths  Infected  Cummulative_Recovered  \\\n",
       "2020-08-31              1295.0     430.0                57130.0   \n",
       "2020-08-31              1295.0     430.0                57130.0   \n",
       "2020-08-31              1295.0     430.0                57130.0   \n",
       "2020-08-31              1295.0     430.0                57130.0   \n",
       "2020-09-01              1306.0     624.0                57735.0   \n",
       "...                        ...       ...                    ...   \n",
       "2021-08-20             15556.0   25858.0              1033914.0   \n",
       "2021-08-20             15556.0   25858.0              1033914.0   \n",
       "2021-08-20             15556.0   25858.0              1033914.0   \n",
       "2021-08-21             15589.0   25461.0              1048617.0   \n",
       "2021-08-21             15589.0   25461.0              1048617.0   \n",
       "\n",
       "            binary_score (1:good   0: bad)  \\\n",
       "2020-08-31                             0.0   \n",
       "2020-08-31                             0.0   \n",
       "2020-08-31                             0.0   \n",
       "2020-08-31                             1.0   \n",
       "2020-09-01                             0.0   \n",
       "...                                    ...   \n",
       "2021-08-20                             0.0   \n",
       "2021-08-20                             0.0   \n",
       "2021-08-20                             0.0   \n",
       "2021-08-21                             0.0   \n",
       "2021-08-21                             0.0   \n",
       "\n",
       "                                                   news_title  \\\n",
       "2020-08-31  Tokyo confirms 100 new cases of COVID-19; seve...   \n",
       "2020-08-31  Tokyo partners with Line for new COVID-19 chec...   \n",
       "2020-08-31                           COVID-19 cases (Aug. 30)   \n",
       "2020-08-31  Japanese wear face masks, but the main reason ...   \n",
       "2020-09-01  Tokyo reports 2nd case of virus infections in ...   \n",
       "...                                                       ...   \n",
       "2021-08-20  New guidelines eyed for issuing, ending state ...   \n",
       "2021-08-20                           COVID-19 cases (Aug. 19)   \n",
       "2021-08-20  Kyoto eateries whip up industry certification ...   \n",
       "2021-08-21  COVID-19 cases in Tokyo top 5,000; records in ...   \n",
       "2021-08-21                           COVID-19 cases (Aug. 20)   \n",
       "\n",
       "                                        news_writer  \\\n",
       "2020-08-31                    ['THE ASAHI SHIMBUN']   \n",
       "2020-08-31       ['By RIHITO KARUBE/ Staff Writer']   \n",
       "2020-08-31                    ['THE ASAHI SHIMBUN']   \n",
       "2020-08-31  ['By MASANORI KOBAYASHI/ Staff Writer']   \n",
       "2020-09-01                    ['THE ASAHI SHIMBUN']   \n",
       "...                                             ...   \n",
       "2021-08-20    ['By KEISHI NISHIMURA/ Staff Writer']   \n",
       "2021-08-20                    ['THE ASAHI SHIMBUN']   \n",
       "2021-08-20        ['By RIKAKO TAKAI/ Staff Writer']   \n",
       "2021-08-21                    ['THE ASAHI SHIMBUN']   \n",
       "2021-08-21                    ['THE ASAHI SHIMBUN']   \n",
       "\n",
       "                                                    news_text  \\\n",
       "2020-08-31   Tokyo confirmed 100 new COVID-19 infections o...   \n",
       "2020-08-31   Health centers in Tokyo will soon have a new ...   \n",
       "2020-08-31                                                NaN   \n",
       "2020-08-31   Japanese people have taken to wearing face ma...   \n",
       "2020-09-01   While Tokyo recorded less than 200 new COVID-...   \n",
       "...                                                       ...   \n",
       "2021-08-20   The government is considering changing its gu...   \n",
       "2021-08-20                                                NaN   \n",
       "2021-08-20   KYOTO--In the age of the novel coronavirus, h...   \n",
       "2021-08-21   Tokyo confirmed 5,074 fresh cases of COVID-19...   \n",
       "2021-08-21                                                NaN   \n",
       "\n",
       "                                                news_url  \n",
       "2020-08-31  https://www.asahi.com//ajw/articles/13684411  \n",
       "2020-08-31  https://www.asahi.com//ajw/articles/13684298  \n",
       "2020-08-31  https://www.asahi.com//ajw/articles/13683645  \n",
       "2020-08-31  https://www.asahi.com//ajw/articles/13655141  \n",
       "2020-09-01  https://www.asahi.com//ajw/articles/13687614  \n",
       "...                                                  ...  \n",
       "2021-08-20  https://www.asahi.com//ajw/articles/14421871  \n",
       "2021-08-20  https://www.asahi.com//ajw/articles/14421857  \n",
       "2021-08-20  https://www.asahi.com//ajw/articles/14413954  \n",
       "2021-08-21  https://www.asahi.com//ajw/articles/14422889  \n",
       "2021-08-21  https://www.asahi.com//ajw/articles/14422712  \n",
       "\n",
       "[1300 rows x 8 columns]"
      ]
     },
     "execution_count": 713,
     "metadata": {},
     "output_type": "execute_result"
    }
   ],
   "source": [
    "\n",
    "df_merged = pd.merge(df,df_news, how='inner', left_index=True, right_index=True)\n",
    "df_merged"
   ]
  },
  {
   "cell_type": "code",
   "execution_count": 714,
   "id": "trained-connecticut",
   "metadata": {},
   "outputs": [
    {
     "data": {
      "text/plain": [
       "Index(['Cummulative_Deaths', 'Infected', 'Cummulative_Recovered',\n",
       "       'binary_score (1:good   0: bad)', 'news_title', 'news_writer',\n",
       "       'news_text', 'news_url'],\n",
       "      dtype='object')"
      ]
     },
     "execution_count": 714,
     "metadata": {},
     "output_type": "execute_result"
    }
   ],
   "source": [
    "df_merged.columns"
   ]
  },
  {
   "cell_type": "code",
   "execution_count": 715,
   "id": "underlying-energy",
   "metadata": {},
   "outputs": [
    {
     "data": {
      "text/plain": [
       "[<matplotlib.lines.Line2D at 0x20f8971ccd0>]"
      ]
     },
     "execution_count": 715,
     "metadata": {},
     "output_type": "execute_result"
    },
    {
     "data": {
      "image/png": "[encoded data removed]",
      "text/plain": [
       "<Figure size 960x320 with 1 Axes>"
      ]
     },
     "metadata": {
      "needs_background": "light"
     },
     "output_type": "display_data"
    }
   ],
   "source": [
    "from matplotlib.pyplot import figure\n",
    "figure(figsize=(12, 4), dpi=80)\n",
    "plt.plot(df_merged['Infected'])"
   ]
  },
  {
   "cell_type": "code",
   "execution_count": 716,
   "id": "colored-jenny",
   "metadata": {},
   "outputs": [
    {
     "data": {
      "text/html": [
       "<div>\n",
       "<style scoped>\n",
       "    .dataframe tbody tr th:only-of-type {\n",
       "        vertical-align: middle;\n",
       "    }\n",
       "\n",
       "    .dataframe tbody tr th {\n",
       "        vertical-align: top;\n",
       "    }\n",
       "\n",
       "    .dataframe thead th {\n",
       "        text-align: right;\n",
       "    }\n",
       "</style>\n",
       "<table border=\"1\" class=\"dataframe\">\n",
       "  <thead>\n",
       "    <tr style=\"text-align: right;\">\n",
       "      <th></th>\n",
       "      <th>Infected</th>\n",
       "      <th>binary_score (1:good   0: bad)</th>\n",
       "    </tr>\n",
       "  </thead>\n",
       "  <tbody>\n",
       "    <tr>\n",
       "      <th>2020-08-31</th>\n",
       "      <td>430.0</td>\n",
       "      <td>0.0</td>\n",
       "    </tr>\n",
       "    <tr>\n",
       "      <th>2020-08-31</th>\n",
       "      <td>430.0</td>\n",
       "      <td>0.0</td>\n",
       "    </tr>\n",
       "    <tr>\n",
       "      <th>2020-08-31</th>\n",
       "      <td>430.0</td>\n",
       "      <td>0.0</td>\n",
       "    </tr>\n",
       "    <tr>\n",
       "      <th>2020-08-31</th>\n",
       "      <td>430.0</td>\n",
       "      <td>1.0</td>\n",
       "    </tr>\n",
       "    <tr>\n",
       "      <th>2020-09-01</th>\n",
       "      <td>624.0</td>\n",
       "      <td>0.0</td>\n",
       "    </tr>\n",
       "    <tr>\n",
       "      <th>...</th>\n",
       "      <td>...</td>\n",
       "      <td>...</td>\n",
       "    </tr>\n",
       "    <tr>\n",
       "      <th>2021-08-20</th>\n",
       "      <td>25858.0</td>\n",
       "      <td>0.0</td>\n",
       "    </tr>\n",
       "    <tr>\n",
       "      <th>2021-08-20</th>\n",
       "      <td>25858.0</td>\n",
       "      <td>0.0</td>\n",
       "    </tr>\n",
       "    <tr>\n",
       "      <th>2021-08-20</th>\n",
       "      <td>25858.0</td>\n",
       "      <td>0.0</td>\n",
       "    </tr>\n",
       "    <tr>\n",
       "      <th>2021-08-21</th>\n",
       "      <td>25461.0</td>\n",
       "      <td>0.0</td>\n",
       "    </tr>\n",
       "    <tr>\n",
       "      <th>2021-08-21</th>\n",
       "      <td>25461.0</td>\n",
       "      <td>0.0</td>\n",
       "    </tr>\n",
       "  </tbody>\n",
       "</table>\n",
       "<p>1300 rows × 2 columns</p>\n",
       "</div>"
      ],
      "text/plain": [
       "            Infected  binary_score (1:good   0: bad)\n",
       "2020-08-31     430.0                             0.0\n",
       "2020-08-31     430.0                             0.0\n",
       "2020-08-31     430.0                             0.0\n",
       "2020-08-31     430.0                             1.0\n",
       "2020-09-01     624.0                             0.0\n",
       "...              ...                             ...\n",
       "2021-08-20   25858.0                             0.0\n",
       "2021-08-20   25858.0                             0.0\n",
       "2021-08-20   25858.0                             0.0\n",
       "2021-08-21   25461.0                             0.0\n",
       "2021-08-21   25461.0                             0.0\n",
       "\n",
       "[1300 rows x 2 columns]"
      ]
     },
     "execution_count": 716,
     "metadata": {},
     "output_type": "execute_result"
    }
   ],
   "source": [
    "df_inf_news = df_merged[['Infected','binary_score (1:good   0: bad)']]\n",
    "df_inf_news"
   ]
  },
  {
   "cell_type": "code",
   "execution_count": 717,
   "id": "colonial-simon",
   "metadata": {},
   "outputs": [],
   "source": [
    "import random\n",
    "for idx, row in df_inf_news.iterrows():\n",
    "    #print(row['binary_score (1:good   0: bad)'])\n",
    "    ele = row['binary_score (1:good   0: bad)']\n",
    "    if(ele == 0):\n",
    "        row['binary_score (1:good   0: bad)'] = random.randrange(-4,1) #-4 to 0\n",
    "    else: \n",
    "        row['binary_score (1:good   0: bad)'] = random.randrange(1, 5)"
   ]
  },
  {
   "cell_type": "code",
   "execution_count": 718,
   "id": "personal-distinction",
   "metadata": {},
   "outputs": [
    {
     "data": {
      "text/plain": [
       "(array([208., 216., 228., 200.,   0., 220.,  56.,  56.,  57.,  59.]),\n",
       " array([-4. , -3.2, -2.4, -1.6, -0.8,  0. ,  0.8,  1.6,  2.4,  3.2,  4. ]),\n",
       " <BarContainer object of 10 artists>)"
      ]
     },
     "execution_count": 718,
     "metadata": {},
     "output_type": "execute_result"
    },
    {
     "data": {
      "image/png": "[encoded data removed]",
      "text/plain": [
       "<Figure size 432x288 with 1 Axes>"
      ]
     },
     "metadata": {
      "needs_background": "light"
     },
     "output_type": "display_data"
    }
   ],
   "source": [
    "plt.hist(df_inf_news['binary_score (1:good   0: bad)'])"
   ]
  },
  {
   "cell_type": "code",
   "execution_count": 719,
   "id": "shaped-soundtrack",
   "metadata": {},
   "outputs": [],
   "source": [
    "df_inf_news.to_csv('df_infected_news_decimal.csv')"
   ]
  },
  {
   "cell_type": "markdown",
   "id": "neutral-township",
   "metadata": {},
   "source": [
    "#### Only scale binary score"
   ]
  },
  {
   "cell_type": "code",
   "execution_count": 720,
   "id": "brazilian-variance",
   "metadata": {},
   "outputs": [
    {
     "name": "stderr",
     "output_type": "stream",
     "text": [
      "<ipython-input-720-b58dc20c5b37>:6: SettingWithCopyWarning: \n",
      "A value is trying to be set on a copy of a slice from a DataFrame.\n",
      "Try using .loc[row_indexer,col_indexer] = value instead\n",
      "\n",
      "See the caveats in the documentation: https://pandas.pydata.org/pandas-docs/stable/user_guide/indexing.html#returning-a-view-versus-a-copy\n",
      "  df_inf_news['infected_scaled'] = infected_scaled[:,0]\n",
      "<ipython-input-720-b58dc20c5b37>:7: SettingWithCopyWarning: \n",
      "A value is trying to be set on a copy of a slice from a DataFrame.\n",
      "Try using .loc[row_indexer,col_indexer] = value instead\n",
      "\n",
      "See the caveats in the documentation: https://pandas.pydata.org/pandas-docs/stable/user_guide/indexing.html#returning-a-view-versus-a-copy\n",
      "  df_inf_news['score_scaled'] = score_scaled[:,0]/100\n"
     ]
    },
    {
     "data": {
      "text/html": [
       "<div>\n",
       "<style scoped>\n",
       "    .dataframe tbody tr th:only-of-type {\n",
       "        vertical-align: middle;\n",
       "    }\n",
       "\n",
       "    .dataframe tbody tr th {\n",
       "        vertical-align: top;\n",
       "    }\n",
       "\n",
       "    .dataframe thead th {\n",
       "        text-align: right;\n",
       "    }\n",
       "</style>\n",
       "<table border=\"1\" class=\"dataframe\">\n",
       "  <thead>\n",
       "    <tr style=\"text-align: right;\">\n",
       "      <th></th>\n",
       "      <th>Infected</th>\n",
       "      <th>binary_score (1:good   0: bad)</th>\n",
       "      <th>infected_scaled</th>\n",
       "      <th>score_scaled</th>\n",
       "    </tr>\n",
       "  </thead>\n",
       "  <tbody>\n",
       "    <tr>\n",
       "      <th>2020-08-31</th>\n",
       "      <td>430.0</td>\n",
       "      <td>-3.0</td>\n",
       "      <td>0.008346</td>\n",
       "      <td>0.00125</td>\n",
       "    </tr>\n",
       "    <tr>\n",
       "      <th>2020-08-31</th>\n",
       "      <td>430.0</td>\n",
       "      <td>-3.0</td>\n",
       "      <td>0.008346</td>\n",
       "      <td>0.00125</td>\n",
       "    </tr>\n",
       "    <tr>\n",
       "      <th>2020-08-31</th>\n",
       "      <td>430.0</td>\n",
       "      <td>-1.0</td>\n",
       "      <td>0.008346</td>\n",
       "      <td>0.00375</td>\n",
       "    </tr>\n",
       "    <tr>\n",
       "      <th>2020-08-31</th>\n",
       "      <td>430.0</td>\n",
       "      <td>1.0</td>\n",
       "      <td>0.008346</td>\n",
       "      <td>0.00625</td>\n",
       "    </tr>\n",
       "    <tr>\n",
       "      <th>2020-09-01</th>\n",
       "      <td>624.0</td>\n",
       "      <td>-1.0</td>\n",
       "      <td>0.015911</td>\n",
       "      <td>0.00375</td>\n",
       "    </tr>\n",
       "  </tbody>\n",
       "</table>\n",
       "</div>"
      ],
      "text/plain": [
       "            Infected  binary_score (1:good   0: bad)  infected_scaled  \\\n",
       "2020-08-31     430.0                            -3.0         0.008346   \n",
       "2020-08-31     430.0                            -3.0         0.008346   \n",
       "2020-08-31     430.0                            -1.0         0.008346   \n",
       "2020-08-31     430.0                             1.0         0.008346   \n",
       "2020-09-01     624.0                            -1.0         0.015911   \n",
       "\n",
       "            score_scaled  \n",
       "2020-08-31       0.00125  \n",
       "2020-08-31       0.00125  \n",
       "2020-08-31       0.00375  \n",
       "2020-08-31       0.00625  \n",
       "2020-09-01       0.00375  "
      ]
     },
     "execution_count": 720,
     "metadata": {},
     "output_type": "execute_result"
    }
   ],
   "source": [
    "# Feature Scaling\n",
    "sc = MinMaxScaler(feature_range = (0, 1))\n",
    "infected_scaled = sc.fit_transform(df_inf_news['Infected'].values.astype(float).reshape(len(df_inf_news), 1))\n",
    "score_scaled = sc.fit_transform(df_inf_news['binary_score (1:good   0: bad)'].values.astype(float).reshape(len(df_inf_news), 1))\n",
    "\n",
    "df_inf_news['infected_scaled'] = infected_scaled[:,0]\n",
    "df_inf_news['score_scaled'] = score_scaled[:,0]/100\n",
    "\n",
    "df_inf_news.head()"
   ]
  },
  {
   "cell_type": "code",
   "execution_count": 721,
   "id": "mediterranean-connectivity",
   "metadata": {},
   "outputs": [],
   "source": [
    "def split_seq(sequence, n_steps_in, n_steps_out):\n",
    "    X = []\n",
    "    y = []\n",
    "    for i in range(len(sequence)):\n",
    "        end_idx = i + n_steps_in\n",
    "        steps_out_idx = end_idx + n_steps_out\n",
    "        \n",
    "        #check if we reach end of arr or not\n",
    "        if (steps_out_idx > len(sequence)):\n",
    "            break\n",
    "        seq_x = sequence[i:end_idx]\n",
    "        seq_y = sequence[end_idx:steps_out_idx]\n",
    "        X.append(seq_x)\n",
    "        y.append(seq_y)\n",
    "    return np.array(X), np.array(y)"
   ]
  },
  {
   "cell_type": "code",
   "execution_count": null,
   "id": "animal-wednesday",
   "metadata": {},
   "outputs": [],
   "source": []
  },
  {
   "cell_type": "code",
   "execution_count": 722,
   "id": "attended-fellowship",
   "metadata": {},
   "outputs": [
    {
     "name": "stdout",
     "output_type": "stream",
     "text": [
      "(1296, 8, 1)\n",
      "(1296, 1, 1)\n"
     ]
    }
   ],
   "source": [
    "X_infected, y_infected = split_seq(df_inf_news['infected_scaled'],4,1)\n",
    "#print(X_infected.shape, y_infected.shape)\n",
    "X_news, y_news = split_seq(df_inf_news['score_scaled'],4,1)\n",
    "#print(X_news.shape, y_news.shape)\n",
    "\n",
    "### Concat horizotally with hstack\n",
    "X = np.hstack([X_infected,X_news])\n",
    "#X = np.hstack([X_infected])\n",
    "\n",
    "y = np.hstack([y_infected]) #only output infected cases\n",
    "\n",
    "X = X.reshape((X.shape[0],X.shape[1],1))\n",
    "y = y.reshape((y.shape[0],y.shape[1],1))\n",
    "\n",
    "print(X.shape)\n",
    "print(y.shape)"
   ]
  },
  {
   "cell_type": "code",
   "execution_count": 723,
   "id": "undefined-clerk",
   "metadata": {},
   "outputs": [
    {
     "data": {
      "text/plain": [
       "array([[[0.0159114 ]],\n",
       "\n",
       "       [[0.0159114 ]],\n",
       "\n",
       "       [[0.01439045]],\n",
       "\n",
       "       ...,\n",
       "\n",
       "       [[1.        ]],\n",
       "\n",
       "       [[0.98451759]],\n",
       "\n",
       "       [[0.98451759]]])"
      ]
     },
     "execution_count": 723,
     "metadata": {},
     "output_type": "execute_result"
    }
   ],
   "source": [
    "y"
   ]
  },
  {
   "cell_type": "code",
   "execution_count": 724,
   "id": "younger-gross",
   "metadata": {},
   "outputs": [],
   "source": [
    "X_train = X[:1000,:]\n",
    "X_test  = X[1000:,:]\n",
    "y_train = y[:1000,:]\n",
    "y_test  = y[1000:,:]"
   ]
  },
  {
   "cell_type": "code",
   "execution_count": 725,
   "id": "exposed-anatomy",
   "metadata": {},
   "outputs": [
    {
     "data": {
      "text/plain": [
       "(8, 1)"
      ]
     },
     "execution_count": 725,
     "metadata": {},
     "output_type": "execute_result"
    }
   ],
   "source": [
    "input_shape = (X_train.shape[1],X_train.shape[2])\n",
    "input_shape"
   ]
  },
  {
   "cell_type": "code",
   "execution_count": 726,
   "id": "demanding-drive",
   "metadata": {},
   "outputs": [
    {
     "name": "stdout",
     "output_type": "stream",
     "text": [
      "Epoch 1/50\n",
      "8/8 [==============================] - 0s 17ms/step - loss: 0.0139\n",
      "Epoch 2/50\n",
      "8/8 [==============================] - 0s 17ms/step - loss: 0.0077\n",
      "Epoch 3/50\n",
      "8/8 [==============================] - 0s 17ms/step - loss: 0.0066\n",
      "Epoch 4/50\n",
      "8/8 [==============================] - 0s 17ms/step - loss: 0.0060\n",
      "Epoch 5/50\n",
      "8/8 [==============================] - 0s 17ms/step - loss: 0.0056\n",
      "Epoch 6/50\n",
      "8/8 [==============================] - 0s 17ms/step - loss: 0.0050\n",
      "Epoch 7/50\n",
      "8/8 [==============================] - 0s 16ms/step - loss: 0.0036\n",
      "Epoch 8/50\n",
      "8/8 [==============================] - 0s 19ms/step - loss: 0.0018\n",
      "Epoch 9/50\n",
      "8/8 [==============================] - 0s 21ms/step - loss: 0.0014\n",
      "Epoch 10/50\n",
      "8/8 [==============================] - 0s 18ms/step - loss: 8.7650e-04\n",
      "Epoch 11/50\n",
      "8/8 [==============================] - 0s 18ms/step - loss: 8.5090e-04\n",
      "Epoch 12/50\n",
      "8/8 [==============================] - 0s 22ms/step - loss: 8.5164e-04\n",
      "Epoch 13/50\n",
      "8/8 [==============================] - 0s 19ms/step - loss: 8.2857e-04\n",
      "Epoch 14/50\n",
      "8/8 [==============================] - 0s 19ms/step - loss: 7.2586e-04\n",
      "Epoch 15/50\n",
      "8/8 [==============================] - 0s 17ms/step - loss: 6.9419e-04\n",
      "Epoch 16/50\n",
      "8/8 [==============================] - 0s 17ms/step - loss: 7.0939e-04\n",
      "Epoch 17/50\n",
      "8/8 [==============================] - 0s 18ms/step - loss: 6.7422e-04\n",
      "Epoch 18/50\n",
      "8/8 [==============================] - 0s 16ms/step - loss: 6.9705e-04\n",
      "Epoch 19/50\n",
      "8/8 [==============================] - 0s 16ms/step - loss: 6.4946e-04\n",
      "Epoch 20/50\n",
      "8/8 [==============================] - 0s 17ms/step - loss: 6.6657e-04\n",
      "Epoch 21/50\n",
      "8/8 [==============================] - 0s 17ms/step - loss: 6.5443e-04\n",
      "Epoch 22/50\n",
      "8/8 [==============================] - 0s 17ms/step - loss: 6.5212e-04\n",
      "Epoch 23/50\n",
      "8/8 [==============================] - 0s 18ms/step - loss: 6.7261e-04\n",
      "Epoch 24/50\n",
      "8/8 [==============================] - 0s 17ms/step - loss: 6.5681e-04\n",
      "Epoch 25/50\n",
      "8/8 [==============================] - 0s 18ms/step - loss: 6.6634e-04\n",
      "Epoch 26/50\n",
      "8/8 [==============================] - 0s 17ms/step - loss: 7.4848e-04\n",
      "Epoch 27/50\n",
      "8/8 [==============================] - 0s 17ms/step - loss: 6.5034e-04\n",
      "Epoch 28/50\n",
      "8/8 [==============================] - 0s 16ms/step - loss: 6.3261e-04\n",
      "Epoch 29/50\n",
      "8/8 [==============================] - 0s 17ms/step - loss: 6.4564e-04\n",
      "Epoch 30/50\n",
      "8/8 [==============================] - 0s 17ms/step - loss: 6.3819e-04\n",
      "Epoch 31/50\n",
      "8/8 [==============================] - 0s 17ms/step - loss: 5.7920e-04\n",
      "Epoch 32/50\n",
      "8/8 [==============================] - 0s 17ms/step - loss: 6.2036e-04\n",
      "Epoch 33/50\n",
      "8/8 [==============================] - 0s 16ms/step - loss: 6.0451e-04\n",
      "Epoch 34/50\n",
      "8/8 [==============================] - 0s 16ms/step - loss: 5.7680e-04\n",
      "Epoch 35/50\n",
      "8/8 [==============================] - 0s 18ms/step - loss: 6.0392e-04\n",
      "Epoch 36/50\n",
      "8/8 [==============================] - 0s 21ms/step - loss: 6.0135e-04\n",
      "Epoch 37/50\n",
      "8/8 [==============================] - 0s 18ms/step - loss: 5.4394e-04\n",
      "Epoch 38/50\n",
      "8/8 [==============================] - 0s 17ms/step - loss: 5.6992e-04\n",
      "Epoch 39/50\n",
      "8/8 [==============================] - 0s 18ms/step - loss: 5.9310e-04\n",
      "Epoch 40/50\n",
      "8/8 [==============================] - 0s 16ms/step - loss: 5.8465e-04\n",
      "Epoch 41/50\n",
      "8/8 [==============================] - 0s 16ms/step - loss: 5.7141e-04\n",
      "Epoch 42/50\n",
      "8/8 [==============================] - 0s 17ms/step - loss: 6.3656e-04\n",
      "Epoch 43/50\n",
      "8/8 [==============================] - 0s 16ms/step - loss: 5.8750e-04\n",
      "Epoch 44/50\n",
      "8/8 [==============================] - 0s 16ms/step - loss: 5.9585e-04\n",
      "Epoch 45/50\n",
      "8/8 [==============================] - 0s 16ms/step - loss: 5.5638e-04\n",
      "Epoch 46/50\n",
      "8/8 [==============================] - 0s 16ms/step - loss: 5.4784e-04\n",
      "Epoch 47/50\n",
      "8/8 [==============================] - 0s 15ms/step - loss: 5.9166e-04\n",
      "Epoch 48/50\n",
      "8/8 [==============================] - 0s 18ms/step - loss: 5.7377e-04\n",
      "Epoch 49/50\n",
      "8/8 [==============================] - 0s 18ms/step - loss: 5.5939e-04\n",
      "Epoch 50/50\n",
      "8/8 [==============================] - 0s 16ms/step - loss: 5.3754e-04\n"
     ]
    },
    {
     "data": {
      "text/plain": [
       "<tensorflow.python.keras.callbacks.History at 0x20f8a8f2640>"
      ]
     },
     "execution_count": 726,
     "metadata": {},
     "output_type": "execute_result"
    }
   ],
   "source": [
    "model = Sequential()\n",
    "\n",
    "#Adding the first LSTM layer and some Dropout regularisation\n",
    "model.add(LSTM(units = 50, return_sequences = True, activation='relu', input_shape = input_shape))\n",
    "model.add(Dropout(0.2))\n",
    "\n",
    "# Adding a second LSTM layer and some Dropout regularisation\n",
    "model.add(LSTM(units = 50, return_sequences = True,activation='relu'))\n",
    "model.add(Dropout(0.2))\n",
    "\n",
    "# Adding a third LSTM layer and some Dropout regularisation\n",
    "model.add(LSTM(units = 50, return_sequences = True, activation='relu'))\n",
    "model.add(Dropout(0.2))\n",
    "\n",
    "# Adding a fourth LSTM layer and some Dropout regularisation\n",
    "model.add(LSTM(units = 50, activation='relu'))\n",
    "model.add(Dropout(0.2))\n",
    "\n",
    "# Adding the output layer\n",
    "model.add(Dense(units = 1, activation='relu'))\n",
    "\n",
    "# Compiling the RNN\n",
    "model.compile(optimizer = 'adam', loss = 'mean_squared_error')\n",
    "\n",
    "# Fitting the RNN to the Training set\n",
    "model.fit(X_train, y_train, epochs = 50, batch_size = 128)"
   ]
  },
  {
   "cell_type": "code",
   "execution_count": 727,
   "id": "successful-institution",
   "metadata": {},
   "outputs": [],
   "source": [
    "y_pred = model.predict(X_test)\n",
    "#y_pred = sc.inverse_transform(y_pred) #revert scaling"
   ]
  },
  {
   "cell_type": "code",
   "execution_count": 728,
   "id": "friendly-winner",
   "metadata": {},
   "outputs": [
    {
     "data": {
      "text/plain": [
       "(296, 1)"
      ]
     },
     "execution_count": 728,
     "metadata": {},
     "output_type": "execute_result"
    }
   ],
   "source": [
    "y_pred.shape"
   ]
  },
  {
   "cell_type": "code",
   "execution_count": 729,
   "id": "played-transaction",
   "metadata": {},
   "outputs": [
    {
     "data": {
      "image/png": "[encoded data removed]",
      "text/plain": [
       "<Figure size 432x288 with 1 Axes>"
      ]
     },
     "metadata": {
      "needs_background": "light"
     },
     "output_type": "display_data"
    }
   ],
   "source": [
    "plt.plot(y_pred)\n",
    "plt.show()"
   ]
  },
  {
   "cell_type": "code",
   "execution_count": null,
   "id": "broad-warning",
   "metadata": {},
   "outputs": [],
   "source": []
  },
  {
   "cell_type": "code",
   "execution_count": 730,
   "id": "complete-owner",
   "metadata": {},
   "outputs": [
    {
     "data": {
      "text/plain": [
       "[<matplotlib.lines.Line2D at 0x20f92b8df10>]"
      ]
     },
     "execution_count": 730,
     "metadata": {},
     "output_type": "execute_result"
    },
    {
     "data": {
      "image/png": "[encoded data removed]",
      "text/plain": [
       "<Figure size 432x288 with 1 Axes>"
      ]
     },
     "metadata": {
      "needs_background": "light"
     },
     "output_type": "display_data"
    }
   ],
   "source": [
    "plt.plot(y_test.reshape(len(y_test)))"
   ]
  },
  {
   "cell_type": "code",
   "execution_count": 731,
   "id": "outer-computer",
   "metadata": {},
   "outputs": [
    {
     "data": {
      "text/plain": [
       "[<matplotlib.lines.Line2D at 0x20f92bc23d0>]"
      ]
     },
     "execution_count": 731,
     "metadata": {},
     "output_type": "execute_result"
    },
    {
     "data": {
      "image/png": "[encoded data removed]",
      "text/plain": [
       "<Figure size 432x288 with 1 Axes>"
      ]
     },
     "metadata": {
      "needs_background": "light"
     },
     "output_type": "display_data"
    }
   ],
   "source": [
    "plt.plot(df_merged['Infected'][1000:])"
   ]
  },
  {
   "cell_type": "code",
   "execution_count": null,
   "id": "mediterranean-incident",
   "metadata": {},
   "outputs": [],
   "source": []
  },
  {
   "cell_type": "code",
   "execution_count": null,
   "id": "apparent-raleigh",
   "metadata": {},
   "outputs": [],
   "source": []
  },
  {
   "cell_type": "code",
   "execution_count": null,
   "id": "dental-agenda",
   "metadata": {},
   "outputs": [],
   "source": []
  },
  {
   "cell_type": "code",
   "execution_count": 732,
   "id": "ranking-kansas",
   "metadata": {},
   "outputs": [
    {
     "name": "stdout",
     "output_type": "stream",
     "text": [
      "[[123.46404 141.79414]]\n"
     ]
    }
   ],
   "source": [
    "# univariate multi-step vector-output stacked lstm example\n",
    "from numpy import array\n",
    "from keras.models import Sequential\n",
    "from keras.layers import LSTM\n",
    "from keras.layers import Dense\n",
    "\n",
    "# split a univariate sequence into samples\n",
    "def split_sequence(sequence, n_steps_in, n_steps_out):\n",
    "\tX, y = list(), list()\n",
    "\tfor i in range(len(sequence)):\n",
    "\t\t# find the end of this pattern\n",
    "\t\tend_ix = i + n_steps_in\n",
    "\t\tout_end_ix = end_ix + n_steps_out\n",
    "\t\t# check if we are beyond the sequence\n",
    "\t\tif out_end_ix > len(sequence):\n",
    "\t\t\tbreak\n",
    "\t\t# gather input and output parts of the pattern\n",
    "\t\tseq_x, seq_y = sequence[i:end_ix], sequence[end_ix:out_end_ix]\n",
    "\t\tX.append(seq_x)\n",
    "\t\ty.append(seq_y)\n",
    "\treturn array(X), array(y)\n",
    "\n",
    "# define input sequence\n",
    "raw_seq = [10, 20, 30, 40, 50, 60, 70, 80, 90]\n",
    "\n",
    "# choose a number of time steps\n",
    "n_steps_in, n_steps_out = 3, 2\n",
    "\n",
    "# split into samples\n",
    "X, y = split_sequence(raw_seq, n_steps_in, n_steps_out)\n",
    "\n",
    "# reshape from [samples, timesteps] into [samples, timesteps, features]\n",
    "n_features = 1\n",
    "X = X.reshape((X.shape[0], X.shape[1], n_features))\n",
    "\n",
    "# define model\n",
    "model = Sequential()\n",
    "model.add(LSTM(100, activation='relu', return_sequences=True, input_shape=(n_steps_in, n_features)))\n",
    "model.add(LSTM(100, activation='relu'))\n",
    "model.add(Dense(n_steps_out))\n",
    "model.compile(optimizer='adam', loss='mse')\n",
    "\n",
    "# fit model\n",
    "model.fit(X, y, epochs=50, verbose=0)\n",
    "# demonstrate prediction\n",
    "x_input = array([70, 80, 90])\n",
    "x_input = x_input.reshape((1, n_steps_in, n_features))\n",
    "yhat = model.predict(x_input, verbose=0)\n",
    "print(yhat)"
   ]
  },
  {
   "cell_type": "code",
   "execution_count": 733,
   "id": "intended-import",
   "metadata": {},
   "outputs": [
    {
     "data": {
      "text/plain": [
       "(5, 3, 1)"
      ]
     },
     "execution_count": 733,
     "metadata": {},
     "output_type": "execute_result"
    }
   ],
   "source": [
    "X.shape"
   ]
  },
  {
   "cell_type": "code",
   "execution_count": 734,
   "id": "surrounded-venue",
   "metadata": {},
   "outputs": [
    {
     "data": {
      "text/plain": [
       "array([[[10],\n",
       "        [20],\n",
       "        [30]],\n",
       "\n",
       "       [[20],\n",
       "        [30],\n",
       "        [40]],\n",
       "\n",
       "       [[30],\n",
       "        [40],\n",
       "        [50]],\n",
       "\n",
       "       [[40],\n",
       "        [50],\n",
       "        [60]],\n",
       "\n",
       "       [[50],\n",
       "        [60],\n",
       "        [70]]])"
      ]
     },
     "execution_count": 734,
     "metadata": {},
     "output_type": "execute_result"
    }
   ],
   "source": [
    "X"
   ]
  },
  {
   "cell_type": "code",
   "execution_count": 735,
   "id": "active-level",
   "metadata": {},
   "outputs": [
    {
     "data": {
      "text/plain": [
       "array([[40, 50],\n",
       "       [50, 60],\n",
       "       [60, 70],\n",
       "       [70, 80],\n",
       "       [80, 90]])"
      ]
     },
     "execution_count": 735,
     "metadata": {},
     "output_type": "execute_result"
    }
   ],
   "source": [
    "y"
   ]
  },
  {
   "cell_type": "code",
   "execution_count": null,
   "id": "fitting-catch",
   "metadata": {},
   "outputs": [],
   "source": []
  },
  {
   "cell_type": "code",
   "execution_count": null,
   "id": "corrected-subdivision",
   "metadata": {},
   "outputs": [],
   "source": []
  },
  {
   "cell_type": "code",
   "execution_count": 736,
   "id": "atmospheric-conversation",
   "metadata": {},
   "outputs": [
    {
     "name": "stdout",
     "output_type": "stream",
     "text": [
      "[[186.81908 207.46407]]\n"
     ]
    }
   ],
   "source": [
    "\n",
    "# multivariate multi-step stacked lstm example\n",
    "from numpy import array\n",
    "from numpy import hstack\n",
    "from keras.models import Sequential\n",
    "from keras.layers import LSTM\n",
    "from keras.layers import Dense\n",
    " \n",
    "# split a multivariate sequence into samples\n",
    "def split_sequences(sequences, n_steps_in, n_steps_out):\n",
    "\tX, y = list(), list()\n",
    "\tfor i in range(len(sequences)):\n",
    "\t\t# find the end of this pattern\n",
    "\t\tend_ix = i + n_steps_in\n",
    "\t\tout_end_ix = end_ix + n_steps_out-1\n",
    "\t\t# check if we are beyond the dataset\n",
    "\t\tif out_end_ix > len(sequences):\n",
    "\t\t\tbreak\n",
    "\t\t# gather input and output parts of the pattern\n",
    "\t\tseq_x, seq_y = sequences[i:end_ix, :-1], sequences[end_ix-1:out_end_ix, -1]\n",
    "\t\tX.append(seq_x)\n",
    "\t\ty.append(seq_y)\n",
    "\treturn array(X), array(y)\n",
    " \n",
    "# define input sequence\n",
    "in_seq1 = array([10, 20, 30, 40, 50, 60, 70, 80, 90])\n",
    "in_seq2 = array([15, 25, 35, 45, 55, 65, 75, 85, 95])\n",
    "out_seq = array([in_seq1[i]+in_seq2[i] for i in range(len(in_seq1))])\n",
    "\n",
    "# convert to [rows, columns] structure\n",
    "in_seq1 = in_seq1.reshape((len(in_seq1), 1))\n",
    "in_seq2 = in_seq2.reshape((len(in_seq2), 1))\n",
    "out_seq = out_seq.reshape((len(out_seq), 1))\n",
    "\n",
    "# horizontally stack columns\n",
    "dataset = hstack((in_seq1, in_seq2, out_seq))\n",
    "\n",
    "# choose a number of time steps\n",
    "n_steps_in, n_steps_out = 3, 2\n",
    "\n",
    "# covert into input/output\n",
    "X, y = split_sequences(dataset, n_steps_in, n_steps_out)\n",
    "\n",
    "# the dataset knows the number of features, e.g. 2\n",
    "n_features = X.shape[2]\n",
    "\n",
    "# define model\n",
    "model = Sequential()\n",
    "model.add(LSTM(100, activation='relu', return_sequences=True, input_shape=(n_steps_in, n_features)))\n",
    "model.add(LSTM(100, activation='relu'))\n",
    "model.add(Dense(n_steps_out))\n",
    "model.compile(optimizer='adam', loss='mse')\n",
    "\n",
    "# fit model\n",
    "model.fit(X, y, epochs=200, verbose=0)\n",
    "\n",
    "# demonstrate prediction\n",
    "x_input = array([[70, 75], [80, 85], [90, 95]])\n",
    "x_input = x_input.reshape((1, n_steps_in, n_features))\n",
    "yhat = model.predict(x_input, verbose=0)\n",
    "\n",
    "print(yhat)"
   ]
  },
  {
   "cell_type": "code",
   "execution_count": 737,
   "id": "modern-relevance",
   "metadata": {},
   "outputs": [
    {
     "data": {
      "text/plain": [
       "array([[[10, 15],\n",
       "        [20, 25],\n",
       "        [30, 35]],\n",
       "\n",
       "       [[20, 25],\n",
       "        [30, 35],\n",
       "        [40, 45]],\n",
       "\n",
       "       [[30, 35],\n",
       "        [40, 45],\n",
       "        [50, 55]],\n",
       "\n",
       "       [[40, 45],\n",
       "        [50, 55],\n",
       "        [60, 65]],\n",
       "\n",
       "       [[50, 55],\n",
       "        [60, 65],\n",
       "        [70, 75]],\n",
       "\n",
       "       [[60, 65],\n",
       "        [70, 75],\n",
       "        [80, 85]]])"
      ]
     },
     "execution_count": 737,
     "metadata": {},
     "output_type": "execute_result"
    }
   ],
   "source": [
    "X"
   ]
  },
  {
   "cell_type": "code",
   "execution_count": 738,
   "id": "regulated-delay",
   "metadata": {},
   "outputs": [
    {
     "data": {
      "text/plain": [
       "array([[ 10,  15,  25],\n",
       "       [ 20,  25,  45],\n",
       "       [ 30,  35,  65],\n",
       "       [ 40,  45,  85],\n",
       "       [ 50,  55, 105],\n",
       "       [ 60,  65, 125],\n",
       "       [ 70,  75, 145],\n",
       "       [ 80,  85, 165],\n",
       "       [ 90,  95, 185]])"
      ]
     },
     "execution_count": 738,
     "metadata": {},
     "output_type": "execute_result"
    }
   ],
   "source": [
    "dataset"
   ]
  },
  {
   "cell_type": "code",
   "execution_count": 739,
   "id": "described-burke",
   "metadata": {},
   "outputs": [
    {
     "data": {
      "text/plain": [
       "array([[ 65,  85],\n",
       "       [ 85, 105],\n",
       "       [105, 125],\n",
       "       [125, 145],\n",
       "       [145, 165],\n",
       "       [165, 185]])"
      ]
     },
     "execution_count": 739,
     "metadata": {},
     "output_type": "execute_result"
    }
   ],
   "source": [
    "y"
   ]
  },
  {
   "cell_type": "code",
   "execution_count": null,
   "id": "forward-counter",
   "metadata": {},
   "outputs": [],
   "source": []
  },
  {
   "cell_type": "code",
   "execution_count": null,
   "id": "national-witness",
   "metadata": {},
   "outputs": [],
   "source": []
  },
  {
   "cell_type": "code",
   "execution_count": null,
   "id": "modern-generator",
   "metadata": {},
   "outputs": [],
   "source": []
  },
  {
   "cell_type": "code",
   "execution_count": null,
   "id": "minus-homeless",
   "metadata": {},
   "outputs": [],
   "source": []
  },
  {
   "cell_type": "code",
   "execution_count": 740,
   "id": "dressed-basic",
   "metadata": {},
   "outputs": [
    {
     "name": "stdout",
     "output_type": "stream",
     "text": [
      "(1, 10, 2)\n"
     ]
    }
   ],
   "source": [
    "from numpy import array\n",
    "data = array([\n",
    "\t[0.1, 1.0],\n",
    "\t[0.2, 0.9],\n",
    "\t[0.3, 0.8],\n",
    "\t[0.4, 0.7],\n",
    "\t[0.5, 0.6],\n",
    "\t[0.6, 0.5],\n",
    "\t[0.7, 0.4],\n",
    "\t[0.8, 0.3],\n",
    "\t[0.9, 0.2],\n",
    "\t[1.0, 0.1]])\n",
    "data = data.reshape(1, 10, 2)\n",
    "print(data.shape)"
   ]
  },
  {
   "cell_type": "code",
   "execution_count": 741,
   "id": "sought-snake",
   "metadata": {},
   "outputs": [
    {
     "data": {
      "text/plain": [
       "array([[[0.1, 1. ],\n",
       "        [0.2, 0.9],\n",
       "        [0.3, 0.8],\n",
       "        [0.4, 0.7],\n",
       "        [0.5, 0.6],\n",
       "        [0.6, 0.5],\n",
       "        [0.7, 0.4],\n",
       "        [0.8, 0.3],\n",
       "        [0.9, 0.2],\n",
       "        [1. , 0.1]]])"
      ]
     },
     "execution_count": 741,
     "metadata": {},
     "output_type": "execute_result"
    }
   ],
   "source": [
    "data"
   ]
  },
  {
   "cell_type": "code",
   "execution_count": 742,
   "id": "valued-hawaiian",
   "metadata": {},
   "outputs": [
    {
     "data": {
      "text/plain": [
       "array([[ 10,  15,  25],\n",
       "       [ 20,  25,  45],\n",
       "       [ 30,  35,  65],\n",
       "       [ 40,  45,  85],\n",
       "       [ 50,  55, 105],\n",
       "       [ 60,  65, 125],\n",
       "       [ 70,  75, 145],\n",
       "       [ 80,  85, 165],\n",
       "       [ 90,  95, 185]])"
      ]
     },
     "execution_count": 742,
     "metadata": {},
     "output_type": "execute_result"
    }
   ],
   "source": [
    "# define input sequence\n",
    "in_seq1 = array([10, 20, 30, 40, 50, 60, 70, 80, 90])\n",
    "in_seq2 = array([15, 25, 35, 45, 55, 65, 75, 85, 95])\n",
    "out_seq = array([in_seq1[i]+in_seq2[i] for i in range(len(in_seq1))])\n",
    "\n",
    "# convert to [rows, columns] structure\n",
    "in_seq1 = in_seq1.reshape((len(in_seq1), 1))\n",
    "in_seq2 = in_seq2.reshape((len(in_seq2), 1))\n",
    "out_seq = out_seq.reshape((len(out_seq), 1))\n",
    "\n",
    "# horizontally stack columns\n",
    "dataset = hstack((in_seq1, in_seq2, out_seq))\n",
    "dataset"
   ]
  },
  {
   "cell_type": "code",
   "execution_count": null,
   "id": "ceramic-london",
   "metadata": {},
   "outputs": [],
   "source": []
  }
 ],
 "metadata": {
  "kernelspec": {
   "display_name": "Python 3",
   "language": "python",
   "name": "python3"
  },
  "language_info": {
   "codemirror_mode": {
    "name": "ipython",
    "version": 3
   },
   "file_extension": ".py",
   "mimetype": "text/x-python",
   "name": "python",
   "nbconvert_exporter": "python",
   "pygments_lexer": "ipython3",
   "version": "3.8.5"
  }
 },
 "nbformat": 4,
 "nbformat_minor": 5
}
