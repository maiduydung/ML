{
 "cells": [
  {
   "cell_type": "code",
   "execution_count": 169,
   "id": "burning-scholarship",
   "metadata": {},
   "outputs": [],
   "source": [
    "import tensorflow as tf\n",
    "\n",
    "from tensorflow.keras import datasets, layers, models\n",
    "import matplotlib.pyplot as plt\n",
    "import PIL\n",
    "import os\n",
    "import re #regex\n",
    "import numpy as np\n",
    "import random"
   ]
  },
  {
   "cell_type": "markdown",
   "id": "smooth-citizen",
   "metadata": {},
   "source": [
    "### Converting images to numpy array"
   ]
  },
  {
   "cell_type": "markdown",
   "id": "continuing-district",
   "metadata": {},
   "source": [
    "img_dict = {}\n",
    "directory ='skulls/'\n",
    "\n",
    "for filename in os.listdir(directory):\n",
    "    if filename.endswith(\".jpg\"): \n",
    "        img = PIL.Image.open(directory+filename)\n",
    "        img_sequence = img.getdata()\n",
    "        img_array = np.array(img_sequence) \n",
    "        img_array = img_array/255 #normalize\n",
    "        #print(img_array.shape)\n",
    "        key = re.sub(r'\\.[^.]*$',\"\",filename)\n",
    "        img_dict[key] = img_array #saving np array to a dictionary"
   ]
  },
  {
   "cell_type": "code",
   "execution_count": null,
   "id": "commercial-cigarette",
   "metadata": {},
   "outputs": [],
   "source": [
    "\n"
   ]
  },
  {
   "cell_type": "code",
   "execution_count": 170,
   "id": "micro-casino",
   "metadata": {},
   "outputs": [
    {
     "name": "stdout",
     "output_type": "stream",
     "text": [
      "(73, 255, 255, 3)\n",
      "(73,)\n"
     ]
    }
   ],
   "source": [
    "directory ='skulls/'\n",
    "size = (255,255)\n",
    "\n",
    "X=[]\n",
    "Y=[]\n",
    "\n",
    "for filename in os.listdir(directory):\n",
    "    if filename.endswith(\".jpg\"):\n",
    "        img = PIL.Image.open(directory+filename)\n",
    "        img = img.convert(\"RGB\")\n",
    "        img = img.resize(size)\n",
    "        data = np.array(img).astype('float32')/255\n",
    "        X.append(data)\n",
    "        label = re.sub(r'\\.[^.]*$',\"\",filename) #removing file extension\n",
    "        Y.append(label)\n",
    "        \n",
    "X = np.array(X)\n",
    "Y = np.array(Y)\n",
    "OneHot_labels = np.array([i for i in range(0,73)])\n",
    "print(X.shape)\n",
    "print(Y.shape)"
   ]
  },
  {
   "cell_type": "code",
   "execution_count": 171,
   "id": "driving-radar",
   "metadata": {},
   "outputs": [
    {
     "data": {
      "text/plain": [
       "array([ 0,  1,  2,  3,  4,  5,  6,  7,  8,  9, 10, 11, 12, 13, 14, 15, 16,\n",
       "       17, 18, 19, 20, 21, 22, 23, 24, 25, 26, 27, 28, 29, 30, 31, 32, 33,\n",
       "       34, 35, 36, 37, 38, 39, 40, 41, 42, 43, 44, 45, 46, 47, 48, 49, 50,\n",
       "       51, 52, 53, 54, 55, 56, 57, 58, 59, 60, 61, 62, 63, 64, 65, 66, 67,\n",
       "       68, 69, 70, 71, 72])"
      ]
     },
     "execution_count": 171,
     "metadata": {},
     "output_type": "execute_result"
    }
   ],
   "source": [
    "OneHot_labels"
   ]
  },
  {
   "cell_type": "code",
   "execution_count": 174,
   "id": "endless-buddy",
   "metadata": {},
   "outputs": [
    {
     "data": {
      "text/plain": [
       "array(['Angolan Colobus Monkey_Colobus angolensis',\n",
       "       'Australopithecus boisei',\n",
       "       'Aye-Aye          Daubentonia madagascarensis',\n",
       "       'Bearded Saki female_Chiropotes satanas satanas',\n",
       "       'Bearded Saki male_Chiropotes satanas satanas',\n",
       "       'Blue Monkey_Cercopitheous mitis', 'BonoboPygmy Chimpanzee female',\n",
       "       'Borneo Orangutan', 'Common Chimpanzee juvenile',\n",
       "       'Common Chimpanzee male', 'Common Chimpanzee male2',\n",
       "       'Common Marmoset_Callithrix jacchus',\n",
       "       'Common Squirrel Monkey female_Saimiri sciurea sciurea',\n",
       "       'Common Squirrel Monkey male_Saimiri sciurea sciurea',\n",
       "       'Crab- eating Monkey_Maccaca facicularis',\n",
       "       'De Brazza monkey female_Cercopithecus neglectus',\n",
       "       \"De Brazza's monkey juvenile male_Cercopithecus neglectus\",\n",
       "       \"Demidoff's Bush Baby (male)          Galagoides demidoff\",\n",
       "       'Diana Monkey female_Cercopitheous diana',\n",
       "       'GalagoBush Baby          Galagos senegalensis',\n",
       "       'Gelada Baboon male', 'Gibbon likely male',\n",
       "       'Golden Lion Tamarin (female)          Leontopithecus rosalia',\n",
       "       'Gorilla  male',\n",
       "       'Gray-necked Owl Monkey female_ Aotus lemurinus griseimembra',\n",
       "       'Gray-necked Owl Monkey male_ Aotus lemurinus griseimembra',\n",
       "       'Hanuman Langur_Semnopithecus entellus', 'Homo sapien example #3',\n",
       "       'Hoolock Gibbon female', 'Hoolock Gibbon male', 'Juvenile Baboon',\n",
       "       'langur', 'Lesser Spot-Nosed Guenon male_Cercopithecus pataurista',\n",
       "       'Lowland Gorilla female', 'Lowland Gorilla male', 'Mandrill male',\n",
       "       'Mandrill2 male',\n",
       "       'Mantled Howler Monkey          Alouatta palliata',\n",
       "       'Mona Monkey_Chlorocebus mona', 'Mountain Gorilla',\n",
       "       'Mustached Guenon female_Cercopithecus cephus',\n",
       "       'Mustached Guenon_Cercopithecus cephus', 'Olive Baboon male',\n",
       "       'Orangutan juvenile', 'Orangutan male', 'Orangutan2 male',\n",
       "       'Owl Monkey Northern Gray-Necked     Aotus trivirgatus',\n",
       "       'Owl Monkey species unknown', 'Potto          Potto perodreticus',\n",
       "       'Potto (male)          Potto perodreticus',\n",
       "       'Putty-nosed or Greater spot-nosed Guenon  male_Cercopithecus nictitans',\n",
       "       'Putty-nosed or Greater spot-nosed Guenon female_Cercopithecus nictitans',\n",
       "       'Red Howler Monkey female_ Alouatta seniculus seniculus',\n",
       "       'Red Howler Monkey male_Alouatta seniculus seniculus',\n",
       "       'Red Ruffed Lemur          Valecia veriegata',\n",
       "       'Redtail monkey female_Cercopithecus ascanius',\n",
       "       'Redtail monkey male_Cercopithecus ascanius',\n",
       "       'Rhesus Macaque male', 'Ring-tail Lemur          Lemur catta',\n",
       "       'Skhul V Homo sapiens', 'Sooty, Mangabey female',\n",
       "       'Spider Monkey male     Ateles pansicus',\n",
       "       'Stump-tailed Macaque male_Macaca arctoides',\n",
       "       'Talapoin Monkey female_Miopithecus talapoin',\n",
       "       'Tamarin, Cotton Top          Saguinus oedipus',\n",
       "       'Vervet or Green Monkey female_Chlorocebus aethiops',\n",
       "       'Vervet or Green Monkey_Chlorocebus aethiops',\n",
       "       'Western  Colobus Monkey_Colobus polykomos',\n",
       "       'White-belied Spider Monkey female          Ateles belzebuth',\n",
       "       'White-faced Saki 2 female_Pithecia Pithecia',\n",
       "       'White-faced Saki female_Pithecia Pithecia',\n",
       "       'White-fronted Capuchin (male)          Cebus albifrons versicolor',\n",
       "       'Wooly Monkey'], dtype='<U71')"
      ]
     },
     "execution_count": 174,
     "metadata": {},
     "output_type": "execute_result"
    }
   ],
   "source": [
    "Y"
   ]
  },
  {
   "cell_type": "markdown",
   "id": "funded-celtic",
   "metadata": {},
   "source": [
    "### Setting up CNN"
   ]
  },
  {
   "cell_type": "code",
   "execution_count": 172,
   "id": "automatic-bikini",
   "metadata": {},
   "outputs": [
    {
     "name": "stdout",
     "output_type": "stream",
     "text": [
      "Model: \"sequential_16\"\n",
      "_________________________________________________________________\n",
      "Layer (type)                 Output Shape              Param #   \n",
      "=================================================================\n",
      "conv2d_42 (Conv2D)           (None, 253, 253, 32)      896       \n",
      "_________________________________________________________________\n",
      "max_pooling2d_28 (MaxPooling (None, 126, 126, 32)      0         \n",
      "_________________________________________________________________\n",
      "conv2d_43 (Conv2D)           (None, 124, 124, 64)      18496     \n",
      "_________________________________________________________________\n",
      "max_pooling2d_29 (MaxPooling (None, 62, 62, 64)        0         \n",
      "_________________________________________________________________\n",
      "conv2d_44 (Conv2D)           (None, 60, 60, 64)        36928     \n",
      "_________________________________________________________________\n",
      "flatten_11 (Flatten)         (None, 230400)            0         \n",
      "_________________________________________________________________\n",
      "dense_22 (Dense)             (None, 64)                14745664  \n",
      "_________________________________________________________________\n",
      "dense_23 (Dense)             (None, 73)                4745      \n",
      "=================================================================\n",
      "Total params: 14,806,729\n",
      "Trainable params: 14,806,729\n",
      "Non-trainable params: 0\n",
      "_________________________________________________________________\n"
     ]
    }
   ],
   "source": [
    "model = models.Sequential()\n",
    "model.add(layers.Conv2D(32, (3, 3), activation='relu', input_shape=(255, 255, 3)))\n",
    "model.add(layers.MaxPooling2D((2, 2)))\n",
    "model.add(layers.Conv2D(64, (3, 3), activation='relu'))\n",
    "model.add(layers.MaxPooling2D((2, 2)))\n",
    "model.add(layers.Conv2D(64, (3, 3), activation='relu'))\n",
    "\n",
    "model.add(layers.Flatten())\n",
    "model.add(layers.Dense(64, activation='relu'))\n",
    "model.add(layers.Dense(73)) #73 classes\n",
    "\n",
    "model.summary()"
   ]
  },
  {
   "cell_type": "code",
   "execution_count": 173,
   "id": "greatest-paintball",
   "metadata": {},
   "outputs": [
    {
     "name": "stdout",
     "output_type": "stream",
     "text": [
      "Epoch 1/30\n",
      "3/3 [==============================] - 2s 765ms/step - loss: 6.5114 - accuracy: 0.0137\n",
      "Epoch 2/30\n",
      "3/3 [==============================] - 3s 910ms/step - loss: 4.3481 - accuracy: 0.0411\n",
      "Epoch 3/30\n",
      "3/3 [==============================] - 3s 1s/step - loss: 4.2188 - accuracy: 0.0822\n",
      "Epoch 4/30\n",
      "3/3 [==============================] - 3s 836ms/step - loss: 4.1223 - accuracy: 0.0548\n",
      "Epoch 5/30\n",
      "3/3 [==============================] - 3s 889ms/step - loss: 3.7780 - accuracy: 0.1781\n",
      "Epoch 6/30\n",
      "3/3 [==============================] - 3s 907ms/step - loss: 3.2788 - accuracy: 0.3425\n",
      "Epoch 7/30\n",
      "3/3 [==============================] - 3s 834ms/step - loss: 2.3718 - accuracy: 0.6027\n",
      "Epoch 8/30\n",
      "3/3 [==============================] - 3s 888ms/step - loss: 1.5671 - accuracy: 0.6575\n",
      "Epoch 9/30\n",
      "3/3 [==============================] - 3s 877ms/step - loss: 0.8218 - accuracy: 0.8904\n",
      "Epoch 10/30\n",
      "3/3 [==============================] - 3s 883ms/step - loss: 0.3969 - accuracy: 0.9589\n",
      "Epoch 11/30\n",
      "3/3 [==============================] - 3s 841ms/step - loss: 0.1461 - accuracy: 0.9726\n",
      "Epoch 12/30\n",
      "3/3 [==============================] - 2s 773ms/step - loss: 0.0545 - accuracy: 0.9863\n",
      "Epoch 13/30\n",
      "3/3 [==============================] - 2s 833ms/step - loss: 0.0233 - accuracy: 1.0000\n",
      "Epoch 14/30\n",
      "3/3 [==============================] - 2s 767ms/step - loss: 0.0123 - accuracy: 1.0000\n",
      "Epoch 15/30\n",
      "3/3 [==============================] - 2s 785ms/step - loss: 0.0045 - accuracy: 1.0000\n",
      "Epoch 16/30\n",
      "3/3 [==============================] - 3s 991ms/step - loss: 0.0012 - accuracy: 1.0000\n",
      "Epoch 17/30\n",
      "3/3 [==============================] - 3s 920ms/step - loss: 6.4188e-04 - accuracy: 1.0000\n",
      "Epoch 18/30\n",
      "3/3 [==============================] - 2s 782ms/step - loss: 2.9286e-04 - accuracy: 1.0000\n",
      "Epoch 19/30\n",
      "3/3 [==============================] - 3s 915ms/step - loss: 1.2057e-04 - accuracy: 1.0000\n",
      "Epoch 20/30\n",
      "3/3 [==============================] - 3s 974ms/step - loss: 5.3940e-05 - accuracy: 1.0000\n",
      "Epoch 21/30\n",
      "3/3 [==============================] - 3s 851ms/step - loss: 3.3518e-05 - accuracy: 1.0000\n",
      "Epoch 22/30\n",
      "3/3 [==============================] - 3s 1s/step - loss: 2.0490e-05 - accuracy: 1.0000\n",
      "Epoch 23/30\n",
      "3/3 [==============================] - 2s 804ms/step - loss: 1.6023e-05 - accuracy: 1.0000\n",
      "Epoch 24/30\n",
      "3/3 [==============================] - 3s 916ms/step - loss: 1.2309e-05 - accuracy: 1.0000\n",
      "Epoch 25/30\n",
      "3/3 [==============================] - 3s 925ms/step - loss: 9.7158e-06 - accuracy: 1.0000\n",
      "Epoch 26/30\n",
      "3/3 [==============================] - 3s 968ms/step - loss: 8.3214e-06 - accuracy: 1.0000\n",
      "Epoch 27/30\n",
      "3/3 [==============================] - 3s 844ms/step - loss: 7.0298e-06 - accuracy: 1.0000\n",
      "Epoch 28/30\n",
      "3/3 [==============================] - 2s 824ms/step - loss: 6.2656e-06 - accuracy: 1.0000\n",
      "Epoch 29/30\n",
      "3/3 [==============================] - 2s 771ms/step - loss: 5.6271e-06 - accuracy: 1.0000\n",
      "Epoch 30/30\n",
      "3/3 [==============================] - 3s 897ms/step - loss: 5.1797e-06 - accuracy: 1.0000\n"
     ]
    }
   ],
   "source": [
    "model.compile(optimizer='adam',\n",
    "              loss=tf.keras.losses.SparseCategoricalCrossentropy(from_logits=True),\n",
    "              metrics=['accuracy'])\n",
    "\n",
    "history = model.fit(X, OneHot_labels, epochs=30)"
   ]
  },
  {
   "cell_type": "markdown",
   "id": "conservative-enhancement",
   "metadata": {},
   "source": [
    "### Overfit"
   ]
  },
  {
   "cell_type": "code",
   "execution_count": null,
   "id": "portuguese-medicare",
   "metadata": {},
   "outputs": [],
   "source": []
  }
 ],
 "metadata": {
  "kernelspec": {
   "display_name": "Python 3",
   "language": "python",
   "name": "python3"
  },
  "language_info": {
   "codemirror_mode": {
    "name": "ipython",
    "version": 3
   },
   "file_extension": ".py",
   "mimetype": "text/x-python",
   "name": "python",
   "nbconvert_exporter": "python",
   "pygments_lexer": "ipython3",
   "version": "3.8.5"
  }
 },
 "nbformat": 4,
 "nbformat_minor": 5
}
