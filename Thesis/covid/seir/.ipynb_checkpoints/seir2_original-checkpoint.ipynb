{
 "cells": [
  {
   "cell_type": "markdown",
   "metadata": {},
   "source": [
    "### Analysis of infection based on SEIR model  \n",
    "- Data from JHU CSSE COVID-19 Dataset\n",
    " - https://github.com/CSSEGISandData/COVID-19/tree/master/csse_covid_19_data/csse_covid_19_time_series  "
   ]
  },
  {
   "cell_type": "markdown",
   "metadata": {},
   "source": [
    "#### Import libraries  "
   ]
  },
  {
   "cell_type": "code",
   "execution_count": 21,
   "metadata": {},
   "outputs": [],
   "source": [
    "import numpy as np\n",
    "import pandas as pd\n",
    "import matplotlib.pyplot as plt\n",
    "from scipy.integrate import odeint, solve_ivp\n",
    "from scipy.optimize import minimize"
   ]
  },
  {
   "cell_type": "markdown",
   "metadata": {},
   "source": [
    "#### Parameters  "
   ]
  },
  {
   "cell_type": "code",
   "execution_count": 22,
   "metadata": {},
   "outputs": [],
   "source": [
    "csv_in = 'time_series_covid19-japan.20200301-20200419.csv'\n",
    "\n",
    "dt = 0.01  # for odeint"
   ]
  },
  {
   "cell_type": "markdown",
   "metadata": {},
   "source": [
    "#### Definition of differencial equations of SEIR model  \n",
    "- S: #Susceptible = the number of people who are not immune\n",
    " - 影響を受けやすい = 免疫を持たない人数  \n",
    "- E: #Exposed = the number of people who are infected and during the incubation period\n",
    " - 曝露されている = 感染し、かつ潜伏期間中の人数\n",
    "- I: #Infectious = the number of people who are onset\n",
    " - 伝染性のある = すでに発症している人数\n",
    "- R: #Removed = the number of people who have been infected and are recovered (have immunity) or dead\n",
    " - この系から取り除かれた = 免疫を獲得した or 死亡した人数\n",
    "- beta: infectious rate (S -> E, 感染率)\n",
    "- lp: length of latent period (incubation period, E -> I, 潜伏期間)\n",
    "- ip: length of infectious period (I -> R, 感染期間)"
   ]
  },
  {
   "cell_type": "code",
   "execution_count": 23,
   "metadata": {},
   "outputs": [],
   "source": [
    "def seir_eq(v, t, beta, lp, ip):\n",
    "    S, E, I, R = v\n",
    "    dSdt = -beta * S * I\n",
    "    dEdt = beta * S * I - E / lp\n",
    "    dIdt = E / lp - I / ip\n",
    "    dRdt = I / ip\n",
    "    return dSdt, dEdt, dIdt, dRdt"
   ]
  },
  {
   "cell_type": "markdown",
   "metadata": {},
   "source": [
    "#### Function to estimate S,E,I,R from SEIR model with given parameters   "
   ]
  },
  {
   "cell_type": "code",
   "execution_count": 24,
   "metadata": {},
   "outputs": [],
   "source": [
    "def estimate_seir(seir_eq, init_state, t, beta, lp, ip, num_t, step_t):\n",
    "    sol = odeint(seir_eq, init_state, t, args=(beta, lp, ip))\n",
    "    est = sol[0:num_t:step_t]\n",
    "    return est"
   ]
  },
  {
   "cell_type": "markdown",
   "metadata": {},
   "source": [
    "#### Read CSV file  "
   ]
  },
  {
   "cell_type": "code",
   "execution_count": 25,
   "metadata": {},
   "outputs": [
    {
     "name": "stdout",
     "output_type": "stream",
     "text": [
      "(50, 6)\n",
      "<class 'pandas.core.frame.DataFrame'>\n",
      "RangeIndex: 50 entries, 0 to 49\n",
      "Data columns (total 6 columns):\n",
      " #   Column        Non-Null Count  Dtype \n",
      "---  ------        --------------  ----- \n",
      " 0   Date          50 non-null     object\n",
      " 1   Confirmed     50 non-null     int64 \n",
      " 2   Recovered     50 non-null     int64 \n",
      " 3   Deaths        50 non-null     int64 \n",
      " 4   Removed_tot   50 non-null     int64 \n",
      " 5   Infected_tot  50 non-null     int64 \n",
      "dtypes: int64(5), object(1)\n",
      "memory usage: 2.5+ KB\n",
      "None\n"
     ]
    },
    {
     "data": {
      "text/html": [
       "<div>\n",
       "<style scoped>\n",
       "    .dataframe tbody tr th:only-of-type {\n",
       "        vertical-align: middle;\n",
       "    }\n",
       "\n",
       "    .dataframe tbody tr th {\n",
       "        vertical-align: top;\n",
       "    }\n",
       "\n",
       "    .dataframe thead th {\n",
       "        text-align: right;\n",
       "    }\n",
       "</style>\n",
       "<table border=\"1\" class=\"dataframe\">\n",
       "  <thead>\n",
       "    <tr style=\"text-align: right;\">\n",
       "      <th></th>\n",
       "      <th>Date</th>\n",
       "      <th>Confirmed</th>\n",
       "      <th>Recovered</th>\n",
       "      <th>Deaths</th>\n",
       "      <th>Removed_tot</th>\n",
       "      <th>Infected_tot</th>\n",
       "    </tr>\n",
       "  </thead>\n",
       "  <tbody>\n",
       "    <tr>\n",
       "      <th>0</th>\n",
       "      <td>2020-03-01</td>\n",
       "      <td>15</td>\n",
       "      <td>1</td>\n",
       "      <td>0</td>\n",
       "      <td>16</td>\n",
       "      <td>175</td>\n",
       "    </tr>\n",
       "    <tr>\n",
       "      <th>1</th>\n",
       "      <td>2020-03-02</td>\n",
       "      <td>16</td>\n",
       "      <td>1</td>\n",
       "      <td>0</td>\n",
       "      <td>17</td>\n",
       "      <td>190</td>\n",
       "    </tr>\n",
       "    <tr>\n",
       "      <th>2</th>\n",
       "      <td>2020-03-03</td>\n",
       "      <td>17</td>\n",
       "      <td>3</td>\n",
       "      <td>0</td>\n",
       "      <td>20</td>\n",
       "      <td>204</td>\n",
       "    </tr>\n",
       "    <tr>\n",
       "      <th>3</th>\n",
       "      <td>2020-03-04</td>\n",
       "      <td>20</td>\n",
       "      <td>3</td>\n",
       "      <td>0</td>\n",
       "      <td>23</td>\n",
       "      <td>221</td>\n",
       "    </tr>\n",
       "    <tr>\n",
       "      <th>4</th>\n",
       "      <td>2020-03-05</td>\n",
       "      <td>21</td>\n",
       "      <td>3</td>\n",
       "      <td>0</td>\n",
       "      <td>26</td>\n",
       "      <td>239</td>\n",
       "    </tr>\n",
       "  </tbody>\n",
       "</table>\n",
       "</div>"
      ],
      "text/plain": [
       "         Date  Confirmed  Recovered  Deaths  Removed_tot  Infected_tot\n",
       "0  2020-03-01         15          1       0           16           175\n",
       "1  2020-03-02         16          1       0           17           190\n",
       "2  2020-03-03         17          3       0           20           204\n",
       "3  2020-03-04         20          3       0           23           221\n",
       "4  2020-03-05         21          3       0           26           239"
      ]
     },
     "metadata": {},
     "output_type": "display_data"
    },
    {
     "data": {
      "text/html": [
       "<div>\n",
       "<style scoped>\n",
       "    .dataframe tbody tr th:only-of-type {\n",
       "        vertical-align: middle;\n",
       "    }\n",
       "\n",
       "    .dataframe tbody tr th {\n",
       "        vertical-align: top;\n",
       "    }\n",
       "\n",
       "    .dataframe thead th {\n",
       "        text-align: right;\n",
       "    }\n",
       "</style>\n",
       "<table border=\"1\" class=\"dataframe\">\n",
       "  <thead>\n",
       "    <tr style=\"text-align: right;\">\n",
       "      <th></th>\n",
       "      <th>Date</th>\n",
       "      <th>Confirmed</th>\n",
       "      <th>Recovered</th>\n",
       "      <th>Deaths</th>\n",
       "      <th>Removed_tot</th>\n",
       "      <th>Infected_tot</th>\n",
       "    </tr>\n",
       "  </thead>\n",
       "  <tbody>\n",
       "    <tr>\n",
       "      <th>45</th>\n",
       "      <td>2020-04-15</td>\n",
       "      <td>545</td>\n",
       "      <td>33</td>\n",
       "      <td>11</td>\n",
       "      <td>852</td>\n",
       "      <td>6420</td>\n",
       "    </tr>\n",
       "    <tr>\n",
       "      <th>46</th>\n",
       "      <td>2020-04-16</td>\n",
       "      <td>540</td>\n",
       "      <td>38</td>\n",
       "      <td>13</td>\n",
       "      <td>903</td>\n",
       "      <td>6909</td>\n",
       "    </tr>\n",
       "    <tr>\n",
       "      <th>47</th>\n",
       "      <td>2020-04-17</td>\n",
       "      <td>529</td>\n",
       "      <td>35</td>\n",
       "      <td>13</td>\n",
       "      <td>951</td>\n",
       "      <td>7390</td>\n",
       "    </tr>\n",
       "    <tr>\n",
       "      <th>48</th>\n",
       "      <td>2020-04-18</td>\n",
       "      <td>513</td>\n",
       "      <td>43</td>\n",
       "      <td>14</td>\n",
       "      <td>1008</td>\n",
       "      <td>7846</td>\n",
       "    </tr>\n",
       "    <tr>\n",
       "      <th>49</th>\n",
       "      <td>2020-04-19</td>\n",
       "      <td>491</td>\n",
       "      <td>56</td>\n",
       "      <td>15</td>\n",
       "      <td>1079</td>\n",
       "      <td>8266</td>\n",
       "    </tr>\n",
       "  </tbody>\n",
       "</table>\n",
       "</div>"
      ],
      "text/plain": [
       "          Date  Confirmed  Recovered  Deaths  Removed_tot  Infected_tot\n",
       "45  2020-04-15        545         33      11          852          6420\n",
       "46  2020-04-16        540         38      13          903          6909\n",
       "47  2020-04-17        529         35      13          951          7390\n",
       "48  2020-04-18        513         43      14         1008          7846\n",
       "49  2020-04-19        491         56      15         1079          8266"
      ]
     },
     "metadata": {},
     "output_type": "display_data"
    }
   ],
   "source": [
    "df = pd.read_csv(csv_in, sep=',', skiprows=0, header=0)\n",
    "print(df.shape)\n",
    "print(df.info())\n",
    "display(df.head())\n",
    "display(df.tail())"
   ]
  },
  {
   "cell_type": "code",
   "execution_count": 26,
   "metadata": {},
   "outputs": [
    {
     "name": "stdout",
     "output_type": "stream",
     "text": [
      "<class 'pandas.core.frame.DataFrame'>\n",
      "RangeIndex: 50 entries, 0 to 49\n",
      "Data columns (total 6 columns):\n",
      " #   Column        Non-Null Count  Dtype         \n",
      "---  ------        --------------  -----         \n",
      " 0   Date          50 non-null     datetime64[ns]\n",
      " 1   Confirmed     50 non-null     int64         \n",
      " 2   Recovered     50 non-null     int64         \n",
      " 3   Deaths        50 non-null     int64         \n",
      " 4   Removed_tot   50 non-null     int64         \n",
      " 5   Infected_tot  50 non-null     int64         \n",
      "dtypes: datetime64[ns](1), int64(5)\n",
      "memory usage: 2.5 KB\n",
      "None\n"
     ]
    }
   ],
   "source": [
    "df['Date'] = pd.to_datetime(df['Date'])\n",
    "print(df.info())"
   ]
  },
  {
   "cell_type": "code",
   "execution_count": 27,
   "metadata": {},
   "outputs": [
    {
     "data": {
      "image/png": "[encoded data removed]",
      "text/plain": [
       "<Figure size 432x288 with 1 Axes>"
      ]
     },
     "metadata": {
      "needs_background": "light"
     },
     "output_type": "display_data"
    }
   ],
   "source": [
    "plt.plot(df['Date'], df['Confirmed'], label='Confirmed')\n",
    "plt.plot(df['Date'], df['Recovered'], label='Recovered')\n",
    "plt.plot(df['Date'], df['Deaths'], label='Deaths')\n",
    "plt.xticks(rotation=90)\n",
    "plt.xlabel('Date')\n",
    "plt.ylabel('Population')\n",
    "plt.legend()\n",
    "plt.show()"
   ]
  },
  {
   "cell_type": "code",
   "execution_count": 28,
   "metadata": {},
   "outputs": [
    {
     "name": "stdout",
     "output_type": "stream",
     "text": [
      "9345\n"
     ]
    }
   ],
   "source": [
    "obs_i = df['Infected_tot']\n",
    "obs_r = df['Removed_tot']\n",
    "print((obs_i+obs_r).max())"
   ]
  },
  {
   "cell_type": "code",
   "execution_count": 29,
   "metadata": {},
   "outputs": [
    {
     "data": {
      "image/png": "[encoded data removed]",
      "text/plain": [
       "<Figure size 432x288 with 1 Axes>"
      ]
     },
     "metadata": {
      "needs_background": "light"
     },
     "output_type": "display_data"
    }
   ],
   "source": [
    "plt.plot(df['Date'], obs_i, label='Infected_tot')\n",
    "plt.plot(df['Date'], obs_r, label='Removed_tot')\n",
    "plt.xticks(rotation=90)\n",
    "plt.xlabel('Date')\n",
    "plt.ylabel('Population')\n",
    "plt.legend()\n",
    "plt.show()"
   ]
  },
  {
   "cell_type": "markdown",
   "metadata": {},
   "source": [
    "#### Define t  "
   ]
  },
  {
   "cell_type": "code",
   "execution_count": 30,
   "metadata": {},
   "outputs": [],
   "source": [
    "t_max = len(obs_i)\n",
    "t = np.arange(0, t_max, dt)\n",
    "num_t = int(t_max/dt)\n",
    "step_t = int(1/dt)"
   ]
  },
  {
   "cell_type": "markdown",
   "metadata": {},
   "source": [
    "#### Objective function: mean square deviation of I and R    "
   ]
  },
  {
   "cell_type": "code",
   "execution_count": 31,
   "metadata": {},
   "outputs": [],
   "source": [
    "def y(params, seir_eq, init_state, t, num_t, step_t):\n",
    "    beta, lp, ip = params\n",
    "    est = estimate_seir(seir_eq, init_state, t, beta, lp, ip, num_t, step_t)\n",
    "    est_i = est[:, 2]\n",
    "    est_r = est[:, 3]\n",
    "    diff_i = est_i - obs_i\n",
    "    diff_r = est_r - obs_r\n",
    "    return np.sum(diff_i*diff_i + diff_r*diff_r)"
   ]
  },
  {
   "cell_type": "markdown",
   "metadata": {},
   "source": [
    "#### Optimize the objective function  "
   ]
  },
  {
   "cell_type": "code",
   "execution_count": 32,
   "metadata": {},
   "outputs": [
    {
     "name": "stdout",
     "output_type": "stream",
     "text": [
      " final_simplex: (array([[1.14730689e-05, 6.42667270e+00, 7.37262988e+01],\n",
      "       [1.14730689e-05, 6.42667270e+00, 7.37262988e+01],\n",
      "       [1.14730689e-05, 6.42667270e+00, 7.37262988e+01],\n",
      "       [1.14730689e-05, 6.42667270e+00, 7.37262988e+01]]), array([3046514.48569713, 3046514.48569717, 3046514.48569717,\n",
      "       3046514.48569717]))\n",
      "           fun: 3046514.485697129\n",
      "       message: 'Optimization terminated successfully.'\n",
      "          nfev: 527\n",
      "           nit: 263\n",
      "        status: 0\n",
      "       success: True\n",
      "             x: array([1.14730689e-05, 6.42667270e+00, 7.37262988e+01])\n"
     ]
    }
   ],
   "source": [
    "init_S = 20000\n",
    "init_E = 100\n",
    "init_I = 15\n",
    "init_R = 1\n",
    "init_state = [init_S, init_E, init_I, init_R]\n",
    "n_population = np.sum(init_state)\n",
    "\n",
    "init_beta = 0.3 / n_population\n",
    "init_lp = 2.0\n",
    "init_ip = 7.0\n",
    "\n",
    "init_params = [init_beta, init_lp, init_ip]\n",
    "results = minimize(y, init_params, args=(seir_eq, init_state, t, num_t, step_t),\n",
    "                   method='nelder-mead')\n",
    "\n",
    "print(results)"
   ]
  },
  {
   "cell_type": "markdown",
   "metadata": {},
   "source": [
    "#### Analysis of the results of the optimization  \n",
    "- R0: basic reproduction number (基本再生産数)\n",
    " - the number of secondary infections generated by the first infectious individual in a fully susceptible population over the course of the infectious period (周りが全員Sのとき、1人のIが何人に感染させるか)"
   ]
  },
  {
   "cell_type": "code",
   "execution_count": 33,
   "metadata": {},
   "outputs": [
    {
     "name": "stdout",
     "output_type": "stream",
     "text": [
      "Optimized parameters:\n",
      "  beta: 1.147306888214311e-05\n",
      "  lp: 6.426672696493279\n",
      "  ip: 73.72629876736684\n",
      "R0: 17.015458644554528\n"
     ]
    }
   ],
   "source": [
    "beta_opt = results.x[0]\n",
    "lp_opt = results.x[1]\n",
    "ip_opt = results.x[2]\n",
    "\n",
    "print('Optimized parameters:')\n",
    "print('  beta:', beta_opt)\n",
    "print('  lp:', lp_opt)\n",
    "print('  ip:', ip_opt)\n",
    "R0 = beta_opt * n_population * ip_opt\n",
    "print('R0:', R0)"
   ]
  },
  {
   "cell_type": "markdown",
   "metadata": {},
   "source": [
    "#### Result of the fitting to #Infected    "
   ]
  },
  {
   "cell_type": "code",
   "execution_count": 34,
   "metadata": {},
   "outputs": [
    {
     "name": "stdout",
     "output_type": "stream",
     "text": [
      "t_max: 50\n"
     ]
    }
   ],
   "source": [
    "t_max = len(obs_i)\n",
    "t = np.arange(0, t_max, dt)\n",
    "num_t = int(t_max/dt)\n",
    "step_t = int(1/dt)\n",
    "print('t_max:', t_max)\n",
    "est = estimate_seir(seir_eq, init_state, t, beta_opt, lp_opt, ip_opt, num_t, step_t)"
   ]
  },
  {
   "cell_type": "code",
   "execution_count": 35,
   "metadata": {},
   "outputs": [
    {
     "data": {
      "image/png": "[encoded data removed]",
      "text/plain": [
       "<Figure size 432x288 with 1 Axes>"
      ]
     },
     "metadata": {
      "needs_background": "light"
     },
     "output_type": "display_data"
    }
   ],
   "source": [
    "est_i = est[:, 2]\n",
    "plt.plot(obs_i, label='Observed')\n",
    "plt.plot(est_i, label='Estimated')\n",
    "plt.title('#Infected')\n",
    "plt.xlabel('Days')\n",
    "plt.ylabel('Population')\n",
    "plt.legend()\n",
    "plt.show()"
   ]
  },
  {
   "cell_type": "markdown",
   "metadata": {},
   "source": [
    "#### Result of the fitting to #Removed    "
   ]
  },
  {
   "cell_type": "code",
   "execution_count": 36,
   "metadata": {},
   "outputs": [
    {
     "data": {
      "image/png": "[encoded data removed]",
      "text/plain": [
       "<Figure size 432x288 with 1 Axes>"
      ]
     },
     "metadata": {
      "needs_background": "light"
     },
     "output_type": "display_data"
    }
   ],
   "source": [
    "est_r = est[:, 3]\n",
    "plt.plot(obs_r, label='Observed')\n",
    "plt.plot(est_r, label='Estimated')\n",
    "plt.title('#Removed')\n",
    "plt.xlabel('Days')\n",
    "plt.ylabel('Population')\n",
    "plt.legend()\n",
    "plt.show()"
   ]
  },
  {
   "cell_type": "markdown",
   "metadata": {},
   "source": [
    "#### Solve SEIR model  "
   ]
  },
  {
   "cell_type": "code",
   "execution_count": 37,
   "metadata": {},
   "outputs": [
    {
     "name": "stdout",
     "output_type": "stream",
     "text": [
      "t_max: 300\n"
     ]
    },
    {
     "data": {
      "image/png": "[encoded data removed]",
      "text/plain": [
       "<Figure size 432x288 with 1 Axes>"
      ]
     },
     "metadata": {
      "needs_background": "light"
     },
     "output_type": "display_data"
    }
   ],
   "source": [
    "t_max = 300\n",
    "t = np.arange(0, t_max, dt)\n",
    "num_t = int(t_max/dt)\n",
    "step_t = int(1/dt)\n",
    "print('t_max:', t_max)\n",
    "\n",
    "sol = odeint(seir_eq, init_state, t, args=(beta_opt, lp_opt, ip_opt))\n",
    "t_obs_i = range(len(obs_i))\n",
    "plt.scatter(t_obs_i, obs_i, marker='o')\n",
    "t_obs_r = range(len(obs_r))\n",
    "plt.scatter(t_obs_r, obs_r, marker='x')\n",
    "plt.plot(t, sol)\n",
    "plt.title('Fitting by SEIR model')\n",
    "plt.xlabel('Days')\n",
    "plt.ylabel('Population')\n",
    "labels = ['Infected', 'Removed', 'Susceptible', 'Exposed',\n",
    "          'Infected (Observed)', 'Removed (Observed)']\n",
    "plt.legend(labels)\n",
    "plt.show()"
   ]
  },
  {
   "cell_type": "code",
   "execution_count": 38,
   "metadata": {},
   "outputs": [
    {
     "name": "stdout",
     "output_type": "stream",
     "text": [
      "(116, 6)\n",
      "<class 'pandas.core.frame.DataFrame'>\n",
      "RangeIndex: 116 entries, 0 to 115\n",
      "Data columns (total 6 columns):\n",
      " #   Column        Non-Null Count  Dtype \n",
      "---  ------        --------------  ----- \n",
      " 0   Date          116 non-null    object\n",
      " 1   Confirmed     116 non-null    int64 \n",
      " 2   Recovered     116 non-null    int64 \n",
      " 3   Deaths        116 non-null    int64 \n",
      " 4   Removed_tot   116 non-null    int64 \n",
      " 5   Infected_tot  116 non-null    int64 \n",
      "dtypes: int64(5), object(1)\n",
      "memory usage: 5.6+ KB\n",
      "None\n"
     ]
    },
    {
     "data": {
      "text/html": [
       "<div>\n",
       "<style scoped>\n",
       "    .dataframe tbody tr th:only-of-type {\n",
       "        vertical-align: middle;\n",
       "    }\n",
       "\n",
       "    .dataframe tbody tr th {\n",
       "        vertical-align: top;\n",
       "    }\n",
       "\n",
       "    .dataframe thead th {\n",
       "        text-align: right;\n",
       "    }\n",
       "</style>\n",
       "<table border=\"1\" class=\"dataframe\">\n",
       "  <thead>\n",
       "    <tr style=\"text-align: right;\">\n",
       "      <th></th>\n",
       "      <th>Date</th>\n",
       "      <th>Confirmed</th>\n",
       "      <th>Recovered</th>\n",
       "      <th>Deaths</th>\n",
       "      <th>Removed_tot</th>\n",
       "      <th>Infected_tot</th>\n",
       "    </tr>\n",
       "  </thead>\n",
       "  <tbody>\n",
       "    <tr>\n",
       "      <th>0</th>\n",
       "      <td>2020-03-01</td>\n",
       "      <td>15</td>\n",
       "      <td>1</td>\n",
       "      <td>0</td>\n",
       "      <td>16</td>\n",
       "      <td>175</td>\n",
       "    </tr>\n",
       "    <tr>\n",
       "      <th>1</th>\n",
       "      <td>2020-03-02</td>\n",
       "      <td>16</td>\n",
       "      <td>1</td>\n",
       "      <td>0</td>\n",
       "      <td>17</td>\n",
       "      <td>190</td>\n",
       "    </tr>\n",
       "    <tr>\n",
       "      <th>2</th>\n",
       "      <td>2020-03-03</td>\n",
       "      <td>17</td>\n",
       "      <td>3</td>\n",
       "      <td>0</td>\n",
       "      <td>20</td>\n",
       "      <td>204</td>\n",
       "    </tr>\n",
       "    <tr>\n",
       "      <th>3</th>\n",
       "      <td>2020-03-04</td>\n",
       "      <td>20</td>\n",
       "      <td>3</td>\n",
       "      <td>0</td>\n",
       "      <td>23</td>\n",
       "      <td>221</td>\n",
       "    </tr>\n",
       "    <tr>\n",
       "      <th>4</th>\n",
       "      <td>2020-03-05</td>\n",
       "      <td>21</td>\n",
       "      <td>3</td>\n",
       "      <td>0</td>\n",
       "      <td>26</td>\n",
       "      <td>239</td>\n",
       "    </tr>\n",
       "  </tbody>\n",
       "</table>\n",
       "</div>"
      ],
      "text/plain": [
       "         Date  Confirmed  Recovered  Deaths  Removed_tot  Infected_tot\n",
       "0  2020-03-01         15          1       0           16           175\n",
       "1  2020-03-02         16          1       0           17           190\n",
       "2  2020-03-03         17          3       0           20           204\n",
       "3  2020-03-04         20          3       0           23           221\n",
       "4  2020-03-05         21          3       0           26           239"
      ]
     },
     "metadata": {},
     "output_type": "display_data"
    },
    {
     "data": {
      "text/html": [
       "<div>\n",
       "<style scoped>\n",
       "    .dataframe tbody tr th:only-of-type {\n",
       "        vertical-align: middle;\n",
       "    }\n",
       "\n",
       "    .dataframe tbody tr th {\n",
       "        vertical-align: top;\n",
       "    }\n",
       "\n",
       "    .dataframe thead th {\n",
       "        text-align: right;\n",
       "    }\n",
       "</style>\n",
       "<table border=\"1\" class=\"dataframe\">\n",
       "  <thead>\n",
       "    <tr style=\"text-align: right;\">\n",
       "      <th></th>\n",
       "      <th>Date</th>\n",
       "      <th>Confirmed</th>\n",
       "      <th>Recovered</th>\n",
       "      <th>Deaths</th>\n",
       "      <th>Removed_tot</th>\n",
       "      <th>Infected_tot</th>\n",
       "    </tr>\n",
       "  </thead>\n",
       "  <tbody>\n",
       "    <tr>\n",
       "      <th>111</th>\n",
       "      <td>2020-06-20</td>\n",
       "      <td>61</td>\n",
       "      <td>70</td>\n",
       "      <td>4</td>\n",
       "      <td>16552</td>\n",
       "      <td>919</td>\n",
       "    </tr>\n",
       "    <tr>\n",
       "      <th>112</th>\n",
       "      <td>2020-06-21</td>\n",
       "      <td>58</td>\n",
       "      <td>62</td>\n",
       "      <td>4</td>\n",
       "      <td>16618</td>\n",
       "      <td>911</td>\n",
       "    </tr>\n",
       "    <tr>\n",
       "      <th>113</th>\n",
       "      <td>2020-06-22</td>\n",
       "      <td>54</td>\n",
       "      <td>55</td>\n",
       "      <td>3</td>\n",
       "      <td>16676</td>\n",
       "      <td>907</td>\n",
       "    </tr>\n",
       "    <tr>\n",
       "      <th>114</th>\n",
       "      <td>2020-06-23</td>\n",
       "      <td>56</td>\n",
       "      <td>63</td>\n",
       "      <td>4</td>\n",
       "      <td>16743</td>\n",
       "      <td>896</td>\n",
       "    </tr>\n",
       "    <tr>\n",
       "      <th>115</th>\n",
       "      <td>2020-06-24</td>\n",
       "      <td>61</td>\n",
       "      <td>49</td>\n",
       "      <td>4</td>\n",
       "      <td>16796</td>\n",
       "      <td>904</td>\n",
       "    </tr>\n",
       "  </tbody>\n",
       "</table>\n",
       "</div>"
      ],
      "text/plain": [
       "           Date  Confirmed  Recovered  Deaths  Removed_tot  Infected_tot\n",
       "111  2020-06-20         61         70       4        16552           919\n",
       "112  2020-06-21         58         62       4        16618           911\n",
       "113  2020-06-22         54         55       3        16676           907\n",
       "114  2020-06-23         56         63       4        16743           896\n",
       "115  2020-06-24         61         49       4        16796           904"
      ]
     },
     "metadata": {},
     "output_type": "display_data"
    }
   ],
   "source": [
    "csv_in2 = 'time_series_covid19-japan.20200301-20200624.csv'\n",
    "df2 = pd.read_csv(csv_in2, sep=',', skiprows=0, header=0)\n",
    "print(df2.shape)\n",
    "print(df2.info())\n",
    "display(df2.head())\n",
    "display(df2.tail())"
   ]
  },
  {
   "cell_type": "code",
   "execution_count": 39,
   "metadata": {},
   "outputs": [
    {
     "name": "stdout",
     "output_type": "stream",
     "text": [
      "<class 'pandas.core.frame.DataFrame'>\n",
      "RangeIndex: 116 entries, 0 to 115\n",
      "Data columns (total 6 columns):\n",
      " #   Column        Non-Null Count  Dtype         \n",
      "---  ------        --------------  -----         \n",
      " 0   Date          116 non-null    datetime64[ns]\n",
      " 1   Confirmed     116 non-null    int64         \n",
      " 2   Recovered     116 non-null    int64         \n",
      " 3   Deaths        116 non-null    int64         \n",
      " 4   Removed_tot   116 non-null    int64         \n",
      " 5   Infected_tot  116 non-null    int64         \n",
      "dtypes: datetime64[ns](1), int64(5)\n",
      "memory usage: 5.6 KB\n",
      "None\n"
     ]
    }
   ],
   "source": [
    "df2['Date'] = pd.to_datetime(df2['Date'])\n",
    "print(df2.info())"
   ]
  },
  {
   "cell_type": "code",
   "execution_count": 44,
   "metadata": {},
   "outputs": [
    {
     "data": {
      "image/png": "[encoded data removed]",
      "text/plain": [
       "<Figure size 432x288 with 1 Axes>"
      ]
     },
     "metadata": {
      "needs_background": "light"
     },
     "output_type": "display_data"
    }
   ],
   "source": [
    "obs_i2 = df2['Infected_tot']\n",
    "obs_r2 = df2['Removed_tot']\n",
    "t_obs_i2 = range(len(obs_i2))\n",
    "plt.scatter(t_obs_i2, obs_i2, marker='o')\n",
    "t_obs_r2 = range(len(obs_r2))\n",
    "plt.scatter(t_obs_r2, obs_r2, marker='x')\n",
    "plt.plot(t, sol)\n",
    "plt.xlabel('Days')\n",
    "plt.ylabel('Population')\n",
    "labels = ['Infected', 'Removed', 'Susceptible', 'Exposed',\n",
    "          'Infected (Observed)', 'Removed (Observed)']\n",
    "plt.legend(labels)\n",
    "plt.show()"
   ]
  },
  {
   "cell_type": "markdown",
   "metadata": {},
   "source": [
    "**The difference of the predicted and observed values may caused by our social isolation activities...**  \n",
    "**見積もりと実際の数値のずれは、社会的隔離の取り組みの成果かもしれない...**"
   ]
  }
 ],
 "metadata": {
  "kernelspec": {
   "display_name": "Python 3",
   "language": "python",
   "name": "python3"
  },
  "language_info": {
   "codemirror_mode": {
    "name": "ipython",
    "version": 3
   },
   "file_extension": ".py",
   "mimetype": "text/x-python",
   "name": "python",
   "nbconvert_exporter": "python",
   "pygments_lexer": "ipython3",
   "version": "3.6.10"
  }
 },
 "nbformat": 4,
 "nbformat_minor": 4
}
