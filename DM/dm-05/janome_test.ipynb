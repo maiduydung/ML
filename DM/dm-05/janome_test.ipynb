{
 "cells": [
  {
   "cell_type": "markdown",
   "metadata": {},
   "source": [
    "### Test of janome  "
   ]
  },
  {
   "cell_type": "code",
   "execution_count": null,
   "metadata": {},
   "outputs": [],
   "source": [
    "str1 = '隣のGuestは良く柿食うGuestだ'"
   ]
  },
  {
   "cell_type": "markdown",
   "metadata": {},
   "source": [
    "#### Basic usage  "
   ]
  },
  {
   "cell_type": "code",
   "execution_count": null,
   "metadata": {},
   "outputs": [],
   "source": [
    "from janome.tokenizer import Tokenizer\n",
    "\n",
    "t = Tokenizer()\n",
    "for token in t.tokenize(str1):\n",
    "    print(token)"
   ]
  },
  {
   "cell_type": "markdown",
   "metadata": {},
   "source": [
    "#### If you want to get a list or a space-separated string  "
   ]
  },
  {
   "cell_type": "code",
   "execution_count": null,
   "metadata": {},
   "outputs": [],
   "source": [
    "list_wakati = t.tokenize(str1, wakati=True)\n",
    "print(list_wakati)\n",
    "str_wakati = ' '.join(list_wakati)\n",
    "print(str_wakati)"
   ]
  },
  {
   "cell_type": "markdown",
   "metadata": {},
   "source": [
    "#### Add filters for preprocessing  "
   ]
  },
  {
   "cell_type": "code",
   "execution_count": null,
   "metadata": {},
   "outputs": [],
   "source": [
    "from janome.analyzer import Analyzer\n",
    "from janome.tokenfilter import POSStopFilter, LowerCaseFilter\n",
    "\n",
    "# Omit 助詞 (postpositional particles) and 助動詞 (auxiliary verbs), lower case conversion\n",
    "token_filters = [ POSStopFilter(['助詞','助動詞']),\n",
    "                  LowerCaseFilter(),\n",
    "                ]\n",
    "tokenizer = Tokenizer()\n",
    "analyzer = Analyzer(tokenizer=tokenizer, token_filters=token_filters)\n",
    "for token in analyzer.analyze(str1):\n",
    "    print(token)"
   ]
  },
  {
   "cell_type": "markdown",
   "metadata": {},
   "source": [
    "#### If you want to get base_form of each word  "
   ]
  },
  {
   "cell_type": "code",
   "execution_count": null,
   "metadata": {},
   "outputs": [],
   "source": [
    "list_wakati = [token.base_form for token in analyzer.analyze(str1)]\n",
    "print(list_wakati)\n",
    "str_wakati = ' '.join(list_wakati)\n",
    "print(str_wakati)"
   ]
  },
  {
   "cell_type": "markdown",
   "metadata": {},
   "source": [
    "#### If you want to get a list or a space-separated string  "
   ]
  },
  {
   "cell_type": "code",
   "execution_count": null,
   "metadata": {},
   "outputs": [],
   "source": [
    "list_wakati = [token.surface for token in analyzer.analyze(str1)]\n",
    "print(list_wakati)\n",
    "str_wakati = ' '.join(list_wakati)\n",
    "print(str_wakati)"
   ]
  },
  {
   "cell_type": "code",
   "execution_count": null,
   "metadata": {},
   "outputs": [],
   "source": []
  }
 ],
 "metadata": {
  "kernelspec": {
   "display_name": "Python 3",
   "language": "python",
   "name": "python3"
  },
  "language_info": {
   "codemirror_mode": {
    "name": "ipython",
    "version": 3
   },
   "file_extension": ".py",
   "mimetype": "text/x-python",
   "name": "python",
   "nbconvert_exporter": "python",
   "pygments_lexer": "ipython3",
   "version": "3.8.8"
  }
 },
 "nbformat": 4,
 "nbformat_minor": 4
}
