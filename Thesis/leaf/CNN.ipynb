{
 "cells": [
  {
   "cell_type": "code",
   "execution_count": 125,
   "id": "alone-california",
   "metadata": {},
   "outputs": [],
   "source": [
    "import tensorflow as tf\n",
    "\n",
    "from tensorflow.keras import datasets, layers, models\n",
    "import matplotlib.pyplot as plt\n",
    "import PIL\n",
    "import os\n",
    "import re #regex\n",
    "import numpy as np\n",
    "import random\n",
    "import pandas as pd\n",
    "from sklearn.utils import shuffle\n"
   ]
  },
  {
   "cell_type": "markdown",
   "id": "superb-southeast",
   "metadata": {},
   "source": [
    "### Converting images to numpy array"
   ]
  },
  {
   "cell_type": "markdown",
   "id": "expected-sport",
   "metadata": {},
   "source": [
    "img_dict = {}\n",
    "directory ='skulls/'\n",
    "\n",
    "for filename in os.listdir(directory):\n",
    "    if filename.endswith(\".jpg\"): \n",
    "        img = PIL.Image.open(directory+filename)\n",
    "        img_sequence = img.getdata()\n",
    "        img_array = np.array(img_sequence) \n",
    "        img_array = img_array/255 #normalize\n",
    "        #print(img_array.shape)\n",
    "        key = re.sub(r'\\.[^.]*$',\"\",filename)\n",
    "        img_dict[key] = img_array #saving np array to a dictionary"
   ]
  },
  {
   "cell_type": "raw",
   "id": "alien-columbus",
   "metadata": {},
   "source": [
    "directory ='skulls/'\n",
    "size = (255,255)\n",
    "\n",
    "X=[]\n",
    "Y=[]\n",
    "\n",
    "for filename in os.listdir(directory):\n",
    "    if filename.endswith(\".jpg\"):\n",
    "        img = PIL.Image.open(directory+filename)\n",
    "        img = img.convert(\"RGB\")\n",
    "        img = img.resize(size)\n",
    "        data = np.array(img).astype('float32')/255\n",
    "        X.append(data)\n",
    "        label = re.sub(r'\\.[^.]*$',\"\",filename) #removing file extension\n",
    "        Y.append(label)\n",
    "        \n",
    "X = np.array(X)\n",
    "Y = np.array(Y)\n",
    "OneHot_labels = np.array([i for i in range(0,73)])\n",
    "print(X.shape)\n",
    "print(Y.shape)"
   ]
  },
  {
   "cell_type": "code",
   "execution_count": 126,
   "id": "systematic-frederick",
   "metadata": {},
   "outputs": [],
   "source": [
    "def cutLabel(string):\n",
    "    re = ''\n",
    "    for c in string:\n",
    "        if c not in ['0','1','2','3','4','5','6','7','8','9','_']:\n",
    "            re = re + c\n",
    "    return re"
   ]
  },
  {
   "cell_type": "code",
   "execution_count": 127,
   "id": "cosmetic-football",
   "metadata": {},
   "outputs": [
    {
     "name": "stdout",
     "output_type": "stream",
     "text": [
      "(188, 255, 255, 2)\n",
      "(188,)\n"
     ]
    }
   ],
   "source": [
    "directory = 'pact_pala_samples/'\n",
    "size = (255,255)\n",
    "\n",
    "X=[]\n",
    "Y=[]\n",
    "for filename in os.listdir(directory):\n",
    "    if filename.endswith('.jpg'):\n",
    "        img = PIL.Image.open(directory+filename)\n",
    "        img = img.convert(\"LA\") #greyscale\n",
    "        img = img.resize(size)\n",
    "        data = np.array(img).astype('float32')/255\n",
    "        X.append(data)\n",
    "        label = re.sub(r'\\.[^.]*$',\"\",filename) #removing file extension\n",
    "        label = cutLabel(label) #removing numbers because Im bad at regex\n",
    "        #print(label, filename) #debug\n",
    "        Y.append(label)\n",
    "        \n",
    "X = np.array(X)\n",
    "Y = np.array(Y)\n",
    "#OneHot_labels = np.array([i for i in range(0,73)])\n",
    "\n",
    "\n",
    "print(X.shape)\n",
    "print(Y.shape)"
   ]
  },
  {
   "cell_type": "markdown",
   "id": "confidential-calgary",
   "metadata": {},
   "source": [
    "### Binary encoding"
   ]
  },
  {
   "cell_type": "code",
   "execution_count": 128,
   "id": "wooden-satisfaction",
   "metadata": {},
   "outputs": [],
   "source": [
    "binLabel = lambda l: 0 if l=='Pact' else 1\n",
    "vfunc = np.vectorize(binLabel) \n",
    "Y = vfunc(Y)"
   ]
  },
  {
   "cell_type": "code",
   "execution_count": 129,
   "id": "serial-relation",
   "metadata": {},
   "outputs": [
    {
     "data": {
      "text/plain": [
       "(4, 810066)"
      ]
     },
     "execution_count": 129,
     "metadata": {},
     "output_type": "execute_result"
    }
   ],
   "source": [
    "np.array(np.where (X == 0)).shape"
   ]
  },
  {
   "cell_type": "code",
   "execution_count": 130,
   "id": "discrete-elite",
   "metadata": {},
   "outputs": [],
   "source": [
    "X, Y = shuffle(X, Y, random_state=0)"
   ]
  },
  {
   "cell_type": "code",
   "execution_count": 131,
   "id": "curious-burning",
   "metadata": {},
   "outputs": [],
   "source": [
    "X_train = X[:120]\n",
    "Y_train = Y[:120]\n",
    "X_test  = X[120:]\n",
    "Y_test  = Y[120:]"
   ]
  },
  {
   "cell_type": "code",
   "execution_count": null,
   "id": "rough-architecture",
   "metadata": {},
   "outputs": [],
   "source": []
  },
  {
   "cell_type": "markdown",
   "id": "induced-carrier",
   "metadata": {},
   "source": [
    "### Setting up CNN"
   ]
  },
  {
   "cell_type": "code",
   "execution_count": 132,
   "id": "mighty-fiction",
   "metadata": {},
   "outputs": [
    {
     "name": "stdout",
     "output_type": "stream",
     "text": [
      "Model: \"sequential_6\"\n",
      "_________________________________________________________________\n",
      "Layer (type)                 Output Shape              Param #   \n",
      "=================================================================\n",
      "conv2d_18 (Conv2D)           (None, 253, 253, 32)      608       \n",
      "_________________________________________________________________\n",
      "max_pooling2d_12 (MaxPooling (None, 126, 126, 32)      0         \n",
      "_________________________________________________________________\n",
      "conv2d_19 (Conv2D)           (None, 124, 124, 64)      18496     \n",
      "_________________________________________________________________\n",
      "max_pooling2d_13 (MaxPooling (None, 62, 62, 64)        0         \n",
      "_________________________________________________________________\n",
      "conv2d_20 (Conv2D)           (None, 60, 60, 64)        36928     \n",
      "_________________________________________________________________\n",
      "flatten_6 (Flatten)          (None, 230400)            0         \n",
      "_________________________________________________________________\n",
      "dense_12 (Dense)             (None, 64)                14745664  \n",
      "_________________________________________________________________\n",
      "dense_13 (Dense)             (None, 1)                 65        \n",
      "=================================================================\n",
      "Total params: 14,801,761\n",
      "Trainable params: 14,801,761\n",
      "Non-trainable params: 0\n",
      "_________________________________________________________________\n"
     ]
    }
   ],
   "source": [
    "model = models.Sequential()\n",
    "model.add(layers.Conv2D(32, (3, 3), activation='relu', input_shape=(255, 255, 2)))\n",
    "model.add(layers.MaxPooling2D((2, 2)))\n",
    "model.add(layers.Conv2D(64, (3, 3), activation='relu'))\n",
    "model.add(layers.MaxPooling2D((2, 2)))\n",
    "model.add(layers.Conv2D(64, (3, 3), activation='relu'))\n",
    "\n",
    "model.add(layers.Flatten())\n",
    "model.add(layers.Dense(64, activation='relu'))\n",
    "model.add(layers.Dense(1))\n",
    "\n",
    "model.summary()"
   ]
  },
  {
   "cell_type": "code",
   "execution_count": 133,
   "id": "scientific-croatia",
   "metadata": {},
   "outputs": [
    {
     "name": "stdout",
     "output_type": "stream",
     "text": [
      "Epoch 1/20\n",
      "3/3 [==============================] - 4s 1s/step - loss: 5.2310 - accuracy: 0.4167 - val_loss: 0.6670 - val_accuracy: 0.7083\n",
      "Epoch 2/20\n",
      "3/3 [==============================] - 4s 1s/step - loss: 0.7095 - accuracy: 0.4583 - val_loss: 0.6250 - val_accuracy: 0.7083\n",
      "Epoch 3/20\n",
      "3/3 [==============================] - 4s 1s/step - loss: 0.6188 - accuracy: 0.6979 - val_loss: 0.4500 - val_accuracy: 0.8333\n",
      "Epoch 4/20\n",
      "3/3 [==============================] - 4s 1s/step - loss: 0.4873 - accuracy: 0.7188 - val_loss: 0.6004 - val_accuracy: 0.9167\n",
      "Epoch 5/20\n",
      "3/3 [==============================] - 5s 2s/step - loss: 0.4010 - accuracy: 0.8542 - val_loss: 0.2818 - val_accuracy: 0.9167\n",
      "Epoch 6/20\n",
      "3/3 [==============================] - 5s 2s/step - loss: 0.3623 - accuracy: 0.8438 - val_loss: 0.6830 - val_accuracy: 0.6250\n",
      "Epoch 7/20\n",
      "3/3 [==============================] - 4s 1s/step - loss: 0.4189 - accuracy: 0.8438 - val_loss: 0.2949 - val_accuracy: 0.9167\n",
      "Epoch 8/20\n",
      "3/3 [==============================] - 4s 1s/step - loss: 0.3306 - accuracy: 0.8646 - val_loss: 0.4014 - val_accuracy: 0.9167\n",
      "Epoch 9/20\n",
      "3/3 [==============================] - 4s 1s/step - loss: 0.3247 - accuracy: 0.8854 - val_loss: 0.2808 - val_accuracy: 0.9167\n",
      "Epoch 10/20\n",
      "3/3 [==============================] - 4s 1s/step - loss: 0.2975 - accuracy: 0.8854 - val_loss: 0.2735 - val_accuracy: 0.9167\n",
      "Epoch 11/20\n",
      "3/3 [==============================] - 4s 1s/step - loss: 0.2918 - accuracy: 0.8854 - val_loss: 0.2696 - val_accuracy: 0.9167\n",
      "Epoch 12/20\n",
      "3/3 [==============================] - 4s 1s/step - loss: 0.2795 - accuracy: 0.8958 - val_loss: 0.2986 - val_accuracy: 0.9167\n",
      "Epoch 13/20\n",
      "3/3 [==============================] - 4s 1s/step - loss: 0.2877 - accuracy: 0.8958 - val_loss: 0.2542 - val_accuracy: 0.9167\n",
      "Epoch 14/20\n",
      "3/3 [==============================] - 4s 1s/step - loss: 0.2681 - accuracy: 0.8958 - val_loss: 0.2511 - val_accuracy: 0.9167\n",
      "Epoch 15/20\n",
      "3/3 [==============================] - 5s 2s/step - loss: 0.2656 - accuracy: 0.8958 - val_loss: 0.2566 - val_accuracy: 0.9167\n",
      "Epoch 16/20\n",
      "3/3 [==============================] - 5s 2s/step - loss: 0.2515 - accuracy: 0.8958 - val_loss: 0.2448 - val_accuracy: 0.9167\n",
      "Epoch 17/20\n",
      "3/3 [==============================] - 5s 2s/step - loss: 0.2518 - accuracy: 0.8958 - val_loss: 0.2510 - val_accuracy: 0.9167\n",
      "Epoch 18/20\n",
      "3/3 [==============================] - 5s 2s/step - loss: 0.2515 - accuracy: 0.8958 - val_loss: 0.2432 - val_accuracy: 0.9167\n",
      "Epoch 19/20\n",
      "3/3 [==============================] - 4s 1s/step - loss: 0.2549 - accuracy: 0.8958 - val_loss: 0.2396 - val_accuracy: 0.9167\n",
      "Epoch 20/20\n",
      "3/3 [==============================] - 4s 1s/step - loss: 0.2362 - accuracy: 0.8958 - val_loss: 0.2704 - val_accuracy: 0.9167\n"
     ]
    }
   ],
   "source": [
    "model.compile(optimizer='adam',\n",
    "              loss=tf.keras.losses.BinaryCrossentropy(from_logits=True),\n",
    "              metrics=['accuracy'])\n",
    "\n",
    "history = model.fit(X_train, Y_train, epochs=20,validation_split=0.2)"
   ]
  },
  {
   "cell_type": "markdown",
   "id": "sapphire-garden",
   "metadata": {},
   "source": [
    "### Trying to avoid overfit by training with low epoch"
   ]
  },
  {
   "cell_type": "code",
   "execution_count": 134,
   "id": "incoming-newfoundland",
   "metadata": {},
   "outputs": [
    {
     "data": {
      "text/plain": [
       "<matplotlib.legend.Legend at 0x26a42f0d430>"
      ]
     },
     "execution_count": 134,
     "metadata": {},
     "output_type": "execute_result"
    },
    {
     "data": {
      "image/png": "[encoded data removed]",
      "text/plain": [
       "<Figure size 432x288 with 1 Axes>"
      ]
     },
     "metadata": {
      "needs_background": "light"
     },
     "output_type": "display_data"
    }
   ],
   "source": [
    "plt.plot(history.history['accuracy'], label='accuracy')\n",
    "plt.xlabel('Epoch')\n",
    "plt.ylabel('Accuracy')\n",
    "plt.legend(loc='lower right')"
   ]
  },
  {
   "cell_type": "code",
   "execution_count": null,
   "id": "bronze-upgrade",
   "metadata": {},
   "outputs": [],
   "source": []
  },
  {
   "cell_type": "code",
   "execution_count": 135,
   "id": "competent-scoop",
   "metadata": {},
   "outputs": [
    {
     "name": "stdout",
     "output_type": "stream",
     "text": [
      "3/3 [==============================] - 0s 160ms/step - loss: 0.3748 - accuracy: 0.8235\n",
      "test loss, test acc: [0.37482815980911255, 0.8235294222831726]\n"
     ]
    }
   ],
   "source": [
    "results = model.evaluate(X_test, Y_test)\n",
    "print(\"test loss, test acc:\", results)\n"
   ]
  },
  {
   "cell_type": "code",
   "execution_count": null,
   "id": "extraordinary-boring",
   "metadata": {},
   "outputs": [],
   "source": []
  }
 ],
 "metadata": {
  "kernelspec": {
   "display_name": "Python 3",
   "language": "python",
   "name": "python3"
  },
  "language_info": {
   "codemirror_mode": {
    "name": "ipython",
    "version": 3
   },
   "file_extension": ".py",
   "mimetype": "text/x-python",
   "name": "python",
   "nbconvert_exporter": "python",
   "pygments_lexer": "ipython3",
   "version": "3.8.5"
  }
 },
 "nbformat": 4,
 "nbformat_minor": 5
}
