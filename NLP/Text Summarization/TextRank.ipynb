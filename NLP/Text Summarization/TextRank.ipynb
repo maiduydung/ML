{
 "cells": [
  {
   "cell_type": "markdown",
   "id": "virtual-award",
   "metadata": {},
   "source": [
    "### Text summarization with TextRank"
   ]
  },
  {
   "cell_type": "code",
   "execution_count": 70,
   "id": "stable-sender",
   "metadata": {},
   "outputs": [
    {
     "name": "stderr",
     "output_type": "stream",
     "text": [
      "[nltk_data] Downloading package punkt to\n",
      "[nltk_data]     C:\\Users\\maidu\\AppData\\Roaming\\nltk_data...\n",
      "[nltk_data]   Package punkt is already up-to-date!\n"
     ]
    }
   ],
   "source": [
    "import numpy as np\n",
    "import pandas as pd\n",
    "import nltk\n",
    "nltk.download('punkt') \n",
    "import re"
   ]
  },
  {
   "cell_type": "code",
   "execution_count": 71,
   "id": "meaning-palmer",
   "metadata": {},
   "outputs": [
    {
     "name": "stdout",
     "output_type": "stream",
     "text": [
      "<class 'pandas.core.frame.DataFrame'>\n",
      "RangeIndex: 8 entries, 0 to 7\n",
      "Data columns (total 4 columns):\n",
      " #   Column         Non-Null Count  Dtype \n",
      "---  ------         --------------  ----- \n",
      " 0   article_id     8 non-null      int64 \n",
      " 1   article_title  8 non-null      object\n",
      " 2   article_text   8 non-null      object\n",
      " 3   source         8 non-null      object\n",
      "dtypes: int64(1), object(3)\n",
      "memory usage: 384.0+ bytes\n",
      "(8, 4)\n"
     ]
    }
   ],
   "source": [
    "df = pd.read_csv('../../datasets/tennis/tennis_articles.csv')\n",
    "df.info()\n",
    "print(df.shape)"
   ]
  },
  {
   "cell_type": "code",
   "execution_count": 72,
   "id": "inner-collection",
   "metadata": {},
   "outputs": [
    {
     "data": {
      "text/html": [
       "<div>\n",
       "<style scoped>\n",
       "    .dataframe tbody tr th:only-of-type {\n",
       "        vertical-align: middle;\n",
       "    }\n",
       "\n",
       "    .dataframe tbody tr th {\n",
       "        vertical-align: top;\n",
       "    }\n",
       "\n",
       "    .dataframe thead th {\n",
       "        text-align: right;\n",
       "    }\n",
       "</style>\n",
       "<table border=\"1\" class=\"dataframe\">\n",
       "  <thead>\n",
       "    <tr style=\"text-align: right;\">\n",
       "      <th></th>\n",
       "      <th>article_id</th>\n",
       "      <th>article_title</th>\n",
       "      <th>article_text</th>\n",
       "      <th>source</th>\n",
       "    </tr>\n",
       "  </thead>\n",
       "  <tbody>\n",
       "    <tr>\n",
       "      <th>0</th>\n",
       "      <td>1</td>\n",
       "      <td>I do not have friends in�tennis, says Maria Sh...</td>\n",
       "      <td>Maria Sharapova has basically no friends as te...</td>\n",
       "      <td>https://www.tennisworldusa.org/tennis/news/Mar...</td>\n",
       "    </tr>\n",
       "    <tr>\n",
       "      <th>1</th>\n",
       "      <td>2</td>\n",
       "      <td>Federer defeats Medvedev to advance to 14th Sw...</td>\n",
       "      <td>BASEL, Switzerland (AP) � Roger Federer advanc...</td>\n",
       "      <td>http://www.tennis.com/pro-game/2018/10/copil-s...</td>\n",
       "    </tr>\n",
       "    <tr>\n",
       "      <th>2</th>\n",
       "      <td>3</td>\n",
       "      <td>Tennis: Roger Federer ignored deadline set by ...</td>\n",
       "      <td>Roger Federer has revealed that organisers of ...</td>\n",
       "      <td>https://scroll.in/field/899938/tennis-roger-fe...</td>\n",
       "    </tr>\n",
       "    <tr>\n",
       "      <th>3</th>\n",
       "      <td>4</td>\n",
       "      <td>Nishikori to face off against Anderson in Vien...</td>\n",
       "      <td>Kei Nishikori will try to end his long losing ...</td>\n",
       "      <td>http://www.tennis.com/pro-game/2018/10/nishiko...</td>\n",
       "    </tr>\n",
       "    <tr>\n",
       "      <th>4</th>\n",
       "      <td>5</td>\n",
       "      <td>Roger Federer has made this huge change to ten...</td>\n",
       "      <td>Federer, 37, first broke through on tour over ...</td>\n",
       "      <td>https://www.express.co.uk/sport/tennis/1036101...</td>\n",
       "    </tr>\n",
       "  </tbody>\n",
       "</table>\n",
       "</div>"
      ],
      "text/plain": [
       "   article_id                                      article_title  \\\n",
       "0           1  I do not have friends in�tennis, says Maria Sh...   \n",
       "1           2  Federer defeats Medvedev to advance to 14th Sw...   \n",
       "2           3  Tennis: Roger Federer ignored deadline set by ...   \n",
       "3           4  Nishikori to face off against Anderson in Vien...   \n",
       "4           5  Roger Federer has made this huge change to ten...   \n",
       "\n",
       "                                        article_text  \\\n",
       "0  Maria Sharapova has basically no friends as te...   \n",
       "1  BASEL, Switzerland (AP) � Roger Federer advanc...   \n",
       "2  Roger Federer has revealed that organisers of ...   \n",
       "3  Kei Nishikori will try to end his long losing ...   \n",
       "4  Federer, 37, first broke through on tour over ...   \n",
       "\n",
       "                                              source  \n",
       "0  https://www.tennisworldusa.org/tennis/news/Mar...  \n",
       "1  http://www.tennis.com/pro-game/2018/10/copil-s...  \n",
       "2  https://scroll.in/field/899938/tennis-roger-fe...  \n",
       "3  http://www.tennis.com/pro-game/2018/10/nishiko...  \n",
       "4  https://www.express.co.uk/sport/tennis/1036101...  "
      ]
     },
     "execution_count": 72,
     "metadata": {},
     "output_type": "execute_result"
    }
   ],
   "source": [
    "df.head()"
   ]
  },
  {
   "cell_type": "code",
   "execution_count": 73,
   "id": "taken-cedar",
   "metadata": {},
   "outputs": [],
   "source": [
    "from nltk.tokenize import sent_tokenize\n",
    "sentences = []\n",
    "for s in df['article_text']:\n",
    "  sentences.append(sent_tokenize(s))\n",
    "\n",
    "sentences = [y for x in sentences for y in x] # list of sentences grabbed from df['article_text']\n"
   ]
  },
  {
   "cell_type": "code",
   "execution_count": 74,
   "id": "straight-forwarding",
   "metadata": {},
   "outputs": [
    {
     "data": {
      "text/plain": [
       "['Maria Sharapova has basically no friends as tennis players on the WTA Tour.',\n",
       " \"The Russian player has no problems in openly speaking about it and in a recent interview she said: 'I don't really hide any feelings too much.\",\n",
       " 'I think everyone knows this is my job here.',\n",
       " \"When I'm on the courts or when I'm on the court playing, I'm a competitor and I want to beat every single person whether they're in the locker room or across the net.\"]"
      ]
     },
     "execution_count": 74,
     "metadata": {},
     "output_type": "execute_result"
    }
   ],
   "source": [
    "sentences[:4]"
   ]
  },
  {
   "cell_type": "code",
   "execution_count": 75,
   "id": "solved-sphere",
   "metadata": {},
   "outputs": [
    {
     "name": "stderr",
     "output_type": "stream",
     "text": [
      "<ipython-input-75-c4e910b63c15>:2: FutureWarning: The default value of regex will change from True to False in a future version.\n",
      "  cleaned_sentences = pd.Series(sentences).str.replace(\"[^a-zA-Z]\", \" \")\n"
     ]
    }
   ],
   "source": [
    "# remove punctuations, numbers and special characters\n",
    "cleaned_sentences = pd.Series(sentences).str.replace(\"[^a-zA-Z]\", \" \")\n",
    "\n",
    "# turning everything to lowercase\n",
    "cleaned_sentences = [s.lower() for s in clean_sentences]"
   ]
  },
  {
   "cell_type": "code",
   "execution_count": 76,
   "id": "registered-notice",
   "metadata": {},
   "outputs": [
    {
     "data": {
      "text/plain": [
       "['maria sharapova has basically no friends as tennis players on the wta tour ',\n",
       " 'the russian player has no problems in openly speaking about it and in a recent interview she said   i don t really hide any feelings too much ',\n",
       " 'i think everyone knows this is my job here ',\n",
       " 'when i m on the courts or when i m on the court playing  i m a competitor and i want to beat every single person whether they re in the locker room or across the net ']"
      ]
     },
     "execution_count": 76,
     "metadata": {},
     "output_type": "execute_result"
    }
   ],
   "source": [
    "cleaned_sentences[:4]"
   ]
  },
  {
   "cell_type": "code",
   "execution_count": 77,
   "id": "coral-favor",
   "metadata": {},
   "outputs": [
    {
     "name": "stderr",
     "output_type": "stream",
     "text": [
      "[nltk_data] Downloading package stopwords to\n",
      "[nltk_data]     C:\\Users\\maidu\\AppData\\Roaming\\nltk_data...\n",
      "[nltk_data]   Package stopwords is already up-to-date!\n"
     ]
    }
   ],
   "source": [
    "from nltk.corpus import stopwords\n",
    "nltk.download('stopwords')\n",
    "cleaned_sentences = [word for word in cleaned_sentences if word not in stopwords.words('english')]"
   ]
  },
  {
   "cell_type": "code",
   "execution_count": 78,
   "id": "asian-tucson",
   "metadata": {},
   "outputs": [
    {
     "data": {
      "text/plain": [
       "['maria sharapova has basically no friends as tennis players on the wta tour ',\n",
       " 'the russian player has no problems in openly speaking about it and in a recent interview she said   i don t really hide any feelings too much ',\n",
       " 'i think everyone knows this is my job here ',\n",
       " 'when i m on the courts or when i m on the court playing  i m a competitor and i want to beat every single person whether they re in the locker room or across the net ']"
      ]
     },
     "execution_count": 78,
     "metadata": {},
     "output_type": "execute_result"
    }
   ],
   "source": [
    "cleaned_sentences[:4]"
   ]
  },
  {
   "cell_type": "markdown",
   "id": "engaged-front",
   "metadata": {},
   "source": [
    "#### GloVe Word Embeddings"
   ]
  },
  {
   "cell_type": "code",
   "execution_count": 79,
   "id": "color-expansion",
   "metadata": {},
   "outputs": [],
   "source": [
    "# Extract word vectors\n",
    "word_embeddings = {}\n",
    "f = open('../glove.6B.100d.txt', encoding='utf-8')\n",
    "for line in f:\n",
    "    values = line.split()\n",
    "    word = values[0]\n",
    "    coefs = np.asarray(values[1:], dtype='float32')\n",
    "    word_embeddings[word] = coefs\n",
    "f.close()"
   ]
  },
  {
   "cell_type": "code",
   "execution_count": 80,
   "id": "resistant-blind",
   "metadata": {},
   "outputs": [
    {
     "data": {
      "text/plain": [
       "array([-0.5985   , -0.46321  ,  0.13001  , -0.019576 ,  0.4603   ,\n",
       "       -0.3018   ,  0.8977   , -0.65634  ,  0.66858  , -0.49164  ,\n",
       "        0.037557 , -0.050889 ,  0.6451   , -0.53882  , -0.3765   ,\n",
       "       -0.04312  ,  0.51384  ,  0.17783  ,  0.28596  ,  0.92063  ,\n",
       "       -0.49349  , -0.48583  ,  0.61321  ,  0.78211  ,  0.19254  ,\n",
       "        0.91228  , -0.055596 , -0.12512  , -0.65688  ,  0.068557 ,\n",
       "        0.55629  ,  1.611    , -0.0073642, -0.48879  ,  0.45493  ,\n",
       "        0.96105  , -0.063369 ,  0.17432  ,  0.9814   , -1.3125   ,\n",
       "       -0.15801  , -0.54301  , -0.13888  , -0.26146  , -0.3691   ,\n",
       "        0.26844  , -0.24375  , -0.19484  ,  0.62583  , -0.7377   ,\n",
       "        0.38351  , -0.75004  , -0.39053  ,  0.091498 , -0.36591  ,\n",
       "       -1.4715   , -0.45228  ,  0.2256   ,  1.1412   , -0.38526  ,\n",
       "       -0.06716  ,  0.57288  , -0.39191  ,  0.31302  , -0.29235  ,\n",
       "       -0.96157  ,  0.15154  , -0.21659  ,  0.25103  ,  0.096967 ,\n",
       "        0.2843   ,  1.4296   , -0.50565  , -0.51374  , -0.47218  ,\n",
       "        0.32036  ,  0.023149 ,  0.22623  , -0.09725  ,  0.82126  ,\n",
       "        0.92599  , -1.0086   , -0.38639  ,  0.86408  , -1.206    ,\n",
       "       -0.28528  ,  0.2265   , -0.38773  ,  0.40879  ,  0.59303  ,\n",
       "        0.30769  ,  0.83804  , -0.63655  , -0.44639  , -0.43406  ,\n",
       "       -0.79364  , -0.28675  , -0.034398 ,  1.3431   ,  0.34904  ],\n",
       "      dtype=float32)"
      ]
     },
     "execution_count": 80,
     "metadata": {},
     "output_type": "execute_result"
    }
   ],
   "source": [
    "word_embeddings['apple']"
   ]
  },
  {
   "cell_type": "code",
   "execution_count": 81,
   "id": "nonprofit-recycling",
   "metadata": {},
   "outputs": [],
   "source": [
    "sentence_vectors = []\n",
    "for i in cleaned_sentences:\n",
    "  if len(i) != 0:\n",
    "    v = sum([word_embeddings.get(w, np.zeros((100,))) for w in i.split()])/(len(i.split())+0.001)\n",
    "  else:\n",
    "    v = np.zeros((100,))\n",
    "  sentence_vectors.append(v)"
   ]
  },
  {
   "cell_type": "code",
   "execution_count": 82,
   "id": "choice-destination",
   "metadata": {},
   "outputs": [
    {
     "data": {
      "text/plain": [
       "array([-0.00708815,  0.09256166,  0.63329273, -0.02311481,  0.01546605,\n",
       "        0.1853495 ,  0.09308354,  0.42582178, -0.24139106, -0.08799385,\n",
       "        0.24989085,  0.05680139,  0.1477317 ,  0.19214791, -0.11052089,\n",
       "       -0.13337198,  0.20583408,  0.11695171, -0.28442192,  0.33139458,\n",
       "        0.12599568,  0.1967534 ,  0.15575756,  0.5180779 ,  0.30478284,\n",
       "       -0.12746389,  0.04639504, -0.7776317 ,  0.37259623,  0.02550103,\n",
       "       -0.28453514,  0.3427335 ,  0.09285065,  0.07136673,  0.24223588,\n",
       "        0.153613  , -0.29634136,  0.39717883, -0.23219974, -0.1128767 ,\n",
       "       -0.32462594, -0.1468936 ,  0.35839075, -0.3026954 ,  0.16459417,\n",
       "       -0.15502267, -0.01870048, -0.2684455 ,  0.2881759 , -0.50023335,\n",
       "       -0.15034528, -0.2343842 ,  0.16917214,  0.63483965, -0.13028543,\n",
       "       -2.1654103 , -0.06345838,  0.08818175,  1.0153687 ,  0.8081116 ,\n",
       "       -0.23266864,  0.57686883, -0.20425446,  0.23006882,  0.33329207,\n",
       "       -0.12515107,  0.155755  ,  0.3699625 ,  0.16224106, -0.14049056,\n",
       "        0.0752349 , -0.14599869, -0.10349172, -0.28060302,  0.03092569,\n",
       "        0.11594792,  0.22164218,  0.07480332, -0.52976537, -0.07361726,\n",
       "        0.69293356, -0.20686361, -0.24250394,  0.08630013, -1.185478  ,\n",
       "       -0.38094005, -0.38220796,  0.11073201, -0.14750852, -0.1982723 ,\n",
       "       -0.2221683 , -0.07648158,  0.04440296,  0.2679849 , -0.13877201,\n",
       "        0.00610776, -0.39457384, -0.20842241,  0.50812364,  0.46988693],\n",
       "      dtype=float32)"
      ]
     },
     "execution_count": 82,
     "metadata": {},
     "output_type": "execute_result"
    }
   ],
   "source": [
    "sentence_vectors[0]"
   ]
  },
  {
   "cell_type": "markdown",
   "id": "cardiovascular-posting",
   "metadata": {},
   "source": [
    "#### Similarity Matrix "
   ]
  },
  {
   "cell_type": "code",
   "execution_count": 83,
   "id": "extreme-rachel",
   "metadata": {},
   "outputs": [],
   "source": [
    "from sklearn.metrics.pairwise import cosine_similarity\n",
    "\n",
    "# measuring similarity between a pair of sentence\n",
    "similarity_matrix  = np.zeros([len(sentences), len(sentences)])\n",
    "\n",
    "for i in range(len(sentences)):\n",
    "  for j in range(len(sentences)):\n",
    "    if i != j:\n",
    "      similarity_matrix[i][j] = cosine_similarity(sentence_vectors[i].reshape(1,100), sentence_vectors[j].reshape(1,100))[0,0]"
   ]
  },
  {
   "cell_type": "markdown",
   "id": "split-reputation",
   "metadata": {},
   "source": [
    "#### Converting to graph"
   ]
  },
  {
   "cell_type": "code",
   "execution_count": 84,
   "id": "biblical-block",
   "metadata": {},
   "outputs": [],
   "source": [
    "import networkx as nx\n",
    "nx_graph = nx.from_numpy_array(similarity_matrix)\n",
    "scores = nx.pagerank(nx_graph)"
   ]
  },
  {
   "cell_type": "code",
   "execution_count": 85,
   "id": "increasing-screen",
   "metadata": {},
   "outputs": [
    {
     "name": "stdout",
     "output_type": "stream",
     "text": [
      "�I was on a nice trajectorythen,� Reid recalled.�If I hadn�t got sick, I think I could have started pushing towards the second week at the slams and then who knows.� Duringa comeback attempt some five years later, Reid added Bernard Tomic and 2018 US Open Federer slayer John Millman to his list of career scalps.\n",
      "So I'm not the one to strike up a conversation about the weather and know that in the next few minutes I have to go and try to win a tennis match.\n",
      "�Now they won�t even give me tickets (to the Open).� A Davis Cup pick and on the cusp of the world�s 100 by 18, Reid had few other complaints - just a lingering sense of what might have been.\n",
      "Speaking at the Swiss Indoors tournament where he will play in Sunday�s final against Romanian qualifier Marius Copil, the world number three said that given the impossibly short time frame to make a decision, he opted out of any commitment.\n",
      "�I just felt like it really kind of changed where people were a little bit, definitely in the '90s, a lot more quiet, into themselves, and then it started to become better.� Meanwhile, Federer is hoping he can improve his service game as he hunts his ninth Swiss Indoors title this week.\n",
      "�I could not make a decision in that time, so I told them to do what they wanted.� The 20-time Grand Slam champion has voiced doubts about the wisdom of the one-week format to be introduced by organisers Kosmos, who have promised the International Tennis Federation up to $3 billion in prize money over the next quarter-century.\n",
      "Major players feel that a big event in late November combined with one in January before the Australian Open will mean too much tennis and too little rest.\n",
      "Exhausted after spending half his round deep in the bushes searching for my ball, as well as those of two other golfers he�d never met before, our incredibly giving designated driver asked if we didn�t mind going straight home after signing off so he could rest up a little before heading to work.\n",
      "�Not always, but I really feel like in the mid-2000 years there was a huge shift of the attitudes of the top players and being more friendly and being more giving, and a lot of that had to do with players like Roger coming up.\n",
      "�I felt like the best weeks that I had to get to know players when I was playing were the Fed Cup weeks or the Olympic weeks, not necessarily during the tournaments.\n"
     ]
    }
   ],
   "source": [
    "ranked_sentences = sorted(((scores[i],s) for i,s in enumerate(sentences)), reverse=True)\n",
    "for i in range(10):\n",
    "  print(ranked_sentences[i][1])"
   ]
  },
  {
   "cell_type": "code",
   "execution_count": 87,
   "id": "awful-television",
   "metadata": {},
   "outputs": [
    {
     "data": {
      "text/plain": [
       "'I PLAYED golf last week with Todd Reid. He picked me up at 5.30am, half an hour early because he couldn�t sleep. Or hadn�t slept, to be specific. Not because he�d been out on a bender or anything � those days were in the past. The former Wimbledon junior champion was full of hope, excited about getting his life back together after a troubled few years and a touch-and-go battle with pancreatitis. �I�m pleased with that,� he said after grinding out an eight-over-par front nine at the not-so-royal Northbridge club in Sydney and smashing down an egg- and-bacon roll at the halfway house. To most players of his rare sporting gifts, such a modest return would be unacceptable. To Reid the 15-marker, just being up and at �em was enough; a few bogeys and one well-made par � broomstick putter and all � vindication for his recent decision to renew his membership at nearby Bankstown. Exhausted after spending half his round deep in the bushes searching for my ball, as well as those of two other golfers he�d never met before, our incredibly giving designated driver asked if we didn�t mind going straight home after signing off so he could rest up a little before heading to work. Fourteen years after sharing centre court with Roger Federer in the third round of the Australian Open, Reid was now running the counter and coaching kids - but sadly now never mine- in suburban Sydney at the Matraville tennis and squash centre run by his father Bob and beautiful mother Sandra, herselfa former professional. Quite the fall from grace for a prodigious talent once afforded a 3000-word spread in The New York Times. With sponsors and the world at his feet, Reid was 14 then and being mentored by Nick Bollettieri, who fashioned the likes of Andre Agassi, Maria Sharapova, Monica Seles and Jim Courier into world No.1s. Reid, too, was earmarked for the very top, only for injuries and illness to cruel his career. On the up again after taking salvation in the bottle, Reid was found dead on Tuesday aged just 34. �I never got over what happened to me when I was 19,� he told AAP last week. Just as his senior career got legs, Reid was derailed by a debilitating bout of glandular fever. The life-changing setback hit only weeks after the then-teenage wonder boy announced his arrival as a grand slam threat by throwing up all over Rod Laver Arena during a fighting five-set second-round win over Sargis Sargsian. The epic victory set-up his showdown with Federer, who would go on to win his first Australian Open. �I was their golden boy then,� he said of his relationship with Tennis Australia. �Now they won�t even give me tickets (to the Open).� A Davis Cup pick and on the cusp of the world�s 100 by 18, Reid had few other complaints - just a lingering sense of what might have been. He�d backed up his last-32 showingat Melbourne Park with a string of wins over elites including French Open champion and then world No.9 Gaston Gaudio and Roland Garros runner-up Martin Verkerk in 2004 before illness struck. �I was on a nice trajectorythen,� Reid recalled.�If I hadn�t got sick, I think I could have started pushing towards the second week at the slams and then who knows.� Duringa comeback attempt some five years later, Reid added Bernard Tomic and 2018 US Open Federer slayer John Millman to his list of career scalps. �He had one of the best backhands, I think, going around,� Millman told AAP. �But my fondest memory is probably him coming back in Spain with his father and Todd trying to order a ham, cheese and tomato sandwich in the most Aussie English I ever heard.� Among his lesser known achievements - but even more significantto me - was an injured Reid�s effort to reach the final of the Manly Seaside, a prestigious Christmas-time event won backin the day by the likes of legends Rod Laver, Ken Rosewall, Frank Sedgman, John Bromwich, Lew Hoad, Neal Fraser, Fred Stolle, Evonne Goolagong and Australia�s last women�s Australian Open champion, Christine O�Neil. Hampered by a shoulder injury, Reid served under-arm - UNDER-ARM - throughout the entire tournament yet still made the decider. �I was always happy to work hard,� he said. He had hoped the mercurial Nick Kyrgios would do the same. A big fan and believer in the enigmatic Canberran, Reid didn�t want to see Kyrgios�s career slip away like his did. �Full effort he wouldn�t fail,� Reid said of Kyrgios. �Full effort Nick could live out his tennis like a (Tomas) Berdych or (Jo- Wilfried) Tsonga, consistently making second week,quarters, semis, finals of slams - and then hopefully more. �Time will tell for Nick, but he�s still young.� Todd Reid was still young, too. Tragically, his time ran out.'"
      ]
     },
     "execution_count": 87,
     "metadata": {},
     "output_type": "execute_result"
    }
   ],
   "source": [
    "df['article_text'][7]"
   ]
  },
  {
   "cell_type": "code",
   "execution_count": null,
   "id": "rolled-bolivia",
   "metadata": {},
   "outputs": [],
   "source": []
  }
 ],
 "metadata": {
  "kernelspec": {
   "display_name": "Python 3",
   "language": "python",
   "name": "python3"
  },
  "language_info": {
   "codemirror_mode": {
    "name": "ipython",
    "version": 3
   },
   "file_extension": ".py",
   "mimetype": "text/x-python",
   "name": "python",
   "nbconvert_exporter": "python",
   "pygments_lexer": "ipython3",
   "version": "3.8.5"
  }
 },
 "nbformat": 4,
 "nbformat_minor": 5
}
