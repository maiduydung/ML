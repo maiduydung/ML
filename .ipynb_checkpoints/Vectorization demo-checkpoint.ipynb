{
 "cells": [
  {
   "cell_type": "code",
   "execution_count": 1,
   "metadata": {},
   "outputs": [],
   "source": [
    "import numpy as np\n",
    "import time\n",
    "\n",
    "a = np.random.rand(1000000)\n",
    "b = np.random.rand(1000000)"
   ]
  },
  {
   "cell_type": "code",
   "execution_count": 3,
   "metadata": {},
   "outputs": [
    {
     "name": "stdout",
     "output_type": "stream",
     "text": [
      "249988.9671700422 \n",
      "Vectorization time elapsed  1.9979476928710938\n"
     ]
    }
   ],
   "source": [
    "start = time.time()\n",
    "c = np.dot(a, b)\n",
    "stop = time.time()\n",
    "print(c, \"\\nVectorization time elapsed \", (stop - start)*1000,\" ms\")\n"
   ]
  },
  {
   "cell_type": "code",
   "execution_count": 4,
   "metadata": {},
   "outputs": [
    {
     "name": "stdout",
     "output_type": "stream",
     "text": [
      "249988.96717003168 \n",
      "For loop time elapsed  732.1431636810303\n"
     ]
    }
   ],
   "source": [
    "start = time.time()\n",
    "c = 0\n",
    "for i in range(1000000):\n",
    "    c += a[i] * b[i]\n",
    "stop = time.time()\n",
    "print(c, \"\\nFor loop time elapsed \", (stop - start)*1000,\" ms\")"
   ]
  },
  {
   "cell_type": "code",
   "execution_count": null,
   "metadata": {},
   "outputs": [],
   "source": []
  }
 ],
 "metadata": {
  "kernelspec": {
   "display_name": "Python 3",
   "language": "python",
   "name": "python3"
  },
  "language_info": {
   "codemirror_mode": {
    "name": "ipython",
    "version": 3
   },
   "file_extension": ".py",
   "mimetype": "text/x-python",
   "name": "python",
   "nbconvert_exporter": "python",
   "pygments_lexer": "ipython3",
   "version": "3.8.2"
  }
 },
 "nbformat": 4,
 "nbformat_minor": 4
}
