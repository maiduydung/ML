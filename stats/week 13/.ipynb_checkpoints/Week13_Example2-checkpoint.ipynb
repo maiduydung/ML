{
 "cells": [
  {
   "cell_type": "code",
   "execution_count": 1,
   "metadata": {},
   "outputs": [
    {
     "name": "stdout",
     "output_type": "stream",
     "text": [
      "p-value is\n",
      "0.011507985165943601\n",
      "帰無仮説棄却\n"
     ]
    }
   ],
   "source": [
    "import numpy as np\n",
    "from scipy import stats\n",
    "from scipy.stats import t\n",
    "\n",
    "mu_0=7.0\n",
    "X_mean = 7.2\n",
    "X_sd = 0.2\n",
    "N=10\n",
    "\n",
    "stats_t = (X_mean -mu_0)/ (X_sd / np.sqrt(N))\n",
    "p_val = t.cdf( -np.abs(stats_t),df=N-1)*2\n",
    "\n",
    "print(\"p-value is\")\n",
    "print(p_val)\n",
    "\n",
    "if p_val<0.05:\n",
    "    print(\"帰無仮説棄却\")\n",
    "else:\n",
    "    print(\"帰無仮説棄却できない\")\n"
   ]
  }
 ],
 "metadata": {
  "kernelspec": {
   "display_name": "Python 3",
   "language": "python",
   "name": "python3"
  },
  "language_info": {
   "codemirror_mode": {
    "name": "ipython",
    "version": 3
   },
   "file_extension": ".py",
   "mimetype": "text/x-python",
   "name": "python",
   "nbconvert_exporter": "python",
   "pygments_lexer": "ipython3",
   "version": "3.7.3"
  }
 },
 "nbformat": 4,
 "nbformat_minor": 2
}
