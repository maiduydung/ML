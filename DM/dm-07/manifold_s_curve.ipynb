{
 "cells": [
  {
   "cell_type": "markdown",
   "metadata": {},
   "source": [
    "### Sample program for manifold learning  "
   ]
  },
  {
   "cell_type": "markdown",
   "metadata": {},
   "source": [
    "#### Import libraries  "
   ]
  },
  {
   "cell_type": "code",
   "execution_count": null,
   "metadata": {
    "collapsed": false,
    "jupyter": {
     "outputs_hidden": false
    }
   },
   "outputs": [],
   "source": [
    "import matplotlib.pyplot as plt\n",
    "from mpl_toolkits.mplot3d import axes3d\n",
    "from sklearn import datasets\n",
    "from sklearn.decomposition import PCA\n",
    "from sklearn.manifold import MDS, LocallyLinearEmbedding, Isomap, TSNE\n",
    "from sklearn.preprocessing import StandardScaler\n",
    "from time import time"
   ]
  },
  {
   "cell_type": "markdown",
   "metadata": {},
   "source": [
    "#### Parameters  "
   ]
  },
  {
   "cell_type": "code",
   "execution_count": null,
   "metadata": {
    "collapsed": false,
    "jupyter": {
     "outputs_hidden": false
    }
   },
   "outputs": [],
   "source": [
    "n_points = 1000\n",
    "n_neighbors = 10\n",
    "n_components = 2"
   ]
  },
  {
   "cell_type": "markdown",
   "metadata": {},
   "source": [
    "#### Generate s_curve data"
   ]
  },
  {
   "cell_type": "code",
   "execution_count": null,
   "metadata": {},
   "outputs": [],
   "source": [
    "X_org, color = datasets.make_s_curve(n_points, random_state=0)\n",
    "print(X_org.shape)\n",
    "print(X_org[:3])\n",
    "print(color.shape)\n",
    "print(color[:3])"
   ]
  },
  {
   "cell_type": "markdown",
   "metadata": {},
   "source": [
    "#### Standardization of data  "
   ]
  },
  {
   "cell_type": "code",
   "execution_count": null,
   "metadata": {},
   "outputs": [],
   "source": [
    "sc = StandardScaler()\n",
    "X = sc.fit_transform(X_org) "
   ]
  },
  {
   "cell_type": "markdown",
   "metadata": {},
   "source": [
    "#### Figures  "
   ]
  },
  {
   "cell_type": "code",
   "execution_count": null,
   "metadata": {
    "collapsed": false,
    "jupyter": {
     "outputs_hidden": false
    }
   },
   "outputs": [],
   "source": [
    "fig = plt.figure(figsize=(15, 15))\n",
    "title = 'Manifold Learning'\n",
    "title += ' with {} points,'.format(n_points)\n",
    "title += ' {} neighbors'.format(n_neighbors)\n",
    "plt.suptitle(title, fontsize=14)\n",
    "\n",
    "# 3D s_curve\n",
    "ax = fig.add_subplot(2,3,1, projection='3d')\n",
    "ax.scatter(X[:, 0], X[:, 1], X[:, 2], c=color, cmap=plt.cm.jet)\n",
    "ax.view_init(4, -72)\n",
    "\n",
    "# PCA\n",
    "print('PCA ...')\n",
    "t0 = time()\n",
    "Y = PCA(n_components=n_components).fit_transform(X)\n",
    "t1 = time()\n",
    "ax = fig.add_subplot(2,3,2)\n",
    "plt.scatter(Y[:, 0], Y[:, 1], c=color, cmap=plt.cm.jet)\n",
    "plt.title(\"PCA: {:.2f} sec\".format(t1-t0))\n",
    "\n",
    "# MDS\n",
    "print('MDS ...')\n",
    "t0 = time()\n",
    "Y = MDS(n_components=n_components, random_state=0).fit_transform(X)\n",
    "t1 = time()\n",
    "ax = fig.add_subplot(2,3,3)\n",
    "plt.scatter(Y[:, 0], Y[:, 1], c=color, cmap=plt.cm.jet)\n",
    "plt.title(\"MDS: {:.2f} sec\".format(t1-t0))\n",
    "\n",
    "# Isomap\n",
    "print('Isomap ...')\n",
    "t0 = time()\n",
    "Y = Isomap(n_neighbors=n_neighbors, n_components=n_components).fit_transform(X)\n",
    "t1 = time()\n",
    "ax = fig.add_subplot(2,3,4)\n",
    "plt.scatter(Y[:, 0], Y[:, 1], c=color, cmap=plt.cm.jet)\n",
    "plt.title(\"Isomap: {:.2f} sec\".format(t1-t0))\n",
    "\n",
    "# LLE\n",
    "print('LLE ...')\n",
    "t0 = time()\n",
    "Y = LocallyLinearEmbedding(n_neighbors=n_neighbors,\n",
    "                           n_components=n_components,\n",
    "                           eigen_solver='auto',\n",
    "                           method='standard').fit_transform(X)\n",
    "t1 = time()\n",
    "ax = fig.add_subplot(2,3,5)\n",
    "plt.scatter(Y[:, 0], Y[:, 1], c=color, cmap=plt.cm.jet)\n",
    "plt.title(\"standard LLE: {:.2f} sec\".format(t1-t0))\n",
    "\n",
    "# t-SNE\n",
    "print('t-SNE ...')\n",
    "t0 = time()\n",
    "Y = TSNE(n_components=n_components,\n",
    "         perplexity=30, n_iter=1000,\n",
    "         random_state=0).fit_transform(X)\n",
    "t1 = time()\n",
    "ax = fig.add_subplot(2,3,6)\n",
    "plt.scatter(Y[:, 0], Y[:, 1], c=color, cmap=plt.cm.jet)\n",
    "plt.title(\"t-SNE: {:.2f} sec\".format(t1-t0))\n",
    "\n",
    "plt.show()"
   ]
  },
  {
   "cell_type": "code",
   "execution_count": null,
   "metadata": {},
   "outputs": [],
   "source": []
  }
 ],
 "metadata": {
  "kernelspec": {
   "display_name": "Python 3",
   "language": "python",
   "name": "python3"
  },
  "language_info": {
   "codemirror_mode": {
    "name": "ipython",
    "version": 3
   },
   "file_extension": ".py",
   "mimetype": "text/x-python",
   "name": "python",
   "nbconvert_exporter": "python",
   "pygments_lexer": "ipython3",
   "version": "3.8.8"
  }
 },
 "nbformat": 4,
 "nbformat_minor": 4
}
