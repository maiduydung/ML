{
 "cells": [
  {
   "cell_type": "code",
   "execution_count": 65,
   "id": "advanced-spider",
   "metadata": {},
   "outputs": [],
   "source": [
    "import numpy as np\n",
    "import pandas as pd\n",
    "import matplotlib.pyplot as plt\n",
    "from keras.models import Sequential\n",
    "from keras.layers import LSTM, Dense, Dropout\n",
    "from sklearn.preprocessing import MinMaxScaler\n",
    "from sklearn.metrics import mean_squared_error\n",
    "from keras.preprocessing.sequence import TimeseriesGenerator"
   ]
  },
  {
   "cell_type": "code",
   "execution_count": 66,
   "id": "inner-dialogue",
   "metadata": {},
   "outputs": [
    {
     "name": "stdout",
     "output_type": "stream",
     "text": [
      "(555, 4)\n",
      "Date                     datetime64[ns]\n",
      "Cummulative_Deaths              float64\n",
      "Infected                        float64\n",
      "Cummulative_Recovered           float64\n",
      "dtype: object\n"
     ]
    },
    {
     "data": {
      "text/html": [
       "<div>\n",
       "<style scoped>\n",
       "    .dataframe tbody tr th:only-of-type {\n",
       "        vertical-align: middle;\n",
       "    }\n",
       "\n",
       "    .dataframe tbody tr th {\n",
       "        vertical-align: top;\n",
       "    }\n",
       "\n",
       "    .dataframe thead th {\n",
       "        text-align: right;\n",
       "    }\n",
       "</style>\n",
       "<table border=\"1\" class=\"dataframe\">\n",
       "  <thead>\n",
       "    <tr style=\"text-align: right;\">\n",
       "      <th></th>\n",
       "      <th>Date</th>\n",
       "      <th>Cummulative_Deaths</th>\n",
       "      <th>Infected</th>\n",
       "      <th>Cummulative_Recovered</th>\n",
       "    </tr>\n",
       "  </thead>\n",
       "  <tbody>\n",
       "    <tr>\n",
       "      <th>0</th>\n",
       "      <td>2020-02-14</td>\n",
       "      <td>1.0</td>\n",
       "      <td>5.0</td>\n",
       "      <td>12.0</td>\n",
       "    </tr>\n",
       "    <tr>\n",
       "      <th>1</th>\n",
       "      <td>2020-02-15</td>\n",
       "      <td>1.0</td>\n",
       "      <td>4.0</td>\n",
       "      <td>12.0</td>\n",
       "    </tr>\n",
       "    <tr>\n",
       "      <th>2</th>\n",
       "      <td>2020-02-16</td>\n",
       "      <td>1.0</td>\n",
       "      <td>1.0</td>\n",
       "      <td>13.0</td>\n",
       "    </tr>\n",
       "    <tr>\n",
       "      <th>3</th>\n",
       "      <td>2020-02-17</td>\n",
       "      <td>1.0</td>\n",
       "      <td>6.0</td>\n",
       "      <td>12.0</td>\n",
       "    </tr>\n",
       "    <tr>\n",
       "      <th>4</th>\n",
       "      <td>2020-02-18</td>\n",
       "      <td>1.0</td>\n",
       "      <td>8.0</td>\n",
       "      <td>14.0</td>\n",
       "    </tr>\n",
       "  </tbody>\n",
       "</table>\n",
       "</div>"
      ],
      "text/plain": [
       "        Date  Cummulative_Deaths  Infected  Cummulative_Recovered\n",
       "0 2020-02-14                 1.0       5.0                   12.0\n",
       "1 2020-02-15                 1.0       4.0                   12.0\n",
       "2 2020-02-16                 1.0       1.0                   13.0\n",
       "3 2020-02-17                 1.0       6.0                   12.0\n",
       "4 2020-02-18                 1.0       8.0                   14.0"
      ]
     },
     "execution_count": 66,
     "metadata": {},
     "output_type": "execute_result"
    }
   ],
   "source": [
    "df = pd.read_csv('../seir/cov_datasets/all.csv')\n",
    "df['Date'] = pd.to_datetime(df['Date'])\n",
    "print(df.shape)\n",
    "print(df.dtypes)\n",
    "df.head()"
   ]
  },
  {
   "cell_type": "code",
   "execution_count": 67,
   "id": "divided-leonard",
   "metadata": {},
   "outputs": [
    {
     "data": {
      "image/png": "[encoded data removed]",
      "text/plain": [
       "<Figure size 960x320 with 1 Axes>"
      ]
     },
     "metadata": {
      "needs_background": "light"
     },
     "output_type": "display_data"
    }
   ],
   "source": [
    "from matplotlib.pyplot import figure\n",
    "figure(figsize=(12, 4), dpi=80)\n",
    "plt.plot(df['Date'],df['Infected'])\n",
    "plt.show()"
   ]
  },
  {
   "cell_type": "code",
   "execution_count": 69,
   "id": "regulated-static",
   "metadata": {},
   "outputs": [],
   "source": [
    "training_set = df.iloc[:500, 2:3].values.astype(int)\n",
    "test_set = df.iloc[500:, 2:3].values.astype(int)\n",
    "\n",
    "# Feature Scaling\n",
    "sc = MinMaxScaler(feature_range = (0, 1))\n",
    "training_set_scaled = sc.fit_transform(training_set)\n",
    "testing_set_scaled = sc.fit_transform(test_set)\n",
    "\n",
    "\n",
    "# Creating a data structure with 5 time-steps and 2 output\n",
    "X_train = []\n",
    "y_train = []\n",
    "\n",
    "X_test = []\n",
    "y_test = []\n",
    "steps = 5 #days"
   ]
  },
  {
   "cell_type": "code",
   "execution_count": 70,
   "id": "everyday-meeting",
   "metadata": {},
   "outputs": [
    {
     "name": "stdout",
     "output_type": "stream",
     "text": [
      "(500, 1)\n",
      "(55, 1)\n"
     ]
    }
   ],
   "source": [
    "print(training_set_scaled.shape)\n",
    "print(testing_set_scaled.shape)"
   ]
  },
  {
   "cell_type": "code",
   "execution_count": 71,
   "id": "logical-peeing",
   "metadata": {},
   "outputs": [],
   "source": [
    "def split_seq(sequence, n_steps_in, n_steps_out):\n",
    "    X = []\n",
    "    y = []\n",
    "    for i in range(len(sequence)):\n",
    "        end_idx = i + n_steps_in\n",
    "        steps_out_idx = end_idx + n_steps_out\n",
    "        \n",
    "        #check if we reach end of arr or not\n",
    "        if (steps_out_idx > len(sequence)):\n",
    "            break\n",
    "        seq_x = sequence[i:end_idx]\n",
    "        seq_y = sequence[end_idx:steps_out_idx]\n",
    "        X.append(seq_x)\n",
    "        y.append(seq_y)\n",
    "    return np.array(X), np.array(y)"
   ]
  },
  {
   "cell_type": "code",
   "execution_count": 93,
   "id": "wired-victim",
   "metadata": {},
   "outputs": [],
   "source": [
    "X_train , y_train = split_seq(training_set_scaled, 14,10)\n",
    "X_test , y_test = split_seq(testing_set_scaled, 14,10)"
   ]
  },
  {
   "cell_type": "code",
   "execution_count": 94,
   "id": "viral-milwaukee",
   "metadata": {},
   "outputs": [
    {
     "name": "stdout",
     "output_type": "stream",
     "text": [
      "(477, 14, 1) (477, 10, 1)\n",
      "(32, 14, 1) (32, 10, 1)\n"
     ]
    }
   ],
   "source": [
    "print(X_train.shape, y_train.shape)\n",
    "print(X_test.shape, y_test.shape)"
   ]
  },
  {
   "cell_type": "code",
   "execution_count": 95,
   "id": "legal-hamilton",
   "metadata": {},
   "outputs": [
    {
     "data": {
      "text/plain": [
       "(14, 1)"
      ]
     },
     "execution_count": 95,
     "metadata": {},
     "output_type": "execute_result"
    }
   ],
   "source": [
    "input_shape = (X_train.shape[1],X_train.shape[2])\n",
    "input_shape"
   ]
  },
  {
   "cell_type": "code",
   "execution_count": 96,
   "id": "dangerous-certification",
   "metadata": {},
   "outputs": [
    {
     "name": "stdout",
     "output_type": "stream",
     "text": [
      "Epoch 1/50\n",
      "15/15 [==============================] - 0s 16ms/step - loss: 0.0611\n",
      "Epoch 2/50\n",
      "15/15 [==============================] - 0s 15ms/step - loss: 0.0267\n",
      "Epoch 3/50\n",
      "15/15 [==============================] - 0s 15ms/step - loss: 0.0217\n",
      "Epoch 4/50\n",
      "15/15 [==============================] - 0s 15ms/step - loss: 0.0201\n",
      "Epoch 5/50\n",
      "15/15 [==============================] - 0s 15ms/step - loss: 0.0191\n",
      "Epoch 6/50\n",
      "15/15 [==============================] - 0s 15ms/step - loss: 0.0184\n",
      "Epoch 7/50\n",
      "15/15 [==============================] - 0s 15ms/step - loss: 0.0187\n",
      "Epoch 8/50\n",
      "15/15 [==============================] - 0s 15ms/step - loss: 0.0168\n",
      "Epoch 9/50\n",
      "15/15 [==============================] - 0s 16ms/step - loss: 0.0170\n",
      "Epoch 10/50\n",
      "15/15 [==============================] - 0s 15ms/step - loss: 0.0173\n",
      "Epoch 11/50\n",
      "15/15 [==============================] - 0s 16ms/step - loss: 0.0158\n",
      "Epoch 12/50\n",
      "15/15 [==============================] - 0s 18ms/step - loss: 0.0140\n",
      "Epoch 13/50\n",
      "15/15 [==============================] - 0s 20ms/step - loss: 0.0123\n",
      "Epoch 14/50\n",
      "15/15 [==============================] - 0s 19ms/step - loss: 0.0146\n",
      "Epoch 15/50\n",
      "15/15 [==============================] - 0s 18ms/step - loss: 0.0143\n",
      "Epoch 16/50\n",
      "15/15 [==============================] - 0s 15ms/step - loss: 0.0140\n",
      "Epoch 17/50\n",
      "15/15 [==============================] - 0s 17ms/step - loss: 0.0133\n",
      "Epoch 18/50\n",
      "15/15 [==============================] - 0s 21ms/step - loss: 0.0109\n",
      "Epoch 19/50\n",
      "15/15 [==============================] - 0s 19ms/step - loss: 0.0101\n",
      "Epoch 20/50\n",
      "15/15 [==============================] - 0s 19ms/step - loss: 0.0097\n",
      "Epoch 21/50\n",
      "15/15 [==============================] - 0s 17ms/step - loss: 0.0093\n",
      "Epoch 22/50\n",
      "15/15 [==============================] - 0s 16ms/step - loss: 0.0102\n",
      "Epoch 23/50\n",
      "15/15 [==============================] - 0s 14ms/step - loss: 0.0096\n",
      "Epoch 24/50\n",
      "15/15 [==============================] - 0s 16ms/step - loss: 0.0090\n",
      "Epoch 25/50\n",
      "15/15 [==============================] - 0s 17ms/step - loss: 0.0093\n",
      "Epoch 26/50\n",
      "15/15 [==============================] - 0s 19ms/step - loss: 0.0088: 0s - loss: 0.0\n",
      "Epoch 27/50\n",
      "15/15 [==============================] - 0s 20ms/step - loss: 0.0092\n",
      "Epoch 28/50\n",
      "15/15 [==============================] - 0s 17ms/step - loss: 0.0093\n",
      "Epoch 29/50\n",
      "15/15 [==============================] - 0s 21ms/step - loss: 0.0083\n",
      "Epoch 30/50\n",
      "15/15 [==============================] - 0s 19ms/step - loss: 0.0074: 0s - loss: 0.\n",
      "Epoch 31/50\n",
      "15/15 [==============================] - 0s 24ms/step - loss: 0.0083\n",
      "Epoch 32/50\n",
      "15/15 [==============================] - 0s 22ms/step - loss: 0.0078\n",
      "Epoch 33/50\n",
      "15/15 [==============================] - 0s 19ms/step - loss: 0.0077\n",
      "Epoch 34/50\n",
      "15/15 [==============================] - 0s 24ms/step - loss: 0.0077\n",
      "Epoch 35/50\n",
      "15/15 [==============================] - 0s 24ms/step - loss: 0.0079\n",
      "Epoch 36/50\n",
      "15/15 [==============================] - 0s 18ms/step - loss: 0.0073\n",
      "Epoch 37/50\n",
      "15/15 [==============================] - 0s 21ms/step - loss: 0.0069\n",
      "Epoch 38/50\n",
      "15/15 [==============================] - 0s 18ms/step - loss: 0.0066\n",
      "Epoch 39/50\n",
      "15/15 [==============================] - 0s 22ms/step - loss: 0.0069\n",
      "Epoch 40/50\n",
      "15/15 [==============================] - 0s 16ms/step - loss: 0.0065\n",
      "Epoch 41/50\n",
      "15/15 [==============================] - 0s 22ms/step - loss: 0.0075\n",
      "Epoch 42/50\n",
      "15/15 [==============================] - 0s 23ms/step - loss: 0.0075\n",
      "Epoch 43/50\n",
      "15/15 [==============================] - 0s 19ms/step - loss: 0.0065\n",
      "Epoch 44/50\n",
      "15/15 [==============================] - 0s 20ms/step - loss: 0.0063\n",
      "Epoch 45/50\n",
      "15/15 [==============================] - 0s 18ms/step - loss: 0.0068\n",
      "Epoch 46/50\n",
      "15/15 [==============================] - 0s 19ms/step - loss: 0.0067\n",
      "Epoch 47/50\n",
      "15/15 [==============================] - 0s 16ms/step - loss: 0.0067\n",
      "Epoch 48/50\n",
      "15/15 [==============================] - 0s 22ms/step - loss: 0.0065\n",
      "Epoch 49/50\n",
      "15/15 [==============================] - 0s 21ms/step - loss: 0.0070\n",
      "Epoch 50/50\n",
      "15/15 [==============================] - 0s 17ms/step - loss: 0.0069\n"
     ]
    },
    {
     "data": {
      "text/plain": [
       "<tensorflow.python.keras.callbacks.History at 0x1844b8db670>"
      ]
     },
     "execution_count": 96,
     "metadata": {},
     "output_type": "execute_result"
    }
   ],
   "source": [
    "model = Sequential()\n",
    "\n",
    "#Adding the first LSTM layer and some Dropout regularisation\n",
    "model.add(LSTM(units = 50, return_sequences = True, input_shape = (X_train.shape[1],X_train.shape[2])))\n",
    "model.add(Dropout(0.2))\n",
    "\n",
    "# Adding a second LSTM layer and some Dropout regularisation\n",
    "model.add(LSTM(units = 50, return_sequences = True))\n",
    "model.add(Dropout(0.2))\n",
    "\n",
    "# Adding a third LSTM layer and some Dropout regularisation\n",
    "model.add(LSTM(units = 50, return_sequences = True))\n",
    "model.add(Dropout(0.2))\n",
    "\n",
    "# Adding a fourth LSTM layer and some Dropout regularisation\n",
    "model.add(LSTM(units = 50))\n",
    "model.add(Dropout(0.2))\n",
    "\n",
    "# Adding the output layer\n",
    "model.add(Dense(units = 10))\n",
    "\n",
    "# Compiling the RNN\n",
    "model.compile(optimizer = 'adam', loss = 'mean_squared_error')\n",
    "\n",
    "# Fitting the RNN to the Training set\n",
    "model.fit(X_train, y_train, epochs = 50, batch_size = 32)"
   ]
  },
  {
   "cell_type": "code",
   "execution_count": 99,
   "id": "cooperative-departure",
   "metadata": {},
   "outputs": [],
   "source": [
    "y_pred = model.predict(X_test)\n",
    "y_pred = sc.inverse_transform(y_pred) #revert scaling"
   ]
  },
  {
   "cell_type": "code",
   "execution_count": 100,
   "id": "dried-young",
   "metadata": {},
   "outputs": [
    {
     "name": "stdout",
     "output_type": "stream",
     "text": [
      "(32, 10)\n",
      "[[ 2086.9692  1993.6124  2130.522   2120.4712  2081.384   2216.2668\n",
      "   2244.7285  2239.7146  2239.2087  2325.9834]\n",
      " [ 2138.7139  2045.3293  2182.8008  2180.8206  2150.6765  2270.6812\n",
      "   2311.0808  2302.9517  2313.4448  2400.3584]\n",
      " [ 2212.825   2123.0347  2267.0957  2266.2817  2239.2046  2356.4556\n",
      "   2404.3813  2397.8318  2408.7483  2503.5269]\n",
      " [ 2328.361   2242.9192  2403.7612  2397.729   2372.4746  2497.301\n",
      "   2547.976   2548.2012  2551.601   2663.7156]\n",
      " [ 2458.6196  2374.983   2554.0164  2545.6855  2527.7876  2654.7397\n",
      "   2709.9573  2715.9463  2717.381   2846.3462]\n",
      " [ 2635.341   2550.118   2756.4766  2746.5393  2744.1086  2869.8162\n",
      "   2933.58    2945.6982  2949.9546  3100.3708]\n",
      " [ 2874.9287  2785.6711  3030.718   3018.9067  3039.6028  3162.9297\n",
      "   3239.8088  3259.3     3269.2856  3448.1006]\n",
      " [ 3098.7148  3007.355   3280.0295  3273.8967  3318.258   3429.1313\n",
      "   3524.1238  3547.4238  3569.3726  3768.7322]\n",
      " [ 3241.0122  3154.5361  3429.5027  3436.6733  3494.673   3584.7585\n",
      "   3698.711   3721.3044  3756.7214  3961.291 ]\n",
      " [ 3402.2124  3327.2122  3608.7776  3619.7402  3680.0776  3768.349\n",
      "   3892.5046  3920.8086  3953.0627  4171.9946]\n",
      " [ 3595.1028  3532.7307  3827.3076  3836.9407  3897.161   3994.5664\n",
      "   4122.213   4160.668   4181.966   4422.4683]\n",
      " [ 3820.3289  3765.8806  4078.5103  4090.13    4159.659   4260.375\n",
      "   4394.0645  4441.8125  4459.9575  4722.622 ]\n",
      " [ 4075.1768  4026.2031  4359.869   4376.4478  4462.1133  4561.076\n",
      "   4704.4775  4761.006   4781.7344  5066.64  ]\n",
      " [ 4323.004   4283.1904  4631.6436  4652.422   4748.6094  4849.1333\n",
      "   4999.323   5066.1455  5084.5625  5389.8926]\n",
      " [ 4479.1807  4450.561   4789.0474  4822.56    4924.5317  5011.8555\n",
      "   5170.1675  5242.618   5265.5396  5572.78  ]\n",
      " [ 4536.2314  4518.731   4825.456   4880.7754  4987.2417  5042.4727\n",
      "   5214.5557  5285.928   5324.899   5615.031 ]\n",
      " [ 4748.3657  4736.7393  5051.518   5119.499   5245.1772  5284.6533\n",
      "   5476.479   5550.756   5603.629   5903.0205]\n",
      " [ 5245.0645  5229.0386  5610.2637  5687.687   5865.239   5902.2295\n",
      "   6128.9824  6210.2554  6283.976   6628.958 ]\n",
      " [ 6088.4395  6060.35    6557.3403  6656.9834  6924.805   6963.3706\n",
      "   7249.1045  7336.9365  7446.23    7866.2637]\n",
      " [ 7276.24    7244.8257  7875.2153  8023.1274  8400.05    8451.809\n",
      "   8815.188   8906.574   9052.671   9565.224 ]\n",
      " [ 8805.58    8799.276   9545.454   9775.843  10251.182  10350.183\n",
      "  10792.554  10882.731  11040.096  11654.178 ]\n",
      " [10321.777  10379.053  11156.239  11497.771  12032.217  12179.074\n",
      "  12692.062  12770.977  12917.292  13597.642 ]\n",
      " [11534.725  11689.341  12415.975  12848.143  13392.692  13578.192\n",
      "  14145.452  14209.618  14325.174  15035.028 ]\n",
      " [12557.64   12825.389  13465.664  13946.236  14456.378  14707.236\n",
      "  15299.254  15343.069  15393.963  16129.333 ]\n",
      " [13407.994  13772.395  14307.35   14809.922  15269.102  15583.207\n",
      "  16181.158  16192.379  16173.119  16920.803 ]\n",
      " [14146.557  14575.962  15000.086  15523.344  15940.268  16289.516\n",
      "  16889.076  16858.172  16786.326  17524.709 ]\n",
      " [14780.282  15250.993  15561.685  16122.771  16524.861  16862.303\n",
      "  17474.422  17410.475  17320.846  18018.898 ]\n",
      " [15399.598  15902.911  16099.1875 16718.596  17121.355  17415.062\n",
      "  18049.676  17955.863  17867.748  18507.195 ]\n",
      " [16057.13   16594.541  16677.232  17353.48   17738.717  17982.754\n",
      "  18634.29   18488.367  18388.459  18976.092 ]\n",
      " [16473.348  17043.592  17028.365  17695.693  18066.967  18237.723\n",
      "  18910.893  18720.248  18617.707  19161.04  ]\n",
      " [16663.861  17253.033  17165.13   17729.135  18061.723  18163.682\n",
      "  18843.672  18582.639  18454.113  18987.283 ]\n",
      " [16604.033  17168.99   17024.953  17438.48   17721.639  17759.58\n",
      "  18423.547  18089.416  17922.791  18455.719 ]]\n"
     ]
    }
   ],
   "source": [
    "print(y_pred.shape)\n",
    "print(y_pred)"
   ]
  },
  {
   "cell_type": "code",
   "execution_count": null,
   "id": "coral-affiliate",
   "metadata": {},
   "outputs": [],
   "source": []
  },
  {
   "cell_type": "code",
   "execution_count": null,
   "id": "upper-adobe",
   "metadata": {},
   "outputs": [],
   "source": []
  },
  {
   "cell_type": "code",
   "execution_count": null,
   "id": "sticky-watch",
   "metadata": {},
   "outputs": [],
   "source": []
  },
  {
   "cell_type": "code",
   "execution_count": null,
   "id": "assumed-shift",
   "metadata": {},
   "outputs": [],
   "source": []
  },
  {
   "cell_type": "code",
   "execution_count": null,
   "id": "paperback-consultation",
   "metadata": {},
   "outputs": [],
   "source": []
  },
  {
   "cell_type": "code",
   "execution_count": null,
   "id": "outside-blind",
   "metadata": {},
   "outputs": [],
   "source": []
  },
  {
   "cell_type": "code",
   "execution_count": null,
   "id": "blind-third",
   "metadata": {},
   "outputs": [],
   "source": []
  },
  {
   "cell_type": "code",
   "execution_count": null,
   "id": "printable-verse",
   "metadata": {},
   "outputs": [],
   "source": [
    "# univariate multi-step vector-output stacked lstm example\n",
    "from numpy import array\n",
    "from keras.models import Sequential\n",
    "from keras.layers import LSTM\n",
    "from keras.layers import Dense\n",
    "\n",
    "# split a univariate sequence into samples\n",
    "def split_sequence(sequence, n_steps_in, n_steps_out):\n",
    "\tX, y = list(), list()\n",
    "\tfor i in range(len(sequence)):\n",
    "\t\t# find the end of this pattern\n",
    "\t\tend_ix = i + n_steps_in\n",
    "\t\tout_end_ix = end_ix + n_steps_out\n",
    "\t\t# check if we are beyond the sequence\n",
    "\t\tif out_end_ix > len(sequence):\n",
    "\t\t\tbreak\n",
    "\t\t# gather input and output parts of the pattern\n",
    "\t\tseq_x, seq_y = sequence[i:end_ix], sequence[end_ix:out_end_ix]\n",
    "\t\tX.append(seq_x)\n",
    "\t\ty.append(seq_y)\n",
    "\treturn array(X), array(y)\n",
    "\n",
    "# define input sequence\n",
    "raw_seq = [10, 20, 30, 40, 50, 60, 70, 80, 90]\n",
    "\n",
    "# choose a number of time steps\n",
    "n_steps_in, n_steps_out = 3, 2\n",
    "\n",
    "# split into samples\n",
    "X, y = split_sequence(raw_seq, n_steps_in, n_steps_out)\n",
    "\n",
    "# reshape from [samples, timesteps] into [samples, timesteps, features]\n",
    "n_features = 1\n",
    "X = X.reshape((X.shape[0], X.shape[1], n_features))\n",
    "\n",
    "# define model\n",
    "model = Sequential()\n",
    "model.add(LSTM(100, activation='relu', return_sequences=True, input_shape=(n_steps_in, n_features)))\n",
    "model.add(LSTM(100, activation='relu'))\n",
    "model.add(Dense(n_steps_out))\n",
    "model.compile(optimizer='adam', loss='mse')\n",
    "\n",
    "# fit model\n",
    "model.fit(X, y, epochs=50, verbose=0)\n",
    "# demonstrate prediction\n",
    "x_input = array([70, 80, 90])\n",
    "x_input = x_input.reshape((1, n_steps_in, n_features))\n",
    "yhat = model.predict(x_input, verbose=0)\n",
    "print(yhat)"
   ]
  },
  {
   "cell_type": "code",
   "execution_count": null,
   "id": "inside-investigation",
   "metadata": {},
   "outputs": [],
   "source": [
    "X.shape"
   ]
  },
  {
   "cell_type": "code",
   "execution_count": null,
   "id": "constant-burden",
   "metadata": {},
   "outputs": [],
   "source": [
    "X"
   ]
  },
  {
   "cell_type": "code",
   "execution_count": null,
   "id": "orange-recorder",
   "metadata": {},
   "outputs": [],
   "source": [
    "y"
   ]
  },
  {
   "cell_type": "code",
   "execution_count": null,
   "id": "metropolitan-terrorist",
   "metadata": {},
   "outputs": [],
   "source": []
  },
  {
   "cell_type": "code",
   "execution_count": null,
   "id": "breathing-retirement",
   "metadata": {},
   "outputs": [],
   "source": []
  },
  {
   "cell_type": "code",
   "execution_count": null,
   "id": "labeled-chest",
   "metadata": {},
   "outputs": [],
   "source": [
    "\n",
    "# multivariate multi-step stacked lstm example\n",
    "from numpy import array\n",
    "from numpy import hstack\n",
    "from keras.models import Sequential\n",
    "from keras.layers import LSTM\n",
    "from keras.layers import Dense\n",
    " \n",
    "# split a multivariate sequence into samples\n",
    "def split_sequences(sequences, n_steps_in, n_steps_out):\n",
    "\tX, y = list(), list()\n",
    "\tfor i in range(len(sequences)):\n",
    "\t\t# find the end of this pattern\n",
    "\t\tend_ix = i + n_steps_in\n",
    "\t\tout_end_ix = end_ix + n_steps_out-1\n",
    "\t\t# check if we are beyond the dataset\n",
    "\t\tif out_end_ix > len(sequences):\n",
    "\t\t\tbreak\n",
    "\t\t# gather input and output parts of the pattern\n",
    "\t\tseq_x, seq_y = sequences[i:end_ix, :-1], sequences[end_ix-1:out_end_ix, -1]\n",
    "\t\tX.append(seq_x)\n",
    "\t\ty.append(seq_y)\n",
    "\treturn array(X), array(y)\n",
    " \n",
    "# define input sequence\n",
    "in_seq1 = array([10, 20, 30, 40, 50, 60, 70, 80, 90])\n",
    "in_seq2 = array([15, 25, 35, 45, 55, 65, 75, 85, 95])\n",
    "out_seq = array([in_seq1[i]+in_seq2[i] for i in range(len(in_seq1))])\n",
    "\n",
    "# convert to [rows, columns] structure\n",
    "in_seq1 = in_seq1.reshape((len(in_seq1), 1))\n",
    "in_seq2 = in_seq2.reshape((len(in_seq2), 1))\n",
    "out_seq = out_seq.reshape((len(out_seq), 1))\n",
    "\n",
    "# horizontally stack columns\n",
    "dataset = hstack((in_seq1, in_seq2, out_seq))\n",
    "\n",
    "# choose a number of time steps\n",
    "n_steps_in, n_steps_out = 3, 2\n",
    "\n",
    "# covert into input/output\n",
    "X, y = split_sequences(dataset, n_steps_in, n_steps_out)\n",
    "\n",
    "# the dataset knows the number of features, e.g. 2\n",
    "n_features = X.shape[2]\n",
    "\n",
    "# define model\n",
    "model = Sequential()\n",
    "model.add(LSTM(100, activation='relu', return_sequences=True, input_shape=(n_steps_in, n_features)))\n",
    "model.add(LSTM(100, activation='relu'))\n",
    "model.add(Dense(n_steps_out))\n",
    "model.compile(optimizer='adam', loss='mse')\n",
    "\n",
    "# fit model\n",
    "model.fit(X, y, epochs=200, verbose=0)\n",
    "\n",
    "# demonstrate prediction\n",
    "x_input = array([[70, 75], [80, 85], [90, 95]])\n",
    "x_input = x_input.reshape((1, n_steps_in, n_features))\n",
    "yhat = model.predict(x_input, verbose=0)\n",
    "\n",
    "print(yhat)"
   ]
  },
  {
   "cell_type": "code",
   "execution_count": null,
   "id": "running-coordination",
   "metadata": {},
   "outputs": [],
   "source": [
    "X"
   ]
  },
  {
   "cell_type": "code",
   "execution_count": null,
   "id": "novel-notification",
   "metadata": {},
   "outputs": [],
   "source": [
    "dataset"
   ]
  },
  {
   "cell_type": "code",
   "execution_count": null,
   "id": "joined-testimony",
   "metadata": {},
   "outputs": [],
   "source": [
    "y"
   ]
  },
  {
   "cell_type": "code",
   "execution_count": null,
   "id": "healthy-chest",
   "metadata": {},
   "outputs": [],
   "source": []
  },
  {
   "cell_type": "code",
   "execution_count": null,
   "id": "liberal-bronze",
   "metadata": {},
   "outputs": [],
   "source": []
  },
  {
   "cell_type": "code",
   "execution_count": null,
   "id": "bronze-statistics",
   "metadata": {},
   "outputs": [],
   "source": []
  },
  {
   "cell_type": "code",
   "execution_count": null,
   "id": "quarterly-ukraine",
   "metadata": {},
   "outputs": [],
   "source": []
  },
  {
   "cell_type": "code",
   "execution_count": null,
   "id": "spanish-cholesterol",
   "metadata": {},
   "outputs": [],
   "source": [
    "from numpy import array\n",
    "data = array([\n",
    "\t[0.1, 1.0],\n",
    "\t[0.2, 0.9],\n",
    "\t[0.3, 0.8],\n",
    "\t[0.4, 0.7],\n",
    "\t[0.5, 0.6],\n",
    "\t[0.6, 0.5],\n",
    "\t[0.7, 0.4],\n",
    "\t[0.8, 0.3],\n",
    "\t[0.9, 0.2],\n",
    "\t[1.0, 0.1]])\n",
    "data = data.reshape(1, 10, 2)\n",
    "print(data.shape)"
   ]
  },
  {
   "cell_type": "code",
   "execution_count": null,
   "id": "cutting-ethernet",
   "metadata": {},
   "outputs": [],
   "source": [
    "data"
   ]
  },
  {
   "cell_type": "code",
   "execution_count": null,
   "id": "brown-integer",
   "metadata": {},
   "outputs": [],
   "source": []
  }
 ],
 "metadata": {
  "kernelspec": {
   "display_name": "Python 3",
   "language": "python",
   "name": "python3"
  },
  "language_info": {
   "codemirror_mode": {
    "name": "ipython",
    "version": 3
   },
   "file_extension": ".py",
   "mimetype": "text/x-python",
   "name": "python",
   "nbconvert_exporter": "python",
   "pygments_lexer": "ipython3",
   "version": "3.8.5"
  }
 },
 "nbformat": 4,
 "nbformat_minor": 5
}
