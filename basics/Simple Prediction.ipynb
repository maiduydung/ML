{
 "cells": [
  {
   "cell_type": "markdown",
   "metadata": {},
   "source": [
    "### Forward propagation"
   ]
  },
  {
   "cell_type": "markdown",
   "metadata": {},
   "source": [
    "#### Predicting with multiple data points -> single output"
   ]
  },
  {
   "cell_type": "code",
   "execution_count": 12,
   "metadata": {},
   "outputs": [
    {
     "data": {
      "text/plain": [
       "0.9800000000000001"
      ]
     },
     "execution_count": 12,
     "metadata": {},
     "output_type": "execute_result"
    }
   ],
   "source": [
    "# 2 layers\n",
    "# 3 nodes at the 1st\n",
    "# 1 at the last\n",
    "\n",
    "w = [0.1, 0.2, 0]\n",
    "\n",
    "def w_sum(a, b):\n",
    "    output = 0\n",
    "    assert len(a) == len (b)\n",
    "    for i in range(len(a)):\n",
    "        output = output + a[i] * b[i]\n",
    "    return output\n",
    "\n",
    "def neural_network(input, weights):\n",
    "    pred = w_sum(input, weights)\n",
    "    return pred\n",
    "\n",
    "\n",
    "players = [8.5, 9.5, 9.9, 9.0] \n",
    "wl_record = [0.65, 0.8, 0.8, 0.9]\n",
    "nfans = [1.2, 1.3, 0.5, 1.0] \n",
    "\n",
    "input = [players[0], wl_record[0], nfans[0]]\n",
    "pred = neural_network(input, w)\n",
    "\n",
    "pred\n",
    "# 8.5*0.1 + 0.65*0.2 + 0*1.2"
   ]
  },
  {
   "cell_type": "code",
   "execution_count": 13,
   "metadata": {},
   "outputs": [
    {
     "data": {
      "text/plain": [
       "0.9800000000000001"
      ]
     },
     "execution_count": 13,
     "metadata": {},
     "output_type": "execute_result"
    }
   ],
   "source": [
    "#with numpy\n",
    "import numpy as np\n",
    "\n",
    "w = np.array([0.1, 0.2, 0])\n",
    "\n",
    "\n",
    "def neural_network(input, weights):\n",
    "    pred = input.dot(weights)\n",
    "    return pred\n",
    "\n",
    "\n",
    "players = np.array([8.5, 9.5, 9.9, 9.0]) \n",
    "wl_record = np.array([0.65, 0.8, 0.8, 0.9])\n",
    "nfans = np.array([1.2, 1.3, 0.5, 1.0])\n",
    "\n",
    "input = np.array([players[0], wl_record[0], nfans[0]])\n",
    "pred = neural_network(input, w)\n",
    "\n",
    "pred"
   ]
  },
  {
   "cell_type": "code",
   "execution_count": null,
   "metadata": {},
   "outputs": [],
   "source": []
  },
  {
   "cell_type": "markdown",
   "metadata": {},
   "source": [
    "#### Predicting with single data point -> multiple output"
   ]
  },
  {
   "cell_type": "code",
   "execution_count": 26,
   "metadata": {},
   "outputs": [
    {
     "data": {
      "text/plain": [
       "[0.195, 0.13, 0.5850000000000001]"
      ]
     },
     "execution_count": 26,
     "metadata": {},
     "output_type": "execute_result"
    }
   ],
   "source": [
    "input = 0.65\n",
    "weight = [0.3, 0.2, 0.9]\n",
    "\n",
    "def neural_network(input, weights):\n",
    "    output = [0, 0, 0]\n",
    "    assert(len(output) == len(weights))\n",
    "    for i in range(len(output)):\n",
    "        output[i] = input*weight[i]\n",
    "    return output\n",
    "\n",
    "pred = neural_network(input, weight)\n",
    "pred\n",
    "#hurt, win, sad"
   ]
  },
  {
   "cell_type": "markdown",
   "metadata": {},
   "source": [
    "#### Predicting with multiple data points -> multiple output"
   ]
  },
  {
   "cell_type": "code",
   "execution_count": 12,
   "metadata": {},
   "outputs": [
    {
     "data": {
      "text/plain": [
       "[0.555, 0.9800000000000001, 0.9650000000000001]"
      ]
     },
     "execution_count": 12,
     "metadata": {},
     "output_type": "execute_result"
    }
   ],
   "source": [
    "          #toes, wl, fans\n",
    "weight = [[0.1, 0.1, -0.3], #hurt\n",
    "          [0.1, 0.2, 0.0],  #win\n",
    "          [0.0, 1.3, 0.1]]  #sad\n",
    "\n",
    "toes  = [8.5, 9.5, 9.9, 9.0]\n",
    "wlrec = [0.65, 0.8, 0.8, 0.9]\n",
    "nfans = [1.2, 1.3, 0.5, 1.0]\n",
    "\n",
    "input = [toes[0], wlrec[0], nfans[0]]\n",
    "\n",
    "def w_sum(a, b):\n",
    "    assert(len(a) == len(b))\n",
    "    output = 0\n",
    "    for i in range(len(a)):\n",
    "        output = output + a[i]*b[i]\n",
    "    return output\n",
    "\n",
    "# iterate through each element of weight(hurt, win, sad), \n",
    "# then for each of them do a weighted sum with the input, just another loop\n",
    "\n",
    "def vect_mat_mul(vect, weight):\n",
    "    output = [0,0,0]\n",
    "    assert(len(vect) == len(output))\n",
    "    for i in range(len(output)):\n",
    "        output[i] = w_sum(vect, weight[i])\n",
    "    return output\n",
    "\n",
    "def neural_network(input, weight):\n",
    "    pred = vect_mat_mul(input, weight)\n",
    "    return pred\n",
    "\n",
    "neural_network(input, weight)\n",
    "#hurt, win, sad"
   ]
  },
  {
   "cell_type": "code",
   "execution_count": 10,
   "metadata": {},
   "outputs": [
    {
     "name": "stdout",
     "output_type": "stream",
     "text": [
      "[0.1, 0.1, -0.3]\n",
      "[8.5, 0.95, 1.2]\n"
     ]
    }
   ],
   "source": [
    "print(weight[0])\n",
    "print(input)"
   ]
  },
  {
   "cell_type": "markdown",
   "metadata": {},
   "source": [
    "#### Predicting with multiple data points -> multiple output\n",
    "##### And a hidden layer"
   ]
  },
  {
   "cell_type": "code",
   "execution_count": 22,
   "metadata": {},
   "outputs": [
    {
     "data": {
      "text/plain": [
       "array([ 0.905,  2.245, -0.145])"
      ]
     },
     "execution_count": 22,
     "metadata": {},
     "output_type": "execute_result"
    }
   ],
   "source": [
    "import numpy as np\n",
    "\n",
    "weight_input_layer = np.array([\n",
    "    #toes, win, fans\n",
    "    [0.1, 0.2, -0.1], # hid[0]\n",
    "    [-0.1,0.1, 0.9], # hid[1]\n",
    "    [0.1, 0.4, 0.1] # hid[2]\n",
    "])\n",
    "\n",
    "weight_hidden_layer = np.array([\n",
    "    #1    2    3\n",
    "    [0.1, 0.2, -0.1], # hurt\n",
    "    [-0.1,0.1, 0.9], # sad\n",
    "    [0.1, 0.4, 0.1] # win\n",
    "])\n",
    "\n",
    "weights = [weight_input_layer, weight_hidden_layer]\n",
    "\n",
    "def neural_network(input, weights):\n",
    "    hidden = input.dot(weights[0])\n",
    "    predicted = input.dot(weights[1])\n",
    "    return predicted\n",
    "\n",
    "toes  = [8.5, 9.5, 9.9, 9.0]\n",
    "wlrec = [0.65, 0.8, 0.8, 0.9]\n",
    "nfans = [1.2, 1.3, 0.5, 1.0]\n",
    "\n",
    "input = np.array([toes[0], wlrec[0], nfans[0]])\n",
    "neural_network(input, weights)"
   ]
  }
 ],
 "metadata": {
  "kernelspec": {
   "display_name": "Python 3",
   "language": "python",
   "name": "python3"
  },
  "language_info": {
   "codemirror_mode": {
    "name": "ipython",
    "version": 3
   },
   "file_extension": ".py",
   "mimetype": "text/x-python",
   "name": "python",
   "nbconvert_exporter": "python",
   "pygments_lexer": "ipython3",
   "version": "3.6.10"
  }
 },
 "nbformat": 4,
 "nbformat_minor": 4
}
