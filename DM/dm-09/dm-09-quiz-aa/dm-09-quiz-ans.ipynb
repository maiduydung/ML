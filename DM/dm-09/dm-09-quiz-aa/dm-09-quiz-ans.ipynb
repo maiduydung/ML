{
 "cells": [
  {
   "cell_type": "markdown",
   "metadata": {},
   "source": [
    "### DM-09 Quiz  "
   ]
  },
  {
   "cell_type": "markdown",
   "metadata": {},
   "source": [
    "#### Import libraries  "
   ]
  },
  {
   "cell_type": "code",
   "execution_count": 1,
   "metadata": {},
   "outputs": [],
   "source": [
    "import numpy as np\n",
    "import pandas as pd\n",
    "import matplotlib.pyplot as plt\n",
    "from factor_analyzer import FactorAnalyzer"
   ]
  },
  {
   "cell_type": "markdown",
   "metadata": {},
   "source": [
    "#### Parameters  "
   ]
  },
  {
   "cell_type": "code",
   "execution_count": 2,
   "metadata": {},
   "outputs": [],
   "source": [
    "csv_in = 'fa-1.csv'\n",
    "\n",
    "%config InlineBackend.figure_formats = {'png', 'retina'}  # for high-reso graph"
   ]
  },
  {
   "cell_type": "markdown",
   "metadata": {},
   "source": [
    "#### Read CSV data  "
   ]
  },
  {
   "cell_type": "code",
   "execution_count": 3,
   "metadata": {},
   "outputs": [
    {
     "name": "stdout",
     "output_type": "stream",
     "text": [
      "(10, 7)\n",
      "<class 'pandas.core.frame.DataFrame'>\n",
      "RangeIndex: 10 entries, 0 to 9\n",
      "Data columns (total 7 columns):\n",
      " #   Column     Non-Null Count  Dtype \n",
      "---  ------     --------------  ----- \n",
      " 0   com        10 non-null     object\n",
      " 1   sporty     10 non-null     int64 \n",
      " 2   reliable   10 non-null     int64 \n",
      " 3   refined    10 non-null     int64 \n",
      " 4   creative   10 non-null     int64 \n",
      " 5   stylish    10 non-null     int64 \n",
      " 6   high_tech  10 non-null     int64 \n",
      "dtypes: int64(6), object(1)\n",
      "memory usage: 688.0+ bytes\n",
      "None\n"
     ]
    },
    {
     "data": {
      "text/html": [
       "<div>\n",
       "<style scoped>\n",
       "    .dataframe tbody tr th:only-of-type {\n",
       "        vertical-align: middle;\n",
       "    }\n",
       "\n",
       "    .dataframe tbody tr th {\n",
       "        vertical-align: top;\n",
       "    }\n",
       "\n",
       "    .dataframe thead th {\n",
       "        text-align: right;\n",
       "    }\n",
       "</style>\n",
       "<table border=\"1\" class=\"dataframe\">\n",
       "  <thead>\n",
       "    <tr style=\"text-align: right;\">\n",
       "      <th></th>\n",
       "      <th>com</th>\n",
       "      <th>sporty</th>\n",
       "      <th>reliable</th>\n",
       "      <th>refined</th>\n",
       "      <th>creative</th>\n",
       "      <th>stylish</th>\n",
       "      <th>high_tech</th>\n",
       "    </tr>\n",
       "  </thead>\n",
       "  <tbody>\n",
       "    <tr>\n",
       "      <th>0</th>\n",
       "      <td>A</td>\n",
       "      <td>7</td>\n",
       "      <td>3</td>\n",
       "      <td>7</td>\n",
       "      <td>4</td>\n",
       "      <td>7</td>\n",
       "      <td>3</td>\n",
       "    </tr>\n",
       "    <tr>\n",
       "      <th>1</th>\n",
       "      <td>B</td>\n",
       "      <td>6</td>\n",
       "      <td>2</td>\n",
       "      <td>5</td>\n",
       "      <td>2</td>\n",
       "      <td>6</td>\n",
       "      <td>1</td>\n",
       "    </tr>\n",
       "    <tr>\n",
       "      <th>2</th>\n",
       "      <td>C</td>\n",
       "      <td>6</td>\n",
       "      <td>8</td>\n",
       "      <td>6</td>\n",
       "      <td>8</td>\n",
       "      <td>9</td>\n",
       "      <td>10</td>\n",
       "    </tr>\n",
       "    <tr>\n",
       "      <th>3</th>\n",
       "      <td>D</td>\n",
       "      <td>1</td>\n",
       "      <td>10</td>\n",
       "      <td>1</td>\n",
       "      <td>10</td>\n",
       "      <td>3</td>\n",
       "      <td>10</td>\n",
       "    </tr>\n",
       "    <tr>\n",
       "      <th>4</th>\n",
       "      <td>E</td>\n",
       "      <td>2</td>\n",
       "      <td>8</td>\n",
       "      <td>3</td>\n",
       "      <td>8</td>\n",
       "      <td>2</td>\n",
       "      <td>6</td>\n",
       "    </tr>\n",
       "  </tbody>\n",
       "</table>\n",
       "</div>"
      ],
      "text/plain": [
       "  com  sporty  reliable  refined  creative  stylish  high_tech\n",
       "0   A       7         3        7         4        7          3\n",
       "1   B       6         2        5         2        6          1\n",
       "2   C       6         8        6         8        9         10\n",
       "3   D       1        10        1        10        3         10\n",
       "4   E       2         8        3         8        2          6"
      ]
     },
     "metadata": {},
     "output_type": "display_data"
    }
   ],
   "source": [
    "df_all = pd.read_csv(csv_in, delimiter=',', skiprows=0, header=0)\n",
    "print(df_all.shape)\n",
    "print(df_all.info())\n",
    "display(df_all.head())"
   ]
  },
  {
   "cell_type": "code",
   "execution_count": 4,
   "metadata": {},
   "outputs": [
    {
     "data": {
      "text/html": [
       "<div>\n",
       "<style scoped>\n",
       "    .dataframe tbody tr th:only-of-type {\n",
       "        vertical-align: middle;\n",
       "    }\n",
       "\n",
       "    .dataframe tbody tr th {\n",
       "        vertical-align: top;\n",
       "    }\n",
       "\n",
       "    .dataframe thead th {\n",
       "        text-align: right;\n",
       "    }\n",
       "</style>\n",
       "<table border=\"1\" class=\"dataframe\">\n",
       "  <thead>\n",
       "    <tr style=\"text-align: right;\">\n",
       "      <th></th>\n",
       "      <th>sporty</th>\n",
       "      <th>reliable</th>\n",
       "      <th>refined</th>\n",
       "      <th>creative</th>\n",
       "      <th>stylish</th>\n",
       "      <th>high_tech</th>\n",
       "    </tr>\n",
       "  </thead>\n",
       "  <tbody>\n",
       "    <tr>\n",
       "      <th>0</th>\n",
       "      <td>7</td>\n",
       "      <td>3</td>\n",
       "      <td>7</td>\n",
       "      <td>4</td>\n",
       "      <td>7</td>\n",
       "      <td>3</td>\n",
       "    </tr>\n",
       "    <tr>\n",
       "      <th>1</th>\n",
       "      <td>6</td>\n",
       "      <td>2</td>\n",
       "      <td>5</td>\n",
       "      <td>2</td>\n",
       "      <td>6</td>\n",
       "      <td>1</td>\n",
       "    </tr>\n",
       "    <tr>\n",
       "      <th>2</th>\n",
       "      <td>6</td>\n",
       "      <td>8</td>\n",
       "      <td>6</td>\n",
       "      <td>8</td>\n",
       "      <td>9</td>\n",
       "      <td>10</td>\n",
       "    </tr>\n",
       "    <tr>\n",
       "      <th>3</th>\n",
       "      <td>1</td>\n",
       "      <td>10</td>\n",
       "      <td>1</td>\n",
       "      <td>10</td>\n",
       "      <td>3</td>\n",
       "      <td>10</td>\n",
       "    </tr>\n",
       "    <tr>\n",
       "      <th>4</th>\n",
       "      <td>2</td>\n",
       "      <td>8</td>\n",
       "      <td>3</td>\n",
       "      <td>8</td>\n",
       "      <td>2</td>\n",
       "      <td>6</td>\n",
       "    </tr>\n",
       "  </tbody>\n",
       "</table>\n",
       "</div>"
      ],
      "text/plain": [
       "   sporty  reliable  refined  creative  stylish  high_tech\n",
       "0       7         3        7         4        7          3\n",
       "1       6         2        5         2        6          1\n",
       "2       6         8        6         8        9         10\n",
       "3       1        10        1        10        3         10\n",
       "4       2         8        3         8        2          6"
      ]
     },
     "metadata": {},
     "output_type": "display_data"
    }
   ],
   "source": [
    "df = df_all.loc[:, 'sporty':]\n",
    "display(df.head())"
   ]
  },
  {
   "cell_type": "markdown",
   "metadata": {},
   "source": [
    "#### Factor analysis  "
   ]
  },
  {
   "cell_type": "code",
   "execution_count": 5,
   "metadata": {},
   "outputs": [
    {
     "data": {
      "text/plain": [
       "FactorAnalyzer(method='ml', n_factors=2, rotation='varimax', rotation_kwargs={})"
      ]
     },
     "execution_count": 5,
     "metadata": {},
     "output_type": "execute_result"
    }
   ],
   "source": [
    "fa = FactorAnalyzer(n_factors=2, rotation='varimax', method='ml')\n",
    "fa.fit(df.values)"
   ]
  },
  {
   "cell_type": "markdown",
   "metadata": {},
   "source": [
    "#### Correlation matrix (相関行列)   "
   ]
  },
  {
   "cell_type": "code",
   "execution_count": 6,
   "metadata": {},
   "outputs": [
    {
     "data": {
      "text/html": [
       "<div>\n",
       "<style scoped>\n",
       "    .dataframe tbody tr th:only-of-type {\n",
       "        vertical-align: middle;\n",
       "    }\n",
       "\n",
       "    .dataframe tbody tr th {\n",
       "        vertical-align: top;\n",
       "    }\n",
       "\n",
       "    .dataframe thead th {\n",
       "        text-align: right;\n",
       "    }\n",
       "</style>\n",
       "<table border=\"1\" class=\"dataframe\">\n",
       "  <thead>\n",
       "    <tr style=\"text-align: right;\">\n",
       "      <th></th>\n",
       "      <th>sporty</th>\n",
       "      <th>reliable</th>\n",
       "      <th>refined</th>\n",
       "      <th>creative</th>\n",
       "      <th>stylish</th>\n",
       "      <th>high_tech</th>\n",
       "    </tr>\n",
       "  </thead>\n",
       "  <tbody>\n",
       "    <tr>\n",
       "      <th>sporty</th>\n",
       "      <td>1.000000</td>\n",
       "      <td>0.129308</td>\n",
       "      <td>0.935608</td>\n",
       "      <td>-0.239610</td>\n",
       "      <td>0.901274</td>\n",
       "      <td>0.224522</td>\n",
       "    </tr>\n",
       "    <tr>\n",
       "      <th>reliable</th>\n",
       "      <td>0.129308</td>\n",
       "      <td>1.000000</td>\n",
       "      <td>0.354709</td>\n",
       "      <td>0.818015</td>\n",
       "      <td>0.164706</td>\n",
       "      <td>0.956674</td>\n",
       "    </tr>\n",
       "    <tr>\n",
       "      <th>refined</th>\n",
       "      <td>0.935608</td>\n",
       "      <td>0.354709</td>\n",
       "      <td>1.000000</td>\n",
       "      <td>0.054443</td>\n",
       "      <td>0.836958</td>\n",
       "      <td>0.419399</td>\n",
       "    </tr>\n",
       "    <tr>\n",
       "      <th>creative</th>\n",
       "      <td>-0.239610</td>\n",
       "      <td>0.818015</td>\n",
       "      <td>0.054443</td>\n",
       "      <td>1.000000</td>\n",
       "      <td>-0.068843</td>\n",
       "      <td>0.811321</td>\n",
       "    </tr>\n",
       "    <tr>\n",
       "      <th>stylish</th>\n",
       "      <td>0.901274</td>\n",
       "      <td>0.164706</td>\n",
       "      <td>0.836958</td>\n",
       "      <td>-0.068843</td>\n",
       "      <td>1.000000</td>\n",
       "      <td>0.320555</td>\n",
       "    </tr>\n",
       "    <tr>\n",
       "      <th>high_tech</th>\n",
       "      <td>0.224522</td>\n",
       "      <td>0.956674</td>\n",
       "      <td>0.419399</td>\n",
       "      <td>0.811321</td>\n",
       "      <td>0.320555</td>\n",
       "      <td>1.000000</td>\n",
       "    </tr>\n",
       "  </tbody>\n",
       "</table>\n",
       "</div>"
      ],
      "text/plain": [
       "             sporty  reliable   refined  creative   stylish  high_tech\n",
       "sporty     1.000000  0.129308  0.935608 -0.239610  0.901274   0.224522\n",
       "reliable   0.129308  1.000000  0.354709  0.818015  0.164706   0.956674\n",
       "refined    0.935608  0.354709  1.000000  0.054443  0.836958   0.419399\n",
       "creative  -0.239610  0.818015  0.054443  1.000000 -0.068843   0.811321\n",
       "stylish    0.901274  0.164706  0.836958 -0.068843  1.000000   0.320555\n",
       "high_tech  0.224522  0.956674  0.419399  0.811321  0.320555   1.000000"
      ]
     },
     "metadata": {},
     "output_type": "display_data"
    }
   ],
   "source": [
    "df_corr = df.corr(method='pearson')\n",
    "display(df_corr)"
   ]
  },
  {
   "cell_type": "markdown",
   "metadata": {},
   "source": [
    "#### Eigenvalues (固有値)  "
   ]
  },
  {
   "cell_type": "code",
   "execution_count": 7,
   "metadata": {},
   "outputs": [
    {
     "name": "stdout",
     "output_type": "stream",
     "text": [
      "0    3.276320\n",
      "1    2.365791\n",
      "2    0.196589\n",
      "3    0.137396\n",
      "4    0.021408\n",
      "5    0.002497\n",
      "dtype: float64\n",
      "0    3.205818\n",
      "1    2.283495\n",
      "2    0.072584\n",
      "3    0.052140\n",
      "4   -0.037200\n",
      "5   -0.049466\n",
      "dtype: float64\n"
     ]
    }
   ],
   "source": [
    "eigen_org, eigen_cf = fa.get_eigenvalues()\n",
    "ser_eigen_org = pd.Series(eigen_org)\n",
    "ser_eigen_cf = pd.Series(eigen_cf)\n",
    "print(ser_eigen_org)\n",
    "print(ser_eigen_cf)"
   ]
  },
  {
   "cell_type": "markdown",
   "metadata": {},
   "source": [
    "#### Scree plot (スクリープロット)  "
   ]
  },
  {
   "cell_type": "code",
   "execution_count": 8,
   "metadata": {},
   "outputs": [
    {
     "data": {
      "image/png": "[encoded data removed]",
      "text/plain": [
       "<Figure size 432x288 with 1 Axes>"
      ]
     },
     "metadata": {
      "image/png": {
       "height": 261,
       "width": 385
      },
      "needs_background": "light"
     },
     "output_type": "display_data"
    }
   ],
   "source": [
    "x = np.array(range(len(ser_eigen_org)))+1\n",
    "plt.plot(x, ser_eigen_org, marker='o')\n",
    "plt.xlabel('Eigenvalue No.')\n",
    "plt.ylabel('Eigenvalue')\n",
    "plt.show()"
   ]
  },
  {
   "cell_type": "markdown",
   "metadata": {},
   "source": [
    "**Number of factors: two seems to be appropriate because the third eigenvalue is less than 1 and also the graph becomes gently-sloping at the third eigenvalue.**  \n",
    "**3つめの固有値は1を下回っていて、かつそこからグラフがなだらかになっているので、因子数は2が良さそう**  \n",
    "\n",
    "**Ans. 2**  "
   ]
  },
  {
   "cell_type": "markdown",
   "metadata": {},
   "source": [
    "#### Loadings (因子負荷量)  "
   ]
  },
  {
   "cell_type": "code",
   "execution_count": 9,
   "metadata": {},
   "outputs": [
    {
     "data": {
      "text/html": [
       "<div>\n",
       "<style scoped>\n",
       "    .dataframe tbody tr th:only-of-type {\n",
       "        vertical-align: middle;\n",
       "    }\n",
       "\n",
       "    .dataframe tbody tr th {\n",
       "        vertical-align: top;\n",
       "    }\n",
       "\n",
       "    .dataframe thead th {\n",
       "        text-align: right;\n",
       "    }\n",
       "</style>\n",
       "<table border=\"1\" class=\"dataframe\">\n",
       "  <thead>\n",
       "    <tr style=\"text-align: right;\">\n",
       "      <th></th>\n",
       "      <th>Factor1</th>\n",
       "      <th>Factor2</th>\n",
       "    </tr>\n",
       "  </thead>\n",
       "  <tbody>\n",
       "    <tr>\n",
       "      <th>sporty</th>\n",
       "      <td>0.996639</td>\n",
       "      <td>-0.044411</td>\n",
       "    </tr>\n",
       "    <tr>\n",
       "      <th>reliable</th>\n",
       "      <td>0.171870</td>\n",
       "      <td>0.954833</td>\n",
       "    </tr>\n",
       "    <tr>\n",
       "      <th>refined</th>\n",
       "      <td>0.945318</td>\n",
       "      <td>0.190159</td>\n",
       "    </tr>\n",
       "    <tr>\n",
       "      <th>creative</th>\n",
       "      <td>-0.194522</td>\n",
       "      <td>0.907368</td>\n",
       "    </tr>\n",
       "    <tr>\n",
       "      <th>stylish</th>\n",
       "      <td>0.904954</td>\n",
       "      <td>0.065690</td>\n",
       "    </tr>\n",
       "    <tr>\n",
       "      <th>high_tech</th>\n",
       "      <td>0.267175</td>\n",
       "      <td>0.951464</td>\n",
       "    </tr>\n",
       "  </tbody>\n",
       "</table>\n",
       "</div>"
      ],
      "text/plain": [
       "            Factor1   Factor2\n",
       "sporty     0.996639 -0.044411\n",
       "reliable   0.171870  0.954833\n",
       "refined    0.945318  0.190159\n",
       "creative  -0.194522  0.907368\n",
       "stylish    0.904954  0.065690\n",
       "high_tech  0.267175  0.951464"
      ]
     },
     "metadata": {},
     "output_type": "display_data"
    }
   ],
   "source": [
    "loadings = fa.loadings_\n",
    "df_loadings = pd.DataFrame(loadings, index=df.columns,\n",
    "                           columns=['Factor1','Factor2'])\n",
    "display(df_loadings)"
   ]
  },
  {
   "cell_type": "markdown",
   "metadata": {},
   "source": [
    "#### Scores (因子得点)  "
   ]
  },
  {
   "cell_type": "code",
   "execution_count": 10,
   "metadata": {},
   "outputs": [
    {
     "name": "stdout",
     "output_type": "stream",
     "text": [
      "(10, 2)\n"
     ]
    },
    {
     "data": {
      "text/html": [
       "<div>\n",
       "<style scoped>\n",
       "    .dataframe tbody tr th:only-of-type {\n",
       "        vertical-align: middle;\n",
       "    }\n",
       "\n",
       "    .dataframe tbody tr th {\n",
       "        vertical-align: top;\n",
       "    }\n",
       "\n",
       "    .dataframe thead th {\n",
       "        text-align: right;\n",
       "    }\n",
       "</style>\n",
       "<table border=\"1\" class=\"dataframe\">\n",
       "  <thead>\n",
       "    <tr style=\"text-align: right;\">\n",
       "      <th></th>\n",
       "      <th>Factor1</th>\n",
       "      <th>Factor2</th>\n",
       "    </tr>\n",
       "  </thead>\n",
       "  <tbody>\n",
       "    <tr>\n",
       "      <th>0</th>\n",
       "      <td>0.880143</td>\n",
       "      <td>-0.945743</td>\n",
       "    </tr>\n",
       "    <tr>\n",
       "      <th>1</th>\n",
       "      <td>0.487657</td>\n",
       "      <td>-1.342096</td>\n",
       "    </tr>\n",
       "    <tr>\n",
       "      <th>2</th>\n",
       "      <td>0.594977</td>\n",
       "      <td>0.737740</td>\n",
       "    </tr>\n",
       "    <tr>\n",
       "      <th>3</th>\n",
       "      <td>-1.228286</td>\n",
       "      <td>1.328858</td>\n",
       "    </tr>\n",
       "    <tr>\n",
       "      <th>4</th>\n",
       "      <td>-0.892543</td>\n",
       "      <td>0.423557</td>\n",
       "    </tr>\n",
       "  </tbody>\n",
       "</table>\n",
       "</div>"
      ],
      "text/plain": [
       "    Factor1   Factor2\n",
       "0  0.880143 -0.945743\n",
       "1  0.487657 -1.342096\n",
       "2  0.594977  0.737740\n",
       "3 -1.228286  1.328858\n",
       "4 -0.892543  0.423557"
      ]
     },
     "metadata": {},
     "output_type": "display_data"
    }
   ],
   "source": [
    "scores = fa.transform(df)\n",
    "df_scores = pd.DataFrame(scores, columns=['Factor1','Factor2'])\n",
    "print(df_scores.shape)\n",
    "display(df_scores.head())"
   ]
  },
  {
   "cell_type": "markdown",
   "metadata": {},
   "source": [
    "#### Uniquenesses (独自因子の割合)  "
   ]
  },
  {
   "cell_type": "code",
   "execution_count": 11,
   "metadata": {},
   "outputs": [
    {
     "name": "stdout",
     "output_type": "stream",
     "text": [
      "sporty       0.004739\n",
      "reliable     0.058754\n",
      "refined      0.070213\n",
      "creative     0.138845\n",
      "stylish      0.176743\n",
      "high_tech    0.023334\n",
      "dtype: float64\n"
     ]
    }
   ],
   "source": [
    "uniqueness = fa.get_uniquenesses()\n",
    "ser_uniqueness = pd.Series(uniqueness, index=df.columns)\n",
    "print(ser_uniqueness)"
   ]
  },
  {
   "cell_type": "markdown",
   "metadata": {},
   "source": [
    "**Not so high uniqueness for all data,  \n",
    "so all data are somehow affected by the common factors**\n",
    "\n",
    "**Ans. \"stylish\" has the largest uniquenesses (= the largest ratio that can not be explained by the top 2 common factors**"
   ]
  },
  {
   "cell_type": "markdown",
   "metadata": {},
   "source": [
    "#### Contribution of each factor (各共通因子の寄与)  \n",
    "- Variance: 因子負荷量平方和(因子寄与)  \n",
    "- Proportion Var: 寄与率  \n",
    "- Cumulative Var: 累積寄与率"
   ]
  },
  {
   "cell_type": "code",
   "execution_count": 12,
   "metadata": {},
   "outputs": [
    {
     "data": {
      "text/html": [
       "<div>\n",
       "<style scoped>\n",
       "    .dataframe tbody tr th:only-of-type {\n",
       "        vertical-align: middle;\n",
       "    }\n",
       "\n",
       "    .dataframe tbody tr th {\n",
       "        vertical-align: top;\n",
       "    }\n",
       "\n",
       "    .dataframe thead th {\n",
       "        text-align: right;\n",
       "    }\n",
       "</style>\n",
       "<table border=\"1\" class=\"dataframe\">\n",
       "  <thead>\n",
       "    <tr style=\"text-align: right;\">\n",
       "      <th></th>\n",
       "      <th>Factor1</th>\n",
       "      <th>Factor2</th>\n",
       "    </tr>\n",
       "  </thead>\n",
       "  <tbody>\n",
       "    <tr>\n",
       "      <th>var</th>\n",
       "      <td>2.844618</td>\n",
       "      <td>2.682754</td>\n",
       "    </tr>\n",
       "    <tr>\n",
       "      <th>prop_var</th>\n",
       "      <td>0.474103</td>\n",
       "      <td>0.447126</td>\n",
       "    </tr>\n",
       "    <tr>\n",
       "      <th>cum_var</th>\n",
       "      <td>0.474103</td>\n",
       "      <td>0.921229</td>\n",
       "    </tr>\n",
       "  </tbody>\n",
       "</table>\n",
       "</div>"
      ],
      "text/plain": [
       "           Factor1   Factor2\n",
       "var       2.844618  2.682754\n",
       "prop_var  0.474103  0.447126\n",
       "cum_var   0.474103  0.921229"
      ]
     },
     "metadata": {},
     "output_type": "display_data"
    }
   ],
   "source": [
    "fa_var = fa.get_factor_variance()\n",
    "df_fa_var = pd.DataFrame(fa_var,\n",
    "                         index=['var', 'prop_var', 'cum_var'],\n",
    "                         columns=['Factor1', 'Factor2'])\n",
    "display(df_fa_var)"
   ]
  },
  {
   "cell_type": "markdown",
   "metadata": {},
   "source": [
    "**Ans. 92.1% of total variance can be explained by Factor1 and Factor2**  "
   ]
  },
  {
   "cell_type": "code",
   "execution_count": 13,
   "metadata": {},
   "outputs": [],
   "source": [
    "# slightly modified from biplot() in pca_and_biplot.ipynb of DM-06\n",
    "def biplot_fa(score_2d, loadings, load_labels=None):\n",
    "    plt.figure(figsize=(10,10))\n",
    "    r1 = 1.5\n",
    "    r2 = 1.01\n",
    "    if load_labels is None:\n",
    "        load_labels = range(len(loadings))\n",
    "    for i, coef in enumerate(loadings):\n",
    "        plt.arrow(0, 0, coef[0]*r1, coef[1]*r1, color='r')    \n",
    "        plt.text(coef[0]*r1*r2, coef[1]*r1*r2, load_labels[i],\n",
    "                 color='b', fontsize=20)\n",
    "    for i in range(len(score_2d)):\n",
    "        m = '${}$'.format(i)\n",
    "        plt.scatter(score_2d[i,0], score_2d[i,1], marker=m, s=500, c='k')\n",
    "    plt.xlabel('F_1')\n",
    "    plt.ylabel('F_2')\n",
    "    plt.grid()\n",
    "    return None"
   ]
  },
  {
   "cell_type": "code",
   "execution_count": 14,
   "metadata": {},
   "outputs": [
    {
     "data": {
      "image/png": "[encoded data removed]",
      "text/plain": [
       "<Figure size 720x720 with 1 Axes>"
      ]
     },
     "metadata": {
      "image/png": {
       "height": 588,
       "width": 617
      },
      "needs_background": "light"
     },
     "output_type": "display_data"
    }
   ],
   "source": [
    "biplot_fa(scores, loadings, load_labels=df.columns)"
   ]
  },
  {
   "cell_type": "markdown",
   "metadata": {},
   "source": [
    "**Ans. F_2 corresponds to \"creative\", \"reliable\", and \"high_tech\"**\n",
    "\n",
    "**F_1: refined or not (洗練されているか), F_2: technological or not (技術が優れているか).**\n",
    "\n",
    "**Ans. Around 0 to F_1 and positive to F_2: No.5 in biplot; corresponds to Company \"F\"**"
   ]
  },
  {
   "cell_type": "code",
   "execution_count": 15,
   "metadata": {},
   "outputs": [
    {
     "data": {
      "text/html": [
       "<div>\n",
       "<style scoped>\n",
       "    .dataframe tbody tr th:only-of-type {\n",
       "        vertical-align: middle;\n",
       "    }\n",
       "\n",
       "    .dataframe tbody tr th {\n",
       "        vertical-align: top;\n",
       "    }\n",
       "\n",
       "    .dataframe thead th {\n",
       "        text-align: right;\n",
       "    }\n",
       "</style>\n",
       "<table border=\"1\" class=\"dataframe\">\n",
       "  <thead>\n",
       "    <tr style=\"text-align: right;\">\n",
       "      <th></th>\n",
       "      <th>com</th>\n",
       "      <th>sporty</th>\n",
       "      <th>reliable</th>\n",
       "      <th>refined</th>\n",
       "      <th>creative</th>\n",
       "      <th>stylish</th>\n",
       "      <th>high_tech</th>\n",
       "    </tr>\n",
       "  </thead>\n",
       "  <tbody>\n",
       "    <tr>\n",
       "      <th>0</th>\n",
       "      <td>A</td>\n",
       "      <td>7</td>\n",
       "      <td>3</td>\n",
       "      <td>7</td>\n",
       "      <td>4</td>\n",
       "      <td>7</td>\n",
       "      <td>3</td>\n",
       "    </tr>\n",
       "    <tr>\n",
       "      <th>1</th>\n",
       "      <td>B</td>\n",
       "      <td>6</td>\n",
       "      <td>2</td>\n",
       "      <td>5</td>\n",
       "      <td>2</td>\n",
       "      <td>6</td>\n",
       "      <td>1</td>\n",
       "    </tr>\n",
       "    <tr>\n",
       "      <th>2</th>\n",
       "      <td>C</td>\n",
       "      <td>6</td>\n",
       "      <td>8</td>\n",
       "      <td>6</td>\n",
       "      <td>8</td>\n",
       "      <td>9</td>\n",
       "      <td>10</td>\n",
       "    </tr>\n",
       "    <tr>\n",
       "      <th>3</th>\n",
       "      <td>D</td>\n",
       "      <td>1</td>\n",
       "      <td>10</td>\n",
       "      <td>1</td>\n",
       "      <td>10</td>\n",
       "      <td>3</td>\n",
       "      <td>10</td>\n",
       "    </tr>\n",
       "    <tr>\n",
       "      <th>4</th>\n",
       "      <td>E</td>\n",
       "      <td>2</td>\n",
       "      <td>8</td>\n",
       "      <td>3</td>\n",
       "      <td>8</td>\n",
       "      <td>2</td>\n",
       "      <td>6</td>\n",
       "    </tr>\n",
       "    <tr>\n",
       "      <th>5</th>\n",
       "      <td>F</td>\n",
       "      <td>5</td>\n",
       "      <td>9</td>\n",
       "      <td>5</td>\n",
       "      <td>9</td>\n",
       "      <td>6</td>\n",
       "      <td>12</td>\n",
       "    </tr>\n",
       "    <tr>\n",
       "      <th>6</th>\n",
       "      <td>G</td>\n",
       "      <td>10</td>\n",
       "      <td>10</td>\n",
       "      <td>11</td>\n",
       "      <td>8</td>\n",
       "      <td>10</td>\n",
       "      <td>11</td>\n",
       "    </tr>\n",
       "  </tbody>\n",
       "</table>\n",
       "</div>"
      ],
      "text/plain": [
       "  com  sporty  reliable  refined  creative  stylish  high_tech\n",
       "0   A       7         3        7         4        7          3\n",
       "1   B       6         2        5         2        6          1\n",
       "2   C       6         8        6         8        9         10\n",
       "3   D       1        10        1        10        3         10\n",
       "4   E       2         8        3         8        2          6\n",
       "5   F       5         9        5         9        6         12\n",
       "6   G      10        10       11         8       10         11"
      ]
     },
     "metadata": {},
     "output_type": "display_data"
    }
   ],
   "source": [
    "display(df_all.head(7))"
   ]
  },
  {
   "cell_type": "code",
   "execution_count": null,
   "metadata": {},
   "outputs": [],
   "source": []
  }
 ],
 "metadata": {
  "kernelspec": {
   "display_name": "Python 3",
   "language": "python",
   "name": "python3"
  },
  "language_info": {
   "codemirror_mode": {
    "name": "ipython",
    "version": 3
   },
   "file_extension": ".py",
   "mimetype": "text/x-python",
   "name": "python",
   "nbconvert_exporter": "python",
   "pygments_lexer": "ipython3",
   "version": "3.8.8"
  }
 },
 "nbformat": 4,
 "nbformat_minor": 4
}
