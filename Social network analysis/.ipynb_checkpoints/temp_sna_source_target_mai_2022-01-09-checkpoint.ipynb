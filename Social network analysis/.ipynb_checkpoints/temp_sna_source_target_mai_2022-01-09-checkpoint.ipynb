{
 "cells": [
  {
   "cell_type": "code",
   "execution_count": 1,
   "id": "divine-coating",
   "metadata": {
    "cell_id": "00000-3bc459b6-15ba-4067-b698-30172ef9d3f9",
    "deepnote_cell_type": "code",
    "deepnote_to_be_reexecuted": false,
    "execution_millis": 8608,
    "execution_start": 1641735028462,
    "source_hash": "7faaa08a",
    "tags": []
   },
   "outputs": [],
   "source": [
    "#!pip install networkx\n",
    "#!pip install python-louvain\n",
    "#!pip3 install networkit\n",
    "\n",
    "\n"
   ]
  },
  {
   "cell_type": "code",
   "execution_count": 11,
   "id": "dimensional-spring",
   "metadata": {
    "cell_id": "00000-a11a9f80-44ae-4bc6-b470-8e2b67c55dbe",
    "deepnote_cell_type": "code",
    "deepnote_output_heights": [
     2
    ],
    "deepnote_to_be_reexecuted": false,
    "execution_millis": 3,
    "execution_start": 1641735038894,
    "source_hash": "c9767e91"
   },
   "outputs": [],
   "source": [
    "import networkx as nx\n",
    "import matplotlib.pyplot as plt\n",
    "from multiprocessing import Pool\n",
    "import itertools\n",
    "import community\n",
    "import pandas as pd\n",
    "\n",
    "import networkit as nk \n"
   ]
  },
  {
   "cell_type": "markdown",
   "id": "military-specialist",
   "metadata": {
    "cell_id": "00001-aa7a0d93-0cfa-4bc3-99a6-0ea155808a90",
    "deepnote_cell_type": "markdown"
   },
   "source": [
    "## Finding centrality of source twitter and target twitter account\n"
   ]
  },
  {
   "cell_type": "code",
   "execution_count": 12,
   "id": "apparent-scope",
   "metadata": {
    "cell_id": "00002-f30cd476-5e38-4e85-8cbd-8c9864744e2c",
    "deepnote_cell_type": "code",
    "deepnote_output_heights": [
     null,
     177
    ],
    "deepnote_to_be_reexecuted": false,
    "execution_millis": 1043,
    "execution_start": 1641735048199,
    "source_hash": "23e87f87"
   },
   "outputs": [
    {
     "name": "stdout",
     "output_type": "stream",
     "text": [
      "(258764, 16)\n"
     ]
    },
    {
     "data": {
      "text/html": [
       "<div>\n",
       "<style scoped>\n",
       "    .dataframe tbody tr th:only-of-type {\n",
       "        vertical-align: middle;\n",
       "    }\n",
       "\n",
       "    .dataframe tbody tr th {\n",
       "        vertical-align: top;\n",
       "    }\n",
       "\n",
       "    .dataframe thead th {\n",
       "        text-align: right;\n",
       "    }\n",
       "</style>\n",
       "<table border=\"1\" class=\"dataframe\">\n",
       "  <thead>\n",
       "    <tr style=\"text-align: right;\">\n",
       "      <th></th>\n",
       "      <th>source_twitter</th>\n",
       "      <th>target_twitter</th>\n",
       "      <th>source_location</th>\n",
       "      <th>target_location</th>\n",
       "      <th>follow_actions</th>\n",
       "      <th>interaction_times</th>\n",
       "      <th>interaction_type_counts</th>\n",
       "      <th>customer_type</th>\n",
       "      <th>tier</th>\n",
       "      <th>a_level</th>\n",
       "      <th>age_range</th>\n",
       "      <th>gender</th>\n",
       "      <th>orders</th>\n",
       "      <th>amount</th>\n",
       "      <th>first_authorized_at</th>\n",
       "      <th>first_payment_date</th>\n",
       "    </tr>\n",
       "  </thead>\n",
       "  <tbody>\n",
       "    <tr>\n",
       "      <th>0</th>\n",
       "      <td>0120iesagashi</td>\n",
       "      <td>109btt</td>\n",
       "      <td>BTT</td>\n",
       "      <td>NaN</td>\n",
       "      <td>1</td>\n",
       "      <td>0</td>\n",
       "      <td>0</td>\n",
       "      <td>customer_registered_only</td>\n",
       "      <td>1-Bronze</td>\n",
       "      <td>a_level_0</td>\n",
       "      <td>not available</td>\n",
       "      <td>not available</td>\n",
       "      <td>NaN</td>\n",
       "      <td>NaN</td>\n",
       "      <td>2021-08-17 00:00:00.000</td>\n",
       "      <td>NaN</td>\n",
       "    </tr>\n",
       "    <tr>\n",
       "      <th>1</th>\n",
       "      <td>0120iesagashi</td>\n",
       "      <td>16toyosu</td>\n",
       "      <td>BTT</td>\n",
       "      <td>NaN</td>\n",
       "      <td>1</td>\n",
       "      <td>0</td>\n",
       "      <td>0</td>\n",
       "      <td>customer_registered_only</td>\n",
       "      <td>1-Bronze</td>\n",
       "      <td>a_level_0</td>\n",
       "      <td>not available</td>\n",
       "      <td>not available</td>\n",
       "      <td>NaN</td>\n",
       "      <td>NaN</td>\n",
       "      <td>2021-08-17 00:00:00.000</td>\n",
       "      <td>NaN</td>\n",
       "    </tr>\n",
       "    <tr>\n",
       "      <th>2</th>\n",
       "      <td>0120iesagashi</td>\n",
       "      <td>1manken</td>\n",
       "      <td>BTT</td>\n",
       "      <td>NaN</td>\n",
       "      <td>1</td>\n",
       "      <td>0</td>\n",
       "      <td>0</td>\n",
       "      <td>customer_registered_only</td>\n",
       "      <td>1-Bronze</td>\n",
       "      <td>a_level_0</td>\n",
       "      <td>not available</td>\n",
       "      <td>not available</td>\n",
       "      <td>NaN</td>\n",
       "      <td>NaN</td>\n",
       "      <td>2021-08-17 00:00:00.000</td>\n",
       "      <td>NaN</td>\n",
       "    </tr>\n",
       "    <tr>\n",
       "      <th>3</th>\n",
       "      <td>0120iesagashi</td>\n",
       "      <td>2020wngn</td>\n",
       "      <td>BTT</td>\n",
       "      <td>NaN</td>\n",
       "      <td>1</td>\n",
       "      <td>1</td>\n",
       "      <td>1</td>\n",
       "      <td>customer_registered_only</td>\n",
       "      <td>1-Bronze</td>\n",
       "      <td>a_level_0</td>\n",
       "      <td>not available</td>\n",
       "      <td>not available</td>\n",
       "      <td>NaN</td>\n",
       "      <td>NaN</td>\n",
       "      <td>2021-08-17 00:00:00.000</td>\n",
       "      <td>NaN</td>\n",
       "    </tr>\n",
       "    <tr>\n",
       "      <th>4</th>\n",
       "      <td>0120iesagashi</td>\n",
       "      <td>2022Btt</td>\n",
       "      <td>BTT</td>\n",
       "      <td>NaN</td>\n",
       "      <td>0</td>\n",
       "      <td>1</td>\n",
       "      <td>1</td>\n",
       "      <td>customer_registered_only</td>\n",
       "      <td>1-Bronze</td>\n",
       "      <td>a_level_0</td>\n",
       "      <td>not available</td>\n",
       "      <td>not available</td>\n",
       "      <td>NaN</td>\n",
       "      <td>NaN</td>\n",
       "      <td>2021-08-17 00:00:00.000</td>\n",
       "      <td>NaN</td>\n",
       "    </tr>\n",
       "  </tbody>\n",
       "</table>\n",
       "</div>"
      ],
      "text/plain": [
       "  source_twitter target_twitter source_location  target_location  \\\n",
       "0  0120iesagashi         109btt             BTT              NaN   \n",
       "1  0120iesagashi       16toyosu             BTT              NaN   \n",
       "2  0120iesagashi        1manken             BTT              NaN   \n",
       "3  0120iesagashi       2020wngn             BTT              NaN   \n",
       "4  0120iesagashi        2022Btt             BTT              NaN   \n",
       "\n",
       "   follow_actions  interaction_times  interaction_type_counts  \\\n",
       "0               1                  0                        0   \n",
       "1               1                  0                        0   \n",
       "2               1                  0                        0   \n",
       "3               1                  1                        1   \n",
       "4               0                  1                        1   \n",
       "\n",
       "              customer_type      tier    a_level      age_range  \\\n",
       "0  customer_registered_only  1-Bronze  a_level_0  not available   \n",
       "1  customer_registered_only  1-Bronze  a_level_0  not available   \n",
       "2  customer_registered_only  1-Bronze  a_level_0  not available   \n",
       "3  customer_registered_only  1-Bronze  a_level_0  not available   \n",
       "4  customer_registered_only  1-Bronze  a_level_0  not available   \n",
       "\n",
       "          gender  orders  amount      first_authorized_at first_payment_date  \n",
       "0  not available     NaN     NaN  2021-08-17 00:00:00.000                NaN  \n",
       "1  not available     NaN     NaN  2021-08-17 00:00:00.000                NaN  \n",
       "2  not available     NaN     NaN  2021-08-17 00:00:00.000                NaN  \n",
       "3  not available     NaN     NaN  2021-08-17 00:00:00.000                NaN  \n",
       "4  not available     NaN     NaN  2021-08-17 00:00:00.000                NaN  "
      ]
     },
     "execution_count": 12,
     "metadata": {},
     "output_type": "execute_result"
    }
   ],
   "source": [
    "df = pd.read_csv('social_network_data_2021_1227.csv')\n",
    "df = df.dropna(subset=['source_twitter', 'target_twitter'])\n",
    "print(df.shape)\n",
    "df.head()"
   ]
  },
  {
   "cell_type": "code",
   "execution_count": 13,
   "id": "younger-seafood",
   "metadata": {},
   "outputs": [],
   "source": [
    "#df[['source_twitter', 'target_twitter']][:3000].to_csv('3k_accs.csv', index=False)"
   ]
  },
  {
   "cell_type": "code",
   "execution_count": 14,
   "id": "dangerous-thickness",
   "metadata": {},
   "outputs": [
    {
     "data": {
      "text/plain": [
       "178571"
      ]
     },
     "execution_count": 14,
     "metadata": {},
     "output_type": "execute_result"
    }
   ],
   "source": [
    "len(df['source_twitter'].unique()) + len(df['target_twitter'].unique()) "
   ]
  },
  {
   "cell_type": "markdown",
   "id": "controversial-manitoba",
   "metadata": {
    "cell_id": "00003-46eff9d8-c8bc-4234-ab87-49f4b09a87be",
    "deepnote_cell_type": "markdown"
   },
   "source": [
    "### Read with `NetworkX`"
   ]
  },
  {
   "cell_type": "markdown",
   "id": "painful-polish",
   "metadata": {
    "cell_id": "00012-bd86943e-78e5-4025-8870-868364f0a4d0",
    "deepnote_cell_type": "markdown"
   },
   "source": [
    "### Betweeness centrality: Finding campaign targets\n",
    "#### A node is important if it lies on many shortest paths between other nodes"
   ]
  },
  {
   "cell_type": "code",
   "execution_count": 36,
   "id": "postal-south",
   "metadata": {},
   "outputs": [
    {
     "name": "stdout",
     "output_type": "stream",
     "text": [
      "Name: \n",
      "Type: Graph\n",
      "Number of nodes: 178438\n",
      "Number of edges: 258757\n",
      "Average degree:   2.9002\n"
     ]
    }
   ],
   "source": [
    "nxG = nx.from_pandas_edgelist(df, \n",
    "                            source='source_twitter',\n",
    "                            target='target_twitter',\n",
    "                            edge_attr=True,\n",
    "                            create_using=nx.Graph())\n",
    "\n",
    "print(nx.info(nxG))\n",
    "\n"
   ]
  },
  {
   "cell_type": "raw",
   "id": "photographic-revolution",
   "metadata": {},
   "source": [
    "%%time\n",
    "closeness_centrality = nx.closeness_centrality(nxG)"
   ]
  },
  {
   "cell_type": "raw",
   "id": "adjusted-tablet",
   "metadata": {},
   "source": [
    "# sort by descending centrality\n",
    "#closeness_centrality = sorted(((c, v) for v, c in closeness_centrality.items()), reverse=True)\n",
    "closeness_centrality =  pd.DataFrame(closeness_centrality.items(), columns=['Twitter','Closeness Centrality'])\n",
    "closeness_centrality = closeness_centrality.sort_values(by='Closeness Centrality', ascending=False)\n",
    "closeness_centrality.head()"
   ]
  },
  {
   "cell_type": "code",
   "execution_count": 40,
   "id": "distinct-donor",
   "metadata": {},
   "outputs": [
    {
     "name": "stdout",
     "output_type": "stream",
     "text": [
      "<class 'dict'>\n"
     ]
    },
    {
     "data": {
      "text/html": [
       "<div>\n",
       "<style scoped>\n",
       "    .dataframe tbody tr th:only-of-type {\n",
       "        vertical-align: middle;\n",
       "    }\n",
       "\n",
       "    .dataframe tbody tr th {\n",
       "        vertical-align: top;\n",
       "    }\n",
       "\n",
       "    .dataframe thead th {\n",
       "        text-align: right;\n",
       "    }\n",
       "</style>\n",
       "<table border=\"1\" class=\"dataframe\">\n",
       "  <thead>\n",
       "    <tr style=\"text-align: right;\">\n",
       "      <th></th>\n",
       "      <th>Index</th>\n",
       "      <th>Twitter</th>\n",
       "    </tr>\n",
       "  </thead>\n",
       "  <tbody>\n",
       "    <tr>\n",
       "      <th>0</th>\n",
       "      <td>0</td>\n",
       "      <td>0120iesagashi</td>\n",
       "    </tr>\n",
       "    <tr>\n",
       "      <th>1</th>\n",
       "      <td>1</td>\n",
       "      <td>109btt</td>\n",
       "    </tr>\n",
       "    <tr>\n",
       "      <th>2</th>\n",
       "      <td>2</td>\n",
       "      <td>16toyosu</td>\n",
       "    </tr>\n",
       "    <tr>\n",
       "      <th>3</th>\n",
       "      <td>3</td>\n",
       "      <td>1manken</td>\n",
       "    </tr>\n",
       "    <tr>\n",
       "      <th>4</th>\n",
       "      <td>4</td>\n",
       "      <td>2020wngn</td>\n",
       "    </tr>\n",
       "    <tr>\n",
       "      <th>...</th>\n",
       "      <td>...</td>\n",
       "      <td>...</td>\n",
       "    </tr>\n",
       "    <tr>\n",
       "      <th>178433</th>\n",
       "      <td>178433</td>\n",
       "      <td>yuru_creation</td>\n",
       "    </tr>\n",
       "    <tr>\n",
       "      <th>178434</th>\n",
       "      <td>178434</td>\n",
       "      <td>yuzriha_h</td>\n",
       "    </tr>\n",
       "    <tr>\n",
       "      <th>178435</th>\n",
       "      <td>178435</td>\n",
       "      <td>yuzutouhu_ika</td>\n",
       "    </tr>\n",
       "    <tr>\n",
       "      <th>178436</th>\n",
       "      <td>178436</td>\n",
       "      <td>zaru_cr</td>\n",
       "    </tr>\n",
       "    <tr>\n",
       "      <th>178437</th>\n",
       "      <td>178437</td>\n",
       "      <td>zunzun_zp</td>\n",
       "    </tr>\n",
       "  </tbody>\n",
       "</table>\n",
       "<p>178438 rows × 2 columns</p>\n",
       "</div>"
      ],
      "text/plain": [
       "         Index        Twitter\n",
       "0            0  0120iesagashi\n",
       "1            1         109btt\n",
       "2            2       16toyosu\n",
       "3            3        1manken\n",
       "4            4       2020wngn\n",
       "...        ...            ...\n",
       "178433  178433  yuru_creation\n",
       "178434  178434      yuzriha_h\n",
       "178435  178435  yuzutouhu_ika\n",
       "178436  178436        zaru_cr\n",
       "178437  178437      zunzun_zp\n",
       "\n",
       "[178438 rows x 2 columns]"
      ]
     },
     "execution_count": 40,
     "metadata": {},
     "output_type": "execute_result"
    }
   ],
   "source": [
    "\n",
    "\n",
    "G = nk.nxadapter.nx2nk(nxG)\n",
    "\n",
    "# Get mapping from node ids in nxG to node ids in G\n",
    "idmap = dict((id, u) for (id, u) in zip(nxG.nodes(), range(nxG.number_of_nodes())))\n",
    "\n",
    "inverse_map = {v: k for k, v in idmap.items()}\n",
    "print(type(inverse_map))\n",
    "inverse_map_df = pd.DataFrame(inverse_map.items(), columns=['Index', 'Twitter'])\n",
    "inverse_map_df"
   ]
  },
  {
   "cell_type": "code",
   "execution_count": 44,
   "id": "working-preview",
   "metadata": {},
   "outputs": [
    {
     "data": {
      "text/plain": [
       "<networkit.centrality.Closeness at 0x1a7570eddc0>"
      ]
     },
     "execution_count": 44,
     "metadata": {},
     "output_type": "execute_result"
    }
   ],
   "source": [
    "closeness_centrality = nk.centrality.Closeness(G,False,1)\n",
    "closeness_centrality.run()"
   ]
  },
  {
   "cell_type": "code",
   "execution_count": 50,
   "id": "thousand-atlas",
   "metadata": {},
   "outputs": [
    {
     "data": {
      "text/html": [
       "<div>\n",
       "<style scoped>\n",
       "    .dataframe tbody tr th:only-of-type {\n",
       "        vertical-align: middle;\n",
       "    }\n",
       "\n",
       "    .dataframe tbody tr th {\n",
       "        vertical-align: top;\n",
       "    }\n",
       "\n",
       "    .dataframe thead th {\n",
       "        text-align: right;\n",
       "    }\n",
       "</style>\n",
       "<table border=\"1\" class=\"dataframe\">\n",
       "  <thead>\n",
       "    <tr style=\"text-align: right;\">\n",
       "      <th></th>\n",
       "      <th>Twitter_CC</th>\n",
       "      <th>Closeness Centrality</th>\n",
       "    </tr>\n",
       "  </thead>\n",
       "  <tbody>\n",
       "    <tr>\n",
       "      <th>0</th>\n",
       "      <td>603</td>\n",
       "      <td>0.343266</td>\n",
       "    </tr>\n",
       "    <tr>\n",
       "      <th>1</th>\n",
       "      <td>4739</td>\n",
       "      <td>0.337610</td>\n",
       "    </tr>\n",
       "    <tr>\n",
       "      <th>2</th>\n",
       "      <td>84400</td>\n",
       "      <td>0.332801</td>\n",
       "    </tr>\n",
       "    <tr>\n",
       "      <th>3</th>\n",
       "      <td>22271</td>\n",
       "      <td>0.332541</td>\n",
       "    </tr>\n",
       "    <tr>\n",
       "      <th>4</th>\n",
       "      <td>93694</td>\n",
       "      <td>0.330895</td>\n",
       "    </tr>\n",
       "    <tr>\n",
       "      <th>...</th>\n",
       "      <td>...</td>\n",
       "      <td>...</td>\n",
       "    </tr>\n",
       "    <tr>\n",
       "      <th>178433</th>\n",
       "      <td>71314</td>\n",
       "      <td>0.154203</td>\n",
       "    </tr>\n",
       "    <tr>\n",
       "      <th>178434</th>\n",
       "      <td>160101</td>\n",
       "      <td>0.000017</td>\n",
       "    </tr>\n",
       "    <tr>\n",
       "      <th>178435</th>\n",
       "      <td>160102</td>\n",
       "      <td>0.000010</td>\n",
       "    </tr>\n",
       "    <tr>\n",
       "      <th>178436</th>\n",
       "      <td>160103</td>\n",
       "      <td>0.000010</td>\n",
       "    </tr>\n",
       "    <tr>\n",
       "      <th>178437</th>\n",
       "      <td>160104</td>\n",
       "      <td>0.000010</td>\n",
       "    </tr>\n",
       "  </tbody>\n",
       "</table>\n",
       "<p>178438 rows × 2 columns</p>\n",
       "</div>"
      ],
      "text/plain": [
       "        Twitter_CC  Closeness Centrality\n",
       "0              603              0.343266\n",
       "1             4739              0.337610\n",
       "2            84400              0.332801\n",
       "3            22271              0.332541\n",
       "4            93694              0.330895\n",
       "...            ...                   ...\n",
       "178433       71314              0.154203\n",
       "178434      160101              0.000017\n",
       "178435      160102              0.000010\n",
       "178436      160103              0.000010\n",
       "178437      160104              0.000010\n",
       "\n",
       "[178438 rows x 2 columns]"
      ]
     },
     "execution_count": 50,
     "metadata": {},
     "output_type": "execute_result"
    }
   ],
   "source": [
    "closeness_centrality_df = pd.DataFrame(dict(closeness_centrality.ranking()).items(), columns=['Twitter_CC','Closeness Centrality'])\n",
    "closeness_centrality_df"
   ]
  },
  {
   "cell_type": "code",
   "execution_count": 51,
   "id": "appreciated-lottery",
   "metadata": {},
   "outputs": [],
   "source": [
    "closeness_centrality_df = closeness_centrality_df.merge(inverse_map_df,\n",
    "                                                        left_on=closeness_centrality_df['Twitter_CC'], \n",
    "                                                        right_on=inverse_map_df['Index'])"
   ]
  },
  {
   "cell_type": "code",
   "execution_count": 56,
   "id": "adjustable-success",
   "metadata": {},
   "outputs": [
    {
     "data": {
      "text/html": [
       "<div>\n",
       "<style scoped>\n",
       "    .dataframe tbody tr th:only-of-type {\n",
       "        vertical-align: middle;\n",
       "    }\n",
       "\n",
       "    .dataframe tbody tr th {\n",
       "        vertical-align: top;\n",
       "    }\n",
       "\n",
       "    .dataframe thead th {\n",
       "        text-align: right;\n",
       "    }\n",
       "</style>\n",
       "<table border=\"1\" class=\"dataframe\">\n",
       "  <thead>\n",
       "    <tr style=\"text-align: right;\">\n",
       "      <th></th>\n",
       "      <th>Twitter_CC</th>\n",
       "      <th>Closeness Centrality</th>\n",
       "    </tr>\n",
       "  </thead>\n",
       "  <tbody>\n",
       "    <tr>\n",
       "      <th>0</th>\n",
       "      <td>yousuck2020</td>\n",
       "      <td>0.343266</td>\n",
       "    </tr>\n",
       "    <tr>\n",
       "      <th>1</th>\n",
       "      <td>xnoahxbabyx</td>\n",
       "      <td>0.337610</td>\n",
       "    </tr>\n",
       "    <tr>\n",
       "      <th>2</th>\n",
       "      <td>iloveyou1984022</td>\n",
       "      <td>0.332801</td>\n",
       "    </tr>\n",
       "    <tr>\n",
       "      <th>3</th>\n",
       "      <td>KOICHIOSHIMA2</td>\n",
       "      <td>0.332541</td>\n",
       "    </tr>\n",
       "    <tr>\n",
       "      <th>4</th>\n",
       "      <td>kenzi7642</td>\n",
       "      <td>0.330895</td>\n",
       "    </tr>\n",
       "    <tr>\n",
       "      <th>...</th>\n",
       "      <td>...</td>\n",
       "      <td>...</td>\n",
       "    </tr>\n",
       "    <tr>\n",
       "      <th>178432</th>\n",
       "      <td>youyuxi</td>\n",
       "      <td>0.154203</td>\n",
       "    </tr>\n",
       "    <tr>\n",
       "      <th>178434</th>\n",
       "      <td>tag60065904</td>\n",
       "      <td>0.000017</td>\n",
       "    </tr>\n",
       "    <tr>\n",
       "      <th>178435</th>\n",
       "      <td>O21Otg</td>\n",
       "      <td>0.000010</td>\n",
       "    </tr>\n",
       "    <tr>\n",
       "      <th>178436</th>\n",
       "      <td>_O913ykh_</td>\n",
       "      <td>0.000010</td>\n",
       "    </tr>\n",
       "    <tr>\n",
       "      <th>178437</th>\n",
       "      <td>k_f9p</td>\n",
       "      <td>0.000010</td>\n",
       "    </tr>\n",
       "  </tbody>\n",
       "</table>\n",
       "<p>178438 rows × 2 columns</p>\n",
       "</div>"
      ],
      "text/plain": [
       "             Twitter_CC  Closeness Centrality\n",
       "0           yousuck2020              0.343266\n",
       "1           xnoahxbabyx              0.337610\n",
       "2       iloveyou1984022              0.332801\n",
       "3         KOICHIOSHIMA2              0.332541\n",
       "4             kenzi7642              0.330895\n",
       "...                 ...                   ...\n",
       "178432          youyuxi              0.154203\n",
       "178434      tag60065904              0.000017\n",
       "178435           O21Otg              0.000010\n",
       "178436        _O913ykh_              0.000010\n",
       "178437            k_f9p              0.000010\n",
       "\n",
       "[178438 rows x 2 columns]"
      ]
     },
     "execution_count": 56,
     "metadata": {},
     "output_type": "execute_result"
    }
   ],
   "source": [
    "closeness_centrality_df = closeness_centrality_df[['Twitter', 'Closeness Centrality']]\n",
    "closeness_centrality_df = closeness_centrality_df.sort_values(by='Closeness Centrality', ascending=False)\n",
    "closeness_centrality_df = closeness_centrality_df.rename(columns={'Twitter': 'Twitter_CC'})\n",
    "\n",
    "closeness_centrality_df"
   ]
  },
  {
   "cell_type": "code",
   "execution_count": 57,
   "id": "knowing-argument",
   "metadata": {},
   "outputs": [],
   "source": [
    "#closeness_centrality_df.to_csv('closeness_centrality.csv', index=False)"
   ]
  },
  {
   "cell_type": "code",
   "execution_count": null,
   "id": "official-brake",
   "metadata": {},
   "outputs": [],
   "source": []
  }
 ],
 "metadata": {
  "deepnote": {},
  "deepnote_execution_queue": [],
  "deepnote_notebook_id": "fe0059d6-9639-4070-90de-1ca78ce8baef",
  "kernelspec": {
   "display_name": "Python 3",
   "language": "python",
   "name": "python3"
  },
  "language_info": {
   "codemirror_mode": {
    "name": "ipython",
    "version": 3
   },
   "file_extension": ".py",
   "mimetype": "text/x-python",
   "name": "python",
   "nbconvert_exporter": "python",
   "pygments_lexer": "ipython3",
   "version": "3.8.5"
  }
 },
 "nbformat": 4,
 "nbformat_minor": 5
}
