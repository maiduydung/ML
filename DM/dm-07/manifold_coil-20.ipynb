{
 "cells": [
  {
   "cell_type": "markdown",
   "metadata": {},
   "source": [
    "### 2D visualization of coil-20 images   "
   ]
  },
  {
   "cell_type": "markdown",
   "metadata": {},
   "source": [
    "#### Import libraries  "
   ]
  },
  {
   "cell_type": "code",
   "execution_count": null,
   "metadata": {},
   "outputs": [],
   "source": [
    "import numpy as np\n",
    "import pandas as pd\n",
    "import matplotlib.pyplot as plt\n",
    "from sklearn.preprocessing import StandardScaler\n",
    "from sklearn.decomposition import PCA\n",
    "from sklearn.manifold import MDS, LocallyLinearEmbedding, Isomap, TSNE"
   ]
  },
  {
   "cell_type": "markdown",
   "metadata": {},
   "source": [
    "#### Parameters  "
   ]
  },
  {
   "cell_type": "code",
   "execution_count": null,
   "metadata": {},
   "outputs": [],
   "source": [
    "csv_in = 'coil-20-16x16.csv'\n",
    "n_components = 2\n",
    "n_neighbors = 10\n",
    "n_obj = 20"
   ]
  },
  {
   "cell_type": "markdown",
   "metadata": {},
   "source": [
    "#### Read CSV file  "
   ]
  },
  {
   "cell_type": "code",
   "execution_count": null,
   "metadata": {},
   "outputs": [],
   "source": [
    "df = pd.read_csv(csv_in, delimiter=',', skiprows=0, header=0)\n",
    "print(df.shape)\n",
    "print(df.info())\n",
    "display(df.head())"
   ]
  },
  {
   "cell_type": "markdown",
   "metadata": {},
   "source": [
    "#### Separate data  "
   ]
  },
  {
   "cell_type": "code",
   "execution_count": null,
   "metadata": {},
   "outputs": [],
   "source": [
    "df_X = df.iloc[:,:-1]\n",
    "obj = df['obj']\n",
    "display(df_X.head())\n",
    "print(obj.head())"
   ]
  },
  {
   "cell_type": "markdown",
   "metadata": {},
   "source": [
    "#### Standardization  "
   ]
  },
  {
   "cell_type": "code",
   "execution_count": null,
   "metadata": {},
   "outputs": [],
   "source": [
    "sc = StandardScaler()\n",
    "X = sc.fit_transform(df_X) "
   ]
  },
  {
   "cell_type": "markdown",
   "metadata": {},
   "source": [
    "#### Manifold learning  "
   ]
  },
  {
   "cell_type": "code",
   "execution_count": null,
   "metadata": {},
   "outputs": [],
   "source": [
    "# PCA\n",
    "Y = PCA(n_components=n_components).fit_transform(X)\n",
    "plt.figure(figsize=(10,7))\n",
    "plt.title(\"PCA\")\n",
    "for i in range(n_obj):\n",
    "    marker = '${}$'.format(i)\n",
    "    y1 = Y[ obj==i ]\n",
    "    plt.scatter(y1[:, 0], y1[:, 1], marker=marker, s=70, label=i)\n",
    "plt.xlabel('PCA1')\n",
    "plt.ylabel('PCA2')\n",
    "plt.show()"
   ]
  },
  {
   "cell_type": "code",
   "execution_count": null,
   "metadata": {},
   "outputs": [],
   "source": [
    "# MDS\n",
    "Y = MDS(n_components=n_components, random_state=0).fit_transform(X)\n",
    "plt.figure(figsize=(10,7))\n",
    "plt.title(\"MDS\")\n",
    "for i in range(n_obj):\n",
    "    marker = '${}$'.format(i)\n",
    "    y1 = Y[ obj==i ]\n",
    "    plt.scatter(y1[:, 0], y1[:, 1], marker=marker, s=70, label=i)\n",
    "plt.xlabel('MDS1')\n",
    "plt.ylabel('MDS2')\n",
    "plt.show()"
   ]
  },
  {
   "cell_type": "code",
   "execution_count": null,
   "metadata": {},
   "outputs": [],
   "source": [
    "# Isomap\n",
    "Y = Isomap(n_neighbors=n_neighbors, n_components=n_components).fit_transform(X)\n",
    "plt.figure(figsize=(10,7))\n",
    "plt.title(\"Isomap\")\n",
    "for i in range(n_obj):\n",
    "    marker = '${}$'.format(i)\n",
    "    y1 = Y[ obj==i ]\n",
    "    plt.scatter(y1[:, 0], y1[:, 1], marker=marker, s=70, label=i)\n",
    "plt.xlabel('Isomap1')\n",
    "plt.ylabel('Isomap2')\n",
    "plt.legend()\n",
    "plt.show()"
   ]
  },
  {
   "cell_type": "code",
   "execution_count": null,
   "metadata": {},
   "outputs": [],
   "source": [
    "# LLE\n",
    "Y = LocallyLinearEmbedding(n_neighbors=n_neighbors,\n",
    "                           n_components=n_components,\n",
    "                           eigen_solver='auto',\n",
    "                           method='standard').fit_transform(X)\n",
    "plt.figure(figsize=(10,7))\n",
    "plt.title(\"standard LLE\")\n",
    "for i in range(n_obj):\n",
    "    marker = '${}$'.format(i)\n",
    "    y1 = Y[ obj==i ]\n",
    "    plt.scatter(y1[:, 0], y1[:, 1], marker=marker, s=70, label=i)\n",
    "plt.xlabel('LLE1')\n",
    "plt.ylabel('LLE2')\n",
    "plt.show()"
   ]
  },
  {
   "cell_type": "code",
   "execution_count": null,
   "metadata": {},
   "outputs": [],
   "source": [
    "# t-SNE\n",
    "Y = TSNE(n_components=n_components,\n",
    "         perplexity=30, n_iter=1000,\n",
    "         random_state=0).fit_transform(X)\n",
    "plt.figure(figsize=(10,7))\n",
    "plt.title(\"t-SNE\")\n",
    "for i in range(n_obj):\n",
    "    marker = '${}$'.format(i)\n",
    "    y1 = Y[ obj==i ]\n",
    "    plt.scatter(y1[:, 0], y1[:, 1], marker=marker, s=70, label=i)\n",
    "plt.xlabel('t-SNE1')\n",
    "plt.ylabel('t-SNE2')\n",
    "plt.show()"
   ]
  },
  {
   "cell_type": "code",
   "execution_count": null,
   "metadata": {},
   "outputs": [],
   "source": []
  }
 ],
 "metadata": {
  "kernelspec": {
   "display_name": "Python 3",
   "language": "python",
   "name": "python3"
  },
  "language_info": {
   "codemirror_mode": {
    "name": "ipython",
    "version": 3
   },
   "file_extension": ".py",
   "mimetype": "text/x-python",
   "name": "python",
   "nbconvert_exporter": "python",
   "pygments_lexer": "ipython3",
   "version": "3.8.8"
  }
 },
 "nbformat": 4,
 "nbformat_minor": 4
}
