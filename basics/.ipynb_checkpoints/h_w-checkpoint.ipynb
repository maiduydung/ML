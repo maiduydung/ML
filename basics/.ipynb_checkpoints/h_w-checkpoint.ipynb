{
 "cells": [
  {
   "cell_type": "code",
   "execution_count": 1,
   "metadata": {},
   "outputs": [],
   "source": [
    "import pandas as pd\n",
    "import numpy as np\n",
    "import matplotlib.pyplot as plt\n",
    "#from tensorflow.keras.layers.experimental.preprocessing import Normalization\n",
    "from tensorflow.keras.models import Sequential\n",
    "from tensorflow.keras.layers import Dense, BatchNormalization\n",
    "from tensorflow.keras.optimizers import Adam\n"
   ]
  },
  {
   "cell_type": "code",
   "execution_count": 2,
   "metadata": {},
   "outputs": [],
   "source": [
    "df = pd.read_csv('../datasets/height_weight/height_weight.csv')\n",
    "# Since height is in pound and weight is in inch.\n",
    "# We're doing a bit conversion here\n",
    "df.loc[:,'Height'] *= 0.0254\n",
    "df.loc[:,'Weight'] *= 0.45359237"
   ]
  },
  {
   "cell_type": "code",
   "execution_count": 3,
   "metadata": {},
   "outputs": [
    {
     "data": {
      "text/html": [
       "<div>\n",
       "<style scoped>\n",
       "    .dataframe tbody tr th:only-of-type {\n",
       "        vertical-align: middle;\n",
       "    }\n",
       "\n",
       "    .dataframe tbody tr th {\n",
       "        vertical-align: top;\n",
       "    }\n",
       "\n",
       "    .dataframe thead th {\n",
       "        text-align: right;\n",
       "    }\n",
       "</style>\n",
       "<table border=\"1\" class=\"dataframe\">\n",
       "  <thead>\n",
       "    <tr style=\"text-align: right;\">\n",
       "      <th></th>\n",
       "      <th>Gender</th>\n",
       "      <th>Height</th>\n",
       "      <th>Weight</th>\n",
       "    </tr>\n",
       "  </thead>\n",
       "  <tbody>\n",
       "    <tr>\n",
       "      <th>0</th>\n",
       "      <td>Male</td>\n",
       "      <td>1.875714</td>\n",
       "      <td>109.721075</td>\n",
       "    </tr>\n",
       "    <tr>\n",
       "      <th>1</th>\n",
       "      <td>Male</td>\n",
       "      <td>1.747060</td>\n",
       "      <td>73.622792</td>\n",
       "    </tr>\n",
       "    <tr>\n",
       "      <th>2</th>\n",
       "      <td>Male</td>\n",
       "      <td>1.882397</td>\n",
       "      <td>96.497629</td>\n",
       "    </tr>\n",
       "    <tr>\n",
       "      <th>3</th>\n",
       "      <td>Male</td>\n",
       "      <td>1.821967</td>\n",
       "      <td>99.809586</td>\n",
       "    </tr>\n",
       "    <tr>\n",
       "      <th>4</th>\n",
       "      <td>Male</td>\n",
       "      <td>1.774998</td>\n",
       "      <td>93.598695</td>\n",
       "    </tr>\n",
       "    <tr>\n",
       "      <th>...</th>\n",
       "      <td>...</td>\n",
       "      <td>...</td>\n",
       "      <td>...</td>\n",
       "    </tr>\n",
       "    <tr>\n",
       "      <th>4995</th>\n",
       "      <td>Male</td>\n",
       "      <td>1.749046</td>\n",
       "      <td>80.345294</td>\n",
       "    </tr>\n",
       "    <tr>\n",
       "      <th>4996</th>\n",
       "      <td>Male</td>\n",
       "      <td>1.751925</td>\n",
       "      <td>72.250564</td>\n",
       "    </tr>\n",
       "    <tr>\n",
       "      <th>4997</th>\n",
       "      <td>Male</td>\n",
       "      <td>1.702150</td>\n",
       "      <td>90.353514</td>\n",
       "    </tr>\n",
       "    <tr>\n",
       "      <th>4998</th>\n",
       "      <td>Male</td>\n",
       "      <td>1.817566</td>\n",
       "      <td>84.325502</td>\n",
       "    </tr>\n",
       "    <tr>\n",
       "      <th>4999</th>\n",
       "      <td>Male</td>\n",
       "      <td>1.786938</td>\n",
       "      <td>90.220889</td>\n",
       "    </tr>\n",
       "  </tbody>\n",
       "</table>\n",
       "<p>5000 rows × 3 columns</p>\n",
       "</div>"
      ],
      "text/plain": [
       "     Gender    Height      Weight\n",
       "0      Male  1.875714  109.721075\n",
       "1      Male  1.747060   73.622792\n",
       "2      Male  1.882397   96.497629\n",
       "3      Male  1.821967   99.809586\n",
       "4      Male  1.774998   93.598695\n",
       "...     ...       ...         ...\n",
       "4995   Male  1.749046   80.345294\n",
       "4996   Male  1.751925   72.250564\n",
       "4997   Male  1.702150   90.353514\n",
       "4998   Male  1.817566   84.325502\n",
       "4999   Male  1.786938   90.220889\n",
       "\n",
       "[5000 rows x 3 columns]"
      ]
     },
     "metadata": {},
     "output_type": "display_data"
    },
    {
     "data": {
      "text/html": [
       "<div>\n",
       "<style scoped>\n",
       "    .dataframe tbody tr th:only-of-type {\n",
       "        vertical-align: middle;\n",
       "    }\n",
       "\n",
       "    .dataframe tbody tr th {\n",
       "        vertical-align: top;\n",
       "    }\n",
       "\n",
       "    .dataframe thead th {\n",
       "        text-align: right;\n",
       "    }\n",
       "</style>\n",
       "<table border=\"1\" class=\"dataframe\">\n",
       "  <thead>\n",
       "    <tr style=\"text-align: right;\">\n",
       "      <th></th>\n",
       "      <th>Gender</th>\n",
       "      <th>Height</th>\n",
       "      <th>Weight</th>\n",
       "    </tr>\n",
       "  </thead>\n",
       "  <tbody>\n",
       "    <tr>\n",
       "      <th>5000</th>\n",
       "      <td>Female</td>\n",
       "      <td>1.496333</td>\n",
       "      <td>46.306486</td>\n",
       "    </tr>\n",
       "    <tr>\n",
       "      <th>5001</th>\n",
       "      <td>Female</td>\n",
       "      <td>1.656842</td>\n",
       "      <td>64.095243</td>\n",
       "    </tr>\n",
       "    <tr>\n",
       "      <th>5002</th>\n",
       "      <td>Female</td>\n",
       "      <td>1.609573</td>\n",
       "      <td>59.439380</td>\n",
       "    </tr>\n",
       "    <tr>\n",
       "      <th>5003</th>\n",
       "      <td>Female</td>\n",
       "      <td>1.637792</td>\n",
       "      <td>58.137620</td>\n",
       "    </tr>\n",
       "    <tr>\n",
       "      <th>5004</th>\n",
       "      <td>Female</td>\n",
       "      <td>1.569545</td>\n",
       "      <td>58.867856</td>\n",
       "    </tr>\n",
       "    <tr>\n",
       "      <th>...</th>\n",
       "      <td>...</td>\n",
       "      <td>...</td>\n",
       "      <td>...</td>\n",
       "    </tr>\n",
       "    <tr>\n",
       "      <th>9995</th>\n",
       "      <td>Female</td>\n",
       "      <td>1.680785</td>\n",
       "      <td>62.041210</td>\n",
       "    </tr>\n",
       "    <tr>\n",
       "      <th>9996</th>\n",
       "      <td>Female</td>\n",
       "      <td>1.703506</td>\n",
       "      <td>77.504378</td>\n",
       "    </tr>\n",
       "    <tr>\n",
       "      <th>9997</th>\n",
       "      <td>Female</td>\n",
       "      <td>1.622247</td>\n",
       "      <td>58.275424</td>\n",
       "    </tr>\n",
       "    <tr>\n",
       "      <th>9998</th>\n",
       "      <td>Female</td>\n",
       "      <td>1.753470</td>\n",
       "      <td>74.322226</td>\n",
       "    </tr>\n",
       "    <tr>\n",
       "      <th>9999</th>\n",
       "      <td>Female</td>\n",
       "      <td>1.573384</td>\n",
       "      <td>51.550366</td>\n",
       "    </tr>\n",
       "  </tbody>\n",
       "</table>\n",
       "<p>5000 rows × 3 columns</p>\n",
       "</div>"
      ],
      "text/plain": [
       "      Gender    Height     Weight\n",
       "5000  Female  1.496333  46.306486\n",
       "5001  Female  1.656842  64.095243\n",
       "5002  Female  1.609573  59.439380\n",
       "5003  Female  1.637792  58.137620\n",
       "5004  Female  1.569545  58.867856\n",
       "...      ...       ...        ...\n",
       "9995  Female  1.680785  62.041210\n",
       "9996  Female  1.703506  77.504378\n",
       "9997  Female  1.622247  58.275424\n",
       "9998  Female  1.753470  74.322226\n",
       "9999  Female  1.573384  51.550366\n",
       "\n",
       "[5000 rows x 3 columns]"
      ]
     },
     "metadata": {},
     "output_type": "display_data"
    }
   ],
   "source": [
    "df_male = df[df['Gender'] == 'Male']\n",
    "df_female = df[df['Gender'] == 'Female']\n",
    "display(df_male)\n",
    "display(df_female)"
   ]
  },
  {
   "cell_type": "code",
   "execution_count": 4,
   "metadata": {},
   "outputs": [
    {
     "data": {
      "text/plain": [
       "Text(0, 0.5, 'Height (m)')"
      ]
     },
     "execution_count": 4,
     "metadata": {},
     "output_type": "execute_result"
    },
    {
     "data": {
      "image/png": "[encoded data removed]",
      "text/plain": [
       "<Figure size 432x288 with 1 Axes>"
      ]
     },
     "metadata": {
      "needs_background": "light"
     },
     "output_type": "display_data"
    }
   ],
   "source": [
    "plt.scatter(df_male['Weight'], df_male['Height'])\n",
    "plt.title(\"Male height - weight distribution\")\n",
    "plt.xlabel('Weight (kg)')\n",
    "plt.ylabel('Height (m)')"
   ]
  },
  {
   "cell_type": "code",
   "execution_count": 5,
   "metadata": {},
   "outputs": [
    {
     "data": {
      "text/plain": [
       "Text(0, 0.5, 'Height (m)')"
      ]
     },
     "execution_count": 5,
     "metadata": {},
     "output_type": "execute_result"
    },
    {
     "data": {
      "image/png": "[encoded data removed]",
      "text/plain": [
       "<Figure size 432x288 with 1 Axes>"
      ]
     },
     "metadata": {
      "needs_background": "light"
     },
     "output_type": "display_data"
    }
   ],
   "source": [
    "plt.scatter(df_female['Weight'], df_female['Height'])\n",
    "plt.title(\"Female height - weight distribution\")\n",
    "plt.xlabel('Weight (kg)')\n",
    "plt.ylabel('Height (m)')"
   ]
  },
  {
   "cell_type": "markdown",
   "metadata": {},
   "source": [
    "#### Predicting on male data set\n",
    "##### from height predict weight"
   ]
  },
  {
   "cell_type": "code",
   "execution_count": 6,
   "metadata": {},
   "outputs": [],
   "source": [
    "df_male_train = df_male[:4000]\n",
    "df_male_test = df_male[4000:]\n",
    "data_train = np.array(df_male_train['Height'])\n",
    "label_train = np.array(df_male_train['Weight'])"
   ]
  },
  {
   "cell_type": "code",
   "execution_count": 7,
   "metadata": {},
   "outputs": [
    {
     "data": {
      "text/plain": [
       "(4000,)"
      ]
     },
     "execution_count": 7,
     "metadata": {},
     "output_type": "execute_result"
    }
   ],
   "source": [
    "data_train.shape"
   ]
  },
  {
   "cell_type": "code",
   "execution_count": 8,
   "metadata": {},
   "outputs": [],
   "source": [
    "data_train_normalizer = BatchNormalization(axis=1)\n"
   ]
  },
  {
   "cell_type": "code",
   "execution_count": 70,
   "metadata": {},
   "outputs": [],
   "source": [
    "\n",
    "model = Sequential([\n",
    "        data_train_normalizer,\n",
    "        Dense(units=1)\n",
    "])\n"
   ]
  },
  {
   "cell_type": "code",
   "execution_count": 71,
   "metadata": {},
   "outputs": [
    {
     "data": {
      "text/plain": [
       "array([[9.23432  ],\n",
       "       [7.7901287],\n",
       "       [9.309334 ],\n",
       "       [8.630984 ],\n",
       "       [8.103734 ],\n",
       "       [7.3542013],\n",
       "       [7.7910337],\n",
       "       [7.666558 ],\n",
       "       [7.287465 ],\n",
       "       [6.2717166]], dtype=float32)"
      ]
     },
     "execution_count": 71,
     "metadata": {},
     "output_type": "execute_result"
    }
   ],
   "source": [
    "#predict with untrained model\n",
    "model.predict(data_train[:10])"
   ]
  },
  {
   "cell_type": "code",
   "execution_count": 72,
   "metadata": {},
   "outputs": [],
   "source": [
    "model.compile(optimizer=Adam(learning_rate=0.1), loss='mean_squared_error')"
   ]
  },
  {
   "cell_type": "code",
   "execution_count": 87,
   "metadata": {},
   "outputs": [
    {
     "name": "stdout",
     "output_type": "stream",
     "text": [
      "Train on 3200 samples, validate on 800 samples\n",
      "Epoch 1/10\n",
      "3200/3200 [==============================] - 0s 44us/sample - loss: 25.0610 - val_loss: 24.7279\n",
      "Epoch 2/10\n",
      "3200/3200 [==============================] - 0s 42us/sample - loss: 25.3184 - val_loss: 20.4329\n",
      "Epoch 3/10\n",
      "3200/3200 [==============================] - 0s 43us/sample - loss: 24.7347 - val_loss: 23.0875\n",
      "Epoch 4/10\n",
      "3200/3200 [==============================] - 0s 38us/sample - loss: 25.6222 - val_loss: 22.3702\n",
      "Epoch 5/10\n",
      "3200/3200 [==============================] - 0s 39us/sample - loss: 24.0980 - val_loss: 21.1567\n",
      "Epoch 6/10\n",
      "3200/3200 [==============================] - 0s 42us/sample - loss: 25.7375 - val_loss: 20.8622\n",
      "Epoch 7/10\n",
      "3200/3200 [==============================] - 0s 41us/sample - loss: 24.8483 - val_loss: 28.8362\n",
      "Epoch 8/10\n",
      "3200/3200 [==============================] - 0s 38us/sample - loss: 25.7107 - val_loss: 21.9345\n",
      "Epoch 9/10\n",
      "3200/3200 [==============================] - 0s 41us/sample - loss: 23.9368 - val_loss: 22.4746\n",
      "Epoch 10/10\n",
      "3200/3200 [==============================] - 0s 45us/sample - loss: 25.1487 - val_loss: 20.4347\n"
     ]
    }
   ],
   "source": [
    "#training model\n",
    "fit_log = model.fit(data_train, label_train, epochs=10, verbose=1, validation_split=0.2)"
   ]
  },
  {
   "cell_type": "markdown",
   "metadata": {},
   "source": [
    "##### Using only one node doesn't seem to result in good prediction"
   ]
  },
  {
   "cell_type": "code",
   "execution_count": 88,
   "metadata": {},
   "outputs": [
    {
     "data": {
      "text/plain": [
       "Text(0.5, 1.0, 'Loss')"
      ]
     },
     "execution_count": 88,
     "metadata": {},
     "output_type": "execute_result"
    },
    {
     "data": {
      "image/png": "[encoded data removed]",
      "text/plain": [
       "<Figure size 432x288 with 1 Axes>"
      ]
     },
     "metadata": {
      "needs_background": "light"
     },
     "output_type": "display_data"
    }
   ],
   "source": [
    "plt.plot(fit_log.history['loss'], label = 'train')\n",
    "plt.legend()\n",
    "plt.title('Loss')"
   ]
  },
  {
   "cell_type": "code",
   "execution_count": 36,
   "metadata": {},
   "outputs": [
    {
     "data": {
      "text/plain": [
       "array([[89.46158 ],\n",
       "       [84.88045 ],\n",
       "       [89.69953 ],\n",
       "       [87.54773 ],\n",
       "       [85.87524 ],\n",
       "       [83.49764 ],\n",
       "       [84.88332 ],\n",
       "       [84.488464],\n",
       "       [83.28594 ],\n",
       "       [80.06388 ]], dtype=float32)"
      ]
     },
     "execution_count": 36,
     "metadata": {},
     "output_type": "execute_result"
    }
   ],
   "source": [
    "pred = model.predict(data_train)#height predicted\n",
    "pred[:10]"
   ]
  },
  {
   "cell_type": "code",
   "execution_count": 37,
   "metadata": {},
   "outputs": [
    {
     "data": {
      "text/plain": [
       "0    1.875714\n",
       "1    1.747060\n",
       "2    1.882397\n",
       "3    1.821967\n",
       "4    1.774998\n",
       "5    1.708227\n",
       "6    1.747141\n",
       "7    1.736052\n",
       "8    1.702281\n",
       "9    1.611795\n",
       "Name: Height, dtype: float64"
      ]
     },
     "execution_count": 37,
     "metadata": {},
     "output_type": "execute_result"
    }
   ],
   "source": [
    "df_male_train['Height'][:10]"
   ]
  },
  {
   "cell_type": "markdown",
   "metadata": {},
   "source": [
    "### Manually adjust weights\n",
    "\n"
   ]
  },
  {
   "cell_type": "code",
   "execution_count": 123,
   "metadata": {},
   "outputs": [
    {
     "name": "stdout",
     "output_type": "stream",
     "text": [
      "batch_normalization\n",
      "[array([-1.4722991], dtype=float32), array([-12.689026], dtype=float32), array([1.7531141], dtype=float32), array([0.00514765], dtype=float32)]\n",
      "dense_2\n",
      "[array([[-5.733123]], dtype=float32), array([12.469263], dtype=float32)]\n"
     ]
    }
   ],
   "source": [
    "#showing all layers\n",
    "for i in model.layers:\n",
    "    print(i.name)\n",
    "    wieghts = i.get_weights()\n",
    "    print(wieghts)\n",
    "\n",
    "#"
   ]
  },
  {
   "cell_type": "code",
   "execution_count": 119,
   "metadata": {},
   "outputs": [
    {
     "name": "stdout",
     "output_type": "stream",
     "text": [
      "[array([[-5.733123]], dtype=float32), array([12.469263], dtype=float32)]\n"
     ]
    }
   ],
   "source": [
    "# weight, bias\n",
    "print(wieghts)"
   ]
  },
  {
   "cell_type": "code",
   "execution_count": 136,
   "metadata": {},
   "outputs": [
    {
     "data": {
      "text/plain": [
       "[array([[-5.7]], dtype=float32), array([12.469263], dtype=float32)]"
      ]
     },
     "execution_count": 136,
     "metadata": {},
     "output_type": "execute_result"
    }
   ],
   "source": [
    "# Adjusting dense layer\n",
    "wieghts[0][0][0] = -5.7\n",
    "wieghts[1][0] = 12.469263\n",
    "wieghts"
   ]
  },
  {
   "cell_type": "code",
   "execution_count": 137,
   "metadata": {},
   "outputs": [],
   "source": [
    "model.get_layer('dense_2').set_weights(wieghts)"
   ]
  },
  {
   "cell_type": "markdown",
   "metadata": {},
   "source": [
    "#train again\n",
    "fit_log = model.fit(data_train, label_train, epochs=10, verbose=1, validation_split=0.2)"
   ]
  },
  {
   "cell_type": "code",
   "execution_count": 143,
   "metadata": {},
   "outputs": [
    {
     "name": "stdout",
     "output_type": "stream",
     "text": [
      "batch_normalization\n",
      "[array([-1.1932904], dtype=float32), array([-10.34847], dtype=float32), array([1.753386], dtype=float32), array([0.00509784], dtype=float32)]\n",
      "dense_2\n",
      "[array([[-6.6692405]], dtype=float32), array([14.966672], dtype=float32)]\n"
     ]
    }
   ],
   "source": [
    "for i in model.layers:\n",
    "    print(i.name)\n",
    "    wieghts = i.get_weights()\n",
    "    print(wieghts)"
   ]
  },
  {
   "cell_type": "markdown",
   "metadata": {},
   "source": [
    "#### Adjusting weight manually in this case doesn't seem to help"
   ]
  },
  {
   "cell_type": "code",
   "execution_count": null,
   "metadata": {},
   "outputs": [],
   "source": []
  }
 ],
 "metadata": {
  "kernelspec": {
   "display_name": "Python 3",
   "language": "python",
   "name": "python3"
  },
  "language_info": {
   "codemirror_mode": {
    "name": "ipython",
    "version": 3
   },
   "file_extension": ".py",
   "mimetype": "text/x-python",
   "name": "python",
   "nbconvert_exporter": "python",
   "pygments_lexer": "ipython3",
   "version": "3.6.12"
  }
 },
 "nbformat": 4,
 "nbformat_minor": 4
}
