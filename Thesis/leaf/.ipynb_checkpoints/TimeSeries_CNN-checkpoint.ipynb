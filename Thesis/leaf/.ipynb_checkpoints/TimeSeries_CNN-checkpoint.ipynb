{
 "cells": [
  {
   "cell_type": "code",
   "execution_count": 49,
   "id": "advised-cleaners",
   "metadata": {},
   "outputs": [],
   "source": [
    "from tensorflow import keras\n",
    "import numpy as np\n",
    "import pandas as pd\n",
    "import matplotlib.pyplot as plt\n",
    "import cv2 as cv\n",
    "import os, PIL, re\n",
    "from scipy.spatial import distance\n"
   ]
  },
  {
   "cell_type": "markdown",
   "id": "given-stand",
   "metadata": {},
   "source": [
    "#### Read pictures"
   ]
  },
  {
   "cell_type": "code",
   "execution_count": 38,
   "id": "horizontal-delta",
   "metadata": {},
   "outputs": [],
   "source": [
    "def cutLabel(string):\n",
    "    re = ''\n",
    "    for c in string:\n",
    "        if c not in ['0','1','2','3','4','5','6','7','8','9','_']:\n",
    "            re = re + c\n",
    "    return re"
   ]
  },
  {
   "cell_type": "code",
   "execution_count": 64,
   "id": "utility-minute",
   "metadata": {},
   "outputs": [
    {
     "name": "stdout",
     "output_type": "stream",
     "text": [
      "(188,)\n",
      "(188,)\n"
     ]
    }
   ],
   "source": [
    "directory ='pact_pala_samples/'\n",
    "\n",
    "\n",
    "X=[]\n",
    "Y=[]\n",
    "\n",
    "for filename in os.listdir(directory):\n",
    "    if filename.endswith(\".jpg\"):\n",
    "        img = cv.imread(directory+filename,0)\n",
    "        edges = cv.Canny(img,0,100)\n",
    "        label = re.sub(r'\\.[^.]*$',\"\",filename) #removing file extension\n",
    "        label = cutLabel(label) #removing numbers because Im bad at regex\n",
    "        \n",
    "        center = [x//2 for x in edges.shape]\n",
    "        leaf_shape_arr = np.array(np.where (edges == 255)) #2d array containing position of white dots\n",
    "        leaf_series = []\n",
    "        for i in range(0,(leaf_shape_arr.shape[1])): #for each white dot\n",
    "            dst = distance.euclidean(center, leaf_shape_arr[:,i]) #measure the Euclidean distance from the center to that dot\n",
    "            leaf_series.append(dst) #add them to a list to make a series, this is also the series of the leaf shape\n",
    "        leaf_series = np.array(leaf_series)\n",
    "        \n",
    "        \n",
    "        X.append(leaf_series)\n",
    "        Y.append(label)\n",
    "X = np.array(X)\n",
    "Y = np.array(Y)\n",
    "print(X.shape)\n",
    "print(Y.shape)"
   ]
  },
  {
   "cell_type": "code",
   "execution_count": null,
   "id": "suspected-uncertainty",
   "metadata": {},
   "outputs": [],
   "source": []
  },
  {
   "cell_type": "code",
   "execution_count": null,
   "id": "expressed-filing",
   "metadata": {},
   "outputs": [],
   "source": []
  }
 ],
 "metadata": {
  "kernelspec": {
   "display_name": "Python 3",
   "language": "python",
   "name": "python3"
  },
  "language_info": {
   "codemirror_mode": {
    "name": "ipython",
    "version": 3
   },
   "file_extension": ".py",
   "mimetype": "text/x-python",
   "name": "python",
   "nbconvert_exporter": "python",
   "pygments_lexer": "ipython3",
   "version": "3.8.5"
  }
 },
 "nbformat": 4,
 "nbformat_minor": 5
}
