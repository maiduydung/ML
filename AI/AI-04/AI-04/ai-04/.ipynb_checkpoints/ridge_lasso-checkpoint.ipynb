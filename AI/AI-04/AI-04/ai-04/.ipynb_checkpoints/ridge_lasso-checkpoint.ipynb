{
 "cells": [
  {
   "cell_type": "markdown",
   "metadata": {},
   "source": [
    "### Sample notebook for multiple linear regression (MLR) for Abalone data \n",
    "アワビデータの重回帰分析の手順例  \n",
    "\n",
    "Data: https://archive.ics.uci.edu/ml/machine-learning-databases/abalone/  \n",
    "Abalone Data (modified: some data are replaced by N/A):\n",
    "\n",
    "Sex / nominal / -- / M, F, and I (infant)  \n",
    "Length / continuous / mm / Longest shell measurement  \n",
    "Diameter / continuous / mm / perpendicular to length  \n",
    "Height / continuous / mm / with meat in shell  \n",
    "Whole weight / continuous / grams / whole abalone  \n",
    "Shucked weight / continuous / grams / weight of meat  \n",
    "Viscera weight / continuous / grams / gut weight (after bleeding)  \n",
    "Shell weight / continuous / grams / after being dried  \n",
    "Rings / integer / -- / +1.5 gives the age in years  "
   ]
  },
  {
   "cell_type": "markdown",
   "metadata": {},
   "source": [
    "#### Import libraries  "
   ]
  },
  {
   "cell_type": "code",
   "execution_count": null,
   "metadata": {},
   "outputs": [],
   "source": [
    "import sys\n",
    "import numpy as np\n",
    "import pandas as pd\n",
    "from pandas.plotting import scatter_matrix\n",
    "import seaborn as sns\n",
    "import matplotlib.pyplot as plt\n",
    "from sklearn import preprocessing\n",
    "import statsmodels.api as sm\n",
    "import statsmodels.formula.api as smf"
   ]
  },
  {
   "cell_type": "markdown",
   "metadata": {},
   "source": [
    "#### Parameters"
   ]
  },
  {
   "cell_type": "code",
   "execution_count": null,
   "metadata": {},
   "outputs": [],
   "source": [
    "%config InlineBackend.figure_formats = {'png', 'retina'} #high-reso images\n",
    "plt.rcParams['font.family'] = 'Yu Mincho' # for Japanese in graph (Win10)\n",
    "\n",
    "# To show all rows and columns in the results \n",
    "pd.options.display.max_rows = 999\n",
    "pd.options.display.max_columns = 999"
   ]
  },
  {
   "cell_type": "markdown",
   "metadata": {},
   "source": [
    "#### Step 1. Collect possible explanatory variables  \n",
    "目的変数に影響を与えていそうな要因は、可能な限り網羅的に説明変数に取り入れる。  "
   ]
  },
  {
   "cell_type": "markdown",
   "metadata": {},
   "source": [
    "##### Check & read CSV file, replace column labels if needed, etc.  \n",
    "encoding='shift-jis' may be needed.    \n",
    "CSVファイルをチェックしてから読み込む。必要に応じて列ラベルを変更。  \n",
    "CSVファイルの漢字コードがShift-JISの場合は encoding='shift-jis' が必要。　　"
   ]
  },
  {
   "cell_type": "code",
   "execution_count": null,
   "metadata": {},
   "outputs": [],
   "source": [
    "csv_in = 'abalone_modified.csv'\n",
    "df_all = pd.read_csv(csv_in, delimiter=',', skiprows=0, header=None)\n",
    "# no header in csv, so set columns explicitly\n",
    "df_all.columns = ['sex', 'len', 'd', 'h', 'w_all', 'w_meat', 'w_gut', 'w_shell', 'ring']\n",
    "print(df_all.shape)\n",
    "print(df_all.info())\n",
    "display(df_all.head())"
   ]
  },
  {
   "cell_type": "markdown",
   "metadata": {},
   "source": [
    "##### Check numerical / category variables if needed  \n",
    "数値列・カテゴリー列の様子をみる  "
   ]
  },
  {
   "cell_type": "code",
   "execution_count": null,
   "metadata": {},
   "outputs": [],
   "source": [
    "display(df_all.describe())\n",
    "display(df_all.describe(exclude='number'))"
   ]
  },
  {
   "cell_type": "markdown",
   "metadata": {},
   "source": [
    "##### See rows including missing data  \n",
    "欠損値を含む行を表示してみる  "
   ]
  },
  {
   "cell_type": "code",
   "execution_count": null,
   "metadata": {},
   "outputs": [],
   "source": [
    "display(df_all[df_all.isnull().any(axis=1)])"
   ]
  },
  {
   "cell_type": "markdown",
   "metadata": {},
   "source": [
    "##### Delete rows including missing data, or fill missing data  \n",
    "欠損値を含む行を削除する (または欠損値を埋める)  "
   ]
  },
  {
   "cell_type": "code",
   "execution_count": null,
   "metadata": {},
   "outputs": [],
   "source": [
    "df_all = df_all.dropna().reset_index(drop=True)\n",
    "#df_all = df_all.fillna(df_all.mean()) # if you want to fill missing data instead of deleting them\n",
    "print(df_all.shape)\n",
    "display(df_all.head())"
   ]
  },
  {
   "cell_type": "markdown",
   "metadata": {},
   "source": [
    "##### Separate explanatory variables and objective variable  \n",
    "説明変数と目的変数を分ける  "
   ]
  },
  {
   "cell_type": "code",
   "execution_count": null,
   "metadata": {},
   "outputs": [],
   "source": [
    "X_all_org = df_all.loc[:, 'sex':'w_shell']  # explanatory variables\n",
    "#X_all_org = df_all.drop(columns='ring')  # alternative way, もうひとつの書き方\n",
    "y = df_all['ring']  # objective variable\n",
    "print('X_all_org:', X_all_org.shape)\n",
    "display(X_all_org.head())\n",
    "print('y:', y.shape)\n",
    "print(y.head())"
   ]
  },
  {
   "cell_type": "markdown",
   "metadata": {},
   "source": [
    "##### Apply get_dummies()  \n",
    "ダミー変数化  "
   ]
  },
  {
   "cell_type": "code",
   "execution_count": null,
   "metadata": {},
   "outputs": [],
   "source": [
    "X_all = pd.get_dummies(X_all_org, drop_first=True)\n",
    "print('X_all:', X_all.shape)\n",
    "display(X_all.head())"
   ]
  },
  {
   "cell_type": "markdown",
   "metadata": {},
   "source": [
    "#### Step 2. Scatter plot and correlation coefficients between all combination of explanatory variables  \n",
    "変数間の総当たり散布図を描画。相関係数も算出しておく  "
   ]
  },
  {
   "cell_type": "markdown",
   "metadata": {},
   "source": [
    "##### all by all Pearson correlation coefficients;  \n",
    "総当たりのPearson相関係数  "
   ]
  },
  {
   "cell_type": "code",
   "execution_count": null,
   "metadata": {},
   "outputs": [],
   "source": [
    "corr_all = X_all.corr(method='pearson')\n",
    "display(corr_all)"
   ]
  },
  {
   "cell_type": "markdown",
   "metadata": {},
   "source": [
    "##### Pickup explanatory variable pairs with large absolute value of correlation coefficient;  \n",
    "相関係数の絶対値が大きい説明変数ペアの出力   "
   ]
  },
  {
   "cell_type": "markdown",
   "metadata": {},
   "source": [
    "Method 2. Rather tricky method ...  "
   ]
  },
  {
   "cell_type": "code",
   "execution_count": null,
   "metadata": {},
   "outputs": [],
   "source": [
    "th_corr = 0.3\n",
    "keep = np.triu(np.ones(corr_all.shape), k=1).astype('bool').flatten()\n",
    "triu = corr_all.stack()[keep]\n",
    "triu_sorted = triu[ np.abs(triu).sort_values(ascending=False).index ]\n",
    "print(triu_sorted[ (triu_sorted < -th_corr) | (triu_sorted > th_corr) ])"
   ]
  },
  {
   "cell_type": "markdown",
   "metadata": {},
   "source": [
    "##### all by all scatter plots of explanatory variables;  \n",
    "変数間の総当たり散布図  "
   ]
  },
  {
   "cell_type": "markdown",
   "metadata": {},
   "source": [
    "##### if you want to use seaborn instead of matplotlib\n",
    "seabornを使うなら  "
   ]
  },
  {
   "cell_type": "code",
   "execution_count": null,
   "metadata": {},
   "outputs": [],
   "source": [
    "sns.pairplot(X_all)\n",
    "plt.show()"
   ]
  },
  {
   "cell_type": "markdown",
   "metadata": {},
   "source": [
    "##### Heatmap  \n",
    "Heatmapを描いてもよい  "
   ]
  },
  {
   "cell_type": "code",
   "execution_count": null,
   "metadata": {},
   "outputs": [],
   "source": [
    "plt.figure(figsize=(10,10))\n",
    "sns.heatmap(corr_all,annot=True,fmt='.2f',cmap='bwr')\n",
    "plt.show()"
   ]
  },
  {
   "cell_type": "markdown",
   "metadata": {},
   "source": [
    "#### Step 3. MLR calculation using all variables  \n",
    "全説明変数を用いて、標準化なしで線形重回帰分析  "
   ]
  },
  {
   "cell_type": "code",
   "execution_count": null,
   "metadata": {},
   "outputs": [],
   "source": [
    "X_all_c = sm.add_constant(X_all)\n",
    "model = sm.OLS(y, X_all_c)\n",
    "results = model.fit()\n",
    "print(results.summary())"
   ]
  },
  {
   "cell_type": "markdown",
   "metadata": {},
   "source": [
    "#### Step 4. Check R2 and Adjusted R2 to see whether MLR is appropriate for this data  \n",
    "決定係数や自由度調整済み決定係数をみて、そもそも線形モデルの当てはめが妥当かどうかを判断  "
   ]
  },
  {
   "cell_type": "code",
   "execution_count": null,
   "metadata": {},
   "outputs": [],
   "source": [
    "print('R2:', results.rsquared)\n",
    "print('Adj R2:', results.rsquared_adj)"
   ]
  },
  {
   "cell_type": "markdown",
   "metadata": {},
   "source": [
    "Not bad, but not good...  "
   ]
  },
  {
   "cell_type": "markdown",
   "metadata": {},
   "source": [
    "#### Step 5. Stat. test for MLR equation  \n",
    "重回帰式の検定 (求めた重回帰式は目的変数を説明している？)  "
   ]
  },
  {
   "cell_type": "code",
   "execution_count": null,
   "metadata": {},
   "outputs": [],
   "source": [
    "print('p-values (F-statistic)', results.f_pvalue)"
   ]
  },
  {
   "cell_type": "markdown",
   "metadata": {},
   "source": [
    "Very small p-value, so this MLR equation is considered to be significant.  "
   ]
  },
  {
   "cell_type": "markdown",
   "metadata": {},
   "source": [
    "#### Step 6-1. Standardization of variables   \n",
    "全説明変数と目的変数を標準化"
   ]
  },
  {
   "cell_type": "code",
   "execution_count": null,
   "metadata": {},
   "outputs": [],
   "source": [
    "# NOTE: after scaling, X_scaled and Y_scaled are ndarray, not DataFrame.\n",
    "X_scaled = preprocessing.scale(X_all)\n",
    "dfX_scaled = pd.DataFrame(X_scaled, columns=X_all.columns)\n",
    "y_scaled = preprocessing.scale(y)\n",
    "dfy_scaled = pd.Series(y_scaled, name=y.name)\n",
    "model = sm.OLS(dfy_scaled, dfX_scaled)"
   ]
  },
  {
   "cell_type": "markdown",
   "metadata": {},
   "source": [
    "#### Step 6-1. Ridge regression    \n",
    "**Ridge回帰**  "
   ]
  },
  {
   "cell_type": "code",
   "execution_count": null,
   "metadata": {},
   "outputs": [],
   "source": [
    "results_ridge = model.fit_regularized(L1_wt=0.0, alpha=0.1)\n",
    "print(results_ridge.params)"
   ]
  },
  {
   "cell_type": "markdown",
   "metadata": {},
   "source": [
    "#### Step 6-2. LASSO regression    \n",
    "**LASSO回帰**"
   ]
  },
  {
   "cell_type": "code",
   "execution_count": null,
   "metadata": {},
   "outputs": [],
   "source": [
    "results_lasso = model.fit_regularized(L1_wt=1.0, alpha=0.1)\n",
    "print(results_lasso.params)"
   ]
  },
  {
   "cell_type": "markdown",
   "metadata": {},
   "source": [
    "#### Step 6-3. Elastic Net regression    \n",
    "**Elastic Net**"
   ]
  },
  {
   "cell_type": "code",
   "execution_count": null,
   "metadata": {},
   "outputs": [],
   "source": [
    "results_elastic = model.fit_regularized(L1_wt=0.5, alpha=0.1)\n",
    "print(results_elastic.params)"
   ]
  },
  {
   "cell_type": "markdown",
   "metadata": {},
   "source": [
    "#### Step 7. Path plot to see which explanatory variables have large coefficients according to alpha  \n",
    "Explanatory variables with coefficients far from 0 have larger effect on objective variable.  \n",
    "alpha値を変化させたときのどの説明変数の係数が大きいかを調べる。  \n",
    "alphaを大きくしても係数が0にならない説明変数は目的変数への重要度が大きいと判断できる。  "
   ]
  },
  {
   "cell_type": "code",
   "execution_count": null,
   "metadata": {},
   "outputs": [],
   "source": [
    "alphas = 10 ** np.linspace(-3, 3, num=50)\n",
    "print(alphas)"
   ]
  },
  {
   "cell_type": "markdown",
   "metadata": {},
   "source": [
    "##### Ridge"
   ]
  },
  {
   "cell_type": "code",
   "execution_count": null,
   "metadata": {},
   "outputs": [],
   "source": [
    "ret = []\n",
    "for al in alphas:\n",
    "    r = model.fit_regularized(L1_wt=0.0, alpha=al)\n",
    "    ret.append(r.params)\n",
    "\n",
    "df_ret = pd.DataFrame(ret, columns=dfX_scaled.columns, index=alphas)\n",
    "display(df_ret.head())  # debug\n",
    "df_ret.plot(figsize=(7,7))\n",
    "plt.title('Path plot for Ridge')\n",
    "plt.xlabel('Alpha')\n",
    "plt.ylabel('Coefficients')\n",
    "plt.xscale(\"log\")\n",
    "plt.grid(True)"
   ]
  },
  {
   "cell_type": "markdown",
   "metadata": {},
   "source": [
    "##### LASSO"
   ]
  },
  {
   "cell_type": "code",
   "execution_count": null,
   "metadata": {},
   "outputs": [],
   "source": [
    "ret = []\n",
    "for al in alphas:\n",
    "    r = model.fit_regularized(L1_wt=1.0, alpha=al)\n",
    "    ret.append(r.params)\n",
    "\n",
    "df_ret = pd.DataFrame(ret, columns=dfX_scaled.columns, index=alphas)\n",
    "display(df_ret.head())  # debug\n",
    "df_ret.plot(figsize=(7,7))\n",
    "plt.title('Path plot for LASSO')\n",
    "plt.xlabel('Alpha')\n",
    "plt.ylabel('Coefficients')\n",
    "plt.xscale(\"log\")\n",
    "plt.grid(True)"
   ]
  },
  {
   "cell_type": "markdown",
   "metadata": {},
   "source": [
    "##### Elastic Net"
   ]
  },
  {
   "cell_type": "code",
   "execution_count": null,
   "metadata": {},
   "outputs": [],
   "source": [
    "ret = []\n",
    "for al in alphas:\n",
    "    r = model.fit_regularized(L1_wt=0.5, alpha=al)\n",
    "    ret.append(r.params)\n",
    "\n",
    "df_ret = pd.DataFrame(ret, columns=dfX_scaled.columns, index=alphas)\n",
    "display(df_ret.head())  # debug\n",
    "df_ret.plot(figsize=(7,7))\n",
    "plt.title('Path plot for Elastic Net (L1_wt=0.5)')\n",
    "plt.xlabel('Alpha')\n",
    "plt.ylabel('Coefficients')\n",
    "plt.xscale(\"log\")\n",
    "plt.grid(True)"
   ]
  },
  {
   "cell_type": "code",
   "execution_count": null,
   "metadata": {},
   "outputs": [],
   "source": []
  }
 ],
 "metadata": {
  "kernelspec": {
   "display_name": "Python 3",
   "language": "python",
   "name": "python3"
  },
  "language_info": {
   "codemirror_mode": {
    "name": "ipython",
    "version": 3
   },
   "file_extension": ".py",
   "mimetype": "text/x-python",
   "name": "python",
   "nbconvert_exporter": "python",
   "pygments_lexer": "ipython3",
   "version": "3.8.8"
  }
 },
 "nbformat": 4,
 "nbformat_minor": 4
}
