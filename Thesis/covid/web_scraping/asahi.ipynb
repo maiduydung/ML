{
 "cells": [
  {
   "cell_type": "code",
   "execution_count": 118,
   "source": [
    "# Import Module\r\n",
    "from bs4 import BeautifulSoup\r\n",
    "import requests\r\n",
    "html = requests.get('https://www.asahi.com/ajw/articles/14427323')\r\n",
    "soup = BeautifulSoup(html.text,'html.parser')\r\n",
    "\r\n",
    "\r\n",
    "news_article = soup.find(['div'], class_='ArticleTitle').find('h1')\r\n",
    "news_article = [string for string in news_article.stripped_strings][0]\r\n",
    "\r\n",
    "news_writer = soup.find(['p'], class_='EnArticleName')\r\n",
    "news_writer = [string for string in news_writer.stripped_strings][0]\r\n",
    "\r\n",
    "news_written_date =  soup.find(['p'], class_='EnLastUpdated')\r\n",
    "news_written_date = [string for string in news_written_date.stripped_strings][0]\r\n",
    "\r\n",
    "news_text =  soup.find(['div'], class_='ArticleText')\r\n",
    "news_text = [string for string in news_text.stripped_strings] #multiple elements, each of them is a str\r\n",
    "\r\n",
    "temp = ''\r\n",
    "for i in news_text:\r\n",
    "    temp = temp + \" \" + i\r\n",
    "news_text = temp\r\n",
    "\r\n",
    "\r\n",
    "\r\n",
    "\r\n",
    "\r\n",
    "\r\n",
    "\r\n"
   ],
   "outputs": [],
   "metadata": {}
  },
  {
   "cell_type": "code",
   "execution_count": null,
   "source": [],
   "outputs": [],
   "metadata": {}
  }
 ],
 "metadata": {
  "kernelspec": {
   "name": "python3",
   "display_name": "Python 3.8.5 64-bit ('tf': conda)"
  },
  "language_info": {
   "codemirror_mode": {
    "name": "ipython",
    "version": 3
   },
   "file_extension": ".py",
   "mimetype": "text/x-python",
   "name": "python",
   "nbconvert_exporter": "python",
   "pygments_lexer": "ipython3",
   "version": "3.8.5"
  },
  "interpreter": {
   "hash": "de2e53c54550ee6885339aa429af7d301a27ecab7db6edb4eecbf0ffb12c09f2"
  }
 },
 "nbformat": 4,
 "nbformat_minor": 5
}