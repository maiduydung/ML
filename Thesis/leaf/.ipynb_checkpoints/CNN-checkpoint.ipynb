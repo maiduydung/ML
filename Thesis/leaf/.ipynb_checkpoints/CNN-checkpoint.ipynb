{
 "cells": [
  {
   "cell_type": "code",
   "execution_count": 76,
   "id": "widespread-attachment",
   "metadata": {},
   "outputs": [],
   "source": [
    "import tensorflow as tf\n",
    "\n",
    "from tensorflow.keras import datasets, layers, models\n",
    "import matplotlib.pyplot as plt\n",
    "import PIL\n",
    "import os\n",
    "import re #regex\n",
    "import numpy as np\n",
    "import random"
   ]
  },
  {
   "cell_type": "markdown",
   "id": "polished-armenia",
   "metadata": {},
   "source": [
    "### Converting images to numpy array"
   ]
  },
  {
   "cell_type": "markdown",
   "id": "temporal-parade",
   "metadata": {},
   "source": [
    "img_dict = {}\n",
    "directory ='skulls/'\n",
    "\n",
    "for filename in os.listdir(directory):\n",
    "    if filename.endswith(\".jpg\"): \n",
    "        img = PIL.Image.open(directory+filename)\n",
    "        img_sequence = img.getdata()\n",
    "        img_array = np.array(img_sequence) \n",
    "        img_array = img_array/255 #normalize\n",
    "        #print(img_array.shape)\n",
    "        key = re.sub(r'\\.[^.]*$',\"\",filename)\n",
    "        img_dict[key] = img_array #saving np array to a dictionary"
   ]
  },
  {
   "cell_type": "raw",
   "id": "ancient-republic",
   "metadata": {},
   "source": [
    "directory ='skulls/'\n",
    "size = (255,255)\n",
    "\n",
    "X=[]\n",
    "Y=[]\n",
    "\n",
    "for filename in os.listdir(directory):\n",
    "    if filename.endswith(\".jpg\"):\n",
    "        img = PIL.Image.open(directory+filename)\n",
    "        img = img.convert(\"RGB\")\n",
    "        img = img.resize(size)\n",
    "        data = np.array(img).astype('float32')/255\n",
    "        X.append(data)\n",
    "        label = re.sub(r'\\.[^.]*$',\"\",filename) #removing file extension\n",
    "        Y.append(label)\n",
    "        \n",
    "X = np.array(X)\n",
    "Y = np.array(Y)\n",
    "OneHot_labels = np.array([i for i in range(0,73)])\n",
    "print(X.shape)\n",
    "print(Y.shape)"
   ]
  },
  {
   "cell_type": "code",
   "execution_count": 77,
   "id": "still-receiver",
   "metadata": {},
   "outputs": [],
   "source": [
    "def cutLabel(string):\n",
    "    re = ''\n",
    "    for c in string:\n",
    "        if c not in ['0','1','2','3','4','5','6','7','8','9','_']:\n",
    "            re = re + c\n",
    "    return re"
   ]
  },
  {
   "cell_type": "code",
   "execution_count": 78,
   "id": "bacterial-guest",
   "metadata": {},
   "outputs": [
    {
     "name": "stdout",
     "output_type": "stream",
     "text": [
      "(188, 255, 255, 2)\n",
      "(188,)\n"
     ]
    }
   ],
   "source": [
    "directory = 'pact_pala_samples/'\n",
    "size = (255,255)\n",
    "\n",
    "X=[]\n",
    "Y=[]\n",
    "for filename in os.listdir(directory):\n",
    "    if filename.endswith('.jpg'):\n",
    "        img = PIL.Image.open(directory+filename)\n",
    "        img = img.convert(\"LA\") #greyscale\n",
    "        img = img.resize(size)\n",
    "        data = np.array(img).astype('float32')/255\n",
    "        X.append(data)\n",
    "        label = re.sub(r'\\.[^.]*$',\"\",filename) #removing file extension\n",
    "        label = cutLabel(label) #removing numbers because Im bad at regex\n",
    "        #print(label, filename) #debug\n",
    "        Y.append(label)\n",
    "        \n",
    "X = np.array(X)\n",
    "Y = np.array(Y)\n",
    "#OneHot_labels = np.array([i for i in range(0,73)])\n",
    "\n",
    "\n",
    "print(X.shape)\n",
    "print(Y.shape)"
   ]
  },
  {
   "cell_type": "code",
   "execution_count": 79,
   "id": "super-graham",
   "metadata": {},
   "outputs": [],
   "source": [
    "binLabel = lambda l: 0 if l=='Pact' else 1\n",
    "vfunc = np.vectorize(binLabel) \n",
    "Y = vfunc(Y)"
   ]
  },
  {
   "cell_type": "code",
   "execution_count": 80,
   "id": "pregnant-chance",
   "metadata": {},
   "outputs": [
    {
     "data": {
      "text/plain": [
       "(4, 810066)"
      ]
     },
     "execution_count": 80,
     "metadata": {},
     "output_type": "execute_result"
    }
   ],
   "source": [
    "np.array(np.where (X == 0)).shape"
   ]
  },
  {
   "cell_type": "markdown",
   "id": "square-ecuador",
   "metadata": {},
   "source": [
    "### Setting up CNN"
   ]
  },
  {
   "cell_type": "code",
   "execution_count": 81,
   "id": "found-specialist",
   "metadata": {},
   "outputs": [
    {
     "name": "stdout",
     "output_type": "stream",
     "text": [
      "Model: \"sequential_3\"\n",
      "_________________________________________________________________\n",
      "Layer (type)                 Output Shape              Param #   \n",
      "=================================================================\n",
      "conv2d_9 (Conv2D)            (None, 253, 253, 32)      608       \n",
      "_________________________________________________________________\n",
      "max_pooling2d_6 (MaxPooling2 (None, 126, 126, 32)      0         \n",
      "_________________________________________________________________\n",
      "conv2d_10 (Conv2D)           (None, 124, 124, 64)      18496     \n",
      "_________________________________________________________________\n",
      "max_pooling2d_7 (MaxPooling2 (None, 62, 62, 64)        0         \n",
      "_________________________________________________________________\n",
      "conv2d_11 (Conv2D)           (None, 60, 60, 64)        36928     \n",
      "_________________________________________________________________\n",
      "flatten_3 (Flatten)          (None, 230400)            0         \n",
      "_________________________________________________________________\n",
      "dense_6 (Dense)              (None, 64)                14745664  \n",
      "_________________________________________________________________\n",
      "dense_7 (Dense)              (None, 1)                 65        \n",
      "=================================================================\n",
      "Total params: 14,801,761\n",
      "Trainable params: 14,801,761\n",
      "Non-trainable params: 0\n",
      "_________________________________________________________________\n"
     ]
    }
   ],
   "source": [
    "model = models.Sequential()\n",
    "model.add(layers.Conv2D(32, (3, 3), activation='relu', input_shape=(255, 255, 2)))\n",
    "model.add(layers.MaxPooling2D((2, 2)))\n",
    "model.add(layers.Conv2D(64, (3, 3), activation='relu'))\n",
    "model.add(layers.MaxPooling2D((2, 2)))\n",
    "model.add(layers.Conv2D(64, (3, 3), activation='relu'))\n",
    "\n",
    "model.add(layers.Flatten())\n",
    "model.add(layers.Dense(64, activation='relu'))\n",
    "model.add(layers.Dense(1))\n",
    "\n",
    "model.summary()"
   ]
  },
  {
   "cell_type": "code",
   "execution_count": 83,
   "id": "electric-value",
   "metadata": {},
   "outputs": [
    {
     "name": "stdout",
     "output_type": "stream",
     "text": [
      "Epoch 1/10\n",
      "6/6 [==============================] - 8s 1s/step - loss: 2.7582 - accuracy: 0.5479\n",
      "Epoch 2/10\n",
      "6/6 [==============================] - 8s 1s/step - loss: 0.4335 - accuracy: 0.8298\n",
      "Epoch 3/10\n",
      "6/6 [==============================] - 8s 1s/step - loss: 0.3827 - accuracy: 0.8511\n",
      "Epoch 4/10\n",
      "6/6 [==============================] - 7s 1s/step - loss: 0.3490 - accuracy: 0.8511\n",
      "Epoch 5/10\n",
      "6/6 [==============================] - 8s 1s/step - loss: 0.4100 - accuracy: 0.8351\n",
      "Epoch 6/10\n",
      "6/6 [==============================] - 8s 1s/step - loss: 0.3536 - accuracy: 0.8511\n",
      "Epoch 7/10\n",
      "6/6 [==============================] - 7s 1s/step - loss: 0.3233 - accuracy: 0.8670\n",
      "Epoch 8/10\n",
      "6/6 [==============================] - 8s 1s/step - loss: 0.3239 - accuracy: 0.8617\n",
      "Epoch 9/10\n",
      "6/6 [==============================] - 7s 1s/step - loss: 0.3169 - accuracy: 0.8670\n",
      "Epoch 10/10\n",
      "6/6 [==============================] - 8s 1s/step - loss: 0.2949 - accuracy: 0.8723\n"
     ]
    }
   ],
   "source": [
    "model.compile(optimizer='adam',\n",
    "              loss=tf.keras.losses.BinaryCrossentropy(from_logits=True),\n",
    "              metrics=['accuracy'])\n",
    "\n",
    "history = model.fit(X, Y, epochs=10)"
   ]
  },
  {
   "cell_type": "markdown",
   "id": "designing-reward",
   "metadata": {},
   "source": [
    "### Trying to avoid overfit by training with low epoch"
   ]
  },
  {
   "cell_type": "code",
   "execution_count": 84,
   "id": "noticed-legend",
   "metadata": {},
   "outputs": [
    {
     "data": {
      "text/plain": [
       "<matplotlib.legend.Legend at 0x26a42e86820>"
      ]
     },
     "execution_count": 84,
     "metadata": {},
     "output_type": "execute_result"
    },
    {
     "data": {
      "image/png": "[encoded data removed]",
      "text/plain": [
       "<Figure size 432x288 with 1 Axes>"
      ]
     },
     "metadata": {
      "needs_background": "light"
     },
     "output_type": "display_data"
    }
   ],
   "source": [
    "plt.plot(history.history['accuracy'], label='accuracy')\n",
    "plt.xlabel('Epoch')\n",
    "plt.ylabel('Accuracy')\n",
    "plt.legend(loc='lower right')"
   ]
  },
  {
   "cell_type": "code",
   "execution_count": null,
   "id": "proud-strap",
   "metadata": {},
   "outputs": [],
   "source": []
  },
  {
   "cell_type": "code",
   "execution_count": null,
   "id": "indirect-campbell",
   "metadata": {},
   "outputs": [],
   "source": []
  }
 ],
 "metadata": {
  "kernelspec": {
   "display_name": "Python 3",
   "language": "python",
   "name": "python3"
  },
  "language_info": {
   "codemirror_mode": {
    "name": "ipython",
    "version": 3
   },
   "file_extension": ".py",
   "mimetype": "text/x-python",
   "name": "python",
   "nbconvert_exporter": "python",
   "pygments_lexer": "ipython3",
   "version": "3.8.5"
  }
 },
 "nbformat": 4,
 "nbformat_minor": 5
}
