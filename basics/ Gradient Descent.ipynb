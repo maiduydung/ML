{
 "cells": [
  {
   "cell_type": "code",
   "execution_count": 4,
   "metadata": {
    "tags": []
   },
   "outputs": [
    {
     "output_type": "stream",
     "name": "stdout",
     "text": "Error  0.30250000000000005 Prediction  0.25\nError  0.17015625000000004 Prediction  0.3875\nError  0.095712890625 Prediction  0.49062500000000003\nError  0.05383850097656251 Prediction  0.56796875\nError  0.03028415679931642 Prediction  0.6259765625\nError  0.0170348381996155 Prediction  0.669482421875\nError  0.00958209648728372 Prediction  0.70211181640625\nError  0.005389929274097089 Prediction  0.7265838623046875\nError  0.0030318352166796153 Prediction  0.7449378967285156\nError  0.0017054073093822882 Prediction  0.7587034225463867\nError  0.0009592916115275371 Prediction  0.76902756690979\nError  0.0005396015314842384 Prediction  0.7767706751823426\nError  0.000303525861459885 Prediction  0.7825780063867569\nError  0.00017073329707118678 Prediction  0.7869335047900676\nError  9.603747960254256e-05 Prediction  0.7902001285925507\nError  5.402108227642978e-05 Prediction  0.7926500964444131\nError  3.038685878049206e-05 Prediction  0.7944875723333098\nError  1.7092608064027242e-05 Prediction  0.7958656792499823\nError  9.614592036015323e-06 Prediction  0.7968992594374867\nError  5.408208020258491e-06 Prediction  0.7976744445781151\n"
    }
   ],
   "source": [
    "weight = 0.5\n",
    "goal = 0.8\n",
    "input = 0.5\n",
    "\n",
    "for i in range(20):\n",
    "    pred = input * weight\n",
    "    error = (pred - goal)**2\n",
    "    direction_and_amount = (pred - goal) * input\n",
    "    weight = weight - direction_and_amount\n",
    "    print(\"Error \", error, \"Prediction \", pred)"
   ]
  },
  {
   "cell_type": "code",
   "execution_count": null,
   "metadata": {},
   "outputs": [],
   "source": []
  }
 ],
 "metadata": {
  "kernelspec": {
   "name": "python_defaultSpec_1599651683177",
   "display_name": "Python 3.8.2 32-bit"
  }
 },
 "nbformat": 4,
 "nbformat_minor": 4
}