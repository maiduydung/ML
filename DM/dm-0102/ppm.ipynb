{
 "cells": [
  {
   "cell_type": "markdown",
   "metadata": {},
   "source": [
    "### Product Portfolio Management (PPM) analysis and Bubble chart   "
   ]
  },
  {
   "cell_type": "markdown",
   "metadata": {},
   "source": [
    "### Import libraries"
   ]
  },
  {
   "cell_type": "code",
   "execution_count": null,
   "metadata": {},
   "outputs": [],
   "source": [
    "import numpy as np\n",
    "import pandas as pd\n",
    "import matplotlib.pyplot as plt"
   ]
  },
  {
   "cell_type": "markdown",
   "metadata": {},
   "source": [
    "### Parameters"
   ]
  },
  {
   "cell_type": "code",
   "execution_count": null,
   "metadata": {},
   "outputs": [],
   "source": [
    "%config InlineBackend.figure_formats = {'png', 'retina'}  # for high-reso graph\n",
    "plt.rcParams['font.family'] = 'Yu Mincho' # for Japanese in graph (Win10)\n",
    "\n",
    "csv_in = 'ppm.csv'"
   ]
  },
  {
   "cell_type": "markdown",
   "metadata": {},
   "source": [
    "### Read CSV file"
   ]
  },
  {
   "cell_type": "code",
   "execution_count": null,
   "metadata": {},
   "outputs": [],
   "source": [
    "df = pd.read_csv(csv_in, delimiter=',', skiprows=3, header=0)\n",
    "print(df.shape)\n",
    "print(df.info())\n",
    "display(df.head())"
   ]
  },
  {
   "cell_type": "markdown",
   "metadata": {},
   "source": [
    "### Calculation of relative share  \n",
    "相対シェアの計算  "
   ]
  },
  {
   "cell_type": "code",
   "execution_count": null,
   "metadata": {},
   "outputs": [],
   "source": [
    "df['relative_share'] = df['Share(%)'] / df['Top/2nd_Share(%)']"
   ]
  },
  {
   "cell_type": "markdown",
   "metadata": {},
   "source": [
    "### Calculation of relative sales  \n",
    "相対売上高の計算  "
   ]
  },
  {
   "cell_type": "code",
   "execution_count": null,
   "metadata": {},
   "outputs": [],
   "source": [
    "df['relative_sales'] = df['Sales(BY)'] / df['Sales(BY)'].max()"
   ]
  },
  {
   "cell_type": "markdown",
   "metadata": {},
   "source": [
    "### Calculation of radius  \n",
    "Determine the radius so that the area ratio of the circle matches the relative sales.    \n",
    "(i.e., the square root of relative sales is the radius of the circle.)  \n",
    "円の面積比が相対売上高と一致するように半径を決める  \n",
    "(つまり相対売上高の平方根を円の半径とする)  "
   ]
  },
  {
   "cell_type": "code",
   "execution_count": null,
   "metadata": {},
   "outputs": [],
   "source": [
    "df['radius'] = np.sqrt(df['relative_sales']) * 2000.0"
   ]
  },
  {
   "cell_type": "markdown",
   "metadata": {},
   "source": [
    "### Bubble chart  "
   ]
  },
  {
   "cell_type": "code",
   "execution_count": null,
   "metadata": {},
   "outputs": [],
   "source": [
    "plt.scatter(df['relative_share'], df['Growth_Ratio(%)'], s=df['radius'], alpha=0.5)\n",
    "plt.xlabel('Relative share (log scale)')\n",
    "plt.ylabel('Growth Rate (%)')\n",
    "plt.xscale('log')\n",
    "(xmin,xmax,ymin,ymax) = plt.axis()\n",
    "plt.xlim(xmax, xmin)\n",
    "plt.ylim(ymin, ymax)\n",
    "plt.hlines([5], xmin, xmax, linestyle='dashed')\n",
    "plt.vlines([1], ymin, ymax, linestyle='dashed')\n",
    "plt.show()"
   ]
  },
  {
   "cell_type": "code",
   "execution_count": null,
   "metadata": {},
   "outputs": [],
   "source": []
  }
 ],
 "metadata": {
  "kernelspec": {
   "display_name": "Python 3",
   "language": "python",
   "name": "python3"
  },
  "language_info": {
   "codemirror_mode": {
    "name": "ipython",
    "version": 3
   },
   "file_extension": ".py",
   "mimetype": "text/x-python",
   "name": "python",
   "nbconvert_exporter": "python",
   "pygments_lexer": "ipython3",
   "version": "3.8.8"
  }
 },
 "nbformat": 4,
 "nbformat_minor": 4
}
