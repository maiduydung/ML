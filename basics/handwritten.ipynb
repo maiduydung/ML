{
 "cells": [
  {
   "cell_type": "code",
   "execution_count": 1,
   "metadata": {},
   "outputs": [],
   "source": [
    "import random\n",
    "import numpy as np"
   ]
  },
  {
   "cell_type": "code",
   "execution_count": 12,
   "metadata": {},
   "outputs": [],
   "source": [
    "class Network(object):\n",
    "    def __init__(self, sizes):\n",
    "        self.num_layers = len(sizes)\n",
    "        #only nodes from the 2nd layer onwards have bias\n",
    "        self.biases = [np.random.randn(y, 1) for y in sizes[1:]] #shape = y, 1\n",
    "        self.weight = [np.random.randn(y, x) for x, y in zip(sizes[:-1], sizes[1:])]"
   ]
  },
  {
   "cell_type": "code",
   "execution_count": 13,
   "metadata": {},
   "outputs": [],
   "source": [
    "sizes = [1,10,10]\n",
    "biases = [np.random.randn(y, 1) for y in sizes[1:]]\n",
    "weight = [np.random.randn(y, x) for x, y in zip(sizes[:-1], sizes[1:])]"
   ]
  },
  {
   "cell_type": "code",
   "execution_count": 7,
   "metadata": {},
   "outputs": [
    {
     "data": {
      "text/plain": [
       "[array([[-1.51811996],\n",
       "        [ 1.16166796],\n",
       "        [ 1.90220955],\n",
       "        [ 1.65001274],\n",
       "        [ 0.55045233],\n",
       "        [ 0.61255911],\n",
       "        [ 0.37093808],\n",
       "        [-0.03604029],\n",
       "        [-0.19685014],\n",
       "        [ 0.08626326]]),\n",
       " array([[-0.77153566],\n",
       "        [ 0.20913956],\n",
       "        [ 0.78477565],\n",
       "        [-0.33208731],\n",
       "        [-1.54686116],\n",
       "        [-0.95789655],\n",
       "        [ 0.01892959],\n",
       "        [ 1.39076816],\n",
       "        [-0.52098963],\n",
       "        [-1.67037627]])]"
      ]
     },
     "execution_count": 7,
     "metadata": {},
     "output_type": "execute_result"
    }
   ],
   "source": [
    "biases"
   ]
  },
  {
   "cell_type": "code",
   "execution_count": 14,
   "metadata": {},
   "outputs": [
    {
     "data": {
      "text/plain": [
       "[array([[-0.95902318],\n",
       "        [ 0.5141476 ],\n",
       "        [-0.6381729 ],\n",
       "        [-0.73423396],\n",
       "        [-1.36480887],\n",
       "        [ 1.98054419],\n",
       "        [-0.25103391],\n",
       "        [-0.06848296],\n",
       "        [-1.60948267],\n",
       "        [ 0.12081303]]),\n",
       " array([[ 1.08361393e-01,  1.91588727e+00,  4.57316528e-01,\n",
       "          9.34408434e-01,  4.79655548e-01,  1.23648412e+00,\n",
       "          6.87328759e-01,  1.75164083e+00, -1.57134414e+00,\n",
       "         -9.08885271e-01],\n",
       "        [-2.97988766e-01, -2.02077579e-01,  2.39410155e-01,\n",
       "          3.50213183e-01, -1.16856943e+00,  1.20592715e+00,\n",
       "          1.78799126e-01,  1.49634855e+00,  1.64394889e+00,\n",
       "         -3.81095071e-01],\n",
       "        [ 1.06929405e+00, -1.14131749e+00,  2.13470228e+00,\n",
       "         -5.15455968e-02, -6.74927247e-02,  1.51931333e+00,\n",
       "          2.73800499e-01, -9.72837177e-01,  1.47148050e+00,\n",
       "         -5.36117042e-01],\n",
       "        [-2.39457616e-01, -1.27333493e-01, -7.17320263e-01,\n",
       "         -1.35632224e+00,  1.23298064e+00,  1.25431701e+00,\n",
       "         -5.33584030e-01,  1.25104009e+00, -1.40642314e+00,\n",
       "         -5.17543398e-01],\n",
       "        [ 3.15742179e-01,  1.04904882e+00, -5.13843077e-01,\n",
       "          8.64907518e-01,  6.14683543e-01, -1.03659086e+00,\n",
       "         -1.35183707e+00, -1.12683826e+00, -8.56359453e-01,\n",
       "          9.25617199e-01],\n",
       "        [-1.14667792e-01,  5.61401956e-01,  2.30359098e-01,\n",
       "          1.85518052e-03, -1.90949292e+00,  7.97204509e-01,\n",
       "          2.83745425e-01, -1.06997886e+00,  1.39304986e+00,\n",
       "         -8.80434631e-01],\n",
       "        [-9.70717634e-01, -3.30057132e-02, -2.41019573e+00,\n",
       "          6.99146758e-01,  1.21101672e+00,  3.44477521e-01,\n",
       "          1.65452075e+00,  1.38937573e+00,  5.05946435e-01,\n",
       "          2.18058358e+00],\n",
       "        [ 1.52988545e-01, -8.59218170e-01,  8.33044389e-01,\n",
       "         -2.79425020e-01, -6.75106655e-01, -2.88053172e-01,\n",
       "         -3.77462984e-01, -3.86453735e-01, -1.06853064e+00,\n",
       "          1.96490114e+00],\n",
       "        [-7.40153239e-01, -1.29917324e+00, -9.57302177e-03,\n",
       "          2.58120165e-01, -7.36056979e-01,  4.74604949e-01,\n",
       "          2.72827918e-01, -1.16214114e+00,  2.85692713e-01,\n",
       "         -9.06568756e-01],\n",
       "        [-7.15069023e-01,  1.20683302e+00,  8.47228071e-01,\n",
       "          1.90589963e-01,  8.57895705e-02,  3.30820564e-01,\n",
       "          1.57597710e-01,  1.20184231e+00,  1.59873886e+00,\n",
       "         -9.16743158e-01]])]"
      ]
     },
     "execution_count": 14,
     "metadata": {},
     "output_type": "execute_result"
    }
   ],
   "source": [
    "weight"
   ]
  },
  {
   "cell_type": "code",
   "execution_count": 10,
   "metadata": {},
   "outputs": [],
   "source": [
    "sizes = [5, 12, 18, 23, 42]"
   ]
  },
  {
   "cell_type": "code",
   "execution_count": 11,
   "metadata": {},
   "outputs": [
    {
     "data": {
      "text/plain": [
       "42"
      ]
     },
     "execution_count": 11,
     "metadata": {},
     "output_type": "execute_result"
    }
   ],
   "source": [
    "sizes[-1]"
   ]
  },
  {
   "cell_type": "code",
   "execution_count": null,
   "metadata": {},
   "outputs": [],
   "source": []
  }
 ],
 "metadata": {
  "kernelspec": {
   "display_name": "Python 3",
   "language": "python",
   "name": "python3"
  },
  "language_info": {
   "codemirror_mode": {
    "name": "ipython",
    "version": 3
   },
   "file_extension": ".py",
   "mimetype": "text/x-python",
   "name": "python",
   "nbconvert_exporter": "python",
   "pygments_lexer": "ipython3",
   "version": "3.6.10"
  }
 },
 "nbformat": 4,
 "nbformat_minor": 4
}
