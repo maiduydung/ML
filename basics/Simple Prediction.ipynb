{
 "cells": [
  {
   "cell_type": "code",
   "execution_count": 5,
   "metadata": {},
   "outputs": [],
   "source": [
    "#predicting with multiple data points\n",
    "\n",
    "# 2 layers\n",
    "# 3 nodes at the 1st\n",
    "# 1 at the last\n",
    "\n",
    "w = [0.1, 0.2, 0]\n",
    "\n",
    "def w_sum(a, b):\n",
    "    output = 0\n",
    "    assert len(a) == len (b)\n",
    "    for i in range(len(a)):\n",
    "        output = output + a[i] * b[i]\n",
    "    return output\n",
    "\n",
    "def neural_network(intput, weights):\n",
    "    pred = w_sum(input, weights)\n",
    "    return pred"
   ]
  },
  {
   "cell_type": "code",
   "execution_count": 6,
   "metadata": {},
   "outputs": [],
   "source": [
    "players = [8.5, 9.5, 9.9, 9.0] \n",
    "wl_record = [0.65, 0.8, 0.8, 0.9]\n",
    "nfans = [1.2, 1.3, 0.5, 1.0] \n",
    "\n",
    "input = [players[0], wl_record[0], nfans[0]]\n",
    "pred = neural_network(input, w)"
   ]
  },
  {
   "cell_type": "code",
   "execution_count": 7,
   "metadata": {},
   "outputs": [
    {
     "data": {
      "text/plain": [
       "0.9800000000000001"
      ]
     },
     "execution_count": 7,
     "metadata": {},
     "output_type": "execute_result"
    }
   ],
   "source": [
    "pred\n",
    "# 8.5*0.1 + 0.65*0.2 + 0*1.2\n"
   ]
  },
  {
   "cell_type": "code",
   "execution_count": null,
   "metadata": {},
   "outputs": [],
   "source": []
  }
 ],
 "metadata": {
  "kernelspec": {
   "display_name": "Python 3",
   "language": "python",
   "name": "python3"
  },
  "language_info": {
   "codemirror_mode": {
    "name": "ipython",
    "version": 3
   },
   "file_extension": ".py",
   "mimetype": "text/x-python",
   "name": "python",
   "nbconvert_exporter": "python",
   "pygments_lexer": "ipython3",
   "version": "3.6.10"
  }
 },
 "nbformat": 4,
 "nbformat_minor": 4
}
