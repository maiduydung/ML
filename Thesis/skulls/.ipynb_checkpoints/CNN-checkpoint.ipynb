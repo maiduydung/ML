{
 "cells": [
  {
   "cell_type": "code",
   "execution_count": 90,
   "id": "alone-liver",
   "metadata": {},
   "outputs": [],
   "source": [
    "import tensorflow as tf\n",
    "\n",
    "from tensorflow.keras import datasets, layers, models\n",
    "import matplotlib.pyplot as plt\n",
    "import PIL\n",
    "import os\n",
    "import re #regex\n",
    "import numpy as np\n",
    "import random"
   ]
  },
  {
   "cell_type": "markdown",
   "id": "formal-adelaide",
   "metadata": {},
   "source": [
    "### Converting images to numpy array"
   ]
  },
  {
   "cell_type": "markdown",
   "id": "arranged-influence",
   "metadata": {},
   "source": [
    "img_dict = {}\n",
    "directory ='skulls/'\n",
    "\n",
    "for filename in os.listdir(directory):\n",
    "    if filename.endswith(\".jpg\"): \n",
    "        img = PIL.Image.open(directory+filename)\n",
    "        img_sequence = img.getdata()\n",
    "        img_array = np.array(img_sequence) \n",
    "        img_array = img_array/255 #normalize\n",
    "        #print(img_array.shape)\n",
    "        key = re.sub(r'\\.[^.]*$',\"\",filename)\n",
    "        img_dict[key] = img_array #saving np array to a dictionary"
   ]
  },
  {
   "cell_type": "code",
   "execution_count": null,
   "id": "seeing-pencil",
   "metadata": {},
   "outputs": [],
   "source": [
    "\n"
   ]
  },
  {
   "cell_type": "code",
   "execution_count": 164,
   "id": "lucky-injury",
   "metadata": {},
   "outputs": [
    {
     "name": "stdout",
     "output_type": "stream",
     "text": [
      "(73, 255, 255, 3)\n",
      "(73,)\n"
     ]
    }
   ],
   "source": [
    "directory ='skulls/'\n",
    "size = (255,255)\n",
    "\n",
    "X=[]\n",
    "Y=[]\n",
    "\n",
    "for filename in os.listdir(directory):\n",
    "    if filename.endswith(\".jpg\"):\n",
    "        img = PIL.Image.open(directory+filename)\n",
    "        img = img.convert(\"RGB\")\n",
    "        img = img.resize(size)\n",
    "        data = np.array(img).astype('float32')/255\n",
    "        X.append(data)\n",
    "        label = re.sub(r'\\.[^.]*$',\"\",filename) #removing file extension\n",
    "        Y.append(label)\n",
    "        \n",
    "X = np.array(X)\n",
    "Y = np.array(Y)\n",
    "OneHot_labels = np.array([i for i in range(0,73)])\n",
    "print(X.shape)\n",
    "print(Y.shape)"
   ]
  },
  {
   "cell_type": "code",
   "execution_count": 165,
   "id": "seven-logistics",
   "metadata": {},
   "outputs": [
    {
     "data": {
      "text/plain": [
       "array([ 0,  1,  2,  3,  4,  5,  6,  7,  8,  9, 10, 11, 12, 13, 14, 15, 16,\n",
       "       17, 18, 19, 20, 21, 22, 23, 24, 25, 26, 27, 28, 29, 30, 31, 32, 33,\n",
       "       34, 35, 36, 37, 38, 39, 40, 41, 42, 43, 44, 45, 46, 47, 48, 49, 50,\n",
       "       51, 52, 53, 54, 55, 56, 57, 58, 59, 60, 61, 62, 63, 64, 65, 66, 67,\n",
       "       68, 69, 70, 71, 72])"
      ]
     },
     "execution_count": 165,
     "metadata": {},
     "output_type": "execute_result"
    }
   ],
   "source": [
    "OneHot_labels"
   ]
  },
  {
   "cell_type": "markdown",
   "id": "square-residence",
   "metadata": {},
   "source": [
    "### Setting up CNN"
   ]
  },
  {
   "cell_type": "code",
   "execution_count": 166,
   "id": "social-farmer",
   "metadata": {},
   "outputs": [
    {
     "name": "stdout",
     "output_type": "stream",
     "text": [
      "Model: \"sequential_15\"\n",
      "_________________________________________________________________\n",
      "Layer (type)                 Output Shape              Param #   \n",
      "=================================================================\n",
      "conv2d_39 (Conv2D)           (None, 253, 253, 32)      896       \n",
      "_________________________________________________________________\n",
      "max_pooling2d_26 (MaxPooling (None, 126, 126, 32)      0         \n",
      "_________________________________________________________________\n",
      "conv2d_40 (Conv2D)           (None, 124, 124, 64)      18496     \n",
      "_________________________________________________________________\n",
      "max_pooling2d_27 (MaxPooling (None, 62, 62, 64)        0         \n",
      "_________________________________________________________________\n",
      "conv2d_41 (Conv2D)           (None, 60, 60, 64)        36928     \n",
      "_________________________________________________________________\n",
      "flatten_10 (Flatten)         (None, 230400)            0         \n",
      "_________________________________________________________________\n",
      "dense_20 (Dense)             (None, 64)                14745664  \n",
      "_________________________________________________________________\n",
      "dense_21 (Dense)             (None, 73)                4745      \n",
      "=================================================================\n",
      "Total params: 14,806,729\n",
      "Trainable params: 14,806,729\n",
      "Non-trainable params: 0\n",
      "_________________________________________________________________\n"
     ]
    }
   ],
   "source": [
    "model = models.Sequential()\n",
    "model.add(layers.Conv2D(32, (3, 3), activation='relu', input_shape=(255, 255, 3)))\n",
    "model.add(layers.MaxPooling2D((2, 2)))\n",
    "model.add(layers.Conv2D(64, (3, 3), activation='relu'))\n",
    "model.add(layers.MaxPooling2D((2, 2)))\n",
    "model.add(layers.Conv2D(64, (3, 3), activation='relu'))\n",
    "\n",
    "model.add(layers.Flatten())\n",
    "model.add(layers.Dense(64, activation='relu'))\n",
    "model.add(layers.Dense(73)) #73 classes\n",
    "\n",
    "model.summary()"
   ]
  },
  {
   "cell_type": "code",
   "execution_count": 167,
   "id": "acute-listening",
   "metadata": {},
   "outputs": [
    {
     "name": "stdout",
     "output_type": "stream",
     "text": [
      "Epoch 1/10\n",
      "3/3 [==============================] - 2s 797ms/step - loss: 6.5011 - accuracy: 0.0274\n",
      "Epoch 2/10\n",
      "3/3 [==============================] - 3s 867ms/step - loss: 4.2849 - accuracy: 0.0274\n",
      "Epoch 3/10\n",
      "3/3 [==============================] - 2s 738ms/step - loss: 4.2737 - accuracy: 0.0274\n",
      "Epoch 4/10\n",
      "3/3 [==============================] - 2s 753ms/step - loss: 4.2437 - accuracy: 0.0274\n",
      "Epoch 5/10\n",
      "3/3 [==============================] - 2s 751ms/step - loss: 4.2093 - accuracy: 0.0548\n",
      "Epoch 6/10\n",
      "3/3 [==============================] - 2s 783ms/step - loss: 4.1189 - accuracy: 0.0411\n",
      "Epoch 7/10\n",
      "3/3 [==============================] - 2s 736ms/step - loss: 4.0225 - accuracy: 0.1233\n",
      "Epoch 8/10\n",
      "3/3 [==============================] - 2s 740ms/step - loss: 3.8751 - accuracy: 0.0685\n",
      "Epoch 9/10\n",
      "3/3 [==============================] - 2s 716ms/step - loss: 3.6285 - accuracy: 0.2329\n",
      "Epoch 10/10\n",
      "3/3 [==============================] - 2s 820ms/step - loss: 3.4384 - accuracy: 0.2466\n"
     ]
    }
   ],
   "source": [
    "model.compile(optimizer='adam',\n",
    "              loss=tf.keras.losses.SparseCategoricalCrossentropy(from_logits=True),\n",
    "              metrics=['accuracy'])\n",
    "\n",
    "history = model.fit(X, OneHot_labels, epochs=10)"
   ]
  },
  {
   "cell_type": "markdown",
   "id": "elegant-revision",
   "metadata": {},
   "source": [
    "### Extremely poor accuracy "
   ]
  },
  {
   "cell_type": "code",
   "execution_count": null,
   "id": "decimal-dialogue",
   "metadata": {},
   "outputs": [],
   "source": []
  }
 ],
 "metadata": {
  "kernelspec": {
   "display_name": "Python 3",
   "language": "python",
   "name": "python3"
  },
  "language_info": {
   "codemirror_mode": {
    "name": "ipython",
    "version": 3
   },
   "file_extension": ".py",
   "mimetype": "text/x-python",
   "name": "python",
   "nbconvert_exporter": "python",
   "pygments_lexer": "ipython3",
   "version": "3.8.5"
  }
 },
 "nbformat": 4,
 "nbformat_minor": 5
}
