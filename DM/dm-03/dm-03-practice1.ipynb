{
 "cells": [
  {
   "cell_type": "markdown",
   "metadata": {},
   "source": [
    "### DM-03 Practice 1  "
   ]
  },
  {
   "cell_type": "code",
   "execution_count": null,
   "metadata": {},
   "outputs": [],
   "source": [
    "import numpy as np\n",
    "import pandas as pd\n",
    "import scipy.stats as ss"
   ]
  },
  {
   "cell_type": "markdown",
   "metadata": {},
   "source": [
    "**1.**"
   ]
  },
  {
   "cell_type": "code",
   "execution_count": null,
   "metadata": {},
   "outputs": [],
   "source": [
    "csv_in = 'dm-03-practice1-1.csv'\n",
    "df1 = pd.read_csv(csv_in, delimiter=',', skiprows=0, header=0)\n",
    "print(df1.shape)\n",
    "print(df1.info())\n",
    "display(df1.head())"
   ]
  },
  {
   "cell_type": "code",
   "execution_count": null,
   "metadata": {},
   "outputs": [],
   "source": [
    "df1_A = df1[ df1['Strategy'] == 'A' ]\n",
    "df1_B = df1[ df1['Strategy'] == 'B' ]\n",
    "print(df1_A['Score'].mean(), df1_B['Score'].mean())\n",
    "t, p = ss.ttest_ind(df1_A['Score'], df1_B['Score'], equal_var=False)\n",
    "print(t, p/2)"
   ]
  },
  {
   "cell_type": "markdown",
   "metadata": {},
   "source": [
    "**(Conclusion): t < 0 (i.e. average of A < average of B) and p/2 < 0.05, so population mean of B is significantly better than that of A. Strategy B is significantly better than strategy A.  \n",
    "(結論): t < 0 (つまり Aの母平均 < Bの母平均) かつ p/2 < 0.05 なので、Bの母平均はAの母平均よりも有意に高い。よって「新戦法Bは有意に有効」といえる。**"
   ]
  },
  {
   "cell_type": "markdown",
   "metadata": {},
   "source": [
    "**2.**"
   ]
  },
  {
   "cell_type": "code",
   "execution_count": null,
   "metadata": {},
   "outputs": [],
   "source": [
    "csv_in = 'dm-03-practice1-2.csv'\n",
    "df2 = pd.read_csv(csv_in, delimiter=',', skiprows=0, header=0)\n",
    "print(df2.shape)\n",
    "print(df2.info())\n",
    "display(df2.head())"
   ]
  },
  {
   "cell_type": "code",
   "execution_count": null,
   "metadata": {},
   "outputs": [],
   "source": [
    "df2_A = df2[ df2['Strategy'] == 'A' ]\n",
    "df2_B = df2[ df2['Strategy'] == 'B' ]\n",
    "print(df2_A['Score'].mean(), df2_B['Score'].mean())\n",
    "t, p = ss.ttest_ind(df2_A['Score'], df2_B['Score'], equal_var=False)\n",
    "print(t, p)"
   ]
  },
  {
   "cell_type": "markdown",
   "metadata": {},
   "source": [
    "**(Conclusion): p > 0.05, so there is no evidence that the population means of A, B are significantly different, i.e., there is no evidence that the effects of A and B are different.  \n",
    "(結論): p > 0.05 なので、A, Bの母平均は有意に異なるとはいえない。よって「戦法A, Bの効果は有意に異なる」といえない。**"
   ]
  },
  {
   "cell_type": "markdown",
   "metadata": {},
   "source": [
    "**3.**  "
   ]
  },
  {
   "cell_type": "code",
   "execution_count": null,
   "metadata": {},
   "outputs": [],
   "source": [
    "csv_in = 'dm-03-practice1-3.csv'\n",
    "df3 = pd.read_csv(csv_in, delimiter=',', skiprows=0, header=0)\n",
    "print(df3.shape)\n",
    "print(df3.info())\n",
    "display(df3.head())"
   ]
  },
  {
   "cell_type": "code",
   "execution_count": null,
   "metadata": {},
   "outputs": [],
   "source": [
    "print((df3['ScoreA']-df3['ScoreB']).mean())\n",
    "t, p = ss.ttest_1samp(df3['ScoreA']-df3['ScoreB'], 0.0)\n",
    "print(t, p/2)"
   ]
  },
  {
   "cell_type": "markdown",
   "metadata": {},
   "source": [
    "**(Conclusion): p/2 > 0.05, so there is no evidence that the population means of A-B are significantly positive, i.e., there is no evidence that A is significantly better than B.  \n",
    "(結論): p/2 > 0.05 なので、A-Bの母平均は有意に0より大であるとはいえない。よって「戦法Aは戦法Bよりも有意によい」といえない。**"
   ]
  },
  {
   "cell_type": "markdown",
   "metadata": {},
   "source": [
    "**4.**  "
   ]
  },
  {
   "cell_type": "code",
   "execution_count": null,
   "metadata": {},
   "outputs": [],
   "source": [
    "csv_in = 'dm-03-practice1-4.csv'\n",
    "df4 = pd.read_csv(csv_in, delimiter=',', skiprows=0, header=0)\n",
    "print(df4.shape)\n",
    "print(df4.info())\n",
    "display(df4.head())"
   ]
  },
  {
   "cell_type": "code",
   "execution_count": null,
   "metadata": {},
   "outputs": [],
   "source": [
    "t, p = ss.ttest_1samp(df4['Weight'], 150.0)\n",
    "print(t, p)"
   ]
  },
  {
   "cell_type": "markdown",
   "metadata": {},
   "source": [
    "**(Conclusion) p > 0.05, so there is no evidence that the population mean of the weight is significantly different from 150g.  \n",
    "(結論) p > 0.05なので、重さの母平均は「有意に150gでない」とはいえない。**  "
   ]
  },
  {
   "cell_type": "markdown",
   "metadata": {},
   "source": [
    "**5.**  "
   ]
  },
  {
   "cell_type": "code",
   "execution_count": null,
   "metadata": {},
   "outputs": [],
   "source": [
    "csv_in = 'dm-03-practice1-5.csv'\n",
    "df5 = pd.read_csv(csv_in, delimiter=',', skiprows=0, header=0)\n",
    "print(df5.shape)\n",
    "print(df5.info())\n",
    "display(df5.head())"
   ]
  },
  {
   "cell_type": "code",
   "execution_count": null,
   "metadata": {},
   "outputs": [],
   "source": [
    "cross_tab = pd.crosstab(df5['Generation'], df5['Favorite'])\n",
    "display(cross_tab)"
   ]
  },
  {
   "cell_type": "code",
   "execution_count": null,
   "metadata": {},
   "outputs": [],
   "source": [
    "chi2, p, dof, expected = ss.chi2_contingency(cross_tab)\n",
    "print(chi2, p, dof)\n",
    "print(expected)"
   ]
  },
  {
   "cell_type": "markdown",
   "metadata": {},
   "source": [
    "**(Conclusion) p > 0.05, so there is no evidence that \"Generation\" and \"Favorite (design)\" are significantly related.  \n",
    "(結論) p > 0.05なので、「世代」と「好きなデザイン」は有意に関連しているとはいえない。**"
   ]
  },
  {
   "cell_type": "code",
   "execution_count": null,
   "metadata": {},
   "outputs": [],
   "source": []
  }
 ],
 "metadata": {
  "kernelspec": {
   "display_name": "Python 3",
   "language": "python",
   "name": "python3"
  },
  "language_info": {
   "codemirror_mode": {
    "name": "ipython",
    "version": 3
   },
   "file_extension": ".py",
   "mimetype": "text/x-python",
   "name": "python",
   "nbconvert_exporter": "python",
   "pygments_lexer": "ipython3",
   "version": "3.8.8"
  }
 },
 "nbformat": 4,
 "nbformat_minor": 4
}
