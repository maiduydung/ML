{
 "cells": [
  {
   "cell_type": "code",
   "execution_count": 12,
   "id": "6ae4abf9-42f3-4e3d-a3b6-43e2b82302c9",
   "metadata": {
    "tags": []
   },
   "outputs": [],
   "source": [
    "import torch\n",
    "from torch import nn\n",
    "from torch.utils.data import DataLoader\n",
    "from torchvision import datasets\n",
    "from torchvision.transforms import ToTensor\n",
    "from sklearn.metrics import confusion_matrix"
   ]
  },
  {
   "cell_type": "code",
   "execution_count": 2,
   "id": "3645f8bc-efd6-4813-b423-19a23ee3b007",
   "metadata": {
    "tags": []
   },
   "outputs": [],
   "source": [
    "BATCH_SIZE=128\n",
    "device = 'cpu'\n",
    "EPOCHS = 10\n",
    "LEARNING_RATE = 0.001\n",
    "\n",
    "def download_mnist_datasets():\n",
    "    train_data = datasets.MNIST(root='data', download=True, train=True, transform=ToTensor())\n",
    "    validation_data = datasets.MNIST(root='data', download=True, train=False, transform=ToTensor())\n",
    "    return train_data, validation_data"
   ]
  },
  {
   "cell_type": "code",
   "execution_count": 3,
   "id": "f5145d5a-24f8-4d11-a24c-c5540e0a2a2a",
   "metadata": {
    "tags": []
   },
   "outputs": [],
   "source": [
    "class_mapping = ['0','1','2','3','4','5','6','7','8','9']"
   ]
  },
  {
   "cell_type": "code",
   "execution_count": 4,
   "id": "16bd1dc8-4b77-4d6c-a6ca-30cbb11a7aff",
   "metadata": {
    "tags": []
   },
   "outputs": [],
   "source": [
    "class FeedForwardNet(nn.Module):\n",
    "    def __init__(self):\n",
    "        super().__init__()\n",
    "        self.flatten = nn.Flatten()\n",
    "        self.dense_layers = nn.Sequential(\n",
    "            nn.Linear(28*28, 256),\n",
    "            nn.Linear(256, 256),\n",
    "            nn.ReLU(),\n",
    "            nn.Linear(256, 10)\n",
    "        )\n",
    "        self.softmax = nn.Softmax(dim=1)\n",
    "        \n",
    "    def forward(self, input_data):\n",
    "        flatten_data = self.flatten(input_data)\n",
    "        logits = self.dense_layers(flatten_data)\n",
    "        predictions = self.softmax(logits)\n",
    "        return predictions\n",
    "    \n",
    "def train_one_epoch(model, data_loader, loss_func, optimizer, device):\n",
    "    for inputs, targets in data_loader:\n",
    "        inputs, targets = inputs.to(device), targets.to(device)\n",
    "        \n",
    "        predictions = model(inputs)\n",
    "        loss = loss_func(predictions, targets)\n",
    "        optimizer.zero_grad()\n",
    "        loss.backward()\n",
    "        optimizer.step()\n",
    "    print('loss: ', loss.item())\n",
    "    \n",
    "def train(model, data_loader, loss_func, optimizer, device, epochs):\n",
    "    for i in range(epochs):\n",
    "        print('Epochs: ',i+1)\n",
    "        train_one_epoch(model, data_loader, loss_func, optimizer, device)\n",
    "        \n",
    "def predict(model, input, target, class_mapping):\n",
    "    model.eval()\n",
    "    with torch.no_grad():\n",
    "        predictions = model(input)\n",
    "        predicted_idx = predictions[0].argmax(0)\n",
    "        predicted = class_mapping[predicted_idx]\n",
    "        expected = class_mapping[target]\n",
    "    return predicted, expected\n",
    "\n",
    "\n",
    "loss_func = nn.CrossEntropyLoss()\n",
    "feed_forward_net = FeedForwardNet().to('cpu')\n",
    "optimizer = torch.optim.Adam(feed_forward_net.parameters(), lr = LEARNING_RATE)"
   ]
  },
  {
   "cell_type": "code",
   "execution_count": null,
   "id": "69a8baf0-8b9b-4f12-b3fb-eda41c08e9a0",
   "metadata": {},
   "outputs": [],
   "source": []
  },
  {
   "cell_type": "code",
   "execution_count": 5,
   "id": "a7c65d37-b951-4e9c-91ea-79fa104a6eb8",
   "metadata": {
    "tags": []
   },
   "outputs": [],
   "source": [
    "train_data,validation_data = download_mnist_datasets()"
   ]
  },
  {
   "cell_type": "code",
   "execution_count": 6,
   "id": "6dc62eb9-e1eb-437f-a186-9094994dbe6c",
   "metadata": {
    "tags": []
   },
   "outputs": [],
   "source": [
    "train_data_loader = DataLoader(train_data, batch_size=BATCH_SIZE)"
   ]
  },
  {
   "cell_type": "code",
   "execution_count": 7,
   "id": "4e5463f0-ba6a-4b49-9889-cbbf68349de8",
   "metadata": {
    "tags": []
   },
   "outputs": [
    {
     "name": "stdout",
     "output_type": "stream",
     "text": [
      "Epochs:  1\n",
      "loss:  1.508934497833252\n",
      "Epochs:  2\n",
      "loss:  1.5183266401290894\n",
      "Epochs:  3\n",
      "loss:  1.5036649703979492\n",
      "Epochs:  4\n",
      "loss:  1.485832691192627\n",
      "Epochs:  5\n",
      "loss:  1.5028905868530273\n",
      "Epochs:  6\n",
      "loss:  1.4873566627502441\n",
      "Epochs:  7\n",
      "loss:  1.483221411705017\n",
      "Epochs:  8\n",
      "loss:  1.4720631837844849\n",
      "Epochs:  9\n",
      "loss:  1.486409068107605\n",
      "Epochs:  10\n",
      "loss:  1.4717451333999634\n"
     ]
    }
   ],
   "source": [
    "train(feed_forward_net, train_data_loader, loss_func, optimizer, device, EPOCHS)"
   ]
  },
  {
   "cell_type": "code",
   "execution_count": 8,
   "id": "dfc00323-9583-4e35-b791-4cb242825514",
   "metadata": {
    "tags": []
   },
   "outputs": [],
   "source": [
    "torch.save(feed_forward_net.state_dict(),'feedforwardnet.pth')\n"
   ]
  },
  {
   "cell_type": "code",
   "execution_count": null,
   "id": "fc119cc0-161c-4539-a006-d3f74d6bcfb2",
   "metadata": {},
   "outputs": [],
   "source": []
  },
  {
   "cell_type": "code",
   "execution_count": null,
   "id": "cff7519b-4aa6-4976-ae81-254cde2dc2b2",
   "metadata": {},
   "outputs": [],
   "source": []
  },
  {
   "cell_type": "code",
   "execution_count": null,
   "id": "6e171da4-a896-4725-913f-2dd2293ed9fe",
   "metadata": {},
   "outputs": [],
   "source": []
  },
  {
   "cell_type": "code",
   "execution_count": null,
   "id": "0a5830c3-3416-4198-a64a-7e078ecc12f2",
   "metadata": {
    "tags": []
   },
   "outputs": [],
   "source": []
  },
  {
   "cell_type": "code",
   "execution_count": 9,
   "id": "60aa403f-a95f-468e-8d9a-f74b9fe096ed",
   "metadata": {
    "tags": []
   },
   "outputs": [],
   "source": [
    "state_dict = torch.load('feedforwardnet.pth')"
   ]
  },
  {
   "cell_type": "code",
   "execution_count": 10,
   "id": "10dc6ad6-998b-4672-b8a0-a89ffed55b79",
   "metadata": {
    "tags": []
   },
   "outputs": [
    {
     "data": {
      "text/plain": [
       "<All keys matched successfully>"
      ]
     },
     "execution_count": 10,
     "metadata": {},
     "output_type": "execute_result"
    }
   ],
   "source": [
    "feed_forward_net.load_state_dict(state_dict)"
   ]
  },
  {
   "cell_type": "code",
   "execution_count": 13,
   "id": "45d6f838-28f8-4d07-8782-69713d9cf5a0",
   "metadata": {
    "tags": []
   },
   "outputs": [],
   "source": [
    "preds = []\n",
    "expects = []\n",
    "for i in range(1000):\n",
    "    input, target = validation_data[i][0], validation_data[i][1]\n",
    "    predicted, expected = predict(feed_forward_net, input, target, class_mapping)\n",
    "    preds.append(predicted)\n",
    "    expects.append(expected)\n",
    "    #print('predicted: ', predicted, ' expected: ', expected)"
   ]
  },
  {
   "cell_type": "code",
   "execution_count": 16,
   "id": "b7719c04-38f7-442c-9290-f3e681e91f1d",
   "metadata": {
    "tags": []
   },
   "outputs": [
    {
     "data": {
      "text/plain": [
       "array([[ 85,   0,   0,   0,   1,   0,   3,   0,   1,   0],\n",
       "       [  0, 125,   0,   0,   0,   0,   0,   0,   0,   0],\n",
       "       [  0,   0, 112,   0,   1,   0,   0,   1,   1,   0],\n",
       "       [  0,   0,   0, 105,   0,   0,   0,   0,   0,   0],\n",
       "       [  0,   0,   0,   0,  98,   1,   0,   0,   2,   0],\n",
       "       [  0,   0,   0,   1,   0,  86,   0,   0,   0,   0],\n",
       "       [  0,   1,   0,   0,   3,   0,  84,   0,   0,   0],\n",
       "       [  0,   0,   2,   1,   0,   0,   0,  98,   1,   0],\n",
       "       [  0,   0,   1,   0,   0,   0,   0,   0,  83,   2],\n",
       "       [  0,   0,   1,   0,   7,   0,   0,   0,   1,  92]])"
      ]
     },
     "execution_count": 16,
     "metadata": {},
     "output_type": "execute_result"
    }
   ],
   "source": [
    "confusion_matrix(preds, expects) #looks good"
   ]
  },
  {
   "cell_type": "code",
   "execution_count": null,
   "id": "b5f70ed4-579b-4ec4-bcf2-2029c9d9c095",
   "metadata": {},
   "outputs": [],
   "source": []
  }
 ],
 "metadata": {
  "kernelspec": {
   "display_name": "Python 3 (ipykernel)",
   "language": "python",
   "name": "python3"
  },
  "language_info": {
   "codemirror_mode": {
    "name": "ipython",
    "version": 3
   },
   "file_extension": ".py",
   "mimetype": "text/x-python",
   "name": "python",
   "nbconvert_exporter": "python",
   "pygments_lexer": "ipython3",
   "version": "3.8.16"
  }
 },
 "nbformat": 4,
 "nbformat_minor": 5
}
