{
 "cells": [
  {
   "cell_type": "code",
   "execution_count": 1,
   "id": "297e323c-8efd-4f4f-abb1-54d8a8dc1a78",
   "metadata": {
    "tags": []
   },
   "outputs": [],
   "source": [
    "import numpy as np"
   ]
  },
  {
   "cell_type": "code",
   "execution_count": 63,
   "id": "2893b005-e447-455c-af73-fc65964ef608",
   "metadata": {
    "tags": []
   },
   "outputs": [],
   "source": [
    "import seaborn as sns\n",
    "import matplotlib.pyplot as plt"
   ]
  },
  {
   "cell_type": "markdown",
   "id": "ccbd4290-91b3-4c66-8efd-03ed114fb69a",
   "metadata": {},
   "source": [
    "### A: adjecency matrix\n",
    "### pi: probability vector"
   ]
  },
  {
   "cell_type": "markdown",
   "id": "e6d1196c-0420-4098-8bdb-b24d6c136221",
   "metadata": {},
   "source": [
    "### Find equilibrium probability vector (stationary state), knowing that pi_0 will converge to this, in other words there will come a point where pi_0 equals pi"
   ]
  },
  {
   "cell_type": "markdown",
   "id": "05deb050-980c-4e50-814b-03f358582fa5",
   "metadata": {},
   "source": [
    "$$\n",
    "  \\pi A = \\pi\n",
    "$$\n",
    "\n",
    "Similar to $$\n",
    "  A v = \\lambda v\n",
    "$$"
   ]
  },
  {
   "cell_type": "code",
   "execution_count": 79,
   "id": "c0ee9968-2684-491a-b21d-caa1cd76c157",
   "metadata": {
    "tags": []
   },
   "outputs": [],
   "source": [
    "A = np.array([[0.2, 0.6, 0.2], [0.3, 0, 0.7], [0.5, 0, 0.5]])"
   ]
  },
  {
   "cell_type": "code",
   "execution_count": 80,
   "id": "329fd135-5bc8-4172-a528-f1b8b550cfbd",
   "metadata": {
    "tags": []
   },
   "outputs": [],
   "source": [
    "pi_0 = np.array([0, 1, 0]) # status at idx 0"
   ]
  },
  {
   "cell_type": "code",
   "execution_count": 81,
   "id": "fb4a4db3-71e4-4e8b-9b63-727699d97ad3",
   "metadata": {
    "tags": []
   },
   "outputs": [
    {
     "data": {
      "text/plain": [
       "array([0.6, 0. , 0. ])"
      ]
     },
     "execution_count": 81,
     "metadata": {},
     "output_type": "execute_result"
    }
   ],
   "source": [
    "A.dot(pi_0)"
   ]
  },
  {
   "cell_type": "code",
   "execution_count": 70,
   "id": "1379ad36-ec39-479c-b1f8-4b647972d3f6",
   "metadata": {
    "tags": []
   },
   "outputs": [],
   "source": [
    "pi = np.array([])"
   ]
  },
  {
   "cell_type": "code",
   "execution_count": 71,
   "id": "21def4f8-b540-4db5-86c0-04ce30fff562",
   "metadata": {
    "tags": []
   },
   "outputs": [
    {
     "data": {
      "text/plain": [
       "Text(0.5, 1.0, 'Adjecency matrix A')"
      ]
     },
     "execution_count": 71,
     "metadata": {},
     "output_type": "execute_result"
    },
    {
     "data": {
      "image/png": "[encoded data removed]",
      "text/plain": [
       "<Figure size 640x480 with 2 Axes>"
      ]
     },
     "metadata": {},
     "output_type": "display_data"
    }
   ],
   "source": [
    "labels = ['burger', 'pizza', 'hotdog']\n",
    "sns.heatmap(A, annot=True, fmt='g',  xticklabels=labels, yticklabels=labels)\n",
    "plt.title('Adjecency matrix A')"
   ]
  },
  {
   "cell_type": "code",
   "execution_count": 72,
   "id": "bb16e703-4d82-4510-b2fb-2ce660028382",
   "metadata": {
    "tags": []
   },
   "outputs": [
    {
     "name": "stdout",
     "output_type": "stream",
     "text": [
      "[[0.2 0.6 0.2]\n",
      " [0.3 0.  0.7]\n",
      " [0.5 0.  0.5]]\n",
      "[0 1 0]\n"
     ]
    }
   ],
   "source": [
    "print(A)\n",
    "print(pi_0)"
   ]
  },
  {
   "cell_type": "code",
   "execution_count": null,
   "id": "f071156a-e5b1-464e-b2ef-72fd97cee876",
   "metadata": {
    "tags": []
   },
   "outputs": [],
   "source": []
  },
  {
   "cell_type": "code",
   "execution_count": 74,
   "id": "39aa4b18-502a-40e3-8045-4a75276bbd32",
   "metadata": {
    "tags": []
   },
   "outputs": [
    {
     "name": "stdout",
     "output_type": "stream",
     "text": [
      "iter: 0 [0.3 0.  0.7]\n",
      "iter: 1 [0.41 0.18 0.41]\n",
      "iter: 2 [0.341 0.246 0.413]\n",
      "iter: 3 [0.3485 0.2046 0.4469]\n",
      "iter: 4 [0.35453 0.2091  0.43637]\n",
      "iter: 5 [0.351821 0.212718 0.435461]\n",
      "iter: 6 [0.3519101 0.2110926 0.4369973]\n",
      "iter: 7 [0.35220845 0.21114606 0.43664549]\n",
      "iter: 8 [0.35210825 0.21132507 0.43656668]\n",
      "iter: 9 [0.35210251 0.21126495 0.43663254]\n",
      "iter: 10 [0.35211626 0.21126151 0.43662224]\n",
      "iter: 11 [0.35211282 0.21126975 0.43661742]\n",
      "iter: 12 [0.3521122  0.21126769 0.4366201 ]\n",
      "iter: 13 [0.3521128  0.21126732 0.43661988]\n",
      "iter: 14 [0.3521127  0.21126768 0.43661962]\n",
      "iter: 15 [0.35211266 0.21126762 0.43661973]\n",
      "iter: 16 [0.35211268 0.21126759 0.43661973]\n",
      "iter: 17 [0.35211268 0.21126761 0.43661971]\n",
      "iter: 18 [0.35211268 0.21126761 0.43661972]\n",
      "iter: 19 [0.35211268 0.21126761 0.43661972]\n"
     ]
    }
   ],
   "source": [
    "for i in range(20):\n",
    "    pi_0 = pi_0.dot(A)\n",
    "    print('iter: {0}'.format(i), pi_0)"
   ]
  },
  {
   "cell_type": "code",
   "execution_count": 66,
   "id": "48ce3afa-31d1-4121-8a5a-6e092e3723f4",
   "metadata": {
    "tags": []
   },
   "outputs": [],
   "source": [
    "# 35% chance burger, 21% chance pizza and 43% chance hotdog"
   ]
  },
  {
   "cell_type": "code",
   "execution_count": null,
   "id": "b77d2505-4f7c-4492-9a66-a7e79f0e7b65",
   "metadata": {},
   "outputs": [],
   "source": []
  }
 ],
 "metadata": {
  "kernelspec": {
   "display_name": "Python 3 (ipykernel)",
   "language": "python",
   "name": "python3"
  },
  "language_info": {
   "codemirror_mode": {
    "name": "ipython",
    "version": 3
   },
   "file_extension": ".py",
   "mimetype": "text/x-python",
   "name": "python",
   "nbconvert_exporter": "python",
   "pygments_lexer": "ipython3",
   "version": "3.8.16"
  }
 },
 "nbformat": 4,
 "nbformat_minor": 5
}
