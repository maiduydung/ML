{
 "cells": [
  {
   "cell_type": "markdown",
   "metadata": {},
   "source": [
    "### AI-05 Practice 1  "
   ]
  },
  {
   "cell_type": "markdown",
   "metadata": {},
   "source": [
    "#### Import libraries  "
   ]
  },
  {
   "cell_type": "code",
   "execution_count": null,
   "metadata": {},
   "outputs": [],
   "source": [
    "import numpy as np\n",
    "import pandas as pd\n",
    "import matplotlib.pyplot as plt\n",
    "from scipy.cluster.hierarchy import linkage, dendrogram, fcluster"
   ]
  },
  {
   "cell_type": "markdown",
   "metadata": {},
   "source": [
    "#### Parameters  "
   ]
  },
  {
   "cell_type": "code",
   "execution_count": null,
   "metadata": {},
   "outputs": [],
   "source": [
    "csv_in = 'cls-data1.csv'\n",
    "\n",
    "# To show more rows and columns\n",
    "pd.options.display.max_rows = 999 \n",
    "pd.options.display.max_columns = 999 "
   ]
  },
  {
   "cell_type": "markdown",
   "metadata": {},
   "source": [
    "#### Read CSV file  "
   ]
  },
  {
   "cell_type": "code",
   "execution_count": null,
   "metadata": {},
   "outputs": [],
   "source": [
    "df = pd.read_csv(csv_in, delimiter=',', skiprows=0, header=0)\n",
    "print(df.shape)\n",
    "print(df.info())\n",
    "display(df.head())"
   ]
  },
  {
   "cell_type": "markdown",
   "metadata": {},
   "source": [
    "#### Separate data  "
   ]
  },
  {
   "cell_type": "code",
   "execution_count": null,
   "metadata": {},
   "outputs": [],
   "source": [
    "df_data = df[['d1', 'd2']]\n",
    "print(df_data.shape)\n",
    "display(df_data.head())\n",
    "ids = df_data.index"
   ]
  },
  {
   "cell_type": "markdown",
   "metadata": {},
   "source": [
    "#### Execute clustering  "
   ]
  },
  {
   "cell_type": "code",
   "execution_count": null,
   "metadata": {},
   "outputs": [],
   "source": [
    "Z = linkage(df_data, method='ward', metric='euclidean')\n",
    "n_data = Z.shape[0]\n",
    "df_Z = pd.DataFrame(Z,\n",
    "                    columns=['label1', 'label2',\n",
    "                             'distance', '#members'],\n",
    "                    index=['merged{}'.format(i+1+n_data) \n",
    "                           for i in range(n_data)])\n",
    "df_Z['label1'] = df_Z['label1'].astype('int')\n",
    "df_Z['label2'] = df_Z['label2'].astype('int')\n",
    "df_Z['#members'] = df_Z['#members'].astype('int')\n",
    "display(df_Z.head())\n",
    "display(df_Z.tail())"
   ]
  },
  {
   "cell_type": "markdown",
   "metadata": {},
   "source": [
    "#### Draw dendgrogram  \n",
    "**Ans.1**"
   ]
  },
  {
   "cell_type": "code",
   "execution_count": null,
   "metadata": {},
   "outputs": [],
   "source": [
    "dendr = dendrogram(Z, labels=ids)\n",
    "plt.xticks(rotation=90)\n",
    "plt.ylabel('Euclidean')\n",
    "plt.show()"
   ]
  },
  {
   "cell_type": "markdown",
   "metadata": {},
   "source": [
    "#### Get results of clustering  "
   ]
  },
  {
   "cell_type": "code",
   "execution_count": null,
   "metadata": {},
   "outputs": [],
   "source": [
    "dist = df_Z['distance']\n",
    "n_clusters = 2\n",
    "print('=== n_clusters:', n_clusters, '===')\n",
    "cls = pd.Series(fcluster(Z, n_clusters, criterion='maxclust'), index=ids)\n",
    "print('dist:', dist[n_data-n_clusters])\n",
    "print(cls.head())"
   ]
  },
  {
   "cell_type": "markdown",
   "metadata": {},
   "source": [
    "#### Make cross table  \n",
    "**Ans. 2**  "
   ]
  },
  {
   "cell_type": "code",
   "execution_count": null,
   "metadata": {},
   "outputs": [],
   "source": [
    "ct = pd.crosstab(df['type'], cls)\n",
    "display(ct)"
   ]
  },
  {
   "cell_type": "markdown",
   "metadata": {},
   "source": [
    "**The number of v1 in cluster 2: 89**  \n",
    "\n",
    "**About 90% of v1 is included in cluster 2.\n",
    "All of v2 is included in cluster 1.\n",
    "We can see high correspondence between the type of virus and the cluster number, so values of \"d1\" and \"d2\" used for clustering is highly related to the type of virus.**\n",
    "\n",
    "**v1の約90%がクラスタ2に含まれる。\n",
    "v2はすべてクラスタ1に含まれる。\n",
    "ウイルスの種類とクラスタ番号はよく対応しており、\n",
    "クラスタリングに用いた指標d1, d2 は「ウイルスの種類」に強く関連しているといえる。**"
   ]
  },
  {
   "cell_type": "markdown",
   "metadata": {},
   "source": [
    "#### Draw the scatter plot  \n",
    "**Ans. 4**  "
   ]
  },
  {
   "cell_type": "code",
   "execution_count": null,
   "metadata": {},
   "outputs": [],
   "source": [
    "df_c1 = df[ cls==1 ]\n",
    "df_c2 = df[ cls==2 ]\n",
    "\n",
    "plt.scatter(df_c1['d1'], df_c1['d2'], color='red', label='c1')\n",
    "plt.scatter(df_c2['d1'], df_c2['d2'], color='blue', label='c2')\n",
    "plt.xlabel('d1')\n",
    "plt.ylabel('d2')\n",
    "plt.legend()\n",
    "plt.show()"
   ]
  },
  {
   "cell_type": "markdown",
   "metadata": {},
   "source": [
    "##### Alternative solution (別解)  "
   ]
  },
  {
   "cell_type": "code",
   "execution_count": null,
   "metadata": {},
   "outputs": [],
   "source": [
    "n_clusters = 2\n",
    "colors = ['red', 'blue']\n",
    "\n",
    "for i in range(n_clusters):\n",
    "    df_c = df[ cls==i+1 ]\n",
    "    c = colors[i]\n",
    "    label = 'c{}'.format(i+1)\n",
    "    plt.scatter(df_c['d1'], df_c['d2'], color=c, label=label)\n",
    "\n",
    "plt.xlabel('d1')\n",
    "plt.ylabel('d2')\n",
    "plt.legend()\n",
    "plt.show()"
   ]
  }
 ],
 "metadata": {
  "anaconda-cloud": {},
  "kernelspec": {
   "display_name": "Python 3",
   "language": "python",
   "name": "python3"
  },
  "language_info": {
   "codemirror_mode": {
    "name": "ipython",
    "version": 3
   },
   "file_extension": ".py",
   "mimetype": "text/x-python",
   "name": "python",
   "nbconvert_exporter": "python",
   "pygments_lexer": "ipython3",
   "version": "3.8.8"
  }
 },
 "nbformat": 4,
 "nbformat_minor": 4
}
