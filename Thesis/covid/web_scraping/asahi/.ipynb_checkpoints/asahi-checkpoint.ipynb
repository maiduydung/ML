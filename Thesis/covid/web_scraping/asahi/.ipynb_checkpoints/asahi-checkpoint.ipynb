{
 "cells": [
  {
   "cell_type": "markdown",
   "source": [
    "# Scarping 1 article only"
   ],
   "metadata": {}
  },
  {
   "cell_type": "code",
   "execution_count": 47,
   "source": [
    "# Import Module\r\n",
    "from bs4 import BeautifulSoup, NavigableString, Tag\r\n",
    "import pandas as pd\r\n",
    "import requests\r\n",
    "\r\n",
    "html = requests.get('https://www.asahi.com/ajw/articles/14407034')\r\n",
    "soup = BeautifulSoup(html.text,'html.parser')\r\n",
    "\r\n",
    "\r\n",
    "news_title = soup.find(['div'], class_='ArticleTitle').find('h1')\r\n",
    "news_title = [string for string in news_title.stripped_strings][0]\r\n",
    "\r\n",
    "news_writer = soup.find(['p'], class_='EnArticleName')\r\n",
    "news_writer = [string for string in news_writer.stripped_strings][0]\r\n",
    "\r\n",
    "news_written_date =  soup.find(['p'], class_='EnLastUpdated')\r\n",
    "news_written_date = [string for string in news_written_date.stripped_strings][0]\r\n",
    "\r\n",
    "news_text =  soup.find(['div'], class_='ArticleText')\r\n",
    "news_text = [string for string in news_text.stripped_strings] #multiple elements, each of them is a str\r\n",
    "\r\n",
    "temp = ''\r\n",
    "for i in news_text:\r\n",
    "    temp = temp + \" \" + i\r\n",
    "news_text = temp #complete article text\r\n",
    "\r\n",
    "\r\n",
    "data = {'news_title': news_title,\r\n",
    "        'news_writer': news_writer,\r\n",
    "        }"
   ],
   "outputs": [],
   "metadata": {}
  },
  {
   "cell_type": "code",
   "execution_count": null,
   "source": [
    "data = {'Name':['Tom', 'Jack', 'nick', 'juli'],\r\n",
    "        'marks':[99, 98, 95, 90]}\r\n",
    " \r\n",
    "# Creates pandas DataFrame.\r\n",
    "df = pd.DataFrame(data, index =['rank1',\r\n",
    "                                'rank2',\r\n",
    "                                'rank3',\r\n",
    "                                'rank4'])"
   ],
   "outputs": [],
   "metadata": {}
  },
  {
   "cell_type": "markdown",
   "source": [
    "# List of articles"
   ],
   "metadata": {}
  },
  {
   "cell_type": "code",
   "execution_count": 27,
   "source": [
    "# Import Module\r\n",
    "from bs4 import BeautifulSoup, NavigableString, Tag\r\n",
    "import requests\r\n",
    "html = requests.get('https://www.asahi.com/ajw/tag/11029417/')  # menu url only\r\n",
    "soup = BeautifulSoup(html.text,'html.parser')\r\n",
    "article_list = soup.find(['div'], class_='specialList')\r\n",
    "base_url = 'https://www.asahi.com/'\r\n",
    "list_url = [] #list of all articles from 1 page only\r\n",
    "\r\n",
    "for li in article_list.ul:\r\n",
    "    if isinstance(li, NavigableString):\r\n",
    "        continue\r\n",
    "    if isinstance(li, Tag):\r\n",
    "        #print(li.find_all(['a'], href=True))\r\n",
    "        for a in li.find_all('a', href=True):\r\n",
    "            temp = a['href']\r\n",
    "            list_url.append(base_url+temp)\r\n",
    "\r\n",
    "\r\n"
   ],
   "outputs": [],
   "metadata": {}
  },
  {
   "cell_type": "code",
   "execution_count": 44,
   "source": [
    "def iter_ul(list_page): #iterate unordered list = list of articles in each page\r\n",
    "    list_url = [] #list of all articles from 1 page only\r\n",
    "    for page in list_page:\r\n",
    "        #print(page)\r\n",
    "        html = requests.get(page)  # menu url only\r\n",
    "        soup = BeautifulSoup(html.text,'html.parser')\r\n",
    "        article_list = soup.find(['div'], class_='specialList')\r\n",
    "        base_url = 'https://www.asahi.com/'\r\n",
    "        for li in article_list.ul:\r\n",
    "            if isinstance(li, NavigableString):\r\n",
    "                continue\r\n",
    "            if isinstance(li, Tag):\r\n",
    "                #print(li.find_all(['a'], href=True))\r\n",
    "                for a in li.find_all('a', href=True):\r\n",
    "                    temp = a['href']\r\n",
    "                    #print(base_url+temp)\r\n",
    "                    list_url.append(base_url+temp)\r\n",
    "    return list_url # url of all articles\r\n",
    "\r\n",
    "\r\n",
    "all_articles = iter_ul(list_page)"
   ],
   "outputs": [],
   "metadata": {}
  },
  {
   "cell_type": "code",
   "execution_count": 49,
   "source": [
    "(all_articles[1000])"
   ],
   "outputs": [
    {
     "output_type": "execute_result",
     "data": {
      "text/plain": [
       "'https://www.asahi.com//ajw/articles/14021976'"
      ]
     },
     "metadata": {},
     "execution_count": 49
    }
   ],
   "metadata": {}
  },
  {
   "cell_type": "markdown",
   "source": [
    "# Iterate list of articles (page 1, 2, 3, 4, etc.)"
   ],
   "metadata": {}
  },
  {
   "cell_type": "code",
   "execution_count": 35,
   "source": [
    "page_base_url = 'https://www.asahi.com/ajw/tag/11029417/' # + 1 2 3\r\n",
    "list_page = []\r\n",
    "for i in range(1,35):\r\n",
    "    list_page.append(page_base_url+str(i))"
   ],
   "outputs": [],
   "metadata": {}
  },
  {
   "cell_type": "code",
   "execution_count": 36,
   "source": [
    "list_page"
   ],
   "outputs": [
    {
     "output_type": "execute_result",
     "data": {
      "text/plain": [
       "['https://www.asahi.com/ajw/tag/11029417/1',\n",
       " 'https://www.asahi.com/ajw/tag/11029417/2',\n",
       " 'https://www.asahi.com/ajw/tag/11029417/3',\n",
       " 'https://www.asahi.com/ajw/tag/11029417/4',\n",
       " 'https://www.asahi.com/ajw/tag/11029417/5',\n",
       " 'https://www.asahi.com/ajw/tag/11029417/6',\n",
       " 'https://www.asahi.com/ajw/tag/11029417/7',\n",
       " 'https://www.asahi.com/ajw/tag/11029417/8',\n",
       " 'https://www.asahi.com/ajw/tag/11029417/9',\n",
       " 'https://www.asahi.com/ajw/tag/11029417/10',\n",
       " 'https://www.asahi.com/ajw/tag/11029417/11',\n",
       " 'https://www.asahi.com/ajw/tag/11029417/12',\n",
       " 'https://www.asahi.com/ajw/tag/11029417/13',\n",
       " 'https://www.asahi.com/ajw/tag/11029417/14',\n",
       " 'https://www.asahi.com/ajw/tag/11029417/15',\n",
       " 'https://www.asahi.com/ajw/tag/11029417/16',\n",
       " 'https://www.asahi.com/ajw/tag/11029417/17',\n",
       " 'https://www.asahi.com/ajw/tag/11029417/18',\n",
       " 'https://www.asahi.com/ajw/tag/11029417/19',\n",
       " 'https://www.asahi.com/ajw/tag/11029417/20',\n",
       " 'https://www.asahi.com/ajw/tag/11029417/21',\n",
       " 'https://www.asahi.com/ajw/tag/11029417/22',\n",
       " 'https://www.asahi.com/ajw/tag/11029417/23',\n",
       " 'https://www.asahi.com/ajw/tag/11029417/24',\n",
       " 'https://www.asahi.com/ajw/tag/11029417/25',\n",
       " 'https://www.asahi.com/ajw/tag/11029417/26',\n",
       " 'https://www.asahi.com/ajw/tag/11029417/27',\n",
       " 'https://www.asahi.com/ajw/tag/11029417/28',\n",
       " 'https://www.asahi.com/ajw/tag/11029417/29',\n",
       " 'https://www.asahi.com/ajw/tag/11029417/30',\n",
       " 'https://www.asahi.com/ajw/tag/11029417/31',\n",
       " 'https://www.asahi.com/ajw/tag/11029417/32',\n",
       " 'https://www.asahi.com/ajw/tag/11029417/33',\n",
       " 'https://www.asahi.com/ajw/tag/11029417/34']"
      ]
     },
     "metadata": {},
     "execution_count": 36
    }
   ],
   "metadata": {}
  },
  {
   "cell_type": "code",
   "execution_count": null,
   "source": [],
   "outputs": [],
   "metadata": {}
  }
 ],
 "metadata": {
  "kernelspec": {
   "name": "python3",
   "display_name": "Python 3.8.5 64-bit ('tf': conda)"
  },
  "language_info": {
   "codemirror_mode": {
    "name": "ipython",
    "version": 3
   },
   "file_extension": ".py",
   "mimetype": "text/x-python",
   "name": "python",
   "nbconvert_exporter": "python",
   "pygments_lexer": "ipython3",
   "version": "3.8.5"
  },
  "interpreter": {
   "hash": "de2e53c54550ee6885339aa429af7d301a27ecab7db6edb4eecbf0ffb12c09f2"
  }
 },
 "nbformat": 4,
 "nbformat_minor": 5
}