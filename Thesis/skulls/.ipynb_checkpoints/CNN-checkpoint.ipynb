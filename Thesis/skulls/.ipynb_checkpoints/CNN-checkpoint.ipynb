{
 "cells": [
  {
   "cell_type": "code",
   "execution_count": 90,
   "id": "stainless-limitation",
   "metadata": {},
   "outputs": [],
   "source": [
    "import tensorflow as tf\n",
    "\n",
    "from tensorflow.keras import datasets, layers, models\n",
    "import matplotlib.pyplot as plt\n",
    "import PIL\n",
    "import os\n",
    "import re #regex\n",
    "import numpy as np\n",
    "import random"
   ]
  },
  {
   "cell_type": "markdown",
   "id": "fundamental-aaron",
   "metadata": {},
   "source": [
    "### Converting images to numpy array and putting them to a dictionary"
   ]
  },
  {
   "cell_type": "code",
   "execution_count": 91,
   "id": "permanent-compact",
   "metadata": {},
   "outputs": [],
   "source": [
    "img_dict = {}\n",
    "directory ='skulls/'\n",
    "\n",
    "for filename in os.listdir(directory):\n",
    "    if filename.endswith(\".jpg\"): \n",
    "        img = PIL.Image.open(directory+filename)\n",
    "        img_sequence = img.getdata()\n",
    "        img_array = np.array(img_sequence) \n",
    "        img_array = img_array/255 #normalize\n",
    "        #print(img_array.shape)\n",
    "        key = re.sub(r'\\.[^.]*$',\"\",filename)\n",
    "        img_dict[key] = img_array #saving np array to a dictionary"
   ]
  },
  {
   "cell_type": "code",
   "execution_count": 124,
   "id": "interior-middle",
   "metadata": {},
   "outputs": [
    {
     "name": "stdout",
     "output_type": "stream",
     "text": [
      "(179181, 3)\n",
      "[[0. 0. 0.]\n",
      " [0. 0. 0.]\n",
      " [0. 0. 0.]\n",
      " ...\n",
      " [0. 0. 0.]\n",
      " [0. 0. 0.]\n",
      " [0. 0. 0.]]\n"
     ]
    },
    {
     "data": {
      "text/plain": [
       "['Angolan Colobus Monkey_Colobus angolensis',\n",
       " 'Australopithecus boisei',\n",
       " 'Aye-Aye          Daubentonia madagascarensis',\n",
       " 'Bearded Saki female_Chiropotes satanas satanas',\n",
       " 'Bearded Saki male_Chiropotes satanas satanas',\n",
       " 'Blue Monkey_Cercopitheous mitis',\n",
       " 'BonoboPygmy Chimpanzee female',\n",
       " 'Borneo Orangutan',\n",
       " 'Common Chimpanzee juvenile',\n",
       " 'Common Chimpanzee male']"
      ]
     },
     "execution_count": 124,
     "metadata": {},
     "output_type": "execute_result"
    }
   ],
   "source": [
    "labels = [i for i in img_dict.keys()]\n",
    "\n",
    "print(img_dict['Common Chimpanzee male'].shape)\n",
    "print(img_dict['Common Chimpanzee male'])\n",
    "labels[:10] #not shuffled"
   ]
  },
  {
   "cell_type": "markdown",
   "id": "younger-greeting",
   "metadata": {},
   "source": [
    "### Shuffling data to train"
   ]
  },
  {
   "cell_type": "code",
   "execution_count": 126,
   "id": "balanced-blake",
   "metadata": {},
   "outputs": [
    {
     "name": "stdout",
     "output_type": "stream",
     "text": [
      "(73, 2)\n"
     ]
    }
   ],
   "source": [
    "def shuffle_dict(input_dict):\n",
    "    keys =  list(img_dict.keys()) #list of keys, also list of labels\n",
    "    random.shuffle(keys)\n",
    "    return [(key, img_dict[key]) for key in keys] #returns a list\n",
    "\n",
    "img_array = shuffle_dict(img_dict)\n",
    "img_array = np.array(img_array)\n",
    "print(img_array.shape)"
   ]
  },
  {
   "cell_type": "code",
   "execution_count": 128,
   "id": "copyrighted-rating",
   "metadata": {},
   "outputs": [
    {
     "data": {
      "text/plain": [
       "array([['Crab- eating Monkey_Maccaca facicularis',\n",
       "        array([[0., 0., 0.],\n",
       "       [0., 0., 0.],\n",
       "       [0., 0., 0.],\n",
       "       ...,\n",
       "       [0., 0., 0.],\n",
       "       [0., 0., 0.],\n",
       "       [0., 0., 0.]])],\n",
       "       [\"De Brazza's monkey juvenile male_Cercopithecus neglectus\",\n",
       "        array([[0., 0., 0.],\n",
       "       [0., 0., 0.],\n",
       "       [0., 0., 0.],\n",
       "       ...,\n",
       "       [0., 0., 0.],\n",
       "       [0., 0., 0.],\n",
       "       [0., 0., 0.]])]], dtype=object)"
      ]
     },
     "execution_count": 128,
     "metadata": {},
     "output_type": "execute_result"
    }
   ],
   "source": [
    "img_array[:2]"
   ]
  },
  {
   "cell_type": "code",
   "execution_count": null,
   "id": "prescription-yahoo",
   "metadata": {},
   "outputs": [],
   "source": []
  }
 ],
 "metadata": {
  "kernelspec": {
   "display_name": "Python 3",
   "language": "python",
   "name": "python3"
  },
  "language_info": {
   "codemirror_mode": {
    "name": "ipython",
    "version": 3
   },
   "file_extension": ".py",
   "mimetype": "text/x-python",
   "name": "python",
   "nbconvert_exporter": "python",
   "pygments_lexer": "ipython3",
   "version": "3.8.5"
  }
 },
 "nbformat": 4,
 "nbformat_minor": 5
}
