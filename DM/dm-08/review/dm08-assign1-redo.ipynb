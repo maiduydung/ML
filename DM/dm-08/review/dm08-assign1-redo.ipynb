{
 "cells": [
  {
   "cell_type": "markdown",
   "metadata": {},
   "source": [
    "### Sample program for Factor Analysis  "
   ]
  },
  {
   "cell_type": "markdown",
   "metadata": {},
   "source": [
    "#### Import libraries  "
   ]
  },
  {
   "cell_type": "code",
   "execution_count": 1,
   "metadata": {},
   "outputs": [],
   "source": [
    "import numpy as np\n",
    "import pandas as pd\n",
    "import matplotlib.pyplot as plt\n",
    "from factor_analyzer import FactorAnalyzer"
   ]
  },
  {
   "cell_type": "markdown",
   "metadata": {},
   "source": [
    "#### Parameters  "
   ]
  },
  {
   "cell_type": "code",
   "execution_count": 2,
   "metadata": {},
   "outputs": [],
   "source": [
    "csv_in = '../characteristics.csv'\n",
    "\n",
    "%config InlineBackend.figure_formats = {'png', 'retina'}  # for high-reso graph"
   ]
  },
  {
   "cell_type": "markdown",
   "metadata": {},
   "source": [
    "#### Read CSV data  "
   ]
  },
  {
   "cell_type": "code",
   "execution_count": 3,
   "metadata": {},
   "outputs": [
    {
     "name": "stdout",
     "output_type": "stream",
     "text": [
      "(20, 7)\n",
      "<class 'pandas.core.frame.DataFrame'>\n",
      "RangeIndex: 20 entries, 0 to 19\n",
      "Data columns (total 7 columns):\n",
      " #   Column       Non-Null Count  Dtype\n",
      "---  ------       --------------  -----\n",
      " 0   ID           20 non-null     int64\n",
      " 1   Friendly     20 non-null     int64\n",
      " 2   Active       20 non-null     int64\n",
      " 3   Social       20 non-null     int64\n",
      " 4   Logical      20 non-null     int64\n",
      " 5   Intelligent  20 non-null     int64\n",
      " 6   Curious      20 non-null     int64\n",
      "dtypes: int64(7)\n",
      "memory usage: 1.2 KB\n",
      "None\n"
     ]
    },
    {
     "data": {
      "text/html": [
       "<div>\n",
       "<style scoped>\n",
       "    .dataframe tbody tr th:only-of-type {\n",
       "        vertical-align: middle;\n",
       "    }\n",
       "\n",
       "    .dataframe tbody tr th {\n",
       "        vertical-align: top;\n",
       "    }\n",
       "\n",
       "    .dataframe thead th {\n",
       "        text-align: right;\n",
       "    }\n",
       "</style>\n",
       "<table border=\"1\" class=\"dataframe\">\n",
       "  <thead>\n",
       "    <tr style=\"text-align: right;\">\n",
       "      <th></th>\n",
       "      <th>ID</th>\n",
       "      <th>Friendly</th>\n",
       "      <th>Active</th>\n",
       "      <th>Social</th>\n",
       "      <th>Logical</th>\n",
       "      <th>Intelligent</th>\n",
       "      <th>Curious</th>\n",
       "    </tr>\n",
       "  </thead>\n",
       "  <tbody>\n",
       "    <tr>\n",
       "      <th>0</th>\n",
       "      <td>1</td>\n",
       "      <td>5</td>\n",
       "      <td>5</td>\n",
       "      <td>6</td>\n",
       "      <td>6</td>\n",
       "      <td>6</td>\n",
       "      <td>9</td>\n",
       "    </tr>\n",
       "    <tr>\n",
       "      <th>1</th>\n",
       "      <td>2</td>\n",
       "      <td>10</td>\n",
       "      <td>10</td>\n",
       "      <td>7</td>\n",
       "      <td>4</td>\n",
       "      <td>2</td>\n",
       "      <td>5</td>\n",
       "    </tr>\n",
       "    <tr>\n",
       "      <th>2</th>\n",
       "      <td>3</td>\n",
       "      <td>7</td>\n",
       "      <td>8</td>\n",
       "      <td>7</td>\n",
       "      <td>1</td>\n",
       "      <td>3</td>\n",
       "      <td>2</td>\n",
       "    </tr>\n",
       "    <tr>\n",
       "      <th>3</th>\n",
       "      <td>4</td>\n",
       "      <td>4</td>\n",
       "      <td>4</td>\n",
       "      <td>1</td>\n",
       "      <td>5</td>\n",
       "      <td>5</td>\n",
       "      <td>6</td>\n",
       "    </tr>\n",
       "    <tr>\n",
       "      <th>4</th>\n",
       "      <td>5</td>\n",
       "      <td>4</td>\n",
       "      <td>4</td>\n",
       "      <td>6</td>\n",
       "      <td>9</td>\n",
       "      <td>9</td>\n",
       "      <td>9</td>\n",
       "    </tr>\n",
       "  </tbody>\n",
       "</table>\n",
       "</div>"
      ],
      "text/plain": [
       "   ID  Friendly  Active  Social  Logical  Intelligent  Curious\n",
       "0   1         5       5       6        6            6        9\n",
       "1   2        10      10       7        4            2        5\n",
       "2   3         7       8       7        1            3        2\n",
       "3   4         4       4       1        5            5        6\n",
       "4   5         4       4       6        9            9        9"
      ]
     },
     "metadata": {},
     "output_type": "display_data"
    }
   ],
   "source": [
    "df = pd.read_csv(csv_in, delimiter=',', skiprows=0, header=0)\n",
    "print(df.shape)\n",
    "print(df.info())\n",
    "display(df.head())"
   ]
  },
  {
   "cell_type": "code",
   "execution_count": 10,
   "metadata": {},
   "outputs": [
    {
     "data": {
      "text/html": [
       "<div>\n",
       "<style scoped>\n",
       "    .dataframe tbody tr th:only-of-type {\n",
       "        vertical-align: middle;\n",
       "    }\n",
       "\n",
       "    .dataframe tbody tr th {\n",
       "        vertical-align: top;\n",
       "    }\n",
       "\n",
       "    .dataframe thead th {\n",
       "        text-align: right;\n",
       "    }\n",
       "</style>\n",
       "<table border=\"1\" class=\"dataframe\">\n",
       "  <thead>\n",
       "    <tr style=\"text-align: right;\">\n",
       "      <th></th>\n",
       "      <th>Friendly</th>\n",
       "      <th>Active</th>\n",
       "      <th>Social</th>\n",
       "      <th>Logical</th>\n",
       "      <th>Intelligent</th>\n",
       "      <th>Curious</th>\n",
       "    </tr>\n",
       "  </thead>\n",
       "  <tbody>\n",
       "    <tr>\n",
       "      <th>0</th>\n",
       "      <td>5</td>\n",
       "      <td>5</td>\n",
       "      <td>6</td>\n",
       "      <td>6</td>\n",
       "      <td>6</td>\n",
       "      <td>9</td>\n",
       "    </tr>\n",
       "    <tr>\n",
       "      <th>1</th>\n",
       "      <td>10</td>\n",
       "      <td>10</td>\n",
       "      <td>7</td>\n",
       "      <td>4</td>\n",
       "      <td>2</td>\n",
       "      <td>5</td>\n",
       "    </tr>\n",
       "    <tr>\n",
       "      <th>2</th>\n",
       "      <td>7</td>\n",
       "      <td>8</td>\n",
       "      <td>7</td>\n",
       "      <td>1</td>\n",
       "      <td>3</td>\n",
       "      <td>2</td>\n",
       "    </tr>\n",
       "    <tr>\n",
       "      <th>3</th>\n",
       "      <td>4</td>\n",
       "      <td>4</td>\n",
       "      <td>1</td>\n",
       "      <td>5</td>\n",
       "      <td>5</td>\n",
       "      <td>6</td>\n",
       "    </tr>\n",
       "    <tr>\n",
       "      <th>4</th>\n",
       "      <td>4</td>\n",
       "      <td>4</td>\n",
       "      <td>6</td>\n",
       "      <td>9</td>\n",
       "      <td>9</td>\n",
       "      <td>9</td>\n",
       "    </tr>\n",
       "  </tbody>\n",
       "</table>\n",
       "</div>"
      ],
      "text/plain": [
       "   Friendly  Active  Social  Logical  Intelligent  Curious\n",
       "0         5       5       6        6            6        9\n",
       "1        10      10       7        4            2        5\n",
       "2         7       8       7        1            3        2\n",
       "3         4       4       1        5            5        6\n",
       "4         4       4       6        9            9        9"
      ]
     },
     "metadata": {},
     "output_type": "display_data"
    }
   ],
   "source": [
    "df = df.loc[:, 'Friendly':]\n",
    "display(df.head())"
   ]
  },
  {
   "cell_type": "markdown",
   "metadata": {},
   "source": [
    "#### Factor analysis  "
   ]
  },
  {
   "cell_type": "code",
   "execution_count": 11,
   "metadata": {},
   "outputs": [
    {
     "data": {
      "text/plain": [
       "FactorAnalyzer(method='ml', n_factors=2, rotation='varimax', rotation_kwargs={})"
      ]
     },
     "execution_count": 11,
     "metadata": {},
     "output_type": "execute_result"
    }
   ],
   "source": [
    "fa = FactorAnalyzer(n_factors=2, rotation='varimax', method='ml')\n",
    "#fa = FactorAnalyzer(n_factors=2, rotation='varimax', method='minres')\n",
    "fa.fit(df.values)"
   ]
  },
  {
   "cell_type": "markdown",
   "metadata": {},
   "source": [
    "#### Correlation matrix (相関行列)   "
   ]
  },
  {
   "cell_type": "code",
   "execution_count": 12,
   "metadata": {},
   "outputs": [
    {
     "data": {
      "text/html": [
       "<div>\n",
       "<style scoped>\n",
       "    .dataframe tbody tr th:only-of-type {\n",
       "        vertical-align: middle;\n",
       "    }\n",
       "\n",
       "    .dataframe tbody tr th {\n",
       "        vertical-align: top;\n",
       "    }\n",
       "\n",
       "    .dataframe thead th {\n",
       "        text-align: right;\n",
       "    }\n",
       "</style>\n",
       "<table border=\"1\" class=\"dataframe\">\n",
       "  <thead>\n",
       "    <tr style=\"text-align: right;\">\n",
       "      <th></th>\n",
       "      <th>Friendly</th>\n",
       "      <th>Active</th>\n",
       "      <th>Social</th>\n",
       "      <th>Logical</th>\n",
       "      <th>Intelligent</th>\n",
       "      <th>Curious</th>\n",
       "    </tr>\n",
       "  </thead>\n",
       "  <tbody>\n",
       "    <tr>\n",
       "      <th>Friendly</th>\n",
       "      <td>1.000000</td>\n",
       "      <td>0.874059</td>\n",
       "      <td>0.679350</td>\n",
       "      <td>0.137719</td>\n",
       "      <td>0.180420</td>\n",
       "      <td>0.259846</td>\n",
       "    </tr>\n",
       "    <tr>\n",
       "      <th>Active</th>\n",
       "      <td>0.874059</td>\n",
       "      <td>1.000000</td>\n",
       "      <td>0.651193</td>\n",
       "      <td>0.045109</td>\n",
       "      <td>0.083048</td>\n",
       "      <td>0.173865</td>\n",
       "    </tr>\n",
       "    <tr>\n",
       "      <th>Social</th>\n",
       "      <td>0.679350</td>\n",
       "      <td>0.651193</td>\n",
       "      <td>1.000000</td>\n",
       "      <td>0.119059</td>\n",
       "      <td>0.101711</td>\n",
       "      <td>0.167588</td>\n",
       "    </tr>\n",
       "    <tr>\n",
       "      <th>Logical</th>\n",
       "      <td>0.137719</td>\n",
       "      <td>0.045109</td>\n",
       "      <td>0.119059</td>\n",
       "      <td>1.000000</td>\n",
       "      <td>0.845708</td>\n",
       "      <td>0.846972</td>\n",
       "    </tr>\n",
       "    <tr>\n",
       "      <th>Intelligent</th>\n",
       "      <td>0.180420</td>\n",
       "      <td>0.083048</td>\n",
       "      <td>0.101711</td>\n",
       "      <td>0.845708</td>\n",
       "      <td>1.000000</td>\n",
       "      <td>0.701075</td>\n",
       "    </tr>\n",
       "    <tr>\n",
       "      <th>Curious</th>\n",
       "      <td>0.259846</td>\n",
       "      <td>0.173865</td>\n",
       "      <td>0.167588</td>\n",
       "      <td>0.846972</td>\n",
       "      <td>0.701075</td>\n",
       "      <td>1.000000</td>\n",
       "    </tr>\n",
       "  </tbody>\n",
       "</table>\n",
       "</div>"
      ],
      "text/plain": [
       "             Friendly    Active    Social   Logical  Intelligent   Curious\n",
       "Friendly     1.000000  0.874059  0.679350  0.137719     0.180420  0.259846\n",
       "Active       0.874059  1.000000  0.651193  0.045109     0.083048  0.173865\n",
       "Social       0.679350  0.651193  1.000000  0.119059     0.101711  0.167588\n",
       "Logical      0.137719  0.045109  0.119059  1.000000     0.845708  0.846972\n",
       "Intelligent  0.180420  0.083048  0.101711  0.845708     1.000000  0.701075\n",
       "Curious      0.259846  0.173865  0.167588  0.846972     0.701075  1.000000"
      ]
     },
     "metadata": {},
     "output_type": "display_data"
    }
   ],
   "source": [
    "df_corr = df.corr(method='pearson')\n",
    "display(df_corr)"
   ]
  },
  {
   "cell_type": "markdown",
   "metadata": {},
   "source": [
    "#### Eigenvalues (固有値)  "
   ]
  },
  {
   "cell_type": "code",
   "execution_count": 13,
   "metadata": {},
   "outputs": [
    {
     "name": "stdout",
     "output_type": "stream",
     "text": [
      "0    2.967442\n",
      "1    2.118540\n",
      "2    0.406357\n",
      "3    0.294477\n",
      "4    0.120607\n",
      "5    0.092577\n",
      "dtype: float64\n",
      "0    2.776051\n",
      "1    1.929582\n",
      "2    0.029607\n",
      "3    0.025458\n",
      "4   -0.002679\n",
      "5   -0.037833\n",
      "dtype: float64\n"
     ]
    }
   ],
   "source": [
    "eigen_org, eigen_cf = fa.get_eigenvalues()\n",
    "ser_eigen_org = pd.Series(eigen_org)\n",
    "ser_eigen_cf = pd.Series(eigen_cf)\n",
    "print(ser_eigen_org)\n",
    "print(ser_eigen_cf)"
   ]
  },
  {
   "cell_type": "markdown",
   "metadata": {},
   "source": [
    "#### Scree plot (スクリープロット)  "
   ]
  },
  {
   "cell_type": "code",
   "execution_count": 14,
   "metadata": {},
   "outputs": [
    {
     "data": {
      "image/png": "[encoded data removed]",
      "text/plain": [
       "<Figure size 432x288 with 1 Axes>"
      ]
     },
     "metadata": {
      "image/png": {
       "height": 261,
       "width": 385
      },
      "needs_background": "light"
     },
     "output_type": "display_data"
    }
   ],
   "source": [
    "x = np.array(range(len(ser_eigen_org)))+1\n",
    "plt.plot(x, ser_eigen_org, marker='o')\n",
    "plt.xlabel('Eigenvalue No.')\n",
    "plt.ylabel('Eigenvalue')\n",
    "plt.show()"
   ]
  },
  {
   "cell_type": "markdown",
   "metadata": {},
   "source": [
    "**Number of factors: two seems to be appropriate because the third eigenvalue is less than 1 and also the graph becomes gently-sloping at the third eigenvalue.**  \n",
    "**3つめの固有値は1を下回っていて、かつそこからグラフがなだらかになっているので、因子数は2が良さそう**  "
   ]
  },
  {
   "cell_type": "markdown",
   "metadata": {},
   "source": [
    "#### Loadings (因子負荷量)  "
   ]
  },
  {
   "cell_type": "code",
   "execution_count": 15,
   "metadata": {},
   "outputs": [
    {
     "data": {
      "text/html": [
       "<div>\n",
       "<style scoped>\n",
       "    .dataframe tbody tr th:only-of-type {\n",
       "        vertical-align: middle;\n",
       "    }\n",
       "\n",
       "    .dataframe tbody tr th {\n",
       "        vertical-align: top;\n",
       "    }\n",
       "\n",
       "    .dataframe thead th {\n",
       "        text-align: right;\n",
       "    }\n",
       "</style>\n",
       "<table border=\"1\" class=\"dataframe\">\n",
       "  <thead>\n",
       "    <tr style=\"text-align: right;\">\n",
       "      <th></th>\n",
       "      <th>Factor1</th>\n",
       "      <th>Factor2</th>\n",
       "    </tr>\n",
       "  </thead>\n",
       "  <tbody>\n",
       "    <tr>\n",
       "      <th>Friendly</th>\n",
       "      <td>0.109722</td>\n",
       "      <td>0.952249</td>\n",
       "    </tr>\n",
       "    <tr>\n",
       "      <th>Active</th>\n",
       "      <td>0.017625</td>\n",
       "      <td>0.916514</td>\n",
       "    </tr>\n",
       "    <tr>\n",
       "      <th>Social</th>\n",
       "      <td>0.097145</td>\n",
       "      <td>0.702600</td>\n",
       "    </tr>\n",
       "    <tr>\n",
       "      <th>Logical</th>\n",
       "      <td>0.997053</td>\n",
       "      <td>0.029957</td>\n",
       "    </tr>\n",
       "    <tr>\n",
       "      <th>Intelligent</th>\n",
       "      <td>0.845326</td>\n",
       "      <td>0.082194</td>\n",
       "    </tr>\n",
       "    <tr>\n",
       "      <th>Curious</th>\n",
       "      <td>0.843909</td>\n",
       "      <td>0.171611</td>\n",
       "    </tr>\n",
       "  </tbody>\n",
       "</table>\n",
       "</div>"
      ],
      "text/plain": [
       "              Factor1   Factor2\n",
       "Friendly     0.109722  0.952249\n",
       "Active       0.017625  0.916514\n",
       "Social       0.097145  0.702600\n",
       "Logical      0.997053  0.029957\n",
       "Intelligent  0.845326  0.082194\n",
       "Curious      0.843909  0.171611"
      ]
     },
     "metadata": {},
     "output_type": "display_data"
    }
   ],
   "source": [
    "loadings = fa.loadings_\n",
    "df_loadings = pd.DataFrame(loadings, index=df.columns,\n",
    "                           columns=['Factor1','Factor2'])\n",
    "display(df_loadings)"
   ]
  },
  {
   "cell_type": "markdown",
   "metadata": {},
   "source": [
    "#### Scores (因子得点)  "
   ]
  },
  {
   "cell_type": "code",
   "execution_count": 16,
   "metadata": {},
   "outputs": [
    {
     "name": "stdout",
     "output_type": "stream",
     "text": [
      "(20, 2)\n"
     ]
    },
    {
     "data": {
      "text/html": [
       "<div>\n",
       "<style scoped>\n",
       "    .dataframe tbody tr th:only-of-type {\n",
       "        vertical-align: middle;\n",
       "    }\n",
       "\n",
       "    .dataframe tbody tr th {\n",
       "        vertical-align: top;\n",
       "    }\n",
       "\n",
       "    .dataframe thead th {\n",
       "        text-align: right;\n",
       "    }\n",
       "</style>\n",
       "<table border=\"1\" class=\"dataframe\">\n",
       "  <thead>\n",
       "    <tr style=\"text-align: right;\">\n",
       "      <th></th>\n",
       "      <th>Factor1</th>\n",
       "      <th>Factor2</th>\n",
       "    </tr>\n",
       "  </thead>\n",
       "  <tbody>\n",
       "    <tr>\n",
       "      <th>0</th>\n",
       "      <td>0.079606</td>\n",
       "      <td>-0.589200</td>\n",
       "    </tr>\n",
       "    <tr>\n",
       "      <th>1</th>\n",
       "      <td>-0.923340</td>\n",
       "      <td>1.183815</td>\n",
       "    </tr>\n",
       "    <tr>\n",
       "      <th>2</th>\n",
       "      <td>-2.257365</td>\n",
       "      <td>0.387283</td>\n",
       "    </tr>\n",
       "    <tr>\n",
       "      <th>3</th>\n",
       "      <td>-0.379363</td>\n",
       "      <td>-1.037830</td>\n",
       "    </tr>\n",
       "    <tr>\n",
       "      <th>4</th>\n",
       "      <td>1.459282</td>\n",
       "      <td>-1.075586</td>\n",
       "    </tr>\n",
       "  </tbody>\n",
       "</table>\n",
       "</div>"
      ],
      "text/plain": [
       "    Factor1   Factor2\n",
       "0  0.079606 -0.589200\n",
       "1 -0.923340  1.183815\n",
       "2 -2.257365  0.387283\n",
       "3 -0.379363 -1.037830\n",
       "4  1.459282 -1.075586"
      ]
     },
     "metadata": {},
     "output_type": "display_data"
    }
   ],
   "source": [
    "scores = fa.transform(df)\n",
    "df_scores = pd.DataFrame(scores, columns=['Factor1','Factor2'])\n",
    "print(df_scores.shape)\n",
    "display(df_scores.head())"
   ]
  },
  {
   "cell_type": "markdown",
   "metadata": {},
   "source": [
    "#### Uniquenesses (独自因子の割合)  "
   ]
  },
  {
   "cell_type": "code",
   "execution_count": 17,
   "metadata": {},
   "outputs": [
    {
     "name": "stdout",
     "output_type": "stream",
     "text": [
      "Friendly       0.081183\n",
      "Active         0.159691\n",
      "Social         0.496915\n",
      "Logical        0.004987\n",
      "Intelligent    0.278667\n",
      "Curious        0.258368\n",
      "dtype: float64\n"
     ]
    }
   ],
   "source": [
    "uniqueness = fa.get_uniquenesses()\n",
    "ser_uniqueness = pd.Series(uniqueness, index=df.columns)\n",
    "print(ser_uniqueness)"
   ]
  },
  {
   "cell_type": "markdown",
   "metadata": {},
   "source": [
    "**Not so high uniqueness for all data,  \n",
    "so all data are somehow affected by the common factors**"
   ]
  },
  {
   "cell_type": "markdown",
   "metadata": {},
   "source": [
    "#### Contribution of each factor (各共通因子の寄与)  \n",
    "- Variance: 因子負荷量平方和(因子寄与)  \n",
    "- Proportion Var: 寄与率  \n",
    "- Cumulative Var: 累積寄与率"
   ]
  },
  {
   "cell_type": "code",
   "execution_count": 18,
   "metadata": {},
   "outputs": [
    {
     "data": {
      "text/html": [
       "<div>\n",
       "<style scoped>\n",
       "    .dataframe tbody tr th:only-of-type {\n",
       "        vertical-align: middle;\n",
       "    }\n",
       "\n",
       "    .dataframe tbody tr th {\n",
       "        vertical-align: top;\n",
       "    }\n",
       "\n",
       "    .dataframe thead th {\n",
       "        text-align: right;\n",
       "    }\n",
       "</style>\n",
       "<table border=\"1\" class=\"dataframe\">\n",
       "  <thead>\n",
       "    <tr style=\"text-align: right;\">\n",
       "      <th></th>\n",
       "      <th>Factor1</th>\n",
       "      <th>Factor2</th>\n",
       "    </tr>\n",
       "  </thead>\n",
       "  <tbody>\n",
       "    <tr>\n",
       "      <th>var</th>\n",
       "      <td>2.44266</td>\n",
       "      <td>2.277527</td>\n",
       "    </tr>\n",
       "    <tr>\n",
       "      <th>prop_var</th>\n",
       "      <td>0.40711</td>\n",
       "      <td>0.379588</td>\n",
       "    </tr>\n",
       "    <tr>\n",
       "      <th>cum_var</th>\n",
       "      <td>0.40711</td>\n",
       "      <td>0.786698</td>\n",
       "    </tr>\n",
       "  </tbody>\n",
       "</table>\n",
       "</div>"
      ],
      "text/plain": [
       "          Factor1   Factor2\n",
       "var       2.44266  2.277527\n",
       "prop_var  0.40711  0.379588\n",
       "cum_var   0.40711  0.786698"
      ]
     },
     "metadata": {},
     "output_type": "display_data"
    }
   ],
   "source": [
    "fa_var = fa.get_factor_variance()\n",
    "df_fa_var = pd.DataFrame(fa_var,\n",
    "                         index=['var', 'prop_var', 'cum_var'],\n",
    "                         columns=['Factor1', 'Factor2'])\n",
    "display(df_fa_var)"
   ]
  },
  {
   "cell_type": "markdown",
   "metadata": {},
   "source": [
    "**More than 78% of total variance can be explained by Factor1 and Factor2**  "
   ]
  },
  {
   "cell_type": "code",
   "execution_count": 19,
   "metadata": {},
   "outputs": [],
   "source": [
    "# slightly modified from biplot() in pca_and_biplot.ipynb of DM-08\n",
    "def biplot_fa(score_2d, loadings, load_labels=None):\n",
    "    plt.figure(figsize=(10,10))\n",
    "    r1 = 1.5\n",
    "    r2 = 1.01\n",
    "    if load_labels is None:\n",
    "        load_labels = range(len(loadings))\n",
    "    for i, coef in enumerate(loadings):\n",
    "        plt.arrow(0, 0, coef[0]*r1, coef[1]*r1, color='r')    \n",
    "        plt.text(coef[0]*r1*r2, coef[1]*r1*r2, load_labels[i],\n",
    "                 color='b', fontsize=20)\n",
    "    for i in range(len(score_2d)):\n",
    "        m = '${}$'.format(i)\n",
    "        plt.scatter(score_2d[i,0], score_2d[i,1], marker=m, s=500, c='k')\n",
    "    plt.xlabel('F_1')\n",
    "    plt.ylabel('F_2')\n",
    "    plt.grid()\n",
    "    return None"
   ]
  },
  {
   "cell_type": "code",
   "execution_count": 20,
   "metadata": {},
   "outputs": [
    {
     "data": {
      "image/png": "[encoded data removed]",
      "text/plain": [
       "<Figure size 720x720 with 1 Axes>"
      ]
     },
     "metadata": {
      "image/png": {
       "height": 588,
       "width": 663
      },
      "needs_background": "light"
     },
     "output_type": "display_data"
    }
   ],
   "source": [
    "biplot_fa(scores, loadings, load_labels=df.columns)"
   ]
  },
  {
   "cell_type": "code",
   "execution_count": null,
   "metadata": {},
   "outputs": [],
   "source": []
  }
 ],
 "metadata": {
  "kernelspec": {
   "display_name": "Python 3",
   "language": "python",
   "name": "python3"
  },
  "language_info": {
   "codemirror_mode": {
    "name": "ipython",
    "version": 3
   },
   "file_extension": ".py",
   "mimetype": "text/x-python",
   "name": "python",
   "nbconvert_exporter": "python",
   "pygments_lexer": "ipython3",
   "version": "3.8.5"
  }
 },
 "nbformat": 4,
 "nbformat_minor": 4
}
