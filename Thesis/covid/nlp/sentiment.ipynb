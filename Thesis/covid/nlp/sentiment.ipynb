{
 "cells": [
  {
   "cell_type": "code",
   "execution_count": 196,
   "id": "discrete-notebook",
   "metadata": {},
   "outputs": [
    {
     "name": "stderr",
     "output_type": "stream",
     "text": [
      "[nltk_data] Downloading package wordnet to\n",
      "[nltk_data]     C:\\Users\\maidu\\AppData\\Roaming\\nltk_data...\n",
      "[nltk_data]   Package wordnet is already up-to-date!\n"
     ]
    }
   ],
   "source": [
    "import numpy as np\n",
    "import pandas as pd\n",
    "import matplotlib.pyplot as plt\n",
    "from textblob import TextBlob\n",
    "from wordcloud import WordCloud\n",
    "import nltk\n",
    "from nltk.corpus import stopwords\n",
    "from sklearn.feature_extraction.text import CountVectorizer \n",
    "from nltk import word_tokenize\n",
    "import string\n",
    "import re\n",
    "from nltk.stem import WordNetLemmatizer\n",
    "nltk.download('wordnet')\n",
    "from sklearn.model_selection import train_test_split\n",
    "import time\n",
    "from sklearn.linear_model import LogisticRegression\n",
    "from sklearn import metrics"
   ]
  },
  {
   "cell_type": "code",
   "execution_count": 165,
   "id": "scheduled-optimization",
   "metadata": {},
   "outputs": [
    {
     "name": "stdout",
     "output_type": "stream",
     "text": [
      "(50000, 2)\n",
      "<class 'pandas.core.frame.DataFrame'>\n",
      "RangeIndex: 50000 entries, 0 to 49999\n",
      "Data columns (total 2 columns):\n",
      " #   Column     Non-Null Count  Dtype \n",
      "---  ------     --------------  ----- \n",
      " 0   review     50000 non-null  object\n",
      " 1   sentiment  50000 non-null  object\n",
      "dtypes: object(2)\n",
      "memory usage: 781.4+ KB\n",
      "None\n"
     ]
    },
    {
     "data": {
      "text/html": [
       "<div>\n",
       "<style scoped>\n",
       "    .dataframe tbody tr th:only-of-type {\n",
       "        vertical-align: middle;\n",
       "    }\n",
       "\n",
       "    .dataframe tbody tr th {\n",
       "        vertical-align: top;\n",
       "    }\n",
       "\n",
       "    .dataframe thead th {\n",
       "        text-align: right;\n",
       "    }\n",
       "</style>\n",
       "<table border=\"1\" class=\"dataframe\">\n",
       "  <thead>\n",
       "    <tr style=\"text-align: right;\">\n",
       "      <th></th>\n",
       "      <th>review</th>\n",
       "      <th>sentiment</th>\n",
       "    </tr>\n",
       "  </thead>\n",
       "  <tbody>\n",
       "    <tr>\n",
       "      <th>0</th>\n",
       "      <td>One of the other reviewers has mentioned that ...</td>\n",
       "      <td>positive</td>\n",
       "    </tr>\n",
       "    <tr>\n",
       "      <th>1</th>\n",
       "      <td>A wonderful little production. &lt;br /&gt;&lt;br /&gt;The...</td>\n",
       "      <td>positive</td>\n",
       "    </tr>\n",
       "    <tr>\n",
       "      <th>2</th>\n",
       "      <td>I thought this was a wonderful way to spend ti...</td>\n",
       "      <td>positive</td>\n",
       "    </tr>\n",
       "    <tr>\n",
       "      <th>3</th>\n",
       "      <td>Basically there's a family where a little boy ...</td>\n",
       "      <td>negative</td>\n",
       "    </tr>\n",
       "    <tr>\n",
       "      <th>4</th>\n",
       "      <td>Petter Mattei's \"Love in the Time of Money\" is...</td>\n",
       "      <td>positive</td>\n",
       "    </tr>\n",
       "  </tbody>\n",
       "</table>\n",
       "</div>"
      ],
      "text/plain": [
       "                                              review sentiment\n",
       "0  One of the other reviewers has mentioned that ...  positive\n",
       "1  A wonderful little production. <br /><br />The...  positive\n",
       "2  I thought this was a wonderful way to spend ti...  positive\n",
       "3  Basically there's a family where a little boy ...  negative\n",
       "4  Petter Mattei's \"Love in the Time of Money\" is...  positive"
      ]
     },
     "execution_count": 165,
     "metadata": {},
     "output_type": "execute_result"
    }
   ],
   "source": [
    "df = pd.read_csv('IMDB_dataset.csv')\n",
    "print(df.shape)\n",
    "print(df.info())\n",
    "df.head()"
   ]
  },
  {
   "cell_type": "code",
   "execution_count": 166,
   "id": "useful-green",
   "metadata": {},
   "outputs": [
    {
     "name": "stdout",
     "output_type": "stream",
     "text": [
      "13704\n",
      "32\n"
     ]
    }
   ],
   "source": [
    "length_reviews = df.review.str.len()\n",
    "print(max(length_reviews))\n",
    "print(min(length_reviews))"
   ]
  },
  {
   "cell_type": "code",
   "execution_count": 167,
   "id": "civilian-feeling",
   "metadata": {},
   "outputs": [
    {
     "data": {
      "text/plain": [
       "(array([25000.,     0.,     0.,     0.,     0.,     0.,     0.,     0.,\n",
       "            0., 25000.]),\n",
       " array([0. , 0.1, 0.2, 0.3, 0.4, 0.5, 0.6, 0.7, 0.8, 0.9, 1. ]),\n",
       " <BarContainer object of 10 artists>)"
      ]
     },
     "execution_count": 167,
     "metadata": {},
     "output_type": "execute_result"
    },
    {
     "data": {
      "image/png": "[encoded data removed]",
      "text/plain": [
       "<Figure size 432x288 with 1 Axes>"
      ]
     },
     "metadata": {
      "needs_background": "light"
     },
     "output_type": "display_data"
    }
   ],
   "source": [
    "plt.hist(df['sentiment'])"
   ]
  },
  {
   "cell_type": "code",
   "execution_count": 168,
   "id": "surgical-miami",
   "metadata": {},
   "outputs": [],
   "source": [
    "punctuation = set(string.punctuation)\n",
    "wordnet_lemmatizer = WordNetLemmatizer()\n",
    "stopwords_list = stopwords.words('english')\n",
    "stopwords_list.append('br')"
   ]
  },
  {
   "cell_type": "code",
   "execution_count": 169,
   "id": "elect-piece",
   "metadata": {},
   "outputs": [],
   "source": [
    "def text_prep(text):\n",
    "    text = re.sub(r\"n't\", \" not \", text)\n",
    "    text = re.sub(r\"\\'s\", \" \", text)\n",
    "    text = re.sub(r\"\\'ve\", \" have \", text)\n",
    "    text = re.sub(r\"\\'re\", \" are \", text)\n",
    "    text = re.sub(r\"\\'d\", \" would \", text)\n",
    "    text = re.sub(r\"\\'ll\", \" will \", text)\n",
    "    text = re.sub('[^a-z\\s]', '', text.lower())\n",
    "    \n",
    "    punc_removed = [char for char in text if char not in punctuation]\n",
    "    punc_removed = ''.join(punc_removed)\n",
    "\n",
    "    no_stopword = [word for word in punc_removed.split() if word not in stopwords_list]\n",
    "    #print(no_stopword)\n",
    "    \n",
    "    lemmatized = [wordnet_lemmatizer.lemmatize(word) for word in no_stopword]\n",
    "    lemmatized = np.array(lemmatized)\n",
    "    return lemmatized"
   ]
  },
  {
   "cell_type": "code",
   "execution_count": 170,
   "id": "phantom-mistake",
   "metadata": {},
   "outputs": [
    {
     "data": {
      "text/plain": [
       "\"One of the other reviewers has mentioned that after watching just 1 Oz episode you'll be hooked. They are right, as this is exactly what happened with me.<br /><br />The first thing that struck me about Oz was its brutality and unflinching scenes of violence, which set in right from the word GO. Trust me, this is not a show for the faint hearted or timid. This show pulls no punches with regards to drugs, sex or violence. Its is hardcore, in the classic use of the word.<br /><br />It is called OZ as that is the nickname given to the Oswald Maximum Security State Penitentary. It focuses mainly on Emerald City, an experimental section of the prison where all the cells have glass fronts and face inwards, so privacy is not high on the agenda. Em City is home to many..Aryans, Muslims, gangstas, Latinos, Christians, Italians, Irish and more....so scuffles, death stares, dodgy dealings and shady agreements are never far away.<br /><br />I would say the main appeal of the show is due to the fact that it goes where other shows wouldn't dare. Forget pretty pictures painted for mainstream audiences, forget charm, forget romance...OZ doesn't mess around. The first episode I ever saw struck me as so nasty it was surreal, I couldn't say I was ready for it, but as I watched more, I developed a taste for Oz, and got accustomed to the high levels of graphic violence. Not just violence, but injustice (crooked guards who'll be sold out for a nickel, inmates who'll kill on order and get away with it, well mannered, middle class inmates being turned into prison bitches due to their lack of street skills or prison experience) Watching Oz, you may become comfortable with what is uncomfortable viewing....thats if you can get in touch with your darker side.\""
      ]
     },
     "execution_count": 170,
     "metadata": {},
     "output_type": "execute_result"
    }
   ],
   "source": [
    "df['review'][0]"
   ]
  },
  {
   "cell_type": "code",
   "execution_count": 171,
   "id": "widespread-small",
   "metadata": {},
   "outputs": [
    {
     "data": {
      "text/plain": [
       "array(['one', 'reviewer', 'mentioned', 'watching', 'oz', 'episode',\n",
       "       'hooked', 'right', 'exactly', 'happened', 'mebr', 'first', 'thing',\n",
       "       'struck', 'oz', 'brutality', 'unflinching', 'scene', 'violence',\n",
       "       'set', 'right', 'word', 'go', 'trust', 'show', 'faint', 'hearted',\n",
       "       'timid', 'show', 'pull', 'punch', 'regard', 'drug', 'sex',\n",
       "       'violence', 'hardcore', 'classic', 'use', 'wordbr', 'called', 'oz',\n",
       "       'nickname', 'given', 'oswald', 'maximum', 'security', 'state',\n",
       "       'penitentary', 'focus', 'mainly', 'emerald', 'city',\n",
       "       'experimental', 'section', 'prison', 'cell', 'glass', 'front',\n",
       "       'face', 'inwards', 'privacy', 'high', 'agenda', 'em', 'city',\n",
       "       'home', 'manyaryans', 'muslim', 'gangsta', 'latino', 'christian',\n",
       "       'italian', 'irish', 'moreso', 'scuffle', 'death', 'stare', 'dodgy',\n",
       "       'dealing', 'shady', 'agreement', 'never', 'far', 'awaybr', 'would',\n",
       "       'say', 'main', 'appeal', 'show', 'due', 'fact', 'go', 'show',\n",
       "       'would', 'dare', 'forget', 'pretty', 'picture', 'painted',\n",
       "       'mainstream', 'audience', 'forget', 'charm', 'forget', 'romanceoz',\n",
       "       'mess', 'around', 'first', 'episode', 'ever', 'saw', 'struck',\n",
       "       'nasty', 'surreal', 'could', 'say', 'ready', 'watched',\n",
       "       'developed', 'taste', 'oz', 'got', 'accustomed', 'high', 'level',\n",
       "       'graphic', 'violence', 'violence', 'injustice', 'crooked', 'guard',\n",
       "       'sold', 'nickel', 'inmate', 'kill', 'order', 'get', 'away', 'well',\n",
       "       'mannered', 'middle', 'class', 'inmate', 'turned', 'prison',\n",
       "       'bitch', 'due', 'lack', 'street', 'skill', 'prison', 'experience',\n",
       "       'watching', 'oz', 'may', 'become', 'comfortable', 'uncomfortable',\n",
       "       'viewingthats', 'get', 'touch', 'darker', 'side'], dtype='<U13')"
      ]
     },
     "execution_count": 171,
     "metadata": {},
     "output_type": "execute_result"
    }
   ],
   "source": [
    "text_prep(df['review'][0])"
   ]
  },
  {
   "cell_type": "code",
   "execution_count": 172,
   "id": "legendary-inside",
   "metadata": {},
   "outputs": [],
   "source": [
    "X_train, X_test, y_train, y_test = train_test_split(df['review'], df['sentiment'], test_size=0.33, random_state=42)"
   ]
  },
  {
   "cell_type": "code",
   "execution_count": 173,
   "id": "moving-mozambique",
   "metadata": {},
   "outputs": [
    {
     "data": {
      "text/plain": [
       "23990    Randolph Scott is heading into Albuquerque to ...\n",
       "8729     I like this movie cause it has a good approach...\n",
       "3451     Well don't expect anything deep an meaningful....\n",
       "2628     This really should deserve a \"O\" rating, or ev...\n",
       "38352    Dwight Frye steals the show in this one as a f...\n",
       "                               ...                        \n",
       "11284    `Shadow Magic' recaptures the joy and amazemen...\n",
       "44732    I found this movie to be quite enjoyable and f...\n",
       "38158    Avoid this one! It is a terrible movie. So wha...\n",
       "860      This production was quite a surprise for me. I...\n",
       "15795    This is a decent movie. Although little bit sh...\n",
       "Name: review, Length: 33500, dtype: object"
      ]
     },
     "execution_count": 173,
     "metadata": {},
     "output_type": "execute_result"
    }
   ],
   "source": [
    "X_train"
   ]
  },
  {
   "cell_type": "code",
   "execution_count": 176,
   "id": "hungry-support",
   "metadata": {},
   "outputs": [
    {
     "data": {
      "text/plain": [
       "<50000x24780 sparse matrix of type '<class 'numpy.int64'>'\n",
       "\twith 4519573 stored elements in Compressed Sparse Row format>"
      ]
     },
     "execution_count": 176,
     "metadata": {},
     "output_type": "execute_result"
    }
   ],
   "source": [
    "cv= CountVectorizer(binary=True, analyzer = text_prep, min_df = 10, max_df = 0.95)\n",
    "cv.fit_transform(df['review'].values)\n"
   ]
  },
  {
   "cell_type": "code",
   "execution_count": 178,
   "id": "second-perception",
   "metadata": {},
   "outputs": [],
   "source": [
    "train_feature_set=cv.transform(X_train.values)\n",
    "test_feature_set=cv.transform(X_test.values)\n"
   ]
  },
  {
   "cell_type": "code",
   "execution_count": 188,
   "id": "thirty-trainer",
   "metadata": {},
   "outputs": [
    {
     "data": {
      "text/plain": [
       "6628"
      ]
     },
     "execution_count": 188,
     "metadata": {},
     "output_type": "execute_result"
    }
   ],
   "source": [
    "cv.vocabulary_['dude']"
   ]
  },
  {
   "cell_type": "code",
   "execution_count": 189,
   "id": "pressing-kitchen",
   "metadata": {},
   "outputs": [
    {
     "data": {
      "text/plain": [
       "<33500x24780 sparse matrix of type '<class 'numpy.int64'>'\n",
       "\twith 3019021 stored elements in Compressed Sparse Row format>"
      ]
     },
     "execution_count": 189,
     "metadata": {},
     "output_type": "execute_result"
    }
   ],
   "source": [
    "train_feature_set"
   ]
  },
  {
   "cell_type": "code",
   "execution_count": 192,
   "id": "announced-making",
   "metadata": {},
   "outputs": [
    {
     "name": "stdout",
     "output_type": "stream",
     "text": [
      "Time takes to train model and make predictions:  0.05  mins\n"
     ]
    }
   ],
   "source": [
    "\n",
    "lr = LogisticRegression(solver = 'liblinear', random_state = 42, max_iter=1000)\n",
    "lr.fit(train_feature_set,y_train)\n",
    "y_pred = lr.predict(test_feature_set)\n"
   ]
  },
  {
   "cell_type": "code",
   "execution_count": 193,
   "id": "silent-amateur",
   "metadata": {},
   "outputs": [
    {
     "data": {
      "text/plain": [
       "array(['positive', 'positive', 'negative', ..., 'positive', 'positive',\n",
       "       'positive'], dtype=object)"
      ]
     },
     "execution_count": 193,
     "metadata": {},
     "output_type": "execute_result"
    }
   ],
   "source": [
    "y_pred"
   ]
  },
  {
   "cell_type": "code",
   "execution_count": 203,
   "id": "incredible-profile",
   "metadata": {},
   "outputs": [
    {
     "name": "stdout",
     "output_type": "stream",
     "text": [
      "Accuracy:  0.874\n",
      "F1:  1.0\n"
     ]
    }
   ],
   "source": [
    "print(\"Accuracy: \",round(metrics.accuracy_score(y_test,y_pred),3))\n",
    "print(\"F1: \",round(metrics.f1_score(y_test, y_pred,  pos_label=\"positive\")))"
   ]
  },
  {
   "cell_type": "code",
   "execution_count": 205,
   "id": "subtle-local",
   "metadata": {},
   "outputs": [
    {
     "data": {
      "image/png": "[encoded data removed]",
      "text/plain": [
       "<Figure size 432x288 with 2 Axes>"
      ]
     },
     "metadata": {
      "needs_background": "light"
     },
     "output_type": "display_data"
    }
   ],
   "source": [
    "disp = metrics.plot_confusion_matrix(lr, test_feature_set, y_test,\n",
    "                                 display_labels=['Class 0', 'Class 1'],\n",
    "                                 cmap=plt.cm.Blues,\n",
    "                                 normalize='true')\n",
    "disp.ax_.set_title('Logistic Regression Confusion matrix, normalized');"
   ]
  },
  {
   "cell_type": "code",
   "execution_count": 209,
   "id": "physical-sociology",
   "metadata": {},
   "outputs": [
    {
     "data": {
      "text/plain": [
       "array([[0.91188101, 0.08811899]])"
      ]
     },
     "execution_count": 209,
     "metadata": {},
     "output_type": "execute_result"
    }
   ],
   "source": [
    "test_review = cv.transform([\"This movie is a complete waste of time\"])\n",
    "lr.predict_proba(test_review)\n",
    "#negative, positive"
   ]
  },
  {
   "cell_type": "code",
   "execution_count": 210,
   "id": "qualified-knock",
   "metadata": {},
   "outputs": [
    {
     "data": {
      "text/plain": [
       "array([[0.37302906, 0.62697094]])"
      ]
     },
     "execution_count": 210,
     "metadata": {},
     "output_type": "execute_result"
    }
   ],
   "source": [
    "test_review = cv.transform([\"I love this film\"])\n",
    "lr.predict_proba(test_review)"
   ]
  },
  {
   "cell_type": "code",
   "execution_count": 211,
   "id": "dietary-mother",
   "metadata": {},
   "outputs": [],
   "source": [
    "test_review='''This is not a movie or an art piece. It's a lot more!\n",
    "well, this is the best movie i ever seen. it is almost too good to be true, u get so sucked into it that at the end it's like the time and everything stops. the most impressive and the most balanced movie i ever saw. u know what they say, u get what u payed for, with the biggest budget you make the best movie. this is the kind of movie that will enter the history, next to the other great movie which impressed the world.\n",
    "about the goofs, one looks incorrect for me.\n",
    "Its more of a talk without thinking. arrows on first attack bounce of the windscreens, and in the second they blast them. its simple, in the first attack, they fire upwards, at an like 30 degrees angle or more, from a big distance, and they are stationary, not to mention that the arrows hit the windows at a 45 degrees plus, which makes them bounce, only few scratch the windows. at the second attack, they dive from above, with high speed, adding speed to the arrow (relative to the target), and they also fire from a few meters, and perpendicular (almost) on the windows. if i am correct, in the second attack, the arrows hit with more then twice the energy, and remember, in the first attack they could scratch the glass.\n",
    "they wouldn't make such mistake, this movie was too well done to make any mistake.\n",
    "I saw many well known and wonderful movies from top 250, at least 100, and they impressed me, i liked them. if I would view them now, after avatar, i don't think they could impress me anymore, just rized the standards\n",
    "it has 10 stars from me, and i cant wait to see it at the cinema. people who rate this movie less then 8 either they really dun like this kind of movies or are total ignorants. You can't say it's crap when it's yellow and shines.\n",
    "***DO NOT READ FURTHER IF YOU DID NOT WATCHED THE MOVIE YET!!! it might spoil the surprise.***\n",
    "i read like 100 reviews on this movie and i noticed 2 major categories of people the ones who give this move 8+ and have a great impression about it, and another, much smaller, which gave it less then 5, mostly 1 stars, who say 'its a pure eye-candy with a crappy story and no plot, it copies many other movies, and its a ridiculous movie to watch'. that kind of words make my inside burn of frustration. i feel like those people are blind or deaf.\n",
    "its like they don't have a soul any more, they have a heart of cold lead, no imagination, no dreaming. it's horrible. this kinda movie cant be rated on 'points' like sound picture and bla bla bla.Something like this needs an overall opinion. the combination is the true masterpiece. Its a wonder. You cant judge a great picture and say its crap because the paint used is cheap.\n",
    "yesterday i had a flick like idea that passed in my head. i think terminator 2 has a very deep secret message in it. that we wont be killed or taken over by the machines. We are slowly turning into machines (in the inside, literally i mean) because of the environment we live in and the daily routine that we get used to. we will be like living machines. no feelings, no \"soul\", no dreaming, no hopes, just following 'laws' lines, parameters. People like that are starting to appear between us. only a cold blood \"machine like inside\" being cannot be touched by at least 10% of this movie. I hope and pray this is just a ridiculous inexistent coincidence i made.\n",
    "How can someone not be touched by the perfect balance of that wonderful race with the nature, living in harmony. how can u not get emotional at the sight of those hopeless beings after they're home tree is blown to pieces. how not to be sad that humans are a bit same to those in the movie? and the most impressing, how not to get touched by the way that paralyzed man of steel, marine, realized he fought all his life on the wrong side, and now he finally finds something that worth fighting for, real freedom and nature and how not to get touched by the wonderful ultimate freedom of being able to fly on the back of a dragon like creature, and control it like an extension of your mind, up in the sky, \"on top of the world\", between those floating mountains \"i am not too much of a horse guy, but i feel i was born to do this\" he says. from a wheal chair in a metal house, to the top of the sky. and not to mention that in the end he finally gets rid of the horror of waking up from the device that he was depending on to get into the in the wonderland, entering his avatar. His 'soul' is transfered from his human body to the avatar, finally being totally free to live his dream all the rest of his life in that world of perfect balance, full of life, enveloped by nature.\n",
    "I liked how Jake realizes that he fights for the wrong things, when the right thing that is worth to fight for, he was fighting against.\n",
    "Its funny how the colonel says that place is worse then hell, but actually is better then haven. Don't kick the dog! Look in his eyes, scratch him between his ears.\n",
    "Someone says this movie has a soul. I feel the same thing!\n",
    "1 of the most sad things about this movie is that it's just an imagination, a dream about a perfect place, but unreal.'''"
   ]
  },
  {
   "cell_type": "code",
   "execution_count": 212,
   "id": "clinical-rebate",
   "metadata": {},
   "outputs": [
    {
     "data": {
      "text/plain": [
       "array([[0.00100514, 0.99899486]])"
      ]
     },
     "execution_count": 212,
     "metadata": {},
     "output_type": "execute_result"
    }
   ],
   "source": [
    "test_review = cv.transform([test_review])\n",
    "lr.predict_proba(test_review)"
   ]
  },
  {
   "cell_type": "code",
   "execution_count": null,
   "id": "consistent-progress",
   "metadata": {},
   "outputs": [],
   "source": []
  }
 ],
 "metadata": {
  "kernelspec": {
   "display_name": "Python 3",
   "language": "python",
   "name": "python3"
  },
  "language_info": {
   "codemirror_mode": {
    "name": "ipython",
    "version": 3
   },
   "file_extension": ".py",
   "mimetype": "text/x-python",
   "name": "python",
   "nbconvert_exporter": "python",
   "pygments_lexer": "ipython3",
   "version": "3.8.5"
  }
 },
 "nbformat": 4,
 "nbformat_minor": 5
}
