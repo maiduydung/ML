{
 "cells": [
  {
   "cell_type": "code",
   "execution_count": 1,
   "metadata": {},
   "outputs": [
    {
     "data": {
      "text/plain": [
       "(108.24021609275968, 131.75978390724032)"
      ]
     },
     "execution_count": 1,
     "metadata": {},
     "output_type": "execute_result"
    }
   ],
   "source": [
    "import numpy as np\n",
    "import scipy.stats as st\n",
    "\n",
    "x=np.array([120])\n",
    "\n",
    "#Sample size.\n",
    "n=x.size\n",
    "\n",
    "#Sample mean.\n",
    "x_mean=x.mean()\n",
    "\n",
    "#Population SD.\n",
    "x_sd=6\n",
    "\n",
    "st.norm.interval(alpha=0.95,loc=x_mean,scale=x_sd/np.sqrt(n))"
   ]
  },
  {
   "cell_type": "code",
   "execution_count": 2,
   "metadata": {},
   "outputs": [
    {
     "data": {
      "text/plain": [
       "(7.820445974652658, 7.903554025347343)"
      ]
     },
     "execution_count": 2,
     "metadata": {},
     "output_type": "execute_result"
    }
   ],
   "source": [
    "import numpy as np\n",
    "import scipy.stats as st\n",
    "\n",
    "x=np.array([7.86, 7.89, 7.84, 7.90, 7.82])\n",
    "\n",
    "#Sample size.\n",
    "n=x.size\n",
    "\n",
    "#Sample mean.\n",
    "x_mean=x.mean()\n",
    "\n",
    "#Unknown SD.\n",
    "x_sd=np.std(x,ddof=1)\n",
    "\n",
    "st.t.interval(alpha=0.95,df=n-1,loc=x_mean,scale=x_sd/np.sqrt(n))"
   ]
  },
  {
   "cell_type": "code",
   "execution_count": null,
   "metadata": {},
   "outputs": [],
   "source": []
  },
  {
   "cell_type": "code",
   "execution_count": null,
   "metadata": {},
   "outputs": [],
   "source": []
  },
  {
   "cell_type": "code",
   "execution_count": null,
   "metadata": {},
   "outputs": [],
   "source": []
  },
  {
   "cell_type": "code",
   "execution_count": 3,
   "metadata": {},
   "outputs": [
    {
     "data": {
      "text/plain": [
       "(3.706521545468786, 6.0134784545312145)"
      ]
     },
     "execution_count": 3,
     "metadata": {},
     "output_type": "execute_result"
    }
   ],
   "source": [
    "import numpy as np\n",
    "import scipy.stats as st\n",
    "\n",
    "x=np.array([3.5,4.5,5.1,5.2,6.0])\n",
    "\n",
    "#Sample size.\n",
    "n=x.size\n",
    "\n",
    "#Sample mean.\n",
    "x_mean=x.mean()\n",
    "\n",
    "#Unknown SD.\n",
    "x_sd=np.std(x,ddof=1)\n",
    "\n",
    "st.t.interval(alpha=0.95,df=n-1,loc=x_mean,scale=x_sd/np.sqrt(n))"
   ]
  },
  {
   "cell_type": "code",
   "execution_count": 10,
   "metadata": {},
   "outputs": [
    {
     "data": {
      "text/plain": [
       "(4.597043237827026, 5.122956762172975)"
      ]
     },
     "execution_count": 10,
     "metadata": {},
     "output_type": "execute_result"
    }
   ],
   "source": [
    "import numpy as np\n",
    "import scipy.stats as st\n",
    "\n",
    "x=np.array([3.5,4.5,5.1,5.2,6.0])\n",
    "\n",
    "#Sample size.\n",
    "n=x.size\n",
    "\n",
    "#Sample mean.\n",
    "x_mean=x.mean()\n",
    "\n",
    "#pop SD.\n",
    "x_sd= np.sqrt(0.09)\n",
    "\n",
    "st.norm.interval(alpha=0.95,loc=x_mean,scale = x_sd/np.sqrt(n))"
   ]
  },
  {
   "cell_type": "code",
   "execution_count": 11,
   "metadata": {},
   "outputs": [
    {
     "data": {
      "text/plain": [
       "(6.097043237827026, 6.622956762172975)"
      ]
     },
     "execution_count": 11,
     "metadata": {},
     "output_type": "execute_result"
    }
   ],
   "source": [
    "import numpy as np\n",
    "import scipy.stats as st\n",
    "\n",
    "x=np.array([3.5,4.5,5.1,5.2,6.0])\n",
    "x=x+1.5\n",
    "\n",
    "#Sample size.\n",
    "n=x.size\n",
    "\n",
    "#Sample mean.\n",
    "x_mean=x.mean()\n",
    "\n",
    "#pop SD.\n",
    "x_sd= np.sqrt(0.09)\n",
    "\n",
    "st.norm.interval(alpha=0.95,loc=x_mean,scale = x_sd/np.sqrt(n))"
   ]
  },
  {
   "cell_type": "code",
   "execution_count": null,
   "metadata": {},
   "outputs": [],
   "source": []
  },
  {
   "cell_type": "code",
   "execution_count": null,
   "metadata": {},
   "outputs": [],
   "source": []
  },
  {
   "cell_type": "code",
   "execution_count": 13,
   "metadata": {},
   "outputs": [
    {
     "data": {
      "text/plain": [
       "(108.35009003864987, 118.14990996135013)"
      ]
     },
     "execution_count": 13,
     "metadata": {},
     "output_type": "execute_result"
    }
   ],
   "source": [
    "import numpy as np\n",
    "import scipy.stats as st\n",
    "\n",
    "x=np.array([110,112,115,116])\n",
    "\n",
    "\n",
    "#Sample size.\n",
    "n=x.size\n",
    "\n",
    "#Sample mean.\n",
    "x_mean=x.mean()\n",
    "\n",
    "#pop SD.\n",
    "x_sd= 5\n",
    "\n",
    "st.norm.interval(alpha=0.95,loc=x_mean,scale = x_sd/np.sqrt(n))"
   ]
  },
  {
   "cell_type": "code",
   "execution_count": null,
   "metadata": {},
   "outputs": [],
   "source": []
  },
  {
   "cell_type": "code",
   "execution_count": null,
   "metadata": {},
   "outputs": [],
   "source": []
  },
  {
   "cell_type": "code",
   "execution_count": null,
   "metadata": {},
   "outputs": [],
   "source": []
  },
  {
   "cell_type": "code",
   "execution_count": 16,
   "metadata": {},
   "outputs": [
    {
     "data": {
      "text/plain": [
       "(7.278945612569528, 8.035340101716187)"
      ]
     },
     "execution_count": 16,
     "metadata": {},
     "output_type": "execute_result"
    }
   ],
   "source": [
    "import numpy as np\n",
    "import scipy.stats as st\n",
    "\n",
    "x=np.array([7.16,7.89,7.84,7.90,7.82,6.98,8.01])\n",
    "\n",
    "\n",
    "#Sample size.\n",
    "n=x.size\n",
    "\n",
    "#Sample mean.\n",
    "x_mean=x.mean()\n",
    "\n",
    "#sample SD. unbiased\n",
    "x_sd= np.std(x,ddof=1)\n",
    "\n",
    "st.t.interval(alpha=0.95,df=n-1,loc=x_mean,scale = x_sd/np.sqrt(n))"
   ]
  },
  {
   "cell_type": "code",
   "execution_count": null,
   "metadata": {},
   "outputs": [],
   "source": []
  },
  {
   "cell_type": "code",
   "execution_count": null,
   "metadata": {},
   "outputs": [],
   "source": []
  },
  {
   "cell_type": "code",
   "execution_count": 17,
   "metadata": {},
   "outputs": [
    {
     "data": {
      "text/plain": [
       "(6.879954416182235, 7.360045583817765)"
      ]
     },
     "execution_count": 17,
     "metadata": {},
     "output_type": "execute_result"
    }
   ],
   "source": [
    "import numpy as np\n",
    "import scipy.stats as st\n",
    "\n",
    "x=np.array([6.86,7.29,7.14,6.9,7.22,7.31])\n",
    "\n",
    "\n",
    "#Sample size.\n",
    "n=x.size\n",
    "\n",
    "#Sample mean.\n",
    "x_mean=x.mean()\n",
    "\n",
    "#Pop. SD.\n",
    "x_sd=0.3 \n",
    "\n",
    "st.norm.interval(alpha=0.95,loc=x_mean,scale = x_sd/np.sqrt(n))"
   ]
  },
  {
   "cell_type": "code",
   "execution_count": null,
   "metadata": {},
   "outputs": [],
   "source": []
  },
  {
   "cell_type": "code",
   "execution_count": null,
   "metadata": {},
   "outputs": [],
   "source": []
  },
  {
   "cell_type": "code",
   "execution_count": null,
   "metadata": {},
   "outputs": [],
   "source": [
    "#society is a cage, reject hierarchy, sigma male grindset"
   ]
  },
  {
   "cell_type": "code",
   "execution_count": 18,
   "metadata": {},
   "outputs": [
    {
     "data": {
      "text/plain": [
       "(6.914675027226788, 7.325324972773212)"
      ]
     },
     "execution_count": 18,
     "metadata": {},
     "output_type": "execute_result"
    }
   ],
   "source": [
    "import numpy as np\n",
    "import scipy.stats as st\n",
    "\n",
    "x=np.array([6.86,7.29,7.14,6.9,7.22,7.31])\n",
    "\n",
    "\n",
    "#Sample size.\n",
    "n=x.size\n",
    "\n",
    "#Sample mean.\n",
    "x_mean=x.mean()\n",
    "\n",
    "#sample. SD.\n",
    "x_sd=np.std(x,ddof=1)\n",
    "\n",
    "st.t.interval(alpha=0.95,df=n-1,loc=x_mean,scale = x_sd/np.sqrt(n))"
   ]
  },
  {
   "cell_type": "code",
   "execution_count": null,
   "metadata": {},
   "outputs": [],
   "source": []
  }
 ],
 "metadata": {
  "kernelspec": {
   "display_name": "Python 3",
   "language": "python",
   "name": "python3"
  },
  "language_info": {
   "codemirror_mode": {
    "name": "ipython",
    "version": 3
   },
   "file_extension": ".py",
   "mimetype": "text/x-python",
   "name": "python",
   "nbconvert_exporter": "python",
   "pygments_lexer": "ipython3",
   "version": "3.8.5"
  }
 },
 "nbformat": 4,
 "nbformat_minor": 4
}
