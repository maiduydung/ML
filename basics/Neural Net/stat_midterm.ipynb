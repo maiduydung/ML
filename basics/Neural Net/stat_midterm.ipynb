{
 "cells": [
  {
   "cell_type": "code",
   "execution_count": 2,
   "id": "demanding-liechtenstein",
   "metadata": {},
   "outputs": [],
   "source": [
    "import numpy as np\n",
    "\n",
    "import pandas as pd\n",
    "\n",
    "import matplotlib.pyplot as plt"
   ]
  },
  {
   "cell_type": "code",
   "execution_count": 5,
   "id": "chicken-insertion",
   "metadata": {},
   "outputs": [],
   "source": [
    "arr = np.array([4.0, 1.5, 0.8, 3.5, 1.9, 2.8, 1.1, 2.7, 2.2, 3.0, 2.1, 5.1, 2.1, 5.1, 5.2])"
   ]
  },
  {
   "cell_type": "code",
   "execution_count": 6,
   "id": "logical-survival",
   "metadata": {},
   "outputs": [
    {
     "data": {
      "text/plain": [
       "2.7"
      ]
     },
     "execution_count": 6,
     "metadata": {},
     "output_type": "execute_result"
    }
   ],
   "source": [
    "np.median(arr)"
   ]
  },
  {
   "cell_type": "code",
   "execution_count": null,
   "id": "brown-gregory",
   "metadata": {},
   "outputs": [],
   "source": []
  },
  {
   "cell_type": "code",
   "execution_count": 12,
   "id": "sexual-gibraltar",
   "metadata": {},
   "outputs": [
    {
     "data": {
      "text/plain": [
       "{'whiskers': [<matplotlib.lines.Line2D at 0x273d5427e20>,\n",
       "  <matplotlib.lines.Line2D at 0x273d54471c0>],\n",
       " 'caps': [<matplotlib.lines.Line2D at 0x273d5447520>,\n",
       "  <matplotlib.lines.Line2D at 0x273d5447880>],\n",
       " 'boxes': [<matplotlib.lines.Line2D at 0x273d5427b80>],\n",
       " 'medians': [<matplotlib.lines.Line2D at 0x273d5447be0>],\n",
       " 'fliers': [<matplotlib.lines.Line2D at 0x273d5447f40>],\n",
       " 'means': []}"
      ]
     },
     "execution_count": 12,
     "metadata": {},
     "output_type": "execute_result"
    },
    {
     "data": {
      "image/png": "[encoded data removed]",
      "text/plain": [
       "<Figure size 432x288 with 1 Axes>"
      ]
     },
     "metadata": {
      "needs_background": "light"
     },
     "output_type": "display_data"
    }
   ],
   "source": [
    "arr2 = np.array([4.0, 1.5, 0.8, 3.5, 1.9, 2.8, 1.1, 2.7, 2.2, 3.0, 2.1, 5.1, 2.1, 5.1, 5.2])\n",
    "plt.boxplot(arr2)"
   ]
  },
  {
   "cell_type": "markdown",
   "id": "extra-cabin",
   "metadata": {},
   "source": [
    "### Use interpolation='lower'"
   ]
  },
  {
   "cell_type": "code",
   "execution_count": 19,
   "id": "bound-yeast",
   "metadata": {},
   "outputs": [
    {
     "data": {
      "text/plain": [
       "array([1.9, 2.7, 3.5])"
      ]
     },
     "execution_count": 19,
     "metadata": {},
     "output_type": "execute_result"
    }
   ],
   "source": [
    "# get 3 quartiles\n",
    "np.percentile(arr2, [25, 50, 75], interpolation='lower')"
   ]
  },
  {
   "attachments": {
    "e10d126f-c501-413b-8ca2-aaec072713b1.png": {
     "image/png": "[encoded data removed]"
    }
   },
   "cell_type": "markdown",
   "id": "piano-upgrade",
   "metadata": {},
   "source": [
    "### Geometric mean - Trung bình nhân\n",
    "![image.png](attachment:e10d126f-c501-413b-8ca2-aaec072713b1.png)"
   ]
  },
  {
   "cell_type": "code",
   "execution_count": 4,
   "id": "scenic-russia",
   "metadata": {},
   "outputs": [
    {
     "name": "stdout",
     "output_type": "stream",
     "text": [
      "24.49489742783178\n"
     ]
    }
   ],
   "source": [
    "import numpy as np\n",
    "x=np.array([2500/1000, 4000/2500])\n",
    "p=1/len(x)\n",
    "\n",
    "res = np.prod(x)\n",
    "print(np.power(res,p))"
   ]
  },
  {
   "cell_type": "code",
   "execution_count": null,
   "id": "universal-bearing",
   "metadata": {},
   "outputs": [],
   "source": []
  }
 ],
 "metadata": {
  "kernelspec": {
   "display_name": "Python 3",
   "language": "python",
   "name": "python3"
  },
  "language_info": {
   "codemirror_mode": {
    "name": "ipython",
    "version": 3
   },
   "file_extension": ".py",
   "mimetype": "text/x-python",
   "name": "python",
   "nbconvert_exporter": "python",
   "pygments_lexer": "ipython3",
   "version": "3.8.5"
  }
 },
 "nbformat": 4,
 "nbformat_minor": 5
}
