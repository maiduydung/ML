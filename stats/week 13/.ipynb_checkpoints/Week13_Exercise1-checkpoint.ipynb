{
 "cells": [
  {
   "cell_type": "code",
   "execution_count": 2,
   "metadata": {},
   "outputs": [
    {
     "name": "stdout",
     "output_type": "stream",
     "text": [
      "p-value is 0.14161092902072725\n",
      "帰無仮説棄却できない\n"
     ]
    }
   ],
   "source": [
    "import numpy as np\n",
    "from scipy import stats\n",
    "from scipy.stats import norm \n",
    "\n",
    "X = np.array([42.9, 43.7, 43.2, 40.8, 42.8, 44.2])\n",
    "mu_0=41.4\n",
    "X_mean = X.mean()\n",
    "X_sd = 3.5 \n",
    "N=X.size\n",
    "\n",
    "z = (X_mean -mu_0)/ (X_sd / np.sqrt(N))\n",
    "\n",
    "p_val = norm.cdf( -np.abs(z)) \n",
    "print(\"p-value is\",p_val)\n",
    "\n",
    "if p_val<0.05:\n",
    "    print(\"帰無仮説棄却\")\n",
    "else:\n",
    "    print(\"帰無仮説棄却できない\")"
   ]
  }
 ],
 "metadata": {
  "kernelspec": {
   "display_name": "Python 3",
   "language": "python",
   "name": "python3"
  },
  "language_info": {
   "codemirror_mode": {
    "name": "ipython",
    "version": 3
   },
   "file_extension": ".py",
   "mimetype": "text/x-python",
   "name": "python",
   "nbconvert_exporter": "python",
   "pygments_lexer": "ipython3",
   "version": "3.7.3"
  }
 },
 "nbformat": 4,
 "nbformat_minor": 2
}
