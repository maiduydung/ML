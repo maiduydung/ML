{
 "cells": [
  {
   "cell_type": "code",
   "execution_count": 122,
   "id": "elegant-richmond",
   "metadata": {},
   "outputs": [
    {
     "name": "stderr",
     "output_type": "stream",
     "text": [
      "[nltk_data] Downloading package wordnet to\n",
      "[nltk_data]     C:\\Users\\maidu\\AppData\\Roaming\\nltk_data...\n",
      "[nltk_data]   Package wordnet is already up-to-date!\n"
     ]
    }
   ],
   "source": [
    "import numpy as np\n",
    "import pandas as pd\n",
    "import matplotlib.pyplot as plt\n",
    "from textblob import TextBlob\n",
    "from wordcloud import WordCloud\n",
    "import nltk\n",
    "from nltk.corpus import stopwords\n",
    "from sklearn.feature_extraction.text import CountVectorizer \n",
    "from nltk import word_tokenize\n",
    "import string\n",
    "import re\n",
    "from nltk.stem import WordNetLemmatizer\n",
    "nltk.download('wordnet')\n",
    "from sklearn.model_selection import train_test_split\n",
    "import time\n",
    "from sklearn.linear_model import LogisticRegression\n",
    "from sklearn import metrics\n",
    "from sklearn.preprocessing import LabelEncoder\n",
    "\n",
    "from sklearn.metrics import confusion_matrix \n",
    "from sklearn.metrics import plot_confusion_matrix\n",
    "import matplotlib.pyplot as plt\n",
    "import seaborn as sns\n",
    "from sklearn.metrics import accuracy_score\n",
    "import datetime"
   ]
  },
  {
   "cell_type": "code",
   "execution_count": 123,
   "id": "convenient-abortion",
   "metadata": {},
   "outputs": [
    {
     "name": "stdout",
     "output_type": "stream",
     "text": [
      "(1329, 6)\n",
      "binary_score (1:good   0: bad)    float64\n",
      "news_title                         object\n",
      "news_writer                        object\n",
      "news_written_date                  object\n",
      "news_text                          object\n",
      "news_url                           object\n",
      "dtype: object\n"
     ]
    },
    {
     "data": {
      "text/html": [
       "<div>\n",
       "<style scoped>\n",
       "    .dataframe tbody tr th:only-of-type {\n",
       "        vertical-align: middle;\n",
       "    }\n",
       "\n",
       "    .dataframe tbody tr th {\n",
       "        vertical-align: top;\n",
       "    }\n",
       "\n",
       "    .dataframe thead th {\n",
       "        text-align: right;\n",
       "    }\n",
       "</style>\n",
       "<table border=\"1\" class=\"dataframe\">\n",
       "  <thead>\n",
       "    <tr style=\"text-align: right;\">\n",
       "      <th></th>\n",
       "      <th>binary_score (1:good   0: bad)</th>\n",
       "      <th>news_title</th>\n",
       "      <th>news_writer</th>\n",
       "      <th>news_written_date</th>\n",
       "      <th>news_text</th>\n",
       "      <th>news_url</th>\n",
       "    </tr>\n",
       "  </thead>\n",
       "  <tbody>\n",
       "    <tr>\n",
       "      <th>0</th>\n",
       "      <td>1.0</td>\n",
       "      <td>Fewer than 2,000 new virus cases in Tokyo for ...</td>\n",
       "      <td>['THE ASAHI SHIMBUN']</td>\n",
       "      <td>August 30, 2021 at 18:30 JST</td>\n",
       "      <td>Tokyo reported 1,915 fresh cases of COVID-19 ...</td>\n",
       "      <td>https://www.asahi.com//ajw/articles/14429591</td>\n",
       "    </tr>\n",
       "    <tr>\n",
       "      <th>1</th>\n",
       "      <td>0.0</td>\n",
       "      <td>COVID-19 cases (Aug. 29)</td>\n",
       "      <td>['THE ASAHI SHIMBUN']</td>\n",
       "      <td>August 30, 2021 at 11:30 JST</td>\n",
       "      <td>NaN</td>\n",
       "      <td>https://www.asahi.com//ajw/articles/14429351</td>\n",
       "    </tr>\n",
       "    <tr>\n",
       "      <th>2</th>\n",
       "      <td>0.0</td>\n",
       "      <td>Record virus cases for a Sunday in Osaka; Toky...</td>\n",
       "      <td>['THE ASAHI SHIMBUN']</td>\n",
       "      <td>August 29, 2021 at 18:35 JST</td>\n",
       "      <td>Authorities in Osaka Prefecture on Aug. 29 re...</td>\n",
       "      <td>https://www.asahi.com//ajw/articles/14428889</td>\n",
       "    </tr>\n",
       "    <tr>\n",
       "      <th>3</th>\n",
       "      <td>0.0</td>\n",
       "      <td>COVID-19 cases (Aug. 28)</td>\n",
       "      <td>['THE ASAHI SHIMBUN']</td>\n",
       "      <td>August 29, 2021 at 11:30 JST</td>\n",
       "      <td>NaN</td>\n",
       "      <td>https://www.asahi.com//ajw/articles/14428777</td>\n",
       "    </tr>\n",
       "    <tr>\n",
       "      <th>4</th>\n",
       "      <td>0.0</td>\n",
       "      <td>19 COVID-19 deaths in Tokyo; serious cases hit...</td>\n",
       "      <td>['THE ASAHI SHIMBUN']</td>\n",
       "      <td>August 28, 2021 at 19:00 JST</td>\n",
       "      <td>There was good news and bad on the COVID-19 f...</td>\n",
       "      <td>https://www.asahi.com//ajw/articles/14428381</td>\n",
       "    </tr>\n",
       "  </tbody>\n",
       "</table>\n",
       "</div>"
      ],
      "text/plain": [
       "   binary_score (1:good   0: bad)  \\\n",
       "0                             1.0   \n",
       "1                             0.0   \n",
       "2                             0.0   \n",
       "3                             0.0   \n",
       "4                             0.0   \n",
       "\n",
       "                                          news_title            news_writer  \\\n",
       "0  Fewer than 2,000 new virus cases in Tokyo for ...  ['THE ASAHI SHIMBUN']   \n",
       "1                           COVID-19 cases (Aug. 29)  ['THE ASAHI SHIMBUN']   \n",
       "2  Record virus cases for a Sunday in Osaka; Toky...  ['THE ASAHI SHIMBUN']   \n",
       "3                           COVID-19 cases (Aug. 28)  ['THE ASAHI SHIMBUN']   \n",
       "4  19 COVID-19 deaths in Tokyo; serious cases hit...  ['THE ASAHI SHIMBUN']   \n",
       "\n",
       "              news_written_date  \\\n",
       "0  August 30, 2021 at 18:30 JST   \n",
       "1  August 30, 2021 at 11:30 JST   \n",
       "2  August 29, 2021 at 18:35 JST   \n",
       "3  August 29, 2021 at 11:30 JST   \n",
       "4  August 28, 2021 at 19:00 JST   \n",
       "\n",
       "                                           news_text  \\\n",
       "0   Tokyo reported 1,915 fresh cases of COVID-19 ...   \n",
       "1                                                NaN   \n",
       "2   Authorities in Osaka Prefecture on Aug. 29 re...   \n",
       "3                                                NaN   \n",
       "4   There was good news and bad on the COVID-19 f...   \n",
       "\n",
       "                                       news_url  \n",
       "0  https://www.asahi.com//ajw/articles/14429591  \n",
       "1  https://www.asahi.com//ajw/articles/14429351  \n",
       "2  https://www.asahi.com//ajw/articles/14428889  \n",
       "3  https://www.asahi.com//ajw/articles/14428777  \n",
       "4  https://www.asahi.com//ajw/articles/14428381  "
      ]
     },
     "execution_count": 123,
     "metadata": {},
     "output_type": "execute_result"
    }
   ],
   "source": [
    "df = pd.read_csv('Aug30th_all_articles_bin_graded.csv')\n",
    "print(df.shape)\n",
    "print(df.dtypes)\n",
    "df.head()"
   ]
  },
  {
   "cell_type": "markdown",
   "id": "rental-summit",
   "metadata": {},
   "source": [
    "### Removing empty news_text"
   ]
  },
  {
   "cell_type": "code",
   "execution_count": 126,
   "id": "earned-presentation",
   "metadata": {},
   "outputs": [
    {
     "name": "stdout",
     "output_type": "stream",
     "text": [
      "(964, 6)\n"
     ]
    },
    {
     "data": {
      "text/html": [
       "<div>\n",
       "<style scoped>\n",
       "    .dataframe tbody tr th:only-of-type {\n",
       "        vertical-align: middle;\n",
       "    }\n",
       "\n",
       "    .dataframe tbody tr th {\n",
       "        vertical-align: top;\n",
       "    }\n",
       "\n",
       "    .dataframe thead th {\n",
       "        text-align: right;\n",
       "    }\n",
       "</style>\n",
       "<table border=\"1\" class=\"dataframe\">\n",
       "  <thead>\n",
       "    <tr style=\"text-align: right;\">\n",
       "      <th></th>\n",
       "      <th>binary_score (1:good   0: bad)</th>\n",
       "      <th>news_title</th>\n",
       "      <th>news_writer</th>\n",
       "      <th>news_written_date</th>\n",
       "      <th>news_text</th>\n",
       "      <th>news_url</th>\n",
       "    </tr>\n",
       "  </thead>\n",
       "  <tbody>\n",
       "    <tr>\n",
       "      <th>0</th>\n",
       "      <td>1.0</td>\n",
       "      <td>Fewer than 2,000 new virus cases in Tokyo for ...</td>\n",
       "      <td>['THE ASAHI SHIMBUN']</td>\n",
       "      <td>August 30, 2021 at 18:30 JST</td>\n",
       "      <td>Tokyo reported 1,915 fresh cases of COVID-19 ...</td>\n",
       "      <td>https://www.asahi.com//ajw/articles/14429591</td>\n",
       "    </tr>\n",
       "    <tr>\n",
       "      <th>2</th>\n",
       "      <td>0.0</td>\n",
       "      <td>Record virus cases for a Sunday in Osaka; Toky...</td>\n",
       "      <td>['THE ASAHI SHIMBUN']</td>\n",
       "      <td>August 29, 2021 at 18:35 JST</td>\n",
       "      <td>Authorities in Osaka Prefecture on Aug. 29 re...</td>\n",
       "      <td>https://www.asahi.com//ajw/articles/14428889</td>\n",
       "    </tr>\n",
       "    <tr>\n",
       "      <th>4</th>\n",
       "      <td>0.0</td>\n",
       "      <td>19 COVID-19 deaths in Tokyo; serious cases hit...</td>\n",
       "      <td>['THE ASAHI SHIMBUN']</td>\n",
       "      <td>August 28, 2021 at 19:00 JST</td>\n",
       "      <td>There was good news and bad on the COVID-19 f...</td>\n",
       "      <td>https://www.asahi.com//ajw/articles/14428381</td>\n",
       "    </tr>\n",
       "    <tr>\n",
       "      <th>6</th>\n",
       "      <td>0.0</td>\n",
       "      <td>Japan breaks record of serious COVID-19 cases ...</td>\n",
       "      <td>['THE ASAHI SHIMBUN']</td>\n",
       "      <td>August 27, 2021 at 18:50 JST</td>\n",
       "      <td>Tokyo confirmed 4,227 new COVID-19 cases on A...</td>\n",
       "      <td>https://www.asahi.com//ajw/articles/14427606</td>\n",
       "    </tr>\n",
       "    <tr>\n",
       "      <th>7</th>\n",
       "      <td>0.0</td>\n",
       "      <td>Metal substance tainted Moderna jabs, dealing ...</td>\n",
       "      <td>['THE ASAHI SHIMBUN']</td>\n",
       "      <td>August 27, 2021 at 17:55 JST</td>\n",
       "      <td>The foreign substance found in Moderna's COVI...</td>\n",
       "      <td>https://www.asahi.com//ajw/articles/14427323</td>\n",
       "    </tr>\n",
       "  </tbody>\n",
       "</table>\n",
       "</div>"
      ],
      "text/plain": [
       "   binary_score (1:good   0: bad)  \\\n",
       "0                             1.0   \n",
       "2                             0.0   \n",
       "4                             0.0   \n",
       "6                             0.0   \n",
       "7                             0.0   \n",
       "\n",
       "                                          news_title            news_writer  \\\n",
       "0  Fewer than 2,000 new virus cases in Tokyo for ...  ['THE ASAHI SHIMBUN']   \n",
       "2  Record virus cases for a Sunday in Osaka; Toky...  ['THE ASAHI SHIMBUN']   \n",
       "4  19 COVID-19 deaths in Tokyo; serious cases hit...  ['THE ASAHI SHIMBUN']   \n",
       "6  Japan breaks record of serious COVID-19 cases ...  ['THE ASAHI SHIMBUN']   \n",
       "7  Metal substance tainted Moderna jabs, dealing ...  ['THE ASAHI SHIMBUN']   \n",
       "\n",
       "              news_written_date  \\\n",
       "0  August 30, 2021 at 18:30 JST   \n",
       "2  August 29, 2021 at 18:35 JST   \n",
       "4  August 28, 2021 at 19:00 JST   \n",
       "6  August 27, 2021 at 18:50 JST   \n",
       "7  August 27, 2021 at 17:55 JST   \n",
       "\n",
       "                                           news_text  \\\n",
       "0   Tokyo reported 1,915 fresh cases of COVID-19 ...   \n",
       "2   Authorities in Osaka Prefecture on Aug. 29 re...   \n",
       "4   There was good news and bad on the COVID-19 f...   \n",
       "6   Tokyo confirmed 4,227 new COVID-19 cases on A...   \n",
       "7   The foreign substance found in Moderna's COVI...   \n",
       "\n",
       "                                       news_url  \n",
       "0  https://www.asahi.com//ajw/articles/14429591  \n",
       "2  https://www.asahi.com//ajw/articles/14428889  \n",
       "4  https://www.asahi.com//ajw/articles/14428381  \n",
       "6  https://www.asahi.com//ajw/articles/14427606  \n",
       "7  https://www.asahi.com//ajw/articles/14427323  "
      ]
     },
     "execution_count": 126,
     "metadata": {},
     "output_type": "execute_result"
    }
   ],
   "source": [
    "df = df.dropna()\n",
    "print(df.shape)\n",
    "df.head()"
   ]
  },
  {
   "cell_type": "raw",
   "id": "satellite-harris",
   "metadata": {},
   "source": [
    "bool_series = pd.isnull(df[\"news_text\"])\n",
    " \n",
    "# filtering data\n",
    "# displayind data only with team = NaN\n",
    "df = df[~bool_series]\n",
    "\n",
    "\n",
    "print(df.shape)\n",
    "df.head()"
   ]
  },
  {
   "cell_type": "raw",
   "id": "arranged-hypothetical",
   "metadata": {},
   "source": [
    "df.reset_index(inplace=True)\n",
    "df = df.drop(['index'], axis=1)\n",
    "df.head()"
   ]
  },
  {
   "cell_type": "code",
   "execution_count": 127,
   "id": "immediate-african",
   "metadata": {},
   "outputs": [
    {
     "data": {
      "text/plain": [
       "(array([734.,   0.,   0.,   0.,   0.,   0.,   0.,   0.,   0., 230.]),\n",
       " array([0. , 0.1, 0.2, 0.3, 0.4, 0.5, 0.6, 0.7, 0.8, 0.9, 1. ]),\n",
       " <BarContainer object of 10 artists>)"
      ]
     },
     "execution_count": 127,
     "metadata": {},
     "output_type": "execute_result"
    },
    {
     "data": {
      "image/png": "[encoded data removed]",
      "text/plain": [
       "<Figure size 432x288 with 1 Axes>"
      ]
     },
     "metadata": {
      "needs_background": "light"
     },
     "output_type": "display_data"
    }
   ],
   "source": [
    "plt.hist(df['binary_score (1:good   0: bad)'])"
   ]
  },
  {
   "cell_type": "code",
   "execution_count": 128,
   "id": "elementary-loading",
   "metadata": {},
   "outputs": [],
   "source": [
    "punctuation = set(string.punctuation) # ,.:''\n",
    "wordnet_lemmatizer = WordNetLemmatizer()#runs -> run\n",
    "stopwords_list = stopwords.words('english')#is, the, a, are\n",
    "stopwords_list.append('br') #linebreak in html, needs removal"
   ]
  },
  {
   "cell_type": "code",
   "execution_count": 129,
   "id": "charming-province",
   "metadata": {},
   "outputs": [],
   "source": [
    "def text_prep(text):\n",
    "    text = re.sub(r\"n't\", \" not \", text)\n",
    "    text = re.sub(r\"\\'s\", \" \", text)\n",
    "    text = re.sub(r\"\\'ve\", \" have \", text)\n",
    "    text = re.sub(r\"\\'re\", \" are \", text)\n",
    "    text = re.sub(r\"\\'d\", \" would \", text)\n",
    "    text = re.sub(r\"\\'ll\", \" will \", text)\n",
    "    text = re.sub('[^a-z\\s]', '', text.lower()) #lower text\n",
    "    \n",
    "    #remove punctuation\n",
    "    punc_removed = [char for char in text if char not in punctuation]\n",
    "    punc_removed = ''.join(punc_removed)\n",
    "\n",
    "    #remove stopwords\n",
    "    no_stopword = [word for word in punc_removed.split() if word not in stopwords_list]\n",
    "    \n",
    "    #lemmatizing (runs -> run)\n",
    "    lemmatized = [wordnet_lemmatizer.lemmatize(word) for word in no_stopword]\n",
    "    lemmatized = np.array(lemmatized)\n",
    "    return lemmatized"
   ]
  },
  {
   "cell_type": "code",
   "execution_count": 130,
   "id": "engaged-arizona",
   "metadata": {},
   "outputs": [
    {
     "data": {
      "text/plain": [
       "0        Tokyo reported 1,915 fresh cases of COVID-19 ...\n",
       "2        Authorities in Osaka Prefecture on Aug. 29 re...\n",
       "4        There was good news and bad on the COVID-19 f...\n",
       "6        Tokyo confirmed 4,227 new COVID-19 cases on A...\n",
       "7        The foreign substance found in Moderna's COVI...\n",
       "                              ...                        \n",
       "1321     Japan on Sept. 8 will partially reopen busine...\n",
       "1323     While Tokyo recorded less than 200 new COVID-...\n",
       "1325     Tokyo confirmed 100 new COVID-19 infections o...\n",
       "1326     Health centers in Tokyo will soon have a new ...\n",
       "1328     Japanese people have taken to wearing face ma...\n",
       "Name: news_text, Length: 964, dtype: object"
      ]
     },
     "execution_count": 130,
     "metadata": {},
     "output_type": "execute_result"
    }
   ],
   "source": [
    "df['news_text']"
   ]
  },
  {
   "cell_type": "code",
   "execution_count": 131,
   "id": "southeast-surprise",
   "metadata": {},
   "outputs": [
    {
     "data": {
      "text/plain": [
       "array(['tokyo', 'confirmed', 'case', 'novel', 'coronavirus', 'infection',\n",
       "       'feb', 'second', 'consecutive', 'day', 'number', 'new', 'patient',\n",
       "       'exceed', 'daily', 'average', 'week', 'feb', 'came', 'percent',\n",
       "       'daily', 'average', 'previous', 'week', 'tokyo', 'metropolitan',\n",
       "       'government', 'official', 'anxiously', 'hope', 'daily', 'average',\n",
       "       'given', 'sevenday', 'period', 'stay', 'percent', 'lower',\n",
       "       'preceding', 'week', 'capital', 'remains', 'state', 'emergency',\n",
       "       'least', 'march', 'new', 'patient', 'people', 'largest', 'age',\n",
       "       'group', 'followed', 'new', 'patient', 'aged', 'older', 'number',\n",
       "       'serious', 'case', 'stood', 'one', 'previous', 'day', 'tokyo',\n",
       "       'defines', 'serious', 'case', 'requiring', 'ventilator',\n",
       "       'extracorporeal', 'membrane', 'oxygenation', 'ecmo', 'device',\n",
       "       'circulates', 'blood', 'artificial', 'lung'], dtype='<U14')"
      ]
     },
     "execution_count": 131,
     "metadata": {},
     "output_type": "execute_result"
    }
   ],
   "source": [
    "text_prep(df['news_text'][710])"
   ]
  },
  {
   "cell_type": "code",
   "execution_count": 132,
   "id": "usual-laugh",
   "metadata": {},
   "outputs": [],
   "source": [
    "X_train, X_test, y_train, y_test = train_test_split( df['news_text'], df['binary_score (1:good   0: bad)'], test_size=0.33, random_state=42)"
   ]
  },
  {
   "cell_type": "code",
   "execution_count": 133,
   "id": "unable-token",
   "metadata": {},
   "outputs": [
    {
     "data": {
      "text/plain": [
       "1233     Tokyo logged 108 newly confirmed novel corona...\n",
       "249      IZUMISANO, Osaka Prefecture--A second member ...\n",
       "374      Tokyo confirmed 535 fresh cases of COVID-19 o...\n",
       "1165     SAPPORO--Hokkaido Prefecture upped its alert ...\n",
       "94       The government is expanding coverage of pre-e...\n",
       "                              ...                        \n",
       "147      Tokyo recorded its highest number of COVID-19...\n",
       "369      WASHINGTON--U.S. health officials and the Sta...\n",
       "1164     Japan marked a grim milestone on Oct. 29 as t...\n",
       "576      Tokyo confirmed 306 new COVID-19 cases on Apr...\n",
       "142      Tokyo confirmed 1,979 new COVID-19 cases on J...\n",
       "Name: news_text, Length: 645, dtype: object"
      ]
     },
     "execution_count": 133,
     "metadata": {},
     "output_type": "execute_result"
    }
   ],
   "source": [
    "X_train"
   ]
  },
  {
   "cell_type": "code",
   "execution_count": 134,
   "id": "ruled-january",
   "metadata": {},
   "outputs": [],
   "source": [
    "cv= CountVectorizer(binary=True, analyzer = text_prep, min_df = 10, max_df = 0.95)\n",
    "cv.fit_transform(df['news_text'].values)\n",
    "train_feature_set=cv.transform(X_train.values)\n",
    "test_feature_set=cv.transform(X_test.values)\n"
   ]
  },
  {
   "cell_type": "code",
   "execution_count": 135,
   "id": "appointed-amino",
   "metadata": {},
   "outputs": [],
   "source": [
    "train_feature_set=cv.transform(X_train.values)\n",
    "test_feature_set=cv.transform(X_test.values)"
   ]
  },
  {
   "cell_type": "code",
   "execution_count": 136,
   "id": "selected-script",
   "metadata": {},
   "outputs": [],
   "source": [
    "lr = LogisticRegression(solver = 'liblinear', random_state = 42, max_iter=1000)\n",
    "lr.fit(train_feature_set,y_train)\n",
    "y_pred = lr.predict(test_feature_set)\n"
   ]
  },
  {
   "cell_type": "code",
   "execution_count": 137,
   "id": "bearing-conference",
   "metadata": {},
   "outputs": [],
   "source": [
    "y_pred = np.array(y_pred)\n",
    "y_test = np.array(y_test)"
   ]
  },
  {
   "cell_type": "code",
   "execution_count": 138,
   "id": "fifth-separation",
   "metadata": {},
   "outputs": [
    {
     "data": {
      "text/plain": [
       "numpy.ndarray"
      ]
     },
     "execution_count": 138,
     "metadata": {},
     "output_type": "execute_result"
    }
   ],
   "source": [
    "type(y_test)"
   ]
  },
  {
   "cell_type": "code",
   "execution_count": 139,
   "id": "accurate-brown",
   "metadata": {},
   "outputs": [
    {
     "data": {
      "text/plain": [
       "array([0., 0., 1., 0., 1., 0., 1., 1., 0., 0., 0., 0., 1., 1., 1., 0., 0.,\n",
       "       0., 0., 0., 0., 0., 0., 0., 0., 0., 0., 0., 0., 0., 1., 0., 0., 0.,\n",
       "       0., 0., 1., 0., 0., 0., 0., 0., 0., 0., 0., 0., 0., 0., 0., 0., 1.,\n",
       "       1., 0., 0., 0., 1., 0., 0., 0., 0., 0., 0., 0., 1., 0., 0., 0., 0.,\n",
       "       1., 1., 0., 0., 1., 0., 0., 0., 0., 0., 1., 0., 1., 0., 0., 0., 0.,\n",
       "       0., 0., 0., 0., 0., 1., 1., 0., 0., 0., 1., 0., 0., 0., 0., 0., 1.,\n",
       "       1., 0., 0., 1., 0., 0., 0., 0., 0., 1., 0., 0., 0., 0., 1., 0., 0.,\n",
       "       0., 1., 1., 0., 0., 0., 0., 0., 0., 0., 0., 1., 1., 0., 1., 0., 0.,\n",
       "       0., 1., 0., 0., 1., 0., 0., 0., 0., 1., 1., 0., 0., 1., 0., 0., 0.,\n",
       "       1., 0., 1., 0., 0., 0., 0., 0., 0., 0., 0., 0., 0., 1., 0., 0., 1.,\n",
       "       0., 0., 1., 0., 0., 0., 0., 1., 0., 0., 0., 1., 0., 0., 0., 1., 0.,\n",
       "       0., 0., 0., 0., 0., 0., 0., 1., 0., 1., 1., 0., 0., 1., 0., 0., 0.,\n",
       "       0., 0., 1., 0., 0., 1., 0., 0., 0., 0., 1., 0., 0., 0., 0., 0., 0.,\n",
       "       0., 0., 0., 1., 0., 1., 0., 0., 1., 0., 0., 0., 0., 0., 1., 0., 0.,\n",
       "       1., 0., 0., 0., 0., 1., 0., 0., 0., 1., 0., 0., 0., 0., 0., 0., 0.,\n",
       "       1., 0., 0., 1., 1., 0., 0., 0., 1., 1., 0., 1., 1., 0., 0., 0., 0.,\n",
       "       1., 0., 0., 0., 0., 0., 0., 0., 0., 0., 1., 0., 1., 0., 1., 1., 0.,\n",
       "       1., 0., 0., 1., 0., 0., 0., 0., 0., 1., 1., 0., 0., 0., 1., 0., 0.,\n",
       "       1., 0., 0., 1., 1., 0., 0., 0., 0., 0., 0., 0., 0.])"
      ]
     },
     "execution_count": 139,
     "metadata": {},
     "output_type": "execute_result"
    }
   ],
   "source": [
    "y_test"
   ]
  },
  {
   "cell_type": "code",
   "execution_count": 141,
   "id": "dramatic-arrival",
   "metadata": {},
   "outputs": [
    {
     "name": "stdout",
     "output_type": "stream",
     "text": [
      "Accuracy:  0.721\n",
      "F1:  0.0\n"
     ]
    }
   ],
   "source": [
    "print(\"Accuracy: \",round(metrics.accuracy_score(y_test,y_pred),3))\n",
    "#print(\"F1: \",round(metrics.f1_score(y_test, y_pred)))"
   ]
  },
  {
   "cell_type": "code",
   "execution_count": 142,
   "id": "improved-scientist",
   "metadata": {},
   "outputs": [
    {
     "data": {
      "image/png": "[encoded data removed]",
      "text/plain": [
       "<Figure size 432x288 with 2 Axes>"
      ]
     },
     "metadata": {
      "needs_background": "light"
     },
     "output_type": "display_data"
    }
   ],
   "source": [
    "disp = metrics.plot_confusion_matrix(lr, test_feature_set, y_test,\n",
    "                                 display_labels=['Class 0', 'Class 1'],\n",
    "                                 cmap=plt.cm.Blues,\n",
    "                                 normalize='true')\n",
    "disp.ax_.set_title('Logistic Regression Confusion matrix, normalized');"
   ]
  },
  {
   "cell_type": "code",
   "execution_count": 149,
   "id": "bound-sharing",
   "metadata": {},
   "outputs": [],
   "source": [
    "article1='''Tokyo on Aug. 31 confirmed 15 deaths from COVID-19 among patients in their 40s to 90s and 2,909 new cases of infection, down 1,311 from a week ago. \n",
    "The tally marked the ninth consecutive day for the number of new infections in the capital to drop from the same day a week earlier.\n",
    "It brought Tokyo's daily average of new infections over the week through Aug. 31 to 3,520.7, or 75.9 percent of the figure for the preceding week, according to metropolitan government officials.\n",
    "The average number of diagnostic tests conducted in the capital over the three days through Aug. 30 stood at 10,193.3.\n",
    "The number of serious cases in Tokyo requiring ventilators or extracorporeal membrane oxygenation, also known as an ECMO lung bypass machine, remained unchanged from the previous day at 287.\n",
    "Of the 2,909 cases, 791 patients were in their 20s, followed by 588 in their 30s, 497 in their 40s and 332 in their 50s. Patients aged between 10 and 19 accounted for 273 cases, while 142 were aged 65 or older.'''"
   ]
  },
  {
   "cell_type": "code",
   "execution_count": 150,
   "id": "federal-romantic",
   "metadata": {},
   "outputs": [
    {
     "data": {
      "text/plain": [
       "array([[0.27305911, 0.72694089]])"
      ]
     },
     "execution_count": 150,
     "metadata": {},
     "output_type": "execute_result"
    }
   ],
   "source": [
    "test_review = cv.transform([article1])\n",
    "lr.predict_proba(test_review)\n",
    "#negative, positive"
   ]
  },
  {
   "cell_type": "code",
   "execution_count": null,
   "id": "confirmed-astrology",
   "metadata": {},
   "outputs": [],
   "source": []
  },
  {
   "cell_type": "code",
   "execution_count": 66,
   "id": "hired-nickname",
   "metadata": {},
   "outputs": [],
   "source": [
    "#zero shoot learning"
   ]
  },
  {
   "cell_type": "code",
   "execution_count": null,
   "id": "spectacular-offer",
   "metadata": {},
   "outputs": [],
   "source": []
  },
  {
   "cell_type": "code",
   "execution_count": null,
   "id": "spare-transportation",
   "metadata": {},
   "outputs": [],
   "source": []
  }
 ],
 "metadata": {
  "kernelspec": {
   "display_name": "Python 3",
   "language": "python",
   "name": "python3"
  },
  "language_info": {
   "codemirror_mode": {
    "name": "ipython",
    "version": 3
   },
   "file_extension": ".py",
   "mimetype": "text/x-python",
   "name": "python",
   "nbconvert_exporter": "python",
   "pygments_lexer": "ipython3",
   "version": "3.8.5"
  }
 },
 "nbformat": 4,
 "nbformat_minor": 5
}
