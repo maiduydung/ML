{
 "cells": [
  {
   "cell_type": "code",
   "execution_count": 4,
   "metadata": {},
   "outputs": [],
   "source": [
    "import numpy as np\n",
    "import matplotlib.pyplot as plt"
   ]
  },
  {
   "cell_type": "markdown",
   "metadata": {},
   "source": [
    "### Sigmoid"
   ]
  },
  {
   "cell_type": "code",
   "execution_count": 5,
   "metadata": {},
   "outputs": [],
   "source": [
    "x = np.zeros(100)\n",
    "x = np.arange(-50,50,1)\n",
    "\n",
    "def sigmoid(x):\n",
    "    return 1/(1+np.exp(-x))\n",
    "\n",
    "def relu(x):\n",
    "    if(x<=0):\n",
    "        return 0\n",
    "    else:\n",
    "        return x\n"
   ]
  },
  {
   "cell_type": "code",
   "execution_count": 6,
   "metadata": {},
   "outputs": [
    {
     "data": {
      "text/plain": [
       "Text(0.5, 1.0, 'Sigmoid func')"
      ]
     },
     "execution_count": 6,
     "metadata": {},
     "output_type": "execute_result"
    },
    {
     "data": {
      "image/png": "[encoded data removed]",
      "text/plain": [
       "<Figure size 432x288 with 1 Axes>"
      ]
     },
     "metadata": {
      "needs_background": "light"
     },
     "output_type": "display_data"
    }
   ],
   "source": [
    "y = []\n",
    "for i in x:\n",
    "    y.append(sigmoid(i))\n",
    "    \n",
    "plt.plot(x,y)\n",
    "plt.title(\"Sigmoid func\")"
   ]
  },
  {
   "cell_type": "markdown",
   "metadata": {},
   "source": [
    "### ReLU\n",
    "Non linear, quick, commonly used as the default activation function\n",
    "<br />Very sensative\n",
    "<br />Dying ReLU, when a input value smaller than 0 goes through ReLU, that node is return 0, so that it is meaning less for any other linear activation function afterwards (a*0 +b)"
   ]
  },
  {
   "cell_type": "code",
   "execution_count": 7,
   "metadata": {},
   "outputs": [
    {
     "data": {
      "text/plain": [
       "Text(0.5, 1.0, 'Relu func')"
      ]
     },
     "execution_count": 7,
     "metadata": {},
     "output_type": "execute_result"
    },
    {
     "data": {
      "image/png": "[encoded data removed]",
      "text/plain": [
       "<Figure size 432x288 with 1 Axes>"
      ]
     },
     "metadata": {
      "needs_background": "light"
     },
     "output_type": "display_data"
    }
   ],
   "source": [
    "y = []\n",
    "for i in x:\n",
    "    y.append(relu(i))\n",
    "    \n",
    "plt.plot(x,y)\n",
    "plt.title(\"Relu func\")"
   ]
  },
  {
   "attachments": {
    "image.png": {
     "image/png": "[encoded data removed]"
    }
   },
   "cell_type": "markdown",
   "metadata": {},
   "source": [
    "### Softmax\n",
    "Getting the probability of an element in an array(vector) with regard to others\n",
    "<br />Used as the activation function in the output layer of neural network models that predict a multinomial probability distribution\n",
    "<br />\n",
    "![image.png](attachment:image.png)"
   ]
  },
  {
   "cell_type": "code",
   "execution_count": 8,
   "metadata": {},
   "outputs": [
    {
     "name": "stdout",
     "output_type": "stream",
     "text": [
      "[0.032058603280084995, 0.08714431874203259, 0.23688281808991016, 0.6439142598879724]\n"
     ]
    }
   ],
   "source": [
    "temp = [100, 101, 102, 103]\n",
    "\n",
    "def softmax(arr):\n",
    "    res = []\n",
    "    temp = 0\n",
    "    #get e**s_j = denominator\n",
    "    for i in arr:\n",
    "        temp = temp + np.e**i\n",
    "    for i in arr:\n",
    "        res.append((np.e**i)/temp)\n",
    "    return res\n",
    "\n",
    "print(softmax(temp))"
   ]
  },
  {
   "cell_type": "code",
   "execution_count": 30,
   "metadata": {},
   "outputs": [
    {
     "name": "stdout",
     "output_type": "stream",
     "text": [
      "[0.0320586  0.08714432 0.23688282 0.64391426]\n"
     ]
    }
   ],
   "source": [
    "def softmax_np(arr):\n",
    "    exp_arr = np.exp(arr) \n",
    "    probabilities = exp_arr / np.sum(exp_arr)\n",
    "    return probabilities\n",
    "\n",
    "print(softmax_np(temp))"
   ]
  },
  {
   "cell_type": "code",
   "execution_count": 18,
   "metadata": {},
   "outputs": [
    {
     "name": "stdout",
     "output_type": "stream",
     "text": [
      "[[12 15 18]]\n",
      "[[ 6]\n",
      " [15]\n",
      " [24]]\n"
     ]
    }
   ],
   "source": [
    "layer_outputs = np.array([  [1, 2, 3],\n",
    "                            [4, 5, 6],\n",
    "                            [7, 8, 9]])\n",
    "print(np.sum(layer_outputs, axis = 0, keepdims=1)) #column wise\n",
    "print(np.sum(layer_outputs, axis = 1, keepdims=1)) #row wise"
   ]
  },
  {
   "cell_type": "code",
   "execution_count": null,
   "metadata": {},
   "outputs": [],
   "source": []
  }
 ],
 "metadata": {
  "kernelspec": {
   "display_name": "Python 3",
   "language": "python",
   "name": "python3"
  },
  "language_info": {
   "codemirror_mode": {
    "name": "ipython",
    "version": 3
   },
   "file_extension": ".py",
   "mimetype": "text/x-python",
   "name": "python",
   "nbconvert_exporter": "python",
   "pygments_lexer": "ipython3",
   "version": "3.6.10"
  }
 },
 "nbformat": 4,
 "nbformat_minor": 4
}
