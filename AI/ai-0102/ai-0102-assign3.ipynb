{
 "cells": [
  {
   "cell_type": "code",
   "execution_count": 2,
   "id": "inappropriate-appraisal",
   "metadata": {},
   "outputs": [],
   "source": [
    "import pandas as pd\n",
    "import numpy as np"
   ]
  },
  {
   "cell_type": "code",
   "execution_count": 28,
   "id": "acoustic-trainer",
   "metadata": {},
   "outputs": [],
   "source": [
    "df1 = pd.read_csv('1393_2017-utf8.csv', skiprows=8)\n",
    "df2 = pd.read_csv('2045_2017-utf8.csv', skiprows=8)"
   ]
  },
  {
   "cell_type": "code",
   "execution_count": 31,
   "id": "temporal-outside",
   "metadata": {},
   "outputs": [],
   "source": [
    "df = pd.merge(df1,df2, how='inner', on='Date')"
   ]
  },
  {
   "cell_type": "code",
   "execution_count": 33,
   "id": "initial-second",
   "metadata": {},
   "outputs": [
    {
     "data": {
      "text/html": [
       "<div>\n",
       "<style scoped>\n",
       "    .dataframe tbody tr th:only-of-type {\n",
       "        vertical-align: middle;\n",
       "    }\n",
       "\n",
       "    .dataframe tbody tr th {\n",
       "        vertical-align: top;\n",
       "    }\n",
       "\n",
       "    .dataframe thead th {\n",
       "        text-align: right;\n",
       "    }\n",
       "</style>\n",
       "<table border=\"1\" class=\"dataframe\">\n",
       "  <thead>\n",
       "    <tr style=\"text-align: right;\">\n",
       "      <th></th>\n",
       "      <th>Date</th>\n",
       "      <th>Open_x</th>\n",
       "      <th>High_x</th>\n",
       "      <th>Low_x</th>\n",
       "      <th>Close_x</th>\n",
       "      <th>Vol_x</th>\n",
       "      <th>AdjClose_x</th>\n",
       "      <th>Open_y</th>\n",
       "      <th>High_y</th>\n",
       "      <th>Low_y</th>\n",
       "      <th>Close_y</th>\n",
       "      <th>Vol_y</th>\n",
       "      <th>AdjClose_y</th>\n",
       "    </tr>\n",
       "  </thead>\n",
       "  <tbody>\n",
       "    <tr>\n",
       "      <th>0</th>\n",
       "      <td>2017-01-04</td>\n",
       "      <td>25500</td>\n",
       "      <td>25520</td>\n",
       "      <td>25410</td>\n",
       "      <td>25520</td>\n",
       "      <td>21</td>\n",
       "      <td>25520</td>\n",
       "      <td>9340</td>\n",
       "      <td>9340</td>\n",
       "      <td>9270</td>\n",
       "      <td>9270</td>\n",
       "      <td>6</td>\n",
       "      <td>9270</td>\n",
       "    </tr>\n",
       "    <tr>\n",
       "      <th>1</th>\n",
       "      <td>2017-01-05</td>\n",
       "      <td>25520</td>\n",
       "      <td>25520</td>\n",
       "      <td>25200</td>\n",
       "      <td>25220</td>\n",
       "      <td>71</td>\n",
       "      <td>25220</td>\n",
       "      <td>9260</td>\n",
       "      <td>9340</td>\n",
       "      <td>9250</td>\n",
       "      <td>9260</td>\n",
       "      <td>22</td>\n",
       "      <td>9260</td>\n",
       "    </tr>\n",
       "    <tr>\n",
       "      <th>2</th>\n",
       "      <td>2017-01-06</td>\n",
       "      <td>25150</td>\n",
       "      <td>25170</td>\n",
       "      <td>25150</td>\n",
       "      <td>25170</td>\n",
       "      <td>3</td>\n",
       "      <td>25170</td>\n",
       "      <td>9300</td>\n",
       "      <td>9380</td>\n",
       "      <td>9300</td>\n",
       "      <td>9380</td>\n",
       "      <td>69</td>\n",
       "      <td>9380</td>\n",
       "    </tr>\n",
       "    <tr>\n",
       "      <th>3</th>\n",
       "      <td>2017-01-10</td>\n",
       "      <td>25170</td>\n",
       "      <td>25170</td>\n",
       "      <td>25010</td>\n",
       "      <td>25010</td>\n",
       "      <td>57</td>\n",
       "      <td>25010</td>\n",
       "      <td>9380</td>\n",
       "      <td>9390</td>\n",
       "      <td>9320</td>\n",
       "      <td>9370</td>\n",
       "      <td>465</td>\n",
       "      <td>9370</td>\n",
       "    </tr>\n",
       "    <tr>\n",
       "      <th>4</th>\n",
       "      <td>2017-01-11</td>\n",
       "      <td>25040</td>\n",
       "      <td>25040</td>\n",
       "      <td>25040</td>\n",
       "      <td>25040</td>\n",
       "      <td>1</td>\n",
       "      <td>25040</td>\n",
       "      <td>9400</td>\n",
       "      <td>9520</td>\n",
       "      <td>9400</td>\n",
       "      <td>9490</td>\n",
       "      <td>233</td>\n",
       "      <td>9490</td>\n",
       "    </tr>\n",
       "  </tbody>\n",
       "</table>\n",
       "</div>"
      ],
      "text/plain": [
       "         Date  Open_x  High_x  Low_x  Close_x  Vol_x  AdjClose_x  Open_y  \\\n",
       "0  2017-01-04   25500   25520  25410    25520     21       25520    9340   \n",
       "1  2017-01-05   25520   25520  25200    25220     71       25220    9260   \n",
       "2  2017-01-06   25150   25170  25150    25170      3       25170    9300   \n",
       "3  2017-01-10   25170   25170  25010    25010     57       25010    9380   \n",
       "4  2017-01-11   25040   25040  25040    25040      1       25040    9400   \n",
       "\n",
       "   High_y  Low_y  Close_y  Vol_y  AdjClose_y  \n",
       "0    9340   9270     9270      6        9270  \n",
       "1    9340   9250     9260     22        9260  \n",
       "2    9380   9300     9380     69        9380  \n",
       "3    9390   9320     9370    465        9370  \n",
       "4    9520   9400     9490    233        9490  "
      ]
     },
     "execution_count": 33,
     "metadata": {},
     "output_type": "execute_result"
    }
   ],
   "source": [
    "df.head()"
   ]
  },
  {
   "cell_type": "code",
   "execution_count": 36,
   "id": "overhead-geology",
   "metadata": {},
   "outputs": [
    {
     "data": {
      "text/plain": [
       "0.9"
      ]
     },
     "execution_count": 36,
     "metadata": {},
     "output_type": "execute_result"
    }
   ],
   "source": [
    "round(df['High_x'].corr(df['High_y']),2)"
   ]
  },
  {
   "cell_type": "code",
   "execution_count": null,
   "id": "funded-african",
   "metadata": {},
   "outputs": [],
   "source": []
  }
 ],
 "metadata": {
  "kernelspec": {
   "display_name": "Python 3",
   "language": "python",
   "name": "python3"
  },
  "language_info": {
   "codemirror_mode": {
    "name": "ipython",
    "version": 3
   },
   "file_extension": ".py",
   "mimetype": "text/x-python",
   "name": "python",
   "nbconvert_exporter": "python",
   "pygments_lexer": "ipython3",
   "version": "3.8.5"
  }
 },
 "nbformat": 4,
 "nbformat_minor": 5
}
