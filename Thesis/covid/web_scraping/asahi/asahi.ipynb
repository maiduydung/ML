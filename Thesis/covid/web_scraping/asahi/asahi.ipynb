{
 "cells": [
  {
   "cell_type": "markdown",
   "id": "monetary-lithuania",
   "metadata": {},
   "source": [
    "# Scarping 1 article only"
   ]
  },
  {
   "cell_type": "code",
   "execution_count": 2,
   "id": "damaged-habitat",
   "metadata": {},
   "outputs": [
    {
     "data": {
      "text/html": [
       "<div>\n",
       "<style scoped>\n",
       "    .dataframe tbody tr th:only-of-type {\n",
       "        vertical-align: middle;\n",
       "    }\n",
       "\n",
       "    .dataframe tbody tr th {\n",
       "        vertical-align: top;\n",
       "    }\n",
       "\n",
       "    .dataframe thead th {\n",
       "        text-align: right;\n",
       "    }\n",
       "</style>\n",
       "<table border=\"1\" class=\"dataframe\">\n",
       "  <thead>\n",
       "    <tr style=\"text-align: right;\">\n",
       "      <th></th>\n",
       "      <th>news_title</th>\n",
       "      <th>news_writer</th>\n",
       "      <th>news_written_date</th>\n",
       "      <th>news_text</th>\n",
       "    </tr>\n",
       "  </thead>\n",
       "  <tbody>\n",
       "    <tr>\n",
       "      <th>1</th>\n",
       "      <td>COVID-19 state of emergency to run until Aug. ...</td>\n",
       "      <td>By DAI NAGATA/ Staff Writer</td>\n",
       "      <td>July 30, 2021 at 14:10 JST</td>\n",
       "      <td>The government on July 30 decided to place Sa...</td>\n",
       "    </tr>\n",
       "  </tbody>\n",
       "</table>\n",
       "</div>"
      ],
      "text/plain": [
       "                                          news_title  \\\n",
       "1  COVID-19 state of emergency to run until Aug. ...   \n",
       "\n",
       "                   news_writer           news_written_date  \\\n",
       "1  By DAI NAGATA/ Staff Writer  July 30, 2021 at 14:10 JST   \n",
       "\n",
       "                                           news_text  \n",
       "1   The government on July 30 decided to place Sa...  "
      ]
     },
     "execution_count": 2,
     "metadata": {},
     "output_type": "execute_result"
    }
   ],
   "source": [
    "# Import Module\r\n",
    "from bs4 import BeautifulSoup, NavigableString, Tag\r\n",
    "import pandas as pd\r\n",
    "import requests\r\n",
    "\r\n",
    "html = requests.get('https://www.asahi.com/ajw/articles/14407034')\r\n",
    "soup = BeautifulSoup(html.text,'html.parser')\r\n",
    "\r\n",
    "\r\n",
    "news_title = soup.find(['div'], class_='ArticleTitle').find('h1')\r\n",
    "news_title = [string for string in news_title.stripped_strings][0]\r\n",
    "\r\n",
    "news_writer = soup.find(['p'], class_='EnArticleName')\r\n",
    "news_writer = [string for string in news_writer.stripped_strings][0]\r\n",
    "\r\n",
    "news_written_date =  soup.find(['p'], class_='EnLastUpdated')\r\n",
    "news_written_date = [string for string in news_written_date.stripped_strings][0]\r\n",
    "\r\n",
    "news_text =  soup.find(['div'], class_='ArticleText')\r\n",
    "news_text = [string for string in news_text.stripped_strings] #multiple elements, each of them is a str\r\n",
    "\r\n",
    "temp = ''\r\n",
    "for i in news_text:\r\n",
    "    temp = temp + \" \" + i\r\n",
    "news_text = temp #complete article text\r\n",
    "\r\n",
    "\r\n",
    "data = {'news_title': news_title,\r\n",
    "        'news_writer': news_writer,\r\n",
    "        'news_written_date':news_written_date,\r\n",
    "        'news_text':news_text}\r\n",
    "df = pd.DataFrame(data,index =['1'])\r\n",
    "df"
   ]
  },
  {
   "cell_type": "code",
   "execution_count": 24,
   "id": "saving-casting",
   "metadata": {},
   "outputs": [],
   "source": [
    "def to_dataframe(all_articles):\r\n",
    "    news_title_arr = []\r\n",
    "    news_writer_arr = []\r\n",
    "    news_written_date_arr = []\r\n",
    "    news_text_arr = []\r\n",
    "    news_url_arr = []\r\n",
    "\r\n",
    "    for article in all_articles:\r\n",
    "        news_url_arr.append(article)\r\n",
    "\r\n",
    "        html = requests.get(article)\r\n",
    "        soup = BeautifulSoup(html.text,'html.parser')\r\n",
    "\r\n",
    "        news_title = soup.find(['div'], class_='ArticleTitle').find('h1')\r\n",
    "        news_title = [string for string in news_title.stripped_strings][0]\r\n",
    "        news_title_arr.append(news_title)\r\n",
    "\r\n",
    "        news_writer = soup.find(['p'], class_='EnArticleName')\r\n",
    "        news_writer = [string for string in news_writer.stripped_strings]\r\n",
    "        news_writer_arr.append(news_writer)\r\n",
    "\r\n",
    "        news_written_date =  soup.find(['p'], class_='EnLastUpdated')\r\n",
    "        news_written_date = [string for string in news_written_date.stripped_strings][0]\r\n",
    "        news_written_date_arr.append(news_written_date)\r\n",
    "\r\n",
    "        news_text =  soup.find(['div'], class_='ArticleText')\r\n",
    "        news_text = [string for string in news_text.stripped_strings] #multiple elements, each of them is a str\r\n",
    "        temp = ''\r\n",
    "        for i in news_text:\r\n",
    "            temp = temp + \" \" + i\r\n",
    "        news_text = temp #complete article text\r\n",
    "        news_text_arr.append(news_text)\r\n",
    "    \r\n",
    "    # initialise data of lists.\r\n",
    "    data = {'news_title':news_title_arr,\r\n",
    "            'news_writer':news_writer_arr,\r\n",
    "            'news_written_date':news_written_date_arr,\r\n",
    "            'news_text':news_text_arr,\r\n",
    "            'news_url':news_url_arr}\r\n",
    " \r\n",
    "    df = pd.DataFrame(data)\r\n",
    "    return df\r\n",
    "\r\n",
    "\r\n",
    "df = to_dataframe(all_articles)\r\n"
   ]
  },
  {
   "cell_type": "code",
   "execution_count": 27,
   "id": "stretch-payroll",
   "metadata": {},
   "outputs": [
    {
     "data": {
      "text/plain": [
       "(1329, 5)"
      ]
     },
     "execution_count": 27,
     "metadata": {},
     "output_type": "execute_result"
    }
   ],
   "source": [
    "df.shape"
   ]
  },
  {
   "cell_type": "code",
   "execution_count": 25,
   "id": "tough-armstrong",
   "metadata": {},
   "outputs": [],
   "source": [
    "df.to_csv('Aug30th_all_articles.csv', index=False)"
   ]
  },
  {
   "cell_type": "code",
   "execution_count": 9,
   "id": "signal-carter",
   "metadata": {},
   "outputs": [
    {
     "data": {
      "text/plain": [
       "['https://www.asahi.com//ajw/articles/14429591',\n",
       " 'https://www.asahi.com//ajw/articles/14429351',\n",
       " 'https://www.asahi.com//ajw/articles/14428889',\n",
       " 'https://www.asahi.com//ajw/articles/14428777',\n",
       " 'https://www.asahi.com//ajw/articles/14428381']"
      ]
     },
     "execution_count": 9,
     "metadata": {},
     "output_type": "execute_result"
    }
   ],
   "source": [
    "all_articles[:5]"
   ]
  },
  {
   "cell_type": "markdown",
   "id": "documented-serve",
   "metadata": {},
   "source": [
    "# List of articles"
   ]
  },
  {
   "cell_type": "code",
   "execution_count": 27,
   "id": "flush-master",
   "metadata": {},
   "outputs": [],
   "source": [
    "# Import Module\r\n",
    "from bs4 import BeautifulSoup, NavigableString, Tag\r\n",
    "import requests\r\n",
    "html = requests.get('https://www.asahi.com/ajw/tag/11029417/')  # menu url only\r\n",
    "soup = BeautifulSoup(html.text,'html.parser')\r\n",
    "article_list = soup.find(['div'], class_='specialList')\r\n",
    "base_url = 'https://www.asahi.com/'\r\n",
    "list_url = [] #list of all articles from 1 page only\r\n",
    "\r\n",
    "for li in article_list.ul:\r\n",
    "    if isinstance(li, NavigableString):\r\n",
    "        continue\r\n",
    "    if isinstance(li, Tag):\r\n",
    "        #print(li.find_all(['a'], href=True))\r\n",
    "        for a in li.find_all('a', href=True):\r\n",
    "            temp = a['href']\r\n",
    "            list_url.append(base_url+temp)\r\n"
   ]
  },
  {
   "cell_type": "code",
   "execution_count": 5,
   "id": "copyrighted-street",
   "metadata": {},
   "outputs": [],
   "source": [
    "def iter_ul(list_page): #iterate unordered list = list of articles in each page\r\n",
    "    list_url = [] #list of all articles from 1 page only\r\n",
    "    for page in list_page:\r\n",
    "        #print(page)\r\n",
    "        html = requests.get(page)  # menu url only\r\n",
    "        soup = BeautifulSoup(html.text,'html.parser')\r\n",
    "        article_list = soup.find(['div'], class_='specialList')\r\n",
    "        base_url = 'https://www.asahi.com/'\r\n",
    "        for li in article_list.ul:\r\n",
    "            if isinstance(li, NavigableString):\r\n",
    "                continue\r\n",
    "            if isinstance(li, Tag):\r\n",
    "                #print(li.find_all(['a'], href=True))\r\n",
    "                for a in li.find_all('a', href=True):\r\n",
    "                    temp = a['href']\r\n",
    "                    #print(base_url+temp)\r\n",
    "                    list_url.append(base_url+temp)\r\n",
    "    return list_url # url of all articles\r\n",
    "\r\n",
    "\r\n",
    "all_articles = iter_ul(list_page)"
   ]
  },
  {
   "cell_type": "code",
   "execution_count": 26,
   "id": "supposed-tuning",
   "metadata": {},
   "outputs": [
    {
     "data": {
      "text/plain": [
       "1329"
      ]
     },
     "execution_count": 26,
     "metadata": {},
     "output_type": "execute_result"
    }
   ],
   "source": [
    "len(all_articles)"
   ]
  },
  {
   "cell_type": "markdown",
   "id": "ruled-paper",
   "metadata": {},
   "source": [
    "# Iterate list of articles (page 1, 2, 3, 4, etc.)"
   ]
  },
  {
   "cell_type": "code",
   "execution_count": 3,
   "id": "cleared-female",
   "metadata": {},
   "outputs": [],
   "source": [
    "page_base_url = 'https://www.asahi.com/ajw/tag/11029417/' # + 1 2 3\r\n",
    "list_page = []\r\n",
    "for i in range(1,35):\r\n",
    "    list_page.append(page_base_url+str(i))"
   ]
  },
  {
   "cell_type": "code",
   "execution_count": 4,
   "id": "military-drain",
   "metadata": {},
   "outputs": [
    {
     "data": {
      "text/plain": [
       "['https://www.asahi.com/ajw/tag/11029417/1',\n",
       " 'https://www.asahi.com/ajw/tag/11029417/2',\n",
       " 'https://www.asahi.com/ajw/tag/11029417/3',\n",
       " 'https://www.asahi.com/ajw/tag/11029417/4',\n",
       " 'https://www.asahi.com/ajw/tag/11029417/5',\n",
       " 'https://www.asahi.com/ajw/tag/11029417/6',\n",
       " 'https://www.asahi.com/ajw/tag/11029417/7',\n",
       " 'https://www.asahi.com/ajw/tag/11029417/8',\n",
       " 'https://www.asahi.com/ajw/tag/11029417/9',\n",
       " 'https://www.asahi.com/ajw/tag/11029417/10',\n",
       " 'https://www.asahi.com/ajw/tag/11029417/11',\n",
       " 'https://www.asahi.com/ajw/tag/11029417/12',\n",
       " 'https://www.asahi.com/ajw/tag/11029417/13',\n",
       " 'https://www.asahi.com/ajw/tag/11029417/14',\n",
       " 'https://www.asahi.com/ajw/tag/11029417/15',\n",
       " 'https://www.asahi.com/ajw/tag/11029417/16',\n",
       " 'https://www.asahi.com/ajw/tag/11029417/17',\n",
       " 'https://www.asahi.com/ajw/tag/11029417/18',\n",
       " 'https://www.asahi.com/ajw/tag/11029417/19',\n",
       " 'https://www.asahi.com/ajw/tag/11029417/20',\n",
       " 'https://www.asahi.com/ajw/tag/11029417/21',\n",
       " 'https://www.asahi.com/ajw/tag/11029417/22',\n",
       " 'https://www.asahi.com/ajw/tag/11029417/23',\n",
       " 'https://www.asahi.com/ajw/tag/11029417/24',\n",
       " 'https://www.asahi.com/ajw/tag/11029417/25',\n",
       " 'https://www.asahi.com/ajw/tag/11029417/26',\n",
       " 'https://www.asahi.com/ajw/tag/11029417/27',\n",
       " 'https://www.asahi.com/ajw/tag/11029417/28',\n",
       " 'https://www.asahi.com/ajw/tag/11029417/29',\n",
       " 'https://www.asahi.com/ajw/tag/11029417/30',\n",
       " 'https://www.asahi.com/ajw/tag/11029417/31',\n",
       " 'https://www.asahi.com/ajw/tag/11029417/32',\n",
       " 'https://www.asahi.com/ajw/tag/11029417/33',\n",
       " 'https://www.asahi.com/ajw/tag/11029417/34']"
      ]
     },
     "execution_count": 4,
     "metadata": {},
     "output_type": "execute_result"
    }
   ],
   "source": [
    "list_page"
   ]
  },
  {
   "cell_type": "code",
   "execution_count": null,
   "id": "precise-separate",
   "metadata": {},
   "outputs": [],
   "source": []
  }
 ],
 "metadata": {
  "interpreter": {
   "hash": "de2e53c54550ee6885339aa429af7d301a27ecab7db6edb4eecbf0ffb12c09f2"
  },
  "kernelspec": {
   "display_name": "Python 3",
   "language": "python",
   "name": "python3"
  },
  "language_info": {
   "codemirror_mode": {
    "name": "ipython",
    "version": 3
   },
   "file_extension": ".py",
   "mimetype": "text/x-python",
   "name": "python",
   "nbconvert_exporter": "python",
   "pygments_lexer": "ipython3",
   "version": "3.8.5"
  }
 },
 "nbformat": 4,
 "nbformat_minor": 5
}
