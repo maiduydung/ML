{
 "cells": [
  {
   "cell_type": "code",
   "execution_count": 1,
   "id": "forty-healing",
   "metadata": {},
   "outputs": [],
   "source": [
    "import numpy as np\n",
    "import pandas as pd\n",
    "import matplotlib.pyplot as plt\n",
    "from keras.models import Sequential, load_model\n",
    "from keras.layers import LSTM, GRU, Dense, Dropout\n",
    "from keras.callbacks import EarlyStopping\n",
    "from sklearn.preprocessing import MinMaxScaler\n",
    "from sklearn.metrics import mean_squared_error\n",
    "from keras.preprocessing.sequence import TimeseriesGenerator\n",
    "import tensorflow as tf\n",
    "from keras.callbacks import EarlyStopping, ModelCheckpoint\n",
    "from keras.models import load_model\n"
   ]
  },
  {
   "cell_type": "code",
   "execution_count": 2,
   "id": "miniature-baptist",
   "metadata": {},
   "outputs": [],
   "source": [
    "import warnings\n",
    "warnings.filterwarnings('ignore')\n",
    "\n",
    "import os\n",
    "os.environ['TF_CPP_MIN_LOG_LEVEL'] = '3'  #disable tensorflow warnings"
   ]
  },
  {
   "cell_type": "code",
   "execution_count": 3,
   "id": "preliminary-movement",
   "metadata": {},
   "outputs": [],
   "source": [
    "\n",
    "def read_from_source():\n",
    "    df = pd.read_csv('https://toyokeizai.net/sp/visual/tko/covid19/csv/pcr_positive_daily.csv')\n",
    "    df = df.rename(columns={'日付': 'Date', 'PCR 検査陽性者数(単日)': 'Infected'}) #renaming from Japanese to English\n",
    "    df['Date'] = pd.to_datetime(df['Date'])\n",
    "    return df\n",
    "\n",
    "\n",
    "\n",
    "def pred_covid(model_name, df, model_idx): #GRU or LSTM\n",
    "    #model = load_model('../'+model_name +'_infected_only_GRU_LSTM_Oct16.h5') #best\n",
    "    model = load_model('LSTM_GRU_Oct23_relu/' + model_name +'_infected_only_Oct23_'+str(model_idx)+'.h5')\n",
    "    print(model_name,'loaded')\n",
    "\n",
    "    #constant\n",
    "    n_steps_in = 14\n",
    "    n_steps_out = 4\n",
    "    sc = MinMaxScaler(feature_range = (0, 1))\n",
    "    \n",
    "    x_input = df['Infected'][-n_steps_in:].values # last 14 day\n",
    "    x_input = sc.fit_transform(x_input.reshape(len(x_input), 1))\n",
    "    x_input = x_input.reshape((1, n_steps_in, 1))\n",
    "    \n",
    "    #y_pred = model.predict(x_input) # too much warnings\n",
    "    y_pred = model(x_input)\n",
    "    y_pred = sc.inverse_transform(y_pred) #revert scaling\n",
    "    #print('Next 4 days prediction:', y_pred)\n",
    "    \n",
    "    start_date = str(df['Date'].iloc[-14])[:10]\n",
    "    end_date = df['Date'].iloc[-15] + pd.Timedelta(18, unit='D')                  \n",
    "    end_date = str(end_date)[:10]\n",
    "    #print(start_date,'---', end_date)\n",
    "    time_range = pd.date_range(start=start_date, end=end_date)\n",
    "    \n",
    "    pred_list = list(zip(time_range[-4:].strftime('%Y-%m-%d'), y_pred[0,:]))\n",
    "    return pd.DataFrame (pred_list, columns = ['Date', 'Predict Infected'])"
   ]
  },
  {
   "cell_type": "code",
   "execution_count": 4,
   "id": "domestic-amino",
   "metadata": {},
   "outputs": [
    {
     "data": {
      "text/html": [
       "<div>\n",
       "<style scoped>\n",
       "    .dataframe tbody tr th:only-of-type {\n",
       "        vertical-align: middle;\n",
       "    }\n",
       "\n",
       "    .dataframe tbody tr th {\n",
       "        vertical-align: top;\n",
       "    }\n",
       "\n",
       "    .dataframe thead th {\n",
       "        text-align: right;\n",
       "    }\n",
       "</style>\n",
       "<table border=\"1\" class=\"dataframe\">\n",
       "  <thead>\n",
       "    <tr style=\"text-align: right;\">\n",
       "      <th></th>\n",
       "      <th>Date</th>\n",
       "      <th>Infected</th>\n",
       "    </tr>\n",
       "  </thead>\n",
       "  <tbody>\n",
       "    <tr>\n",
       "      <th>0</th>\n",
       "      <td>2020-01-16</td>\n",
       "      <td>1.0</td>\n",
       "    </tr>\n",
       "    <tr>\n",
       "      <th>1</th>\n",
       "      <td>2020-01-17</td>\n",
       "      <td>0.0</td>\n",
       "    </tr>\n",
       "    <tr>\n",
       "      <th>2</th>\n",
       "      <td>2020-01-18</td>\n",
       "      <td>0.0</td>\n",
       "    </tr>\n",
       "    <tr>\n",
       "      <th>3</th>\n",
       "      <td>2020-01-19</td>\n",
       "      <td>0.0</td>\n",
       "    </tr>\n",
       "    <tr>\n",
       "      <th>4</th>\n",
       "      <td>2020-01-20</td>\n",
       "      <td>0.0</td>\n",
       "    </tr>\n",
       "    <tr>\n",
       "      <th>...</th>\n",
       "      <td>...</td>\n",
       "      <td>...</td>\n",
       "    </tr>\n",
       "    <tr>\n",
       "      <th>642</th>\n",
       "      <td>2021-10-19</td>\n",
       "      <td>367.0</td>\n",
       "    </tr>\n",
       "    <tr>\n",
       "      <th>643</th>\n",
       "      <td>2021-10-20</td>\n",
       "      <td>387.0</td>\n",
       "    </tr>\n",
       "    <tr>\n",
       "      <th>644</th>\n",
       "      <td>2021-10-21</td>\n",
       "      <td>334.0</td>\n",
       "    </tr>\n",
       "    <tr>\n",
       "      <th>645</th>\n",
       "      <td>2021-10-22</td>\n",
       "      <td>324.0</td>\n",
       "    </tr>\n",
       "    <tr>\n",
       "      <th>646</th>\n",
       "      <td>2021-10-23</td>\n",
       "      <td>277.0</td>\n",
       "    </tr>\n",
       "  </tbody>\n",
       "</table>\n",
       "<p>647 rows × 2 columns</p>\n",
       "</div>"
      ],
      "text/plain": [
       "          Date  Infected\n",
       "0   2020-01-16       1.0\n",
       "1   2020-01-17       0.0\n",
       "2   2020-01-18       0.0\n",
       "3   2020-01-19       0.0\n",
       "4   2020-01-20       0.0\n",
       "..         ...       ...\n",
       "642 2021-10-19     367.0\n",
       "643 2021-10-20     387.0\n",
       "644 2021-10-21     334.0\n",
       "645 2021-10-22     324.0\n",
       "646 2021-10-23     277.0\n",
       "\n",
       "[647 rows x 2 columns]"
      ]
     },
     "execution_count": 4,
     "metadata": {},
     "output_type": "execute_result"
    }
   ],
   "source": [
    "df = read_from_source()\n",
    "df"
   ]
  },
  {
   "cell_type": "code",
   "execution_count": 5,
   "id": "julian-algorithm",
   "metadata": {},
   "outputs": [
    {
     "data": {
      "text/html": [
       "<div>\n",
       "<style scoped>\n",
       "    .dataframe tbody tr th:only-of-type {\n",
       "        vertical-align: middle;\n",
       "    }\n",
       "\n",
       "    .dataframe tbody tr th {\n",
       "        vertical-align: top;\n",
       "    }\n",
       "\n",
       "    .dataframe thead th {\n",
       "        text-align: right;\n",
       "    }\n",
       "</style>\n",
       "<table border=\"1\" class=\"dataframe\">\n",
       "  <thead>\n",
       "    <tr style=\"text-align: right;\">\n",
       "      <th></th>\n",
       "      <th>Date</th>\n",
       "      <th>Infected</th>\n",
       "    </tr>\n",
       "  </thead>\n",
       "  <tbody>\n",
       "    <tr>\n",
       "      <th>633</th>\n",
       "      <td>2021-10-10</td>\n",
       "      <td>546.0</td>\n",
       "    </tr>\n",
       "    <tr>\n",
       "      <th>634</th>\n",
       "      <td>2021-10-11</td>\n",
       "      <td>359.0</td>\n",
       "    </tr>\n",
       "    <tr>\n",
       "      <th>635</th>\n",
       "      <td>2021-10-12</td>\n",
       "      <td>609.0</td>\n",
       "    </tr>\n",
       "    <tr>\n",
       "      <th>636</th>\n",
       "      <td>2021-10-13</td>\n",
       "      <td>723.0</td>\n",
       "    </tr>\n",
       "    <tr>\n",
       "      <th>637</th>\n",
       "      <td>2021-10-14</td>\n",
       "      <td>612.0</td>\n",
       "    </tr>\n",
       "    <tr>\n",
       "      <th>638</th>\n",
       "      <td>2021-10-15</td>\n",
       "      <td>522.0</td>\n",
       "    </tr>\n",
       "    <tr>\n",
       "      <th>639</th>\n",
       "      <td>2021-10-16</td>\n",
       "      <td>502.0</td>\n",
       "    </tr>\n",
       "    <tr>\n",
       "      <th>640</th>\n",
       "      <td>2021-10-17</td>\n",
       "      <td>425.0</td>\n",
       "    </tr>\n",
       "    <tr>\n",
       "      <th>641</th>\n",
       "      <td>2021-10-18</td>\n",
       "      <td>223.0</td>\n",
       "    </tr>\n",
       "    <tr>\n",
       "      <th>642</th>\n",
       "      <td>2021-10-19</td>\n",
       "      <td>367.0</td>\n",
       "    </tr>\n",
       "    <tr>\n",
       "      <th>643</th>\n",
       "      <td>2021-10-20</td>\n",
       "      <td>387.0</td>\n",
       "    </tr>\n",
       "    <tr>\n",
       "      <th>644</th>\n",
       "      <td>2021-10-21</td>\n",
       "      <td>334.0</td>\n",
       "    </tr>\n",
       "    <tr>\n",
       "      <th>645</th>\n",
       "      <td>2021-10-22</td>\n",
       "      <td>324.0</td>\n",
       "    </tr>\n",
       "    <tr>\n",
       "      <th>646</th>\n",
       "      <td>2021-10-23</td>\n",
       "      <td>277.0</td>\n",
       "    </tr>\n",
       "  </tbody>\n",
       "</table>\n",
       "</div>"
      ],
      "text/plain": [
       "          Date  Infected\n",
       "633 2021-10-10     546.0\n",
       "634 2021-10-11     359.0\n",
       "635 2021-10-12     609.0\n",
       "636 2021-10-13     723.0\n",
       "637 2021-10-14     612.0\n",
       "638 2021-10-15     522.0\n",
       "639 2021-10-16     502.0\n",
       "640 2021-10-17     425.0\n",
       "641 2021-10-18     223.0\n",
       "642 2021-10-19     367.0\n",
       "643 2021-10-20     387.0\n",
       "644 2021-10-21     334.0\n",
       "645 2021-10-22     324.0\n",
       "646 2021-10-23     277.0"
      ]
     },
     "execution_count": 5,
     "metadata": {},
     "output_type": "execute_result"
    }
   ],
   "source": [
    "df[-14:]"
   ]
  },
  {
   "cell_type": "code",
   "execution_count": 6,
   "id": "thrown-greene",
   "metadata": {},
   "outputs": [
    {
     "name": "stdout",
     "output_type": "stream",
     "text": [
      "GRU loaded\n"
     ]
    },
    {
     "data": {
      "text/html": [
       "<div>\n",
       "<style scoped>\n",
       "    .dataframe tbody tr th:only-of-type {\n",
       "        vertical-align: middle;\n",
       "    }\n",
       "\n",
       "    .dataframe tbody tr th {\n",
       "        vertical-align: top;\n",
       "    }\n",
       "\n",
       "    .dataframe thead th {\n",
       "        text-align: right;\n",
       "    }\n",
       "</style>\n",
       "<table border=\"1\" class=\"dataframe\">\n",
       "  <thead>\n",
       "    <tr style=\"text-align: right;\">\n",
       "      <th></th>\n",
       "      <th>Date</th>\n",
       "      <th>Predict Infected</th>\n",
       "    </tr>\n",
       "  </thead>\n",
       "  <tbody>\n",
       "    <tr>\n",
       "      <th>0</th>\n",
       "      <td>2021-10-24</td>\n",
       "      <td>262.926272</td>\n",
       "    </tr>\n",
       "    <tr>\n",
       "      <th>1</th>\n",
       "      <td>2021-10-25</td>\n",
       "      <td>323.859627</td>\n",
       "    </tr>\n",
       "    <tr>\n",
       "      <th>2</th>\n",
       "      <td>2021-10-26</td>\n",
       "      <td>297.105896</td>\n",
       "    </tr>\n",
       "    <tr>\n",
       "      <th>3</th>\n",
       "      <td>2021-10-27</td>\n",
       "      <td>223.000000</td>\n",
       "    </tr>\n",
       "  </tbody>\n",
       "</table>\n",
       "</div>"
      ],
      "text/plain": [
       "         Date  Predict Infected\n",
       "0  2021-10-24        262.926272\n",
       "1  2021-10-25        323.859627\n",
       "2  2021-10-26        297.105896\n",
       "3  2021-10-27        223.000000"
      ]
     },
     "execution_count": 6,
     "metadata": {},
     "output_type": "execute_result"
    }
   ],
   "source": [
    "pred_covid('GRU', df,3)"
   ]
  },
  {
   "cell_type": "code",
   "execution_count": 7,
   "id": "italic-palestine",
   "metadata": {},
   "outputs": [],
   "source": [
    "def get_prediction(model, df): #model = 'GRU' or 'LSTM'\n",
    "    pred_arr = []\n",
    "    for model_idx in [1,2,3]:\n",
    "        #print(model,model_idx,pred_covid(model, df,model_idx))\n",
    "        pred_arr.append(np.array(pred_covid(model, df,model_idx)['Predict Infected'].values))\n",
    "    return np.array(pred_arr)"
   ]
  },
  {
   "cell_type": "code",
   "execution_count": 8,
   "id": "descending-french",
   "metadata": {},
   "outputs": [],
   "source": [
    "def get_PI(pred_arr):\n",
    "    intervals = []\n",
    "    means = []\n",
    "    uppers = []\n",
    "    lowers = []\n",
    "    for idx in [0,1,2,3]:\n",
    "        cov_std = pred_arr[:,idx].std()\n",
    "        cov_interval = cov_std*1.96\n",
    "        cov_mean = pred_arr[:,idx].mean()\n",
    "        cov_lower = cov_mean - cov_interval\n",
    "        cov_upper = cov_mean + cov_interval\n",
    "        print(pred_arr[:,idx], 'Interval: ',cov_interval , 'Upper: ',cov_lower, 'Mean: ',cov_mean, 'Upper: ',cov_upper)\n",
    "        \n",
    "        intervals.append(int(cov_interval))\n",
    "        means.append(int(cov_mean))\n",
    "        uppers.append(int(cov_upper))\n",
    "        lowers.append(int(cov_lower))\n",
    "    \n",
    "    return intervals, means, uppers, lowers"
   ]
  },
  {
   "cell_type": "code",
   "execution_count": 9,
   "id": "expired-thailand",
   "metadata": {},
   "outputs": [
    {
     "name": "stdout",
     "output_type": "stream",
     "text": [
      "GRU loaded\n",
      "GRU loaded\n",
      "GRU loaded\n",
      "[285.23337352 245.33951166 262.92627189] Interval:  31.996136265633332 Upper:  232.5035827580712 Mean:  264.49971902370453 Upper:  296.49585528933784\n",
      "[285.3446703  269.66293412 323.85962713] Interval:  44.63084588756888 Upper:  248.32489796170856 Mean:  292.95574384927744 Upper:  337.58658973684635\n",
      "[333.25903374 296.36145639 297.10589606] Interval:  33.752965248590655 Upper:  275.15583014789615 Mean:  308.9087953964868 Upper:  342.6617606450775\n",
      "[314.94052219 293.02203912 223.        ] Interval:  76.85090179614319 Upper:  200.13661864030263 Mean:  276.98752043644583 Upper:  353.83842223258904\n",
      "Wall time: 3.82 s\n"
     ]
    }
   ],
   "source": [
    "%%time\n",
    "GRU_pred_arr = get_prediction('GRU',df)\n",
    "cov_intervals, cov_means, cov_uppers, cov_lowers = get_PI(GRU_pred_arr)\n"
   ]
  },
  {
   "cell_type": "code",
   "execution_count": 10,
   "id": "saved-spanish",
   "metadata": {},
   "outputs": [
    {
     "data": {
      "text/plain": [
       "array([[285.23337352, 285.3446703 , 333.25903374, 314.94052219],\n",
       "       [245.33951166, 269.66293412, 296.36145639, 293.02203912],\n",
       "       [262.92627189, 323.85962713, 297.10589606, 223.        ]])"
      ]
     },
     "execution_count": 10,
     "metadata": {},
     "output_type": "execute_result"
    }
   ],
   "source": [
    "GRU_pred_arr"
   ]
  },
  {
   "cell_type": "code",
   "execution_count": 11,
   "id": "dietary-television",
   "metadata": {},
   "outputs": [
    {
     "data": {
      "text/plain": [
       "[264, 292, 308, 276]"
      ]
     },
     "execution_count": 11,
     "metadata": {},
     "output_type": "execute_result"
    }
   ],
   "source": [
    "cov_means"
   ]
  },
  {
   "cell_type": "code",
   "execution_count": 12,
   "id": "yellow-begin",
   "metadata": {},
   "outputs": [],
   "source": [
    "y = cov_means\n"
   ]
  },
  {
   "cell_type": "code",
   "execution_count": 31,
   "id": "regulated-permit",
   "metadata": {},
   "outputs": [],
   "source": [
    "time_range = pd.date_range(start='2021-10-10', end='2021-10-27')\n"
   ]
  },
  {
   "cell_type": "code",
   "execution_count": 32,
   "id": "reasonable-victor",
   "metadata": {},
   "outputs": [
    {
     "data": {
      "text/plain": [
       "DatetimeIndex(['2021-10-10', '2021-10-11', '2021-10-12', '2021-10-13',\n",
       "               '2021-10-14', '2021-10-15', '2021-10-16', '2021-10-17',\n",
       "               '2021-10-18', '2021-10-19', '2021-10-20', '2021-10-21',\n",
       "               '2021-10-22', '2021-10-23'],\n",
       "              dtype='datetime64[ns]', freq='D')"
      ]
     },
     "execution_count": 32,
     "metadata": {},
     "output_type": "execute_result"
    }
   ],
   "source": [
    "time_range[:-4]"
   ]
  },
  {
   "cell_type": "code",
   "execution_count": 33,
   "id": "seeing-meeting",
   "metadata": {},
   "outputs": [
    {
     "data": {
      "text/plain": [
       "633    546.0\n",
       "634    359.0\n",
       "635    609.0\n",
       "636    723.0\n",
       "637    612.0\n",
       "638    522.0\n",
       "639    502.0\n",
       "640    425.0\n",
       "641    223.0\n",
       "642    367.0\n",
       "643    387.0\n",
       "644    334.0\n",
       "645    324.0\n",
       "646    277.0\n",
       "Name: Infected, dtype: float64"
      ]
     },
     "execution_count": 33,
     "metadata": {},
     "output_type": "execute_result"
    }
   ],
   "source": [
    "df['Infected'][-14:]"
   ]
  },
  {
   "cell_type": "code",
   "execution_count": 34,
   "id": "proud-single",
   "metadata": {},
   "outputs": [
    {
     "data": {
      "text/plain": [
       "[31, 44, 33, 76]"
      ]
     },
     "execution_count": 34,
     "metadata": {},
     "output_type": "execute_result"
    }
   ],
   "source": [
    "cov_intervals"
   ]
  },
  {
   "cell_type": "code",
   "execution_count": 35,
   "id": "impressive-quick",
   "metadata": {},
   "outputs": [
    {
     "data": {
      "image/png": "[encoded data removed]",
      "text/plain": [
       "<Figure size 1440x400 with 1 Axes>"
      ]
     },
     "metadata": {
      "needs_background": "light"
     },
     "output_type": "display_data"
    }
   ],
   "source": [
    "from matplotlib.pyplot import figure\n",
    "figure(figsize=(18, 5), dpi=80)\n",
    "\n",
    "plt.plot(time_range[:-4],df['Infected'][-14:], label='Observed')\n",
    "plt.plot(time_range[-4:],y, label='Prediction')\n",
    "\n",
    "plt.errorbar(time_range[-4], y[0], yerr=cov_intervals[0] , color='black', fmt='o', label='95% Prediction Interval')\n",
    "plt.errorbar(time_range[-3], y[1], yerr=cov_intervals[1] , color='black', fmt='o')\n",
    "plt.errorbar(time_range[-2], y[2], yerr=cov_intervals[2], color='black', fmt='o')\n",
    "plt.errorbar(time_range[-1], y[3], yerr=cov_intervals[3], color='black', fmt='o')\n",
    "\n",
    "plt.xlabel('Date')\n",
    "plt.ylabel('Cases')\n",
    "plt.xticks(time_range,rotation=45)\n",
    "plt.title('COVID-19 Prediction in Japan \\nfrom 2021-10-10 to 2021-10-27 with GRU')\n",
    "plt.legend()\n",
    "plt.show()"
   ]
  },
  {
   "cell_type": "code",
   "execution_count": null,
   "id": "another-fifty",
   "metadata": {},
   "outputs": [],
   "source": []
  },
  {
   "cell_type": "code",
   "execution_count": null,
   "id": "declared-colombia",
   "metadata": {},
   "outputs": [],
   "source": []
  },
  {
   "cell_type": "code",
   "execution_count": null,
   "id": "utility-resident",
   "metadata": {},
   "outputs": [],
   "source": []
  },
  {
   "cell_type": "code",
   "execution_count": null,
   "id": "multiple-billy",
   "metadata": {},
   "outputs": [],
   "source": []
  },
  {
   "cell_type": "code",
   "execution_count": null,
   "id": "administrative-reconstruction",
   "metadata": {},
   "outputs": [],
   "source": []
  },
  {
   "cell_type": "markdown",
   "id": "pharmaceutical-country",
   "metadata": {},
   "source": [
    "### Read data from source"
   ]
  },
  {
   "cell_type": "code",
   "execution_count": 18,
   "id": "innocent-maximum",
   "metadata": {},
   "outputs": [
    {
     "name": "stdout",
     "output_type": "stream",
     "text": [
      "Date        datetime64[ns]\n",
      "Infected           float64\n",
      "dtype: object\n",
      "(647, 2)\n"
     ]
    },
    {
     "data": {
      "text/html": [
       "<div>\n",
       "<style scoped>\n",
       "    .dataframe tbody tr th:only-of-type {\n",
       "        vertical-align: middle;\n",
       "    }\n",
       "\n",
       "    .dataframe tbody tr th {\n",
       "        vertical-align: top;\n",
       "    }\n",
       "\n",
       "    .dataframe thead th {\n",
       "        text-align: right;\n",
       "    }\n",
       "</style>\n",
       "<table border=\"1\" class=\"dataframe\">\n",
       "  <thead>\n",
       "    <tr style=\"text-align: right;\">\n",
       "      <th></th>\n",
       "      <th>Date</th>\n",
       "      <th>Infected</th>\n",
       "    </tr>\n",
       "  </thead>\n",
       "  <tbody>\n",
       "    <tr>\n",
       "      <th>642</th>\n",
       "      <td>2021-10-19</td>\n",
       "      <td>367.0</td>\n",
       "    </tr>\n",
       "    <tr>\n",
       "      <th>643</th>\n",
       "      <td>2021-10-20</td>\n",
       "      <td>387.0</td>\n",
       "    </tr>\n",
       "    <tr>\n",
       "      <th>644</th>\n",
       "      <td>2021-10-21</td>\n",
       "      <td>334.0</td>\n",
       "    </tr>\n",
       "    <tr>\n",
       "      <th>645</th>\n",
       "      <td>2021-10-22</td>\n",
       "      <td>324.0</td>\n",
       "    </tr>\n",
       "    <tr>\n",
       "      <th>646</th>\n",
       "      <td>2021-10-23</td>\n",
       "      <td>277.0</td>\n",
       "    </tr>\n",
       "  </tbody>\n",
       "</table>\n",
       "</div>"
      ],
      "text/plain": [
       "          Date  Infected\n",
       "642 2021-10-19     367.0\n",
       "643 2021-10-20     387.0\n",
       "644 2021-10-21     334.0\n",
       "645 2021-10-22     324.0\n",
       "646 2021-10-23     277.0"
      ]
     },
     "execution_count": 18,
     "metadata": {},
     "output_type": "execute_result"
    }
   ],
   "source": [
    "df = pd.read_csv('https://toyokeizai.net/sp/visual/tko/covid19/csv/pcr_positive_daily.csv')\n",
    "df = df.rename(columns={'日付': 'Date', 'PCR 検査陽性者数(単日)': 'Infected'}) #renaming from Japanese to English\n",
    "df['Date'] = pd.to_datetime(df['Date'])\n",
    "print(df.dtypes)\n",
    "print(df.shape)\n",
    "df.tail()"
   ]
  },
  {
   "cell_type": "markdown",
   "id": "opening-reader",
   "metadata": {},
   "source": [
    "### Load GRU"
   ]
  },
  {
   "cell_type": "code",
   "execution_count": 19,
   "id": "engaged-tulsa",
   "metadata": {},
   "outputs": [
    {
     "data": {
      "text/plain": [
       "<tensorflow.python.keras.engine.sequential.Sequential at 0x1be92fa0130>"
      ]
     },
     "execution_count": 19,
     "metadata": {},
     "output_type": "execute_result"
    }
   ],
   "source": [
    "model_GRU = load_model('../GRU_infected_only_GRU_LSTM_Oct16.h5')\n",
    "model_GRU"
   ]
  },
  {
   "cell_type": "code",
   "execution_count": 20,
   "id": "forward-binary",
   "metadata": {},
   "outputs": [],
   "source": [
    "n_steps_in = 14\n",
    "n_steps_out = 4"
   ]
  },
  {
   "cell_type": "code",
   "execution_count": 21,
   "id": "aggregate-patrol",
   "metadata": {},
   "outputs": [],
   "source": [
    "# Feature Scaling\n",
    "sc = MinMaxScaler(feature_range = (0, 1))"
   ]
  },
  {
   "cell_type": "code",
   "execution_count": 22,
   "id": "asian-geneva",
   "metadata": {},
   "outputs": [
    {
     "name": "stdout",
     "output_type": "stream",
     "text": [
      "(1, 14, 1)\n"
     ]
    }
   ],
   "source": [
    "x_input = df['Infected'][-n_steps_in:].values # last 14 day\n",
    "x_input = sc.fit_transform(x_input.reshape(len(x_input), 1))\n",
    "x_input = x_input.reshape((1, n_steps_in, 1))\n",
    "print(x_input.shape)"
   ]
  },
  {
   "cell_type": "code",
   "execution_count": 23,
   "id": "young-captain",
   "metadata": {},
   "outputs": [
    {
     "name": "stdout",
     "output_type": "stream",
     "text": [
      "[[231.76816 193.36447 161.47987 161.77902]]\n"
     ]
    }
   ],
   "source": [
    "y_pred_GRU = model_GRU.predict(x_input)\n",
    "y_pred_GRU = sc.inverse_transform(y_pred_GRU) #revert scaling\n",
    "print(y_pred_GRU)"
   ]
  },
  {
   "cell_type": "code",
   "execution_count": 24,
   "id": "paperback-williams",
   "metadata": {},
   "outputs": [
    {
     "name": "stdout",
     "output_type": "stream",
     "text": [
      "[546. 359. 609. 723. 612. 522. 502. 425. 223. 367. 387. 334. 324. 277.]\n"
     ]
    }
   ],
   "source": [
    "x_input_raw = df['Infected'][-n_steps_in:].values\n",
    "print(x_input_raw.reshape(n_steps_in))"
   ]
  },
  {
   "cell_type": "markdown",
   "id": "registered-puzzle",
   "metadata": {},
   "source": [
    "### Range: 18 days"
   ]
  },
  {
   "cell_type": "code",
   "execution_count": 25,
   "id": "angry-samoa",
   "metadata": {},
   "outputs": [
    {
     "name": "stdout",
     "output_type": "stream",
     "text": [
      "2021-10-10 --- 2021-10-27\n"
     ]
    }
   ],
   "source": [
    "start_date = str(df['Date'].iloc[-14])[:10]\n",
    "\n",
    "end_date = df['Date'].iloc[-15] + pd.Timedelta(18, unit='D')                  \n",
    "end_date = str(end_date)[:10]\n",
    "\n",
    "print(start_date,'---', end_date)"
   ]
  },
  {
   "cell_type": "code",
   "execution_count": 26,
   "id": "explicit-consequence",
   "metadata": {},
   "outputs": [
    {
     "name": "stdout",
     "output_type": "stream",
     "text": [
      "(18,)\n"
     ]
    }
   ],
   "source": [
    "time_range = pd.date_range(start=start_date, end=end_date)\n",
    "print(time_range.shape)"
   ]
  },
  {
   "cell_type": "code",
   "execution_count": 27,
   "id": "honey-bradley",
   "metadata": {},
   "outputs": [
    {
     "data": {
      "text/plain": [
       "array([231.76816, 193.36447, 161.47987, 161.77902], dtype=float32)"
      ]
     },
     "execution_count": 27,
     "metadata": {},
     "output_type": "execute_result"
    }
   ],
   "source": [
    "y_pred_GRU[0,:]"
   ]
  },
  {
   "cell_type": "code",
   "execution_count": 28,
   "id": "dietary-accreditation",
   "metadata": {},
   "outputs": [
    {
     "data": {
      "text/plain": [
       "[('2021-10-24', 231.76816),\n",
       " ('2021-10-25', 193.36447),\n",
       " ('2021-10-26', 161.47987),\n",
       " ('2021-10-27', 161.77902)]"
      ]
     },
     "execution_count": 28,
     "metadata": {},
     "output_type": "execute_result"
    }
   ],
   "source": [
    "pred_list = list(zip(time_range[-4:].strftime('%Y-%m-%d'), y_pred_GRU[0,:]))\n",
    "pred_list"
   ]
  },
  {
   "cell_type": "code",
   "execution_count": 29,
   "id": "placed-vocabulary",
   "metadata": {},
   "outputs": [
    {
     "data": {
      "text/html": [
       "<div>\n",
       "<style scoped>\n",
       "    .dataframe tbody tr th:only-of-type {\n",
       "        vertical-align: middle;\n",
       "    }\n",
       "\n",
       "    .dataframe tbody tr th {\n",
       "        vertical-align: top;\n",
       "    }\n",
       "\n",
       "    .dataframe thead th {\n",
       "        text-align: right;\n",
       "    }\n",
       "</style>\n",
       "<table border=\"1\" class=\"dataframe\">\n",
       "  <thead>\n",
       "    <tr style=\"text-align: right;\">\n",
       "      <th></th>\n",
       "      <th>Date</th>\n",
       "      <th>Predict Infected</th>\n",
       "    </tr>\n",
       "  </thead>\n",
       "  <tbody>\n",
       "    <tr>\n",
       "      <th>0</th>\n",
       "      <td>2021-10-24</td>\n",
       "      <td>231.768158</td>\n",
       "    </tr>\n",
       "    <tr>\n",
       "      <th>1</th>\n",
       "      <td>2021-10-25</td>\n",
       "      <td>193.364471</td>\n",
       "    </tr>\n",
       "    <tr>\n",
       "      <th>2</th>\n",
       "      <td>2021-10-26</td>\n",
       "      <td>161.479874</td>\n",
       "    </tr>\n",
       "    <tr>\n",
       "      <th>3</th>\n",
       "      <td>2021-10-27</td>\n",
       "      <td>161.779022</td>\n",
       "    </tr>\n",
       "  </tbody>\n",
       "</table>\n",
       "</div>"
      ],
      "text/plain": [
       "         Date  Predict Infected\n",
       "0  2021-10-24        231.768158\n",
       "1  2021-10-25        193.364471\n",
       "2  2021-10-26        161.479874\n",
       "3  2021-10-27        161.779022"
      ]
     },
     "execution_count": 29,
     "metadata": {},
     "output_type": "execute_result"
    }
   ],
   "source": [
    "pd.DataFrame (pred_list, columns = ['Date', 'Predict Infected'])"
   ]
  },
  {
   "cell_type": "code",
   "execution_count": null,
   "id": "threatened-perspective",
   "metadata": {},
   "outputs": [],
   "source": []
  },
  {
   "cell_type": "code",
   "execution_count": null,
   "id": "patient-enforcement",
   "metadata": {},
   "outputs": [],
   "source": []
  },
  {
   "cell_type": "code",
   "execution_count": 30,
   "id": "million-clark",
   "metadata": {},
   "outputs": [
    {
     "data": {
      "image/png": "[encoded data removed]",
      "text/plain": [
       "<Figure size 1600x480 with 1 Axes>"
      ]
     },
     "metadata": {
      "needs_background": "light"
     },
     "output_type": "display_data"
    }
   ],
   "source": [
    "from matplotlib.pyplot import figure\n",
    "figure(figsize=(20, 6), dpi=80)\n",
    "\n",
    "plt.plot(time_range[:14],x_input_raw.reshape(n_steps_in), label='Observed')\n",
    "plt.plot(time_range[14:], y_pred_GRU[0,:], label='GRU_predicted')\n",
    "plt.title('GRU out-of-sample-prediction')\n",
    "plt.xticks(time_range,rotation=45)\n",
    "plt.legend()\n",
    "plt.show()"
   ]
  },
  {
   "cell_type": "code",
   "execution_count": null,
   "id": "choice-appraisal",
   "metadata": {},
   "outputs": [],
   "source": []
  },
  {
   "cell_type": "code",
   "execution_count": null,
   "id": "simplified-chair",
   "metadata": {},
   "outputs": [],
   "source": []
  },
  {
   "cell_type": "code",
   "execution_count": null,
   "id": "integral-journey",
   "metadata": {},
   "outputs": [],
   "source": []
  }
 ],
 "metadata": {
  "kernelspec": {
   "display_name": "Python 3",
   "language": "python",
   "name": "python3"
  },
  "language_info": {
   "codemirror_mode": {
    "name": "ipython",
    "version": 3
   },
   "file_extension": ".py",
   "mimetype": "text/x-python",
   "name": "python",
   "nbconvert_exporter": "python",
   "pygments_lexer": "ipython3",
   "version": "3.8.5"
  }
 },
 "nbformat": 4,
 "nbformat_minor": 5
}
