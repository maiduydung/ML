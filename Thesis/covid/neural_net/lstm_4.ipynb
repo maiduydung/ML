{
 "cells": [
  {
   "cell_type": "code",
   "execution_count": 22,
   "id": "finished-rabbit",
   "metadata": {},
   "outputs": [],
   "source": [
    "import numpy as np\n",
    "import pandas as pd\n",
    "import matplotlib.pyplot as plt\n",
    "from keras.models import Sequential\n",
    "from keras.layers import LSTM, Dense, Dropout\n",
    "from sklearn.preprocessing import MinMaxScaler\n",
    "from sklearn.metrics import mean_squared_error\n",
    "from keras.preprocessing.sequence import TimeseriesGenerator\n",
    "import tensorflow as tf"
   ]
  },
  {
   "cell_type": "markdown",
   "id": "suited-lodging",
   "metadata": {},
   "source": [
    "## Infected and News"
   ]
  },
  {
   "cell_type": "code",
   "execution_count": 114,
   "id": "norwegian-exhibit",
   "metadata": {},
   "outputs": [
    {
     "name": "stdout",
     "output_type": "stream",
     "text": [
      "(555, 4)\n",
      "Date                     datetime64[ns]\n",
      "Cummulative_Deaths              float64\n",
      "Infected                        float64\n",
      "Cummulative_Recovered           float64\n",
      "dtype: object\n"
     ]
    },
    {
     "data": {
      "text/html": [
       "<div>\n",
       "<style scoped>\n",
       "    .dataframe tbody tr th:only-of-type {\n",
       "        vertical-align: middle;\n",
       "    }\n",
       "\n",
       "    .dataframe tbody tr th {\n",
       "        vertical-align: top;\n",
       "    }\n",
       "\n",
       "    .dataframe thead th {\n",
       "        text-align: right;\n",
       "    }\n",
       "</style>\n",
       "<table border=\"1\" class=\"dataframe\">\n",
       "  <thead>\n",
       "    <tr style=\"text-align: right;\">\n",
       "      <th></th>\n",
       "      <th>Date</th>\n",
       "      <th>Cummulative_Deaths</th>\n",
       "      <th>Infected</th>\n",
       "      <th>Cummulative_Recovered</th>\n",
       "    </tr>\n",
       "  </thead>\n",
       "  <tbody>\n",
       "    <tr>\n",
       "      <th>0</th>\n",
       "      <td>2020-02-14</td>\n",
       "      <td>1.0</td>\n",
       "      <td>5.0</td>\n",
       "      <td>12.0</td>\n",
       "    </tr>\n",
       "    <tr>\n",
       "      <th>1</th>\n",
       "      <td>2020-02-15</td>\n",
       "      <td>1.0</td>\n",
       "      <td>4.0</td>\n",
       "      <td>12.0</td>\n",
       "    </tr>\n",
       "    <tr>\n",
       "      <th>2</th>\n",
       "      <td>2020-02-16</td>\n",
       "      <td>1.0</td>\n",
       "      <td>1.0</td>\n",
       "      <td>13.0</td>\n",
       "    </tr>\n",
       "    <tr>\n",
       "      <th>3</th>\n",
       "      <td>2020-02-17</td>\n",
       "      <td>1.0</td>\n",
       "      <td>6.0</td>\n",
       "      <td>12.0</td>\n",
       "    </tr>\n",
       "    <tr>\n",
       "      <th>4</th>\n",
       "      <td>2020-02-18</td>\n",
       "      <td>1.0</td>\n",
       "      <td>8.0</td>\n",
       "      <td>14.0</td>\n",
       "    </tr>\n",
       "  </tbody>\n",
       "</table>\n",
       "</div>"
      ],
      "text/plain": [
       "        Date  Cummulative_Deaths  Infected  Cummulative_Recovered\n",
       "0 2020-02-14                 1.0       5.0                   12.0\n",
       "1 2020-02-15                 1.0       4.0                   12.0\n",
       "2 2020-02-16                 1.0       1.0                   13.0\n",
       "3 2020-02-17                 1.0       6.0                   12.0\n",
       "4 2020-02-18                 1.0       8.0                   14.0"
      ]
     },
     "execution_count": 114,
     "metadata": {},
     "output_type": "execute_result"
    }
   ],
   "source": [
    "df = pd.read_csv('../seir/cov_datasets/all.csv')\n",
    "#df.rename(columns={\"Unnamed: 0\": \"Date\",\"binary_score (1:good   0: bad)\": \"Score\"}, inplace=True)\n",
    "df['Date'] = pd.to_datetime(df['Date'])\n",
    "print(df.shape)\n",
    "print(df.dtypes)\n",
    "df.head()"
   ]
  },
  {
   "cell_type": "code",
   "execution_count": 115,
   "id": "christian-toddler",
   "metadata": {},
   "outputs": [
    {
     "data": {
      "text/plain": [
       "[<matplotlib.lines.Line2D at 0x27873b1f610>]"
      ]
     },
     "execution_count": 115,
     "metadata": {},
     "output_type": "execute_result"
    },
    {
     "data": {
      "image/png": "[encoded data removed]",
      "text/plain": [
       "<Figure size 432x288 with 1 Axes>"
      ]
     },
     "metadata": {
      "needs_background": "light"
     },
     "output_type": "display_data"
    }
   ],
   "source": [
    "plt.plot(df['Infected'])"
   ]
  },
  {
   "cell_type": "markdown",
   "id": "pursuant-burns",
   "metadata": {},
   "source": [
    "### Let's get back to the basics, only use the infected feature"
   ]
  },
  {
   "cell_type": "code",
   "execution_count": 125,
   "id": "unknown-reality",
   "metadata": {},
   "outputs": [],
   "source": [
    "def spilt_seq(seq, n_steps_in, n_steps_out):\n",
    "    X = []\n",
    "    y = []\n",
    "    for i in range(len(seq)):\n",
    "        x_end_idx = i + n_steps_in\n",
    "        y_start_idx = x_end_idx + n_steps_out\n",
    "        if(y_start_idx > len(seq)):\n",
    "            break\n",
    "        X.append(seq[i:x_end_idx])\n",
    "        y.append(seq[x_end_idx:y_start_idx])\n",
    "    return np.array(X), np.array(y)\n"
   ]
  },
  {
   "cell_type": "code",
   "execution_count": 134,
   "id": "identified-proof",
   "metadata": {},
   "outputs": [
    {
     "name": "stdout",
     "output_type": "stream",
     "text": [
      "(555,)\n"
     ]
    }
   ],
   "source": [
    "sc = MinMaxScaler(feature_range = (0, 1))\n",
    "data = df['Infected'].values.reshape(len(df), 1)\n",
    "\n",
    "infected_scaled = sc.fit_transform(data).reshape(len(df))\n",
    "\n",
    "print(infected_scaled.shape)"
   ]
  },
  {
   "cell_type": "code",
   "execution_count": 224,
   "id": "living-messenger",
   "metadata": {},
   "outputs": [
    {
     "name": "stdout",
     "output_type": "stream",
     "text": [
      "(521, 30, 1)\n",
      "(521, 5, 1)\n"
     ]
    }
   ],
   "source": [
    "n_steps_in = 30\n",
    "n_steps_out = 5 # forcast 5 steps into the future\n",
    "X, y = spilt_seq(infected_scaled,n_steps_in,n_steps_out)\n",
    "X = X.reshape(X.shape[0], X.shape[1], 1) # samples, timesteps, features\n",
    "y = y.reshape(y.shape[0], y.shape[1], 1) \n",
    "\n",
    "print(X.shape)\n",
    "print(y.shape)"
   ]
  },
  {
   "cell_type": "code",
   "execution_count": 225,
   "id": "adjusted-pathology",
   "metadata": {},
   "outputs": [],
   "source": [
    "X_train = X[:400,:]\n",
    "X_test  = X[400:,:]\n",
    "y_train = y[:400,:]\n",
    "y_test  = y[400:,:]"
   ]
  },
  {
   "cell_type": "code",
   "execution_count": 226,
   "id": "instrumental-raising",
   "metadata": {},
   "outputs": [
    {
     "data": {
      "text/plain": [
       "(30, 1)"
      ]
     },
     "execution_count": 226,
     "metadata": {},
     "output_type": "execute_result"
    }
   ],
   "source": [
    "input_shape = (X_train.shape[1],X_train.shape[2])\n",
    "input_shape"
   ]
  },
  {
   "cell_type": "code",
   "execution_count": 227,
   "id": "wired-kinase",
   "metadata": {},
   "outputs": [
    {
     "name": "stdout",
     "output_type": "stream",
     "text": [
      "Epoch 1/20\n",
      "4/4 [==============================] - 0s 49ms/step - loss: 0.0503\n",
      "Epoch 2/20\n",
      "4/4 [==============================] - 0s 47ms/step - loss: 0.0456\n",
      "Epoch 3/20\n",
      "4/4 [==============================] - 0s 49ms/step - loss: 0.0421\n",
      "Epoch 4/20\n",
      "4/4 [==============================] - 0s 48ms/step - loss: 0.0406\n",
      "Epoch 5/20\n",
      "4/4 [==============================] - 0s 53ms/step - loss: 0.0377\n",
      "Epoch 6/20\n",
      "4/4 [==============================] - 0s 50ms/step - loss: 0.0348\n",
      "Epoch 7/20\n",
      "4/4 [==============================] - 0s 49ms/step - loss: 0.0312\n",
      "Epoch 8/20\n",
      "4/4 [==============================] - 0s 45ms/step - loss: 0.0299\n",
      "Epoch 9/20\n",
      "4/4 [==============================] - 0s 45ms/step - loss: 0.0296\n",
      "Epoch 10/20\n",
      "4/4 [==============================] - 0s 45ms/step - loss: 0.0281\n",
      "Epoch 11/20\n",
      "4/4 [==============================] - 0s 45ms/step - loss: 0.0268\n",
      "Epoch 12/20\n",
      "4/4 [==============================] - 0s 48ms/step - loss: 0.0269\n",
      "Epoch 13/20\n",
      "4/4 [==============================] - 0s 46ms/step - loss: 0.0254\n",
      "Epoch 14/20\n",
      "4/4 [==============================] - 0s 48ms/step - loss: 0.0243\n",
      "Epoch 15/20\n",
      "4/4 [==============================] - 0s 48ms/step - loss: 0.0244\n",
      "Epoch 16/20\n",
      "4/4 [==============================] - 0s 45ms/step - loss: 0.0239\n",
      "Epoch 17/20\n",
      "4/4 [==============================] - 0s 46ms/step - loss: 0.0224\n",
      "Epoch 18/20\n",
      "4/4 [==============================] - 0s 46ms/step - loss: 0.0210\n",
      "Epoch 19/20\n",
      "4/4 [==============================] - 0s 45ms/step - loss: 0.0213\n",
      "Epoch 20/20\n",
      "4/4 [==============================] - 0s 47ms/step - loss: 0.0198\n"
     ]
    },
    {
     "data": {
      "text/plain": [
       "<tensorflow.python.keras.callbacks.History at 0x27886dc8f40>"
      ]
     },
     "execution_count": 227,
     "metadata": {},
     "output_type": "execute_result"
    }
   ],
   "source": [
    "model = Sequential()\n",
    "\n",
    "#Adding the first LSTM layer and some Dropout regularisation\n",
    "model.add(LSTM(units = 50, return_sequences = True, activation='relu', input_shape = input_shape))\n",
    "model.add(Dropout(0.2))\n",
    "\n",
    "# Adding a second LSTM layer and some Dropout regularisation\n",
    "model.add(LSTM(units = 50, return_sequences = True,activation='relu'))\n",
    "model.add(Dropout(0.2))\n",
    "\n",
    "# Adding a third LSTM layer and some Dropout regularisation\n",
    "model.add(LSTM(units = 50, return_sequences = True, activation='relu'))\n",
    "model.add(Dropout(0.2))\n",
    "\n",
    "# Adding a fourth LSTM layer and some Dropout regularisation\n",
    "model.add(LSTM(units = 50, activation='relu'))\n",
    "model.add(Dropout(0.2))\n",
    "\n",
    "# Adding the output layer\n",
    "model.add(Dense(units = n_steps_out, activation='relu'))\n",
    "\n",
    "# Compiling the RNN\n",
    "model.compile(optimizer = 'adam', loss = 'mean_absolute_error')\n",
    "\n",
    "# Fitting the RNN to the Training set\n",
    "model.fit(X_train, y_train, epochs = 20, batch_size = 128)"
   ]
  },
  {
   "cell_type": "code",
   "execution_count": 228,
   "id": "coordinated-external",
   "metadata": {},
   "outputs": [],
   "source": [
    "y_pred = model.predict(X_test)\n",
    "y_pred = sc.inverse_transform(y_pred) #revert scaling\n",
    "#print(sc.inverse_transform(y_pred))"
   ]
  },
  {
   "cell_type": "code",
   "execution_count": 229,
   "id": "physical-ireland",
   "metadata": {},
   "outputs": [
    {
     "name": "stdout",
     "output_type": "stream",
     "text": [
      "(121, 5)\n"
     ]
    }
   ],
   "source": [
    "print(y_pred.shape)"
   ]
  },
  {
   "cell_type": "code",
   "execution_count": 230,
   "id": "continuing-hudson",
   "metadata": {},
   "outputs": [],
   "source": [
    "y_test_reshaped = y_test.reshape(-1)"
   ]
  },
  {
   "cell_type": "code",
   "execution_count": 231,
   "id": "intelligent-section",
   "metadata": {},
   "outputs": [
    {
     "data": {
      "text/plain": [
       "[<matplotlib.lines.Line2D at 0x2788eea9460>,\n",
       " <matplotlib.lines.Line2D at 0x2788eea9520>,\n",
       " <matplotlib.lines.Line2D at 0x2788eea95e0>,\n",
       " <matplotlib.lines.Line2D at 0x2788eea96a0>,\n",
       " <matplotlib.lines.Line2D at 0x2788eea9760>]"
      ]
     },
     "execution_count": 231,
     "metadata": {},
     "output_type": "execute_result"
    },
    {
     "data": {
      "image/png": "[encoded data removed]",
      "text/plain": [
       "<Figure size 432x288 with 1 Axes>"
      ]
     },
     "metadata": {
      "needs_background": "light"
     },
     "output_type": "display_data"
    }
   ],
   "source": [
    "plt.plot(y_pred)"
   ]
  },
  {
   "cell_type": "code",
   "execution_count": 232,
   "id": "quality-pricing",
   "metadata": {},
   "outputs": [
    {
     "data": {
      "text/plain": [
       "[<matplotlib.lines.Line2D at 0x2788ef043a0>,\n",
       " <matplotlib.lines.Line2D at 0x2788ef13520>,\n",
       " <matplotlib.lines.Line2D at 0x2788ef135e0>,\n",
       " <matplotlib.lines.Line2D at 0x2788ef136a0>,\n",
       " <matplotlib.lines.Line2D at 0x2788ef13760>]"
      ]
     },
     "execution_count": 232,
     "metadata": {},
     "output_type": "execute_result"
    },
    {
     "data": {
      "image/png": "[encoded data removed]",
      "text/plain": [
       "<Figure size 432x288 with 1 Axes>"
      ]
     },
     "metadata": {
      "needs_background": "light"
     },
     "output_type": "display_data"
    }
   ],
   "source": [
    "plt.plot(df['Infected'][400:].reset_index().drop(['index'],axis = 1))\n",
    "plt.plot(y_pred)"
   ]
  },
  {
   "cell_type": "code",
   "execution_count": null,
   "id": "saved-thompson",
   "metadata": {},
   "outputs": [],
   "source": []
  }
 ],
 "metadata": {
  "kernelspec": {
   "display_name": "Python 3",
   "language": "python",
   "name": "python3"
  },
  "language_info": {
   "codemirror_mode": {
    "name": "ipython",
    "version": 3
   },
   "file_extension": ".py",
   "mimetype": "text/x-python",
   "name": "python",
   "nbconvert_exporter": "python",
   "pygments_lexer": "ipython3",
   "version": "3.8.5"
  }
 },
 "nbformat": 4,
 "nbformat_minor": 5
}
