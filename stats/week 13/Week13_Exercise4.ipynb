{
 "cells": [
  {
   "cell_type": "code",
   "execution_count": 1,
   "metadata": {},
   "outputs": [
    {
     "name": "stdout",
     "output_type": "stream",
     "text": [
      "p-value is\n",
      "0.020381913442855257\n",
      "帰無仮説棄却\n"
     ]
    }
   ],
   "source": [
    "import numpy as np\n",
    "from scipy import stats\n",
    "from scipy.stats import t\n",
    "\n",
    "X=np.array([36.3, 35.7, 35.9, 37.1, 36.1])\n",
    "mu_0=35.5\n",
    "X_mean=X.mean()\n",
    "X_sd=np.std(X,ddof=1)\n",
    "N=X.size\n",
    "\n",
    "stats_t = (X_mean -mu_0)/ (X_sd / np.sqrt(N))\n",
    "p_val = t.cdf( -np.abs(stats_t),df=N-1)\n",
    "\n",
    "print(\"p-value is\")\n",
    "print(p_val)\n",
    "\n",
    "if p_val<0.05:\n",
    "    print(\"帰無仮説棄却\")\n",
    "else:\n",
    "    print(\"帰無仮説棄却できない\")"
   ]
  }
 ],
 "metadata": {
  "kernelspec": {
   "display_name": "Python 3",
   "language": "python",
   "name": "python3"
  },
  "language_info": {
   "codemirror_mode": {
    "name": "ipython",
    "version": 3
   },
   "file_extension": ".py",
   "mimetype": "text/x-python",
   "name": "python",
   "nbconvert_exporter": "python",
   "pygments_lexer": "ipython3",
   "version": "3.7.3"
  }
 },
 "nbformat": 4,
 "nbformat_minor": 2
}
