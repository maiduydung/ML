{
 "cells": [
  {
   "cell_type": "code",
   "execution_count": 221,
   "id": "recorded-journey",
   "metadata": {},
   "outputs": [],
   "source": [
    "import tensorflow as tf\n",
    "\n",
    "from tensorflow.keras import datasets, layers, models\n",
    "import matplotlib.pyplot as plt\n",
    "import PIL\n",
    "import os\n",
    "import re #regex\n",
    "import numpy as np\n",
    "import random"
   ]
  },
  {
   "cell_type": "markdown",
   "id": "directed-worcester",
   "metadata": {},
   "source": [
    "### Converting images to numpy array"
   ]
  },
  {
   "cell_type": "markdown",
   "id": "oriented-teens",
   "metadata": {},
   "source": [
    "img_dict = {}\n",
    "directory ='skulls/'\n",
    "\n",
    "for filename in os.listdir(directory):\n",
    "    if filename.endswith(\".jpg\"): \n",
    "        img = PIL.Image.open(directory+filename)\n",
    "        img_sequence = img.getdata()\n",
    "        img_array = np.array(img_sequence) \n",
    "        img_array = img_array/255 #normalize\n",
    "        #print(img_array.shape)\n",
    "        key = re.sub(r'\\.[^.]*$',\"\",filename)\n",
    "        img_dict[key] = img_array #saving np array to a dictionary"
   ]
  },
  {
   "cell_type": "code",
   "execution_count": null,
   "id": "lesbian-frame",
   "metadata": {},
   "outputs": [],
   "source": [
    "\n"
   ]
  },
  {
   "cell_type": "code",
   "execution_count": 222,
   "id": "dress-newman",
   "metadata": {},
   "outputs": [
    {
     "name": "stdout",
     "output_type": "stream",
     "text": [
      "(73, 255, 255, 3)\n",
      "(73,)\n"
     ]
    }
   ],
   "source": [
    "directory ='skulls/'\n",
    "size = (255,255)\n",
    "\n",
    "X=[]\n",
    "Y=[]\n",
    "\n",
    "for filename in os.listdir(directory):\n",
    "    if filename.endswith(\".jpg\"):\n",
    "        img = PIL.Image.open(directory+filename)\n",
    "        img = img.convert(\"RGB\")\n",
    "        img = img.resize(size)\n",
    "        data = np.array(img).astype('float32')/255\n",
    "        X.append(data)\n",
    "        label = re.sub(r'\\.[^.]*$',\"\",filename) #removing file extension\n",
    "        Y.append(label)\n",
    "        \n",
    "X = np.array(X)\n",
    "Y = np.array(Y)\n",
    "OneHot_labels = np.array([i for i in range(0,73)])\n",
    "print(X.shape)\n",
    "print(Y.shape)"
   ]
  },
  {
   "cell_type": "code",
   "execution_count": 223,
   "id": "adult-grain",
   "metadata": {},
   "outputs": [
    {
     "data": {
      "text/plain": [
       "array([ 0,  1,  2,  3,  4,  5,  6,  7,  8,  9, 10, 11, 12, 13, 14, 15, 16,\n",
       "       17, 18, 19, 20, 21, 22, 23, 24, 25, 26, 27, 28, 29, 30, 31, 32, 33,\n",
       "       34, 35, 36, 37, 38, 39, 40, 41, 42, 43, 44, 45, 46, 47, 48, 49, 50,\n",
       "       51, 52, 53, 54, 55, 56, 57, 58, 59, 60, 61, 62, 63, 64, 65, 66, 67,\n",
       "       68, 69, 70, 71, 72])"
      ]
     },
     "execution_count": 223,
     "metadata": {},
     "output_type": "execute_result"
    }
   ],
   "source": [
    "OneHot_labels"
   ]
  },
  {
   "cell_type": "code",
   "execution_count": 224,
   "id": "ranking-burner",
   "metadata": {},
   "outputs": [
    {
     "data": {
      "text/plain": [
       "array(['Angolan Colobus Monkey_Colobus angolensis',\n",
       "       'Australopithecus boisei',\n",
       "       'Aye-Aye          Daubentonia madagascarensis',\n",
       "       'Bearded Saki female_Chiropotes satanas satanas',\n",
       "       'Bearded Saki male_Chiropotes satanas satanas',\n",
       "       'Blue Monkey_Cercopitheous mitis', 'BonoboPygmy Chimpanzee female',\n",
       "       'Borneo Orangutan', 'Common Chimpanzee juvenile',\n",
       "       'Common Chimpanzee male', 'Common Chimpanzee male2',\n",
       "       'Common Marmoset_Callithrix jacchus',\n",
       "       'Common Squirrel Monkey female_Saimiri sciurea sciurea',\n",
       "       'Common Squirrel Monkey male_Saimiri sciurea sciurea',\n",
       "       'Crab- eating Monkey_Maccaca facicularis',\n",
       "       'De Brazza monkey female_Cercopithecus neglectus',\n",
       "       \"De Brazza's monkey juvenile male_Cercopithecus neglectus\",\n",
       "       \"Demidoff's Bush Baby (male)          Galagoides demidoff\",\n",
       "       'Diana Monkey female_Cercopitheous diana',\n",
       "       'GalagoBush Baby          Galagos senegalensis',\n",
       "       'Gelada Baboon male', 'Gibbon likely male',\n",
       "       'Golden Lion Tamarin (female)          Leontopithecus rosalia',\n",
       "       'Gorilla  male',\n",
       "       'Gray-necked Owl Monkey female_ Aotus lemurinus griseimembra',\n",
       "       'Gray-necked Owl Monkey male_ Aotus lemurinus griseimembra',\n",
       "       'Hanuman Langur_Semnopithecus entellus', 'Homo sapien example #3',\n",
       "       'Hoolock Gibbon female', 'Hoolock Gibbon male', 'Juvenile Baboon',\n",
       "       'langur', 'Lesser Spot-Nosed Guenon male_Cercopithecus pataurista',\n",
       "       'Lowland Gorilla female', 'Lowland Gorilla male', 'Mandrill male',\n",
       "       'Mandrill2 male',\n",
       "       'Mantled Howler Monkey          Alouatta palliata',\n",
       "       'Mona Monkey_Chlorocebus mona', 'Mountain Gorilla',\n",
       "       'Mustached Guenon female_Cercopithecus cephus',\n",
       "       'Mustached Guenon_Cercopithecus cephus', 'Olive Baboon male',\n",
       "       'Orangutan juvenile', 'Orangutan male', 'Orangutan2 male',\n",
       "       'Owl Monkey Northern Gray-Necked     Aotus trivirgatus',\n",
       "       'Owl Monkey species unknown', 'Potto          Potto perodreticus',\n",
       "       'Potto (male)          Potto perodreticus',\n",
       "       'Putty-nosed or Greater spot-nosed Guenon  male_Cercopithecus nictitans',\n",
       "       'Putty-nosed or Greater spot-nosed Guenon female_Cercopithecus nictitans',\n",
       "       'Red Howler Monkey female_ Alouatta seniculus seniculus',\n",
       "       'Red Howler Monkey male_Alouatta seniculus seniculus',\n",
       "       'Red Ruffed Lemur          Valecia veriegata',\n",
       "       'Redtail monkey female_Cercopithecus ascanius',\n",
       "       'Redtail monkey male_Cercopithecus ascanius',\n",
       "       'Rhesus Macaque male', 'Ring-tail Lemur          Lemur catta',\n",
       "       'Skhul V Homo sapiens', 'Sooty, Mangabey female',\n",
       "       'Spider Monkey male     Ateles pansicus',\n",
       "       'Stump-tailed Macaque male_Macaca arctoides',\n",
       "       'Talapoin Monkey female_Miopithecus talapoin',\n",
       "       'Tamarin, Cotton Top          Saguinus oedipus',\n",
       "       'Vervet or Green Monkey female_Chlorocebus aethiops',\n",
       "       'Vervet or Green Monkey_Chlorocebus aethiops',\n",
       "       'Western  Colobus Monkey_Colobus polykomos',\n",
       "       'White-belied Spider Monkey female          Ateles belzebuth',\n",
       "       'White-faced Saki 2 female_Pithecia Pithecia',\n",
       "       'White-faced Saki female_Pithecia Pithecia',\n",
       "       'White-fronted Capuchin (male)          Cebus albifrons versicolor',\n",
       "       'Wooly Monkey'], dtype='<U71')"
      ]
     },
     "execution_count": 224,
     "metadata": {},
     "output_type": "execute_result"
    }
   ],
   "source": [
    "Y"
   ]
  },
  {
   "cell_type": "markdown",
   "id": "toxic-interpretation",
   "metadata": {},
   "source": [
    "### Setting up CNN"
   ]
  },
  {
   "cell_type": "code",
   "execution_count": 225,
   "id": "fiscal-frederick",
   "metadata": {},
   "outputs": [
    {
     "name": "stdout",
     "output_type": "stream",
     "text": [
      "Model: \"sequential_20\"\n",
      "_________________________________________________________________\n",
      "Layer (type)                 Output Shape              Param #   \n",
      "=================================================================\n",
      "conv2d_54 (Conv2D)           (None, 253, 253, 32)      896       \n",
      "_________________________________________________________________\n",
      "max_pooling2d_36 (MaxPooling (None, 126, 126, 32)      0         \n",
      "_________________________________________________________________\n",
      "conv2d_55 (Conv2D)           (None, 124, 124, 64)      18496     \n",
      "_________________________________________________________________\n",
      "max_pooling2d_37 (MaxPooling (None, 62, 62, 64)        0         \n",
      "_________________________________________________________________\n",
      "conv2d_56 (Conv2D)           (None, 60, 60, 64)        36928     \n",
      "_________________________________________________________________\n",
      "flatten_15 (Flatten)         (None, 230400)            0         \n",
      "_________________________________________________________________\n",
      "dense_30 (Dense)             (None, 64)                14745664  \n",
      "_________________________________________________________________\n",
      "dense_31 (Dense)             (None, 73)                4745      \n",
      "=================================================================\n",
      "Total params: 14,806,729\n",
      "Trainable params: 14,806,729\n",
      "Non-trainable params: 0\n",
      "_________________________________________________________________\n"
     ]
    }
   ],
   "source": [
    "model = models.Sequential()\n",
    "model.add(layers.Conv2D(32, (3, 3), activation='relu', input_shape=(255, 255, 3)))\n",
    "model.add(layers.MaxPooling2D((2, 2)))\n",
    "model.add(layers.Conv2D(64, (3, 3), activation='relu'))\n",
    "model.add(layers.MaxPooling2D((2, 2)))\n",
    "model.add(layers.Conv2D(64, (3, 3), activation='relu'))\n",
    "\n",
    "model.add(layers.Flatten())\n",
    "model.add(layers.Dense(64, activation='relu'))\n",
    "model.add(layers.Dense(73)) #73 classes\n",
    "\n",
    "model.summary()"
   ]
  },
  {
   "cell_type": "code",
   "execution_count": 226,
   "id": "private-train",
   "metadata": {},
   "outputs": [
    {
     "name": "stdout",
     "output_type": "stream",
     "text": [
      "Epoch 1/10\n",
      "3/3 [==============================] - 2s 754ms/step - loss: 6.7736 - accuracy: 0.0137\n",
      "Epoch 2/10\n",
      "3/3 [==============================] - 2s 735ms/step - loss: 4.3530 - accuracy: 0.0274\n",
      "Epoch 3/10\n",
      "3/3 [==============================] - 2s 763ms/step - loss: 4.2281 - accuracy: 0.0822\n",
      "Epoch 4/10\n",
      "3/3 [==============================] - 2s 763ms/step - loss: 4.1507 - accuracy: 0.0685\n",
      "Epoch 5/10\n",
      "3/3 [==============================] - 2s 730ms/step - loss: 3.8967 - accuracy: 0.1507\n",
      "Epoch 6/10\n",
      "3/3 [==============================] - 2s 728ms/step - loss: 3.5403 - accuracy: 0.1781\n",
      "Epoch 7/10\n",
      "3/3 [==============================] - 2s 728ms/step - loss: 3.1129 - accuracy: 0.3425\n",
      "Epoch 8/10\n",
      "3/3 [==============================] - 2s 766ms/step - loss: 2.3917 - accuracy: 0.5890\n",
      "Epoch 9/10\n",
      "3/3 [==============================] - 2s 740ms/step - loss: 1.5306 - accuracy: 0.7123\n",
      "Epoch 10/10\n",
      "3/3 [==============================] - 2s 733ms/step - loss: 0.8848 - accuracy: 0.8082\n"
     ]
    }
   ],
   "source": [
    "model.compile(optimizer='adam',\n",
    "              loss=tf.keras.losses.SparseCategoricalCrossentropy(from_logits=True),\n",
    "              metrics=['accuracy'])\n",
    "\n",
    "history = model.fit(X, OneHot_labels, epochs=10)"
   ]
  },
  {
   "cell_type": "markdown",
   "id": "urban-yesterday",
   "metadata": {},
   "source": [
    "### Trying to avoid overfit"
   ]
  },
  {
   "cell_type": "code",
   "execution_count": 227,
   "id": "genuine-anger",
   "metadata": {},
   "outputs": [
    {
     "data": {
      "text/plain": [
       "<matplotlib.legend.Legend at 0x181a07f58b0>"
      ]
     },
     "execution_count": 227,
     "metadata": {},
     "output_type": "execute_result"
    },
    {
     "data": {
      "image/png": "[encoded data removed]",
      "text/plain": [
       "<Figure size 432x288 with 1 Axes>"
      ]
     },
     "metadata": {
      "needs_background": "light"
     },
     "output_type": "display_data"
    }
   ],
   "source": [
    "plt.plot(history.history['accuracy'], label='accuracy')\n",
    "plt.xlabel('Epoch')\n",
    "plt.ylabel('Accuracy')\n",
    "plt.legend(loc='lower right')"
   ]
  },
  {
   "cell_type": "code",
   "execution_count": null,
   "id": "double-custom",
   "metadata": {},
   "outputs": [],
   "source": []
  },
  {
   "cell_type": "code",
   "execution_count": null,
   "id": "polyphonic-sessions",
   "metadata": {},
   "outputs": [],
   "source": []
  },
  {
   "cell_type": "markdown",
   "id": "decimal-minister",
   "metadata": {},
   "source": [
    "### Testset"
   ]
  },
  {
   "cell_type": "code",
   "execution_count": 228,
   "id": "lightweight-intellectual",
   "metadata": {},
   "outputs": [
    {
     "name": "stdout",
     "output_type": "stream",
     "text": [
      "(11, 255, 255, 3)\n",
      "(13,)\n"
     ]
    }
   ],
   "source": [
    "directory ='skulls_testset/'\n",
    "size = (255,255)\n",
    "\n",
    "X=[]\n",
    "Y=[]\n",
    "\n",
    "for filename in os.listdir(directory):\n",
    "    if filename.endswith(\".jpg\"):\n",
    "        img = PIL.Image.open(directory+filename)\n",
    "        img = img.convert(\"RGB\")\n",
    "        img = img.resize(size)\n",
    "        data = np.array(img).astype('float32')/255\n",
    "        X.append(data)\n",
    "        label = re.sub(r'\\.[^.]*$',\"\",filename) #removing file extension\n",
    "        Y.append(label)\n",
    "        \n",
    "test_val = np.array(X)\n",
    "test_label = np.array(Y)\n",
    "testOneHot_labels = np.array([i for i in range(0,len(Y))])\n",
    "print(test_val.shape)\n",
    "print(test_labels.shape)"
   ]
  },
  {
   "cell_type": "code",
   "execution_count": 229,
   "id": "strategic-clerk",
   "metadata": {},
   "outputs": [
    {
     "data": {
      "text/plain": [
       "array(['Angolan Colobus Monkey_Colobus angolensis',\n",
       "       'Australopithecus boisei',\n",
       "       'Aye-Aye          Daubentonia madagascarensis',\n",
       "       'Bearded Saki female_Chiropotes satanas satanas',\n",
       "       'Blue Monkey_Cercopitheous mitis', 'Borneo Orangutan',\n",
       "       'Common Chimpanzee male', 'Common Marmoset_Callithrix jacchus',\n",
       "       'Common Squirrel Monkey female_Saimiri sciurea sciurea',\n",
       "       'Common Squirrel Monkey male_Saimiri sciurea sciurea',\n",
       "       'Maccaca facicularis'], dtype='<U53')"
      ]
     },
     "execution_count": 229,
     "metadata": {},
     "output_type": "execute_result"
    }
   ],
   "source": [
    "test_label"
   ]
  },
  {
   "cell_type": "code",
   "execution_count": 230,
   "id": "statutory-islam",
   "metadata": {},
   "outputs": [
    {
     "name": "stdout",
     "output_type": "stream",
     "text": [
      "1/1 - 0s - loss: 4.6403 - accuracy: 0.0909\n"
     ]
    }
   ],
   "source": [
    "test_loss, test_acc = model.evaluate(test_val,  testOneHot_labels, verbose=2)\n"
   ]
  },
  {
   "cell_type": "markdown",
   "id": "aggressive-withdrawal",
   "metadata": {},
   "source": [
    "### very low accuracy"
   ]
  },
  {
   "cell_type": "code",
   "execution_count": null,
   "id": "liked-lease",
   "metadata": {},
   "outputs": [],
   "source": []
  }
 ],
 "metadata": {
  "kernelspec": {
   "display_name": "Python 3",
   "language": "python",
   "name": "python3"
  },
  "language_info": {
   "codemirror_mode": {
    "name": "ipython",
    "version": 3
   },
   "file_extension": ".py",
   "mimetype": "text/x-python",
   "name": "python",
   "nbconvert_exporter": "python",
   "pygments_lexer": "ipython3",
   "version": "3.8.5"
  }
 },
 "nbformat": 4,
 "nbformat_minor": 5
}
