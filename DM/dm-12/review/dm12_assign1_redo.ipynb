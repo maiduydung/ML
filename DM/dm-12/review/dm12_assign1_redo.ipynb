{
 "cells": [
  {
   "cell_type": "code",
   "execution_count": 11,
   "id": "virgin-alloy",
   "metadata": {},
   "outputs": [],
   "source": [
    "import numpy as np\n",
    "import pandas as pd\n",
    "from random import uniform\n",
    "from scipy.optimize import dual_annealing\n",
    "import matplotlib.pyplot as plt"
   ]
  },
  {
   "cell_type": "code",
   "execution_count": 18,
   "id": "pharmaceutical-hygiene",
   "metadata": {},
   "outputs": [],
   "source": [
    "def cost_func(x):\n",
    "    total = 10.0 + (1.5 - x[0] + x[0]*x[1])**2\n",
    "    total += (2.25 - x[0] + x[0]*x[1]**2)**2\n",
    "    total += (2.625 - x[0] + x[0]*x[1]**3)**2\n",
    "    return total"
   ]
  },
  {
   "cell_type": "code",
   "execution_count": 19,
   "id": "incorporate-justice",
   "metadata": {},
   "outputs": [],
   "source": [
    "bounds = [(-4.5, 4.5), (-4.5, 4.5)]"
   ]
  },
  {
   "cell_type": "code",
   "execution_count": 14,
   "id": "general-interim",
   "metadata": {},
   "outputs": [],
   "source": [
    "n_trial = 3"
   ]
  },
  {
   "cell_type": "code",
   "execution_count": 20,
   "id": "flying-thermal",
   "metadata": {},
   "outputs": [
    {
     "name": "stdout",
     "output_type": "stream",
     "text": [
      "[3.81782089 1.0858079 ]\n",
      "x: [2.99999954 0.49999988]\n",
      "f(x): 10.000000000000032\n",
      "[-0.1944436  -1.80267765]\n",
      "x: [3.00000474 0.5000013 ]\n",
      "f(x): 10.00000000000394\n",
      "[-2.31623364 -0.48416799]\n",
      "x: [3.00006804 0.50002309]\n",
      "f(x): 10.000000001631273\n"
     ]
    }
   ],
   "source": [
    "x = np.zeros(2)\n",
    "for i in range(n_trial):\n",
    "    # Initial value\n",
    "    x[0] = uniform(-4.5, 4.5)\n",
    "    x[1] = uniform(-4.5, 4.5)\n",
    "    print(x)  # debug\n",
    "    \n",
    "    # Dual annealing optimization\n",
    "    ret = dual_annealing(cost_func, bounds, x0=x, maxiter=500)\n",
    "    print('x:', ret.x)\n",
    "    print('f(x):', ret.fun)"
   ]
  },
  {
   "cell_type": "code",
   "execution_count": null,
   "id": "coated-catholic",
   "metadata": {},
   "outputs": [],
   "source": []
  }
 ],
 "metadata": {
  "kernelspec": {
   "display_name": "Python 3",
   "language": "python",
   "name": "python3"
  },
  "language_info": {
   "codemirror_mode": {
    "name": "ipython",
    "version": 3
   },
   "file_extension": ".py",
   "mimetype": "text/x-python",
   "name": "python",
   "nbconvert_exporter": "python",
   "pygments_lexer": "ipython3",
   "version": "3.8.5"
  }
 },
 "nbformat": 4,
 "nbformat_minor": 5
}
