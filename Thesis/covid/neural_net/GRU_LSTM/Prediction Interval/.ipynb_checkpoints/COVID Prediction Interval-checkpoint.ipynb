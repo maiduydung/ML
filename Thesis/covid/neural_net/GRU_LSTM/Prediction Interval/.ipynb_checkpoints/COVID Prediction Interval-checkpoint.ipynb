{
 "cells": [
  {
   "cell_type": "code",
   "execution_count": 51,
   "id": "restricted-sherman",
   "metadata": {},
   "outputs": [],
   "source": [
    "import numpy as np\n",
    "import pandas as pd\n",
    "import matplotlib.pyplot as plt\n",
    "from keras.models import Sequential, load_model\n",
    "from keras.layers import LSTM, GRU, Dense, Dropout\n",
    "from keras.callbacks import EarlyStopping\n",
    "from sklearn.preprocessing import MinMaxScaler\n",
    "from sklearn.metrics import mean_squared_error\n",
    "from keras.preprocessing.sequence import TimeseriesGenerator\n",
    "import tensorflow as tf\n",
    "from keras.callbacks import EarlyStopping, ModelCheckpoint\n",
    "from keras.models import load_model\n"
   ]
  },
  {
   "cell_type": "code",
   "execution_count": 57,
   "id": "native-october",
   "metadata": {},
   "outputs": [],
   "source": [
    "import warnings\n",
    "warnings.filterwarnings('ignore')\n",
    "\n",
    "import os\n",
    "os.environ['TF_CPP_MIN_LOG_LEVEL'] = '3'  #disable tensorflow warnings"
   ]
  },
  {
   "cell_type": "code",
   "execution_count": 64,
   "id": "automotive-ferry",
   "metadata": {},
   "outputs": [],
   "source": [
    "\n",
    "def read_from_source():\n",
    "    df = pd.read_csv('https://toyokeizai.net/sp/visual/tko/covid19/csv/pcr_positive_daily.csv')\n",
    "    df = df.rename(columns={'日付': 'Date', 'PCR 検査陽性者数(単日)': 'Infected'}) #renaming from Japanese to English\n",
    "    df['Date'] = pd.to_datetime(df['Date'])\n",
    "    return df\n",
    "\n",
    "\n",
    "\n",
    "def pred_covid(model_name, df, model_idx): #GRU or LSTM\n",
    "    #model = load_model('../'+model_name +'_infected_only_GRU_LSTM_Oct16.h5') #best\n",
    "    model = load_model(model_name +'_infected_only_Oct17_'+str(model_idx)+'.h5')\n",
    "    print(model_name,'loaded')\n",
    "\n",
    "    #constant\n",
    "    n_steps_in = 14\n",
    "    n_steps_out = 4\n",
    "    sc = MinMaxScaler(feature_range = (0, 1))\n",
    "    \n",
    "    x_input = df['Infected'][-n_steps_in:].values # last 14 day\n",
    "    x_input = sc.fit_transform(x_input.reshape(len(x_input), 1))\n",
    "    x_input = x_input.reshape((1, n_steps_in, 1))\n",
    "    \n",
    "    #y_pred = model.predict(x_input) # too much warnings\n",
    "    y_pred = model(x_input)\n",
    "    y_pred = sc.inverse_transform(y_pred) #revert scaling\n",
    "    #print('Next 4 days prediction:', y_pred)\n",
    "    \n",
    "    start_date = str(df['Date'].iloc[-14])[:10]\n",
    "    end_date = df['Date'].iloc[-15] + pd.Timedelta(18, unit='D')                  \n",
    "    end_date = str(end_date)[:10]\n",
    "    #print(start_date,'---', end_date)\n",
    "    time_range = pd.date_range(start=start_date, end=end_date)\n",
    "    \n",
    "    pred_list = list(zip(time_range[-4:].strftime('%Y-%m-%d'), y_pred[0,:]))\n",
    "    return pd.DataFrame (pred_list, columns = ['Date', 'Predict Infected'])"
   ]
  },
  {
   "cell_type": "code",
   "execution_count": 65,
   "id": "raising-special",
   "metadata": {},
   "outputs": [
    {
     "data": {
      "text/html": [
       "<div>\n",
       "<style scoped>\n",
       "    .dataframe tbody tr th:only-of-type {\n",
       "        vertical-align: middle;\n",
       "    }\n",
       "\n",
       "    .dataframe tbody tr th {\n",
       "        vertical-align: top;\n",
       "    }\n",
       "\n",
       "    .dataframe thead th {\n",
       "        text-align: right;\n",
       "    }\n",
       "</style>\n",
       "<table border=\"1\" class=\"dataframe\">\n",
       "  <thead>\n",
       "    <tr style=\"text-align: right;\">\n",
       "      <th></th>\n",
       "      <th>Date</th>\n",
       "      <th>Infected</th>\n",
       "    </tr>\n",
       "  </thead>\n",
       "  <tbody>\n",
       "    <tr>\n",
       "      <th>0</th>\n",
       "      <td>2020-01-16</td>\n",
       "      <td>1.0</td>\n",
       "    </tr>\n",
       "    <tr>\n",
       "      <th>1</th>\n",
       "      <td>2020-01-17</td>\n",
       "      <td>0.0</td>\n",
       "    </tr>\n",
       "    <tr>\n",
       "      <th>2</th>\n",
       "      <td>2020-01-18</td>\n",
       "      <td>0.0</td>\n",
       "    </tr>\n",
       "    <tr>\n",
       "      <th>3</th>\n",
       "      <td>2020-01-19</td>\n",
       "      <td>0.0</td>\n",
       "    </tr>\n",
       "    <tr>\n",
       "      <th>4</th>\n",
       "      <td>2020-01-20</td>\n",
       "      <td>0.0</td>\n",
       "    </tr>\n",
       "    <tr>\n",
       "      <th>...</th>\n",
       "      <td>...</td>\n",
       "      <td>...</td>\n",
       "    </tr>\n",
       "    <tr>\n",
       "      <th>635</th>\n",
       "      <td>2021-10-12</td>\n",
       "      <td>609.0</td>\n",
       "    </tr>\n",
       "    <tr>\n",
       "      <th>636</th>\n",
       "      <td>2021-10-13</td>\n",
       "      <td>723.0</td>\n",
       "    </tr>\n",
       "    <tr>\n",
       "      <th>637</th>\n",
       "      <td>2021-10-14</td>\n",
       "      <td>612.0</td>\n",
       "    </tr>\n",
       "    <tr>\n",
       "      <th>638</th>\n",
       "      <td>2021-10-15</td>\n",
       "      <td>522.0</td>\n",
       "    </tr>\n",
       "    <tr>\n",
       "      <th>639</th>\n",
       "      <td>2021-10-16</td>\n",
       "      <td>502.0</td>\n",
       "    </tr>\n",
       "  </tbody>\n",
       "</table>\n",
       "<p>640 rows × 2 columns</p>\n",
       "</div>"
      ],
      "text/plain": [
       "          Date  Infected\n",
       "0   2020-01-16       1.0\n",
       "1   2020-01-17       0.0\n",
       "2   2020-01-18       0.0\n",
       "3   2020-01-19       0.0\n",
       "4   2020-01-20       0.0\n",
       "..         ...       ...\n",
       "635 2021-10-12     609.0\n",
       "636 2021-10-13     723.0\n",
       "637 2021-10-14     612.0\n",
       "638 2021-10-15     522.0\n",
       "639 2021-10-16     502.0\n",
       "\n",
       "[640 rows x 2 columns]"
      ]
     },
     "execution_count": 65,
     "metadata": {},
     "output_type": "execute_result"
    }
   ],
   "source": [
    "df = read_from_source()\n",
    "df"
   ]
  },
  {
   "cell_type": "code",
   "execution_count": 90,
   "id": "subsequent-manchester",
   "metadata": {},
   "outputs": [
    {
     "name": "stdout",
     "output_type": "stream",
     "text": [
      "Wall time: 0 ns\n"
     ]
    }
   ],
   "source": [
    "%%time\n",
    "def pred_with_PI(df):\n",
    "    pred_arr = []\n",
    "    for model in [\"LSTM\",\"GRU\"]:\n",
    "        for model_idx in [1,2,3]:\n",
    "            #print(model,model_idx,pred_covid(model, df,model_idx))\n",
    "            pred_arr.append(np.array(pred_covid(model, df,model_idx)['Predict Infected'].values))\n",
    "    return np.array(pred_arr)"
   ]
  },
  {
   "cell_type": "code",
   "execution_count": 91,
   "id": "silver-agenda",
   "metadata": {},
   "outputs": [
    {
     "name": "stdout",
     "output_type": "stream",
     "text": [
      "LSTM loaded\n",
      "LSTM loaded\n",
      "LSTM loaded\n",
      "GRU loaded\n",
      "GRU loaded\n",
      "GRU loaded\n",
      "Wall time: 6.99 s\n"
     ]
    }
   ],
   "source": [
    "%%time\n",
    "test_arr = pred_with_PI(df)"
   ]
  },
  {
   "cell_type": "code",
   "execution_count": 92,
   "id": "aggressive-grass",
   "metadata": {},
   "outputs": [
    {
     "data": {
      "text/plain": [
       "(6, 4)"
      ]
     },
     "execution_count": 92,
     "metadata": {},
     "output_type": "execute_result"
    }
   ],
   "source": [
    "test_arr.shape"
   ]
  },
  {
   "cell_type": "code",
   "execution_count": 93,
   "id": "alternative-kennedy",
   "metadata": {},
   "outputs": [
    {
     "data": {
      "text/plain": [
       "array([[307.87169568, 244.80697653, 222.36809117, 168.19295591],\n",
       "       [485.88131791, 466.80172494, 539.96250069, 537.47568548],\n",
       "       [563.56860834, 552.06443363, 580.41375208, 567.85683072],\n",
       "       [457.44586319, 395.12967747, 217.86674193, 193.10976726],\n",
       "       [469.63291585, 510.33378851, 368.85374324,  96.08362788],\n",
       "       [468.77674878, 462.69172764, 360.24193642, 352.24505918]])"
      ]
     },
     "execution_count": 93,
     "metadata": {},
     "output_type": "execute_result"
    }
   ],
   "source": [
    "test_arr"
   ]
  },
  {
   "cell_type": "code",
   "execution_count": null,
   "id": "original-bottom",
   "metadata": {},
   "outputs": [],
   "source": []
  },
  {
   "cell_type": "code",
   "execution_count": null,
   "id": "third-closure",
   "metadata": {},
   "outputs": [],
   "source": []
  },
  {
   "cell_type": "code",
   "execution_count": null,
   "id": "proper-frank",
   "metadata": {},
   "outputs": [],
   "source": []
  },
  {
   "cell_type": "code",
   "execution_count": null,
   "id": "complex-parent",
   "metadata": {},
   "outputs": [],
   "source": []
  },
  {
   "cell_type": "code",
   "execution_count": null,
   "id": "crazy-vulnerability",
   "metadata": {},
   "outputs": [],
   "source": []
  },
  {
   "cell_type": "code",
   "execution_count": null,
   "id": "committed-ladder",
   "metadata": {},
   "outputs": [],
   "source": []
  },
  {
   "cell_type": "code",
   "execution_count": null,
   "id": "smaller-sewing",
   "metadata": {},
   "outputs": [],
   "source": []
  },
  {
   "cell_type": "markdown",
   "id": "outstanding-pottery",
   "metadata": {},
   "source": [
    "### Read data from source"
   ]
  },
  {
   "cell_type": "code",
   "execution_count": 8,
   "id": "weird-accountability",
   "metadata": {},
   "outputs": [
    {
     "name": "stdout",
     "output_type": "stream",
     "text": [
      "Date        datetime64[ns]\n",
      "Infected           float64\n",
      "dtype: object\n",
      "(640, 2)\n"
     ]
    },
    {
     "data": {
      "text/html": [
       "<div>\n",
       "<style scoped>\n",
       "    .dataframe tbody tr th:only-of-type {\n",
       "        vertical-align: middle;\n",
       "    }\n",
       "\n",
       "    .dataframe tbody tr th {\n",
       "        vertical-align: top;\n",
       "    }\n",
       "\n",
       "    .dataframe thead th {\n",
       "        text-align: right;\n",
       "    }\n",
       "</style>\n",
       "<table border=\"1\" class=\"dataframe\">\n",
       "  <thead>\n",
       "    <tr style=\"text-align: right;\">\n",
       "      <th></th>\n",
       "      <th>Date</th>\n",
       "      <th>Infected</th>\n",
       "    </tr>\n",
       "  </thead>\n",
       "  <tbody>\n",
       "    <tr>\n",
       "      <th>635</th>\n",
       "      <td>2021-10-12</td>\n",
       "      <td>609.0</td>\n",
       "    </tr>\n",
       "    <tr>\n",
       "      <th>636</th>\n",
       "      <td>2021-10-13</td>\n",
       "      <td>723.0</td>\n",
       "    </tr>\n",
       "    <tr>\n",
       "      <th>637</th>\n",
       "      <td>2021-10-14</td>\n",
       "      <td>612.0</td>\n",
       "    </tr>\n",
       "    <tr>\n",
       "      <th>638</th>\n",
       "      <td>2021-10-15</td>\n",
       "      <td>522.0</td>\n",
       "    </tr>\n",
       "    <tr>\n",
       "      <th>639</th>\n",
       "      <td>2021-10-16</td>\n",
       "      <td>502.0</td>\n",
       "    </tr>\n",
       "  </tbody>\n",
       "</table>\n",
       "</div>"
      ],
      "text/plain": [
       "          Date  Infected\n",
       "635 2021-10-12     609.0\n",
       "636 2021-10-13     723.0\n",
       "637 2021-10-14     612.0\n",
       "638 2021-10-15     522.0\n",
       "639 2021-10-16     502.0"
      ]
     },
     "execution_count": 8,
     "metadata": {},
     "output_type": "execute_result"
    }
   ],
   "source": [
    "df = pd.read_csv('https://toyokeizai.net/sp/visual/tko/covid19/csv/pcr_positive_daily.csv')\n",
    "df = df.rename(columns={'日付': 'Date', 'PCR 検査陽性者数(単日)': 'Infected'}) #renaming from Japanese to English\n",
    "df['Date'] = pd.to_datetime(df['Date'])\n",
    "print(df.dtypes)\n",
    "print(df.shape)\n",
    "df.tail()"
   ]
  },
  {
   "cell_type": "markdown",
   "id": "employed-watts",
   "metadata": {},
   "source": [
    "### Load GRU"
   ]
  },
  {
   "cell_type": "code",
   "execution_count": 4,
   "id": "cultural-stuart",
   "metadata": {},
   "outputs": [
    {
     "data": {
      "text/plain": [
       "<tensorflow.python.keras.engine.sequential.Sequential at 0x28d89092d90>"
      ]
     },
     "execution_count": 4,
     "metadata": {},
     "output_type": "execute_result"
    }
   ],
   "source": [
    "model_GRU = load_model('../GRU_infected_only_GRU_LSTM_Oct16.h5')\n",
    "model_GRU"
   ]
  },
  {
   "cell_type": "code",
   "execution_count": 5,
   "id": "engaging-engine",
   "metadata": {},
   "outputs": [],
   "source": [
    "n_steps_in = 14\n",
    "n_steps_out = 4"
   ]
  },
  {
   "cell_type": "code",
   "execution_count": 6,
   "id": "musical-timer",
   "metadata": {},
   "outputs": [],
   "source": [
    "# Feature Scaling\n",
    "sc = MinMaxScaler(feature_range = (0, 1))"
   ]
  },
  {
   "cell_type": "code",
   "execution_count": 10,
   "id": "binary-universal",
   "metadata": {},
   "outputs": [
    {
     "name": "stdout",
     "output_type": "stream",
     "text": [
      "(1, 14, 1)\n"
     ]
    }
   ],
   "source": [
    "x_input = df['Infected'][-n_steps_in:].values # last 14 day\n",
    "x_input = sc.fit_transform(x_input.reshape(len(x_input), 1))\n",
    "x_input = x_input.reshape((1, n_steps_in, 1))\n",
    "print(x_input.shape)"
   ]
  },
  {
   "cell_type": "code",
   "execution_count": 11,
   "id": "several-extra",
   "metadata": {},
   "outputs": [
    {
     "name": "stdout",
     "output_type": "stream",
     "text": [
      "[[443.1138  404.28793 357.68634 331.58417]]\n"
     ]
    }
   ],
   "source": [
    "y_pred_GRU = model_GRU.predict(x_input)\n",
    "y_pred_GRU = sc.inverse_transform(y_pred_GRU) #revert scaling\n",
    "print(y_pred_GRU)"
   ]
  },
  {
   "cell_type": "code",
   "execution_count": 12,
   "id": "brave-manufacturer",
   "metadata": {},
   "outputs": [
    {
     "name": "stdout",
     "output_type": "stream",
     "text": [
      "[ 959.  576.  971. 1117.  969.  824.  770.  546.  359.  609.  723.  612.\n",
      "  522.  502.]\n"
     ]
    }
   ],
   "source": [
    "x_input_raw = df['Infected'][-n_steps_in:].values\n",
    "print(x_input_raw.reshape(n_steps_in))"
   ]
  },
  {
   "cell_type": "markdown",
   "id": "ideal-bench",
   "metadata": {},
   "source": [
    "### Range: 18 days"
   ]
  },
  {
   "cell_type": "code",
   "execution_count": 13,
   "id": "unique-disease",
   "metadata": {},
   "outputs": [
    {
     "name": "stdout",
     "output_type": "stream",
     "text": [
      "2021-10-03 --- 2021-10-20\n"
     ]
    }
   ],
   "source": [
    "start_date = str(df['Date'].iloc[-14])[:10]\n",
    "\n",
    "end_date = df['Date'].iloc[-15] + pd.Timedelta(18, unit='D')                  \n",
    "end_date = str(end_date)[:10]\n",
    "\n",
    "print(start_date,'---', end_date)"
   ]
  },
  {
   "cell_type": "code",
   "execution_count": 14,
   "id": "modern-creation",
   "metadata": {},
   "outputs": [
    {
     "name": "stdout",
     "output_type": "stream",
     "text": [
      "(18,)\n"
     ]
    }
   ],
   "source": [
    "time_range = pd.date_range(start=start_date, end=end_date)\n",
    "print(time_range.shape)"
   ]
  },
  {
   "cell_type": "code",
   "execution_count": 15,
   "id": "fancy-buffalo",
   "metadata": {},
   "outputs": [
    {
     "data": {
      "text/plain": [
       "array([443.1138 , 404.28793, 357.68634, 331.58417], dtype=float32)"
      ]
     },
     "execution_count": 15,
     "metadata": {},
     "output_type": "execute_result"
    }
   ],
   "source": [
    "y_pred_GRU[0,:]"
   ]
  },
  {
   "cell_type": "code",
   "execution_count": 16,
   "id": "entire-agreement",
   "metadata": {},
   "outputs": [
    {
     "data": {
      "text/plain": [
       "[('2021-10-17', 443.1138),\n",
       " ('2021-10-18', 404.28793),\n",
       " ('2021-10-19', 357.68634),\n",
       " ('2021-10-20', 331.58417)]"
      ]
     },
     "execution_count": 16,
     "metadata": {},
     "output_type": "execute_result"
    }
   ],
   "source": [
    "pred_list = list(zip(time_range[-4:].strftime('%Y-%m-%d'), y_pred_GRU[0,:]))\n",
    "pred_list"
   ]
  },
  {
   "cell_type": "code",
   "execution_count": 17,
   "id": "federal-johns",
   "metadata": {},
   "outputs": [
    {
     "data": {
      "text/html": [
       "<div>\n",
       "<style scoped>\n",
       "    .dataframe tbody tr th:only-of-type {\n",
       "        vertical-align: middle;\n",
       "    }\n",
       "\n",
       "    .dataframe tbody tr th {\n",
       "        vertical-align: top;\n",
       "    }\n",
       "\n",
       "    .dataframe thead th {\n",
       "        text-align: right;\n",
       "    }\n",
       "</style>\n",
       "<table border=\"1\" class=\"dataframe\">\n",
       "  <thead>\n",
       "    <tr style=\"text-align: right;\">\n",
       "      <th></th>\n",
       "      <th>Date</th>\n",
       "      <th>Predict Infected</th>\n",
       "    </tr>\n",
       "  </thead>\n",
       "  <tbody>\n",
       "    <tr>\n",
       "      <th>0</th>\n",
       "      <td>2021-10-17</td>\n",
       "      <td>443.113800</td>\n",
       "    </tr>\n",
       "    <tr>\n",
       "      <th>1</th>\n",
       "      <td>2021-10-18</td>\n",
       "      <td>404.287933</td>\n",
       "    </tr>\n",
       "    <tr>\n",
       "      <th>2</th>\n",
       "      <td>2021-10-19</td>\n",
       "      <td>357.686340</td>\n",
       "    </tr>\n",
       "    <tr>\n",
       "      <th>3</th>\n",
       "      <td>2021-10-20</td>\n",
       "      <td>331.584167</td>\n",
       "    </tr>\n",
       "  </tbody>\n",
       "</table>\n",
       "</div>"
      ],
      "text/plain": [
       "         Date  Predict Infected\n",
       "0  2021-10-17        443.113800\n",
       "1  2021-10-18        404.287933\n",
       "2  2021-10-19        357.686340\n",
       "3  2021-10-20        331.584167"
      ]
     },
     "execution_count": 17,
     "metadata": {},
     "output_type": "execute_result"
    }
   ],
   "source": [
    "pd.DataFrame (pred_list, columns = ['Date', 'Predict Infected'])"
   ]
  },
  {
   "cell_type": "code",
   "execution_count": null,
   "id": "voluntary-blade",
   "metadata": {},
   "outputs": [],
   "source": []
  },
  {
   "cell_type": "code",
   "execution_count": null,
   "id": "imported-capability",
   "metadata": {},
   "outputs": [],
   "source": []
  },
  {
   "cell_type": "code",
   "execution_count": 18,
   "id": "tropical-honolulu",
   "metadata": {},
   "outputs": [
    {
     "data": {
      "image/png": "[encoded data removed]",
      "text/plain": [
       "<Figure size 1600x480 with 1 Axes>"
      ]
     },
     "metadata": {
      "needs_background": "light"
     },
     "output_type": "display_data"
    }
   ],
   "source": [
    "from matplotlib.pyplot import figure\n",
    "figure(figsize=(20, 6), dpi=80)\n",
    "\n",
    "plt.plot(time_range[:14],x_input_raw.reshape(n_steps_in), label='Observed')\n",
    "plt.plot(time_range[14:], y_pred_GRU[0,:], label='GRU_predicted')\n",
    "plt.title('GRU out-of-sample-prediction')\n",
    "plt.xticks(time_range,rotation=45)\n",
    "plt.legend()\n",
    "plt.show()"
   ]
  },
  {
   "cell_type": "code",
   "execution_count": null,
   "id": "isolated-questionnaire",
   "metadata": {},
   "outputs": [],
   "source": []
  },
  {
   "cell_type": "code",
   "execution_count": null,
   "id": "cutting-extreme",
   "metadata": {},
   "outputs": [],
   "source": []
  },
  {
   "cell_type": "code",
   "execution_count": null,
   "id": "personalized-honey",
   "metadata": {},
   "outputs": [],
   "source": []
  }
 ],
 "metadata": {
  "kernelspec": {
   "display_name": "Python 3",
   "language": "python",
   "name": "python3"
  },
  "language_info": {
   "codemirror_mode": {
    "name": "ipython",
    "version": 3
   },
   "file_extension": ".py",
   "mimetype": "text/x-python",
   "name": "python",
   "nbconvert_exporter": "python",
   "pygments_lexer": "ipython3",
   "version": "3.8.5"
  }
 },
 "nbformat": 4,
 "nbformat_minor": 5
}
