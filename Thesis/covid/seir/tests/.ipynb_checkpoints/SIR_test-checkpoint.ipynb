{
 "cells": [
  {
   "cell_type": "code",
   "execution_count": 1,
   "id": "located-jesus",
   "metadata": {},
   "outputs": [],
   "source": [
    "import numpy as np\n",
    "import pandas as pd\n",
    "import matplotlib.pyplot as plt\n",
    "from scipy.integrate import odeint, solve_ivp\n",
    "from scipy.optimize import minimize\n"
   ]
  },
  {
   "cell_type": "raw",
   "id": "equipped-bible",
   "metadata": {},
   "source": [
    "(“beta”), the expected amount of people an infected person infects per day."
   ]
  },
  {
   "cell_type": "raw",
   "id": "median-macedonia",
   "metadata": {},
   "source": [
    "the basic reproduction number R₀, the total number of people an infected person infects. \n",
    "We just used an intuitive formula: R₀ = β ⋅ D."
   ]
  },
  {
   "cell_type": "raw",
   "id": "musical-wedding",
   "metadata": {},
   "source": [
    "γ as the rate of recovery, or the proportion of infected recovering per day."
   ]
  },
  {
   "cell_type": "raw",
   "id": "inclusive-turning",
   "metadata": {},
   "source": [
    "N: total population\n",
    "S(t): number of people susceptible on day t\n",
    "I(t): number of people infected on day t\n",
    "R(t): number of people recovered on day t\n",
    "β: expected amount of people an infected person infects per day\n",
    "D: number of days an infected person has and can spread the disease\n",
    "γ: the proportion of infected recovering per day (γ = 1/D)\n",
    "R₀: the total number of people an infected person infects (R₀ = β / γ)"
   ]
  },
  {
   "cell_type": "code",
   "execution_count": 2,
   "id": "linear-concord",
   "metadata": {},
   "outputs": [],
   "source": [
    "def deriv(y, t, N, beta, gamma):\n",
    "    S,I,R = y\n",
    "    dSdt = -beta * S * I / N\n",
    "    dIdt = (beta * I * S / N) - gamma*I\n",
    "    dRdt = gamma*I\n",
    "    return dSdt, dIdt, dRdt"
   ]
  },
  {
   "cell_type": "markdown",
   "id": "alpine-alliance",
   "metadata": {},
   "source": [
    "## 2021-06-08"
   ]
  },
  {
   "cell_type": "code",
   "execution_count": 44,
   "id": "divine-joyce",
   "metadata": {},
   "outputs": [
    {
     "data": {
      "text/html": [
       "<div>\n",
       "<style scoped>\n",
       "    .dataframe tbody tr th:only-of-type {\n",
       "        vertical-align: middle;\n",
       "    }\n",
       "\n",
       "    .dataframe tbody tr th {\n",
       "        vertical-align: top;\n",
       "    }\n",
       "\n",
       "    .dataframe thead th {\n",
       "        text-align: right;\n",
       "    }\n",
       "</style>\n",
       "<table border=\"1\" class=\"dataframe\">\n",
       "  <thead>\n",
       "    <tr style=\"text-align: right;\">\n",
       "      <th></th>\n",
       "      <th>Date</th>\n",
       "      <th>Cummulative_Deaths</th>\n",
       "      <th>Infected</th>\n",
       "      <th>Cummulative_Recovered</th>\n",
       "    </tr>\n",
       "  </thead>\n",
       "  <tbody>\n",
       "    <tr>\n",
       "      <th>482</th>\n",
       "      <td>2021-06-10</td>\n",
       "      <td>13903.0</td>\n",
       "      <td>2044.0</td>\n",
       "      <td>718300.0</td>\n",
       "    </tr>\n",
       "    <tr>\n",
       "      <th>483</th>\n",
       "      <td>2021-06-11</td>\n",
       "      <td>13972.0</td>\n",
       "      <td>1934.0</td>\n",
       "      <td>721837.0</td>\n",
       "    </tr>\n",
       "    <tr>\n",
       "      <th>484</th>\n",
       "      <td>2021-06-12</td>\n",
       "      <td>14028.0</td>\n",
       "      <td>1941.0</td>\n",
       "      <td>724762.0</td>\n",
       "    </tr>\n",
       "    <tr>\n",
       "      <th>485</th>\n",
       "      <td>2021-06-13</td>\n",
       "      <td>14066.0</td>\n",
       "      <td>1384.0</td>\n",
       "      <td>727478.0</td>\n",
       "    </tr>\n",
       "    <tr>\n",
       "      <th>486</th>\n",
       "      <td>2021-06-14</td>\n",
       "      <td>14121.0</td>\n",
       "      <td>930.0</td>\n",
       "      <td>730343.0</td>\n",
       "    </tr>\n",
       "    <tr>\n",
       "      <th>...</th>\n",
       "      <td>...</td>\n",
       "      <td>...</td>\n",
       "      <td>...</td>\n",
       "      <td>...</td>\n",
       "    </tr>\n",
       "    <tr>\n",
       "      <th>550</th>\n",
       "      <td>2021-08-17</td>\n",
       "      <td>15460.0</td>\n",
       "      <td>19948.0</td>\n",
       "      <td>993758.0</td>\n",
       "    </tr>\n",
       "    <tr>\n",
       "      <th>551</th>\n",
       "      <td>2021-08-18</td>\n",
       "      <td>15494.0</td>\n",
       "      <td>23909.0</td>\n",
       "      <td>1008309.0</td>\n",
       "    </tr>\n",
       "    <tr>\n",
       "      <th>552</th>\n",
       "      <td>2021-08-19</td>\n",
       "      <td>15527.0</td>\n",
       "      <td>25144.0</td>\n",
       "      <td>1020747.0</td>\n",
       "    </tr>\n",
       "    <tr>\n",
       "      <th>553</th>\n",
       "      <td>2021-08-20</td>\n",
       "      <td>15556.0</td>\n",
       "      <td>25858.0</td>\n",
       "      <td>1033914.0</td>\n",
       "    </tr>\n",
       "    <tr>\n",
       "      <th>554</th>\n",
       "      <td>2021-08-21</td>\n",
       "      <td>15589.0</td>\n",
       "      <td>25461.0</td>\n",
       "      <td>1048617.0</td>\n",
       "    </tr>\n",
       "  </tbody>\n",
       "</table>\n",
       "<p>73 rows × 4 columns</p>\n",
       "</div>"
      ],
      "text/plain": [
       "           Date  Cummulative_Deaths  Infected  Cummulative_Recovered\n",
       "482  2021-06-10             13903.0    2044.0               718300.0\n",
       "483  2021-06-11             13972.0    1934.0               721837.0\n",
       "484  2021-06-12             14028.0    1941.0               724762.0\n",
       "485  2021-06-13             14066.0    1384.0               727478.0\n",
       "486  2021-06-14             14121.0     930.0               730343.0\n",
       "..          ...                 ...       ...                    ...\n",
       "550  2021-08-17             15460.0   19948.0               993758.0\n",
       "551  2021-08-18             15494.0   23909.0              1008309.0\n",
       "552  2021-08-19             15527.0   25144.0              1020747.0\n",
       "553  2021-08-20             15556.0   25858.0              1033914.0\n",
       "554  2021-08-21             15589.0   25461.0              1048617.0\n",
       "\n",
       "[73 rows x 4 columns]"
      ]
     },
     "metadata": {},
     "output_type": "display_data"
    }
   ],
   "source": [
    "df_all = pd.read_csv('../cov_datasets/all.csv')\n",
    "df['Cummulative_Infected'] = np.cumsum(df['Infected'])\n",
    "display(df_all[482:])"
   ]
  },
  {
   "cell_type": "code",
   "execution_count": 42,
   "id": "protected-discrimination",
   "metadata": {},
   "outputs": [
    {
     "data": {
      "text/plain": [
       "0            5.0\n",
       "1            9.0\n",
       "2           10.0\n",
       "3           16.0\n",
       "4           24.0\n",
       "         ...    \n",
       "550    1179548.0\n",
       "551    1203457.0\n",
       "552    1228601.0\n",
       "553    1254459.0\n",
       "554    1279920.0\n",
       "Name: Infected, Length: 555, dtype: float64"
      ]
     },
     "execution_count": 42,
     "metadata": {},
     "output_type": "execute_result"
    }
   ],
   "source": [
    "np.cumsum(df['Infected'])"
   ]
  },
  {
   "cell_type": "code",
   "execution_count": 30,
   "id": "proud-payroll",
   "metadata": {},
   "outputs": [],
   "source": [
    "N = 126000000\n",
    "beta = 1.28  # infected person infects 1 other person per day\n",
    "D = 4.0 # infections lasts 7 days\n",
    "gamma = 1.0 / D\n",
    "\n",
    "S0, I0, R0 = N-I0-R0, 13739, 710871  # initial conditions: one infected, rest susceptible"
   ]
  },
  {
   "cell_type": "code",
   "execution_count": 31,
   "id": "false-wales",
   "metadata": {},
   "outputs": [],
   "source": [
    "t = np.linspace(0, 49, 50) # Grid of time points (in days)\n",
    "y0 = S0, I0, R0 # Initial conditions vector\n",
    "\n",
    "# Integrate the SIR equations over the time grid, t.\n",
    "ret = odeint(deriv, y0, t, args=(N, beta, gamma))\n",
    "S, I, R = ret.T"
   ]
  },
  {
   "cell_type": "code",
   "execution_count": 41,
   "id": "sound-corporation",
   "metadata": {},
   "outputs": [
    {
     "data": {
      "text/plain": [
       "<matplotlib.legend.Legend at 0x2ac273a5e20>"
      ]
     },
     "execution_count": 41,
     "metadata": {},
     "output_type": "execute_result"
    },
    {
     "data": {
      "image/png": "[encoded data removed]",
      "text/plain": [
       "<Figure size 960x480 with 1 Axes>"
      ]
     },
     "metadata": {
      "needs_background": "light"
     },
     "output_type": "display_data"
    }
   ],
   "source": [
    "from matplotlib.pyplot import figure\n",
    "figure(figsize=(12, 6), dpi=80)\n",
    "plt.plot(S, label='Pred_Susceptible')\n",
    "plt.plot(I, label='Pred_Infected')\n",
    "plt.plot(R, label='Pred_Recovered')\n",
    "#plt.plot(df_all['Date'][482:532],df_all['Infected'][482:532],label='Infected')\n",
    "\n",
    "\n",
    "plt.legend()"
   ]
  },
  {
   "cell_type": "code",
   "execution_count": null,
   "id": "sustained-segment",
   "metadata": {},
   "outputs": [],
   "source": [
    "from matplotlib.pyplot import figure\n",
    "figure(figsize=(12, 6), dpi=80)\n",
    "plt.plot(df_all['Date'],df_all['Infected'],label='Infected')\n",
    "plt.plot(df_all['Date'],df_all['Cummulative_Deaths'],label='Cummulative_Deaths')\n",
    "plt.plot(df_all['Date'],df_all['Cummulative_Recovered'],label='Cummulative_Recovered')\n",
    "plt.legend()"
   ]
  }
 ],
 "metadata": {
  "kernelspec": {
   "display_name": "Python 3",
   "language": "python",
   "name": "python3"
  },
  "language_info": {
   "codemirror_mode": {
    "name": "ipython",
    "version": 3
   },
   "file_extension": ".py",
   "mimetype": "text/x-python",
   "name": "python",
   "nbconvert_exporter": "python",
   "pygments_lexer": "ipython3",
   "version": "3.8.5"
  }
 },
 "nbformat": 4,
 "nbformat_minor": 5
}
