{
 "cells": [
  {
   "cell_type": "markdown",
   "metadata": {},
   "source": [
    "### Sample for DM end exam 1 problem 5"
   ]
  },
  {
   "cell_type": "markdown",
   "metadata": {},
   "source": [
    "#### Import libraries"
   ]
  },
  {
   "cell_type": "code",
   "execution_count": null,
   "metadata": {},
   "outputs": [],
   "source": [
    "import numpy as np\n",
    "import pandas as pd"
   ]
  },
  {
   "cell_type": "markdown",
   "metadata": {},
   "source": [
    "#### Parameters  "
   ]
  },
  {
   "cell_type": "code",
   "execution_count": null,
   "metadata": {},
   "outputs": [],
   "source": [
    "min_common_items = 3"
   ]
  },
  {
   "cell_type": "markdown",
   "metadata": {},
   "source": [
    "### functions"
   ]
  },
  {
   "cell_type": "code",
   "execution_count": null,
   "metadata": {},
   "outputs": [],
   "source": [
    "def predict_scores(df_sim, ser_target):\n",
    "    ret = {}\n",
    "    for item1 in df_sim.index:  # not yet rated by the target user\n",
    "        v1 = df_sim.loc[item1]\n",
    "\n",
    "        if v1.notnull().sum() < min_common_items: continue\n",
    "        v11 = v1[ v1.notnull() ]\n",
    "        t11 = ser_target[ v1.notnull() ]\n",
    "        pred1 = (v11 * t11).sum() / np.abs(v11).sum()\n",
    "\n",
    "        ret[item1] = pred1\n",
    "    \n",
    "    ser_ret = pd.Series(ret)\n",
    "    \n",
    "    return ser_ret.sort_values(ascending=False)"
   ]
  },
  {
   "cell_type": "markdown",
   "metadata": {},
   "source": [
    "Function for user-based collaborative filtering.  \n",
    "\n",
    "arguments: dictionary of scores for the target user  \n",
    "and the number of items to recommend.  \n",
    "\n",
    "ex)\n",
    "get_recomm_by_user_sim({'maguro':1, 'ika':1, 'uni':3,\n",
    "                        'awabi':4, 'hirame':4, 'aoyagi':4})  \n",
    "-> return list such as [('akagai', 2.9835603009918303), ('mirugai', 2.945676429588114), ...]"
   ]
  },
  {
   "cell_type": "code",
   "execution_count": null,
   "metadata": {},
   "outputs": [],
   "source": [
    "def get_recomm_by_item_sim(df, target_dic):\n",
    "    ser_target = pd.Series(target_dic)\n",
    "    \n",
    "    df_scores = df[ ser_target.index ]\n",
    "    \n",
    "    df_scores = df_scores.drop(index=ser_target.index)\n",
    "    \n",
    "    recomm = predict_scores(df_scores, ser_target)\n",
    "    \n",
    "    return recomm"
   ]
  }
 ],
 "metadata": {
  "kernelspec": {
   "display_name": "Python 3",
   "language": "python",
   "name": "python3"
  },
  "language_info": {
   "codemirror_mode": {
    "name": "ipython",
    "version": 3
   },
   "file_extension": ".py",
   "mimetype": "text/x-python",
   "name": "python",
   "nbconvert_exporter": "python",
   "pygments_lexer": "ipython3",
   "version": "3.6.10"
  }
 },
 "nbformat": 4,
 "nbformat_minor": 4
}
