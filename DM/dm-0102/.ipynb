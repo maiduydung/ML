{
 "cells": [
  {
   "cell_type": "markdown",
   "metadata": {},
   "source": [
    "## Create simple plot with Pandas  "
   ]
  },
  {
   "cell_type": "markdown",
   "metadata": {},
   "source": [
    "### Import libraries"
   ]
  },
  {
   "cell_type": "code",
   "execution_count": 1,
   "metadata": {},
   "outputs": [],
   "source": [
    "import pandas as pd"
   ]
  },
  {
   "cell_type": "markdown",
   "metadata": {},
   "source": [
    "### Parameters"
   ]
  },
  {
   "cell_type": "code",
   "execution_count": 7,
   "metadata": {},
   "outputs": [],
   "source": [
    "csv_in1 = '../../AI/ai-0102/1393_2017-utf8.csv'"
   ]
  },
  {
   "cell_type": "markdown",
   "metadata": {},
   "source": [
    "### Read CSV file"
   ]
  },
  {
   "cell_type": "code",
   "execution_count": 8,
   "metadata": {},
   "outputs": [
    {
     "name": "stdout",
     "output_type": "stream",
     "text": [
      "(139, 7)\n",
      "<class 'pandas.core.frame.DataFrame'>\n",
      "RangeIndex: 139 entries, 0 to 138\n",
      "Data columns (total 7 columns):\n",
      " #   Column    Non-Null Count  Dtype         \n",
      "---  ------    --------------  -----         \n",
      " 0   Date      139 non-null    datetime64[ns]\n",
      " 1   Open      139 non-null    int64         \n",
      " 2   High      139 non-null    int64         \n",
      " 3   Low       139 non-null    int64         \n",
      " 4   Close     139 non-null    int64         \n",
      " 5   Vol       139 non-null    int64         \n",
      " 6   AdjClose  139 non-null    int64         \n",
      "dtypes: datetime64[ns](1), int64(6)\n",
      "memory usage: 7.7 KB\n",
      "None\n"
     ]
    },
    {
     "data": {
      "text/html": [
       "<div>\n",
       "<style scoped>\n",
       "    .dataframe tbody tr th:only-of-type {\n",
       "        vertical-align: middle;\n",
       "    }\n",
       "\n",
       "    .dataframe tbody tr th {\n",
       "        vertical-align: top;\n",
       "    }\n",
       "\n",
       "    .dataframe thead th {\n",
       "        text-align: right;\n",
       "    }\n",
       "</style>\n",
       "<table border=\"1\" class=\"dataframe\">\n",
       "  <thead>\n",
       "    <tr style=\"text-align: right;\">\n",
       "      <th></th>\n",
       "      <th>Date</th>\n",
       "      <th>Open</th>\n",
       "      <th>High</th>\n",
       "      <th>Low</th>\n",
       "      <th>Close</th>\n",
       "      <th>Vol</th>\n",
       "      <th>AdjClose</th>\n",
       "    </tr>\n",
       "  </thead>\n",
       "  <tbody>\n",
       "    <tr>\n",
       "      <th>0</th>\n",
       "      <td>2017-01-04</td>\n",
       "      <td>25500</td>\n",
       "      <td>25520</td>\n",
       "      <td>25410</td>\n",
       "      <td>25520</td>\n",
       "      <td>21</td>\n",
       "      <td>25520</td>\n",
       "    </tr>\n",
       "    <tr>\n",
       "      <th>1</th>\n",
       "      <td>2017-01-05</td>\n",
       "      <td>25520</td>\n",
       "      <td>25520</td>\n",
       "      <td>25200</td>\n",
       "      <td>25220</td>\n",
       "      <td>71</td>\n",
       "      <td>25220</td>\n",
       "    </tr>\n",
       "    <tr>\n",
       "      <th>2</th>\n",
       "      <td>2017-01-06</td>\n",
       "      <td>25150</td>\n",
       "      <td>25170</td>\n",
       "      <td>25150</td>\n",
       "      <td>25170</td>\n",
       "      <td>3</td>\n",
       "      <td>25170</td>\n",
       "    </tr>\n",
       "    <tr>\n",
       "      <th>3</th>\n",
       "      <td>2017-01-10</td>\n",
       "      <td>25170</td>\n",
       "      <td>25170</td>\n",
       "      <td>25010</td>\n",
       "      <td>25010</td>\n",
       "      <td>57</td>\n",
       "      <td>25010</td>\n",
       "    </tr>\n",
       "    <tr>\n",
       "      <th>4</th>\n",
       "      <td>2017-01-11</td>\n",
       "      <td>25040</td>\n",
       "      <td>25040</td>\n",
       "      <td>25040</td>\n",
       "      <td>25040</td>\n",
       "      <td>1</td>\n",
       "      <td>25040</td>\n",
       "    </tr>\n",
       "  </tbody>\n",
       "</table>\n",
       "</div>"
      ],
      "text/plain": [
       "        Date   Open   High    Low  Close  Vol  AdjClose\n",
       "0 2017-01-04  25500  25520  25410  25520   21     25520\n",
       "1 2017-01-05  25520  25520  25200  25220   71     25220\n",
       "2 2017-01-06  25150  25170  25150  25170    3     25170\n",
       "3 2017-01-10  25170  25170  25010  25010   57     25010\n",
       "4 2017-01-11  25040  25040  25040  25040    1     25040"
      ]
     },
     "metadata": {},
     "output_type": "display_data"
    }
   ],
   "source": [
    "df1 = pd.read_csv(csv_in1, delimiter=',', skiprows=9, header=0)\n",
    "df1['Date']=pd.to_datetime(df1['Date'], format=\"%Y-%m-%d\")\n",
    "print(df1.shape)\n",
    "print(df1.info())\n",
    "display(df1.head())"
   ]
  }
 ],
 "metadata": {
  "kernelspec": {
   "display_name": "Python 3",
   "language": "python",
   "name": "python3"
  },
  "language_info": {
   "codemirror_mode": {
    "name": "ipython",
    "version": 3
   },
   "file_extension": ".py",
   "mimetype": "text/x-python",
   "name": "python",
   "nbconvert_exporter": "python",
   "pygments_lexer": "ipython3",
   "version": "3.8.5"
  }
 },
 "nbformat": 4,
 "nbformat_minor": 4
}
