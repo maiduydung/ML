{
 "cells": [
  {
   "cell_type": "code",
   "execution_count": 335,
   "id": "impressive-pressing",
   "metadata": {},
   "outputs": [],
   "source": [
    "import numpy as np\n",
    "import pandas as pd\n",
    "import matplotlib.pyplot as plt\n",
    "from keras.models import Sequential\n",
    "from keras.layers import LSTM, Dense, Dropout\n",
    "from sklearn.preprocessing import MinMaxScaler\n",
    "from sklearn.metrics import mean_squared_error\n",
    "from keras.preprocessing.sequence import TimeseriesGenerator\n",
    "import tensorflow as tf"
   ]
  },
  {
   "cell_type": "markdown",
   "id": "environmental-starter",
   "metadata": {},
   "source": [
    "## Infected and News"
   ]
  },
  {
   "cell_type": "code",
   "execution_count": 336,
   "id": "controversial-fountain",
   "metadata": {},
   "outputs": [
    {
     "name": "stdout",
     "output_type": "stream",
     "text": [
      "(1300, 3)\n",
      "Date        datetime64[ns]\n",
      "Infected           float64\n",
      "Score              float64\n",
      "dtype: object\n"
     ]
    },
    {
     "data": {
      "text/html": [
       "<div>\n",
       "<style scoped>\n",
       "    .dataframe tbody tr th:only-of-type {\n",
       "        vertical-align: middle;\n",
       "    }\n",
       "\n",
       "    .dataframe tbody tr th {\n",
       "        vertical-align: top;\n",
       "    }\n",
       "\n",
       "    .dataframe thead th {\n",
       "        text-align: right;\n",
       "    }\n",
       "</style>\n",
       "<table border=\"1\" class=\"dataframe\">\n",
       "  <thead>\n",
       "    <tr style=\"text-align: right;\">\n",
       "      <th></th>\n",
       "      <th>Date</th>\n",
       "      <th>Infected</th>\n",
       "      <th>Score</th>\n",
       "    </tr>\n",
       "  </thead>\n",
       "  <tbody>\n",
       "    <tr>\n",
       "      <th>0</th>\n",
       "      <td>2020-08-31</td>\n",
       "      <td>430.0</td>\n",
       "      <td>-3.0</td>\n",
       "    </tr>\n",
       "    <tr>\n",
       "      <th>1</th>\n",
       "      <td>2020-08-31</td>\n",
       "      <td>430.0</td>\n",
       "      <td>-3.0</td>\n",
       "    </tr>\n",
       "    <tr>\n",
       "      <th>2</th>\n",
       "      <td>2020-08-31</td>\n",
       "      <td>430.0</td>\n",
       "      <td>-1.0</td>\n",
       "    </tr>\n",
       "    <tr>\n",
       "      <th>3</th>\n",
       "      <td>2020-08-31</td>\n",
       "      <td>430.0</td>\n",
       "      <td>1.0</td>\n",
       "    </tr>\n",
       "    <tr>\n",
       "      <th>4</th>\n",
       "      <td>2020-09-01</td>\n",
       "      <td>624.0</td>\n",
       "      <td>-1.0</td>\n",
       "    </tr>\n",
       "  </tbody>\n",
       "</table>\n",
       "</div>"
      ],
      "text/plain": [
       "        Date  Infected  Score\n",
       "0 2020-08-31     430.0   -3.0\n",
       "1 2020-08-31     430.0   -3.0\n",
       "2 2020-08-31     430.0   -1.0\n",
       "3 2020-08-31     430.0    1.0\n",
       "4 2020-09-01     624.0   -1.0"
      ]
     },
     "execution_count": 336,
     "metadata": {},
     "output_type": "execute_result"
    }
   ],
   "source": [
    "df = pd.read_csv('df_infected_news_decimal.csv')\n",
    "df.rename(columns={\"Unnamed: 0\": \"Date\",\"binary_score (1:good   0: bad)\": \"Score\"}, inplace=True)\n",
    "df['Date'] = pd.to_datetime(df['Date'])\n",
    "print(df.shape)\n",
    "print(df.dtypes)\n",
    "df.head()"
   ]
  },
  {
   "cell_type": "code",
   "execution_count": 337,
   "id": "national-excuse",
   "metadata": {},
   "outputs": [
    {
     "data": {
      "text/plain": [
       "[<matplotlib.lines.Line2D at 0x22a3c4479a0>]"
      ]
     },
     "execution_count": 337,
     "metadata": {},
     "output_type": "execute_result"
    },
    {
     "data": {
      "image/png": "[encoded data removed]",
      "text/plain": [
       "<Figure size 432x288 with 1 Axes>"
      ]
     },
     "metadata": {
      "needs_background": "light"
     },
     "output_type": "display_data"
    }
   ],
   "source": [
    "plt.plot(df['Infected'])"
   ]
  },
  {
   "cell_type": "code",
   "execution_count": 339,
   "id": "hairy-insurance",
   "metadata": {},
   "outputs": [
    {
     "data": {
      "text/plain": [
       "(array([208., 216., 228., 200.,   0., 220.,  56.,  56.,  57.,  59.]),\n",
       " array([-4. , -3.2, -2.4, -1.6, -0.8,  0. ,  0.8,  1.6,  2.4,  3.2,  4. ]),\n",
       " <BarContainer object of 10 artists>)"
      ]
     },
     "execution_count": 339,
     "metadata": {},
     "output_type": "execute_result"
    },
    {
     "data": {
      "image/png": "[encoded data removed]",
      "text/plain": [
       "<Figure size 432x288 with 1 Axes>"
      ]
     },
     "metadata": {
      "needs_background": "light"
     },
     "output_type": "display_data"
    }
   ],
   "source": [
    "plt.hist(df['Score'])"
   ]
  },
  {
   "cell_type": "code",
   "execution_count": 340,
   "id": "accompanied-domestic",
   "metadata": {},
   "outputs": [
    {
     "data": {
      "text/html": [
       "<div>\n",
       "<style scoped>\n",
       "    .dataframe tbody tr th:only-of-type {\n",
       "        vertical-align: middle;\n",
       "    }\n",
       "\n",
       "    .dataframe tbody tr th {\n",
       "        vertical-align: top;\n",
       "    }\n",
       "\n",
       "    .dataframe thead th {\n",
       "        text-align: right;\n",
       "    }\n",
       "</style>\n",
       "<table border=\"1\" class=\"dataframe\">\n",
       "  <thead>\n",
       "    <tr style=\"text-align: right;\">\n",
       "      <th></th>\n",
       "      <th>Date</th>\n",
       "      <th>Infected</th>\n",
       "      <th>Score</th>\n",
       "      <th>infected_scaled</th>\n",
       "      <th>score_scaled</th>\n",
       "    </tr>\n",
       "  </thead>\n",
       "  <tbody>\n",
       "    <tr>\n",
       "      <th>0</th>\n",
       "      <td>2020-08-31</td>\n",
       "      <td>430.0</td>\n",
       "      <td>-3.0</td>\n",
       "      <td>0.008346</td>\n",
       "      <td>0.125</td>\n",
       "    </tr>\n",
       "    <tr>\n",
       "      <th>1</th>\n",
       "      <td>2020-08-31</td>\n",
       "      <td>430.0</td>\n",
       "      <td>-3.0</td>\n",
       "      <td>0.008346</td>\n",
       "      <td>0.125</td>\n",
       "    </tr>\n",
       "    <tr>\n",
       "      <th>2</th>\n",
       "      <td>2020-08-31</td>\n",
       "      <td>430.0</td>\n",
       "      <td>-1.0</td>\n",
       "      <td>0.008346</td>\n",
       "      <td>0.375</td>\n",
       "    </tr>\n",
       "    <tr>\n",
       "      <th>3</th>\n",
       "      <td>2020-08-31</td>\n",
       "      <td>430.0</td>\n",
       "      <td>1.0</td>\n",
       "      <td>0.008346</td>\n",
       "      <td>0.625</td>\n",
       "    </tr>\n",
       "    <tr>\n",
       "      <th>4</th>\n",
       "      <td>2020-09-01</td>\n",
       "      <td>624.0</td>\n",
       "      <td>-1.0</td>\n",
       "      <td>0.015911</td>\n",
       "      <td>0.375</td>\n",
       "    </tr>\n",
       "  </tbody>\n",
       "</table>\n",
       "</div>"
      ],
      "text/plain": [
       "        Date  Infected  Score  infected_scaled  score_scaled\n",
       "0 2020-08-31     430.0   -3.0         0.008346         0.125\n",
       "1 2020-08-31     430.0   -3.0         0.008346         0.125\n",
       "2 2020-08-31     430.0   -1.0         0.008346         0.375\n",
       "3 2020-08-31     430.0    1.0         0.008346         0.625\n",
       "4 2020-09-01     624.0   -1.0         0.015911         0.375"
      ]
     },
     "execution_count": 340,
     "metadata": {},
     "output_type": "execute_result"
    }
   ],
   "source": [
    "# Feature Scaling\n",
    "sc = MinMaxScaler(feature_range = (0, 1))\n",
    "infected_scaled = sc.fit_transform(df['Infected'].values.astype(float).reshape(len(df), 1))\n",
    "score_scaled = sc.fit_transform(df['Score'].values.astype(float).reshape(len(df), 1))\n",
    "\n",
    "df['infected_scaled'] = infected_scaled[:,0]\n",
    "df['score_scaled'] = score_scaled[:,0]\n",
    "\n",
    "df.head()"
   ]
  },
  {
   "cell_type": "code",
   "execution_count": 341,
   "id": "graduate-clause",
   "metadata": {},
   "outputs": [
    {
     "data": {
      "text/html": [
       "<div>\n",
       "<style scoped>\n",
       "    .dataframe tbody tr th:only-of-type {\n",
       "        vertical-align: middle;\n",
       "    }\n",
       "\n",
       "    .dataframe tbody tr th {\n",
       "        vertical-align: top;\n",
       "    }\n",
       "\n",
       "    .dataframe thead th {\n",
       "        text-align: right;\n",
       "    }\n",
       "</style>\n",
       "<table border=\"1\" class=\"dataframe\">\n",
       "  <thead>\n",
       "    <tr style=\"text-align: right;\">\n",
       "      <th></th>\n",
       "      <th>Date</th>\n",
       "      <th>Infected</th>\n",
       "      <th>Score</th>\n",
       "      <th>infected_scaled</th>\n",
       "      <th>score_scaled</th>\n",
       "    </tr>\n",
       "  </thead>\n",
       "  <tbody>\n",
       "    <tr>\n",
       "      <th>1295</th>\n",
       "      <td>2021-08-20</td>\n",
       "      <td>25858.0</td>\n",
       "      <td>-3.0</td>\n",
       "      <td>1.000000</td>\n",
       "      <td>0.125</td>\n",
       "    </tr>\n",
       "    <tr>\n",
       "      <th>1296</th>\n",
       "      <td>2021-08-20</td>\n",
       "      <td>25858.0</td>\n",
       "      <td>0.0</td>\n",
       "      <td>1.000000</td>\n",
       "      <td>0.500</td>\n",
       "    </tr>\n",
       "    <tr>\n",
       "      <th>1297</th>\n",
       "      <td>2021-08-20</td>\n",
       "      <td>25858.0</td>\n",
       "      <td>-2.0</td>\n",
       "      <td>1.000000</td>\n",
       "      <td>0.250</td>\n",
       "    </tr>\n",
       "    <tr>\n",
       "      <th>1298</th>\n",
       "      <td>2021-08-21</td>\n",
       "      <td>25461.0</td>\n",
       "      <td>-2.0</td>\n",
       "      <td>0.984518</td>\n",
       "      <td>0.250</td>\n",
       "    </tr>\n",
       "    <tr>\n",
       "      <th>1299</th>\n",
       "      <td>2021-08-21</td>\n",
       "      <td>25461.0</td>\n",
       "      <td>-1.0</td>\n",
       "      <td>0.984518</td>\n",
       "      <td>0.375</td>\n",
       "    </tr>\n",
       "  </tbody>\n",
       "</table>\n",
       "</div>"
      ],
      "text/plain": [
       "           Date  Infected  Score  infected_scaled  score_scaled\n",
       "1295 2021-08-20   25858.0   -3.0         1.000000         0.125\n",
       "1296 2021-08-20   25858.0    0.0         1.000000         0.500\n",
       "1297 2021-08-20   25858.0   -2.0         1.000000         0.250\n",
       "1298 2021-08-21   25461.0   -2.0         0.984518         0.250\n",
       "1299 2021-08-21   25461.0   -1.0         0.984518         0.375"
      ]
     },
     "execution_count": 341,
     "metadata": {},
     "output_type": "execute_result"
    }
   ],
   "source": [
    "df.tail()"
   ]
  },
  {
   "cell_type": "code",
   "execution_count": 342,
   "id": "sexual-demand",
   "metadata": {},
   "outputs": [
    {
     "data": {
      "text/plain": [
       "array([[  3436.],\n",
       "       [  3436.],\n",
       "       [  3436.],\n",
       "       ...,\n",
       "       [206860.],\n",
       "       [203684.],\n",
       "       [203684.]])"
      ]
     },
     "execution_count": 342,
     "metadata": {},
     "output_type": "execute_result"
    }
   ],
   "source": [
    "sc.inverse_transform(df['Infected'].values.reshape(len(df), 1))"
   ]
  },
  {
   "cell_type": "code",
   "execution_count": 343,
   "id": "employed-vertical",
   "metadata": {},
   "outputs": [
    {
     "name": "stdout",
     "output_type": "stream",
     "text": [
      "MinMaxScaler()\n",
      "[[0.00834568]\n",
      " [0.00834568]\n",
      " [0.00834568]\n",
      " ...\n",
      " [1.        ]\n",
      " [0.98451759]\n",
      " [0.98451759]]\n"
     ]
    }
   ],
   "source": [
    "sc = MinMaxScaler(feature_range = (0, 1))\n",
    "data = df['Infected'].values.reshape(len(df), 1)\n",
    "\n",
    "print(sc.fit(data))\n",
    "\n",
    "print(sc.transform(data))\n"
   ]
  },
  {
   "cell_type": "code",
   "execution_count": 344,
   "id": "hydraulic-clothing",
   "metadata": {},
   "outputs": [
    {
     "data": {
      "text/plain": [
       "[<matplotlib.lines.Line2D at 0x22a3c50dd30>]"
      ]
     },
     "execution_count": 344,
     "metadata": {},
     "output_type": "execute_result"
    },
    {
     "data": {
      "image/png": "[encoded data removed]",
      "text/plain": [
       "<Figure size 432x288 with 1 Axes>"
      ]
     },
     "metadata": {
      "needs_background": "light"
     },
     "output_type": "display_data"
    }
   ],
   "source": [
    "temp = sc.inverse_transform(y_pred.reshape(len(y_pred), 1))\n",
    "plt.plot(temp+10000)"
   ]
  },
  {
   "cell_type": "code",
   "execution_count": 345,
   "id": "latter-malpractice",
   "metadata": {},
   "outputs": [],
   "source": [
    "def split_seq(sequence, n_steps_in, n_steps_out):\n",
    "    X = []\n",
    "    y = []\n",
    "    for i in range(len(sequence)):\n",
    "        end_idx = i + n_steps_in\n",
    "        steps_out_idx = end_idx + n_steps_out\n",
    "        \n",
    "        #check if we reach end of arr or not\n",
    "        if (steps_out_idx > len(sequence)):\n",
    "            break\n",
    "        seq_x = sequence[i:end_idx]\n",
    "        seq_y = sequence[end_idx:steps_out_idx]\n",
    "        X.append(seq_x)\n",
    "        y.append(seq_y)\n",
    "    return X, y"
   ]
  },
  {
   "cell_type": "code",
   "execution_count": 346,
   "id": "prime-apparel",
   "metadata": {},
   "outputs": [
    {
     "name": "stdout",
     "output_type": "stream",
     "text": [
      "(1296, 8, 1)\n",
      "(1296, 1, 1)\n"
     ]
    }
   ],
   "source": [
    "X_infected, y_infected = split_seq(df['infected_scaled'].values,4,1)\n",
    "X_infected = np.array(X_infected)\n",
    "y_infected = np.array(y_infected)\n",
    "\n",
    "\n",
    "#print(X_infected.shape, y_infected.shape)\n",
    "X_news, y_news = split_seq(df['score_scaled'].values,4,1)\n",
    "X_news = np.array(X_news)\n",
    "y_news = np.array(y_news)\n",
    "#print(X_news.shape, y_news.shape)\n",
    "\n",
    "### Concat horizotally with hstack\n",
    "X = np.hstack([X_infected,X_news])\n",
    "#X = np.hstack([X_infected])\n",
    "\n",
    "y = np.hstack([y_infected]) #only output infected cases\n",
    "\n",
    "X = X.reshape((X.shape[0],X.shape[1],1))\n",
    "y = y.reshape((y.shape[0],y.shape[1],1))\n",
    "\n",
    "print(X.shape)\n",
    "print(y.shape)"
   ]
  },
  {
   "cell_type": "code",
   "execution_count": 347,
   "id": "generous-shield",
   "metadata": {},
   "outputs": [],
   "source": [
    "X_train = X[:1000,:]\n",
    "X_test  = X[1000:,:]\n",
    "y_train = y[:1000,:]\n",
    "y_test  = y[1000:,:]"
   ]
  },
  {
   "cell_type": "raw",
   "id": "secondary-cleaners",
   "metadata": {},
   "source": [
    "sc.inverse_transform(y_train.reshape(-1,1))"
   ]
  },
  {
   "cell_type": "code",
   "execution_count": 348,
   "id": "funny-carolina",
   "metadata": {},
   "outputs": [
    {
     "data": {
      "text/plain": [
       "(8, 1)"
      ]
     },
     "execution_count": 348,
     "metadata": {},
     "output_type": "execute_result"
    }
   ],
   "source": [
    "input_shape = (X_train.shape[1],X_train.shape[2])\n",
    "input_shape"
   ]
  },
  {
   "cell_type": "code",
   "execution_count": 349,
   "id": "traditional-laundry",
   "metadata": {},
   "outputs": [
    {
     "name": "stdout",
     "output_type": "stream",
     "text": [
      "Epoch 1/20\n",
      "8/8 [==============================] - 0s 18ms/step - loss: 0.0879\n",
      "Epoch 2/20\n",
      "8/8 [==============================] - 0s 17ms/step - loss: 0.0671\n",
      "Epoch 3/20\n",
      "8/8 [==============================] - 0s 16ms/step - loss: 0.0655\n",
      "Epoch 4/20\n",
      "8/8 [==============================] - 0s 17ms/step - loss: 0.0638\n",
      "Epoch 5/20\n",
      "8/8 [==============================] - 0s 16ms/step - loss: 0.0618\n",
      "Epoch 6/20\n",
      "8/8 [==============================] - 0s 17ms/step - loss: 0.0599\n",
      "Epoch 7/20\n",
      "8/8 [==============================] - 0s 16ms/step - loss: 0.0512\n",
      "Epoch 8/20\n",
      "8/8 [==============================] - 0s 16ms/step - loss: 0.0360\n",
      "Epoch 9/20\n",
      "8/8 [==============================] - 0s 16ms/step - loss: 0.0301\n",
      "Epoch 10/20\n",
      "8/8 [==============================] - 0s 17ms/step - loss: 0.0281\n",
      "Epoch 11/20\n",
      "8/8 [==============================] - 0s 17ms/step - loss: 0.0282\n",
      "Epoch 12/20\n",
      "8/8 [==============================] - 0s 18ms/step - loss: 0.0256\n",
      "Epoch 13/20\n",
      "8/8 [==============================] - 0s 18ms/step - loss: 0.0239\n",
      "Epoch 14/20\n",
      "8/8 [==============================] - 0s 18ms/step - loss: 0.0232\n",
      "Epoch 15/20\n",
      "8/8 [==============================] - 0s 20ms/step - loss: 0.0227\n",
      "Epoch 16/20\n",
      "8/8 [==============================] - 0s 18ms/step - loss: 0.0221\n",
      "Epoch 17/20\n",
      "8/8 [==============================] - 0s 17ms/step - loss: 0.0214\n",
      "Epoch 18/20\n",
      "8/8 [==============================] - 0s 17ms/step - loss: 0.0219\n",
      "Epoch 19/20\n",
      "8/8 [==============================] - 0s 17ms/step - loss: 0.0208\n",
      "Epoch 20/20\n",
      "8/8 [==============================] - 0s 17ms/step - loss: 0.0205\n"
     ]
    },
    {
     "data": {
      "text/plain": [
       "<tensorflow.python.keras.callbacks.History at 0x22a3c7b8be0>"
      ]
     },
     "execution_count": 349,
     "metadata": {},
     "output_type": "execute_result"
    }
   ],
   "source": [
    "model = Sequential()\n",
    "\n",
    "#Adding the first LSTM layer and some Dropout regularisation\n",
    "model.add(LSTM(units = 50, return_sequences = True, activation='relu', input_shape = input_shape))\n",
    "model.add(Dropout(0.2))\n",
    "\n",
    "# Adding a second LSTM layer and some Dropout regularisation\n",
    "model.add(LSTM(units = 50, return_sequences = True,activation='relu'))\n",
    "model.add(Dropout(0.2))\n",
    "\n",
    "# Adding a third LSTM layer and some Dropout regularisation\n",
    "model.add(LSTM(units = 50, return_sequences = True, activation='relu'))\n",
    "model.add(Dropout(0.2))\n",
    "\n",
    "# Adding a fourth LSTM layer and some Dropout regularisation\n",
    "model.add(LSTM(units = 50, activation='relu'))\n",
    "model.add(Dropout(0.2))\n",
    "\n",
    "# Adding the output layer\n",
    "model.add(Dense(units = 1, activation='relu'))\n",
    "\n",
    "# Compiling the RNN\n",
    "model.compile(optimizer = 'adam', loss = 'mean_absolute_error')\n",
    "\n",
    "# Fitting the RNN to the Training set\n",
    "model.fit(X_train, y_train, epochs = 20, batch_size = 128)"
   ]
  },
  {
   "cell_type": "code",
   "execution_count": 350,
   "id": "spiritual-click",
   "metadata": {},
   "outputs": [],
   "source": [
    "y_pred = model.predict(X_test)\n",
    "y_pred = sc.inverse_transform(y_pred) #revert scaling\n",
    "#print(sc.inverse_transform(y_pred))"
   ]
  },
  {
   "cell_type": "code",
   "execution_count": 351,
   "id": "chemical-operations",
   "metadata": {},
   "outputs": [
    {
     "data": {
      "text/plain": [
       "(296, 1)"
      ]
     },
     "execution_count": 351,
     "metadata": {},
     "output_type": "execute_result"
    }
   ],
   "source": [
    "y_pred.shape"
   ]
  },
  {
   "cell_type": "code",
   "execution_count": 366,
   "id": "productive-ottawa",
   "metadata": {},
   "outputs": [
    {
     "data": {
      "text/plain": [
       "25858.0"
      ]
     },
     "execution_count": 366,
     "metadata": {},
     "output_type": "execute_result"
    }
   ],
   "source": [
    "np.max(df['Infected'])"
   ]
  },
  {
   "cell_type": "code",
   "execution_count": 352,
   "id": "packed-blood",
   "metadata": {},
   "outputs": [
    {
     "data": {
      "text/plain": [
       "<matplotlib.legend.Legend at 0x22a84fc2b50>"
      ]
     },
     "execution_count": 352,
     "metadata": {},
     "output_type": "execute_result"
    },
    {
     "data": {
      "image/png": "[encoded data removed]",
      "text/plain": [
       "<Figure size 432x288 with 1 Axes>"
      ]
     },
     "metadata": {
      "needs_background": "light"
     },
     "output_type": "display_data"
    }
   ],
   "source": [
    "plt.plot(y_pred, label='Prediction')\n",
    "plt.plot(range(0,300),df['Infected'][1000:],label='Observed')\n",
    "plt.legend()"
   ]
  },
  {
   "cell_type": "code",
   "execution_count": 353,
   "id": "olympic-lounge",
   "metadata": {},
   "outputs": [],
   "source": [
    "baseline_pred = [1967.5939,2052.4905,2144.919,2271.373,2422.5845,2631.1199,2912.3054,3188.3577,3381.7207,\n",
    " 3568.1086,3773.8875,4020.4053,4301.9863,4568.4927,4754.5425,4857.541,5098.7334,5612.994,\n",
    " 6465.246,7630.6973,9067.51, 10449.382,11484.035,12239.141,12774.059,13206.16,13610.28,\n",
    " 14098.468,14685.9375,15053.421,15125.069,14900.711,14640.211,14656.9795,15204.301,16001.616,\n",
    " 16718.99,17469.127,18195.7,18963.37,19846.715]"
   ]
  },
  {
   "cell_type": "code",
   "execution_count": 354,
   "id": "packed-privacy",
   "metadata": {},
   "outputs": [],
   "source": [
    "from tslearn.preprocessing import TimeSeriesResampler\n",
    "baseline_pred_resampled = TimeSeriesResampler(sz=y_pred.shape[0]).fit_transform(baseline_pred)\n",
    "baseline_pred_resampled = baseline_pred_resampled.reshape(-1)"
   ]
  },
  {
   "cell_type": "code",
   "execution_count": 365,
   "id": "adjacent-charger",
   "metadata": {},
   "outputs": [
    {
     "data": {
      "text/plain": [
       "<matplotlib.legend.Legend at 0x22a8576b700>"
      ]
     },
     "execution_count": 365,
     "metadata": {},
     "output_type": "execute_result"
    },
    {
     "data": {
      "image/png": "[encoded data removed]",
      "text/plain": [
       "<Figure size 960x320 with 1 Axes>"
      ]
     },
     "metadata": {
      "needs_background": "light"
     },
     "output_type": "display_data"
    }
   ],
   "source": [
    "from matplotlib.pyplot import figure\n",
    "figure(figsize=(12, 4), dpi=80)\n",
    "\n",
    "plt.plot(baseline_pred_resampled, label = 'Predict with infected cases')\n",
    "plt.plot(y_pred, label='Predict with infected cases and  news sentiment analysis',linewidth=3)\n",
    "plt.plot(range(0,300),df['Infected'][1000:],label='Observed')\n",
    "plt.ylabel('Cases')\n",
    "plt.xlabel('Sampling steps')\n",
    "plt.title('COVID-19 New infected cases prediction in Japan\\nfrom 2021-06-28 to 2021-08-21')\n",
    "plt.legend()"
   ]
  },
  {
   "cell_type": "code",
   "execution_count": null,
   "id": "contained-elimination",
   "metadata": {},
   "outputs": [],
   "source": []
  },
  {
   "cell_type": "raw",
   "id": "blocked-diversity",
   "metadata": {},
   "source": [
    "yhat = model.predict(test_X)\n",
    "test_X = test_X.reshape((test_X.shape[0], test_X.shape[2]))\n",
    "\n",
    "# invert scaling for forecast\n",
    "inv_yhat = concatenate((yhat, test_X[:, 1:]), axis=1)\n",
    "inv_yhat = scaler.inverse_transform(inv_yhat)\n",
    "inv_yhat = inv_yhat[:,0]\n",
    "\n",
    "# invert scaling for actual\n",
    "test_y = test_y.reshape((len(test_y), 1))\n",
    "inv_y = concatenate((test_y, test_X[:, 1:]), axis=1)\n",
    "inv_y = scaler.inverse_transform(inv_y)\n",
    "inv_y = inv_y[:,0]\n",
    "\n",
    "# calculate RMSE\n",
    "rmse = sqrt(mean_squared_error(inv_y, inv_yhat))\n",
    "print('Test RMSE: %.3f' % rmse)"
   ]
  }
 ],
 "metadata": {
  "kernelspec": {
   "display_name": "Python 3",
   "language": "python",
   "name": "python3"
  },
  "language_info": {
   "codemirror_mode": {
    "name": "ipython",
    "version": 3
   },
   "file_extension": ".py",
   "mimetype": "text/x-python",
   "name": "python",
   "nbconvert_exporter": "python",
   "pygments_lexer": "ipython3",
   "version": "3.8.5"
  }
 },
 "nbformat": 4,
 "nbformat_minor": 5
}
