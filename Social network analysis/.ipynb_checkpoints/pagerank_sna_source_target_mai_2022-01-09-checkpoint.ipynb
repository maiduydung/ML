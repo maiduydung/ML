{
 "cells": [
  {
   "cell_type": "code",
   "execution_count": 1,
   "id": "chinese-thesaurus",
   "metadata": {
    "cell_id": "00000-3bc459b6-15ba-4067-b698-30172ef9d3f9",
    "deepnote_cell_type": "code",
    "deepnote_to_be_reexecuted": false,
    "execution_millis": 8608,
    "execution_start": 1641735028462,
    "source_hash": "7faaa08a",
    "tags": []
   },
   "outputs": [],
   "source": [
    "#!pip install networkx\n",
    "#!pip install python-louvain\n",
    "#!pip3 install networkit\n",
    "\n",
    "\n"
   ]
  },
  {
   "cell_type": "code",
   "execution_count": 2,
   "id": "aggregate-waste",
   "metadata": {
    "cell_id": "00000-a11a9f80-44ae-4bc6-b470-8e2b67c55dbe",
    "deepnote_cell_type": "code",
    "deepnote_output_heights": [
     2
    ],
    "deepnote_to_be_reexecuted": false,
    "execution_millis": 3,
    "execution_start": 1641735038894,
    "source_hash": "c9767e91"
   },
   "outputs": [
    {
     "data": {
      "text/html": [
       "\n",
       "\t\t\t<script type=\"text/javascript\">\n",
       "\t\t\t<!--\n",
       "\t\t\t\t\n",
       "\t\t\t{\n",
       "\t\t\t\tvar element = document.getElementById('NetworKit_script');\n",
       "\t\t\t\tif (element) {\n",
       "\t\t\t\t\telement.parentNode.removeChild(element);\n",
       "\t\t\t\t}\n",
       "\t\t\t\telement = document.createElement('script');\n",
       "\t\t\t\telement.type = 'text/javascript';\n",
       "\t\t\t\telement.innerHTML = 'function NetworKit_pageEmbed(id) { var i, j; var elements; elements = document.getElementById(id).getElementsByClassName(\"Plot\"); for (i=0; i<elements.length; i++) { elements[i].id = id + \"_Plot_\" + i; var data = elements[i].getAttribute(\"data-image\").split(\"|\"); elements[i].removeAttribute(\"data-image\"); var content = \"<div class=\\\\\"Image\\\\\" id=\\\\\"\" + elements[i].id + \"_Image\\\\\" />\"; elements[i].innerHTML = content; elements[i].setAttribute(\"data-image-index\", 0); elements[i].setAttribute(\"data-image-length\", data.length); for (j=0; j<data.length; j++) { elements[i].setAttribute(\"data-image-\" + j, data[j]); } NetworKit_plotUpdate(elements[i]); elements[i].onclick = function (e) { NetworKit_overlayShow((e.target) ? e.target : e.srcElement); } } elements = document.getElementById(id).getElementsByClassName(\"HeatCell\"); for (i=0; i<elements.length; i++) { var data = parseFloat(elements[i].getAttribute(\"data-heat\")); var color = \"#00FF00\"; if (data <= 1 && data > 0) { color = \"hsla(0, 100%, 75%, \" + (data) + \")\"; } else if (data <= 0 && data >= -1) { color = \"hsla(240, 100%, 75%, \" + (-data) + \")\"; } elements[i].style.backgroundColor = color; } elements = document.getElementById(id).getElementsByClassName(\"Details\"); for (i=0; i<elements.length; i++) { elements[i].setAttribute(\"data-title\", \"-\"); NetworKit_toggleDetails(elements[i]); elements[i].onclick = function (e) { NetworKit_toggleDetails((e.target) ? e.target : e.srcElement); } } elements = document.getElementById(id).getElementsByClassName(\"MathValue\"); for (i=elements.length-1; i>=0; i--) { value = elements[i].innerHTML.trim(); if (value === \"nan\") { elements[i].parentNode.innerHTML = \"\" } } elements = document.getElementById(id).getElementsByClassName(\"SubCategory\"); for (i=elements.length-1; i>=0; i--) { value = elements[i].innerHTML.trim(); if (value === \"\") { elements[i].parentNode.removeChild(elements[i]) } } elements = document.getElementById(id).getElementsByClassName(\"Category\"); for (i=elements.length-1; i>=0; i--) { value = elements[i].innerHTML.trim(); if (value === \"\") { elements[i].parentNode.removeChild(elements[i]) } } var isFirefox = false; try { isFirefox = typeof InstallTrigger !== \"undefined\"; } catch (e) {} if (!isFirefox) { alert(\"Currently the function\\'s output is only fully supported by Firefox.\"); } } function NetworKit_plotUpdate(source) { var index = source.getAttribute(\"data-image-index\"); var data = source.getAttribute(\"data-image-\" + index); var image = document.getElementById(source.id + \"_Image\"); image.style.backgroundImage = \"url(\" + data + \")\"; } function NetworKit_showElement(id, show) { var element = document.getElementById(id); element.style.display = (show) ? \"block\" : \"none\"; } function NetworKit_overlayShow(source) { NetworKit_overlayUpdate(source); NetworKit_showElement(\"NetworKit_Overlay\", true); } function NetworKit_overlayUpdate(source) { document.getElementById(\"NetworKit_Overlay_Title\").innerHTML = source.title; var index = source.getAttribute(\"data-image-index\"); var data = source.getAttribute(\"data-image-\" + index); var image = document.getElementById(\"NetworKit_Overlay_Image\"); image.setAttribute(\"data-id\", source.id); image.style.backgroundImage = \"url(\" + data + \")\"; var link = document.getElementById(\"NetworKit_Overlay_Toolbar_Bottom_Save\"); link.href = data; link.download = source.title + \".svg\"; } function NetworKit_overlayImageShift(delta) { var image = document.getElementById(\"NetworKit_Overlay_Image\"); var source = document.getElementById(image.getAttribute(\"data-id\")); var index = parseInt(source.getAttribute(\"data-image-index\")); var length = parseInt(source.getAttribute(\"data-image-length\")); var index = (index+delta) % length; if (index < 0) { index = length + index; } source.setAttribute(\"data-image-index\", index); NetworKit_overlayUpdate(source); } function NetworKit_toggleDetails(source) { var childs = source.children; var show = false; if (source.getAttribute(\"data-title\") == \"-\") { source.setAttribute(\"data-title\", \"+\"); show = false; } else { source.setAttribute(\"data-title\", \"-\"); show = true; } for (i=0; i<childs.length; i++) { if (show) { childs[i].style.display = \"block\"; } else { childs[i].style.display = \"none\"; } } }';\n",
       "\t\t\t\telement.setAttribute('id', 'NetworKit_script');\n",
       "\t\t\t\tdocument.head.appendChild(element);\n",
       "\t\t\t}\n",
       "\t\t\n",
       "\t\t\t\t\n",
       "\t\t\t{\n",
       "\t\t\t\tvar element = document.getElementById('NetworKit_style');\n",
       "\t\t\t\tif (element) {\n",
       "\t\t\t\t\telement.parentNode.removeChild(element);\n",
       "\t\t\t\t}\n",
       "\t\t\t\telement = document.createElement('style');\n",
       "\t\t\t\telement.type = 'text/css';\n",
       "\t\t\t\telement.innerHTML = '.NetworKit_Page { font-family: Arial, Helvetica, sans-serif; font-size: 14px; } .NetworKit_Page .Value:before { font-family: Arial, Helvetica, sans-serif; font-size: 1.05em; content: attr(data-title) \":\"; margin-left: -2.5em; padding-right: 0.5em; } .NetworKit_Page .Details .Value:before { display: block; } .NetworKit_Page .Value { font-family: monospace; white-space: pre; padding-left: 2.5em; white-space: -moz-pre-wrap !important; white-space: -pre-wrap; white-space: -o-pre-wrap; white-space: pre-wrap; word-wrap: break-word; tab-size: 4; -moz-tab-size: 4; } .NetworKit_Page .Category { clear: both; padding-left: 1em; margin-bottom: 1.5em; } .NetworKit_Page .Category:before { content: attr(data-title); font-size: 1.75em; display: block; margin-left: -0.8em; margin-bottom: 0.5em; } .NetworKit_Page .SubCategory { margin-bottom: 1.5em; padding-left: 1em; } .NetworKit_Page .SubCategory:before { font-size: 1.6em; display: block; margin-left: -0.8em; margin-bottom: 0.5em; } .NetworKit_Page .SubCategory[data-title]:before { content: attr(data-title); } .NetworKit_Page .Block { display: block; } .NetworKit_Page .Block:after { content: \".\"; visibility: hidden; display: block; height: 0; clear: both; } .NetworKit_Page .Block .Thumbnail_Overview, .NetworKit_Page .Block .Thumbnail_ScatterPlot { width: 260px; float: left; } .NetworKit_Page .Block .Thumbnail_Overview img, .NetworKit_Page .Block .Thumbnail_ScatterPlot img { width: 260px; } .NetworKit_Page .Block .Thumbnail_Overview:before, .NetworKit_Page .Block .Thumbnail_ScatterPlot:before { display: block; text-align: center; font-weight: bold; } .NetworKit_Page .Block .Thumbnail_Overview:before { content: attr(data-title); } .NetworKit_Page .HeatCell { font-family: \"Courier New\", Courier, monospace; cursor: pointer; } .NetworKit_Page .HeatCell, .NetworKit_Page .HeatCellName { display: inline; padding: 0.1em; margin-right: 2px; background-color: #FFFFFF } .NetworKit_Page .HeatCellName { margin-left: 0.25em; } .NetworKit_Page .HeatCell:before { content: attr(data-heat); display: inline-block; color: #000000; width: 4em; text-align: center; } .NetworKit_Page .Measure { clear: both; } .NetworKit_Page .Measure .Details { cursor: pointer; } .NetworKit_Page .Measure .Details:before { content: \"[\" attr(data-title) \"]\"; display: block; } .NetworKit_Page .Measure .Details .Value { border-left: 1px dotted black; margin-left: 0.4em; padding-left: 3.5em; pointer-events: none; } .NetworKit_Page .Measure .Details .Spacer:before { content: \".\"; opacity: 0.0; pointer-events: none; } .NetworKit_Page .Measure .Plot { width: 440px; height: 440px; cursor: pointer; float: left; margin-left: -0.9em; margin-right: 20px; } .NetworKit_Page .Measure .Plot .Image { background-repeat: no-repeat; background-position: center center; background-size: contain; height: 100%; pointer-events: none; } .NetworKit_Page .Measure .Stat { width: 500px; float: left; } .NetworKit_Page .Measure .Stat .Group { padding-left: 1.25em; margin-bottom: 0.75em; } .NetworKit_Page .Measure .Stat .Group .Title { font-size: 1.1em; display: block; margin-bottom: 0.3em; margin-left: -0.75em; border-right-style: dotted; border-right-width: 1px; border-bottom-style: dotted; border-bottom-width: 1px; background-color: #D0D0D0; padding-left: 0.2em; } .NetworKit_Page .Measure .Stat .Group .List { -webkit-column-count: 3; -moz-column-count: 3; column-count: 3; } .NetworKit_Page .Measure .Stat .Group .List .Entry { position: relative; line-height: 1.75em; } .NetworKit_Page .Measure .Stat .Group .List .Entry[data-tooltip]:before { position: absolute; left: 0; top: -40px; background-color: #808080; color: #ffffff; height: 30px; line-height: 30px; border-radius: 5px; padding: 0 15px; content: attr(data-tooltip); white-space: nowrap; display: none; } .NetworKit_Page .Measure .Stat .Group .List .Entry[data-tooltip]:after { position: absolute; left: 15px; top: -10px; border-top: 7px solid #808080; border-left: 7px solid transparent; border-right: 7px solid transparent; content: \"\"; display: none; } .NetworKit_Page .Measure .Stat .Group .List .Entry[data-tooltip]:hover:after, .NetworKit_Page .Measure .Stat .Group .List .Entry[data-tooltip]:hover:before { display: block; } .NetworKit_Page .Measure .Stat .Group .List .Entry .MathValue { font-family: \"Courier New\", Courier, monospace; } .NetworKit_Page .Measure:after { content: \".\"; visibility: hidden; display: block; height: 0; clear: both; } .NetworKit_Page .PartitionPie { clear: both; } .NetworKit_Page .PartitionPie img { width: 600px; } #NetworKit_Overlay { left: 0px; top: 0px; display: none; position: absolute; width: 100%; height: 100%; background-color: rgba(0,0,0,0.6); z-index: 1000; } #NetworKit_Overlay_Title { position: absolute; color: white; transform: rotate(-90deg); width: 32em; height: 32em; padding-right: 0.5em; padding-top: 0.5em; text-align: right; font-size: 40px; } #NetworKit_Overlay .button { background: white; cursor: pointer; } #NetworKit_Overlay .button:before { size: 13px; display: inline-block; text-align: center; margin-top: 0.5em; margin-bottom: 0.5em; width: 1.5em; height: 1.5em; } #NetworKit_Overlay .icon-close:before { content: \"X\"; } #NetworKit_Overlay .icon-previous:before { content: \"P\"; } #NetworKit_Overlay .icon-next:before { content: \"N\"; } #NetworKit_Overlay .icon-save:before { content: \"S\"; } #NetworKit_Overlay_Toolbar_Top, #NetworKit_Overlay_Toolbar_Bottom { position: absolute; width: 40px; right: 13px; text-align: right; z-index: 1100; } #NetworKit_Overlay_Toolbar_Top { top: 0.5em; } #NetworKit_Overlay_Toolbar_Bottom { Bottom: 0.5em; } #NetworKit_Overlay_ImageContainer { position: absolute; top: 5%; left: 5%; height: 90%; width: 90%; background-repeat: no-repeat; background-position: center center; background-size: contain; } #NetworKit_Overlay_Image { height: 100%; width: 100%; background-repeat: no-repeat; background-position: center center; background-size: contain; }';\n",
       "\t\t\t\telement.setAttribute('id', 'NetworKit_style');\n",
       "\t\t\t\tdocument.head.appendChild(element);\n",
       "\t\t\t}\n",
       "\t\t\n",
       "\t\t\t\t\n",
       "\t\t\t{\n",
       "\t\t\t\tvar element = document.getElementById('NetworKit_Overlay');\n",
       "\t\t\t\tif (element) {\n",
       "\t\t\t\t\telement.parentNode.removeChild(element);\n",
       "\t\t\t\t}\n",
       "\t\t\t\telement = document.createElement('div');\n",
       "\t\t\t\telement.innerHTML = '<div id=\"NetworKit_Overlay_Toolbar_Top\"><div class=\"button icon-close\" id=\"NetworKit_Overlay_Close\" /></div><div id=\"NetworKit_Overlay_Title\" /> <div id=\"NetworKit_Overlay_ImageContainer\"> <div id=\"NetworKit_Overlay_Image\" /> </div> <div id=\"NetworKit_Overlay_Toolbar_Bottom\"> <div class=\"button icon-previous\" onclick=\"NetworKit_overlayImageShift(-1)\" /> <div class=\"button icon-next\" onclick=\"NetworKit_overlayImageShift(1)\" /> <a id=\"NetworKit_Overlay_Toolbar_Bottom_Save\"><div class=\"button icon-save\" /></a> </div>';\n",
       "\t\t\t\telement.setAttribute('id', 'NetworKit_Overlay');\n",
       "\t\t\t\tdocument.body.appendChild(element);\n",
       "\t\t\t\tdocument.getElementById('NetworKit_Overlay_Close').onclick = function (e) {\n",
       "\t\t\t\t\tdocument.getElementById('NetworKit_Overlay').style.display = 'none';\n",
       "\t\t\t\t}\n",
       "\t\t\t}\n",
       "\t\t\n",
       "\t\t\t-->\n",
       "\t\t\t</script>\n",
       "\t\t"
      ]
     },
     "metadata": {},
     "output_type": "display_data"
    }
   ],
   "source": [
    "import networkx as nx\n",
    "import matplotlib.pyplot as plt\n",
    "from multiprocessing import Pool\n",
    "import itertools\n",
    "import community\n",
    "import pandas as pd\n",
    "\n",
    "import networkit as nk \n"
   ]
  },
  {
   "cell_type": "markdown",
   "id": "induced-event",
   "metadata": {
    "cell_id": "00001-aa7a0d93-0cfa-4bc3-99a6-0ea155808a90",
    "deepnote_cell_type": "markdown"
   },
   "source": [
    "## Finding centrality of source twitter and target twitter account\n",
    " I couldn't install `NetworKit` here, it also causes my kernel to crash and restart on my local machine"
   ]
  },
  {
   "cell_type": "code",
   "execution_count": 70,
   "id": "front-species",
   "metadata": {
    "cell_id": "00002-f30cd476-5e38-4e85-8cbd-8c9864744e2c",
    "deepnote_cell_type": "code",
    "deepnote_output_heights": [
     null,
     177
    ],
    "deepnote_to_be_reexecuted": false,
    "execution_millis": 1043,
    "execution_start": 1641735048199,
    "source_hash": "23e87f87"
   },
   "outputs": [
    {
     "name": "stdout",
     "output_type": "stream",
     "text": [
      "(258764, 16)\n"
     ]
    },
    {
     "data": {
      "text/html": [
       "<div>\n",
       "<style scoped>\n",
       "    .dataframe tbody tr th:only-of-type {\n",
       "        vertical-align: middle;\n",
       "    }\n",
       "\n",
       "    .dataframe tbody tr th {\n",
       "        vertical-align: top;\n",
       "    }\n",
       "\n",
       "    .dataframe thead th {\n",
       "        text-align: right;\n",
       "    }\n",
       "</style>\n",
       "<table border=\"1\" class=\"dataframe\">\n",
       "  <thead>\n",
       "    <tr style=\"text-align: right;\">\n",
       "      <th></th>\n",
       "      <th>source_twitter</th>\n",
       "      <th>target_twitter</th>\n",
       "      <th>source_location</th>\n",
       "      <th>target_location</th>\n",
       "      <th>follow_actions</th>\n",
       "      <th>interaction_times</th>\n",
       "      <th>interaction_type_counts</th>\n",
       "      <th>customer_type</th>\n",
       "      <th>tier</th>\n",
       "      <th>a_level</th>\n",
       "      <th>age_range</th>\n",
       "      <th>gender</th>\n",
       "      <th>orders</th>\n",
       "      <th>amount</th>\n",
       "      <th>first_authorized_at</th>\n",
       "      <th>first_payment_date</th>\n",
       "    </tr>\n",
       "  </thead>\n",
       "  <tbody>\n",
       "    <tr>\n",
       "      <th>0</th>\n",
       "      <td>0120iesagashi</td>\n",
       "      <td>109btt</td>\n",
       "      <td>BTT</td>\n",
       "      <td>NaN</td>\n",
       "      <td>1</td>\n",
       "      <td>0</td>\n",
       "      <td>0</td>\n",
       "      <td>customer_registered_only</td>\n",
       "      <td>1-Bronze</td>\n",
       "      <td>a_level_0</td>\n",
       "      <td>not available</td>\n",
       "      <td>not available</td>\n",
       "      <td>NaN</td>\n",
       "      <td>NaN</td>\n",
       "      <td>2021-08-17 00:00:00.000</td>\n",
       "      <td>NaN</td>\n",
       "    </tr>\n",
       "    <tr>\n",
       "      <th>1</th>\n",
       "      <td>0120iesagashi</td>\n",
       "      <td>16toyosu</td>\n",
       "      <td>BTT</td>\n",
       "      <td>NaN</td>\n",
       "      <td>1</td>\n",
       "      <td>0</td>\n",
       "      <td>0</td>\n",
       "      <td>customer_registered_only</td>\n",
       "      <td>1-Bronze</td>\n",
       "      <td>a_level_0</td>\n",
       "      <td>not available</td>\n",
       "      <td>not available</td>\n",
       "      <td>NaN</td>\n",
       "      <td>NaN</td>\n",
       "      <td>2021-08-17 00:00:00.000</td>\n",
       "      <td>NaN</td>\n",
       "    </tr>\n",
       "    <tr>\n",
       "      <th>2</th>\n",
       "      <td>0120iesagashi</td>\n",
       "      <td>1manken</td>\n",
       "      <td>BTT</td>\n",
       "      <td>NaN</td>\n",
       "      <td>1</td>\n",
       "      <td>0</td>\n",
       "      <td>0</td>\n",
       "      <td>customer_registered_only</td>\n",
       "      <td>1-Bronze</td>\n",
       "      <td>a_level_0</td>\n",
       "      <td>not available</td>\n",
       "      <td>not available</td>\n",
       "      <td>NaN</td>\n",
       "      <td>NaN</td>\n",
       "      <td>2021-08-17 00:00:00.000</td>\n",
       "      <td>NaN</td>\n",
       "    </tr>\n",
       "    <tr>\n",
       "      <th>3</th>\n",
       "      <td>0120iesagashi</td>\n",
       "      <td>2020wngn</td>\n",
       "      <td>BTT</td>\n",
       "      <td>NaN</td>\n",
       "      <td>1</td>\n",
       "      <td>1</td>\n",
       "      <td>1</td>\n",
       "      <td>customer_registered_only</td>\n",
       "      <td>1-Bronze</td>\n",
       "      <td>a_level_0</td>\n",
       "      <td>not available</td>\n",
       "      <td>not available</td>\n",
       "      <td>NaN</td>\n",
       "      <td>NaN</td>\n",
       "      <td>2021-08-17 00:00:00.000</td>\n",
       "      <td>NaN</td>\n",
       "    </tr>\n",
       "    <tr>\n",
       "      <th>4</th>\n",
       "      <td>0120iesagashi</td>\n",
       "      <td>2022Btt</td>\n",
       "      <td>BTT</td>\n",
       "      <td>NaN</td>\n",
       "      <td>0</td>\n",
       "      <td>1</td>\n",
       "      <td>1</td>\n",
       "      <td>customer_registered_only</td>\n",
       "      <td>1-Bronze</td>\n",
       "      <td>a_level_0</td>\n",
       "      <td>not available</td>\n",
       "      <td>not available</td>\n",
       "      <td>NaN</td>\n",
       "      <td>NaN</td>\n",
       "      <td>2021-08-17 00:00:00.000</td>\n",
       "      <td>NaN</td>\n",
       "    </tr>\n",
       "  </tbody>\n",
       "</table>\n",
       "</div>"
      ],
      "text/plain": [
       "  source_twitter target_twitter source_location  target_location  \\\n",
       "0  0120iesagashi         109btt             BTT              NaN   \n",
       "1  0120iesagashi       16toyosu             BTT              NaN   \n",
       "2  0120iesagashi        1manken             BTT              NaN   \n",
       "3  0120iesagashi       2020wngn             BTT              NaN   \n",
       "4  0120iesagashi        2022Btt             BTT              NaN   \n",
       "\n",
       "   follow_actions  interaction_times  interaction_type_counts  \\\n",
       "0               1                  0                        0   \n",
       "1               1                  0                        0   \n",
       "2               1                  0                        0   \n",
       "3               1                  1                        1   \n",
       "4               0                  1                        1   \n",
       "\n",
       "              customer_type      tier    a_level      age_range  \\\n",
       "0  customer_registered_only  1-Bronze  a_level_0  not available   \n",
       "1  customer_registered_only  1-Bronze  a_level_0  not available   \n",
       "2  customer_registered_only  1-Bronze  a_level_0  not available   \n",
       "3  customer_registered_only  1-Bronze  a_level_0  not available   \n",
       "4  customer_registered_only  1-Bronze  a_level_0  not available   \n",
       "\n",
       "          gender  orders  amount      first_authorized_at first_payment_date  \n",
       "0  not available     NaN     NaN  2021-08-17 00:00:00.000                NaN  \n",
       "1  not available     NaN     NaN  2021-08-17 00:00:00.000                NaN  \n",
       "2  not available     NaN     NaN  2021-08-17 00:00:00.000                NaN  \n",
       "3  not available     NaN     NaN  2021-08-17 00:00:00.000                NaN  \n",
       "4  not available     NaN     NaN  2021-08-17 00:00:00.000                NaN  "
      ]
     },
     "execution_count": 70,
     "metadata": {},
     "output_type": "execute_result"
    }
   ],
   "source": [
    "df = pd.read_csv('social_network_data_2021_1227.csv')\n",
    "df = df.dropna(subset=['source_twitter', 'target_twitter'])\n",
    "print(df.shape)\n",
    "df.head()"
   ]
  },
  {
   "cell_type": "code",
   "execution_count": 79,
   "id": "automotive-antibody",
   "metadata": {},
   "outputs": [],
   "source": [
    "#df[['source_twitter', 'target_twitter']][:3000].to_csv('3k_accs.csv', index=False)"
   ]
  },
  {
   "cell_type": "code",
   "execution_count": 71,
   "id": "foreign-drove",
   "metadata": {},
   "outputs": [
    {
     "data": {
      "text/plain": [
       "178571"
      ]
     },
     "execution_count": 71,
     "metadata": {},
     "output_type": "execute_result"
    }
   ],
   "source": [
    "len(df['source_twitter'].unique()) + len(df['target_twitter'].unique()) "
   ]
  },
  {
   "cell_type": "markdown",
   "id": "breeding-quarter",
   "metadata": {
    "cell_id": "00003-46eff9d8-c8bc-4234-ab87-49f4b09a87be",
    "deepnote_cell_type": "markdown"
   },
   "source": [
    "### Read with `NetworkX`"
   ]
  },
  {
   "cell_type": "code",
   "execution_count": 95,
   "id": "separate-argentina",
   "metadata": {
    "cell_id": "00004-e90177e5-ece6-4192-b974-db66eee2de09",
    "deepnote_cell_type": "code",
    "deepnote_output_heights": [
     21.1875
    ],
    "deepnote_to_be_reexecuted": false,
    "execution_millis": 2852,
    "execution_start": 1641735053339,
    "source_hash": "2b3a8e8f"
   },
   "outputs": [
    {
     "name": "stdout",
     "output_type": "stream",
     "text": [
      "Name: \n",
      "Type: Graph\n",
      "Number of nodes: 178438\n",
      "Number of edges: 258757\n",
      "Average degree:   2.9002\n"
     ]
    }
   ],
   "source": [
    "nxG = nx.from_pandas_edgelist(df, \n",
    "                            source='source_twitter',\n",
    "                            target='target_twitter',\n",
    "                            edge_attr=True,\n",
    "                            create_using=nx.Graph())\n",
    "\n",
    "print(nx.info(nxG))"
   ]
  },
  {
   "cell_type": "code",
   "execution_count": null,
   "id": "destroyed-march",
   "metadata": {
    "cell_id": "00006-0cf1f28f-7ada-49cb-9355-ab93da3abc49",
    "deepnote_cell_type": "code",
    "tags": []
   },
   "outputs": [],
   "source": []
  },
  {
   "cell_type": "code",
   "execution_count": 5,
   "id": "southwest-grade",
   "metadata": {
    "cell_id": "00005-88286df0-50f9-4d8c-abc2-f2de339d4d76",
    "deepnote_cell_type": "code",
    "deepnote_to_be_reexecuted": false,
    "execution_millis": 9,
    "execution_start": 1641735056669,
    "source_hash": "73d51efa"
   },
   "outputs": [],
   "source": [
    "#spring_pos = nx.spring_layout(G)\n"
   ]
  },
  {
   "cell_type": "code",
   "execution_count": 6,
   "id": "sporting-anderson",
   "metadata": {
    "cell_id": "00006-25d131f4-119f-47ed-9fca-71bbee260069",
    "deepnote_cell_type": "code",
    "deepnote_to_be_reexecuted": false,
    "execution_millis": 3,
    "execution_start": 1641735057050,
    "source_hash": "ad12b5ea"
   },
   "outputs": [],
   "source": [
    "#parts = community.best_partition(G)\n",
    "#values = [parts.get(node) for node in G.nodes()]"
   ]
  },
  {
   "cell_type": "code",
   "execution_count": 7,
   "id": "indonesian-material",
   "metadata": {
    "cell_id": "00007-18a2a062-643d-4abf-844f-e424e4f6f4eb",
    "deepnote_cell_type": "code",
    "deepnote_to_be_reexecuted": false,
    "execution_millis": 2,
    "execution_start": 1641735057673,
    "source_hash": "ba0fb897"
   },
   "outputs": [],
   "source": [
    "#plt.figure(figsize = (30,22))\n",
    "\n",
    "#plt.axis('off')\n",
    "#nx.draw_networkx(G, pos = spring_pos, with_labels=False, node_size = 200, node_color = values)\n",
    "\n",
    "\n",
    "#plt.title('KOLs and their fans relationship visualization')"
   ]
  },
  {
   "cell_type": "markdown",
   "id": "smooth-round",
   "metadata": {
    "cell_id": "00008-1302120a-e6a5-4e38-9c0e-478981e51857",
    "deepnote_cell_type": "markdown"
   },
   "source": [
    "### Eigen centrality: Finding KOLs/Influential Accounts with all-round scoring\n",
    "#### A node is important if it is surrounded by many other important nodes"
   ]
  },
  {
   "cell_type": "code",
   "execution_count": 8,
   "id": "vulnerable-psychology",
   "metadata": {
    "cell_id": "00009-3401ac07-f6fd-46d8-9aad-0a3b4353052b",
    "deepnote_cell_type": "code",
    "deepnote_output_heights": [
     177
    ],
    "deepnote_to_be_reexecuted": false,
    "execution_millis": 278824,
    "execution_start": 1641735063787,
    "source_hash": "4d97c87"
   },
   "outputs": [
    {
     "name": "stdout",
     "output_type": "stream",
     "text": [
      "Wall time: 3min 36s\n"
     ]
    },
    {
     "data": {
      "text/html": [
       "<div>\n",
       "<style scoped>\n",
       "    .dataframe tbody tr th:only-of-type {\n",
       "        vertical-align: middle;\n",
       "    }\n",
       "\n",
       "    .dataframe tbody tr th {\n",
       "        vertical-align: top;\n",
       "    }\n",
       "\n",
       "    .dataframe thead th {\n",
       "        text-align: right;\n",
       "    }\n",
       "</style>\n",
       "<table border=\"1\" class=\"dataframe\">\n",
       "  <thead>\n",
       "    <tr style=\"text-align: right;\">\n",
       "      <th></th>\n",
       "      <th>Twitter</th>\n",
       "      <th>Eigen Centrality</th>\n",
       "    </tr>\n",
       "  </thead>\n",
       "  <tbody>\n",
       "    <tr>\n",
       "      <th>0</th>\n",
       "      <td>0120iesagashi</td>\n",
       "      <td>0.000257</td>\n",
       "    </tr>\n",
       "    <tr>\n",
       "      <th>1</th>\n",
       "      <td>109btt</td>\n",
       "      <td>0.000003</td>\n",
       "    </tr>\n",
       "    <tr>\n",
       "      <th>2</th>\n",
       "      <td>16toyosu</td>\n",
       "      <td>0.000003</td>\n",
       "    </tr>\n",
       "    <tr>\n",
       "      <th>3</th>\n",
       "      <td>1manken</td>\n",
       "      <td>0.000003</td>\n",
       "    </tr>\n",
       "    <tr>\n",
       "      <th>4</th>\n",
       "      <td>2020wngn</td>\n",
       "      <td>0.000003</td>\n",
       "    </tr>\n",
       "  </tbody>\n",
       "</table>\n",
       "</div>"
      ],
      "text/plain": [
       "         Twitter  Eigen Centrality\n",
       "0  0120iesagashi          0.000257\n",
       "1         109btt          0.000003\n",
       "2       16toyosu          0.000003\n",
       "3        1manken          0.000003\n",
       "4       2020wngn          0.000003"
      ]
     },
     "execution_count": 8,
     "metadata": {},
     "output_type": "execute_result"
    }
   ],
   "source": [
    "%%time\n",
    "eigen_centrality = nx.eigenvector_centrality(G, max_iter=1000)\n",
    "\n",
    "# sort by descending centrality\n",
    "#eigen_centrality = sorted(((c, v) for v, c in eigen_centrality.items()), reverse=True)\n",
    "eigen_centrality =  pd.DataFrame(eigen_centrality.items(), columns=['Twitter','Eigen Centrality'])\n",
    "eigen_centrality.head()"
   ]
  },
  {
   "cell_type": "code",
   "execution_count": 94,
   "id": "known-gross",
   "metadata": {},
   "outputs": [
    {
     "data": {
      "text/plain": [
       "178440"
      ]
     },
     "execution_count": 94,
     "metadata": {},
     "output_type": "execute_result"
    }
   ],
   "source": [
    "len(eigen_centrality['Twitter'].unique())"
   ]
  },
  {
   "cell_type": "code",
   "execution_count": 9,
   "id": "driven-independence",
   "metadata": {},
   "outputs": [],
   "source": [
    "#eigen_centrality.to_csv('eigen_centrality.csv', index=False)"
   ]
  },
  {
   "cell_type": "markdown",
   "id": "unknown-switzerland",
   "metadata": {
    "cell_id": "00010-99fa22e4-b42b-4b79-a6ce-10b8ff05f25d",
    "deepnote_cell_type": "markdown"
   },
   "source": [
    "### Degree centrality: Finding accounts with widest coverage\n",
    "#### A node is important if it is connected to many other nodes"
   ]
  },
  {
   "cell_type": "code",
   "execution_count": 139,
   "id": "floating-auction",
   "metadata": {
    "cell_id": "00011-6c4ff9dd-ab49-45f8-b73e-7aded9abce89",
    "deepnote_cell_type": "code",
    "deepnote_output_heights": [
     177
    ],
    "deepnote_to_be_reexecuted": false,
    "execution_millis": 255,
    "execution_start": 1641735342611,
    "source_hash": "9653e0e9"
   },
   "outputs": [
    {
     "data": {
      "text/html": [
       "<div>\n",
       "<style scoped>\n",
       "    .dataframe tbody tr th:only-of-type {\n",
       "        vertical-align: middle;\n",
       "    }\n",
       "\n",
       "    .dataframe tbody tr th {\n",
       "        vertical-align: top;\n",
       "    }\n",
       "\n",
       "    .dataframe thead th {\n",
       "        text-align: right;\n",
       "    }\n",
       "</style>\n",
       "<table border=\"1\" class=\"dataframe\">\n",
       "  <thead>\n",
       "    <tr style=\"text-align: right;\">\n",
       "      <th></th>\n",
       "      <th>Twitter_DC</th>\n",
       "      <th>Degree Centrality</th>\n",
       "    </tr>\n",
       "  </thead>\n",
       "  <tbody>\n",
       "    <tr>\n",
       "      <th>22271</th>\n",
       "      <td>KOICHIOSHIMA2</td>\n",
       "      <td>0.030403</td>\n",
       "    </tr>\n",
       "    <tr>\n",
       "      <th>84400</th>\n",
       "      <td>iloveyou1984022</td>\n",
       "      <td>0.028486</td>\n",
       "    </tr>\n",
       "    <tr>\n",
       "      <th>94755</th>\n",
       "      <td>kira272717</td>\n",
       "      <td>0.018589</td>\n",
       "    </tr>\n",
       "    <tr>\n",
       "      <th>9954</th>\n",
       "      <td>Aoi66982994</td>\n",
       "      <td>0.016925</td>\n",
       "    </tr>\n",
       "    <tr>\n",
       "      <th>14943</th>\n",
       "      <td>Cre2kiKvi22CFJw</td>\n",
       "      <td>0.016706</td>\n",
       "    </tr>\n",
       "    <tr>\n",
       "      <th>141900</th>\n",
       "      <td>ru_irui_momo</td>\n",
       "      <td>0.016420</td>\n",
       "    </tr>\n",
       "    <tr>\n",
       "      <th>62046</th>\n",
       "      <td>asuka__0307</td>\n",
       "      <td>0.015826</td>\n",
       "    </tr>\n",
       "    <tr>\n",
       "      <th>89396</th>\n",
       "      <td>karateka_ani</td>\n",
       "      <td>0.015367</td>\n",
       "    </tr>\n",
       "    <tr>\n",
       "      <th>96236</th>\n",
       "      <td>kitakubu918</td>\n",
       "      <td>0.013680</td>\n",
       "    </tr>\n",
       "    <tr>\n",
       "      <th>123583</th>\n",
       "      <td>neneamane</td>\n",
       "      <td>0.012626</td>\n",
       "    </tr>\n",
       "  </tbody>\n",
       "</table>\n",
       "</div>"
      ],
      "text/plain": [
       "             Twitter_DC  Degree Centrality\n",
       "22271     KOICHIOSHIMA2           0.030403\n",
       "84400   iloveyou1984022           0.028486\n",
       "94755        kira272717           0.018589\n",
       "9954        Aoi66982994           0.016925\n",
       "14943   Cre2kiKvi22CFJw           0.016706\n",
       "141900     ru_irui_momo           0.016420\n",
       "62046       asuka__0307           0.015826\n",
       "89396      karateka_ani           0.015367\n",
       "96236       kitakubu918           0.013680\n",
       "123583        neneamane           0.012626"
      ]
     },
     "execution_count": 139,
     "metadata": {},
     "output_type": "execute_result"
    }
   ],
   "source": [
    "degree_centrality = nx.degree_centrality(nxG)\n",
    "\n",
    "# sort by descending centrality\n",
    "#degree_centrality = sorted(((c, v) for v, c in degree_centrality.items()))\n",
    "degree_centrality =  pd.DataFrame(degree_centrality.items(), columns=['Twitter_DC','Degree Centrality'])\n",
    "degree_centrality = degree_centrality.sort_values(by='Degree Centrality', ascending=False)\n",
    "\n",
    "degree_centrality.head(10)"
   ]
  },
  {
   "cell_type": "code",
   "execution_count": 72,
   "id": "grateful-speed",
   "metadata": {},
   "outputs": [
    {
     "data": {
      "text/plain": [
       "178440"
      ]
     },
     "execution_count": 72,
     "metadata": {},
     "output_type": "execute_result"
    }
   ],
   "source": [
    "len(degree_centrality['Twitter_DC'].unique())"
   ]
  },
  {
   "cell_type": "code",
   "execution_count": null,
   "id": "hollow-emerald",
   "metadata": {},
   "outputs": [],
   "source": []
  },
  {
   "cell_type": "code",
   "execution_count": 140,
   "id": "falling-samuel",
   "metadata": {},
   "outputs": [],
   "source": [
    "#degree_centrality.to_csv('degree_centrality.csv', index=False)"
   ]
  },
  {
   "cell_type": "markdown",
   "id": "verbal-conversion",
   "metadata": {
    "cell_id": "00012-bd86943e-78e5-4025-8870-868364f0a4d0",
    "deepnote_cell_type": "markdown"
   },
   "source": [
    "### Betweeness centrality: Finding campaign targets\n",
    "#### A node is important if it lies on many shortest paths between other nodes"
   ]
  },
  {
   "cell_type": "code",
   "execution_count": 96,
   "id": "patent-excitement",
   "metadata": {},
   "outputs": [
    {
     "data": {
      "text/plain": [
       "<networkit.graph.Graph at 0x1471d6be530>"
      ]
     },
     "execution_count": 96,
     "metadata": {},
     "output_type": "execute_result"
    }
   ],
   "source": [
    "\n",
    "#Convert into networkit object\n",
    "G = nk.nxadapter.nx2nk(nxG)\n",
    "G"
   ]
  },
  {
   "cell_type": "markdown",
   "id": "wired-rebate",
   "metadata": {},
   "source": [
    "### Keeping original node name\n",
    "https://stackoverflow.com/questions/60285134/retrieving-original-node-names-in-networkit"
   ]
  },
  {
   "cell_type": "code",
   "execution_count": 97,
   "id": "played-collection",
   "metadata": {},
   "outputs": [],
   "source": [
    "# Get mapping from node ids in nxG to node ids in G\n",
    "idmap = dict((id, u) for (id, u) in zip(nxG.nodes(), range(nxG.number_of_nodes())))"
   ]
  },
  {
   "cell_type": "code",
   "execution_count": 99,
   "id": "subsequent-sociology",
   "metadata": {},
   "outputs": [
    {
     "data": {
      "text/plain": [
       "178438"
      ]
     },
     "execution_count": 99,
     "metadata": {},
     "output_type": "execute_result"
    }
   ],
   "source": [
    "len(idmap)"
   ]
  },
  {
   "cell_type": "code",
   "execution_count": 114,
   "id": "impressed-prime",
   "metadata": {},
   "outputs": [
    {
     "name": "stdout",
     "output_type": "stream",
     "text": [
      "<class 'dict'>\n"
     ]
    },
    {
     "data": {
      "text/html": [
       "<div>\n",
       "<style scoped>\n",
       "    .dataframe tbody tr th:only-of-type {\n",
       "        vertical-align: middle;\n",
       "    }\n",
       "\n",
       "    .dataframe tbody tr th {\n",
       "        vertical-align: top;\n",
       "    }\n",
       "\n",
       "    .dataframe thead th {\n",
       "        text-align: right;\n",
       "    }\n",
       "</style>\n",
       "<table border=\"1\" class=\"dataframe\">\n",
       "  <thead>\n",
       "    <tr style=\"text-align: right;\">\n",
       "      <th></th>\n",
       "      <th>Index</th>\n",
       "      <th>Twitter</th>\n",
       "    </tr>\n",
       "  </thead>\n",
       "  <tbody>\n",
       "    <tr>\n",
       "      <th>0</th>\n",
       "      <td>0</td>\n",
       "      <td>0120iesagashi</td>\n",
       "    </tr>\n",
       "    <tr>\n",
       "      <th>1</th>\n",
       "      <td>1</td>\n",
       "      <td>109btt</td>\n",
       "    </tr>\n",
       "    <tr>\n",
       "      <th>2</th>\n",
       "      <td>2</td>\n",
       "      <td>16toyosu</td>\n",
       "    </tr>\n",
       "    <tr>\n",
       "      <th>3</th>\n",
       "      <td>3</td>\n",
       "      <td>1manken</td>\n",
       "    </tr>\n",
       "    <tr>\n",
       "      <th>4</th>\n",
       "      <td>4</td>\n",
       "      <td>2020wngn</td>\n",
       "    </tr>\n",
       "    <tr>\n",
       "      <th>...</th>\n",
       "      <td>...</td>\n",
       "      <td>...</td>\n",
       "    </tr>\n",
       "    <tr>\n",
       "      <th>178433</th>\n",
       "      <td>178433</td>\n",
       "      <td>yuru_creation</td>\n",
       "    </tr>\n",
       "    <tr>\n",
       "      <th>178434</th>\n",
       "      <td>178434</td>\n",
       "      <td>yuzriha_h</td>\n",
       "    </tr>\n",
       "    <tr>\n",
       "      <th>178435</th>\n",
       "      <td>178435</td>\n",
       "      <td>yuzutouhu_ika</td>\n",
       "    </tr>\n",
       "    <tr>\n",
       "      <th>178436</th>\n",
       "      <td>178436</td>\n",
       "      <td>zaru_cr</td>\n",
       "    </tr>\n",
       "    <tr>\n",
       "      <th>178437</th>\n",
       "      <td>178437</td>\n",
       "      <td>zunzun_zp</td>\n",
       "    </tr>\n",
       "  </tbody>\n",
       "</table>\n",
       "<p>178438 rows × 2 columns</p>\n",
       "</div>"
      ],
      "text/plain": [
       "         Index        Twitter\n",
       "0            0  0120iesagashi\n",
       "1            1         109btt\n",
       "2            2       16toyosu\n",
       "3            3        1manken\n",
       "4            4       2020wngn\n",
       "...        ...            ...\n",
       "178433  178433  yuru_creation\n",
       "178434  178434      yuzriha_h\n",
       "178435  178435  yuzutouhu_ika\n",
       "178436  178436        zaru_cr\n",
       "178437  178437      zunzun_zp\n",
       "\n",
       "[178438 rows x 2 columns]"
      ]
     },
     "execution_count": 114,
     "metadata": {},
     "output_type": "execute_result"
    }
   ],
   "source": [
    "inverse_map = {v: k for k, v in idmap.items()}\n",
    "print(type(inverse_map))\n",
    "inverse_map_df = pd.DataFrame(inverse_map.items(), columns=['Index', 'Twitter'])\n",
    "inverse_map_df"
   ]
  },
  {
   "cell_type": "code",
   "execution_count": 133,
   "id": "standard-president",
   "metadata": {},
   "outputs": [
    {
     "data": {
      "text/plain": [
       "Index                 315\n",
       "Twitter    0120sakura0120\n",
       "Name: 315, dtype: object"
      ]
     },
     "execution_count": 133,
     "metadata": {},
     "output_type": "execute_result"
    }
   ],
   "source": [
    "inverse_map_df.iloc[315,:]"
   ]
  },
  {
   "cell_type": "code",
   "execution_count": 44,
   "id": "greatest-conditions",
   "metadata": {},
   "outputs": [
    {
     "name": "stdout",
     "output_type": "stream",
     "text": [
      "Wall time: 22min 41s\n"
     ]
    },
    {
     "data": {
      "text/plain": [
       "<networkit.centrality.ApproxBetweenness at 0x1470816a550>"
      ]
     },
     "execution_count": 44,
     "metadata": {},
     "output_type": "execute_result"
    }
   ],
   "source": [
    "%%time\n",
    "\n",
    "#Approximate Betweenness Running time test\n",
    "approximate_betweenness_centrality = nk.centrality.ApproxBetweenness(G)\n",
    "approximate_betweenness_centrality.run()"
   ]
  },
  {
   "cell_type": "code",
   "execution_count": 21,
   "id": "breathing-highway",
   "metadata": {},
   "outputs": [],
   "source": [
    "#approximate_betweenness_centrality.ranking()"
   ]
  },
  {
   "cell_type": "code",
   "execution_count": 121,
   "id": "varied-lithuania",
   "metadata": {},
   "outputs": [
    {
     "data": {
      "text/html": [
       "<div>\n",
       "<style scoped>\n",
       "    .dataframe tbody tr th:only-of-type {\n",
       "        vertical-align: middle;\n",
       "    }\n",
       "\n",
       "    .dataframe tbody tr th {\n",
       "        vertical-align: top;\n",
       "    }\n",
       "\n",
       "    .dataframe thead th {\n",
       "        text-align: right;\n",
       "    }\n",
       "</style>\n",
       "<table border=\"1\" class=\"dataframe\">\n",
       "  <thead>\n",
       "    <tr style=\"text-align: right;\">\n",
       "      <th></th>\n",
       "      <th>Twitter</th>\n",
       "      <th>Approximate Betweenness Centrality</th>\n",
       "    </tr>\n",
       "  </thead>\n",
       "  <tbody>\n",
       "    <tr>\n",
       "      <th>0</th>\n",
       "      <td>315</td>\n",
       "      <td>0.190318</td>\n",
       "    </tr>\n",
       "    <tr>\n",
       "      <th>1</th>\n",
       "      <td>604</td>\n",
       "      <td>0.062197</td>\n",
       "    </tr>\n",
       "    <tr>\n",
       "      <th>2</th>\n",
       "      <td>22272</td>\n",
       "      <td>0.038206</td>\n",
       "    </tr>\n",
       "    <tr>\n",
       "      <th>3</th>\n",
       "      <td>84402</td>\n",
       "      <td>0.033510</td>\n",
       "    </tr>\n",
       "    <tr>\n",
       "      <th>4</th>\n",
       "      <td>9955</td>\n",
       "      <td>0.032288</td>\n",
       "    </tr>\n",
       "    <tr>\n",
       "      <th>...</th>\n",
       "      <td>...</td>\n",
       "      <td>...</td>\n",
       "    </tr>\n",
       "    <tr>\n",
       "      <th>178435</th>\n",
       "      <td>178435</td>\n",
       "      <td>0.000000</td>\n",
       "    </tr>\n",
       "    <tr>\n",
       "      <th>178436</th>\n",
       "      <td>178436</td>\n",
       "      <td>0.000000</td>\n",
       "    </tr>\n",
       "    <tr>\n",
       "      <th>178437</th>\n",
       "      <td>178437</td>\n",
       "      <td>0.000000</td>\n",
       "    </tr>\n",
       "    <tr>\n",
       "      <th>178438</th>\n",
       "      <td>178438</td>\n",
       "      <td>0.000000</td>\n",
       "    </tr>\n",
       "    <tr>\n",
       "      <th>178439</th>\n",
       "      <td>178439</td>\n",
       "      <td>0.000000</td>\n",
       "    </tr>\n",
       "  </tbody>\n",
       "</table>\n",
       "<p>178440 rows × 2 columns</p>\n",
       "</div>"
      ],
      "text/plain": [
       "        Twitter  Approximate Betweenness Centrality\n",
       "0           315                            0.190318\n",
       "1           604                            0.062197\n",
       "2         22272                            0.038206\n",
       "3         84402                            0.033510\n",
       "4          9955                            0.032288\n",
       "...         ...                                 ...\n",
       "178435   178435                            0.000000\n",
       "178436   178436                            0.000000\n",
       "178437   178437                            0.000000\n",
       "178438   178438                            0.000000\n",
       "178439   178439                            0.000000\n",
       "\n",
       "[178440 rows x 2 columns]"
      ]
     },
     "execution_count": 121,
     "metadata": {},
     "output_type": "execute_result"
    }
   ],
   "source": [
    "approximate_betweenness_centrality_df = pd.DataFrame(dict(approximate_betweenness_centrality.ranking()).items(), columns=['Twitter','Approximate Betweenness Centrality'])\n",
    "approximate_betweenness_centrality_df"
   ]
  },
  {
   "cell_type": "code",
   "execution_count": 122,
   "id": "nonprofit-teach",
   "metadata": {},
   "outputs": [],
   "source": [
    "approximate_betweenness_centrality_df = approximate_betweenness_centrality_df.merge(inverse_map_df, \n",
    "                                                                                    left_on=approximate_betweenness_centrality_df['Twitter'], \n",
    "                                                                                    right_on=inverse_map_df['Index'])[['Twitter_y','Approximate Betweenness Centrality']]"
   ]
  },
  {
   "cell_type": "code",
   "execution_count": 124,
   "id": "equivalent-dressing",
   "metadata": {},
   "outputs": [
    {
     "data": {
      "text/plain": [
       "178438"
      ]
     },
     "execution_count": 124,
     "metadata": {},
     "output_type": "execute_result"
    }
   ],
   "source": [
    "len(approximate_betweenness_centrality_df['Twitter_y'].unique())"
   ]
  },
  {
   "cell_type": "code",
   "execution_count": 138,
   "id": "overall-aging",
   "metadata": {},
   "outputs": [
    {
     "data": {
      "text/html": [
       "<div>\n",
       "<style scoped>\n",
       "    .dataframe tbody tr th:only-of-type {\n",
       "        vertical-align: middle;\n",
       "    }\n",
       "\n",
       "    .dataframe tbody tr th {\n",
       "        vertical-align: top;\n",
       "    }\n",
       "\n",
       "    .dataframe thead th {\n",
       "        text-align: right;\n",
       "    }\n",
       "</style>\n",
       "<table border=\"1\" class=\"dataframe\">\n",
       "  <thead>\n",
       "    <tr style=\"text-align: right;\">\n",
       "      <th></th>\n",
       "      <th>Twitter_ABC</th>\n",
       "      <th>Approximate Betweenness Centrality</th>\n",
       "    </tr>\n",
       "  </thead>\n",
       "  <tbody>\n",
       "    <tr>\n",
       "      <th>0</th>\n",
       "      <td>0120sakura0120</td>\n",
       "      <td>0.190318</td>\n",
       "    </tr>\n",
       "    <tr>\n",
       "      <th>1</th>\n",
       "      <td>yu_kom_huk</td>\n",
       "      <td>0.062197</td>\n",
       "    </tr>\n",
       "    <tr>\n",
       "      <th>2</th>\n",
       "      <td>08LJAPAN</td>\n",
       "      <td>0.038206</td>\n",
       "    </tr>\n",
       "    <tr>\n",
       "      <th>3</th>\n",
       "      <td>0120_tantakatan</td>\n",
       "      <td>0.033510</td>\n",
       "    </tr>\n",
       "    <tr>\n",
       "      <th>4</th>\n",
       "      <td>000_asami_000</td>\n",
       "      <td>0.032288</td>\n",
       "    </tr>\n",
       "    <tr>\n",
       "      <th>...</th>\n",
       "      <td>...</td>\n",
       "      <td>...</td>\n",
       "    </tr>\n",
       "    <tr>\n",
       "      <th>178434</th>\n",
       "      <td>yuzriha_h</td>\n",
       "      <td>0.000000</td>\n",
       "    </tr>\n",
       "    <tr>\n",
       "      <th>178426</th>\n",
       "      <td>uxI67hYZeh3lHb0</td>\n",
       "      <td>0.000000</td>\n",
       "    </tr>\n",
       "    <tr>\n",
       "      <th>178428</th>\n",
       "      <td>vert_320</td>\n",
       "      <td>0.000000</td>\n",
       "    </tr>\n",
       "    <tr>\n",
       "      <th>178429</th>\n",
       "      <td>vita_mineral</td>\n",
       "      <td>0.000000</td>\n",
       "    </tr>\n",
       "    <tr>\n",
       "      <th>89217</th>\n",
       "      <td>gg9_apink7</td>\n",
       "      <td>0.000000</td>\n",
       "    </tr>\n",
       "  </tbody>\n",
       "</table>\n",
       "<p>178438 rows × 2 columns</p>\n",
       "</div>"
      ],
      "text/plain": [
       "            Twitter_ABC  Approximate Betweenness Centrality\n",
       "0        0120sakura0120                            0.190318\n",
       "1            yu_kom_huk                            0.062197\n",
       "2              08LJAPAN                            0.038206\n",
       "3       0120_tantakatan                            0.033510\n",
       "4         000_asami_000                            0.032288\n",
       "...                 ...                                 ...\n",
       "178434        yuzriha_h                            0.000000\n",
       "178426  uxI67hYZeh3lHb0                            0.000000\n",
       "178428         vert_320                            0.000000\n",
       "178429     vita_mineral                            0.000000\n",
       "89217        gg9_apink7                            0.000000\n",
       "\n",
       "[178438 rows x 2 columns]"
      ]
     },
     "execution_count": 138,
     "metadata": {},
     "output_type": "execute_result"
    }
   ],
   "source": [
    "approximate_betweenness_centrality_df = approximate_betweenness_centrality_df.rename(columns={'Twitter_y': 'Twitter_ABC'})\n",
    "approximate_betweenness_centrality_df = approximate_betweenness_centrality_df.sort_values(by='Approximate Betweenness Centrality', ascending=False)\n",
    "#approximate_betweenness_centrality_df.to_csv('approx_betweenness_centrality.csv', index=False)\n",
    "approximate_betweenness_centrality_df"
   ]
  },
  {
   "cell_type": "raw",
   "id": "seasonal-italian",
   "metadata": {
    "cell_id": "00013-747b92a0-46ad-4bed-b33a-465e60f88560",
    "deepnote_cell_type": "code"
   },
   "source": [
    "betweenness_centrality = nx.betweenness_centrality(G)\n",
    "\n",
    "# sort by descending centrality\n",
    "#betweenness_centrality = sorted(((c, v) for v, c in betweenness_centrality.items()), reverse=True)\n",
    "betweenness_centrality =  pd.DataFrame(betweenness_centrality.items(), columns=['Twitter','Betweenness Centrality'])\n",
    "betweenness_centrality.head()"
   ]
  },
  {
   "cell_type": "markdown",
   "id": "extended-junction",
   "metadata": {
    "cell_id": "00014-35fe7e3a-3744-4894-96f7-4d058b0ce04a",
    "deepnote_cell_type": "markdown"
   },
   "source": [
    "### Closeness centrality: Finding endorsers\n",
    "#### A node is important if it is closer to other node "
   ]
  },
  {
   "cell_type": "code",
   "execution_count": null,
   "id": "muslim-abraham",
   "metadata": {
    "cell_id": "00015-de5e637f-6687-489e-8300-906de99720b9",
    "deepnote_cell_type": "code"
   },
   "outputs": [],
   "source": [
    "%%time\n",
    "closeness_centrality = nx.closeness_centrality(nxG)\n",
    "\n",
    "# sort by descending centrality\n",
    "#closeness_centrality = sorted(((c, v) for v, c in closeness_centrality.items()), reverse=True)\n",
    "closeness_centrality =  pd.DataFrame(closeness_centrality.items(), columns=['Twitter','Closeness Centrality'])\n",
    "closeness_centrality.head()"
   ]
  },
  {
   "cell_type": "markdown",
   "id": "informative-announcement",
   "metadata": {
    "cell_id": "00016-88cdc9d1-2729-4d6a-9017-fbad60a0e85a",
    "deepnote_cell_type": "markdown"
   },
   "source": [
    "### PageRank: Finding potential KOLs\n",
    "#### A node is important if it is refered to by many other nodes"
   ]
  },
  {
   "cell_type": "code",
   "execution_count": null,
   "id": "wooden-verification",
   "metadata": {
    "cell_id": "00017-06047576-cf36-4dbc-8c3b-b23cf77fd7fe",
    "deepnote_cell_type": "code"
   },
   "outputs": [],
   "source": [
    "page_rank = nx.pagerank(G)\n",
    "\n",
    "# sort by descending centrality\n",
    "#page_rank = sorted(((c, v) for v, c in page_rank.items()), reverse=True)\n",
    "page_rank =  pd.DataFrame(page_rank.items(), columns=['Twitter','PageRank'])\n",
    "page_rank.head()"
   ]
  },
  {
   "cell_type": "markdown",
   "id": "undefined-accessory",
   "metadata": {
    "created_in_deepnote_cell": true,
    "deepnote_cell_type": "markdown",
    "tags": []
   },
   "source": [
    "<a style='text-decoration:none;line-height:16px;display:flex;color:#5B5B62;padding:10px;justify-content:end;' href='https://deepnote.com?utm_source=created-in-deepnote-cell&projectId=01b9a5e9-be83-4637-a5db-f35632ba2c28' target=\"_blank\">\n",
    "<img alt='Created in deepnote.com' style='display:inline;max-height:16px;margin:0px;margin-right:7.5px;' src='data:image/svg+xml;base64,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' > </img>\n",
    "Created in <span style='font-weight:600;margin-left:4px;'>Deepnote</span></a>"
   ]
  }
 ],
 "metadata": {
  "deepnote": {},
  "deepnote_execution_queue": [],
  "deepnote_notebook_id": "fe0059d6-9639-4070-90de-1ca78ce8baef",
  "kernelspec": {
   "display_name": "Python 3",
   "language": "python",
   "name": "python3"
  },
  "language_info": {
   "codemirror_mode": {
    "name": "ipython",
    "version": 3
   },
   "file_extension": ".py",
   "mimetype": "text/x-python",
   "name": "python",
   "nbconvert_exporter": "python",
   "pygments_lexer": "ipython3",
   "version": "3.8.5"
  }
 },
 "nbformat": 4,
 "nbformat_minor": 5
}
