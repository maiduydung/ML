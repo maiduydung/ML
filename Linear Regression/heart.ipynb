{
 "cells": [
  {
   "cell_type": "code",
   "execution_count": 1,
   "metadata": {},
   "outputs": [],
   "source": [
    "import pandas as pd\n",
    "import numpy as np\n",
    "import matplotlib.pyplot as plt\n",
    "from tensorflow import feature_column\n",
    "from tensorflow import data, convert_to_tensor\n",
    "from tensorflow.keras import  layers, Sequential, losses\n",
    "from tensorflow.keras.callbacks import EarlyStopping\n",
    "\n",
    "\n",
    "from sklearn.model_selection import train_test_split\n"
   ]
  },
  {
   "cell_type": "code",
   "execution_count": 2,
   "metadata": {},
   "outputs": [
    {
     "data": {
      "text/html": [
       "<div>\n",
       "<style scoped>\n",
       "    .dataframe tbody tr th:only-of-type {\n",
       "        vertical-align: middle;\n",
       "    }\n",
       "\n",
       "    .dataframe tbody tr th {\n",
       "        vertical-align: top;\n",
       "    }\n",
       "\n",
       "    .dataframe thead th {\n",
       "        text-align: right;\n",
       "    }\n",
       "</style>\n",
       "<table border=\"1\" class=\"dataframe\">\n",
       "  <thead>\n",
       "    <tr style=\"text-align: right;\">\n",
       "      <th></th>\n",
       "      <th>age</th>\n",
       "      <th>sex</th>\n",
       "      <th>cp</th>\n",
       "      <th>trestbps</th>\n",
       "      <th>chol</th>\n",
       "      <th>fbs</th>\n",
       "      <th>restecg</th>\n",
       "      <th>thalach</th>\n",
       "      <th>exang</th>\n",
       "      <th>oldpeak</th>\n",
       "      <th>slope</th>\n",
       "      <th>ca</th>\n",
       "      <th>thal</th>\n",
       "      <th>target</th>\n",
       "    </tr>\n",
       "  </thead>\n",
       "  <tbody>\n",
       "    <tr>\n",
       "      <th>0</th>\n",
       "      <td>52</td>\n",
       "      <td>1</td>\n",
       "      <td>0</td>\n",
       "      <td>125</td>\n",
       "      <td>212</td>\n",
       "      <td>0</td>\n",
       "      <td>1</td>\n",
       "      <td>168</td>\n",
       "      <td>0</td>\n",
       "      <td>1.0</td>\n",
       "      <td>2</td>\n",
       "      <td>2</td>\n",
       "      <td>3</td>\n",
       "      <td>0</td>\n",
       "    </tr>\n",
       "    <tr>\n",
       "      <th>1</th>\n",
       "      <td>53</td>\n",
       "      <td>1</td>\n",
       "      <td>0</td>\n",
       "      <td>140</td>\n",
       "      <td>203</td>\n",
       "      <td>1</td>\n",
       "      <td>0</td>\n",
       "      <td>155</td>\n",
       "      <td>1</td>\n",
       "      <td>3.1</td>\n",
       "      <td>0</td>\n",
       "      <td>0</td>\n",
       "      <td>3</td>\n",
       "      <td>0</td>\n",
       "    </tr>\n",
       "    <tr>\n",
       "      <th>2</th>\n",
       "      <td>70</td>\n",
       "      <td>1</td>\n",
       "      <td>0</td>\n",
       "      <td>145</td>\n",
       "      <td>174</td>\n",
       "      <td>0</td>\n",
       "      <td>1</td>\n",
       "      <td>125</td>\n",
       "      <td>1</td>\n",
       "      <td>2.6</td>\n",
       "      <td>0</td>\n",
       "      <td>0</td>\n",
       "      <td>3</td>\n",
       "      <td>0</td>\n",
       "    </tr>\n",
       "    <tr>\n",
       "      <th>3</th>\n",
       "      <td>61</td>\n",
       "      <td>1</td>\n",
       "      <td>0</td>\n",
       "      <td>148</td>\n",
       "      <td>203</td>\n",
       "      <td>0</td>\n",
       "      <td>1</td>\n",
       "      <td>161</td>\n",
       "      <td>0</td>\n",
       "      <td>0.0</td>\n",
       "      <td>2</td>\n",
       "      <td>1</td>\n",
       "      <td>3</td>\n",
       "      <td>0</td>\n",
       "    </tr>\n",
       "    <tr>\n",
       "      <th>4</th>\n",
       "      <td>62</td>\n",
       "      <td>0</td>\n",
       "      <td>0</td>\n",
       "      <td>138</td>\n",
       "      <td>294</td>\n",
       "      <td>1</td>\n",
       "      <td>1</td>\n",
       "      <td>106</td>\n",
       "      <td>0</td>\n",
       "      <td>1.9</td>\n",
       "      <td>1</td>\n",
       "      <td>3</td>\n",
       "      <td>2</td>\n",
       "      <td>0</td>\n",
       "    </tr>\n",
       "    <tr>\n",
       "      <th>...</th>\n",
       "      <td>...</td>\n",
       "      <td>...</td>\n",
       "      <td>...</td>\n",
       "      <td>...</td>\n",
       "      <td>...</td>\n",
       "      <td>...</td>\n",
       "      <td>...</td>\n",
       "      <td>...</td>\n",
       "      <td>...</td>\n",
       "      <td>...</td>\n",
       "      <td>...</td>\n",
       "      <td>...</td>\n",
       "      <td>...</td>\n",
       "      <td>...</td>\n",
       "    </tr>\n",
       "    <tr>\n",
       "      <th>1020</th>\n",
       "      <td>59</td>\n",
       "      <td>1</td>\n",
       "      <td>1</td>\n",
       "      <td>140</td>\n",
       "      <td>221</td>\n",
       "      <td>0</td>\n",
       "      <td>1</td>\n",
       "      <td>164</td>\n",
       "      <td>1</td>\n",
       "      <td>0.0</td>\n",
       "      <td>2</td>\n",
       "      <td>0</td>\n",
       "      <td>2</td>\n",
       "      <td>1</td>\n",
       "    </tr>\n",
       "    <tr>\n",
       "      <th>1021</th>\n",
       "      <td>60</td>\n",
       "      <td>1</td>\n",
       "      <td>0</td>\n",
       "      <td>125</td>\n",
       "      <td>258</td>\n",
       "      <td>0</td>\n",
       "      <td>0</td>\n",
       "      <td>141</td>\n",
       "      <td>1</td>\n",
       "      <td>2.8</td>\n",
       "      <td>1</td>\n",
       "      <td>1</td>\n",
       "      <td>3</td>\n",
       "      <td>0</td>\n",
       "    </tr>\n",
       "    <tr>\n",
       "      <th>1022</th>\n",
       "      <td>47</td>\n",
       "      <td>1</td>\n",
       "      <td>0</td>\n",
       "      <td>110</td>\n",
       "      <td>275</td>\n",
       "      <td>0</td>\n",
       "      <td>0</td>\n",
       "      <td>118</td>\n",
       "      <td>1</td>\n",
       "      <td>1.0</td>\n",
       "      <td>1</td>\n",
       "      <td>1</td>\n",
       "      <td>2</td>\n",
       "      <td>0</td>\n",
       "    </tr>\n",
       "    <tr>\n",
       "      <th>1023</th>\n",
       "      <td>50</td>\n",
       "      <td>0</td>\n",
       "      <td>0</td>\n",
       "      <td>110</td>\n",
       "      <td>254</td>\n",
       "      <td>0</td>\n",
       "      <td>0</td>\n",
       "      <td>159</td>\n",
       "      <td>0</td>\n",
       "      <td>0.0</td>\n",
       "      <td>2</td>\n",
       "      <td>0</td>\n",
       "      <td>2</td>\n",
       "      <td>1</td>\n",
       "    </tr>\n",
       "    <tr>\n",
       "      <th>1024</th>\n",
       "      <td>54</td>\n",
       "      <td>1</td>\n",
       "      <td>0</td>\n",
       "      <td>120</td>\n",
       "      <td>188</td>\n",
       "      <td>0</td>\n",
       "      <td>1</td>\n",
       "      <td>113</td>\n",
       "      <td>0</td>\n",
       "      <td>1.4</td>\n",
       "      <td>1</td>\n",
       "      <td>1</td>\n",
       "      <td>3</td>\n",
       "      <td>0</td>\n",
       "    </tr>\n",
       "  </tbody>\n",
       "</table>\n",
       "<p>1025 rows × 14 columns</p>\n",
       "</div>"
      ],
      "text/plain": [
       "      age  sex  cp  trestbps  chol  fbs  restecg  thalach  exang  oldpeak  \\\n",
       "0      52    1   0       125   212    0        1      168      0      1.0   \n",
       "1      53    1   0       140   203    1        0      155      1      3.1   \n",
       "2      70    1   0       145   174    0        1      125      1      2.6   \n",
       "3      61    1   0       148   203    0        1      161      0      0.0   \n",
       "4      62    0   0       138   294    1        1      106      0      1.9   \n",
       "...   ...  ...  ..       ...   ...  ...      ...      ...    ...      ...   \n",
       "1020   59    1   1       140   221    0        1      164      1      0.0   \n",
       "1021   60    1   0       125   258    0        0      141      1      2.8   \n",
       "1022   47    1   0       110   275    0        0      118      1      1.0   \n",
       "1023   50    0   0       110   254    0        0      159      0      0.0   \n",
       "1024   54    1   0       120   188    0        1      113      0      1.4   \n",
       "\n",
       "      slope  ca  thal  target  \n",
       "0         2   2     3       0  \n",
       "1         0   0     3       0  \n",
       "2         0   0     3       0  \n",
       "3         2   1     3       0  \n",
       "4         1   3     2       0  \n",
       "...     ...  ..   ...     ...  \n",
       "1020      2   0     2       1  \n",
       "1021      1   1     3       0  \n",
       "1022      1   1     2       0  \n",
       "1023      2   0     2       1  \n",
       "1024      1   1     3       0  \n",
       "\n",
       "[1025 rows x 14 columns]"
      ]
     },
     "metadata": {},
     "output_type": "display_data"
    }
   ],
   "source": [
    "df = pd.read_csv('../datasets/heart-disease/heart.csv')\n",
    "display(df)\n",
    "\n"
   ]
  },
  {
   "cell_type": "code",
   "execution_count": 3,
   "metadata": {},
   "outputs": [
    {
     "data": {
      "text/plain": [
       "array([[<AxesSubplot:title={'center':'age'}>,\n",
       "        <AxesSubplot:title={'center':'ca'}>,\n",
       "        <AxesSubplot:title={'center':'chol'}>,\n",
       "        <AxesSubplot:title={'center':'cp'}>],\n",
       "       [<AxesSubplot:title={'center':'exang'}>,\n",
       "        <AxesSubplot:title={'center':'fbs'}>,\n",
       "        <AxesSubplot:title={'center':'oldpeak'}>,\n",
       "        <AxesSubplot:title={'center':'restecg'}>],\n",
       "       [<AxesSubplot:title={'center':'sex'}>,\n",
       "        <AxesSubplot:title={'center':'slope'}>,\n",
       "        <AxesSubplot:title={'center':'target'}>,\n",
       "        <AxesSubplot:title={'center':'thal'}>],\n",
       "       [<AxesSubplot:title={'center':'thalach'}>,\n",
       "        <AxesSubplot:title={'center':'trestbps'}>, <AxesSubplot:>,\n",
       "        <AxesSubplot:>]], dtype=object)"
      ]
     },
     "execution_count": 3,
     "metadata": {},
     "output_type": "execute_result"
    },
    {
     "data": {
      "image/png": "[encoded data removed]",
      "text/plain": [
       "<Figure size 1440x1080 with 16 Axes>"
      ]
     },
     "metadata": {
      "needs_background": "light"
     },
     "output_type": "display_data"
    }
   ],
   "source": [
    "df.hist(figsize=(20,15))"
   ]
  },
  {
   "cell_type": "code",
   "execution_count": 4,
   "metadata": {},
   "outputs": [
    {
     "name": "stdout",
     "output_type": "stream",
     "text": [
      "(656, 14)\n",
      "(164, 14)\n",
      "(205, 14)\n"
     ]
    }
   ],
   "source": [
    "train, test = train_test_split(df, test_size = 0.2)\n",
    "train, val  = train_test_split(train, test_size = 0.2)\n",
    "print(train.shape)\n",
    "print(val.shape)\n",
    "print(test.shape)"
   ]
  },
  {
   "cell_type": "code",
   "execution_count": 6,
   "metadata": {},
   "outputs": [],
   "source": [
    "#wraping dataframe with tf.data\n",
    "def df_to_dataset(df, shuffle = True, batch_size = 32):\n",
    "    dataframe = df.copy()\n",
    "    labels = df.pop('target')\n",
    "    ds = data.Dataset.from_tensor_slices((dict(dataframe), labels))\n",
    "    if shuffle:\n",
    "        ds = ds.shuffle(buffer_size=len(dataframe))\n",
    "    ds = ds.batch(batch_size)\n",
    "    return ds\n"
   ]
  },
  {
   "cell_type": "code",
   "execution_count": 7,
   "metadata": {},
   "outputs": [],
   "source": [
    "batch_size = 5\n",
    "train_ds = df_to_dataset(train, batch_size = batch_size)\n",
    "val_ds = df_to_dataset(val, batch_size = batch_size)\n",
    "test_ds = df_to_dataset(test, batch_size = batch_size)"
   ]
  },
  {
   "cell_type": "code",
   "execution_count": 8,
   "metadata": {},
   "outputs": [
    {
     "data": {
      "text/plain": [
       "Index(['age', 'sex', 'cp', 'trestbps', 'chol', 'fbs', 'restecg', 'thalach',\n",
       "       'exang', 'oldpeak', 'slope', 'ca', 'thal'],\n",
       "      dtype='object')"
      ]
     },
     "execution_count": 8,
     "metadata": {},
     "output_type": "execute_result"
    }
   ],
   "source": [
    "df.columns[:-1]"
   ]
  },
  {
   "cell_type": "code",
   "execution_count": 22,
   "metadata": {},
   "outputs": [
    {
     "data": {
      "text/plain": [
       "[NumericColumn(key='age', shape=(1,), default_value=None, dtype=tf.float32, normalizer_fn=None),\n",
       " NumericColumn(key='sex', shape=(1,), default_value=None, dtype=tf.float32, normalizer_fn=None),\n",
       " NumericColumn(key='cp', shape=(1,), default_value=None, dtype=tf.float32, normalizer_fn=None),\n",
       " NumericColumn(key='trestbps', shape=(1,), default_value=None, dtype=tf.float32, normalizer_fn=None),\n",
       " NumericColumn(key='chol', shape=(1,), default_value=None, dtype=tf.float32, normalizer_fn=None),\n",
       " NumericColumn(key='fbs', shape=(1,), default_value=None, dtype=tf.float32, normalizer_fn=None),\n",
       " NumericColumn(key='restecg', shape=(1,), default_value=None, dtype=tf.float32, normalizer_fn=None),\n",
       " NumericColumn(key='thalach', shape=(1,), default_value=None, dtype=tf.float32, normalizer_fn=None),\n",
       " NumericColumn(key='exang', shape=(1,), default_value=None, dtype=tf.float32, normalizer_fn=None),\n",
       " NumericColumn(key='oldpeak', shape=(1,), default_value=None, dtype=tf.float32, normalizer_fn=None),\n",
       " NumericColumn(key='slope', shape=(1,), default_value=None, dtype=tf.float32, normalizer_fn=None),\n",
       " NumericColumn(key='ca', shape=(1,), default_value=None, dtype=tf.float32, normalizer_fn=None),\n",
       " NumericColumn(key='thal', shape=(1,), default_value=None, dtype=tf.float32, normalizer_fn=None)]"
      ]
     },
     "execution_count": 22,
     "metadata": {},
     "output_type": "execute_result"
    }
   ],
   "source": [
    "# Getting list of features\n",
    "# Ignoring the 'target'\n",
    "features = []\n",
    "\n",
    "for f in list(df.columns[:-1]):\n",
    "    features.append(feature_column.numeric_column(f))\n",
    "features"
   ]
  },
  {
   "cell_type": "markdown",
   "metadata": {},
   "source": [
    "#### For structured data we need to use feature layer"
   ]
  },
  {
   "cell_type": "code",
   "execution_count": 10,
   "metadata": {},
   "outputs": [],
   "source": [
    "feature_layer = layers.DenseFeatures(features)\n"
   ]
  },
  {
   "cell_type": "code",
   "execution_count": 11,
   "metadata": {},
   "outputs": [],
   "source": [
    "#early_stopping\n",
    "es_cb = EarlyStopping(monitor='val_loss', patience=10, verbose=1, mode='auto')"
   ]
  },
  {
   "cell_type": "code",
   "execution_count": 23,
   "metadata": {},
   "outputs": [
    {
     "name": "stdout",
     "output_type": "stream",
     "text": [
      "Train for 132 steps, validate for 33 steps\n",
      "Epoch 1/200\n",
      "132/132 [==============================] - 1s 9ms/step - loss: 1.9324 - accuracy: 0.6540 - val_loss: 1.1573 - val_accuracy: 0.6037\n",
      "Epoch 2/200\n",
      "132/132 [==============================] - 0s 2ms/step - loss: 1.1265 - accuracy: 0.6280 - val_loss: 0.6066 - val_accuracy: 0.6220\n",
      "Epoch 3/200\n",
      "132/132 [==============================] - 0s 2ms/step - loss: 0.6592 - accuracy: 0.6921 - val_loss: 0.6398 - val_accuracy: 0.6463\n",
      "Epoch 4/200\n",
      "132/132 [==============================] - 0s 2ms/step - loss: 0.5863 - accuracy: 0.7134 - val_loss: 0.6101 - val_accuracy: 0.5976\n",
      "Epoch 5/200\n",
      "132/132 [==============================] - 0s 2ms/step - loss: 0.5778 - accuracy: 0.7119 - val_loss: 0.7659 - val_accuracy: 0.5549\n",
      "Epoch 6/200\n",
      "132/132 [==============================] - 0s 3ms/step - loss: 0.5599 - accuracy: 0.7012 - val_loss: 0.6491 - val_accuracy: 0.5610\n",
      "Epoch 7/200\n",
      "132/132 [==============================] - 0s 2ms/step - loss: 0.4976 - accuracy: 0.7515 - val_loss: 0.5630 - val_accuracy: 0.6280\n",
      "Epoch 8/200\n",
      "132/132 [==============================] - 0s 3ms/step - loss: 0.4886 - accuracy: 0.7500 - val_loss: 0.5769 - val_accuracy: 0.5854\n",
      "Epoch 9/200\n",
      "132/132 [==============================] - 0s 2ms/step - loss: 0.4774 - accuracy: 0.7561 - val_loss: 0.4632 - val_accuracy: 0.6951\n",
      "Epoch 10/200\n",
      "132/132 [==============================] - 0s 2ms/step - loss: 0.4771 - accuracy: 0.7500 - val_loss: 0.5041 - val_accuracy: 0.6646\n",
      "Epoch 11/200\n",
      "132/132 [==============================] - 0s 2ms/step - loss: 0.4766 - accuracy: 0.7515 - val_loss: 0.5958 - val_accuracy: 0.5610\n",
      "Epoch 12/200\n",
      "132/132 [==============================] - 0s 2ms/step - loss: 0.4644 - accuracy: 0.7561 - val_loss: 0.4705 - val_accuracy: 0.7134\n",
      "Epoch 13/200\n",
      "132/132 [==============================] - 0s 3ms/step - loss: 0.4690 - accuracy: 0.7698 - val_loss: 0.5489 - val_accuracy: 0.6098\n",
      "Epoch 14/200\n",
      "132/132 [==============================] - 0s 2ms/step - loss: 0.4717 - accuracy: 0.7591 - val_loss: 0.4367 - val_accuracy: 0.8171\n",
      "Epoch 15/200\n",
      "132/132 [==============================] - 0s 2ms/step - loss: 0.4941 - accuracy: 0.7332 - val_loss: 0.4924 - val_accuracy: 0.6890\n",
      "Epoch 16/200\n",
      "132/132 [==============================] - 0s 2ms/step - loss: 0.4503 - accuracy: 0.7805 - val_loss: 0.4756 - val_accuracy: 0.6890\n",
      "Epoch 17/200\n",
      "132/132 [==============================] - 0s 2ms/step - loss: 0.4285 - accuracy: 0.8064 - val_loss: 0.8137 - val_accuracy: 0.5244\n",
      "Epoch 18/200\n",
      "132/132 [==============================] - 0s 2ms/step - loss: 0.4650 - accuracy: 0.7515 - val_loss: 0.5867 - val_accuracy: 0.6220\n",
      "Epoch 19/200\n",
      "132/132 [==============================] - 0s 2ms/step - loss: 0.4125 - accuracy: 0.7866 - val_loss: 0.5810 - val_accuracy: 0.6220\n",
      "Epoch 20/200\n",
      "132/132 [==============================] - 0s 2ms/step - loss: 0.4449 - accuracy: 0.7698 - val_loss: 0.4312 - val_accuracy: 0.7378\n",
      "Epoch 21/200\n",
      "132/132 [==============================] - 0s 2ms/step - loss: 0.4124 - accuracy: 0.7973 - val_loss: 0.3638 - val_accuracy: 0.8537\n",
      "Epoch 22/200\n",
      "132/132 [==============================] - 0s 2ms/step - loss: 0.4442 - accuracy: 0.7866 - val_loss: 0.4028 - val_accuracy: 0.7683\n",
      "Epoch 23/200\n",
      "132/132 [==============================] - 0s 2ms/step - loss: 0.4072 - accuracy: 0.7896 - val_loss: 0.3639 - val_accuracy: 0.8659\n",
      "Epoch 24/200\n",
      "132/132 [==============================] - 0s 2ms/step - loss: 0.4352 - accuracy: 0.7729 - val_loss: 0.3625 - val_accuracy: 0.8110\n",
      "Epoch 25/200\n",
      "132/132 [==============================] - 0s 2ms/step - loss: 0.3954 - accuracy: 0.7957 - val_loss: 0.4011 - val_accuracy: 0.7378\n",
      "Epoch 26/200\n",
      "132/132 [==============================] - 0s 2ms/step - loss: 0.4086 - accuracy: 0.8003 - val_loss: 0.4401 - val_accuracy: 0.8232\n",
      "Epoch 27/200\n",
      "132/132 [==============================] - 0s 2ms/step - loss: 0.3802 - accuracy: 0.8262 - val_loss: 0.4957 - val_accuracy: 0.7012\n",
      "Epoch 28/200\n",
      "132/132 [==============================] - 0s 2ms/step - loss: 0.3909 - accuracy: 0.8125 - val_loss: 0.3691 - val_accuracy: 0.7805\n",
      "Epoch 29/200\n",
      "132/132 [==============================] - 0s 2ms/step - loss: 0.3719 - accuracy: 0.8323 - val_loss: 0.3578 - val_accuracy: 0.8598\n",
      "Epoch 30/200\n",
      "132/132 [==============================] - 0s 2ms/step - loss: 0.3871 - accuracy: 0.8110 - val_loss: 0.4485 - val_accuracy: 0.7317\n",
      "Epoch 31/200\n",
      "132/132 [==============================] - 0s 2ms/step - loss: 0.3957 - accuracy: 0.8110 - val_loss: 0.3480 - val_accuracy: 0.8537\n",
      "Epoch 32/200\n",
      "132/132 [==============================] - 0s 2ms/step - loss: 0.3879 - accuracy: 0.8155 - val_loss: 0.3630 - val_accuracy: 0.7927\n",
      "Epoch 33/200\n",
      "132/132 [==============================] - 0s 2ms/step - loss: 0.3727 - accuracy: 0.8201 - val_loss: 0.3898 - val_accuracy: 0.7744\n",
      "Epoch 34/200\n",
      "132/132 [==============================] - 0s 2ms/step - loss: 0.3561 - accuracy: 0.8247 - val_loss: 0.3641 - val_accuracy: 0.8598\n",
      "Epoch 35/200\n",
      "132/132 [==============================] - 0s 2ms/step - loss: 0.3457 - accuracy: 0.8445 - val_loss: 0.3593 - val_accuracy: 0.8537\n",
      "Epoch 36/200\n",
      "132/132 [==============================] - 0s 2ms/step - loss: 0.3548 - accuracy: 0.8338 - val_loss: 0.3482 - val_accuracy: 0.8232\n",
      "Epoch 37/200\n",
      "132/132 [==============================] - 0s 2ms/step - loss: 0.3598 - accuracy: 0.8338 - val_loss: 0.3715 - val_accuracy: 0.8049\n",
      "Epoch 38/200\n",
      "132/132 [==============================] - 0s 2ms/step - loss: 0.3548 - accuracy: 0.8293 - val_loss: 0.3534 - val_accuracy: 0.8171\n",
      "Epoch 39/200\n",
      "132/132 [==============================] - 0s 2ms/step - loss: 0.3742 - accuracy: 0.8293 - val_loss: 0.3988 - val_accuracy: 0.7683\n",
      "Epoch 40/200\n",
      "132/132 [==============================] - 0s 2ms/step - loss: 0.4009 - accuracy: 0.8003 - val_loss: 0.3558 - val_accuracy: 0.8415\n",
      "Epoch 41/200\n",
      "132/132 [==============================] - 0s 2ms/step - loss: 0.3789 - accuracy: 0.8308 - val_loss: 0.4041 - val_accuracy: 0.7256\n",
      "Epoch 00041: early stopping\n"
     ]
    }
   ],
   "source": [
    "model = Sequential([\n",
    "    feature_layer,\n",
    "    layers.Dense(128, activation='relu'),\n",
    "    layers.Dense(128, activation='relu'),\n",
    "    layers.Dropout(.1),\n",
    "    layers.Dense(1)\n",
    "])\n",
    "model.compile(optimizer='adam', loss=losses.BinaryCrossentropy(from_logits=True), metrics=['accuracy'])\n",
    "\n",
    "fit_log = model.fit(train_ds, validation_data=val_ds, epochs=200, callbacks=[es_cb])"
   ]
  },
  {
   "cell_type": "code",
   "execution_count": 31,
   "metadata": {},
   "outputs": [
    {
     "data": {
      "image/png": "[encoded data removed]",
      "text/plain": [
       "<Figure size 432x288 with 1 Axes>"
      ]
     },
     "metadata": {
      "needs_background": "light"
     },
     "output_type": "display_data"
    }
   ],
   "source": [
    "loss = fit_log.history['loss']\n",
    "val_loss = fit_log.history['val_loss']\n",
    "epochs = range(1, len(loss) + 1)\n",
    "plt.plot(epochs, loss, label=\"loss\" )\n",
    "plt.plot(epochs, val_loss, label=\"val_loss\")\n",
    "plt.title(\"Training and Validation loss\")\n",
    "plt.xlabel('Epoch')\n",
    "plt.ylabel('Loss / Val_loss')\n",
    "plt.legend()\n",
    "plt.show()"
   ]
  },
  {
   "cell_type": "code",
   "execution_count": 24,
   "metadata": {},
   "outputs": [
    {
     "name": "stdout",
     "output_type": "stream",
     "text": [
      "41/41 [==============================] - 0s 1ms/step - loss: 0.4833 - accuracy: 0.6829\n"
     ]
    },
    {
     "data": {
      "text/plain": [
       "[0.48326368993375357, 0.68292683]"
      ]
     },
     "execution_count": 24,
     "metadata": {},
     "output_type": "execute_result"
    }
   ],
   "source": [
    "model.evaluate(test_ds)"
   ]
  },
  {
   "cell_type": "code",
   "execution_count": 25,
   "metadata": {},
   "outputs": [
    {
     "name": "stdout",
     "output_type": "stream",
     "text": [
      "INFO:tensorflow:Assets written to: heart_disease_classifier\\assets\n"
     ]
    }
   ],
   "source": [
    "model.save('heart_disease_classifier')"
   ]
  },
  {
   "cell_type": "markdown",
   "metadata": {},
   "source": [
    "##### Showing probability"
   ]
  },
  {
   "cell_type": "code",
   "execution_count": 26,
   "metadata": {},
   "outputs": [],
   "source": [
    " from tensorflow import nn\n",
    "\n",
    " pred = model.predict(test_ds)\n",
    " prob = nn.sigmoid(pred[0])"
   ]
  },
  {
   "cell_type": "code",
   "execution_count": 27,
   "metadata": {},
   "outputs": [
    {
     "name": "stdout",
     "output_type": "stream",
     "text": [
      "This person had a 45.4 percent probability of getting heart decease.\n"
     ]
    }
   ],
   "source": [
    "print(\n",
    "    \"This person had a %.1f percent probability \"\n",
    "    \"of getting heart decease.\" % (100 * prob)\n",
    ")"
   ]
  },
  {
   "cell_type": "code",
   "execution_count": null,
   "metadata": {},
   "outputs": [],
   "source": []
  }
 ],
 "metadata": {
  "kernelspec": {
   "display_name": "Python 3",
   "language": "python",
   "name": "python3"
  },
  "language_info": {
   "codemirror_mode": {
    "name": "ipython",
    "version": 3
   },
   "file_extension": ".py",
   "mimetype": "text/x-python",
   "name": "python",
   "nbconvert_exporter": "python",
   "pygments_lexer": "ipython3",
   "version": "3.6.12"
  }
 },
 "nbformat": 4,
 "nbformat_minor": 4
}
