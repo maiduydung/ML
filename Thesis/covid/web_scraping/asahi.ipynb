{
 "cells": [
  {
   "cell_type": "code",
   "execution_count": 103,
   "source": [
    "# Import Module\r\n",
    "from bs4 import BeautifulSoup\r\n",
    "import requests\r\n",
    "html = requests.get('https://www.asahi.com/ajw/articles/14418406')\r\n",
    "soup = BeautifulSoup(html.text,'html.parser')\r\n",
    "\r\n",
    "\r\n",
    "news_article = soup.find(['div'], class_='ArticleTitle').find('h1')\r\n",
    "news_article = [string for string in news_article.stripped_strings][0]\r\n",
    "\r\n",
    "news_writer = soup.find(['p'], class_='EnArticleName')\r\n",
    "news_writer = [string for string in news_writer.stripped_strings][0]\r\n",
    "\r\n",
    "news_written_date =  soup.find(['p'], class_='EnLastUpdated')\r\n",
    "news_written_date = [string for string in news_written_date.stripped_strings][0]\r\n",
    "\r\n",
    "news_text =  soup.find(['div'], class_='ArticleText')\r\n",
    "news_text = [string for string in news_text.stripped_strings]\r\n",
    "\r\n",
    "\r\n",
    "\r\n",
    "\r\n",
    "\r\n",
    "\r\n",
    "\r\n",
    "\r\n",
    "\r\n"
   ],
   "outputs": [],
   "metadata": {}
  },
  {
   "cell_type": "code",
   "execution_count": 104,
   "source": [
    "news_text"
   ],
   "outputs": [
    {
     "output_type": "execute_result",
     "data": {
      "text/plain": [
       "['Make way for the new class of 2021.',\n",
       " 'Veteran Lower House members from both ruling and opposition parties have said they intend to retire by not seeking re-election this autumn, a move expected to accelerate a generational shift.',\n",
       " 'Bunmei Ibuki of the ruling Liberal Democratic Party, the oldest Lower House member, announced that he will not run in the next Lower House election, citing his advanced age and his graying campaign staff.',\n",
       " '“I will not remain in the Diet unless I am absolutely confident I will be OK,” the 83-year-old politician who hails from the Kyoto No. 1 constituency told a news conference at the Kyoto prefectural government office in June.',\n",
       " 'Ibuki, who first won a Lower House seat in 1983, has been elected to the chamber twelve times. The warhorse served as Lower House speaker, education minister, finance minister and LDP secretary-general.',\n",
       " 'Known as an “adviser in the political world,” Ibuki has made his presence felt by openly criticizing the administration from time to time.',\n",
       " 'A 47-year-old former bureaucrat of the internal affairs ministry will run as his successor in the upcoming election, which must be called before the terms of the incumbent Lower House members expire on Oct. 21.',\n",
       " 'Other LDP veterans who will retire from politics include Lower House Speaker Tadamori Oshima, 74, who served as agriculture minister as well as party secretary-general and vice president; Wataru Takeshita, 74, who heads his own intraparty faction; and Ichiro Kamoshita, 72, a former environment minister.',\n",
       " 'Takeshita, a younger brother of the late former Prime Minister Noboru Takeshita, cited health problems.',\n",
       " 'With political dynasties still common in Japan, relatives plan to take over seats in some cases.',\n",
       " 'Yasuhisa Shiozaki, 70, chief Cabinet secretary under Shinzo Abe during his first stint as prime minister, Taimei Yamaguchi, 72, chairman of the LDP’s Election Strategy Committee, and Jiro Kawasaki, 73, a former health minister, said they will not run again.',\n",
       " 'In all three electoral districts, their sons will seek seats to replace them.',\n",
       " 'A generational shift is also expected within the ranks of Komeito, the LDP’s junior coalition partner.',\n",
       " 'Akihiro Ota, 75, a former party chief, will make way for a new party candidate in his Tokyo No. 12 constituency.',\n",
       " 'In the opposition camp, Hirotaka Akamatsu of the Constitutional Democratic Party of Japan, 73, vice speaker of the Lower House, and Kantoku Teruya of the Social Democratic Party, 76, who chaired the party’s Diet affairs committee, said they will retire.',\n",
       " 'Akamatsu, who heads the DPJ’s largest liberal faction, has supported party leader Yukio Edano.',\n",
       " 'Shiori Yamao of the Democratic Party for the People said she will not run in the upcoming election.',\n",
       " 'The 47-year-old outspoken politician noted on social media in June that she “wants to close one chapter in my political career at the end of my current term.”']"
      ]
     },
     "metadata": {},
     "execution_count": 104
    }
   ],
   "metadata": {}
  },
  {
   "cell_type": "code",
   "execution_count": null,
   "source": [],
   "outputs": [],
   "metadata": {}
  }
 ],
 "metadata": {
  "kernelspec": {
   "name": "python3",
   "display_name": "Python 3.8.5 64-bit ('tf': conda)"
  },
  "language_info": {
   "codemirror_mode": {
    "name": "ipython",
    "version": 3
   },
   "file_extension": ".py",
   "mimetype": "text/x-python",
   "name": "python",
   "nbconvert_exporter": "python",
   "pygments_lexer": "ipython3",
   "version": "3.8.5"
  },
  "interpreter": {
   "hash": "de2e53c54550ee6885339aa429af7d301a27ecab7db6edb4eecbf0ffb12c09f2"
  }
 },
 "nbformat": 4,
 "nbformat_minor": 5
}