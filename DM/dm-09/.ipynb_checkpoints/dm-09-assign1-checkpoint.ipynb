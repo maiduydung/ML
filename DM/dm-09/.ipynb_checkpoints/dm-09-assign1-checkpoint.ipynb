{
 "cells": [
  {
   "cell_type": "code",
   "execution_count": null,
   "id": "related-economy",
   "metadata": {},
   "outputs": [],
   "source": [
    "def get_sim_ser_by_pearson2(df_users, ser_target):\n",
    "    corr_all = df_users.corrwith(ser_target, axis=1).dropna()\n",
    "    corr_all = (1+corr_all)/2\n",
    "    return corr_all"
   ]
  }
 ],
 "metadata": {
  "kernelspec": {
   "display_name": "Python 3",
   "language": "python",
   "name": "python3"
  },
  "language_info": {
   "codemirror_mode": {
    "name": "ipython",
    "version": 3
   },
   "file_extension": ".py",
   "mimetype": "text/x-python",
   "name": "python",
   "nbconvert_exporter": "python",
   "pygments_lexer": "ipython3",
   "version": "3.8.5"
  }
 },
 "nbformat": 4,
 "nbformat_minor": 5
}
