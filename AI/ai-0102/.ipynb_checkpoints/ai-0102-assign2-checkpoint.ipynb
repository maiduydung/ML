{
 "cells": [
  {
   "cell_type": "markdown",
   "id": "exact-death",
   "metadata": {},
   "source": [
    "##### 1"
   ]
  },
  {
   "cell_type": "code",
   "execution_count": 76,
   "id": "signed-annual",
   "metadata": {},
   "outputs": [],
   "source": [
    "import pandas as pd\n",
    "import numpy as np"
   ]
  },
  {
   "cell_type": "markdown",
   "id": "honest-humanity",
   "metadata": {},
   "source": [
    "##### 2"
   ]
  },
  {
   "cell_type": "code",
   "execution_count": 77,
   "id": "quantitative-coupon",
   "metadata": {},
   "outputs": [
    {
     "name": "stdout",
     "output_type": "stream",
     "text": [
      "(376, 5)\n",
      "<class 'pandas.core.frame.DataFrame'>\n",
      "RangeIndex: 376 entries, 0 to 375\n",
      "Data columns (total 5 columns):\n",
      " #   Column   Non-Null Count  Dtype \n",
      "---  ------   --------------  ----- \n",
      " 0   ShopID   376 non-null    int64 \n",
      " 1   Pref     376 non-null    object\n",
      " 2   Product  376 non-null    object\n",
      " 3   Price    376 non-null    int64 \n",
      " 4   Amount   376 non-null    int64 \n",
      "dtypes: int64(3), object(2)\n",
      "memory usage: 14.8+ KB\n",
      "None\n"
     ]
    },
    {
     "data": {
      "text/html": [
       "<div>\n",
       "<style scoped>\n",
       "    .dataframe tbody tr th:only-of-type {\n",
       "        vertical-align: middle;\n",
       "    }\n",
       "\n",
       "    .dataframe tbody tr th {\n",
       "        vertical-align: top;\n",
       "    }\n",
       "\n",
       "    .dataframe thead th {\n",
       "        text-align: right;\n",
       "    }\n",
       "</style>\n",
       "<table border=\"1\" class=\"dataframe\">\n",
       "  <thead>\n",
       "    <tr style=\"text-align: right;\">\n",
       "      <th></th>\n",
       "      <th>ShopID</th>\n",
       "      <th>Pref</th>\n",
       "      <th>Product</th>\n",
       "      <th>Price</th>\n",
       "      <th>Amount</th>\n",
       "    </tr>\n",
       "  </thead>\n",
       "  <tbody>\n",
       "    <tr>\n",
       "      <th>0</th>\n",
       "      <td>18</td>\n",
       "      <td>Kanagawa</td>\n",
       "      <td>BAT</td>\n",
       "      <td>13800</td>\n",
       "      <td>10</td>\n",
       "    </tr>\n",
       "    <tr>\n",
       "      <th>1</th>\n",
       "      <td>18</td>\n",
       "      <td>Kanagawa</td>\n",
       "      <td>UNIFORM</td>\n",
       "      <td>11800</td>\n",
       "      <td>12</td>\n",
       "    </tr>\n",
       "    <tr>\n",
       "      <th>2</th>\n",
       "      <td>18</td>\n",
       "      <td>Kanagawa</td>\n",
       "      <td>GLOVE</td>\n",
       "      <td>16700</td>\n",
       "      <td>10</td>\n",
       "    </tr>\n",
       "    <tr>\n",
       "      <th>3</th>\n",
       "      <td>18</td>\n",
       "      <td>Kanagawa</td>\n",
       "      <td>SHOES</td>\n",
       "      <td>12800</td>\n",
       "      <td>10</td>\n",
       "    </tr>\n",
       "    <tr>\n",
       "      <th>4</th>\n",
       "      <td>30</td>\n",
       "      <td>Ibaraki</td>\n",
       "      <td>BAT</td>\n",
       "      <td>13800</td>\n",
       "      <td>8</td>\n",
       "    </tr>\n",
       "  </tbody>\n",
       "</table>\n",
       "</div>"
      ],
      "text/plain": [
       "   ShopID      Pref  Product  Price  Amount\n",
       "0      18  Kanagawa      BAT  13800      10\n",
       "1      18  Kanagawa  UNIFORM  11800      12\n",
       "2      18  Kanagawa    GLOVE  16700      10\n",
       "3      18  Kanagawa    SHOES  12800      10\n",
       "4      30   Ibaraki      BAT  13800       8"
      ]
     },
     "metadata": {},
     "output_type": "display_data"
    }
   ],
   "source": [
    "df = pd.read_csv('baseball_shop.csv')\n",
    "print(df.shape)\n",
    "print(df.info())\n",
    "display(df.head())"
   ]
  },
  {
   "cell_type": "markdown",
   "id": "joined-company",
   "metadata": {},
   "source": [
    "##### 3"
   ]
  },
  {
   "cell_type": "code",
   "execution_count": 78,
   "id": "maritime-mailman",
   "metadata": {},
   "outputs": [
    {
     "data": {
      "text/plain": [
       "Tokyo       68\n",
       "Kanagawa    68\n",
       "Chiba       64\n",
       "Saitama     48\n",
       "Ibaraki     48\n",
       "Gunma       40\n",
       "Tochigi     40\n",
       "Name: Pref, dtype: int64"
      ]
     },
     "execution_count": 78,
     "metadata": {},
     "output_type": "execute_result"
    }
   ],
   "source": [
    "df['Pref'].value_counts()"
   ]
  },
  {
   "cell_type": "markdown",
   "id": "crucial-happening",
   "metadata": {},
   "source": [
    "##### 4 "
   ]
  },
  {
   "cell_type": "code",
   "execution_count": 79,
   "id": "yellow-medline",
   "metadata": {},
   "outputs": [
    {
     "name": "stdout",
     "output_type": "stream",
     "text": [
      "Number of shops: 94\n"
     ]
    }
   ],
   "source": [
    "print(\"Number of shops:\",len(df['ShopID'].value_counts()))"
   ]
  },
  {
   "cell_type": "markdown",
   "id": "hybrid-momentum",
   "metadata": {},
   "source": [
    "##### 5"
   ]
  },
  {
   "cell_type": "code",
   "execution_count": 80,
   "id": "noted-decimal",
   "metadata": {},
   "outputs": [
    {
     "data": {
      "text/html": [
       "<div>\n",
       "<style scoped>\n",
       "    .dataframe tbody tr th:only-of-type {\n",
       "        vertical-align: middle;\n",
       "    }\n",
       "\n",
       "    .dataframe tbody tr th {\n",
       "        vertical-align: top;\n",
       "    }\n",
       "\n",
       "    .dataframe thead th {\n",
       "        text-align: right;\n",
       "    }\n",
       "</style>\n",
       "<table border=\"1\" class=\"dataframe\">\n",
       "  <thead>\n",
       "    <tr style=\"text-align: right;\">\n",
       "      <th></th>\n",
       "      <th>ShopID</th>\n",
       "      <th>Pref</th>\n",
       "      <th>Product</th>\n",
       "      <th>Price</th>\n",
       "      <th>Amount</th>\n",
       "      <th>Sales</th>\n",
       "    </tr>\n",
       "  </thead>\n",
       "  <tbody>\n",
       "    <tr>\n",
       "      <th>0</th>\n",
       "      <td>18</td>\n",
       "      <td>Kanagawa</td>\n",
       "      <td>BAT</td>\n",
       "      <td>13800</td>\n",
       "      <td>10</td>\n",
       "      <td>138000</td>\n",
       "    </tr>\n",
       "    <tr>\n",
       "      <th>1</th>\n",
       "      <td>18</td>\n",
       "      <td>Kanagawa</td>\n",
       "      <td>UNIFORM</td>\n",
       "      <td>11800</td>\n",
       "      <td>12</td>\n",
       "      <td>141600</td>\n",
       "    </tr>\n",
       "    <tr>\n",
       "      <th>2</th>\n",
       "      <td>18</td>\n",
       "      <td>Kanagawa</td>\n",
       "      <td>GLOVE</td>\n",
       "      <td>16700</td>\n",
       "      <td>10</td>\n",
       "      <td>167000</td>\n",
       "    </tr>\n",
       "    <tr>\n",
       "      <th>3</th>\n",
       "      <td>18</td>\n",
       "      <td>Kanagawa</td>\n",
       "      <td>SHOES</td>\n",
       "      <td>12800</td>\n",
       "      <td>10</td>\n",
       "      <td>128000</td>\n",
       "    </tr>\n",
       "    <tr>\n",
       "      <th>4</th>\n",
       "      <td>30</td>\n",
       "      <td>Ibaraki</td>\n",
       "      <td>BAT</td>\n",
       "      <td>13800</td>\n",
       "      <td>8</td>\n",
       "      <td>110400</td>\n",
       "    </tr>\n",
       "  </tbody>\n",
       "</table>\n",
       "</div>"
      ],
      "text/plain": [
       "   ShopID      Pref  Product  Price  Amount   Sales\n",
       "0      18  Kanagawa      BAT  13800      10  138000\n",
       "1      18  Kanagawa  UNIFORM  11800      12  141600\n",
       "2      18  Kanagawa    GLOVE  16700      10  167000\n",
       "3      18  Kanagawa    SHOES  12800      10  128000\n",
       "4      30   Ibaraki      BAT  13800       8  110400"
      ]
     },
     "execution_count": 80,
     "metadata": {},
     "output_type": "execute_result"
    }
   ],
   "source": [
    "df['Sales'] = df['Price']*df['Amount'] \n",
    "df.head()"
   ]
  },
  {
   "cell_type": "markdown",
   "id": "registered-treasurer",
   "metadata": {},
   "source": [
    "##### 6"
   ]
  },
  {
   "cell_type": "code",
   "execution_count": 81,
   "id": "standard-singles",
   "metadata": {},
   "outputs": [
    {
     "data": {
      "text/html": [
       "<div>\n",
       "<style scoped>\n",
       "    .dataframe tbody tr th:only-of-type {\n",
       "        vertical-align: middle;\n",
       "    }\n",
       "\n",
       "    .dataframe tbody tr th {\n",
       "        vertical-align: top;\n",
       "    }\n",
       "\n",
       "    .dataframe thead th {\n",
       "        text-align: right;\n",
       "    }\n",
       "</style>\n",
       "<table border=\"1\" class=\"dataframe\">\n",
       "  <thead>\n",
       "    <tr style=\"text-align: right;\">\n",
       "      <th></th>\n",
       "      <th>Price</th>\n",
       "      <th>Amount</th>\n",
       "      <th>Sales</th>\n",
       "    </tr>\n",
       "    <tr>\n",
       "      <th>ShopID</th>\n",
       "      <th></th>\n",
       "      <th></th>\n",
       "      <th></th>\n",
       "    </tr>\n",
       "  </thead>\n",
       "  <tbody>\n",
       "    <tr>\n",
       "      <th>1</th>\n",
       "      <td>55100</td>\n",
       "      <td>20</td>\n",
       "      <td>264700</td>\n",
       "    </tr>\n",
       "    <tr>\n",
       "      <th>2</th>\n",
       "      <td>55100</td>\n",
       "      <td>20</td>\n",
       "      <td>294100</td>\n",
       "    </tr>\n",
       "    <tr>\n",
       "      <th>3</th>\n",
       "      <td>55100</td>\n",
       "      <td>11</td>\n",
       "      <td>148500</td>\n",
       "    </tr>\n",
       "    <tr>\n",
       "      <th>4</th>\n",
       "      <td>55100</td>\n",
       "      <td>16</td>\n",
       "      <td>215600</td>\n",
       "    </tr>\n",
       "    <tr>\n",
       "      <th>5</th>\n",
       "      <td>55100</td>\n",
       "      <td>24</td>\n",
       "      <td>346200</td>\n",
       "    </tr>\n",
       "    <tr>\n",
       "      <th>...</th>\n",
       "      <td>...</td>\n",
       "      <td>...</td>\n",
       "      <td>...</td>\n",
       "    </tr>\n",
       "    <tr>\n",
       "      <th>90</th>\n",
       "      <td>55100</td>\n",
       "      <td>45</td>\n",
       "      <td>620400</td>\n",
       "    </tr>\n",
       "    <tr>\n",
       "      <th>91</th>\n",
       "      <td>55100</td>\n",
       "      <td>24</td>\n",
       "      <td>329600</td>\n",
       "    </tr>\n",
       "    <tr>\n",
       "      <th>92</th>\n",
       "      <td>55100</td>\n",
       "      <td>24</td>\n",
       "      <td>319800</td>\n",
       "    </tr>\n",
       "    <tr>\n",
       "      <th>93</th>\n",
       "      <td>55100</td>\n",
       "      <td>27</td>\n",
       "      <td>368100</td>\n",
       "    </tr>\n",
       "    <tr>\n",
       "      <th>94</th>\n",
       "      <td>55100</td>\n",
       "      <td>32</td>\n",
       "      <td>439800</td>\n",
       "    </tr>\n",
       "  </tbody>\n",
       "</table>\n",
       "<p>94 rows × 3 columns</p>\n",
       "</div>"
      ],
      "text/plain": [
       "        Price  Amount   Sales\n",
       "ShopID                       \n",
       "1       55100      20  264700\n",
       "2       55100      20  294100\n",
       "3       55100      11  148500\n",
       "4       55100      16  215600\n",
       "5       55100      24  346200\n",
       "...       ...     ...     ...\n",
       "90      55100      45  620400\n",
       "91      55100      24  329600\n",
       "92      55100      24  319800\n",
       "93      55100      27  368100\n",
       "94      55100      32  439800\n",
       "\n",
       "[94 rows x 3 columns]"
      ]
     },
     "metadata": {},
     "output_type": "display_data"
    },
    {
     "name": "stdout",
     "output_type": "stream",
     "text": [
      "total of the day: 37283200\n"
     ]
    }
   ],
   "source": [
    "display(df.groupby('ShopID').sum())\n",
    "print(\"total of the day:\",df.groupby('ShopID').sum()['Sales'].sum())"
   ]
  },
  {
   "cell_type": "markdown",
   "id": "streaming-documentary",
   "metadata": {},
   "source": [
    "##### 7"
   ]
  },
  {
   "cell_type": "code",
   "execution_count": 82,
   "id": "grateful-concern",
   "metadata": {},
   "outputs": [
    {
     "name": "stdout",
     "output_type": "stream",
     "text": [
      "Pref\n",
      "Chiba       5343100\n",
      "Gunma       4021000\n",
      "Ibaraki     4513500\n",
      "Kanagawa    5813100\n",
      "Saitama     5276800\n",
      "Tochigi     3296300\n",
      "Tokyo       9019400\n",
      "Name: Sales, dtype: int64\n"
     ]
    }
   ],
   "source": [
    "df_pref=df.groupby('Pref').sum()\n",
    "print(df_pref['Sales'])"
   ]
  },
  {
   "cell_type": "markdown",
   "id": "lonely-interaction",
   "metadata": {},
   "source": [
    "##### 8"
   ]
  },
  {
   "cell_type": "code",
   "execution_count": 83,
   "id": "manufactured-benchmark",
   "metadata": {},
   "outputs": [
    {
     "name": "stdout",
     "output_type": "stream",
     "text": [
      "Tochigi\n"
     ]
    }
   ],
   "source": [
    "print(df_pref['Sales'].idxmin())"
   ]
  },
  {
   "cell_type": "markdown",
   "id": "blessed-israeli",
   "metadata": {},
   "source": [
    "##### 9"
   ]
  },
  {
   "cell_type": "code",
   "execution_count": 84,
   "id": "faced-pension",
   "metadata": {},
   "outputs": [
    {
     "name": "stdout",
     "output_type": "stream",
     "text": [
      "Total UNIFORM sales in Chiba:  1534000\n"
     ]
    },
    {
     "data": {
      "text/plain": [
       "Pref      Product\n",
       "Chiba     BAT         966000\n",
       "          GLOVE      1486300\n",
       "          SHOES      1356800\n",
       "          UNIFORM    1534000\n",
       "Gunma     BAT         938400\n",
       "          GLOVE      1402800\n",
       "          SHOES       960000\n",
       "          UNIFORM     719800\n",
       "Ibaraki   BAT        1090200\n",
       "          GLOVE      1152300\n",
       "          SHOES      1126400\n",
       "          UNIFORM    1144600\n",
       "Kanagawa  BAT        1297200\n",
       "          GLOVE      1619900\n",
       "          SHOES      1574400\n",
       "          UNIFORM    1321600\n",
       "Saitama   BAT        1228200\n",
       "          GLOVE      1503000\n",
       "          SHOES      1318400\n",
       "          UNIFORM    1227200\n",
       "Tochigi   BAT         759000\n",
       "          GLOVE       718100\n",
       "          SHOES       780800\n",
       "          UNIFORM    1038400\n",
       "Tokyo     BAT        2166600\n",
       "          GLOVE      2839000\n",
       "          SHOES      2137600\n",
       "          UNIFORM    1876200\n",
       "Name: Sales, dtype: int64"
      ]
     },
     "metadata": {},
     "output_type": "display_data"
    }
   ],
   "source": [
    "df_uniform_chiba = df[(df['Product']=='UNIFORM') & (df['Pref']=='Chiba')]\n",
    "print(\"Total UNIFORM sales in Chiba: \", df_uniform_chiba['Sales'].sum())\n",
    "display(df.groupby(['Pref','Product']).sum()['Sales'])"
   ]
  },
  {
   "cell_type": "markdown",
   "id": "governing-amsterdam",
   "metadata": {},
   "source": [
    "##### 10"
   ]
  },
  {
   "cell_type": "code",
   "execution_count": 85,
   "id": "above-depression",
   "metadata": {},
   "outputs": [
    {
     "data": {
      "text/html": [
       "<div>\n",
       "<style scoped>\n",
       "    .dataframe tbody tr th:only-of-type {\n",
       "        vertical-align: middle;\n",
       "    }\n",
       "\n",
       "    .dataframe tbody tr th {\n",
       "        vertical-align: top;\n",
       "    }\n",
       "\n",
       "    .dataframe thead th {\n",
       "        text-align: right;\n",
       "    }\n",
       "</style>\n",
       "<table border=\"1\" class=\"dataframe\">\n",
       "  <thead>\n",
       "    <tr style=\"text-align: right;\">\n",
       "      <th></th>\n",
       "      <th></th>\n",
       "      <th>Amount</th>\n",
       "      <th>Sales</th>\n",
       "    </tr>\n",
       "    <tr>\n",
       "      <th>Pref</th>\n",
       "      <th>ShopID</th>\n",
       "      <th></th>\n",
       "      <th></th>\n",
       "    </tr>\n",
       "  </thead>\n",
       "  <tbody>\n",
       "    <tr>\n",
       "      <th rowspan=\"5\" valign=\"top\">Chiba</th>\n",
       "      <th>1</th>\n",
       "      <td>5.00</td>\n",
       "      <td>66175.0</td>\n",
       "    </tr>\n",
       "    <tr>\n",
       "      <th>3</th>\n",
       "      <td>2.75</td>\n",
       "      <td>37125.0</td>\n",
       "    </tr>\n",
       "    <tr>\n",
       "      <th>7</th>\n",
       "      <td>7.25</td>\n",
       "      <td>100350.0</td>\n",
       "    </tr>\n",
       "    <tr>\n",
       "      <th>14</th>\n",
       "      <td>7.50</td>\n",
       "      <td>105500.0</td>\n",
       "    </tr>\n",
       "    <tr>\n",
       "      <th>21</th>\n",
       "      <td>8.75</td>\n",
       "      <td>115850.0</td>\n",
       "    </tr>\n",
       "    <tr>\n",
       "      <th>...</th>\n",
       "      <th>...</th>\n",
       "      <td>...</td>\n",
       "      <td>...</td>\n",
       "    </tr>\n",
       "    <tr>\n",
       "      <th rowspan=\"5\" valign=\"top\">Tokyo</th>\n",
       "      <th>49</th>\n",
       "      <td>33.50</td>\n",
       "      <td>455650.0</td>\n",
       "    </tr>\n",
       "    <tr>\n",
       "      <th>73</th>\n",
       "      <td>10.75</td>\n",
       "      <td>155900.0</td>\n",
       "    </tr>\n",
       "    <tr>\n",
       "      <th>86</th>\n",
       "      <td>11.75</td>\n",
       "      <td>163575.0</td>\n",
       "    </tr>\n",
       "    <tr>\n",
       "      <th>90</th>\n",
       "      <td>11.25</td>\n",
       "      <td>155100.0</td>\n",
       "    </tr>\n",
       "    <tr>\n",
       "      <th>94</th>\n",
       "      <td>8.00</td>\n",
       "      <td>109950.0</td>\n",
       "    </tr>\n",
       "  </tbody>\n",
       "</table>\n",
       "<p>94 rows × 2 columns</p>\n",
       "</div>"
      ],
      "text/plain": [
       "              Amount     Sales\n",
       "Pref  ShopID                  \n",
       "Chiba 1         5.00   66175.0\n",
       "      3         2.75   37125.0\n",
       "      7         7.25  100350.0\n",
       "      14        7.50  105500.0\n",
       "      21        8.75  115850.0\n",
       "...              ...       ...\n",
       "Tokyo 49       33.50  455650.0\n",
       "      73       10.75  155900.0\n",
       "      86       11.75  163575.0\n",
       "      90       11.25  155100.0\n",
       "      94        8.00  109950.0\n",
       "\n",
       "[94 rows x 2 columns]"
      ]
     },
     "execution_count": 85,
     "metadata": {},
     "output_type": "execute_result"
    }
   ],
   "source": [
    "df.groupby(['Pref','ShopID']).mean()[['Amount','Sales']]"
   ]
  },
  {
   "cell_type": "markdown",
   "id": "fabulous-prospect",
   "metadata": {},
   "source": [
    "##### 10"
   ]
  },
  {
   "cell_type": "code",
   "execution_count": 88,
   "id": "organized-clock",
   "metadata": {},
   "outputs": [
    {
     "data": {
      "text/html": [
       "<div>\n",
       "<style scoped>\n",
       "    .dataframe tbody tr th:only-of-type {\n",
       "        vertical-align: middle;\n",
       "    }\n",
       "\n",
       "    .dataframe tbody tr th {\n",
       "        vertical-align: top;\n",
       "    }\n",
       "\n",
       "    .dataframe thead th {\n",
       "        text-align: right;\n",
       "    }\n",
       "</style>\n",
       "<table border=\"1\" class=\"dataframe\">\n",
       "  <thead>\n",
       "    <tr style=\"text-align: right;\">\n",
       "      <th></th>\n",
       "      <th>ShopID</th>\n",
       "      <th>Pref</th>\n",
       "      <th>Product</th>\n",
       "      <th>Price</th>\n",
       "      <th>Amount</th>\n",
       "      <th>Sales</th>\n",
       "    </tr>\n",
       "  </thead>\n",
       "  <tbody>\n",
       "    <tr>\n",
       "      <th>0</th>\n",
       "      <td>18</td>\n",
       "      <td>Kanagawa</td>\n",
       "      <td>bat</td>\n",
       "      <td>13800</td>\n",
       "      <td>10</td>\n",
       "      <td>138000</td>\n",
       "    </tr>\n",
       "    <tr>\n",
       "      <th>1</th>\n",
       "      <td>18</td>\n",
       "      <td>Kanagawa</td>\n",
       "      <td>uniform</td>\n",
       "      <td>11800</td>\n",
       "      <td>12</td>\n",
       "      <td>141600</td>\n",
       "    </tr>\n",
       "    <tr>\n",
       "      <th>2</th>\n",
       "      <td>18</td>\n",
       "      <td>Kanagawa</td>\n",
       "      <td>glove</td>\n",
       "      <td>16700</td>\n",
       "      <td>10</td>\n",
       "      <td>167000</td>\n",
       "    </tr>\n",
       "    <tr>\n",
       "      <th>3</th>\n",
       "      <td>18</td>\n",
       "      <td>Kanagawa</td>\n",
       "      <td>shoes</td>\n",
       "      <td>12800</td>\n",
       "      <td>10</td>\n",
       "      <td>128000</td>\n",
       "    </tr>\n",
       "    <tr>\n",
       "      <th>4</th>\n",
       "      <td>30</td>\n",
       "      <td>Ibaraki</td>\n",
       "      <td>bat</td>\n",
       "      <td>13800</td>\n",
       "      <td>8</td>\n",
       "      <td>110400</td>\n",
       "    </tr>\n",
       "  </tbody>\n",
       "</table>\n",
       "</div>"
      ],
      "text/plain": [
       "   ShopID      Pref  Product  Price  Amount   Sales\n",
       "0      18  Kanagawa      bat  13800      10  138000\n",
       "1      18  Kanagawa  uniform  11800      12  141600\n",
       "2      18  Kanagawa    glove  16700      10  167000\n",
       "3      18  Kanagawa    shoes  12800      10  128000\n",
       "4      30   Ibaraki      bat  13800       8  110400"
      ]
     },
     "execution_count": 88,
     "metadata": {},
     "output_type": "execute_result"
    }
   ],
   "source": [
    "df['Product'] = df['Product'].str.lower()\n",
    "df.head()"
   ]
  },
  {
   "cell_type": "code",
   "execution_count": null,
   "id": "encouraging-hollywood",
   "metadata": {},
   "outputs": [],
   "source": []
  }
 ],
 "metadata": {
  "kernelspec": {
   "display_name": "Python 3",
   "language": "python",
   "name": "python3"
  },
  "language_info": {
   "codemirror_mode": {
    "name": "ipython",
    "version": 3
   },
   "file_extension": ".py",
   "mimetype": "text/x-python",
   "name": "python",
   "nbconvert_exporter": "python",
   "pygments_lexer": "ipython3",
   "version": "3.8.5"
  }
 },
 "nbformat": 4,
 "nbformat_minor": 5
}
