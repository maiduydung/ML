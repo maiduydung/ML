{
 "cells": [
  {
   "cell_type": "markdown",
   "metadata": {},
   "source": [
    "## Realtime plot  \n",
    "ref. https://matplotlib.org/api/animation_api.html  "
   ]
  },
  {
   "cell_type": "markdown",
   "metadata": {},
   "source": [
    "### Import libraries"
   ]
  },
  {
   "cell_type": "code",
   "execution_count": null,
   "metadata": {},
   "outputs": [],
   "source": [
    "import numpy as np\n",
    "import matplotlib.pyplot as plt\n",
    "from matplotlib.animation import FuncAnimation\n",
    "from IPython.display import HTML"
   ]
  },
  {
   "cell_type": "markdown",
   "metadata": {},
   "source": [
    "### Official method"
   ]
  },
  {
   "cell_type": "code",
   "execution_count": null,
   "metadata": {},
   "outputs": [],
   "source": [
    "fig, ax = plt.subplots()\n",
    "xdata, ydata = [], []\n",
    "line, = plt.plot([], [], 'rx-', animated=True)\n",
    "plt.close()\n",
    "\n",
    "def init():\n",
    "    ax.set_xlim(0, 2*np.pi)\n",
    "    ax.set_ylim(-1, 1)\n",
    "    return line,\n",
    "\n",
    "def update(frame):\n",
    "    xdata.append(frame)\n",
    "    ydata.append(np.sin(frame))\n",
    "    line.set_data(xdata, ydata)\n",
    "    fig.suptitle('i={}'.format(len(xdata)))\n",
    "    return line,\n",
    "\n",
    "n = 32\n",
    "frm = np.linspace(0, 2*np.pi, n)\n",
    "ani = FuncAnimation(fig, update, frames=frm,\n",
    "                    init_func=init, interval=100,\n",
    "                    blit=True)\n",
    "\n",
    "HTML(ani.to_jshtml())"
   ]
  },
  {
   "cell_type": "code",
   "execution_count": null,
   "metadata": {},
   "outputs": [],
   "source": [
    "%%capture\n",
    "plt.rcParams[\"animation.html\"] = \"jshtml\"\n",
    "\n",
    "t = np.linspace(0, 2*np.pi, num=100)\n",
    "x = np.sin(t)\n",
    "\n",
    "fig, ax = plt.subplots()\n",
    "h = ax.axis([0, 2*np.pi, -1, 1])\n",
    "l, = ax.plot([], [])\n",
    "\n",
    "def animate(i):\n",
    "    title = 'i = {}'.format(i)\n",
    "    fig.suptitle(title)\n",
    "    l.set_data(t[:i], x[:i])\n",
    "\n",
    "ani = FuncAnimation(fig, animate, frames=len(t),\n",
    "                    interval = 100)"
   ]
  },
  {
   "cell_type": "code",
   "execution_count": null,
   "metadata": {},
   "outputs": [],
   "source": [
    "ani"
   ]
  },
  {
   "cell_type": "code",
   "execution_count": null,
   "metadata": {},
   "outputs": [],
   "source": [
    "%%capture\n",
    "plt.rcParams[\"animation.html\"] = \"jshtml\"\n",
    "\n",
    "t = np.linspace(0, 2*np.pi, num=100)\n",
    "x = np.sin(t)\n",
    "\n",
    "fig, ax = plt.subplots()\n",
    "h = ax.axis([0, 2*np.pi, -1, 1])\n",
    "l, = ax.plot([], [])\n",
    "\n",
    "def animate(i):\n",
    "    title = 'i = {}'.format(i)\n",
    "    fig.suptitle(title)\n",
    "    x = np.sin(2 * np.pi * (t - 0.1 * i))\n",
    "    l.set_data(t, x)\n",
    "\n",
    "ani = FuncAnimation(fig, animate, frames=len(t),\n",
    "                    interval = 100)"
   ]
  },
  {
   "cell_type": "code",
   "execution_count": null,
   "metadata": {},
   "outputs": [],
   "source": [
    "ani"
   ]
  }
 ],
 "metadata": {
  "kernelspec": {
   "display_name": "Python 3",
   "language": "python",
   "name": "python3"
  },
  "language_info": {
   "codemirror_mode": {
    "name": "ipython",
    "version": 3
   },
   "file_extension": ".py",
   "mimetype": "text/x-python",
   "name": "python",
   "nbconvert_exporter": "python",
   "pygments_lexer": "ipython3",
   "version": "3.8.8"
  }
 },
 "nbformat": 4,
 "nbformat_minor": 4
}
