{
 "cells": [
  {
   "cell_type": "code",
   "execution_count": 64,
   "metadata": {},
   "outputs": [],
   "source": [
    "\n",
    "import numpy as np\n",
    "import os, glob\n",
    "from PIL import Image\n"
   ]
  },
  {
   "cell_type": "code",
   "execution_count": 65,
   "metadata": {},
   "outputs": [],
   "source": [
    "base_dir ='../datasets/make_up/'\n",
    "makeup_dir='makeup'\n",
    "no_makeup_dir='no_makeup'\n",
    "dirs = [makeup_dir, no_makeup_dir]"
   ]
  },
  {
   "cell_type": "code",
   "execution_count": 66,
   "metadata": {},
   "outputs": [],
   "source": [
    "classes=['makeup','no_makeup']\n",
    "num_classes=len(classes)\n",
    "size = 56 "
   ]
  },
  {
   "cell_type": "markdown",
   "metadata": {},
   "source": [
    "#### Resize images into 56 x 56 and generate npy file\n",
    "\n"
   ]
  },
  {
   "cell_type": "code",
   "execution_count": 67,
   "metadata": {},
   "outputs": [
    {
     "name": "stdout",
     "output_type": "stream",
     "text": [
      "Features of  makeup (1062, 56, 56, 3)\n",
      "Features of  no_makeup (444, 56, 56, 3)\n",
      "Wall time: 1.42 s\n"
     ]
    }
   ],
   "source": [
    "%%time\n",
    "\n",
    "for i in range(0, num_classes):\n",
    "    X = [] #feature\n",
    "    y = [] #label\n",
    "    cls = classes[i]\n",
    "    img_dir = base_dir+dirs[i]\n",
    "    files = glob.glob(img_dir + '/*.*')\n",
    "    for f in files:\n",
    "        img = Image.open(f)\n",
    "        img = img.convert('RGB')\n",
    "        img = img.resize((size, size))\n",
    "        data = np.array(img)\n",
    "        X.append(data)\n",
    "        if i == 0:\n",
    "            y.append(1) #make up\n",
    "        else:\n",
    "            y.append(0) #no make up\n",
    "    X = np.array(X)\n",
    "    y = np.array(y)\n",
    "    np.save(cls,X)\n",
    "    np.save(cls,y)\n",
    "    \n",
    "    print(\"Features of \" , cls,X.shape)"
   ]
  },
  {
   "cell_type": "code",
   "execution_count": null,
   "metadata": {},
   "outputs": [],
   "source": []
  }
 ],
 "metadata": {
  "kernelspec": {
   "display_name": "Python 3",
   "language": "python",
   "name": "python3"
  },
  "language_info": {
   "codemirror_mode": {
    "name": "ipython",
    "version": 3
   },
   "file_extension": ".py",
   "mimetype": "text/x-python",
   "name": "python",
   "nbconvert_exporter": "python",
   "pygments_lexer": "ipython3",
   "version": "3.6.12"
  }
 },
 "nbformat": 4,
 "nbformat_minor": 4
}
