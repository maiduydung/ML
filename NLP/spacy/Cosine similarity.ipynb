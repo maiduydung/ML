{
 "cells": [
  {
   "cell_type": "code",
   "execution_count": 10,
   "id": "efficient-berkeley",
   "metadata": {},
   "outputs": [],
   "source": [
    "import numpy as np\n",
    "import pandas as pd\n",
    "import matplotlib.pyplot as plt\n",
    "from numpy.linalg import norm"
   ]
  },
  {
   "cell_type": "code",
   "execution_count": 2,
   "id": "broadband-injury",
   "metadata": {},
   "outputs": [],
   "source": [
    "text1 = 'Julie loves John more than Linda loves John'\n",
    "text2 = 'Jane loves John more than Julie loves John'\n",
    "text1_arr = text1.split(' ')\n",
    "text2_arr = text2.split(' ')"
   ]
  },
  {
   "cell_type": "code",
   "execution_count": 3,
   "id": "earlier-respect",
   "metadata": {},
   "outputs": [
    {
     "data": {
      "text/plain": [
       "array(['Linda', 'more', 'Jane', 'than', 'loves', 'John', 'Julie'],\n",
       "      dtype='<U5')"
      ]
     },
     "execution_count": 3,
     "metadata": {},
     "output_type": "execute_result"
    }
   ],
   "source": [
    "all_vocabs = np.array(list(set(text1_arr+text2_arr)))\n",
    "all_vocabs\n"
   ]
  },
  {
   "cell_type": "code",
   "execution_count": 19,
   "id": "engaged-experience",
   "metadata": {},
   "outputs": [
    {
     "data": {
      "text/html": [
       "<div>\n",
       "<style scoped>\n",
       "    .dataframe tbody tr th:only-of-type {\n",
       "        vertical-align: middle;\n",
       "    }\n",
       "\n",
       "    .dataframe tbody tr th {\n",
       "        vertical-align: top;\n",
       "    }\n",
       "\n",
       "    .dataframe thead th {\n",
       "        text-align: right;\n",
       "    }\n",
       "</style>\n",
       "<table border=\"1\" class=\"dataframe\">\n",
       "  <thead>\n",
       "    <tr style=\"text-align: right;\">\n",
       "      <th></th>\n",
       "      <th>vocab</th>\n",
       "    </tr>\n",
       "  </thead>\n",
       "  <tbody>\n",
       "    <tr>\n",
       "      <th>0</th>\n",
       "      <td>Linda</td>\n",
       "    </tr>\n",
       "    <tr>\n",
       "      <th>1</th>\n",
       "      <td>more</td>\n",
       "    </tr>\n",
       "    <tr>\n",
       "      <th>2</th>\n",
       "      <td>Jane</td>\n",
       "    </tr>\n",
       "    <tr>\n",
       "      <th>3</th>\n",
       "      <td>than</td>\n",
       "    </tr>\n",
       "    <tr>\n",
       "      <th>4</th>\n",
       "      <td>loves</td>\n",
       "    </tr>\n",
       "    <tr>\n",
       "      <th>5</th>\n",
       "      <td>John</td>\n",
       "    </tr>\n",
       "    <tr>\n",
       "      <th>6</th>\n",
       "      <td>Julie</td>\n",
       "    </tr>\n",
       "  </tbody>\n",
       "</table>\n",
       "</div>"
      ],
      "text/plain": [
       "   vocab\n",
       "0  Linda\n",
       "1   more\n",
       "2   Jane\n",
       "3   than\n",
       "4  loves\n",
       "5   John\n",
       "6  Julie"
      ]
     },
     "execution_count": 19,
     "metadata": {},
     "output_type": "execute_result"
    }
   ],
   "source": [
    "df_vocabs = pd.DataFrame(all_vocabs, columns=['vocab'])\n",
    "df_vocabs"
   ]
  },
  {
   "cell_type": "code",
   "execution_count": 20,
   "id": "classical-picture",
   "metadata": {},
   "outputs": [],
   "source": [
    "df_text1 = pd.DataFrame(np.unique(text1_arr, return_counts = True)).T\n",
    "df_text2 = pd.DataFrame(np.unique(text2_arr, return_counts = True)).T\n",
    "\n",
    "df_text1 = df_text1.rename(columns={0: \"vocab_text1\", 1: \"cnt_text1\"})\n",
    "df_text2 = df_text2.rename(columns={0: \"vocab_text2\", 1: \"cnt_text2\"})"
   ]
  },
  {
   "cell_type": "code",
   "execution_count": 21,
   "id": "falling-auction",
   "metadata": {},
   "outputs": [
    {
     "data": {
      "text/html": [
       "<div>\n",
       "<style scoped>\n",
       "    .dataframe tbody tr th:only-of-type {\n",
       "        vertical-align: middle;\n",
       "    }\n",
       "\n",
       "    .dataframe tbody tr th {\n",
       "        vertical-align: top;\n",
       "    }\n",
       "\n",
       "    .dataframe thead th {\n",
       "        text-align: right;\n",
       "    }\n",
       "</style>\n",
       "<table border=\"1\" class=\"dataframe\">\n",
       "  <thead>\n",
       "    <tr style=\"text-align: right;\">\n",
       "      <th></th>\n",
       "      <th>vocab</th>\n",
       "      <th>cnt_text1</th>\n",
       "      <th>cnt_text2</th>\n",
       "    </tr>\n",
       "  </thead>\n",
       "  <tbody>\n",
       "    <tr>\n",
       "      <th>2</th>\n",
       "      <td>Jane</td>\n",
       "      <td>0</td>\n",
       "      <td>1</td>\n",
       "    </tr>\n",
       "    <tr>\n",
       "      <th>5</th>\n",
       "      <td>John</td>\n",
       "      <td>2</td>\n",
       "      <td>2</td>\n",
       "    </tr>\n",
       "    <tr>\n",
       "      <th>6</th>\n",
       "      <td>Julie</td>\n",
       "      <td>1</td>\n",
       "      <td>1</td>\n",
       "    </tr>\n",
       "    <tr>\n",
       "      <th>0</th>\n",
       "      <td>Linda</td>\n",
       "      <td>1</td>\n",
       "      <td>0</td>\n",
       "    </tr>\n",
       "    <tr>\n",
       "      <th>4</th>\n",
       "      <td>loves</td>\n",
       "      <td>2</td>\n",
       "      <td>2</td>\n",
       "    </tr>\n",
       "    <tr>\n",
       "      <th>1</th>\n",
       "      <td>more</td>\n",
       "      <td>1</td>\n",
       "      <td>1</td>\n",
       "    </tr>\n",
       "    <tr>\n",
       "      <th>3</th>\n",
       "      <td>than</td>\n",
       "      <td>1</td>\n",
       "      <td>1</td>\n",
       "    </tr>\n",
       "  </tbody>\n",
       "</table>\n",
       "</div>"
      ],
      "text/plain": [
       "   vocab  cnt_text1  cnt_text2\n",
       "2   Jane          0          1\n",
       "5   John          2          2\n",
       "6  Julie          1          1\n",
       "0  Linda          1          0\n",
       "4  loves          2          2\n",
       "1   more          1          1\n",
       "3   than          1          1"
      ]
     },
     "execution_count": 21,
     "metadata": {},
     "output_type": "execute_result"
    }
   ],
   "source": [
    "df_vocabs = df_vocabs.merge(df_text1, left_on='vocab', right_on='vocab_text1', how='outer')\n",
    "df_vocabs = df_vocabs.merge(df_text2, left_on='vocab', right_on='vocab_text2', how='outer')\n",
    "df_vocabs = df_vocabs.fillna(0)\n",
    "df_vocabs = df_vocabs[['vocab', 'cnt_text1', 'cnt_text2']]\n",
    "df_vocabs.sort_values(by='vocab')"
   ]
  },
  {
   "cell_type": "markdown",
   "id": "manual-raise",
   "metadata": {},
   "source": [
    "### Cosine similarity"
   ]
  },
  {
   "cell_type": "code",
   "execution_count": 11,
   "id": "cultural-shower",
   "metadata": {},
   "outputs": [
    {
     "data": {
      "text/plain": [
       "0.9166666666666669"
      ]
     },
     "execution_count": 11,
     "metadata": {},
     "output_type": "execute_result"
    }
   ],
   "source": [
    "df_vocabs['cnt_text1'].dot(df_vocabs['cnt_text2'])/(norm(df_vocabs['cnt_text1'])*norm(df_vocabs['cnt_text2']))"
   ]
  },
  {
   "cell_type": "code",
   "execution_count": null,
   "id": "worse-underground",
   "metadata": {},
   "outputs": [],
   "source": []
  },
  {
   "cell_type": "code",
   "execution_count": null,
   "id": "crazy-baseball",
   "metadata": {},
   "outputs": [],
   "source": []
  },
  {
   "cell_type": "code",
   "execution_count": null,
   "id": "fresh-jamaica",
   "metadata": {},
   "outputs": [],
   "source": []
  },
  {
   "cell_type": "code",
   "execution_count": null,
   "id": "polar-particle",
   "metadata": {},
   "outputs": [],
   "source": []
  }
 ],
 "metadata": {
  "kernelspec": {
   "display_name": "Python 3 (ipykernel)",
   "language": "python",
   "name": "python3"
  },
  "language_info": {
   "codemirror_mode": {
    "name": "ipython",
    "version": 3
   },
   "file_extension": ".py",
   "mimetype": "text/x-python",
   "name": "python",
   "nbconvert_exporter": "python",
   "pygments_lexer": "ipython3",
   "version": "3.8.12"
  }
 },
 "nbformat": 4,
 "nbformat_minor": 5
}
