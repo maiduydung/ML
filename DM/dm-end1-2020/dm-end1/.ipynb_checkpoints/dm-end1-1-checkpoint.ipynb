{
 "cells": [
  {
   "cell_type": "markdown",
   "metadata": {},
   "source": [
    "### Sample for DM end term exam 1 Problem 1"
   ]
  },
  {
   "cell_type": "markdown",
   "metadata": {},
   "source": [
    "#### Import libraries  "
   ]
  },
  {
   "cell_type": "code",
   "execution_count": null,
   "metadata": {},
   "outputs": [],
   "source": [
    "import numpy as np\n",
    "import pandas as pd\n",
    "import matplotlib.pyplot as plt\n",
    "from sklearn.decomposition import PCA\n",
    "from sklearn.preprocessing import StandardScaler"
   ]
  },
  {
   "cell_type": "markdown",
   "metadata": {},
   "source": [
    "#### Parameters  "
   ]
  },
  {
   "cell_type": "code",
   "execution_count": null,
   "metadata": {},
   "outputs": [],
   "source": [
    "csv_in = 'dm-end1-1.csv'"
   ]
  },
  {
   "cell_type": "markdown",
   "metadata": {},
   "source": [
    "#### biplot  function"
   ]
  },
  {
   "cell_type": "code",
   "execution_count": null,
   "metadata": {},
   "outputs": [],
   "source": [
    "def biplot(X_2d, coef_2d, coef_labels=None):\n",
    "    r1 = 3.\n",
    "    r2 = 1.05\n",
    "    coef_2dT = coef_2d.T\n",
    "    if coef_labels is None:\n",
    "        coef_labels = range(len(coef_2dT))\n",
    "    for i, coef in enumerate(coef_2dT):\n",
    "        plt.arrow(0, 0, coef[0]*r1, coef[1]*r1, color='r')    \n",
    "        plt.text(coef[0]*r1*r2, coef[1]*r1*r2, coef_labels[i],\n",
    "                 color='b', fontsize=11)\n",
    "    plt.scatter(X_2d[:,0], X_2d[:,1])\n",
    "    plt.xlabel('PC_1')\n",
    "    plt.ylabel('PC_2')\n",
    "    \n",
    "    plt.xlim(-3,3)\n",
    "    plt.ylim(-3,3)\n",
    "    plt.gca().set_aspect('equal', adjustable='box')\n",
    "    \n",
    "    return None"
   ]
  }
 ],
 "metadata": {
  "kernelspec": {
   "display_name": "Python 3",
   "language": "python",
   "name": "python3"
  },
  "language_info": {
   "codemirror_mode": {
    "name": "ipython",
    "version": 3
   },
   "file_extension": ".py",
   "mimetype": "text/x-python",
   "name": "python",
   "nbconvert_exporter": "python",
   "pygments_lexer": "ipython3",
   "version": "3.6.10"
  }
 },
 "nbformat": 4,
 "nbformat_minor": 4
}
