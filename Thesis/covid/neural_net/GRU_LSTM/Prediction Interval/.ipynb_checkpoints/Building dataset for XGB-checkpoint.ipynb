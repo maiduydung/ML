{
 "cells": [
  {
   "cell_type": "code",
   "execution_count": 1,
   "id": "adapted-discrimination",
   "metadata": {},
   "outputs": [],
   "source": [
    "import numpy as np\n",
    "import pandas as pd\n",
    "import matplotlib.pyplot as plt\n",
    "import xgboost as xgb\n",
    "from keras.models import Sequential, load_model\n",
    "from keras.layers import LSTM, GRU, Dense, Dropout\n",
    "from keras.callbacks import EarlyStopping\n",
    "from sklearn.preprocessing import MinMaxScaler\n",
    "from sklearn.metrics import mean_squared_error\n",
    "from keras.preprocessing.sequence import TimeseriesGenerator\n",
    "import tensorflow as tf\n",
    "from keras.callbacks import EarlyStopping, ModelCheckpoint\n",
    "from keras.models import load_model\n",
    "from matplotlib.pyplot import figure #bigger figure\n"
   ]
  },
  {
   "cell_type": "code",
   "execution_count": 2,
   "id": "transparent-spiritual",
   "metadata": {},
   "outputs": [],
   "source": [
    "import warnings\n",
    "warnings.filterwarnings('ignore')\n",
    "\n",
    "import os\n",
    "os.environ['TF_CPP_MIN_LOG_LEVEL'] = '3'  #disable tensorflow warnings"
   ]
  },
  {
   "cell_type": "code",
   "execution_count": 3,
   "id": "formed-trace",
   "metadata": {},
   "outputs": [],
   "source": [
    "def read_from_source():\n",
    "    df = pd.read_csv('https://toyokeizai.net/sp/visual/tko/covid19/csv/pcr_positive_daily.csv')\n",
    "    df = df.rename(columns={'日付': 'Date', 'PCR 検査陽性者数(単日)': 'Infected'}) #renaming from Japanese to English\n",
    "    df['Date'] = pd.to_datetime(df['Date'])\n",
    "    return df\n"
   ]
  },
  {
   "cell_type": "code",
   "execution_count": 5,
   "id": "civil-extreme",
   "metadata": {},
   "outputs": [
    {
     "name": "stdout",
     "output_type": "stream",
     "text": [
      "(660, 10)\n",
      "<class 'pandas.core.frame.DataFrame'>\n",
      "RangeIndex: 660 entries, 0 to 659\n",
      "Data columns (total 10 columns):\n",
      " #   Column            Non-Null Count  Dtype         \n",
      "---  ------            --------------  -----         \n",
      " 0   Date              660 non-null    datetime64[ns]\n",
      " 1   Infected_obs      660 non-null    int64         \n",
      " 2   Predicted_gru_1   660 non-null    int64         \n",
      " 3   Predicted_gru_3   660 non-null    int64         \n",
      " 4   Predicted_gru_2   660 non-null    int64         \n",
      " 5   Pred_gru_mean     660 non-null    int64         \n",
      " 6   Predicted_lstm_1  660 non-null    int64         \n",
      " 7   Predicted_lstm_2  660 non-null    int64         \n",
      " 8   Predicted_lstm_3  660 non-null    int64         \n",
      " 9   Pred_lstm_mean    660 non-null    int64         \n",
      "dtypes: datetime64[ns](1), int64(9)\n",
      "memory usage: 51.7 KB\n",
      "None\n"
     ]
    },
    {
     "data": {
      "text/html": [
       "<div>\n",
       "<style scoped>\n",
       "    .dataframe tbody tr th:only-of-type {\n",
       "        vertical-align: middle;\n",
       "    }\n",
       "\n",
       "    .dataframe tbody tr th {\n",
       "        vertical-align: top;\n",
       "    }\n",
       "\n",
       "    .dataframe thead th {\n",
       "        text-align: right;\n",
       "    }\n",
       "</style>\n",
       "<table border=\"1\" class=\"dataframe\">\n",
       "  <thead>\n",
       "    <tr style=\"text-align: right;\">\n",
       "      <th></th>\n",
       "      <th>Date</th>\n",
       "      <th>Infected_obs</th>\n",
       "      <th>Predicted_gru_1</th>\n",
       "      <th>Predicted_gru_3</th>\n",
       "      <th>Predicted_gru_2</th>\n",
       "      <th>Pred_gru_mean</th>\n",
       "      <th>Predicted_lstm_1</th>\n",
       "      <th>Predicted_lstm_2</th>\n",
       "      <th>Predicted_lstm_3</th>\n",
       "      <th>Pred_lstm_mean</th>\n",
       "    </tr>\n",
       "  </thead>\n",
       "  <tbody>\n",
       "    <tr>\n",
       "      <th>0</th>\n",
       "      <td>2020-01-31</td>\n",
       "      <td>0</td>\n",
       "      <td>0</td>\n",
       "      <td>0</td>\n",
       "      <td>0</td>\n",
       "      <td>0</td>\n",
       "      <td>0</td>\n",
       "      <td>1</td>\n",
       "      <td>1</td>\n",
       "      <td>1</td>\n",
       "    </tr>\n",
       "    <tr>\n",
       "      <th>1</th>\n",
       "      <td>2020-02-01</td>\n",
       "      <td>0</td>\n",
       "      <td>5</td>\n",
       "      <td>5</td>\n",
       "      <td>2</td>\n",
       "      <td>4</td>\n",
       "      <td>3</td>\n",
       "      <td>2</td>\n",
       "      <td>3</td>\n",
       "      <td>3</td>\n",
       "    </tr>\n",
       "    <tr>\n",
       "      <th>2</th>\n",
       "      <td>2020-02-02</td>\n",
       "      <td>0</td>\n",
       "      <td>0</td>\n",
       "      <td>0</td>\n",
       "      <td>0</td>\n",
       "      <td>0</td>\n",
       "      <td>0</td>\n",
       "      <td>1</td>\n",
       "      <td>0</td>\n",
       "      <td>0</td>\n",
       "    </tr>\n",
       "    <tr>\n",
       "      <th>3</th>\n",
       "      <td>2020-02-03</td>\n",
       "      <td>0</td>\n",
       "      <td>1</td>\n",
       "      <td>3</td>\n",
       "      <td>2</td>\n",
       "      <td>2</td>\n",
       "      <td>0</td>\n",
       "      <td>1</td>\n",
       "      <td>1</td>\n",
       "      <td>1</td>\n",
       "    </tr>\n",
       "    <tr>\n",
       "      <th>4</th>\n",
       "      <td>2020-02-04</td>\n",
       "      <td>1</td>\n",
       "      <td>0</td>\n",
       "      <td>0</td>\n",
       "      <td>1</td>\n",
       "      <td>0</td>\n",
       "      <td>0</td>\n",
       "      <td>1</td>\n",
       "      <td>1</td>\n",
       "      <td>1</td>\n",
       "    </tr>\n",
       "    <tr>\n",
       "      <th>...</th>\n",
       "      <td>...</td>\n",
       "      <td>...</td>\n",
       "      <td>...</td>\n",
       "      <td>...</td>\n",
       "      <td>...</td>\n",
       "      <td>...</td>\n",
       "      <td>...</td>\n",
       "      <td>...</td>\n",
       "      <td>...</td>\n",
       "      <td>...</td>\n",
       "    </tr>\n",
       "    <tr>\n",
       "      <th>655</th>\n",
       "      <td>2021-11-16</td>\n",
       "      <td>147</td>\n",
       "      <td>156</td>\n",
       "      <td>135</td>\n",
       "      <td>151</td>\n",
       "      <td>147</td>\n",
       "      <td>158</td>\n",
       "      <td>153</td>\n",
       "      <td>131</td>\n",
       "      <td>147</td>\n",
       "    </tr>\n",
       "    <tr>\n",
       "      <th>656</th>\n",
       "      <td>2021-11-17</td>\n",
       "      <td>199</td>\n",
       "      <td>189</td>\n",
       "      <td>170</td>\n",
       "      <td>158</td>\n",
       "      <td>172</td>\n",
       "      <td>153</td>\n",
       "      <td>160</td>\n",
       "      <td>108</td>\n",
       "      <td>140</td>\n",
       "    </tr>\n",
       "    <tr>\n",
       "      <th>657</th>\n",
       "      <td>2021-11-18</td>\n",
       "      <td>159</td>\n",
       "      <td>125</td>\n",
       "      <td>172</td>\n",
       "      <td>183</td>\n",
       "      <td>160</td>\n",
       "      <td>162</td>\n",
       "      <td>149</td>\n",
       "      <td>90</td>\n",
       "      <td>134</td>\n",
       "    </tr>\n",
       "    <tr>\n",
       "      <th>658</th>\n",
       "      <td>2021-11-19</td>\n",
       "      <td>153</td>\n",
       "      <td>243</td>\n",
       "      <td>234</td>\n",
       "      <td>233</td>\n",
       "      <td>237</td>\n",
       "      <td>166</td>\n",
       "      <td>136</td>\n",
       "      <td>102</td>\n",
       "      <td>135</td>\n",
       "    </tr>\n",
       "    <tr>\n",
       "      <th>659</th>\n",
       "      <td>2021-11-20</td>\n",
       "      <td>106</td>\n",
       "      <td>123</td>\n",
       "      <td>104</td>\n",
       "      <td>176</td>\n",
       "      <td>134</td>\n",
       "      <td>176</td>\n",
       "      <td>134</td>\n",
       "      <td>133</td>\n",
       "      <td>148</td>\n",
       "    </tr>\n",
       "  </tbody>\n",
       "</table>\n",
       "<p>660 rows × 10 columns</p>\n",
       "</div>"
      ],
      "text/plain": [
       "          Date  Infected_obs  Predicted_gru_1  Predicted_gru_3  \\\n",
       "0   2020-01-31             0                0                0   \n",
       "1   2020-02-01             0                5                5   \n",
       "2   2020-02-02             0                0                0   \n",
       "3   2020-02-03             0                1                3   \n",
       "4   2020-02-04             1                0                0   \n",
       "..         ...           ...              ...              ...   \n",
       "655 2021-11-16           147              156              135   \n",
       "656 2021-11-17           199              189              170   \n",
       "657 2021-11-18           159              125              172   \n",
       "658 2021-11-19           153              243              234   \n",
       "659 2021-11-20           106              123              104   \n",
       "\n",
       "     Predicted_gru_2  Pred_gru_mean  Predicted_lstm_1  Predicted_lstm_2  \\\n",
       "0                  0              0                 0                 1   \n",
       "1                  2              4                 3                 2   \n",
       "2                  0              0                 0                 1   \n",
       "3                  2              2                 0                 1   \n",
       "4                  1              0                 0                 1   \n",
       "..               ...            ...               ...               ...   \n",
       "655              151            147               158               153   \n",
       "656              158            172               153               160   \n",
       "657              183            160               162               149   \n",
       "658              233            237               166               136   \n",
       "659              176            134               176               134   \n",
       "\n",
       "     Predicted_lstm_3  Pred_lstm_mean  \n",
       "0                   1               1  \n",
       "1                   3               3  \n",
       "2                   0               0  \n",
       "3                   1               1  \n",
       "4                   1               1  \n",
       "..                ...             ...  \n",
       "655               131             147  \n",
       "656               108             140  \n",
       "657                90             134  \n",
       "658               102             135  \n",
       "659               133             148  \n",
       "\n",
       "[660 rows x 10 columns]"
      ]
     },
     "execution_count": 5,
     "metadata": {},
     "output_type": "execute_result"
    }
   ],
   "source": [
    "df_all = pd.read_csv('avg_infected_obs_all_pred_Nov20.csv')\n",
    "df_all['Date'] = pd.to_datetime(df_all['Date'])\n",
    "print(df_all.shape)\n",
    "print(df_all.info())\n",
    "df_all"
   ]
  },
  {
   "cell_type": "code",
   "execution_count": 12,
   "id": "previous-commodity",
   "metadata": {},
   "outputs": [
    {
     "data": {
      "text/plain": [
       "[<matplotlib.lines.Line2D at 0x1c8c21099d0>]"
      ]
     },
     "execution_count": 12,
     "metadata": {},
     "output_type": "execute_result"
    },
    {
     "data": {
      "image/png": "[encoded data removed]",
      "text/plain": [
       "<Figure size 432x288 with 1 Axes>"
      ]
     },
     "metadata": {
      "needs_background": "light"
     },
     "output_type": "display_data"
    }
   ],
   "source": [
    "plt.plot(df_all['Pred_lstm_mean'])\n",
    "plt.plot(df_all['Infected_obs'])"
   ]
  },
  {
   "cell_type": "code",
   "execution_count": 13,
   "id": "closed-whole",
   "metadata": {},
   "outputs": [
    {
     "data": {
      "text/plain": [
       "[<matplotlib.lines.Line2D at 0x1c8c2164b50>]"
      ]
     },
     "execution_count": 13,
     "metadata": {},
     "output_type": "execute_result"
    },
    {
     "data": {
      "image/png": "[encoded data removed]",
      "text/plain": [
       "<Figure size 432x288 with 1 Axes>"
      ]
     },
     "metadata": {
      "needs_background": "light"
     },
     "output_type": "display_data"
    }
   ],
   "source": [
    "plt.plot(df_all['Pred_gru_mean'])\n",
    "plt.plot(df_all['Infected_obs'])"
   ]
  },
  {
   "cell_type": "code",
   "execution_count": null,
   "id": "aquatic-fortune",
   "metadata": {},
   "outputs": [],
   "source": []
  }
 ],
 "metadata": {
  "kernelspec": {
   "display_name": "Python 3",
   "language": "python",
   "name": "python3"
  },
  "language_info": {
   "codemirror_mode": {
    "name": "ipython",
    "version": 3
   },
   "file_extension": ".py",
   "mimetype": "text/x-python",
   "name": "python",
   "nbconvert_exporter": "python",
   "pygments_lexer": "ipython3",
   "version": "3.8.5"
  }
 },
 "nbformat": 4,
 "nbformat_minor": 5
}
