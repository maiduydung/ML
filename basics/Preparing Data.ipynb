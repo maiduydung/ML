{
 "cells": [
  {
   "cell_type": "code",
   "execution_count": 45,
   "metadata": {},
   "outputs": [],
   "source": [
    "import os, glob\n",
    "import numpy as np\n",
    "from PIL import Image"
   ]
  },
  {
   "cell_type": "code",
   "execution_count": 46,
   "metadata": {},
   "outputs": [],
   "source": [
    "w = 56 #resizing input pictures to 56*56\n",
    "work_dir = 'data/dogs_cats'\n",
    "npy_data_base = 'dogs_cats-data'\n",
    "npy_labels_base = 'dogs_cats-labels'\n",
    "classes = ['dogs', 'cats']\n",
    "num_class = len(classes)\n"
   ]
  },
  {
   "cell_type": "code",
   "execution_count": 47,
   "metadata": {},
   "outputs": [
    {
     "name": "stdout",
     "output_type": "stream",
     "text": [
      "train dogs\n",
      "train cats\n",
      "test dogs\n",
      "test cats\n",
      "Wall time: 4.87 s\n"
     ]
    }
   ],
   "source": [
    "%%time\n",
    "\n",
    "ok = 1\n",
    "for mode in ['train', 'test']: #running through train -> test\n",
    "    X = [] #verification and training data\n",
    "    y = [] #label data\n",
    "    npy_data_file = '{0}-{1}-{2}'.format(mode, npy_data_base, w)\n",
    "    npy_labels_file = '{0}-{1}-{2}'.format(mode, npy_labels_base, w)\n",
    "    for cls in classes: #running through dogs -> cats\n",
    "        img_dir = work_dir+'/original/'+ mode +\"/\"+ cls\n",
    "        files = glob.glob(img_dir+\"/*.*\") #grabbing all img files\n",
    "        print(mode, cls)\n",
    "        for f in files: # for each img url, obviously\n",
    "            img = Image.open(f)\n",
    "            img = img.convert(\"RGB\") # converting to rbg 0 -> 255\n",
    "            img = img.resize((w,w))  # resizing to 56*56\n",
    "            data = np.array(img)     # putting img to a np array with the shape (56,56,3)\n",
    "            X.append(data) # for each of those data, put them to X\n",
    "            y.append(cls)  # at this point X and y are still python arr  \n",
    "    # for each mode, save its corresponding np arr\n",
    "    X = np.array(X) \n",
    "    y = np.array(y)\n",
    "    data_files = work_dir +\"/\"+npy_data_file\n",
    "    label_files = work_dir +\"/\"+npy_labels_file\n",
    "    np.save(data_files, X) \n",
    "    np.save(label_files, y)\n"
   ]
  },
  {
   "cell_type": "markdown",
   "metadata": {},
   "source": [
    "##### 400 pictures of cats and dog, (56,56,3) shape"
   ]
  },
  {
   "cell_type": "code",
   "execution_count": null,
   "metadata": {},
   "outputs": [],
   "source": []
  }
 ],
 "metadata": {
  "kernelspec": {
   "display_name": "Python 3",
   "language": "python",
   "name": "python3"
  },
  "language_info": {
   "codemirror_mode": {
    "name": "ipython",
    "version": 3
   },
   "file_extension": ".py",
   "mimetype": "text/x-python",
   "name": "python",
   "nbconvert_exporter": "python",
   "pygments_lexer": "ipython3",
   "version": "3.6.10"
  }
 },
 "nbformat": 4,
 "nbformat_minor": 4
}
