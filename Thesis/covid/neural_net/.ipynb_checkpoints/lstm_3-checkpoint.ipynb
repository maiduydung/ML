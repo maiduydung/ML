{
 "cells": [
  {
   "cell_type": "code",
   "execution_count": 215,
   "id": "supported-juvenile",
   "metadata": {},
   "outputs": [],
   "source": [
    "import numpy as np\n",
    "import pandas as pd\n",
    "import matplotlib.pyplot as plt\n",
    "from keras.models import Sequential\n",
    "from keras.layers import LSTM, Dense, Dropout\n",
    "from sklearn.preprocessing import MinMaxScaler\n",
    "from sklearn.metrics import mean_squared_error\n",
    "from keras.preprocessing.sequence import TimeseriesGenerator\n",
    "import tensorflow as tf"
   ]
  },
  {
   "cell_type": "markdown",
   "id": "annoying-michael",
   "metadata": {},
   "source": [
    "## Infected and News"
   ]
  },
  {
   "cell_type": "code",
   "execution_count": 249,
   "id": "african-montana",
   "metadata": {},
   "outputs": [
    {
     "name": "stdout",
     "output_type": "stream",
     "text": [
      "(1300, 3)\n",
      "Date        datetime64[ns]\n",
      "Infected           float64\n",
      "score              float64\n",
      "dtype: object\n"
     ]
    },
    {
     "data": {
      "text/html": [
       "<div>\n",
       "<style scoped>\n",
       "    .dataframe tbody tr th:only-of-type {\n",
       "        vertical-align: middle;\n",
       "    }\n",
       "\n",
       "    .dataframe tbody tr th {\n",
       "        vertical-align: top;\n",
       "    }\n",
       "\n",
       "    .dataframe thead th {\n",
       "        text-align: right;\n",
       "    }\n",
       "</style>\n",
       "<table border=\"1\" class=\"dataframe\">\n",
       "  <thead>\n",
       "    <tr style=\"text-align: right;\">\n",
       "      <th></th>\n",
       "      <th>Date</th>\n",
       "      <th>Infected</th>\n",
       "      <th>score</th>\n",
       "    </tr>\n",
       "  </thead>\n",
       "  <tbody>\n",
       "    <tr>\n",
       "      <th>0</th>\n",
       "      <td>2020-08-31</td>\n",
       "      <td>430.0</td>\n",
       "      <td>0.0</td>\n",
       "    </tr>\n",
       "    <tr>\n",
       "      <th>1</th>\n",
       "      <td>2020-08-31</td>\n",
       "      <td>430.0</td>\n",
       "      <td>-3.0</td>\n",
       "    </tr>\n",
       "    <tr>\n",
       "      <th>2</th>\n",
       "      <td>2020-08-31</td>\n",
       "      <td>430.0</td>\n",
       "      <td>-3.0</td>\n",
       "    </tr>\n",
       "    <tr>\n",
       "      <th>3</th>\n",
       "      <td>2020-08-31</td>\n",
       "      <td>430.0</td>\n",
       "      <td>2.0</td>\n",
       "    </tr>\n",
       "    <tr>\n",
       "      <th>4</th>\n",
       "      <td>2020-09-01</td>\n",
       "      <td>624.0</td>\n",
       "      <td>-2.0</td>\n",
       "    </tr>\n",
       "  </tbody>\n",
       "</table>\n",
       "</div>"
      ],
      "text/plain": [
       "        Date  Infected  score\n",
       "0 2020-08-31     430.0    0.0\n",
       "1 2020-08-31     430.0   -3.0\n",
       "2 2020-08-31     430.0   -3.0\n",
       "3 2020-08-31     430.0    2.0\n",
       "4 2020-09-01     624.0   -2.0"
      ]
     },
     "execution_count": 249,
     "metadata": {},
     "output_type": "execute_result"
    }
   ],
   "source": [
    "df = pd.read_csv('df_infected_news_decimal.csv')\n",
    "df.drop(['infected_scaled','score_scaled'], axis = 1,inplace = True)\n",
    "df.rename(columns={\"Unnamed: 0\": \"Date\"}, inplace=True)\n",
    "df['Date'] = pd.to_datetime(df['Date'])\n",
    "print(df.shape)\n",
    "print(df.dtypes)\n",
    "df.head()"
   ]
  },
  {
   "cell_type": "code",
   "execution_count": 217,
   "id": "future-priority",
   "metadata": {},
   "outputs": [
    {
     "data": {
      "text/plain": [
       "[<matplotlib.lines.Line2D at 0x22a22165d30>]"
      ]
     },
     "execution_count": 217,
     "metadata": {},
     "output_type": "execute_result"
    },
    {
     "data": {
      "image/png": "[encoded data removed]",
      "text/plain": [
       "<Figure size 432x288 with 1 Axes>"
      ]
     },
     "metadata": {
      "needs_background": "light"
     },
     "output_type": "display_data"
    }
   ],
   "source": [
    "plt.plot(df['Infected'])"
   ]
  },
  {
   "cell_type": "code",
   "execution_count": 218,
   "id": "nearby-extraction",
   "metadata": {},
   "outputs": [
    {
     "data": {
      "text/plain": [
       "(array([216., 219., 223., 218.,   0., 196.,  47.,  69.,  57.,  55.]),\n",
       " array([-4. , -3.2, -2.4, -1.6, -0.8,  0. ,  0.8,  1.6,  2.4,  3.2,  4. ]),\n",
       " <BarContainer object of 10 artists>)"
      ]
     },
     "execution_count": 218,
     "metadata": {},
     "output_type": "execute_result"
    },
    {
     "data": {
      "image/png": "[encoded data removed]",
      "text/plain": [
       "<Figure size 432x288 with 1 Axes>"
      ]
     },
     "metadata": {
      "needs_background": "light"
     },
     "output_type": "display_data"
    }
   ],
   "source": [
    "plt.hist(df['score'])"
   ]
  },
  {
   "cell_type": "code",
   "execution_count": 219,
   "id": "supported-disney",
   "metadata": {},
   "outputs": [
    {
     "data": {
      "text/html": [
       "<div>\n",
       "<style scoped>\n",
       "    .dataframe tbody tr th:only-of-type {\n",
       "        vertical-align: middle;\n",
       "    }\n",
       "\n",
       "    .dataframe tbody tr th {\n",
       "        vertical-align: top;\n",
       "    }\n",
       "\n",
       "    .dataframe thead th {\n",
       "        text-align: right;\n",
       "    }\n",
       "</style>\n",
       "<table border=\"1\" class=\"dataframe\">\n",
       "  <thead>\n",
       "    <tr style=\"text-align: right;\">\n",
       "      <th></th>\n",
       "      <th>Unnamed: 0</th>\n",
       "      <th>Infected</th>\n",
       "      <th>score</th>\n",
       "      <th>infected_scaled</th>\n",
       "      <th>score_scaled</th>\n",
       "    </tr>\n",
       "  </thead>\n",
       "  <tbody>\n",
       "    <tr>\n",
       "      <th>0</th>\n",
       "      <td>2020-08-31</td>\n",
       "      <td>430.0</td>\n",
       "      <td>0.0</td>\n",
       "      <td>0.008346</td>\n",
       "      <td>0.500</td>\n",
       "    </tr>\n",
       "    <tr>\n",
       "      <th>1</th>\n",
       "      <td>2020-08-31</td>\n",
       "      <td>430.0</td>\n",
       "      <td>-3.0</td>\n",
       "      <td>0.008346</td>\n",
       "      <td>0.125</td>\n",
       "    </tr>\n",
       "    <tr>\n",
       "      <th>2</th>\n",
       "      <td>2020-08-31</td>\n",
       "      <td>430.0</td>\n",
       "      <td>-3.0</td>\n",
       "      <td>0.008346</td>\n",
       "      <td>0.125</td>\n",
       "    </tr>\n",
       "    <tr>\n",
       "      <th>3</th>\n",
       "      <td>2020-08-31</td>\n",
       "      <td>430.0</td>\n",
       "      <td>2.0</td>\n",
       "      <td>0.008346</td>\n",
       "      <td>0.750</td>\n",
       "    </tr>\n",
       "    <tr>\n",
       "      <th>4</th>\n",
       "      <td>2020-09-01</td>\n",
       "      <td>624.0</td>\n",
       "      <td>-2.0</td>\n",
       "      <td>0.015911</td>\n",
       "      <td>0.250</td>\n",
       "    </tr>\n",
       "  </tbody>\n",
       "</table>\n",
       "</div>"
      ],
      "text/plain": [
       "   Unnamed: 0  Infected  score  infected_scaled  score_scaled\n",
       "0  2020-08-31     430.0    0.0         0.008346         0.500\n",
       "1  2020-08-31     430.0   -3.0         0.008346         0.125\n",
       "2  2020-08-31     430.0   -3.0         0.008346         0.125\n",
       "3  2020-08-31     430.0    2.0         0.008346         0.750\n",
       "4  2020-09-01     624.0   -2.0         0.015911         0.250"
      ]
     },
     "execution_count": 219,
     "metadata": {},
     "output_type": "execute_result"
    }
   ],
   "source": [
    "# Feature Scaling\n",
    "sc = MinMaxScaler(feature_range = (0, 1))\n",
    "infected_scaled = sc.fit_transform(df['Infected'].values.astype(float).reshape(len(df), 1))\n",
    "score_scaled = sc.fit_transform(df['score'].values.astype(float).reshape(len(df), 1))\n",
    "\n",
    "df['infected_scaled'] = infected_scaled[:,0]\n",
    "df['score_scaled'] = score_scaled[:,0]\n",
    "\n",
    "df.head()"
   ]
  },
  {
   "cell_type": "code",
   "execution_count": 220,
   "id": "thick-washington",
   "metadata": {},
   "outputs": [
    {
     "data": {
      "text/html": [
       "<div>\n",
       "<style scoped>\n",
       "    .dataframe tbody tr th:only-of-type {\n",
       "        vertical-align: middle;\n",
       "    }\n",
       "\n",
       "    .dataframe tbody tr th {\n",
       "        vertical-align: top;\n",
       "    }\n",
       "\n",
       "    .dataframe thead th {\n",
       "        text-align: right;\n",
       "    }\n",
       "</style>\n",
       "<table border=\"1\" class=\"dataframe\">\n",
       "  <thead>\n",
       "    <tr style=\"text-align: right;\">\n",
       "      <th></th>\n",
       "      <th>Unnamed: 0</th>\n",
       "      <th>Infected</th>\n",
       "      <th>score</th>\n",
       "      <th>infected_scaled</th>\n",
       "      <th>score_scaled</th>\n",
       "    </tr>\n",
       "  </thead>\n",
       "  <tbody>\n",
       "    <tr>\n",
       "      <th>1295</th>\n",
       "      <td>2021-08-20</td>\n",
       "      <td>25858.0</td>\n",
       "      <td>-3.0</td>\n",
       "      <td>1.000000</td>\n",
       "      <td>0.125</td>\n",
       "    </tr>\n",
       "    <tr>\n",
       "      <th>1296</th>\n",
       "      <td>2021-08-20</td>\n",
       "      <td>25858.0</td>\n",
       "      <td>-1.0</td>\n",
       "      <td>1.000000</td>\n",
       "      <td>0.375</td>\n",
       "    </tr>\n",
       "    <tr>\n",
       "      <th>1297</th>\n",
       "      <td>2021-08-20</td>\n",
       "      <td>25858.0</td>\n",
       "      <td>-1.0</td>\n",
       "      <td>1.000000</td>\n",
       "      <td>0.375</td>\n",
       "    </tr>\n",
       "    <tr>\n",
       "      <th>1298</th>\n",
       "      <td>2021-08-21</td>\n",
       "      <td>25461.0</td>\n",
       "      <td>-2.0</td>\n",
       "      <td>0.984518</td>\n",
       "      <td>0.250</td>\n",
       "    </tr>\n",
       "    <tr>\n",
       "      <th>1299</th>\n",
       "      <td>2021-08-21</td>\n",
       "      <td>25461.0</td>\n",
       "      <td>-2.0</td>\n",
       "      <td>0.984518</td>\n",
       "      <td>0.250</td>\n",
       "    </tr>\n",
       "  </tbody>\n",
       "</table>\n",
       "</div>"
      ],
      "text/plain": [
       "      Unnamed: 0  Infected  score  infected_scaled  score_scaled\n",
       "1295  2021-08-20   25858.0   -3.0         1.000000         0.125\n",
       "1296  2021-08-20   25858.0   -1.0         1.000000         0.375\n",
       "1297  2021-08-20   25858.0   -1.0         1.000000         0.375\n",
       "1298  2021-08-21   25461.0   -2.0         0.984518         0.250\n",
       "1299  2021-08-21   25461.0   -2.0         0.984518         0.250"
      ]
     },
     "execution_count": 220,
     "metadata": {},
     "output_type": "execute_result"
    }
   ],
   "source": [
    "df.tail()"
   ]
  },
  {
   "cell_type": "code",
   "execution_count": 221,
   "id": "clear-valley",
   "metadata": {},
   "outputs": [
    {
     "data": {
      "text/plain": [
       "array([[  3436.],\n",
       "       [  3436.],\n",
       "       [  3436.],\n",
       "       ...,\n",
       "       [206860.],\n",
       "       [203684.],\n",
       "       [203684.]])"
      ]
     },
     "execution_count": 221,
     "metadata": {},
     "output_type": "execute_result"
    }
   ],
   "source": [
    "sc.inverse_transform(df['Infected'].values.reshape(len(df), 1))"
   ]
  },
  {
   "cell_type": "code",
   "execution_count": 222,
   "id": "flying-benjamin",
   "metadata": {},
   "outputs": [
    {
     "name": "stdout",
     "output_type": "stream",
     "text": [
      "MinMaxScaler()\n",
      "[[0.00834568]\n",
      " [0.00834568]\n",
      " [0.00834568]\n",
      " ...\n",
      " [1.        ]\n",
      " [0.98451759]\n",
      " [0.98451759]]\n"
     ]
    }
   ],
   "source": [
    "sc = MinMaxScaler(feature_range = (0, 1))\n",
    "data = df['Infected'].values.reshape(len(df), 1)\n",
    "\n",
    "print(sc.fit(data))\n",
    "\n",
    "print(sc.transform(data))\n"
   ]
  },
  {
   "cell_type": "code",
   "execution_count": 223,
   "id": "jewish-coach",
   "metadata": {},
   "outputs": [
    {
     "data": {
      "text/plain": [
       "[<matplotlib.lines.Line2D at 0x22a22235850>]"
      ]
     },
     "execution_count": 223,
     "metadata": {},
     "output_type": "execute_result"
    },
    {
     "data": {
      "image/png": "[encoded data removed]",
      "text/plain": [
       "<Figure size 432x288 with 1 Axes>"
      ]
     },
     "metadata": {
      "needs_background": "light"
     },
     "output_type": "display_data"
    }
   ],
   "source": [
    "temp = sc.inverse_transform(y_pred.reshape(len(y_pred), 1))\n",
    "plt.plot(temp+10000)"
   ]
  },
  {
   "cell_type": "code",
   "execution_count": 224,
   "id": "imported-register",
   "metadata": {},
   "outputs": [],
   "source": [
    "def split_seq(sequence, n_steps_in, n_steps_out):\n",
    "    X = []\n",
    "    y = []\n",
    "    for i in range(len(sequence)):\n",
    "        end_idx = i + n_steps_in\n",
    "        steps_out_idx = end_idx + n_steps_out\n",
    "        \n",
    "        #check if we reach end of arr or not\n",
    "        if (steps_out_idx > len(sequence)):\n",
    "            break\n",
    "        seq_x = sequence[i:end_idx]\n",
    "        seq_y = sequence[end_idx:steps_out_idx]\n",
    "        X.append(seq_x)\n",
    "        y.append(seq_y)\n",
    "    return X, y"
   ]
  },
  {
   "cell_type": "code",
   "execution_count": 225,
   "id": "absent-canberra",
   "metadata": {},
   "outputs": [
    {
     "name": "stdout",
     "output_type": "stream",
     "text": [
      "(1296, 8, 1)\n",
      "(1296, 1, 1)\n"
     ]
    }
   ],
   "source": [
    "X_infected, y_infected = split_seq(df['infected_scaled'].values,4,1)\n",
    "X_infected = np.array(X_infected)\n",
    "y_infected = np.array(y_infected)\n",
    "\n",
    "\n",
    "#print(X_infected.shape, y_infected.shape)\n",
    "X_news, y_news = split_seq(df['score_scaled'].values,4,1)\n",
    "X_news = np.array(X_news)\n",
    "y_news = np.array(y_news)\n",
    "#print(X_news.shape, y_news.shape)\n",
    "\n",
    "### Concat horizotally with hstack\n",
    "X = np.hstack([X_infected,X_news])\n",
    "#X = np.hstack([X_infected])\n",
    "\n",
    "y = np.hstack([y_infected]) #only output infected cases\n",
    "\n",
    "X = X.reshape((X.shape[0],X.shape[1],1))\n",
    "y = y.reshape((y.shape[0],y.shape[1],1))\n",
    "\n",
    "print(X.shape)\n",
    "print(y.shape)"
   ]
  },
  {
   "cell_type": "code",
   "execution_count": 226,
   "id": "hispanic-steam",
   "metadata": {},
   "outputs": [],
   "source": [
    "X_train = X[:1000,:]\n",
    "X_test  = X[1000:,:]\n",
    "y_train = y[:1000,:]\n",
    "y_test  = y[1000:,:]"
   ]
  },
  {
   "cell_type": "raw",
   "id": "continuous-enough",
   "metadata": {},
   "source": [
    "sc.inverse_transform(y_train.reshape(-1,1))"
   ]
  },
  {
   "cell_type": "code",
   "execution_count": 227,
   "id": "digital-jersey",
   "metadata": {},
   "outputs": [
    {
     "data": {
      "text/plain": [
       "(8, 1)"
      ]
     },
     "execution_count": 227,
     "metadata": {},
     "output_type": "execute_result"
    }
   ],
   "source": [
    "input_shape = (X_train.shape[1],X_train.shape[2])\n",
    "input_shape"
   ]
  },
  {
   "cell_type": "code",
   "execution_count": 257,
   "id": "level-session",
   "metadata": {},
   "outputs": [
    {
     "name": "stdout",
     "output_type": "stream",
     "text": [
      "Epoch 1/20\n",
      "8/8 [==============================] - 0s 18ms/step - loss: 0.0815\n",
      "Epoch 2/20\n",
      "8/8 [==============================] - 0s 17ms/step - loss: 0.0662\n",
      "Epoch 3/20\n",
      "8/8 [==============================] - 0s 16ms/step - loss: 0.0638\n",
      "Epoch 4/20\n",
      "8/8 [==============================] - 0s 16ms/step - loss: 0.0614\n",
      "Epoch 5/20\n",
      "8/8 [==============================] - 0s 16ms/step - loss: 0.0570\n",
      "Epoch 6/20\n",
      "8/8 [==============================] - 0s 16ms/step - loss: 0.0444\n",
      "Epoch 7/20\n",
      "8/8 [==============================] - 0s 17ms/step - loss: 0.0344\n",
      "Epoch 8/20\n",
      "8/8 [==============================] - 0s 16ms/step - loss: 0.0321\n",
      "Epoch 9/20\n",
      "8/8 [==============================] - 0s 17ms/step - loss: 0.0282\n",
      "Epoch 10/20\n",
      "8/8 [==============================] - 0s 16ms/step - loss: 0.0283\n",
      "Epoch 11/20\n",
      "8/8 [==============================] - 0s 16ms/step - loss: 0.0265\n",
      "Epoch 12/20\n",
      "8/8 [==============================] - 0s 18ms/step - loss: 0.0249\n",
      "Epoch 13/20\n",
      "8/8 [==============================] - 0s 18ms/step - loss: 0.0247\n",
      "Epoch 14/20\n",
      "8/8 [==============================] - 0s 19ms/step - loss: 0.0244\n",
      "Epoch 15/20\n",
      "8/8 [==============================] - 0s 17ms/step - loss: 0.0219\n",
      "Epoch 16/20\n",
      "8/8 [==============================] - 0s 16ms/step - loss: 0.0229\n",
      "Epoch 17/20\n",
      "8/8 [==============================] - 0s 18ms/step - loss: 0.0223\n",
      "Epoch 18/20\n",
      "8/8 [==============================] - 0s 17ms/step - loss: 0.0222\n",
      "Epoch 19/20\n",
      "8/8 [==============================] - 0s 18ms/step - loss: 0.0225\n",
      "Epoch 20/20\n",
      "8/8 [==============================] - 0s 18ms/step - loss: 0.0216\n"
     ]
    },
    {
     "data": {
      "text/plain": [
       "<tensorflow.python.keras.callbacks.History at 0x22a30a2fe80>"
      ]
     },
     "execution_count": 257,
     "metadata": {},
     "output_type": "execute_result"
    }
   ],
   "source": [
    "model = Sequential()\n",
    "\n",
    "#Adding the first LSTM layer and some Dropout regularisation\n",
    "model.add(LSTM(units = 50, return_sequences = True, activation='relu', input_shape = input_shape))\n",
    "model.add(Dropout(0.2))\n",
    "\n",
    "# Adding a second LSTM layer and some Dropout regularisation\n",
    "model.add(LSTM(units = 50, return_sequences = True,activation='relu'))\n",
    "model.add(Dropout(0.2))\n",
    "\n",
    "# Adding a third LSTM layer and some Dropout regularisation\n",
    "model.add(LSTM(units = 50, return_sequences = True, activation='relu'))\n",
    "model.add(Dropout(0.2))\n",
    "\n",
    "# Adding a fourth LSTM layer and some Dropout regularisation\n",
    "model.add(LSTM(units = 50, activation='relu'))\n",
    "model.add(Dropout(0.2))\n",
    "\n",
    "# Adding the output layer\n",
    "model.add(Dense(units = 1, activation='relu'))\n",
    "\n",
    "# Compiling the RNN\n",
    "model.compile(optimizer = 'adam', loss = 'mean_absolute_error')\n",
    "\n",
    "# Fitting the RNN to the Training set\n",
    "model.fit(X_train, y_train, epochs = 20, batch_size = 128)"
   ]
  },
  {
   "cell_type": "code",
   "execution_count": 258,
   "id": "seeing-italy",
   "metadata": {},
   "outputs": [],
   "source": [
    "y_pred = model.predict(X_test)\n",
    "y_pred = sc.inverse_transform(y_pred) #revert scaling\n",
    "#print(sc.inverse_transform(y_pred))"
   ]
  },
  {
   "cell_type": "code",
   "execution_count": 271,
   "id": "personal-consequence",
   "metadata": {},
   "outputs": [
    {
     "data": {
      "text/plain": [
       "(296, 1)"
      ]
     },
     "execution_count": 271,
     "metadata": {},
     "output_type": "execute_result"
    }
   ],
   "source": [
    "y_pred.shape"
   ]
  },
  {
   "cell_type": "code",
   "execution_count": 265,
   "id": "expressed-dimension",
   "metadata": {},
   "outputs": [
    {
     "data": {
      "text/plain": [
       "<matplotlib.legend.Legend at 0x22a37d752e0>"
      ]
     },
     "execution_count": 265,
     "metadata": {},
     "output_type": "execute_result"
    },
    {
     "data": {
      "image/png": "[encoded data removed]",
      "text/plain": [
       "<Figure size 432x288 with 1 Axes>"
      ]
     },
     "metadata": {
      "needs_background": "light"
     },
     "output_type": "display_data"
    }
   ],
   "source": [
    "plt.plot(y_pred, label='Prediction')\n",
    "plt.plot(range(0,300),df['Infected'][1000:],label='Observed')\n",
    "plt.legend()"
   ]
  },
  {
   "cell_type": "code",
   "execution_count": 266,
   "id": "durable-concord",
   "metadata": {},
   "outputs": [],
   "source": [
    "baseline_pred = [1967.5939,2052.4905,2144.919,2271.373,2422.5845,2631.1199,2912.3054,3188.3577,3381.7207,\n",
    " 3568.1086,3773.8875,4020.4053,4301.9863,4568.4927,4754.5425,4857.541,5098.7334,5612.994,\n",
    " 6465.246,7630.6973,9067.51, 10449.382,11484.035,12239.141,12774.059,13206.16,13610.28,\n",
    " 14098.468,14685.9375,15053.421,15125.069,14900.711,14640.211,14656.9795,15204.301,16001.616,\n",
    " 16718.99,17469.127,18195.7,18963.37,19846.715]"
   ]
  },
  {
   "cell_type": "code",
   "execution_count": 299,
   "id": "descending-ambassador",
   "metadata": {},
   "outputs": [
    {
     "data": {
      "text/plain": [
       "41"
      ]
     },
     "execution_count": 299,
     "metadata": {},
     "output_type": "execute_result"
    }
   ],
   "source": [
    "len(baseline_pred)"
   ]
  },
  {
   "cell_type": "code",
   "execution_count": 301,
   "id": "innovative-accounting",
   "metadata": {},
   "outputs": [],
   "source": [
    "from tslearn.preprocessing import TimeSeriesResampler\n",
    "baseline_pred_resampled = TimeSeriesResampler(sz=y_pred.shape[0]).fit_transform(baseline_pred)\n",
    "baseline_pred_resampled = baseline_pred_resampled.reshape(-1)"
   ]
  },
  {
   "cell_type": "code",
   "execution_count": 305,
   "id": "extreme-socket",
   "metadata": {},
   "outputs": [
    {
     "ename": "ValueError",
     "evalue": "x and y arrays must have at least 2 entries",
     "output_type": "error",
     "traceback": [
      "\u001b[1;31m---------------------------------------------------------------------------\u001b[0m",
      "\u001b[1;31mValueError\u001b[0m                                Traceback (most recent call last)",
      "\u001b[1;32m<ipython-input-305-363848c6b86a>\u001b[0m in \u001b[0;36m<module>\u001b[1;34m\u001b[0m\n\u001b[0;32m      1\u001b[0m \u001b[0my_pred_resampled\u001b[0m \u001b[1;33m=\u001b[0m \u001b[0mTimeSeriesResampler\u001b[0m\u001b[1;33m(\u001b[0m\u001b[0msz\u001b[0m\u001b[1;33m=\u001b[0m\u001b[0mlen\u001b[0m\u001b[1;33m(\u001b[0m\u001b[0mbaseline_pred\u001b[0m\u001b[1;33m)\u001b[0m\u001b[1;33m)\u001b[0m\u001b[1;33m\u001b[0m\u001b[1;33m\u001b[0m\u001b[0m\n\u001b[1;32m----> 2\u001b[1;33m \u001b[0my_pred_resampled\u001b[0m\u001b[1;33m.\u001b[0m\u001b[0mfit_transform\u001b[0m\u001b[1;33m(\u001b[0m\u001b[0my_pred\u001b[0m\u001b[1;33m)\u001b[0m\u001b[1;33m\u001b[0m\u001b[1;33m\u001b[0m\u001b[0m\n\u001b[0m\u001b[0;32m      3\u001b[0m \u001b[1;31m#baseline_pred_resampled = baseline_pred_resampled.reshape(-1)\u001b[0m\u001b[1;33m\u001b[0m\u001b[1;33m\u001b[0m\u001b[1;33m\u001b[0m\u001b[0m\n",
      "\u001b[1;32m~\\.conda\\envs\\tf\\lib\\site-packages\\tslearn\\preprocessing\\preprocessing.py\u001b[0m in \u001b[0;36mfit_transform\u001b[1;34m(self, X, y, **kwargs)\u001b[0m\n\u001b[0;32m     69\u001b[0m             \u001b[0mResampled\u001b[0m \u001b[0mtime\u001b[0m \u001b[0mseries\u001b[0m \u001b[0mdataset\u001b[0m\u001b[1;33m.\u001b[0m\u001b[1;33m\u001b[0m\u001b[1;33m\u001b[0m\u001b[0m\n\u001b[0;32m     70\u001b[0m         \"\"\"\n\u001b[1;32m---> 71\u001b[1;33m         \u001b[1;32mreturn\u001b[0m \u001b[0mself\u001b[0m\u001b[1;33m.\u001b[0m\u001b[0mfit\u001b[0m\u001b[1;33m(\u001b[0m\u001b[0mX\u001b[0m\u001b[1;33m)\u001b[0m\u001b[1;33m.\u001b[0m\u001b[0mtransform\u001b[0m\u001b[1;33m(\u001b[0m\u001b[0mX\u001b[0m\u001b[1;33m)\u001b[0m\u001b[1;33m\u001b[0m\u001b[1;33m\u001b[0m\u001b[0m\n\u001b[0m\u001b[0;32m     72\u001b[0m \u001b[1;33m\u001b[0m\u001b[0m\n\u001b[0;32m     73\u001b[0m     \u001b[1;32mdef\u001b[0m \u001b[0mtransform\u001b[0m\u001b[1;33m(\u001b[0m\u001b[0mself\u001b[0m\u001b[1;33m,\u001b[0m \u001b[0mX\u001b[0m\u001b[1;33m,\u001b[0m \u001b[0my\u001b[0m\u001b[1;33m=\u001b[0m\u001b[1;32mNone\u001b[0m\u001b[1;33m,\u001b[0m \u001b[1;33m**\u001b[0m\u001b[0mkwargs\u001b[0m\u001b[1;33m)\u001b[0m\u001b[1;33m:\u001b[0m\u001b[1;33m\u001b[0m\u001b[1;33m\u001b[0m\u001b[0m\n",
      "\u001b[1;32m~\\.conda\\envs\\tf\\lib\\site-packages\\tslearn\\preprocessing\\preprocessing.py\u001b[0m in \u001b[0;36mtransform\u001b[1;34m(self, X, y, **kwargs)\u001b[0m\n\u001b[0;32m     95\u001b[0m                 \u001b[0msz\u001b[0m \u001b[1;33m=\u001b[0m \u001b[0mts_size\u001b[0m\u001b[1;33m(\u001b[0m\u001b[0mX_\u001b[0m\u001b[1;33m[\u001b[0m\u001b[0mi\u001b[0m\u001b[1;33m]\u001b[0m\u001b[1;33m)\u001b[0m\u001b[1;33m\u001b[0m\u001b[1;33m\u001b[0m\u001b[0m\n\u001b[0;32m     96\u001b[0m             \u001b[1;32mfor\u001b[0m \u001b[0mdi\u001b[0m \u001b[1;32min\u001b[0m \u001b[0mrange\u001b[0m\u001b[1;33m(\u001b[0m\u001b[0md\u001b[0m\u001b[1;33m)\u001b[0m\u001b[1;33m:\u001b[0m\u001b[1;33m\u001b[0m\u001b[1;33m\u001b[0m\u001b[0m\n\u001b[1;32m---> 97\u001b[1;33m                 f = interp1d(numpy.linspace(0, 1, sz), X_[i, :sz, di],\n\u001b[0m\u001b[0;32m     98\u001b[0m                              kind=\"slinear\")\n\u001b[0;32m     99\u001b[0m                 \u001b[0mX_out\u001b[0m\u001b[1;33m[\u001b[0m\u001b[0mi\u001b[0m\u001b[1;33m,\u001b[0m \u001b[1;33m:\u001b[0m\u001b[1;33m,\u001b[0m \u001b[0mdi\u001b[0m\u001b[1;33m]\u001b[0m \u001b[1;33m=\u001b[0m \u001b[0mf\u001b[0m\u001b[1;33m(\u001b[0m\u001b[0mxnew\u001b[0m\u001b[1;33m)\u001b[0m\u001b[1;33m\u001b[0m\u001b[1;33m\u001b[0m\u001b[0m\n",
      "\u001b[1;32m~\\.conda\\envs\\tf\\lib\\site-packages\\scipy\\interpolate\\interpolate.py\u001b[0m in \u001b[0;36m__init__\u001b[1;34m(***failed resolving arguments***)\u001b[0m\n\u001b[0;32m    538\u001b[0m \u001b[1;33m\u001b[0m\u001b[0m\n\u001b[0;32m    539\u001b[0m         \u001b[1;32mif\u001b[0m \u001b[0mlen\u001b[0m\u001b[1;33m(\u001b[0m\u001b[0mself\u001b[0m\u001b[1;33m.\u001b[0m\u001b[0mx\u001b[0m\u001b[1;33m)\u001b[0m \u001b[1;33m<\u001b[0m \u001b[0mminval\u001b[0m\u001b[1;33m:\u001b[0m\u001b[1;33m\u001b[0m\u001b[1;33m\u001b[0m\u001b[0m\n\u001b[1;32m--> 540\u001b[1;33m             raise ValueError(\"x and y arrays must have at \"\n\u001b[0m\u001b[0;32m    541\u001b[0m                              \"least %d entries\" % minval)\n\u001b[0;32m    542\u001b[0m \u001b[1;33m\u001b[0m\u001b[0m\n",
      "\u001b[1;31mValueError\u001b[0m: x and y arrays must have at least 2 entries"
     ]
    }
   ],
   "source": [
    "y_pred_resampled = TimeSeriesResampler(sz=len(baseline_pred))\n",
    "y_pred_resampled.fit_transform(y_pred)\n",
    "#baseline_pred_resampled = baseline_pred_resampled.reshape(-1)"
   ]
  },
  {
   "cell_type": "code",
   "execution_count": 298,
   "id": "gross-russell",
   "metadata": {},
   "outputs": [
    {
     "data": {
      "text/plain": [
       "<matplotlib.legend.Legend at 0x22a3a73d640>"
      ]
     },
     "execution_count": 298,
     "metadata": {},
     "output_type": "execute_result"
    },
    {
     "data": {
      "image/png": "[encoded data removed]",
      "text/plain": [
       "<Figure size 960x320 with 1 Axes>"
      ]
     },
     "metadata": {
      "needs_background": "light"
     },
     "output_type": "display_data"
    }
   ],
   "source": [
    "from matplotlib.pyplot import figure\n",
    "figure(figsize=(12, 4), dpi=80)\n",
    "\n",
    "plt.plot(baseline_pred_resampled, label = 'Predict with infected cases')\n",
    "plt.plot(y_pred, label='Predict with infected cases and news',linewidth=5)\n",
    "plt.plot(range(0,300),df['Infected'][1000:],label='Observed')\n",
    "plt.legend()"
   ]
  },
  {
   "cell_type": "code",
   "execution_count": null,
   "id": "mexican-software",
   "metadata": {},
   "outputs": [],
   "source": []
  },
  {
   "cell_type": "raw",
   "id": "raising-korean",
   "metadata": {},
   "source": [
    "yhat = model.predict(test_X)\n",
    "test_X = test_X.reshape((test_X.shape[0], test_X.shape[2]))\n",
    "\n",
    "# invert scaling for forecast\n",
    "inv_yhat = concatenate((yhat, test_X[:, 1:]), axis=1)\n",
    "inv_yhat = scaler.inverse_transform(inv_yhat)\n",
    "inv_yhat = inv_yhat[:,0]\n",
    "\n",
    "# invert scaling for actual\n",
    "test_y = test_y.reshape((len(test_y), 1))\n",
    "inv_y = concatenate((test_y, test_X[:, 1:]), axis=1)\n",
    "inv_y = scaler.inverse_transform(inv_y)\n",
    "inv_y = inv_y[:,0]\n",
    "\n",
    "# calculate RMSE\n",
    "rmse = sqrt(mean_squared_error(inv_y, inv_yhat))\n",
    "print('Test RMSE: %.3f' % rmse)"
   ]
  }
 ],
 "metadata": {
  "kernelspec": {
   "display_name": "Python 3",
   "language": "python",
   "name": "python3"
  },
  "language_info": {
   "codemirror_mode": {
    "name": "ipython",
    "version": 3
   },
   "file_extension": ".py",
   "mimetype": "text/x-python",
   "name": "python",
   "nbconvert_exporter": "python",
   "pygments_lexer": "ipython3",
   "version": "3.8.5"
  }
 },
 "nbformat": 4,
 "nbformat_minor": 5
}
