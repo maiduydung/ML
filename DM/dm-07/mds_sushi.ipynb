{
 "cells": [
  {
   "cell_type": "markdown",
   "metadata": {},
   "source": [
    "### Sample program of Multidimensional Scaling (MDS)  "
   ]
  },
  {
   "cell_type": "markdown",
   "metadata": {},
   "source": [
    "#### Import libraries  "
   ]
  },
  {
   "cell_type": "code",
   "execution_count": 1,
   "metadata": {},
   "outputs": [],
   "source": [
    "import numpy as np\n",
    "import pandas as pd\n",
    "import matplotlib.pyplot as plt\n",
    "from sklearn.manifold import MDS"
   ]
  },
  {
   "cell_type": "markdown",
   "metadata": {},
   "source": [
    "#### Parameters  "
   ]
  },
  {
   "cell_type": "code",
   "execution_count": 2,
   "metadata": {},
   "outputs": [],
   "source": [
    "csv_in = 'sushi_corr25_dist.csv'\n",
    "\n",
    "# To show more rows and columns\n",
    "pd.options.display.max_rows = 999 \n",
    "pd.options.display.max_columns = 999 "
   ]
  },
  {
   "cell_type": "markdown",
   "metadata": {},
   "source": [
    "#### Read CSV file (distance data)    "
   ]
  },
  {
   "cell_type": "code",
   "execution_count": 3,
   "metadata": {},
   "outputs": [
    {
     "name": "stdout",
     "output_type": "stream",
     "text": [
      "(25, 25)\n",
      "<class 'pandas.core.frame.DataFrame'>\n",
      "Index: 25 entries, ebi to kanpachi\n",
      "Data columns (total 25 columns):\n",
      " #   Column     Non-Null Count  Dtype  \n",
      "---  ------     --------------  -----  \n",
      " 0   ebi        25 non-null     float64\n",
      " 1   anago      25 non-null     float64\n",
      " 2   maguro     25 non-null     float64\n",
      " 3   ika        25 non-null     float64\n",
      " 4   uni        25 non-null     float64\n",
      " 5   tako       25 non-null     float64\n",
      " 6   ikura      25 non-null     float64\n",
      " 7   tamago     25 non-null     float64\n",
      " 8   amaebi     25 non-null     float64\n",
      " 9   hotategai  25 non-null     float64\n",
      " 10  tai        25 non-null     float64\n",
      " 11  akagai     25 non-null     float64\n",
      " 12  hamachi    25 non-null     float64\n",
      " 13  awabi      25 non-null     float64\n",
      " 14  samon      25 non-null     float64\n",
      " 15  kazunoko   25 non-null     float64\n",
      " 16  shako      25 non-null     float64\n",
      " 17  saba       25 non-null     float64\n",
      " 18  chu_toro   25 non-null     float64\n",
      " 19  hirame     25 non-null     float64\n",
      " 20  aji        25 non-null     float64\n",
      " 21  kohada     25 non-null     float64\n",
      " 22  torigai    25 non-null     float64\n",
      " 23  unagi      25 non-null     float64\n",
      " 24  kanpachi   25 non-null     float64\n",
      "dtypes: float64(25)\n",
      "memory usage: 5.6+ KB\n",
      "None\n"
     ]
    },
    {
     "data": {
      "text/html": [
       "<div>\n",
       "<style scoped>\n",
       "    .dataframe tbody tr th:only-of-type {\n",
       "        vertical-align: middle;\n",
       "    }\n",
       "\n",
       "    .dataframe tbody tr th {\n",
       "        vertical-align: top;\n",
       "    }\n",
       "\n",
       "    .dataframe thead th {\n",
       "        text-align: right;\n",
       "    }\n",
       "</style>\n",
       "<table border=\"1\" class=\"dataframe\">\n",
       "  <thead>\n",
       "    <tr style=\"text-align: right;\">\n",
       "      <th></th>\n",
       "      <th>ebi</th>\n",
       "      <th>anago</th>\n",
       "      <th>maguro</th>\n",
       "      <th>ika</th>\n",
       "      <th>uni</th>\n",
       "      <th>tako</th>\n",
       "      <th>ikura</th>\n",
       "      <th>tamago</th>\n",
       "      <th>amaebi</th>\n",
       "      <th>hotategai</th>\n",
       "      <th>tai</th>\n",
       "      <th>akagai</th>\n",
       "      <th>hamachi</th>\n",
       "      <th>awabi</th>\n",
       "      <th>samon</th>\n",
       "      <th>kazunoko</th>\n",
       "      <th>shako</th>\n",
       "      <th>saba</th>\n",
       "      <th>chu_toro</th>\n",
       "      <th>hirame</th>\n",
       "      <th>aji</th>\n",
       "      <th>kohada</th>\n",
       "      <th>torigai</th>\n",
       "      <th>unagi</th>\n",
       "      <th>kanpachi</th>\n",
       "    </tr>\n",
       "  </thead>\n",
       "  <tbody>\n",
       "    <tr>\n",
       "      <th>ebi</th>\n",
       "      <td>0.000</td>\n",
       "      <td>0.479</td>\n",
       "      <td>0.489</td>\n",
       "      <td>0.397</td>\n",
       "      <td>0.489</td>\n",
       "      <td>0.401</td>\n",
       "      <td>0.513</td>\n",
       "      <td>0.450</td>\n",
       "      <td>0.338</td>\n",
       "      <td>0.406</td>\n",
       "      <td>0.498</td>\n",
       "      <td>0.442</td>\n",
       "      <td>0.525</td>\n",
       "      <td>0.458</td>\n",
       "      <td>0.465</td>\n",
       "      <td>0.446</td>\n",
       "      <td>0.404</td>\n",
       "      <td>0.532</td>\n",
       "      <td>0.502</td>\n",
       "      <td>0.485</td>\n",
       "      <td>0.501</td>\n",
       "      <td>0.471</td>\n",
       "      <td>0.444</td>\n",
       "      <td>0.429</td>\n",
       "      <td>0.527</td>\n",
       "    </tr>\n",
       "    <tr>\n",
       "      <th>anago</th>\n",
       "      <td>0.479</td>\n",
       "      <td>0.000</td>\n",
       "      <td>0.443</td>\n",
       "      <td>0.492</td>\n",
       "      <td>0.406</td>\n",
       "      <td>0.462</td>\n",
       "      <td>0.489</td>\n",
       "      <td>0.444</td>\n",
       "      <td>0.445</td>\n",
       "      <td>0.397</td>\n",
       "      <td>0.431</td>\n",
       "      <td>0.428</td>\n",
       "      <td>0.423</td>\n",
       "      <td>0.391</td>\n",
       "      <td>0.416</td>\n",
       "      <td>0.466</td>\n",
       "      <td>0.340</td>\n",
       "      <td>0.363</td>\n",
       "      <td>0.420</td>\n",
       "      <td>0.369</td>\n",
       "      <td>0.372</td>\n",
       "      <td>0.344</td>\n",
       "      <td>0.406</td>\n",
       "      <td>0.196</td>\n",
       "      <td>0.393</td>\n",
       "    </tr>\n",
       "    <tr>\n",
       "      <th>maguro</th>\n",
       "      <td>0.489</td>\n",
       "      <td>0.443</td>\n",
       "      <td>0.000</td>\n",
       "      <td>0.411</td>\n",
       "      <td>0.472</td>\n",
       "      <td>0.487</td>\n",
       "      <td>0.475</td>\n",
       "      <td>0.552</td>\n",
       "      <td>0.467</td>\n",
       "      <td>0.472</td>\n",
       "      <td>0.374</td>\n",
       "      <td>0.494</td>\n",
       "      <td>0.319</td>\n",
       "      <td>0.504</td>\n",
       "      <td>0.380</td>\n",
       "      <td>0.468</td>\n",
       "      <td>0.516</td>\n",
       "      <td>0.411</td>\n",
       "      <td>0.248</td>\n",
       "      <td>0.358</td>\n",
       "      <td>0.349</td>\n",
       "      <td>0.483</td>\n",
       "      <td>0.531</td>\n",
       "      <td>0.464</td>\n",
       "      <td>0.357</td>\n",
       "    </tr>\n",
       "    <tr>\n",
       "      <th>ika</th>\n",
       "      <td>0.397</td>\n",
       "      <td>0.492</td>\n",
       "      <td>0.411</td>\n",
       "      <td>0.000</td>\n",
       "      <td>0.453</td>\n",
       "      <td>0.219</td>\n",
       "      <td>0.516</td>\n",
       "      <td>0.539</td>\n",
       "      <td>0.390</td>\n",
       "      <td>0.362</td>\n",
       "      <td>0.442</td>\n",
       "      <td>0.346</td>\n",
       "      <td>0.435</td>\n",
       "      <td>0.407</td>\n",
       "      <td>0.501</td>\n",
       "      <td>0.455</td>\n",
       "      <td>0.431</td>\n",
       "      <td>0.475</td>\n",
       "      <td>0.472</td>\n",
       "      <td>0.414</td>\n",
       "      <td>0.425</td>\n",
       "      <td>0.496</td>\n",
       "      <td>0.360</td>\n",
       "      <td>0.467</td>\n",
       "      <td>0.396</td>\n",
       "    </tr>\n",
       "    <tr>\n",
       "      <th>uni</th>\n",
       "      <td>0.489</td>\n",
       "      <td>0.406</td>\n",
       "      <td>0.472</td>\n",
       "      <td>0.453</td>\n",
       "      <td>0.000</td>\n",
       "      <td>0.520</td>\n",
       "      <td>0.321</td>\n",
       "      <td>0.555</td>\n",
       "      <td>0.407</td>\n",
       "      <td>0.339</td>\n",
       "      <td>0.405</td>\n",
       "      <td>0.325</td>\n",
       "      <td>0.394</td>\n",
       "      <td>0.303</td>\n",
       "      <td>0.439</td>\n",
       "      <td>0.387</td>\n",
       "      <td>0.314</td>\n",
       "      <td>0.368</td>\n",
       "      <td>0.392</td>\n",
       "      <td>0.364</td>\n",
       "      <td>0.390</td>\n",
       "      <td>0.398</td>\n",
       "      <td>0.333</td>\n",
       "      <td>0.388</td>\n",
       "      <td>0.356</td>\n",
       "    </tr>\n",
       "  </tbody>\n",
       "</table>\n",
       "</div>"
      ],
      "text/plain": [
       "          ebi  anago  maguro    ika    uni   tako  ikura  tamago  amaebi  \\\n",
       "ebi     0.000  0.479   0.489  0.397  0.489  0.401  0.513   0.450   0.338   \n",
       "anago   0.479  0.000   0.443  0.492  0.406  0.462  0.489   0.444   0.445   \n",
       "maguro  0.489  0.443   0.000  0.411  0.472  0.487  0.475   0.552   0.467   \n",
       "ika     0.397  0.492   0.411  0.000  0.453  0.219  0.516   0.539   0.390   \n",
       "uni     0.489  0.406   0.472  0.453  0.000  0.520  0.321   0.555   0.407   \n",
       "\n",
       "        hotategai    tai  akagai  hamachi  awabi  samon  kazunoko  shako  \\\n",
       "ebi         0.406  0.498   0.442    0.525  0.458  0.465     0.446  0.404   \n",
       "anago       0.397  0.431   0.428    0.423  0.391  0.416     0.466  0.340   \n",
       "maguro      0.472  0.374   0.494    0.319  0.504  0.380     0.468  0.516   \n",
       "ika         0.362  0.442   0.346    0.435  0.407  0.501     0.455  0.431   \n",
       "uni         0.339  0.405   0.325    0.394  0.303  0.439     0.387  0.314   \n",
       "\n",
       "         saba  chu_toro  hirame    aji  kohada  torigai  unagi  kanpachi  \n",
       "ebi     0.532     0.502   0.485  0.501   0.471    0.444  0.429     0.527  \n",
       "anago   0.363     0.420   0.369  0.372   0.344    0.406  0.196     0.393  \n",
       "maguro  0.411     0.248   0.358  0.349   0.483    0.531  0.464     0.357  \n",
       "ika     0.475     0.472   0.414  0.425   0.496    0.360  0.467     0.396  \n",
       "uni     0.368     0.392   0.364  0.390   0.398    0.333  0.388     0.356  "
      ]
     },
     "metadata": {},
     "output_type": "display_data"
    }
   ],
   "source": [
    "df = pd.read_csv(csv_in, delimiter=',', skiprows=0, header=0)\n",
    "df.index = df.columns\n",
    "print(df.shape)\n",
    "print(df.info())\n",
    "display(df.head())"
   ]
  },
  {
   "cell_type": "markdown",
   "metadata": {},
   "source": [
    "#### MDS calculation  "
   ]
  },
  {
   "cell_type": "code",
   "execution_count": 4,
   "metadata": {},
   "outputs": [
    {
     "name": "stdout",
     "output_type": "stream",
     "text": [
      "(25, 2)\n"
     ]
    }
   ],
   "source": [
    "embedding = MDS(n_components=2, dissimilarity='precomputed', random_state=19)\n",
    "X_trans = embedding.fit_transform(df)\n",
    "print(X_trans.shape)"
   ]
  },
  {
   "cell_type": "markdown",
   "metadata": {},
   "source": [
    "#### Show the results  "
   ]
  },
  {
   "cell_type": "code",
   "execution_count": 5,
   "metadata": {},
   "outputs": [
    {
     "data": {
      "image/png": "[encoded data removed]",
      "text/plain": [
       "<Figure size 720x504 with 1 Axes>"
      ]
     },
     "metadata": {
      "needs_background": "light"
     },
     "output_type": "display_data"
    }
   ],
   "source": [
    "dx = 0.01\n",
    "plt.figure(figsize=(10,7))\n",
    "plt.scatter(X_trans[:, 0], X_trans[:, 1])\n",
    "for i in range(X_trans.shape[0]):\n",
    "    plt.text(X_trans[i,0]+dx, X_trans[i,1], df.columns[i], color='r', fontsize=12)\n",
    "plt.xlabel('X')\n",
    "plt.ylabel('Y')\n",
    "plt.show()"
   ]
  },
  {
   "cell_type": "code",
   "execution_count": null,
   "metadata": {},
   "outputs": [],
   "source": []
  }
 ],
 "metadata": {
  "anaconda-cloud": {},
  "kernelspec": {
   "display_name": "Python 3",
   "language": "python",
   "name": "python3"
  },
  "language_info": {
   "codemirror_mode": {
    "name": "ipython",
    "version": 3
   },
   "file_extension": ".py",
   "mimetype": "text/x-python",
   "name": "python",
   "nbconvert_exporter": "python",
   "pygments_lexer": "ipython3",
   "version": "3.8.5"
  }
 },
 "nbformat": 4,
 "nbformat_minor": 4
}
