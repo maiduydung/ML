{
 "cells": [
  {
   "cell_type": "code",
   "execution_count": 54,
   "metadata": {},
   "outputs": [],
   "source": [
    "from sklearn.datasets import fetch_california_housing\n",
    "from sklearn.model_selection import train_test_split\n",
    "from sklearn.preprocessing import StandardScaler\n",
    "\n",
    "import tensorflow as tf\n",
    "from tensorflow import keras\n",
    "import numpy as np\n",
    "import pandas as pd\n",
    "import matplotlib.pyplot as plt\n",
    "\n",
    "import os\n",
    "root_dir = os.path.join(os.curdir,\"my_logs\")"
   ]
  },
  {
   "cell_type": "code",
   "execution_count": 55,
   "metadata": {},
   "outputs": [],
   "source": [
    "def get_run_logdir():\n",
    "    import time\n",
    "    run_id = time.strftime(\"run_%Y_%m_%d-%H_%M_%S\")\n",
    "    return os.path.join(root_dir,run_id)\n",
    "\n",
    "run_logdir = get_run_logdir() "
   ]
  },
  {
   "cell_type": "code",
   "execution_count": 56,
   "metadata": {},
   "outputs": [
    {
     "data": {
      "text/plain": [
       "'.\\\\my_logs\\\\run_2021_06_09-16_45_06'"
      ]
     },
     "execution_count": 56,
     "metadata": {},
     "output_type": "execute_result"
    }
   ],
   "source": [
    "run_logdir"
   ]
  },
  {
   "cell_type": "code",
   "execution_count": 35,
   "metadata": {},
   "outputs": [
    {
     "data": {
      "text/html": [
       "<div>\n",
       "<style scoped>\n",
       "    .dataframe tbody tr th:only-of-type {\n",
       "        vertical-align: middle;\n",
       "    }\n",
       "\n",
       "    .dataframe tbody tr th {\n",
       "        vertical-align: top;\n",
       "    }\n",
       "\n",
       "    .dataframe thead th {\n",
       "        text-align: right;\n",
       "    }\n",
       "</style>\n",
       "<table border=\"1\" class=\"dataframe\">\n",
       "  <thead>\n",
       "    <tr style=\"text-align: right;\">\n",
       "      <th></th>\n",
       "      <th>MedInc</th>\n",
       "      <th>HouseAge</th>\n",
       "      <th>AveRooms</th>\n",
       "      <th>AveBedrms</th>\n",
       "      <th>Population</th>\n",
       "      <th>AveOccup</th>\n",
       "      <th>Latitude</th>\n",
       "      <th>Longitude</th>\n",
       "      <th>Target</th>\n",
       "    </tr>\n",
       "  </thead>\n",
       "  <tbody>\n",
       "    <tr>\n",
       "      <th>0</th>\n",
       "      <td>8.3252</td>\n",
       "      <td>41.0</td>\n",
       "      <td>6.984127</td>\n",
       "      <td>1.023810</td>\n",
       "      <td>322.0</td>\n",
       "      <td>2.555556</td>\n",
       "      <td>37.88</td>\n",
       "      <td>-122.23</td>\n",
       "      <td>4.526</td>\n",
       "    </tr>\n",
       "    <tr>\n",
       "      <th>1</th>\n",
       "      <td>8.3014</td>\n",
       "      <td>21.0</td>\n",
       "      <td>6.238137</td>\n",
       "      <td>0.971880</td>\n",
       "      <td>2401.0</td>\n",
       "      <td>2.109842</td>\n",
       "      <td>37.86</td>\n",
       "      <td>-122.22</td>\n",
       "      <td>3.585</td>\n",
       "    </tr>\n",
       "    <tr>\n",
       "      <th>2</th>\n",
       "      <td>7.2574</td>\n",
       "      <td>52.0</td>\n",
       "      <td>8.288136</td>\n",
       "      <td>1.073446</td>\n",
       "      <td>496.0</td>\n",
       "      <td>2.802260</td>\n",
       "      <td>37.85</td>\n",
       "      <td>-122.24</td>\n",
       "      <td>3.521</td>\n",
       "    </tr>\n",
       "    <tr>\n",
       "      <th>3</th>\n",
       "      <td>5.6431</td>\n",
       "      <td>52.0</td>\n",
       "      <td>5.817352</td>\n",
       "      <td>1.073059</td>\n",
       "      <td>558.0</td>\n",
       "      <td>2.547945</td>\n",
       "      <td>37.85</td>\n",
       "      <td>-122.25</td>\n",
       "      <td>3.413</td>\n",
       "    </tr>\n",
       "    <tr>\n",
       "      <th>4</th>\n",
       "      <td>3.8462</td>\n",
       "      <td>52.0</td>\n",
       "      <td>6.281853</td>\n",
       "      <td>1.081081</td>\n",
       "      <td>565.0</td>\n",
       "      <td>2.181467</td>\n",
       "      <td>37.85</td>\n",
       "      <td>-122.25</td>\n",
       "      <td>3.422</td>\n",
       "    </tr>\n",
       "  </tbody>\n",
       "</table>\n",
       "</div>"
      ],
      "text/plain": [
       "   MedInc  HouseAge  AveRooms  AveBedrms  Population  AveOccup  Latitude  \\\n",
       "0  8.3252      41.0  6.984127   1.023810       322.0  2.555556     37.88   \n",
       "1  8.3014      21.0  6.238137   0.971880      2401.0  2.109842     37.86   \n",
       "2  7.2574      52.0  8.288136   1.073446       496.0  2.802260     37.85   \n",
       "3  5.6431      52.0  5.817352   1.073059       558.0  2.547945     37.85   \n",
       "4  3.8462      52.0  6.281853   1.081081       565.0  2.181467     37.85   \n",
       "\n",
       "   Longitude  Target  \n",
       "0    -122.23   4.526  \n",
       "1    -122.22   3.585  \n",
       "2    -122.24   3.521  \n",
       "3    -122.25   3.413  \n",
       "4    -122.25   3.422  "
      ]
     },
     "execution_count": 35,
     "metadata": {},
     "output_type": "execute_result"
    }
   ],
   "source": [
    "housing = fetch_california_housing()\n",
    "df = pd.DataFrame(housing.data, columns=housing.feature_names)\n",
    "df[\"Target\"] = housing.target\n",
    "df.head()"
   ]
  },
  {
   "cell_type": "code",
   "execution_count": 36,
   "metadata": {},
   "outputs": [],
   "source": [
    "X_train_full, X_test, y_train_full, y_test = train_test_split(df.loc[:,:'Longitude'], df[\"Target\"])\n",
    "X_train, X_valid, y_train, y_valid = train_test_split(X_train_full, y_train_full)"
   ]
  },
  {
   "cell_type": "code",
   "execution_count": 37,
   "metadata": {},
   "outputs": [
    {
     "data": {
      "text/html": [
       "<div>\n",
       "<style scoped>\n",
       "    .dataframe tbody tr th:only-of-type {\n",
       "        vertical-align: middle;\n",
       "    }\n",
       "\n",
       "    .dataframe tbody tr th {\n",
       "        vertical-align: top;\n",
       "    }\n",
       "\n",
       "    .dataframe thead th {\n",
       "        text-align: right;\n",
       "    }\n",
       "</style>\n",
       "<table border=\"1\" class=\"dataframe\">\n",
       "  <thead>\n",
       "    <tr style=\"text-align: right;\">\n",
       "      <th></th>\n",
       "      <th>MedInc</th>\n",
       "      <th>HouseAge</th>\n",
       "      <th>AveRooms</th>\n",
       "      <th>AveBedrms</th>\n",
       "      <th>Population</th>\n",
       "      <th>AveOccup</th>\n",
       "      <th>Latitude</th>\n",
       "      <th>Longitude</th>\n",
       "    </tr>\n",
       "  </thead>\n",
       "  <tbody>\n",
       "    <tr>\n",
       "      <th>10973</th>\n",
       "      <td>2.8828</td>\n",
       "      <td>26.0</td>\n",
       "      <td>5.290618</td>\n",
       "      <td>1.201373</td>\n",
       "      <td>1273.0</td>\n",
       "      <td>2.913043</td>\n",
       "      <td>33.76</td>\n",
       "      <td>-117.85</td>\n",
       "    </tr>\n",
       "    <tr>\n",
       "      <th>6200</th>\n",
       "      <td>3.5000</td>\n",
       "      <td>35.0</td>\n",
       "      <td>4.806180</td>\n",
       "      <td>0.941011</td>\n",
       "      <td>825.0</td>\n",
       "      <td>2.317416</td>\n",
       "      <td>34.08</td>\n",
       "      <td>-117.89</td>\n",
       "    </tr>\n",
       "    <tr>\n",
       "      <th>1825</th>\n",
       "      <td>2.6750</td>\n",
       "      <td>33.0</td>\n",
       "      <td>4.698413</td>\n",
       "      <td>1.158730</td>\n",
       "      <td>216.0</td>\n",
       "      <td>3.428571</td>\n",
       "      <td>37.93</td>\n",
       "      <td>-122.32</td>\n",
       "    </tr>\n",
       "    <tr>\n",
       "      <th>16586</th>\n",
       "      <td>3.4821</td>\n",
       "      <td>16.0</td>\n",
       "      <td>5.008989</td>\n",
       "      <td>1.029213</td>\n",
       "      <td>1199.0</td>\n",
       "      <td>2.694382</td>\n",
       "      <td>37.75</td>\n",
       "      <td>-121.44</td>\n",
       "    </tr>\n",
       "    <tr>\n",
       "      <th>7879</th>\n",
       "      <td>4.6713</td>\n",
       "      <td>33.0</td>\n",
       "      <td>4.643098</td>\n",
       "      <td>0.855219</td>\n",
       "      <td>795.0</td>\n",
       "      <td>2.676768</td>\n",
       "      <td>33.87</td>\n",
       "      <td>-118.11</td>\n",
       "    </tr>\n",
       "    <tr>\n",
       "      <th>...</th>\n",
       "      <td>...</td>\n",
       "      <td>...</td>\n",
       "      <td>...</td>\n",
       "      <td>...</td>\n",
       "      <td>...</td>\n",
       "      <td>...</td>\n",
       "      <td>...</td>\n",
       "      <td>...</td>\n",
       "    </tr>\n",
       "    <tr>\n",
       "      <th>2927</th>\n",
       "      <td>1.0560</td>\n",
       "      <td>24.0</td>\n",
       "      <td>4.462069</td>\n",
       "      <td>1.112644</td>\n",
       "      <td>1277.0</td>\n",
       "      <td>2.935632</td>\n",
       "      <td>35.36</td>\n",
       "      <td>-119.01</td>\n",
       "    </tr>\n",
       "    <tr>\n",
       "      <th>11696</th>\n",
       "      <td>4.5033</td>\n",
       "      <td>21.0</td>\n",
       "      <td>5.258097</td>\n",
       "      <td>1.032389</td>\n",
       "      <td>2539.0</td>\n",
       "      <td>2.569838</td>\n",
       "      <td>33.89</td>\n",
       "      <td>-117.99</td>\n",
       "    </tr>\n",
       "    <tr>\n",
       "      <th>13285</th>\n",
       "      <td>4.0375</td>\n",
       "      <td>32.0</td>\n",
       "      <td>5.877483</td>\n",
       "      <td>1.039735</td>\n",
       "      <td>1067.0</td>\n",
       "      <td>3.533113</td>\n",
       "      <td>34.07</td>\n",
       "      <td>-117.68</td>\n",
       "    </tr>\n",
       "    <tr>\n",
       "      <th>17549</th>\n",
       "      <td>2.4968</td>\n",
       "      <td>46.0</td>\n",
       "      <td>4.374622</td>\n",
       "      <td>0.996979</td>\n",
       "      <td>1094.0</td>\n",
       "      <td>3.305136</td>\n",
       "      <td>37.35</td>\n",
       "      <td>-121.86</td>\n",
       "    </tr>\n",
       "    <tr>\n",
       "      <th>3489</th>\n",
       "      <td>3.5714</td>\n",
       "      <td>38.0</td>\n",
       "      <td>4.491176</td>\n",
       "      <td>0.976471</td>\n",
       "      <td>1303.0</td>\n",
       "      <td>3.832353</td>\n",
       "      <td>34.28</td>\n",
       "      <td>-118.45</td>\n",
       "    </tr>\n",
       "  </tbody>\n",
       "</table>\n",
       "<p>5160 rows × 8 columns</p>\n",
       "</div>"
      ],
      "text/plain": [
       "       MedInc  HouseAge  AveRooms  AveBedrms  Population  AveOccup  Latitude  \\\n",
       "10973  2.8828      26.0  5.290618   1.201373      1273.0  2.913043     33.76   \n",
       "6200   3.5000      35.0  4.806180   0.941011       825.0  2.317416     34.08   \n",
       "1825   2.6750      33.0  4.698413   1.158730       216.0  3.428571     37.93   \n",
       "16586  3.4821      16.0  5.008989   1.029213      1199.0  2.694382     37.75   \n",
       "7879   4.6713      33.0  4.643098   0.855219       795.0  2.676768     33.87   \n",
       "...       ...       ...       ...        ...         ...       ...       ...   \n",
       "2927   1.0560      24.0  4.462069   1.112644      1277.0  2.935632     35.36   \n",
       "11696  4.5033      21.0  5.258097   1.032389      2539.0  2.569838     33.89   \n",
       "13285  4.0375      32.0  5.877483   1.039735      1067.0  3.533113     34.07   \n",
       "17549  2.4968      46.0  4.374622   0.996979      1094.0  3.305136     37.35   \n",
       "3489   3.5714      38.0  4.491176   0.976471      1303.0  3.832353     34.28   \n",
       "\n",
       "       Longitude  \n",
       "10973    -117.85  \n",
       "6200     -117.89  \n",
       "1825     -122.32  \n",
       "16586    -121.44  \n",
       "7879     -118.11  \n",
       "...          ...  \n",
       "2927     -119.01  \n",
       "11696    -117.99  \n",
       "13285    -117.68  \n",
       "17549    -121.86  \n",
       "3489     -118.45  \n",
       "\n",
       "[5160 rows x 8 columns]"
      ]
     },
     "execution_count": 37,
     "metadata": {},
     "output_type": "execute_result"
    }
   ],
   "source": [
    "X_test"
   ]
  },
  {
   "cell_type": "code",
   "execution_count": 38,
   "metadata": {},
   "outputs": [],
   "source": [
    "scaler = StandardScaler()\n",
    "X_train = scaler.fit_transform(X_train)\n",
    "X_valid = scaler.transform(X_valid)\n",
    "X_test = scaler.transform(X_test)\n"
   ]
  },
  {
   "cell_type": "code",
   "execution_count": 39,
   "metadata": {},
   "outputs": [
    {
     "data": {
      "text/plain": [
       "numpy.ndarray"
      ]
     },
     "execution_count": 39,
     "metadata": {},
     "output_type": "execute_result"
    }
   ],
   "source": [
    "type(X_train)"
   ]
  },
  {
   "cell_type": "raw",
   "metadata": {},
   "source": [
    "model = keras.models.Sequential([\n",
    " keras.layers.Dense(30, activation=\"relu\", input_shape=X_train.shape[1:]),\n",
    " keras.layers.Dense(50, activation=\"relu\"),\n",
    " keras.layers.Dense(50, activation=\"relu\"),\n",
    " keras.layers.Dense(1)\n",
    "])\n",
    "model.compile(loss=\"mean_squared_error\", optimizer=\"sgd\")\n"
   ]
  },
  {
   "cell_type": "code",
   "execution_count": null,
   "metadata": {},
   "outputs": [],
   "source": []
  },
  {
   "cell_type": "code",
   "execution_count": 40,
   "metadata": {},
   "outputs": [],
   "source": [
    "#history = model.fit(X_train, y_train, epochs=60, validation_data=(X_valid, y_valid))\n"
   ]
  },
  {
   "cell_type": "raw",
   "metadata": {},
   "source": [
    "mse_test = model.evaluate(X_test, y_test)\n",
    "X_new = X_test[:3] # pretend these are new instances\n",
    "y_pred = model.predict(X_new)"
   ]
  },
  {
   "cell_type": "raw",
   "metadata": {},
   "source": [
    "mse_test"
   ]
  },
  {
   "cell_type": "code",
   "execution_count": 41,
   "metadata": {},
   "outputs": [
    {
     "data": {
      "text/plain": [
       "(11610, 5)"
      ]
     },
     "execution_count": 41,
     "metadata": {},
     "output_type": "execute_result"
    }
   ],
   "source": [
    "X_train_A.shape"
   ]
  },
  {
   "cell_type": "code",
   "execution_count": 42,
   "metadata": {},
   "outputs": [],
   "source": [
    "#wide & deep neural net"
   ]
  },
  {
   "cell_type": "code",
   "execution_count": 43,
   "metadata": {},
   "outputs": [],
   "source": [
    "#model_wide_deep = keras.models.Sequential()\n",
    "input_A = keras.layers.Input(shape=[5], name=\"wide_input\")\n",
    "input_B = keras.layers.Input(shape=[6], name=\"deep_input\")\n",
    "hidden1 = keras.layers.Dense(30, activation=\"relu\")(input_B)\n",
    "hidden2 = keras.layers.Dense(30, activation=\"relu\")(hidden1)\n",
    "concat = keras.layers.concatenate([input_A, hidden2])\n",
    "output = keras.layers.Dense(1, name=\"main_output\")(concat)\n",
    "aux_output = keras.layers.Dense(1, name=\"aux_output\")(hidden2)\n",
    "model = keras.Model(inputs=[input_A, input_B], outputs=[output, aux_output])\n",
    "\n",
    "\n",
    "\n"
   ]
  },
  {
   "cell_type": "code",
   "execution_count": 44,
   "metadata": {},
   "outputs": [
    {
     "name": "stdout",
     "output_type": "stream",
     "text": [
      "Model: \"model\"\n",
      "__________________________________________________________________________________________________\n",
      "Layer (type)                    Output Shape         Param #     Connected to                     \n",
      "==================================================================================================\n",
      "input_1 (InputLayer)            [(None, 8)]          0                                            \n",
      "__________________________________________________________________________________________________\n",
      "dense (Dense)                   (None, 30)           270         input_1[0][0]                    \n",
      "__________________________________________________________________________________________________\n",
      "dense_1 (Dense)                 (None, 30)           930         dense[0][0]                      \n",
      "__________________________________________________________________________________________________\n",
      "concatenate (Concatenate)       (None, 38)           0           input_1[0][0]                    \n",
      "                                                                 dense_1[0][0]                    \n",
      "__________________________________________________________________________________________________\n",
      "dense_2 (Dense)                 (None, 1)            39          concatenate[0][0]                \n",
      "==================================================================================================\n",
      "Total params: 1,239\n",
      "Trainable params: 1,239\n",
      "Non-trainable params: 0\n",
      "__________________________________________________________________________________________________\n"
     ]
    }
   ],
   "source": [
    "model_wide_deep.summary()"
   ]
  },
  {
   "cell_type": "code",
   "execution_count": 45,
   "metadata": {},
   "outputs": [],
   "source": [
    "model.compile(loss=[\"mse\", \"mse\"], loss_weights=[0.9, 0.1], optimizer=\"sgd\")\n",
    "X_train_A, X_train_B = X_train[:, :5], X_train[:, 2:]\n",
    "X_valid_A, X_valid_B = X_valid[:, :5], X_valid[:, 2:]\n",
    "X_test_A, X_test_B = X_test[:, :5], X_test[:, 2:]\n",
    "X_new_A, X_new_B = X_test_A[:3], X_test_B[:3]\n",
    "\n"
   ]
  },
  {
   "cell_type": "code",
   "execution_count": 58,
   "metadata": {},
   "outputs": [
    {
     "name": "stdout",
     "output_type": "stream",
     "text": [
      "Epoch 1/20\n",
      "363/363 [==============================] - 2s 6ms/step - loss: 0.3177 - main_output_loss: 0.3101 - aux_output_loss: 0.3858 - val_loss: 0.3288 - val_main_output_loss: 0.3216 - val_aux_output_loss: 0.3936\n",
      "Epoch 2/20\n",
      "363/363 [==============================] - 2s 5ms/step - loss: 0.3170 - main_output_loss: 0.3094 - aux_output_loss: 0.3854 - val_loss: 0.3217 - val_main_output_loss: 0.3143 - val_aux_output_loss: 0.3879\n",
      "Epoch 3/20\n",
      "363/363 [==============================] - 2s 5ms/step - loss: 0.3173 - main_output_loss: 0.3098 - aux_output_loss: 0.3847 - val_loss: 0.3352 - val_main_output_loss: 0.3283 - val_aux_output_loss: 0.3977\n",
      "Epoch 4/20\n",
      "363/363 [==============================] - 2s 5ms/step - loss: 0.3153 - main_output_loss: 0.3078 - aux_output_loss: 0.3832 - val_loss: 0.3210 - val_main_output_loss: 0.3136 - val_aux_output_loss: 0.3878\n",
      "Epoch 5/20\n",
      "363/363 [==============================] - 2s 5ms/step - loss: 0.3176 - main_output_loss: 0.3102 - aux_output_loss: 0.3838 - val_loss: 0.3202 - val_main_output_loss: 0.3130 - val_aux_output_loss: 0.3848\n",
      "Epoch 6/20\n",
      "363/363 [==============================] - 3s 7ms/step - loss: 0.3165 - main_output_loss: 0.3091 - aux_output_loss: 0.3827 - val_loss: 0.3214 - val_main_output_loss: 0.3140 - val_aux_output_loss: 0.3876\n",
      "Epoch 7/20\n",
      "363/363 [==============================] - 2s 5ms/step - loss: 0.3173 - main_output_loss: 0.3101 - aux_output_loss: 0.3817 - val_loss: 0.3204 - val_main_output_loss: 0.3131 - val_aux_output_loss: 0.3856\n",
      "Epoch 8/20\n",
      "363/363 [==============================] - 2s 5ms/step - loss: 0.3139 - main_output_loss: 0.3063 - aux_output_loss: 0.3821 - val_loss: 0.3249 - val_main_output_loss: 0.3175 - val_aux_output_loss: 0.3918\n",
      "Epoch 9/20\n",
      "363/363 [==============================] - 2s 5ms/step - loss: 0.3148 - main_output_loss: 0.3073 - aux_output_loss: 0.3823 - val_loss: 0.3193 - val_main_output_loss: 0.3122 - val_aux_output_loss: 0.3830\n",
      "Epoch 10/20\n",
      "363/363 [==============================] - 2s 6ms/step - loss: 0.3151 - main_output_loss: 0.3078 - aux_output_loss: 0.3802 - val_loss: 0.3186 - val_main_output_loss: 0.3112 - val_aux_output_loss: 0.3853\n",
      "Epoch 11/20\n",
      "363/363 [==============================] - 2s 6ms/step - loss: 0.3144 - main_output_loss: 0.3070 - aux_output_loss: 0.3812 - val_loss: 0.3269 - val_main_output_loss: 0.3200 - val_aux_output_loss: 0.3887\n",
      "Epoch 12/20\n",
      "363/363 [==============================] - 2s 5ms/step - loss: 0.3119 - main_output_loss: 0.3044 - aux_output_loss: 0.3795 - val_loss: 0.3319 - val_main_output_loss: 0.3246 - val_aux_output_loss: 0.3984\n",
      "Epoch 13/20\n",
      "363/363 [==============================] - 2s 6ms/step - loss: 0.3128 - main_output_loss: 0.3054 - aux_output_loss: 0.3797 - val_loss: 0.3248 - val_main_output_loss: 0.3179 - val_aux_output_loss: 0.3868\n",
      "Epoch 14/20\n",
      "363/363 [==============================] - 2s 6ms/step - loss: 0.3116 - main_output_loss: 0.3042 - aux_output_loss: 0.3780 - val_loss: 0.3366 - val_main_output_loss: 0.3295 - val_aux_output_loss: 0.4006\n",
      "Epoch 15/20\n",
      "363/363 [==============================] - 2s 7ms/step - loss: 0.3119 - main_output_loss: 0.3046 - aux_output_loss: 0.3778 - val_loss: 0.3200 - val_main_output_loss: 0.3130 - val_aux_output_loss: 0.3833\n",
      "Epoch 16/20\n",
      "363/363 [==============================] - 2s 6ms/step - loss: 0.3119 - main_output_loss: 0.3044 - aux_output_loss: 0.3789 - val_loss: 0.3171 - val_main_output_loss: 0.3101 - val_aux_output_loss: 0.3797\n",
      "Epoch 17/20\n",
      "363/363 [==============================] - 2s 6ms/step - loss: 0.3128 - main_output_loss: 0.3056 - aux_output_loss: 0.3775 - val_loss: 0.3357 - val_main_output_loss: 0.3294 - val_aux_output_loss: 0.3932\n",
      "Epoch 18/20\n",
      "363/363 [==============================] - 2s 6ms/step - loss: 0.3133 - main_output_loss: 0.3061 - aux_output_loss: 0.3782 - val_loss: 0.3155 - val_main_output_loss: 0.3082 - val_aux_output_loss: 0.3810\n",
      "Epoch 19/20\n",
      "363/363 [==============================] - 2s 6ms/step - loss: 0.3098 - main_output_loss: 0.3025 - aux_output_loss: 0.3753 - val_loss: 0.3314 - val_main_output_loss: 0.3248 - val_aux_output_loss: 0.3904\n",
      "Epoch 20/20\n",
      "363/363 [==============================] - 2s 6ms/step - loss: 0.3102 - main_output_loss: 0.3029 - aux_output_loss: 0.3753 - val_loss: 0.3333 - val_main_output_loss: 0.3258 - val_aux_output_loss: 0.4006\n"
     ]
    }
   ],
   "source": [
    "tensorboard_cb = keras.callbacks.TensorBoard(run_logdir)\n",
    "history = model.fit( [X_train_A, X_train_B], [y_train, y_train], epochs=20, validation_data=([X_valid_A, X_valid_B], [y_valid, y_valid]),callbacks=[tensorboard_cb])\n"
   ]
  },
  {
   "cell_type": "code",
   "execution_count": 62,
   "metadata": {},
   "outputs": [],
   "source": [
    "load_ext tensorboard"
   ]
  },
  {
   "cell_type": "code",
   "execution_count": 64,
   "metadata": {},
   "outputs": [
    {
     "data": {
      "text/plain": [
       "ERROR: Could not find `tensorboard`. Please ensure that your PATH\n",
       "contains an executable `tensorboard` program, or explicitly specify\n",
       "the path to a TensorBoard binary by setting the `TENSORBOARD_BINARY`\n",
       "environment variable."
      ]
     },
     "metadata": {},
     "output_type": "display_data"
    }
   ],
   "source": [
    "tensorboard --logdir=~/my_logs --port=6006"
   ]
  },
  {
   "cell_type": "code",
   "execution_count": null,
   "metadata": {},
   "outputs": [],
   "source": []
  }
 ],
 "metadata": {
  "kernelspec": {
   "display_name": "Python 3",
   "language": "python",
   "name": "python3"
  },
  "language_info": {
   "codemirror_mode": {
    "name": "ipython",
    "version": 3
   },
   "file_extension": ".py",
   "mimetype": "text/x-python",
   "name": "python",
   "nbconvert_exporter": "python",
   "pygments_lexer": "ipython3",
   "version": "3.6.10"
  }
 },
 "nbformat": 4,
 "nbformat_minor": 4
}
