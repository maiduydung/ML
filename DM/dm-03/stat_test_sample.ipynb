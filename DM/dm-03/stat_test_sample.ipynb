{
 "cells": [
  {
   "cell_type": "markdown",
   "metadata": {},
   "source": [
    "### Training of statistical test "
   ]
  },
  {
   "cell_type": "code",
   "execution_count": null,
   "metadata": {},
   "outputs": [],
   "source": [
    "import numpy as np\n",
    "import pandas as pd\n",
    "import scipy.stats as ss"
   ]
  },
  {
   "cell_type": "markdown",
   "metadata": {},
   "source": [
    "#### 1. Can population mean of weight be regarded as 100 [g] ? (one-sample t-test)  \n",
    "重さの母平均は100gであると見なせるか？ (1標本t検定)  \n",
    "\n",
    "H0: Can be regarded as 100 [g]"
   ]
  },
  {
   "cell_type": "code",
   "execution_count": null,
   "metadata": {},
   "outputs": [],
   "source": [
    "csv_in = 'stat_test_sample1.csv'\n",
    "df1 = pd.read_csv(csv_in, delimiter=',', skiprows=0, header=0)\n",
    "print(df1.shape)\n",
    "display(df1.head())"
   ]
  },
  {
   "cell_type": "code",
   "execution_count": null,
   "metadata": {},
   "outputs": [],
   "source": [
    "print(df1['Weight'].mean())\n",
    "t, p = ss.ttest_1samp(df1['Weight'], 100.0)\n",
    "print(t, p)"
   ]
  },
  {
   "cell_type": "markdown",
   "metadata": {},
   "source": [
    "##### (Conclusion) p < 0.05, so population mean of the weight CANNOT be regarded as 100g  \n",
    "(結論) p < 0.05なので、重さの母平均は100gであるとは見なせない。"
   ]
  },
  {
   "cell_type": "markdown",
   "metadata": {},
   "source": [
    "#### 2. Does the population mean of blood pressure decrease after taking a medichine? (paired t-test)\n",
    "服薬後に血圧の母平均は低下したといえるか？ (対応のある2標本t検定)  \n",
    "\n",
    "H0: Population mean of blood pressure DOES NOT decreased  "
   ]
  },
  {
   "cell_type": "code",
   "execution_count": null,
   "metadata": {},
   "outputs": [],
   "source": [
    "csv_in = 'stat_test_sample2.csv'\n",
    "df2 = pd.read_csv(csv_in, delimiter=',', skiprows=0, header=0)\n",
    "print(df2.shape)\n",
    "display(df2.head())"
   ]
  },
  {
   "cell_type": "code",
   "execution_count": null,
   "metadata": {},
   "outputs": [],
   "source": [
    "print(df2['BP_before'], df2['BP_after'])\n",
    "t, p = ss.ttest_1samp(df2['BP_after']-df2['BP_before'], 0.0)\n",
    "print(t, p/2)"
   ]
  },
  {
   "cell_type": "markdown",
   "metadata": {},
   "source": [
    "##### (Conclusion) t < 0 and p/2 < 0.05, so population mean of the blood pressure significantly decreased after taking this medicine.  \n",
    "(結論) t < 0 かつ p/2 < 0.05 なので、この薬を飲むと血圧の母平均は有意に下がったといえる。"
   ]
  },
  {
   "cell_type": "markdown",
   "metadata": {},
   "source": [
    "#### 3. Are the population means of exam results different between male and female? (unpaired t-test, two-sided)\n",
    "試験点数の母平均に男女差があるといえるか？ (対応のない2標本t検定, 両側検定)  \n",
    "\n",
    "H0: Population means of exam results are NOT different  "
   ]
  },
  {
   "cell_type": "code",
   "execution_count": null,
   "metadata": {},
   "outputs": [],
   "source": [
    "csv_in = 'stat_test_sample3.csv'\n",
    "df3 = pd.read_csv(csv_in, delimiter=',', skiprows=0, header=0)\n",
    "print(df3.shape)\n",
    "display(df3.head())"
   ]
  },
  {
   "cell_type": "code",
   "execution_count": null,
   "metadata": {},
   "outputs": [],
   "source": [
    "df3_M = df3[ df3['M_or_F'] == 'M' ]\n",
    "df3_F = df3[ df3['M_or_F'] == 'F' ]\n",
    "print(df3_M['Points'].mean(), df3_F['Points'].mean())\n",
    "t, p = ss.ttest_ind(df3_M['Points'], df3_F['Points'], equal_var=False)\n",
    "print(t, p)"
   ]
  },
  {
   "cell_type": "markdown",
   "metadata": {},
   "source": [
    "##### (Conclusion) p > 0.05, so there is no evidence that the population mean of males' points is significantly different from that of females' points.  \n",
    "(結論) p > 0.05 なので、試験点数の母平均に有意な男女差があるとはいえない。  "
   ]
  },
  {
   "cell_type": "markdown",
   "metadata": {},
   "source": [
    "#### 3-2.Is the population mean of female better than that of male? (unpaired t-test, one-sided)\n",
    "試験点数の母平均は女の方が男よりよいといえるか？ (対応のない2標本t検定, 片側検定)  \n",
    "\n",
    "H0: Population mean of female is NOT different from that of male  "
   ]
  },
  {
   "cell_type": "code",
   "execution_count": null,
   "metadata": {},
   "outputs": [],
   "source": [
    "print(df3_M['Points'].mean(), df3_F['Points'].mean())\n",
    "t, p = ss.ttest_ind(df3_M['Points'], df3_F['Points'], equal_var=False)\n",
    "print(t, p)"
   ]
  },
  {
   "cell_type": "markdown",
   "metadata": {},
   "source": [
    "##### (Conclusion) p > 0.05, so there is no evidence that the population mean of females' points is significantly better than that of males' points.\n",
    "(結論) p > 0.05 なので、試験点数の母平均は女の方が男より有意によいとはいえない。  "
   ]
  },
  {
   "cell_type": "markdown",
   "metadata": {},
   "source": [
    "#### 4. Are the population MEDIANs of exam results different between male and female? (Mann-Whitney's U-test)\n",
    "試験点数の母**中央値**に男女差があるといえるか？ (Mann-WhitneyのU検定(WilcoxonNo順位和検定))  \n",
    "\n",
    "H0: Population medians of exam results are NOT different  "
   ]
  },
  {
   "cell_type": "code",
   "execution_count": null,
   "metadata": {},
   "outputs": [],
   "source": [
    "csv_in = 'stat_test_sample3.csv'\n",
    "df4 = pd.read_csv(csv_in, delimiter=',', skiprows=0, header=0)\n",
    "print(df4.shape)\n",
    "display(df4.head())"
   ]
  },
  {
   "cell_type": "code",
   "execution_count": null,
   "metadata": {},
   "outputs": [],
   "source": [
    "df4_M = df4[ df4['M_or_F'] == 'M' ]\n",
    "df4_F = df4[ df4['M_or_F'] == 'F' ]\n",
    "print(df4_M['Points'].median(), df4_F['Points'].median())\n",
    "u, p = ss.mannwhitneyu(df4_M['Points'], df4_F['Points'], alternative='two-sided')\n",
    "print(u, p)"
   ]
  },
  {
   "cell_type": "markdown",
   "metadata": {},
   "source": [
    "##### (Conclusion) p < 0.05, so population MEDIANs of male/femail points are significantly different.   \n",
    "Note that this conclusion is opposite to 3. using the same data.  \n",
    "\"0.05\" is NOT A GOLDEN THRESHOLD,  \n",
    "and we should collect more results to know about the data.  \n",
    "(結論) p < 0.05なので、試験点数の母中央値には有意な男女差がある。  \n",
    "注意: 3.とまったく同じデータを使用しているが結論は逆になっている。  \n",
    "「0.05」は何か根拠のある値ではない。データを把握するには、多くの解析を総合的に判断することが必要。  "
   ]
  },
  {
   "cell_type": "markdown",
   "metadata": {},
   "source": [
    "#### 5. Does the population MEDIAN of blood pressure decrease after taking a medichine? (Wilcoxon signed rank test)\n",
    "服薬後に血圧の母**中央値**は低下したといえるか？ (Wilcoxonの符号順位検定)  \n",
    "\n",
    "H0: Population medians of exam results DOES NOT decreased  "
   ]
  },
  {
   "cell_type": "code",
   "execution_count": null,
   "metadata": {},
   "outputs": [],
   "source": [
    "csv_in = 'stat_test_sample2.csv'\n",
    "df5 = pd.read_csv(csv_in, delimiter=',', skiprows=0, header=0)\n",
    "print(df5.shape)\n",
    "display(df5.head())"
   ]
  },
  {
   "cell_type": "code",
   "execution_count": null,
   "metadata": {},
   "outputs": [],
   "source": [
    "d = df5['BP_after'] - df5['BP_before']\n",
    "ranks = ss.rankdata(np.abs(d))\n",
    "rank_plus = np.sum((d>0)*ranks)\n",
    "rank_minus = np.sum((d<0)*ranks)\n",
    "print('rank sum:', rank_plus-rank_minus)\n",
    "T, p = ss.wilcoxon(d)\n",
    "print(T, p/2)"
   ]
  },
  {
   "cell_type": "markdown",
   "metadata": {},
   "source": [
    "##### (Conclusion) Rank sum of BP_after - BP_before is negative, and p/2 < 0.05, so population median of the blood pressure significantly decreased after taking this medicine.  \n",
    "(結論) この服薬後の血圧の符号付き順位和は負であり(つまり血圧は服薬により低下方向)、かつp/2(片側なので)<0.05なので、この薬を飲むと血圧の母平均は有意に下がったといえる。"
   ]
  },
  {
   "cell_type": "markdown",
   "metadata": {},
   "source": [
    "#### 6. Are rows and cols significantly correlated on a small 2x2 cross table? (Fisher's exact test)  \n",
    "Data: Results of the two questions: \"Do you live in Tokyo?\" and \"Do you like baseball?\"  \n",
    "小さな2x2クロス集計表において、行と列の間に関連はあるといえるか？ (Fisher正確確率検定)    \n",
    "データ: 「東京に住んでいますか？」「野球が好きですか？」のアンケート結果  \n",
    "\n",
    "H0: \"live in Tokyo or not\" and \"like baseball or not\" DOES NOT correlated  \n",
    "\n",
    "- Hint: Program for count by values: see \"Cross Tabulation (クロス集計)\" on MOOCs AI-0102."
   ]
  },
  {
   "cell_type": "code",
   "execution_count": null,
   "metadata": {},
   "outputs": [],
   "source": [
    "csv_in = 'stat_test_sample6.csv'\n",
    "df6 = pd.read_csv(csv_in, delimiter=',', skiprows=0, header=0)\n",
    "print(df6.shape)\n",
    "display(df6.head())"
   ]
  },
  {
   "cell_type": "code",
   "execution_count": null,
   "metadata": {},
   "outputs": [],
   "source": [
    "cross_tab = pd.crosstab(df6['Live_in_Tokyo'], df6['Like_baseball'])\n",
    "display(cross_tab)"
   ]
  },
  {
   "cell_type": "code",
   "execution_count": null,
   "metadata": {},
   "outputs": [],
   "source": [
    "odds, p = ss.fisher_exact(cross_tab)\n",
    "print(odds, p)"
   ]
  },
  {
   "cell_type": "markdown",
   "metadata": {},
   "source": [
    "##### (Conclusion) p < 0.05, so \"Live in Tokyo\" and \"Like baseball\" are significantly related. \n",
    "(結論) p < 0.05なので、「東京在住」と「野球好き」は有意に関連している。  "
   ]
  },
  {
   "cell_type": "markdown",
   "metadata": {},
   "source": [
    "#### 7. Are rows and cols significantly correlated on a general cross table?  (test of independence by chi-squared test)   \n",
    "Data: Results of the two questions: \"Where are you from (Kyushu/Shikoku/Honshu/Hokkaido)\" and \"Do you like baseball?\"  \n",
    "一般のクロス集計表において、行と列の間に関連はあるといえるか？ (独立性のカイ2乗検定)    \n",
    "データ: 「どの地域出身ですか？」「野球が好きですか？」のアンケート結果  \n",
    "\n",
    "H0: Area and \"like baseball\" DOES NOT correlated  "
   ]
  },
  {
   "cell_type": "code",
   "execution_count": null,
   "metadata": {},
   "outputs": [],
   "source": [
    "csv_in = 'stat_test_sample7.csv'\n",
    "df7 = pd.read_csv(csv_in, delimiter=',', skiprows=0, header=0)\n",
    "print(df7.shape)\n",
    "display(df7.head())"
   ]
  },
  {
   "cell_type": "code",
   "execution_count": null,
   "metadata": {},
   "outputs": [],
   "source": [
    "cross_tab = pd.crosstab(df7['Area'], df7['Like_baseball'])\n",
    "display(cross_tab)"
   ]
  },
  {
   "cell_type": "code",
   "execution_count": null,
   "metadata": {},
   "outputs": [],
   "source": [
    "chi2, p, dof, expected = ss.chi2_contingency(cross_tab)\n",
    "print(chi2, p, dof, expected)"
   ]
  },
  {
   "cell_type": "markdown",
   "metadata": {},
   "source": [
    "##### (Conclusion) p > 0.05, so there is no evidence that \"Area\" is significantly related to \"Like baseball\". \n",
    "(結論) p > 0.05なので、「出身地域」と「野球好き」は有意に関連しているとはいえない。  "
   ]
  },
  {
   "cell_type": "markdown",
   "metadata": {},
   "source": [
    "#### 8. Are observed frequencies are regarded to be the same as expected frequencies? (chi-square goodness-of-fit test)   \n",
    "Data: The frequency of \"Most lucky\" zodiac sign every day: Is it uniform?   \n",
    "観測度数は理論(期待)度数と同じといえるか？ (適合度のカイ2乗検定)    \n",
    "データ: 毎日の星占い1位。偏りはない？  \n",
    "\n",
    "H0: Distribution of \"most lucky zodiac sign\" is regarded as \"uniform\".    \n",
    "\n",
    "- Hint: Program for count by values: see \"List unique values and their counts in columns (列の値の種類と個数一覧)\" on MOOCs AI-0102."
   ]
  },
  {
   "cell_type": "code",
   "execution_count": null,
   "metadata": {},
   "outputs": [],
   "source": [
    "csv_in = 'stat_test_sample8.csv'\n",
    "df8 = pd.read_csv(csv_in, delimiter=',', skiprows=0, header=0)\n",
    "print(df8.shape)\n",
    "display(df8.head())"
   ]
  },
  {
   "cell_type": "code",
   "execution_count": null,
   "metadata": {},
   "outputs": [],
   "source": [
    "lucky = df8['most_lucky'].value_counts()\n",
    "print(lucky)"
   ]
  },
  {
   "cell_type": "code",
   "execution_count": null,
   "metadata": {},
   "outputs": [],
   "source": [
    "chi2, p = ss.chisquare(lucky)\n",
    "print(chi2, p)"
   ]
  },
  {
   "cell_type": "markdown",
   "metadata": {},
   "source": [
    "##### (Conclusion) p > 0.05, so there is no evidence that \"Distribution of Most Lucky Zodiac is significantly different from uniform\"\n",
    "(結論) p > 0.05なので、「星占い1位」の星座は偏っているとはいえない。  "
   ]
  },
  {
   "cell_type": "markdown",
   "metadata": {},
   "source": [
    "#### Tukey-Kramer method\n",
    "Tukey-Kramer多重比較\n",
    "\n",
    "Data: Exam results of students after three kinds of lectures (A, B, C)  \n",
    "A, B, Cの3つの講義を受けたあとの試験得点  \n",
    "\n",
    "H0: All pairs of the population means of exam results (A-B, B-C, C-A) are the same.  "
   ]
  },
  {
   "cell_type": "markdown",
   "metadata": {},
   "source": [
    "##### Read data"
   ]
  },
  {
   "cell_type": "code",
   "execution_count": null,
   "metadata": {},
   "outputs": [],
   "source": [
    "csv_in = 'stat_test_sample_tukey_kramer.csv'\n",
    "df_tk = pd.read_csv(csv_in, delimiter=',', skiprows=0, header=0)\n",
    "print(df_tk.shape)\n",
    "display(df_tk.head())"
   ]
  },
  {
   "cell_type": "code",
   "execution_count": null,
   "metadata": {},
   "outputs": [],
   "source": [
    "df_tk_A = df_tk[ df_tk['Lecture']=='A' ]\n",
    "df_tk_B = df_tk[ df_tk['Lecture']=='B' ]\n",
    "df_tk_C = df_tk[ df_tk['Lecture']=='C' ]"
   ]
  },
  {
   "cell_type": "markdown",
   "metadata": {},
   "source": [
    "##### Levene's test (equality of variance)"
   ]
  },
  {
   "cell_type": "code",
   "execution_count": null,
   "metadata": {},
   "outputs": [],
   "source": [
    "W, p = ss.levene(df_tk_A['Points'], df_tk_B['Points'], df_tk_C['Points'])\n",
    "print(W, p)"
   ]
  },
  {
   "cell_type": "markdown",
   "metadata": {},
   "source": [
    "##### p > 0.05 (= can be regarded as equal variance), so go forward to execute Tukey-Kramer method  "
   ]
  },
  {
   "cell_type": "code",
   "execution_count": null,
   "metadata": {},
   "outputs": [],
   "source": [
    "from statsmodels.stats.multicomp import pairwise_tukeyhsd"
   ]
  },
  {
   "cell_type": "markdown",
   "metadata": {},
   "source": [
    "pairwise_tukeyhsd(data, labels)  # labels can be any string or value"
   ]
  },
  {
   "cell_type": "code",
   "execution_count": null,
   "metadata": {},
   "outputs": [],
   "source": [
    "results = pairwise_tukeyhsd(df_tk['Points'], df_tk['Lecture'])\n",
    "print(results)"
   ]
  },
  {
   "cell_type": "markdown",
   "metadata": {},
   "source": [
    "##### (Conclusion) Population means of points for lectures A-B and B-C are significantly different.  \n",
    "(結論) 講義A-B, B-Cの間の試験得点の母平均は有意に差があるといえる。  "
   ]
  },
  {
   "cell_type": "markdown",
   "metadata": {},
   "source": [
    "#### Two-way ANOVA and Tukey-Kramer method  \n",
    "二元配置分散分析からのTukey-Kramer多重比較  "
   ]
  },
  {
   "cell_type": "markdown",
   "metadata": {},
   "source": [
    "##### Read data\n",
    "NOTE: columns for factors should be read as 'object'.  \n",
    "So, pd.read_csv(..., dtype={'mg':'object'}) is needed.  \n",
    "「要因」として用いる列は文字列型(object)で読んでおかないといけない。  \n",
    "このため pd.read_csv(..., dtype={'mg':'object'}) としている。  "
   ]
  },
  {
   "cell_type": "code",
   "execution_count": null,
   "metadata": {},
   "outputs": [],
   "source": [
    "csv_in = 'stat_test_sample_2way_anova.csv'\n",
    "df_at = pd.read_csv(csv_in, delimiter=',', skiprows=0, header=0,\n",
    "                 dtype={'mg':'object'})\n",
    "print(df_at.shape)\n",
    "print(df_at.info())\n",
    "display(df_at.head())"
   ]
  },
  {
   "cell_type": "markdown",
   "metadata": {},
   "source": [
    "##### Two-way ANOVA\n",
    "二元配置分散分析  "
   ]
  },
  {
   "cell_type": "markdown",
   "metadata": {},
   "source": [
    "Import additional libraries"
   ]
  },
  {
   "cell_type": "code",
   "execution_count": null,
   "metadata": {},
   "outputs": [],
   "source": [
    "import statsmodels.api as sm\n",
    "from statsmodels.formula.api import ols"
   ]
  },
  {
   "cell_type": "markdown",
   "metadata": {},
   "source": [
    "Execute 2-way ANOVA"
   ]
  },
  {
   "cell_type": "code",
   "execution_count": null,
   "metadata": {},
   "outputs": [],
   "source": [
    "formula = 'Humidity ~ Ingredient + mg + Ingredient:mg'  # 2-way (Ingredient and mg)\n",
    "model = ols(formula, df_at).fit()\n",
    "print(model.summary())\n",
    "aov_table = sm.stats.anova_lm(model, typ=2)  # Usually use Type II ANOVA\n",
    "print(aov_table)"
   ]
  },
  {
   "cell_type": "code",
   "execution_count": null,
   "metadata": {},
   "outputs": [],
   "source": [
    "df_at['labels'] = df_at['Ingredient']+df_at['mg']  # make unique labels for each group\n",
    "display(df_at.head())"
   ]
  },
  {
   "cell_type": "code",
   "execution_count": null,
   "metadata": {},
   "outputs": [],
   "source": [
    "results = pairwise_tukeyhsd(df_at['Humidity'], df_at['labels'])\n",
    "print(results)"
   ]
  },
  {
   "cell_type": "markdown",
   "metadata": {},
   "source": [
    "##### (Conclusion) There is no evidence that the population means between A100-B50, A150-B100, A150-B150, B100-B150 are significantly different. Population means of other pairs are significantly different from each other.\n",
    "(結論) A100-B50, A150-B100, A150-B150, B100-B150 の母平均は有意に異なるとはいえない。残りのペアの母平均は有意に異なるといえる。　　"
   ]
  }
 ],
 "metadata": {
  "kernelspec": {
   "display_name": "Python 3",
   "language": "python",
   "name": "python3"
  },
  "language_info": {
   "codemirror_mode": {
    "name": "ipython",
    "version": 3
   },
   "file_extension": ".py",
   "mimetype": "text/x-python",
   "name": "python",
   "nbconvert_exporter": "python",
   "pygments_lexer": "ipython3",
   "version": "3.8.8"
  }
 },
 "nbformat": 4,
 "nbformat_minor": 4
}
