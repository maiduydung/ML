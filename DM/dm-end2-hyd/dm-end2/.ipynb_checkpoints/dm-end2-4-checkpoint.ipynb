{
 "cells": [
  {
   "cell_type": "code",
   "execution_count": 24,
   "metadata": {},
   "outputs": [],
   "source": [
    "import numpy as np\n",
    "import pandas as pd\n",
    "import matplotlib.pyplot as plt\n",
    "#import pyfpgrowth"
   ]
  },
  {
   "cell_type": "code",
   "execution_count": 25,
   "metadata": {},
   "outputs": [
    {
     "name": "stdout",
     "output_type": "stream",
     "text": [
      "(999, 2)\n",
      "<class 'pandas.core.frame.DataFrame'>\n",
      "RangeIndex: 999 entries, 0 to 998\n",
      "Data columns (total 2 columns):\n",
      " #   Column   Non-Null Count  Dtype \n",
      "---  ------   --------------  ----- \n",
      " 0   Invoice  999 non-null    object\n",
      " 1   Item     999 non-null    int64 \n",
      "dtypes: int64(1), object(1)\n",
      "memory usage: 15.7+ KB\n",
      "None\n"
     ]
    },
    {
     "data": {
      "text/html": [
       "<div>\n",
       "<style scoped>\n",
       "    .dataframe tbody tr th:only-of-type {\n",
       "        vertical-align: middle;\n",
       "    }\n",
       "\n",
       "    .dataframe tbody tr th {\n",
       "        vertical-align: top;\n",
       "    }\n",
       "\n",
       "    .dataframe thead th {\n",
       "        text-align: right;\n",
       "    }\n",
       "</style>\n",
       "<table border=\"1\" class=\"dataframe\">\n",
       "  <thead>\n",
       "    <tr style=\"text-align: right;\">\n",
       "      <th></th>\n",
       "      <th>Invoice</th>\n",
       "      <th>Item</th>\n",
       "    </tr>\n",
       "  </thead>\n",
       "  <tbody>\n",
       "    <tr>\n",
       "      <th>0</th>\n",
       "      <td>T1016</td>\n",
       "      <td>240</td>\n",
       "    </tr>\n",
       "    <tr>\n",
       "      <th>1</th>\n",
       "      <td>T1009</td>\n",
       "      <td>195</td>\n",
       "    </tr>\n",
       "    <tr>\n",
       "      <th>2</th>\n",
       "      <td>T1039</td>\n",
       "      <td>222</td>\n",
       "    </tr>\n",
       "    <tr>\n",
       "      <th>3</th>\n",
       "      <td>T1041</td>\n",
       "      <td>249</td>\n",
       "    </tr>\n",
       "    <tr>\n",
       "      <th>4</th>\n",
       "      <td>T1005</td>\n",
       "      <td>104</td>\n",
       "    </tr>\n",
       "  </tbody>\n",
       "</table>\n",
       "</div>"
      ],
      "text/plain": [
       "  Invoice  Item\n",
       "0   T1016   240\n",
       "1   T1009   195\n",
       "2   T1039   222\n",
       "3   T1041   249\n",
       "4   T1005   104"
      ]
     },
     "metadata": {},
     "output_type": "display_data"
    }
   ],
   "source": [
    "df = pd.read_csv('dm-end2-4.csv')\n",
    "print(df.shape)\n",
    "print(df.info())\n",
    "display(df.head())"
   ]
  },
  {
   "cell_type": "code",
   "execution_count": 26,
   "metadata": {},
   "outputs": [
    {
     "data": {
      "text/html": [
       "<div>\n",
       "<style scoped>\n",
       "    .dataframe tbody tr th:only-of-type {\n",
       "        vertical-align: middle;\n",
       "    }\n",
       "\n",
       "    .dataframe tbody tr th {\n",
       "        vertical-align: top;\n",
       "    }\n",
       "\n",
       "    .dataframe thead th {\n",
       "        text-align: right;\n",
       "    }\n",
       "</style>\n",
       "<table border=\"1\" class=\"dataframe\">\n",
       "  <thead>\n",
       "    <tr style=\"text-align: right;\">\n",
       "      <th></th>\n",
       "      <th>Invoice</th>\n",
       "      <th>Item</th>\n",
       "    </tr>\n",
       "  </thead>\n",
       "  <tbody>\n",
       "    <tr>\n",
       "      <th>0</th>\n",
       "      <td>T1016</td>\n",
       "      <td>240</td>\n",
       "    </tr>\n",
       "    <tr>\n",
       "      <th>1</th>\n",
       "      <td>T1009</td>\n",
       "      <td>195</td>\n",
       "    </tr>\n",
       "    <tr>\n",
       "      <th>2</th>\n",
       "      <td>T1039</td>\n",
       "      <td>222</td>\n",
       "    </tr>\n",
       "    <tr>\n",
       "      <th>3</th>\n",
       "      <td>T1041</td>\n",
       "      <td>249</td>\n",
       "    </tr>\n",
       "    <tr>\n",
       "      <th>4</th>\n",
       "      <td>T1005</td>\n",
       "      <td>104</td>\n",
       "    </tr>\n",
       "  </tbody>\n",
       "</table>\n",
       "</div>"
      ],
      "text/plain": [
       "  Invoice  Item\n",
       "0   T1016   240\n",
       "1   T1009   195\n",
       "2   T1039   222\n",
       "3   T1041   249\n",
       "4   T1005   104"
      ]
     },
     "metadata": {},
     "output_type": "display_data"
    }
   ],
   "source": [
    "df = df.replace(np.nan, '00nan')\n",
    "display(df.head())"
   ]
  },
  {
   "cell_type": "code",
   "execution_count": 27,
   "metadata": {},
   "outputs": [
    {
     "name": "stdout",
     "output_type": "stream",
     "text": [
      "#Invoices: 50\n",
      "T1008    30\n",
      "T1024    26\n",
      "T1007    26\n",
      "T1012    26\n",
      "T1034    26\n",
      "Name: Invoice, dtype: int64\n",
      "#StockCode: 150\n",
      "181    16\n",
      "146    12\n",
      "224    11\n",
      "238    11\n",
      "108    11\n",
      "Name: Item, dtype: int64\n"
     ]
    }
   ],
   "source": [
    "top_iv = df['Invoice'].value_counts()\n",
    "top_sc = df['Item'].value_counts()\n",
    "print('#Invoices:', top_iv.size)\n",
    "print(top_iv.head())\n",
    "print('#StockCode:', top_sc.size)\n",
    "print(top_sc.head())"
   ]
  },
  {
   "cell_type": "code",
   "execution_count": 28,
   "metadata": {},
   "outputs": [
    {
     "data": {
      "image/png": "[encoded data removed]",
      "text/plain": [
       "<Figure size 432x288 with 1 Axes>"
      ]
     },
     "metadata": {
      "needs_background": "light"
     },
     "output_type": "display_data"
    }
   ],
   "source": [
    "n_plt = 20\n",
    "top_iv_idx = top_iv[:20].index.astype('str')\n",
    "plt.bar(top_iv_idx, top_iv[:n_plt])\n",
    "plt.xticks(rotation=90)\n",
    "plt.xlabel('InvoiceNo')\n",
    "plt.ylabel('#transactions')\n",
    "plt.show()"
   ]
  },
  {
   "cell_type": "code",
   "execution_count": 29,
   "metadata": {},
   "outputs": [
    {
     "name": "stdout",
     "output_type": "stream",
     "text": [
      "181 146\n"
     ]
    }
   ],
   "source": [
    "top_sc1 = top_sc.index[0]\n",
    "top_sc2 = top_sc.index[1]\n",
    "print(top_sc1, top_sc2)"
   ]
  },
  {
   "cell_type": "code",
   "execution_count": 30,
   "metadata": {},
   "outputs": [],
   "source": [
    "df_sc1 = df[ df['Item']==top_sc1 ]\n",
    "df_sc2 = df[ df['Item']==top_sc2 ]"
   ]
  },
  {
   "cell_type": "code",
   "execution_count": 31,
   "metadata": {},
   "outputs": [
    {
     "data": {
      "text/plain": [
       "T1008    30\n",
       "T1024    26\n",
       "T1007    26\n",
       "T1012    26\n",
       "T1034    26\n",
       "T1031    26\n",
       "T1048    25\n",
       "T1022    24\n",
       "T1035    24\n",
       "T1023    24\n",
       "T1018    23\n",
       "T1020    23\n",
       "T1027    23\n",
       "T1044    22\n",
       "T1049    22\n",
       "T1029    22\n",
       "T1016    21\n",
       "T1025    21\n",
       "T1010    21\n",
       "T1003    21\n",
       "T1002    21\n",
       "T1011    20\n",
       "T1014    20\n",
       "T1013    20\n",
       "T1030    20\n",
       "T1028    20\n",
       "T1036    20\n",
       "T1040    20\n",
       "T1033    20\n",
       "T1041    19\n",
       "T1019    19\n",
       "T1004    18\n",
       "T1037    18\n",
       "T1045    18\n",
       "T1047    18\n",
       "T1038    17\n",
       "T1006    17\n",
       "T1009    17\n",
       "T1021    17\n",
       "T1015    17\n",
       "T1039    17\n",
       "T1026    17\n",
       "T1005    16\n",
       "T1032    16\n",
       "T1042    16\n",
       "T1043    15\n",
       "T1017    14\n",
       "T1046    14\n",
       "T1001    12\n",
       "T1050    10\n",
       "Name: Invoice, dtype: int64"
      ]
     },
     "execution_count": 31,
     "metadata": {},
     "output_type": "execute_result"
    }
   ],
   "source": [
    "df['Invoice'].value_counts()"
   ]
  },
  {
   "cell_type": "code",
   "execution_count": 33,
   "metadata": {},
   "outputs": [],
   "source": [
    "df_sc1 = df[ df['Item']==top_sc1 ]\n",
    "df_sc2 = df[ df['Item']==top_sc2 ]"
   ]
  },
  {
   "cell_type": "code",
   "execution_count": 34,
   "metadata": {},
   "outputs": [],
   "source": [
    "iv_all = set(df['Invoice'])\n",
    "iv_sc1 = set(df_sc1['Invoice'])\n",
    "iv_sc2 = set(df_sc2['Invoice'])\n",
    "iv_both = iv_sc1 & iv_sc2\n",
    "iv_either = iv_sc1 | iv_sc2"
   ]
  },
  {
   "cell_type": "code",
   "execution_count": 35,
   "metadata": {},
   "outputs": [
    {
     "name": "stdout",
     "output_type": "stream",
     "text": [
      "50 15 11 1 25\n"
     ]
    }
   ],
   "source": [
    "n_all = len(iv_all)\n",
    "n_sc1 = len(iv_sc1)\n",
    "n_sc2 = len(iv_sc2)\n",
    "n_both = len(iv_both)\n",
    "n_either = len(iv_either)\n",
    "print(n_all, n_sc1, n_sc2, n_both, n_either)"
   ]
  },
  {
   "cell_type": "code",
   "execution_count": 36,
   "metadata": {},
   "outputs": [
    {
     "name": "stdout",
     "output_type": "stream",
     "text": [
      "Conf(sc1 => sc2): 0.06666666666666667\n",
      "Conf(sc2 => sc1): 0.09090909090909091\n"
     ]
    }
   ],
   "source": [
    "print('Conf(sc1 => sc2):', n_both / n_sc1)  # Confidence based on top_sc1\n",
    "print('Conf(sc2 => sc1):', n_both / n_sc2)  # Confidence based on top_sc2"
   ]
  },
  {
   "cell_type": "code",
   "execution_count": 37,
   "metadata": {},
   "outputs": [
    {
     "name": "stdout",
     "output_type": "stream",
     "text": [
      "Lift(sc1 => sc2): 0.30303030303030304\n"
     ]
    }
   ],
   "source": [
    "a = n_both / n_sc2\n",
    "b = n_sc1 / n_all\n",
    "print('Lift(sc1 => sc2):', a/b)"
   ]
  },
  {
   "cell_type": "code",
   "execution_count": null,
   "metadata": {},
   "outputs": [],
   "source": []
  }
 ],
 "metadata": {
  "kernelspec": {
   "display_name": "Python 3",
   "language": "python",
   "name": "python3"
  },
  "language_info": {
   "codemirror_mode": {
    "name": "ipython",
    "version": 3
   },
   "file_extension": ".py",
   "mimetype": "text/x-python",
   "name": "python",
   "nbconvert_exporter": "python",
   "pygments_lexer": "ipython3",
   "version": "3.6.10"
  }
 },
 "nbformat": 4,
 "nbformat_minor": 5
}
