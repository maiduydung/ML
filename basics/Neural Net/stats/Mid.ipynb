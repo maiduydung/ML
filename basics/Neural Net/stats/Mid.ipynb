{
 "cells": [
  {
   "cell_type": "code",
   "execution_count": 1,
   "metadata": {},
   "outputs": [
    {
     "name": "stdout",
     "output_type": "stream",
     "text": [
      "29.666666666666668\n",
      "27.0\n",
      "208.2222222222222\n",
      "14.429907214608907\n"
     ]
    }
   ],
   "source": [
    "import numpy as np\n",
    "x=np.array([14, 15,20,34,43,52])\n",
    "print(x.mean())\n",
    "\n",
    "print(np.median(x))\n",
    "\n",
    "print(x.var())\n",
    "\n",
    "print(np.std(x))\n"
   ]
  },
  {
   "cell_type": "code",
   "execution_count": 2,
   "metadata": {},
   "outputs": [
    {
     "name": "stdout",
     "output_type": "stream",
     "text": [
      "37.5\n",
      "32.0\n",
      "386.5833333333333\n",
      "19.6617225423749\n"
     ]
    }
   ],
   "source": [
    "import numpy as np\n",
    "x=np.array([15,21,27, 37,53,72])\n",
    "print(x.mean())\n",
    "\n",
    "print(np.median(x))\n",
    "\n",
    "print(x.var())\n",
    "\n",
    "print(np.std(x))\n"
   ]
  },
  {
   "cell_type": "code",
   "execution_count": 6,
   "metadata": {},
   "outputs": [
    {
     "name": "stdout",
     "output_type": "stream",
     "text": [
      "44.333333333333336\n",
      "37.0\n",
      "372.88888888888886\n",
      "19.310331143946986\n"
     ]
    }
   ],
   "source": [
    "#3.\n",
    "import numpy as np\n",
    "x=np.array([25,31,35,39,53,83])\n",
    "print(x.mean())\n",
    "\n",
    "print(np.median(x))\n",
    "\n",
    "print(x.var())\n",
    "\n",
    "print(np.std(x))"
   ]
  },
  {
   "cell_type": "code",
   "execution_count": 8,
   "metadata": {},
   "outputs": [
    {
     "name": "stdout",
     "output_type": "stream",
     "text": [
      "57.833333333333336\n",
      "53.5\n",
      "323.80555555555554\n",
      "17.994597954818428\n"
     ]
    }
   ],
   "source": [
    "#4.\n",
    "import numpy as np\n",
    "x=np.array([39,45,48,59,62,94])\n",
    "print(x.mean())\n",
    "\n",
    "print(np.median(x))\n",
    "\n",
    "print(x.var())\n",
    "\n",
    "print(np.std(x))"
   ]
  },
  {
   "cell_type": "code",
   "execution_count": 10,
   "metadata": {},
   "outputs": [
    {
     "name": "stdout",
     "output_type": "stream",
     "text": [
      "55.0\n",
      "55.0\n",
      "169.33333333333334\n",
      "13.012814197295423\n"
     ]
    }
   ],
   "source": [
    "#5.\n",
    "import numpy as np\n",
    "x=np.array([38,43,52,58,61,78])\n",
    "print(x.mean())\n",
    "\n",
    "print(np.median(x))\n",
    "\n",
    "print(x.var())\n",
    "\n",
    "print(np.std(x))"
   ]
  },
  {
   "cell_type": "code",
   "execution_count": 12,
   "metadata": {},
   "outputs": [
    {
     "name": "stdout",
     "output_type": "stream",
     "text": [
      "0.38095238095238093\n",
      "0.4927536231884058\n"
     ]
    }
   ],
   "source": [
    "print(40/(40+30+35))\n",
    "print(34/69)"
   ]
  },
  {
   "cell_type": "code",
   "execution_count": 14,
   "metadata": {},
   "outputs": [
    {
     "name": "stdout",
     "output_type": "stream",
     "text": [
      "0.4383561643835616\n",
      "0.5423728813559322\n"
     ]
    }
   ],
   "source": [
    "print(32/(27+32+14))\n",
    "print(32/(32+27))"
   ]
  },
  {
   "cell_type": "markdown",
   "metadata": {},
   "source": [
    "#2"
   ]
  },
  {
   "cell_type": "code",
   "execution_count": 2,
   "metadata": {},
   "outputs": [
    {
     "name": "stdout",
     "output_type": "stream",
     "text": [
      "0.3425925925925926\n",
      "0.5645161290322581\n"
     ]
    }
   ],
   "source": [
    "print(37/(37+27+44))\n",
    "print(35/(27+35))"
   ]
  },
  {
   "cell_type": "code",
   "execution_count": 4,
   "metadata": {},
   "outputs": [
    {
     "name": "stdout",
     "output_type": "stream",
     "text": [
      "0.3333333333333333\n",
      "0.5208333333333334\n"
     ]
    }
   ],
   "source": [
    "print(23/(27+19+23))\n",
    "print(25/(25+23))"
   ]
  },
  {
   "cell_type": "markdown",
   "metadata": {},
   "source": [
    "# Correlation."
   ]
  },
  {
   "cell_type": "code",
   "execution_count": 3,
   "metadata": {},
   "outputs": [
    {
     "data": {
      "text/plain": [
       "0.4132427307206068"
      ]
     },
     "execution_count": 3,
     "metadata": {},
     "output_type": "execute_result"
    }
   ],
   "source": [
    "52.3/(11.2*11.3)"
   ]
  },
  {
   "cell_type": "code",
   "execution_count": 4,
   "metadata": {},
   "outputs": [
    {
     "data": {
      "text/plain": [
       "0.8144316396018858"
      ]
     },
     "execution_count": 4,
     "metadata": {},
     "output_type": "execute_result"
    }
   ],
   "source": [
    "62.19/(9.2*8.3)"
   ]
  },
  {
   "cell_type": "code",
   "execution_count": 5,
   "metadata": {},
   "outputs": [
    {
     "data": {
      "text/plain": [
       "0.6526977475117862"
      ]
     },
     "execution_count": 5,
     "metadata": {},
     "output_type": "execute_result"
    }
   ],
   "source": [
    "62.30/(11.5*8.3)"
   ]
  },
  {
   "cell_type": "code",
   "execution_count": 6,
   "metadata": {},
   "outputs": [
    {
     "data": {
      "text/plain": [
       "0.7422141395771765"
      ]
     },
     "execution_count": 6,
     "metadata": {},
     "output_type": "execute_result"
    }
   ],
   "source": [
    "65.30/(10.6*8.3)"
   ]
  },
  {
   "cell_type": "code",
   "execution_count": 3,
   "metadata": {},
   "outputs": [
    {
     "data": {
      "text/plain": [
       "100.0"
      ]
     },
     "execution_count": 3,
     "metadata": {},
     "output_type": "execute_result"
    }
   ],
   "source": [
    "169/180"
   ]
  },
  {
   "cell_type": "markdown",
   "metadata": {},
   "source": [
    "# 2Class Mean and SD."
   ]
  },
  {
   "cell_type": "code",
   "execution_count": 34,
   "metadata": {},
   "outputs": [
    {
     "name": "stdout",
     "output_type": "stream",
     "text": [
      "50.55555555555556\n",
      "37.58024691358025\n"
     ]
    }
   ],
   "source": [
    "n1=40\n",
    "n2=50\n",
    "n=n1+n2\n",
    "\n",
    "m1=45\n",
    "m2=55\n",
    "\n",
    "var_1=3**2\n",
    "var_2=4**2\n",
    "\n",
    "Total_mean=(m1*n1+m2*n2)/n\n",
    "print(Total_mean)\n",
    "\n",
    "Total_var = (var_1*n1+var_2*n2)/n+((m1-Total_mean)**2*n1+(m2-Total_mean)**2*n2)/n\n",
    "print(Total_var)"
   ]
  },
  {
   "cell_type": "code",
   "execution_count": 7,
   "metadata": {},
   "outputs": [
    {
     "name": "stdout",
     "output_type": "stream",
     "text": [
      "64.19047619047619\n",
      "36.249433106575964\n"
     ]
    }
   ],
   "source": [
    "n1=55\n",
    "n2=50\n",
    "n=n1+n2\n",
    "\n",
    "m1=68\n",
    "m2=60\n",
    "\n",
    "var_1=4**2\n",
    "var_2=5**2\n",
    "\n",
    "Total_mean=(m1*n1+m2*n2)/n\n",
    "print(Total_mean)\n",
    "\n",
    "Total_var = (var_1*n1+var_2*n2)/n+((m1-Total_mean)**2*n1+(m2-Total_mean)**2*n2)/n\n",
    "print(Total_var)"
   ]
  },
  {
   "cell_type": "code",
   "execution_count": 8,
   "metadata": {},
   "outputs": [
    {
     "name": "stdout",
     "output_type": "stream",
     "text": [
      "58.8\n",
      "26.493333333333336\n"
     ]
    }
   ],
   "source": [
    "n1=35\n",
    "n2=40\n",
    "n=n1+n2\n",
    "\n",
    "m1=62\n",
    "m2=56\n",
    "\n",
    "var_1=3**2\n",
    "var_2=5**2\n",
    "\n",
    "Total_mean=(m1*n1+m2*n2)/n\n",
    "print(Total_mean)\n",
    "\n",
    "Total_var = (var_1*n1+var_2*n2)/n+((m1-Total_mean)**2*n1+(m2-Total_mean)**2*n2)/n\n",
    "print(Total_var)"
   ]
  },
  {
   "cell_type": "code",
   "execution_count": null,
   "metadata": {},
   "outputs": [],
   "source": [
    "#good old ols :)\n",
    "def get_coeff_b1(X,Y):\n",
    "    a = [x-X.mean() for x in X]\n",
    "    b = [y-Y.mean() for y in Y]\n",
    "    a = np.array(a)\n",
    "    b = np.array(b)\n",
    "    c = np.dot(a,b)\n",
    "    d = np.square(a).sum()\n",
    "    b1 = c/d\n",
    "    return b1\n",
    "\n",
    "def get_intercept_b0(X, Y, b1):\n",
    "    b1 = Y.mean() - b1*X.mean()\n",
    "    return b1\n",
    "\n",
    "def get_regression_line(b1,b0, X_min, X_max):\n",
    "    #print(\"y_hat = \",b1,\"*x + \",b0)\n",
    "    y_hat = np.array([x*b1+b0 for x in range(X_min, X_max)])\n",
    "    return y_hat\n",
    "b1 = get_coeff_b1(X_test,Y_test)\n",
    "b0 = get_intercept_b0(X_test,Y_test, b1)\n",
    "y_hat = get_regression_line(b1, b0,2458849,2459029)\n",
    "print('coeffient b1:', b1)\n",
    "print('intercept b0:', b0)"
   ]
  }
 ],
 "metadata": {
  "kernelspec": {
   "display_name": "Python 3",
   "language": "python",
   "name": "python3"
  },
  "language_info": {
   "codemirror_mode": {
    "name": "ipython",
    "version": 3
   },
   "file_extension": ".py",
   "mimetype": "text/x-python",
   "name": "python",
   "nbconvert_exporter": "python",
   "pygments_lexer": "ipython3",
   "version": "3.8.5"
  }
 },
 "nbformat": 4,
 "nbformat_minor": 4
}
