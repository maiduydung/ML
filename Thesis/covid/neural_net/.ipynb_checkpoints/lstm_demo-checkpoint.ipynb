{
 "cells": [
  {
   "cell_type": "markdown",
   "id": "expensive-excellence",
   "metadata": {},
   "source": [
    "## Uivariate lstm example"
   ]
  },
  {
   "cell_type": "code",
   "execution_count": 155,
   "id": "exceptional-stevens",
   "metadata": {},
   "outputs": [],
   "source": [
    "import numpy as np\n",
    "import pandas as pd\n",
    "import matplotlib.pyplot as plt\n",
    "from keras.models import Sequential\n",
    "from keras.layers import LSTM, Dense, Dropout\n",
    "from sklearn.preprocessing import MinMaxScaler\n",
    "from sklearn.metrics import mean_squared_error\n"
   ]
  },
  {
   "cell_type": "code",
   "execution_count": 6,
   "id": "outside-territory",
   "metadata": {},
   "outputs": [],
   "source": [
    "# split a univariate sequence into samples\n",
    "def split_sequence(sequence, n_steps):\n",
    "\tX, y = list(), list()\n",
    "\tfor i in range(len(sequence)):\n",
    "\t\t# find the end of this pattern\n",
    "\t\tend_ix = i + n_steps\n",
    "\t\t# check if we are beyond the sequence\n",
    "\t\tif end_ix > len(sequence)-1:\n",
    "\t\t\tbreak\n",
    "\t\t# gather input and output parts of the pattern\n",
    "\t\tseq_x, seq_y = sequence[i:end_ix], sequence[end_ix]\n",
    "\t\tX.append(seq_x)\n",
    "\t\ty.append(seq_y)\n",
    "\treturn array(X), array(y)"
   ]
  },
  {
   "cell_type": "code",
   "execution_count": 7,
   "id": "general-diving",
   "metadata": {},
   "outputs": [],
   "source": [
    "# define input sequence\n",
    "raw_seq = [10, 20, 30, 40, 50, 60, 70, 80, 90]\n",
    "\n",
    "# choose a number of time steps\n",
    "n_steps = 3\n",
    "\n",
    "# split into samples\n",
    "X, y = split_sequence(raw_seq, n_steps)\n",
    "\n",
    "# reshape from [samples, timesteps] into [samples, timesteps, features]\n",
    "n_features = 1\n",
    "X = X.reshape((X.shape[0], X.shape[1], n_features))"
   ]
  },
  {
   "cell_type": "code",
   "execution_count": 12,
   "id": "religious-crazy",
   "metadata": {},
   "outputs": [
    {
     "data": {
      "text/plain": [
       "array([40, 50, 60, 70, 80, 90])"
      ]
     },
     "execution_count": 12,
     "metadata": {},
     "output_type": "execute_result"
    }
   ],
   "source": [
    "y"
   ]
  },
  {
   "cell_type": "code",
   "execution_count": 9,
   "id": "clean-salon",
   "metadata": {},
   "outputs": [
    {
     "name": "stdout",
     "output_type": "stream",
     "text": [
      "1/1 [==============================] - 0s 995us/step\n",
      "[[102.68489]]\n"
     ]
    }
   ],
   "source": [
    "\n",
    "\n",
    "# define model\n",
    "model = Sequential()\n",
    "model.add(LSTM(50, activation='relu', input_shape=(n_steps, n_features)))\n",
    "model.add(Dense(1))\n",
    "model.compile(optimizer='adam', loss='mse')\n",
    "\n",
    "# fit model\n",
    "model.fit(X, y, epochs=200, verbose=0)\n",
    "\n",
    "# demonstrate prediction\n",
    "x_input = array([70, 80, 90])\n",
    "x_input = x_input.reshape((1, n_steps, n_features))\n",
    "yhat = model.predict(x_input, verbose=1)\n",
    "print(yhat)"
   ]
  },
  {
   "cell_type": "code",
   "execution_count": 13,
   "id": "strategic-eating",
   "metadata": {},
   "outputs": [],
   "source": [
    "input_shape=(n_steps, n_features)"
   ]
  },
  {
   "cell_type": "markdown",
   "id": "absent-israel",
   "metadata": {},
   "source": [
    "## Univariate stacked lstm example"
   ]
  },
  {
   "cell_type": "code",
   "execution_count": 15,
   "id": "nasty-least",
   "metadata": {},
   "outputs": [],
   "source": [
    "from numpy import array\n",
    "from keras.models import Sequential\n",
    "from keras.layers import LSTM\n",
    "from keras.layers import Dense"
   ]
  },
  {
   "cell_type": "code",
   "execution_count": 16,
   "id": "identical-optimization",
   "metadata": {},
   "outputs": [],
   "source": [
    "# split a univariate sequence\n",
    "def split_sequence(sequence, n_steps):\n",
    "\tX, y = list(), list()\n",
    "\tfor i in range(len(sequence)):\n",
    "\t\t# find the end of this pattern\n",
    "\t\tend_ix = i + n_steps\n",
    "\t\t# check if we are beyond the sequence\n",
    "\t\tif end_ix > len(sequence)-1:\n",
    "\t\t\tbreak\n",
    "\t\t# gather input and output parts of the pattern\n",
    "\t\tseq_x, seq_y = sequence[i:end_ix], sequence[end_ix]\n",
    "\t\tX.append(seq_x)\n",
    "\t\ty.append(seq_y)\n",
    "\treturn array(X), array(y)"
   ]
  },
  {
   "cell_type": "code",
   "execution_count": 17,
   "id": "piano-textbook",
   "metadata": {},
   "outputs": [],
   "source": [
    "# define input sequence\n",
    "raw_seq = [10, 20, 30, 40, 50, 60, 70, 80, 90]\n",
    "\n",
    "# choose a number of time steps\n",
    "n_steps = 3\n",
    "\n",
    "# split into samples\n",
    "X, y = split_sequence(raw_seq, n_steps)\n",
    "\n",
    "# reshape from [samples, timesteps] into [samples, timesteps, features]\n",
    "n_features = 1\n",
    "X = X.reshape((X.shape[0], X.shape[1], n_features))"
   ]
  },
  {
   "cell_type": "code",
   "execution_count": 20,
   "id": "empirical-inspection",
   "metadata": {},
   "outputs": [
    {
     "name": "stdout",
     "output_type": "stream",
     "text": [
      "WARNING:tensorflow:5 out of the last 5 calls to <function Model.make_predict_function.<locals>.predict_function at 0x0000026A75ACF0D0> triggered tf.function retracing. Tracing is expensive and the excessive number of tracings could be due to (1) creating @tf.function repeatedly in a loop, (2) passing tensors with different shapes, (3) passing Python objects instead of tensors. For (1), please define your @tf.function outside of the loop. For (2), @tf.function has experimental_relax_shapes=True option that relaxes argument shapes that can avoid unnecessary retracing. For (3), please refer to https://www.tensorflow.org/tutorials/customization/performance#python_or_tensor_args and https://www.tensorflow.org/api_docs/python/tf/function for  more details.\n",
      "1/1 [==============================] - 0s 0s/step\n",
      "[[104.28114]]\n"
     ]
    }
   ],
   "source": [
    "# define model\n",
    "model = Sequential()\n",
    "model.add(LSTM(50, activation='relu', return_sequences=True, input_shape=(n_steps, n_features)))\n",
    "model.add(LSTM(50, activation='relu'))\n",
    "model.add(Dense(1))\n",
    "model.compile(optimizer='adam', loss='mse')\n",
    "\n",
    "# fit model\n",
    "model.fit(X, y, epochs=200, verbose=0)\n",
    "\n",
    "# demonstrate prediction\n",
    "x_input = array([70, 80, 90])\n",
    "x_input = x_input.reshape((1, n_steps, n_features))\n",
    "yhat = model.predict(x_input, verbose=1)\n",
    "print(yhat)"
   ]
  },
  {
   "cell_type": "markdown",
   "id": "lucky-charter",
   "metadata": {},
   "source": [
    "## Multivariate LSTM"
   ]
  },
  {
   "cell_type": "markdown",
   "id": "suspected-windows",
   "metadata": {},
   "source": [
    "### Multiple Input Series\n"
   ]
  },
  {
   "cell_type": "code",
   "execution_count": 21,
   "id": "supreme-adventure",
   "metadata": {},
   "outputs": [
    {
     "name": "stdout",
     "output_type": "stream",
     "text": [
      "[[ 10  15  25]\n",
      " [ 20  25  45]\n",
      " [ 30  35  65]\n",
      " [ 40  45  85]\n",
      " [ 50  55 105]\n",
      " [ 60  65 125]\n",
      " [ 70  75 145]\n",
      " [ 80  85 165]\n",
      " [ 90  95 185]]\n"
     ]
    }
   ],
   "source": [
    "# multivariate data preparation\n",
    "from numpy import array\n",
    "from numpy import hstack\n",
    "\n",
    "# define input sequence\n",
    "in_seq1 = array([10, 20, 30, 40, 50, 60, 70, 80, 90])\n",
    "in_seq2 = array([15, 25, 35, 45, 55, 65, 75, 85, 95])\n",
    "out_seq = array([in_seq1[i]+in_seq2[i] for i in range(len(in_seq1))])\n",
    "\n",
    "# convert to [rows, columns] structure\n",
    "in_seq1 = in_seq1.reshape((len(in_seq1), 1))\n",
    "in_seq2 = in_seq2.reshape((len(in_seq2), 1))\n",
    "out_seq = out_seq.reshape((len(out_seq), 1))\n",
    "\n",
    "# horizontally stack columns\n",
    "dataset = hstack((in_seq1, in_seq2, out_seq))\n",
    "print(dataset)"
   ]
  },
  {
   "cell_type": "code",
   "execution_count": null,
   "id": "secret-silicon",
   "metadata": {},
   "outputs": [],
   "source": []
  },
  {
   "cell_type": "code",
   "execution_count": null,
   "id": "manufactured-triumph",
   "metadata": {},
   "outputs": [],
   "source": []
  },
  {
   "cell_type": "code",
   "execution_count": null,
   "id": "atlantic-egypt",
   "metadata": {},
   "outputs": [],
   "source": []
  },
  {
   "cell_type": "code",
   "execution_count": null,
   "id": "foreign-wagon",
   "metadata": {},
   "outputs": [],
   "source": []
  },
  {
   "cell_type": "code",
   "execution_count": null,
   "id": "arbitrary-black",
   "metadata": {},
   "outputs": [],
   "source": []
  },
  {
   "cell_type": "code",
   "execution_count": null,
   "id": "worse-cement",
   "metadata": {},
   "outputs": [],
   "source": []
  },
  {
   "cell_type": "code",
   "execution_count": 32,
   "id": "atlantic-detector",
   "metadata": {},
   "outputs": [
    {
     "name": "stdout",
     "output_type": "stream",
     "text": [
      "(555, 4)\n",
      "Date                     datetime64[ns]\n",
      "Cummulative_Deaths              float64\n",
      "Infected                        float64\n",
      "Cummulative_Recovered           float64\n",
      "dtype: object\n"
     ]
    },
    {
     "data": {
      "text/html": [
       "<div>\n",
       "<style scoped>\n",
       "    .dataframe tbody tr th:only-of-type {\n",
       "        vertical-align: middle;\n",
       "    }\n",
       "\n",
       "    .dataframe tbody tr th {\n",
       "        vertical-align: top;\n",
       "    }\n",
       "\n",
       "    .dataframe thead th {\n",
       "        text-align: right;\n",
       "    }\n",
       "</style>\n",
       "<table border=\"1\" class=\"dataframe\">\n",
       "  <thead>\n",
       "    <tr style=\"text-align: right;\">\n",
       "      <th></th>\n",
       "      <th>Date</th>\n",
       "      <th>Cummulative_Deaths</th>\n",
       "      <th>Infected</th>\n",
       "      <th>Cummulative_Recovered</th>\n",
       "    </tr>\n",
       "  </thead>\n",
       "  <tbody>\n",
       "    <tr>\n",
       "      <th>0</th>\n",
       "      <td>2020-02-14</td>\n",
       "      <td>1.0</td>\n",
       "      <td>5.0</td>\n",
       "      <td>12.0</td>\n",
       "    </tr>\n",
       "    <tr>\n",
       "      <th>1</th>\n",
       "      <td>2020-02-15</td>\n",
       "      <td>1.0</td>\n",
       "      <td>4.0</td>\n",
       "      <td>12.0</td>\n",
       "    </tr>\n",
       "    <tr>\n",
       "      <th>2</th>\n",
       "      <td>2020-02-16</td>\n",
       "      <td>1.0</td>\n",
       "      <td>1.0</td>\n",
       "      <td>13.0</td>\n",
       "    </tr>\n",
       "    <tr>\n",
       "      <th>3</th>\n",
       "      <td>2020-02-17</td>\n",
       "      <td>1.0</td>\n",
       "      <td>6.0</td>\n",
       "      <td>12.0</td>\n",
       "    </tr>\n",
       "    <tr>\n",
       "      <th>4</th>\n",
       "      <td>2020-02-18</td>\n",
       "      <td>1.0</td>\n",
       "      <td>8.0</td>\n",
       "      <td>14.0</td>\n",
       "    </tr>\n",
       "  </tbody>\n",
       "</table>\n",
       "</div>"
      ],
      "text/plain": [
       "        Date  Cummulative_Deaths  Infected  Cummulative_Recovered\n",
       "0 2020-02-14                 1.0       5.0                   12.0\n",
       "1 2020-02-15                 1.0       4.0                   12.0\n",
       "2 2020-02-16                 1.0       1.0                   13.0\n",
       "3 2020-02-17                 1.0       6.0                   12.0\n",
       "4 2020-02-18                 1.0       8.0                   14.0"
      ]
     },
     "execution_count": 32,
     "metadata": {},
     "output_type": "execute_result"
    }
   ],
   "source": [
    "df = pd.read_csv('../seir/cov_datasets/all.csv')\n",
    "df['Date'] = pd.to_datetime(df['Date'])\n",
    "print(df.shape)\n",
    "print(df.dtypes)\n",
    "df.head()"
   ]
  },
  {
   "cell_type": "code",
   "execution_count": 36,
   "id": "daily-fraction",
   "metadata": {},
   "outputs": [
    {
     "data": {
      "text/plain": [
       "[<matplotlib.lines.Line2D at 0x26a79bb5ac0>]"
      ]
     },
     "execution_count": 36,
     "metadata": {},
     "output_type": "execute_result"
    },
    {
     "data": {
      "image/png": "[encoded data removed]",
      "text/plain": [
       "<Figure size 960x320 with 1 Axes>"
      ]
     },
     "metadata": {
      "needs_background": "light"
     },
     "output_type": "display_data"
    }
   ],
   "source": [
    "from matplotlib.pyplot import figure\n",
    "figure(figsize=(12, 4), dpi=80)\n",
    "plt.plot(df['Date'],df['Infected'])"
   ]
  },
  {
   "cell_type": "code",
   "execution_count": 81,
   "id": "acute-preservation",
   "metadata": {},
   "outputs": [],
   "source": [
    "training_set = df.iloc[:500, 2:3].values.astype(int)\n",
    "test_set = df.iloc[500:, 2:3].values.astype(int)"
   ]
  },
  {
   "cell_type": "code",
   "execution_count": 126,
   "id": "endless-polls",
   "metadata": {},
   "outputs": [],
   "source": [
    "# Feature Scaling\n",
    "sc = MinMaxScaler(feature_range = (0, 1))\n",
    "training_set_scaled = sc.fit_transform(training_set)\n",
    "testing_set_scaled = sc.fit_transform(test_set)\n",
    "\n",
    "\n",
    "# Creating a data structure with 60 time-steps and 1 output\n",
    "X_train = []\n",
    "y_train = []\n",
    "\n",
    "X_test = []\n",
    "y_test = []\n",
    "steps = 14 #days"
   ]
  },
  {
   "cell_type": "code",
   "execution_count": 127,
   "id": "raised-comment",
   "metadata": {},
   "outputs": [
    {
     "name": "stdout",
     "output_type": "stream",
     "text": [
      "(500, 1)\n",
      "(55, 1)\n"
     ]
    }
   ],
   "source": [
    "print(training_set_scaled.shape)\n",
    "print(testing_set_scaled.shape)"
   ]
  },
  {
   "cell_type": "code",
   "execution_count": 128,
   "id": "rapid-patrick",
   "metadata": {},
   "outputs": [
    {
     "name": "stdout",
     "output_type": "stream",
     "text": [
      "(486, 14)\n",
      "(486, 14, 1)\n"
     ]
    }
   ],
   "source": [
    "for i in range(steps, len(training_set)):\n",
    "    X_train.append(training_set_scaled[i-steps:i, 0])\n",
    "    y_train.append(training_set_scaled[i, 0])\n",
    "X_train, y_train = np.array(X_train), np.array(y_train)\n",
    "\n",
    "print(X_train.shape)\n",
    "X_train = np.reshape(X_train, (X_train.shape[0], X_train.shape[1], 1))\n",
    "print(X_train.shape)\n"
   ]
  },
  {
   "cell_type": "code",
   "execution_count": 129,
   "id": "uniform-interference",
   "metadata": {},
   "outputs": [
    {
     "name": "stdout",
     "output_type": "stream",
     "text": [
      "(41, 14)\n",
      "(41, 14, 1)\n"
     ]
    }
   ],
   "source": [
    "for i in range(steps, len(test_set)):\n",
    "    X_test.append(testing_set_scaled[i-steps:i, 0])\n",
    "    y_test.append(testing_set_scaled[i, 0])\n",
    "X_test, y_test = np.array(X_test), np.array(y_test)\n",
    "\n",
    "print(X_test.shape)\n",
    "X_test = np.reshape(X_test, (X_test.shape[0], X_test.shape[1], 1))\n",
    "print(X_test.shape)"
   ]
  },
  {
   "cell_type": "code",
   "execution_count": 131,
   "id": "educated-algorithm",
   "metadata": {},
   "outputs": [
    {
     "name": "stdout",
     "output_type": "stream",
     "text": [
      "Epoch 1/50\n",
      "16/16 [==============================] - 0s 16ms/step - loss: 0.0326\n",
      "Epoch 2/50\n",
      "16/16 [==============================] - 0s 15ms/step - loss: 0.0137\n",
      "Epoch 3/50\n",
      "16/16 [==============================] - 0s 15ms/step - loss: 0.0137\n",
      "Epoch 4/50\n",
      "16/16 [==============================] - 0s 16ms/step - loss: 0.0122\n",
      "Epoch 5/50\n",
      "16/16 [==============================] - 0s 15ms/step - loss: 0.0110\n",
      "Epoch 6/50\n",
      "16/16 [==============================] - 0s 15ms/step - loss: 0.0123\n",
      "Epoch 7/50\n",
      "16/16 [==============================] - 0s 16ms/step - loss: 0.0116\n",
      "Epoch 8/50\n",
      "16/16 [==============================] - 0s 15ms/step - loss: 0.0103\n",
      "Epoch 9/50\n",
      "16/16 [==============================] - 0s 15ms/step - loss: 0.0105\n",
      "Epoch 10/50\n",
      "16/16 [==============================] - 0s 15ms/step - loss: 0.0100\n",
      "Epoch 11/50\n",
      "16/16 [==============================] - 0s 18ms/step - loss: 0.0123\n",
      "Epoch 12/50\n",
      "16/16 [==============================] - 0s 15ms/step - loss: 0.0118\n",
      "Epoch 13/50\n",
      "16/16 [==============================] - 0s 15ms/step - loss: 0.0100\n",
      "Epoch 14/50\n",
      "16/16 [==============================] - 0s 15ms/step - loss: 0.0102\n",
      "Epoch 15/50\n",
      "16/16 [==============================] - 0s 15ms/step - loss: 0.0087\n",
      "Epoch 16/50\n",
      "16/16 [==============================] - 0s 15ms/step - loss: 0.0083\n",
      "Epoch 17/50\n",
      "16/16 [==============================] - 0s 15ms/step - loss: 0.0097\n",
      "Epoch 18/50\n",
      "16/16 [==============================] - 0s 15ms/step - loss: 0.0075\n",
      "Epoch 19/50\n",
      "16/16 [==============================] - 0s 15ms/step - loss: 0.0076\n",
      "Epoch 20/50\n",
      "16/16 [==============================] - 0s 15ms/step - loss: 0.0085\n",
      "Epoch 21/50\n",
      "16/16 [==============================] - 0s 15ms/step - loss: 0.0071\n",
      "Epoch 22/50\n",
      "16/16 [==============================] - 0s 17ms/step - loss: 0.0083\n",
      "Epoch 23/50\n",
      "16/16 [==============================] - 0s 16ms/step - loss: 0.0075\n",
      "Epoch 24/50\n",
      "16/16 [==============================] - 0s 15ms/step - loss: 0.0084\n",
      "Epoch 25/50\n",
      "16/16 [==============================] - 0s 15ms/step - loss: 0.0070\n",
      "Epoch 26/50\n",
      "16/16 [==============================] - 0s 15ms/step - loss: 0.0074\n",
      "Epoch 27/50\n",
      "16/16 [==============================] - 0s 15ms/step - loss: 0.0070\n",
      "Epoch 28/50\n",
      "16/16 [==============================] - 0s 15ms/step - loss: 0.0068\n",
      "Epoch 29/50\n",
      "16/16 [==============================] - 0s 16ms/step - loss: 0.0069\n",
      "Epoch 30/50\n",
      "16/16 [==============================] - 0s 17ms/step - loss: 0.0070\n",
      "Epoch 31/50\n",
      "16/16 [==============================] - ETA: 0s - loss: 0.007 - 0s 17ms/step - loss: 0.0070\n",
      "Epoch 32/50\n",
      "16/16 [==============================] - 0s 18ms/step - loss: 0.0081\n",
      "Epoch 33/50\n",
      "16/16 [==============================] - 0s 18ms/step - loss: 0.0080\n",
      "Epoch 34/50\n",
      "16/16 [==============================] - 0s 16ms/step - loss: 0.0069\n",
      "Epoch 35/50\n",
      "16/16 [==============================] - 0s 17ms/step - loss: 0.0057\n",
      "Epoch 36/50\n",
      "16/16 [==============================] - 0s 17ms/step - loss: 0.0061\n",
      "Epoch 37/50\n",
      "16/16 [==============================] - 0s 16ms/step - loss: 0.0063\n",
      "Epoch 38/50\n",
      "16/16 [==============================] - 0s 15ms/step - loss: 0.0069\n",
      "Epoch 39/50\n",
      "16/16 [==============================] - 0s 15ms/step - loss: 0.0067\n",
      "Epoch 40/50\n",
      "16/16 [==============================] - 0s 15ms/step - loss: 0.0063\n",
      "Epoch 41/50\n",
      "16/16 [==============================] - 0s 15ms/step - loss: 0.0060\n",
      "Epoch 42/50\n",
      "16/16 [==============================] - 0s 15ms/step - loss: 0.0069\n",
      "Epoch 43/50\n",
      "16/16 [==============================] - 0s 15ms/step - loss: 0.0071\n",
      "Epoch 44/50\n",
      "16/16 [==============================] - 0s 15ms/step - loss: 0.0069\n",
      "Epoch 45/50\n",
      "16/16 [==============================] - 0s 15ms/step - loss: 0.0072\n",
      "Epoch 46/50\n",
      "16/16 [==============================] - 0s 16ms/step - loss: 0.0064\n",
      "Epoch 47/50\n",
      "16/16 [==============================] - 0s 15ms/step - loss: 0.0054\n",
      "Epoch 48/50\n",
      "16/16 [==============================] - 0s 15ms/step - loss: 0.0062\n",
      "Epoch 49/50\n",
      "16/16 [==============================] - 0s 16ms/step - loss: 0.0068\n",
      "Epoch 50/50\n",
      "16/16 [==============================] - 0s 15ms/step - loss: 0.0065\n"
     ]
    },
    {
     "data": {
      "text/plain": [
       "<tensorflow.python.keras.callbacks.History at 0x26a16b94670>"
      ]
     },
     "execution_count": 131,
     "metadata": {},
     "output_type": "execute_result"
    }
   ],
   "source": [
    "model = Sequential()\n",
    "\n",
    "#Adding the first LSTM layer and some Dropout regularisation\n",
    "model.add(LSTM(units = 50, return_sequences = True, input_shape = (X_train.shape[1], 1)))\n",
    "model.add(Dropout(0.2))\n",
    "\n",
    "# Adding a second LSTM layer and some Dropout regularisation\n",
    "model.add(LSTM(units = 50, return_sequences = True))\n",
    "model.add(Dropout(0.2))\n",
    "\n",
    "# Adding a third LSTM layer and some Dropout regularisation\n",
    "model.add(LSTM(units = 50, return_sequences = True))\n",
    "model.add(Dropout(0.2))\n",
    "\n",
    "# Adding a fourth LSTM layer and some Dropout regularisation\n",
    "model.add(LSTM(units = 50))\n",
    "model.add(Dropout(0.2))\n",
    "\n",
    "# Adding the output layer\n",
    "model.add(Dense(units = 1))\n",
    "\n",
    "# Compiling the RNN\n",
    "model.compile(optimizer = 'adam', loss = 'mean_squared_error')\n",
    "\n",
    "# Fitting the RNN to the Training set\n",
    "model.fit(X_train, y_train, epochs = 50, batch_size = 32)"
   ]
  },
  {
   "cell_type": "code",
   "execution_count": 133,
   "id": "digital-masters",
   "metadata": {},
   "outputs": [
    {
     "name": "stdout",
     "output_type": "stream",
     "text": [
      "WARNING:tensorflow:6 out of the last 6 calls to <function Model.make_predict_function.<locals>.predict_function at 0x0000026A1FA63E50> triggered tf.function retracing. Tracing is expensive and the excessive number of tracings could be due to (1) creating @tf.function repeatedly in a loop, (2) passing tensors with different shapes, (3) passing Python objects instead of tensors. For (1), please define your @tf.function outside of the loop. For (2), @tf.function has experimental_relax_shapes=True option that relaxes argument shapes that can avoid unnecessary retracing. For (3), please refer to https://www.tensorflow.org/tutorials/customization/performance#python_or_tensor_args and https://www.tensorflow.org/api_docs/python/tf/function for  more details.\n"
     ]
    }
   ],
   "source": [
    "y_pred = model.predict(X_test)\n",
    "y_pred = sc.inverse_transform(y_pred) #revert scaling"
   ]
  },
  {
   "cell_type": "code",
   "execution_count": 145,
   "id": "fundamental-rating",
   "metadata": {},
   "outputs": [
    {
     "data": {
      "text/plain": [
       "range(500, 555)"
      ]
     },
     "execution_count": 145,
     "metadata": {},
     "output_type": "execute_result"
    }
   ],
   "source": [
    "range(500,len(df['Infected']))"
   ]
  },
  {
   "cell_type": "code",
   "execution_count": 146,
   "id": "outside-tokyo",
   "metadata": {},
   "outputs": [
    {
     "data": {
      "text/plain": [
       "41"
      ]
     },
     "execution_count": 146,
     "metadata": {},
     "output_type": "execute_result"
    }
   ],
   "source": [
    "len(y_pred)"
   ]
  },
  {
   "cell_type": "code",
   "execution_count": 149,
   "id": "favorite-overall",
   "metadata": {},
   "outputs": [
    {
     "data": {
      "text/plain": [
       "514"
      ]
     },
     "execution_count": 149,
     "metadata": {},
     "output_type": "execute_result"
    }
   ],
   "source": [
    "len(df['Infected'])-41"
   ]
  },
  {
   "cell_type": "code",
   "execution_count": 153,
   "id": "otherwise-highland",
   "metadata": {},
   "outputs": [
    {
     "data": {
      "text/plain": [
       "[<matplotlib.lines.Line2D at 0x26a23e08b80>]"
      ]
     },
     "execution_count": 153,
     "metadata": {},
     "output_type": "execute_result"
    },
    {
     "data": {
      "image/png": "[encoded data removed]",
      "text/plain": [
       "<Figure size 960x320 with 1 Axes>"
      ]
     },
     "metadata": {
      "needs_background": "light"
     },
     "output_type": "display_data"
    }
   ],
   "source": [
    "from matplotlib.pyplot import figure\n",
    "figure(figsize=(12, 4), dpi=80)\n",
    "plt.plot(range(len(df['Infected'])), df['Infected'])\n",
    "plt.plot(range(500,541), y_pred)"
   ]
  },
  {
   "cell_type": "code",
   "execution_count": 163,
   "id": "swedish-floor",
   "metadata": {},
   "outputs": [
    {
     "data": {
      "text/plain": [
       "18950869.006880835"
      ]
     },
     "execution_count": 163,
     "metadata": {},
     "output_type": "execute_result"
    }
   ],
   "source": [
    "mean_squared_error(test_set[:,0][:41], y_pred)"
   ]
  },
  {
   "cell_type": "code",
   "execution_count": null,
   "id": "molecular-scanning",
   "metadata": {},
   "outputs": [],
   "source": []
  }
 ],
 "metadata": {
  "kernelspec": {
   "display_name": "Python 3",
   "language": "python",
   "name": "python3"
  },
  "language_info": {
   "codemirror_mode": {
    "name": "ipython",
    "version": 3
   },
   "file_extension": ".py",
   "mimetype": "text/x-python",
   "name": "python",
   "nbconvert_exporter": "python",
   "pygments_lexer": "ipython3",
   "version": "3.8.5"
  }
 },
 "nbformat": 4,
 "nbformat_minor": 5
}
