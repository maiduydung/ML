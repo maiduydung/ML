{
 "cells": [
  {
   "cell_type": "markdown",
   "id": "metric-prize",
   "metadata": {},
   "source": [
    "### Run once everyday"
   ]
  },
  {
   "cell_type": "code",
   "execution_count": 1,
   "id": "german-mathematics",
   "metadata": {},
   "outputs": [],
   "source": [
    "import numpy as np\n",
    "import pandas as pd\n",
    "import matplotlib.pyplot as plt\n",
    "from keras.models import Sequential, load_model\n",
    "from keras.layers import LSTM, GRU, Dense, Dropout\n",
    "from keras.callbacks import EarlyStopping\n",
    "from sklearn.preprocessing import MinMaxScaler\n",
    "from sklearn.metrics import mean_squared_error\n",
    "from keras.preprocessing.sequence import TimeseriesGenerator\n",
    "import tensorflow as tf\n",
    "from keras.callbacks import EarlyStopping, ModelCheckpoint\n",
    "from keras.models import load_model"
   ]
  },
  {
   "cell_type": "code",
   "execution_count": 2,
   "id": "established-angle",
   "metadata": {},
   "outputs": [
    {
     "name": "stdout",
     "output_type": "stream",
     "text": [
      "Date        datetime64[ns]\n",
      "Infected           float64\n",
      "dtype: object\n",
      "(638, 2)\n"
     ]
    },
    {
     "data": {
      "text/html": [
       "<div>\n",
       "<style scoped>\n",
       "    .dataframe tbody tr th:only-of-type {\n",
       "        vertical-align: middle;\n",
       "    }\n",
       "\n",
       "    .dataframe tbody tr th {\n",
       "        vertical-align: top;\n",
       "    }\n",
       "\n",
       "    .dataframe thead th {\n",
       "        text-align: right;\n",
       "    }\n",
       "</style>\n",
       "<table border=\"1\" class=\"dataframe\">\n",
       "  <thead>\n",
       "    <tr style=\"text-align: right;\">\n",
       "      <th></th>\n",
       "      <th>Date</th>\n",
       "      <th>Infected</th>\n",
       "    </tr>\n",
       "  </thead>\n",
       "  <tbody>\n",
       "    <tr>\n",
       "      <th>633</th>\n",
       "      <td>2021-10-10</td>\n",
       "      <td>546.0</td>\n",
       "    </tr>\n",
       "    <tr>\n",
       "      <th>634</th>\n",
       "      <td>2021-10-11</td>\n",
       "      <td>359.0</td>\n",
       "    </tr>\n",
       "    <tr>\n",
       "      <th>635</th>\n",
       "      <td>2021-10-12</td>\n",
       "      <td>609.0</td>\n",
       "    </tr>\n",
       "    <tr>\n",
       "      <th>636</th>\n",
       "      <td>2021-10-13</td>\n",
       "      <td>723.0</td>\n",
       "    </tr>\n",
       "    <tr>\n",
       "      <th>637</th>\n",
       "      <td>2021-10-14</td>\n",
       "      <td>612.0</td>\n",
       "    </tr>\n",
       "  </tbody>\n",
       "</table>\n",
       "</div>"
      ],
      "text/plain": [
       "          Date  Infected\n",
       "633 2021-10-10     546.0\n",
       "634 2021-10-11     359.0\n",
       "635 2021-10-12     609.0\n",
       "636 2021-10-13     723.0\n",
       "637 2021-10-14     612.0"
      ]
     },
     "execution_count": 2,
     "metadata": {},
     "output_type": "execute_result"
    }
   ],
   "source": [
    "df = pd.read_csv('https://toyokeizai.net/sp/visual/tko/covid19/csv/pcr_positive_daily.csv')\n",
    "df = df.rename(columns={'日付': 'Date', 'PCR 検査陽性者数(単日)': 'Infected'}) #renaming from Japanese to English\n",
    "df['Date'] = pd.to_datetime(df['Date'])\n",
    "print(df.dtypes)\n",
    "print(df.shape)\n",
    "df.tail()"
   ]
  },
  {
   "cell_type": "code",
   "execution_count": 3,
   "id": "covered-venezuela",
   "metadata": {},
   "outputs": [
    {
     "data": {
      "text/html": [
       "<div>\n",
       "<style scoped>\n",
       "    .dataframe tbody tr th:only-of-type {\n",
       "        vertical-align: middle;\n",
       "    }\n",
       "\n",
       "    .dataframe tbody tr th {\n",
       "        vertical-align: top;\n",
       "    }\n",
       "\n",
       "    .dataframe thead th {\n",
       "        text-align: right;\n",
       "    }\n",
       "</style>\n",
       "<table border=\"1\" class=\"dataframe\">\n",
       "  <thead>\n",
       "    <tr style=\"text-align: right;\">\n",
       "      <th></th>\n",
       "      <th>Date</th>\n",
       "      <th>Infected</th>\n",
       "    </tr>\n",
       "  </thead>\n",
       "  <tbody>\n",
       "    <tr>\n",
       "      <th>0</th>\n",
       "      <td>2020-01-16</td>\n",
       "      <td>1.0</td>\n",
       "    </tr>\n",
       "    <tr>\n",
       "      <th>1</th>\n",
       "      <td>2020-01-17</td>\n",
       "      <td>0.0</td>\n",
       "    </tr>\n",
       "    <tr>\n",
       "      <th>2</th>\n",
       "      <td>2020-01-18</td>\n",
       "      <td>0.0</td>\n",
       "    </tr>\n",
       "    <tr>\n",
       "      <th>3</th>\n",
       "      <td>2020-01-19</td>\n",
       "      <td>0.0</td>\n",
       "    </tr>\n",
       "    <tr>\n",
       "      <th>4</th>\n",
       "      <td>2020-01-20</td>\n",
       "      <td>0.0</td>\n",
       "    </tr>\n",
       "    <tr>\n",
       "      <th>...</th>\n",
       "      <td>...</td>\n",
       "      <td>...</td>\n",
       "    </tr>\n",
       "    <tr>\n",
       "      <th>633</th>\n",
       "      <td>2021-10-10</td>\n",
       "      <td>546.0</td>\n",
       "    </tr>\n",
       "    <tr>\n",
       "      <th>634</th>\n",
       "      <td>2021-10-11</td>\n",
       "      <td>359.0</td>\n",
       "    </tr>\n",
       "    <tr>\n",
       "      <th>635</th>\n",
       "      <td>2021-10-12</td>\n",
       "      <td>609.0</td>\n",
       "    </tr>\n",
       "    <tr>\n",
       "      <th>636</th>\n",
       "      <td>2021-10-13</td>\n",
       "      <td>723.0</td>\n",
       "    </tr>\n",
       "    <tr>\n",
       "      <th>637</th>\n",
       "      <td>2021-10-14</td>\n",
       "      <td>612.0</td>\n",
       "    </tr>\n",
       "  </tbody>\n",
       "</table>\n",
       "<p>638 rows × 2 columns</p>\n",
       "</div>"
      ],
      "text/plain": [
       "          Date  Infected\n",
       "0   2020-01-16       1.0\n",
       "1   2020-01-17       0.0\n",
       "2   2020-01-18       0.0\n",
       "3   2020-01-19       0.0\n",
       "4   2020-01-20       0.0\n",
       "..         ...       ...\n",
       "633 2021-10-10     546.0\n",
       "634 2021-10-11     359.0\n",
       "635 2021-10-12     609.0\n",
       "636 2021-10-13     723.0\n",
       "637 2021-10-14     612.0\n",
       "\n",
       "[638 rows x 2 columns]"
      ]
     },
     "execution_count": 3,
     "metadata": {},
     "output_type": "execute_result"
    }
   ],
   "source": [
    "def read_from_source():\n",
    "    df = pd.read_csv('https://toyokeizai.net/sp/visual/tko/covid19/csv/pcr_positive_daily.csv')\n",
    "    df = df.rename(columns={'日付': 'Date', 'PCR 検査陽性者数(単日)': 'Infected'}) #renaming from Japanese to English\n",
    "    df['Date'] = pd.to_datetime(df['Date'])\n",
    "    return df\n",
    "read_from_source()"
   ]
  },
  {
   "cell_type": "code",
   "execution_count": 4,
   "id": "eleven-penguin",
   "metadata": {},
   "outputs": [
    {
     "name": "stdout",
     "output_type": "stream",
     "text": [
      "GRU loaded\n",
      "Next 4 days prediction: [[537.2245  470.4045  407.93817 352.67615]]\n",
      "2021-10-01 --- 2021-10-18\n"
     ]
    },
    {
     "data": {
      "text/html": [
       "<div>\n",
       "<style scoped>\n",
       "    .dataframe tbody tr th:only-of-type {\n",
       "        vertical-align: middle;\n",
       "    }\n",
       "\n",
       "    .dataframe tbody tr th {\n",
       "        vertical-align: top;\n",
       "    }\n",
       "\n",
       "    .dataframe thead th {\n",
       "        text-align: right;\n",
       "    }\n",
       "</style>\n",
       "<table border=\"1\" class=\"dataframe\">\n",
       "  <thead>\n",
       "    <tr style=\"text-align: right;\">\n",
       "      <th></th>\n",
       "      <th>Date</th>\n",
       "      <th>Predict Infected</th>\n",
       "    </tr>\n",
       "  </thead>\n",
       "  <tbody>\n",
       "    <tr>\n",
       "      <th>0</th>\n",
       "      <td>2021-10-15</td>\n",
       "      <td>537.224487</td>\n",
       "    </tr>\n",
       "    <tr>\n",
       "      <th>1</th>\n",
       "      <td>2021-10-16</td>\n",
       "      <td>470.404510</td>\n",
       "    </tr>\n",
       "    <tr>\n",
       "      <th>2</th>\n",
       "      <td>2021-10-17</td>\n",
       "      <td>407.938171</td>\n",
       "    </tr>\n",
       "    <tr>\n",
       "      <th>3</th>\n",
       "      <td>2021-10-18</td>\n",
       "      <td>352.676147</td>\n",
       "    </tr>\n",
       "  </tbody>\n",
       "</table>\n",
       "</div>"
      ],
      "text/plain": [
       "         Date  Predict Infected\n",
       "0  2021-10-15        537.224487\n",
       "1  2021-10-16        470.404510\n",
       "2  2021-10-17        407.938171\n",
       "3  2021-10-18        352.676147"
      ]
     },
     "execution_count": 4,
     "metadata": {},
     "output_type": "execute_result"
    }
   ],
   "source": [
    "def pred_covid(model_name, df): #GRU or LSTM\n",
    "    model = load_model(model_name +'_infected_only_GRU_LSTM_Oct16.h5')\n",
    "    print(model_name,'loaded')\n",
    "\n",
    "    #always unchanged\n",
    "    n_steps_in = 14\n",
    "    n_steps_out = 4\n",
    "    sc = MinMaxScaler(feature_range = (0, 1))\n",
    "    \n",
    "    x_input = df['Infected'][-n_steps_in:].values # last 14 day\n",
    "    x_input = sc.fit_transform(x_input.reshape(len(x_input), 1))\n",
    "    x_input = x_input.reshape((1, n_steps_in, 1))\n",
    "    \n",
    "    y_pred = model.predict(x_input)\n",
    "    y_pred = sc.inverse_transform(y_pred) #revert scaling\n",
    "    print('Next 4 days prediction:', y_pred)\n",
    "    \n",
    "    start_date = str(df['Date'].iloc[-14])[:10]\n",
    "    end_date = df['Date'].iloc[-15] + pd.Timedelta(18, unit='D')                  \n",
    "    end_date = str(end_date)[:10]\n",
    "    print(start_date,'---', end_date)\n",
    "    time_range = pd.date_range(start=start_date, end=end_date)\n",
    "    \n",
    "    pred_list = list(zip(time_range[-4:].strftime('%Y-%m-%d'), y_pred[0,:]))\n",
    "    return pd.DataFrame (pred_list, columns = ['Date', 'Predict Infected'])\n",
    "\n",
    "pred_covid('GRU',df)"
   ]
  },
  {
   "cell_type": "code",
   "execution_count": null,
   "id": "postal-albert",
   "metadata": {},
   "outputs": [],
   "source": []
  },
  {
   "cell_type": "markdown",
   "id": "tribal-coupon",
   "metadata": {},
   "source": [
    "### Load LSTM"
   ]
  },
  {
   "cell_type": "code",
   "execution_count": 5,
   "id": "positive-amount",
   "metadata": {},
   "outputs": [
    {
     "data": {
      "text/plain": [
       "<tensorflow.python.keras.engine.sequential.Sequential at 0x1a085fe27f0>"
      ]
     },
     "execution_count": 5,
     "metadata": {},
     "output_type": "execute_result"
    }
   ],
   "source": [
    "model_lstm = load_model('LSTM_infected_only_GRU_LSTM_Oct16.h5')\n",
    "model_lstm"
   ]
  },
  {
   "cell_type": "code",
   "execution_count": 6,
   "id": "postal-saint",
   "metadata": {},
   "outputs": [],
   "source": [
    "n_steps_in = 14\n",
    "n_steps_out = 4"
   ]
  },
  {
   "cell_type": "code",
   "execution_count": 7,
   "id": "popular-projector",
   "metadata": {},
   "outputs": [],
   "source": [
    "# Feature Scaling\n",
    "sc = MinMaxScaler(feature_range = (0, 1))"
   ]
  },
  {
   "cell_type": "code",
   "execution_count": 8,
   "id": "medical-accent",
   "metadata": {},
   "outputs": [
    {
     "name": "stdout",
     "output_type": "stream",
     "text": [
      "(1, 14, 1)\n"
     ]
    }
   ],
   "source": [
    "x_input = df['Infected'][-n_steps_in:].values # last 14 day\n",
    "x_input = sc.fit_transform(x_input.reshape(len(x_input), 1))\n",
    "x_input = x_input.reshape((1, n_steps_in, 1))\n",
    "print(x_input.shape)"
   ]
  },
  {
   "cell_type": "code",
   "execution_count": 9,
   "id": "accurate-saturn",
   "metadata": {},
   "outputs": [
    {
     "name": "stdout",
     "output_type": "stream",
     "text": [
      "[[664.68115 617.5858  570.1588  481.71854]]\n"
     ]
    }
   ],
   "source": [
    "y_pred = model_lstm.predict(x_input)\n",
    "y_pred = sc.inverse_transform(y_pred) #revert scaling\n",
    "print(y_pred)"
   ]
  },
  {
   "cell_type": "code",
   "execution_count": 10,
   "id": "planned-breeding",
   "metadata": {},
   "outputs": [
    {
     "name": "stdout",
     "output_type": "stream",
     "text": [
      "[1443. 1232.  959.  576.  971. 1117.  969.  824.  770.  546.  359.  609.\n",
      "  723.  612.]\n"
     ]
    }
   ],
   "source": [
    "x_input_raw = df['Infected'][-n_steps_in:].values\n",
    "print(x_input_raw.reshape(n_steps_in))"
   ]
  },
  {
   "cell_type": "markdown",
   "id": "basic-revelation",
   "metadata": {},
   "source": [
    "### Range: 18 days"
   ]
  },
  {
   "cell_type": "code",
   "execution_count": 11,
   "id": "celtic-cooperation",
   "metadata": {},
   "outputs": [
    {
     "name": "stdout",
     "output_type": "stream",
     "text": [
      "2021-10-01 --- 2021-10-18\n"
     ]
    }
   ],
   "source": [
    "start_date = str(df['Date'].iloc[-14])[:10]\n",
    "\n",
    "end_date = df['Date'].iloc[-15] + pd.Timedelta(18, unit='D')                  \n",
    "end_date = str(end_date)[:10]\n",
    "\n",
    "print(start_date,'---', end_date)"
   ]
  },
  {
   "cell_type": "code",
   "execution_count": 12,
   "id": "revised-template",
   "metadata": {},
   "outputs": [
    {
     "name": "stdout",
     "output_type": "stream",
     "text": [
      "(18,)\n"
     ]
    }
   ],
   "source": [
    "time_range = pd.date_range(start=start_date, end=end_date)\n",
    "print(time_range.shape)"
   ]
  },
  {
   "cell_type": "code",
   "execution_count": 13,
   "id": "persistent-arbitration",
   "metadata": {},
   "outputs": [
    {
     "data": {
      "image/png": "[encoded data removed]",
      "text/plain": [
       "<Figure size 1600x480 with 1 Axes>"
      ]
     },
     "metadata": {
      "needs_background": "light"
     },
     "output_type": "display_data"
    }
   ],
   "source": [
    "from matplotlib.pyplot import figure\n",
    "figure(figsize=(20, 6), dpi=80)\n",
    "\n",
    "plt.plot(time_range[:14],x_input_raw.reshape(n_steps_in), label='Observed')\n",
    "plt.plot(time_range[14:], y_pred[0,:], label='LSTM_predicted')\n",
    "plt.title('LSTM out-of-sample-prediction')\n",
    "plt.xticks(time_range,rotation=45)\n",
    "plt.legend()\n",
    "plt.show()"
   ]
  },
  {
   "cell_type": "code",
   "execution_count": null,
   "id": "spatial-publicity",
   "metadata": {},
   "outputs": [],
   "source": []
  },
  {
   "cell_type": "code",
   "execution_count": null,
   "id": "alive-coral",
   "metadata": {},
   "outputs": [],
   "source": []
  },
  {
   "cell_type": "code",
   "execution_count": null,
   "id": "blond-canvas",
   "metadata": {},
   "outputs": [],
   "source": []
  },
  {
   "cell_type": "code",
   "execution_count": null,
   "id": "retained-retention",
   "metadata": {},
   "outputs": [],
   "source": []
  },
  {
   "cell_type": "markdown",
   "id": "becoming-nurse",
   "metadata": {},
   "source": [
    "### Load GRU"
   ]
  },
  {
   "cell_type": "code",
   "execution_count": 14,
   "id": "trying-uncertainty",
   "metadata": {},
   "outputs": [
    {
     "data": {
      "text/plain": [
       "<tensorflow.python.keras.engine.sequential.Sequential at 0x1a086019130>"
      ]
     },
     "execution_count": 14,
     "metadata": {},
     "output_type": "execute_result"
    }
   ],
   "source": [
    "model_GRU = load_model('GRU_infected_only_GRU_LSTM_Oct16.h5')\n",
    "model_GRU"
   ]
  },
  {
   "cell_type": "code",
   "execution_count": 15,
   "id": "uniform-strategy",
   "metadata": {},
   "outputs": [],
   "source": [
    "n_steps_in = 14\n",
    "n_steps_out = 4"
   ]
  },
  {
   "cell_type": "code",
   "execution_count": 16,
   "id": "anonymous-diary",
   "metadata": {},
   "outputs": [],
   "source": [
    "# Feature Scaling\n",
    "sc = MinMaxScaler(feature_range = (0, 1))"
   ]
  },
  {
   "cell_type": "code",
   "execution_count": 17,
   "id": "improving-gender",
   "metadata": {},
   "outputs": [
    {
     "name": "stdout",
     "output_type": "stream",
     "text": [
      "(1, 14, 1)\n"
     ]
    }
   ],
   "source": [
    "x_input = df['Infected'][-n_steps_in:].values # last 14 day\n",
    "x_input = sc.fit_transform(x_input.reshape(len(x_input), 1))\n",
    "x_input = x_input.reshape((1, n_steps_in, 1))\n",
    "print(x_input.shape)"
   ]
  },
  {
   "cell_type": "code",
   "execution_count": 18,
   "id": "corporate-revolution",
   "metadata": {},
   "outputs": [
    {
     "name": "stdout",
     "output_type": "stream",
     "text": [
      "[[537.2245  470.4045  407.93817 352.67615]]\n"
     ]
    }
   ],
   "source": [
    "y_pred_GRU = model_GRU.predict(x_input)\n",
    "y_pred_GRU = sc.inverse_transform(y_pred_GRU) #revert scaling\n",
    "print(y_pred_GRU)"
   ]
  },
  {
   "cell_type": "code",
   "execution_count": 19,
   "id": "conscious-judgment",
   "metadata": {},
   "outputs": [
    {
     "name": "stdout",
     "output_type": "stream",
     "text": [
      "[1443. 1232.  959.  576.  971. 1117.  969.  824.  770.  546.  359.  609.\n",
      "  723.  612.]\n"
     ]
    }
   ],
   "source": [
    "x_input_raw = df['Infected'][-n_steps_in:].values\n",
    "print(x_input_raw.reshape(n_steps_in))"
   ]
  },
  {
   "cell_type": "markdown",
   "id": "mediterranean-orchestra",
   "metadata": {},
   "source": [
    "### Range: 18 days"
   ]
  },
  {
   "cell_type": "code",
   "execution_count": 20,
   "id": "medium-letter",
   "metadata": {},
   "outputs": [
    {
     "name": "stdout",
     "output_type": "stream",
     "text": [
      "2021-10-01 --- 2021-10-18\n"
     ]
    }
   ],
   "source": [
    "start_date = str(df['Date'].iloc[-14])[:10]\n",
    "\n",
    "end_date = df['Date'].iloc[-15] + pd.Timedelta(18, unit='D')                  \n",
    "end_date = str(end_date)[:10]\n",
    "\n",
    "print(start_date,'---', end_date)"
   ]
  },
  {
   "cell_type": "code",
   "execution_count": 21,
   "id": "stuck-advantage",
   "metadata": {},
   "outputs": [
    {
     "name": "stdout",
     "output_type": "stream",
     "text": [
      "(18,)\n"
     ]
    }
   ],
   "source": [
    "time_range = pd.date_range(start=start_date, end=end_date)\n",
    "print(time_range.shape)"
   ]
  },
  {
   "cell_type": "code",
   "execution_count": 22,
   "id": "brilliant-clear",
   "metadata": {},
   "outputs": [
    {
     "data": {
      "text/plain": [
       "array([537.2245 , 470.4045 , 407.93817, 352.67615], dtype=float32)"
      ]
     },
     "execution_count": 22,
     "metadata": {},
     "output_type": "execute_result"
    }
   ],
   "source": [
    "y_pred_GRU[0,:]"
   ]
  },
  {
   "cell_type": "code",
   "execution_count": 23,
   "id": "worse-doctrine",
   "metadata": {},
   "outputs": [
    {
     "data": {
      "text/plain": [
       "[('2021-10-15', 537.2245),\n",
       " ('2021-10-16', 470.4045),\n",
       " ('2021-10-17', 407.93817),\n",
       " ('2021-10-18', 352.67615)]"
      ]
     },
     "execution_count": 23,
     "metadata": {},
     "output_type": "execute_result"
    }
   ],
   "source": [
    "pred_list = list(zip(time_range[-4:].strftime('%Y-%m-%d'), y_pred_GRU[0,:]))\n",
    "pred_list"
   ]
  },
  {
   "cell_type": "code",
   "execution_count": 24,
   "id": "reliable-cologne",
   "metadata": {},
   "outputs": [
    {
     "data": {
      "text/html": [
       "<div>\n",
       "<style scoped>\n",
       "    .dataframe tbody tr th:only-of-type {\n",
       "        vertical-align: middle;\n",
       "    }\n",
       "\n",
       "    .dataframe tbody tr th {\n",
       "        vertical-align: top;\n",
       "    }\n",
       "\n",
       "    .dataframe thead th {\n",
       "        text-align: right;\n",
       "    }\n",
       "</style>\n",
       "<table border=\"1\" class=\"dataframe\">\n",
       "  <thead>\n",
       "    <tr style=\"text-align: right;\">\n",
       "      <th></th>\n",
       "      <th>Date</th>\n",
       "      <th>Predict Infected</th>\n",
       "    </tr>\n",
       "  </thead>\n",
       "  <tbody>\n",
       "    <tr>\n",
       "      <th>0</th>\n",
       "      <td>2021-10-15</td>\n",
       "      <td>537.224487</td>\n",
       "    </tr>\n",
       "    <tr>\n",
       "      <th>1</th>\n",
       "      <td>2021-10-16</td>\n",
       "      <td>470.404510</td>\n",
       "    </tr>\n",
       "    <tr>\n",
       "      <th>2</th>\n",
       "      <td>2021-10-17</td>\n",
       "      <td>407.938171</td>\n",
       "    </tr>\n",
       "    <tr>\n",
       "      <th>3</th>\n",
       "      <td>2021-10-18</td>\n",
       "      <td>352.676147</td>\n",
       "    </tr>\n",
       "  </tbody>\n",
       "</table>\n",
       "</div>"
      ],
      "text/plain": [
       "         Date  Predict Infected\n",
       "0  2021-10-15        537.224487\n",
       "1  2021-10-16        470.404510\n",
       "2  2021-10-17        407.938171\n",
       "3  2021-10-18        352.676147"
      ]
     },
     "execution_count": 24,
     "metadata": {},
     "output_type": "execute_result"
    }
   ],
   "source": [
    "pd.DataFrame (pred_list, columns = ['Date', 'Predict Infected'])"
   ]
  },
  {
   "cell_type": "code",
   "execution_count": null,
   "id": "spare-illinois",
   "metadata": {},
   "outputs": [],
   "source": []
  },
  {
   "cell_type": "code",
   "execution_count": null,
   "id": "amazing-institute",
   "metadata": {},
   "outputs": [],
   "source": []
  },
  {
   "cell_type": "code",
   "execution_count": 25,
   "id": "greenhouse-second",
   "metadata": {},
   "outputs": [
    {
     "data": {
      "image/png": "[encoded data removed]",
      "text/plain": [
       "<Figure size 1600x480 with 1 Axes>"
      ]
     },
     "metadata": {
      "needs_background": "light"
     },
     "output_type": "display_data"
    }
   ],
   "source": [
    "from matplotlib.pyplot import figure\n",
    "figure(figsize=(20, 6), dpi=80)\n",
    "\n",
    "plt.plot(time_range[:14],x_input_raw.reshape(n_steps_in), label='Observed')\n",
    "plt.plot(time_range[14:], y_pred_GRU[0,:], label='GRU_predicted')\n",
    "plt.title('GRU out-of-sample-prediction')\n",
    "plt.xticks(time_range,rotation=45)\n",
    "plt.legend()\n",
    "plt.show()"
   ]
  },
  {
   "cell_type": "code",
   "execution_count": null,
   "id": "blank-cartridge",
   "metadata": {},
   "outputs": [],
   "source": []
  }
 ],
 "metadata": {
  "kernelspec": {
   "display_name": "Python 3",
   "language": "python",
   "name": "python3"
  },
  "language_info": {
   "codemirror_mode": {
    "name": "ipython",
    "version": 3
   },
   "file_extension": ".py",
   "mimetype": "text/x-python",
   "name": "python",
   "nbconvert_exporter": "python",
   "pygments_lexer": "ipython3",
   "version": "3.8.5"
  }
 },
 "nbformat": 4,
 "nbformat_minor": 5
}
