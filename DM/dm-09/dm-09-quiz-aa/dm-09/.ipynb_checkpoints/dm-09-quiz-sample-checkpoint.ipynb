{
 "cells": [
  {
   "cell_type": "markdown",
   "metadata": {},
   "source": [
    "### DM-09 Quiz  "
   ]
  },
  {
   "cell_type": "markdown",
   "metadata": {},
   "source": [
    "#### Import libraries  "
   ]
  },
  {
   "cell_type": "code",
   "execution_count": null,
   "metadata": {},
   "outputs": [],
   "source": [
    "import numpy as np\n",
    "import pandas as pd\n",
    "import matplotlib.pyplot as plt\n",
    "from factor_analyzer import FactorAnalyzer"
   ]
  },
  {
   "cell_type": "markdown",
   "metadata": {},
   "source": [
    "#### Parameters  "
   ]
  },
  {
   "cell_type": "code",
   "execution_count": null,
   "metadata": {},
   "outputs": [],
   "source": [
    "csv_in = 'fa-1.csv'\n",
    "\n",
    "%config InlineBackend.figure_formats = {'png', 'retina'}  # for high-reso graph"
   ]
  },
  {
   "cell_type": "markdown",
   "metadata": {},
   "source": [
    "#### Read CSV data  "
   ]
  },
  {
   "cell_type": "code",
   "execution_count": null,
   "metadata": {},
   "outputs": [],
   "source": [
    "df = pd.read_csv(csv_in, xxx)\n",
    "xxx"
   ]
  },
  {
   "cell_type": "code",
   "execution_count": null,
   "metadata": {},
   "outputs": [],
   "source": [
    "xxx"
   ]
  },
  {
   "cell_type": "code",
   "execution_count": null,
   "metadata": {},
   "outputs": [],
   "source": [
    "# slightly modified from biplot() in pca_and_biplot.ipynb of DM-06\n",
    "def biplot_fa(score_2d, loadings, load_labels=None):\n",
    "    plt.figure(figsize=(10,10))\n",
    "    r1 = 1.5\n",
    "    r2 = 1.01\n",
    "    if load_labels is None:\n",
    "        load_labels = range(len(loadings))\n",
    "    for i, coef in enumerate(loadings):\n",
    "        plt.arrow(0, 0, coef[0]*r1, coef[1]*r1, color='r')    \n",
    "        plt.text(coef[0]*r1*r2, coef[1]*r1*r2, load_labels[i],\n",
    "                 color='b', fontsize=20)\n",
    "    for i in range(len(score_2d)):\n",
    "        m = '${}$'.format(i)\n",
    "        plt.scatter(score_2d[i,0], score_2d[i,1], marker=m, s=500, c='k')\n",
    "    plt.xlabel('F_1')\n",
    "    plt.ylabel('F_2')\n",
    "    plt.grid()\n",
    "    return None"
   ]
  }
 ],
 "metadata": {
  "kernelspec": {
   "display_name": "Python 3",
   "language": "python",
   "name": "python3"
  },
  "language_info": {
   "codemirror_mode": {
    "name": "ipython",
    "version": 3
   },
   "file_extension": ".py",
   "mimetype": "text/x-python",
   "name": "python",
   "nbconvert_exporter": "python",
   "pygments_lexer": "ipython3",
   "version": "3.8.8"
  }
 },
 "nbformat": 4,
 "nbformat_minor": 4
}
