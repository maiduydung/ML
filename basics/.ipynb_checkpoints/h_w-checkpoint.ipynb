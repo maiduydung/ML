{
 "cells": [
  {
   "cell_type": "code",
   "execution_count": 108,
   "metadata": {},
   "outputs": [],
   "source": [
    "import pandas as pd\n",
    "import numpy as np\n",
    "import matplotlib.pyplot as plt\n",
    "#from tensorflow.keras.layers.experimental.preprocessing import Normalization\n",
    "from tensorflow.keras.models import Sequential\n",
    "from tensorflow.keras.layers import Dense, BatchNormalization\n",
    "from tensorflow.keras.optimizers import Adam\n"
   ]
  },
  {
   "cell_type": "code",
   "execution_count": 2,
   "metadata": {},
   "outputs": [],
   "source": [
    "df = pd.read_csv('../datasets/height_weight/height_weight.csv')\n",
    "# Since height is in pound and weight is in inch.\n",
    "# We're doing a bit conversion here\n",
    "df.loc[:,'Height'] *= 0.0254\n",
    "df.loc[:,'Weight'] *= 0.45359237"
   ]
  },
  {
   "cell_type": "code",
   "execution_count": 3,
   "metadata": {},
   "outputs": [
    {
     "data": {
      "text/html": [
       "<div>\n",
       "<style scoped>\n",
       "    .dataframe tbody tr th:only-of-type {\n",
       "        vertical-align: middle;\n",
       "    }\n",
       "\n",
       "    .dataframe tbody tr th {\n",
       "        vertical-align: top;\n",
       "    }\n",
       "\n",
       "    .dataframe thead th {\n",
       "        text-align: right;\n",
       "    }\n",
       "</style>\n",
       "<table border=\"1\" class=\"dataframe\">\n",
       "  <thead>\n",
       "    <tr style=\"text-align: right;\">\n",
       "      <th></th>\n",
       "      <th>Gender</th>\n",
       "      <th>Height</th>\n",
       "      <th>Weight</th>\n",
       "    </tr>\n",
       "  </thead>\n",
       "  <tbody>\n",
       "    <tr>\n",
       "      <th>0</th>\n",
       "      <td>Male</td>\n",
       "      <td>1.875714</td>\n",
       "      <td>109.721075</td>\n",
       "    </tr>\n",
       "    <tr>\n",
       "      <th>1</th>\n",
       "      <td>Male</td>\n",
       "      <td>1.747060</td>\n",
       "      <td>73.622792</td>\n",
       "    </tr>\n",
       "    <tr>\n",
       "      <th>2</th>\n",
       "      <td>Male</td>\n",
       "      <td>1.882397</td>\n",
       "      <td>96.497629</td>\n",
       "    </tr>\n",
       "    <tr>\n",
       "      <th>3</th>\n",
       "      <td>Male</td>\n",
       "      <td>1.821967</td>\n",
       "      <td>99.809586</td>\n",
       "    </tr>\n",
       "    <tr>\n",
       "      <th>4</th>\n",
       "      <td>Male</td>\n",
       "      <td>1.774998</td>\n",
       "      <td>93.598695</td>\n",
       "    </tr>\n",
       "    <tr>\n",
       "      <th>...</th>\n",
       "      <td>...</td>\n",
       "      <td>...</td>\n",
       "      <td>...</td>\n",
       "    </tr>\n",
       "    <tr>\n",
       "      <th>4995</th>\n",
       "      <td>Male</td>\n",
       "      <td>1.749046</td>\n",
       "      <td>80.345294</td>\n",
       "    </tr>\n",
       "    <tr>\n",
       "      <th>4996</th>\n",
       "      <td>Male</td>\n",
       "      <td>1.751925</td>\n",
       "      <td>72.250564</td>\n",
       "    </tr>\n",
       "    <tr>\n",
       "      <th>4997</th>\n",
       "      <td>Male</td>\n",
       "      <td>1.702150</td>\n",
       "      <td>90.353514</td>\n",
       "    </tr>\n",
       "    <tr>\n",
       "      <th>4998</th>\n",
       "      <td>Male</td>\n",
       "      <td>1.817566</td>\n",
       "      <td>84.325502</td>\n",
       "    </tr>\n",
       "    <tr>\n",
       "      <th>4999</th>\n",
       "      <td>Male</td>\n",
       "      <td>1.786938</td>\n",
       "      <td>90.220889</td>\n",
       "    </tr>\n",
       "  </tbody>\n",
       "</table>\n",
       "<p>5000 rows × 3 columns</p>\n",
       "</div>"
      ],
      "text/plain": [
       "     Gender    Height      Weight\n",
       "0      Male  1.875714  109.721075\n",
       "1      Male  1.747060   73.622792\n",
       "2      Male  1.882397   96.497629\n",
       "3      Male  1.821967   99.809586\n",
       "4      Male  1.774998   93.598695\n",
       "...     ...       ...         ...\n",
       "4995   Male  1.749046   80.345294\n",
       "4996   Male  1.751925   72.250564\n",
       "4997   Male  1.702150   90.353514\n",
       "4998   Male  1.817566   84.325502\n",
       "4999   Male  1.786938   90.220889\n",
       "\n",
       "[5000 rows x 3 columns]"
      ]
     },
     "metadata": {},
     "output_type": "display_data"
    },
    {
     "data": {
      "text/html": [
       "<div>\n",
       "<style scoped>\n",
       "    .dataframe tbody tr th:only-of-type {\n",
       "        vertical-align: middle;\n",
       "    }\n",
       "\n",
       "    .dataframe tbody tr th {\n",
       "        vertical-align: top;\n",
       "    }\n",
       "\n",
       "    .dataframe thead th {\n",
       "        text-align: right;\n",
       "    }\n",
       "</style>\n",
       "<table border=\"1\" class=\"dataframe\">\n",
       "  <thead>\n",
       "    <tr style=\"text-align: right;\">\n",
       "      <th></th>\n",
       "      <th>Gender</th>\n",
       "      <th>Height</th>\n",
       "      <th>Weight</th>\n",
       "    </tr>\n",
       "  </thead>\n",
       "  <tbody>\n",
       "    <tr>\n",
       "      <th>5000</th>\n",
       "      <td>Female</td>\n",
       "      <td>1.496333</td>\n",
       "      <td>46.306486</td>\n",
       "    </tr>\n",
       "    <tr>\n",
       "      <th>5001</th>\n",
       "      <td>Female</td>\n",
       "      <td>1.656842</td>\n",
       "      <td>64.095243</td>\n",
       "    </tr>\n",
       "    <tr>\n",
       "      <th>5002</th>\n",
       "      <td>Female</td>\n",
       "      <td>1.609573</td>\n",
       "      <td>59.439380</td>\n",
       "    </tr>\n",
       "    <tr>\n",
       "      <th>5003</th>\n",
       "      <td>Female</td>\n",
       "      <td>1.637792</td>\n",
       "      <td>58.137620</td>\n",
       "    </tr>\n",
       "    <tr>\n",
       "      <th>5004</th>\n",
       "      <td>Female</td>\n",
       "      <td>1.569545</td>\n",
       "      <td>58.867856</td>\n",
       "    </tr>\n",
       "    <tr>\n",
       "      <th>...</th>\n",
       "      <td>...</td>\n",
       "      <td>...</td>\n",
       "      <td>...</td>\n",
       "    </tr>\n",
       "    <tr>\n",
       "      <th>9995</th>\n",
       "      <td>Female</td>\n",
       "      <td>1.680785</td>\n",
       "      <td>62.041210</td>\n",
       "    </tr>\n",
       "    <tr>\n",
       "      <th>9996</th>\n",
       "      <td>Female</td>\n",
       "      <td>1.703506</td>\n",
       "      <td>77.504378</td>\n",
       "    </tr>\n",
       "    <tr>\n",
       "      <th>9997</th>\n",
       "      <td>Female</td>\n",
       "      <td>1.622247</td>\n",
       "      <td>58.275424</td>\n",
       "    </tr>\n",
       "    <tr>\n",
       "      <th>9998</th>\n",
       "      <td>Female</td>\n",
       "      <td>1.753470</td>\n",
       "      <td>74.322226</td>\n",
       "    </tr>\n",
       "    <tr>\n",
       "      <th>9999</th>\n",
       "      <td>Female</td>\n",
       "      <td>1.573384</td>\n",
       "      <td>51.550366</td>\n",
       "    </tr>\n",
       "  </tbody>\n",
       "</table>\n",
       "<p>5000 rows × 3 columns</p>\n",
       "</div>"
      ],
      "text/plain": [
       "      Gender    Height     Weight\n",
       "5000  Female  1.496333  46.306486\n",
       "5001  Female  1.656842  64.095243\n",
       "5002  Female  1.609573  59.439380\n",
       "5003  Female  1.637792  58.137620\n",
       "5004  Female  1.569545  58.867856\n",
       "...      ...       ...        ...\n",
       "9995  Female  1.680785  62.041210\n",
       "9996  Female  1.703506  77.504378\n",
       "9997  Female  1.622247  58.275424\n",
       "9998  Female  1.753470  74.322226\n",
       "9999  Female  1.573384  51.550366\n",
       "\n",
       "[5000 rows x 3 columns]"
      ]
     },
     "metadata": {},
     "output_type": "display_data"
    }
   ],
   "source": [
    "df_male = df[df['Gender'] == 'Male']\n",
    "df_female = df[df['Gender'] == 'Female']\n",
    "display(df_male)\n",
    "display(df_female)"
   ]
  },
  {
   "cell_type": "code",
   "execution_count": 4,
   "metadata": {},
   "outputs": [
    {
     "data": {
      "text/plain": [
       "Text(0, 0.5, 'Height (m)')"
      ]
     },
     "execution_count": 4,
     "metadata": {},
     "output_type": "execute_result"
    },
    {
     "data": {
      "image/png": "[encoded data removed]",
      "text/plain": [
       "<Figure size 432x288 with 1 Axes>"
      ]
     },
     "metadata": {
      "needs_background": "light"
     },
     "output_type": "display_data"
    }
   ],
   "source": [
    "plt.scatter(df_male['Weight'], df_male['Height'])\n",
    "plt.title(\"Male height - weight distribution\")\n",
    "plt.xlabel('Weight (kg)')\n",
    "plt.ylabel('Height (m)')"
   ]
  },
  {
   "cell_type": "code",
   "execution_count": 5,
   "metadata": {},
   "outputs": [
    {
     "data": {
      "text/plain": [
       "Text(0, 0.5, 'Height (m)')"
      ]
     },
     "execution_count": 5,
     "metadata": {},
     "output_type": "execute_result"
    },
    {
     "data": {
      "image/png": "[encoded data removed]",
      "text/plain": [
       "<Figure size 432x288 with 1 Axes>"
      ]
     },
     "metadata": {
      "needs_background": "light"
     },
     "output_type": "display_data"
    }
   ],
   "source": [
    "plt.scatter(df_female['Weight'], df_female['Height'])\n",
    "plt.title(\"Female height - weight distribution\")\n",
    "plt.xlabel('Weight (kg)')\n",
    "plt.ylabel('Height (m)')"
   ]
  },
  {
   "cell_type": "markdown",
   "metadata": {},
   "source": [
    "#### Predicting on male data set\n",
    "##### from height predict weight"
   ]
  },
  {
   "cell_type": "code",
   "execution_count": 183,
   "metadata": {},
   "outputs": [],
   "source": [
    "df_male_train = df_male[:4000]\n",
    "df_male_test = df_male[4000:]\n",
    "data_train = np.array(df_male_train['Height'])\n",
    "label_train = np.array(df_male_train['Weight'])"
   ]
  },
  {
   "cell_type": "code",
   "execution_count": 184,
   "metadata": {},
   "outputs": [
    {
     "data": {
      "text/plain": [
       "(4000,)"
      ]
     },
     "execution_count": 184,
     "metadata": {},
     "output_type": "execute_result"
    }
   ],
   "source": [
    "data_train.shape"
   ]
  },
  {
   "cell_type": "code",
   "execution_count": 185,
   "metadata": {},
   "outputs": [],
   "source": [
    "data_train_normalizer = BatchNormalization(axis=1)\n"
   ]
  },
  {
   "cell_type": "code",
   "execution_count": 186,
   "metadata": {},
   "outputs": [],
   "source": [
    "\n",
    "model = Sequential([\n",
    "        data_train_normalizer,\n",
    "        Dense(units=1)\n",
    "])\n"
   ]
  },
  {
   "cell_type": "code",
   "execution_count": 187,
   "metadata": {},
   "outputs": [
    {
     "data": {
      "text/plain": [
       "array([[-1.7843623],\n",
       "       [-1.6619743],\n",
       "       [-1.7907194],\n",
       "       [-1.7332326],\n",
       "       [-1.6885508],\n",
       "       [-1.6250317],\n",
       "       [-1.6620511],\n",
       "       [-1.6515023],\n",
       "       [-1.6193761],\n",
       "       [-1.5332966]], dtype=float32)"
      ]
     },
     "execution_count": 187,
     "metadata": {},
     "output_type": "execute_result"
    }
   ],
   "source": [
    "#predict with untrained model\n",
    "model.predict(data_train[:10])"
   ]
  },
  {
   "cell_type": "code",
   "execution_count": 198,
   "metadata": {},
   "outputs": [],
   "source": [
    "model.compile(optimizer=Adam(learning_rate=0.1), loss='mean_squared_error')"
   ]
  },
  {
   "cell_type": "code",
   "execution_count": 200,
   "metadata": {},
   "outputs": [
    {
     "name": "stdout",
     "output_type": "stream",
     "text": [
      "Train on 3200 samples, validate on 800 samples\n",
      "Epoch 1/100\n",
      "3200/3200 [==============================] - 0s 45us/sample - loss: 25.0852 - accuracy: 0.0000e+00 - val_loss: 20.7222 - val_accuracy: 0.0000e+00\n",
      "Epoch 2/100\n",
      "3200/3200 [==============================] - 0s 42us/sample - loss: 24.5923 - accuracy: 0.0000e+00 - val_loss: 20.5428 - val_accuracy: 0.0000e+00\n",
      "Epoch 3/100\n",
      "3200/3200 [==============================] - 0s 39us/sample - loss: 25.5816 - accuracy: 0.0000e+00 - val_loss: 23.2990 - val_accuracy: 0.0000e+00\n",
      "Epoch 4/100\n",
      "3200/3200 [==============================] - 0s 44us/sample - loss: 24.4259 - accuracy: 0.0000e+00 - val_loss: 21.0478 - val_accuracy: 0.0000e+00\n",
      "Epoch 5/100\n",
      "3200/3200 [==============================] - 0s 38us/sample - loss: 23.8488 - accuracy: 0.0000e+00 - val_loss: 21.9869 - val_accuracy: 0.0000e+00\n",
      "Epoch 6/100\n",
      "3200/3200 [==============================] - 0s 39us/sample - loss: 24.7559 - accuracy: 0.0000e+00 - val_loss: 21.9155 - val_accuracy: 0.0000e+00\n",
      "Epoch 7/100\n",
      "3200/3200 [==============================] - 0s 41us/sample - loss: 24.3188 - accuracy: 0.0000e+00 - val_loss: 20.4629 - val_accuracy: 0.0000e+00\n",
      "Epoch 8/100\n",
      "3200/3200 [==============================] - 0s 52us/sample - loss: 24.7948 - accuracy: 0.0000e+00 - val_loss: 21.0588 - val_accuracy: 0.0000e+00\n",
      "Epoch 9/100\n",
      "3200/3200 [==============================] - 0s 44us/sample - loss: 24.3220 - accuracy: 0.0000e+00 - val_loss: 20.2770 - val_accuracy: 0.0000e+00\n",
      "Epoch 10/100\n",
      "3200/3200 [==============================] - 0s 60us/sample - loss: 24.0682 - accuracy: 0.0000e+00 - val_loss: 20.5415 - val_accuracy: 0.0000e+00\n",
      "Epoch 11/100\n",
      "3200/3200 [==============================] - 0s 38us/sample - loss: 26.5707 - accuracy: 0.0000e+00 - val_loss: 22.1686 - val_accuracy: 0.0000e+00\n",
      "Epoch 12/100\n",
      "3200/3200 [==============================] - 0s 37us/sample - loss: 25.9258 - accuracy: 0.0000e+00 - val_loss: 21.6000 - val_accuracy: 0.0000e+00\n",
      "Epoch 13/100\n",
      "3200/3200 [==============================] - 0s 49us/sample - loss: 24.8048 - accuracy: 0.0000e+00 - val_loss: 21.0451 - val_accuracy: 0.0000e+00\n",
      "Epoch 14/100\n",
      "3200/3200 [==============================] - 0s 50us/sample - loss: 24.2139 - accuracy: 0.0000e+00 - val_loss: 20.7588 - val_accuracy: 0.0000e+00\n",
      "Epoch 15/100\n",
      "3200/3200 [==============================] - 0s 43us/sample - loss: 24.9193 - accuracy: 0.0000e+00 - val_loss: 21.0426 - val_accuracy: 0.0000e+00\n",
      "Epoch 16/100\n",
      "3200/3200 [==============================] - 0s 45us/sample - loss: 26.7046 - accuracy: 0.0000e+00 - val_loss: 25.6275 - val_accuracy: 0.0000e+00\n",
      "Epoch 17/100\n",
      "3200/3200 [==============================] - 0s 41us/sample - loss: 24.4388 - accuracy: 0.0000e+00 - val_loss: 21.2456 - val_accuracy: 0.0000e+00\n",
      "Epoch 18/100\n",
      "3200/3200 [==============================] - 0s 53us/sample - loss: 24.1346 - accuracy: 0.0000e+00 - val_loss: 21.0218 - val_accuracy: 0.0000e+00\n",
      "Epoch 19/100\n",
      "3200/3200 [==============================] - 0s 38us/sample - loss: 25.5681 - accuracy: 0.0000e+00 - val_loss: 21.4160 - val_accuracy: 0.0000e+00\n",
      "Epoch 20/100\n",
      "3200/3200 [==============================] - 0s 38us/sample - loss: 24.0771 - accuracy: 0.0000e+00 - val_loss: 21.2394 - val_accuracy: 0.0000e+00\n",
      "Epoch 21/100\n",
      "3200/3200 [==============================] - 0s 42us/sample - loss: 25.7882 - accuracy: 0.0000e+00 - val_loss: 20.3065 - val_accuracy: 0.0000e+00\n",
      "Epoch 22/100\n",
      "3200/3200 [==============================] - 0s 42us/sample - loss: 23.9353 - accuracy: 0.0000e+00 - val_loss: 21.5383 - val_accuracy: 0.0000e+00\n",
      "Epoch 23/100\n",
      "3200/3200 [==============================] - 0s 38us/sample - loss: 23.4907 - accuracy: 0.0000e+00 - val_loss: 20.2564 - val_accuracy: 0.0000e+00\n",
      "Epoch 24/100\n",
      "3200/3200 [==============================] - 0s 41us/sample - loss: 24.5967 - accuracy: 0.0000e+00 - val_loss: 21.1859 - val_accuracy: 0.0000e+00\n",
      "Epoch 25/100\n",
      "3200/3200 [==============================] - 0s 38us/sample - loss: 25.0253 - accuracy: 0.0000e+00 - val_loss: 21.5795 - val_accuracy: 0.0000e+00\n",
      "Epoch 26/100\n",
      "3200/3200 [==============================] - 0s 42us/sample - loss: 24.8235 - accuracy: 0.0000e+00 - val_loss: 20.4460 - val_accuracy: 0.0000e+00\n",
      "Epoch 27/100\n",
      "3200/3200 [==============================] - 0s 40us/sample - loss: 24.8906 - accuracy: 0.0000e+00 - val_loss: 22.3159 - val_accuracy: 0.0000e+00\n",
      "Epoch 28/100\n",
      "3200/3200 [==============================] - 0s 41us/sample - loss: 24.1862 - accuracy: 0.0000e+00 - val_loss: 21.0900 - val_accuracy: 0.0000e+00\n",
      "Epoch 29/100\n",
      "3200/3200 [==============================] - 0s 41us/sample - loss: 24.8562 - accuracy: 0.0000e+00 - val_loss: 20.5555 - val_accuracy: 0.0000e+00\n",
      "Epoch 30/100\n",
      "3200/3200 [==============================] - 0s 42us/sample - loss: 24.2974 - accuracy: 0.0000e+00 - val_loss: 23.2334 - val_accuracy: 0.0000e+00\n",
      "Epoch 31/100\n",
      "3200/3200 [==============================] - 0s 60us/sample - loss: 25.6073 - accuracy: 0.0000e+00 - val_loss: 20.5539 - val_accuracy: 0.0000e+00\n",
      "Epoch 32/100\n",
      "3200/3200 [==============================] - 0s 39us/sample - loss: 25.2828 - accuracy: 0.0000e+00 - val_loss: 20.6424 - val_accuracy: 0.0000e+00\n",
      "Epoch 33/100\n",
      "3200/3200 [==============================] - 0s 37us/sample - loss: 24.9790 - accuracy: 0.0000e+00 - val_loss: 22.6845 - val_accuracy: 0.0000e+00\n",
      "Epoch 34/100\n",
      "3200/3200 [==============================] - 0s 41us/sample - loss: 24.1112 - accuracy: 0.0000e+00 - val_loss: 20.4677 - val_accuracy: 0.0000e+00\n",
      "Epoch 35/100\n",
      "3200/3200 [==============================] - 0s 36us/sample - loss: 24.7330 - accuracy: 0.0000e+00 - val_loss: 22.3752 - val_accuracy: 0.0000e+00\n",
      "Epoch 36/100\n",
      "3200/3200 [==============================] - 0s 38us/sample - loss: 24.7449 - accuracy: 0.0000e+00 - val_loss: 21.9491 - val_accuracy: 0.0000e+00\n",
      "Epoch 37/100\n",
      "3200/3200 [==============================] - 0s 38us/sample - loss: 25.2425 - accuracy: 0.0000e+00 - val_loss: 21.9220 - val_accuracy: 0.0000e+00\n",
      "Epoch 38/100\n",
      "3200/3200 [==============================] - 0s 38us/sample - loss: 24.8596 - accuracy: 0.0000e+00 - val_loss: 20.5492 - val_accuracy: 0.0000e+00\n",
      "Epoch 39/100\n",
      "3200/3200 [==============================] - 0s 41us/sample - loss: 24.4898 - accuracy: 0.0000e+00 - val_loss: 21.1879 - val_accuracy: 0.0000e+00\n",
      "Epoch 40/100\n",
      "3200/3200 [==============================] - 0s 47us/sample - loss: 23.7798 - accuracy: 0.0000e+00 - val_loss: 21.9388 - val_accuracy: 0.0000e+00\n",
      "Epoch 41/100\n",
      "3200/3200 [==============================] - 0s 48us/sample - loss: 24.5317 - accuracy: 0.0000e+00 - val_loss: 20.6298 - val_accuracy: 0.0000e+00\n",
      "Epoch 42/100\n",
      "3200/3200 [==============================] - 0s 49us/sample - loss: 24.7121 - accuracy: 0.0000e+00 - val_loss: 23.2131 - val_accuracy: 0.0000e+00\n",
      "Epoch 43/100\n",
      "3200/3200 [==============================] - 0s 36us/sample - loss: 24.7999 - accuracy: 0.0000e+00 - val_loss: 24.2587 - val_accuracy: 0.0000e+00\n",
      "Epoch 44/100\n",
      "3200/3200 [==============================] - 0s 38us/sample - loss: 26.2334 - accuracy: 0.0000e+00 - val_loss: 21.6052 - val_accuracy: 0.0000e+00\n",
      "Epoch 45/100\n",
      "3200/3200 [==============================] - 0s 38us/sample - loss: 25.2036 - accuracy: 0.0000e+00 - val_loss: 23.2815 - val_accuracy: 0.0000e+00\n",
      "Epoch 46/100\n",
      "3200/3200 [==============================] - 0s 42us/sample - loss: 25.1355 - accuracy: 0.0000e+00 - val_loss: 20.5885 - val_accuracy: 0.0000e+00\n",
      "Epoch 47/100\n",
      "3200/3200 [==============================] - 0s 39us/sample - loss: 24.0764 - accuracy: 0.0000e+00 - val_loss: 21.3796 - val_accuracy: 0.0000e+00\n",
      "Epoch 48/100\n",
      "3200/3200 [==============================] - 0s 41us/sample - loss: 24.2494 - accuracy: 0.0000e+00 - val_loss: 20.2782 - val_accuracy: 0.0000e+00\n",
      "Epoch 49/100\n",
      "3200/3200 [==============================] - 0s 41us/sample - loss: 23.4390 - accuracy: 0.0000e+00 - val_loss: 21.4126 - val_accuracy: 0.0000e+00\n",
      "Epoch 50/100\n",
      "3200/3200 [==============================] - 0s 38us/sample - loss: 25.2507 - accuracy: 0.0000e+00 - val_loss: 22.5864 - val_accuracy: 0.0000e+00\n",
      "Epoch 51/100\n",
      "3200/3200 [==============================] - 0s 38us/sample - loss: 25.3087 - accuracy: 0.0000e+00 - val_loss: 22.0866 - val_accuracy: 0.0000e+00\n",
      "Epoch 52/100\n",
      "3200/3200 [==============================] - 0s 46us/sample - loss: 24.1914 - accuracy: 0.0000e+00 - val_loss: 20.3845 - val_accuracy: 0.0000e+00\n",
      "Epoch 53/100\n",
      "3200/3200 [==============================] - 0s 43us/sample - loss: 25.1900 - accuracy: 0.0000e+00 - val_loss: 21.8603 - val_accuracy: 0.0000e+00\n",
      "Epoch 54/100\n",
      "3200/3200 [==============================] - 0s 47us/sample - loss: 25.8966 - accuracy: 0.0000e+00 - val_loss: 20.7720 - val_accuracy: 0.0000e+00\n",
      "Epoch 55/100\n",
      "3200/3200 [==============================] - 0s 42us/sample - loss: 24.7252 - accuracy: 0.0000e+00 - val_loss: 20.5090 - val_accuracy: 0.0000e+00\n",
      "Epoch 56/100\n",
      "3200/3200 [==============================] - 0s 43us/sample - loss: 24.1952 - accuracy: 0.0000e+00 - val_loss: 21.2842 - val_accuracy: 0.0000e+00\n",
      "Epoch 57/100\n",
      "3200/3200 [==============================] - 0s 54us/sample - loss: 24.9247 - accuracy: 0.0000e+00 - val_loss: 20.5965 - val_accuracy: 0.0000e+00\n",
      "Epoch 58/100\n",
      "3200/3200 [==============================] - 0s 36us/sample - loss: 24.3231 - accuracy: 0.0000e+00 - val_loss: 20.5143 - val_accuracy: 0.0000e+00\n",
      "Epoch 59/100\n",
      "3200/3200 [==============================] - 0s 37us/sample - loss: 25.8741 - accuracy: 0.0000e+00 - val_loss: 23.0952 - val_accuracy: 0.0000e+00\n",
      "Epoch 60/100\n",
      "3200/3200 [==============================] - 0s 39us/sample - loss: 24.1936 - accuracy: 0.0000e+00 - val_loss: 23.6054 - val_accuracy: 0.0000e+00\n",
      "Epoch 61/100\n",
      "3200/3200 [==============================] - 0s 42us/sample - loss: 25.6577 - accuracy: 0.0000e+00 - val_loss: 20.7402 - val_accuracy: 0.0000e+00\n",
      "Epoch 62/100\n",
      "3200/3200 [==============================] - 0s 39us/sample - loss: 24.8716 - accuracy: 0.0000e+00 - val_loss: 22.2870 - val_accuracy: 0.0000e+00\n",
      "Epoch 63/100\n",
      "3200/3200 [==============================] - 0s 39us/sample - loss: 25.1396 - accuracy: 0.0000e+00 - val_loss: 20.4227 - val_accuracy: 0.0000e+00\n",
      "Epoch 64/100\n",
      "3200/3200 [==============================] - 0s 51us/sample - loss: 24.3717 - accuracy: 0.0000e+00 - val_loss: 20.4576 - val_accuracy: 0.0000e+00\n",
      "Epoch 65/100\n",
      "3200/3200 [==============================] - 0s 55us/sample - loss: 24.8098 - accuracy: 0.0000e+00 - val_loss: 29.6808 - val_accuracy: 0.0000e+00\n",
      "Epoch 66/100\n",
      "3200/3200 [==============================] - 0s 37us/sample - loss: 26.7237 - accuracy: 0.0000e+00 - val_loss: 20.9693 - val_accuracy: 0.0000e+00\n",
      "Epoch 67/100\n",
      "3200/3200 [==============================] - 0s 37us/sample - loss: 24.8411 - accuracy: 0.0000e+00 - val_loss: 21.0371 - val_accuracy: 0.0000e+00\n",
      "Epoch 68/100\n",
      "3200/3200 [==============================] - 0s 41us/sample - loss: 25.1175 - accuracy: 0.0000e+00 - val_loss: 20.8203 - val_accuracy: 0.0000e+00\n",
      "Epoch 69/100\n",
      "3200/3200 [==============================] - 0s 38us/sample - loss: 24.5314 - accuracy: 0.0000e+00 - val_loss: 21.9187 - val_accuracy: 0.0000e+00\n",
      "Epoch 70/100\n",
      "3200/3200 [==============================] - 0s 42us/sample - loss: 25.2747 - accuracy: 0.0000e+00 - val_loss: 20.3466 - val_accuracy: 0.0000e+00\n",
      "Epoch 71/100\n",
      "3200/3200 [==============================] - 0s 39us/sample - loss: 26.0339 - accuracy: 0.0000e+00 - val_loss: 21.9204 - val_accuracy: 0.0000e+00\n",
      "Epoch 72/100\n",
      "3200/3200 [==============================] - 0s 42us/sample - loss: 24.0904 - accuracy: 0.0000e+00 - val_loss: 20.6374 - val_accuracy: 0.0000e+00\n",
      "Epoch 73/100\n",
      "3200/3200 [==============================] - 0s 41us/sample - loss: 24.9571 - accuracy: 0.0000e+00 - val_loss: 21.6460 - val_accuracy: 0.0000e+00\n",
      "Epoch 74/100\n",
      "3200/3200 [==============================] - 0s 61us/sample - loss: 24.3786 - accuracy: 0.0000e+00 - val_loss: 20.9166 - val_accuracy: 0.0000e+00\n",
      "Epoch 75/100\n",
      "3200/3200 [==============================] - 0s 44us/sample - loss: 24.9542 - accuracy: 0.0000e+00 - val_loss: 22.7539 - val_accuracy: 0.0000e+00\n",
      "Epoch 76/100\n",
      "3200/3200 [==============================] - 0s 37us/sample - loss: 24.6574 - accuracy: 0.0000e+00 - val_loss: 22.4719 - val_accuracy: 0.0000e+00\n",
      "Epoch 77/100\n",
      "3200/3200 [==============================] - 0s 38us/sample - loss: 25.3450 - accuracy: 0.0000e+00 - val_loss: 20.3519 - val_accuracy: 0.0000e+00\n",
      "Epoch 78/100\n",
      "3200/3200 [==============================] - 0s 41us/sample - loss: 25.0412 - accuracy: 0.0000e+00 - val_loss: 20.5960 - val_accuracy: 0.0000e+00\n",
      "Epoch 79/100\n",
      "3200/3200 [==============================] - 0s 37us/sample - loss: 24.9328 - accuracy: 0.0000e+00 - val_loss: 21.1304 - val_accuracy: 0.0000e+00\n",
      "Epoch 80/100\n",
      "3200/3200 [==============================] - 0s 40us/sample - loss: 24.5406 - accuracy: 0.0000e+00 - val_loss: 20.3027 - val_accuracy: 0.0000e+00\n",
      "Epoch 81/100\n",
      "3200/3200 [==============================] - 0s 58us/sample - loss: 24.9778 - accuracy: 0.0000e+00 - val_loss: 20.3619 - val_accuracy: 0.0000e+00\n",
      "Epoch 82/100\n",
      "3200/3200 [==============================] - 0s 53us/sample - loss: 25.6340 - accuracy: 0.0000e+00 - val_loss: 20.6651 - val_accuracy: 0.0000e+00\n",
      "Epoch 83/100\n",
      "3200/3200 [==============================] - 0s 49us/sample - loss: 24.7600 - accuracy: 0.0000e+00 - val_loss: 22.7587 - val_accuracy: 0.0000e+00\n",
      "Epoch 84/100\n",
      "3200/3200 [==============================] - 0s 40us/sample - loss: 24.6430 - accuracy: 0.0000e+00 - val_loss: 22.9867 - val_accuracy: 0.0000e+00\n",
      "Epoch 85/100\n",
      "3200/3200 [==============================] - 0s 51us/sample - loss: 23.7316 - accuracy: 0.0000e+00 - val_loss: 21.3891 - val_accuracy: 0.0000e+00\n",
      "Epoch 86/100\n",
      "3200/3200 [==============================] - 0s 69us/sample - loss: 25.4005 - accuracy: 0.0000e+00 - val_loss: 20.7375 - val_accuracy: 0.0000e+00\n",
      "Epoch 87/100\n",
      "3200/3200 [==============================] - 0s 46us/sample - loss: 23.6386 - accuracy: 0.0000e+00 - val_loss: 20.7435 - val_accuracy: 0.0000e+00\n",
      "Epoch 88/100\n",
      "3200/3200 [==============================] - 0s 42us/sample - loss: 25.4297 - accuracy: 0.0000e+00 - val_loss: 20.5616 - val_accuracy: 0.0000e+00\n",
      "Epoch 89/100\n",
      "3200/3200 [==============================] - 0s 37us/sample - loss: 24.1447 - accuracy: 0.0000e+00 - val_loss: 22.7306 - val_accuracy: 0.0000e+00\n",
      "Epoch 90/100\n",
      "3200/3200 [==============================] - 0s 37us/sample - loss: 25.7911 - accuracy: 0.0000e+00 - val_loss: 22.7137 - val_accuracy: 0.0000e+00\n",
      "Epoch 91/100\n",
      "3200/3200 [==============================] - 0s 36us/sample - loss: 25.2698 - accuracy: 0.0000e+00 - val_loss: 21.9738 - val_accuracy: 0.0000e+00\n",
      "Epoch 92/100\n",
      "3200/3200 [==============================] - 0s 39us/sample - loss: 25.2437 - accuracy: 0.0000e+00 - val_loss: 20.4104 - val_accuracy: 0.0000e+00\n",
      "Epoch 93/100\n",
      "3200/3200 [==============================] - 0s 39us/sample - loss: 25.2497 - accuracy: 0.0000e+00 - val_loss: 23.5932 - val_accuracy: 0.0000e+00\n",
      "Epoch 94/100\n",
      "3200/3200 [==============================] - 0s 46us/sample - loss: 25.1126 - accuracy: 0.0000e+00 - val_loss: 24.3883 - val_accuracy: 0.0000e+00\n",
      "Epoch 95/100\n",
      "3200/3200 [==============================] - 0s 44us/sample - loss: 25.5000 - accuracy: 0.0000e+00 - val_loss: 20.2725 - val_accuracy: 0.0000e+00\n",
      "Epoch 96/100\n",
      "3200/3200 [==============================] - 0s 42us/sample - loss: 25.2912 - accuracy: 0.0000e+00 - val_loss: 20.9523 - val_accuracy: 0.0000e+00\n",
      "Epoch 97/100\n",
      "3200/3200 [==============================] - 0s 40us/sample - loss: 25.1790 - accuracy: 0.0000e+00 - val_loss: 22.3257 - val_accuracy: 0.0000e+00\n",
      "Epoch 98/100\n",
      "3200/3200 [==============================] - 0s 43us/sample - loss: 25.1644 - accuracy: 0.0000e+00 - val_loss: 21.3011 - val_accuracy: 0.0000e+00\n",
      "Epoch 99/100\n",
      "3200/3200 [==============================] - 0s 42us/sample - loss: 24.2295 - accuracy: 0.0000e+00 - val_loss: 21.8901 - val_accuracy: 0.0000e+00\n",
      "Epoch 100/100\n",
      "3200/3200 [==============================] - 0s 44us/sample - loss: 24.6039 - accuracy: 0.0000e+00 - val_loss: 21.5135 - val_accuracy: 0.0000e+00\n"
     ]
    }
   ],
   "source": [
    "#training model\n",
    "fit_log = model.fit(data_train, label_train, epochs=100, verbose=1, validation_split=0.2)"
   ]
  },
  {
   "cell_type": "markdown",
   "metadata": {},
   "source": [
    "##### Using only one node doesn't seem to result in good prediction"
   ]
  },
  {
   "cell_type": "code",
   "execution_count": 202,
   "metadata": {},
   "outputs": [
    {
     "data": {
      "text/plain": [
       "Text(0.5, 1.0, 'Loss')"
      ]
     },
     "execution_count": 202,
     "metadata": {},
     "output_type": "execute_result"
    },
    {
     "data": {
      "image/png": "[encoded data removed]",
      "text/plain": [
       "<Figure size 432x288 with 1 Axes>"
      ]
     },
     "metadata": {
      "needs_background": "light"
     },
     "output_type": "display_data"
    }
   ],
   "source": [
    "plt.plot(fit_log.history['loss'], label = 'train')\n",
    "plt.legend()\n",
    "plt.title('Loss')"
   ]
  },
  {
   "cell_type": "code",
   "execution_count": 203,
   "metadata": {},
   "outputs": [
    {
     "data": {
      "text/plain": [
       "array([[97.40425 ],\n",
       "       [83.08043 ],\n",
       "       [98.148254],\n",
       "       [91.42023 ],\n",
       "       [86.19086 ],\n",
       "       [78.75682 ],\n",
       "       [83.08943 ],\n",
       "       [81.85483 ],\n",
       "       [78.09491 ],\n",
       "       [68.02051 ]], dtype=float32)"
      ]
     },
     "execution_count": 203,
     "metadata": {},
     "output_type": "execute_result"
    }
   ],
   "source": [
    "pred = model.predict(data_train)#height predicted\n",
    "pred[:10]"
   ]
  },
  {
   "cell_type": "code",
   "execution_count": 204,
   "metadata": {},
   "outputs": [
    {
     "data": {
      "text/plain": [
       "0    1.875714\n",
       "1    1.747060\n",
       "2    1.882397\n",
       "3    1.821967\n",
       "4    1.774998\n",
       "5    1.708227\n",
       "6    1.747141\n",
       "7    1.736052\n",
       "8    1.702281\n",
       "9    1.611795\n",
       "Name: Height, dtype: float64"
      ]
     },
     "execution_count": 204,
     "metadata": {},
     "output_type": "execute_result"
    }
   ],
   "source": [
    "df_male_train['Height'][:10]"
   ]
  },
  {
   "cell_type": "code",
   "execution_count": null,
   "metadata": {},
   "outputs": [],
   "source": []
  },
  {
   "cell_type": "code",
   "execution_count": null,
   "metadata": {},
   "outputs": [],
   "source": []
  }
 ],
 "metadata": {
  "kernelspec": {
   "display_name": "Python 3",
   "language": "python",
   "name": "python3"
  },
  "language_info": {
   "codemirror_mode": {
    "name": "ipython",
    "version": 3
   },
   "file_extension": ".py",
   "mimetype": "text/x-python",
   "name": "python",
   "nbconvert_exporter": "python",
   "pygments_lexer": "ipython3",
   "version": "3.6.12"
  }
 },
 "nbformat": 4,
 "nbformat_minor": 4
}
