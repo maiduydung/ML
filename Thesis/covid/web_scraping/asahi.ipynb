{
 "cells": [
  {
   "cell_type": "code",
   "execution_count": 14,
   "source": [
    "# Import Module\r\n",
    "from bs4 import BeautifulSoup\r\n",
    "import requests\r\n",
    "html = requests.get('https://www.asahi.com/ajw/articles/14418406')\r\n",
    "soup = BeautifulSoup(html.text,'lxml')\r\n",
    "\r\n",
    "\r\n",
    "news_article = soup.find(['div'], class_='ArticleTitle').find(['h1']).get_text()\r\n",
    "print(news_article)\r\n",
    "\r\n",
    "\r\n",
    "\r\n"
   ],
   "outputs": [
    {
     "output_type": "stream",
     "name": "stdout",
     "text": [
      "\n",
      "                                                                                                        Heavyweights in Lower House to retire, make way for new blood\n",
      "            \n"
     ]
    }
   ],
   "metadata": {}
  },
  {
   "cell_type": "code",
   "execution_count": null,
   "source": [],
   "outputs": [],
   "metadata": {}
  }
 ],
 "metadata": {
  "kernelspec": {
   "name": "python3",
   "display_name": "Python 3.8.5 64-bit ('tf': conda)"
  },
  "language_info": {
   "codemirror_mode": {
    "name": "ipython",
    "version": 3
   },
   "file_extension": ".py",
   "mimetype": "text/x-python",
   "name": "python",
   "nbconvert_exporter": "python",
   "pygments_lexer": "ipython3",
   "version": "3.8.5"
  },
  "interpreter": {
   "hash": "de2e53c54550ee6885339aa429af7d301a27ecab7db6edb4eecbf0ffb12c09f2"
  }
 },
 "nbformat": 4,
 "nbformat_minor": 5
}