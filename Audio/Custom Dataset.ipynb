{
 "cells": [
  {
   "cell_type": "code",
   "execution_count": 32,
   "id": "8715d431-2e63-49d0-a7ec-01d5a235afc2",
   "metadata": {
    "tags": []
   },
   "outputs": [],
   "source": [
    "import os\n",
    "from torch.utils.data import Dataset\n",
    "import pandas as pd\n",
    "import torchaudio\n",
    "from IPython.display import Audio"
   ]
  },
  {
   "cell_type": "code",
   "execution_count": 10,
   "id": "ce694ee4-e752-4c7a-9fa2-a88b5daf9b53",
   "metadata": {
    "tags": []
   },
   "outputs": [],
   "source": [
    "ANNOTATIONS_PATH = 'data/urbansound8k/metadata/UrbanSound8K.csv'\n",
    "AUDIO_PATH = 'data/urbansound8k/audio/'"
   ]
  },
  {
   "cell_type": "code",
   "execution_count": 36,
   "id": "96181a26-41eb-4054-a405-466ff890cf96",
   "metadata": {
    "tags": []
   },
   "outputs": [],
   "source": [
    "class UrbanSoundDataset(Dataset):\n",
    "    def __init__(self, annotations_path, audio_path):\n",
    "        self.annotations = pd.read_csv(annotations_path)\n",
    "        self.audio_path = audio_path\n",
    "        \n",
    "    def __len__(self):\n",
    "        return len(self.annotations)\n",
    "    \n",
    "    def __getitem__(self, idx): #dataset[0] -> dataset.__getitem__[0] \n",
    "        audio_sample_path = self._get_audio_sample_path(idx)\n",
    "        label = self._get_audio_sample_label(idx)\n",
    "        signal, sampling_rate = torchaudio.load(audio_sample_path)\n",
    "        return signal, label\n",
    "    \n",
    "    def _get_audio_sample_path(self, idx):\n",
    "        slice_file_name = self.annotations.iloc[idx, 0]\n",
    "        fold = 'fold{0}'.format(self.annotations.iloc[idx, 5])\n",
    "        path = os.path.join(self.audio_path, fold, slice_file_name)\n",
    "        return path\n",
    "    \n",
    "    def _get_audio_sample_label(self, idx):\n",
    "        return self.annotations.iloc[idx, 6]"
   ]
  },
  {
   "cell_type": "code",
   "execution_count": 38,
   "id": "f9ae3242-2e16-42c4-a3c0-1655fd593f07",
   "metadata": {
    "tags": []
   },
   "outputs": [],
   "source": [
    "dataset = UrbanSoundDataset(ANNOTATIONS_PATH, AUDIO_PATH)"
   ]
  },
  {
   "cell_type": "code",
   "execution_count": 46,
   "id": "bedab851-f3ac-4377-9211-a3a96b07ffd5",
   "metadata": {
    "tags": []
   },
   "outputs": [
    {
     "data": {
      "text/html": [
       "<div>\n",
       "<style scoped>\n",
       "    .dataframe tbody tr th:only-of-type {\n",
       "        vertical-align: middle;\n",
       "    }\n",
       "\n",
       "    .dataframe tbody tr th {\n",
       "        vertical-align: top;\n",
       "    }\n",
       "\n",
       "    .dataframe thead th {\n",
       "        text-align: right;\n",
       "    }\n",
       "</style>\n",
       "<table border=\"1\" class=\"dataframe\">\n",
       "  <thead>\n",
       "    <tr style=\"text-align: right;\">\n",
       "      <th></th>\n",
       "      <th>slice_file_name</th>\n",
       "      <th>fsID</th>\n",
       "      <th>start</th>\n",
       "      <th>end</th>\n",
       "      <th>salience</th>\n",
       "      <th>fold</th>\n",
       "      <th>classID</th>\n",
       "      <th>class</th>\n",
       "    </tr>\n",
       "  </thead>\n",
       "  <tbody>\n",
       "    <tr>\n",
       "      <th>0</th>\n",
       "      <td>100032-3-0-0.wav</td>\n",
       "      <td>100032</td>\n",
       "      <td>0.0</td>\n",
       "      <td>0.317551</td>\n",
       "      <td>1</td>\n",
       "      <td>5</td>\n",
       "      <td>3</td>\n",
       "      <td>dog_bark</td>\n",
       "    </tr>\n",
       "    <tr>\n",
       "      <th>1</th>\n",
       "      <td>100263-2-0-117.wav</td>\n",
       "      <td>100263</td>\n",
       "      <td>58.5</td>\n",
       "      <td>62.500000</td>\n",
       "      <td>1</td>\n",
       "      <td>5</td>\n",
       "      <td>2</td>\n",
       "      <td>children_playing</td>\n",
       "    </tr>\n",
       "    <tr>\n",
       "      <th>2</th>\n",
       "      <td>100263-2-0-121.wav</td>\n",
       "      <td>100263</td>\n",
       "      <td>60.5</td>\n",
       "      <td>64.500000</td>\n",
       "      <td>1</td>\n",
       "      <td>5</td>\n",
       "      <td>2</td>\n",
       "      <td>children_playing</td>\n",
       "    </tr>\n",
       "  </tbody>\n",
       "</table>\n",
       "</div>"
      ],
      "text/plain": [
       "      slice_file_name    fsID  start        end  salience  fold  classID  \\\n",
       "0    100032-3-0-0.wav  100032    0.0   0.317551         1     5        3   \n",
       "1  100263-2-0-117.wav  100263   58.5  62.500000         1     5        2   \n",
       "2  100263-2-0-121.wav  100263   60.5  64.500000         1     5        2   \n",
       "\n",
       "              class  \n",
       "0          dog_bark  \n",
       "1  children_playing  \n",
       "2  children_playing  "
      ]
     },
     "execution_count": 46,
     "metadata": {},
     "output_type": "execute_result"
    }
   ],
   "source": [
    "dataset.annotations[:3]"
   ]
  },
  {
   "cell_type": "code",
   "execution_count": 42,
   "id": "fd5367dc-62e6-46de-a245-68ae68794b80",
   "metadata": {
    "tags": []
   },
   "outputs": [
    {
     "data": {
      "text/plain": [
       "(tensor([[-4.5776e-03, -4.8828e-03, -4.6082e-03,  ..., -5.7983e-04,\n",
       "          -4.2725e-04,  3.0518e-05],\n",
       "         [-4.5166e-03, -4.7913e-03, -4.6082e-03,  ..., -7.3242e-04,\n",
       "          -5.4932e-04, -3.0518e-05]]),\n",
       " 3)"
      ]
     },
     "execution_count": 42,
     "metadata": {},
     "output_type": "execute_result"
    }
   ],
   "source": [
    "dataset[0]"
   ]
  },
  {
   "cell_type": "code",
   "execution_count": null,
   "id": "2c3bc790-f2e0-48c1-964d-82832b4ac67a",
   "metadata": {},
   "outputs": [],
   "source": []
  }
 ],
 "metadata": {
  "kernelspec": {
   "display_name": "Python 3 (ipykernel)",
   "language": "python",
   "name": "python3"
  },
  "language_info": {
   "codemirror_mode": {
    "name": "ipython",
    "version": 3
   },
   "file_extension": ".py",
   "mimetype": "text/x-python",
   "name": "python",
   "nbconvert_exporter": "python",
   "pygments_lexer": "ipython3",
   "version": "3.8.16"
  }
 },
 "nbformat": 4,
 "nbformat_minor": 5
}
