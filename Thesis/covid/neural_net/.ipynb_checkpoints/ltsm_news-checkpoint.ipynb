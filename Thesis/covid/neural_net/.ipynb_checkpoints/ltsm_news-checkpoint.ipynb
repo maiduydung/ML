{
 "cells": [
  {
   "cell_type": "markdown",
   "id": "express-portable",
   "metadata": {},
   "source": [
    "### Using news and daily infected\n",
    "\n",
    "#### No scaling"
   ]
  },
  {
   "cell_type": "code",
   "execution_count": 1,
   "id": "accessory-demand",
   "metadata": {},
   "outputs": [],
   "source": [
    "import numpy as np\n",
    "import pandas as pd\n",
    "import matplotlib.pyplot as plt\n",
    "from keras.models import Sequential\n",
    "from keras.layers import LSTM, Dense, Dropout\n",
    "from sklearn.preprocessing import MinMaxScaler\n",
    "from sklearn.metrics import mean_squared_error\n",
    "from keras.preprocessing.sequence import TimeseriesGenerator\n",
    "import tensorflow as tf\n",
    "\n",
    "import random\n"
   ]
  },
  {
   "cell_type": "code",
   "execution_count": 2,
   "id": "strong-mexico",
   "metadata": {},
   "outputs": [
    {
     "name": "stdout",
     "output_type": "stream",
     "text": [
      "(1299, 3)\n",
      "Date        datetime64[ns]\n",
      "Infected           float64\n",
      "Score              float64\n",
      "dtype: object\n"
     ]
    },
    {
     "data": {
      "text/html": [
       "<div>\n",
       "<style scoped>\n",
       "    .dataframe tbody tr th:only-of-type {\n",
       "        vertical-align: middle;\n",
       "    }\n",
       "\n",
       "    .dataframe tbody tr th {\n",
       "        vertical-align: top;\n",
       "    }\n",
       "\n",
       "    .dataframe thead th {\n",
       "        text-align: right;\n",
       "    }\n",
       "</style>\n",
       "<table border=\"1\" class=\"dataframe\">\n",
       "  <thead>\n",
       "    <tr style=\"text-align: right;\">\n",
       "      <th></th>\n",
       "      <th>Date</th>\n",
       "      <th>Infected</th>\n",
       "      <th>Score</th>\n",
       "    </tr>\n",
       "  </thead>\n",
       "  <tbody>\n",
       "    <tr>\n",
       "      <th>0</th>\n",
       "      <td>2020-08-31</td>\n",
       "      <td>430.0</td>\n",
       "      <td>0.0</td>\n",
       "    </tr>\n",
       "    <tr>\n",
       "      <th>1</th>\n",
       "      <td>2020-08-31</td>\n",
       "      <td>430.0</td>\n",
       "      <td>0.0</td>\n",
       "    </tr>\n",
       "    <tr>\n",
       "      <th>2</th>\n",
       "      <td>2020-08-31</td>\n",
       "      <td>430.0</td>\n",
       "      <td>0.0</td>\n",
       "    </tr>\n",
       "    <tr>\n",
       "      <th>3</th>\n",
       "      <td>2020-08-31</td>\n",
       "      <td>430.0</td>\n",
       "      <td>1.0</td>\n",
       "    </tr>\n",
       "    <tr>\n",
       "      <th>4</th>\n",
       "      <td>2020-09-01</td>\n",
       "      <td>624.0</td>\n",
       "      <td>0.0</td>\n",
       "    </tr>\n",
       "  </tbody>\n",
       "</table>\n",
       "</div>"
      ],
      "text/plain": [
       "        Date  Infected  Score\n",
       "0 2020-08-31     430.0    0.0\n",
       "1 2020-08-31     430.0    0.0\n",
       "2 2020-08-31     430.0    0.0\n",
       "3 2020-08-31     430.0    1.0\n",
       "4 2020-09-01     624.0    0.0"
      ]
     },
     "execution_count": 2,
     "metadata": {},
     "output_type": "execute_result"
    }
   ],
   "source": [
    "df = pd.read_csv('df_infected_news.csv')\n",
    "df.rename(columns={\"Unnamed: 0\": \"Date\",\"binary_score (1:good   0: bad)\": \"Score\"}, inplace=True)\n",
    "#df['Score'] = df['Score'].values.astype(int)\n",
    "df = df.dropna()\n",
    "df['Date'] = pd.to_datetime(df['Date'])\n",
    "print(df.shape)\n",
    "print(df.dtypes)\n",
    "df.head()"
   ]
  },
  {
   "cell_type": "code",
   "execution_count": 3,
   "id": "green-liverpool",
   "metadata": {},
   "outputs": [
    {
     "data": {
      "text/plain": [
       "(array([0., 1.]), array([1072,  227], dtype=int64))"
      ]
     },
     "execution_count": 3,
     "metadata": {},
     "output_type": "execute_result"
    }
   ],
   "source": [
    "np.unique(df['Score'], return_counts = True)"
   ]
  },
  {
   "cell_type": "code",
   "execution_count": 4,
   "id": "plain-tragedy",
   "metadata": {},
   "outputs": [
    {
     "data": {
      "text/plain": [
       "(array([1072.,    0.,    0.,    0.,    0.,    0.,    0.,    0.,    0.,\n",
       "         227.]),\n",
       " array([0. , 0.1, 0.2, 0.3, 0.4, 0.5, 0.6, 0.7, 0.8, 0.9, 1. ]),\n",
       " <BarContainer object of 10 artists>)"
      ]
     },
     "execution_count": 4,
     "metadata": {},
     "output_type": "execute_result"
    },
    {
     "data": {
      "image/png": "[encoded data removed]",
      "text/plain": [
       "<Figure size 432x288 with 1 Axes>"
      ]
     },
     "metadata": {
      "needs_background": "light"
     },
     "output_type": "display_data"
    }
   ],
   "source": [
    "plt.hist(df['Score'])"
   ]
  },
  {
   "cell_type": "raw",
   "id": "bound-feelings",
   "metadata": {},
   "source": [
    "def custom_rating(genre,rating):\n",
    "    if 'Thriller' in genre:\n",
    "        return min(10,rating+1)\n",
    "    elif 'Comedy' in genre:\n",
    "        return max(0,rating-1)\n",
    "    else:\n",
    "        return rating\n",
    "        \n",
    "df['CustomRating'] = df.apply(lambda x: custom_rating(x['Genre'],x['Rating']),axis=1)\n"
   ]
  },
  {
   "cell_type": "code",
   "execution_count": 5,
   "id": "seventh-brief",
   "metadata": {},
   "outputs": [],
   "source": [
    "def rand_score(score):\n",
    "    if score == 0: \n",
    "        return random.randint(1,5) #inclusive\n",
    "    else: \n",
    "        return random.randint(6,10)\n",
    "    "
   ]
  },
  {
   "cell_type": "code",
   "execution_count": 6,
   "id": "common-wichita",
   "metadata": {},
   "outputs": [],
   "source": [
    "temp_arr = []\n",
    "for score in df['Score']:\n",
    "    temp_arr.append(rand_score(score)*1000) #scaling to avoid gradient explosion"
   ]
  },
  {
   "cell_type": "code",
   "execution_count": 7,
   "id": "crude-hamburg",
   "metadata": {},
   "outputs": [],
   "source": [
    "df['Decimal score'] = temp_arr"
   ]
  },
  {
   "cell_type": "code",
   "execution_count": 8,
   "id": "palestinian-flour",
   "metadata": {},
   "outputs": [
    {
     "data": {
      "text/html": [
       "<div>\n",
       "<style scoped>\n",
       "    .dataframe tbody tr th:only-of-type {\n",
       "        vertical-align: middle;\n",
       "    }\n",
       "\n",
       "    .dataframe tbody tr th {\n",
       "        vertical-align: top;\n",
       "    }\n",
       "\n",
       "    .dataframe thead th {\n",
       "        text-align: right;\n",
       "    }\n",
       "</style>\n",
       "<table border=\"1\" class=\"dataframe\">\n",
       "  <thead>\n",
       "    <tr style=\"text-align: right;\">\n",
       "      <th></th>\n",
       "      <th>Date</th>\n",
       "      <th>Infected</th>\n",
       "      <th>Score</th>\n",
       "      <th>Decimal score</th>\n",
       "    </tr>\n",
       "  </thead>\n",
       "  <tbody>\n",
       "    <tr>\n",
       "      <th>0</th>\n",
       "      <td>2020-08-31</td>\n",
       "      <td>430.0</td>\n",
       "      <td>0.0</td>\n",
       "      <td>2000</td>\n",
       "    </tr>\n",
       "    <tr>\n",
       "      <th>1</th>\n",
       "      <td>2020-08-31</td>\n",
       "      <td>430.0</td>\n",
       "      <td>0.0</td>\n",
       "      <td>2000</td>\n",
       "    </tr>\n",
       "    <tr>\n",
       "      <th>2</th>\n",
       "      <td>2020-08-31</td>\n",
       "      <td>430.0</td>\n",
       "      <td>0.0</td>\n",
       "      <td>4000</td>\n",
       "    </tr>\n",
       "    <tr>\n",
       "      <th>3</th>\n",
       "      <td>2020-08-31</td>\n",
       "      <td>430.0</td>\n",
       "      <td>1.0</td>\n",
       "      <td>9000</td>\n",
       "    </tr>\n",
       "    <tr>\n",
       "      <th>4</th>\n",
       "      <td>2020-09-01</td>\n",
       "      <td>624.0</td>\n",
       "      <td>0.0</td>\n",
       "      <td>1000</td>\n",
       "    </tr>\n",
       "    <tr>\n",
       "      <th>...</th>\n",
       "      <td>...</td>\n",
       "      <td>...</td>\n",
       "      <td>...</td>\n",
       "      <td>...</td>\n",
       "    </tr>\n",
       "    <tr>\n",
       "      <th>1295</th>\n",
       "      <td>2021-08-20</td>\n",
       "      <td>25858.0</td>\n",
       "      <td>0.0</td>\n",
       "      <td>5000</td>\n",
       "    </tr>\n",
       "    <tr>\n",
       "      <th>1296</th>\n",
       "      <td>2021-08-20</td>\n",
       "      <td>25858.0</td>\n",
       "      <td>0.0</td>\n",
       "      <td>1000</td>\n",
       "    </tr>\n",
       "    <tr>\n",
       "      <th>1297</th>\n",
       "      <td>2021-08-20</td>\n",
       "      <td>25858.0</td>\n",
       "      <td>0.0</td>\n",
       "      <td>3000</td>\n",
       "    </tr>\n",
       "    <tr>\n",
       "      <th>1298</th>\n",
       "      <td>2021-08-21</td>\n",
       "      <td>25461.0</td>\n",
       "      <td>0.0</td>\n",
       "      <td>2000</td>\n",
       "    </tr>\n",
       "    <tr>\n",
       "      <th>1299</th>\n",
       "      <td>2021-08-21</td>\n",
       "      <td>25461.0</td>\n",
       "      <td>0.0</td>\n",
       "      <td>4000</td>\n",
       "    </tr>\n",
       "  </tbody>\n",
       "</table>\n",
       "<p>1299 rows × 4 columns</p>\n",
       "</div>"
      ],
      "text/plain": [
       "           Date  Infected  Score  Decimal score\n",
       "0    2020-08-31     430.0    0.0           2000\n",
       "1    2020-08-31     430.0    0.0           2000\n",
       "2    2020-08-31     430.0    0.0           4000\n",
       "3    2020-08-31     430.0    1.0           9000\n",
       "4    2020-09-01     624.0    0.0           1000\n",
       "...         ...       ...    ...            ...\n",
       "1295 2021-08-20   25858.0    0.0           5000\n",
       "1296 2021-08-20   25858.0    0.0           1000\n",
       "1297 2021-08-20   25858.0    0.0           3000\n",
       "1298 2021-08-21   25461.0    0.0           2000\n",
       "1299 2021-08-21   25461.0    0.0           4000\n",
       "\n",
       "[1299 rows x 4 columns]"
      ]
     },
     "execution_count": 8,
     "metadata": {},
     "output_type": "execute_result"
    }
   ],
   "source": [
    "df"
   ]
  },
  {
   "cell_type": "code",
   "execution_count": 9,
   "id": "welsh-subscriber",
   "metadata": {},
   "outputs": [
    {
     "data": {
      "text/plain": [
       "(array([213., 227., 226., 192., 214.,  47.,  45.,  56.,  37.,  42.]),\n",
       " array([ 1000.,  1900.,  2800.,  3700.,  4600.,  5500.,  6400.,  7300.,\n",
       "         8200.,  9100., 10000.]),\n",
       " <BarContainer object of 10 artists>)"
      ]
     },
     "execution_count": 9,
     "metadata": {},
     "output_type": "execute_result"
    },
    {
     "data": {
      "image/png": "[encoded data removed]",
      "text/plain": [
       "<Figure size 432x288 with 1 Axes>"
      ]
     },
     "metadata": {
      "needs_background": "light"
     },
     "output_type": "display_data"
    }
   ],
   "source": [
    "plt.hist(df['Decimal score'])"
   ]
  },
  {
   "cell_type": "code",
   "execution_count": 10,
   "id": "likely-clock",
   "metadata": {},
   "outputs": [],
   "source": [
    "def split_seq(seq, n_steps_in, n_steps_out):\n",
    "    X = []\n",
    "    y = []\n",
    "    for i in range(len(seq)):\n",
    "        x_end_idx = i + n_steps_in\n",
    "        y_end_idx = x_end_idx + n_steps_out\n",
    "        if(y_end_idx > len(seq)):\n",
    "            break\n",
    "        X.append(seq[i:x_end_idx])\n",
    "        y.append(seq[x_end_idx:y_end_idx])\n",
    "    return np.array(X), np.array(y)\n"
   ]
  },
  {
   "cell_type": "code",
   "execution_count": 20,
   "id": "following-findings",
   "metadata": {},
   "outputs": [],
   "source": [
    "n_steps_in = 50\n",
    "n_steps_out = 10"
   ]
  },
  {
   "cell_type": "raw",
   "id": "confused-projection",
   "metadata": {},
   "source": [
    "train_test_steps = 1000\n",
    "\n",
    "train_infected = df['Infected'][:train_test_steps]\n",
    "test_infected = df['Infected'][train_test_steps:]\n",
    "\n",
    "train_news = df['Decimal score'][:train_test_steps]\n",
    "test_news = df['Decimal score'][train_test_steps:]"
   ]
  },
  {
   "cell_type": "code",
   "execution_count": 50,
   "id": "studied-terror",
   "metadata": {},
   "outputs": [
    {
     "name": "stdout",
     "output_type": "stream",
     "text": [
      "(1240, 50) (1240, 10)\n"
     ]
    }
   ],
   "source": [
    "X, y = split_seq(df['Infected'], n_steps_in, n_steps_out)\n",
    "print(X.shape, y.shape)"
   ]
  },
  {
   "cell_type": "code",
   "execution_count": null,
   "id": "massive-chester",
   "metadata": {},
   "outputs": [],
   "source": []
  },
  {
   "cell_type": "code",
   "execution_count": 53,
   "id": "immediate-raleigh",
   "metadata": {},
   "outputs": [
    {
     "name": "stdout",
     "output_type": "stream",
     "text": [
      "(1240, 50) (1240, 10)\n"
     ]
    }
   ],
   "source": [
    "X_news, y_news = split_seq(df['Decimal score'], n_steps_in, n_steps_out)\n",
    "print(X_news.shape, y_news.shape)"
   ]
  },
  {
   "cell_type": "code",
   "execution_count": 54,
   "id": "regulation-steal",
   "metadata": {},
   "outputs": [
    {
     "data": {
      "text/plain": [
       "array([[2000, 2000, 4000, ..., 1000, 5000, 1000],\n",
       "       [2000, 4000, 9000, ..., 5000, 1000, 5000],\n",
       "       [4000, 9000, 1000, ..., 1000, 5000, 5000],\n",
       "       ...,\n",
       "       [5000, 4000, 3000, ..., 1000, 5000, 3000],\n",
       "       [4000, 3000, 1000, ..., 5000, 3000, 4000],\n",
       "       [3000, 1000, 5000, ..., 3000, 4000, 5000]], dtype=int64)"
      ]
     },
     "execution_count": 54,
     "metadata": {},
     "output_type": "execute_result"
    }
   ],
   "source": [
    "X_news"
   ]
  },
  {
   "cell_type": "markdown",
   "id": "continental-adolescent",
   "metadata": {},
   "source": [
    "### Adding new feature: decimal score"
   ]
  },
  {
   "cell_type": "code",
   "execution_count": 85,
   "id": "linear-hebrew",
   "metadata": {},
   "outputs": [
    {
     "name": "stdout",
     "output_type": "stream",
     "text": [
      "(1240, 50, 1)\n"
     ]
    }
   ],
   "source": [
    "infected_new_dim = np.expand_dims(X, 2) #3rd demension \n",
    "print(infected_new_dim.shape)\n",
    "#infected_new_dim"
   ]
  },
  {
   "cell_type": "code",
   "execution_count": 90,
   "id": "limiting-feature",
   "metadata": {},
   "outputs": [
    {
     "name": "stdout",
     "output_type": "stream",
     "text": [
      "(1240, 50, 1)\n"
     ]
    }
   ],
   "source": [
    "news_new_dim = np.expand_dims(X_news, 2) #3rd demension \n",
    "print(news_new_dim.shape)\n",
    "#news_new_dim"
   ]
  },
  {
   "cell_type": "code",
   "execution_count": 91,
   "id": "spread-score",
   "metadata": {},
   "outputs": [
    {
     "data": {
      "text/plain": [
       "array([[2000, 2000, 4000, ..., 1000, 5000, 1000],\n",
       "       [2000, 4000, 9000, ..., 5000, 1000, 5000],\n",
       "       [4000, 9000, 1000, ..., 1000, 5000, 5000],\n",
       "       ...,\n",
       "       [5000, 4000, 3000, ..., 1000, 5000, 3000],\n",
       "       [4000, 3000, 1000, ..., 5000, 3000, 4000],\n",
       "       [3000, 1000, 5000, ..., 3000, 4000, 5000]], dtype=int64)"
      ]
     },
     "execution_count": 91,
     "metadata": {},
     "output_type": "execute_result"
    }
   ],
   "source": [
    "news_new_dim[:,:,0] # just making sure we're on track"
   ]
  },
  {
   "cell_type": "code",
   "execution_count": 94,
   "id": "equivalent-objective",
   "metadata": {},
   "outputs": [
    {
     "name": "stdout",
     "output_type": "stream",
     "text": [
      "(1240, 50, 2)\n"
     ]
    }
   ],
   "source": [
    "data_3d = np.append(new_dim, new_dim2, axis =2) #append (1240,50) to the 3rd dimension\n",
    "print(data_3d.shape) # samples, timesteps, features"
   ]
  },
  {
   "cell_type": "code",
   "execution_count": null,
   "id": "corporate-puzzle",
   "metadata": {},
   "outputs": [],
   "source": []
  },
  {
   "cell_type": "code",
   "execution_count": null,
   "id": "arbitrary-vacation",
   "metadata": {},
   "outputs": [],
   "source": []
  },
  {
   "cell_type": "code",
   "execution_count": null,
   "id": "unable-coverage",
   "metadata": {},
   "outputs": [],
   "source": []
  },
  {
   "cell_type": "code",
   "execution_count": null,
   "id": "several-astrology",
   "metadata": {},
   "outputs": [],
   "source": []
  },
  {
   "cell_type": "code",
   "execution_count": null,
   "id": "designed-gossip",
   "metadata": {},
   "outputs": [],
   "source": []
  },
  {
   "cell_type": "code",
   "execution_count": null,
   "id": "refined-break",
   "metadata": {},
   "outputs": [],
   "source": []
  }
 ],
 "metadata": {
  "kernelspec": {
   "display_name": "Python 3",
   "language": "python",
   "name": "python3"
  },
  "language_info": {
   "codemirror_mode": {
    "name": "ipython",
    "version": 3
   },
   "file_extension": ".py",
   "mimetype": "text/x-python",
   "name": "python",
   "nbconvert_exporter": "python",
   "pygments_lexer": "ipython3",
   "version": "3.8.5"
  }
 },
 "nbformat": 4,
 "nbformat_minor": 5
}
