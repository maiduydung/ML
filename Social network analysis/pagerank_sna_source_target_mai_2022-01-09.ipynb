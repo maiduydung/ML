{
 "cells": [
  {
   "cell_type": "code",
   "execution_count": 1,
   "id": "meaningful-spirituality",
   "metadata": {
    "cell_id": "00000-3bc459b6-15ba-4067-b698-30172ef9d3f9",
    "deepnote_cell_type": "code",
    "deepnote_to_be_reexecuted": false,
    "execution_millis": 8608,
    "execution_start": 1641735028462,
    "source_hash": "7faaa08a",
    "tags": []
   },
   "outputs": [],
   "source": [
    "#!pip install networkx\n",
    "#!pip install python-louvain\n",
    "#!pip3 install networkit\n",
    "\n",
    "\n"
   ]
  },
  {
   "cell_type": "code",
   "execution_count": 1,
   "id": "lonely-fluid",
   "metadata": {
    "cell_id": "00000-a11a9f80-44ae-4bc6-b470-8e2b67c55dbe",
    "deepnote_cell_type": "code",
    "deepnote_output_heights": [
     2
    ],
    "deepnote_to_be_reexecuted": false,
    "execution_millis": 3,
    "execution_start": 1641735038894,
    "source_hash": "c9767e91"
   },
   "outputs": [
    {
     "data": {
      "text/html": [
       "\n",
       "\t\t\t<script type=\"text/javascript\">\n",
       "\t\t\t<!--\n",
       "\t\t\t\t\n",
       "\t\t\t{\n",
       "\t\t\t\tvar element = document.getElementById('NetworKit_script');\n",
       "\t\t\t\tif (element) {\n",
       "\t\t\t\t\telement.parentNode.removeChild(element);\n",
       "\t\t\t\t}\n",
       "\t\t\t\telement = document.createElement('script');\n",
       "\t\t\t\telement.type = 'text/javascript';\n",
       "\t\t\t\telement.innerHTML = 'function NetworKit_pageEmbed(id) { var i, j; var elements; elements = document.getElementById(id).getElementsByClassName(\"Plot\"); for (i=0; i<elements.length; i++) { elements[i].id = id + \"_Plot_\" + i; var data = elements[i].getAttribute(\"data-image\").split(\"|\"); elements[i].removeAttribute(\"data-image\"); var content = \"<div class=\\\\\"Image\\\\\" id=\\\\\"\" + elements[i].id + \"_Image\\\\\" />\"; elements[i].innerHTML = content; elements[i].setAttribute(\"data-image-index\", 0); elements[i].setAttribute(\"data-image-length\", data.length); for (j=0; j<data.length; j++) { elements[i].setAttribute(\"data-image-\" + j, data[j]); } NetworKit_plotUpdate(elements[i]); elements[i].onclick = function (e) { NetworKit_overlayShow((e.target) ? e.target : e.srcElement); } } elements = document.getElementById(id).getElementsByClassName(\"HeatCell\"); for (i=0; i<elements.length; i++) { var data = parseFloat(elements[i].getAttribute(\"data-heat\")); var color = \"#00FF00\"; if (data <= 1 && data > 0) { color = \"hsla(0, 100%, 75%, \" + (data) + \")\"; } else if (data <= 0 && data >= -1) { color = \"hsla(240, 100%, 75%, \" + (-data) + \")\"; } elements[i].style.backgroundColor = color; } elements = document.getElementById(id).getElementsByClassName(\"Details\"); for (i=0; i<elements.length; i++) { elements[i].setAttribute(\"data-title\", \"-\"); NetworKit_toggleDetails(elements[i]); elements[i].onclick = function (e) { NetworKit_toggleDetails((e.target) ? e.target : e.srcElement); } } elements = document.getElementById(id).getElementsByClassName(\"MathValue\"); for (i=elements.length-1; i>=0; i--) { value = elements[i].innerHTML.trim(); if (value === \"nan\") { elements[i].parentNode.innerHTML = \"\" } } elements = document.getElementById(id).getElementsByClassName(\"SubCategory\"); for (i=elements.length-1; i>=0; i--) { value = elements[i].innerHTML.trim(); if (value === \"\") { elements[i].parentNode.removeChild(elements[i]) } } elements = document.getElementById(id).getElementsByClassName(\"Category\"); for (i=elements.length-1; i>=0; i--) { value = elements[i].innerHTML.trim(); if (value === \"\") { elements[i].parentNode.removeChild(elements[i]) } } var isFirefox = false; try { isFirefox = typeof InstallTrigger !== \"undefined\"; } catch (e) {} if (!isFirefox) { alert(\"Currently the function\\'s output is only fully supported by Firefox.\"); } } function NetworKit_plotUpdate(source) { var index = source.getAttribute(\"data-image-index\"); var data = source.getAttribute(\"data-image-\" + index); var image = document.getElementById(source.id + \"_Image\"); image.style.backgroundImage = \"url(\" + data + \")\"; } function NetworKit_showElement(id, show) { var element = document.getElementById(id); element.style.display = (show) ? \"block\" : \"none\"; } function NetworKit_overlayShow(source) { NetworKit_overlayUpdate(source); NetworKit_showElement(\"NetworKit_Overlay\", true); } function NetworKit_overlayUpdate(source) { document.getElementById(\"NetworKit_Overlay_Title\").innerHTML = source.title; var index = source.getAttribute(\"data-image-index\"); var data = source.getAttribute(\"data-image-\" + index); var image = document.getElementById(\"NetworKit_Overlay_Image\"); image.setAttribute(\"data-id\", source.id); image.style.backgroundImage = \"url(\" + data + \")\"; var link = document.getElementById(\"NetworKit_Overlay_Toolbar_Bottom_Save\"); link.href = data; link.download = source.title + \".svg\"; } function NetworKit_overlayImageShift(delta) { var image = document.getElementById(\"NetworKit_Overlay_Image\"); var source = document.getElementById(image.getAttribute(\"data-id\")); var index = parseInt(source.getAttribute(\"data-image-index\")); var length = parseInt(source.getAttribute(\"data-image-length\")); var index = (index+delta) % length; if (index < 0) { index = length + index; } source.setAttribute(\"data-image-index\", index); NetworKit_overlayUpdate(source); } function NetworKit_toggleDetails(source) { var childs = source.children; var show = false; if (source.getAttribute(\"data-title\") == \"-\") { source.setAttribute(\"data-title\", \"+\"); show = false; } else { source.setAttribute(\"data-title\", \"-\"); show = true; } for (i=0; i<childs.length; i++) { if (show) { childs[i].style.display = \"block\"; } else { childs[i].style.display = \"none\"; } } }';\n",
       "\t\t\t\telement.setAttribute('id', 'NetworKit_script');\n",
       "\t\t\t\tdocument.head.appendChild(element);\n",
       "\t\t\t}\n",
       "\t\t\n",
       "\t\t\t\t\n",
       "\t\t\t{\n",
       "\t\t\t\tvar element = document.getElementById('NetworKit_style');\n",
       "\t\t\t\tif (element) {\n",
       "\t\t\t\t\telement.parentNode.removeChild(element);\n",
       "\t\t\t\t}\n",
       "\t\t\t\telement = document.createElement('style');\n",
       "\t\t\t\telement.type = 'text/css';\n",
       "\t\t\t\telement.innerHTML = '.NetworKit_Page { font-family: Arial, Helvetica, sans-serif; font-size: 14px; } .NetworKit_Page .Value:before { font-family: Arial, Helvetica, sans-serif; font-size: 1.05em; content: attr(data-title) \":\"; margin-left: -2.5em; padding-right: 0.5em; } .NetworKit_Page .Details .Value:before { display: block; } .NetworKit_Page .Value { font-family: monospace; white-space: pre; padding-left: 2.5em; white-space: -moz-pre-wrap !important; white-space: -pre-wrap; white-space: -o-pre-wrap; white-space: pre-wrap; word-wrap: break-word; tab-size: 4; -moz-tab-size: 4; } .NetworKit_Page .Category { clear: both; padding-left: 1em; margin-bottom: 1.5em; } .NetworKit_Page .Category:before { content: attr(data-title); font-size: 1.75em; display: block; margin-left: -0.8em; margin-bottom: 0.5em; } .NetworKit_Page .SubCategory { margin-bottom: 1.5em; padding-left: 1em; } .NetworKit_Page .SubCategory:before { font-size: 1.6em; display: block; margin-left: -0.8em; margin-bottom: 0.5em; } .NetworKit_Page .SubCategory[data-title]:before { content: attr(data-title); } .NetworKit_Page .Block { display: block; } .NetworKit_Page .Block:after { content: \".\"; visibility: hidden; display: block; height: 0; clear: both; } .NetworKit_Page .Block .Thumbnail_Overview, .NetworKit_Page .Block .Thumbnail_ScatterPlot { width: 260px; float: left; } .NetworKit_Page .Block .Thumbnail_Overview img, .NetworKit_Page .Block .Thumbnail_ScatterPlot img { width: 260px; } .NetworKit_Page .Block .Thumbnail_Overview:before, .NetworKit_Page .Block .Thumbnail_ScatterPlot:before { display: block; text-align: center; font-weight: bold; } .NetworKit_Page .Block .Thumbnail_Overview:before { content: attr(data-title); } .NetworKit_Page .HeatCell { font-family: \"Courier New\", Courier, monospace; cursor: pointer; } .NetworKit_Page .HeatCell, .NetworKit_Page .HeatCellName { display: inline; padding: 0.1em; margin-right: 2px; background-color: #FFFFFF } .NetworKit_Page .HeatCellName { margin-left: 0.25em; } .NetworKit_Page .HeatCell:before { content: attr(data-heat); display: inline-block; color: #000000; width: 4em; text-align: center; } .NetworKit_Page .Measure { clear: both; } .NetworKit_Page .Measure .Details { cursor: pointer; } .NetworKit_Page .Measure .Details:before { content: \"[\" attr(data-title) \"]\"; display: block; } .NetworKit_Page .Measure .Details .Value { border-left: 1px dotted black; margin-left: 0.4em; padding-left: 3.5em; pointer-events: none; } .NetworKit_Page .Measure .Details .Spacer:before { content: \".\"; opacity: 0.0; pointer-events: none; } .NetworKit_Page .Measure .Plot { width: 440px; height: 440px; cursor: pointer; float: left; margin-left: -0.9em; margin-right: 20px; } .NetworKit_Page .Measure .Plot .Image { background-repeat: no-repeat; background-position: center center; background-size: contain; height: 100%; pointer-events: none; } .NetworKit_Page .Measure .Stat { width: 500px; float: left; } .NetworKit_Page .Measure .Stat .Group { padding-left: 1.25em; margin-bottom: 0.75em; } .NetworKit_Page .Measure .Stat .Group .Title { font-size: 1.1em; display: block; margin-bottom: 0.3em; margin-left: -0.75em; border-right-style: dotted; border-right-width: 1px; border-bottom-style: dotted; border-bottom-width: 1px; background-color: #D0D0D0; padding-left: 0.2em; } .NetworKit_Page .Measure .Stat .Group .List { -webkit-column-count: 3; -moz-column-count: 3; column-count: 3; } .NetworKit_Page .Measure .Stat .Group .List .Entry { position: relative; line-height: 1.75em; } .NetworKit_Page .Measure .Stat .Group .List .Entry[data-tooltip]:before { position: absolute; left: 0; top: -40px; background-color: #808080; color: #ffffff; height: 30px; line-height: 30px; border-radius: 5px; padding: 0 15px; content: attr(data-tooltip); white-space: nowrap; display: none; } .NetworKit_Page .Measure .Stat .Group .List .Entry[data-tooltip]:after { position: absolute; left: 15px; top: -10px; border-top: 7px solid #808080; border-left: 7px solid transparent; border-right: 7px solid transparent; content: \"\"; display: none; } .NetworKit_Page .Measure .Stat .Group .List .Entry[data-tooltip]:hover:after, .NetworKit_Page .Measure .Stat .Group .List .Entry[data-tooltip]:hover:before { display: block; } .NetworKit_Page .Measure .Stat .Group .List .Entry .MathValue { font-family: \"Courier New\", Courier, monospace; } .NetworKit_Page .Measure:after { content: \".\"; visibility: hidden; display: block; height: 0; clear: both; } .NetworKit_Page .PartitionPie { clear: both; } .NetworKit_Page .PartitionPie img { width: 600px; } #NetworKit_Overlay { left: 0px; top: 0px; display: none; position: absolute; width: 100%; height: 100%; background-color: rgba(0,0,0,0.6); z-index: 1000; } #NetworKit_Overlay_Title { position: absolute; color: white; transform: rotate(-90deg); width: 32em; height: 32em; padding-right: 0.5em; padding-top: 0.5em; text-align: right; font-size: 40px; } #NetworKit_Overlay .button { background: white; cursor: pointer; } #NetworKit_Overlay .button:before { size: 13px; display: inline-block; text-align: center; margin-top: 0.5em; margin-bottom: 0.5em; width: 1.5em; height: 1.5em; } #NetworKit_Overlay .icon-close:before { content: \"X\"; } #NetworKit_Overlay .icon-previous:before { content: \"P\"; } #NetworKit_Overlay .icon-next:before { content: \"N\"; } #NetworKit_Overlay .icon-save:before { content: \"S\"; } #NetworKit_Overlay_Toolbar_Top, #NetworKit_Overlay_Toolbar_Bottom { position: absolute; width: 40px; right: 13px; text-align: right; z-index: 1100; } #NetworKit_Overlay_Toolbar_Top { top: 0.5em; } #NetworKit_Overlay_Toolbar_Bottom { Bottom: 0.5em; } #NetworKit_Overlay_ImageContainer { position: absolute; top: 5%; left: 5%; height: 90%; width: 90%; background-repeat: no-repeat; background-position: center center; background-size: contain; } #NetworKit_Overlay_Image { height: 100%; width: 100%; background-repeat: no-repeat; background-position: center center; background-size: contain; }';\n",
       "\t\t\t\telement.setAttribute('id', 'NetworKit_style');\n",
       "\t\t\t\tdocument.head.appendChild(element);\n",
       "\t\t\t}\n",
       "\t\t\n",
       "\t\t\t\t\n",
       "\t\t\t{\n",
       "\t\t\t\tvar element = document.getElementById('NetworKit_Overlay');\n",
       "\t\t\t\tif (element) {\n",
       "\t\t\t\t\telement.parentNode.removeChild(element);\n",
       "\t\t\t\t}\n",
       "\t\t\t\telement = document.createElement('div');\n",
       "\t\t\t\telement.innerHTML = '<div id=\"NetworKit_Overlay_Toolbar_Top\"><div class=\"button icon-close\" id=\"NetworKit_Overlay_Close\" /></div><div id=\"NetworKit_Overlay_Title\" /> <div id=\"NetworKit_Overlay_ImageContainer\"> <div id=\"NetworKit_Overlay_Image\" /> </div> <div id=\"NetworKit_Overlay_Toolbar_Bottom\"> <div class=\"button icon-previous\" onclick=\"NetworKit_overlayImageShift(-1)\" /> <div class=\"button icon-next\" onclick=\"NetworKit_overlayImageShift(1)\" /> <a id=\"NetworKit_Overlay_Toolbar_Bottom_Save\"><div class=\"button icon-save\" /></a> </div>';\n",
       "\t\t\t\telement.setAttribute('id', 'NetworKit_Overlay');\n",
       "\t\t\t\tdocument.body.appendChild(element);\n",
       "\t\t\t\tdocument.getElementById('NetworKit_Overlay_Close').onclick = function (e) {\n",
       "\t\t\t\t\tdocument.getElementById('NetworKit_Overlay').style.display = 'none';\n",
       "\t\t\t\t}\n",
       "\t\t\t}\n",
       "\t\t\n",
       "\t\t\t-->\n",
       "\t\t\t</script>\n",
       "\t\t"
      ]
     },
     "metadata": {},
     "output_type": "display_data"
    }
   ],
   "source": [
    "import networkx as nx\n",
    "import matplotlib.pyplot as plt\n",
    "from multiprocessing import Pool\n",
    "import itertools\n",
    "import community\n",
    "import pandas as pd\n",
    "\n",
    "import networkit as nk \n"
   ]
  },
  {
   "cell_type": "markdown",
   "id": "progressive-guess",
   "metadata": {
    "cell_id": "00001-aa7a0d93-0cfa-4bc3-99a6-0ea155808a90",
    "deepnote_cell_type": "markdown"
   },
   "source": [
    "## Finding centrality of source twitter and target twitter account\n",
    " I couldn't install `NetworKit` here, it also causes my kernel to crash and restart on my local machine"
   ]
  },
  {
   "cell_type": "code",
   "execution_count": 2,
   "id": "sophisticated-membership",
   "metadata": {
    "cell_id": "00002-f30cd476-5e38-4e85-8cbd-8c9864744e2c",
    "deepnote_cell_type": "code",
    "deepnote_output_heights": [
     null,
     177
    ],
    "deepnote_to_be_reexecuted": false,
    "execution_millis": 1043,
    "execution_start": 1641735048199,
    "source_hash": "23e87f87"
   },
   "outputs": [
    {
     "name": "stdout",
     "output_type": "stream",
     "text": [
      "(258764, 16)\n"
     ]
    },
    {
     "data": {
      "text/html": [
       "<div>\n",
       "<style scoped>\n",
       "    .dataframe tbody tr th:only-of-type {\n",
       "        vertical-align: middle;\n",
       "    }\n",
       "\n",
       "    .dataframe tbody tr th {\n",
       "        vertical-align: top;\n",
       "    }\n",
       "\n",
       "    .dataframe thead th {\n",
       "        text-align: right;\n",
       "    }\n",
       "</style>\n",
       "<table border=\"1\" class=\"dataframe\">\n",
       "  <thead>\n",
       "    <tr style=\"text-align: right;\">\n",
       "      <th></th>\n",
       "      <th>source_twitter</th>\n",
       "      <th>target_twitter</th>\n",
       "      <th>source_location</th>\n",
       "      <th>target_location</th>\n",
       "      <th>follow_actions</th>\n",
       "      <th>interaction_times</th>\n",
       "      <th>interaction_type_counts</th>\n",
       "      <th>customer_type</th>\n",
       "      <th>tier</th>\n",
       "      <th>a_level</th>\n",
       "      <th>age_range</th>\n",
       "      <th>gender</th>\n",
       "      <th>orders</th>\n",
       "      <th>amount</th>\n",
       "      <th>first_authorized_at</th>\n",
       "      <th>first_payment_date</th>\n",
       "    </tr>\n",
       "  </thead>\n",
       "  <tbody>\n",
       "    <tr>\n",
       "      <th>0</th>\n",
       "      <td>0120iesagashi</td>\n",
       "      <td>109btt</td>\n",
       "      <td>BTT</td>\n",
       "      <td>NaN</td>\n",
       "      <td>1</td>\n",
       "      <td>0</td>\n",
       "      <td>0</td>\n",
       "      <td>customer_registered_only</td>\n",
       "      <td>1-Bronze</td>\n",
       "      <td>a_level_0</td>\n",
       "      <td>not available</td>\n",
       "      <td>not available</td>\n",
       "      <td>NaN</td>\n",
       "      <td>NaN</td>\n",
       "      <td>2021-08-17 00:00:00.000</td>\n",
       "      <td>NaN</td>\n",
       "    </tr>\n",
       "    <tr>\n",
       "      <th>1</th>\n",
       "      <td>0120iesagashi</td>\n",
       "      <td>16toyosu</td>\n",
       "      <td>BTT</td>\n",
       "      <td>NaN</td>\n",
       "      <td>1</td>\n",
       "      <td>0</td>\n",
       "      <td>0</td>\n",
       "      <td>customer_registered_only</td>\n",
       "      <td>1-Bronze</td>\n",
       "      <td>a_level_0</td>\n",
       "      <td>not available</td>\n",
       "      <td>not available</td>\n",
       "      <td>NaN</td>\n",
       "      <td>NaN</td>\n",
       "      <td>2021-08-17 00:00:00.000</td>\n",
       "      <td>NaN</td>\n",
       "    </tr>\n",
       "    <tr>\n",
       "      <th>2</th>\n",
       "      <td>0120iesagashi</td>\n",
       "      <td>1manken</td>\n",
       "      <td>BTT</td>\n",
       "      <td>NaN</td>\n",
       "      <td>1</td>\n",
       "      <td>0</td>\n",
       "      <td>0</td>\n",
       "      <td>customer_registered_only</td>\n",
       "      <td>1-Bronze</td>\n",
       "      <td>a_level_0</td>\n",
       "      <td>not available</td>\n",
       "      <td>not available</td>\n",
       "      <td>NaN</td>\n",
       "      <td>NaN</td>\n",
       "      <td>2021-08-17 00:00:00.000</td>\n",
       "      <td>NaN</td>\n",
       "    </tr>\n",
       "    <tr>\n",
       "      <th>3</th>\n",
       "      <td>0120iesagashi</td>\n",
       "      <td>2020wngn</td>\n",
       "      <td>BTT</td>\n",
       "      <td>NaN</td>\n",
       "      <td>1</td>\n",
       "      <td>1</td>\n",
       "      <td>1</td>\n",
       "      <td>customer_registered_only</td>\n",
       "      <td>1-Bronze</td>\n",
       "      <td>a_level_0</td>\n",
       "      <td>not available</td>\n",
       "      <td>not available</td>\n",
       "      <td>NaN</td>\n",
       "      <td>NaN</td>\n",
       "      <td>2021-08-17 00:00:00.000</td>\n",
       "      <td>NaN</td>\n",
       "    </tr>\n",
       "    <tr>\n",
       "      <th>4</th>\n",
       "      <td>0120iesagashi</td>\n",
       "      <td>2022Btt</td>\n",
       "      <td>BTT</td>\n",
       "      <td>NaN</td>\n",
       "      <td>0</td>\n",
       "      <td>1</td>\n",
       "      <td>1</td>\n",
       "      <td>customer_registered_only</td>\n",
       "      <td>1-Bronze</td>\n",
       "      <td>a_level_0</td>\n",
       "      <td>not available</td>\n",
       "      <td>not available</td>\n",
       "      <td>NaN</td>\n",
       "      <td>NaN</td>\n",
       "      <td>2021-08-17 00:00:00.000</td>\n",
       "      <td>NaN</td>\n",
       "    </tr>\n",
       "  </tbody>\n",
       "</table>\n",
       "</div>"
      ],
      "text/plain": [
       "  source_twitter target_twitter source_location  target_location  \\\n",
       "0  0120iesagashi         109btt             BTT              NaN   \n",
       "1  0120iesagashi       16toyosu             BTT              NaN   \n",
       "2  0120iesagashi        1manken             BTT              NaN   \n",
       "3  0120iesagashi       2020wngn             BTT              NaN   \n",
       "4  0120iesagashi        2022Btt             BTT              NaN   \n",
       "\n",
       "   follow_actions  interaction_times  interaction_type_counts  \\\n",
       "0               1                  0                        0   \n",
       "1               1                  0                        0   \n",
       "2               1                  0                        0   \n",
       "3               1                  1                        1   \n",
       "4               0                  1                        1   \n",
       "\n",
       "              customer_type      tier    a_level      age_range  \\\n",
       "0  customer_registered_only  1-Bronze  a_level_0  not available   \n",
       "1  customer_registered_only  1-Bronze  a_level_0  not available   \n",
       "2  customer_registered_only  1-Bronze  a_level_0  not available   \n",
       "3  customer_registered_only  1-Bronze  a_level_0  not available   \n",
       "4  customer_registered_only  1-Bronze  a_level_0  not available   \n",
       "\n",
       "          gender  orders  amount      first_authorized_at first_payment_date  \n",
       "0  not available     NaN     NaN  2021-08-17 00:00:00.000                NaN  \n",
       "1  not available     NaN     NaN  2021-08-17 00:00:00.000                NaN  \n",
       "2  not available     NaN     NaN  2021-08-17 00:00:00.000                NaN  \n",
       "3  not available     NaN     NaN  2021-08-17 00:00:00.000                NaN  \n",
       "4  not available     NaN     NaN  2021-08-17 00:00:00.000                NaN  "
      ]
     },
     "execution_count": 2,
     "metadata": {},
     "output_type": "execute_result"
    }
   ],
   "source": [
    "df = pd.read_csv('social_network_data_2021_1227.csv')\n",
    "df = df.dropna(subset=['source_twitter', 'target_twitter'])\n",
    "print(df.shape)\n",
    "df.head()"
   ]
  },
  {
   "cell_type": "code",
   "execution_count": 3,
   "id": "plain-alaska",
   "metadata": {},
   "outputs": [],
   "source": [
    "#df[['source_twitter', 'target_twitter']][:3000].to_csv('3k_accs.csv', index=False)"
   ]
  },
  {
   "cell_type": "code",
   "execution_count": 4,
   "id": "motivated-flash",
   "metadata": {},
   "outputs": [
    {
     "data": {
      "text/plain": [
       "178571"
      ]
     },
     "execution_count": 4,
     "metadata": {},
     "output_type": "execute_result"
    }
   ],
   "source": [
    "len(df['source_twitter'].unique()) + len(df['target_twitter'].unique()) "
   ]
  },
  {
   "cell_type": "markdown",
   "id": "horizontal-january",
   "metadata": {
    "cell_id": "00003-46eff9d8-c8bc-4234-ab87-49f4b09a87be",
    "deepnote_cell_type": "markdown"
   },
   "source": [
    "### Read with `NetworkX`"
   ]
  },
  {
   "cell_type": "code",
   "execution_count": 5,
   "id": "arabic-somewhere",
   "metadata": {
    "cell_id": "00004-e90177e5-ece6-4192-b974-db66eee2de09",
    "deepnote_cell_type": "code",
    "deepnote_output_heights": [
     21.1875
    ],
    "deepnote_to_be_reexecuted": false,
    "execution_millis": 2852,
    "execution_start": 1641735053339,
    "source_hash": "2b3a8e8f"
   },
   "outputs": [
    {
     "name": "stdout",
     "output_type": "stream",
     "text": [
      "Name: \n",
      "Type: Graph\n",
      "Number of nodes: 178438\n",
      "Number of edges: 258757\n",
      "Average degree:   2.9002\n"
     ]
    }
   ],
   "source": [
    "nxG = nx.from_pandas_edgelist(df, \n",
    "                            source='source_twitter',\n",
    "                            target='target_twitter',\n",
    "                            edge_attr=True,\n",
    "                            create_using=nx.Graph())\n",
    "\n",
    "print(nx.info(nxG))"
   ]
  },
  {
   "cell_type": "markdown",
   "id": "maritime-pasta",
   "metadata": {},
   "source": [
    "### Keeping original node name\n",
    "https://stackoverflow.com/questions/60285134/retrieving-original-node-names-in-networkit"
   ]
  },
  {
   "cell_type": "code",
   "execution_count": 6,
   "id": "upper-plaintiff",
   "metadata": {},
   "outputs": [],
   "source": [
    "# Get mapping from node ids in nxG to node ids in G\n",
    "idmap = dict((id, u) for (id, u) in zip(nxG.nodes(), range(nxG.number_of_nodes())))"
   ]
  },
  {
   "cell_type": "code",
   "execution_count": 7,
   "id": "balanced-closing",
   "metadata": {},
   "outputs": [
    {
     "data": {
      "text/plain": [
       "178438"
      ]
     },
     "execution_count": 7,
     "metadata": {},
     "output_type": "execute_result"
    }
   ],
   "source": [
    "len(idmap)"
   ]
  },
  {
   "cell_type": "code",
   "execution_count": 8,
   "id": "growing-distance",
   "metadata": {},
   "outputs": [
    {
     "name": "stdout",
     "output_type": "stream",
     "text": [
      "<class 'dict'>\n"
     ]
    },
    {
     "data": {
      "text/html": [
       "<div>\n",
       "<style scoped>\n",
       "    .dataframe tbody tr th:only-of-type {\n",
       "        vertical-align: middle;\n",
       "    }\n",
       "\n",
       "    .dataframe tbody tr th {\n",
       "        vertical-align: top;\n",
       "    }\n",
       "\n",
       "    .dataframe thead th {\n",
       "        text-align: right;\n",
       "    }\n",
       "</style>\n",
       "<table border=\"1\" class=\"dataframe\">\n",
       "  <thead>\n",
       "    <tr style=\"text-align: right;\">\n",
       "      <th></th>\n",
       "      <th>Index</th>\n",
       "      <th>Twitter</th>\n",
       "    </tr>\n",
       "  </thead>\n",
       "  <tbody>\n",
       "    <tr>\n",
       "      <th>0</th>\n",
       "      <td>0</td>\n",
       "      <td>0120iesagashi</td>\n",
       "    </tr>\n",
       "    <tr>\n",
       "      <th>1</th>\n",
       "      <td>1</td>\n",
       "      <td>109btt</td>\n",
       "    </tr>\n",
       "    <tr>\n",
       "      <th>2</th>\n",
       "      <td>2</td>\n",
       "      <td>16toyosu</td>\n",
       "    </tr>\n",
       "    <tr>\n",
       "      <th>3</th>\n",
       "      <td>3</td>\n",
       "      <td>1manken</td>\n",
       "    </tr>\n",
       "    <tr>\n",
       "      <th>4</th>\n",
       "      <td>4</td>\n",
       "      <td>2020wngn</td>\n",
       "    </tr>\n",
       "    <tr>\n",
       "      <th>...</th>\n",
       "      <td>...</td>\n",
       "      <td>...</td>\n",
       "    </tr>\n",
       "    <tr>\n",
       "      <th>178433</th>\n",
       "      <td>178433</td>\n",
       "      <td>yuru_creation</td>\n",
       "    </tr>\n",
       "    <tr>\n",
       "      <th>178434</th>\n",
       "      <td>178434</td>\n",
       "      <td>yuzriha_h</td>\n",
       "    </tr>\n",
       "    <tr>\n",
       "      <th>178435</th>\n",
       "      <td>178435</td>\n",
       "      <td>yuzutouhu_ika</td>\n",
       "    </tr>\n",
       "    <tr>\n",
       "      <th>178436</th>\n",
       "      <td>178436</td>\n",
       "      <td>zaru_cr</td>\n",
       "    </tr>\n",
       "    <tr>\n",
       "      <th>178437</th>\n",
       "      <td>178437</td>\n",
       "      <td>zunzun_zp</td>\n",
       "    </tr>\n",
       "  </tbody>\n",
       "</table>\n",
       "<p>178438 rows × 2 columns</p>\n",
       "</div>"
      ],
      "text/plain": [
       "         Index        Twitter\n",
       "0            0  0120iesagashi\n",
       "1            1         109btt\n",
       "2            2       16toyosu\n",
       "3            3        1manken\n",
       "4            4       2020wngn\n",
       "...        ...            ...\n",
       "178433  178433  yuru_creation\n",
       "178434  178434      yuzriha_h\n",
       "178435  178435  yuzutouhu_ika\n",
       "178436  178436        zaru_cr\n",
       "178437  178437      zunzun_zp\n",
       "\n",
       "[178438 rows x 2 columns]"
      ]
     },
     "execution_count": 8,
     "metadata": {},
     "output_type": "execute_result"
    }
   ],
   "source": [
    "inverse_map = {v: k for k, v in idmap.items()}\n",
    "print(type(inverse_map))\n",
    "inverse_map_df = pd.DataFrame(inverse_map.items(), columns=['Index', 'Twitter'])\n",
    "inverse_map_df"
   ]
  },
  {
   "cell_type": "code",
   "execution_count": 9,
   "id": "lasting-stomach",
   "metadata": {},
   "outputs": [
    {
     "data": {
      "text/plain": [
       "Index                 315\n",
       "Twitter    0120sakura0120\n",
       "Name: 315, dtype: object"
      ]
     },
     "execution_count": 9,
     "metadata": {},
     "output_type": "execute_result"
    }
   ],
   "source": [
    "inverse_map_df.iloc[315,:]"
   ]
  },
  {
   "cell_type": "markdown",
   "id": "extensive-pulse",
   "metadata": {
    "cell_id": "00016-88cdc9d1-2729-4d6a-9017-fbad60a0e85a",
    "deepnote_cell_type": "markdown"
   },
   "source": [
    "### PageRank: Finding potential KOLs\n",
    "#### A node is important if it is refered to by many other nodes"
   ]
  },
  {
   "cell_type": "code",
   "execution_count": 10,
   "id": "conventional-dragon",
   "metadata": {
    "cell_id": "00017-06047576-cf36-4dbc-8c3b-b23cf77fd7fe",
    "deepnote_cell_type": "code"
   },
   "outputs": [
    {
     "data": {
      "text/html": [
       "<div>\n",
       "<style scoped>\n",
       "    .dataframe tbody tr th:only-of-type {\n",
       "        vertical-align: middle;\n",
       "    }\n",
       "\n",
       "    .dataframe tbody tr th {\n",
       "        vertical-align: top;\n",
       "    }\n",
       "\n",
       "    .dataframe thead th {\n",
       "        text-align: right;\n",
       "    }\n",
       "</style>\n",
       "<table border=\"1\" class=\"dataframe\">\n",
       "  <thead>\n",
       "    <tr style=\"text-align: right;\">\n",
       "      <th></th>\n",
       "      <th>Twitter</th>\n",
       "      <th>PageRank</th>\n",
       "    </tr>\n",
       "  </thead>\n",
       "  <tbody>\n",
       "    <tr>\n",
       "      <th>0</th>\n",
       "      <td>0120iesagashi</td>\n",
       "      <td>0.000752</td>\n",
       "    </tr>\n",
       "    <tr>\n",
       "      <th>1</th>\n",
       "      <td>109btt</td>\n",
       "      <td>0.000003</td>\n",
       "    </tr>\n",
       "    <tr>\n",
       "      <th>2</th>\n",
       "      <td>16toyosu</td>\n",
       "      <td>0.000003</td>\n",
       "    </tr>\n",
       "    <tr>\n",
       "      <th>3</th>\n",
       "      <td>1manken</td>\n",
       "      <td>0.000003</td>\n",
       "    </tr>\n",
       "    <tr>\n",
       "      <th>4</th>\n",
       "      <td>2020wngn</td>\n",
       "      <td>0.000003</td>\n",
       "    </tr>\n",
       "  </tbody>\n",
       "</table>\n",
       "</div>"
      ],
      "text/plain": [
       "         Twitter  PageRank\n",
       "0  0120iesagashi  0.000752\n",
       "1         109btt  0.000003\n",
       "2       16toyosu  0.000003\n",
       "3        1manken  0.000003\n",
       "4       2020wngn  0.000003"
      ]
     },
     "execution_count": 10,
     "metadata": {},
     "output_type": "execute_result"
    }
   ],
   "source": [
    "page_rank = nx.pagerank(nxG)\n",
    "\n",
    "# sort by descending centrality\n",
    "#page_rank = sorted(((c, v) for v, c in page_rank.items()), reverse=True)\n",
    "page_rank =  pd.DataFrame(page_rank.items(), columns=['Twitter','PageRank'])\n",
    "page_rank.head()"
   ]
  },
  {
   "cell_type": "code",
   "execution_count": 15,
   "id": "mechanical-tanzania",
   "metadata": {},
   "outputs": [
    {
     "data": {
      "text/html": [
       "<div>\n",
       "<style scoped>\n",
       "    .dataframe tbody tr th:only-of-type {\n",
       "        vertical-align: middle;\n",
       "    }\n",
       "\n",
       "    .dataframe tbody tr th {\n",
       "        vertical-align: top;\n",
       "    }\n",
       "\n",
       "    .dataframe thead th {\n",
       "        text-align: right;\n",
       "    }\n",
       "</style>\n",
       "<table border=\"1\" class=\"dataframe\">\n",
       "  <thead>\n",
       "    <tr style=\"text-align: right;\">\n",
       "      <th></th>\n",
       "      <th>Twitter_PR</th>\n",
       "      <th>PageRank</th>\n",
       "    </tr>\n",
       "  </thead>\n",
       "  <tbody>\n",
       "    <tr>\n",
       "      <th>22271</th>\n",
       "      <td>KOICHIOSHIMA2</td>\n",
       "      <td>0.008360</td>\n",
       "    </tr>\n",
       "    <tr>\n",
       "      <th>141900</th>\n",
       "      <td>ru_irui_momo</td>\n",
       "      <td>0.008000</td>\n",
       "    </tr>\n",
       "    <tr>\n",
       "      <th>9954</th>\n",
       "      <td>Aoi66982994</td>\n",
       "      <td>0.007850</td>\n",
       "    </tr>\n",
       "    <tr>\n",
       "      <th>84400</th>\n",
       "      <td>iloveyou1984022</td>\n",
       "      <td>0.007798</td>\n",
       "    </tr>\n",
       "    <tr>\n",
       "      <th>96236</th>\n",
       "      <td>kitakubu918</td>\n",
       "      <td>0.006011</td>\n",
       "    </tr>\n",
       "    <tr>\n",
       "      <th>...</th>\n",
       "      <td>...</td>\n",
       "      <td>...</td>\n",
       "    </tr>\n",
       "    <tr>\n",
       "      <th>51274</th>\n",
       "      <td>WOMANEXPO</td>\n",
       "      <td>0.000002</td>\n",
       "    </tr>\n",
       "    <tr>\n",
       "      <th>51275</th>\n",
       "      <td>hekimasa</td>\n",
       "      <td>0.000002</td>\n",
       "    </tr>\n",
       "    <tr>\n",
       "      <th>51276</th>\n",
       "      <td>kominaao</td>\n",
       "      <td>0.000002</td>\n",
       "    </tr>\n",
       "    <tr>\n",
       "      <th>51277</th>\n",
       "      <td>momose_rei</td>\n",
       "      <td>0.000002</td>\n",
       "    </tr>\n",
       "    <tr>\n",
       "      <th>51278</th>\n",
       "      <td>ootu3112</td>\n",
       "      <td>0.000002</td>\n",
       "    </tr>\n",
       "  </tbody>\n",
       "</table>\n",
       "<p>178438 rows × 2 columns</p>\n",
       "</div>"
      ],
      "text/plain": [
       "             Twitter_PR  PageRank\n",
       "22271     KOICHIOSHIMA2  0.008360\n",
       "141900     ru_irui_momo  0.008000\n",
       "9954        Aoi66982994  0.007850\n",
       "84400   iloveyou1984022  0.007798\n",
       "96236       kitakubu918  0.006011\n",
       "...                 ...       ...\n",
       "51274         WOMANEXPO  0.000002\n",
       "51275          hekimasa  0.000002\n",
       "51276          kominaao  0.000002\n",
       "51277        momose_rei  0.000002\n",
       "51278          ootu3112  0.000002\n",
       "\n",
       "[178438 rows x 2 columns]"
      ]
     },
     "execution_count": 15,
     "metadata": {},
     "output_type": "execute_result"
    }
   ],
   "source": [
    "page_rank = page_rank.sort_values(by='PageRank', ascending=False)\n",
    "page_rank = page_rank.rename(columns={'Twitter': 'Twitter_PR'})\n",
    "page_rank"
   ]
  },
  {
   "cell_type": "code",
   "execution_count": 16,
   "id": "impaired-walter",
   "metadata": {},
   "outputs": [],
   "source": [
    "#page_rank.to_csv('page_rank.csv', index=False)"
   ]
  },
  {
   "cell_type": "code",
   "execution_count": null,
   "id": "fewer-momentum",
   "metadata": {},
   "outputs": [],
   "source": []
  }
 ],
 "metadata": {
  "deepnote": {},
  "deepnote_execution_queue": [],
  "deepnote_notebook_id": "fe0059d6-9639-4070-90de-1ca78ce8baef",
  "kernelspec": {
   "display_name": "Python 3",
   "language": "python",
   "name": "python3"
  },
  "language_info": {
   "codemirror_mode": {
    "name": "ipython",
    "version": 3
   },
   "file_extension": ".py",
   "mimetype": "text/x-python",
   "name": "python",
   "nbconvert_exporter": "python",
   "pygments_lexer": "ipython3",
   "version": "3.8.5"
  }
 },
 "nbformat": 4,
 "nbformat_minor": 5
}
