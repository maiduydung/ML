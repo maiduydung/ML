{
 "cells": [
  {
   "cell_type": "code",
   "execution_count": 23,
   "id": "unknown-quality",
   "metadata": {},
   "outputs": [],
   "source": [
    "import numpy as np\n",
    "import cv2 as cv\n",
    "import numpy as np\n",
    "from matplotlib import pyplot as plt\n",
    "\n",
    "from fastdtw import fastdtw\n",
    "from scipy.spatial import distance\n",
    "from tslearn.preprocessing import TimeSeriesResampler"
   ]
  },
  {
   "cell_type": "markdown",
   "id": "recreational-hierarchy",
   "metadata": {},
   "source": [
    "### Edge detection"
   ]
  },
  {
   "cell_type": "code",
   "execution_count": 24,
   "id": "threaded-fundamentals",
   "metadata": {},
   "outputs": [
    {
     "data": {
      "image/png": "[encoded data removed]",
      "text/plain": [
       "<Figure size 432x288 with 2 Axes>"
      ]
     },
     "metadata": {},
     "output_type": "display_data"
    }
   ],
   "source": [
    "img = cv.imread('Leaf_outlines/Pact1_1.jpg',0)\n",
    "edges = cv.Canny(img,100,500)\n",
    "plt.subplot(121),plt.imshow(img,cmap = 'gray')\n",
    "plt.title('Original Image'), plt.xticks([]), plt.yticks([])\n",
    "plt.subplot(122),plt.imshow(edges,cmap = 'gray')\n",
    "plt.title('Edge Image'), plt.xticks([]), plt.yticks([])\n",
    "plt.show()"
   ]
  },
  {
   "cell_type": "code",
   "execution_count": 25,
   "id": "acoustic-receptor",
   "metadata": {},
   "outputs": [
    {
     "data": {
      "text/plain": [
       "(1000, 1000)"
      ]
     },
     "execution_count": 25,
     "metadata": {},
     "output_type": "execute_result"
    }
   ],
   "source": [
    "edges = np.array(edges)\n",
    "edges.shape"
   ]
  },
  {
   "cell_type": "code",
   "execution_count": 26,
   "id": "personalized-roads",
   "metadata": {},
   "outputs": [
    {
     "data": {
      "text/plain": [
       "array([[0, 0, 0, ..., 0, 0, 0],\n",
       "       [0, 0, 0, ..., 0, 0, 0],\n",
       "       [0, 0, 0, ..., 0, 0, 0],\n",
       "       ...,\n",
       "       [0, 0, 0, ..., 0, 0, 0],\n",
       "       [0, 0, 0, ..., 0, 0, 0],\n",
       "       [0, 0, 0, ..., 0, 0, 0]], dtype=uint8)"
      ]
     },
     "execution_count": 26,
     "metadata": {},
     "output_type": "execute_result"
    }
   ],
   "source": [
    "edges"
   ]
  },
  {
   "cell_type": "code",
   "execution_count": 27,
   "id": "convertible-bowling",
   "metadata": {},
   "outputs": [
    {
     "data": {
      "text/plain": [
       "[500, 500]"
      ]
     },
     "execution_count": 27,
     "metadata": {},
     "output_type": "execute_result"
    }
   ],
   "source": [
    "center = [x//2 for x in edges.shape]\n",
    "center"
   ]
  },
  {
   "cell_type": "markdown",
   "id": "sustainable-capture",
   "metadata": {},
   "source": [
    "### Look for index with value = 255 <=> have a dot"
   ]
  },
  {
   "cell_type": "code",
   "execution_count": 28,
   "id": "relevant-blank",
   "metadata": {},
   "outputs": [
    {
     "name": "stdout",
     "output_type": "stream",
     "text": [
      "(2, 243)\n"
     ]
    }
   ],
   "source": [
    "shape_arr = np.array(np.where (edges == 255))\n",
    "print(shape_arr.shape)\n"
   ]
  },
  {
   "cell_type": "code",
   "execution_count": 29,
   "id": "executed-dragon",
   "metadata": {},
   "outputs": [],
   "source": [
    "#print(edges[4,299]) #debug\n",
    "#print(edges[4,300]) #debug"
   ]
  },
  {
   "cell_type": "markdown",
   "id": "parental-herald",
   "metadata": {},
   "source": [
    "### Euclidean distance from center to point with value = 255"
   ]
  },
  {
   "cell_type": "code",
   "execution_count": 30,
   "id": "official-collect",
   "metadata": {},
   "outputs": [],
   "source": [
    "series1 = []\n",
    "for i in range(0,(shape_arr.shape[1])):\n",
    "    dst = distance.euclidean(center, shape_arr[:,i])\n",
    "    series1.append(dst)\n",
    "series1 = np.array(series1)\n"
   ]
  },
  {
   "cell_type": "code",
   "execution_count": 31,
   "id": "comic-toronto",
   "metadata": {},
   "outputs": [
    {
     "data": {
      "text/plain": [
       "[<matplotlib.lines.Line2D at 0x20c31cd0ee0>]"
      ]
     },
     "execution_count": 31,
     "metadata": {},
     "output_type": "execute_result"
    },
    {
     "data": {
      "image/png": "[encoded data removed]",
      "text/plain": [
       "<Figure size 432x288 with 1 Axes>"
      ]
     },
     "metadata": {
      "needs_background": "light"
     },
     "output_type": "display_data"
    }
   ],
   "source": [
    "plt.plot(series1)"
   ]
  },
  {
   "cell_type": "code",
   "execution_count": null,
   "id": "desperate-citation",
   "metadata": {},
   "outputs": [],
   "source": []
  },
  {
   "cell_type": "code",
   "execution_count": null,
   "id": "mobile-mobile",
   "metadata": {},
   "outputs": [],
   "source": []
  },
  {
   "cell_type": "code",
   "execution_count": null,
   "id": "induced-imaging",
   "metadata": {},
   "outputs": [],
   "source": []
  },
  {
   "cell_type": "code",
   "execution_count": null,
   "id": "functioning-combine",
   "metadata": {},
   "outputs": [],
   "source": []
  },
  {
   "cell_type": "code",
   "execution_count": 32,
   "id": "thrown-channels",
   "metadata": {},
   "outputs": [
    {
     "data": {
      "image/png": "[encoded data removed]",
      "text/plain": [
       "<Figure size 432x288 with 2 Axes>"
      ]
     },
     "metadata": {},
     "output_type": "display_data"
    }
   ],
   "source": [
    "img = cv.imread('Leaf_outlines/Pact1_2.jpg',0)\n",
    "edges = cv.Canny(img,0,10)\n",
    "plt.subplot(121),plt.imshow(img,cmap = 'gray')\n",
    "plt.title('Original Image'), plt.xticks([]), plt.yticks([])\n",
    "plt.subplot(122),plt.imshow(edges,cmap = 'gray')\n",
    "plt.title('Edge Image'), plt.xticks([]), plt.yticks([])\n",
    "plt.show()"
   ]
  },
  {
   "cell_type": "code",
   "execution_count": 33,
   "id": "changed-hands",
   "metadata": {},
   "outputs": [
    {
     "data": {
      "text/plain": [
       "(1000, 1000)"
      ]
     },
     "execution_count": 33,
     "metadata": {},
     "output_type": "execute_result"
    }
   ],
   "source": [
    "edges = np.array(edges)\n",
    "edges.shape"
   ]
  },
  {
   "cell_type": "code",
   "execution_count": 34,
   "id": "nonprofit-lying",
   "metadata": {},
   "outputs": [
    {
     "data": {
      "text/plain": [
       "[500, 500]"
      ]
     },
     "execution_count": 34,
     "metadata": {},
     "output_type": "execute_result"
    }
   ],
   "source": [
    "center = [x//2 for x in edges.shape]\n",
    "center"
   ]
  },
  {
   "cell_type": "code",
   "execution_count": 35,
   "id": "interested-owner",
   "metadata": {},
   "outputs": [
    {
     "name": "stdout",
     "output_type": "stream",
     "text": [
      "(2, 353)\n"
     ]
    },
    {
     "data": {
      "text/plain": [
       "array([[436, 436, 436, 436, 436, 436, 437, 437, 437, 437, 438, 438, 438,\n",
       "        438, 439, 439, 439, 439, 440, 440, 440, 440, 441, 441, 441, 442,\n",
       "        442, 442, 443, 443, 443, 443, 444, 444, 444, 445, 445, 445, 445,\n",
       "        445, 446, 446, 446, 446, 447, 447, 447, 448, 448, 448, 449, 449,\n",
       "        449, 450, 450, 450, 451, 451, 452, 452, 452, 453, 453, 453, 453,\n",
       "        454, 454, 454, 455, 455, 455, 456, 456, 457, 457, 458, 458, 459,\n",
       "        459, 460, 460, 461, 461, 462, 462, 462, 463, 463, 463, 464, 464,\n",
       "        465, 465, 466, 466, 467, 467, 468, 468, 469, 469, 470, 470, 470,\n",
       "        470, 471, 471, 472, 472, 473, 473, 474, 474, 475, 475, 476, 476,\n",
       "        477, 477, 478, 478, 479, 479, 480, 480, 480, 481, 481, 482, 482,\n",
       "        482, 483, 483, 484, 484, 484, 485, 485, 485, 486, 486, 486, 486,\n",
       "        487, 487, 488, 488, 488, 488, 489, 489, 489, 490, 490, 491, 491,\n",
       "        492, 492, 493, 493, 493, 494, 494, 495, 495, 496, 496, 497, 497,\n",
       "        498, 498, 499, 499, 500, 500, 501, 501, 502, 502, 503, 503, 504,\n",
       "        504, 505, 505, 506, 506, 507, 507, 508, 508, 509, 509, 510, 510,\n",
       "        511, 511, 512, 512, 513, 513, 514, 514, 515, 515, 516, 516, 517,\n",
       "        517, 518, 518, 519, 519, 520, 520, 521, 521, 522, 522, 523, 523,\n",
       "        524, 524, 525, 525, 526, 526, 526, 527, 527, 528, 528, 528, 529,\n",
       "        529, 530, 530, 530, 531, 531, 532, 532, 532, 533, 533, 533, 533,\n",
       "        534, 534, 534, 534, 535, 535, 535, 535, 536, 536, 536, 536, 536,\n",
       "        537, 537, 537, 537, 537, 538, 538, 538, 538, 538, 539, 539, 539,\n",
       "        539, 540, 540, 540, 540, 541, 541, 541, 541, 542, 542, 542, 542,\n",
       "        542, 543, 543, 543, 543, 543, 544, 544, 544, 544, 544, 544, 545,\n",
       "        545, 545, 545, 545, 545, 546, 546, 546, 546, 546, 546, 546, 546,\n",
       "        547, 547, 547, 547, 547, 547, 547, 547, 548, 548, 549, 549, 550,\n",
       "        550, 551, 551, 552, 552, 553, 553, 554, 554, 555, 555, 556, 556,\n",
       "        557, 557, 558, 558, 559, 559, 560, 560, 561, 561, 562, 562, 563,\n",
       "        563, 563],\n",
       "       [502, 503, 504, 505, 506, 507, 500, 501, 508, 509, 499, 500, 509,\n",
       "        510, 498, 499, 510, 511, 496, 497, 511, 512, 495, 496, 512, 495,\n",
       "        512, 513, 494, 495, 513, 514, 494, 514, 515, 492, 493, 494, 515,\n",
       "        516, 491, 492, 516, 517, 490, 491, 517, 490, 517, 518, 489, 490,\n",
       "        518, 488, 489, 518, 488, 519, 487, 488, 519, 486, 487, 519, 520,\n",
       "        485, 486, 520, 484, 485, 520, 484, 521, 484, 521, 483, 521, 483,\n",
       "        522, 483, 522, 483, 522, 482, 522, 523, 481, 482, 523, 481, 523,\n",
       "        481, 523, 480, 524, 480, 524, 480, 525, 479, 525, 478, 479, 525,\n",
       "        526, 478, 526, 477, 526, 477, 527, 477, 527, 477, 527, 476, 527,\n",
       "        476, 528, 476, 528, 476, 528, 475, 476, 528, 475, 529, 474, 475,\n",
       "        529, 474, 529, 473, 474, 529, 472, 473, 529, 472, 527, 528, 529,\n",
       "        472, 526, 472, 526, 527, 528, 472, 528, 529, 472, 529, 471, 529,\n",
       "        471, 529, 470, 529, 530, 470, 530, 470, 531, 469, 530, 469, 530,\n",
       "        469, 531, 469, 531, 468, 531, 468, 531, 468, 532, 467, 532, 467,\n",
       "        532, 467, 532, 467, 532, 467, 532, 467, 532, 467, 532, 467, 533,\n",
       "        467, 533, 467, 533, 467, 532, 467, 532, 467, 532, 467, 532, 467,\n",
       "        532, 468, 532, 468, 532, 468, 532, 469, 532, 469, 532, 469, 532,\n",
       "        469, 531, 470, 531, 470, 471, 530, 471, 530, 471, 472, 530, 472,\n",
       "        529, 472, 473, 529, 473, 528, 473, 474, 528, 474, 475, 527, 528,\n",
       "        475, 476, 526, 527, 476, 477, 525, 526, 477, 478, 523, 524, 525,\n",
       "        478, 479, 480, 522, 523, 480, 481, 520, 521, 522, 481, 482, 519,\n",
       "        520, 482, 483, 518, 519, 483, 516, 517, 518, 483, 484, 485, 515,\n",
       "        516, 485, 486, 513, 514, 515, 486, 487, 488, 511, 512, 513, 488,\n",
       "        489, 490, 509, 510, 511, 491, 492, 493, 494, 505, 506, 507, 508,\n",
       "        495, 496, 497, 498, 499, 502, 503, 504, 499, 502, 499, 502, 499,\n",
       "        502, 499, 501, 499, 501, 499, 501, 499, 501, 499, 501, 498, 501,\n",
       "        498, 501, 498, 500, 498, 500, 498, 500, 497, 500, 497, 499, 497,\n",
       "        498, 499]], dtype=int64)"
      ]
     },
     "execution_count": 35,
     "metadata": {},
     "output_type": "execute_result"
    }
   ],
   "source": [
    "shape_arr = np.array(np.where (edges == 255))\n",
    "print(shape_arr.shape)\n",
    "shape_arr"
   ]
  },
  {
   "cell_type": "code",
   "execution_count": 37,
   "id": "furnished-parade",
   "metadata": {},
   "outputs": [
    {
     "data": {
      "text/plain": [
       "(353,)"
      ]
     },
     "execution_count": 37,
     "metadata": {},
     "output_type": "execute_result"
    }
   ],
   "source": [
    "series2 = []\n",
    "for i in range(0,(shape_arr.shape[1])):\n",
    "    dst = distance.euclidean(center, shape_arr[:,i])\n",
    "    series2.append(dst)\n",
    "series2 = np.array(series2)\n",
    "series2.shape"
   ]
  },
  {
   "cell_type": "code",
   "execution_count": 38,
   "id": "decimal-earthquake",
   "metadata": {},
   "outputs": [
    {
     "data": {
      "text/plain": [
       "[<matplotlib.lines.Line2D at 0x20c32d69ca0>]"
      ]
     },
     "execution_count": 38,
     "metadata": {},
     "output_type": "execute_result"
    },
    {
     "data": {
      "image/png": "[encoded data removed]",
      "text/plain": [
       "<Figure size 432x288 with 1 Axes>"
      ]
     },
     "metadata": {
      "needs_background": "light"
     },
     "output_type": "display_data"
    }
   ],
   "source": [
    "plt.plot(series2)"
   ]
  },
  {
   "cell_type": "code",
   "execution_count": null,
   "id": "direct-hobby",
   "metadata": {},
   "outputs": [],
   "source": []
  },
  {
   "cell_type": "code",
   "execution_count": null,
   "id": "prescribed-illinois",
   "metadata": {},
   "outputs": [],
   "source": []
  },
  {
   "cell_type": "code",
   "execution_count": 39,
   "id": "heated-projection",
   "metadata": {},
   "outputs": [
    {
     "data": {
      "text/plain": [
       "Text(0.5, 1.0, 'Series of two leafs from the same specie')"
      ]
     },
     "execution_count": 39,
     "metadata": {},
     "output_type": "execute_result"
    },
    {
     "data": {
      "image/png": "[encoded data removed]",
      "text/plain": [
       "<Figure size 432x288 with 1 Axes>"
      ]
     },
     "metadata": {
      "needs_background": "light"
     },
     "output_type": "display_data"
    }
   ],
   "source": [
    "plt.plot(series1, label='leaf1')\n",
    "plt.plot(series2, label='leaf2')\n",
    "plt.legend()\n",
    "plt.title('Series of two leafs from the same specie')"
   ]
  },
  {
   "cell_type": "code",
   "execution_count": 40,
   "id": "entire-array",
   "metadata": {},
   "outputs": [],
   "source": [
    "series2_new = TimeSeriesResampler(sz=243).fit_transform(series2)\n",
    "series2_new = series2_new[0]"
   ]
  },
  {
   "cell_type": "code",
   "execution_count": 41,
   "id": "sustainable-administrator",
   "metadata": {},
   "outputs": [
    {
     "data": {
      "text/plain": [
       "Text(0.5, 1.0, 'Series of two leafs from the same specie')"
      ]
     },
     "execution_count": 41,
     "metadata": {},
     "output_type": "execute_result"
    },
    {
     "data": {
      "image/png": "[encoded data removed]",
      "text/plain": [
       "<Figure size 432x288 with 1 Axes>"
      ]
     },
     "metadata": {
      "needs_background": "light"
     },
     "output_type": "display_data"
    }
   ],
   "source": [
    "plt.plot(series1, label='leaf1')\n",
    "plt.plot(series2_new, label='leaf2')\n",
    "plt.legend()\n",
    "plt.title('Series of two leafs from the same specie')"
   ]
  },
  {
   "cell_type": "code",
   "execution_count": 42,
   "id": "cathedral-alaska",
   "metadata": {},
   "outputs": [],
   "source": [
    "distance, path = fastdtw(series1,series2_new)"
   ]
  },
  {
   "cell_type": "code",
   "execution_count": null,
   "id": "velvet-detective",
   "metadata": {},
   "outputs": [],
   "source": [
    "distance"
   ]
  },
  {
   "cell_type": "code",
   "execution_count": null,
   "id": "explicit-thong",
   "metadata": {},
   "outputs": [],
   "source": [
    "import numpy\n",
    "import matplotlib.pyplot as plt\n",
    "\n",
    "from tslearn.generators import random_walks\n",
    "from tslearn.preprocessing import TimeSeriesScalerMeanVariance\n",
    "from tslearn import metrics\n",
    "\n",
    "numpy.random.seed(0)\n",
    "n_ts, sz, d = 2, 100, 1\n",
    "dataset = random_walks(n_ts=n_ts, sz=sz, d=d)\n",
    "scaler = TimeSeriesScalerMeanVariance(mu=0., std=1.)  # Rescale time series\n",
    "dataset_scaled = scaler.fit_transform(dataset)\n",
    "\n",
    "plt.figure(figsize=(14, 8))\n",
    "envelope_down, envelope_up = metrics.lb_envelope(dataset_scaled[0], radius=3)\n",
    "plt.plot(dataset_scaled[0, :, 0], \"r-\", label='First time series')\n",
    "plt.plot(envelope_down[:, 0], \"b-\", label='Lower envelope')\n",
    "plt.plot(envelope_up[:, 0], \"g-\", label='Upper envelope')\n",
    "plt.legend()\n",
    "plt.title('Envelope around a time series with radius=3')\n",
    "\n",
    "plt.figure(figsize=(14, 8))\n",
    "plt.plot(envelope_down[:, 0], \"b-\", label='Lower envelope')\n",
    "plt.plot(envelope_up[:, 0], \"g-\", label='Upper envelope')\n",
    "plt.plot(dataset_scaled[1, :, 0], \"k-\", label='Second time series')\n",
    "plt.vlines(numpy.arange(sz), dataset_scaled[1, :, 0], numpy.clip(\n",
    "    dataset_scaled[1, :, 0], envelope_down[:, 0], envelope_up[:, 0]),\n",
    "           label='Distance', color='orange')\n",
    "plt.legend()\n",
    "lb_k_sim = metrics.lb_keogh(dataset_scaled[1],\n",
    "                            envelope_candidate=(envelope_down, envelope_up))\n",
    "plt.title('Distance between the second time series and \\n'\n",
    "          'the envelope = {:.4f}'.format(lb_k_sim))\n",
    "\n",
    "plt.show()"
   ]
  },
  {
   "cell_type": "code",
   "execution_count": null,
   "id": "portable-burton",
   "metadata": {},
   "outputs": [],
   "source": []
  },
  {
   "cell_type": "code",
   "execution_count": null,
   "id": "under-raising",
   "metadata": {},
   "outputs": [],
   "source": []
  },
  {
   "cell_type": "code",
   "execution_count": null,
   "id": "stuffed-attention",
   "metadata": {},
   "outputs": [],
   "source": []
  },
  {
   "cell_type": "code",
   "execution_count": null,
   "id": "steady-wisdom",
   "metadata": {},
   "outputs": [],
   "source": []
  },
  {
   "cell_type": "code",
   "execution_count": null,
   "id": "human-michael",
   "metadata": {},
   "outputs": [],
   "source": [
    "center"
   ]
  },
  {
   "cell_type": "code",
   "execution_count": null,
   "id": "current-proceeding",
   "metadata": {},
   "outputs": [],
   "source": [
    "\n"
   ]
  },
  {
   "cell_type": "code",
   "execution_count": null,
   "id": "accomplished-iraqi",
   "metadata": {},
   "outputs": [],
   "source": []
  }
 ],
 "metadata": {
  "kernelspec": {
   "display_name": "Python 3",
   "language": "python",
   "name": "python3"
  },
  "language_info": {
   "codemirror_mode": {
    "name": "ipython",
    "version": 3
   },
   "file_extension": ".py",
   "mimetype": "text/x-python",
   "name": "python",
   "nbconvert_exporter": "python",
   "pygments_lexer": "ipython3",
   "version": "3.8.5"
  }
 },
 "nbformat": 4,
 "nbformat_minor": 5
}
