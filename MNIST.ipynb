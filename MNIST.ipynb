{
 "cells": [
  {
   "cell_type": "code",
   "execution_count": 2,
   "metadata": {},
   "outputs": [
    {
     "data": {
      "text/plain": [
       "dict_keys(['data', 'target', 'frame', 'categories', 'feature_names', 'target_names', 'DESCR', 'details', 'url'])"
      ]
     },
     "execution_count": 2,
     "metadata": {},
     "output_type": "execute_result"
    }
   ],
   "source": [
    "from sklearn.datasets import fetch_openml\n",
    "mnist = fetch_openml('mnist_784',version=1)\n",
    "mnist.keys()"
   ]
  },
  {
   "cell_type": "code",
   "execution_count": 8,
   "metadata": {},
   "outputs": [
    {
     "data": {
      "text/plain": [
       "array([[0., 0., 0., ..., 0., 0., 0.],\n",
       "       [0., 0., 0., ..., 0., 0., 0.],\n",
       "       [0., 0., 0., ..., 0., 0., 0.],\n",
       "       ...,\n",
       "       [0., 0., 0., ..., 0., 0., 0.],\n",
       "       [0., 0., 0., ..., 0., 0., 0.],\n",
       "       [0., 0., 0., ..., 0., 0., 0.]])"
      ]
     },
     "execution_count": 8,
     "metadata": {},
     "output_type": "execute_result"
    }
   ],
   "source": [
    "X, y = mnist[\"data\"], mnist[\"target\"]\n",
    "\n",
    "# X = an array containing pixel values (0,255)\n",
    "# 70000 images, each image has 784 features (24*24)\n",
    "X\n"
   ]
  },
  {
   "cell_type": "code",
   "execution_count": 11,
   "metadata": {},
   "outputs": [
    {
     "data": {
      "image/png": "[encoded data removed]",
      "image/svg+xml": [
       "<?xml version=\"1.0\" encoding=\"utf-8\" standalone=\"no\"?>\r\n",
       "<!DOCTYPE svg PUBLIC \"-//W3C//DTD SVG 1.1//EN\"\r\n",
       "  \"http://www.w3.org/Graphics/SVG/1.1/DTD/svg11.dtd\">\r\n",
       "<!-- Created with matplotlib (https://matplotlib.org/) -->\r\n",
       "<svg height=\"231.84pt\" version=\"1.1\" viewBox=\"0 0 231.84 231.84\" width=\"231.84pt\" xmlns=\"http://www.w3.org/2000/svg\" xmlns:xlink=\"http://www.w3.org/1999/xlink\">\r\n",
       " <defs>\r\n",
       "  <style type=\"text/css\">\r\n",
       "*{stroke-linecap:butt;stroke-linejoin:round;}\r\n",
       "  </style>\r\n",
       " </defs>\r\n",
       " <g id=\"figure_1\">\r\n",
       "  <g id=\"patch_1\">\r\n",
       "   <path d=\"M 0 231.84 \r\n",
       "L 231.84 231.84 \r\n",
       "L 231.84 0 \r\n",
       "L 0 0 \r\n",
       "z\r\n",
       "\" style=\"fill:none;\"/>\r\n",
       "  </g>\r\n",
       "  <g id=\"axes_1\">\r\n",
       "   <g clip-path=\"url(#p89d961322a)\">\r\n",
       "    <image height=\"218\" id=\"image9673657f24\" transform=\"scale(1 -1)translate(0 -218)\" width=\"218\" x=\"7.2\" xlink:href=\"data:image/png;base64,\r\n",
       "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\" y=\"-6.64\"/>\r\n",
       "   </g>\r\n",
       "  </g>\r\n",
       " </g>\r\n",
       " <defs>\r\n",
       "  <clipPath id=\"p89d961322a\">\r\n",
       "   <rect height=\"217.44\" width=\"217.44\" x=\"7.2\" y=\"7.2\"/>\r\n",
       "  </clipPath>\r\n",
       " </defs>\r\n",
       "</svg>\r\n"
      ],
      "text/plain": [
       "<Figure size 432x288 with 1 Axes>"
      ]
     },
     "metadata": {
      "needs_background": "light"
     },
     "output_type": "display_data"
    }
   ],
   "source": [
    "#grabbing one random pic\n",
    "import matplotlib as mpl\n",
    "import matplotlib.pyplot as plt\n",
    "\n",
    "some_digit = X[50]\n",
    "#reshapping X[n] into a 28*28 array\n",
    "some_digit_img = some_digit.reshape(28,28)\n",
    "plt.imshow(some_digit_img, cmap = \"binary\")\n",
    "plt.axis(\"off\")\n",
    "plt.show()"
   ]
  },
  {
   "cell_type": "code",
   "execution_count": 47,
   "metadata": {},
   "outputs": [],
   "source": [
    "#since the returning label is string, lets convert it back to int\n",
    "y = y.astype(np.uint8)\n",
    "\n",
    "X_train = X[:60000]\n",
    "X_test = X[60000:]\n",
    "\n",
    "y_train = y[:60000] \n",
    "y_test = y[60000:] \n",
    "\n",
    "y_train_3 = (y_train == 3)\n",
    "y_test_3 = (y_test == 3)"
   ]
  },
  {
   "cell_type": "code",
   "execution_count": 49,
   "metadata": {},
   "outputs": [
    {
     "data": {
      "text/plain": [
       "SGDClassifier(random_state=42)"
      ]
     },
     "execution_count": 49,
     "metadata": {},
     "output_type": "execute_result"
    }
   ],
   "source": [
    "# Training a Binary Classifier\n",
    "# Is_3\n",
    "\n",
    "# Stochastic Gradient Descent \n",
    "from sklearn.linear_model import SGDClassifier\n",
    "sgd_clf = SGDClassifier(random_state=42)\n",
    "sgd_clf.fit(X_train, y_train_3)"
   ]
  },
  {
   "cell_type": "code",
   "execution_count": 50,
   "metadata": {},
   "outputs": [
    {
     "data": {
      "text/plain": [
       "array([ True])"
      ]
     },
     "execution_count": 50,
     "metadata": {},
     "output_type": "execute_result"
    }
   ],
   "source": [
    "sgd_clf.predict([some_digit])"
   ]
  },
  {
   "cell_type": "code",
   "execution_count": 71,
   "metadata": {},
   "outputs": [
    {
     "data": {
      "text/plain": [
       "array([0.9496 , 0.9624 , 0.96275])"
      ]
     },
     "execution_count": 71,
     "metadata": {},
     "output_type": "execute_result"
    }
   ],
   "source": [
    "#checking accuracy\n",
    "# 3 folds\n",
    "from sklearn.model_selection import cross_val_score\n",
    "cross_val_score(sgd_clf, X_train, y_train_3, cv=3, scoring=\"accuracy\")"
   ]
  },
  {
   "cell_type": "code",
   "execution_count": 68,
   "metadata": {},
   "outputs": [
    {
     "data": {
      "text/plain": [
       "array([0.8962 , 0.89975, 0.8975 ])"
      ]
     },
     "execution_count": 68,
     "metadata": {},
     "output_type": "execute_result"
    }
   ],
   "source": [
    "# There's always 90% chance that a letter won't be 3\n",
    "# So that in this case, accuracy is not the best performance measure\n",
    "\n",
    "from sklearn.base import BaseEstimator\n",
    "\n",
    "class never_3(BaseEstimator):\n",
    "    def fit(self, X, y = None):\n",
    "        return self\n",
    "    def predict(self, X):\n",
    "        return np.zeros((len(X), 1), dtype = bool)\n",
    "nv_3_clf = never_3()\n",
    "cross_val_score(nv_3_clf, X_train, y_train_3, cv = 3, scoring=\"accuracy\")\n"
   ]
  },
  {
   "cell_type": "code",
   "execution_count": 72,
   "metadata": {},
   "outputs": [],
   "source": [
    "from sklearn.model_selection import cross_val_predict\n",
    "\n",
    "y_train_predict = cross_val_predict(sgd_clf, X_train, y_train_3, cv = 3)"
   ]
  },
  {
   "cell_type": "code",
   "execution_count": 74,
   "metadata": {},
   "outputs": [
    {
     "data": {
      "text/plain": [
       "array([False,  True])"
      ]
     },
     "execution_count": 74,
     "metadata": {},
     "output_type": "execute_result"
    }
   ],
   "source": []
  },
  {
   "cell_type": "code",
   "execution_count": null,
   "metadata": {},
   "outputs": [],
   "source": []
  }
 ],
 "metadata": {
  "kernelspec": {
   "display_name": "Python 3",
   "language": "python",
   "name": "python3"
  },
  "language_info": {
   "codemirror_mode": {
    "name": "ipython",
    "version": 3
   },
   "file_extension": ".py",
   "mimetype": "text/x-python",
   "name": "python",
   "nbconvert_exporter": "python",
   "pygments_lexer": "ipython3",
   "version": "3.8.2"
  }
 },
 "nbformat": 4,
 "nbformat_minor": 4
}
