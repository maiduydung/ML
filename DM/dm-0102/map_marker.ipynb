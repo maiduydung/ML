{
 "cells": [
  {
   "cell_type": "markdown",
   "metadata": {},
   "source": [
    "## Example of displaying map and marker using folium"
   ]
  },
  {
   "cell_type": "markdown",
   "metadata": {},
   "source": [
    "### Import libraries  "
   ]
  },
  {
   "cell_type": "code",
   "execution_count": null,
   "metadata": {},
   "outputs": [],
   "source": [
    "import pandas as pd\n",
    "import folium"
   ]
  },
  {
   "cell_type": "markdown",
   "metadata": {},
   "source": [
    "### Show map and circle_markers"
   ]
  },
  {
   "cell_type": "code",
   "execution_count": null,
   "metadata": {},
   "outputs": [],
   "source": [
    "iniad_location = [35.780545, 139.715396]\n",
    "\n",
    "map = folium.Map(location=iniad_location, zoom_start=15)\n",
    "\n",
    "folium.Marker(location=iniad_location, popup='INIAD').add_to(map)\n",
    "folium.CircleMarker(location=iniad_location, popup='INIAD', radius=50).add_to(map)\n",
    "display(map)\n",
    "map.save(outfile='iniad_marker.html')"
   ]
  },
  {
   "cell_type": "markdown",
   "metadata": {},
   "source": [
    "### Using other tiles  \n",
    "Builtin (Foliumに組み込まれているもの):  \n",
    "https://github.com/python-visualization/folium/blob/master/examples/TilesExample.ipynb  \n",
    "\n",
    "From others:    \n",
    "https://maps.gsi.go.jp/development/ichiran.html   \n",
    "https://leaflet-extras.github.io/leaflet-providers/preview/   "
   ]
  },
  {
   "cell_type": "markdown",
   "metadata": {},
   "source": [
    "Using Stamen Terrain  "
   ]
  },
  {
   "cell_type": "code",
   "execution_count": null,
   "metadata": {},
   "outputs": [],
   "source": [
    "iniad_location = [35.780545, 139.715396]\n",
    "\n",
    "# Using Stamen Terrian\n",
    "map = folium.Map(location=iniad_location, zoom_start=13,\n",
    "                 tiles=\"Stamen Terrain\")\n",
    "\n",
    "folium.Marker(location=iniad_location, popup='INIAD').add_to(map)\n",
    "display(map)"
   ]
  },
  {
   "cell_type": "markdown",
   "metadata": {},
   "source": [
    "Using tiles from GIAJ (Geospatial Information Authority of Japan; 国土地理院)"
   ]
  },
  {
   "cell_type": "code",
   "execution_count": null,
   "metadata": {},
   "outputs": [],
   "source": [
    "iniad_location = [35.780545, 139.715396]\n",
    "\n",
    "# Using Stamen Terrian\n",
    "map = folium.Map(location=iniad_location, zoom_start=17,\n",
    "                 tiles=\"https://cyberjapandata.gsi.go.jp/xyz/ort_riku10/{z}/{x}/{y}.png\",\n",
    "                 attr='国土地理院(GIAJ)')\n",
    "\n",
    "folium.Marker(location=iniad_location, popup='INIAD').add_to(map)\n",
    "display(map)"
   ]
  },
  {
   "cell_type": "code",
   "execution_count": null,
   "metadata": {},
   "outputs": [],
   "source": [
    "iniad_location = [35.780545, 139.715396]\n",
    "\n",
    "# Using Stamen Terrian\n",
    "map = folium.Map(location=iniad_location, zoom_start=17,\n",
    "                 tiles=\"https://cyberjapandata.gsi.go.jp/xyz/ort/{z}/{x}/{y}.jpg\",\n",
    "                 attr='国土地理院(GIAJ)')\n",
    "\n",
    "folium.Marker(location=iniad_location, popup='INIAD').add_to(map)\n",
    "display(map)"
   ]
  },
  {
   "cell_type": "code",
   "execution_count": null,
   "metadata": {},
   "outputs": [],
   "source": []
  }
 ],
 "metadata": {
  "kernelspec": {
   "display_name": "Python 3",
   "language": "python",
   "name": "python3"
  },
  "language_info": {
   "codemirror_mode": {
    "name": "ipython",
    "version": 3
   },
   "file_extension": ".py",
   "mimetype": "text/x-python",
   "name": "python",
   "nbconvert_exporter": "python",
   "pygments_lexer": "ipython3",
   "version": "3.8.8"
  }
 },
 "nbformat": 4,
 "nbformat_minor": 4
}
