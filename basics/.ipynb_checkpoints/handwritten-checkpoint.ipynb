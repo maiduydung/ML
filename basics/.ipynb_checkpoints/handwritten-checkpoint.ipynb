{
 "cells": [
  {
   "cell_type": "code",
   "execution_count": 17,
   "metadata": {},
   "outputs": [],
   "source": [
    "import random\n",
    "import numpy as np"
   ]
  },
  {
   "cell_type": "code",
   "execution_count": 18,
   "metadata": {},
   "outputs": [],
   "source": [
    "class Network(object):\n",
    "    def __init__(self, sizes):\n",
    "        self.num_layers = len(sizes)\n",
    "        #only nodes from the 2nd layer onwards have bias\n",
    "        self.biases = [np.random.randn(y, 1) for y in sizes[1:]] #shape = y, 1\n",
    "        self.weight = [np.random.randn(y, x) for x, y in zip(sizes[:-1], sizes[1:])]"
   ]
  },
  {
   "cell_type": "code",
   "execution_count": 19,
   "metadata": {},
   "outputs": [],
   "source": [
    "sizes = [1,5,10]\n",
    "biases = [np.random.randn(y, 1) for y in sizes[1:]]\n",
    "weight = [np.random.randn(y, x) for x, y in zip(sizes[:-1], sizes[1:])]"
   ]
  },
  {
   "cell_type": "code",
   "execution_count": 20,
   "metadata": {},
   "outputs": [
    {
     "data": {
      "text/plain": [
       "[array([[ 1.00576176],\n",
       "        [ 1.81397378],\n",
       "        [ 0.52430646],\n",
       "        [ 0.29200184],\n",
       "        [-1.10398287]]),\n",
       " array([[ 0.09302299],\n",
       "        [ 0.75207125],\n",
       "        [ 0.95274008],\n",
       "        [ 1.35067193],\n",
       "        [ 0.14370261],\n",
       "        [ 0.92171575],\n",
       "        [ 1.65629082],\n",
       "        [ 0.99239417],\n",
       "        [-0.58729535],\n",
       "        [ 1.23057783]])]"
      ]
     },
     "execution_count": 20,
     "metadata": {},
     "output_type": "execute_result"
    }
   ],
   "source": [
    "biases"
   ]
  },
  {
   "cell_type": "code",
   "execution_count": 21,
   "metadata": {},
   "outputs": [
    {
     "data": {
      "text/plain": [
       "array([[2.08450217],\n",
       "       [1.52093577],\n",
       "       [0.66828032],\n",
       "       [0.0196611 ],\n",
       "       [1.14440829]])"
      ]
     },
     "execution_count": 21,
     "metadata": {},
     "output_type": "execute_result"
    }
   ],
   "source": [
    "weight[0]"
   ]
  },
  {
   "cell_type": "code",
   "execution_count": 22,
   "metadata": {},
   "outputs": [
    {
     "data": {
      "text/plain": [
       "array([[ 0.18921361,  2.20459829,  0.79663644, -0.04554698, -0.83534428],\n",
       "       [ 0.67306726, -0.93866867, -0.54101495,  0.84535691, -0.61983736],\n",
       "       [-0.88049948, -1.66613557,  0.36766295,  1.11328268, -0.16172207],\n",
       "       [-1.4988981 , -1.30776445,  0.55635865,  1.6670174 , -0.18618041],\n",
       "       [-2.89045231, -0.53014061,  0.83885752, -0.52030102, -0.25886984],\n",
       "       [-0.60449836, -1.15968917,  0.4178481 ,  0.14077905,  0.02952943],\n",
       "       [ 3.13592871,  0.11996367, -0.06073276, -0.0535953 , -0.75855912],\n",
       "       [ 1.13932774,  0.04399887, -0.92580617, -0.09851727,  1.84422637],\n",
       "       [-0.18669952, -1.64477612,  0.86520431,  1.53845305, -0.53912617],\n",
       "       [-0.3791482 , -0.38260503,  0.67463253,  0.40199137, -1.17193946]])"
      ]
     },
     "execution_count": 22,
     "metadata": {},
     "output_type": "execute_result"
    }
   ],
   "source": [
    "weight[1]"
   ]
  },
  {
   "cell_type": "code",
   "execution_count": 23,
   "metadata": {},
   "outputs": [],
   "source": [
    "temp = np.array(weight[1])"
   ]
  },
  {
   "cell_type": "code",
   "execution_count": 24,
   "metadata": {},
   "outputs": [
    {
     "data": {
      "text/plain": [
       "(10, 5)"
      ]
     },
     "execution_count": 24,
     "metadata": {},
     "output_type": "execute_result"
    }
   ],
   "source": [
    "temp.shape"
   ]
  },
  {
   "cell_type": "code",
   "execution_count": 25,
   "metadata": {},
   "outputs": [
    {
     "name": "stdout",
     "output_type": "stream",
     "text": [
      "1 5\n",
      "5 10\n"
     ]
    }
   ],
   "source": [
    "for x, y in zip(sizes[:-1], sizes[1:]):\n",
    "    print(x,y)"
   ]
  },
  {
   "cell_type": "code",
   "execution_count": null,
   "metadata": {},
   "outputs": [],
   "source": []
  }
 ],
 "metadata": {
  "kernelspec": {
   "display_name": "Python 3",
   "language": "python",
   "name": "python3"
  },
  "language_info": {
   "codemirror_mode": {
    "name": "ipython",
    "version": 3
   },
   "file_extension": ".py",
   "mimetype": "text/x-python",
   "name": "python",
   "nbconvert_exporter": "python",
   "pygments_lexer": "ipython3",
   "version": "3.6.10"
  }
 },
 "nbformat": 4,
 "nbformat_minor": 4
}
