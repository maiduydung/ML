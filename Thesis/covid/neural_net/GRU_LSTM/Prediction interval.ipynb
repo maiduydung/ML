{
 "cells": [
  {
   "cell_type": "code",
   "execution_count": 1,
   "id": "sharp-wright",
   "metadata": {},
   "outputs": [],
   "source": [
    "from numpy.random import randn\n",
    "from numpy.random import seed\n",
    "from numpy import power\n",
    "from numpy import sqrt\n",
    "from numpy import mean\n",
    "from numpy import std\n",
    "from numpy import sum as arraysum\n",
    "from scipy.stats import linregress\n",
    "from matplotlib import pyplot\n",
    "# seed random number generator\n",
    "seed(1)\n",
    "# prepare data\n",
    "x = 20 * randn(1000) + 100\n",
    "y = x + (10 * randn(1000) + 50)\n",
    "\n",
    "# fit linear regression model\n",
    "b1, b0, r_value, p_value, std_err = linregress(x, y)\n",
    "\n",
    "# make predictions\n",
    "yhat = b0 + b1 * x\n",
    "\n"
   ]
  },
  {
   "cell_type": "code",
   "execution_count": 2,
   "id": "desirable-anniversary",
   "metadata": {},
   "outputs": [],
   "source": [
    "# define new input, expected value and prediction\n",
    "x_in = x[0]\n",
    "y_out = y[0]\n",
    "yhat_out = yhat[0]\n",
    "\n"
   ]
  },
  {
   "cell_type": "code",
   "execution_count": 3,
   "id": "young-making",
   "metadata": {},
   "outputs": [],
   "source": [
    "# estimate stdev of yhat\n",
    "sum_errs = arraysum((y - yhat)**2)\n",
    "stdev = sqrt(1/(len(y)-2) * sum_errs)\n",
    "\n"
   ]
  },
  {
   "cell_type": "code",
   "execution_count": 4,
   "id": "perfect-corruption",
   "metadata": {},
   "outputs": [
    {
     "data": {
      "text/plain": [
       "106047.02468530054"
      ]
     },
     "execution_count": 4,
     "metadata": {},
     "output_type": "execute_result"
    }
   ],
   "source": [
    "sum_errs"
   ]
  },
  {
   "cell_type": "code",
   "execution_count": 5,
   "id": "differential-distinction",
   "metadata": {},
   "outputs": [
    {
     "data": {
      "text/plain": [
       "10.308226994631337"
      ]
     },
     "execution_count": 5,
     "metadata": {},
     "output_type": "execute_result"
    }
   ],
   "source": [
    "stdev"
   ]
  },
  {
   "cell_type": "code",
   "execution_count": 6,
   "id": "serious-booth",
   "metadata": {},
   "outputs": [
    {
     "name": "stdout",
     "output_type": "stream",
     "text": [
      "20.204124909477418\n",
      "Prediction Interval: 20.204\n",
      "95% likelihood that the true value is between 162.920 and 203.328\n",
      "True value: 180.955\n"
     ]
    }
   ],
   "source": [
    "# calculate prediction interval\n",
    "interval = 1.96 * stdev\n",
    "print(interval)\n",
    "print('Prediction Interval: %.3f' % interval)\n",
    "lower, upper = yhat_out - interval, yhat_out + interval\n",
    "print('95%% likelihood that the true value is between %.3f and %.3f' % (lower, upper))\n",
    "print('True value: %.3f' % y_out)\n",
    "\n"
   ]
  },
  {
   "attachments": {
    "730f2a2d-24c7-4fa9-9e0b-d38428100acf.png": {
     "image/png": "[encoded data removed]"
    }
   },
   "cell_type": "markdown",
   "id": "latest-blocking",
   "metadata": {},
   "source": [
    "![image.png](attachment:730f2a2d-24c7-4fa9-9e0b-d38428100acf.png)"
   ]
  },
  {
   "cell_type": "raw",
   "id": "bored-award",
   "metadata": {},
   "source": [
    "stdev = sqrt(1 / (N - 2) * e(i)^2 for i to N)\n",
    "stdev = sqrt(1 / (N - 2) * (y_i-y_hat_i)**2 for i to N)\n",
    "\n",
    "Where stdev is an unbiased estimate of the standard deviation for the predicted distribution,\n",
    "n are the total predictions made, and e(i) is the difference between the ith prediction and actual value."
   ]
  },
  {
   "cell_type": "code",
   "execution_count": 7,
   "id": "atomic-banking",
   "metadata": {},
   "outputs": [
    {
     "data": {
      "image/png": "[encoded data removed]",
      "text/plain": [
       "<Figure size 432x288 with 1 Axes>"
      ]
     },
     "metadata": {
      "needs_background": "light"
     },
     "output_type": "display_data"
    }
   ],
   "source": [
    "# plot dataset and prediction with interval\n",
    "pyplot.scatter(x, y)\n",
    "pyplot.plot(x, yhat, color='red')\n",
    "pyplot.errorbar(x_in, yhat_out, yerr=interval, color='black', fmt='o')\n",
    "pyplot.show()"
   ]
  },
  {
   "cell_type": "code",
   "execution_count": null,
   "id": "basic-mills",
   "metadata": {},
   "outputs": [],
   "source": []
  },
  {
   "cell_type": "code",
   "execution_count": null,
   "id": "balanced-wrong",
   "metadata": {},
   "outputs": [],
   "source": []
  },
  {
   "cell_type": "code",
   "execution_count": null,
   "id": "aerial-slope",
   "metadata": {},
   "outputs": [],
   "source": []
  },
  {
   "cell_type": "code",
   "execution_count": 8,
   "id": "exciting-plaintiff",
   "metadata": {},
   "outputs": [],
   "source": [
    "import numpy as np\n",
    "import pandas as pd\n",
    "import matplotlib.pyplot as plt\n",
    "from keras.models import Sequential, load_model\n",
    "from keras.layers import LSTM, GRU, Dense, Dropout\n",
    "from keras.callbacks import EarlyStopping\n",
    "from sklearn.preprocessing import MinMaxScaler\n",
    "from sklearn.metrics import mean_squared_error\n",
    "from keras.preprocessing.sequence import TimeseriesGenerator\n",
    "import tensorflow as tf\n",
    "from keras.callbacks import EarlyStopping, ModelCheckpoint\n"
   ]
  },
  {
   "cell_type": "code",
   "execution_count": 9,
   "id": "earned-wichita",
   "metadata": {},
   "outputs": [
    {
     "data": {
      "text/plain": [
       "<tensorflow.python.keras.engine.sequential.Sequential at 0x24126adc400>"
      ]
     },
     "execution_count": 9,
     "metadata": {},
     "output_type": "execute_result"
    }
   ],
   "source": [
    "model_gru = load_model('GRU_infected_only_GRU_LSTM.h5')\n",
    "model_gru"
   ]
  },
  {
   "cell_type": "code",
   "execution_count": 10,
   "id": "cosmetic-bermuda",
   "metadata": {},
   "outputs": [
    {
     "name": "stdout",
     "output_type": "stream",
     "text": [
      "(611, 2)\n",
      "Date        datetime64[ns]\n",
      "Infected           float64\n",
      "dtype: object\n"
     ]
    },
    {
     "data": {
      "text/html": [
       "<div>\n",
       "<style scoped>\n",
       "    .dataframe tbody tr th:only-of-type {\n",
       "        vertical-align: middle;\n",
       "    }\n",
       "\n",
       "    .dataframe tbody tr th {\n",
       "        vertical-align: top;\n",
       "    }\n",
       "\n",
       "    .dataframe thead th {\n",
       "        text-align: right;\n",
       "    }\n",
       "</style>\n",
       "<table border=\"1\" class=\"dataframe\">\n",
       "  <thead>\n",
       "    <tr style=\"text-align: right;\">\n",
       "      <th></th>\n",
       "      <th>Date</th>\n",
       "      <th>Infected</th>\n",
       "    </tr>\n",
       "  </thead>\n",
       "  <tbody>\n",
       "    <tr>\n",
       "      <th>0</th>\n",
       "      <td>2020-01-16</td>\n",
       "      <td>1.0</td>\n",
       "    </tr>\n",
       "    <tr>\n",
       "      <th>1</th>\n",
       "      <td>2020-01-17</td>\n",
       "      <td>0.0</td>\n",
       "    </tr>\n",
       "    <tr>\n",
       "      <th>2</th>\n",
       "      <td>2020-01-18</td>\n",
       "      <td>0.0</td>\n",
       "    </tr>\n",
       "    <tr>\n",
       "      <th>3</th>\n",
       "      <td>2020-01-19</td>\n",
       "      <td>0.0</td>\n",
       "    </tr>\n",
       "    <tr>\n",
       "      <th>4</th>\n",
       "      <td>2020-01-20</td>\n",
       "      <td>0.0</td>\n",
       "    </tr>\n",
       "  </tbody>\n",
       "</table>\n",
       "</div>"
      ],
      "text/plain": [
       "        Date  Infected\n",
       "0 2020-01-16       1.0\n",
       "1 2020-01-17       0.0\n",
       "2 2020-01-18       0.0\n",
       "3 2020-01-19       0.0\n",
       "4 2020-01-20       0.0"
      ]
     },
     "execution_count": 10,
     "metadata": {},
     "output_type": "execute_result"
    }
   ],
   "source": [
    "df = pd.read_csv('../../seir/cov_datasets/pcr_positive_daily_Sep18.csv')\n",
    "df['Date'] = pd.to_datetime(df['Date'])\n",
    "print(df.shape)\n",
    "print(df.dtypes)\n",
    "df.head()"
   ]
  },
  {
   "cell_type": "code",
   "execution_count": 11,
   "id": "deluxe-hostel",
   "metadata": {},
   "outputs": [],
   "source": [
    "training_set = df['Infected'][:500].values.astype(int)\n",
    "test_set = df['Infected'][500:].values.astype(int)\n",
    "\n",
    "# Feature Scaling\n",
    "sc = MinMaxScaler(feature_range = (0, 1))\n",
    "training_set_scaled = sc.fit_transform(training_set.reshape(len(training_set), 1))\n",
    "testing_set_scaled = sc.fit_transform(test_set.reshape(len(test_set), 1))\n",
    "\n",
    "\n",
    "# Creating a data structure with 5 time-steps and 2 output\n",
    "X_train = []\n",
    "y_train = []\n",
    "\n",
    "X_test = []\n",
    "y_test = []\n"
   ]
  },
  {
   "cell_type": "code",
   "execution_count": 12,
   "id": "earlier-weight",
   "metadata": {},
   "outputs": [
    {
     "name": "stdout",
     "output_type": "stream",
     "text": [
      "(500, 1)\n",
      "(111, 1)\n"
     ]
    }
   ],
   "source": [
    "print(training_set_scaled.shape)\n",
    "print(testing_set_scaled.shape)"
   ]
  },
  {
   "cell_type": "markdown",
   "id": "grateful-runner",
   "metadata": {},
   "source": [
    "### Rescaling input before feeding to model"
   ]
  },
  {
   "cell_type": "code",
   "execution_count": 13,
   "id": "broke-moisture",
   "metadata": {},
   "outputs": [],
   "source": [
    "x_input = np.array([8793.0,7204.0,4161.0,6262, 6799, 5692, 5091, 4692, 3395, 2219, 1758, 3229, 3598, 2085])"
   ]
  },
  {
   "cell_type": "code",
   "execution_count": 14,
   "id": "transsexual-southeast",
   "metadata": {},
   "outputs": [],
   "source": [
    "n_steps_in = 14\n",
    "n_steps_out = 4"
   ]
  },
  {
   "cell_type": "code",
   "execution_count": 15,
   "id": "departmental-massage",
   "metadata": {},
   "outputs": [
    {
     "name": "stdout",
     "output_type": "stream",
     "text": [
      "(1, 14, 1)\n"
     ]
    }
   ],
   "source": [
    "#x_input = np.array(df['Infected'][-14:]) # the lastest 14 days\n",
    "x_input = sc.fit_transform(x_input.reshape(len(x_input), 1))\n",
    "x_input = x_input.reshape((1, n_steps_in, 1))\n",
    "print(x_input.shape)"
   ]
  },
  {
   "cell_type": "code",
   "execution_count": 16,
   "id": "simplified-knock",
   "metadata": {},
   "outputs": [],
   "source": [
    "y_pred2_gru = model_gru.predict(x_input)\n",
    "y_pred2_gru = sc.inverse_transform(y_pred2_gru) #revert scaling"
   ]
  },
  {
   "cell_type": "code",
   "execution_count": 17,
   "id": "engaging-stephen",
   "metadata": {},
   "outputs": [
    {
     "data": {
      "text/plain": [
       "(1, 4)"
      ]
     },
     "execution_count": 17,
     "metadata": {},
     "output_type": "execute_result"
    }
   ],
   "source": [
    "y_pred2_gru.shape"
   ]
  },
  {
   "cell_type": "code",
   "execution_count": 18,
   "id": "published-london",
   "metadata": {},
   "outputs": [
    {
     "data": {
      "text/plain": [
       "[<matplotlib.lines.Line2D at 0x2414b344dc0>]"
      ]
     },
     "execution_count": 18,
     "metadata": {},
     "output_type": "execute_result"
    },
    {
     "data": {
      "image/png": "[encoded data removed]",
      "text/plain": [
       "<Figure size 432x288 with 1 Axes>"
      ]
     },
     "metadata": {
      "needs_background": "light"
     },
     "output_type": "display_data"
    }
   ],
   "source": [
    "plt.plot(y_pred2_gru[0,:])"
   ]
  },
  {
   "cell_type": "code",
   "execution_count": 19,
   "id": "democratic-blackberry",
   "metadata": {},
   "outputs": [
    {
     "data": {
      "text/plain": [
       "14"
      ]
     },
     "execution_count": 19,
     "metadata": {},
     "output_type": "execute_result"
    }
   ],
   "source": [
    "x_input_raw = np.array([4161.0,6262, 6799, 5692, 5091, 4692, 3395, 2219, 1758, 3229, 3598, 2085, 2661, 2129])\n",
    "len(x_input_raw)"
   ]
  },
  {
   "cell_type": "code",
   "execution_count": 20,
   "id": "formal-symphony",
   "metadata": {},
   "outputs": [
    {
     "data": {
      "text/plain": [
       "18"
      ]
     },
     "execution_count": 20,
     "metadata": {},
     "output_type": "execute_result"
    }
   ],
   "source": [
    "time_range = pd.date_range(start='2021-09-13', end='2021-09-30')\n",
    "len(time_range)"
   ]
  },
  {
   "cell_type": "code",
   "execution_count": 21,
   "id": "incredible-biodiversity",
   "metadata": {},
   "outputs": [
    {
     "data": {
      "image/png": "[encoded data removed]",
      "text/plain": [
       "<Figure size 1600x480 with 1 Axes>"
      ]
     },
     "metadata": {
      "needs_background": "light"
     },
     "output_type": "display_data"
    }
   ],
   "source": [
    "from matplotlib.pyplot import figure\n",
    "figure(figsize=(20, 6), dpi=80)\n",
    "\n",
    "len_x_input = len(x_input_raw)\n",
    "plt.plot(time_range[:14],x_input_raw, label='Observed')\n",
    "plt.plot(time_range[14:], y_pred2_gru[0,:], label='GRU_predicted')\n",
    "\n",
    "plt.title('GRU COVID-19 daily infected cases \\nin Japan out-of-sample prediction ')\n",
    "plt.xticks(time_range,rotation=45)\n",
    "plt.legend()\n",
    "plt.show()\n"
   ]
  },
  {
   "cell_type": "code",
   "execution_count": null,
   "id": "handy-steal",
   "metadata": {},
   "outputs": [],
   "source": []
  }
 ],
 "metadata": {
  "kernelspec": {
   "display_name": "Python 3",
   "language": "python",
   "name": "python3"
  },
  "language_info": {
   "codemirror_mode": {
    "name": "ipython",
    "version": 3
   },
   "file_extension": ".py",
   "mimetype": "text/x-python",
   "name": "python",
   "nbconvert_exporter": "python",
   "pygments_lexer": "ipython3",
   "version": "3.8.5"
  }
 },
 "nbformat": 4,
 "nbformat_minor": 5
}
