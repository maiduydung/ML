{
 "cells": [
  {
   "cell_type": "markdown",
   "metadata": {},
   "source": [
    "### AI-04 Practice 1  \n",
    "#### Sample notebook for multiple linear regression (MLR) \n",
    "線形重回帰分析の手順例  "
   ]
  },
  {
   "cell_type": "markdown",
   "metadata": {},
   "source": [
    "#### Import libraries  "
   ]
  },
  {
   "cell_type": "code",
   "execution_count": null,
   "metadata": {},
   "outputs": [],
   "source": [
    "import sys\n",
    "import numpy as np\n",
    "import pandas as pd\n",
    "from pandas.plotting import scatter_matrix\n",
    "import seaborn as sns\n",
    "import matplotlib.pyplot as plt\n",
    "from sklearn import preprocessing\n",
    "import statsmodels.api as sm\n",
    "import statsmodels.formula.api as smf"
   ]
  },
  {
   "cell_type": "markdown",
   "metadata": {},
   "source": [
    "#### Import my libraries"
   ]
  },
  {
   "cell_type": "code",
   "execution_count": null,
   "metadata": {},
   "outputs": [],
   "source": [
    "my_libs_dir = '../'\n",
    "if not my_libs_dir in sys.path:\n",
    "    sys.path.append(my_libs_dir)  # add the path to my_lib directory \n",
    "\n",
    "# The following lines are needed to auto-reload my library file\n",
    "# Without these lines, my library file is read only once and\n",
    "# modifications of my library file are not reflected.\n",
    "%load_ext autoreload\n",
    "%autoreload 1\n",
    "%aimport my_libs.linear_reg\n",
    "# import from my library file\n",
    "from my_libs.linear_reg import step_aic_forward, calc_vifs"
   ]
  },
  {
   "cell_type": "markdown",
   "metadata": {},
   "source": [
    "#### Parameters"
   ]
  },
  {
   "cell_type": "code",
   "execution_count": null,
   "metadata": {},
   "outputs": [],
   "source": [
    "%config InlineBackend.figure_formats = {'png', 'retina'}  # for high-reso graph\n",
    "plt.rcParams['font.family'] = 'Yu Mincho' # for Japanese in graph (Win10)\n",
    "\n",
    "# To show all rows and columns in the results \n",
    "pd.options.display.max_rows = 999\n",
    "pd.options.display.max_columns = 999"
   ]
  },
  {
   "cell_type": "markdown",
   "metadata": {},
   "source": [
    "#### Step 1. Collect possible explanatory variables  \n",
    "目的変数に影響を与えていそうな要因は、可能な限り網羅的に説明変数に取り入れる。  "
   ]
  },
  {
   "cell_type": "markdown",
   "metadata": {},
   "source": [
    "##### Check & read CSV file, replace column labels if needed, etc.  \n",
    "encoding='shift-jis' may be needed.    \n",
    "CSVファイルをチェックしてから読み込む。必要に応じて列ラベルを変更。  \n",
    "CSVファイルの漢字コードがShift-JISの場合は encoding='shift-jis' が必要。　　"
   ]
  },
  {
   "cell_type": "code",
   "execution_count": null,
   "metadata": {},
   "outputs": [],
   "source": [
    "csv_in = 'infection1.csv'\n",
    "#df_all = pd.read_csv(csv_in, delimiter=',', skiprows=0, header=None)\n",
    "df_all = pd.read_csv(csv_in, delimiter=',', skiprows=0, header=0)\n",
    "# no header in csv, so set columns explicitly\n",
    "#df_all.columns = ['sex', 'len', 'd', 'h', 'w_all', 'w_meat', 'w_gut', 'w_shell', 'ring']\n",
    "print(df_all.shape)\n",
    "print(df_all.info())\n",
    "display(df_all.head())"
   ]
  },
  {
   "cell_type": "markdown",
   "metadata": {},
   "source": [
    "**Ans1. 100**  "
   ]
  },
  {
   "cell_type": "markdown",
   "metadata": {},
   "source": [
    "##### Check numerical / category variables if needed  \n",
    "数値列・カテゴリー列の様子をみる  "
   ]
  },
  {
   "cell_type": "code",
   "execution_count": null,
   "metadata": {},
   "outputs": [],
   "source": [
    "display(df_all.describe())\n",
    "#display(df_all.describe(exclude='number'))"
   ]
  },
  {
   "cell_type": "markdown",
   "metadata": {},
   "source": [
    "##### See rows including missing data  \n",
    "欠損値を含む行を表示してみる  "
   ]
  },
  {
   "cell_type": "code",
   "execution_count": null,
   "metadata": {},
   "outputs": [],
   "source": [
    "#display(df_all[df_all.isnull().any(axis=1)])"
   ]
  },
  {
   "cell_type": "markdown",
   "metadata": {},
   "source": [
    "##### Delete rows including missing data, or fill missing data  \n",
    "欠損値を含む行を削除する (または欠損値を埋める)  "
   ]
  },
  {
   "cell_type": "code",
   "execution_count": null,
   "metadata": {},
   "outputs": [],
   "source": [
    "#df_all = df_all.dropna().reset_index(drop=True)\n",
    "##df_all = df_all.fillna(df_all.mean()) # if you want to fill missing data instead of deleting them\n",
    "#print(df_all.shape)\n",
    "#display(df_all.head())"
   ]
  },
  {
   "cell_type": "markdown",
   "metadata": {},
   "source": [
    "##### Separate explanatory variables and objective variable  \n",
    "説明変数と目的変数を分ける  "
   ]
  },
  {
   "cell_type": "code",
   "execution_count": null,
   "metadata": {},
   "outputs": [],
   "source": [
    "X_all_org = df_all.loc[:, 'marker1':'marker5']  # explanatory variables\n",
    "y = df_all['severity']  # objective variable\n",
    "print('X_all_org:', X_all_org.shape)\n",
    "display(X_all_org.head())\n",
    "print('y:', y.shape)\n",
    "print(y.head())"
   ]
  },
  {
   "cell_type": "markdown",
   "metadata": {},
   "source": [
    "##### Apply get_dummies()  \n",
    "ダミー変数化  "
   ]
  },
  {
   "cell_type": "code",
   "execution_count": null,
   "metadata": {},
   "outputs": [],
   "source": [
    "#X_all = pd.get_dummies(X_all_org, drop_first=True)\n",
    "X_all = X_all_org.copy()\n",
    "#print('X_all:', X_all.shape)\n",
    "#display(X_all.head())"
   ]
  },
  {
   "cell_type": "markdown",
   "metadata": {},
   "source": [
    "#### Step 2. Scatter plot and correlation coefficients between all combination of explanatory variables  \n",
    "変数間の総当たり散布図を描画。相関係数も算出しておく  "
   ]
  },
  {
   "cell_type": "markdown",
   "metadata": {},
   "source": [
    "##### all by all Pearson correlation coefficients;  \n",
    "総当たりのPearson相関係数  "
   ]
  },
  {
   "cell_type": "code",
   "execution_count": null,
   "metadata": {},
   "outputs": [],
   "source": [
    "corr_all = X_all.corr(method='pearson')\n",
    "display(corr_all)"
   ]
  },
  {
   "cell_type": "markdown",
   "metadata": {},
   "source": [
    "##### Pickup explanatory variable pairs with large absolute value of correlation coefficient;  \n",
    "相関係数の絶対値が大きい説明変数ペアの出力   \n",
    "\n",
    "Method 1. Straight forward method  "
   ]
  },
  {
   "cell_type": "code",
   "execution_count": null,
   "metadata": {},
   "outputs": [],
   "source": [
    "th_corr = 0.3\n",
    "n_X = corr_all.shape[0]\n",
    "corr_large = []\n",
    "for i in range(n_X):\n",
    "    for j in range(i+1, n_X):\n",
    "        cc1 = corr_all.iat[i,j]\n",
    "        if cc1 < -th_corr or cc1 > th_corr:\n",
    "            corr_large.append([corr_all.columns[i], corr_all.columns[j], cc1])\n",
    "corr_large.sort(reverse=True, key=lambda x: abs(x[2]))\n",
    "display(corr_large)"
   ]
  },
  {
   "cell_type": "markdown",
   "metadata": {},
   "source": [
    "Method 2. Rather tricky method ...  "
   ]
  },
  {
   "cell_type": "code",
   "execution_count": null,
   "metadata": {},
   "outputs": [],
   "source": [
    "th_corr = 0.3\n",
    "keep = np.triu(np.ones(corr_all.shape), k=1).astype('bool').flatten()\n",
    "#print(np.ones(corr_all.shape))  # debug\n",
    "#print(np.triu(np.ones(corr_all.shape), k=1))  # debug\n",
    "#print(np.triu(np.ones(corr_all.shape), k=1).astype('bool'))  # debug\n",
    "#print(keep)  # debug\n",
    "triu = corr_all.stack()[keep]\n",
    "#print(corr_all.stack())  # debug\n",
    "triu_sorted = triu[ np.abs(triu).sort_values(ascending=False).index ]\n",
    "#print(np.abs(triu).sort_values(ascending=False))  # debug\n",
    "#print(np.abs(triu).sort_values(ascending=False).index)  # debug\n",
    "print(triu_sorted[ (triu_sorted < -th_corr) | (triu_sorted > th_corr) ])"
   ]
  },
  {
   "cell_type": "markdown",
   "metadata": {},
   "source": [
    "##### all by all scatter plots of explanatory variables;  \n",
    "変数間の総当たり散布図  "
   ]
  },
  {
   "cell_type": "code",
   "execution_count": null,
   "metadata": {},
   "outputs": [],
   "source": [
    "#scatter_matrix(X_all, figsize=(30,30))\n",
    "#plt.show()"
   ]
  },
  {
   "cell_type": "markdown",
   "metadata": {},
   "source": [
    "##### if you want to use seaborn instead of matplotlib\n",
    "seabornを使うなら  "
   ]
  },
  {
   "cell_type": "code",
   "execution_count": null,
   "metadata": {},
   "outputs": [],
   "source": [
    "sns.pairplot(X_all)\n",
    "plt.show()"
   ]
  },
  {
   "cell_type": "markdown",
   "metadata": {},
   "source": [
    "##### Heatmap  \n",
    "Heatmapを描いてもよい  "
   ]
  },
  {
   "cell_type": "code",
   "execution_count": null,
   "metadata": {},
   "outputs": [],
   "source": [
    "plt.figure(figsize=(10,10))\n",
    "sns.heatmap(corr_all,annot=True,fmt='.2f',cmap='bwr')\n",
    "plt.show()"
   ]
  },
  {
   "cell_type": "markdown",
   "metadata": {},
   "source": [
    "#### Step 3. MLR calculation using all variables  \n",
    "全説明変数を用いて、標準化なしで線形重回帰分析  "
   ]
  },
  {
   "cell_type": "code",
   "execution_count": null,
   "metadata": {},
   "outputs": [],
   "source": [
    "X_all_c = sm.add_constant(X_all)\n",
    "model = sm.OLS(y, X_all_c)\n",
    "results = model.fit()\n",
    "print(results.summary())"
   ]
  },
  {
   "cell_type": "code",
   "execution_count": null,
   "metadata": {},
   "outputs": [],
   "source": [
    "#help(results)\n",
    "#print(dir(results))  # To know all methods/attributes of an object"
   ]
  },
  {
   "cell_type": "markdown",
   "metadata": {},
   "source": [
    "#### Step 4. Check R2 and Adjusted R2 to see whether MLR is appropriate for this data  \n",
    "決定係数や自由度調整済み決定係数をみて、そもそも線形モデルの当てはめが妥当かどうかを判断  "
   ]
  },
  {
   "cell_type": "code",
   "execution_count": null,
   "metadata": {},
   "outputs": [],
   "source": [
    "print('R2:', results.rsquared)\n",
    "print('Adj R2:', results.rsquared_adj)"
   ]
  },
  {
   "cell_type": "markdown",
   "metadata": {},
   "source": [
    "Rather good ...  \n",
    "\n",
    "**Ans2. 0.82**  "
   ]
  },
  {
   "cell_type": "markdown",
   "metadata": {},
   "source": [
    "#### Step 5. Stat. test for MLR equation  \n",
    "重回帰式の検定 (求めた重回帰式は目的変数を説明している？)  "
   ]
  },
  {
   "cell_type": "code",
   "execution_count": null,
   "metadata": {},
   "outputs": [],
   "source": [
    "print('p-values (F-statistic)', results.f_pvalue)"
   ]
  },
  {
   "cell_type": "markdown",
   "metadata": {},
   "source": [
    "Very small p-value, so this MLR equation is considered to be significant.  "
   ]
  },
  {
   "cell_type": "markdown",
   "metadata": {},
   "source": [
    "#### Step 6. Standardization of variables  \n",
    "Compare coefficients for explanatory variables  \n",
    "全説明変数と目的変数を標準化して線形重回帰分析  \n",
    "標準化偏回帰係数を比較　　"
   ]
  },
  {
   "cell_type": "code",
   "execution_count": null,
   "metadata": {},
   "outputs": [],
   "source": [
    "# NOTE: after scaling, X_scaled and Y_scaled are ndarray, not DataFrame.\n",
    "X_scaled = preprocessing.scale(X_all)\n",
    "y_scaled = preprocessing.scale(y)\n",
    "model = sm.OLS(y_scaled, X_scaled)\n",
    "results = model.fit()\n",
    "print(results.summary())"
   ]
  },
  {
   "cell_type": "markdown",
   "metadata": {},
   "source": [
    "#### Step 7.　Feature selection  \n",
    "変数選択  "
   ]
  },
  {
   "cell_type": "code",
   "execution_count": null,
   "metadata": {},
   "outputs": [],
   "source": [
    "# NOTE: make DataFrames corresponding to X_scaled and y_scaled.\n",
    "dfX_scaled = pd.DataFrame(X_scaled, columns=X_all.columns)\n",
    "dfy_scaled = pd.Series(y_scaled, name=y.name)\n",
    "exog = list(dfX_scaled.columns)  # Initial set = all explanatory variables\n",
    "endog = [dfy_scaled.name]  # Objective variables\n",
    "df_scaled = pd.concat([dfX_scaled, dfy_scaled], axis=1)"
   ]
  },
  {
   "cell_type": "markdown",
   "metadata": {},
   "source": [
    "##### by forward selection method based on AIC  \n",
    "変数増加法による変数選択  "
   ]
  },
  {
   "cell_type": "code",
   "execution_count": null,
   "metadata": {},
   "outputs": [],
   "source": [
    "results_aic=step_aic_forward(smf.ols, exog, endog, data=df_scaled)"
   ]
  },
  {
   "cell_type": "code",
   "execution_count": null,
   "metadata": {},
   "outputs": [],
   "source": [
    "print(results_aic.aic)\n",
    "print(results_aic.model.exog_names)\n",
    "print(results_aic.model.endog_names)"
   ]
  },
  {
   "cell_type": "markdown",
   "metadata": {},
   "source": [
    "#### Step 8. Check of multicolinearity (VIF checkup)  \n",
    "マルチコのチェック  \n",
    "\n",
    "- Iteration of Variable selection (selected_cols) <-> Check VIF  \n",
    "until all VIFs < 10.  \n",
    "- NOTE: standardization of variables does not affect the results   \n",
    "\n",
    "Format of results of statsmodels:\n",
    "https://www.statsmodels.org/dev/generated/statsmodels.regression.linear_model.RegressionResults.html  "
   ]
  },
  {
   "cell_type": "code",
   "execution_count": null,
   "metadata": {},
   "outputs": [],
   "source": [
    "endogs = results_aic.model.endog_names\n",
    "exogs = results_aic.model.exog_names.copy()\n",
    "exogs.remove('Intercept')\n",
    "print(exogs)  # debug\n",
    "X_c = sm.add_constant(X_all[exogs])\n",
    "vifs = calc_vifs(X_c, y)\n",
    "display(vifs)"
   ]
  },
  {
   "cell_type": "markdown",
   "metadata": {},
   "source": [
    "How to eliminate multicolinearity is case by case.  \n",
    "Here we simply delete an explanatory variable with high VIF.  "
   ]
  },
  {
   "cell_type": "code",
   "execution_count": null,
   "metadata": {},
   "outputs": [],
   "source": [
    "exogs.remove('marker5')\n",
    "print(exogs)  # debug\n",
    "X_c = sm.add_constant(X_all[exogs])\n",
    "vifs = calc_vifs(X_c, y)\n",
    "display(vifs)"
   ]
  },
  {
   "cell_type": "markdown",
   "metadata": {},
   "source": [
    "For all explantory variables, VIF < 10, so we can go forward.  "
   ]
  },
  {
   "cell_type": "markdown",
   "metadata": {},
   "source": [
    "#### Step 9. Estimate the magnitude of the influence of each explanatory variable on the objective variable  \n",
    "最終的に得られた標準化偏回帰係数から、各説明変数の目的変数に対する影響の大きさがわかる  "
   ]
  },
  {
   "cell_type": "code",
   "execution_count": null,
   "metadata": {},
   "outputs": [],
   "source": [
    "X_final_scaled = dfX_scaled[exogs]\n",
    "model_final_scaled = sm.OLS(y_scaled, X_final_scaled)\n",
    "results_final_scaled = model_final_scaled.fit()\n",
    "print(results_final_scaled.summary())"
   ]
  },
  {
   "cell_type": "code",
   "execution_count": null,
   "metadata": {},
   "outputs": [],
   "source": [
    "print(results_final_scaled.params)"
   ]
  },
  {
   "cell_type": "markdown",
   "metadata": {},
   "source": [
    "The order of strengths of influences on objective variables:  \n",
    "**Ans3.**  \n",
    "    **marker3 (negative) > marker4 (positive) > marker2 (positive) > marker1 (negative)**  \n",
    "（これが、目的変数severityに対する各説明変数(markerX)の影響の大きさ順）"
   ]
  },
  {
   "cell_type": "markdown",
   "metadata": {},
   "source": [
    "#### Step 10. Stat. test for MLR equation  \n",
    "重回帰式の検定 (求めた重回帰式は目的変数を説明している？)  "
   ]
  },
  {
   "cell_type": "code",
   "execution_count": null,
   "metadata": {},
   "outputs": [],
   "source": [
    "print('p-values (F-statistic)', results_final_scaled.f_pvalue)"
   ]
  },
  {
   "cell_type": "markdown",
   "metadata": {},
   "source": [
    "Very small p-value, so this MLR equation is considered to be significant.  "
   ]
  },
  {
   "cell_type": "markdown",
   "metadata": {},
   "source": [
    "#### Step 11. MLR calculation using selected explanatory variables  \n",
    "選択された説明変数を用いて、標準化なしで線形重回帰分析 "
   ]
  },
  {
   "cell_type": "code",
   "execution_count": null,
   "metadata": {},
   "outputs": [],
   "source": [
    "X_final_c = sm.add_constant(X_all[exogs])\n",
    "model_final = sm.OLS(y, X_final_c)\n",
    "results_final = model_final.fit()\n",
    "print(results_final.summary())"
   ]
  },
  {
   "cell_type": "markdown",
   "metadata": {},
   "source": [
    "#### Step 12. Check R2 and Adjusted R2  \n",
    "決定係数や自由度調整済み決定係数をみて、線形モデルの当てはまりの良さをチェック  "
   ]
  },
  {
   "cell_type": "code",
   "execution_count": null,
   "metadata": {},
   "outputs": [],
   "source": [
    "print('R2:', results_final.rsquared)\n",
    "print('Adj R2:', results_final.rsquared_adj)"
   ]
  },
  {
   "cell_type": "markdown",
   "metadata": {},
   "source": [
    "The fit of \"the best model\" is not good ...\n",
    "\n",
    "**Ans4. 0.82**  "
   ]
  },
  {
   "cell_type": "markdown",
   "metadata": {},
   "source": [
    "#### Step 13. partial regression coefficients  \n",
    "最終的に得られた偏回帰係数から、「各説明変数が1増えたときの目的変数の増分」がわかる。  "
   ]
  },
  {
   "cell_type": "code",
   "execution_count": null,
   "metadata": {},
   "outputs": [],
   "source": [
    "print(results_final.params)"
   ]
  },
  {
   "cell_type": "markdown",
   "metadata": {},
   "source": [
    "Coefficients of MLR;  \n",
    "Increment of objective variable when corresponding variable is increased by 1  \n",
    "and other variables are not changed  "
   ]
  },
  {
   "cell_type": "markdown",
   "metadata": {},
   "source": [
    "#### Obtained best model:\n",
    "**Ans5. severity $\\sim$ 5.29 + (-0.38) * marker3 + 0.24 * marker4 + (0.32) * marker2 + (-0.29) * marker1**  \n",
    "\n",
    "**Ans6. 0.32**"
   ]
  },
  {
   "cell_type": "code",
   "execution_count": null,
   "metadata": {},
   "outputs": [],
   "source": []
  }
 ],
 "metadata": {
  "kernelspec": {
   "display_name": "Python 3",
   "language": "python",
   "name": "python3"
  },
  "language_info": {
   "codemirror_mode": {
    "name": "ipython",
    "version": 3
   },
   "file_extension": ".py",
   "mimetype": "text/x-python",
   "name": "python",
   "nbconvert_exporter": "python",
   "pygments_lexer": "ipython3",
   "version": "3.8.8"
  }
 },
 "nbformat": 4,
 "nbformat_minor": 4
}
