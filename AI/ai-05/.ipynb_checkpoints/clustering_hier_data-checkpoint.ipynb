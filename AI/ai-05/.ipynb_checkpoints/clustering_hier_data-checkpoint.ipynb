{
 "cells": [
  {
   "cell_type": "markdown",
   "metadata": {},
   "source": [
    "### Hierarchical clustering (input: data)  "
   ]
  },
  {
   "cell_type": "markdown",
   "metadata": {},
   "source": [
    "#### Import libraries  "
   ]
  },
  {
   "cell_type": "code",
   "execution_count": null,
   "metadata": {},
   "outputs": [],
   "source": [
    "import numpy as np\n",
    "import pandas as pd\n",
    "import matplotlib.pyplot as plt\n",
    "from scipy.cluster.hierarchy import linkage, dendrogram, fcluster"
   ]
  },
  {
   "cell_type": "markdown",
   "metadata": {},
   "source": [
    "#### Parameters  "
   ]
  },
  {
   "cell_type": "code",
   "execution_count": null,
   "metadata": {},
   "outputs": [],
   "source": [
    "csv_in = '../ai-0102/pandas_training-utf8.csv'\n",
    "\n",
    "# To show more rows and columns\n",
    "pd.options.display.max_rows = 999 \n",
    "pd.options.display.max_columns = 999 "
   ]
  },
  {
   "cell_type": "markdown",
   "metadata": {},
   "source": [
    "#### Read CSV file  "
   ]
  },
  {
   "cell_type": "code",
   "execution_count": null,
   "metadata": {},
   "outputs": [],
   "source": [
    "df = pd.read_csv(csv_in, delimiter=',', skiprows=13, header=0)\n",
    "print(df.shape)\n",
    "print(df.info())\n",
    "display(df.head())"
   ]
  },
  {
   "cell_type": "markdown",
   "metadata": {},
   "source": [
    "#### Separate data  "
   ]
  },
  {
   "cell_type": "code",
   "execution_count": null,
   "metadata": {},
   "outputs": [],
   "source": [
    "df_data = df.loc[:, 'FRESH':]\n",
    "print(df_data.shape)\n",
    "display(df_data.head())\n",
    "customers = df_data.index"
   ]
  },
  {
   "cell_type": "markdown",
   "metadata": {},
   "source": [
    "#### Execute clustering  "
   ]
  },
  {
   "cell_type": "code",
   "execution_count": null,
   "metadata": {},
   "outputs": [],
   "source": [
    "Z = linkage(df_data, method='ward', metric='euclidean')\n",
    "n_data = Z.shape[0]\n",
    "df_Z = pd.DataFrame(Z,\n",
    "                    columns=['label1', 'label2',\n",
    "                             'distance', '#members'],\n",
    "                    index=['merged{}'.format(i+1+n_data) \n",
    "                           for i in range(n_data)])\n",
    "df_Z['label1'] = df_Z['label1'].astype('int')\n",
    "df_Z['label2'] = df_Z['label2'].astype('int')\n",
    "df_Z['#members'] = df_Z['#members'].astype('int')\n",
    "display(df_Z.head())\n",
    "display(df_Z.tail())"
   ]
  },
  {
   "cell_type": "markdown",
   "metadata": {},
   "source": [
    "#### Draw dendgrogram  "
   ]
  },
  {
   "cell_type": "code",
   "execution_count": null,
   "metadata": {},
   "outputs": [],
   "source": [
    "dendr = dendrogram(Z, labels=customers)\n",
    "plt.xticks(rotation=90)\n",
    "plt.ylabel('Euclidean')\n",
    "plt.show()"
   ]
  },
  {
   "cell_type": "markdown",
   "metadata": {},
   "source": [
    "#### Get results of clustering  "
   ]
  },
  {
   "cell_type": "code",
   "execution_count": null,
   "metadata": {},
   "outputs": [],
   "source": [
    "dist = df_Z['distance']\n",
    "n_clusters = 2\n",
    "print('=== n_clusters:', n_clusters, '===')\n",
    "cls = pd.Series(fcluster(Z, n_clusters, criterion='maxclust'), index=customers)\n",
    "print('dist:', dist[n_data-n_clusters])\n",
    "print(cls.head())"
   ]
  },
  {
   "cell_type": "markdown",
   "metadata": {},
   "source": [
    "#### Make cross table  "
   ]
  },
  {
   "cell_type": "code",
   "execution_count": null,
   "metadata": {},
   "outputs": [],
   "source": [
    "ct = pd.crosstab(df['CHANNEL'], cls)\n",
    "display(ct)"
   ]
  },
  {
   "cell_type": "code",
   "execution_count": null,
   "metadata": {},
   "outputs": [],
   "source": []
  }
 ],
 "metadata": {
  "anaconda-cloud": {},
  "kernelspec": {
   "display_name": "Python 3",
   "language": "python",
   "name": "python3"
  },
  "language_info": {
   "codemirror_mode": {
    "name": "ipython",
    "version": 3
   },
   "file_extension": ".py",
   "mimetype": "text/x-python",
   "name": "python",
   "nbconvert_exporter": "python",
   "pygments_lexer": "ipython3",
   "version": "3.8.8"
  }
 },
 "nbformat": 4,
 "nbformat_minor": 4
}
