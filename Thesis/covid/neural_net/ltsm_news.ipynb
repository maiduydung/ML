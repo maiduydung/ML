{
 "cells": [
  {
   "cell_type": "markdown",
   "id": "baking-hacker",
   "metadata": {},
   "source": [
    "### Using news and daily infected\n",
    "\n",
    "#### No scaling"
   ]
  },
  {
   "cell_type": "code",
   "execution_count": 23,
   "id": "precise-claim",
   "metadata": {},
   "outputs": [],
   "source": [
    "import numpy as np\n",
    "import pandas as pd\n",
    "import matplotlib.pyplot as plt\n",
    "from keras.models import Sequential\n",
    "from keras.layers import LSTM, Dense, Dropout\n",
    "from sklearn.preprocessing import MinMaxScaler\n",
    "from sklearn.metrics import mean_squared_error\n",
    "from keras.preprocessing.sequence import TimeseriesGenerator\n",
    "import tensorflow as tf\n",
    "\n",
    "import random\n"
   ]
  },
  {
   "cell_type": "code",
   "execution_count": 24,
   "id": "earned-paste",
   "metadata": {},
   "outputs": [
    {
     "name": "stdout",
     "output_type": "stream",
     "text": [
      "(1299, 3)\n",
      "Date        datetime64[ns]\n",
      "Infected           float64\n",
      "Score              float64\n",
      "dtype: object\n"
     ]
    },
    {
     "data": {
      "text/html": [
       "<div>\n",
       "<style scoped>\n",
       "    .dataframe tbody tr th:only-of-type {\n",
       "        vertical-align: middle;\n",
       "    }\n",
       "\n",
       "    .dataframe tbody tr th {\n",
       "        vertical-align: top;\n",
       "    }\n",
       "\n",
       "    .dataframe thead th {\n",
       "        text-align: right;\n",
       "    }\n",
       "</style>\n",
       "<table border=\"1\" class=\"dataframe\">\n",
       "  <thead>\n",
       "    <tr style=\"text-align: right;\">\n",
       "      <th></th>\n",
       "      <th>Date</th>\n",
       "      <th>Infected</th>\n",
       "      <th>Score</th>\n",
       "    </tr>\n",
       "  </thead>\n",
       "  <tbody>\n",
       "    <tr>\n",
       "      <th>0</th>\n",
       "      <td>2020-08-31</td>\n",
       "      <td>430.0</td>\n",
       "      <td>0.0</td>\n",
       "    </tr>\n",
       "    <tr>\n",
       "      <th>1</th>\n",
       "      <td>2020-08-31</td>\n",
       "      <td>430.0</td>\n",
       "      <td>0.0</td>\n",
       "    </tr>\n",
       "    <tr>\n",
       "      <th>2</th>\n",
       "      <td>2020-08-31</td>\n",
       "      <td>430.0</td>\n",
       "      <td>0.0</td>\n",
       "    </tr>\n",
       "    <tr>\n",
       "      <th>3</th>\n",
       "      <td>2020-08-31</td>\n",
       "      <td>430.0</td>\n",
       "      <td>1.0</td>\n",
       "    </tr>\n",
       "    <tr>\n",
       "      <th>4</th>\n",
       "      <td>2020-09-01</td>\n",
       "      <td>624.0</td>\n",
       "      <td>0.0</td>\n",
       "    </tr>\n",
       "  </tbody>\n",
       "</table>\n",
       "</div>"
      ],
      "text/plain": [
       "        Date  Infected  Score\n",
       "0 2020-08-31     430.0    0.0\n",
       "1 2020-08-31     430.0    0.0\n",
       "2 2020-08-31     430.0    0.0\n",
       "3 2020-08-31     430.0    1.0\n",
       "4 2020-09-01     624.0    0.0"
      ]
     },
     "execution_count": 24,
     "metadata": {},
     "output_type": "execute_result"
    }
   ],
   "source": [
    "df = pd.read_csv('df_infected_news.csv')\n",
    "df.rename(columns={\"Unnamed: 0\": \"Date\",\"binary_score (1:good   0: bad)\": \"Score\"}, inplace=True)\n",
    "#df['Score'] = df['Score'].values.astype(int)\n",
    "df = df.dropna()\n",
    "df['Date'] = pd.to_datetime(df['Date'])\n",
    "print(df.shape)\n",
    "print(df.dtypes)\n",
    "df.head()"
   ]
  },
  {
   "cell_type": "code",
   "execution_count": 25,
   "id": "speaking-chocolate",
   "metadata": {},
   "outputs": [
    {
     "data": {
      "text/plain": [
       "(array([0., 1.]), array([1072,  227], dtype=int64))"
      ]
     },
     "execution_count": 25,
     "metadata": {},
     "output_type": "execute_result"
    }
   ],
   "source": [
    "np.unique(df['Score'], return_counts = True)"
   ]
  },
  {
   "cell_type": "code",
   "execution_count": 26,
   "id": "arbitrary-relief",
   "metadata": {},
   "outputs": [
    {
     "data": {
      "text/plain": [
       "(array([1072.,    0.,    0.,    0.,    0.,    0.,    0.,    0.,    0.,\n",
       "         227.]),\n",
       " array([0. , 0.1, 0.2, 0.3, 0.4, 0.5, 0.6, 0.7, 0.8, 0.9, 1. ]),\n",
       " <BarContainer object of 10 artists>)"
      ]
     },
     "execution_count": 26,
     "metadata": {},
     "output_type": "execute_result"
    },
    {
     "data": {
      "image/png": "[encoded data removed]",
      "text/plain": [
       "<Figure size 432x288 with 1 Axes>"
      ]
     },
     "metadata": {
      "needs_background": "light"
     },
     "output_type": "display_data"
    }
   ],
   "source": [
    "plt.hist(df['Score'])"
   ]
  },
  {
   "cell_type": "raw",
   "id": "frozen-count",
   "metadata": {},
   "source": [
    "def custom_rating(genre,rating):\n",
    "    if 'Thriller' in genre:\n",
    "        return min(10,rating+1)\n",
    "    elif 'Comedy' in genre:\n",
    "        return max(0,rating-1)\n",
    "    else:\n",
    "        return rating\n",
    "        \n",
    "df['CustomRating'] = df.apply(lambda x: custom_rating(x['Genre'],x['Rating']),axis=1)\n"
   ]
  },
  {
   "cell_type": "code",
   "execution_count": 27,
   "id": "intimate-nylon",
   "metadata": {},
   "outputs": [],
   "source": [
    "def rand_score(score):\n",
    "    if score == 0: \n",
    "        return random.randint(1,5) #inclusive\n",
    "    else: \n",
    "        return random.randint(6,10)\n",
    "    "
   ]
  },
  {
   "cell_type": "code",
   "execution_count": 28,
   "id": "abandoned-incidence",
   "metadata": {},
   "outputs": [],
   "source": [
    "temp_arr = []\n",
    "for score in df['Score']:\n",
    "    temp_arr.append(rand_score(score)*1000) #scaling to avoid gradient explosion"
   ]
  },
  {
   "cell_type": "code",
   "execution_count": 29,
   "id": "latest-bulletin",
   "metadata": {},
   "outputs": [],
   "source": [
    "df['Decimal score'] = temp_arr"
   ]
  },
  {
   "cell_type": "code",
   "execution_count": 45,
   "id": "contrary-flour",
   "metadata": {},
   "outputs": [],
   "source": [
    "df.to_csv('df_infected_news_decimal_scaled.csv', index = False)"
   ]
  },
  {
   "cell_type": "code",
   "execution_count": 46,
   "id": "worst-artwork",
   "metadata": {},
   "outputs": [
    {
     "data": {
      "text/html": [
       "<div>\n",
       "<style scoped>\n",
       "    .dataframe tbody tr th:only-of-type {\n",
       "        vertical-align: middle;\n",
       "    }\n",
       "\n",
       "    .dataframe tbody tr th {\n",
       "        vertical-align: top;\n",
       "    }\n",
       "\n",
       "    .dataframe thead th {\n",
       "        text-align: right;\n",
       "    }\n",
       "</style>\n",
       "<table border=\"1\" class=\"dataframe\">\n",
       "  <thead>\n",
       "    <tr style=\"text-align: right;\">\n",
       "      <th></th>\n",
       "      <th>Date</th>\n",
       "      <th>Infected</th>\n",
       "      <th>Score</th>\n",
       "      <th>Decimal score</th>\n",
       "    </tr>\n",
       "  </thead>\n",
       "  <tbody>\n",
       "    <tr>\n",
       "      <th>0</th>\n",
       "      <td>2020-08-31</td>\n",
       "      <td>430.0</td>\n",
       "      <td>0.0</td>\n",
       "      <td>3000</td>\n",
       "    </tr>\n",
       "    <tr>\n",
       "      <th>1</th>\n",
       "      <td>2020-08-31</td>\n",
       "      <td>430.0</td>\n",
       "      <td>0.0</td>\n",
       "      <td>1000</td>\n",
       "    </tr>\n",
       "    <tr>\n",
       "      <th>2</th>\n",
       "      <td>2020-08-31</td>\n",
       "      <td>430.0</td>\n",
       "      <td>0.0</td>\n",
       "      <td>3000</td>\n",
       "    </tr>\n",
       "    <tr>\n",
       "      <th>3</th>\n",
       "      <td>2020-08-31</td>\n",
       "      <td>430.0</td>\n",
       "      <td>1.0</td>\n",
       "      <td>8000</td>\n",
       "    </tr>\n",
       "    <tr>\n",
       "      <th>4</th>\n",
       "      <td>2020-09-01</td>\n",
       "      <td>624.0</td>\n",
       "      <td>0.0</td>\n",
       "      <td>2000</td>\n",
       "    </tr>\n",
       "    <tr>\n",
       "      <th>...</th>\n",
       "      <td>...</td>\n",
       "      <td>...</td>\n",
       "      <td>...</td>\n",
       "      <td>...</td>\n",
       "    </tr>\n",
       "    <tr>\n",
       "      <th>1295</th>\n",
       "      <td>2021-08-20</td>\n",
       "      <td>25858.0</td>\n",
       "      <td>0.0</td>\n",
       "      <td>4000</td>\n",
       "    </tr>\n",
       "    <tr>\n",
       "      <th>1296</th>\n",
       "      <td>2021-08-20</td>\n",
       "      <td>25858.0</td>\n",
       "      <td>0.0</td>\n",
       "      <td>2000</td>\n",
       "    </tr>\n",
       "    <tr>\n",
       "      <th>1297</th>\n",
       "      <td>2021-08-20</td>\n",
       "      <td>25858.0</td>\n",
       "      <td>0.0</td>\n",
       "      <td>4000</td>\n",
       "    </tr>\n",
       "    <tr>\n",
       "      <th>1298</th>\n",
       "      <td>2021-08-21</td>\n",
       "      <td>25461.0</td>\n",
       "      <td>0.0</td>\n",
       "      <td>1000</td>\n",
       "    </tr>\n",
       "    <tr>\n",
       "      <th>1299</th>\n",
       "      <td>2021-08-21</td>\n",
       "      <td>25461.0</td>\n",
       "      <td>0.0</td>\n",
       "      <td>3000</td>\n",
       "    </tr>\n",
       "  </tbody>\n",
       "</table>\n",
       "<p>1299 rows × 4 columns</p>\n",
       "</div>"
      ],
      "text/plain": [
       "           Date  Infected  Score  Decimal score\n",
       "0    2020-08-31     430.0    0.0           3000\n",
       "1    2020-08-31     430.0    0.0           1000\n",
       "2    2020-08-31     430.0    0.0           3000\n",
       "3    2020-08-31     430.0    1.0           8000\n",
       "4    2020-09-01     624.0    0.0           2000\n",
       "...         ...       ...    ...            ...\n",
       "1295 2021-08-20   25858.0    0.0           4000\n",
       "1296 2021-08-20   25858.0    0.0           2000\n",
       "1297 2021-08-20   25858.0    0.0           4000\n",
       "1298 2021-08-21   25461.0    0.0           1000\n",
       "1299 2021-08-21   25461.0    0.0           3000\n",
       "\n",
       "[1299 rows x 4 columns]"
      ]
     },
     "execution_count": 46,
     "metadata": {},
     "output_type": "execute_result"
    }
   ],
   "source": [
    "df"
   ]
  },
  {
   "cell_type": "code",
   "execution_count": 31,
   "id": "otherwise-grain",
   "metadata": {},
   "outputs": [
    {
     "data": {
      "text/plain": [
       "(array([218., 200., 211., 243., 200.,  47.,  57.,  47.,  28.,  48.]),\n",
       " array([ 1000.,  1900.,  2800.,  3700.,  4600.,  5500.,  6400.,  7300.,\n",
       "         8200.,  9100., 10000.]),\n",
       " <BarContainer object of 10 artists>)"
      ]
     },
     "execution_count": 31,
     "metadata": {},
     "output_type": "execute_result"
    },
    {
     "data": {
      "image/png": "[encoded data removed]",
      "text/plain": [
       "<Figure size 432x288 with 1 Axes>"
      ]
     },
     "metadata": {
      "needs_background": "light"
     },
     "output_type": "display_data"
    }
   ],
   "source": [
    "plt.hist(df['Decimal score'])"
   ]
  },
  {
   "cell_type": "code",
   "execution_count": 32,
   "id": "national-mechanism",
   "metadata": {},
   "outputs": [],
   "source": [
    "def split_seq(seq, n_steps_in, n_steps_out):\n",
    "    X = []\n",
    "    y = []\n",
    "    for i in range(len(seq)):\n",
    "        x_end_idx = i + n_steps_in\n",
    "        y_end_idx = x_end_idx + n_steps_out\n",
    "        if(y_end_idx > len(seq)):\n",
    "            break\n",
    "        X.append(seq[i:x_end_idx])\n",
    "        y.append(seq[x_end_idx:y_end_idx])\n",
    "    return np.array(X), np.array(y)\n"
   ]
  },
  {
   "cell_type": "code",
   "execution_count": 33,
   "id": "violent-benefit",
   "metadata": {},
   "outputs": [],
   "source": [
    "n_steps_in = 50\n",
    "n_steps_out = 10"
   ]
  },
  {
   "cell_type": "raw",
   "id": "distributed-machinery",
   "metadata": {},
   "source": [
    "train_test_steps = 1000\n",
    "\n",
    "train_infected = df['Infected'][:train_test_steps]\n",
    "test_infected = df['Infected'][train_test_steps:]\n",
    "\n",
    "train_news = df['Decimal score'][:train_test_steps]\n",
    "test_news = df['Decimal score'][train_test_steps:]"
   ]
  },
  {
   "cell_type": "code",
   "execution_count": 34,
   "id": "applied-button",
   "metadata": {},
   "outputs": [
    {
     "name": "stdout",
     "output_type": "stream",
     "text": [
      "(1240, 50) (1240, 10)\n"
     ]
    }
   ],
   "source": [
    "X, y = split_seq(df['Infected'], n_steps_in, n_steps_out)\n",
    "print(X.shape, y.shape)"
   ]
  },
  {
   "cell_type": "code",
   "execution_count": null,
   "id": "pointed-sacramento",
   "metadata": {},
   "outputs": [],
   "source": []
  },
  {
   "cell_type": "code",
   "execution_count": 35,
   "id": "industrial-interference",
   "metadata": {},
   "outputs": [
    {
     "name": "stdout",
     "output_type": "stream",
     "text": [
      "(1240, 50) (1240, 10)\n"
     ]
    }
   ],
   "source": [
    "X_news, y_news = split_seq(df['Decimal score'], n_steps_in, n_steps_out)\n",
    "print(X_news.shape, y_news.shape)"
   ]
  },
  {
   "cell_type": "code",
   "execution_count": 36,
   "id": "designed-clearance",
   "metadata": {},
   "outputs": [
    {
     "data": {
      "text/plain": [
       "array([[3000, 1000, 3000, ..., 3000, 2000, 1000],\n",
       "       [1000, 3000, 8000, ..., 2000, 1000, 3000],\n",
       "       [3000, 8000, 2000, ..., 1000, 3000, 3000],\n",
       "       ...,\n",
       "       [3000, 4000, 2000, ..., 3000, 2000, 1000],\n",
       "       [4000, 2000, 1000, ..., 2000, 1000, 4000],\n",
       "       [2000, 1000, 1000, ..., 1000, 4000, 4000]], dtype=int64)"
      ]
     },
     "execution_count": 36,
     "metadata": {},
     "output_type": "execute_result"
    }
   ],
   "source": [
    "X_news"
   ]
  },
  {
   "cell_type": "markdown",
   "id": "certified-upset",
   "metadata": {},
   "source": [
    "### Adding new feature: decimal score"
   ]
  },
  {
   "cell_type": "code",
   "execution_count": 37,
   "id": "touched-examination",
   "metadata": {},
   "outputs": [
    {
     "name": "stdout",
     "output_type": "stream",
     "text": [
      "(1240, 50, 1)\n"
     ]
    }
   ],
   "source": [
    "infected_3d = np.expand_dims(X, 2) #3rd demension \n",
    "print(infected_3d.shape)\n",
    "#infected_new_dim"
   ]
  },
  {
   "cell_type": "code",
   "execution_count": 38,
   "id": "modular-nerve",
   "metadata": {},
   "outputs": [
    {
     "name": "stdout",
     "output_type": "stream",
     "text": [
      "(1240, 50, 1)\n"
     ]
    }
   ],
   "source": [
    "news_3d = np.expand_dims(X_news, 2) #3rd demension \n",
    "print(news_3d.shape)\n",
    "#news_new_dim"
   ]
  },
  {
   "cell_type": "code",
   "execution_count": 39,
   "id": "commercial-submission",
   "metadata": {},
   "outputs": [
    {
     "data": {
      "text/plain": [
       "array([[2000, 1000, 2000, ..., 1000, 5000, 1000],\n",
       "       [1000, 2000, 9000, ..., 5000, 1000, 4000],\n",
       "       [2000, 9000, 5000, ..., 1000, 4000, 5000],\n",
       "       ...,\n",
       "       [4000, 1000, 3000, ..., 1000, 1000, 5000],\n",
       "       [1000, 3000, 2000, ..., 1000, 5000, 2000],\n",
       "       [3000, 2000, 5000, ..., 5000, 2000, 1000]], dtype=int64)"
      ]
     },
     "execution_count": 39,
     "metadata": {},
     "output_type": "execute_result"
    }
   ],
   "source": [
    "news_new_dim[:,:,0] # just making sure we're on track"
   ]
  },
  {
   "cell_type": "code",
   "execution_count": 40,
   "id": "diverse-laser",
   "metadata": {},
   "outputs": [
    {
     "name": "stdout",
     "output_type": "stream",
     "text": [
      "(1240, 50, 2)\n"
     ]
    }
   ],
   "source": [
    "data_3d = np.append(infected_3d, news_3d, axis =2) #append (1240,50) to the 3rd dimension\n",
    "print(data_3d.shape) # samples, timesteps, features"
   ]
  },
  {
   "cell_type": "markdown",
   "id": "italian-division",
   "metadata": {},
   "source": [
    "### Train/test set"
   ]
  },
  {
   "cell_type": "code",
   "execution_count": 47,
   "id": "atomic-burlington",
   "metadata": {},
   "outputs": [
    {
     "name": "stdout",
     "output_type": "stream",
     "text": [
      "(1000, 50, 2) (240, 50, 2)\n",
      "(1000, 10) (240, 10)\n"
     ]
    }
   ],
   "source": [
    "split_pnt = 1000\n",
    "\n",
    "X_train = data_3d[:split_pnt]\n",
    "X_test = data_3d[split_pnt:]\n",
    "\n",
    "y_train = y[:split_pnt]\n",
    "y_test  = y[split_pnt:]\n",
    "\n",
    "print(X_train.shape, X_test.shape)\n",
    "print(y_train.shape, y_test.shape)"
   ]
  },
  {
   "cell_type": "code",
   "execution_count": 50,
   "id": "sixth-casting",
   "metadata": {},
   "outputs": [
    {
     "data": {
      "text/plain": [
       "(50, 2)"
      ]
     },
     "execution_count": 50,
     "metadata": {},
     "output_type": "execute_result"
    }
   ],
   "source": [
    "input_shape = (X_train.shape[1],X_train.shape[2])\n",
    "input_shape"
   ]
  },
  {
   "cell_type": "markdown",
   "id": "instructional-region",
   "metadata": {},
   "source": [
    "### Model"
   ]
  },
  {
   "cell_type": "code",
   "execution_count": 56,
   "id": "arabic-replacement",
   "metadata": {},
   "outputs": [
    {
     "name": "stdout",
     "output_type": "stream",
     "text": [
      "Epoch 1/500\n",
      "8/8 [==============================] - 2s 275ms/step - loss: 2950.0991\n",
      "Epoch 2/500\n",
      "8/8 [==============================] - 2s 297ms/step - loss: 2950.0671\n",
      "Epoch 3/500\n",
      "8/8 [==============================] - 2s 281ms/step - loss: 2950.0161\n",
      "Epoch 4/500\n",
      "8/8 [==============================] - 2s 281ms/step - loss: 2949.9861\n",
      "Epoch 5/500\n",
      "8/8 [==============================] - 2s 276ms/step - loss: 2949.9351\n",
      "Epoch 6/500\n",
      "8/8 [==============================] - 2s 291ms/step - loss: 2949.9102\n",
      "Epoch 7/500\n",
      "8/8 [==============================] - 2s 283ms/step - loss: 2949.9131\n",
      "Epoch 8/500\n",
      "8/8 [==============================] - 2s 275ms/step - loss: 2949.9062\n",
      "Epoch 9/500\n",
      "8/8 [==============================] - 2s 275ms/step - loss: 2949.8711\n",
      "Epoch 10/500\n",
      "8/8 [==============================] - 2s 274ms/step - loss: 2949.8745\n",
      "Epoch 11/500\n",
      "8/8 [==============================] - 2s 277ms/step - loss: 2949.8525\n",
      "Epoch 12/500\n",
      "8/8 [==============================] - 2s 279ms/step - loss: 2949.8738\n",
      "Epoch 13/500\n",
      "8/8 [==============================] - 2s 289ms/step - loss: 2949.8708\n",
      "Epoch 14/500\n",
      "8/8 [==============================] - 2s 286ms/step - loss: 2949.8621\n",
      "Epoch 15/500\n",
      "8/8 [==============================] - 2s 277ms/step - loss: 2949.8677\n",
      "Epoch 16/500\n",
      "8/8 [==============================] - 2s 276ms/step - loss: 2949.8772\n",
      "Epoch 17/500\n",
      "8/8 [==============================] - 2s 277ms/step - loss: 2949.8860\n",
      "Epoch 18/500\n",
      "8/8 [==============================] - 2s 276ms/step - loss: 2949.8782\n",
      "Epoch 19/500\n",
      "8/8 [==============================] - 2s 308ms/step - loss: 2949.8813\n",
      "Epoch 20/500\n",
      "8/8 [==============================] - 2s 268ms/step - loss: 2949.8960\n",
      "Epoch 21/500\n",
      "8/8 [==============================] - 2s 273ms/step - loss: 2949.8901\n",
      "Epoch 22/500\n",
      "8/8 [==============================] - 2s 274ms/step - loss: 2949.8979\n",
      "Epoch 23/500\n",
      "8/8 [==============================] - 2s 283ms/step - loss: 2949.8960\n",
      "Epoch 24/500\n",
      "8/8 [==============================] - 2s 267ms/step - loss: 2949.8892\n",
      "Epoch 25/500\n",
      "8/8 [==============================] - 2s 312ms/step - loss: 2949.8982\n",
      "Epoch 26/500\n",
      "8/8 [==============================] - 2s 296ms/step - loss: 2949.9197\n",
      "Epoch 27/500\n",
      "8/8 [==============================] - 3s 321ms/step - loss: 2949.9177\n",
      "Epoch 28/500\n",
      "8/8 [==============================] - 2s 309ms/step - loss: 2949.8987\n",
      "Epoch 29/500\n",
      "8/8 [==============================] - 3s 333ms/step - loss: 2949.9167\n",
      "Epoch 30/500\n",
      "8/8 [==============================] - 2s 293ms/step - loss: 2949.8940\n",
      "Epoch 31/500\n",
      "8/8 [==============================] - 2s 298ms/step - loss: 2949.9121\n",
      "Epoch 32/500\n",
      "8/8 [==============================] - 2s 287ms/step - loss: 2949.9343\n",
      "Epoch 33/500\n",
      "8/8 [==============================] - 3s 331ms/step - loss: 2949.8647\n",
      "Epoch 34/500\n",
      "8/8 [==============================] - 2s 294ms/step - loss: 2949.8506\n",
      "Epoch 35/500\n",
      "8/8 [==============================] - 2s 301ms/step - loss: 2949.8418\n",
      "Epoch 36/500\n",
      "8/8 [==============================] - 2s 302ms/step - loss: 2949.8264\n",
      "Epoch 37/500\n",
      "8/8 [==============================] - 2s 292ms/step - loss: 2949.8247\n",
      "Epoch 38/500\n",
      "8/8 [==============================] - 2s 276ms/step - loss: 2949.8071\n",
      "Epoch 39/500\n",
      "8/8 [==============================] - 2s 277ms/step - loss: 2949.8254\n",
      "Epoch 40/500\n",
      "8/8 [==============================] - 2s 283ms/step - loss: 2949.8220\n",
      "Epoch 41/500\n",
      "8/8 [==============================] - 2s 282ms/step - loss: 2949.8250\n",
      "Epoch 42/500\n",
      "8/8 [==============================] - 3s 333ms/step - loss: 2949.8196\n",
      "Epoch 43/500\n",
      "8/8 [==============================] - 2s 301ms/step - loss: 2949.8049\n",
      "Epoch 44/500\n",
      "4/8 [==============>...............] - ETA: 1s - loss: 2973.8999"
     ]
    },
    {
     "ename": "KeyboardInterrupt",
     "evalue": "",
     "output_type": "error",
     "traceback": [
      "\u001b[1;31m---------------------------------------------------------------------------\u001b[0m",
      "\u001b[1;31mKeyboardInterrupt\u001b[0m                         Traceback (most recent call last)",
      "\u001b[1;32m<ipython-input-56-3449f99ba0eb>\u001b[0m in \u001b[0;36m<module>\u001b[1;34m\u001b[0m\n\u001b[0;32m     19\u001b[0m \u001b[1;33m\u001b[0m\u001b[0m\n\u001b[0;32m     20\u001b[0m \u001b[1;31m# Fitting the RNN to the Training set\u001b[0m\u001b[1;33m\u001b[0m\u001b[1;33m\u001b[0m\u001b[1;33m\u001b[0m\u001b[0m\n\u001b[1;32m---> 21\u001b[1;33m \u001b[0mmodel\u001b[0m\u001b[1;33m.\u001b[0m\u001b[0mfit\u001b[0m\u001b[1;33m(\u001b[0m\u001b[0mX_train\u001b[0m\u001b[1;33m,\u001b[0m \u001b[0my_train\u001b[0m\u001b[1;33m,\u001b[0m \u001b[0mepochs\u001b[0m \u001b[1;33m=\u001b[0m \u001b[1;36m500\u001b[0m\u001b[1;33m,\u001b[0m \u001b[0mbatch_size\u001b[0m \u001b[1;33m=\u001b[0m \u001b[1;36m128\u001b[0m\u001b[1;33m)\u001b[0m\u001b[1;33m\u001b[0m\u001b[1;33m\u001b[0m\u001b[0m\n\u001b[0m",
      "\u001b[1;32m~\\.conda\\envs\\tf\\lib\\site-packages\\tensorflow\\python\\keras\\engine\\training.py\u001b[0m in \u001b[0;36m_method_wrapper\u001b[1;34m(self, *args, **kwargs)\u001b[0m\n\u001b[0;32m    106\u001b[0m   \u001b[1;32mdef\u001b[0m \u001b[0m_method_wrapper\u001b[0m\u001b[1;33m(\u001b[0m\u001b[0mself\u001b[0m\u001b[1;33m,\u001b[0m \u001b[1;33m*\u001b[0m\u001b[0margs\u001b[0m\u001b[1;33m,\u001b[0m \u001b[1;33m**\u001b[0m\u001b[0mkwargs\u001b[0m\u001b[1;33m)\u001b[0m\u001b[1;33m:\u001b[0m\u001b[1;33m\u001b[0m\u001b[1;33m\u001b[0m\u001b[0m\n\u001b[0;32m    107\u001b[0m     \u001b[1;32mif\u001b[0m \u001b[1;32mnot\u001b[0m \u001b[0mself\u001b[0m\u001b[1;33m.\u001b[0m\u001b[0m_in_multi_worker_mode\u001b[0m\u001b[1;33m(\u001b[0m\u001b[1;33m)\u001b[0m\u001b[1;33m:\u001b[0m  \u001b[1;31m# pylint: disable=protected-access\u001b[0m\u001b[1;33m\u001b[0m\u001b[1;33m\u001b[0m\u001b[0m\n\u001b[1;32m--> 108\u001b[1;33m       \u001b[1;32mreturn\u001b[0m \u001b[0mmethod\u001b[0m\u001b[1;33m(\u001b[0m\u001b[0mself\u001b[0m\u001b[1;33m,\u001b[0m \u001b[1;33m*\u001b[0m\u001b[0margs\u001b[0m\u001b[1;33m,\u001b[0m \u001b[1;33m**\u001b[0m\u001b[0mkwargs\u001b[0m\u001b[1;33m)\u001b[0m\u001b[1;33m\u001b[0m\u001b[1;33m\u001b[0m\u001b[0m\n\u001b[0m\u001b[0;32m    109\u001b[0m \u001b[1;33m\u001b[0m\u001b[0m\n\u001b[0;32m    110\u001b[0m     \u001b[1;31m# Running inside `run_distribute_coordinator` already.\u001b[0m\u001b[1;33m\u001b[0m\u001b[1;33m\u001b[0m\u001b[1;33m\u001b[0m\u001b[0m\n",
      "\u001b[1;32m~\\.conda\\envs\\tf\\lib\\site-packages\\tensorflow\\python\\keras\\engine\\training.py\u001b[0m in \u001b[0;36mfit\u001b[1;34m(self, x, y, batch_size, epochs, verbose, callbacks, validation_split, validation_data, shuffle, class_weight, sample_weight, initial_epoch, steps_per_epoch, validation_steps, validation_batch_size, validation_freq, max_queue_size, workers, use_multiprocessing)\u001b[0m\n\u001b[0;32m   1096\u001b[0m                 batch_size=batch_size):\n\u001b[0;32m   1097\u001b[0m               \u001b[0mcallbacks\u001b[0m\u001b[1;33m.\u001b[0m\u001b[0mon_train_batch_begin\u001b[0m\u001b[1;33m(\u001b[0m\u001b[0mstep\u001b[0m\u001b[1;33m)\u001b[0m\u001b[1;33m\u001b[0m\u001b[1;33m\u001b[0m\u001b[0m\n\u001b[1;32m-> 1098\u001b[1;33m               \u001b[0mtmp_logs\u001b[0m \u001b[1;33m=\u001b[0m \u001b[0mtrain_function\u001b[0m\u001b[1;33m(\u001b[0m\u001b[0miterator\u001b[0m\u001b[1;33m)\u001b[0m\u001b[1;33m\u001b[0m\u001b[1;33m\u001b[0m\u001b[0m\n\u001b[0m\u001b[0;32m   1099\u001b[0m               \u001b[1;32mif\u001b[0m \u001b[0mdata_handler\u001b[0m\u001b[1;33m.\u001b[0m\u001b[0mshould_sync\u001b[0m\u001b[1;33m:\u001b[0m\u001b[1;33m\u001b[0m\u001b[1;33m\u001b[0m\u001b[0m\n\u001b[0;32m   1100\u001b[0m                 \u001b[0mcontext\u001b[0m\u001b[1;33m.\u001b[0m\u001b[0masync_wait\u001b[0m\u001b[1;33m(\u001b[0m\u001b[1;33m)\u001b[0m\u001b[1;33m\u001b[0m\u001b[1;33m\u001b[0m\u001b[0m\n",
      "\u001b[1;32m~\\.conda\\envs\\tf\\lib\\site-packages\\tensorflow\\python\\eager\\def_function.py\u001b[0m in \u001b[0;36m__call__\u001b[1;34m(self, *args, **kwds)\u001b[0m\n\u001b[0;32m    778\u001b[0m       \u001b[1;32melse\u001b[0m\u001b[1;33m:\u001b[0m\u001b[1;33m\u001b[0m\u001b[1;33m\u001b[0m\u001b[0m\n\u001b[0;32m    779\u001b[0m         \u001b[0mcompiler\u001b[0m \u001b[1;33m=\u001b[0m \u001b[1;34m\"nonXla\"\u001b[0m\u001b[1;33m\u001b[0m\u001b[1;33m\u001b[0m\u001b[0m\n\u001b[1;32m--> 780\u001b[1;33m         \u001b[0mresult\u001b[0m \u001b[1;33m=\u001b[0m \u001b[0mself\u001b[0m\u001b[1;33m.\u001b[0m\u001b[0m_call\u001b[0m\u001b[1;33m(\u001b[0m\u001b[1;33m*\u001b[0m\u001b[0margs\u001b[0m\u001b[1;33m,\u001b[0m \u001b[1;33m**\u001b[0m\u001b[0mkwds\u001b[0m\u001b[1;33m)\u001b[0m\u001b[1;33m\u001b[0m\u001b[1;33m\u001b[0m\u001b[0m\n\u001b[0m\u001b[0;32m    781\u001b[0m \u001b[1;33m\u001b[0m\u001b[0m\n\u001b[0;32m    782\u001b[0m       \u001b[0mnew_tracing_count\u001b[0m \u001b[1;33m=\u001b[0m \u001b[0mself\u001b[0m\u001b[1;33m.\u001b[0m\u001b[0m_get_tracing_count\u001b[0m\u001b[1;33m(\u001b[0m\u001b[1;33m)\u001b[0m\u001b[1;33m\u001b[0m\u001b[1;33m\u001b[0m\u001b[0m\n",
      "\u001b[1;32m~\\.conda\\envs\\tf\\lib\\site-packages\\tensorflow\\python\\eager\\def_function.py\u001b[0m in \u001b[0;36m_call\u001b[1;34m(self, *args, **kwds)\u001b[0m\n\u001b[0;32m    805\u001b[0m       \u001b[1;31m# In this case we have created variables on the first call, so we run the\u001b[0m\u001b[1;33m\u001b[0m\u001b[1;33m\u001b[0m\u001b[1;33m\u001b[0m\u001b[0m\n\u001b[0;32m    806\u001b[0m       \u001b[1;31m# defunned version which is guaranteed to never create variables.\u001b[0m\u001b[1;33m\u001b[0m\u001b[1;33m\u001b[0m\u001b[1;33m\u001b[0m\u001b[0m\n\u001b[1;32m--> 807\u001b[1;33m       \u001b[1;32mreturn\u001b[0m \u001b[0mself\u001b[0m\u001b[1;33m.\u001b[0m\u001b[0m_stateless_fn\u001b[0m\u001b[1;33m(\u001b[0m\u001b[1;33m*\u001b[0m\u001b[0margs\u001b[0m\u001b[1;33m,\u001b[0m \u001b[1;33m**\u001b[0m\u001b[0mkwds\u001b[0m\u001b[1;33m)\u001b[0m  \u001b[1;31m# pylint: disable=not-callable\u001b[0m\u001b[1;33m\u001b[0m\u001b[1;33m\u001b[0m\u001b[0m\n\u001b[0m\u001b[0;32m    808\u001b[0m     \u001b[1;32melif\u001b[0m \u001b[0mself\u001b[0m\u001b[1;33m.\u001b[0m\u001b[0m_stateful_fn\u001b[0m \u001b[1;32mis\u001b[0m \u001b[1;32mnot\u001b[0m \u001b[1;32mNone\u001b[0m\u001b[1;33m:\u001b[0m\u001b[1;33m\u001b[0m\u001b[1;33m\u001b[0m\u001b[0m\n\u001b[0;32m    809\u001b[0m       \u001b[1;31m# Release the lock early so that multiple threads can perform the call\u001b[0m\u001b[1;33m\u001b[0m\u001b[1;33m\u001b[0m\u001b[1;33m\u001b[0m\u001b[0m\n",
      "\u001b[1;32m~\\.conda\\envs\\tf\\lib\\site-packages\\tensorflow\\python\\eager\\function.py\u001b[0m in \u001b[0;36m__call__\u001b[1;34m(self, *args, **kwargs)\u001b[0m\n\u001b[0;32m   2827\u001b[0m     \u001b[1;32mwith\u001b[0m \u001b[0mself\u001b[0m\u001b[1;33m.\u001b[0m\u001b[0m_lock\u001b[0m\u001b[1;33m:\u001b[0m\u001b[1;33m\u001b[0m\u001b[1;33m\u001b[0m\u001b[0m\n\u001b[0;32m   2828\u001b[0m       \u001b[0mgraph_function\u001b[0m\u001b[1;33m,\u001b[0m \u001b[0margs\u001b[0m\u001b[1;33m,\u001b[0m \u001b[0mkwargs\u001b[0m \u001b[1;33m=\u001b[0m \u001b[0mself\u001b[0m\u001b[1;33m.\u001b[0m\u001b[0m_maybe_define_function\u001b[0m\u001b[1;33m(\u001b[0m\u001b[0margs\u001b[0m\u001b[1;33m,\u001b[0m \u001b[0mkwargs\u001b[0m\u001b[1;33m)\u001b[0m\u001b[1;33m\u001b[0m\u001b[1;33m\u001b[0m\u001b[0m\n\u001b[1;32m-> 2829\u001b[1;33m     \u001b[1;32mreturn\u001b[0m \u001b[0mgraph_function\u001b[0m\u001b[1;33m.\u001b[0m\u001b[0m_filtered_call\u001b[0m\u001b[1;33m(\u001b[0m\u001b[0margs\u001b[0m\u001b[1;33m,\u001b[0m \u001b[0mkwargs\u001b[0m\u001b[1;33m)\u001b[0m  \u001b[1;31m# pylint: disable=protected-access\u001b[0m\u001b[1;33m\u001b[0m\u001b[1;33m\u001b[0m\u001b[0m\n\u001b[0m\u001b[0;32m   2830\u001b[0m \u001b[1;33m\u001b[0m\u001b[0m\n\u001b[0;32m   2831\u001b[0m   \u001b[1;33m@\u001b[0m\u001b[0mproperty\u001b[0m\u001b[1;33m\u001b[0m\u001b[1;33m\u001b[0m\u001b[0m\n",
      "\u001b[1;32m~\\.conda\\envs\\tf\\lib\\site-packages\\tensorflow\\python\\eager\\function.py\u001b[0m in \u001b[0;36m_filtered_call\u001b[1;34m(self, args, kwargs, cancellation_manager)\u001b[0m\n\u001b[0;32m   1841\u001b[0m       \u001b[0;31m`\u001b[0m\u001b[0margs\u001b[0m\u001b[0;31m`\u001b[0m \u001b[1;32mand\u001b[0m\u001b[0;31m \u001b[0m\u001b[0;31m`\u001b[0m\u001b[0mkwargs\u001b[0m\u001b[0;31m`\u001b[0m\u001b[1;33m.\u001b[0m\u001b[1;33m\u001b[0m\u001b[1;33m\u001b[0m\u001b[0m\n\u001b[0;32m   1842\u001b[0m     \"\"\"\n\u001b[1;32m-> 1843\u001b[1;33m     return self._call_flat(\n\u001b[0m\u001b[0;32m   1844\u001b[0m         [t for t in nest.flatten((args, kwargs), expand_composites=True)\n\u001b[0;32m   1845\u001b[0m          if isinstance(t, (ops.Tensor,\n",
      "\u001b[1;32m~\\.conda\\envs\\tf\\lib\\site-packages\\tensorflow\\python\\eager\\function.py\u001b[0m in \u001b[0;36m_call_flat\u001b[1;34m(self, args, captured_inputs, cancellation_manager)\u001b[0m\n\u001b[0;32m   1921\u001b[0m         and executing_eagerly):\n\u001b[0;32m   1922\u001b[0m       \u001b[1;31m# No tape is watching; skip to running the function.\u001b[0m\u001b[1;33m\u001b[0m\u001b[1;33m\u001b[0m\u001b[1;33m\u001b[0m\u001b[0m\n\u001b[1;32m-> 1923\u001b[1;33m       return self._build_call_outputs(self._inference_function.call(\n\u001b[0m\u001b[0;32m   1924\u001b[0m           ctx, args, cancellation_manager=cancellation_manager))\n\u001b[0;32m   1925\u001b[0m     forward_backward = self._select_forward_and_backward_functions(\n",
      "\u001b[1;32m~\\.conda\\envs\\tf\\lib\\site-packages\\tensorflow\\python\\eager\\function.py\u001b[0m in \u001b[0;36mcall\u001b[1;34m(self, ctx, args, cancellation_manager)\u001b[0m\n\u001b[0;32m    543\u001b[0m       \u001b[1;32mwith\u001b[0m \u001b[0m_InterpolateFunctionError\u001b[0m\u001b[1;33m(\u001b[0m\u001b[0mself\u001b[0m\u001b[1;33m)\u001b[0m\u001b[1;33m:\u001b[0m\u001b[1;33m\u001b[0m\u001b[1;33m\u001b[0m\u001b[0m\n\u001b[0;32m    544\u001b[0m         \u001b[1;32mif\u001b[0m \u001b[0mcancellation_manager\u001b[0m \u001b[1;32mis\u001b[0m \u001b[1;32mNone\u001b[0m\u001b[1;33m:\u001b[0m\u001b[1;33m\u001b[0m\u001b[1;33m\u001b[0m\u001b[0m\n\u001b[1;32m--> 545\u001b[1;33m           outputs = execute.execute(\n\u001b[0m\u001b[0;32m    546\u001b[0m               \u001b[0mstr\u001b[0m\u001b[1;33m(\u001b[0m\u001b[0mself\u001b[0m\u001b[1;33m.\u001b[0m\u001b[0msignature\u001b[0m\u001b[1;33m.\u001b[0m\u001b[0mname\u001b[0m\u001b[1;33m)\u001b[0m\u001b[1;33m,\u001b[0m\u001b[1;33m\u001b[0m\u001b[1;33m\u001b[0m\u001b[0m\n\u001b[0;32m    547\u001b[0m               \u001b[0mnum_outputs\u001b[0m\u001b[1;33m=\u001b[0m\u001b[0mself\u001b[0m\u001b[1;33m.\u001b[0m\u001b[0m_num_outputs\u001b[0m\u001b[1;33m,\u001b[0m\u001b[1;33m\u001b[0m\u001b[1;33m\u001b[0m\u001b[0m\n",
      "\u001b[1;32m~\\.conda\\envs\\tf\\lib\\site-packages\\tensorflow\\python\\eager\\execute.py\u001b[0m in \u001b[0;36mquick_execute\u001b[1;34m(op_name, num_outputs, inputs, attrs, ctx, name)\u001b[0m\n\u001b[0;32m     57\u001b[0m   \u001b[1;32mtry\u001b[0m\u001b[1;33m:\u001b[0m\u001b[1;33m\u001b[0m\u001b[1;33m\u001b[0m\u001b[0m\n\u001b[0;32m     58\u001b[0m     \u001b[0mctx\u001b[0m\u001b[1;33m.\u001b[0m\u001b[0mensure_initialized\u001b[0m\u001b[1;33m(\u001b[0m\u001b[1;33m)\u001b[0m\u001b[1;33m\u001b[0m\u001b[1;33m\u001b[0m\u001b[0m\n\u001b[1;32m---> 59\u001b[1;33m     tensors = pywrap_tfe.TFE_Py_Execute(ctx._handle, device_name, op_name,\n\u001b[0m\u001b[0;32m     60\u001b[0m                                         inputs, attrs, num_outputs)\n\u001b[0;32m     61\u001b[0m   \u001b[1;32mexcept\u001b[0m \u001b[0mcore\u001b[0m\u001b[1;33m.\u001b[0m\u001b[0m_NotOkStatusException\u001b[0m \u001b[1;32mas\u001b[0m \u001b[0me\u001b[0m\u001b[1;33m:\u001b[0m\u001b[1;33m\u001b[0m\u001b[1;33m\u001b[0m\u001b[0m\n",
      "\u001b[1;31mKeyboardInterrupt\u001b[0m: "
     ]
    }
   ],
   "source": [
    "model = Sequential()\n",
    "\n",
    "model.add(LSTM(units = 100, return_sequences = True, activation='relu', input_shape = input_shape))\n",
    "model.add(LSTM(units = 100,return_sequences = True,activation='relu'))\n",
    "\n",
    "\n",
    "model.add(LSTM(units = 100, return_sequences = True, activation='relu'))\n",
    "\n",
    "\n",
    "model.add(LSTM(units = 100, activation='relu'))\n",
    "\n",
    "# Adding the output layer\n",
    "model.add(Dense(units = n_steps_out, activation='tanh'))\n",
    "\n",
    "# Compiling the RNN\n",
    "model.compile(optimizer = 'adam', loss = 'mean_absolute_error')\n",
    "\n",
    "\n",
    "\n",
    "# Fitting the RNN to the Training set\n",
    "model.fit(X_train, y_train, epochs = 500, batch_size = 128)"
   ]
  },
  {
   "cell_type": "code",
   "execution_count": null,
   "id": "binary-wrist",
   "metadata": {},
   "outputs": [],
   "source": []
  },
  {
   "cell_type": "code",
   "execution_count": null,
   "id": "industrial-salad",
   "metadata": {},
   "outputs": [],
   "source": []
  },
  {
   "cell_type": "code",
   "execution_count": null,
   "id": "personal-canvas",
   "metadata": {},
   "outputs": [],
   "source": []
  },
  {
   "cell_type": "code",
   "execution_count": null,
   "id": "lyric-penny",
   "metadata": {},
   "outputs": [],
   "source": []
  },
  {
   "cell_type": "code",
   "execution_count": null,
   "id": "falling-exposure",
   "metadata": {},
   "outputs": [],
   "source": []
  },
  {
   "cell_type": "code",
   "execution_count": null,
   "id": "ranking-vector",
   "metadata": {},
   "outputs": [],
   "source": []
  }
 ],
 "metadata": {
  "kernelspec": {
   "display_name": "Python 3",
   "language": "python",
   "name": "python3"
  },
  "language_info": {
   "codemirror_mode": {
    "name": "ipython",
    "version": 3
   },
   "file_extension": ".py",
   "mimetype": "text/x-python",
   "name": "python",
   "nbconvert_exporter": "python",
   "pygments_lexer": "ipython3",
   "version": "3.8.5"
  }
 },
 "nbformat": 4,
 "nbformat_minor": 5
}
