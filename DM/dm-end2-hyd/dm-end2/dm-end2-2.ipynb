{
 "cells": [
  {
   "cell_type": "code",
   "execution_count": 1,
   "metadata": {},
   "outputs": [],
   "source": [
    "import numpy as np\n",
    "import pandas as pd\n",
    "import matplotlib.pyplot as plt\n",
    "from sklearn.decomposition import PCA\n",
    "\n",
    "from sklearn.preprocessing import StandardScaler\n",
    "from sklearn import preprocessing "
   ]
  },
  {
   "cell_type": "code",
   "execution_count": 2,
   "metadata": {},
   "outputs": [
    {
     "name": "stdout",
     "output_type": "stream",
     "text": [
      "(301, 11)\n",
      "<class 'pandas.core.frame.DataFrame'>\n",
      "RangeIndex: 301 entries, 0 to 300\n",
      "Data columns (total 11 columns):\n",
      " #   Column   Non-Null Count  Dtype  \n",
      "---  ------   --------------  -----  \n",
      " 0   age      301 non-null    float64\n",
      " 1   sex      301 non-null    float64\n",
      " 2   bmi      301 non-null    float64\n",
      " 3   bp       301 non-null    float64\n",
      " 4   s1       301 non-null    float64\n",
      " 5   s2       301 non-null    float64\n",
      " 6   s3       301 non-null    float64\n",
      " 7   s4       301 non-null    float64\n",
      " 8   s5       301 non-null    float64\n",
      " 9   s6       301 non-null    float64\n",
      " 10  disease  301 non-null    float64\n",
      "dtypes: float64(11)\n",
      "memory usage: 26.0 KB\n",
      "None\n"
     ]
    },
    {
     "data": {
      "text/html": [
       "<div>\n",
       "<style scoped>\n",
       "    .dataframe tbody tr th:only-of-type {\n",
       "        vertical-align: middle;\n",
       "    }\n",
       "\n",
       "    .dataframe tbody tr th {\n",
       "        vertical-align: top;\n",
       "    }\n",
       "\n",
       "    .dataframe thead th {\n",
       "        text-align: right;\n",
       "    }\n",
       "</style>\n",
       "<table border=\"1\" class=\"dataframe\">\n",
       "  <thead>\n",
       "    <tr style=\"text-align: right;\">\n",
       "      <th></th>\n",
       "      <th>age</th>\n",
       "      <th>sex</th>\n",
       "      <th>bmi</th>\n",
       "      <th>bp</th>\n",
       "      <th>s1</th>\n",
       "      <th>s2</th>\n",
       "      <th>s3</th>\n",
       "      <th>s4</th>\n",
       "      <th>s5</th>\n",
       "      <th>s6</th>\n",
       "      <th>disease</th>\n",
       "    </tr>\n",
       "  </thead>\n",
       "  <tbody>\n",
       "    <tr>\n",
       "      <th>0</th>\n",
       "      <td>-0.041840</td>\n",
       "      <td>-0.044642</td>\n",
       "      <td>0.128521</td>\n",
       "      <td>0.063187</td>\n",
       "      <td>-0.033216</td>\n",
       "      <td>-0.032629</td>\n",
       "      <td>0.011824</td>\n",
       "      <td>-0.039493</td>\n",
       "      <td>-0.015998</td>\n",
       "      <td>-0.050783</td>\n",
       "      <td>259.0</td>\n",
       "    </tr>\n",
       "    <tr>\n",
       "      <th>1</th>\n",
       "      <td>-0.034575</td>\n",
       "      <td>-0.044642</td>\n",
       "      <td>-0.037463</td>\n",
       "      <td>-0.060757</td>\n",
       "      <td>0.020446</td>\n",
       "      <td>0.043466</td>\n",
       "      <td>-0.013948</td>\n",
       "      <td>-0.002592</td>\n",
       "      <td>-0.030751</td>\n",
       "      <td>-0.071494</td>\n",
       "      <td>128.0</td>\n",
       "    </tr>\n",
       "    <tr>\n",
       "      <th>2</th>\n",
       "      <td>0.009016</td>\n",
       "      <td>0.050680</td>\n",
       "      <td>-0.005128</td>\n",
       "      <td>-0.064199</td>\n",
       "      <td>0.069981</td>\n",
       "      <td>0.083863</td>\n",
       "      <td>-0.039719</td>\n",
       "      <td>0.071210</td>\n",
       "      <td>0.039540</td>\n",
       "      <td>0.019633</td>\n",
       "      <td>116.0</td>\n",
       "    </tr>\n",
       "    <tr>\n",
       "      <th>3</th>\n",
       "      <td>0.001751</td>\n",
       "      <td>0.050680</td>\n",
       "      <td>0.026128</td>\n",
       "      <td>-0.009113</td>\n",
       "      <td>0.024574</td>\n",
       "      <td>0.038456</td>\n",
       "      <td>-0.021311</td>\n",
       "      <td>0.034309</td>\n",
       "      <td>0.009436</td>\n",
       "      <td>0.003064</td>\n",
       "      <td>196.0</td>\n",
       "    </tr>\n",
       "    <tr>\n",
       "      <th>4</th>\n",
       "      <td>0.016281</td>\n",
       "      <td>0.050680</td>\n",
       "      <td>0.014272</td>\n",
       "      <td>0.001215</td>\n",
       "      <td>0.001183</td>\n",
       "      <td>-0.021355</td>\n",
       "      <td>-0.032356</td>\n",
       "      <td>0.034309</td>\n",
       "      <td>0.074968</td>\n",
       "      <td>0.040343</td>\n",
       "      <td>220.0</td>\n",
       "    </tr>\n",
       "  </tbody>\n",
       "</table>\n",
       "</div>"
      ],
      "text/plain": [
       "        age       sex       bmi        bp        s1        s2        s3  \\\n",
       "0 -0.041840 -0.044642  0.128521  0.063187 -0.033216 -0.032629  0.011824   \n",
       "1 -0.034575 -0.044642 -0.037463 -0.060757  0.020446  0.043466 -0.013948   \n",
       "2  0.009016  0.050680 -0.005128 -0.064199  0.069981  0.083863 -0.039719   \n",
       "3  0.001751  0.050680  0.026128 -0.009113  0.024574  0.038456 -0.021311   \n",
       "4  0.016281  0.050680  0.014272  0.001215  0.001183 -0.021355 -0.032356   \n",
       "\n",
       "         s4        s5        s6  disease  \n",
       "0 -0.039493 -0.015998 -0.050783    259.0  \n",
       "1 -0.002592 -0.030751 -0.071494    128.0  \n",
       "2  0.071210  0.039540  0.019633    116.0  \n",
       "3  0.034309  0.009436  0.003064    196.0  \n",
       "4  0.034309  0.074968  0.040343    220.0  "
      ]
     },
     "metadata": {},
     "output_type": "display_data"
    }
   ],
   "source": [
    "df = pd.read_csv('dm-end2-2.csv')\n",
    "print(df.shape)\n",
    "print(df.info())\n",
    "display(df.head())"
   ]
  },
  {
   "cell_type": "code",
   "execution_count": 4,
   "metadata": {},
   "outputs": [
    {
     "name": "stdout",
     "output_type": "stream",
     "text": [
      "(301, 10)\n"
     ]
    },
    {
     "data": {
      "text/html": [
       "<div>\n",
       "<style scoped>\n",
       "    .dataframe tbody tr th:only-of-type {\n",
       "        vertical-align: middle;\n",
       "    }\n",
       "\n",
       "    .dataframe tbody tr th {\n",
       "        vertical-align: top;\n",
       "    }\n",
       "\n",
       "    .dataframe thead th {\n",
       "        text-align: right;\n",
       "    }\n",
       "</style>\n",
       "<table border=\"1\" class=\"dataframe\">\n",
       "  <thead>\n",
       "    <tr style=\"text-align: right;\">\n",
       "      <th></th>\n",
       "      <th>age</th>\n",
       "      <th>sex</th>\n",
       "      <th>bmi</th>\n",
       "      <th>bp</th>\n",
       "      <th>s1</th>\n",
       "      <th>s2</th>\n",
       "      <th>s3</th>\n",
       "      <th>s4</th>\n",
       "      <th>s5</th>\n",
       "      <th>s6</th>\n",
       "    </tr>\n",
       "  </thead>\n",
       "  <tbody>\n",
       "    <tr>\n",
       "      <th>0</th>\n",
       "      <td>-0.041840</td>\n",
       "      <td>-0.044642</td>\n",
       "      <td>0.128521</td>\n",
       "      <td>0.063187</td>\n",
       "      <td>-0.033216</td>\n",
       "      <td>-0.032629</td>\n",
       "      <td>0.011824</td>\n",
       "      <td>-0.039493</td>\n",
       "      <td>-0.015998</td>\n",
       "      <td>-0.050783</td>\n",
       "    </tr>\n",
       "    <tr>\n",
       "      <th>1</th>\n",
       "      <td>-0.034575</td>\n",
       "      <td>-0.044642</td>\n",
       "      <td>-0.037463</td>\n",
       "      <td>-0.060757</td>\n",
       "      <td>0.020446</td>\n",
       "      <td>0.043466</td>\n",
       "      <td>-0.013948</td>\n",
       "      <td>-0.002592</td>\n",
       "      <td>-0.030751</td>\n",
       "      <td>-0.071494</td>\n",
       "    </tr>\n",
       "    <tr>\n",
       "      <th>2</th>\n",
       "      <td>0.009016</td>\n",
       "      <td>0.050680</td>\n",
       "      <td>-0.005128</td>\n",
       "      <td>-0.064199</td>\n",
       "      <td>0.069981</td>\n",
       "      <td>0.083863</td>\n",
       "      <td>-0.039719</td>\n",
       "      <td>0.071210</td>\n",
       "      <td>0.039540</td>\n",
       "      <td>0.019633</td>\n",
       "    </tr>\n",
       "    <tr>\n",
       "      <th>3</th>\n",
       "      <td>0.001751</td>\n",
       "      <td>0.050680</td>\n",
       "      <td>0.026128</td>\n",
       "      <td>-0.009113</td>\n",
       "      <td>0.024574</td>\n",
       "      <td>0.038456</td>\n",
       "      <td>-0.021311</td>\n",
       "      <td>0.034309</td>\n",
       "      <td>0.009436</td>\n",
       "      <td>0.003064</td>\n",
       "    </tr>\n",
       "    <tr>\n",
       "      <th>4</th>\n",
       "      <td>0.016281</td>\n",
       "      <td>0.050680</td>\n",
       "      <td>0.014272</td>\n",
       "      <td>0.001215</td>\n",
       "      <td>0.001183</td>\n",
       "      <td>-0.021355</td>\n",
       "      <td>-0.032356</td>\n",
       "      <td>0.034309</td>\n",
       "      <td>0.074968</td>\n",
       "      <td>0.040343</td>\n",
       "    </tr>\n",
       "  </tbody>\n",
       "</table>\n",
       "</div>"
      ],
      "text/plain": [
       "        age       sex       bmi        bp        s1        s2        s3  \\\n",
       "0 -0.041840 -0.044642  0.128521  0.063187 -0.033216 -0.032629  0.011824   \n",
       "1 -0.034575 -0.044642 -0.037463 -0.060757  0.020446  0.043466 -0.013948   \n",
       "2  0.009016  0.050680 -0.005128 -0.064199  0.069981  0.083863 -0.039719   \n",
       "3  0.001751  0.050680  0.026128 -0.009113  0.024574  0.038456 -0.021311   \n",
       "4  0.016281  0.050680  0.014272  0.001215  0.001183 -0.021355 -0.032356   \n",
       "\n",
       "         s4        s5        s6  \n",
       "0 -0.039493 -0.015998 -0.050783  \n",
       "1 -0.002592 -0.030751 -0.071494  \n",
       "2  0.071210  0.039540  0.019633  \n",
       "3  0.034309  0.009436  0.003064  \n",
       "4  0.034309  0.074968  0.040343  "
      ]
     },
     "metadata": {},
     "output_type": "display_data"
    }
   ],
   "source": [
    "dfX = df.loc[:, :'s6']\n",
    "print(dfX.shape)\n",
    "display(dfX.head())"
   ]
  },
  {
   "cell_type": "code",
   "execution_count": 5,
   "metadata": {},
   "outputs": [],
   "source": [
    "sc = StandardScaler()\n",
    "X_std = sc.fit_transform(dfX)"
   ]
  },
  {
   "cell_type": "code",
   "execution_count": 6,
   "metadata": {},
   "outputs": [],
   "source": [
    "n_pca = 10\n",
    "pca = PCA(n_components=n_pca)\n",
    "X_pca = pca.fit_transform(X_std)"
   ]
  },
  {
   "cell_type": "code",
   "execution_count": 10,
   "metadata": {},
   "outputs": [
    {
     "name": "stdout",
     "output_type": "stream",
     "text": [
      "[0.40661797 0.15601016 0.1179804  0.08906281 0.06443856 0.0617785\n",
      " 0.05172373 0.04373388 0.00780559 0.0008484 ]\n"
     ]
    }
   ],
   "source": [
    "print(pca.explained_variance_ratio_)\n"
   ]
  },
  {
   "cell_type": "code",
   "execution_count": 9,
   "metadata": {},
   "outputs": [
    {
     "name": "stdout",
     "output_type": "stream",
     "text": [
      "[0.40661797 0.56262814 0.68060853 0.76967135 0.8341099  0.8958884\n",
      " 0.94761213 0.99134601 0.9991516  1.        ]\n"
     ]
    }
   ],
   "source": [
    "print(np.cumsum(pca.explained_variance_ratio_))"
   ]
  },
  {
   "cell_type": "code",
   "execution_count": 8,
   "metadata": {},
   "outputs": [
    {
     "data": {
      "image/png": "[encoded data removed]",
      "text/plain": [
       "<Figure size 432x288 with 1 Axes>"
      ]
     },
     "metadata": {
      "needs_background": "light"
     },
     "output_type": "display_data"
    }
   ],
   "source": [
    "xx = range(1, n_pca+1)\n",
    "plt.bar(xx, pca.explained_variance_ratio_)\n",
    "plt.step(xx, np.cumsum(pca.explained_variance_ratio_), where='mid')\n",
    "plt.ylabel('Explained variance ratio')\n",
    "plt.xlabel('Principal components')\n",
    "plt.show()"
   ]
  },
  {
   "cell_type": "code",
   "execution_count": null,
   "metadata": {},
   "outputs": [],
   "source": []
  },
  {
   "cell_type": "code",
   "execution_count": 12,
   "metadata": {},
   "outputs": [],
   "source": [
    "def biplot(X_2d, coef_2d, coef_labels=None):\n",
    "    r1 = 15\n",
    "    r2 = 1.03\n",
    "    coef_2dT = coef_2d.T\n",
    "    if coef_labels is None:\n",
    "        coef_labels = range(len(coef_2dT))\n",
    "    for i, coef in enumerate(coef_2dT):\n",
    "        plt.arrow(0, 0, coef[0]*r1, coef[1]*r1, color='r')    \n",
    "        plt.text(coef[0]*r1*r2, coef[1]*r1*r2, coef_labels[i],\n",
    "                 color='b', fontsize=11)\n",
    "    plt.scatter(X_2d[:,0], X_2d[:,1])\n",
    "    plt.xlabel('PC_1')\n",
    "    plt.ylabel('PC_2')\n",
    "    #plt.axes().set_box_aspect(1)\n",
    "\n",
    "    \n",
    "    return None"
   ]
  },
  {
   "cell_type": "code",
   "execution_count": 13,
   "metadata": {},
   "outputs": [
    {
     "data": {
      "image/png": "[encoded data removed]",
      "text/plain": [
       "<Figure size 432x288 with 1 Axes>"
      ]
     },
     "metadata": {
      "needs_background": "light"
     },
     "output_type": "display_data"
    }
   ],
   "source": [
    "biplot(X_pca[:, :2], pca.components_[:2], coef_labels=dfX.columns)"
   ]
  },
  {
   "cell_type": "code",
   "execution_count": null,
   "metadata": {},
   "outputs": [],
   "source": []
  }
 ],
 "metadata": {
  "kernelspec": {
   "display_name": "Python 3",
   "language": "python",
   "name": "python3"
  },
  "language_info": {
   "codemirror_mode": {
    "name": "ipython",
    "version": 3
   },
   "file_extension": ".py",
   "mimetype": "text/x-python",
   "name": "python",
   "nbconvert_exporter": "python",
   "pygments_lexer": "ipython3",
   "version": "3.6.10"
  }
 },
 "nbformat": 4,
 "nbformat_minor": 5
}
