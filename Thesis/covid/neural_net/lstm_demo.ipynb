{
 "cells": [
  {
   "cell_type": "markdown",
   "id": "supported-halloween",
   "metadata": {},
   "source": [
    "## Uivariate lstm example"
   ]
  },
  {
   "cell_type": "code",
   "execution_count": 52,
   "id": "marine-algeria",
   "metadata": {},
   "outputs": [],
   "source": [
    "import numpy as np\n",
    "import pandas as pd\n",
    "import matplotlib.pyplot as plt\n",
    "from keras.models import Sequential\n",
    "from keras.layers import LSTM, Dense, Dropout\n",
    "from sklearn.preprocessing import MinMaxScaler\n",
    "from sklearn.metrics import mean_squared_error\n",
    "from keras.preprocessing.sequence import TimeseriesGenerator"
   ]
  },
  {
   "cell_type": "code",
   "execution_count": 6,
   "id": "supreme-canberra",
   "metadata": {},
   "outputs": [],
   "source": [
    "# split a univariate sequence into samples\n",
    "def split_sequence(sequence, n_steps):\n",
    "\tX, y = list(), list()\n",
    "\tfor i in range(len(sequence)):\n",
    "\t\t# find the end of this pattern\n",
    "\t\tend_ix = i + n_steps\n",
    "\t\t# check if we are beyond the sequence\n",
    "\t\tif end_ix > len(sequence)-1:\n",
    "\t\t\tbreak\n",
    "\t\t# gather input and output parts of the pattern\n",
    "\t\tseq_x, seq_y = sequence[i:end_ix], sequence[end_ix]\n",
    "\t\tX.append(seq_x)\n",
    "\t\ty.append(seq_y)\n",
    "\treturn array(X), array(y)"
   ]
  },
  {
   "cell_type": "code",
   "execution_count": 7,
   "id": "objective-capacity",
   "metadata": {},
   "outputs": [],
   "source": [
    "# define input sequence\n",
    "raw_seq = [10, 20, 30, 40, 50, 60, 70, 80, 90]\n",
    "\n",
    "# choose a number of time steps\n",
    "n_steps = 3\n",
    "\n",
    "# split into samples\n",
    "X, y = split_sequence(raw_seq, n_steps)\n",
    "\n",
    "# reshape from [samples, timesteps] into [samples, timesteps, features]\n",
    "n_features = 1\n",
    "X = X.reshape((X.shape[0], X.shape[1], n_features))"
   ]
  },
  {
   "cell_type": "code",
   "execution_count": 12,
   "id": "clinical-petroleum",
   "metadata": {},
   "outputs": [
    {
     "data": {
      "text/plain": [
       "array([40, 50, 60, 70, 80, 90])"
      ]
     },
     "execution_count": 12,
     "metadata": {},
     "output_type": "execute_result"
    }
   ],
   "source": [
    "y"
   ]
  },
  {
   "cell_type": "code",
   "execution_count": 9,
   "id": "incoming-walnut",
   "metadata": {},
   "outputs": [
    {
     "name": "stdout",
     "output_type": "stream",
     "text": [
      "1/1 [==============================] - 0s 995us/step\n",
      "[[102.68489]]\n"
     ]
    }
   ],
   "source": [
    "\n",
    "\n",
    "# define model\n",
    "model = Sequential()\n",
    "model.add(LSTM(50, activation='relu', input_shape=(n_steps, n_features)))\n",
    "model.add(Dense(1))\n",
    "model.compile(optimizer='adam', loss='mse')\n",
    "\n",
    "# fit model\n",
    "model.fit(X, y, epochs=200, verbose=0)\n",
    "\n",
    "# demonstrate prediction\n",
    "x_input = array([70, 80, 90])\n",
    "x_input = x_input.reshape((1, n_steps, n_features))\n",
    "yhat = model.predict(x_input, verbose=1)\n",
    "print(yhat)"
   ]
  },
  {
   "cell_type": "code",
   "execution_count": 13,
   "id": "weird-aspect",
   "metadata": {},
   "outputs": [],
   "source": [
    "input_shape=(n_steps, n_features)"
   ]
  },
  {
   "cell_type": "markdown",
   "id": "tamil-family",
   "metadata": {},
   "source": [
    "## Univariate stacked lstm example"
   ]
  },
  {
   "cell_type": "code",
   "execution_count": 15,
   "id": "professional-arnold",
   "metadata": {},
   "outputs": [],
   "source": [
    "from numpy import array\n",
    "from keras.models import Sequential\n",
    "from keras.layers import LSTM\n",
    "from keras.layers import Dense"
   ]
  },
  {
   "cell_type": "code",
   "execution_count": 16,
   "id": "chronic-billy",
   "metadata": {},
   "outputs": [],
   "source": [
    "# split a univariate sequence\n",
    "def split_sequence(sequence, n_steps):\n",
    "\tX, y = list(), list()\n",
    "\tfor i in range(len(sequence)):\n",
    "\t\t# find the end of this pattern\n",
    "\t\tend_ix = i + n_steps\n",
    "\t\t# check if we are beyond the sequence\n",
    "\t\tif end_ix > len(sequence)-1:\n",
    "\t\t\tbreak\n",
    "\t\t# gather input and output parts of the pattern\n",
    "\t\tseq_x, seq_y = sequence[i:end_ix], sequence[end_ix]\n",
    "\t\tX.append(seq_x)\n",
    "\t\ty.append(seq_y)\n",
    "\treturn array(X), array(y)"
   ]
  },
  {
   "cell_type": "code",
   "execution_count": 17,
   "id": "committed-garden",
   "metadata": {},
   "outputs": [],
   "source": [
    "# define input sequence\n",
    "raw_seq = [10, 20, 30, 40, 50, 60, 70, 80, 90]\n",
    "\n",
    "# choose a number of time steps\n",
    "n_steps = 3\n",
    "\n",
    "# split into samples\n",
    "X, y = split_sequence(raw_seq, n_steps)\n",
    "\n",
    "# reshape from [samples, timesteps] into [samples, timesteps, features]\n",
    "n_features = 1\n",
    "X = X.reshape((X.shape[0], X.shape[1], n_features))"
   ]
  },
  {
   "cell_type": "code",
   "execution_count": 20,
   "id": "crucial-rubber",
   "metadata": {},
   "outputs": [
    {
     "name": "stdout",
     "output_type": "stream",
     "text": [
      "WARNING:tensorflow:5 out of the last 5 calls to <function Model.make_predict_function.<locals>.predict_function at 0x0000026A75ACF0D0> triggered tf.function retracing. Tracing is expensive and the excessive number of tracings could be due to (1) creating @tf.function repeatedly in a loop, (2) passing tensors with different shapes, (3) passing Python objects instead of tensors. For (1), please define your @tf.function outside of the loop. For (2), @tf.function has experimental_relax_shapes=True option that relaxes argument shapes that can avoid unnecessary retracing. For (3), please refer to https://www.tensorflow.org/tutorials/customization/performance#python_or_tensor_args and https://www.tensorflow.org/api_docs/python/tf/function for  more details.\n",
      "1/1 [==============================] - 0s 0s/step\n",
      "[[104.28114]]\n"
     ]
    }
   ],
   "source": [
    "# define model\n",
    "model = Sequential()\n",
    "model.add(LSTM(50, activation='relu', return_sequences=True, input_shape=(n_steps, n_features)))\n",
    "model.add(LSTM(50, activation='relu'))\n",
    "model.add(Dense(1))\n",
    "model.compile(optimizer='adam', loss='mse')\n",
    "\n",
    "# fit model\n",
    "model.fit(X, y, epochs=200, verbose=0)\n",
    "\n",
    "# demonstrate prediction\n",
    "x_input = array([70, 80, 90])\n",
    "x_input = x_input.reshape((1, n_steps, n_features))\n",
    "yhat = model.predict(x_input, verbose=1)\n",
    "print(yhat)"
   ]
  },
  {
   "cell_type": "markdown",
   "id": "olympic-filling",
   "metadata": {},
   "source": [
    "## Multivariate LSTM"
   ]
  },
  {
   "cell_type": "markdown",
   "id": "rolled-pottery",
   "metadata": {},
   "source": [
    "### Multiple Input Series\n"
   ]
  },
  {
   "cell_type": "code",
   "execution_count": 21,
   "id": "important-ottawa",
   "metadata": {},
   "outputs": [
    {
     "name": "stdout",
     "output_type": "stream",
     "text": [
      "[[ 10  15  25]\n",
      " [ 20  25  45]\n",
      " [ 30  35  65]\n",
      " [ 40  45  85]\n",
      " [ 50  55 105]\n",
      " [ 60  65 125]\n",
      " [ 70  75 145]\n",
      " [ 80  85 165]\n",
      " [ 90  95 185]]\n"
     ]
    }
   ],
   "source": [
    "# multivariate data preparation\n",
    "from numpy import array\n",
    "from numpy import hstack\n",
    "\n",
    "# define input sequence\n",
    "in_seq1 = array([10, 20, 30, 40, 50, 60, 70, 80, 90])\n",
    "in_seq2 = array([15, 25, 35, 45, 55, 65, 75, 85, 95])\n",
    "out_seq = array([in_seq1[i]+in_seq2[i] for i in range(len(in_seq1))])\n",
    "\n",
    "# convert to [rows, columns] structure\n",
    "in_seq1 = in_seq1.reshape((len(in_seq1), 1))\n",
    "in_seq2 = in_seq2.reshape((len(in_seq2), 1))\n",
    "out_seq = out_seq.reshape((len(out_seq), 1))\n",
    "\n",
    "# horizontally stack columns\n",
    "dataset = hstack((in_seq1, in_seq2, out_seq))\n",
    "print(dataset)"
   ]
  },
  {
   "cell_type": "code",
   "execution_count": null,
   "id": "instructional-military",
   "metadata": {},
   "outputs": [],
   "source": []
  },
  {
   "cell_type": "code",
   "execution_count": null,
   "id": "dimensional-genesis",
   "metadata": {},
   "outputs": [],
   "source": []
  },
  {
   "cell_type": "code",
   "execution_count": null,
   "id": "trained-sleeping",
   "metadata": {},
   "outputs": [],
   "source": []
  },
  {
   "cell_type": "code",
   "execution_count": null,
   "id": "lovely-split",
   "metadata": {},
   "outputs": [],
   "source": []
  },
  {
   "cell_type": "code",
   "execution_count": null,
   "id": "historical-fight",
   "metadata": {},
   "outputs": [],
   "source": []
  },
  {
   "cell_type": "code",
   "execution_count": null,
   "id": "published-weather",
   "metadata": {},
   "outputs": [],
   "source": []
  },
  {
   "cell_type": "code",
   "execution_count": 53,
   "id": "crucial-secondary",
   "metadata": {},
   "outputs": [
    {
     "name": "stdout",
     "output_type": "stream",
     "text": [
      "(555, 4)\n",
      "Date                     datetime64[ns]\n",
      "Cummulative_Deaths              float64\n",
      "Infected                        float64\n",
      "Cummulative_Recovered           float64\n",
      "dtype: object\n"
     ]
    },
    {
     "data": {
      "text/html": [
       "<div>\n",
       "<style scoped>\n",
       "    .dataframe tbody tr th:only-of-type {\n",
       "        vertical-align: middle;\n",
       "    }\n",
       "\n",
       "    .dataframe tbody tr th {\n",
       "        vertical-align: top;\n",
       "    }\n",
       "\n",
       "    .dataframe thead th {\n",
       "        text-align: right;\n",
       "    }\n",
       "</style>\n",
       "<table border=\"1\" class=\"dataframe\">\n",
       "  <thead>\n",
       "    <tr style=\"text-align: right;\">\n",
       "      <th></th>\n",
       "      <th>Date</th>\n",
       "      <th>Cummulative_Deaths</th>\n",
       "      <th>Infected</th>\n",
       "      <th>Cummulative_Recovered</th>\n",
       "    </tr>\n",
       "  </thead>\n",
       "  <tbody>\n",
       "    <tr>\n",
       "      <th>0</th>\n",
       "      <td>2020-02-14</td>\n",
       "      <td>1.0</td>\n",
       "      <td>5.0</td>\n",
       "      <td>12.0</td>\n",
       "    </tr>\n",
       "    <tr>\n",
       "      <th>1</th>\n",
       "      <td>2020-02-15</td>\n",
       "      <td>1.0</td>\n",
       "      <td>4.0</td>\n",
       "      <td>12.0</td>\n",
       "    </tr>\n",
       "    <tr>\n",
       "      <th>2</th>\n",
       "      <td>2020-02-16</td>\n",
       "      <td>1.0</td>\n",
       "      <td>1.0</td>\n",
       "      <td>13.0</td>\n",
       "    </tr>\n",
       "    <tr>\n",
       "      <th>3</th>\n",
       "      <td>2020-02-17</td>\n",
       "      <td>1.0</td>\n",
       "      <td>6.0</td>\n",
       "      <td>12.0</td>\n",
       "    </tr>\n",
       "    <tr>\n",
       "      <th>4</th>\n",
       "      <td>2020-02-18</td>\n",
       "      <td>1.0</td>\n",
       "      <td>8.0</td>\n",
       "      <td>14.0</td>\n",
       "    </tr>\n",
       "  </tbody>\n",
       "</table>\n",
       "</div>"
      ],
      "text/plain": [
       "        Date  Cummulative_Deaths  Infected  Cummulative_Recovered\n",
       "0 2020-02-14                 1.0       5.0                   12.0\n",
       "1 2020-02-15                 1.0       4.0                   12.0\n",
       "2 2020-02-16                 1.0       1.0                   13.0\n",
       "3 2020-02-17                 1.0       6.0                   12.0\n",
       "4 2020-02-18                 1.0       8.0                   14.0"
      ]
     },
     "execution_count": 53,
     "metadata": {},
     "output_type": "execute_result"
    }
   ],
   "source": [
    "df = pd.read_csv('../seir/cov_datasets/all.csv')\n",
    "df['Date'] = pd.to_datetime(df['Date'])\n",
    "print(df.shape)\n",
    "print(df.dtypes)\n",
    "df.head()"
   ]
  },
  {
   "cell_type": "code",
   "execution_count": 54,
   "id": "legal-costume",
   "metadata": {},
   "outputs": [
    {
     "data": {
      "text/plain": [
       "[<matplotlib.lines.Line2D at 0x1f214536f10>]"
      ]
     },
     "execution_count": 54,
     "metadata": {},
     "output_type": "execute_result"
    },
    {
     "data": {
      "image/png": "[encoded data removed]",
      "text/plain": [
       "<Figure size 960x320 with 1 Axes>"
      ]
     },
     "metadata": {
      "needs_background": "light"
     },
     "output_type": "display_data"
    }
   ],
   "source": [
    "from matplotlib.pyplot import figure\n",
    "figure(figsize=(12, 4), dpi=80)\n",
    "plt.plot(df['Date'],df['Infected'])"
   ]
  },
  {
   "cell_type": "code",
   "execution_count": null,
   "id": "wanted-disclaimer",
   "metadata": {},
   "outputs": [],
   "source": []
  },
  {
   "cell_type": "code",
   "execution_count": null,
   "id": "grand-discount",
   "metadata": {},
   "outputs": [],
   "source": []
  },
  {
   "cell_type": "code",
   "execution_count": null,
   "id": "impaired-suite",
   "metadata": {},
   "outputs": [],
   "source": []
  },
  {
   "cell_type": "code",
   "execution_count": 55,
   "id": "neither-aluminum",
   "metadata": {},
   "outputs": [],
   "source": [
    "training_set = df.iloc[:500, 2:3].values.astype(int)\n",
    "test_set = df.iloc[500:, 2:3].values.astype(int)"
   ]
  },
  {
   "cell_type": "code",
   "execution_count": 6,
   "id": "instrumental-anatomy",
   "metadata": {},
   "outputs": [],
   "source": [
    "# Feature Scaling\n",
    "sc = MinMaxScaler(feature_range = (0, 1))\n",
    "training_set_scaled = sc.fit_transform(training_set)\n",
    "testing_set_scaled = sc.fit_transform(test_set)\n",
    "\n",
    "\n",
    "# Creating a data structure with 5 time-steps and 1 output\n",
    "X_train = []\n",
    "y_train = []\n",
    "\n",
    "X_test = []\n",
    "y_test = []\n",
    "steps = 5 #days"
   ]
  },
  {
   "cell_type": "code",
   "execution_count": 7,
   "id": "blocked-tackle",
   "metadata": {},
   "outputs": [
    {
     "name": "stdout",
     "output_type": "stream",
     "text": [
      "(500, 1)\n",
      "(55, 1)\n"
     ]
    }
   ],
   "source": [
    "print(training_set_scaled.shape)\n",
    "print(testing_set_scaled.shape)"
   ]
  },
  {
   "cell_type": "code",
   "execution_count": 8,
   "id": "right-nitrogen",
   "metadata": {},
   "outputs": [
    {
     "name": "stdout",
     "output_type": "stream",
     "text": [
      "(495, 5)\n",
      "(495, 5, 1)\n"
     ]
    }
   ],
   "source": [
    "for i in range(steps, len(training_set)):\n",
    "    X_train.append(training_set_scaled[i-steps:i, 0])\n",
    "    y_train.append(training_set_scaled[i, 0])\n",
    "X_train, y_train = np.array(X_train), np.array(y_train)\n",
    "\n",
    "print(X_train.shape)\n",
    "X_train = np.reshape(X_train, (X_train.shape[0], X_train.shape[1], 1))\n",
    "print(X_train.shape)\n"
   ]
  },
  {
   "cell_type": "code",
   "execution_count": 9,
   "id": "pleased-advisory",
   "metadata": {},
   "outputs": [
    {
     "name": "stdout",
     "output_type": "stream",
     "text": [
      "(50, 5)\n",
      "(50, 5, 1)\n"
     ]
    }
   ],
   "source": [
    "for i in range(steps, len(test_set)):\n",
    "    X_test.append(testing_set_scaled[i-steps:i, 0])\n",
    "    y_test.append(testing_set_scaled[i, 0])\n",
    "X_test, y_test = np.array(X_test), np.array(y_test)\n",
    "\n",
    "print(X_test.shape)\n",
    "X_test = np.reshape(X_test, (X_test.shape[0], X_test.shape[1], 1))\n",
    "print(X_test.shape)"
   ]
  },
  {
   "cell_type": "code",
   "execution_count": 38,
   "id": "seasonal-gambling",
   "metadata": {},
   "outputs": [
    {
     "name": "stdout",
     "output_type": "stream",
     "text": [
      "Epoch 1/50\n",
      "16/16 [==============================] - 0s 8ms/step - loss: 0.0747\n",
      "Epoch 2/50\n",
      "16/16 [==============================] - 0s 8ms/step - loss: 0.0384\n",
      "Epoch 3/50\n",
      "16/16 [==============================] - 0s 8ms/step - loss: 0.0178\n",
      "Epoch 4/50\n",
      "16/16 [==============================] - 0s 8ms/step - loss: 0.0142\n",
      "Epoch 5/50\n",
      "16/16 [==============================] - 0s 8ms/step - loss: 0.0118\n",
      "Epoch 6/50\n",
      "16/16 [==============================] - 0s 8ms/step - loss: 0.0113\n",
      "Epoch 7/50\n",
      "16/16 [==============================] - 0s 8ms/step - loss: 0.0106\n",
      "Epoch 8/50\n",
      "16/16 [==============================] - 0s 8ms/step - loss: 0.0102\n",
      "Epoch 9/50\n",
      "16/16 [==============================] - 0s 8ms/step - loss: 0.0105\n",
      "Epoch 10/50\n",
      "16/16 [==============================] - 0s 8ms/step - loss: 0.0096\n",
      "Epoch 11/50\n",
      "16/16 [==============================] - 0s 8ms/step - loss: 0.0097\n",
      "Epoch 12/50\n",
      "16/16 [==============================] - 0s 8ms/step - loss: 0.0104\n",
      "Epoch 13/50\n",
      "16/16 [==============================] - 0s 8ms/step - loss: 0.0092\n",
      "Epoch 14/50\n",
      "16/16 [==============================] - 0s 8ms/step - loss: 0.0095\n",
      "Epoch 15/50\n",
      "16/16 [==============================] - 0s 8ms/step - loss: 0.0093\n",
      "Epoch 16/50\n",
      "16/16 [==============================] - 0s 8ms/step - loss: 0.0093\n",
      "Epoch 17/50\n",
      "16/16 [==============================] - 0s 8ms/step - loss: 0.0091\n",
      "Epoch 18/50\n",
      "16/16 [==============================] - 0s 8ms/step - loss: 0.0095\n",
      "Epoch 19/50\n",
      "16/16 [==============================] - 0s 8ms/step - loss: 0.0091\n",
      "Epoch 20/50\n",
      "16/16 [==============================] - 0s 8ms/step - loss: 0.0083\n",
      "Epoch 21/50\n",
      "16/16 [==============================] - 0s 8ms/step - loss: 0.0101\n",
      "Epoch 22/50\n",
      "16/16 [==============================] - 0s 8ms/step - loss: 0.0092\n",
      "Epoch 23/50\n",
      "16/16 [==============================] - 0s 8ms/step - loss: 0.0092\n",
      "Epoch 24/50\n",
      "16/16 [==============================] - 0s 8ms/step - loss: 0.0079\n",
      "Epoch 25/50\n",
      "16/16 [==============================] - 0s 8ms/step - loss: 0.0082\n",
      "Epoch 26/50\n",
      "16/16 [==============================] - 0s 8ms/step - loss: 0.0085\n",
      "Epoch 27/50\n",
      "16/16 [==============================] - 0s 8ms/step - loss: 0.0078A: 0s - loss: 0.007\n",
      "Epoch 28/50\n",
      "16/16 [==============================] - 0s 8ms/step - loss: 0.0083\n",
      "Epoch 29/50\n",
      "16/16 [==============================] - 0s 8ms/step - loss: 0.0084\n",
      "Epoch 30/50\n",
      "16/16 [==============================] - 0s 8ms/step - loss: 0.0086\n",
      "Epoch 31/50\n",
      "16/16 [==============================] - 0s 8ms/step - loss: 0.0091\n",
      "Epoch 32/50\n",
      "16/16 [==============================] - 0s 8ms/step - loss: 0.0083\n",
      "Epoch 33/50\n",
      "16/16 [==============================] - 0s 9ms/step - loss: 0.0094\n",
      "Epoch 34/50\n",
      "16/16 [==============================] - 0s 9ms/step - loss: 0.0083\n",
      "Epoch 35/50\n",
      "16/16 [==============================] - 0s 8ms/step - loss: 0.0077\n",
      "Epoch 36/50\n",
      "16/16 [==============================] - 0s 7ms/step - loss: 0.0082\n",
      "Epoch 37/50\n",
      "16/16 [==============================] - 0s 8ms/step - loss: 0.0080\n",
      "Epoch 38/50\n",
      "16/16 [==============================] - 0s 9ms/step - loss: 0.0083\n",
      "Epoch 39/50\n",
      "16/16 [==============================] - 0s 9ms/step - loss: 0.0075\n",
      "Epoch 40/50\n",
      "16/16 [==============================] - 0s 8ms/step - loss: 0.0080\n",
      "Epoch 41/50\n",
      "16/16 [==============================] - 0s 8ms/step - loss: 0.0070\n",
      "Epoch 42/50\n",
      "16/16 [==============================] - 0s 8ms/step - loss: 0.0074\n",
      "Epoch 43/50\n",
      "16/16 [==============================] - 0s 9ms/step - loss: 0.0076\n",
      "Epoch 44/50\n",
      "16/16 [==============================] - 0s 8ms/step - loss: 0.0080\n",
      "Epoch 45/50\n",
      "16/16 [==============================] - 0s 8ms/step - loss: 0.0075\n",
      "Epoch 46/50\n",
      "16/16 [==============================] - 0s 8ms/step - loss: 0.0078\n",
      "Epoch 47/50\n",
      "16/16 [==============================] - 0s 9ms/step - loss: 0.0080\n",
      "Epoch 48/50\n",
      "16/16 [==============================] - 0s 8ms/step - loss: 0.0075\n",
      "Epoch 49/50\n",
      "16/16 [==============================] - 0s 8ms/step - loss: 0.0078\n",
      "Epoch 50/50\n",
      "16/16 [==============================] - 0s 8ms/step - loss: 0.0070\n"
     ]
    },
    {
     "data": {
      "text/plain": [
       "<tensorflow.python.keras.callbacks.History at 0x1f2087f5e80>"
      ]
     },
     "execution_count": 38,
     "metadata": {},
     "output_type": "execute_result"
    }
   ],
   "source": [
    "model = Sequential()\n",
    "\n",
    "#Adding the first LSTM layer and some Dropout regularisation\n",
    "model.add(LSTM(units = 50, return_sequences = True, input_shape = (X_train.shape[1], 1)))\n",
    "model.add(Dropout(0.2))\n",
    "\n",
    "# Adding a second LSTM layer and some Dropout regularisation\n",
    "model.add(LSTM(units = 50, return_sequences = True))\n",
    "model.add(Dropout(0.2))\n",
    "\n",
    "# Adding a third LSTM layer and some Dropout regularisation\n",
    "model.add(LSTM(units = 50, return_sequences = True))\n",
    "model.add(Dropout(0.2))\n",
    "\n",
    "# Adding a fourth LSTM layer and some Dropout regularisation\n",
    "model.add(LSTM(units = 50))\n",
    "model.add(Dropout(0.2))\n",
    "\n",
    "# Adding the output layer\n",
    "model.add(Dense(units = 15))\n",
    "\n",
    "# Compiling the RNN\n",
    "model.compile(optimizer = 'adam', loss = 'mean_squared_error')\n",
    "\n",
    "# Fitting the RNN to the Training set\n",
    "model.fit(X_train, y_train, epochs = 50, batch_size = 32)"
   ]
  },
  {
   "cell_type": "code",
   "execution_count": 39,
   "id": "experimental-astrology",
   "metadata": {},
   "outputs": [
    {
     "data": {
      "text/plain": [
       "(50, 5, 1)"
      ]
     },
     "execution_count": 39,
     "metadata": {},
     "output_type": "execute_result"
    }
   ],
   "source": [
    "X_test.shape"
   ]
  },
  {
   "cell_type": "code",
   "execution_count": 40,
   "id": "incoming-recovery",
   "metadata": {},
   "outputs": [],
   "source": [
    "y_pred = model.predict(X_test)\n",
    "y_pred = sc.inverse_transform(y_pred) #revert scaling"
   ]
  },
  {
   "cell_type": "code",
   "execution_count": 41,
   "id": "horizontal-declaration",
   "metadata": {},
   "outputs": [
    {
     "data": {
      "text/plain": [
       "array([[ 1982.6589,  1932.3436,  1947.2279,  1947.3965,  1944.0735,\n",
       "         1949.5338,  1967.2155,  1940.156 ,  1965.3226,  1932.9948,\n",
       "         1941.7407,  1909.8256,  1895.2406,  1920.2778,  1918.2319],\n",
       "       [ 2217.6833,  2165.568 ,  2189.602 ,  2183.6584,  2181.5862,\n",
       "         2179.6523,  2209.379 ,  2183.8044,  2208.9968,  2168.032 ,\n",
       "         2178.7793,  2149.1372,  2135.959 ,  2158.1387,  2155.5493],\n",
       "       [ 2339.335 ,  2286.5977,  2315.8313,  2307.0244,  2307.4065,\n",
       "         2299.674 ,  2335.7458,  2311.838 ,  2336.3286,  2292.8716,\n",
       "         2302.392 ,  2274.8997,  2263.965 ,  2283.0835,  2280.5054],\n",
       "       [ 2281.6611,  2229.6167,  2257.5845,  2250.4583,  2252.5073,\n",
       "         2244.4314,  2277.48  ,  2254.5146,  2278.1196,  2239.0554,\n",
       "         2245.346 ,  2218.4453,  2208.933 ,  2226.7654,  2224.7283],\n",
       "       [ 2214.2388,  2163.131 ,  2189.3035,  2184.2122,  2188.6743,\n",
       "         2179.7534,  2209.692 ,  2187.6028,  2210.1946,  2176.391 ,\n",
       "         2178.6768,  2152.6467,  2145.011 ,  2161.2803,  2159.7695],\n",
       "       [ 2142.2854,  2091.7295,  2114.4978,  2111.2363,  2115.1514,\n",
       "         2108.7573,  2135.5535,  2112.321 ,  2135.208 ,  2103.3638,\n",
       "         2105.7124,  2078.823 ,  2070.3706,  2088.115 ,  2086.5215],\n",
       "       [ 2082.4336,  2031.4359,  2049.781 ,  2047.3907,  2044.9878,\n",
       "         2046.975 ,  2070.3416,  2043.5189,  2068.781 ,  2032.699 ,\n",
       "         2042.2594,  2011.4528,  1997.5554,  2021.4761,  2019.0405],\n",
       "       [ 2219.359 ,  2166.3345,  2188.228 ,  2181.5415,  2173.296 ,\n",
       "         2178.0063,  2207.4358,  2178.5386,  2206.215 ,  2158.5374,\n",
       "         2177.2827,  2144.2085,  2125.7874,  2153.5828,  2149.9722],\n",
       "       [ 2589.246 ,  2533.5447,  2569.3176,  2553.3118,  2546.7083,\n",
       "         2540.028 ,  2588.0913,  2561.373 ,  2589.1077,  2527.9216,\n",
       "         2550.2734,  2520.5044,  2504.0188,  2527.627 ,  2523.2427],\n",
       "       [ 2782.4092,  2725.6494,  2768.9863,  2748.5208,  2744.35  ,\n",
       "         2729.961 ,  2787.6736,  2762.956 ,  2790.0464,  2723.7412,\n",
       "         2745.9504,  2718.716 ,  2704.628 ,  2724.6223,  2720.132 ],\n",
       "       [ 2772.7825,  2716.4026,  2760.4373,  2740.4983,  2738.548 ,\n",
       "         2721.9768,  2779.0752,  2755.8079,  2781.8901,  2718.6067,\n",
       "         2737.5688,  2711.5352,  2699.469 ,  2717.2915,  2713.2756],\n",
       "       [ 2720.49  ,  2664.8547,  2707.6414,  2689.2666,  2689.5325,\n",
       "         2671.96  ,  2726.776 ,  2704.3118,  2729.5396,  2670.5635,\n",
       "         2686.0088,  2660.8342,  2650.5127,  2666.8618,  2663.2366],\n",
       "       [ 2695.0408,  2639.4497,  2680.1216,  2662.204 ,  2661.1802,\n",
       "         2645.7654,  2700.0122,  2675.927 ,  2701.9456,  2641.9153,\n",
       "         2659.2922,  2633.1426,  2621.3103,  2639.6592,  2635.603 ],\n",
       "       [ 2693.274 ,  2636.3467,  2673.6968,  2654.6687,  2644.5652,\n",
       "         2639.0469,  2692.8206,  2663.7048,  2693.3518,  2623.481 ,\n",
       "         2652.676 ,  2621.5176,  2601.8025,  2628.511 ,  2623.012 ],\n",
       "       [ 2957.7356,  2897.6716,  2941.8938,  2915.2983,  2896.7227,\n",
       "         2893.3154,  2958.8652,  2926.8801,  2960.0015,  2871.0806,\n",
       "         2914.7861,  2880.7097,  2854.3782,  2886.2944,  2879.1504],\n",
       "       [ 3538.8486,  3475.339 ,  3539.3254,  3499.4   ,  3482.058 ,\n",
       "         3461.7212,  3554.908 ,  3525.9573,  3559.1118,  3449.6067,\n",
       "         3500.6772,  3470.6802,  3446.4062,  3472.814 ,  3464.8599],\n",
       "       [ 3887.1091,  3822.2358,  3898.379 ,  3851.4324,  3837.2756,\n",
       "         3803.979 ,  3913.1636,  3887.6003,  3919.586 ,  3801.2512,\n",
       "         3853.43  ,  3827.04  ,  3806.3667,  3827.106 ,  3819.1953],\n",
       "       [ 3930.0127,  3865.5085,  3944.7808,  3897.6243,  3887.4749,\n",
       "         3848.6265,  3959.343 ,  3936.7383,  3966.9673,  3852.0266,\n",
       "         3899.172 ,  3875.1995,  3858.4834,  3874.7947,  3867.5671],\n",
       "       [ 3866.3118,  3802.6804,  3880.7896,  3835.475 ,  3828.5706,\n",
       "         3787.9592,  3896.1252,  3874.736 ,  3903.8557,  3794.4485,\n",
       "         3836.62  ,  3813.9834,  3799.8762,  3813.9775,  3807.1582],\n",
       "       [ 3865.5518,  3801.7441,  3877.9172,  3832.2703,  3823.637 ,\n",
       "         3785.011 ,  3894.495 ,  3870.6487,  3900.9856,  3788.4534,\n",
       "         3834.1   ,  3810.3704,  3793.9697,  3810.8418,  3803.31  ],\n",
       "       [ 3866.1504,  3800.0928,  3870.89  ,  3822.8254,  3799.149 ,\n",
       "         3776.8508,  3886.2026,  3853.672 ,  3889.9966,  3760.5754,\n",
       "         3826.218 ,  3794.4705,  3764.4622,  3795.3127,  3785.6062],\n",
       "       [ 4273.245 ,  4203.771 ,  4284.7554,  4226.598 ,  4192.492 ,\n",
       "         4170.163 ,  4296.1113,  4261.121 ,  4300.915 ,  4147.224 ,\n",
       "         4231.64  ,  4196.6855,  4158.899 ,  4194.921 ,  4183.945 ],\n",
       "       [ 4993.1187,  4922.7456,  5028.5664,  4958.5933,  4934.375 ,\n",
       "         4881.0283,  5037.065 ,  5012.417 ,  5047.3047,  4882.6772,\n",
       "         4964.118 ,  4937.8643,  4911.5815,  4931.823 ,  4922.215 ],\n",
       "       [ 5243.2734,  5174.1025,  5289.2217,  5216.986 ,  5202.7246,\n",
       "         5131.386 ,  5298.101 ,  5280.008 ,  5311.0005,  5149.7515,\n",
       "         5222.2573,  5202.044 ,  5185.55  ,  5195.0854,  5186.451 ],\n",
       "       [ 5089.686 ,  5020.9634,  5131.3784,  5061.796 ,  5048.6055,\n",
       "         4980.5337,  5142.227 ,  5122.631 ,  5153.819 ,  4997.2354,\n",
       "         5067.034 ,  5046.6562,  5029.9136,  5040.72  ,  5031.9146],\n",
       "       [ 4939.196 ,  4868.4272,  4968.8276,  4898.6406,  4869.5347,\n",
       "         4823.0503,  4979.4536,  4948.945 ,  4986.8223,  4815.9453,\n",
       "         4905.3877,  4876.098 ,  4843.594 ,  4871.0166,  4860.0225],\n",
       "       [ 5581.043 ,  5506.448 ,  5616.0684,  5530.6626,  5481.1255,\n",
       "         5438.2783,  5622.223 ,  5582.211 ,  5627.3384,  5413.4844,\n",
       "         5541.011 ,  5504.016 ,  5453.7466,  5495.465 ,  5481.9937],\n",
       "       [ 6978.5527,  6903.218 ,  7039.5737,  6929.661 ,  6863.917 ,\n",
       "         6796.8457,  7036.3276,  6994.1597,  7040.8438,  6772.0547,\n",
       "         6943.626 ,  6903.912 ,  6842.9595,  6887.6177,  6874.1147],\n",
       "       [ 8360.538 ,  8289.856 ,  8449.002 ,  8319.296 ,  8236.204 ,\n",
       "         8144.8267,  8431.392 ,  8390.892 ,  8435.11  ,  8120.7266,\n",
       "         8334.443 ,  8290.446 ,  8222.206 ,  8266.539 ,  8255.112 ],\n",
       "       [10217.075 , 10166.524 , 10355.437 , 10215.006 , 10135.523 ,\n",
       "         9979.263 , 10317.585 , 10300.56  , 10324.768 ,  9994.794 ,\n",
       "        10225.421 , 10185.072 , 10141.903 , 10156.823 , 10150.4795],\n",
       "       [11204.555 , 11170.692 , 11372.588 , 11233.4795, 11159.133 ,\n",
       "        10964.178 , 11320.22  , 11323.6875, 11332.058 , 11007.92  ,\n",
       "        11238.087 , 11198.895 , 11180.803 , 11171.876 , 11167.847 ],\n",
       "       [11446.392 , 11419.089 , 11626.147 , 11494.396 , 11431.224 ,\n",
       "        11216.903 , 11568.37  , 11588.285 , 11588.148 , 11282.825 ,\n",
       "        11495.254 , 11459.804 , 11462.748 , 11435.757 , 11432.052 ],\n",
       "       [11383.077 , 11356.152 , 11563.361 , 11433.868 , 11376.586 ,\n",
       "        11157.4   , 11507.296 , 11529.505 , 11528.67  , 11229.668 ,\n",
       "        11434.532 , 11401.396 , 11408.292 , 11378.609 , 11374.4795],\n",
       "       [11553.358 , 11528.891 , 11735.165 , 11600.729 , 11538.632 ,\n",
       "        11317.279 , 11680.208 , 11695.545 , 11694.848 , 11384.078 ,\n",
       "        11602.178 , 11566.935 , 11567.438 , 11543.484 , 11539.299 ],\n",
       "       [11654.052 , 11626.307 , 11826.161 , 11674.743 , 11580.352 ,\n",
       "        11389.362 , 11770.416 , 11758.456 , 11769.006 , 11411.896 ,\n",
       "        11680.418 , 11632.812 , 11596.455 , 11602.581 , 11599.332 ],\n",
       "       [12749.259 , 12743.5625, 12949.561 , 12788.081 , 12669.736 ,\n",
       "        12464.806 , 12872.934 , 12863.089 , 12863.019 , 12480.341 ,\n",
       "        12787.498 , 12727.719 , 12694.44  , 12695.726 , 12696.176 ],\n",
       "       [14421.3545, 14466.653 , 14688.098 , 14538.037 , 14423.788 ,\n",
       "        14151.499 , 14575.4375, 14610.5   , 14570.279 , 14220.56  ,\n",
       "        14513.773 , 14444.894 , 14486.728 , 14428.581 , 14430.887 ],\n",
       "       [15085.459 , 15156.439 , 15382.611 , 15244.769 , 15135.284 ,\n",
       "        14833.011 , 15251.798 , 15314.151 , 15253.855 , 14931.838 ,\n",
       "        15205.433 , 15130.498 , 15221.641 , 15127.605 , 15128.174 ],\n",
       "       [15095.166 , 15168.802 , 15393.747 , 15269.095 , 15171.688 ,\n",
       "        14858.903 , 15259.905 , 15339.617 , 15274.011 , 14976.02  ,\n",
       "        15225.962 , 15153.823 , 15267.285 , 15157.544 , 15154.844 ],\n",
       "       [14613.525 , 14673.014 , 14894.516 , 14781.1045, 14702.928 ,\n",
       "        14390.7295, 14770.356 , 14857.743 , 14797.717 , 14519.337 ,\n",
       "        14743.844 , 14682.7295, 14794.74  , 14685.997 , 14680.405 ],\n",
       "       [14076.688 , 14118.879 , 14339.547 , 14219.492 , 14147.842 ,\n",
       "        13846.318 , 14231.05  , 14302.472 , 14254.258 , 13965.751 ,\n",
       "        14192.438 , 14139.212 , 14222.8125, 14134.875 , 14130.284 ],\n",
       "       [13852.084 , 13881.92  , 14100.863 , 13956.132 , 13861.917 ,\n",
       "        13588.914 , 14004.082 , 14037.214 , 14004.027 , 13666.925 ,\n",
       "        13938.846 , 13881.427 , 13915.517 , 13864.294 , 13863.949 ],\n",
       "       [14445.912 , 14490.224 , 14709.22  , 14538.725 , 14402.606 ,\n",
       "        14148.153 , 14602.716 , 14606.179 , 14575.713 , 14183.995 ,\n",
       "        14519.911 , 14445.077 , 14451.053 , 14420.05  , 14426.048 ],\n",
       "       [15847.582 , 15945.603 , 16179.667 , 16001.305 , 15837.563 ,\n",
       "        15552.653 , 16036.582 , 16055.003 , 15995.459 , 15603.28  ,\n",
       "        15956.152 , 15857.05  , 15920.23  , 15844.245 , 15857.86  ],\n",
       "       [17149.918 , 17313.232 , 17570.098 , 17417.172 , 17258.918 ,\n",
       "        16911.39  , 17384.008 , 17459.934 , 17355.393 , 17037.887 ,\n",
       "        17319.098 , 17192.293 , 17415.506 , 17225.055 , 17237.496 ],\n",
       "       [17355.379 , 17532.113 , 17785.03  , 17662.488 , 17521.336 ,\n",
       "        17152.74  , 17588.053 , 17700.027 , 17583.025 , 17316.02  ,\n",
       "        17544.139 , 17412.592 , 17710.508 , 17471.863 , 17473.59  ],\n",
       "       [17249.46  , 17423.123 , 17673.223 , 17556.121 , 17425.371 ,\n",
       "        17049.66  , 17478.512 , 17596.857 , 17478.79  , 17219.473 ,\n",
       "        17442.117 , 17316.639 , 17606.984 , 17375.926 , 17374.121 ],\n",
       "       [17210.297 , 17380.174 , 17639.838 , 17495.32  , 17351.26  ,\n",
       "        16983.227 , 17452.344 , 17540.998 , 17428.46  , 17131.31  ,\n",
       "        17392.287 , 17267.555 , 17511.404 , 17309.258 , 17317.465 ],\n",
       "       [17469.924 , 17652.54  , 17928.594 , 17746.514 , 17566.824 ,\n",
       "        17214.504 , 17739.7   , 17787.018 , 17679.748 , 17331.63  ,\n",
       "        17642.168 , 17503.55  , 17722.488 , 17530.62  , 17556.31  ],\n",
       "       [18099.613 , 18323.395 , 18632.623 , 18426.527 , 18213.604 ,\n",
       "        17854.248 , 18423.959 , 18451.637 , 18337.92  , 17980.34  ,\n",
       "        18288.69  , 18117.262 , 18410.281 , 18156.195 , 18203.678 ]],\n",
       "      dtype=float32)"
      ]
     },
     "execution_count": 41,
     "metadata": {},
     "output_type": "execute_result"
    }
   ],
   "source": [
    "y_pred"
   ]
  },
  {
   "cell_type": "code",
   "execution_count": 46,
   "id": "floral-infrastructure",
   "metadata": {},
   "outputs": [
    {
     "data": {
      "text/plain": [
       "array([18099.613, 18323.395, 18632.623, 18426.527, 18213.604, 17854.248,\n",
       "       18423.959, 18451.637, 18337.92 , 17980.34 , 18288.69 , 18117.262,\n",
       "       18410.281, 18156.195, 18203.678], dtype=float32)"
      ]
     },
     "execution_count": 46,
     "metadata": {},
     "output_type": "execute_result"
    }
   ],
   "source": [
    "y_pred[49]"
   ]
  },
  {
   "cell_type": "code",
   "execution_count": 44,
   "id": "loaded-decision",
   "metadata": {},
   "outputs": [
    {
     "data": {
      "text/plain": [
       "range(500, 550)"
      ]
     },
     "execution_count": 44,
     "metadata": {},
     "output_type": "execute_result"
    }
   ],
   "source": [
    "range(500,500+len(y_pred))"
   ]
  },
  {
   "cell_type": "code",
   "execution_count": 45,
   "id": "express-vocabulary",
   "metadata": {},
   "outputs": [
    {
     "data": {
      "image/png": "[encoded data removed]",
      "text/plain": [
       "<Figure size 1440x320 with 1 Axes>"
      ]
     },
     "metadata": {
      "needs_background": "light"
     },
     "output_type": "display_data"
    }
   ],
   "source": [
    "from matplotlib.pyplot import figure\n",
    "figure(figsize=(18, 4), dpi=80)\n",
    "plt.plot(range(len(df['Infected'])), df['Infected'])\n",
    "plt.plot(range(500,500+len(y_pred)), y_pred, linewidth=3.0)\n",
    "plt.show()"
   ]
  },
  {
   "cell_type": "code",
   "execution_count": null,
   "id": "palestinian-florida",
   "metadata": {},
   "outputs": [],
   "source": []
  },
  {
   "cell_type": "code",
   "execution_count": null,
   "id": "supposed-thousand",
   "metadata": {},
   "outputs": [],
   "source": []
  }
 ],
 "metadata": {
  "kernelspec": {
   "display_name": "Python 3",
   "language": "python",
   "name": "python3"
  },
  "language_info": {
   "codemirror_mode": {
    "name": "ipython",
    "version": 3
   },
   "file_extension": ".py",
   "mimetype": "text/x-python",
   "name": "python",
   "nbconvert_exporter": "python",
   "pygments_lexer": "ipython3",
   "version": "3.8.5"
  }
 },
 "nbformat": 4,
 "nbformat_minor": 5
}
