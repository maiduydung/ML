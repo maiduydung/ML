{
 "cells": [
  {
   "cell_type": "markdown",
   "metadata": {},
   "source": [
    "### Environment check  "
   ]
  },
  {
   "cell_type": "code",
   "execution_count": null,
   "metadata": {},
   "outputs": [],
   "source": [
    "import sys, os, subprocess, warnings\n",
    "from subprocess import PIPE\n",
    "from datetime import datetime\n",
    "warnings.resetwarnings()\n",
    "warnings.simplefilter('ignore', FutureWarning)\n",
    "warnings.simplefilter('ignore', DeprecationWarning)\n",
    "warnings.simplefilter('ignore', RuntimeWarning)\n",
    "warnings.simplefilter('ignore', ResourceWarning)\n",
    "warnings.simplefilter('ignore', ImportWarning)\n",
    "\n",
    "print('Start')\n",
    "print(sys.version)\n",
    "t=os.path.getctime(os.environ['CONDA_PREFIX'])\n",
    "print(datetime.fromtimestamp(t))\n",
    "print('pwd:', os.getcwd())\n",
    "proc=subprocess.run('conda --version', shell=True, stdout=PIPE, stderr=PIPE)\n",
    "print('conda:', proc.stdout)\n",
    "proc=subprocess.run('where pip', shell=True, stdout=PIPE, stderr=PIPE)\n",
    "print('where pip:', proc.stdout)\n",
    "proc=subprocess.run('pip --version', shell=True, stdout=PIPE, stderr=PIPE)\n",
    "print('pip:', proc.stdout)\n",
    "proc=subprocess.run('where pip3', shell=True, stdout=PIPE, stderr=PIPE)\n",
    "print('where pip3:', proc.stdout)\n",
    "proc=subprocess.run('pip3 --version', shell=True, stdout=PIPE, stderr=PIPE)\n",
    "print('pip3:', proc.stdout)\n",
    "proc=subprocess.run('jupyter lab --version', shell=True, stdout=PIPE, stderr=PIPE)\n",
    "print('JupyterLab:', proc.stdout)\n",
    "proc=subprocess.run('ipython --version', shell=True, stdout=PIPE, stderr=PIPE)\n",
    "print('ipython:', proc.stdout)\n",
    "import numpy as np\n",
    "print('numpy:', np.__version__)\n",
    "import scipy as sp\n",
    "print('scipy:', sp.__version__)\n",
    "import pandas as pd\n",
    "print('pandas:', pd.__version__)\n",
    "import sklearn as sk\n",
    "print('sklearn:', sk.__version__)\n",
    "import matplotlib as mp\n",
    "print('matplotlib:', mp.__version__)\n",
    "import statsmodels as sm\n",
    "print('statsmodels:', sm.__version__)\n",
    "import seaborn as sns\n",
    "print('seaborn:', sns.__version__)\n",
    "import h5py\n",
    "print('h5py:', h5py.__version__)\n",
    "import networkx as nx\n",
    "print('networkx:', nx.__version__)\n",
    "import folium as fl\n",
    "print('folium:', fl.__version__)\n",
    "import pulp as pp\n",
    "print('pulp:', pp.__version__)\n",
    "import pyfpgrowth as pfg\n",
    "print('pyfpgrowth:', pfg.__version__)\n",
    "import deap as de\n",
    "print('deap:', de.__version__)\n",
    "import tslearn as tsl\n",
    "print('tslearn:', tsl.__version__)\n",
    "import janome as jm\n",
    "proc=subprocess.run('janome --version', shell=True, stdout=PIPE, stderr=PIPE)\n",
    "print('janome:', proc.stdout)\n",
    "from factor_analyzer import FactorAnalyzer\n",
    "fa = FactorAnalyzer(rotation=None)\n",
    "print('factor_analyzer: OK')\n",
    "\n",
    "print('End')"
   ]
  },
  {
   "cell_type": "code",
   "execution_count": null,
   "metadata": {},
   "outputs": [],
   "source": [
    "from sklearn import manifold, datasets\n",
    "import plotly.offline as offline\n",
    "import plotly.graph_objs as go\n",
    "offline.init_notebook_mode(connected=False)\n",
    "\n",
    "n_points = 1000\n",
    "X, color = datasets.make_s_curve(n_points, random_state=0)\n",
    "trace1 = go.Scatter3d(x=X[:,0], y=X[:,1], z=X[:,2], mode='markers',\n",
    "                      marker=dict(size=1.0, color=color, colorscale='Jet'))\n",
    "data = [trace1]\n",
    "layout = go.Layout(\n",
    "            height=400, width=400,\n",
    "            scene = dict(\n",
    "                xaxis=dict(title='x'), yaxis=dict(title='y'),\n",
    "                zaxis=dict(title='z')))\n",
    "fig = go.Figure(data=data, layout=layout)\n",
    "offline.iplot(fig, filename='manifold-3d-scatter')"
   ]
  },
  {
   "cell_type": "code",
   "execution_count": null,
   "metadata": {},
   "outputs": [],
   "source": []
  }
 ],
 "metadata": {
  "kernelspec": {
   "display_name": "Python 3",
   "language": "python",
   "name": "python3"
  },
  "language_info": {
   "codemirror_mode": {
    "name": "ipython",
    "version": 3
   },
   "file_extension": ".py",
   "mimetype": "text/x-python",
   "name": "python",
   "nbconvert_exporter": "python",
   "pygments_lexer": "ipython3",
   "version": "3.8.8"
  }
 },
 "nbformat": 4,
 "nbformat_minor": 4
}
