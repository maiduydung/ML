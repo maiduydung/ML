{
 "cells": [
  {
   "cell_type": "markdown",
   "metadata": {},
   "source": [
    "### Test of dual_annealing  "
   ]
  },
  {
   "cell_type": "markdown",
   "metadata": {},
   "source": [
    "#### Import libraries  "
   ]
  },
  {
   "cell_type": "code",
   "execution_count": 1,
   "metadata": {},
   "outputs": [],
   "source": [
    "import numpy as np\n",
    "import pandas as pd\n",
    "from random import uniform\n",
    "from scipy.optimize import dual_annealing\n",
    "import matplotlib.pyplot as plt"
   ]
  },
  {
   "cell_type": "markdown",
   "metadata": {},
   "source": [
    "#### Cost function  \n",
    "Known as Ackley function  "
   ]
  },
  {
   "cell_type": "code",
   "execution_count": 2,
   "metadata": {},
   "outputs": [],
   "source": [
    "def ackley2d(x):\n",
    "    total = 20.0\n",
    "    s1 = (x[0]**2 + x[1]**2)/2\n",
    "    total -= 20.0 * np.exp(-0.2 * s1**0.5)\n",
    "    s2 = np.cos(2*np.pi*x[0]) + np.cos(2*np.pi*x[1])\n",
    "    total -= np.exp(s2 / 2)\n",
    "    # or\n",
    "    # total = 20.0\n",
    "    # s1 = np.sum(x**2) / 2\n",
    "    # total -= 20.0 * np.exp(-0.2 * s1**0.5)\n",
    "    # s2 = np.sum(np.cos(2*np.pi*x))\n",
    "    # total -= np.exp(s2 / 2)\n",
    "    return total"
   ]
  },
  {
   "cell_type": "markdown",
   "metadata": {},
   "source": [
    "#### Set bounds (lower, upper) for each x[i]  "
   ]
  },
  {
   "cell_type": "code",
   "execution_count": 3,
   "metadata": {},
   "outputs": [],
   "source": [
    "bounds = [(-30.0, 32.0), (-31.0, 31.0)]"
   ]
  },
  {
   "cell_type": "markdown",
   "metadata": {},
   "source": [
    "#### Multiple trial and check obtained minima  "
   ]
  },
  {
   "cell_type": "code",
   "execution_count": 4,
   "metadata": {},
   "outputs": [],
   "source": [
    "n_trial = 3"
   ]
  },
  {
   "cell_type": "code",
   "execution_count": 5,
   "metadata": {},
   "outputs": [
    {
     "name": "stdout",
     "output_type": "stream",
     "text": [
      "[-14.76461884 -18.60442952]\n",
      "x: [-1.78448582e-10 -1.18102398e-09]\n",
      "f(x): -2.7182818250806915\n",
      "[12.85192822 25.59434229]\n",
      "x: [-2.9336556e-09 -5.0999299e-10]\n",
      "f(x): -2.718281820036968\n",
      "[ 31.88087713 -27.38893322]\n",
      "x: [-1.16319152e-08 -5.91004653e-09]\n",
      "f(x): -2.718281791555913\n"
     ]
    }
   ],
   "source": [
    "x = np.zeros(2)\n",
    "for i in range(n_trial):\n",
    "    # Initial value\n",
    "    x[0] = uniform(-30.0, 32.0)\n",
    "    x[1] = uniform(-31.0, 31.0)\n",
    "    print(x)  # debug\n",
    "    \n",
    "    # Dual annealing optimization\n",
    "    ret = dual_annealing(ackley2d, bounds, x0=x, maxiter=500, seed=19)\n",
    "    print('x:', ret.x)\n",
    "    print('f(x):', ret.fun)"
   ]
  },
  {
   "cell_type": "code",
   "execution_count": null,
   "metadata": {},
   "outputs": [],
   "source": []
  },
  {
   "cell_type": "code",
   "execution_count": null,
   "metadata": {},
   "outputs": [],
   "source": []
  },
  {
   "cell_type": "code",
   "execution_count": 15,
   "metadata": {},
   "outputs": [],
   "source": [
    "bounds = [(-4.5, 4.5), (-4.5, 4.5)]"
   ]
  },
  {
   "cell_type": "code",
   "execution_count": 16,
   "metadata": {},
   "outputs": [],
   "source": [
    "func = lambda x, y: 10 + (1.5-x+xy)**2 + (2.25-x+x*y*y)**2 + (2.625-x+x*y*y*y)**2\n"
   ]
  },
  {
   "cell_type": "code",
   "execution_count": 20,
   "metadata": {},
   "outputs": [
    {
     "name": "stdout",
     "output_type": "stream",
     "text": [
      "[ 3.94639698 -0.16677417]\n",
      "x: [-8.19705568e-10 -2.78182733e-09]\n",
      "f(x): -2.7182818202563728\n",
      "[-2.01942754  1.467399  ]\n",
      "x: [-5.23129682e-09 -5.16200856e-09]\n",
      "f(x): -2.7182818076719704\n",
      "[ 1.39064879 -1.74551208]\n",
      "x: [-1.67095133e-09 -1.78019417e-09]\n",
      "f(x): -2.718281821553298\n"
     ]
    }
   ],
   "source": [
    "x = np.zeros(2)\n",
    "for i in range(n_trial):\n",
    "    # Initial value\n",
    "    x[0] = uniform(-4.5, 4.5)\n",
    "    x[1] = uniform(-4.5, 4.5)\n",
    "    print(x)  # debug\n",
    "    \n",
    "    # Dual annealing optimization\n",
    "    ret = dual_annealing(ackley2d, bounds, x0=x, maxiter=500, seed=19)\n",
    "    print('x:', ret.x)\n",
    "    print('f(x):', ret.fun)"
   ]
  },
  {
   "cell_type": "code",
   "execution_count": 18,
   "metadata": {},
   "outputs": [
    {
     "data": {
      "text/plain": [
       "array([-2.55408654e-09, -3.90925767e-09])"
      ]
     },
     "execution_count": 18,
     "metadata": {},
     "output_type": "execute_result"
    }
   ],
   "source": [
    "ret.x"
   ]
  },
  {
   "cell_type": "code",
   "execution_count": 19,
   "metadata": {},
   "outputs": [
    {
     "data": {
      "text/plain": [
       "-2.7182818152512738"
      ]
     },
     "execution_count": 19,
     "metadata": {},
     "output_type": "execute_result"
    }
   ],
   "source": [
    "ret.fun"
   ]
  },
  {
   "cell_type": "code",
   "execution_count": null,
   "metadata": {},
   "outputs": [],
   "source": []
  }
 ],
 "metadata": {
  "kernelspec": {
   "display_name": "Python 3",
   "language": "python",
   "name": "python3"
  },
  "language_info": {
   "codemirror_mode": {
    "name": "ipython",
    "version": 3
   },
   "file_extension": ".py",
   "mimetype": "text/x-python",
   "name": "python",
   "nbconvert_exporter": "python",
   "pygments_lexer": "ipython3",
   "version": "3.8.5"
  }
 },
 "nbformat": 4,
 "nbformat_minor": 4
}
