{
 "cells": [
  {
   "cell_type": "code",
   "execution_count": 17,
   "metadata": {
    "tags": []
   },
   "outputs": [
    {
     "name": "stdout",
     "output_type": "stream",
     "text": [
      "Error  1.1025 Prediction  -0.25\n",
      "Error  0.6201562500000002 Prediction  0.012500000000000011\n",
      "Error  0.3488378906249999 Prediction  0.20937500000000003\n",
      "Error  0.19622131347656252 Prediction  0.35703125\n",
      "Error  0.11037448883056644 Prediction  0.4677734375\n",
      "Error  0.06208564996719365 Prediction  0.550830078125\n",
      "Error  0.034923178106546424 Prediction  0.61312255859375\n",
      "Error  0.019644287684932357 Prediction  0.6598419189453125\n",
      "Error  0.011049911822774457 Prediction  0.6948814392089844\n",
      "Error  0.006215575400310641 Prediction  0.7211610794067382\n",
      "Error  0.0034962611626747353 Prediction  0.7408708095550537\n",
      "Error  0.001966646904004536 Prediction  0.7556531071662903\n",
      "Error  0.0011062388835025535 Prediction  0.7667398303747177\n",
      "Error  0.0006222593719701891 Prediction  0.7750548727810382\n",
      "Error  0.0003500208967332314 Prediction  0.7812911545857787\n",
      "Error  0.00019688675441244187 Prediction  0.7859683659393341\n",
      "Error  0.00011074879935699914 Prediction  0.7894762744545005\n",
      "Error  6.22961996383129e-05 Prediction  0.7921072058408754\n",
      "Error  3.5041612296551e-05 Prediction  0.7940804043806565\n",
      "Error  1.971090691680969e-05 Prediction  0.7955603032854924\n"
     ]
    }
   ],
   "source": [
    "weight = 0.5\n",
    "goal = 0.8\n",
    "input = -0.5\n",
    "\n",
    "weight_arr = []\n",
    "error_arr = []\n",
    "for i in range(20):\n",
    "    pred = input * weight\n",
    "    error = (pred - goal)**2\n",
    "    direction_and_amount = (pred - goal) * input\n",
    "    weight = weight - direction_and_amount\n",
    "    weight_arr.append(weight)\n",
    "    error_arr.append(error)\n",
    "    \n",
    "    print(\"Error \", error, \"Prediction \", pred)"
   ]
  },
  {
   "cell_type": "code",
   "execution_count": 19,
   "metadata": {},
   "outputs": [
    {
     "data": {
      "image/png": "[encoded data removed]",
      "text/plain": [
       "<Figure size 432x288 with 1 Axes>"
      ]
     },
     "metadata": {
      "needs_background": "light"
     },
     "output_type": "display_data"
    }
   ],
   "source": [
    "import matplotlib.pyplot as plt\n",
    "plt.plot(weight_arr, error_arr)\n",
    "plt.xlabel(\"weight\")\n",
    "plt.ylabel(\"error\")\n",
    "plt.gca().invert_xaxis()"
   ]
  },
  {
   "cell_type": "code",
   "execution_count": null,
   "metadata": {},
   "outputs": [],
   "source": []
  },
  {
   "cell_type": "code",
   "execution_count": 8,
   "metadata": {},
   "outputs": [
    {
     "data": {
      "text/plain": [
       "<matplotlib.collections.PathCollection at 0x28703123e10>"
      ]
     },
     "execution_count": 8,
     "metadata": {},
     "output_type": "execute_result"
    },
    {
     "data": {
      "image/png": "[encoded data removed]",
      "text/plain": [
       "<Figure size 432x288 with 1 Axes>"
      ]
     },
     "metadata": {
      "needs_background": "light"
     },
     "output_type": "display_data"
    }
   ],
   "source": [
    "import matplotlib.pyplot as plt\n",
    "import numpy as np\n",
    "X = 2 * np.random.rand(100,1)\n",
    "Y = 4 + 3 * X + np.random.randn(100,1)\n",
    "plt.scatter(X,Y)\n"
   ]
  },
  {
   "cell_type": "code",
   "execution_count": 9,
   "metadata": {
    "tags": []
   },
   "outputs": [],
   "source": [
    "#Batch Gradient Descent\n",
    "# Calculating the partial derivatives of the cost function\n",
    "# updating the theta(weight) \n",
    "\n",
    "X_b = np.c_[np.ones((100, 1)), X]\n",
    "\n",
    "eta = 0.1 #learing rate\n",
    "iter = 10000\n",
    "m = 100 #number of features\n",
    "\n",
    "#random init\n",
    "theta = np.random.randn(2,1)\n",
    "\n",
    "theta_arr = np.empty((2,1))\n",
    "\n",
    "for i in range(iter):\n",
    "    # Gradient vector of the cost function\n",
    "    gradients = 2/m * X_b.T.dot(X_b.dot(theta) - Y)\n",
    "    theta = theta - eta * gradients\n",
    "    theta_arr = np.append(theta_arr, theta, axis=1)\n"
   ]
  },
  {
   "cell_type": "code",
   "execution_count": 10,
   "metadata": {},
   "outputs": [
    {
     "data": {
      "text/plain": [
       "<matplotlib.collections.PathCollection at 0x28707682240>"
      ]
     },
     "execution_count": 10,
     "metadata": {},
     "output_type": "execute_result"
    },
    {
     "data": {
      "image/png": "[encoded data removed]",
      "text/plain": [
       "<Figure size 432x288 with 1 Axes>"
      ]
     },
     "metadata": {
      "needs_background": "light"
     },
     "output_type": "display_data"
    }
   ],
   "source": [
    "plt.scatter(theta_arr[0],theta_arr[1])"
   ]
  },
  {
   "cell_type": "code",
   "execution_count": 44,
   "metadata": {},
   "outputs": [
    {
     "data": {
      "text/plain": [
       "array([[3.81485081],\n",
       "       [3.08991588]])"
      ]
     },
     "execution_count": 44,
     "metadata": {},
     "output_type": "execute_result"
    }
   ],
   "source": [
    "theta"
   ]
  },
  {
   "cell_type": "code",
   "execution_count": 49,
   "metadata": {},
   "outputs": [
    {
     "data": {
      "text/plain": [
       "array([[3.81485081],\n",
       "       [3.08991588]])"
      ]
     },
     "execution_count": 49,
     "metadata": {},
     "output_type": "execute_result"
    }
   ],
   "source": [
    "#normal equation\n",
    "ne_theta = np.linalg.inv(X_b.T.dot(X_b)).dot(X_b.T.dot(Y))\n",
    "ne_theta"
   ]
  },
  {
   "cell_type": "code",
   "execution_count": null,
   "metadata": {},
   "outputs": [],
   "source": []
  }
 ],
 "metadata": {
  "kernelspec": {
   "display_name": "Python 3",
   "language": "python",
   "name": "python3"
  },
  "language_info": {
   "codemirror_mode": {
    "name": "ipython",
    "version": 3
   },
   "file_extension": ".py",
   "mimetype": "text/x-python",
   "name": "python",
   "nbconvert_exporter": "python",
   "pygments_lexer": "ipython3",
   "version": "3.6.10"
  }
 },
 "nbformat": 4,
 "nbformat_minor": 4
}
