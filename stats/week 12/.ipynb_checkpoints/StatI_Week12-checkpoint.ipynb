{
 "cells": [
  {
   "cell_type": "code",
   "execution_count": 1,
   "metadata": {},
   "outputs": [
    {
     "data": {
      "text/plain": [
       "(108.24021609275968, 131.75978390724032)"
      ]
     },
     "execution_count": 1,
     "metadata": {},
     "output_type": "execute_result"
    }
   ],
   "source": [
    "import numpy as np\n",
    "import scipy.stats as st\n",
    "\n",
    "x=np.array([120])\n",
    "\n",
    "#Sample size.\n",
    "n=x.size\n",
    "\n",
    "#Sample mean.\n",
    "x_mean=x.mean()\n",
    "\n",
    "#Population SD.\n",
    "x_sd=6\n",
    "\n",
    "st.norm.interval(alpha=0.95,loc=x_mean,scale=x_sd/np.sqrt(n))"
   ]
  },
  {
   "cell_type": "code",
   "execution_count": 2,
   "metadata": {},
   "outputs": [
    {
     "data": {
      "text/plain": [
       "(7.820445974652658, 7.903554025347343)"
      ]
     },
     "execution_count": 2,
     "metadata": {},
     "output_type": "execute_result"
    }
   ],
   "source": [
    "import numpy as np\n",
    "import scipy.stats as st\n",
    "\n",
    "x=np.array([7.86, 7.89, 7.84, 7.90, 7.82])\n",
    "\n",
    "#Sample size.\n",
    "n=x.size\n",
    "\n",
    "#Sample mean.\n",
    "x_mean=x.mean()\n",
    "\n",
    "#Unknown SD.\n",
    "x_sd=np.std(x,ddof=1)\n",
    "\n",
    "st.t.interval(alpha=0.95,df=n-1,loc=x_mean,scale=x_sd/np.sqrt(n))"
   ]
  }
 ],
 "metadata": {
  "kernelspec": {
   "display_name": "Python 3",
   "language": "python",
   "name": "python3"
  },
  "language_info": {
   "codemirror_mode": {
    "name": "ipython",
    "version": 3
   },
   "file_extension": ".py",
   "mimetype": "text/x-python",
   "name": "python",
   "nbconvert_exporter": "python",
   "pygments_lexer": "ipython3",
   "version": "3.7.3"
  }
 },
 "nbformat": 4,
 "nbformat_minor": 2
}
