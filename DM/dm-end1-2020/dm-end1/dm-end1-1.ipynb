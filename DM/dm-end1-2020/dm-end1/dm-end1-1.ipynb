{
 "cells": [
  {
   "cell_type": "markdown",
   "metadata": {},
   "source": [
    "### Sample for DM end term exam 1 Problem 1"
   ]
  },
  {
   "cell_type": "markdown",
   "metadata": {},
   "source": [
    "#### Import libraries  "
   ]
  },
  {
   "cell_type": "code",
   "execution_count": 1,
   "metadata": {},
   "outputs": [],
   "source": [
    "import numpy as np\n",
    "import pandas as pd\n",
    "import matplotlib.pyplot as plt\n",
    "from sklearn.decomposition import PCA\n",
    "from sklearn.preprocessing import StandardScaler"
   ]
  },
  {
   "cell_type": "markdown",
   "metadata": {},
   "source": [
    "#### Parameters  "
   ]
  },
  {
   "cell_type": "code",
   "execution_count": 2,
   "metadata": {},
   "outputs": [],
   "source": [
    "csv_in = 'dm-end1-1.csv'"
   ]
  },
  {
   "cell_type": "markdown",
   "metadata": {},
   "source": [
    "#### biplot  function"
   ]
  },
  {
   "cell_type": "code",
   "execution_count": 3,
   "metadata": {},
   "outputs": [],
   "source": [
    "def biplot(X_2d, coef_2d, coef_labels=None):\n",
    "    r1 = 3.\n",
    "    r2 = 1.05\n",
    "    coef_2dT = coef_2d.T\n",
    "    if coef_labels is None:\n",
    "        coef_labels = range(len(coef_2dT))\n",
    "    for i, coef in enumerate(coef_2dT):\n",
    "        plt.arrow(0, 0, coef[0]*r1, coef[1]*r1, color='r')    \n",
    "        plt.text(coef[0]*r1*r2, coef[1]*r1*r2, coef_labels[i],\n",
    "                 color='b', fontsize=11)\n",
    "    plt.scatter(X_2d[:,0], X_2d[:,1])\n",
    "    plt.xlabel('PC_1')\n",
    "    plt.ylabel('PC_2')\n",
    "    \n",
    "    plt.xlim(-3,3)\n",
    "    plt.ylim(-3,3)\n",
    "    plt.gca().set_aspect('equal', adjustable='box')\n",
    "    \n",
    "    return None"
   ]
  },
  {
   "cell_type": "code",
   "execution_count": 4,
   "metadata": {},
   "outputs": [
    {
     "name": "stdout",
     "output_type": "stream",
     "text": [
      "(40, 5)\n",
      "<class 'pandas.core.frame.DataFrame'>\n",
      "RangeIndex: 40 entries, 0 to 39\n",
      "Data columns (total 5 columns):\n",
      " #   Column  Non-Null Count  Dtype\n",
      "---  ------  --------------  -----\n",
      " 0   Jpn     40 non-null     int64\n",
      " 1   Eng     40 non-null     int64\n",
      " 2   Math    40 non-null     int64\n",
      " 3   Phys    40 non-null     int64\n",
      " 4   Chem    40 non-null     int64\n",
      "dtypes: int64(5)\n",
      "memory usage: 1.7 KB\n",
      "None\n"
     ]
    },
    {
     "data": {
      "text/html": [
       "<div>\n",
       "<style scoped>\n",
       "    .dataframe tbody tr th:only-of-type {\n",
       "        vertical-align: middle;\n",
       "    }\n",
       "\n",
       "    .dataframe tbody tr th {\n",
       "        vertical-align: top;\n",
       "    }\n",
       "\n",
       "    .dataframe thead th {\n",
       "        text-align: right;\n",
       "    }\n",
       "</style>\n",
       "<table border=\"1\" class=\"dataframe\">\n",
       "  <thead>\n",
       "    <tr style=\"text-align: right;\">\n",
       "      <th></th>\n",
       "      <th>Jpn</th>\n",
       "      <th>Eng</th>\n",
       "      <th>Math</th>\n",
       "      <th>Phys</th>\n",
       "      <th>Chem</th>\n",
       "    </tr>\n",
       "  </thead>\n",
       "  <tbody>\n",
       "    <tr>\n",
       "      <th>0</th>\n",
       "      <td>59</td>\n",
       "      <td>57</td>\n",
       "      <td>50</td>\n",
       "      <td>54</td>\n",
       "      <td>46</td>\n",
       "    </tr>\n",
       "    <tr>\n",
       "      <th>1</th>\n",
       "      <td>43</td>\n",
       "      <td>45</td>\n",
       "      <td>47</td>\n",
       "      <td>50</td>\n",
       "      <td>48</td>\n",
       "    </tr>\n",
       "    <tr>\n",
       "      <th>2</th>\n",
       "      <td>48</td>\n",
       "      <td>42</td>\n",
       "      <td>57</td>\n",
       "      <td>57</td>\n",
       "      <td>57</td>\n",
       "    </tr>\n",
       "    <tr>\n",
       "      <th>3</th>\n",
       "      <td>46</td>\n",
       "      <td>46</td>\n",
       "      <td>60</td>\n",
       "      <td>61</td>\n",
       "      <td>54</td>\n",
       "    </tr>\n",
       "    <tr>\n",
       "      <th>4</th>\n",
       "      <td>40</td>\n",
       "      <td>36</td>\n",
       "      <td>31</td>\n",
       "      <td>32</td>\n",
       "      <td>36</td>\n",
       "    </tr>\n",
       "  </tbody>\n",
       "</table>\n",
       "</div>"
      ],
      "text/plain": [
       "   Jpn  Eng  Math  Phys  Chem\n",
       "0   59   57    50    54    46\n",
       "1   43   45    47    50    48\n",
       "2   48   42    57    57    57\n",
       "3   46   46    60    61    54\n",
       "4   40   36    31    32    36"
      ]
     },
     "metadata": {},
     "output_type": "display_data"
    }
   ],
   "source": [
    "df = pd.read_csv(csv_in, delimiter=',', skiprows=0, header=0)\n",
    "print(df.shape)\n",
    "print(df.info())\n",
    "display(df.head())"
   ]
  },
  {
   "cell_type": "code",
   "execution_count": 6,
   "metadata": {},
   "outputs": [],
   "source": [
    "sc = StandardScaler()\n",
    "X_std = sc.fit_transform(df)"
   ]
  },
  {
   "cell_type": "code",
   "execution_count": 7,
   "metadata": {},
   "outputs": [],
   "source": [
    "n_pca = 5\n",
    "pca = PCA(n_components=n_pca)\n",
    "X_pca = pca.fit_transform(X_std)"
   ]
  },
  {
   "cell_type": "code",
   "execution_count": 8,
   "metadata": {},
   "outputs": [
    {
     "name": "stdout",
     "output_type": "stream",
     "text": [
      "(40, 5)\n",
      "[[ 0.77824682  1.07233743 -0.61079973 -0.69629474  0.25602392]\n",
      " [-1.0325104  -1.01465555 -0.16039187  0.0982874   0.21967407]\n",
      " [ 0.59231526 -1.72395192  0.72275579 -0.25695821 -0.26244842]\n",
      " [ 0.96535162 -1.86983091 -0.14143834 -0.43522597 -0.21756003]\n",
      " [-4.47765589 -0.11781266  0.34941279  0.19302839  0.16273811]]\n"
     ]
    }
   ],
   "source": [
    "print(X_pca.shape)\n",
    "print(X_pca[:5])"
   ]
  },
  {
   "cell_type": "code",
   "execution_count": 9,
   "metadata": {},
   "outputs": [
    {
     "name": "stdout",
     "output_type": "stream",
     "text": [
      "[0.64671026 0.21353731 0.06909157 0.03560072 0.03506014]\n",
      "[0.64671026 0.86024757 0.92933913 0.96493986 1.        ]\n"
     ]
    }
   ],
   "source": [
    "print(pca.explained_variance_ratio_)\n",
    "print(np.cumsum(pca.explained_variance_ratio_))"
   ]
  },
  {
   "cell_type": "code",
   "execution_count": 10,
   "metadata": {},
   "outputs": [
    {
     "data": {
      "image/png": "[encoded data removed]",
      "text/plain": [
       "<Figure size 432x288 with 1 Axes>"
      ]
     },
     "metadata": {
      "needs_background": "light"
     },
     "output_type": "display_data"
    }
   ],
   "source": [
    "xx = range(1, n_pca+1)\n",
    "plt.bar(xx, pca.explained_variance_ratio_)\n",
    "plt.step(xx, np.cumsum(pca.explained_variance_ratio_), where='mid')\n",
    "plt.ylabel('Explained variance ratio')\n",
    "plt.xlabel('Principal components')\n",
    "plt.show()"
   ]
  },
  {
   "cell_type": "code",
   "execution_count": 16,
   "metadata": {},
   "outputs": [
    {
     "data": {
      "image/png": "[encoded data removed]",
      "text/plain": [
       "<Figure size 432x288 with 1 Axes>"
      ]
     },
     "metadata": {
      "needs_background": "light"
     },
     "output_type": "display_data"
    }
   ],
   "source": [
    "def biplot(X_2d, coef_2d, coef_labels=None):\n",
    "    r1 = 6\n",
    "    r2 = 1.01\n",
    "    coef_2dT = coef_2d.T\n",
    "    if coef_labels is None:\n",
    "        coef_labels = range(len(coef_2dT))\n",
    "    for i, coef in enumerate(coef_2dT):\n",
    "        plt.arrow(0, 0, coef[0]*r1, coef[1]*r1, color='r')    \n",
    "        plt.text(coef[0]*r1*r2, coef[1]*r1*r2, coef_labels[i],\n",
    "                 color='b', fontsize=11)\n",
    "    plt.scatter(X_2d[:,0], X_2d[:,1])\n",
    "    plt.xlabel('PC_1')\n",
    "    plt.ylabel('PC_2')\n",
    "    return None\n",
    "\n",
    "biplot(X_pca[:, :2], pca.components_[:2], coef_labels=df.columns)"
   ]
  },
  {
   "cell_type": "code",
   "execution_count": null,
   "metadata": {},
   "outputs": [],
   "source": []
  }
 ],
 "metadata": {
  "kernelspec": {
   "display_name": "Python 3",
   "language": "python",
   "name": "python3"
  },
  "language_info": {
   "codemirror_mode": {
    "name": "ipython",
    "version": 3
   },
   "file_extension": ".py",
   "mimetype": "text/x-python",
   "name": "python",
   "nbconvert_exporter": "python",
   "pygments_lexer": "ipython3",
   "version": "3.8.5"
  }
 },
 "nbformat": 4,
 "nbformat_minor": 4
}
