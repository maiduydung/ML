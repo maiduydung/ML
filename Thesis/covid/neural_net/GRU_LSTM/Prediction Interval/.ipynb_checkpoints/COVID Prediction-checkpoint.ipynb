{
 "cells": [
  {
   "cell_type": "code",
   "execution_count": 1,
   "id": "stock-watson",
   "metadata": {},
   "outputs": [],
   "source": [
    "import numpy as np\n",
    "import pandas as pd\n",
    "import matplotlib.pyplot as plt\n",
    "from keras.models import Sequential, load_model\n",
    "from keras.layers import LSTM, GRU, Dense, Dropout\n",
    "from keras.callbacks import EarlyStopping\n",
    "from sklearn.preprocessing import MinMaxScaler\n",
    "from sklearn.metrics import mean_squared_error\n",
    "from keras.preprocessing.sequence import TimeseriesGenerator\n",
    "import tensorflow as tf\n",
    "from keras.callbacks import EarlyStopping, ModelCheckpoint\n",
    "from keras.models import load_model\n"
   ]
  },
  {
   "cell_type": "code",
   "execution_count": 2,
   "id": "missing-schema",
   "metadata": {},
   "outputs": [],
   "source": [
    "import warnings\n",
    "warnings.filterwarnings('ignore')\n",
    "\n",
    "import os\n",
    "os.environ['TF_CPP_MIN_LOG_LEVEL'] = '3'  #disable tensorflow warnings"
   ]
  },
  {
   "cell_type": "code",
   "execution_count": 3,
   "id": "atmospheric-breed",
   "metadata": {},
   "outputs": [],
   "source": [
    "\n",
    "def read_from_source():\n",
    "    df = pd.read_csv('https://toyokeizai.net/sp/visual/tko/covid19/csv/pcr_positive_daily.csv')\n",
    "    df = df.rename(columns={'日付': 'Date', 'PCR 検査陽性者数(単日)': 'Infected'}) #renaming from Japanese to English\n",
    "    df['Date'] = pd.to_datetime(df['Date'])\n",
    "    return df\n",
    "\n",
    "\n",
    "\n",
    "def pred_covid(model_name, df, model_idx): #GRU or LSTM\n",
    "    #model = load_model('../'+model_name +'_infected_only_GRU_LSTM_Oct16.h5') #best\n",
    "    model = load_model('LSTM_GRU_Oct23_relu/' + model_name +'_infected_only_Oct23_'+str(model_idx)+'.h5')\n",
    "    print(model_name,'loaded')\n",
    "\n",
    "    #constant\n",
    "    n_steps_in = 14\n",
    "    n_steps_out = 4\n",
    "    sc = MinMaxScaler(feature_range = (0, 1))\n",
    "    \n",
    "    x_input = df['Infected'][-n_steps_in:].values # last 14 day\n",
    "    x_input = sc.fit_transform(x_input.reshape(len(x_input), 1))\n",
    "    x_input = x_input.reshape((1, n_steps_in, 1))\n",
    "    \n",
    "    #y_pred = model.predict(x_input) # too much warnings\n",
    "    y_pred = model(x_input)\n",
    "    y_pred = sc.inverse_transform(y_pred) #revert scaling\n",
    "    #print('Next 4 days prediction:', y_pred)\n",
    "    \n",
    "    start_date = str(df['Date'].iloc[-14])[:10]\n",
    "    end_date = df['Date'].iloc[-15] + pd.Timedelta(18, unit='D')                  \n",
    "    end_date = str(end_date)[:10]\n",
    "    #print(start_date,'---', end_date)\n",
    "    time_range = pd.date_range(start=start_date, end=end_date)\n",
    "    \n",
    "    pred_list = list(zip(time_range[-4:].strftime('%Y-%m-%d'), y_pred[0,:]))\n",
    "    return pd.DataFrame (pred_list, columns = ['Date', 'Predict Infected'])"
   ]
  },
  {
   "cell_type": "code",
   "execution_count": 4,
   "id": "personalized-utilization",
   "metadata": {},
   "outputs": [
    {
     "data": {
      "text/html": [
       "<div>\n",
       "<style scoped>\n",
       "    .dataframe tbody tr th:only-of-type {\n",
       "        vertical-align: middle;\n",
       "    }\n",
       "\n",
       "    .dataframe tbody tr th {\n",
       "        vertical-align: top;\n",
       "    }\n",
       "\n",
       "    .dataframe thead th {\n",
       "        text-align: right;\n",
       "    }\n",
       "</style>\n",
       "<table border=\"1\" class=\"dataframe\">\n",
       "  <thead>\n",
       "    <tr style=\"text-align: right;\">\n",
       "      <th></th>\n",
       "      <th>Date</th>\n",
       "      <th>Infected</th>\n",
       "    </tr>\n",
       "  </thead>\n",
       "  <tbody>\n",
       "    <tr>\n",
       "      <th>0</th>\n",
       "      <td>2020-01-16</td>\n",
       "      <td>1.0</td>\n",
       "    </tr>\n",
       "    <tr>\n",
       "      <th>1</th>\n",
       "      <td>2020-01-17</td>\n",
       "      <td>0.0</td>\n",
       "    </tr>\n",
       "    <tr>\n",
       "      <th>2</th>\n",
       "      <td>2020-01-18</td>\n",
       "      <td>0.0</td>\n",
       "    </tr>\n",
       "    <tr>\n",
       "      <th>3</th>\n",
       "      <td>2020-01-19</td>\n",
       "      <td>0.0</td>\n",
       "    </tr>\n",
       "    <tr>\n",
       "      <th>4</th>\n",
       "      <td>2020-01-20</td>\n",
       "      <td>0.0</td>\n",
       "    </tr>\n",
       "    <tr>\n",
       "      <th>...</th>\n",
       "      <td>...</td>\n",
       "      <td>...</td>\n",
       "    </tr>\n",
       "    <tr>\n",
       "      <th>649</th>\n",
       "      <td>2021-10-26</td>\n",
       "      <td>309.0</td>\n",
       "    </tr>\n",
       "    <tr>\n",
       "      <th>650</th>\n",
       "      <td>2021-10-27</td>\n",
       "      <td>310.0</td>\n",
       "    </tr>\n",
       "    <tr>\n",
       "      <th>651</th>\n",
       "      <td>2021-10-28</td>\n",
       "      <td>268.0</td>\n",
       "    </tr>\n",
       "    <tr>\n",
       "      <th>652</th>\n",
       "      <td>2021-10-29</td>\n",
       "      <td>291.0</td>\n",
       "    </tr>\n",
       "    <tr>\n",
       "      <th>653</th>\n",
       "      <td>2021-10-30</td>\n",
       "      <td>283.0</td>\n",
       "    </tr>\n",
       "  </tbody>\n",
       "</table>\n",
       "<p>654 rows × 2 columns</p>\n",
       "</div>"
      ],
      "text/plain": [
       "          Date  Infected\n",
       "0   2020-01-16       1.0\n",
       "1   2020-01-17       0.0\n",
       "2   2020-01-18       0.0\n",
       "3   2020-01-19       0.0\n",
       "4   2020-01-20       0.0\n",
       "..         ...       ...\n",
       "649 2021-10-26     309.0\n",
       "650 2021-10-27     310.0\n",
       "651 2021-10-28     268.0\n",
       "652 2021-10-29     291.0\n",
       "653 2021-10-30     283.0\n",
       "\n",
       "[654 rows x 2 columns]"
      ]
     },
     "execution_count": 4,
     "metadata": {},
     "output_type": "execute_result"
    }
   ],
   "source": [
    "df = read_from_source()\n",
    "#df = df.append({'Date':pd.to_datetime('2021-10-31'),'Infected':4284}, ignore_index = True) #anomaly\n",
    "#df = df.append({'Date':pd.to_datetime('2021-11-01'),'Infected':5000}, ignore_index = True) #anomaly\n",
    "#df = df.append({'Date':pd.to_datetime('2021-11-02'),'Infected':354}, ignore_index = True) #anomaly\n",
    "\n",
    "df"
   ]
  },
  {
   "cell_type": "code",
   "execution_count": 6,
   "id": "phantom-ordering",
   "metadata": {},
   "outputs": [
    {
     "name": "stdout",
     "output_type": "stream",
     "text": [
      "GRU loaded\n"
     ]
    },
    {
     "data": {
      "text/html": [
       "<div>\n",
       "<style scoped>\n",
       "    .dataframe tbody tr th:only-of-type {\n",
       "        vertical-align: middle;\n",
       "    }\n",
       "\n",
       "    .dataframe tbody tr th {\n",
       "        vertical-align: top;\n",
       "    }\n",
       "\n",
       "    .dataframe thead th {\n",
       "        text-align: right;\n",
       "    }\n",
       "</style>\n",
       "<table border=\"1\" class=\"dataframe\">\n",
       "  <thead>\n",
       "    <tr style=\"text-align: right;\">\n",
       "      <th></th>\n",
       "      <th>Date</th>\n",
       "      <th>Predict Infected</th>\n",
       "    </tr>\n",
       "  </thead>\n",
       "  <tbody>\n",
       "    <tr>\n",
       "      <th>0</th>\n",
       "      <td>2021-10-31</td>\n",
       "      <td>258.924769</td>\n",
       "    </tr>\n",
       "    <tr>\n",
       "      <th>1</th>\n",
       "      <td>2021-11-01</td>\n",
       "      <td>231.518551</td>\n",
       "    </tr>\n",
       "    <tr>\n",
       "      <th>2</th>\n",
       "      <td>2021-11-02</td>\n",
       "      <td>256.394384</td>\n",
       "    </tr>\n",
       "    <tr>\n",
       "      <th>3</th>\n",
       "      <td>2021-11-03</td>\n",
       "      <td>232.104386</td>\n",
       "    </tr>\n",
       "  </tbody>\n",
       "</table>\n",
       "</div>"
      ],
      "text/plain": [
       "         Date  Predict Infected\n",
       "0  2021-10-31        258.924769\n",
       "1  2021-11-01        231.518551\n",
       "2  2021-11-02        256.394384\n",
       "3  2021-11-03        232.104386"
      ]
     },
     "execution_count": 6,
     "metadata": {},
     "output_type": "execute_result"
    }
   ],
   "source": [
    "pred_covid('GRU', df,1)"
   ]
  },
  {
   "cell_type": "code",
   "execution_count": 7,
   "id": "pretty-graduate",
   "metadata": {},
   "outputs": [],
   "source": [
    "def get_prediction(model, df): #model = 'GRU' or 'LSTM'\n",
    "    pred_arr = []\n",
    "    for model_idx in [1,2,3]:\n",
    "        #print(model,model_idx,pred_covid(model, df,model_idx))\n",
    "        pred_arr.append(np.array(pred_covid(model, df,model_idx)['Predict Infected'].values))\n",
    "    return np.array(pred_arr)"
   ]
  },
  {
   "cell_type": "code",
   "execution_count": 8,
   "id": "greek-delaware",
   "metadata": {},
   "outputs": [],
   "source": [
    "def get_PI(pred_arr):\n",
    "    intervals = []\n",
    "    means = []\n",
    "    uppers = []\n",
    "    lowers = []\n",
    "    for idx in [0,1,2,3]:\n",
    "        cov_std = pred_arr[:,idx].std()\n",
    "        cov_interval = cov_std*1.96\n",
    "        cov_mean = pred_arr[:,idx].mean()\n",
    "        cov_lower = cov_mean - cov_interval\n",
    "        if (cov_lower<0):\n",
    "            cov_lower = 0\n",
    "        cov_upper = cov_mean + cov_interval\n",
    "        print(pred_arr[:,idx], 'Interval: ',cov_interval , 'Lower: ',cov_lower, 'Mean: ',cov_mean, 'Upper: ',cov_upper)\n",
    "        \n",
    "        intervals.append(int(cov_interval))\n",
    "        means.append(int(cov_mean))\n",
    "        uppers.append(int(cov_upper))\n",
    "        lowers.append(int(cov_lower))\n",
    "    \n",
    "    return intervals, means, uppers, lowers"
   ]
  },
  {
   "cell_type": "code",
   "execution_count": 9,
   "id": "dominant-maple",
   "metadata": {},
   "outputs": [
    {
     "name": "stdout",
     "output_type": "stream",
     "text": [
      "GRU loaded\n",
      "GRU loaded\n",
      "GRU loaded\n",
      "[258.92476916 271.7638641  233.60713619] Interval:  31.071208938024597 Lower:  223.69404754632498 Mean:  254.76525648434958 Upper:  285.8364654223742\n",
      "[231.51855075 249.67377007 253.4188841 ] Interval:  18.74579981870768 Lower:  226.1246018220254 Mean:  244.8704016407331 Upper:  263.6162014594408\n",
      "[256.39438367 312.22037983 260.80186224] Interval:  49.66980004348887 Lower:  226.80240853589243 Mean:  276.4722085793813 Upper:  326.14200862287015\n",
      "[232.10438633 316.68577087 275.56890386] Interval:  67.6878925336842 Lower:  207.09846115376115 Mean:  274.78635368744534 Upper:  342.47424622112953\n",
      "Wall time: 4.81 s\n"
     ]
    }
   ],
   "source": [
    "%%time\n",
    "model_type = 'GRU'\n",
    "GRU_pred_arr = get_prediction(model_type,df)\n",
    "cov_intervals, cov_means, cov_uppers, cov_lowers = get_PI(GRU_pred_arr)\n"
   ]
  },
  {
   "cell_type": "code",
   "execution_count": 10,
   "id": "differential-portsmouth",
   "metadata": {},
   "outputs": [
    {
     "data": {
      "text/plain": [
       "array([[258.92476916, 231.51855075, 256.39438367, 232.10438633],\n",
       "       [271.7638641 , 249.67377007, 312.22037983, 316.68577087],\n",
       "       [233.60713619, 253.4188841 , 260.80186224, 275.56890386]])"
      ]
     },
     "execution_count": 10,
     "metadata": {},
     "output_type": "execute_result"
    }
   ],
   "source": [
    "GRU_pred_arr"
   ]
  },
  {
   "cell_type": "code",
   "execution_count": 11,
   "id": "southeast-number",
   "metadata": {},
   "outputs": [
    {
     "data": {
      "text/plain": [
       "[31, 18, 49, 67]"
      ]
     },
     "execution_count": 11,
     "metadata": {},
     "output_type": "execute_result"
    }
   ],
   "source": [
    "cov_intervals"
   ]
  },
  {
   "cell_type": "code",
   "execution_count": 12,
   "id": "forty-pipeline",
   "metadata": {},
   "outputs": [
    {
     "data": {
      "text/plain": [
       "[254, 244, 276, 274]"
      ]
     },
     "execution_count": 12,
     "metadata": {},
     "output_type": "execute_result"
    }
   ],
   "source": [
    "cov_means"
   ]
  },
  {
   "cell_type": "code",
   "execution_count": 13,
   "id": "different-heaven",
   "metadata": {},
   "outputs": [],
   "source": [
    "y = cov_means\n"
   ]
  },
  {
   "cell_type": "code",
   "execution_count": 14,
   "id": "promotional-applicant",
   "metadata": {},
   "outputs": [
    {
     "data": {
      "text/plain": [
       "'2021-10-17'"
      ]
     },
     "execution_count": 14,
     "metadata": {},
     "output_type": "execute_result"
    }
   ],
   "source": [
    "start_date = str(df[-14:]['Date'].iloc[0])[:10]\n",
    "start_date"
   ]
  },
  {
   "cell_type": "code",
   "execution_count": 15,
   "id": "uniform-invasion",
   "metadata": {},
   "outputs": [
    {
     "name": "stdout",
     "output_type": "stream",
     "text": [
      "GRU loaded\n"
     ]
    },
    {
     "data": {
      "text/plain": [
       "'2021-11-03'"
      ]
     },
     "execution_count": 15,
     "metadata": {},
     "output_type": "execute_result"
    }
   ],
   "source": [
    "end_date = pred_covid('GRU', df,3)['Date'][3]\n",
    "end_date"
   ]
  },
  {
   "cell_type": "code",
   "execution_count": 16,
   "id": "painful-edwards",
   "metadata": {},
   "outputs": [],
   "source": [
    "time_range = pd.date_range(start = start_date, end= end_date)\n"
   ]
  },
  {
   "cell_type": "code",
   "execution_count": 17,
   "id": "governmental-advocate",
   "metadata": {},
   "outputs": [
    {
     "data": {
      "text/plain": [
       "DatetimeIndex(['2021-10-17', '2021-10-18', '2021-10-19', '2021-10-20',\n",
       "               '2021-10-21', '2021-10-22', '2021-10-23', '2021-10-24',\n",
       "               '2021-10-25', '2021-10-26', '2021-10-27', '2021-10-28',\n",
       "               '2021-10-29', '2021-10-30'],\n",
       "              dtype='datetime64[ns]', freq='D')"
      ]
     },
     "execution_count": 17,
     "metadata": {},
     "output_type": "execute_result"
    }
   ],
   "source": [
    "time_range[:-4]"
   ]
  },
  {
   "cell_type": "code",
   "execution_count": 18,
   "id": "permanent-conviction",
   "metadata": {},
   "outputs": [
    {
     "data": {
      "text/plain": [
       "18"
      ]
     },
     "execution_count": 18,
     "metadata": {},
     "output_type": "execute_result"
    }
   ],
   "source": [
    "len(time_range)"
   ]
  },
  {
   "cell_type": "code",
   "execution_count": 19,
   "id": "verified-banking",
   "metadata": {},
   "outputs": [
    {
     "data": {
      "text/plain": [
       "[31, 18, 49, 67]"
      ]
     },
     "execution_count": 19,
     "metadata": {},
     "output_type": "execute_result"
    }
   ],
   "source": [
    "cov_intervals"
   ]
  },
  {
   "cell_type": "code",
   "execution_count": 20,
   "id": "removable-hampton",
   "metadata": {},
   "outputs": [
    {
     "data": {
      "text/plain": [
       "254"
      ]
     },
     "execution_count": 20,
     "metadata": {},
     "output_type": "execute_result"
    }
   ],
   "source": [
    "y[0]"
   ]
  },
  {
   "cell_type": "code",
   "execution_count": null,
   "id": "wanted-stomach",
   "metadata": {},
   "outputs": [],
   "source": [
    "\n"
   ]
  },
  {
   "cell_type": "code",
   "execution_count": 21,
   "id": "italian-estimate",
   "metadata": {},
   "outputs": [
    {
     "data": {
      "image/png": "[encoded data removed]",
      "text/plain": [
       "<Figure size 1440x400 with 1 Axes>"
      ]
     },
     "metadata": {
      "needs_background": "light"
     },
     "output_type": "display_data"
    }
   ],
   "source": [
    "from matplotlib.pyplot import figure\n",
    "figure(figsize=(18, 5), dpi=80)\n",
    "\n",
    "plt.plot(time_range[:-4],df['Infected'][-14:], label='Observed')\n",
    "plt.plot(time_range[-4:],y, label='Prediction')\n",
    "\n",
    "plt.errorbar(time_range[-4], y[0], yerr=cov_intervals[0], color='black', fmt='o', label='95% Prediction Interval')\n",
    "plt.errorbar(time_range[-3], y[1], yerr=cov_intervals[1], color='black', fmt='o')\n",
    "plt.errorbar(time_range[-2], y[2], yerr=cov_intervals[2], color='black', fmt='o')\n",
    "plt.errorbar(time_range[-1], y[3], yerr=cov_intervals[3], color='black', fmt='o')\n",
    "\n",
    "plt.xlabel('Date')\n",
    "plt.ylabel('Cases')\n",
    "plt.xticks(time_range,rotation=45)\n",
    "plt.title('COVID-19 Prediction in Japan \\nfrom {0} to {1} with {2}'.format(start_date, end_date, model_type))\n",
    "plt.legend()\n",
    "plt.ylim(0, None) # Or similarly \"plt.ylim(0)\" #important\n",
    "\n",
    "plt.show()"
   ]
  },
  {
   "cell_type": "code",
   "execution_count": null,
   "id": "accomplished-locking",
   "metadata": {},
   "outputs": [],
   "source": []
  },
  {
   "cell_type": "code",
   "execution_count": null,
   "id": "based-white",
   "metadata": {},
   "outputs": [],
   "source": []
  },
  {
   "cell_type": "code",
   "execution_count": null,
   "id": "nervous-listening",
   "metadata": {},
   "outputs": [],
   "source": []
  },
  {
   "cell_type": "code",
   "execution_count": null,
   "id": "verified-broadcast",
   "metadata": {},
   "outputs": [],
   "source": []
  }
 ],
 "metadata": {
  "kernelspec": {
   "display_name": "Python 3",
   "language": "python",
   "name": "python3"
  },
  "language_info": {
   "codemirror_mode": {
    "name": "ipython",
    "version": 3
   },
   "file_extension": ".py",
   "mimetype": "text/x-python",
   "name": "python",
   "nbconvert_exporter": "python",
   "pygments_lexer": "ipython3",
   "version": "3.8.5"
  }
 },
 "nbformat": 4,
 "nbformat_minor": 5
}
