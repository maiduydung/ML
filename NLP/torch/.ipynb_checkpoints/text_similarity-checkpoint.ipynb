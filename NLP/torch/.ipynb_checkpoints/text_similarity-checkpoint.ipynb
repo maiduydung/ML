{
 "cells": [
  {
   "cell_type": "code",
   "execution_count": 1,
   "id": "77989236-af84-4741-8480-5d5a0c6bb3d2",
   "metadata": {
    "tags": []
   },
   "outputs": [],
   "source": [
    "from sentence_transformers import SentenceTransformer, util\n",
    "import pandas as pd\n",
    "import numpy as np\n",
    "from tqdm.notebook import tqdm\n",
    "tqdm.pandas()\n",
    "\n",
    "model = SentenceTransformer('sentence-transformers/all-MiniLM-L6-v2')\n"
   ]
  },
  {
   "cell_type": "code",
   "execution_count": 2,
   "id": "fac2e5a7-485a-428f-9606-19f9208dc031",
   "metadata": {},
   "outputs": [
    {
     "data": {
      "text/plain": [
       "tensor([[0.6003]])"
      ]
     },
     "execution_count": 2,
     "metadata": {},
     "output_type": "execute_result"
    }
   ],
   "source": [
    "sentences = [\"I'm happy\", \"I'm full of happiness\"]\n",
    "\n",
    "\n",
    "#Compute embedding for both lists\n",
    "embedding_1= model.encode(sentences[0], convert_to_tensor=True)\n",
    "embedding_2 = model.encode(sentences[1], convert_to_tensor=True)\n",
    "\n",
    "util.pytorch_cos_sim(embedding_1, embedding_2)\n",
    "## tensor([[0.6003]])"
   ]
  },
  {
   "cell_type": "code",
   "execution_count": null,
   "id": "c57dda69-06b3-4d55-81de-bd74f90560fc",
   "metadata": {},
   "outputs": [],
   "source": []
  },
  {
   "cell_type": "code",
   "execution_count": 27,
   "id": "e0822c21-192a-4513-a0df-30e1fdc4c5e4",
   "metadata": {},
   "outputs": [
    {
     "name": "stdout",
     "output_type": "stream",
     "text": [
      "(5000, 7)\n"
     ]
    },
    {
     "data": {
      "text/html": [
       "<div>\n",
       "<style scoped>\n",
       "    .dataframe tbody tr th:only-of-type {\n",
       "        vertical-align: middle;\n",
       "    }\n",
       "\n",
       "    .dataframe tbody tr th {\n",
       "        vertical-align: top;\n",
       "    }\n",
       "\n",
       "    .dataframe thead th {\n",
       "        text-align: right;\n",
       "    }\n",
       "</style>\n",
       "<table border=\"1\" class=\"dataframe\">\n",
       "  <thead>\n",
       "    <tr style=\"text-align: right;\">\n",
       "      <th></th>\n",
       "      <th>domain</th>\n",
       "      <th>revision_internal_links</th>\n",
       "      <th>description</th>\n",
       "      <th>description_language</th>\n",
       "      <th>ml_is_business</th>\n",
       "      <th>y_is_recurring</th>\n",
       "      <th>source</th>\n",
       "    </tr>\n",
       "  </thead>\n",
       "  <tbody>\n",
       "    <tr>\n",
       "      <th>0</th>\n",
       "      <td>zars-usa.com</td>\n",
       "      <td>[\"https://www.zars-usa.com/\", \"https://www.zar...</td>\n",
       "      <td>Your Bottle Means JobsThe Carolinas plastics r...</td>\n",
       "      <td>en</td>\n",
       "      <td>NaN</td>\n",
       "      <td>False</td>\n",
       "      <td>WS</td>\n",
       "    </tr>\n",
       "    <tr>\n",
       "      <th>1</th>\n",
       "      <td>bearpawbarn.com</td>\n",
       "      <td>[\"#first\", \"tel:860-222-9940\"]</td>\n",
       "      <td>Find out more about Amy Gardner Anderson's tra...</td>\n",
       "      <td>en</td>\n",
       "      <td>NaN</td>\n",
       "      <td>False</td>\n",
       "      <td>Kurrant</td>\n",
       "    </tr>\n",
       "    <tr>\n",
       "      <th>2</th>\n",
       "      <td>parkhilldental.com</td>\n",
       "      <td>[\"/index.html\", \"/dr-thomas-j-croghan.html\", \"...</td>\n",
       "      <td>When you visit our Denver dental office, your ...</td>\n",
       "      <td>en</td>\n",
       "      <td>NaN</td>\n",
       "      <td>False</td>\n",
       "      <td>WS</td>\n",
       "    </tr>\n",
       "    <tr>\n",
       "      <th>3</th>\n",
       "      <td>i2ctech.com</td>\n",
       "      <td>NaN</td>\n",
       "      <td>i2c Technologies is an operator of a technolog...</td>\n",
       "      <td>en</td>\n",
       "      <td>NaN</td>\n",
       "      <td>False</td>\n",
       "      <td>Kurrant</td>\n",
       "    </tr>\n",
       "    <tr>\n",
       "      <th>4</th>\n",
       "      <td>abraham.com</td>\n",
       "      <td>[\"#\", \"https://www.abraham.com\", \"/feed/\", \"/k...</td>\n",
       "      <td>Jay increases business income, wealth and succ...</td>\n",
       "      <td>en</td>\n",
       "      <td>NaN</td>\n",
       "      <td>False</td>\n",
       "      <td>Kurrant</td>\n",
       "    </tr>\n",
       "  </tbody>\n",
       "</table>\n",
       "</div>"
      ],
      "text/plain": [
       "               domain                            revision_internal_links  \\\n",
       "0        zars-usa.com  [\"https://www.zars-usa.com/\", \"https://www.zar...   \n",
       "1     bearpawbarn.com                     [\"#first\", \"tel:860-222-9940\"]   \n",
       "2  parkhilldental.com  [\"/index.html\", \"/dr-thomas-j-croghan.html\", \"...   \n",
       "3         i2ctech.com                                                NaN   \n",
       "4         abraham.com  [\"#\", \"https://www.abraham.com\", \"/feed/\", \"/k...   \n",
       "\n",
       "                                         description description_language  \\\n",
       "0  Your Bottle Means JobsThe Carolinas plastics r...                   en   \n",
       "1  Find out more about Amy Gardner Anderson's tra...                   en   \n",
       "2  When you visit our Denver dental office, your ...                   en   \n",
       "3  i2c Technologies is an operator of a technolog...                   en   \n",
       "4  Jay increases business income, wealth and succ...                   en   \n",
       "\n",
       "  ml_is_business  y_is_recurring   source  \n",
       "0            NaN           False       WS  \n",
       "1            NaN           False  Kurrant  \n",
       "2            NaN           False       WS  \n",
       "3            NaN           False  Kurrant  \n",
       "4            NaN           False  Kurrant  "
      ]
     },
     "execution_count": 27,
     "metadata": {},
     "output_type": "execute_result"
    }
   ],
   "source": [
    "df = pd.read_csv('revenue_stream_training_samples_jul25.csv')\n",
    "df = df.sample(5000, random_state=1, ignore_index=True)\n",
    "df['description'] = df['description'].astype('str')\n",
    "print(df.shape)\n",
    "df.head()"
   ]
  },
  {
   "cell_type": "code",
   "execution_count": 28,
   "id": "c4210d3f-5670-4a82-9465-9ed69b101831",
   "metadata": {},
   "outputs": [],
   "source": [
    "selected_docs = ['''Celebrating 40 Years in BusinessP. J. Barnett Associates, this year, celebrates 40 years in business. The construction industry has changed a great deal since the company was established by Peter Barnett in 1972, it has had to adapt with the industry as technology evolved from the use of drawings boards, slide rules and ink pens to Computer-Aided Design.P. J. Barnett Associates work from our award winning freehold offices in Wolverhampton, undertaking roles including all consulting aspects of Civil and Structural Engineering, Principal Designer, Project Management, Party Wall Surveyor, Building Surveyor and Expert Witness.Our client list includes public and private companies, insurance companies, local authorities, public utilities, housing associations, schools, private individuals, development companies and contractors.Our VisionTo develop and grow our Engineering solutions in synergy with technology and environmental changesOur Mission StatementTo deliver Construction and Management solutions which meet the needs of our clients and the users they serveCelebrating40 years 1972-2012View Our ProjectsAccreditationProud to be affiliated with the Institution of Civil Engineers (ICE)NationwideWe are based in Wolverhampton, West Midlands and we cover the whole of the United KingdomContact us today:(01902) 427297pjb@pjba.co.uk© 2012 | All rights reservedP J Barnett     Associates | Waterloo                 House | 92-94 Chapel Ash | Wolverhampton | WV3 0TYTel 01902 427297 | Fax 01902 712123 | email pjb@pjba.co.uk | web www.pjba.co.uk''',\n",
    "                 '''Applied Products Group, L.L.C. is an environmentally sensitive company offering the most innovative technologies for municipal, industrial, and commercial water & wastewater treatment.We have been involved in over 100 wastewater treatment plants ranging from lagoon systems to full nutrient removal and membrane systems.APG Water has provided over 50 water treatment plants with surface or ground water filtration systems providing solutions for arsenic, nitrate, iron, manganese, color and radon removal.We work with municipalities, engineers, developers and design build firms to deliver the most cost effective environmentally friendly water and wastewater systems.How can we serve you?''',\n",
    "                 '''Advanced Glazing Systems provide high specification windows, doors, Roof Lanterns, Roof Lights and conservatories at affordable prices in Romford, Hornchurch, Upminster, Brentwood, Essex. Call us: +44 1277 230101''']\n",
    "selected_docs_encoded = [model.encode(doc, convert_to_tensor=True) for doc in selected_docs]"
   ]
  },
  {
   "cell_type": "code",
   "execution_count": null,
   "id": "bb700467-714c-49de-9afd-c6e5f16e7add",
   "metadata": {},
   "outputs": [],
   "source": []
  },
  {
   "cell_type": "code",
   "execution_count": 29,
   "id": "39678482-a5bc-4ca1-b28a-8c804df62c11",
   "metadata": {},
   "outputs": [
    {
     "data": {
      "text/plain": [
       "0.17468957602977753"
      ]
     },
     "execution_count": 29,
     "metadata": {},
     "output_type": "execute_result"
    }
   ],
   "source": [
    "util.pytorch_cos_sim(selected_docs_encoded[0], selected_docs_encoded[2])[0][0].item()\n"
   ]
  },
  {
   "cell_type": "code",
   "execution_count": 30,
   "id": "c6eaab5a-0d9c-4d17-97a7-33e0b6f7e2c0",
   "metadata": {},
   "outputs": [
    {
     "data": {
      "application/vnd.jupyter.widget-view+json": {
       "model_id": "b84e4b11f968404aa1c9649d5a909eb9",
       "version_major": 2,
       "version_minor": 0
      },
      "text/plain": [
       "  0%|          | 0/5000 [00:00<?, ?it/s]"
      ]
     },
     "metadata": {},
     "output_type": "display_data"
    }
   ],
   "source": [
    "%%time\n",
    "df['encoded'] = df['description'].apply(lambda x: model.encode(str(x), convert_to_tensor=True))"
   ]
  },
  {
   "cell_type": "code",
   "execution_count": 32,
   "id": "45e2e898-cd57-46b6-94b0-d69d337ffb81",
   "metadata": {},
   "outputs": [
    {
     "name": "stdout",
     "output_type": "stream",
     "text": [
      "CPU times: total: 1.09 s\n",
      "Wall time: 1.09 s\n"
     ]
    }
   ],
   "source": [
    "%%time\n",
    "df['max_cos_sim'] = df['encoded'].apply(lambda x: max([util.pytorch_cos_sim(x, doc)[0][0].item() for doc in selected_docs_encoded]))"
   ]
  },
  {
   "cell_type": "code",
   "execution_count": 35,
   "id": "26b225bd-2229-4412-a62a-55ac9bda6abf",
   "metadata": {},
   "outputs": [
    {
     "data": {
      "text/html": [
       "<div>\n",
       "<style scoped>\n",
       "    .dataframe tbody tr th:only-of-type {\n",
       "        vertical-align: middle;\n",
       "    }\n",
       "\n",
       "    .dataframe tbody tr th {\n",
       "        vertical-align: top;\n",
       "    }\n",
       "\n",
       "    .dataframe thead th {\n",
       "        text-align: right;\n",
       "    }\n",
       "</style>\n",
       "<table border=\"1\" class=\"dataframe\">\n",
       "  <thead>\n",
       "    <tr style=\"text-align: right;\">\n",
       "      <th></th>\n",
       "      <th>domain</th>\n",
       "      <th>revision_internal_links</th>\n",
       "      <th>description</th>\n",
       "      <th>description_language</th>\n",
       "      <th>ml_is_business</th>\n",
       "      <th>y_is_recurring</th>\n",
       "      <th>source</th>\n",
       "      <th>encoded</th>\n",
       "      <th>max_cos_sim</th>\n",
       "    </tr>\n",
       "  </thead>\n",
       "  <tbody>\n",
       "    <tr>\n",
       "      <th>1030</th>\n",
       "      <td>kshort.co.uk</td>\n",
       "      <td>[\"index.html\", \"profiles.html\", \"services.html...</td>\n",
       "      <td>Commercial Property Chartered SurveyorsWe are ...</td>\n",
       "      <td>en</td>\n",
       "      <td>NaN</td>\n",
       "      <td>False</td>\n",
       "      <td>WS</td>\n",
       "      <td>[tensor(0.0162), tensor(-0.0273), tensor(0.007...</td>\n",
       "      <td>0.512314</td>\n",
       "    </tr>\n",
       "    <tr>\n",
       "      <th>1392</th>\n",
       "      <td>absmaterials.com</td>\n",
       "      <td>[\"https://absmaterials.com/\", \"#\", \"https://ab...</td>\n",
       "      <td>ABS Materials designs, develops, and delivers ...</td>\n",
       "      <td>NaN</td>\n",
       "      <td>NaN</td>\n",
       "      <td>True</td>\n",
       "      <td>Kurrant</td>\n",
       "      <td>[tensor(-0.1180), tensor(-0.0394), tensor(-0.0...</td>\n",
       "      <td>0.512041</td>\n",
       "    </tr>\n",
       "    <tr>\n",
       "      <th>1955</th>\n",
       "      <td>oakleymed.co.uk</td>\n",
       "      <td>[\"http://oakleymed.co.uk\", \"http://oakleymed.c...</td>\n",
       "      <td>Click here for more examples                  ...</td>\n",
       "      <td>en</td>\n",
       "      <td>NaN</td>\n",
       "      <td>False</td>\n",
       "      <td>WS</td>\n",
       "      <td>[tensor(0.0078), tensor(0.0173), tensor(0.0426...</td>\n",
       "      <td>0.571744</td>\n",
       "    </tr>\n",
       "    <tr>\n",
       "      <th>2038</th>\n",
       "      <td>trossbrothers.com</td>\n",
       "      <td>[\"https://trossbrothers.com\", \"https://trossbr...</td>\n",
       "      <td>We Are Building Northeastern and Central PA   ...</td>\n",
       "      <td>en</td>\n",
       "      <td>NaN</td>\n",
       "      <td>False</td>\n",
       "      <td>WS</td>\n",
       "      <td>[tensor(-0.1095), tensor(0.0609), tensor(0.034...</td>\n",
       "      <td>0.501036</td>\n",
       "    </tr>\n",
       "    <tr>\n",
       "      <th>2339</th>\n",
       "      <td>deltaccg.com</td>\n",
       "      <td>[\"http://deltaccg.com\", \"about-us/\", \"about-le...</td>\n",
       "      <td>Who is Delta CCG?    Delta Construction Consul...</td>\n",
       "      <td>en</td>\n",
       "      <td>NaN</td>\n",
       "      <td>False</td>\n",
       "      <td>WS</td>\n",
       "      <td>[tensor(-0.0696), tensor(-0.0246), tensor(0.05...</td>\n",
       "      <td>0.514475</td>\n",
       "    </tr>\n",
       "    <tr>\n",
       "      <th>4270</th>\n",
       "      <td>dckww.com</td>\n",
       "      <td>[\"/cart\", \"#page\", \"/\", \"/here\", \"/about-us\", ...</td>\n",
       "      <td>We are worldwide market leaders providing buil...</td>\n",
       "      <td>NaN</td>\n",
       "      <td>NaN</td>\n",
       "      <td>True</td>\n",
       "      <td>Kurrant</td>\n",
       "      <td>[tensor(0.0078), tensor(0.0095), tensor(0.0236...</td>\n",
       "      <td>0.508709</td>\n",
       "    </tr>\n",
       "  </tbody>\n",
       "</table>\n",
       "</div>"
      ],
      "text/plain": [
       "                 domain                            revision_internal_links  \\\n",
       "1030       kshort.co.uk  [\"index.html\", \"profiles.html\", \"services.html...   \n",
       "1392   absmaterials.com  [\"https://absmaterials.com/\", \"#\", \"https://ab...   \n",
       "1955    oakleymed.co.uk  [\"http://oakleymed.co.uk\", \"http://oakleymed.c...   \n",
       "2038  trossbrothers.com  [\"https://trossbrothers.com\", \"https://trossbr...   \n",
       "2339       deltaccg.com  [\"http://deltaccg.com\", \"about-us/\", \"about-le...   \n",
       "4270          dckww.com  [\"/cart\", \"#page\", \"/\", \"/here\", \"/about-us\", ...   \n",
       "\n",
       "                                            description description_language  \\\n",
       "1030  Commercial Property Chartered SurveyorsWe are ...                   en   \n",
       "1392  ABS Materials designs, develops, and delivers ...                  NaN   \n",
       "1955  Click here for more examples                  ...                   en   \n",
       "2038  We Are Building Northeastern and Central PA   ...                   en   \n",
       "2339  Who is Delta CCG?    Delta Construction Consul...                   en   \n",
       "4270  We are worldwide market leaders providing buil...                  NaN   \n",
       "\n",
       "     ml_is_business  y_is_recurring   source  \\\n",
       "1030            NaN           False       WS   \n",
       "1392            NaN            True  Kurrant   \n",
       "1955            NaN           False       WS   \n",
       "2038            NaN           False       WS   \n",
       "2339            NaN           False       WS   \n",
       "4270            NaN            True  Kurrant   \n",
       "\n",
       "                                                encoded  max_cos_sim  \n",
       "1030  [tensor(0.0162), tensor(-0.0273), tensor(0.007...     0.512314  \n",
       "1392  [tensor(-0.1180), tensor(-0.0394), tensor(-0.0...     0.512041  \n",
       "1955  [tensor(0.0078), tensor(0.0173), tensor(0.0426...     0.571744  \n",
       "2038  [tensor(-0.1095), tensor(0.0609), tensor(0.034...     0.501036  \n",
       "2339  [tensor(-0.0696), tensor(-0.0246), tensor(0.05...     0.514475  \n",
       "4270  [tensor(0.0078), tensor(0.0095), tensor(0.0236...     0.508709  "
      ]
     },
     "execution_count": 35,
     "metadata": {},
     "output_type": "execute_result"
    }
   ],
   "source": [
    "df[df['max_cos_sim']>0.5]"
   ]
  },
  {
   "cell_type": "code",
   "execution_count": null,
   "id": "4705d60b-fb2f-41cf-9728-c5050a9cb9ea",
   "metadata": {},
   "outputs": [],
   "source": []
  },
  {
   "cell_type": "code",
   "execution_count": null,
   "id": "b3a0a7e9-26c5-4c73-85ed-bbb18ee69a54",
   "metadata": {},
   "outputs": [],
   "source": []
  }
 ],
 "metadata": {
  "kernelspec": {
   "display_name": "Python 3 (ipykernel)",
   "language": "python",
   "name": "python3"
  },
  "language_info": {
   "codemirror_mode": {
    "name": "ipython",
    "version": 3
   },
   "file_extension": ".py",
   "mimetype": "text/x-python",
   "name": "python",
   "nbconvert_exporter": "python",
   "pygments_lexer": "ipython3",
   "version": "3.9.12"
  }
 },
 "nbformat": 4,
 "nbformat_minor": 5
}
