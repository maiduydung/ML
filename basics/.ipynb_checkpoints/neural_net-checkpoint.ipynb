{
 "cells": [
  {
   "cell_type": "code",
   "execution_count": 84,
   "metadata": {},
   "outputs": [],
   "source": [
    "import numpy as np\n",
    "import nnfs\n",
    "import matplotlib.pyplot as plt\n",
    "from nnfs.datasets import spiral_data\n",
    "\n",
    "nnfs.init()"
   ]
  },
  {
   "cell_type": "code",
   "execution_count": 138,
   "metadata": {},
   "outputs": [
    {
     "data": {
      "text/plain": [
       "array([[0.00000000e+00, 0.00000000e+00, 0.00000000e+00],\n",
       "       [4.72223692e-05, 2.46944692e-05, 4.45180958e-05],\n",
       "       [1.78069778e-04, 1.40223696e-04, 8.80030348e-05],\n",
       "       [1.84301069e-04, 1.15655086e-04, 1.41061231e-04],\n",
       "       [3.45923589e-04, 2.65799841e-04, 1.82153046e-04],\n",
       "       [4.57397138e-04, 3.92798509e-04, 1.70747255e-04],\n",
       "       [4.38527291e-04, 4.30129759e-04, 7.29274252e-05],\n",
       "       [5.20013855e-04, 5.06745651e-04, 9.20914754e-05],\n",
       "       [6.91613008e-04, 6.26531313e-04, 2.02911688e-04],\n",
       "       [6.06107933e-04, 4.01280908e-04, 4.28420492e-04],\n",
       "       [8.94264260e-04, 7.07275583e-04, 4.36738046e-04],\n",
       "       [1.01054471e-03, 8.32639926e-04, 4.36897419e-04],\n",
       "       [4.69520863e-04, 5.80686901e-04, 0.00000000e+00],\n",
       "       [1.19525543e-03, 1.01321621e-03, 4.68627608e-04],\n",
       "       [9.85670602e-04, 9.80959740e-04, 1.39900963e-04],\n",
       "       [1.09222694e-03, 1.07289606e-03, 1.78951159e-04],\n",
       "       [1.43056281e-03, 1.26365048e-03, 4.74470056e-04],\n",
       "       [8.44069349e-04, 9.53881419e-04, 0.00000000e+00],\n",
       "       [7.36179994e-04, 8.94843717e-04, 0.00000000e+00],\n",
       "       [1.62191794e-03, 1.48076483e-03, 4.56401933e-04],\n",
       "       [0.00000000e+00, 1.04768435e-04, 0.00000000e+00],\n",
       "       [1.90562638e-03, 1.65690947e-03, 6.76755910e-04],\n",
       "       [1.06012437e-03, 1.21126941e-03, 0.00000000e+00],\n",
       "       [0.00000000e+00, 0.00000000e+00, 0.00000000e+00],\n",
       "       [1.33739959e-03, 1.44957309e-03, 0.00000000e+00],\n",
       "       [0.00000000e+00, 0.00000000e+00, 0.00000000e+00],\n",
       "       [1.14672736e-03, 1.35418691e-03, 0.00000000e+00],\n",
       "       [0.00000000e+00, 3.67717366e-05, 0.00000000e+00],\n",
       "       [1.86069438e-03, 1.89237855e-03, 1.95294808e-04],\n",
       "       [0.00000000e+00, 4.32643166e-04, 0.00000000e+00],\n",
       "       [5.99330058e-04, 1.00762583e-03, 0.00000000e+00],\n",
       "       [0.00000000e+00, 0.00000000e+00, 0.00000000e+00],\n",
       "       [0.00000000e+00, 0.00000000e+00, 0.00000000e+00],\n",
       "       [0.00000000e+00, 0.00000000e+00, 0.00000000e+00],\n",
       "       [0.00000000e+00, 0.00000000e+00, 0.00000000e+00],\n",
       "       [0.00000000e+00, 0.00000000e+00, 0.00000000e+00],\n",
       "       [0.00000000e+00, 0.00000000e+00, 0.00000000e+00],\n",
       "       [0.00000000e+00, 0.00000000e+00, 0.00000000e+00],\n",
       "       [0.00000000e+00, 0.00000000e+00, 0.00000000e+00],\n",
       "       [0.00000000e+00, 0.00000000e+00, 0.00000000e+00],\n",
       "       [0.00000000e+00, 0.00000000e+00, 0.00000000e+00],\n",
       "       [0.00000000e+00, 0.00000000e+00, 0.00000000e+00],\n",
       "       [0.00000000e+00, 0.00000000e+00, 0.00000000e+00],\n",
       "       [0.00000000e+00, 0.00000000e+00, 0.00000000e+00],\n",
       "       [0.00000000e+00, 0.00000000e+00, 0.00000000e+00],\n",
       "       [0.00000000e+00, 0.00000000e+00, 0.00000000e+00],\n",
       "       [0.00000000e+00, 0.00000000e+00, 0.00000000e+00],\n",
       "       [0.00000000e+00, 0.00000000e+00, 5.56857885e-05],\n",
       "       [6.91152178e-04, 0.00000000e+00, 1.67232018e-03],\n",
       "       [1.72403976e-04, 0.00000000e+00, 1.50509854e-03],\n",
       "       [0.00000000e+00, 0.00000000e+00, 0.00000000e+00],\n",
       "       [1.27955238e-04, 0.00000000e+00, 1.54595077e-03],\n",
       "       [0.00000000e+00, 0.00000000e+00, 1.37465203e-03],\n",
       "       [1.45460200e-03, 3.43496125e-04, 2.07866053e-03],\n",
       "       [8.47436662e-04, 0.00000000e+00, 1.90634350e-03],\n",
       "       [0.00000000e+00, 0.00000000e+00, 2.86102557e-04],\n",
       "       [0.00000000e+00, 0.00000000e+00, 0.00000000e+00],\n",
       "       [2.16330471e-03, 9.13510099e-04, 2.40866747e-03],\n",
       "       [4.96023800e-03, 3.78022436e-03, 2.66466360e-03],\n",
       "       [0.00000000e+00, 0.00000000e+00, 1.62098056e-03],\n",
       "       [1.88144529e-03, 6.00178202e-04, 2.42431043e-03],\n",
       "       [1.38373114e-04, 0.00000000e+00, 1.84318214e-03],\n",
       "       [5.38590131e-03, 4.15264722e-03, 2.81190453e-03],\n",
       "       [0.00000000e+00, 0.00000000e+00, 7.49762461e-04],\n",
       "       [0.00000000e+00, 0.00000000e+00, 1.11589918e-03],\n",
       "       [5.42405574e-03, 4.06513968e-03, 3.03008361e-03],\n",
       "       [5.13533643e-03, 3.68853007e-03, 3.14047048e-03],\n",
       "       [4.86660609e-03, 3.36196693e-03, 3.20256711e-03],\n",
       "       [5.57815516e-03, 4.13522730e-03, 3.19315633e-03],\n",
       "       [6.34687208e-03, 5.37012471e-03, 2.50557996e-03],\n",
       "       [6.10664161e-03, 4.72407648e-03, 3.16153280e-03],\n",
       "       [5.51652815e-03, 3.95907415e-03, 3.37909954e-03],\n",
       "       [6.15544617e-03, 4.68996121e-03, 3.30866338e-03],\n",
       "       [5.43997902e-03, 5.29447710e-03, 9.74750496e-04],\n",
       "       [6.81301299e-03, 5.73149091e-03, 2.74561974e-03],\n",
       "       [6.58434071e-03, 5.12003945e-03, 3.36405542e-03],\n",
       "       [6.01038430e-03, 5.70370490e-03, 1.32438063e-03],\n",
       "       [4.73102275e-03, 4.95099509e-03, 2.60172121e-04],\n",
       "       [1.54955732e-03, 2.61290581e-03, 0.00000000e+00],\n",
       "       [4.52890387e-03, 4.85903304e-03, 4.63415563e-05],\n",
       "       [6.23785798e-03, 5.95674058e-03, 1.31148158e-03],\n",
       "       [2.50080647e-03, 3.41171003e-03, 0.00000000e+00],\n",
       "       [8.61137290e-04, 2.12826626e-03, 0.00000000e+00],\n",
       "       [2.95057241e-03, 3.79257719e-03, 0.00000000e+00],\n",
       "       [2.27237353e-03, 3.28929466e-03, 0.00000000e+00],\n",
       "       [3.50370596e-04, 1.76033471e-03, 0.00000000e+00],\n",
       "       [8.59661028e-04, 2.19660066e-03, 0.00000000e+00],\n",
       "       [0.00000000e+00, 4.68705111e-04, 0.00000000e+00],\n",
       "       [3.02676205e-03, 3.94386100e-03, 0.00000000e+00],\n",
       "       [2.77975993e-03, 3.77327343e-03, 0.00000000e+00],\n",
       "       [7.27154955e-04, 2.15757848e-03, 0.00000000e+00],\n",
       "       [0.00000000e+00, 0.00000000e+00, 0.00000000e+00],\n",
       "       [0.00000000e+00, 0.00000000e+00, 0.00000000e+00],\n",
       "       [0.00000000e+00, 0.00000000e+00, 0.00000000e+00],\n",
       "       [0.00000000e+00, 0.00000000e+00, 0.00000000e+00],\n",
       "       [0.00000000e+00, 0.00000000e+00, 0.00000000e+00],\n",
       "       [0.00000000e+00, 0.00000000e+00, 0.00000000e+00],\n",
       "       [0.00000000e+00, 0.00000000e+00, 0.00000000e+00],\n",
       "       [0.00000000e+00, 0.00000000e+00, 0.00000000e+00],\n",
       "       [0.00000000e+00, 0.00000000e+00, 0.00000000e+00],\n",
       "       [0.00000000e+00, 0.00000000e+00, 0.00000000e+00],\n",
       "       [0.00000000e+00, 0.00000000e+00, 0.00000000e+00],\n",
       "       [0.00000000e+00, 0.00000000e+00, 0.00000000e+00],\n",
       "       [0.00000000e+00, 0.00000000e+00, 0.00000000e+00],\n",
       "       [0.00000000e+00, 0.00000000e+00, 0.00000000e+00],\n",
       "       [0.00000000e+00, 0.00000000e+00, 0.00000000e+00],\n",
       "       [0.00000000e+00, 0.00000000e+00, 0.00000000e+00],\n",
       "       [0.00000000e+00, 0.00000000e+00, 0.00000000e+00],\n",
       "       [0.00000000e+00, 0.00000000e+00, 0.00000000e+00],\n",
       "       [0.00000000e+00, 0.00000000e+00, 2.70757573e-05],\n",
       "       [0.00000000e+00, 0.00000000e+00, 4.12943373e-05],\n",
       "       [0.00000000e+00, 0.00000000e+00, 2.02427000e-05],\n",
       "       [0.00000000e+00, 0.00000000e+00, 2.23904819e-04],\n",
       "       [0.00000000e+00, 0.00000000e+00, 0.00000000e+00],\n",
       "       [0.00000000e+00, 0.00000000e+00, 2.35911048e-05],\n",
       "       [0.00000000e+00, 0.00000000e+00, 4.28931759e-04],\n",
       "       [0.00000000e+00, 0.00000000e+00, 4.25569218e-04],\n",
       "       [0.00000000e+00, 0.00000000e+00, 2.93439283e-04],\n",
       "       [9.03269567e-04, 4.95315413e-04, 8.12612067e-04],\n",
       "       [0.00000000e+00, 0.00000000e+00, 2.77650634e-05],\n",
       "       [0.00000000e+00, 0.00000000e+00, 4.73559572e-04],\n",
       "       [1.49189014e-04, 0.00000000e+00, 6.74542855e-04],\n",
       "       [1.34835474e-03, 8.44935887e-04, 1.03404792e-03],\n",
       "       [8.67796014e-04, 3.63894069e-04, 9.70553549e-04],\n",
       "       [0.00000000e+00, 0.00000000e+00, 6.00484433e-04],\n",
       "       [1.77439663e-03, 1.21002854e-03, 1.19441107e-03],\n",
       "       [2.28525396e-03, 1.77879143e-03, 1.16459490e-03],\n",
       "       [2.31260527e-03, 1.76438026e-03, 1.23906787e-03],\n",
       "       [2.43501319e-03, 1.87905540e-03, 1.26856146e-03],\n",
       "       [2.39616536e-04, 0.00000000e+00, 9.44395084e-04],\n",
       "       [1.73302938e-03, 1.04696490e-03, 1.39522320e-03],\n",
       "       [2.84034829e-03, 2.32362305e-03, 1.25628500e-03],\n",
       "       [2.84155039e-03, 2.23197951e-03, 1.41387514e-03],\n",
       "       [3.01659061e-03, 2.59412033e-03, 1.12005346e-03],\n",
       "       [2.45048711e-03, 1.68549782e-03, 1.62506604e-03],\n",
       "       [3.22158402e-03, 2.71564862e-03, 1.28901133e-03],\n",
       "       [2.85773119e-03, 2.07674270e-03, 1.70669612e-03],\n",
       "       [2.57833442e-03, 1.74025074e-03, 1.76611484e-03],\n",
       "       [3.04867723e-03, 2.87418510e-03, 7.03876256e-04],\n",
       "       [2.26725778e-03, 2.42035394e-03, 4.38398820e-05],\n",
       "       [2.84070382e-03, 2.81774183e-03, 4.19108575e-04],\n",
       "       [3.00161890e-03, 2.94218794e-03, 5.02480718e-04],\n",
       "       [3.86755820e-03, 3.22883041e-03, 1.60062534e-03],\n",
       "       [7.76610686e-04, 1.37853157e-03, 0.00000000e+00],\n",
       "       [2.35918048e-03, 2.59277597e-03, 0.00000000e+00],\n",
       "       [0.00000000e+00, 0.00000000e+00, 0.00000000e+00],\n",
       "       [0.00000000e+00, 5.31354104e-04, 0.00000000e+00],\n",
       "       [4.16935608e-03, 3.70793161e-03, 1.34037936e-03],\n",
       "       [0.00000000e+00, 1.45428683e-04, 0.00000000e+00],\n",
       "       [3.21387127e-03, 3.28438845e-03, 3.10546544e-04],\n",
       "       [1.67849730e-03, 2.20937189e-03, 0.00000000e+00],\n",
       "       [8.33548766e-05, 9.50752001e-04, 0.00000000e+00],\n",
       "       [0.00000000e+00, 2.41721034e-04, 0.00000000e+00],\n",
       "       [0.00000000e+00, 0.00000000e+00, 0.00000000e+00],\n",
       "       [5.00260794e-04, 1.34695554e-03, 0.00000000e+00],\n",
       "       [3.22301144e-04, 1.21807994e-03, 0.00000000e+00],\n",
       "       [0.00000000e+00, 0.00000000e+00, 0.00000000e+00],\n",
       "       [0.00000000e+00, 0.00000000e+00, 0.00000000e+00],\n",
       "       [0.00000000e+00, 0.00000000e+00, 0.00000000e+00],\n",
       "       [9.78780095e-04, 1.82193634e-03, 0.00000000e+00],\n",
       "       [0.00000000e+00, 0.00000000e+00, 0.00000000e+00],\n",
       "       [0.00000000e+00, 0.00000000e+00, 0.00000000e+00],\n",
       "       [0.00000000e+00, 0.00000000e+00, 0.00000000e+00],\n",
       "       [0.00000000e+00, 0.00000000e+00, 0.00000000e+00],\n",
       "       [0.00000000e+00, 0.00000000e+00, 0.00000000e+00],\n",
       "       [0.00000000e+00, 0.00000000e+00, 0.00000000e+00],\n",
       "       [0.00000000e+00, 0.00000000e+00, 0.00000000e+00],\n",
       "       [0.00000000e+00, 0.00000000e+00, 0.00000000e+00],\n",
       "       [0.00000000e+00, 0.00000000e+00, 0.00000000e+00],\n",
       "       [0.00000000e+00, 0.00000000e+00, 2.00961833e-04],\n",
       "       [0.00000000e+00, 0.00000000e+00, 8.91931180e-04],\n",
       "       [0.00000000e+00, 0.00000000e+00, 0.00000000e+00],\n",
       "       [0.00000000e+00, 0.00000000e+00, 0.00000000e+00],\n",
       "       [0.00000000e+00, 0.00000000e+00, 0.00000000e+00],\n",
       "       [0.00000000e+00, 0.00000000e+00, 0.00000000e+00],\n",
       "       [0.00000000e+00, 0.00000000e+00, 7.17363844e-04],\n",
       "       [0.00000000e+00, 0.00000000e+00, 1.79800240e-03],\n",
       "       [3.99352843e-03, 2.24345690e-03, 3.50187719e-03],\n",
       "       [0.00000000e+00, 0.00000000e+00, 0.00000000e+00],\n",
       "       [3.24568572e-03, 1.49525190e-03, 3.40240658e-03],\n",
       "       [3.95392906e-03, 2.14336556e-03, 3.59914778e-03],\n",
       "       [7.09555228e-04, 0.00000000e+00, 2.65312521e-03],\n",
       "       [2.92976713e-03, 1.14659907e-03, 3.41563113e-03],\n",
       "       [4.53396374e-03, 2.64064921e-03, 3.81708634e-03],\n",
       "       [7.42495619e-03, 5.80782117e-03, 3.73570179e-03],\n",
       "       [4.67019528e-03, 2.73060822e-03, 3.91377788e-03],\n",
       "       [3.59610911e-03, 1.68627617e-03, 3.71958129e-03],\n",
       "       [1.35007524e-03, 0.00000000e+00, 3.06591438e-03],\n",
       "       [6.12074090e-03, 4.12684213e-03, 4.19999706e-03],\n",
       "       [7.93252327e-03, 6.25302643e-03, 3.90937040e-03],\n",
       "       [7.09577836e-03, 5.13593201e-03, 4.27274825e-03],\n",
       "       [4.84519498e-03, 2.77283811e-03, 4.16232320e-03],\n",
       "       [7.74014415e-03, 5.83241694e-03, 4.27061180e-03],\n",
       "       [7.79579161e-03, 5.86009445e-03, 4.32548393e-03],\n",
       "       [8.58467538e-03, 6.97686756e-03, 3.87509353e-03],\n",
       "       [4.79122577e-03, 2.63716117e-03, 4.29364387e-03],\n",
       "       [8.63512978e-03, 7.58356508e-03, 2.93867989e-03],\n",
       "       [8.42319895e-03, 7.60850683e-03, 2.50867661e-03],\n",
       "       [8.42993241e-03, 7.66077451e-03, 2.43236846e-03],\n",
       "       [8.85168463e-03, 7.81884324e-03, 2.93591456e-03],\n",
       "       [0.00000000e+00, 0.00000000e+00, 0.00000000e+00],\n",
       "       [8.69694341e-05, 7.84781805e-05, 2.60369725e-05],\n",
       "       [1.03188802e-04, 1.14994662e-04, 0.00000000e+00],\n",
       "       [2.74394115e-04, 2.35713233e-04, 1.02309707e-04],\n",
       "       [3.46424873e-04, 2.66477989e-04, 1.81920244e-04],\n",
       "       [4.60348529e-04, 3.83472623e-04, 1.91959596e-04],\n",
       "       [2.95373786e-04, 3.34846176e-04, 0.00000000e+00],\n",
       "       [2.70815799e-04, 3.36431753e-04, 0.00000000e+00],\n",
       "       [5.58224092e-05, 1.84543052e-04, 0.00000000e+00],\n",
       "       [3.57227487e-04, 4.39321215e-04, 0.00000000e+00],\n",
       "       [8.06552183e-04, 7.58500537e-04, 1.89417959e-04],\n",
       "       [5.92878030e-04, 6.50358677e-04, 0.00000000e+00],\n",
       "       [0.00000000e+00, 0.00000000e+00, 0.00000000e+00],\n",
       "       [0.00000000e+00, 1.67846796e-04, 0.00000000e+00],\n",
       "       [0.00000000e+00, 0.00000000e+00, 0.00000000e+00],\n",
       "       [0.00000000e+00, 0.00000000e+00, 0.00000000e+00],\n",
       "       [0.00000000e+00, 4.28095082e-05, 0.00000000e+00],\n",
       "       [0.00000000e+00, 0.00000000e+00, 0.00000000e+00],\n",
       "       [0.00000000e+00, 0.00000000e+00, 0.00000000e+00],\n",
       "       [0.00000000e+00, 0.00000000e+00, 0.00000000e+00],\n",
       "       [0.00000000e+00, 0.00000000e+00, 0.00000000e+00],\n",
       "       [0.00000000e+00, 0.00000000e+00, 0.00000000e+00],\n",
       "       [0.00000000e+00, 0.00000000e+00, 0.00000000e+00],\n",
       "       [1.74579574e-04, 5.42145572e-04, 0.00000000e+00],\n",
       "       [0.00000000e+00, 0.00000000e+00, 0.00000000e+00],\n",
       "       [0.00000000e+00, 0.00000000e+00, 0.00000000e+00],\n",
       "       [0.00000000e+00, 0.00000000e+00, 0.00000000e+00],\n",
       "       [0.00000000e+00, 0.00000000e+00, 0.00000000e+00],\n",
       "       [0.00000000e+00, 0.00000000e+00, 0.00000000e+00],\n",
       "       [0.00000000e+00, 0.00000000e+00, 0.00000000e+00],\n",
       "       [0.00000000e+00, 0.00000000e+00, 0.00000000e+00],\n",
       "       [0.00000000e+00, 0.00000000e+00, 0.00000000e+00],\n",
       "       [0.00000000e+00, 0.00000000e+00, 6.81738456e-05],\n",
       "       [0.00000000e+00, 0.00000000e+00, 0.00000000e+00],\n",
       "       [0.00000000e+00, 0.00000000e+00, 0.00000000e+00],\n",
       "       [0.00000000e+00, 0.00000000e+00, 0.00000000e+00],\n",
       "       [0.00000000e+00, 0.00000000e+00, 2.71401921e-04],\n",
       "       [0.00000000e+00, 0.00000000e+00, 0.00000000e+00],\n",
       "       [0.00000000e+00, 0.00000000e+00, 0.00000000e+00],\n",
       "       [0.00000000e+00, 0.00000000e+00, 4.12736917e-05],\n",
       "       [0.00000000e+00, 0.00000000e+00, 0.00000000e+00],\n",
       "       [1.44943013e-04, 0.00000000e+00, 1.25964149e-03],\n",
       "       [0.00000000e+00, 0.00000000e+00, 5.19643829e-04],\n",
       "       [0.00000000e+00, 0.00000000e+00, 1.10886770e-03],\n",
       "       [0.00000000e+00, 0.00000000e+00, 8.81958113e-04],\n",
       "       [1.19993812e-03, 2.60242494e-04, 1.75393571e-03],\n",
       "       [3.63887550e-04, 0.00000000e+00, 1.49181823e-03],\n",
       "       [1.84910616e-03, 8.13594670e-04, 2.00327975e-03],\n",
       "       [0.00000000e+00, 0.00000000e+00, 0.00000000e+00],\n",
       "       [2.27908371e-03, 1.17702829e-03, 2.17365567e-03],\n",
       "       [3.26696038e-03, 2.12582713e-03, 2.37212470e-03],\n",
       "       [2.58647557e-03, 1.42951380e-03, 2.30789348e-03],\n",
       "       [4.30732640e-03, 3.21282214e-03, 2.43229396e-03],\n",
       "       [4.63821134e-03, 3.59726558e-03, 2.38576275e-03],\n",
       "       [4.96169180e-03, 4.21577320e-03, 1.92880689e-03],\n",
       "       [4.60074702e-03, 3.45359207e-03, 2.56083650e-03],\n",
       "       [1.18073204e-03, 4.65151643e-05, 2.08119513e-03],\n",
       "       [7.64505705e-04, 0.00000000e+00, 1.96554721e-03],\n",
       "       [2.96724751e-03, 1.65049755e-03, 2.62978906e-03],\n",
       "       [5.40686212e-03, 4.42519411e-03, 2.38812063e-03],\n",
       "       [5.51632605e-03, 4.55780514e-03, 2.36352230e-03],\n",
       "       [5.42834541e-03, 4.81495587e-03, 1.76654290e-03],\n",
       "       [5.68681117e-03, 4.66439221e-03, 2.49468465e-03],\n",
       "       [5.79610001e-03, 4.80361469e-03, 2.45855446e-03],\n",
       "       [4.49753599e-03, 4.47922945e-03, 6.32950454e-04],\n",
       "       [3.93186510e-03, 4.13788669e-03, 1.76875314e-04],\n",
       "       [5.33720665e-03, 5.01301000e-03, 1.26399077e-03],\n",
       "       [4.68327152e-03, 4.67371661e-03, 6.42967760e-04],\n",
       "       [3.21645732e-03, 3.70031595e-03, 0.00000000e+00],\n",
       "       [2.40634242e-03, 3.11752013e-03, 0.00000000e+00],\n",
       "       [5.77841094e-03, 5.37285581e-03, 1.46098924e-03],\n",
       "       [4.68277140e-03, 4.77575744e-03, 4.69033199e-04],\n",
       "       [5.40417852e-03, 5.24424948e-03, 9.94422706e-04],\n",
       "       [3.16368369e-03, 3.76095274e-03, 0.00000000e+00],\n",
       "       [0.00000000e+00, 0.00000000e+00, 0.00000000e+00],\n",
       "       [0.00000000e+00, 0.00000000e+00, 0.00000000e+00],\n",
       "       [3.24769528e-03, 3.88156809e-03, 0.00000000e+00],\n",
       "       [0.00000000e+00, 0.00000000e+00, 0.00000000e+00],\n",
       "       [0.00000000e+00, 0.00000000e+00, 0.00000000e+00],\n",
       "       [0.00000000e+00, 6.10041199e-04, 0.00000000e+00],\n",
       "       [1.69877708e-03, 2.76684645e-03, 0.00000000e+00],\n",
       "       [0.00000000e+00, 0.00000000e+00, 0.00000000e+00],\n",
       "       [0.00000000e+00, 0.00000000e+00, 0.00000000e+00],\n",
       "       [2.31692544e-03, 3.30587127e-03, 0.00000000e+00],\n",
       "       [0.00000000e+00, 0.00000000e+00, 0.00000000e+00],\n",
       "       [0.00000000e+00, 0.00000000e+00, 0.00000000e+00],\n",
       "       [0.00000000e+00, 0.00000000e+00, 0.00000000e+00],\n",
       "       [0.00000000e+00, 0.00000000e+00, 0.00000000e+00],\n",
       "       [0.00000000e+00, 0.00000000e+00, 0.00000000e+00],\n",
       "       [0.00000000e+00, 0.00000000e+00, 0.00000000e+00],\n",
       "       [0.00000000e+00, 0.00000000e+00, 0.00000000e+00],\n",
       "       [0.00000000e+00, 0.00000000e+00, 0.00000000e+00],\n",
       "       [0.00000000e+00, 0.00000000e+00, 0.00000000e+00],\n",
       "       [0.00000000e+00, 0.00000000e+00, 0.00000000e+00],\n",
       "       [0.00000000e+00, 0.00000000e+00, 0.00000000e+00],\n",
       "       [0.00000000e+00, 0.00000000e+00, 0.00000000e+00],\n",
       "       [0.00000000e+00, 0.00000000e+00, 2.01029005e-03],\n",
       "       [0.00000000e+00, 0.00000000e+00, 0.00000000e+00],\n",
       "       [0.00000000e+00, 0.00000000e+00, 0.00000000e+00],\n",
       "       [0.00000000e+00, 0.00000000e+00, 0.00000000e+00]], dtype=float32)"
      ]
     },
     "execution_count": 138,
     "metadata": {},
     "output_type": "execute_result"
    }
   ],
   "source": [
    "class Layer_Dense:\n",
    "    def __init__(self, n_inputs, n_neurons):\n",
    "        #weights shape = (n_inputs, n_neurons)\n",
    "        self.weights = .01*np.random.rand(n_inputs, n_neurons)\n",
    "        self.biases = np.zeros((1, n_neurons))\n",
    "        \n",
    "    def forward(self, input):\n",
    "        #input shape = (1, len(input))\n",
    "        self.output = np.dot(input, self.weights) + self.biases\n",
    "\n",
    "X, y = spiral_data(samples=100, classes = 3)\n",
    "\n",
    "#create a layer with 2 input features and 3 neutrons\n",
    "#input shape (300,2)\n",
    "#layer shape (2,3)\n",
    "#(300,2) *(2,3) = (300, 3)\n",
    "layer1 = Layer_Dense(2, 3)\n",
    "\n",
    "#forward pass\n",
    "layer1.forward(X)\n",
    "\n",
    "\n",
    "class Activation_ReLU:\n",
    "    def forward(self, input):\n",
    "        self.output = np.maximum(0, input)\n",
    "\n",
    "activation1 = Activation_ReLU()\n",
    "activation1.forward(layer1.output)\n",
    "activation1.output"
   ]
  },
  {
   "cell_type": "code",
   "execution_count": 134,
   "metadata": {},
   "outputs": [
    {
     "data": {
      "text/plain": [
       "numpy.int32"
      ]
     },
     "execution_count": 134,
     "metadata": {},
     "output_type": "execute_result"
    }
   ],
   "source": []
  },
  {
   "cell_type": "code",
   "execution_count": 86,
   "metadata": {},
   "outputs": [
    {
     "data": {
      "text/plain": [
       "<matplotlib.collections.PathCollection at 0x287a09906a0>"
      ]
     },
     "execution_count": 86,
     "metadata": {},
     "output_type": "execute_result"
    },
    {
     "data": {
      "image/png": "[encoded data removed]",
      "text/plain": [
       "<Figure size 432x288 with 1 Axes>"
      ]
     },
     "metadata": {
      "needs_background": "light"
     },
     "output_type": "display_data"
    }
   ],
   "source": [
    "plt.scatter(X[:,0], X[:,1], c=y)"
   ]
  },
  {
   "cell_type": "markdown",
   "metadata": {},
   "source": [
    "#### Sin"
   ]
  },
  {
   "cell_type": "code",
   "execution_count": 87,
   "metadata": {},
   "outputs": [
    {
     "data": {
      "text/plain": [
       "[<matplotlib.lines.Line2D at 0x287a19d22b0>]"
      ]
     },
     "execution_count": 87,
     "metadata": {},
     "output_type": "execute_result"
    },
    {
     "data": {
      "image/png": "[encoded data removed]",
      "text/plain": [
       "<Figure size 432x288 with 1 Axes>"
      ]
     },
     "metadata": {
      "needs_background": "light"
     },
     "output_type": "display_data"
    }
   ],
   "source": [
    "temp = np.sin(np.arange(-1, 1, 0.01)*np.pi)\n",
    "plt.plot(temp)"
   ]
  },
  {
   "cell_type": "code",
   "execution_count": 122,
   "metadata": {},
   "outputs": [],
   "source": [
    "def activate_func(val):\n",
    "    temp = (-6*val + 0.7)*(-1)\n",
    "    return temp"
   ]
  },
  {
   "cell_type": "code",
   "execution_count": 123,
   "metadata": {},
   "outputs": [],
   "source": [
    "x = np.arange(0,1,0.1)\n",
    "y = []"
   ]
  },
  {
   "cell_type": "code",
   "execution_count": 124,
   "metadata": {},
   "outputs": [],
   "source": [
    "for i in range(len(x)):\n",
    "    y.append(activate_func(x[i]))\n",
    "    "
   ]
  },
  {
   "cell_type": "code",
   "execution_count": 125,
   "metadata": {},
   "outputs": [
    {
     "data": {
      "text/plain": [
       "[<matplotlib.lines.Line2D at 0x287a1d88c88>]"
      ]
     },
     "execution_count": 125,
     "metadata": {},
     "output_type": "execute_result"
    },
    {
     "data": {
      "image/png": "[encoded data removed]",
      "text/plain": [
       "<Figure size 432x288 with 1 Axes>"
      ]
     },
     "metadata": {
      "needs_background": "light"
     },
     "output_type": "display_data"
    }
   ],
   "source": [
    "plt.plot(y)\n"
   ]
  },
  {
   "cell_type": "code",
   "execution_count": 92,
   "metadata": {},
   "outputs": [
    {
     "data": {
      "text/plain": [
       "array([0.  , 0.01, 0.02, 0.03, 0.04, 0.05, 0.06, 0.07, 0.08, 0.09, 0.1 ,\n",
       "       0.11, 0.12, 0.13, 0.14, 0.15, 0.16, 0.17, 0.18, 0.19, 0.2 , 0.21,\n",
       "       0.22, 0.23, 0.24, 0.25, 0.26, 0.27, 0.28, 0.29, 0.3 , 0.31, 0.32,\n",
       "       0.33, 0.34, 0.35, 0.36, 0.37, 0.38, 0.39, 0.4 , 0.41, 0.42, 0.43,\n",
       "       0.44, 0.45, 0.46, 0.47, 0.48, 0.49, 0.5 , 0.51, 0.52, 0.53, 0.54,\n",
       "       0.55, 0.56, 0.57, 0.58, 0.59, 0.6 , 0.61, 0.62, 0.63, 0.64, 0.65,\n",
       "       0.66, 0.67, 0.68, 0.69, 0.7 , 0.71, 0.72, 0.73, 0.74, 0.75, 0.76,\n",
       "       0.77, 0.78, 0.79, 0.8 , 0.81, 0.82, 0.83, 0.84, 0.85, 0.86, 0.87,\n",
       "       0.88, 0.89, 0.9 , 0.91, 0.92, 0.93, 0.94, 0.95, 0.96, 0.97, 0.98,\n",
       "       0.99])"
      ]
     },
     "execution_count": 92,
     "metadata": {},
     "output_type": "execute_result"
    }
   ],
   "source": [
    "x"
   ]
  },
  {
   "cell_type": "code",
   "execution_count": null,
   "metadata": {},
   "outputs": [],
   "source": []
  }
 ],
 "metadata": {
  "kernelspec": {
   "display_name": "Python 3",
   "language": "python",
   "name": "python3"
  },
  "language_info": {
   "codemirror_mode": {
    "name": "ipython",
    "version": 3
   },
   "file_extension": ".py",
   "mimetype": "text/x-python",
   "name": "python",
   "nbconvert_exporter": "python",
   "pygments_lexer": "ipython3",
   "version": "3.6.10"
  }
 },
 "nbformat": 4,
 "nbformat_minor": 4
}
