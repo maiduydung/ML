{
 "cells": [
  {
   "cell_type": "code",
   "execution_count": 1,
   "id": "6ae4abf9-42f3-4e3d-a3b6-43e2b82302c9",
   "metadata": {
    "tags": []
   },
   "outputs": [],
   "source": [
    "import torch\n",
    "from torch import nn\n",
    "from torch.utils.data import DataLoader\n",
    "from torchvision import datasets\n",
    "from torchvision.transforms import ToTensor"
   ]
  },
  {
   "cell_type": "code",
   "execution_count": 2,
   "id": "3645f8bc-efd6-4813-b423-19a23ee3b007",
   "metadata": {
    "tags": []
   },
   "outputs": [],
   "source": [
    "BATCH_SIZE=128\n",
    "device = 'cpu'\n",
    "EPOCHS = 10\n",
    "LEARNING_RATE = 0.001\n",
    "\n",
    "def download_mnist_datasets():\n",
    "    train_data = datasets.MNIST(root='data', download=True, train=True, transform=ToTensor())\n",
    "    validation_data = datasets.MNIST(root='data', download=True, train=False, transform=ToTensor())\n",
    "    return train_data, validation_data"
   ]
  },
  {
   "cell_type": "code",
   "execution_count": 4,
   "id": "16bd1dc8-4b77-4d6c-a6ca-30cbb11a7aff",
   "metadata": {
    "tags": []
   },
   "outputs": [],
   "source": [
    "class FeedForwardNet(nn.Module):\n",
    "    def __init__(self):\n",
    "        super().__init__()\n",
    "        self.flatten = nn.Flatten()\n",
    "        self.dense_layers = nn.Sequential(\n",
    "            nn.Linear(28*28, 256),\n",
    "            nn.ReLU(),\n",
    "            nn.Linear(256, 10)\n",
    "        )\n",
    "        self.softmax = nn.Softmax(dim=1)\n",
    "        \n",
    "    def forward(self, input_data):\n",
    "        flatten_data = self.flatten(input_data)\n",
    "        logits = self.dense_layers(flatten_data)\n",
    "        predictions = self.softmax(logits)\n",
    "        return predictions\n",
    "    \n",
    "def train_one_epoch(model, data_loader, loss_func, optimizer, device):\n",
    "    for inputs, targets in data_loader:\n",
    "        inputs, targets = inputs.to(device), targets.to(device)\n",
    "        \n",
    "        predictions = model(inputs)\n",
    "        loss = loss_func(predictions, targets)\n",
    "        optimizer.zero_grad()\n",
    "        loss.backward()\n",
    "        optimizer.step()\n",
    "    print('loss: ', loss.item())\n",
    "    \n",
    "def train(model, data_loader, loss_func, optimizer, device, epochs):\n",
    "    for i in range(epochs):\n",
    "        print('Epochs: ',i+1)\n",
    "        train_one_epoch(model, data_loader, loss_func, optimizer, device)\n",
    "    \n",
    "loss_func = nn.CrossEntropyLoss()\n",
    "feed_forward_net = FeedForwardNet().to('cpu')\n",
    "optimizer = torch.optim.Adam(feed_forward_net.parameters(), lr = LEARNING_RATE)"
   ]
  },
  {
   "cell_type": "code",
   "execution_count": null,
   "id": "69a8baf0-8b9b-4f12-b3fb-eda41c08e9a0",
   "metadata": {},
   "outputs": [],
   "source": []
  },
  {
   "cell_type": "code",
   "execution_count": 5,
   "id": "a7c65d37-b951-4e9c-91ea-79fa104a6eb8",
   "metadata": {
    "tags": []
   },
   "outputs": [],
   "source": [
    "train_data,_ = download_mnist_datasets()"
   ]
  },
  {
   "cell_type": "code",
   "execution_count": 6,
   "id": "6dc62eb9-e1eb-437f-a186-9094994dbe6c",
   "metadata": {
    "tags": []
   },
   "outputs": [],
   "source": [
    "train_data_loader = DataLoader(train_data, batch_size=BATCH_SIZE)"
   ]
  },
  {
   "cell_type": "code",
   "execution_count": 7,
   "id": "4e5463f0-ba6a-4b49-9889-cbbf68349de8",
   "metadata": {
    "tags": []
   },
   "outputs": [
    {
     "name": "stdout",
     "output_type": "stream",
     "text": [
      "Epochs:  1\n",
      "loss:  1.513006567955017\n",
      "Epochs:  2\n",
      "loss:  1.4963860511779785\n",
      "Epochs:  3\n",
      "loss:  1.489706039428711\n",
      "Epochs:  4\n",
      "loss:  1.481165885925293\n",
      "Epochs:  5\n",
      "loss:  1.4793280363082886\n",
      "Epochs:  6\n",
      "loss:  1.4768176078796387\n",
      "Epochs:  7\n",
      "loss:  1.475023865699768\n",
      "Epochs:  8\n",
      "loss:  1.4726568460464478\n",
      "Epochs:  9\n",
      "loss:  1.472481369972229\n",
      "Epochs:  10\n",
      "loss:  1.4735437631607056\n"
     ]
    }
   ],
   "source": [
    "train(feed_forward_net, train_data_loader, loss_func, optimizer, device, EPOCHS)"
   ]
  },
  {
   "cell_type": "code",
   "execution_count": 10,
   "id": "dfc00323-9583-4e35-b791-4cb242825514",
   "metadata": {
    "tags": []
   },
   "outputs": [],
   "source": [
    "torch.save(feed_forward_net.state_dict(),'feedforwardnet.pth')\n"
   ]
  },
  {
   "cell_type": "code",
   "execution_count": null,
   "id": "fc119cc0-161c-4539-a006-d3f74d6bcfb2",
   "metadata": {},
   "outputs": [],
   "source": []
  }
 ],
 "metadata": {
  "kernelspec": {
   "display_name": "Python 3 (ipykernel)",
   "language": "python",
   "name": "python3"
  },
  "language_info": {
   "codemirror_mode": {
    "name": "ipython",
    "version": 3
   },
   "file_extension": ".py",
   "mimetype": "text/x-python",
   "name": "python",
   "nbconvert_exporter": "python",
   "pygments_lexer": "ipython3",
   "version": "3.8.16"
  }
 },
 "nbformat": 4,
 "nbformat_minor": 5
}
