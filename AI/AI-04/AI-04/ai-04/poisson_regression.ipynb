{
 "cells": [
  {
   "cell_type": "markdown",
   "metadata": {},
   "source": [
    "### Sample notebook of Poisson regression for Homerun data \n",
    "本塁打データのポアソン回帰分析の手順例  \n",
    "\n",
    "Official: #Homerun of official 4-match competition  大会4試合での本塁打数  \n",
    "Practice: Average #Homerun of 4 practice games  練習試合での平均本塁打数(4試合分)  \n",
    "Stadium: Stadium for competition (A and B)  大会が開催される球場(A, B)  "
   ]
  },
  {
   "cell_type": "markdown",
   "metadata": {},
   "source": [
    "#### Import libraries"
   ]
  },
  {
   "cell_type": "code",
   "execution_count": null,
   "metadata": {},
   "outputs": [],
   "source": [
    "import pandas as pd\n",
    "import statsmodels.api as sm"
   ]
  },
  {
   "cell_type": "markdown",
   "metadata": {},
   "source": [
    "#### Parameters  "
   ]
  },
  {
   "cell_type": "code",
   "execution_count": null,
   "metadata": {},
   "outputs": [],
   "source": [
    "csv_in = 'homerun.csv'"
   ]
  },
  {
   "cell_type": "markdown",
   "metadata": {},
   "source": [
    "#### Read CSV file  "
   ]
  },
  {
   "cell_type": "code",
   "execution_count": null,
   "metadata": {},
   "outputs": [],
   "source": [
    "df = pd.read_csv(csv_in, delimiter=',', skiprows=0, header=0)\n",
    "print(df.shape)\n",
    "print(df.info())\n",
    "display(df.head())"
   ]
  },
  {
   "cell_type": "markdown",
   "metadata": {},
   "source": [
    "#### Make dummy variable  \n",
    "ダミー変数化  "
   ]
  },
  {
   "cell_type": "code",
   "execution_count": null,
   "metadata": {},
   "outputs": [],
   "source": [
    "df_dumm = pd.get_dummies(df, drop_first=True)\n",
    "display(df_dumm.head())"
   ]
  },
  {
   "cell_type": "markdown",
   "metadata": {},
   "source": [
    "#### Separate explanatory variables and objective variable  \n",
    "説明変数と目的変数を分ける    "
   ]
  },
  {
   "cell_type": "code",
   "execution_count": null,
   "metadata": {},
   "outputs": [],
   "source": [
    "X = df_dumm[['Practice', \"Stadium_B\"]]\n",
    "y = df_dumm['Official']\n",
    "X_c = sm.add_constant(X)"
   ]
  },
  {
   "cell_type": "markdown",
   "metadata": {},
   "source": [
    "#### Poisson regression  "
   ]
  },
  {
   "cell_type": "code",
   "execution_count": null,
   "metadata": {},
   "outputs": [],
   "source": [
    "model = sm.GLM(y, X_c, family=sm.families.Poisson())\n",
    "results = model.fit()\n",
    "print(results.summary())"
   ]
  },
  {
   "cell_type": "markdown",
   "metadata": {},
   "source": [
    "#### Regression coefficients  "
   ]
  },
  {
   "cell_type": "code",
   "execution_count": null,
   "metadata": {},
   "outputs": [],
   "source": [
    "print(results.params)"
   ]
  },
  {
   "cell_type": "markdown",
   "metadata": {},
   "source": [
    "#### Obtained best model:\n",
    "$\\ln(\\rm{Official}) = 0.080 * \\rm{Practice} + (-0.032) * \\rm{Stadium\\_B} +1.263$"
   ]
  },
  {
   "cell_type": "markdown",
   "metadata": {},
   "source": [
    "#### Do prediction using the obtained model    \n",
    "NOTICE: add 1 at the head of each data for constant.  \n",
    "(You can use sm.add_constant() to add 1)\n",
    "得られたモデルを用いて、予測を行う。  \n",
    "注: 予測のための各Xデータの先頭には定数項用の1を付加すること。  \n",
    "(sm.add_constant()を用いて付加してもよい)  "
   ]
  },
  {
   "cell_type": "code",
   "execution_count": null,
   "metadata": {},
   "outputs": [],
   "source": [
    "dfX_test = pd.DataFrame([[1, 10.5, 0],\n",
    "                         [1, 11.5, 1],\n",
    "                        ],\n",
    "                        columns=results.params.index)  # example\n",
    "print('X for prediction:')\n",
    "display(dfX_test)\n",
    "y_test = results.predict(dfX_test)\n",
    "print('Predicted y:')\n",
    "print(y_test)"
   ]
  },
  {
   "cell_type": "code",
   "execution_count": null,
   "metadata": {},
   "outputs": [],
   "source": []
  }
 ],
 "metadata": {
  "kernelspec": {
   "display_name": "Python 3",
   "language": "python",
   "name": "python3"
  },
  "language_info": {
   "codemirror_mode": {
    "name": "ipython",
    "version": 3
   },
   "file_extension": ".py",
   "mimetype": "text/x-python",
   "name": "python",
   "nbconvert_exporter": "python",
   "pygments_lexer": "ipython3",
   "version": "3.8.8"
  }
 },
 "nbformat": 4,
 "nbformat_minor": 4
}
