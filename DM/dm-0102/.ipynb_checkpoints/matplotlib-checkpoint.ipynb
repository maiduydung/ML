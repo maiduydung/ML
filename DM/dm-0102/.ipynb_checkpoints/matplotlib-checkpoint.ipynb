{
 "cells": [
  {
   "cell_type": "markdown",
   "metadata": {},
   "source": [
    "## Visualization using matplotlib  "
   ]
  },
  {
   "cell_type": "markdown",
   "metadata": {},
   "source": [
    "### Import libraries  "
   ]
  },
  {
   "cell_type": "code",
   "execution_count": null,
   "metadata": {},
   "outputs": [],
   "source": [
    "import numpy as np\n",
    "import pandas as pd\n",
    "import matplotlib.pyplot as plt\n",
    "from pandas.plotting import register_matplotlib_converters\n",
    "register_matplotlib_converters()"
   ]
  },
  {
   "cell_type": "markdown",
   "metadata": {},
   "source": [
    "### Parameters  "
   ]
  },
  {
   "cell_type": "code",
   "execution_count": null,
   "metadata": {},
   "outputs": [],
   "source": [
    "%config InlineBackend.figure_formats = {'png', 'retina'}  # for high-reso graph\n",
    "plt.rcParams['font.family'] = 'Yu Mincho' # for Japanese in graph (Win10)\n",
    "\n",
    "csv_in = '../../AI/ai-0102/pandas_training-utf8.csv'\n",
    "csv_in2 = '../../AI/ai-0102/2045_2017-utf8.csv'"
   ]
  },
  {
   "cell_type": "markdown",
   "metadata": {},
   "source": [
    "### Read CSV files  "
   ]
  },
  {
   "cell_type": "code",
   "execution_count": null,
   "metadata": {},
   "outputs": [],
   "source": [
    "df = pd.read_csv(csv_in, delimiter=',', skiprows=13, header=0)\n",
    "print(df.shape)\n",
    "print(df.info())\n",
    "display(df.head())\n",
    "\n",
    "df2 = pd.read_csv(csv_in2, delimiter=',', skiprows=9, header=0)\n",
    "df2['Date'] = pd.to_datetime(df2['Date'], format='%Y-%m-%d')\n",
    "print(df2.shape)\n",
    "print(df2.info())\n",
    "display(df2.head())"
   ]
  },
  {
   "cell_type": "markdown",
   "metadata": {},
   "source": [
    "### Histogram  "
   ]
  },
  {
   "cell_type": "code",
   "execution_count": null,
   "metadata": {},
   "outputs": [],
   "source": [
    "ser_aclose = df2['AdjClose']\n",
    "plt.hist(ser_aclose, bins=10)\n",
    "plt.xlabel('Yen')\n",
    "plt.ylabel('Frequency')\n",
    "plt.show()"
   ]
  },
  {
   "cell_type": "markdown",
   "metadata": {},
   "source": [
    "### Change faces "
   ]
  },
  {
   "cell_type": "code",
   "execution_count": null,
   "metadata": {},
   "outputs": [],
   "source": [
    "plt.figure(figsize=(4,2), facecolor='palegreen')\n",
    "plt.grid(True)\n",
    "\n",
    "ser_aclose = df2['AdjClose']\n",
    "plt.hist(ser_aclose, bins=10)\n",
    "plt.xlabel('Yen')\n",
    "plt.ylabel('Frequency')\n",
    "plt.show()"
   ]
  },
  {
   "cell_type": "markdown",
   "metadata": {},
   "source": [
    "### Line plot"
   ]
  },
  {
   "cell_type": "code",
   "execution_count": null,
   "metadata": {},
   "outputs": [],
   "source": [
    "#help(plt.plot)"
   ]
  },
  {
   "cell_type": "code",
   "execution_count": null,
   "metadata": {},
   "outputs": [],
   "source": [
    "ser_date = df2['Date']\n",
    "ser_high = df2['High']\n",
    "ser_low = df2['Low']\n",
    "plt.plot(ser_date, ser_high, linewidth=2, label='High')\n",
    "plt.plot(ser_date, ser_low, 'r--', label='Low')\n",
    "plt.xlabel('Date', fontsize=15)\n",
    "plt.ylabel('Yen', fontsize=15)\n",
    "plt.xticks(rotation=45, fontsize=15)\n",
    "plt.legend(fontsize=15)\n",
    "plt.tick_params(labelsize=12)\n",
    "plt.show()"
   ]
  },
  {
   "cell_type": "markdown",
   "metadata": {},
   "source": [
    "#### Add moving average line  "
   ]
  },
  {
   "cell_type": "code",
   "execution_count": null,
   "metadata": {},
   "outputs": [],
   "source": [
    "ser_date = df2['Date']\n",
    "ser_high = df2['High']\n",
    "ser_5_ave = ser_high.rolling(window=5).mean()\n",
    "plt.plot(ser_date, ser_high, linewidth=2, label='High')\n",
    "plt.plot(ser_date, ser_5_ave, linewidth=2, label='Ave5')\n",
    "plt.xlabel('Date', fontsize=15)\n",
    "plt.ylabel('Yen', fontsize=15)\n",
    "plt.xticks(rotation=45, fontsize=15)\n",
    "plt.legend(fontsize=15)\n",
    "plt.tick_params(labelsize=12)\n",
    "plt.show()"
   ]
  },
  {
   "cell_type": "markdown",
   "metadata": {},
   "source": [
    "### Scatter plot  "
   ]
  },
  {
   "cell_type": "code",
   "execution_count": null,
   "metadata": {},
   "outputs": [],
   "source": [
    "ser_fresh = df['FRESH']\n",
    "ser_milk = df['MILK']\n",
    "plt.scatter(ser_fresh, ser_milk, marker='o')\n",
    "plt.title('Annual Spending')\n",
    "plt.xlabel('FRESH (m.u.)')\n",
    "plt.ylabel('MILK (m.u.)')\n",
    "plt.xlim(0,20000)\n",
    "plt.ylim(10000,20000)\n",
    "plt.show()"
   ]
  },
  {
   "cell_type": "markdown",
   "metadata": {},
   "source": [
    "### Multiple box plot"
   ]
  },
  {
   "cell_type": "code",
   "execution_count": null,
   "metadata": {},
   "outputs": [],
   "source": [
    "df_num = df.loc[:, 'FRESH':]\n",
    "display(df_num.head())\n",
    "plt.boxplot(df_num.values)\n",
    "plt.title('Wholesale Customers Data Set')\n",
    "plt.xticks(range(1,df_num.shape[1]+1),df_num.columns)  # set xticklabels to columns\n",
    "plt.xlabel('Categories')\n",
    "plt.ylabel('Annual Spending')\n",
    "plt.show()"
   ]
  },
  {
   "cell_type": "markdown",
   "metadata": {},
   "source": [
    "### Bar graph"
   ]
  },
  {
   "cell_type": "code",
   "execution_count": null,
   "metadata": {},
   "outputs": [],
   "source": [
    "ser_ave = df.mean()\n",
    "print(ser_ave.head())  # debug\n",
    "plt.bar(ser_ave.index, ser_ave, label='Average')\n",
    "plt.xlabel('Category')\n",
    "plt.ylabel('Annual Spending (m.u.)')\n",
    "plt.xticks(rotation=90)\n",
    "plt.legend()\n",
    "plt.show()"
   ]
  },
  {
   "cell_type": "markdown",
   "metadata": {},
   "source": [
    "### Bar graph (horizontal)"
   ]
  },
  {
   "cell_type": "code",
   "execution_count": null,
   "metadata": {},
   "outputs": [],
   "source": [
    "plt.barh(ser_ave.index, ser_ave, label='Average')\n",
    "plt.ylabel('Category')\n",
    "plt.xlabel('Annual Spending (m.u.)')\n",
    "plt.legend()\n",
    "plt.show()"
   ]
  },
  {
   "cell_type": "markdown",
   "metadata": {},
   "source": [
    "### Multiple bar graph  \n",
    "Bar graph of ave for REGION:Lisbon, Oporto, Other"
   ]
  },
  {
   "cell_type": "code",
   "execution_count": null,
   "metadata": {},
   "outputs": [],
   "source": [
    "df_reg_ave = df.groupby('REGION').mean()\n",
    "display(df_reg_ave.head())\n",
    "X = np.array(range(df_reg_ave.shape[1]))\n",
    "plt.xticks(X,df_reg_ave.columns)\n",
    "w=0.2\n",
    "plt.bar(X-w,df_reg_ave.loc['Lisbon'],width=0.2,label='Lisbon')\n",
    "plt.bar(X,df_reg_ave.loc['Oporto'],width=0.2,label='Oporto')\n",
    "plt.bar(X+w,df_reg_ave.loc['Other'],width=0.2,label='Other')\n",
    "plt.xlabel('Category')\n",
    "plt.ylabel('Annual Spending (m.u.)')\n",
    "plt.xticks(rotation=90)\n",
    "plt.legend()\n",
    "plt.show()"
   ]
  },
  {
   "cell_type": "markdown",
   "metadata": {},
   "source": [
    "### Stacked bar graph  "
   ]
  },
  {
   "cell_type": "code",
   "execution_count": null,
   "metadata": {},
   "outputs": [],
   "source": [
    "height = np.zeros(df_reg_ave.shape[1])\n",
    "#print(height)  # debug\n",
    "X = np.array(range(df_reg_ave.shape[1]))\n",
    "#print(X)  # debug\n",
    "plt.xticks(X, df_reg_ave.columns)\n",
    "#print(df_reg_ave.columns)  # debug\n",
    "for i,r in df_reg_ave.iterrows():\n",
    "    #print(r)  # debug\n",
    "    plt.bar(X, r, bottom=height, label=r.name)\n",
    "    #print(height)  # debug\n",
    "    #print(r.name)  # debug\n",
    "    height+=r\n",
    "plt.xlabel('Category')\n",
    "plt.ylabel('Annual Spending (m.u.)')\n",
    "plt.xticks(rotation=90)\n",
    "plt.legend()\n",
    "plt.show()"
   ]
  },
  {
   "cell_type": "markdown",
   "metadata": {},
   "source": [
    "### Pie chart  "
   ]
  },
  {
   "cell_type": "code",
   "execution_count": null,
   "metadata": {},
   "outputs": [],
   "source": [
    "plt.pie(ser_ave, autopct=\"%.1f%%\", labels=ser_ave.index)\n",
    "plt.show()"
   ]
  },
  {
   "cell_type": "markdown",
   "metadata": {},
   "source": [
    "### (Adv) Pie chart 2 "
   ]
  },
  {
   "cell_type": "code",
   "execution_count": null,
   "metadata": {},
   "outputs": [],
   "source": [
    "explodes = np.zeros(len(ser_ave))\n",
    "explodes[2] = 0.1\n",
    "plt.pie(ser_ave, autopct=\"%.1f%%\", shadow=True, \n",
    "        startangle=90, counterclock=False,\n",
    "        explode=explodes,\n",
    "        labels=ser_ave.index)\n",
    "plt.show()"
   ]
  },
  {
   "cell_type": "code",
   "execution_count": null,
   "metadata": {},
   "outputs": [],
   "source": [
    "#help(plt.pie)"
   ]
  },
  {
   "cell_type": "code",
   "execution_count": null,
   "metadata": {},
   "outputs": [],
   "source": [
    "#help(plt.errorbar)"
   ]
  },
  {
   "cell_type": "markdown",
   "metadata": {},
   "source": [
    "### Error bars for line plot"
   ]
  },
  {
   "cell_type": "code",
   "execution_count": null,
   "metadata": {},
   "outputs": [],
   "source": [
    "ser_date = df2['Date']\n",
    "ser_high = df2['High']\n",
    "ser_low = df2['Low']\n",
    "ser_close = df2['Close']\n",
    "up = ser_high-ser_close\n",
    "down = ser_close-ser_low\n",
    "rng = np.array([up, down])\n",
    "\n",
    "plt.errorbar(ser_date, ser_close, yerr=rng, elinewidth=1)\n",
    "plt.xlabel('Date', fontsize=15)\n",
    "plt.ylabel('Yen', fontsize=15)\n",
    "plt.xticks(rotation=45, fontsize=15)\n",
    "plt.tick_params(labelsize=12)\n",
    "plt.show()"
   ]
  },
  {
   "cell_type": "markdown",
   "metadata": {},
   "source": [
    "### Error bars for bar graph"
   ]
  },
  {
   "cell_type": "code",
   "execution_count": null,
   "metadata": {},
   "outputs": [],
   "source": [
    "from scipy import stats\n",
    "\n",
    "#df_part = df.loc[:100]\n",
    "df_part = df.copy()\n",
    "alpha = 0.95\n",
    "dof = df_part.shape[1]-1\n",
    "df_mean = df_part.mean()\n",
    "df_sem = df_part.sem()\n",
    "ci = stats.t.interval(alpha, dof, loc=0, scale=df_sem)\n",
    "print(ci)  # debug\n",
    "x=range(len(df_mean))\n",
    "plt.bar(x, df_mean, color='white', edgecolor='black', label='Average')\n",
    "plt.errorbar(x, df_mean, yerr=ci[1], elinewidth=2, capsize=4, linewidth=0)\n",
    "plt.xticks(x, df_mean.index)\n",
    "plt.xlabel('Category')\n",
    "plt.ylabel('Annual Spending (m.u.)')\n",
    "plt.xticks(rotation=90)\n",
    "plt.legend()\n",
    "plt.show()"
   ]
  },
  {
   "cell_type": "markdown",
   "metadata": {},
   "source": [
    "### Plot of a function & color according to a value  \n",
    "Colormap: https://matplotlib.org/examples/color/colormaps_reference.html"
   ]
  },
  {
   "cell_type": "code",
   "execution_count": null,
   "metadata": {},
   "outputs": [],
   "source": [
    "x = np.linspace(-1, 1, num=20)\n",
    "y = x*x\n",
    "plt.plot(x, y, marker='o')\n",
    "plt.show()"
   ]
  },
  {
   "cell_type": "code",
   "execution_count": null,
   "metadata": {},
   "outputs": [],
   "source": [
    "from matplotlib import cm\n",
    "\n",
    "n = 10\n",
    "x = np.linspace(-1, 1, num=20)\n",
    "y = x*x\n",
    "for i in range(n):\n",
    "    plt.plot(x, y+0.2*i, marker='o', color=cm.plasma(i/(n-1)))\n",
    "plt.show()"
   ]
  },
  {
   "cell_type": "code",
   "execution_count": null,
   "metadata": {},
   "outputs": [],
   "source": [
    "from matplotlib import cm\n",
    "\n",
    "step = 0.1\n",
    "x = np.arange(-1, 1, step)\n",
    "for i,x1 in enumerate(x):\n",
    "    xx = np.array([x1, x1+step])\n",
    "    yy = xx * xx\n",
    "    plt.plot(xx, yy, marker='o', color=cm.hsv(i/(len(x)-1)))\n",
    "plt.show()"
   ]
  },
  {
   "cell_type": "markdown",
   "metadata": {},
   "source": [
    "### Plot with two Y-axes"
   ]
  },
  {
   "cell_type": "code",
   "execution_count": null,
   "metadata": {},
   "outputs": [],
   "source": [
    "x = np.arange(0, np.pi*2, 0.1)\n",
    "ys = np.sin(x)\n",
    "yc = 10*np.cos(x)\n",
    "fig, ax1 = plt.subplots(figsize=(7,3))\n",
    "ax1.plot(x, ys, color='red', label='sin', linewidth=2)\n",
    "ax2 = ax1.twinx()\n",
    "ax2.plot(x, yc, color='blue', label='cos', linewidth=2)\n",
    "h1, l1 = ax1.get_legend_handles_labels()\n",
    "h2, l2 = ax2.get_legend_handles_labels()\n",
    "ax1.legend(h1+h2, l1+l2, loc='lower left')\n",
    "ax1.set_ylabel('Y_sin')\n",
    "ax2.set_ylabel('Y_cos')\n",
    "ax1.set_xlabel('X')\n",
    "plt.title('Y1:sin, Y2:cos')\n",
    "plt.show()"
   ]
  },
  {
   "cell_type": "markdown",
   "metadata": {},
   "source": [
    "### Do you prefer this kind of style!?  "
   ]
  },
  {
   "cell_type": "code",
   "execution_count": null,
   "metadata": {},
   "outputs": [],
   "source": [
    "with plt.xkcd(scale=2, length=100, randomness=2):\n",
    "    x = np.arange(0, np.pi*2, 0.1)\n",
    "    ys = np.sin(x)\n",
    "    yc = np.cos(x)\n",
    "    plt.plot(x, ys, color='red', label='sin', linewidth=2)\n",
    "    plt.plot(x, yc, color='blue', label='cos', linewidth=2)\n",
    "    plt.xlabel('X')\n",
    "    plt.ylabel('Y')\n",
    "    plt.title('XKCD style')\n",
    "    plt.legend()\n",
    "    plt.show()"
   ]
  },
  {
   "cell_type": "code",
   "execution_count": null,
   "metadata": {},
   "outputs": [],
   "source": []
  }
 ],
 "metadata": {
  "kernelspec": {
   "display_name": "Python 3",
   "language": "python",
   "name": "python3"
  },
  "language_info": {
   "codemirror_mode": {
    "name": "ipython",
    "version": 3
   },
   "file_extension": ".py",
   "mimetype": "text/x-python",
   "name": "python",
   "nbconvert_exporter": "python",
   "pygments_lexer": "ipython3",
   "version": "3.8.8"
  }
 },
 "nbformat": 4,
 "nbformat_minor": 4
}
