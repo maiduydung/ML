{
 "cells": [
  {
   "cell_type": "markdown",
   "metadata": {},
   "source": [
    "### Sample script for item-based collaborative filtering  \n",
    "#### Execute recommendation  "
   ]
  },
  {
   "cell_type": "markdown",
   "metadata": {},
   "source": [
    "#### Import libraries"
   ]
  },
  {
   "cell_type": "code",
   "execution_count": null,
   "metadata": {},
   "outputs": [],
   "source": [
    "import numpy as np\n",
    "import pandas as pd"
   ]
  },
  {
   "cell_type": "markdown",
   "metadata": {},
   "source": [
    "#### Parameters  "
   ]
  },
  {
   "cell_type": "code",
   "execution_count": null,
   "metadata": {},
   "outputs": [],
   "source": [
    "csv_in = 'sushi_corr-min4.csv'\n",
    "# min number of common items between target user's evaluation and items in DB\n",
    "min_common_items = 4\n",
    "\n",
    "# To show more rows and columns\n",
    "pd.options.display.max_rows = 999 \n",
    "pd.options.display.max_columns = 999 "
   ]
  },
  {
   "cell_type": "markdown",
   "metadata": {},
   "source": [
    "#### Read CSV file  "
   ]
  },
  {
   "cell_type": "code",
   "execution_count": null,
   "metadata": {},
   "outputs": [],
   "source": [
    "df = pd.read_csv(csv_in, delimiter=',', skiprows=0, header=0)\n",
    "df.index = df.columns\n",
    "print(df.shape)\n",
    "print(df.info())\n",
    "display(df.head())"
   ]
  },
  {
   "cell_type": "code",
   "execution_count": null,
   "metadata": {},
   "outputs": [],
   "source": [
    "def predict_scores(df_sim, ser_target):\n",
    "    ret = {}\n",
    "    for item1 in df_sim.index:  # not yet rated by the target user\n",
    "        v1 = df_sim.loc[item1]\n",
    "        #if v1.isnull().sum() > 0:  # debug\n",
    "        #    print('v1:',v1)  # debug\n",
    "        if v1.notnull().sum() < min_common_items: continue\n",
    "        v11 = v1[ v1.notnull() ]\n",
    "        t11 = ser_target[ v1.notnull() ]\n",
    "        pred1 = (v11 * t11).sum() / np.abs(v11).sum()\n",
    "        #print('v11:',v11)  # debug\n",
    "        #print('t11:',t11)  # debug\n",
    "        #print('pred1:',pred1)  # debug\n",
    "        ret[item1] = pred1\n",
    "    \n",
    "    ser_ret = pd.Series(ret)\n",
    "    \n",
    "    return ser_ret.sort_values(ascending=False)"
   ]
  },
  {
   "cell_type": "markdown",
   "metadata": {},
   "source": [
    "Function for user-based collaborative filtering.  \n",
    "\n",
    "arguments: dictionary of scores for the target user  \n",
    "and the number of items to recommend.  \n",
    "\n",
    "ex)\n",
    "```\n",
    "get_recomm_by_user_sim(df, {'maguro':1, 'ika':1, 'uni':3,\n",
    "                        'awabi':4, 'hirame':4, 'aoyagi':4})  \n",
    "```\n",
    "-> return list such as [('akagai', 2.9835603009918303), ('mirugai', 2.945676429588114), ...]"
   ]
  },
  {
   "cell_type": "code",
   "execution_count": null,
   "metadata": {},
   "outputs": [],
   "source": [
    "def get_recomm_by_item_sim(df, target_dic):\n",
    "    ser_target = pd.Series(target_dic)\n",
    "    #print(target_dic)  # debug\n",
    "    #print(ser_target)  # debug\n",
    "    # make dataframe with columns included in target_dic\n",
    "    #print(df.shape)  # debug\n",
    "    df_scores = df[ ser_target.index ]\n",
    "    #print(df_scores.shape)  # debug\n",
    "    # drop rows included in target_dic (already rated)\n",
    "    df_scores = df_scores.drop(index=ser_target.index)\n",
    "    #print(df_scores.shape)  # debug\n",
    "    #display(df_scores.head())  # debug\n",
    "    recomm = predict_scores(df_scores, ser_target)\n",
    "    \n",
    "    return recomm"
   ]
  },
  {
   "cell_type": "markdown",
   "metadata": {},
   "source": [
    "#### Do recommendation  "
   ]
  },
  {
   "cell_type": "code",
   "execution_count": null,
   "metadata": {},
   "outputs": [],
   "source": [
    "recomm = get_recomm_by_item_sim(df,\n",
    "                                {'maguro':1, 'ika':1, 'uni':3,\n",
    "                                 'awabi':4, 'hirame':4, 'aoyagi':4})\n",
    "print('Number of items calculated:', len(recomm))\n",
    "print('Recommendation:')\n",
    "print(recomm.head())\n",
    "\n",
    "recomm = get_recomm_by_item_sim(df,\n",
    "                                {'anago': 3, 'maguro': 4, 'ikura': 3,\n",
    "                                 'hamachi': 4, 'samon': 4, 'unagi': 3,\n",
    "                                 'suzuki': 2, 'hamo': 1, 'nasu': 1,\n",
    "                                 'shiso_maki': 2})\n",
    "print('Number of items calculated:', len(recomm))\n",
    "print('Recommendation:')\n",
    "print(recomm.head())"
   ]
  },
  {
   "cell_type": "code",
   "execution_count": null,
   "metadata": {},
   "outputs": [],
   "source": []
  }
 ],
 "metadata": {
  "kernelspec": {
   "display_name": "Python 3",
   "language": "python",
   "name": "python3"
  },
  "language_info": {
   "codemirror_mode": {
    "name": "ipython",
    "version": 3
   },
   "file_extension": ".py",
   "mimetype": "text/x-python",
   "name": "python",
   "nbconvert_exporter": "python",
   "pygments_lexer": "ipython3",
   "version": "3.8.8"
  }
 },
 "nbformat": 4,
 "nbformat_minor": 4
}
