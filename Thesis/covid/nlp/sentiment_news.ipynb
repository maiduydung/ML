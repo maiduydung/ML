{
 "cells": [
  {
   "cell_type": "code",
   "execution_count": 286,
   "id": "conservative-british",
   "metadata": {},
   "outputs": [
    {
     "name": "stderr",
     "output_type": "stream",
     "text": [
      "[nltk_data] Downloading package wordnet to\n",
      "[nltk_data]     C:\\Users\\maidu\\AppData\\Roaming\\nltk_data...\n",
      "[nltk_data]   Package wordnet is already up-to-date!\n"
     ]
    }
   ],
   "source": [
    "import numpy as np\n",
    "import pandas as pd\n",
    "import matplotlib.pyplot as plt\n",
    "from textblob import TextBlob\n",
    "from wordcloud import WordCloud\n",
    "import nltk\n",
    "from nltk.corpus import stopwords\n",
    "from sklearn.feature_extraction.text import CountVectorizer \n",
    "from nltk import word_tokenize\n",
    "import string\n",
    "import re\n",
    "from nltk.stem import WordNetLemmatizer\n",
    "nltk.download('wordnet')\n",
    "from sklearn.model_selection import train_test_split\n",
    "import time\n",
    "from sklearn.linear_model import LogisticRegression\n",
    "from sklearn import metrics\n",
    "from sklearn.preprocessing import LabelEncoder\n",
    "\n",
    "from sklearn.metrics import confusion_matrix \n",
    "from sklearn.metrics import plot_confusion_matrix\n",
    "import matplotlib.pyplot as plt\n",
    "import seaborn as sns\n",
    "from sklearn.metrics import accuracy_score\n",
    "import datetime"
   ]
  },
  {
   "cell_type": "code",
   "execution_count": 287,
   "id": "obvious-thompson",
   "metadata": {},
   "outputs": [
    {
     "name": "stdout",
     "output_type": "stream",
     "text": [
      "(3355, 22)\n",
      "<class 'pandas.core.frame.DataFrame'>\n",
      "RangeIndex: 3355 entries, 0 to 3354\n",
      "Data columns (total 22 columns):\n",
      " #   Column           Non-Null Count  Dtype \n",
      "---  ------           --------------  ----- \n",
      " 0   DOCUMENT_INDEX   3355 non-null   int64 \n",
      " 1   TITLE            3340 non-null   object\n",
      " 2   TARGET_ENTITY    3355 non-null   object\n",
      " 3   DOCUMENT         3355 non-null   object\n",
      " 4   MASKED_DOCUMENT  3355 non-null   object\n",
      " 5   TRUE_SENTIMENT   3355 non-null   object\n",
      " 6   Paragraph0       3103 non-null   object\n",
      " 7   Paragraph1       3103 non-null   object\n",
      " 8   Paragraph2       3103 non-null   object\n",
      " 9   Paragraph3       3103 non-null   object\n",
      " 10  Paragraph4       2467 non-null   object\n",
      " 11  Paragraph5       1975 non-null   object\n",
      " 12  Paragraph6       1605 non-null   object\n",
      " 13  Paragraph7       1298 non-null   object\n",
      " 14  Paragraph8       1015 non-null   object\n",
      " 15  Paragraph9       808 non-null    object\n",
      " 16  Paragraph10      652 non-null    object\n",
      " 17  Paragraph11      505 non-null    object\n",
      " 18  Paragraph12      408 non-null    object\n",
      " 19  Paragraph13      329 non-null    object\n",
      " 20  Paragraph14      272 non-null    object\n",
      " 21  Paragraph15      207 non-null    object\n",
      "dtypes: int64(1), object(21)\n",
      "memory usage: 576.8+ KB\n",
      "None\n"
     ]
    },
    {
     "data": {
      "text/html": [
       "<div>\n",
       "<style scoped>\n",
       "    .dataframe tbody tr th:only-of-type {\n",
       "        vertical-align: middle;\n",
       "    }\n",
       "\n",
       "    .dataframe tbody tr th {\n",
       "        vertical-align: top;\n",
       "    }\n",
       "\n",
       "    .dataframe thead th {\n",
       "        text-align: right;\n",
       "    }\n",
       "</style>\n",
       "<table border=\"1\" class=\"dataframe\">\n",
       "  <thead>\n",
       "    <tr style=\"text-align: right;\">\n",
       "      <th></th>\n",
       "      <th>DOCUMENT_INDEX</th>\n",
       "      <th>TITLE</th>\n",
       "      <th>TARGET_ENTITY</th>\n",
       "      <th>DOCUMENT</th>\n",
       "      <th>MASKED_DOCUMENT</th>\n",
       "      <th>TRUE_SENTIMENT</th>\n",
       "      <th>Paragraph0</th>\n",
       "      <th>Paragraph1</th>\n",
       "      <th>Paragraph2</th>\n",
       "      <th>Paragraph3</th>\n",
       "      <th>...</th>\n",
       "      <th>Paragraph6</th>\n",
       "      <th>Paragraph7</th>\n",
       "      <th>Paragraph8</th>\n",
       "      <th>Paragraph9</th>\n",
       "      <th>Paragraph10</th>\n",
       "      <th>Paragraph11</th>\n",
       "      <th>Paragraph12</th>\n",
       "      <th>Paragraph13</th>\n",
       "      <th>Paragraph14</th>\n",
       "      <th>Paragraph15</th>\n",
       "    </tr>\n",
       "  </thead>\n",
       "  <tbody>\n",
       "    <tr>\n",
       "      <th>0</th>\n",
       "      <td>1</td>\n",
       "      <td>German bank LBBW wins EU bailout approval</td>\n",
       "      <td>Landesbank Baden Wuertemberg</td>\n",
       "      <td>Germany's Landesbank Baden Wuertemberg won EU ...</td>\n",
       "      <td>[TGT] won EU approval Tuesday for a state bail...</td>\n",
       "      <td>Negative</td>\n",
       "      <td>Positive</td>\n",
       "      <td>Negative</td>\n",
       "      <td>Negative</td>\n",
       "      <td>Neutral</td>\n",
       "      <td>...</td>\n",
       "      <td>NaN</td>\n",
       "      <td>NaN</td>\n",
       "      <td>NaN</td>\n",
       "      <td>NaN</td>\n",
       "      <td>NaN</td>\n",
       "      <td>NaN</td>\n",
       "      <td>NaN</td>\n",
       "      <td>NaN</td>\n",
       "      <td>NaN</td>\n",
       "      <td>NaN</td>\n",
       "    </tr>\n",
       "    <tr>\n",
       "      <th>1</th>\n",
       "      <td>2</td>\n",
       "      <td>8th LD Writethru: 9th passenger released from ...</td>\n",
       "      <td>Rolando Mendoza</td>\n",
       "      <td>The Philippine National Police (PNP) identifie...</td>\n",
       "      <td>The Philippine National Police (PNP) identifie...</td>\n",
       "      <td>Neutral</td>\n",
       "      <td>Neutral</td>\n",
       "      <td>Neutral</td>\n",
       "      <td>Neutral</td>\n",
       "      <td>Neutral</td>\n",
       "      <td>...</td>\n",
       "      <td>NaN</td>\n",
       "      <td>NaN</td>\n",
       "      <td>NaN</td>\n",
       "      <td>NaN</td>\n",
       "      <td>NaN</td>\n",
       "      <td>NaN</td>\n",
       "      <td>NaN</td>\n",
       "      <td>NaN</td>\n",
       "      <td>NaN</td>\n",
       "      <td>NaN</td>\n",
       "    </tr>\n",
       "    <tr>\n",
       "      <th>2</th>\n",
       "      <td>3</td>\n",
       "      <td>Commission: Bar Liberian president from office</td>\n",
       "      <td>Charles Taylor</td>\n",
       "      <td>Sirleaf  70  acknowledged before the commissio...</td>\n",
       "      <td>Sirleaf  70  acknowledged before the commissio...</td>\n",
       "      <td>Negative</td>\n",
       "      <td>Neutral</td>\n",
       "      <td>Neutral</td>\n",
       "      <td>Neutral</td>\n",
       "      <td>Negative</td>\n",
       "      <td>...</td>\n",
       "      <td>Negative</td>\n",
       "      <td>NaN</td>\n",
       "      <td>NaN</td>\n",
       "      <td>NaN</td>\n",
       "      <td>NaN</td>\n",
       "      <td>NaN</td>\n",
       "      <td>NaN</td>\n",
       "      <td>NaN</td>\n",
       "      <td>NaN</td>\n",
       "      <td>NaN</td>\n",
       "    </tr>\n",
       "    <tr>\n",
       "      <th>3</th>\n",
       "      <td>4</td>\n",
       "      <td>AP Exclusive: Network flaw causes scary Web error</td>\n",
       "      <td>Sawyers</td>\n",
       "      <td>Sawyer logged off and asked her sister  Mari  ...</td>\n",
       "      <td>[TGT] logged off and asked [TGT] sister  Mari ...</td>\n",
       "      <td>Neutral</td>\n",
       "      <td>Neutral</td>\n",
       "      <td>Neutral</td>\n",
       "      <td>Neutral</td>\n",
       "      <td>Neutral</td>\n",
       "      <td>...</td>\n",
       "      <td>Neutral</td>\n",
       "      <td>NaN</td>\n",
       "      <td>NaN</td>\n",
       "      <td>NaN</td>\n",
       "      <td>NaN</td>\n",
       "      <td>NaN</td>\n",
       "      <td>NaN</td>\n",
       "      <td>NaN</td>\n",
       "      <td>NaN</td>\n",
       "      <td>NaN</td>\n",
       "    </tr>\n",
       "    <tr>\n",
       "      <th>4</th>\n",
       "      <td>5</td>\n",
       "      <td>Holyfield ' s wife says boxer hit her several ...</td>\n",
       "      <td>Candi Holyfield</td>\n",
       "      <td>Candi Holyfield said in the protective order t...</td>\n",
       "      <td>[TGT] said in the protective order that the ab...</td>\n",
       "      <td>Neutral</td>\n",
       "      <td>Neutral</td>\n",
       "      <td>Neutral</td>\n",
       "      <td>Neutral</td>\n",
       "      <td>Neutral</td>\n",
       "      <td>...</td>\n",
       "      <td>NaN</td>\n",
       "      <td>NaN</td>\n",
       "      <td>NaN</td>\n",
       "      <td>NaN</td>\n",
       "      <td>NaN</td>\n",
       "      <td>NaN</td>\n",
       "      <td>NaN</td>\n",
       "      <td>NaN</td>\n",
       "      <td>NaN</td>\n",
       "      <td>NaN</td>\n",
       "    </tr>\n",
       "  </tbody>\n",
       "</table>\n",
       "<p>5 rows × 22 columns</p>\n",
       "</div>"
      ],
      "text/plain": [
       "   DOCUMENT_INDEX                                              TITLE  \\\n",
       "0               1          German bank LBBW wins EU bailout approval   \n",
       "1               2  8th LD Writethru: 9th passenger released from ...   \n",
       "2               3     Commission: Bar Liberian president from office   \n",
       "3               4  AP Exclusive: Network flaw causes scary Web error   \n",
       "4               5  Holyfield ' s wife says boxer hit her several ...   \n",
       "\n",
       "                  TARGET_ENTITY  \\\n",
       "0  Landesbank Baden Wuertemberg   \n",
       "1               Rolando Mendoza   \n",
       "2                Charles Taylor   \n",
       "3                       Sawyers   \n",
       "4               Candi Holyfield   \n",
       "\n",
       "                                            DOCUMENT  \\\n",
       "0  Germany's Landesbank Baden Wuertemberg won EU ...   \n",
       "1  The Philippine National Police (PNP) identifie...   \n",
       "2  Sirleaf  70  acknowledged before the commissio...   \n",
       "3  Sawyer logged off and asked her sister  Mari  ...   \n",
       "4  Candi Holyfield said in the protective order t...   \n",
       "\n",
       "                                     MASKED_DOCUMENT TRUE_SENTIMENT  \\\n",
       "0  [TGT] won EU approval Tuesday for a state bail...       Negative   \n",
       "1  The Philippine National Police (PNP) identifie...        Neutral   \n",
       "2  Sirleaf  70  acknowledged before the commissio...       Negative   \n",
       "3  [TGT] logged off and asked [TGT] sister  Mari ...        Neutral   \n",
       "4  [TGT] said in the protective order that the ab...        Neutral   \n",
       "\n",
       "  Paragraph0 Paragraph1 Paragraph2 Paragraph3  ... Paragraph6 Paragraph7  \\\n",
       "0   Positive   Negative   Negative    Neutral  ...        NaN        NaN   \n",
       "1    Neutral    Neutral    Neutral    Neutral  ...        NaN        NaN   \n",
       "2    Neutral    Neutral    Neutral   Negative  ...   Negative        NaN   \n",
       "3    Neutral    Neutral    Neutral    Neutral  ...    Neutral        NaN   \n",
       "4    Neutral    Neutral    Neutral    Neutral  ...        NaN        NaN   \n",
       "\n",
       "  Paragraph8 Paragraph9 Paragraph10 Paragraph11 Paragraph12 Paragraph13  \\\n",
       "0        NaN        NaN         NaN         NaN         NaN         NaN   \n",
       "1        NaN        NaN         NaN         NaN         NaN         NaN   \n",
       "2        NaN        NaN         NaN         NaN         NaN         NaN   \n",
       "3        NaN        NaN         NaN         NaN         NaN         NaN   \n",
       "4        NaN        NaN         NaN         NaN         NaN         NaN   \n",
       "\n",
       "  Paragraph14 Paragraph15  \n",
       "0         NaN         NaN  \n",
       "1         NaN         NaN  \n",
       "2         NaN         NaN  \n",
       "3         NaN         NaN  \n",
       "4         NaN         NaN  \n",
       "\n",
       "[5 rows x 22 columns]"
      ]
     },
     "execution_count": 287,
     "metadata": {},
     "output_type": "execute_result"
    }
   ],
   "source": [
    "df = pd.read_csv('PerSenT-main/train.csv', error_bad_lines=False,encoding='utf8')\n",
    "#import dask.dataframe as dd\n",
    "#df = dd.read_csv('PerSenT-main/train.csv')\n",
    "print(df.shape)\n",
    "print(df.info())\n",
    "df.head()"
   ]
  },
  {
   "cell_type": "code",
   "execution_count": 288,
   "id": "local-boating",
   "metadata": {},
   "outputs": [],
   "source": [
    "df1 = pd.read_csv('PerSenT-main/dev.csv', error_bad_lines=False,encoding='utf8')\n",
    "df2 = pd.read_csv('PerSenT-main/fixed_test.csv', error_bad_lines=False,encoding='utf8')\n",
    "df3 = pd.read_csv('PerSenT-main/random_test.csv', error_bad_lines=False,encoding='utf8')"
   ]
  },
  {
   "cell_type": "code",
   "execution_count": 289,
   "id": "desperate-silicon",
   "metadata": {},
   "outputs": [
    {
     "name": "stdout",
     "output_type": "stream",
     "text": [
      "(5339, 22)\n"
     ]
    }
   ],
   "source": [
    "frames = [df,df1, df2, df3]\n",
    "df = pd.concat(frames)\n",
    "print(df.shape)"
   ]
  },
  {
   "cell_type": "markdown",
   "id": "induced-sunday",
   "metadata": {},
   "source": [
    "### Imbalanced dataset"
   ]
  },
  {
   "cell_type": "code",
   "execution_count": 290,
   "id": "recognized-blade",
   "metadata": {},
   "outputs": [
    {
     "data": {
      "text/plain": [
       "(array([ 621.,    0.,    0.,    0.,    0., 1995.,    0.,    0.,    0.,\n",
       "        2723.]),\n",
       " array([0. , 0.2, 0.4, 0.6, 0.8, 1. , 1.2, 1.4, 1.6, 1.8, 2. ]),\n",
       " <BarContainer object of 10 artists>)"
      ]
     },
     "execution_count": 290,
     "metadata": {},
     "output_type": "execute_result"
    },
    {
     "data": {
      "image/png": "[encoded data removed]",
      "text/plain": [
       "<Figure size 432x288 with 1 Axes>"
      ]
     },
     "metadata": {
      "needs_background": "light"
     },
     "output_type": "display_data"
    }
   ],
   "source": [
    "plt.hist(df['TRUE_SENTIMENT'])"
   ]
  },
  {
   "cell_type": "markdown",
   "id": "tracked-colombia",
   "metadata": {},
   "source": [
    "### Remove skewness"
   ]
  },
  {
   "cell_type": "raw",
   "id": "conventional-connection",
   "metadata": {},
   "source": [
    "df_negative = df[df['TRUE_SENTIMENT']=='Negative']\n",
    "df_neutral = df[df['TRUE_SENTIMENT']=='Neutral'][:621]\n",
    "df_positive = df[df['TRUE_SENTIMENT']=='Positive'][:621]\n",
    "frames = [df_negative, df_neutral, df_positive]"
   ]
  },
  {
   "cell_type": "raw",
   "id": "broadband-tournament",
   "metadata": {},
   "source": [
    "df_negative"
   ]
  },
  {
   "cell_type": "raw",
   "id": "laughing-stack",
   "metadata": {},
   "source": [
    "df = pd.concat(frames)\n",
    "print(df.shape)"
   ]
  },
  {
   "cell_type": "raw",
   "id": "thorough-mumbai",
   "metadata": {},
   "source": [
    "plt.hist(df['TRUE_SENTIMENT'])"
   ]
  },
  {
   "cell_type": "raw",
   "id": "dental-length",
   "metadata": {},
   "source": [
    "df.head()"
   ]
  },
  {
   "cell_type": "code",
   "execution_count": 291,
   "id": "residential-mozambique",
   "metadata": {},
   "outputs": [
    {
     "name": "stdout",
     "output_type": "stream",
     "text": [
      "(5339,)\n"
     ]
    },
    {
     "data": {
      "text/plain": [
       "0    Germany's Landesbank Baden Wuertemberg won EU ...\n",
       "1    The Philippine National Police (PNP) identifie...\n",
       "2    Sirleaf  70  acknowledged before the commissio...\n",
       "3    Sawyer logged off and asked her sister  Mari  ...\n",
       "4    Candi Holyfield said in the protective order t...\n",
       "Name: DOCUMENT, dtype: object"
      ]
     },
     "execution_count": 291,
     "metadata": {},
     "output_type": "execute_result"
    }
   ],
   "source": [
    "X = df[['DOCUMENT']].copy()\n",
    "X = X['DOCUMENT'].astype(str)\n",
    "print(X.shape)\n",
    "X.head()"
   ]
  },
  {
   "cell_type": "code",
   "execution_count": 292,
   "id": "logical-ethnic",
   "metadata": {},
   "outputs": [
    {
     "name": "stdout",
     "output_type": "stream",
     "text": [
      "(5339,)\n"
     ]
    },
    {
     "data": {
      "text/plain": [
       "0    Negative\n",
       "1     Neutral\n",
       "2    Negative\n",
       "3     Neutral\n",
       "4     Neutral\n",
       "Name: TRUE_SENTIMENT, dtype: object"
      ]
     },
     "execution_count": 292,
     "metadata": {},
     "output_type": "execute_result"
    }
   ],
   "source": [
    "Y = df['TRUE_SENTIMENT'].copy()\n",
    "print(Y.shape)\n",
    "Y.head()"
   ]
  },
  {
   "cell_type": "code",
   "execution_count": 293,
   "id": "balanced-export",
   "metadata": {},
   "outputs": [],
   "source": [
    "punctuation = set(string.punctuation) # ,.:''\n",
    "wordnet_lemmatizer = WordNetLemmatizer()#runs -> run\n",
    "stopwords_list = stopwords.words('english')#is, the, a, are\n",
    "stopwords_list.append('br') #linebreak in html, needs removal"
   ]
  },
  {
   "cell_type": "code",
   "execution_count": 294,
   "id": "illegal-shame",
   "metadata": {},
   "outputs": [],
   "source": [
    "def text_prep(text):\n",
    "    text = re.sub(r\"n't\", \" not \", text)\n",
    "    text = re.sub(r\"\\'s\", \" \", text)\n",
    "    text = re.sub(r\"\\'ve\", \" have \", text)\n",
    "    text = re.sub(r\"\\'re\", \" are \", text)\n",
    "    text = re.sub(r\"\\'d\", \" would \", text)\n",
    "    text = re.sub(r\"\\'ll\", \" will \", text)\n",
    "    text = re.sub('[^a-z\\s]', '', text.lower()) #lower text\n",
    "    \n",
    "    #remove punctuation\n",
    "    punc_removed = [char for char in text if char not in punctuation]\n",
    "    punc_removed = ''.join(punc_removed)\n",
    "\n",
    "    #remove stopwords\n",
    "    no_stopword = [word for word in punc_removed.split() if word not in stopwords_list]\n",
    "    \n",
    "    #lemmatizing (runs -> run)\n",
    "    lemmatized = [wordnet_lemmatizer.lemmatize(word) for word in no_stopword]\n",
    "    lemmatized = np.array(lemmatized)\n",
    "    return lemmatized"
   ]
  },
  {
   "cell_type": "code",
   "execution_count": 295,
   "id": "brazilian-pillow",
   "metadata": {},
   "outputs": [],
   "source": [
    "X_train, X_test, y_train, y_test = train_test_split(X, Y, test_size=0.33, random_state=42)"
   ]
  },
  {
   "cell_type": "code",
   "execution_count": 296,
   "id": "under-miami",
   "metadata": {},
   "outputs": [
    {
     "data": {
      "text/plain": [
       "10      Bethune  the Ady Gil skipper  said he was happ...\n",
       "1945    EDINBURG  Texas -- A former monk has testified...\n",
       "574     President Trump gave his first State of the Un...\n",
       "311     If  the Trump administration  starts a trade w...\n",
       "168     Beyond the question of James and whether it 's...\n",
       "                              ...                        \n",
       "2251    These terrifying tales sent me looking for a b...\n",
       "3127    Anthony Milan Ross  45   was charged with thre...\n",
       "437     Ji Hyeon-A  was repatriated three times to Nor...\n",
       "474     LOS ANGELES --  Frances McDormand  won the bes...\n",
       "2168    Burge was not in court  but  Jackie Wilson   w...\n",
       "Name: DOCUMENT, Length: 1762, dtype: object"
      ]
     },
     "execution_count": 296,
     "metadata": {},
     "output_type": "execute_result"
    }
   ],
   "source": [
    "X_test"
   ]
  },
  {
   "cell_type": "code",
   "execution_count": 297,
   "id": "spiritual-biography",
   "metadata": {},
   "outputs": [],
   "source": [
    "cv= CountVectorizer(analyzer = text_prep, min_df = 10, max_df = 0.95)\n",
    "cv.fit_transform(X.values)\n",
    "train_feature_set=cv.transform(X_train.values)\n",
    "test_feature_set=cv.transform(X_test.values)\n"
   ]
  },
  {
   "cell_type": "code",
   "execution_count": 298,
   "id": "constitutional-dress",
   "metadata": {},
   "outputs": [],
   "source": [
    "y_train_feature_set = cv.transform(y_train.values)"
   ]
  },
  {
   "cell_type": "code",
   "execution_count": 299,
   "id": "medieval-morocco",
   "metadata": {},
   "outputs": [],
   "source": [
    "lr = LogisticRegression(random_state = 42, max_iter=10000, multi_class='multinomial', solver='lbfgs')\n",
    "lr.fit(train_feature_set,y_train)\n",
    "y_pred = lr.predict(test_feature_set)"
   ]
  },
  {
   "cell_type": "code",
   "execution_count": 300,
   "id": "convenient-ranch",
   "metadata": {},
   "outputs": [
    {
     "name": "stdout",
     "output_type": "stream",
     "text": [
      "Accuracy:  0.476\n"
     ]
    }
   ],
   "source": [
    "print(\"Accuracy: \",round(metrics.accuracy_score(y_test,y_pred),3))\n",
    "#print(\"F1: \",round(metrics.f1_score(y_test, y_pred,average='micro')))"
   ]
  },
  {
   "cell_type": "code",
   "execution_count": 301,
   "id": "freelance-child",
   "metadata": {},
   "outputs": [
    {
     "data": {
      "image/png": "[encoded data removed]",
      "text/plain": [
       "<Figure size 432x288 with 2 Axes>"
      ]
     },
     "metadata": {
      "needs_background": "light"
     },
     "output_type": "display_data"
    }
   ],
   "source": [
    "disp = metrics.plot_confusion_matrix(lr, test_feature_set, y_test,\n",
    "                                 display_labels=['Negative', 'Neutral', 'Positive'],\n",
    "                                 cmap=plt.cm.Blues,\n",
    "                                 normalize='true')\n",
    "disp.ax_.set_title('Logistic Regression Confusion matrix, normalized');"
   ]
  },
  {
   "cell_type": "code",
   "execution_count": 302,
   "id": "featured-hartford",
   "metadata": {},
   "outputs": [
    {
     "data": {
      "text/plain": [
       "1519    Mariah Carey  undeterred by last yearâs perf...\n",
       "259     Gus Kenworthy  Nick Goepper advance to men's s...\n",
       "481     Cliven Bundy  emerged to supportersâ cheers ...\n",
       "399     Ukrainian Security Service officers detain  Mi...\n",
       "1023    President Trump used to have kind words for  h...\n",
       "                              ...                        \n",
       "3092    President Donald Trump nominated Michigan Stat...\n",
       "417     An unnamed actress has filed  a lawsuit agains...\n",
       "431     ISLAMABAD (Reuters) - The ruling Pakistan Musl...\n",
       "466     PHNOM PENH (Reuters) - Cambodiaâs main oppos...\n",
       "860     NEW YORK (Reuters Breakingviews) - Time beat t...\n",
       "Name: DOCUMENT, Length: 3577, dtype: object"
      ]
     },
     "execution_count": 302,
     "metadata": {},
     "output_type": "execute_result"
    }
   ],
   "source": [
    "X_train"
   ]
  },
  {
   "cell_type": "code",
   "execution_count": null,
   "id": "productive-allah",
   "metadata": {},
   "outputs": [],
   "source": []
  },
  {
   "cell_type": "markdown",
   "id": "pleased-campaign",
   "metadata": {},
   "source": [
    "### XGBoost"
   ]
  },
  {
   "cell_type": "code",
   "execution_count": 303,
   "id": "framed-terrace",
   "metadata": {},
   "outputs": [],
   "source": [
    "#cv= CountVectorizer(analyzer = text_prep, min_df = 10, max_df = 0.95)\n",
    "#cv.fit_transform(X.values)"
   ]
  },
  {
   "cell_type": "raw",
   "id": "proof-complex",
   "metadata": {},
   "source": [
    "#x_train_bow, x_test_bow, y_train_bow, y_test_bow = train_test_split(df['DOCUMENT'],df['TRUE_SENTIMENT'],test_size=0.3,random_state=42)"
   ]
  },
  {
   "cell_type": "code",
   "execution_count": 335,
   "id": "english-scott",
   "metadata": {},
   "outputs": [
    {
     "data": {
      "text/plain": [
       "0      Germany's Landesbank Baden Wuertemberg won EU ...\n",
       "1      The Philippine National Police (PNP) identifie...\n",
       "2      Sirleaf  70  acknowledged before the commissio...\n",
       "3      Sawyer logged off and asked her sister  Mari  ...\n",
       "4      Candi Holyfield said in the protective order t...\n",
       "                             ...                        \n",
       "574    President Trump gave his first State of the Un...\n",
       "575    An onslaught of victims  many of them tearful ...\n",
       "576    The Resilience Of  Victoria Williams\\n Victori...\n",
       "577    Waukesha County Circuit Judge Michael Bohren o...\n",
       "578    âAnecdotally  I am surprised that there appe...\n",
       "Name: DOCUMENT, Length: 5339, dtype: object"
      ]
     },
     "execution_count": 335,
     "metadata": {},
     "output_type": "execute_result"
    }
   ],
   "source": [
    "df['DOCUMENT']"
   ]
  },
  {
   "cell_type": "code",
   "execution_count": 337,
   "id": "split-allocation",
   "metadata": {},
   "outputs": [],
   "source": [
    "import pandas as pd\n",
    "from sklearn.feature_extraction.text import CountVectorizer\n",
    "\n",
    "#CountVec = CountVectorizer(analyzer = text_prep, min_df = 10, max_df = 0.95)\n",
    "CountVec = CountVectorizer(analyzer = text_prep)\n",
    "#transform\n",
    "X = CountVec.fit_transform(df['DOCUMENT'])\n",
    "\n",
    "#create dataframe\n",
    "X_df=pd.DataFrame(X.toarray(),columns=CountVec.get_feature_names())\n"
   ]
  },
  {
   "cell_type": "code",
   "execution_count": 338,
   "id": "central-treatment",
   "metadata": {},
   "outputs": [
    {
     "name": "stdout",
     "output_type": "stream",
     "text": [
      "(5339, 8275)\n"
     ]
    },
    {
     "data": {
      "text/html": [
       "<div>\n",
       "<style scoped>\n",
       "    .dataframe tbody tr th:only-of-type {\n",
       "        vertical-align: middle;\n",
       "    }\n",
       "\n",
       "    .dataframe tbody tr th {\n",
       "        vertical-align: top;\n",
       "    }\n",
       "\n",
       "    .dataframe thead th {\n",
       "        text-align: right;\n",
       "    }\n",
       "</style>\n",
       "<table border=\"1\" class=\"dataframe\">\n",
       "  <thead>\n",
       "    <tr style=\"text-align: right;\">\n",
       "      <th></th>\n",
       "      <th>aaron</th>\n",
       "      <th>abandon</th>\n",
       "      <th>abandoned</th>\n",
       "      <th>abandonment</th>\n",
       "      <th>abbas</th>\n",
       "      <th>abc</th>\n",
       "      <th>abe</th>\n",
       "      <th>ability</th>\n",
       "      <th>able</th>\n",
       "      <th>aboard</th>\n",
       "      <th>...</th>\n",
       "      <th>youve</th>\n",
       "      <th>zach</th>\n",
       "      <th>zealand</th>\n",
       "      <th>zero</th>\n",
       "      <th>zimbabwe</th>\n",
       "      <th>zimbabwean</th>\n",
       "      <th>zinke</th>\n",
       "      <th>zone</th>\n",
       "      <th>zuckerberg</th>\n",
       "      <th>zuma</th>\n",
       "    </tr>\n",
       "  </thead>\n",
       "  <tbody>\n",
       "    <tr>\n",
       "      <th>0</th>\n",
       "      <td>0</td>\n",
       "      <td>0</td>\n",
       "      <td>0</td>\n",
       "      <td>0</td>\n",
       "      <td>0</td>\n",
       "      <td>0</td>\n",
       "      <td>0</td>\n",
       "      <td>0</td>\n",
       "      <td>0</td>\n",
       "      <td>0</td>\n",
       "      <td>...</td>\n",
       "      <td>0</td>\n",
       "      <td>0</td>\n",
       "      <td>0</td>\n",
       "      <td>0</td>\n",
       "      <td>0</td>\n",
       "      <td>0</td>\n",
       "      <td>0</td>\n",
       "      <td>0</td>\n",
       "      <td>0</td>\n",
       "      <td>0</td>\n",
       "    </tr>\n",
       "    <tr>\n",
       "      <th>1</th>\n",
       "      <td>0</td>\n",
       "      <td>0</td>\n",
       "      <td>0</td>\n",
       "      <td>0</td>\n",
       "      <td>0</td>\n",
       "      <td>0</td>\n",
       "      <td>0</td>\n",
       "      <td>0</td>\n",
       "      <td>0</td>\n",
       "      <td>0</td>\n",
       "      <td>...</td>\n",
       "      <td>0</td>\n",
       "      <td>0</td>\n",
       "      <td>0</td>\n",
       "      <td>0</td>\n",
       "      <td>0</td>\n",
       "      <td>0</td>\n",
       "      <td>0</td>\n",
       "      <td>0</td>\n",
       "      <td>0</td>\n",
       "      <td>0</td>\n",
       "    </tr>\n",
       "    <tr>\n",
       "      <th>2</th>\n",
       "      <td>0</td>\n",
       "      <td>0</td>\n",
       "      <td>0</td>\n",
       "      <td>0</td>\n",
       "      <td>0</td>\n",
       "      <td>0</td>\n",
       "      <td>0</td>\n",
       "      <td>0</td>\n",
       "      <td>0</td>\n",
       "      <td>0</td>\n",
       "      <td>...</td>\n",
       "      <td>0</td>\n",
       "      <td>0</td>\n",
       "      <td>0</td>\n",
       "      <td>0</td>\n",
       "      <td>0</td>\n",
       "      <td>0</td>\n",
       "      <td>0</td>\n",
       "      <td>0</td>\n",
       "      <td>0</td>\n",
       "      <td>0</td>\n",
       "    </tr>\n",
       "    <tr>\n",
       "      <th>3</th>\n",
       "      <td>0</td>\n",
       "      <td>0</td>\n",
       "      <td>0</td>\n",
       "      <td>0</td>\n",
       "      <td>0</td>\n",
       "      <td>0</td>\n",
       "      <td>0</td>\n",
       "      <td>0</td>\n",
       "      <td>0</td>\n",
       "      <td>0</td>\n",
       "      <td>...</td>\n",
       "      <td>0</td>\n",
       "      <td>0</td>\n",
       "      <td>0</td>\n",
       "      <td>0</td>\n",
       "      <td>0</td>\n",
       "      <td>0</td>\n",
       "      <td>0</td>\n",
       "      <td>0</td>\n",
       "      <td>0</td>\n",
       "      <td>0</td>\n",
       "    </tr>\n",
       "    <tr>\n",
       "      <th>4</th>\n",
       "      <td>0</td>\n",
       "      <td>0</td>\n",
       "      <td>0</td>\n",
       "      <td>0</td>\n",
       "      <td>0</td>\n",
       "      <td>0</td>\n",
       "      <td>0</td>\n",
       "      <td>0</td>\n",
       "      <td>0</td>\n",
       "      <td>0</td>\n",
       "      <td>...</td>\n",
       "      <td>0</td>\n",
       "      <td>0</td>\n",
       "      <td>0</td>\n",
       "      <td>0</td>\n",
       "      <td>0</td>\n",
       "      <td>0</td>\n",
       "      <td>0</td>\n",
       "      <td>0</td>\n",
       "      <td>0</td>\n",
       "      <td>0</td>\n",
       "    </tr>\n",
       "  </tbody>\n",
       "</table>\n",
       "<p>5 rows × 8275 columns</p>\n",
       "</div>"
      ],
      "text/plain": [
       "   aaron  abandon  abandoned  abandonment  abbas  abc  abe  ability  able  \\\n",
       "0      0        0          0            0      0    0    0        0     0   \n",
       "1      0        0          0            0      0    0    0        0     0   \n",
       "2      0        0          0            0      0    0    0        0     0   \n",
       "3      0        0          0            0      0    0    0        0     0   \n",
       "4      0        0          0            0      0    0    0        0     0   \n",
       "\n",
       "   aboard  ...  youve  zach  zealand  zero  zimbabwe  zimbabwean  zinke  zone  \\\n",
       "0       0  ...      0     0        0     0         0           0      0     0   \n",
       "1       0  ...      0     0        0     0         0           0      0     0   \n",
       "2       0  ...      0     0        0     0         0           0      0     0   \n",
       "3       0  ...      0     0        0     0         0           0      0     0   \n",
       "4       0  ...      0     0        0     0         0           0      0     0   \n",
       "\n",
       "   zuckerberg  zuma  \n",
       "0           0     0  \n",
       "1           0     0  \n",
       "2           0     0  \n",
       "3           0     0  \n",
       "4           0     0  \n",
       "\n",
       "[5 rows x 8275 columns]"
      ]
     },
     "execution_count": 338,
     "metadata": {},
     "output_type": "execute_result"
    }
   ],
   "source": [
    "print(X_df.shape)\n",
    "X_df.head()\n"
   ]
  },
  {
   "cell_type": "raw",
   "id": "heavy-supply",
   "metadata": {},
   "source": [
    "Y = CountVec.fit_transform(df['TRUE_SENTIMENT'])\n",
    " \n",
    "#create dataframe\n",
    "Y_df=pd.DataFrame(Y.toarray(),columns=CountVec.get_feature_names())"
   ]
  },
  {
   "cell_type": "code",
   "execution_count": 339,
   "id": "voluntary-manner",
   "metadata": {},
   "outputs": [
    {
     "name": "stdout",
     "output_type": "stream",
     "text": [
      "['Negative' 'Neutral' 'Positive']\n",
      "[0 1 0 ... 2 2 2]\n"
     ]
    }
   ],
   "source": [
    "le = LabelEncoder()\n",
    "le.fit(df['TRUE_SENTIMENT'])\n",
    "print(le.classes_)\n",
    "Y = le.transform(df['TRUE_SENTIMENT'])\n",
    "print(Y)"
   ]
  },
  {
   "cell_type": "code",
   "execution_count": null,
   "id": "organic-winter",
   "metadata": {},
   "outputs": [],
   "source": []
  },
  {
   "cell_type": "code",
   "execution_count": 340,
   "id": "impaired-entry",
   "metadata": {},
   "outputs": [],
   "source": [
    "X_train_bow, X_test_bow, y_train_bow, y_test_bow = train_test_split(X_df, Y, test_size=0.3, random_state=42)"
   ]
  },
  {
   "cell_type": "code",
   "execution_count": 341,
   "id": "qualified-oregon",
   "metadata": {},
   "outputs": [
    {
     "name": "stdout",
     "output_type": "stream",
     "text": [
      "(3737, 8275) (3737,)\n",
      "(1602, 8275) (1602,)\n"
     ]
    }
   ],
   "source": [
    "print(X_train_bow.shape, y_train_bow.shape)\n",
    "print(X_test_bow.shape, y_test_bow.shape)"
   ]
  },
  {
   "cell_type": "code",
   "execution_count": 342,
   "id": "surrounded-example",
   "metadata": {},
   "outputs": [
    {
     "name": "stdout",
     "output_type": "stream",
     "text": [
      "[0]\tvalidation_0-merror:0.49688\n",
      "[1]\tvalidation_0-merror:0.48252\n",
      "[2]\tvalidation_0-merror:0.48065\n",
      "[3]\tvalidation_0-merror:0.48252\n",
      "[4]\tvalidation_0-merror:0.48689\n",
      "[5]\tvalidation_0-merror:0.47753\n",
      "[6]\tvalidation_0-merror:0.47815\n",
      "[7]\tvalidation_0-merror:0.46941\n",
      "[8]\tvalidation_0-merror:0.47191\n",
      "[9]\tvalidation_0-merror:0.47004\n",
      "[10]\tvalidation_0-merror:0.47316\n",
      "[11]\tvalidation_0-merror:0.47004\n",
      "[12]\tvalidation_0-merror:0.46504\n",
      "[13]\tvalidation_0-merror:0.46816\n",
      "[14]\tvalidation_0-merror:0.47565\n",
      "[15]\tvalidation_0-merror:0.47253\n",
      "[16]\tvalidation_0-merror:0.47004\n",
      "[17]\tvalidation_0-merror:0.46941\n",
      "[18]\tvalidation_0-merror:0.47253\n",
      "[19]\tvalidation_0-merror:0.47316\n",
      "[20]\tvalidation_0-merror:0.46692\n",
      "[21]\tvalidation_0-merror:0.47253\n",
      "[22]\tvalidation_0-merror:0.46692\n",
      "[23]\tvalidation_0-merror:0.47129\n",
      "[24]\tvalidation_0-merror:0.47129\n",
      "[25]\tvalidation_0-merror:0.47378\n",
      "[26]\tvalidation_0-merror:0.47253\n",
      "[27]\tvalidation_0-merror:0.47066\n",
      "[28]\tvalidation_0-merror:0.47316\n",
      "[29]\tvalidation_0-merror:0.46879\n",
      "[30]\tvalidation_0-merror:0.47565\n",
      "[31]\tvalidation_0-merror:0.47191\n",
      "[32]\tvalidation_0-merror:0.47129\n",
      "[33]\tvalidation_0-merror:0.47253\n",
      "[34]\tvalidation_0-merror:0.46941\n",
      "[35]\tvalidation_0-merror:0.47129\n",
      "[36]\tvalidation_0-merror:0.46941\n",
      "[37]\tvalidation_0-merror:0.47066\n",
      "[38]\tvalidation_0-merror:0.47316\n",
      "[39]\tvalidation_0-merror:0.47378\n",
      "[40]\tvalidation_0-merror:0.47316\n",
      "[41]\tvalidation_0-merror:0.47441\n",
      "[42]\tvalidation_0-merror:0.47628\n",
      "[43]\tvalidation_0-merror:0.47565\n",
      "[44]\tvalidation_0-merror:0.47690\n",
      "[45]\tvalidation_0-merror:0.47878\n",
      "[46]\tvalidation_0-merror:0.47628\n",
      "[47]\tvalidation_0-merror:0.47565\n",
      "[48]\tvalidation_0-merror:0.47191\n",
      "[49]\tvalidation_0-merror:0.47253\n",
      "[50]\tvalidation_0-merror:0.47253\n",
      "[51]\tvalidation_0-merror:0.46692\n",
      "[52]\tvalidation_0-merror:0.47004\n",
      "[53]\tvalidation_0-merror:0.47191\n",
      "[54]\tvalidation_0-merror:0.47129\n",
      "[55]\tvalidation_0-merror:0.47129\n",
      "[56]\tvalidation_0-merror:0.47191\n",
      "[57]\tvalidation_0-merror:0.47378\n",
      "[58]\tvalidation_0-merror:0.47441\n",
      "[59]\tvalidation_0-merror:0.47316\n",
      "[60]\tvalidation_0-merror:0.47441\n",
      "[61]\tvalidation_0-merror:0.47628\n",
      "[62]\tvalidation_0-merror:0.47878\n",
      "[63]\tvalidation_0-merror:0.47940\n",
      "[64]\tvalidation_0-merror:0.48002\n",
      "[65]\tvalidation_0-merror:0.48002\n",
      "[66]\tvalidation_0-merror:0.48252\n",
      "[67]\tvalidation_0-merror:0.48252\n",
      "[68]\tvalidation_0-merror:0.48440\n",
      "[69]\tvalidation_0-merror:0.48689\n",
      "[70]\tvalidation_0-merror:0.48564\n",
      "[71]\tvalidation_0-merror:0.48814\n",
      "[72]\tvalidation_0-merror:0.48752\n"
     ]
    },
    {
     "data": {
      "text/plain": [
       "XGBClassifier(base_score=0.5, booster='gbtree', colsample_bylevel=1,\n",
       "              colsample_bynode=1, colsample_bytree=1, gamma=0, gpu_id=-1,\n",
       "              importance_type='gain', interaction_constraints='',\n",
       "              learning_rate=0.300000012, max_delta_step=0, max_depth=6,\n",
       "              min_child_weight=1, missing=None, monotone_constraints='()',\n",
       "              n_estimators=100, n_jobs=4, num_parallel_tree=1,\n",
       "              objective='multi:softprob', random_state=42, reg_alpha=0,\n",
       "              reg_lambda=1, scale_pos_weight=None, seed=42, subsample=1,\n",
       "              tree_method='exact', use_label_encoder=False,\n",
       "              validate_parameters=1, verbosity=None)"
      ]
     },
     "execution_count": 342,
     "metadata": {},
     "output_type": "execute_result"
    }
   ],
   "source": [
    "from xgboost import XGBClassifier\n",
    "#xgb_bow = XGBClassifier(random_state=42, learning_rate=0.1,use_label_encoder=False)\n",
    "#xgb_bow.fit(x_train_bow, y_train_bow, eval_set=[(X_test, y_test)])\n",
    "\n",
    "clf_xbg = XGBClassifier(objective='multi:softmax', missing=None, seed=42, use_label_encoder=False)\n",
    "clf_xbg.fit(X_train_bow, y_train_bow, verbose=True, early_stopping_rounds=60,  eval_metric='merror',eval_set=[(X_test_bow, y_test_bow)])"
   ]
  },
  {
   "cell_type": "code",
   "execution_count": 346,
   "id": "secondary-deposit",
   "metadata": {},
   "outputs": [
    {
     "name": "stdout",
     "output_type": "stream",
     "text": [
      "Wall time: 343 ms\n"
     ]
    }
   ],
   "source": [
    "%%time\n",
    "y_pred_bow=clf_xbg.predict(X_test_bow)"
   ]
  },
  {
   "cell_type": "code",
   "execution_count": 347,
   "id": "fossil-spirit",
   "metadata": {},
   "outputs": [
    {
     "data": {
      "image/png": "[encoded data removed]",
      "text/plain": [
       "<Figure size 432x288 with 2 Axes>"
      ]
     },
     "metadata": {
      "needs_background": "light"
     },
     "output_type": "display_data"
    }
   ],
   "source": [
    "matrix = confusion_matrix(y_test_bow, y_pred_bow)\n",
    "\n",
    "matrix = matrix.astype('float') / matrix.sum(axis=1)[:, np.newaxis]\n",
    "sns.heatmap(matrix, annot=True, annot_kws={'size':10}, cmap=plt.cm.Greens, linewidths=0.2)\n",
    "plt.xlabel('Predicted label')\n",
    "plt.ylabel('True label')\n",
    "plt.title(\"Confusion matrix for XGBoost\")\n",
    "plt.show()"
   ]
  },
  {
   "cell_type": "code",
   "execution_count": 348,
   "id": "alert-norman",
   "metadata": {},
   "outputs": [
    {
     "data": {
      "text/plain": [
       "0.5349563046192259"
      ]
     },
     "execution_count": 348,
     "metadata": {},
     "output_type": "execute_result"
    }
   ],
   "source": [
    "accuracy_score(y_test_bow, y_pred_bow, normalize=True)"
   ]
  },
  {
   "cell_type": "code",
   "execution_count": null,
   "id": "valid-event",
   "metadata": {},
   "outputs": [],
   "source": []
  },
  {
   "cell_type": "code",
   "execution_count": null,
   "id": "periodic-drill",
   "metadata": {},
   "outputs": [],
   "source": []
  },
  {
   "cell_type": "code",
   "execution_count": null,
   "id": "elect-utilization",
   "metadata": {},
   "outputs": [],
   "source": []
  },
  {
   "cell_type": "code",
   "execution_count": null,
   "id": "dental-burns",
   "metadata": {},
   "outputs": [],
   "source": [
    "article='''COVID-19 cases across Japan continued to climb July 31 with preliminary figures showing the total already exceeded the previous day's record of 10,743.\n",
    "In Tokyo, for the first time, the daily count of new cases reached the 4,000 mark on July 31.\n",
    "Record case numbers were confirmed in at least seven prefectures: Saitama, Kanagawa and Chiba, which are all adjacent to Tokyo, as well as Gunma, Tochigi, Kyoto and Okinawa.\n",
    "In Saitama Prefecture, the daily tally of new COVID-19 cases exceeded 1,000 for the first time with 1,036. The previous record for Saitama, 869, was logged July 28.\n",
    "In Kanagawa Prefecture, 1,580 fresh COVID-19 cases were confirmed, the fourth consecutive day to break its daily record.\n",
    "In Tokyo, the host city of the Summer Olympics, metropolitan government officials said there were a record 4,058 new cases on July 31.\n",
    "The daily average for the week ending July 31 for Tokyo was 2,920, a staggering 117 percent increase over the previous week.\n",
    "Among the new patients, 1,484 were in their 20s, followed by 887 in their 30s, 583 in their 40s and 398 in their 50s. Officials said 106 patients were aged at 65 or older.\n",
    "Ninety-five patients had symptoms serious enough to require the use of a ventilator or other equipment to breathe, up seven from the previous day.\n",
    "Organizers of the Tokyo Olympics reported 21 new COVID-19 cases among people connected to the Games on July 31.\n",
    "Fourteen of them worked as contractors, five of whom are from overseas. Seven of them were Olympic-related officials. Sixteen of the 21 patients live in Japan. That brings the number of Olympic-related people who have tested positive to the virus since July 1 to 241.\n",
    "In Okinawa, the nation's southernmost prefecture, local government officials confirmed a record 439 new COVID-19 cases on July 31.\n",
    "It was the first time for the daily tally there to exceed 400.'''"
   ]
  },
  {
   "cell_type": "code",
   "execution_count": 349,
   "id": "authentic-craps",
   "metadata": {},
   "outputs": [
    {
     "ename": "ValueError",
     "evalue": "max_df corresponds to < documents than min_df",
     "output_type": "error",
     "traceback": [
      "\u001b[1;31m---------------------------------------------------------------------------\u001b[0m",
      "\u001b[1;31mValueError\u001b[0m                                Traceback (most recent call last)",
      "\u001b[1;32m<ipython-input-349-e88e385e86e9>\u001b[0m in \u001b[0;36m<module>\u001b[1;34m\u001b[0m\n\u001b[1;32m----> 1\u001b[1;33m \u001b[0mX\u001b[0m \u001b[1;33m=\u001b[0m \u001b[0mCountVec\u001b[0m\u001b[1;33m.\u001b[0m\u001b[0mfit_transform\u001b[0m\u001b[1;33m(\u001b[0m\u001b[1;33m[\u001b[0m\u001b[0marticle\u001b[0m\u001b[1;33m]\u001b[0m\u001b[1;33m)\u001b[0m\u001b[1;33m\u001b[0m\u001b[1;33m\u001b[0m\u001b[0m\n\u001b[0m\u001b[0;32m      2\u001b[0m \u001b[1;33m\u001b[0m\u001b[0m\n\u001b[0;32m      3\u001b[0m \u001b[1;31m#create dataframe\u001b[0m\u001b[1;33m\u001b[0m\u001b[1;33m\u001b[0m\u001b[1;33m\u001b[0m\u001b[0m\n\u001b[0;32m      4\u001b[0m \u001b[0mX_df\u001b[0m\u001b[1;33m=\u001b[0m\u001b[0mpd\u001b[0m\u001b[1;33m.\u001b[0m\u001b[0mDataFrame\u001b[0m\u001b[1;33m(\u001b[0m\u001b[0mX\u001b[0m\u001b[1;33m.\u001b[0m\u001b[0mtoarray\u001b[0m\u001b[1;33m(\u001b[0m\u001b[1;33m)\u001b[0m\u001b[1;33m,\u001b[0m\u001b[0mcolumns\u001b[0m\u001b[1;33m=\u001b[0m\u001b[0mCountVec\u001b[0m\u001b[1;33m.\u001b[0m\u001b[0mget_feature_names\u001b[0m\u001b[1;33m(\u001b[0m\u001b[1;33m)\u001b[0m\u001b[1;33m)\u001b[0m\u001b[1;33m\u001b[0m\u001b[1;33m\u001b[0m\u001b[0m\n",
      "\u001b[1;32m~\\.conda\\envs\\tf\\lib\\site-packages\\sklearn\\feature_extraction\\text.py\u001b[0m in \u001b[0;36mfit_transform\u001b[1;34m(self, raw_documents, y)\u001b[0m\n\u001b[0;32m   1211\u001b[0m                              else min_df * n_doc)\n\u001b[0;32m   1212\u001b[0m             \u001b[1;32mif\u001b[0m \u001b[0mmax_doc_count\u001b[0m \u001b[1;33m<\u001b[0m \u001b[0mmin_doc_count\u001b[0m\u001b[1;33m:\u001b[0m\u001b[1;33m\u001b[0m\u001b[1;33m\u001b[0m\u001b[0m\n\u001b[1;32m-> 1213\u001b[1;33m                 raise ValueError(\n\u001b[0m\u001b[0;32m   1214\u001b[0m                     \"max_df corresponds to < documents than min_df\")\n\u001b[0;32m   1215\u001b[0m             \u001b[1;32mif\u001b[0m \u001b[0mmax_features\u001b[0m \u001b[1;32mis\u001b[0m \u001b[1;32mnot\u001b[0m \u001b[1;32mNone\u001b[0m\u001b[1;33m:\u001b[0m\u001b[1;33m\u001b[0m\u001b[1;33m\u001b[0m\u001b[0m\n",
      "\u001b[1;31mValueError\u001b[0m: max_df corresponds to < documents than min_df"
     ]
    }
   ],
   "source": [
    "X = CountVec.fit_transform([article])\n",
    "\n",
    "#create dataframe\n",
    "X_df=pd.DataFrame(X.toarray(),columns=CountVec.get_feature_names())"
   ]
  },
  {
   "cell_type": "code",
   "execution_count": null,
   "id": "drawn-connection",
   "metadata": {},
   "outputs": [],
   "source": []
  }
 ],
 "metadata": {
  "kernelspec": {
   "display_name": "Python 3",
   "language": "python",
   "name": "python3"
  },
  "language_info": {
   "codemirror_mode": {
    "name": "ipython",
    "version": 3
   },
   "file_extension": ".py",
   "mimetype": "text/x-python",
   "name": "python",
   "nbconvert_exporter": "python",
   "pygments_lexer": "ipython3",
   "version": "3.8.5"
  }
 },
 "nbformat": 4,
 "nbformat_minor": 5
}
