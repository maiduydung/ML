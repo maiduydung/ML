{
 "cells": [
  {
   "cell_type": "markdown",
   "metadata": {},
   "source": [
    "### DM-03 Practice 1  "
   ]
  },
  {
   "cell_type": "code",
   "execution_count": 2,
   "metadata": {},
   "outputs": [],
   "source": [
    "import numpy as np\n",
    "import pandas as pd\n",
    "import scipy.stats as ss"
   ]
  },
  {
   "cell_type": "markdown",
   "metadata": {},
   "source": [
    "#### 1"
   ]
  },
  {
   "cell_type": "code",
   "execution_count": 7,
   "metadata": {},
   "outputs": [
    {
     "name": "stdout",
     "output_type": "stream",
     "text": [
      "<class 'pandas.core.frame.DataFrame'>\n",
      "RangeIndex: 200 entries, 0 to 199\n",
      "Data columns (total 5 columns):\n",
      " #   Column  Non-Null Count  Dtype \n",
      "---  ------  --------------  ----- \n",
      " 0   ShopID  200 non-null    int64 \n",
      " 1   Pref    200 non-null    object\n",
      " 2   Type    200 non-null    object\n",
      " 3   Sales1  200 non-null    int64 \n",
      " 4   Sales2  200 non-null    int64 \n",
      "dtypes: int64(3), object(2)\n",
      "memory usage: 7.9+ KB\n",
      "None\n",
      "(200, 5)\n"
     ]
    },
    {
     "data": {
      "text/html": [
       "<div>\n",
       "<style scoped>\n",
       "    .dataframe tbody tr th:only-of-type {\n",
       "        vertical-align: middle;\n",
       "    }\n",
       "\n",
       "    .dataframe tbody tr th {\n",
       "        vertical-align: top;\n",
       "    }\n",
       "\n",
       "    .dataframe thead th {\n",
       "        text-align: right;\n",
       "    }\n",
       "</style>\n",
       "<table border=\"1\" class=\"dataframe\">\n",
       "  <thead>\n",
       "    <tr style=\"text-align: right;\">\n",
       "      <th></th>\n",
       "      <th>ShopID</th>\n",
       "      <th>Pref</th>\n",
       "      <th>Type</th>\n",
       "      <th>Sales1</th>\n",
       "      <th>Sales2</th>\n",
       "    </tr>\n",
       "  </thead>\n",
       "  <tbody>\n",
       "    <tr>\n",
       "      <th>0</th>\n",
       "      <td>101</td>\n",
       "      <td>Saitama</td>\n",
       "      <td>franchise</td>\n",
       "      <td>108</td>\n",
       "      <td>110</td>\n",
       "    </tr>\n",
       "    <tr>\n",
       "      <th>1</th>\n",
       "      <td>102</td>\n",
       "      <td>Saitama</td>\n",
       "      <td>direct</td>\n",
       "      <td>94</td>\n",
       "      <td>108</td>\n",
       "    </tr>\n",
       "    <tr>\n",
       "      <th>2</th>\n",
       "      <td>103</td>\n",
       "      <td>Tokyo</td>\n",
       "      <td>direct</td>\n",
       "      <td>103</td>\n",
       "      <td>89</td>\n",
       "    </tr>\n",
       "    <tr>\n",
       "      <th>3</th>\n",
       "      <td>104</td>\n",
       "      <td>Saitama</td>\n",
       "      <td>franchise</td>\n",
       "      <td>99</td>\n",
       "      <td>122</td>\n",
       "    </tr>\n",
       "    <tr>\n",
       "      <th>4</th>\n",
       "      <td>105</td>\n",
       "      <td>Kanagawa</td>\n",
       "      <td>franchise</td>\n",
       "      <td>113</td>\n",
       "      <td>109</td>\n",
       "    </tr>\n",
       "  </tbody>\n",
       "</table>\n",
       "</div>"
      ],
      "text/plain": [
       "   ShopID      Pref       Type  Sales1  Sales2\n",
       "0     101   Saitama  franchise     108     110\n",
       "1     102   Saitama     direct      94     108\n",
       "2     103     Tokyo     direct     103      89\n",
       "3     104   Saitama  franchise      99     122\n",
       "4     105  Kanagawa  franchise     113     109"
      ]
     },
     "execution_count": 7,
     "metadata": {},
     "output_type": "execute_result"
    }
   ],
   "source": [
    "df1 = pd.read_csv('shop_sales.csv')\n",
    "print(df1.info())\n",
    "print(df1.shape)\n",
    "df1.head()"
   ]
  },
  {
   "cell_type": "code",
   "execution_count": 23,
   "metadata": {},
   "outputs": [
    {
     "name": "stdout",
     "output_type": "stream",
     "text": [
      "Sales 1 mean 99.35\n",
      "Sales 2 mean 110.315\n",
      "-8.846777985130515 2.5013356618499074e-17\n"
     ]
    }
   ],
   "source": [
    "df1_Sales1 = df1['Sales1']\n",
    "df1_Sales2 = df1['Sales2']\n",
    "print(\"Sales 1 mean\", df1_Sales1.mean())\n",
    "print(\"Sales 2 mean\", df1_Sales2.mean())\n",
    "t, p = ss.ttest_ind(df1_Sales1, df1_Sales2, equal_var=False)\n",
    "print(t, p/2)"
   ]
  },
  {
   "cell_type": "markdown",
   "metadata": {},
   "source": [
    "#### 2"
   ]
  },
  {
   "cell_type": "code",
   "execution_count": 40,
   "metadata": {},
   "outputs": [
    {
     "name": "stdout",
     "output_type": "stream",
     "text": [
      "Sales 2 Tokyo mean 111.38461538461539\n",
      "Sales 2 Chiba mean 111.42857142857143\n",
      "-0.014203050540638733 0.49435385569359597\n"
     ]
    }
   ],
   "source": [
    "df1_Sales2_Tokyo = df1[df1['Pref'] == 'Tokyo']['Sales2']\n",
    "df1_Sales2_Chiba = df1[df1['Pref'] == 'Chiba']['Sales2']\n",
    "print(\"Sales 2 Tokyo mean\", df1_Sales2_Tokyo.mean())\n",
    "print(\"Sales 2 Chiba mean\", df1_Sales2_Chiba.mean())\n",
    "t, p = ss.ttest_ind(df1_Sales2_Tokyo, df1_Sales2_Chiba, equal_var=False)\n",
    "print(t, p/2)"
   ]
  },
  {
   "cell_type": "markdown",
   "metadata": {},
   "source": [
    "#### 3"
   ]
  },
  {
   "cell_type": "code",
   "execution_count": 41,
   "metadata": {},
   "outputs": [
    {
     "data": {
      "text/html": [
       "<div>\n",
       "<style scoped>\n",
       "    .dataframe tbody tr th:only-of-type {\n",
       "        vertical-align: middle;\n",
       "    }\n",
       "\n",
       "    .dataframe tbody tr th {\n",
       "        vertical-align: top;\n",
       "    }\n",
       "\n",
       "    .dataframe thead th {\n",
       "        text-align: right;\n",
       "    }\n",
       "</style>\n",
       "<table border=\"1\" class=\"dataframe\">\n",
       "  <thead>\n",
       "    <tr style=\"text-align: right;\">\n",
       "      <th>Type</th>\n",
       "      <th>direct</th>\n",
       "      <th>franchise</th>\n",
       "    </tr>\n",
       "    <tr>\n",
       "      <th>Pref</th>\n",
       "      <th></th>\n",
       "      <th></th>\n",
       "    </tr>\n",
       "  </thead>\n",
       "  <tbody>\n",
       "    <tr>\n",
       "      <th>Chiba</th>\n",
       "      <td>13</td>\n",
       "      <td>15</td>\n",
       "    </tr>\n",
       "    <tr>\n",
       "      <th>Kanagawa</th>\n",
       "      <td>28</td>\n",
       "      <td>30</td>\n",
       "    </tr>\n",
       "    <tr>\n",
       "      <th>Saitama</th>\n",
       "      <td>24</td>\n",
       "      <td>25</td>\n",
       "    </tr>\n",
       "    <tr>\n",
       "      <th>Tokyo</th>\n",
       "      <td>34</td>\n",
       "      <td>31</td>\n",
       "    </tr>\n",
       "  </tbody>\n",
       "</table>\n",
       "</div>"
      ],
      "text/plain": [
       "Type      direct  franchise\n",
       "Pref                       \n",
       "Chiba         13         15\n",
       "Kanagawa      28         30\n",
       "Saitama       24         25\n",
       "Tokyo         34         31"
      ]
     },
     "metadata": {},
     "output_type": "display_data"
    }
   ],
   "source": [
    "cross_tab = pd.crosstab(df1['Pref'], df1['Type'])\n",
    "display(cross_tab)"
   ]
  },
  {
   "cell_type": "code",
   "execution_count": 42,
   "metadata": {},
   "outputs": [
    {
     "name": "stdout",
     "output_type": "stream",
     "text": [
      "0.35072743456882416 0.9502219446727902 3\n",
      "[[13.86  14.14 ]\n",
      " [28.71  29.29 ]\n",
      " [24.255 24.745]\n",
      " [32.175 32.825]]\n"
     ]
    }
   ],
   "source": [
    "chi2, p, dof, expected = ss.chi2_contingency(cross_tab)\n",
    "print(chi2, p, dof)\n",
    "print(expected)"
   ]
  },
  {
   "cell_type": "code",
   "execution_count": null,
   "metadata": {},
   "outputs": [],
   "source": []
  }
 ],
 "metadata": {
  "kernelspec": {
   "display_name": "Python 3",
   "language": "python",
   "name": "python3"
  },
  "language_info": {
   "codemirror_mode": {
    "name": "ipython",
    "version": 3
   },
   "file_extension": ".py",
   "mimetype": "text/x-python",
   "name": "python",
   "nbconvert_exporter": "python",
   "pygments_lexer": "ipython3",
   "version": "3.8.5"
  }
 },
 "nbformat": 4,
 "nbformat_minor": 4
}
