{
 "cells": [
  {
   "cell_type": "code",
   "execution_count": 2,
   "id": "previous-cookbook",
   "metadata": {},
   "outputs": [],
   "source": [
    "# prediction interval for mlps on the housing regression dataset\n",
    "from numpy import asarray\n",
    "from pandas import read_csv\n",
    "from sklearn.model_selection import train_test_split\n",
    "from sklearn.metrics import mean_absolute_error\n",
    "from sklearn.preprocessing import MinMaxScaler\n",
    "from tensorflow.keras.models import Sequential\n",
    "from tensorflow.keras.layers import Dense\n",
    "from tensorflow.keras.optimizers import Adam\n"
   ]
  },
  {
   "cell_type": "code",
   "execution_count": 3,
   "id": "decreased-mistress",
   "metadata": {},
   "outputs": [],
   "source": [
    "# load and prepare the dataset\n",
    "def load_dataset(url):\n",
    "\tdataframe = read_csv(url, header=None)\n",
    "\tvalues = dataframe.values\n",
    "\t# split into input and output values\n",
    "\tX, y = values[:, :-1], values[:,-1]\n",
    "\t# split into train and test sets\n",
    "\tX_train, X_test, y_train, y_test = train_test_split(X, y, train_size=0.67, random_state=1)\n",
    "\t# scale input data\n",
    "\tscaler = MinMaxScaler()\n",
    "\tscaler.fit(X_train)\n",
    "\tX_train = scaler.transform(X_train)\n",
    "\tX_test = scaler.transform(X_test)\n",
    "\treturn X_train, X_test, y_train, y_test\n"
   ]
  },
  {
   "cell_type": "code",
   "execution_count": 4,
   "id": "logical-heart",
   "metadata": {},
   "outputs": [],
   "source": [
    "# define and fit the model\n",
    "def fit_model(X_train, y_train):\n",
    "\t# define neural network model\n",
    "\tfeatures = X_train.shape[1]\n",
    "\tmodel = Sequential()\n",
    "\tmodel.add(Dense(20, kernel_initializer='he_normal', activation='relu', input_dim=features))\n",
    "\tmodel.add(Dense(5, kernel_initializer='he_normal', activation='relu'))\n",
    "\tmodel.add(Dense(1))\n",
    "\t# compile the model and specify loss and optimizer\n",
    "\topt = Adam(learning_rate=0.01, beta_1=0.85, beta_2=0.999)\n",
    "\tmodel.compile(optimizer=opt, loss='mse')\n",
    "\t# fit the model on the training dataset\n",
    "\tmodel.fit(X_train, y_train, verbose=0, epochs=300, batch_size=16)\n",
    "\treturn model\n",
    "\n"
   ]
  },
  {
   "cell_type": "code",
   "execution_count": 5,
   "id": "vocational-validation",
   "metadata": {},
   "outputs": [],
   "source": [
    "# fit an ensemble of models\n",
    "def fit_ensemble(n_members, X_train, X_test, y_train, y_test):\n",
    "    ensemble = list()\n",
    "    for i in range(n_members):\n",
    "        model = fit_model(X_train, y_train)\n",
    "        yhat = model.predict(X_test, verbose=0)\n",
    "        mae = mean_absolute_error(y_test, yhat)\n",
    "        ensemble.append(model)\n",
    "        return ensemble"
   ]
  },
  {
   "cell_type": "code",
   "execution_count": 19,
   "id": "unnecessary-laundry",
   "metadata": {},
   "outputs": [],
   "source": [
    "# make predictions with the ensemble and calculate a prediction interval\n",
    "def predict_with_pi(ensemble, X):\n",
    "    yhat = [model.predict(X, verbose=0) for model in ensemble]\n",
    "    yhat = asarray(yhat)\n",
    "    print(yhat)\n",
    "    \n",
    "    # calculate 95% prediction interval\n",
    "    interval = 1.96 * yhat.std()\n",
    "    lower, upper = yhat.mean() - interval, yhat.mean() + interval\n",
    "    return lower, yhat.mean(), upper\n"
   ]
  },
  {
   "cell_type": "code",
   "execution_count": 20,
   "id": "recreational-yellow",
   "metadata": {},
   "outputs": [
    {
     "name": "stdout",
     "output_type": "stream",
     "text": [
      ">1, MAE: 2.641\n",
      ">2, MAE: 2.443\n",
      ">3, MAE: 2.496\n",
      ">4, MAE: 2.198\n",
      ">5, MAE: 2.370\n",
      ">6, MAE: 2.570\n",
      ">7, MAE: 2.194\n",
      ">8, MAE: 2.319\n",
      ">9, MAE: 2.488\n",
      ">10, MAE: 2.256\n",
      ">11, MAE: 2.294\n",
      ">12, MAE: 2.648\n",
      ">13, MAE: 2.268\n",
      ">14, MAE: 2.556\n",
      ">15, MAE: 2.730\n",
      ">16, MAE: 2.413\n",
      ">17, MAE: 6.622\n",
      ">18, MAE: 2.430\n",
      ">19, MAE: 2.360\n",
      ">20, MAE: 2.441\n",
      ">21, MAE: 2.552\n",
      ">22, MAE: 2.755\n",
      ">23, MAE: 2.314\n",
      ">24, MAE: 2.446\n",
      ">25, MAE: 2.331\n",
      ">26, MAE: 2.273\n",
      ">27, MAE: 2.405\n",
      ">28, MAE: 2.561\n",
      ">29, MAE: 2.532\n",
      ">30, MAE: 2.391\n",
      "[[[31.576057]]\n",
      "\n",
      " [[32.72825 ]]\n",
      "\n",
      " [[29.75198 ]]\n",
      "\n",
      " [[30.956024]]\n",
      "\n",
      " [[30.135996]]\n",
      "\n",
      " [[30.844135]]\n",
      "\n",
      " [[31.268238]]\n",
      "\n",
      " [[29.670761]]\n",
      "\n",
      " [[32.48204 ]]\n",
      "\n",
      " [[30.12108 ]]\n",
      "\n",
      " [[30.158148]]\n",
      "\n",
      " [[33.490852]]\n",
      "\n",
      " [[28.442892]]\n",
      "\n",
      " [[31.485723]]\n",
      "\n",
      " [[31.394283]]\n",
      "\n",
      " [[29.786516]]\n",
      "\n",
      " [[22.26171 ]]\n",
      "\n",
      " [[32.293217]]\n",
      "\n",
      " [[28.65356 ]]\n",
      "\n",
      " [[31.100992]]\n",
      "\n",
      " [[30.947462]]\n",
      "\n",
      " [[31.238157]]\n",
      "\n",
      " [[28.684875]]\n",
      "\n",
      " [[31.570925]]\n",
      "\n",
      " [[31.400743]]\n",
      "\n",
      " [[31.569508]]\n",
      "\n",
      " [[34.306564]]\n",
      "\n",
      " [[29.810005]]\n",
      "\n",
      " [[30.066046]]\n",
      "\n",
      " [[30.164003]]]\n",
      "Point prediction: 30.612\n",
      "95% prediction interval: [26.612, 34.612]\n",
      "True value: 28.200\n"
     ]
    }
   ],
   "source": [
    "# load dataset\n",
    "url = 'https://raw.githubusercontent.com/jbrownlee/Datasets/master/housing.csv'\n",
    "X_train, X_test, y_train, y_test = load_dataset(url)\n",
    "\n",
    "# fit ensemble\n",
    "n_members = 30\n",
    "ensemble = fit_ensemble(n_members, X_train, X_test, y_train, y_test)\n",
    "\n",
    "# make predictions with prediction interval\n",
    "newX = asarray([X_test[0, :]])\n",
    "lower, mean, upper = predict_with_pi(ensemble, newX)\n",
    "\n",
    "print('Point prediction: %.3f' % mean)\n",
    "print('95%% prediction interval: [%.3f, %.3f]' % (lower, upper))\n",
    "print('True value: %.3f' % y_test[0])"
   ]
  },
  {
   "cell_type": "code",
   "execution_count": 21,
   "id": "sexual-christopher",
   "metadata": {},
   "outputs": [
    {
     "data": {
      "text/plain": [
       "30.612026"
      ]
     },
     "execution_count": 21,
     "metadata": {},
     "output_type": "execute_result"
    }
   ],
   "source": [
    "mean"
   ]
  },
  {
   "cell_type": "code",
   "execution_count": null,
   "id": "difficult-graphic",
   "metadata": {},
   "outputs": [],
   "source": []
  }
 ],
 "metadata": {
  "kernelspec": {
   "display_name": "Python 3",
   "language": "python",
   "name": "python3"
  },
  "language_info": {
   "codemirror_mode": {
    "name": "ipython",
    "version": 3
   },
   "file_extension": ".py",
   "mimetype": "text/x-python",
   "name": "python",
   "nbconvert_exporter": "python",
   "pygments_lexer": "ipython3",
   "version": "3.8.5"
  }
 },
 "nbformat": 4,
 "nbformat_minor": 5
}
