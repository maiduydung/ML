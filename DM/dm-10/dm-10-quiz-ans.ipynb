{
 "cells": [
  {
   "cell_type": "markdown",
   "metadata": {},
   "source": [
    "### DM-10 Quiz  "
   ]
  },
  {
   "cell_type": "markdown",
   "metadata": {},
   "source": [
    "**Ans. get_recomm_by_user_sim**  "
   ]
  },
  {
   "cell_type": "code",
   "execution_count": 1,
   "metadata": {},
   "outputs": [
    {
     "name": "stdout",
     "output_type": "stream",
     "text": [
      "hamachi    3\n",
      "maguro     2\n",
      "awabi      1\n",
      "uni        1\n",
      "ikura      0\n",
      "dtype: int64\n"
     ]
    }
   ],
   "source": [
    "import pandas as pd\n",
    "from numpy.random import randint\n",
    "\n",
    "items = ['awabi', 'ikura', 'uni', 'maguro', 'hamachi']\n",
    "\n",
    "ret = {}\n",
    "for item1 in items:\n",
    "    score1 = randint(0, 5)\n",
    "    ret[item1] = score1\n",
    "\n",
    "ser_ret = pd.Series(ret)\n",
    "print(ser_ret.sort_values(ascending=False))"
   ]
  },
  {
   "cell_type": "code",
   "execution_count": null,
   "metadata": {},
   "outputs": [],
   "source": []
  }
 ],
 "metadata": {
  "kernelspec": {
   "display_name": "Python 3",
   "language": "python",
   "name": "python3"
  },
  "language_info": {
   "codemirror_mode": {
    "name": "ipython",
    "version": 3
   },
   "file_extension": ".py",
   "mimetype": "text/x-python",
   "name": "python",
   "nbconvert_exporter": "python",
   "pygments_lexer": "ipython3",
   "version": "3.8.8"
  }
 },
 "nbformat": 4,
 "nbformat_minor": 4
}
